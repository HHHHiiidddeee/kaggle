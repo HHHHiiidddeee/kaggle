{
 "cells": [
  {
   "cell_type": "code",
   "execution_count": 1,
   "id": "0836bde9",
   "metadata": {
    "execution": {
     "iopub.execute_input": "2025-08-05T23:23:13.057913Z",
     "iopub.status.busy": "2025-08-05T23:23:13.057496Z",
     "iopub.status.idle": "2025-08-05T23:23:34.017847Z",
     "shell.execute_reply": "2025-08-05T23:23:34.016686Z"
    },
    "papermill": {
     "duration": 20.967577,
     "end_time": "2025-08-05T23:23:34.019439",
     "exception": false,
     "start_time": "2025-08-05T23:23:13.051862",
     "status": "completed"
    },
    "tags": []
   },
   "outputs": [
    {
     "name": "stderr",
     "output_type": "stream",
     "text": [
      "2025-08-05 23:23:15.180370: E external/local_xla/xla/stream_executor/cuda/cuda_fft.cc:477] Unable to register cuFFT factory: Attempting to register factory for plugin cuFFT when one has already been registered\n",
      "WARNING: All log messages before absl::InitializeLog() is called are written to STDERR\n",
      "E0000 00:00:1754436195.522241      14 cuda_dnn.cc:8310] Unable to register cuDNN factory: Attempting to register factory for plugin cuDNN when one has already been registered\n",
      "E0000 00:00:1754436195.648509      14 cuda_blas.cc:1418] Unable to register cuBLAS factory: Attempting to register factory for plugin cuBLAS when one has already been registered\n",
      "2025-08-05 23:23:33.857672: E external/local_xla/xla/stream_executor/cuda/cuda_driver.cc:152] failed call to cuInit: INTERNAL: CUDA error: Failed call to cuInit: UNKNOWN ERROR (303)\n"
     ]
    }
   ],
   "source": [
    "import tensorflow as tf\n",
    "from tensorflow.keras import Model\n",
    "import numpy as np\n",
    "import pandas as pd\n",
    "import warnings\n",
    "warnings.filterwarnings(\"ignore\")\n",
    "\n",
    "tf.random.set_seed(42)\n",
    "type_train_ds = tf.data.experimental.load(\"/kaggle/input/cmi-tf-datasets/type_train_ds\")\n",
    "type_valid_ds = tf.data.experimental.load(\"/kaggle/input/cmi-tf-datasets/type_valid_ds\")\n",
    "gesture_train_ds = tf.data.experimental.load(\"/kaggle/input/cmi-tf-datasets/gesture_train_ds\")\n",
    "gesture_valid_ds = tf.data.experimental.load(\"/kaggle/input/cmi-tf-datasets/gesture_valid_ds\")\n",
    "# test_ds = tf.data.experimental.load(\"/kaggle/input/cmi-tf-datasets/test_ds\")"
   ]
  },
  {
   "cell_type": "code",
   "execution_count": 2,
   "id": "ee4b6245",
   "metadata": {
    "execution": {
     "iopub.execute_input": "2025-08-05T23:23:34.028747Z",
     "iopub.status.busy": "2025-08-05T23:23:34.028208Z",
     "iopub.status.idle": "2025-08-05T23:23:34.032723Z",
     "shell.execute_reply": "2025-08-05T23:23:34.031706Z"
    },
    "papermill": {
     "duration": 0.010637,
     "end_time": "2025-08-05T23:23:34.034238",
     "exception": false,
     "start_time": "2025-08-05T23:23:34.023601",
     "status": "completed"
    },
    "tags": []
   },
   "outputs": [],
   "source": [
    "# print(\"Num GPUs Available: \", len(tf.config.list_physical_devices('GPU')))"
   ]
  },
  {
   "cell_type": "code",
   "execution_count": 3,
   "id": "77d9f78b",
   "metadata": {
    "execution": {
     "iopub.execute_input": "2025-08-05T23:23:34.043010Z",
     "iopub.status.busy": "2025-08-05T23:23:34.042629Z",
     "iopub.status.idle": "2025-08-05T23:23:34.049503Z",
     "shell.execute_reply": "2025-08-05T23:23:34.048676Z"
    },
    "papermill": {
     "duration": 0.012885,
     "end_time": "2025-08-05T23:23:34.050859",
     "exception": false,
     "start_time": "2025-08-05T23:23:34.037974",
     "status": "completed"
    },
    "tags": []
   },
   "outputs": [
    {
     "name": "stdout",
     "output_type": "stream",
     "text": [
      "101\n",
      "18\n",
      "101\n",
      "18\n"
     ]
    }
   ],
   "source": [
    "print(len(type_train_ds))\n",
    "print(len(type_valid_ds))\n",
    "print(len(gesture_train_ds))\n",
    "print(len(gesture_valid_ds))\n",
    "\n",
    "# print(len(test_ds))"
   ]
  },
  {
   "cell_type": "code",
   "execution_count": 4,
   "id": "2fa78a6e",
   "metadata": {
    "execution": {
     "iopub.execute_input": "2025-08-05T23:23:34.059443Z",
     "iopub.status.busy": "2025-08-05T23:23:34.059079Z",
     "iopub.status.idle": "2025-08-05T23:23:34.557383Z",
     "shell.execute_reply": "2025-08-05T23:23:34.556288Z"
    },
    "papermill": {
     "duration": 0.50458,
     "end_time": "2025-08-05T23:23:34.559200",
     "exception": false,
     "start_time": "2025-08-05T23:23:34.054620",
     "status": "completed"
    },
    "tags": []
   },
   "outputs": [
    {
     "name": "stdout",
     "output_type": "stream",
     "text": [
      "(64, 130, 8, 8, 5)\n",
      "(64, 130, 19)\n",
      "(64, 14)\n",
      "(64, 1)\n"
     ]
    }
   ],
   "source": [
    "for i, (inputs, targets) in enumerate(type_train_ds):\n",
    "    if i==0:\n",
    "        print(inputs[0].shape)\n",
    "        print(inputs[1].shape)\n",
    "        print(inputs[2].shape)\n",
    "        print(targets.shape)\n",
    "        break"
   ]
  },
  {
   "cell_type": "code",
   "execution_count": 5,
   "id": "38adfff6",
   "metadata": {
    "execution": {
     "iopub.execute_input": "2025-08-05T23:23:34.568609Z",
     "iopub.status.busy": "2025-08-05T23:23:34.568326Z",
     "iopub.status.idle": "2025-08-05T23:23:34.596245Z",
     "shell.execute_reply": "2025-08-05T23:23:34.594979Z"
    },
    "papermill": {
     "duration": 0.034611,
     "end_time": "2025-08-05T23:23:34.597800",
     "exception": false,
     "start_time": "2025-08-05T23:23:34.563189",
     "status": "completed"
    },
    "tags": []
   },
   "outputs": [],
   "source": [
    "from tensorflow.keras.layers import Conv2D, Conv1D, BatchNormalization, TimeDistributed\n",
    "from tensorflow.keras.layers import MaxPool2D, GlobalMaxPool2D, AveragePooling1D, Dropout\n",
    "from tensorflow.keras.layers import SimpleRNN, LSTM, GRU, Bidirectional, Flatten, Dense\n",
    "from tensorflow.keras.layers import ReLU, ELU, Masking\n",
    "from tensorflow.keras.regularizers import L1, L2, L1L2\n",
    "from tensorflow.keras import Sequential\n",
    "\n",
    "class RNNModel(Model):\n",
    "    def __init__(self, kernel_size2d=3, kernel_size1d=3, filters_2d=[16, 32], dropout=0.2, \n",
    "                 filters_1d=[16, 32], num_rnn_layers=1, rnn_hidden_size=32, mode=\"RNN\", \n",
    "                 bidirectional=False, hidden_size=64, regularizer=\"l1\", l1_penalty=0.1, l2_penalty=0.1, \n",
    "                 binary=True, **kwargs):\n",
    "        super().__init__(**kwargs)\n",
    "        self.hidden_size = hidden_size\n",
    "        self.bidirectional = bidirectional\n",
    "        \n",
    "        self.conv2d_nets = []\n",
    "        for i in range(len(filters_2d)):\n",
    "            conv2d_net = Sequential([\n",
    "                TimeDistributed(Conv2D(filters_2d[i], kernel_size2d, padding=\"same\")),\n",
    "                TimeDistributed(BatchNormalization()),\n",
    "                TimeDistributed(ReLU()),\n",
    "                TimeDistributed(MaxPool2D(pool_size=2, strides=2, padding=\"same\")),\n",
    "                TimeDistributed(Dropout(dropout))\n",
    "            ], name=f\"conv2d_net_{i}\")\n",
    "            self.conv2d_nets.append(conv2d_net)\n",
    "        self.global_maxpool = TimeDistributed(GlobalMaxPool2D(), name=\"global_maxpool2d\")\n",
    "\n",
    "        self.masking = Masking(mask_value=0.0)\n",
    "        self.conv1d_nets = []\n",
    "        for i in range(len(filters_1d)):\n",
    "            conv1d_net = Sequential([\n",
    "                Conv1D(filters_1d[i], kernel_size1d, padding=\"same\", kernel_initializer=\"he_normal\", use_bias=False),\n",
    "                BatchNormalization(),\n",
    "                ELU(),\n",
    "                AveragePooling1D(pool_size=2, strides=2, padding=\"same\"),\n",
    "                Dropout(dropout)\n",
    "            ], name=f\"conv1d_net_{i}\")\n",
    "            self.conv1d_nets.append(conv1d_net)\n",
    "\n",
    "        self.rnns = []\n",
    "        self.skip_dense = Dense(rnn_hidden_size*2, name=\"skip_connection_dense_bidirectional\")\n",
    "        for i in range(num_rnn_layers):\n",
    "            return_sequences = True if i!=num_rnn_layers-1 else False\n",
    "            if mode == \"RNN\":\n",
    "                rnn = SimpleRNN(rnn_hidden_size, kernel_initializer=\"glorot_normal\", recurrent_initializer=\"orthogonal\", \n",
    "                                dropout=dropout, recurrent_dropout=dropout, return_sequences=return_sequences)\n",
    "            elif mode == \"LSTM\":\n",
    "                rnn = LSTM(rnn_hidden_size, kernel_initializer=\"glorot_normal\", recurrent_initializer=\"orthogonal\", \n",
    "                           dropout=dropout, recurrent_dropout=dropout, return_sequences=return_sequences)\n",
    "            else:\n",
    "                rnn = GRU(rnn_hidden_size, kernel_initializer=\"glorot_normal\", recurrent_initializer=\"orthogonal\", \n",
    "                          dropout=dropout, recurrent_dropout=dropout, return_sequences=return_sequences)\n",
    "            if bidirectional:\n",
    "                rnn = Bidirectional(rnn, name=f\"{mode}_{i}\")\n",
    "            self.rnns.append(rnn)\n",
    "        \n",
    "        # self.dense_flat = Sequential([\n",
    "        #     Dense(1, activation=\"relu\"),\n",
    "        #     Flatten()\n",
    "        # ], name=\"dense_and_flatten\")\n",
    "\n",
    "        if regularizer == \"l1\":\n",
    "            self.dense0 = Dense(hidden_size, activation=\"relu\", \n",
    "                                kernel_regularizer=L1(l1_penalty),\n",
    "                                bias_regularizer=L1(l1_penalty))\n",
    "            self.dense1_0 = Dense(1, activation=\"sigmoid\",\n",
    "                                  kernel_regularizer=L1(l1_penalty),\n",
    "                                  bias_regularizer=L1(l1_penalty))\n",
    "            self.dense1_1 = Dense(18, activation=\"softmax\", kernel_initializer=\"glorot_normal\",\n",
    "                                  kernel_regularizer=L1(l1_penalty),\n",
    "                                  bias_regularizer=L1(l1_penalty))\n",
    "        elif regularizer == \"l2\":\n",
    "            self.dense0 = Dense(hidden_size, activation=\"relu\", \n",
    "                                kernel_regularizer=L2(l2_penalty),\n",
    "                                bias_regularizer=L2(l2_penalty))\n",
    "            self.dense1_0 = Dense(1, activation=\"sigmoid\", \n",
    "                                  kernel_regularizer=L2(l2_penalty),\n",
    "                                  bias_regularizer=L2(l2_penalty))\n",
    "            self.dense1_1 = Dense(18, activation=\"softmax\", kernel_initializer=\"glorot_normal\",\n",
    "                                  kernel_regularizer=L2(l2_penalty),\n",
    "                                  bias_regularizer=L2(l2_penalty))\n",
    "        elif regularizer == \"l1l2\":\n",
    "            self.dense0 = Dense(hidden_size, activation=\"relu\", \n",
    "                                kernel_regularizer=L1L2(l1_penalty, l2_penalty),\n",
    "                                bias_regularizer=L1L2(l1_penalty, l2_penalty))\n",
    "            self.dense1_0 = Dense(1, activation=\"sigmoid\", \n",
    "                                  kernel_regularizer=L1L2(l1_penalty, l2_penalty),\n",
    "                                  bias_regularizer=L1L2(l1_penalty, l2_penalty))\n",
    "            self.dense1_1 = Dense(18, activation=\"softmax\", kernel_initializer=\"glorot_normal\",\n",
    "                                  kernel_regularizer=L1L2(l1_penalty, l2_penalty),\n",
    "                                  bias_regularizer=L1L2(l1_penalty, l2_penalty))\n",
    "        else:\n",
    "            self.dense0 = Dense(hidden_size, activation=\"relu\")\n",
    "            self.dense1_0 = Dense(1, activation=\"sigmoid\")\n",
    "            self.dense1_1 = Dense(18, activation=\"softmax\")\n",
    "\n",
    "        self.binary = binary\n",
    "\n",
    "    def build(self, input_shapes, training=False):\n",
    "        image_shape = input_shapes[0]\n",
    "        for i in range(len(self.conv2d_nets)):\n",
    "            self.conv2d_nets[i].build(image_shape)\n",
    "            image_shape = self.conv2d_nets[i].compute_output_shape(image_shape)\n",
    "        self.global_maxpool.build(image_shape)\n",
    "        image_shape = self.global_maxpool.compute_output_shape(image_shape)\n",
    "\n",
    "        time_series_shape = input_shapes[1]\n",
    "        shape = (image_shape[0], image_shape[1], image_shape[2] + time_series_shape[2])\n",
    "        self.masking.build(shape)\n",
    "        shape = self.masking.compute_output_shape(shape)\n",
    "        for i in range(len(self.conv1d_nets)):\n",
    "            self.conv1d_nets[i].build(shape)\n",
    "            shape = self.conv1d_nets[i].compute_output_shape(shape)\n",
    "\n",
    "        self.skip_dense.build(shape)\n",
    "        for i in range(len(self.rnns)):\n",
    "            self.rnns[i].build(shape)\n",
    "            shape = self.rnns[i].compute_output_shape(shape)\n",
    "        # self.rnn.build(shape)\n",
    "        # shape = self.rnn.compute_output_shape(shape)\n",
    "        shape = (shape[0], shape[1] + input_shapes[2][1])\n",
    "\n",
    "        self.dense0.build(shape)\n",
    "        shape = self.dense0.compute_output_shape(shape)\n",
    "\n",
    "        self.dense1_0.build(shape)\n",
    "        self.dense1_1.build(shape)\n",
    "        \n",
    "\n",
    "    def call(self, inputs, training=False):\n",
    "        image_out = inputs[0]\n",
    "        for i in range(len(self.conv2d_nets)):\n",
    "            image_out = self.conv2d_nets[i](image_out, training=training)\n",
    "        image_out = self.global_maxpool(image_out)   # (batch, filters)\n",
    "\n",
    "        out = tf.concat([image_out, inputs[1]], axis=-1)\n",
    "        for i in range(len(self.conv1d_nets)):\n",
    "            out = self.conv1d_nets[i](out, training=training)\n",
    "\n",
    "        out = self.masking(out)\n",
    "        for i in range(len(self.rnns)):\n",
    "            rnn_out = self.rnns[i](out, training=training)\n",
    "            if i==0 and len(self.rnns)!=1:\n",
    "                out = self.skip_dense(out) if self.bidirectional else out\n",
    "                out = rnn_out + out\n",
    "            elif i < len(self.rnns)-1:\n",
    "                out = rnn_out + out\n",
    "            else:\n",
    "                out = rnn_out\n",
    "        # out = self.rnn(out, training=training)        # (batch, downsampled_timestep, rnn_hidden_size)\n",
    "        out = tf.concat([out, inputs[2]], axis=-1)\n",
    "        out = self.dense0(out)\n",
    "        if self.binary:\n",
    "            out = self.dense1_0(out)\n",
    "        else:\n",
    "            out = self.dense1_1(out)\n",
    "        return out\n",
    "\n",
    "    def set_binary(self):\n",
    "        self.binary = True\n",
    "        if self.dense1_0.build == False:\n",
    "            self.dense1_0.build(input_shape=(None, self.hidden_size))\n",
    "\n",
    "    def set_multi(self):\n",
    "        self.binary = False\n",
    "        if self.dense1_1.build == False:\n",
    "            self.dense1_1.build(input_shape=(None, self.hidden_size))\n",
    "\n",
    "    def freeze_conv_timeseries(self):\n",
    "        for i in range(len(self.conv2d_nets)):\n",
    "            self.conv3d_nets[i].trainable = False\n",
    "        for i in range(len(self.conv1d_nets)):\n",
    "            self.conv1d_nets[i].trainable = False\n",
    "        self.rnn.trainable = False"
   ]
  },
  {
   "cell_type": "code",
   "execution_count": 6,
   "id": "d0d712c6",
   "metadata": {
    "execution": {
     "iopub.execute_input": "2025-08-05T23:23:34.606525Z",
     "iopub.status.busy": "2025-08-05T23:23:34.606234Z",
     "iopub.status.idle": "2025-08-05T23:23:34.749791Z",
     "shell.execute_reply": "2025-08-05T23:23:34.748850Z"
    },
    "papermill": {
     "duration": 0.149571,
     "end_time": "2025-08-05T23:23:34.751383",
     "exception": false,
     "start_time": "2025-08-05T23:23:34.601812",
     "status": "completed"
    },
    "tags": []
   },
   "outputs": [
    {
     "name": "stdout",
     "output_type": "stream",
     "text": [
      "(64, 130, 8, 8, 5)\n",
      "(64, 130, 19)\n",
      "(64, 14)\n"
     ]
    }
   ],
   "source": [
    "for i, (inputs, targets) in enumerate(type_train_ds):\n",
    "    if i == 0:\n",
    "        print(inputs[0].shape)\n",
    "        print(inputs[1].shape)\n",
    "        print(inputs[2].shape)\n",
    "        break"
   ]
  },
  {
   "cell_type": "code",
   "execution_count": 7,
   "id": "38dfeb6b",
   "metadata": {
    "execution": {
     "iopub.execute_input": "2025-08-05T23:23:34.760575Z",
     "iopub.status.busy": "2025-08-05T23:23:34.759796Z",
     "iopub.status.idle": "2025-08-05T23:23:34.771645Z",
     "shell.execute_reply": "2025-08-05T23:23:34.770808Z"
    },
    "papermill": {
     "duration": 0.018315,
     "end_time": "2025-08-05T23:23:34.773533",
     "exception": false,
     "start_time": "2025-08-05T23:23:34.755218",
     "status": "completed"
    },
    "tags": []
   },
   "outputs": [],
   "source": [
    "import json\n",
    "\n",
    "with open('/kaggle/input/cmi-tf-datasets/sample_weight.json') as f:\n",
    "    sample_weight_dict = json.load(f)\n",
    "\n",
    "type_sample_weight = sample_weight_dict[\"type_sample_weight\"]\n",
    "type_class_weight = {0: type_sample_weight[0], 1: type_sample_weight[1]}\n",
    "\n",
    "gesture_sample_weight = sample_weight_dict[\"gesture_sample_weight\"]\n",
    "gesture_class_weight = {i: gesture_sample_weight[i] for i in range(len(gesture_sample_weight))}"
   ]
  },
  {
   "cell_type": "code",
   "execution_count": 8,
   "id": "41867ba1",
   "metadata": {
    "execution": {
     "iopub.execute_input": "2025-08-05T23:23:34.782348Z",
     "iopub.status.busy": "2025-08-05T23:23:34.782057Z",
     "iopub.status.idle": "2025-08-05T23:23:34.787165Z",
     "shell.execute_reply": "2025-08-05T23:23:34.786276Z"
    },
    "papermill": {
     "duration": 0.011311,
     "end_time": "2025-08-05T23:23:34.788723",
     "exception": false,
     "start_time": "2025-08-05T23:23:34.777412",
     "status": "completed"
    },
    "tags": []
   },
   "outputs": [],
   "source": [
    "def add_type_sample_weight(x, y):\n",
    "    y_int = tf.cast(y, tf.int32)\n",
    "    weight = tf.gather([type_class_weight[0], type_class_weight[1]], y_int)\n",
    "    return x, y, weight\n",
    "\n",
    "def add_gesture_sample_weight(x, y):\n",
    "    y_arg = tf.argmax(y)\n",
    "    weight = tf.gather(gesture_sample_weight, y_arg)\n",
    "    return x, y, weight"
   ]
  },
  {
   "cell_type": "code",
   "execution_count": 9,
   "id": "aeb8c1fe",
   "metadata": {
    "execution": {
     "iopub.execute_input": "2025-08-05T23:23:34.798261Z",
     "iopub.status.busy": "2025-08-05T23:23:34.797949Z",
     "iopub.status.idle": "2025-08-05T23:23:34.902228Z",
     "shell.execute_reply": "2025-08-05T23:23:34.901174Z"
    },
    "papermill": {
     "duration": 0.1105,
     "end_time": "2025-08-05T23:23:34.903906",
     "exception": false,
     "start_time": "2025-08-05T23:23:34.793406",
     "status": "completed"
    },
    "tags": []
   },
   "outputs": [],
   "source": [
    "type_train_ds = type_train_ds.unbatch().map(add_type_sample_weight).batch(16)\n",
    "type_valid_ds = type_valid_ds.unbatch().map(add_type_sample_weight).batch(16)"
   ]
  },
  {
   "cell_type": "code",
   "execution_count": 10,
   "id": "a90ceee0",
   "metadata": {
    "execution": {
     "iopub.execute_input": "2025-08-05T23:23:34.912880Z",
     "iopub.status.busy": "2025-08-05T23:23:34.912551Z",
     "iopub.status.idle": "2025-08-05T23:23:34.916423Z",
     "shell.execute_reply": "2025-08-05T23:23:34.915530Z"
    },
    "papermill": {
     "duration": 0.009854,
     "end_time": "2025-08-05T23:23:34.917687",
     "exception": false,
     "start_time": "2025-08-05T23:23:34.907833",
     "status": "completed"
    },
    "tags": []
   },
   "outputs": [],
   "source": [
    "# gesture_train_ds = gesture_train_ds.unbatch().map(add_gesture_sample_weight).batch(16)\n",
    "# gesture_valid_ds = gesture_valid_ds.unbatch().map(add_gesture_sample_weight).batch(16)"
   ]
  },
  {
   "cell_type": "code",
   "execution_count": 11,
   "id": "b88ca021",
   "metadata": {
    "execution": {
     "iopub.execute_input": "2025-08-05T23:23:34.926380Z",
     "iopub.status.busy": "2025-08-05T23:23:34.926008Z",
     "iopub.status.idle": "2025-08-05T23:23:34.931094Z",
     "shell.execute_reply": "2025-08-05T23:23:34.930158Z"
    },
    "papermill": {
     "duration": 0.011018,
     "end_time": "2025-08-05T23:23:34.932531",
     "exception": false,
     "start_time": "2025-08-05T23:23:34.921513",
     "status": "completed"
    },
    "tags": []
   },
   "outputs": [],
   "source": [
    "def scheduler(epoch):\n",
    "    lr = 0.001\n",
    "    if epoch < 20:\n",
    "        return lr\n",
    "    elif 20 <= epoch and epoch < 40:\n",
    "        return lr * (1/2)\n",
    "    elif 40 <= epoch and epoch < 60:\n",
    "        return lr * (1/4)\n",
    "    elif 60 <= epoch and epoch < 80:\n",
    "        return lr * (1/8)\n",
    "    else:\n",
    "        return lr * (1/16)"
   ]
  },
  {
   "cell_type": "code",
   "execution_count": 12,
   "id": "5bbc28fc",
   "metadata": {
    "execution": {
     "iopub.execute_input": "2025-08-05T23:23:34.941439Z",
     "iopub.status.busy": "2025-08-05T23:23:34.940981Z",
     "iopub.status.idle": "2025-08-05T23:23:35.309474Z",
     "shell.execute_reply": "2025-08-05T23:23:35.308559Z"
    },
    "papermill": {
     "duration": 0.374543,
     "end_time": "2025-08-05T23:23:35.310914",
     "exception": false,
     "start_time": "2025-08-05T23:23:34.936371",
     "status": "completed"
    },
    "tags": []
   },
   "outputs": [
    {
     "data": {
      "text/html": [
       "<pre style=\"white-space:pre;overflow-x:auto;line-height:normal;font-family:Menlo,'DejaVu Sans Mono',consolas,'Courier New',monospace\"><span style=\"font-weight: bold\">Model: \"rnn_model\"</span>\n",
       "</pre>\n"
      ],
      "text/plain": [
       "\u001b[1mModel: \"rnn_model\"\u001b[0m\n"
      ]
     },
     "metadata": {},
     "output_type": "display_data"
    },
    {
     "data": {
      "text/html": [
       "<pre style=\"white-space:pre;overflow-x:auto;line-height:normal;font-family:Menlo,'DejaVu Sans Mono',consolas,'Courier New',monospace\">┏━━━━━━━━━━━━━━━━━━━━━━━━━━━━━━━━━┳━━━━━━━━━━━━━━━━━━━━━━━━┳━━━━━━━━━━━━━━━┓\n",
       "┃<span style=\"font-weight: bold\"> Layer (type)                    </span>┃<span style=\"font-weight: bold\"> Output Shape           </span>┃<span style=\"font-weight: bold\">       Param # </span>┃\n",
       "┡━━━━━━━━━━━━━━━━━━━━━━━━━━━━━━━━━╇━━━━━━━━━━━━━━━━━━━━━━━━╇━━━━━━━━━━━━━━━┩\n",
       "│ conv2d_net_0 (<span style=\"color: #0087ff; text-decoration-color: #0087ff\">Sequential</span>)       │ (<span style=\"color: #00d7ff; text-decoration-color: #00d7ff\">None</span>, <span style=\"color: #00af00; text-decoration-color: #00af00\">130</span>, <span style=\"color: #00af00; text-decoration-color: #00af00\">4</span>, <span style=\"color: #00af00; text-decoration-color: #00af00\">4</span>, <span style=\"color: #00af00; text-decoration-color: #00af00\">8</span>)   │           <span style=\"color: #00af00; text-decoration-color: #00af00\">400</span> │\n",
       "├─────────────────────────────────┼────────────────────────┼───────────────┤\n",
       "│ conv2d_net_1 (<span style=\"color: #0087ff; text-decoration-color: #0087ff\">Sequential</span>)       │ (<span style=\"color: #00d7ff; text-decoration-color: #00d7ff\">None</span>, <span style=\"color: #00af00; text-decoration-color: #00af00\">130</span>, <span style=\"color: #00af00; text-decoration-color: #00af00\">2</span>, <span style=\"color: #00af00; text-decoration-color: #00af00\">2</span>, <span style=\"color: #00af00; text-decoration-color: #00af00\">16</span>)  │         <span style=\"color: #00af00; text-decoration-color: #00af00\">1,232</span> │\n",
       "├─────────────────────────────────┼────────────────────────┼───────────────┤\n",
       "│ global_maxpool2d                │ (<span style=\"color: #00d7ff; text-decoration-color: #00d7ff\">None</span>, <span style=\"color: #00af00; text-decoration-color: #00af00\">130</span>, <span style=\"color: #00af00; text-decoration-color: #00af00\">16</span>)        │             <span style=\"color: #00af00; text-decoration-color: #00af00\">0</span> │\n",
       "│ (<span style=\"color: #0087ff; text-decoration-color: #0087ff\">TimeDistributed</span>)               │                        │               │\n",
       "├─────────────────────────────────┼────────────────────────┼───────────────┤\n",
       "│ masking (<span style=\"color: #0087ff; text-decoration-color: #0087ff\">Masking</span>)               │ (<span style=\"color: #00d7ff; text-decoration-color: #00d7ff\">None</span>, <span style=\"color: #00af00; text-decoration-color: #00af00\">130</span>, <span style=\"color: #00af00; text-decoration-color: #00af00\">35</span>)        │             <span style=\"color: #00af00; text-decoration-color: #00af00\">0</span> │\n",
       "├─────────────────────────────────┼────────────────────────┼───────────────┤\n",
       "│ conv1d_net_0 (<span style=\"color: #0087ff; text-decoration-color: #0087ff\">Sequential</span>)       │ (<span style=\"color: #00d7ff; text-decoration-color: #00d7ff\">None</span>, <span style=\"color: #00af00; text-decoration-color: #00af00\">65</span>, <span style=\"color: #00af00; text-decoration-color: #00af00\">32</span>)         │         <span style=\"color: #00af00; text-decoration-color: #00af00\">3,488</span> │\n",
       "├─────────────────────────────────┼────────────────────────┼───────────────┤\n",
       "│ conv1d_net_1 (<span style=\"color: #0087ff; text-decoration-color: #0087ff\">Sequential</span>)       │ (<span style=\"color: #00d7ff; text-decoration-color: #00d7ff\">None</span>, <span style=\"color: #00af00; text-decoration-color: #00af00\">33</span>, <span style=\"color: #00af00; text-decoration-color: #00af00\">64</span>)         │         <span style=\"color: #00af00; text-decoration-color: #00af00\">6,400</span> │\n",
       "├─────────────────────────────────┼────────────────────────┼───────────────┤\n",
       "│ skip_connection_dense_bidirect… │ (<span style=\"color: #00d7ff; text-decoration-color: #00d7ff\">None</span>, <span style=\"color: #00af00; text-decoration-color: #00af00\">33</span>, <span style=\"color: #00af00; text-decoration-color: #00af00\">128</span>)        │         <span style=\"color: #00af00; text-decoration-color: #00af00\">8,320</span> │\n",
       "│ (<span style=\"color: #0087ff; text-decoration-color: #0087ff\">Dense</span>)                         │                        │               │\n",
       "├─────────────────────────────────┼────────────────────────┼───────────────┤\n",
       "│ GRU_0 (<span style=\"color: #0087ff; text-decoration-color: #0087ff\">Bidirectional</span>)           │ (<span style=\"color: #00d7ff; text-decoration-color: #00d7ff\">None</span>, <span style=\"color: #00af00; text-decoration-color: #00af00\">33</span>, <span style=\"color: #00af00; text-decoration-color: #00af00\">128</span>)        │        <span style=\"color: #00af00; text-decoration-color: #00af00\">49,920</span> │\n",
       "├─────────────────────────────────┼────────────────────────┼───────────────┤\n",
       "│ GRU_1 (<span style=\"color: #0087ff; text-decoration-color: #0087ff\">Bidirectional</span>)           │ (<span style=\"color: #00d7ff; text-decoration-color: #00d7ff\">None</span>, <span style=\"color: #00af00; text-decoration-color: #00af00\">33</span>, <span style=\"color: #00af00; text-decoration-color: #00af00\">128</span>)        │        <span style=\"color: #00af00; text-decoration-color: #00af00\">74,496</span> │\n",
       "├─────────────────────────────────┼────────────────────────┼───────────────┤\n",
       "│ GRU_2 (<span style=\"color: #0087ff; text-decoration-color: #0087ff\">Bidirectional</span>)           │ (<span style=\"color: #00d7ff; text-decoration-color: #00d7ff\">None</span>, <span style=\"color: #00af00; text-decoration-color: #00af00\">33</span>, <span style=\"color: #00af00; text-decoration-color: #00af00\">128</span>)        │        <span style=\"color: #00af00; text-decoration-color: #00af00\">74,496</span> │\n",
       "├─────────────────────────────────┼────────────────────────┼───────────────┤\n",
       "│ GRU_3 (<span style=\"color: #0087ff; text-decoration-color: #0087ff\">Bidirectional</span>)           │ (<span style=\"color: #00d7ff; text-decoration-color: #00d7ff\">None</span>, <span style=\"color: #00af00; text-decoration-color: #00af00\">128</span>)            │        <span style=\"color: #00af00; text-decoration-color: #00af00\">74,496</span> │\n",
       "├─────────────────────────────────┼────────────────────────┼───────────────┤\n",
       "│ dense (<span style=\"color: #0087ff; text-decoration-color: #0087ff\">Dense</span>)                   │ (<span style=\"color: #00d7ff; text-decoration-color: #00d7ff\">None</span>, <span style=\"color: #00af00; text-decoration-color: #00af00\">256</span>)            │        <span style=\"color: #00af00; text-decoration-color: #00af00\">36,608</span> │\n",
       "├─────────────────────────────────┼────────────────────────┼───────────────┤\n",
       "│ dense_1 (<span style=\"color: #0087ff; text-decoration-color: #0087ff\">Dense</span>)                 │ (<span style=\"color: #00d7ff; text-decoration-color: #00d7ff\">None</span>, <span style=\"color: #00af00; text-decoration-color: #00af00\">1</span>)              │           <span style=\"color: #00af00; text-decoration-color: #00af00\">257</span> │\n",
       "├─────────────────────────────────┼────────────────────────┼───────────────┤\n",
       "│ dense_2 (<span style=\"color: #0087ff; text-decoration-color: #0087ff\">Dense</span>)                 │ (<span style=\"color: #00d7ff; text-decoration-color: #00d7ff\">None</span>, <span style=\"color: #00af00; text-decoration-color: #00af00\">18</span>)             │         <span style=\"color: #00af00; text-decoration-color: #00af00\">4,626</span> │\n",
       "└─────────────────────────────────┴────────────────────────┴───────────────┘\n",
       "</pre>\n"
      ],
      "text/plain": [
       "┏━━━━━━━━━━━━━━━━━━━━━━━━━━━━━━━━━┳━━━━━━━━━━━━━━━━━━━━━━━━┳━━━━━━━━━━━━━━━┓\n",
       "┃\u001b[1m \u001b[0m\u001b[1mLayer (type)                   \u001b[0m\u001b[1m \u001b[0m┃\u001b[1m \u001b[0m\u001b[1mOutput Shape          \u001b[0m\u001b[1m \u001b[0m┃\u001b[1m \u001b[0m\u001b[1m      Param #\u001b[0m\u001b[1m \u001b[0m┃\n",
       "┡━━━━━━━━━━━━━━━━━━━━━━━━━━━━━━━━━╇━━━━━━━━━━━━━━━━━━━━━━━━╇━━━━━━━━━━━━━━━┩\n",
       "│ conv2d_net_0 (\u001b[38;5;33mSequential\u001b[0m)       │ (\u001b[38;5;45mNone\u001b[0m, \u001b[38;5;34m130\u001b[0m, \u001b[38;5;34m4\u001b[0m, \u001b[38;5;34m4\u001b[0m, \u001b[38;5;34m8\u001b[0m)   │           \u001b[38;5;34m400\u001b[0m │\n",
       "├─────────────────────────────────┼────────────────────────┼───────────────┤\n",
       "│ conv2d_net_1 (\u001b[38;5;33mSequential\u001b[0m)       │ (\u001b[38;5;45mNone\u001b[0m, \u001b[38;5;34m130\u001b[0m, \u001b[38;5;34m2\u001b[0m, \u001b[38;5;34m2\u001b[0m, \u001b[38;5;34m16\u001b[0m)  │         \u001b[38;5;34m1,232\u001b[0m │\n",
       "├─────────────────────────────────┼────────────────────────┼───────────────┤\n",
       "│ global_maxpool2d                │ (\u001b[38;5;45mNone\u001b[0m, \u001b[38;5;34m130\u001b[0m, \u001b[38;5;34m16\u001b[0m)        │             \u001b[38;5;34m0\u001b[0m │\n",
       "│ (\u001b[38;5;33mTimeDistributed\u001b[0m)               │                        │               │\n",
       "├─────────────────────────────────┼────────────────────────┼───────────────┤\n",
       "│ masking (\u001b[38;5;33mMasking\u001b[0m)               │ (\u001b[38;5;45mNone\u001b[0m, \u001b[38;5;34m130\u001b[0m, \u001b[38;5;34m35\u001b[0m)        │             \u001b[38;5;34m0\u001b[0m │\n",
       "├─────────────────────────────────┼────────────────────────┼───────────────┤\n",
       "│ conv1d_net_0 (\u001b[38;5;33mSequential\u001b[0m)       │ (\u001b[38;5;45mNone\u001b[0m, \u001b[38;5;34m65\u001b[0m, \u001b[38;5;34m32\u001b[0m)         │         \u001b[38;5;34m3,488\u001b[0m │\n",
       "├─────────────────────────────────┼────────────────────────┼───────────────┤\n",
       "│ conv1d_net_1 (\u001b[38;5;33mSequential\u001b[0m)       │ (\u001b[38;5;45mNone\u001b[0m, \u001b[38;5;34m33\u001b[0m, \u001b[38;5;34m64\u001b[0m)         │         \u001b[38;5;34m6,400\u001b[0m │\n",
       "├─────────────────────────────────┼────────────────────────┼───────────────┤\n",
       "│ skip_connection_dense_bidirect… │ (\u001b[38;5;45mNone\u001b[0m, \u001b[38;5;34m33\u001b[0m, \u001b[38;5;34m128\u001b[0m)        │         \u001b[38;5;34m8,320\u001b[0m │\n",
       "│ (\u001b[38;5;33mDense\u001b[0m)                         │                        │               │\n",
       "├─────────────────────────────────┼────────────────────────┼───────────────┤\n",
       "│ GRU_0 (\u001b[38;5;33mBidirectional\u001b[0m)           │ (\u001b[38;5;45mNone\u001b[0m, \u001b[38;5;34m33\u001b[0m, \u001b[38;5;34m128\u001b[0m)        │        \u001b[38;5;34m49,920\u001b[0m │\n",
       "├─────────────────────────────────┼────────────────────────┼───────────────┤\n",
       "│ GRU_1 (\u001b[38;5;33mBidirectional\u001b[0m)           │ (\u001b[38;5;45mNone\u001b[0m, \u001b[38;5;34m33\u001b[0m, \u001b[38;5;34m128\u001b[0m)        │        \u001b[38;5;34m74,496\u001b[0m │\n",
       "├─────────────────────────────────┼────────────────────────┼───────────────┤\n",
       "│ GRU_2 (\u001b[38;5;33mBidirectional\u001b[0m)           │ (\u001b[38;5;45mNone\u001b[0m, \u001b[38;5;34m33\u001b[0m, \u001b[38;5;34m128\u001b[0m)        │        \u001b[38;5;34m74,496\u001b[0m │\n",
       "├─────────────────────────────────┼────────────────────────┼───────────────┤\n",
       "│ GRU_3 (\u001b[38;5;33mBidirectional\u001b[0m)           │ (\u001b[38;5;45mNone\u001b[0m, \u001b[38;5;34m128\u001b[0m)            │        \u001b[38;5;34m74,496\u001b[0m │\n",
       "├─────────────────────────────────┼────────────────────────┼───────────────┤\n",
       "│ dense (\u001b[38;5;33mDense\u001b[0m)                   │ (\u001b[38;5;45mNone\u001b[0m, \u001b[38;5;34m256\u001b[0m)            │        \u001b[38;5;34m36,608\u001b[0m │\n",
       "├─────────────────────────────────┼────────────────────────┼───────────────┤\n",
       "│ dense_1 (\u001b[38;5;33mDense\u001b[0m)                 │ (\u001b[38;5;45mNone\u001b[0m, \u001b[38;5;34m1\u001b[0m)              │           \u001b[38;5;34m257\u001b[0m │\n",
       "├─────────────────────────────────┼────────────────────────┼───────────────┤\n",
       "│ dense_2 (\u001b[38;5;33mDense\u001b[0m)                 │ (\u001b[38;5;45mNone\u001b[0m, \u001b[38;5;34m18\u001b[0m)             │         \u001b[38;5;34m4,626\u001b[0m │\n",
       "└─────────────────────────────────┴────────────────────────┴───────────────┘\n"
      ]
     },
     "metadata": {},
     "output_type": "display_data"
    },
    {
     "data": {
      "text/html": [
       "<pre style=\"white-space:pre;overflow-x:auto;line-height:normal;font-family:Menlo,'DejaVu Sans Mono',consolas,'Courier New',monospace\"><span style=\"font-weight: bold\"> Total params: </span><span style=\"color: #00af00; text-decoration-color: #00af00\">334,739</span> (1.28 MB)\n",
       "</pre>\n"
      ],
      "text/plain": [
       "\u001b[1m Total params: \u001b[0m\u001b[38;5;34m334,739\u001b[0m (1.28 MB)\n"
      ]
     },
     "metadata": {},
     "output_type": "display_data"
    },
    {
     "data": {
      "text/html": [
       "<pre style=\"white-space:pre;overflow-x:auto;line-height:normal;font-family:Menlo,'DejaVu Sans Mono',consolas,'Courier New',monospace\"><span style=\"font-weight: bold\"> Trainable params: </span><span style=\"color: #00af00; text-decoration-color: #00af00\">334,499</span> (1.28 MB)\n",
       "</pre>\n"
      ],
      "text/plain": [
       "\u001b[1m Trainable params: \u001b[0m\u001b[38;5;34m334,499\u001b[0m (1.28 MB)\n"
      ]
     },
     "metadata": {},
     "output_type": "display_data"
    },
    {
     "data": {
      "text/html": [
       "<pre style=\"white-space:pre;overflow-x:auto;line-height:normal;font-family:Menlo,'DejaVu Sans Mono',consolas,'Courier New',monospace\"><span style=\"font-weight: bold\"> Non-trainable params: </span><span style=\"color: #00af00; text-decoration-color: #00af00\">240</span> (960.00 B)\n",
       "</pre>\n"
      ],
      "text/plain": [
       "\u001b[1m Non-trainable params: \u001b[0m\u001b[38;5;34m240\u001b[0m (960.00 B)\n"
      ]
     },
     "metadata": {},
     "output_type": "display_data"
    }
   ],
   "source": [
    "from tensorflow.keras.losses import BinaryCrossentropy, CategoricalCrossentropy, CategoricalFocalCrossentropy\n",
    "from tensorflow.keras.optimizers import Adam\n",
    "from tensorflow.keras.metrics import BinaryAccuracy, F1Score, AUC\n",
    "\n",
    "model = RNNModel(kernel_size2d=3, kernel_size1d=3, filters_2d=[8, 16], dropout=0.2,\n",
    "                 filters_1d=[32, 64], num_rnn_layers=4, rnn_hidden_size=64, mode=\"GRU\", \n",
    "                 bidirectional=True, hidden_size=256, regularizer=\"l2\", \n",
    "                 l1_penalty=1e-6, l2_penalty=1e-6, binary=False)\n",
    "model.build(input_shapes=((None, 130, 8, 8, 5), (None, 130, 19), (None, 14)))\n",
    "# model.set_multi()\n",
    "model.compile(loss=CategoricalFocalCrossentropy(alpha=gesture_sample_weight, \n",
    "                                                gamma=2,\n",
    "                                                label_smoothing=0.2),\n",
    "              optimizer=Adam(learning_rate=0.001),\n",
    "              metrics=[\"accuracy\"])\n",
    "model.summary()\n",
    "# model.freeze_conv_timeseries()"
   ]
  },
  {
   "cell_type": "code",
   "execution_count": 13,
   "id": "1683ec3b",
   "metadata": {
    "execution": {
     "iopub.execute_input": "2025-08-05T23:23:35.321571Z",
     "iopub.status.busy": "2025-08-05T23:23:35.320817Z",
     "iopub.status.idle": "2025-08-06T06:49:26.598132Z",
     "shell.execute_reply": "2025-08-06T06:49:26.595921Z"
    },
    "papermill": {
     "duration": 26751.285517,
     "end_time": "2025-08-06T06:49:26.601083",
     "exception": false,
     "start_time": "2025-08-05T23:23:35.315566",
     "status": "completed"
    },
    "tags": []
   },
   "outputs": [
    {
     "name": "stdout",
     "output_type": "stream",
     "text": [
      "Epoch 1/100\n",
      "\u001b[1m101/101\u001b[0m \u001b[32m━━━━━━━━━━━━━━━━━━━━\u001b[0m\u001b[37m\u001b[0m \u001b[1m0s\u001b[0m 3s/step - accuracy: 0.1079 - loss: 6.8533\n",
      "Epoch 1: val_accuracy improved from -inf to 0.12368, saving model to /kaggle/working/cmi_best_model.weights.h5\n",
      "\u001b[1m101/101\u001b[0m \u001b[32m━━━━━━━━━━━━━━━━━━━━\u001b[0m\u001b[37m\u001b[0m \u001b[1m549s\u001b[0m 3s/step - accuracy: 0.1080 - loss: 6.8490 - val_accuracy: 0.1237 - val_loss: 6.5167\n",
      "Epoch 2/100\n",
      "\u001b[1m101/101\u001b[0m \u001b[32m━━━━━━━━━━━━━━━━━━━━\u001b[0m\u001b[37m\u001b[0m \u001b[1m0s\u001b[0m 3s/step - accuracy: 0.1923 - loss: 5.8377\n",
      "Epoch 2: val_accuracy improved from 0.12368 to 0.19211, saving model to /kaggle/working/cmi_best_model.weights.h5\n",
      "\u001b[1m101/101\u001b[0m \u001b[32m━━━━━━━━━━━━━━━━━━━━\u001b[0m\u001b[37m\u001b[0m \u001b[1m263s\u001b[0m 3s/step - accuracy: 0.1924 - loss: 5.8361 - val_accuracy: 0.1921 - val_loss: 6.4005\n",
      "Epoch 3/100\n",
      "\u001b[1m101/101\u001b[0m \u001b[32m━━━━━━━━━━━━━━━━━━━━\u001b[0m\u001b[37m\u001b[0m \u001b[1m0s\u001b[0m 3s/step - accuracy: 0.2625 - loss: 5.2833\n",
      "Epoch 3: val_accuracy improved from 0.19211 to 0.25175, saving model to /kaggle/working/cmi_best_model.weights.h5\n",
      "\u001b[1m101/101\u001b[0m \u001b[32m━━━━━━━━━━━━━━━━━━━━\u001b[0m\u001b[37m\u001b[0m \u001b[1m299s\u001b[0m 3s/step - accuracy: 0.2626 - loss: 5.2821 - val_accuracy: 0.2518 - val_loss: 6.0351\n",
      "Epoch 4/100\n",
      "\u001b[1m101/101\u001b[0m \u001b[32m━━━━━━━━━━━━━━━━━━━━\u001b[0m\u001b[37m\u001b[0m \u001b[1m0s\u001b[0m 3s/step - accuracy: 0.3187 - loss: 4.8960\n",
      "Epoch 4: val_accuracy improved from 0.25175 to 0.32719, saving model to /kaggle/working/cmi_best_model.weights.h5\n",
      "\u001b[1m101/101\u001b[0m \u001b[32m━━━━━━━━━━━━━━━━━━━━\u001b[0m\u001b[37m\u001b[0m \u001b[1m267s\u001b[0m 3s/step - accuracy: 0.3188 - loss: 4.8955 - val_accuracy: 0.3272 - val_loss: 5.1230\n",
      "Epoch 5/100\n",
      "\u001b[1m101/101\u001b[0m \u001b[32m━━━━━━━━━━━━━━━━━━━━\u001b[0m\u001b[37m\u001b[0m \u001b[1m0s\u001b[0m 3s/step - accuracy: 0.3538 - loss: 4.7142\n",
      "Epoch 5: val_accuracy did not improve from 0.32719\n",
      "\u001b[1m101/101\u001b[0m \u001b[32m━━━━━━━━━━━━━━━━━━━━\u001b[0m\u001b[37m\u001b[0m \u001b[1m262s\u001b[0m 3s/step - accuracy: 0.3539 - loss: 4.7134 - val_accuracy: 0.3175 - val_loss: 5.0447\n",
      "Epoch 6/100\n",
      "\u001b[1m101/101\u001b[0m \u001b[32m━━━━━━━━━━━━━━━━━━━━\u001b[0m\u001b[37m\u001b[0m \u001b[1m0s\u001b[0m 3s/step - accuracy: 0.3693 - loss: 4.5537\n",
      "Epoch 6: val_accuracy improved from 0.32719 to 0.35439, saving model to /kaggle/working/cmi_best_model.weights.h5\n",
      "\u001b[1m101/101\u001b[0m \u001b[32m━━━━━━━━━━━━━━━━━━━━\u001b[0m\u001b[37m\u001b[0m \u001b[1m299s\u001b[0m 3s/step - accuracy: 0.3694 - loss: 4.5531 - val_accuracy: 0.3544 - val_loss: 4.8430\n",
      "Epoch 7/100\n",
      "\u001b[1m101/101\u001b[0m \u001b[32m━━━━━━━━━━━━━━━━━━━━\u001b[0m\u001b[37m\u001b[0m \u001b[1m0s\u001b[0m 3s/step - accuracy: 0.3901 - loss: 4.4331\n",
      "Epoch 7: val_accuracy improved from 0.35439 to 0.37018, saving model to /kaggle/working/cmi_best_model.weights.h5\n",
      "\u001b[1m101/101\u001b[0m \u001b[32m━━━━━━━━━━━━━━━━━━━━\u001b[0m\u001b[37m\u001b[0m \u001b[1m272s\u001b[0m 3s/step - accuracy: 0.3903 - loss: 4.4325 - val_accuracy: 0.3702 - val_loss: 5.0927\n",
      "Epoch 8/100\n",
      "\u001b[1m101/101\u001b[0m \u001b[32m━━━━━━━━━━━━━━━━━━━━\u001b[0m\u001b[37m\u001b[0m \u001b[1m0s\u001b[0m 3s/step - accuracy: 0.4024 - loss: 4.3497\n",
      "Epoch 8: val_accuracy improved from 0.37018 to 0.38509, saving model to /kaggle/working/cmi_best_model.weights.h5\n",
      "\u001b[1m101/101\u001b[0m \u001b[32m━━━━━━━━━━━━━━━━━━━━\u001b[0m\u001b[37m\u001b[0m \u001b[1m312s\u001b[0m 3s/step - accuracy: 0.4025 - loss: 4.3491 - val_accuracy: 0.3851 - val_loss: 4.7703\n",
      "Epoch 9/100\n",
      "\u001b[1m101/101\u001b[0m \u001b[32m━━━━━━━━━━━━━━━━━━━━\u001b[0m\u001b[37m\u001b[0m \u001b[1m0s\u001b[0m 2s/step - accuracy: 0.4303 - loss: 4.2256\n",
      "Epoch 9: val_accuracy improved from 0.38509 to 0.39561, saving model to /kaggle/working/cmi_best_model.weights.h5\n",
      "\u001b[1m101/101\u001b[0m \u001b[32m━━━━━━━━━━━━━━━━━━━━\u001b[0m\u001b[37m\u001b[0m \u001b[1m250s\u001b[0m 2s/step - accuracy: 0.4303 - loss: 4.2252 - val_accuracy: 0.3956 - val_loss: 4.7776\n",
      "Epoch 10/100\n",
      "\u001b[1m101/101\u001b[0m \u001b[32m━━━━━━━━━━━━━━━━━━━━\u001b[0m\u001b[37m\u001b[0m \u001b[1m0s\u001b[0m 3s/step - accuracy: 0.4425 - loss: 4.1259\n",
      "Epoch 10: val_accuracy improved from 0.39561 to 0.41228, saving model to /kaggle/working/cmi_best_model.weights.h5\n",
      "\u001b[1m101/101\u001b[0m \u001b[32m━━━━━━━━━━━━━━━━━━━━\u001b[0m\u001b[37m\u001b[0m \u001b[1m285s\u001b[0m 3s/step - accuracy: 0.4425 - loss: 4.1253 - val_accuracy: 0.4123 - val_loss: 4.6282\n",
      "Epoch 11/100\n",
      "\u001b[1m101/101\u001b[0m \u001b[32m━━━━━━━━━━━━━━━━━━━━\u001b[0m\u001b[37m\u001b[0m \u001b[1m0s\u001b[0m 2s/step - accuracy: 0.4536 - loss: 4.0912\n",
      "Epoch 11: val_accuracy did not improve from 0.41228\n",
      "\u001b[1m101/101\u001b[0m \u001b[32m━━━━━━━━━━━━━━━━━━━━\u001b[0m\u001b[37m\u001b[0m \u001b[1m254s\u001b[0m 3s/step - accuracy: 0.4536 - loss: 4.0907 - val_accuracy: 0.3737 - val_loss: 5.1464\n",
      "Epoch 12/100\n",
      "\u001b[1m101/101\u001b[0m \u001b[32m━━━━━━━━━━━━━━━━━━━━\u001b[0m\u001b[37m\u001b[0m \u001b[1m0s\u001b[0m 2s/step - accuracy: 0.4655 - loss: 4.0091\n",
      "Epoch 12: val_accuracy improved from 0.41228 to 0.41842, saving model to /kaggle/working/cmi_best_model.weights.h5\n",
      "\u001b[1m101/101\u001b[0m \u001b[32m━━━━━━━━━━━━━━━━━━━━\u001b[0m\u001b[37m\u001b[0m \u001b[1m254s\u001b[0m 3s/step - accuracy: 0.4655 - loss: 4.0086 - val_accuracy: 0.4184 - val_loss: 4.4959\n",
      "Epoch 13/100\n",
      "\u001b[1m101/101\u001b[0m \u001b[32m━━━━━━━━━━━━━━━━━━━━\u001b[0m\u001b[37m\u001b[0m \u001b[1m0s\u001b[0m 3s/step - accuracy: 0.4760 - loss: 3.9246\n",
      "Epoch 13: val_accuracy improved from 0.41842 to 0.44298, saving model to /kaggle/working/cmi_best_model.weights.h5\n",
      "\u001b[1m101/101\u001b[0m \u001b[32m━━━━━━━━━━━━━━━━━━━━\u001b[0m\u001b[37m\u001b[0m \u001b[1m284s\u001b[0m 3s/step - accuracy: 0.4760 - loss: 3.9244 - val_accuracy: 0.4430 - val_loss: 4.4396\n",
      "Epoch 14/100\n",
      "\u001b[1m101/101\u001b[0m \u001b[32m━━━━━━━━━━━━━━━━━━━━\u001b[0m\u001b[37m\u001b[0m \u001b[1m0s\u001b[0m 2s/step - accuracy: 0.4891 - loss: 3.8947\n",
      "Epoch 14: val_accuracy did not improve from 0.44298\n",
      "\u001b[1m101/101\u001b[0m \u001b[32m━━━━━━━━━━━━━━━━━━━━\u001b[0m\u001b[37m\u001b[0m \u001b[1m252s\u001b[0m 2s/step - accuracy: 0.4891 - loss: 3.8945 - val_accuracy: 0.4158 - val_loss: 4.5050\n",
      "Epoch 15/100\n",
      "\u001b[1m101/101\u001b[0m \u001b[32m━━━━━━━━━━━━━━━━━━━━\u001b[0m\u001b[37m\u001b[0m \u001b[1m0s\u001b[0m 3s/step - accuracy: 0.4956 - loss: 3.8208\n",
      "Epoch 15: val_accuracy did not improve from 0.44298\n",
      "\u001b[1m101/101\u001b[0m \u001b[32m━━━━━━━━━━━━━━━━━━━━\u001b[0m\u001b[37m\u001b[0m \u001b[1m289s\u001b[0m 3s/step - accuracy: 0.4956 - loss: 3.8203 - val_accuracy: 0.4044 - val_loss: 4.6656\n",
      "Epoch 16/100\n",
      "\u001b[1m101/101\u001b[0m \u001b[32m━━━━━━━━━━━━━━━━━━━━\u001b[0m\u001b[37m\u001b[0m \u001b[1m0s\u001b[0m 2s/step - accuracy: 0.5097 - loss: 3.7728\n",
      "Epoch 16: val_accuracy did not improve from 0.44298\n",
      "\u001b[1m101/101\u001b[0m \u001b[32m━━━━━━━━━━━━━━━━━━━━\u001b[0m\u001b[37m\u001b[0m \u001b[1m252s\u001b[0m 2s/step - accuracy: 0.5096 - loss: 3.7726 - val_accuracy: 0.4404 - val_loss: 4.4222\n",
      "Epoch 17/100\n",
      "\u001b[1m101/101\u001b[0m \u001b[32m━━━━━━━━━━━━━━━━━━━━\u001b[0m\u001b[37m\u001b[0m \u001b[1m0s\u001b[0m 2s/step - accuracy: 0.5009 - loss: 3.7735\n",
      "Epoch 17: val_accuracy did not improve from 0.44298\n",
      "\u001b[1m101/101\u001b[0m \u001b[32m━━━━━━━━━━━━━━━━━━━━\u001b[0m\u001b[37m\u001b[0m \u001b[1m247s\u001b[0m 2s/step - accuracy: 0.5010 - loss: 3.7731 - val_accuracy: 0.4175 - val_loss: 4.5160\n",
      "Epoch 18/100\n",
      "\u001b[1m101/101\u001b[0m \u001b[32m━━━━━━━━━━━━━━━━━━━━\u001b[0m\u001b[37m\u001b[0m \u001b[1m0s\u001b[0m 3s/step - accuracy: 0.5112 - loss: 3.7054\n",
      "Epoch 18: val_accuracy improved from 0.44298 to 0.45263, saving model to /kaggle/working/cmi_best_model.weights.h5\n",
      "\u001b[1m101/101\u001b[0m \u001b[32m━━━━━━━━━━━━━━━━━━━━\u001b[0m\u001b[37m\u001b[0m \u001b[1m280s\u001b[0m 3s/step - accuracy: 0.5113 - loss: 3.7050 - val_accuracy: 0.4526 - val_loss: 4.2321\n",
      "Epoch 19/100\n",
      "\u001b[1m101/101\u001b[0m \u001b[32m━━━━━━━━━━━━━━━━━━━━\u001b[0m\u001b[37m\u001b[0m \u001b[1m0s\u001b[0m 2s/step - accuracy: 0.5280 - loss: 3.6191\n",
      "Epoch 19: val_accuracy did not improve from 0.45263\n",
      "\u001b[1m101/101\u001b[0m \u001b[32m━━━━━━━━━━━━━━━━━━━━\u001b[0m\u001b[37m\u001b[0m \u001b[1m249s\u001b[0m 2s/step - accuracy: 0.5280 - loss: 3.6189 - val_accuracy: 0.4140 - val_loss: 4.3870\n",
      "Epoch 20/100\n",
      "\u001b[1m101/101\u001b[0m \u001b[32m━━━━━━━━━━━━━━━━━━━━\u001b[0m\u001b[37m\u001b[0m \u001b[1m0s\u001b[0m 3s/step - accuracy: 0.5384 - loss: 3.5737\n",
      "Epoch 20: val_accuracy did not improve from 0.45263\n",
      "\u001b[1m101/101\u001b[0m \u001b[32m━━━━━━━━━━━━━━━━━━━━\u001b[0m\u001b[37m\u001b[0m \u001b[1m281s\u001b[0m 3s/step - accuracy: 0.5384 - loss: 3.5735 - val_accuracy: 0.4360 - val_loss: 4.1568\n",
      "Epoch 21/100\n",
      "\u001b[1m101/101\u001b[0m \u001b[32m━━━━━━━━━━━━━━━━━━━━\u001b[0m\u001b[37m\u001b[0m \u001b[1m0s\u001b[0m 2s/step - accuracy: 0.5532 - loss: 3.5593\n",
      "Epoch 21: val_accuracy did not improve from 0.45263\n",
      "\u001b[1m101/101\u001b[0m \u001b[32m━━━━━━━━━━━━━━━━━━━━\u001b[0m\u001b[37m\u001b[0m \u001b[1m253s\u001b[0m 3s/step - accuracy: 0.5532 - loss: 3.5590 - val_accuracy: 0.4360 - val_loss: 4.2767\n",
      "Epoch 22/100\n",
      "\u001b[1m101/101\u001b[0m \u001b[32m━━━━━━━━━━━━━━━━━━━━\u001b[0m\u001b[37m\u001b[0m \u001b[1m0s\u001b[0m 3s/step - accuracy: 0.5622 - loss: 3.4640\n",
      "Epoch 22: val_accuracy did not improve from 0.45263\n",
      "\u001b[1m101/101\u001b[0m \u001b[32m━━━━━━━━━━━━━━━━━━━━\u001b[0m\u001b[37m\u001b[0m \u001b[1m260s\u001b[0m 3s/step - accuracy: 0.5621 - loss: 3.4640 - val_accuracy: 0.4351 - val_loss: 4.2458\n",
      "Epoch 23/100\n",
      "\u001b[1m101/101\u001b[0m \u001b[32m━━━━━━━━━━━━━━━━━━━━\u001b[0m\u001b[37m\u001b[0m \u001b[1m0s\u001b[0m 3s/step - accuracy: 0.5680 - loss: 3.4341\n",
      "Epoch 23: val_accuracy did not improve from 0.45263\n",
      "\u001b[1m101/101\u001b[0m \u001b[32m━━━━━━━━━━━━━━━━━━━━\u001b[0m\u001b[37m\u001b[0m \u001b[1m285s\u001b[0m 3s/step - accuracy: 0.5679 - loss: 3.4342 - val_accuracy: 0.4281 - val_loss: 4.2852\n",
      "Epoch 24/100\n",
      "\u001b[1m101/101\u001b[0m \u001b[32m━━━━━━━━━━━━━━━━━━━━\u001b[0m\u001b[37m\u001b[0m \u001b[1m0s\u001b[0m 2s/step - accuracy: 0.5611 - loss: 3.4501\n",
      "Epoch 24: val_accuracy did not improve from 0.45263\n",
      "\u001b[1m101/101\u001b[0m \u001b[32m━━━━━━━━━━━━━━━━━━━━\u001b[0m\u001b[37m\u001b[0m \u001b[1m249s\u001b[0m 2s/step - accuracy: 0.5611 - loss: 3.4499 - val_accuracy: 0.4465 - val_loss: 4.1868\n",
      "Epoch 25/100\n",
      "\u001b[1m101/101\u001b[0m \u001b[32m━━━━━━━━━━━━━━━━━━━━\u001b[0m\u001b[37m\u001b[0m \u001b[1m0s\u001b[0m 3s/step - accuracy: 0.5695 - loss: 3.3985\n",
      "Epoch 25: val_accuracy did not improve from 0.45263\n",
      "\u001b[1m101/101\u001b[0m \u001b[32m━━━━━━━━━━━━━━━━━━━━\u001b[0m\u001b[37m\u001b[0m \u001b[1m280s\u001b[0m 3s/step - accuracy: 0.5696 - loss: 3.3983 - val_accuracy: 0.4000 - val_loss: 4.5977\n",
      "Epoch 26/100\n",
      "\u001b[1m101/101\u001b[0m \u001b[32m━━━━━━━━━━━━━━━━━━━━\u001b[0m\u001b[37m\u001b[0m \u001b[1m0s\u001b[0m 2s/step - accuracy: 0.5787 - loss: 3.3925\n",
      "Epoch 26: val_accuracy did not improve from 0.45263\n",
      "\u001b[1m101/101\u001b[0m \u001b[32m━━━━━━━━━━━━━━━━━━━━\u001b[0m\u001b[37m\u001b[0m \u001b[1m251s\u001b[0m 2s/step - accuracy: 0.5788 - loss: 3.3920 - val_accuracy: 0.4202 - val_loss: 4.4594\n",
      "Epoch 27/100\n",
      "\u001b[1m101/101\u001b[0m \u001b[32m━━━━━━━━━━━━━━━━━━━━\u001b[0m\u001b[37m\u001b[0m \u001b[1m0s\u001b[0m 2s/step - accuracy: 0.5708 - loss: 3.3494\n",
      "Epoch 27: val_accuracy improved from 0.45263 to 0.46579, saving model to /kaggle/working/cmi_best_model.weights.h5\n",
      "\u001b[1m101/101\u001b[0m \u001b[32m━━━━━━━━━━━━━━━━━━━━\u001b[0m\u001b[37m\u001b[0m \u001b[1m251s\u001b[0m 2s/step - accuracy: 0.5709 - loss: 3.3492 - val_accuracy: 0.4658 - val_loss: 4.1004\n",
      "Epoch 28/100\n",
      "\u001b[1m101/101\u001b[0m \u001b[32m━━━━━━━━━━━━━━━━━━━━\u001b[0m\u001b[37m\u001b[0m \u001b[1m0s\u001b[0m 3s/step - accuracy: 0.5926 - loss: 3.3001\n",
      "Epoch 28: val_accuracy did not improve from 0.46579\n",
      "\u001b[1m101/101\u001b[0m \u001b[32m━━━━━━━━━━━━━━━━━━━━\u001b[0m\u001b[37m\u001b[0m \u001b[1m276s\u001b[0m 3s/step - accuracy: 0.5926 - loss: 3.3000 - val_accuracy: 0.4325 - val_loss: 4.3364\n",
      "Epoch 29/100\n",
      "\u001b[1m101/101\u001b[0m \u001b[32m━━━━━━━━━━━━━━━━━━━━\u001b[0m\u001b[37m\u001b[0m \u001b[1m0s\u001b[0m 2s/step - accuracy: 0.5949 - loss: 3.2930\n",
      "Epoch 29: val_accuracy did not improve from 0.46579\n",
      "\u001b[1m101/101\u001b[0m \u001b[32m━━━━━━━━━━━━━━━━━━━━\u001b[0m\u001b[37m\u001b[0m \u001b[1m244s\u001b[0m 2s/step - accuracy: 0.5949 - loss: 3.2929 - val_accuracy: 0.4395 - val_loss: 4.1291\n",
      "Epoch 30/100\n",
      "\u001b[1m101/101\u001b[0m \u001b[32m━━━━━━━━━━━━━━━━━━━━\u001b[0m\u001b[37m\u001b[0m \u001b[1m0s\u001b[0m 3s/step - accuracy: 0.6139 - loss: 3.2546\n",
      "Epoch 30: val_accuracy did not improve from 0.46579\n",
      "\u001b[1m101/101\u001b[0m \u001b[32m━━━━━━━━━━━━━━━━━━━━\u001b[0m\u001b[37m\u001b[0m \u001b[1m279s\u001b[0m 3s/step - accuracy: 0.6138 - loss: 3.2544 - val_accuracy: 0.4465 - val_loss: 4.1354\n",
      "Epoch 31/100\n",
      "\u001b[1m101/101\u001b[0m \u001b[32m━━━━━━━━━━━━━━━━━━━━\u001b[0m\u001b[37m\u001b[0m \u001b[1m0s\u001b[0m 2s/step - accuracy: 0.6217 - loss: 3.1987\n",
      "Epoch 31: val_accuracy did not improve from 0.46579\n",
      "\u001b[1m101/101\u001b[0m \u001b[32m━━━━━━━━━━━━━━━━━━━━\u001b[0m\u001b[37m\u001b[0m \u001b[1m248s\u001b[0m 2s/step - accuracy: 0.6216 - loss: 3.1986 - val_accuracy: 0.4526 - val_loss: 4.2778\n",
      "Epoch 32/100\n",
      "\u001b[1m101/101\u001b[0m \u001b[32m━━━━━━━━━━━━━━━━━━━━\u001b[0m\u001b[37m\u001b[0m \u001b[1m0s\u001b[0m 3s/step - accuracy: 0.6087 - loss: 3.1672\n",
      "Epoch 32: val_accuracy did not improve from 0.46579\n",
      "\u001b[1m101/101\u001b[0m \u001b[32m━━━━━━━━━━━━━━━━━━━━\u001b[0m\u001b[37m\u001b[0m \u001b[1m262s\u001b[0m 3s/step - accuracy: 0.6087 - loss: 3.1670 - val_accuracy: 0.4535 - val_loss: 4.2177\n",
      "Epoch 33/100\n",
      "\u001b[1m101/101\u001b[0m \u001b[32m━━━━━━━━━━━━━━━━━━━━\u001b[0m\u001b[37m\u001b[0m \u001b[1m0s\u001b[0m 3s/step - accuracy: 0.6305 - loss: 3.1666\n",
      "Epoch 33: val_accuracy improved from 0.46579 to 0.47632, saving model to /kaggle/working/cmi_best_model.weights.h5\n",
      "\u001b[1m101/101\u001b[0m \u001b[32m━━━━━━━━━━━━━━━━━━━━\u001b[0m\u001b[37m\u001b[0m \u001b[1m280s\u001b[0m 3s/step - accuracy: 0.6305 - loss: 3.1665 - val_accuracy: 0.4763 - val_loss: 4.0907\n",
      "Epoch 34/100\n",
      "\u001b[1m101/101\u001b[0m \u001b[32m━━━━━━━━━━━━━━━━━━━━\u001b[0m\u001b[37m\u001b[0m \u001b[1m0s\u001b[0m 2s/step - accuracy: 0.6277 - loss: 3.1433\n",
      "Epoch 34: val_accuracy improved from 0.47632 to 0.47895, saving model to /kaggle/working/cmi_best_model.weights.h5\n",
      "\u001b[1m101/101\u001b[0m \u001b[32m━━━━━━━━━━━━━━━━━━━━\u001b[0m\u001b[37m\u001b[0m \u001b[1m250s\u001b[0m 2s/step - accuracy: 0.6277 - loss: 3.1432 - val_accuracy: 0.4789 - val_loss: 4.1126\n",
      "Epoch 35/100\n",
      "\u001b[1m101/101\u001b[0m \u001b[32m━━━━━━━━━━━━━━━━━━━━\u001b[0m\u001b[37m\u001b[0m \u001b[1m0s\u001b[0m 3s/step - accuracy: 0.6202 - loss: 3.1430\n",
      "Epoch 35: val_accuracy did not improve from 0.47895\n",
      "\u001b[1m101/101\u001b[0m \u001b[32m━━━━━━━━━━━━━━━━━━━━\u001b[0m\u001b[37m\u001b[0m \u001b[1m280s\u001b[0m 3s/step - accuracy: 0.6203 - loss: 3.1427 - val_accuracy: 0.4605 - val_loss: 4.3547\n",
      "Epoch 36/100\n",
      "\u001b[1m101/101\u001b[0m \u001b[32m━━━━━━━━━━━━━━━━━━━━\u001b[0m\u001b[37m\u001b[0m \u001b[1m0s\u001b[0m 2s/step - accuracy: 0.6341 - loss: 3.1127\n",
      "Epoch 36: val_accuracy improved from 0.47895 to 0.48246, saving model to /kaggle/working/cmi_best_model.weights.h5\n",
      "\u001b[1m101/101\u001b[0m \u001b[32m━━━━━━━━━━━━━━━━━━━━\u001b[0m\u001b[37m\u001b[0m \u001b[1m245s\u001b[0m 2s/step - accuracy: 0.6340 - loss: 3.1127 - val_accuracy: 0.4825 - val_loss: 4.0765\n",
      "Epoch 37/100\n",
      "\u001b[1m101/101\u001b[0m \u001b[32m━━━━━━━━━━━━━━━━━━━━\u001b[0m\u001b[37m\u001b[0m \u001b[1m0s\u001b[0m 2s/step - accuracy: 0.6243 - loss: 3.1385\n",
      "Epoch 37: val_accuracy did not improve from 0.48246\n",
      "\u001b[1m101/101\u001b[0m \u001b[32m━━━━━━━━━━━━━━━━━━━━\u001b[0m\u001b[37m\u001b[0m \u001b[1m252s\u001b[0m 2s/step - accuracy: 0.6244 - loss: 3.1380 - val_accuracy: 0.4702 - val_loss: 4.0068\n",
      "Epoch 38/100\n",
      "\u001b[1m101/101\u001b[0m \u001b[32m━━━━━━━━━━━━━━━━━━━━\u001b[0m\u001b[37m\u001b[0m \u001b[1m0s\u001b[0m 3s/step - accuracy: 0.6460 - loss: 3.0749\n",
      "Epoch 38: val_accuracy did not improve from 0.48246\n",
      "\u001b[1m101/101\u001b[0m \u001b[32m━━━━━━━━━━━━━━━━━━━━\u001b[0m\u001b[37m\u001b[0m \u001b[1m288s\u001b[0m 3s/step - accuracy: 0.6460 - loss: 3.0746 - val_accuracy: 0.4491 - val_loss: 4.2519\n",
      "Epoch 39/100\n",
      "\u001b[1m101/101\u001b[0m \u001b[32m━━━━━━━━━━━━━━━━━━━━\u001b[0m\u001b[37m\u001b[0m \u001b[1m0s\u001b[0m 2s/step - accuracy: 0.6499 - loss: 3.0421\n",
      "Epoch 39: val_accuracy did not improve from 0.48246\n",
      "\u001b[1m101/101\u001b[0m \u001b[32m━━━━━━━━━━━━━━━━━━━━\u001b[0m\u001b[37m\u001b[0m \u001b[1m237s\u001b[0m 2s/step - accuracy: 0.6498 - loss: 3.0422 - val_accuracy: 0.4702 - val_loss: 4.1401\n",
      "Epoch 40/100\n",
      "\u001b[1m101/101\u001b[0m \u001b[32m━━━━━━━━━━━━━━━━━━━━\u001b[0m\u001b[37m\u001b[0m \u001b[1m0s\u001b[0m 3s/step - accuracy: 0.6505 - loss: 3.0232\n",
      "Epoch 40: val_accuracy improved from 0.48246 to 0.50000, saving model to /kaggle/working/cmi_best_model.weights.h5\n",
      "\u001b[1m101/101\u001b[0m \u001b[32m━━━━━━━━━━━━━━━━━━━━\u001b[0m\u001b[37m\u001b[0m \u001b[1m275s\u001b[0m 3s/step - accuracy: 0.6505 - loss: 3.0230 - val_accuracy: 0.5000 - val_loss: 4.0764\n",
      "Epoch 41/100\n",
      "\u001b[1m101/101\u001b[0m \u001b[32m━━━━━━━━━━━━━━━━━━━━\u001b[0m\u001b[37m\u001b[0m \u001b[1m0s\u001b[0m 2s/step - accuracy: 0.6582 - loss: 2.9829\n",
      "Epoch 41: val_accuracy did not improve from 0.50000\n",
      "\u001b[1m101/101\u001b[0m \u001b[32m━━━━━━━━━━━━━━━━━━━━\u001b[0m\u001b[37m\u001b[0m \u001b[1m247s\u001b[0m 2s/step - accuracy: 0.6582 - loss: 2.9827 - val_accuracy: 0.4632 - val_loss: 4.0511\n",
      "Epoch 42/100\n",
      "\u001b[1m101/101\u001b[0m \u001b[32m━━━━━━━━━━━━━━━━━━━━\u001b[0m\u001b[37m\u001b[0m \u001b[1m0s\u001b[0m 2s/step - accuracy: 0.6697 - loss: 2.9862\n",
      "Epoch 42: val_accuracy did not improve from 0.50000\n",
      "\u001b[1m101/101\u001b[0m \u001b[32m━━━━━━━━━━━━━━━━━━━━\u001b[0m\u001b[37m\u001b[0m \u001b[1m249s\u001b[0m 2s/step - accuracy: 0.6697 - loss: 2.9860 - val_accuracy: 0.4921 - val_loss: 4.0034\n",
      "Epoch 43/100\n",
      "\u001b[1m101/101\u001b[0m \u001b[32m━━━━━━━━━━━━━━━━━━━━\u001b[0m\u001b[37m\u001b[0m \u001b[1m0s\u001b[0m 3s/step - accuracy: 0.6697 - loss: 2.9738\n",
      "Epoch 43: val_accuracy did not improve from 0.50000\n",
      "\u001b[1m101/101\u001b[0m \u001b[32m━━━━━━━━━━━━━━━━━━━━\u001b[0m\u001b[37m\u001b[0m \u001b[1m277s\u001b[0m 3s/step - accuracy: 0.6697 - loss: 2.9737 - val_accuracy: 0.4947 - val_loss: 4.1081\n",
      "Epoch 44/100\n",
      "\u001b[1m101/101\u001b[0m \u001b[32m━━━━━━━━━━━━━━━━━━━━\u001b[0m\u001b[37m\u001b[0m \u001b[1m0s\u001b[0m 2s/step - accuracy: 0.6771 - loss: 2.9364\n",
      "Epoch 44: val_accuracy did not improve from 0.50000\n",
      "\u001b[1m101/101\u001b[0m \u001b[32m━━━━━━━━━━━━━━━━━━━━\u001b[0m\u001b[37m\u001b[0m \u001b[1m249s\u001b[0m 2s/step - accuracy: 0.6770 - loss: 2.9363 - val_accuracy: 0.4895 - val_loss: 4.0350\n",
      "Epoch 45/100\n",
      "\u001b[1m101/101\u001b[0m \u001b[32m━━━━━━━━━━━━━━━━━━━━\u001b[0m\u001b[37m\u001b[0m \u001b[1m0s\u001b[0m 3s/step - accuracy: 0.6871 - loss: 2.8845\n",
      "Epoch 45: val_accuracy did not improve from 0.50000\n",
      "\u001b[1m101/101\u001b[0m \u001b[32m━━━━━━━━━━━━━━━━━━━━\u001b[0m\u001b[37m\u001b[0m \u001b[1m291s\u001b[0m 3s/step - accuracy: 0.6871 - loss: 2.8845 - val_accuracy: 0.4702 - val_loss: 4.0411\n",
      "Epoch 46/100\n",
      "\u001b[1m101/101\u001b[0m \u001b[32m━━━━━━━━━━━━━━━━━━━━\u001b[0m\u001b[37m\u001b[0m \u001b[1m0s\u001b[0m 2s/step - accuracy: 0.6837 - loss: 2.8788\n",
      "Epoch 46: val_accuracy did not improve from 0.50000\n",
      "\u001b[1m101/101\u001b[0m \u001b[32m━━━━━━━━━━━━━━━━━━━━\u001b[0m\u001b[37m\u001b[0m \u001b[1m251s\u001b[0m 2s/step - accuracy: 0.6836 - loss: 2.8788 - val_accuracy: 0.4851 - val_loss: 4.0411\n",
      "Epoch 47/100\n",
      "\u001b[1m101/101\u001b[0m \u001b[32m━━━━━━━━━━━━━━━━━━━━\u001b[0m\u001b[37m\u001b[0m \u001b[1m0s\u001b[0m 2s/step - accuracy: 0.6872 - loss: 2.9062\n",
      "Epoch 47: val_accuracy did not improve from 0.50000\n",
      "\u001b[1m101/101\u001b[0m \u001b[32m━━━━━━━━━━━━━━━━━━━━\u001b[0m\u001b[37m\u001b[0m \u001b[1m251s\u001b[0m 2s/step - accuracy: 0.6872 - loss: 2.9061 - val_accuracy: 0.4921 - val_loss: 4.0192\n",
      "Epoch 48/100\n",
      "\u001b[1m101/101\u001b[0m \u001b[32m━━━━━━━━━━━━━━━━━━━━\u001b[0m\u001b[37m\u001b[0m \u001b[1m0s\u001b[0m 3s/step - accuracy: 0.6911 - loss: 2.9098\n",
      "Epoch 48: val_accuracy did not improve from 0.50000\n",
      "\u001b[1m101/101\u001b[0m \u001b[32m━━━━━━━━━━━━━━━━━━━━\u001b[0m\u001b[37m\u001b[0m \u001b[1m287s\u001b[0m 3s/step - accuracy: 0.6910 - loss: 2.9096 - val_accuracy: 0.4649 - val_loss: 4.1981\n",
      "Epoch 49/100\n",
      "\u001b[1m101/101\u001b[0m \u001b[32m━━━━━━━━━━━━━━━━━━━━\u001b[0m\u001b[37m\u001b[0m \u001b[1m0s\u001b[0m 2s/step - accuracy: 0.6992 - loss: 2.8580\n",
      "Epoch 49: val_accuracy did not improve from 0.50000\n",
      "\u001b[1m101/101\u001b[0m \u001b[32m━━━━━━━━━━━━━━━━━━━━\u001b[0m\u001b[37m\u001b[0m \u001b[1m253s\u001b[0m 2s/step - accuracy: 0.6992 - loss: 2.8581 - val_accuracy: 0.4553 - val_loss: 4.4271\n",
      "Epoch 50/100\n",
      "\u001b[1m101/101\u001b[0m \u001b[32m━━━━━━━━━━━━━━━━━━━━\u001b[0m\u001b[37m\u001b[0m \u001b[1m0s\u001b[0m 3s/step - accuracy: 0.7007 - loss: 2.8517\n",
      "Epoch 50: val_accuracy did not improve from 0.50000\n",
      "\u001b[1m101/101\u001b[0m \u001b[32m━━━━━━━━━━━━━━━━━━━━\u001b[0m\u001b[37m\u001b[0m \u001b[1m277s\u001b[0m 3s/step - accuracy: 0.7007 - loss: 2.8516 - val_accuracy: 0.4798 - val_loss: 4.1439\n",
      "Epoch 51/100\n",
      "\u001b[1m101/101\u001b[0m \u001b[32m━━━━━━━━━━━━━━━━━━━━\u001b[0m\u001b[37m\u001b[0m \u001b[1m0s\u001b[0m 2s/step - accuracy: 0.6998 - loss: 2.8416\n",
      "Epoch 51: val_accuracy did not improve from 0.50000\n",
      "\u001b[1m101/101\u001b[0m \u001b[32m━━━━━━━━━━━━━━━━━━━━\u001b[0m\u001b[37m\u001b[0m \u001b[1m287s\u001b[0m 2s/step - accuracy: 0.6998 - loss: 2.8414 - val_accuracy: 0.4816 - val_loss: 4.2067\n",
      "Epoch 52/100\n",
      "\u001b[1m101/101\u001b[0m \u001b[32m━━━━━━━━━━━━━━━━━━━━\u001b[0m\u001b[37m\u001b[0m \u001b[1m0s\u001b[0m 2s/step - accuracy: 0.7072 - loss: 2.8293\n",
      "Epoch 52: val_accuracy did not improve from 0.50000\n",
      "\u001b[1m101/101\u001b[0m \u001b[32m━━━━━━━━━━━━━━━━━━━━\u001b[0m\u001b[37m\u001b[0m \u001b[1m248s\u001b[0m 2s/step - accuracy: 0.7072 - loss: 2.8291 - val_accuracy: 0.4877 - val_loss: 3.9759\n",
      "Epoch 53/100\n",
      "\u001b[1m101/101\u001b[0m \u001b[32m━━━━━━━━━━━━━━━━━━━━\u001b[0m\u001b[37m\u001b[0m \u001b[1m0s\u001b[0m 2s/step - accuracy: 0.7041 - loss: 2.8084\n",
      "Epoch 53: val_accuracy did not improve from 0.50000\n",
      "\u001b[1m101/101\u001b[0m \u001b[32m━━━━━━━━━━━━━━━━━━━━\u001b[0m\u001b[37m\u001b[0m \u001b[1m256s\u001b[0m 3s/step - accuracy: 0.7041 - loss: 2.8083 - val_accuracy: 0.4754 - val_loss: 4.2113\n",
      "Epoch 54/100\n",
      "\u001b[1m101/101\u001b[0m \u001b[32m━━━━━━━━━━━━━━━━━━━━\u001b[0m\u001b[37m\u001b[0m \u001b[1m0s\u001b[0m 2s/step - accuracy: 0.7180 - loss: 2.7948\n",
      "Epoch 54: val_accuracy did not improve from 0.50000\n",
      "\u001b[1m101/101\u001b[0m \u001b[32m━━━━━━━━━━━━━━━━━━━━\u001b[0m\u001b[37m\u001b[0m \u001b[1m249s\u001b[0m 2s/step - accuracy: 0.7180 - loss: 2.7947 - val_accuracy: 0.4851 - val_loss: 4.1026\n",
      "Epoch 55/100\n",
      "\u001b[1m101/101\u001b[0m \u001b[32m━━━━━━━━━━━━━━━━━━━━\u001b[0m\u001b[37m\u001b[0m \u001b[1m0s\u001b[0m 3s/step - accuracy: 0.7236 - loss: 2.7616\n",
      "Epoch 55: val_accuracy improved from 0.50000 to 0.50175, saving model to /kaggle/working/cmi_best_model.weights.h5\n",
      "\u001b[1m101/101\u001b[0m \u001b[32m━━━━━━━━━━━━━━━━━━━━\u001b[0m\u001b[37m\u001b[0m \u001b[1m281s\u001b[0m 3s/step - accuracy: 0.7236 - loss: 2.7615 - val_accuracy: 0.5018 - val_loss: 4.0676\n",
      "Epoch 56/100\n",
      "\u001b[1m101/101\u001b[0m \u001b[32m━━━━━━━━━━━━━━━━━━━━\u001b[0m\u001b[37m\u001b[0m \u001b[1m0s\u001b[0m 2s/step - accuracy: 0.7197 - loss: 2.7696\n",
      "Epoch 56: val_accuracy did not improve from 0.50175\n",
      "\u001b[1m101/101\u001b[0m \u001b[32m━━━━━━━━━━━━━━━━━━━━\u001b[0m\u001b[37m\u001b[0m \u001b[1m253s\u001b[0m 3s/step - accuracy: 0.7198 - loss: 2.7695 - val_accuracy: 0.4772 - val_loss: 4.1806\n",
      "Epoch 57/100\n",
      "\u001b[1m101/101\u001b[0m \u001b[32m━━━━━━━━━━━━━━━━━━━━\u001b[0m\u001b[37m\u001b[0m \u001b[1m0s\u001b[0m 3s/step - accuracy: 0.7189 - loss: 2.7562\n",
      "Epoch 57: val_accuracy did not improve from 0.50175\n",
      "\u001b[1m101/101\u001b[0m \u001b[32m━━━━━━━━━━━━━━━━━━━━\u001b[0m\u001b[37m\u001b[0m \u001b[1m266s\u001b[0m 3s/step - accuracy: 0.7190 - loss: 2.7562 - val_accuracy: 0.4939 - val_loss: 4.0308\n",
      "Epoch 58/100\n",
      "\u001b[1m101/101\u001b[0m \u001b[32m━━━━━━━━━━━━━━━━━━━━\u001b[0m\u001b[37m\u001b[0m \u001b[1m0s\u001b[0m 3s/step - accuracy: 0.7208 - loss: 2.7513\n",
      "Epoch 58: val_accuracy did not improve from 0.50175\n",
      "\u001b[1m101/101\u001b[0m \u001b[32m━━━━━━━━━━━━━━━━━━━━\u001b[0m\u001b[37m\u001b[0m \u001b[1m258s\u001b[0m 3s/step - accuracy: 0.7209 - loss: 2.7511 - val_accuracy: 0.5018 - val_loss: 4.0651\n",
      "Epoch 59/100\n",
      "\u001b[1m101/101\u001b[0m \u001b[32m━━━━━━━━━━━━━━━━━━━━\u001b[0m\u001b[37m\u001b[0m \u001b[1m0s\u001b[0m 2s/step - accuracy: 0.7163 - loss: 2.7539\n",
      "Epoch 59: val_accuracy improved from 0.50175 to 0.50263, saving model to /kaggle/working/cmi_best_model.weights.h5\n",
      "\u001b[1m101/101\u001b[0m \u001b[32m━━━━━━━━━━━━━━━━━━━━\u001b[0m\u001b[37m\u001b[0m \u001b[1m236s\u001b[0m 2s/step - accuracy: 0.7163 - loss: 2.7536 - val_accuracy: 0.5026 - val_loss: 4.0847\n",
      "Epoch 60/100\n",
      "\u001b[1m101/101\u001b[0m \u001b[32m━━━━━━━━━━━━━━━━━━━━\u001b[0m\u001b[37m\u001b[0m \u001b[1m0s\u001b[0m 3s/step - accuracy: 0.7348 - loss: 2.7099\n",
      "Epoch 60: val_accuracy did not improve from 0.50263\n",
      "\u001b[1m101/101\u001b[0m \u001b[32m━━━━━━━━━━━━━━━━━━━━\u001b[0m\u001b[37m\u001b[0m \u001b[1m283s\u001b[0m 3s/step - accuracy: 0.7348 - loss: 2.7098 - val_accuracy: 0.4754 - val_loss: 4.1725\n",
      "Epoch 61/100\n",
      "\u001b[1m101/101\u001b[0m \u001b[32m━━━━━━━━━━━━━━━━━━━━\u001b[0m\u001b[37m\u001b[0m \u001b[1m0s\u001b[0m 2s/step - accuracy: 0.7407 - loss: 2.6860\n",
      "Epoch 61: val_accuracy did not improve from 0.50263\n",
      "\u001b[1m101/101\u001b[0m \u001b[32m━━━━━━━━━━━━━━━━━━━━\u001b[0m\u001b[37m\u001b[0m \u001b[1m247s\u001b[0m 2s/step - accuracy: 0.7407 - loss: 2.6860 - val_accuracy: 0.4851 - val_loss: 4.0671\n",
      "Epoch 62/100\n",
      "\u001b[1m101/101\u001b[0m \u001b[32m━━━━━━━━━━━━━━━━━━━━\u001b[0m\u001b[37m\u001b[0m \u001b[1m0s\u001b[0m 2s/step - accuracy: 0.7410 - loss: 2.6816\n",
      "Epoch 62: val_accuracy improved from 0.50263 to 0.50877, saving model to /kaggle/working/cmi_best_model.weights.h5\n",
      "\u001b[1m101/101\u001b[0m \u001b[32m━━━━━━━━━━━━━━━━━━━━\u001b[0m\u001b[37m\u001b[0m \u001b[1m259s\u001b[0m 3s/step - accuracy: 0.7410 - loss: 2.6817 - val_accuracy: 0.5088 - val_loss: 4.0156\n",
      "Epoch 63/100\n",
      "\u001b[1m101/101\u001b[0m \u001b[32m━━━━━━━━━━━━━━━━━━━━\u001b[0m\u001b[37m\u001b[0m \u001b[1m0s\u001b[0m 3s/step - accuracy: 0.7503 - loss: 2.6930\n",
      "Epoch 63: val_accuracy did not improve from 0.50877\n",
      "\u001b[1m101/101\u001b[0m \u001b[32m━━━━━━━━━━━━━━━━━━━━\u001b[0m\u001b[37m\u001b[0m \u001b[1m273s\u001b[0m 3s/step - accuracy: 0.7502 - loss: 2.6930 - val_accuracy: 0.4842 - val_loss: 4.0874\n",
      "Epoch 64/100\n",
      "\u001b[1m101/101\u001b[0m \u001b[32m━━━━━━━━━━━━━━━━━━━━\u001b[0m\u001b[37m\u001b[0m \u001b[1m0s\u001b[0m 2s/step - accuracy: 0.7456 - loss: 2.6854\n",
      "Epoch 64: val_accuracy did not improve from 0.50877\n",
      "\u001b[1m101/101\u001b[0m \u001b[32m━━━━━━━━━━━━━━━━━━━━\u001b[0m\u001b[37m\u001b[0m \u001b[1m251s\u001b[0m 2s/step - accuracy: 0.7456 - loss: 2.6855 - val_accuracy: 0.4807 - val_loss: 4.1893\n",
      "Epoch 65/100\n",
      "\u001b[1m101/101\u001b[0m \u001b[32m━━━━━━━━━━━━━━━━━━━━\u001b[0m\u001b[37m\u001b[0m \u001b[1m0s\u001b[0m 3s/step - accuracy: 0.7513 - loss: 2.6917\n",
      "Epoch 65: val_accuracy did not improve from 0.50877\n",
      "\u001b[1m101/101\u001b[0m \u001b[32m━━━━━━━━━━━━━━━━━━━━\u001b[0m\u001b[37m\u001b[0m \u001b[1m281s\u001b[0m 3s/step - accuracy: 0.7512 - loss: 2.6917 - val_accuracy: 0.4912 - val_loss: 4.1820\n",
      "Epoch 66/100\n",
      "\u001b[1m101/101\u001b[0m \u001b[32m━━━━━━━━━━━━━━━━━━━━\u001b[0m\u001b[37m\u001b[0m \u001b[1m0s\u001b[0m 2s/step - accuracy: 0.7480 - loss: 2.6735\n",
      "Epoch 66: val_accuracy did not improve from 0.50877\n",
      "\u001b[1m101/101\u001b[0m \u001b[32m━━━━━━━━━━━━━━━━━━━━\u001b[0m\u001b[37m\u001b[0m \u001b[1m250s\u001b[0m 2s/step - accuracy: 0.7480 - loss: 2.6734 - val_accuracy: 0.5053 - val_loss: 4.1307\n",
      "Epoch 67/100\n",
      "\u001b[1m101/101\u001b[0m \u001b[32m━━━━━━━━━━━━━━━━━━━━\u001b[0m\u001b[37m\u001b[0m \u001b[1m0s\u001b[0m 2s/step - accuracy: 0.7453 - loss: 2.6615\n",
      "Epoch 67: val_accuracy did not improve from 0.50877\n",
      "\u001b[1m101/101\u001b[0m \u001b[32m━━━━━━━━━━━━━━━━━━━━\u001b[0m\u001b[37m\u001b[0m \u001b[1m236s\u001b[0m 2s/step - accuracy: 0.7453 - loss: 2.6614 - val_accuracy: 0.5053 - val_loss: 4.0960\n",
      "Epoch 68/100\n",
      "\u001b[1m101/101\u001b[0m \u001b[32m━━━━━━━━━━━━━━━━━━━━\u001b[0m\u001b[37m\u001b[0m \u001b[1m0s\u001b[0m 3s/step - accuracy: 0.7560 - loss: 2.6586\n",
      "Epoch 68: val_accuracy did not improve from 0.50877\n",
      "\u001b[1m101/101\u001b[0m \u001b[32m━━━━━━━━━━━━━━━━━━━━\u001b[0m\u001b[37m\u001b[0m \u001b[1m277s\u001b[0m 3s/step - accuracy: 0.7560 - loss: 2.6586 - val_accuracy: 0.4974 - val_loss: 4.0439\n",
      "Epoch 69/100\n",
      "\u001b[1m101/101\u001b[0m \u001b[32m━━━━━━━━━━━━━━━━━━━━\u001b[0m\u001b[37m\u001b[0m \u001b[1m0s\u001b[0m 2s/step - accuracy: 0.7651 - loss: 2.6429\n",
      "Epoch 69: val_accuracy did not improve from 0.50877\n",
      "\u001b[1m101/101\u001b[0m \u001b[32m━━━━━━━━━━━━━━━━━━━━\u001b[0m\u001b[37m\u001b[0m \u001b[1m246s\u001b[0m 2s/step - accuracy: 0.7650 - loss: 2.6428 - val_accuracy: 0.5018 - val_loss: 4.0705\n",
      "Epoch 70/100\n",
      "\u001b[1m101/101\u001b[0m \u001b[32m━━━━━━━━━━━━━━━━━━━━\u001b[0m\u001b[37m\u001b[0m \u001b[1m0s\u001b[0m 3s/step - accuracy: 0.7587 - loss: 2.6166\n",
      "Epoch 70: val_accuracy did not improve from 0.50877\n",
      "\u001b[1m101/101\u001b[0m \u001b[32m━━━━━━━━━━━━━━━━━━━━\u001b[0m\u001b[37m\u001b[0m \u001b[1m279s\u001b[0m 3s/step - accuracy: 0.7587 - loss: 2.6166 - val_accuracy: 0.5053 - val_loss: 4.0830\n",
      "Epoch 71/100\n",
      "\u001b[1m101/101\u001b[0m \u001b[32m━━━━━━━━━━━━━━━━━━━━\u001b[0m\u001b[37m\u001b[0m \u001b[1m0s\u001b[0m 2s/step - accuracy: 0.7677 - loss: 2.6344\n",
      "Epoch 71: val_accuracy improved from 0.50877 to 0.50965, saving model to /kaggle/working/cmi_best_model.weights.h5\n",
      "\u001b[1m101/101\u001b[0m \u001b[32m━━━━━━━━━━━━━━━━━━━━\u001b[0m\u001b[37m\u001b[0m \u001b[1m247s\u001b[0m 2s/step - accuracy: 0.7677 - loss: 2.6341 - val_accuracy: 0.5096 - val_loss: 4.1373\n",
      "Epoch 72/100\n",
      "\u001b[1m101/101\u001b[0m \u001b[32m━━━━━━━━━━━━━━━━━━━━\u001b[0m\u001b[37m\u001b[0m \u001b[1m0s\u001b[0m 3s/step - accuracy: 0.7826 - loss: 2.5826\n",
      "Epoch 72: val_accuracy did not improve from 0.50965\n",
      "\u001b[1m101/101\u001b[0m \u001b[32m━━━━━━━━━━━━━━━━━━━━\u001b[0m\u001b[37m\u001b[0m \u001b[1m255s\u001b[0m 3s/step - accuracy: 0.7825 - loss: 2.5827 - val_accuracy: 0.5079 - val_loss: 4.1037\n",
      "Epoch 73/100\n",
      "\u001b[1m101/101\u001b[0m \u001b[32m━━━━━━━━━━━━━━━━━━━━\u001b[0m\u001b[37m\u001b[0m \u001b[1m0s\u001b[0m 3s/step - accuracy: 0.7706 - loss: 2.5953\n",
      "Epoch 73: val_accuracy did not improve from 0.50965\n",
      "\u001b[1m101/101\u001b[0m \u001b[32m━━━━━━━━━━━━━━━━━━━━\u001b[0m\u001b[37m\u001b[0m \u001b[1m278s\u001b[0m 3s/step - accuracy: 0.7706 - loss: 2.5952 - val_accuracy: 0.4912 - val_loss: 4.0044\n",
      "Epoch 74/100\n",
      "\u001b[1m101/101\u001b[0m \u001b[32m━━━━━━━━━━━━━━━━━━━━\u001b[0m\u001b[37m\u001b[0m \u001b[1m0s\u001b[0m 2s/step - accuracy: 0.7759 - loss: 2.5818\n",
      "Epoch 74: val_accuracy did not improve from 0.50965\n",
      "\u001b[1m101/101\u001b[0m \u001b[32m━━━━━━━━━━━━━━━━━━━━\u001b[0m\u001b[37m\u001b[0m \u001b[1m246s\u001b[0m 2s/step - accuracy: 0.7758 - loss: 2.5817 - val_accuracy: 0.5061 - val_loss: 4.1577\n",
      "Epoch 75/100\n",
      "\u001b[1m101/101\u001b[0m \u001b[32m━━━━━━━━━━━━━━━━━━━━\u001b[0m\u001b[37m\u001b[0m \u001b[1m0s\u001b[0m 3s/step - accuracy: 0.7727 - loss: 2.6000\n",
      "Epoch 75: val_accuracy did not improve from 0.50965\n",
      "\u001b[1m101/101\u001b[0m \u001b[32m━━━━━━━━━━━━━━━━━━━━\u001b[0m\u001b[37m\u001b[0m \u001b[1m288s\u001b[0m 3s/step - accuracy: 0.7727 - loss: 2.5999 - val_accuracy: 0.4833 - val_loss: 4.1765\n",
      "Epoch 76/100\n",
      "\u001b[1m101/101\u001b[0m \u001b[32m━━━━━━━━━━━━━━━━━━━━\u001b[0m\u001b[37m\u001b[0m \u001b[1m0s\u001b[0m 2s/step - accuracy: 0.7650 - loss: 2.6277\n",
      "Epoch 76: val_accuracy improved from 0.50965 to 0.51316, saving model to /kaggle/working/cmi_best_model.weights.h5\n",
      "\u001b[1m101/101\u001b[0m \u001b[32m━━━━━━━━━━━━━━━━━━━━\u001b[0m\u001b[37m\u001b[0m \u001b[1m254s\u001b[0m 3s/step - accuracy: 0.7651 - loss: 2.6275 - val_accuracy: 0.5132 - val_loss: 4.0460\n",
      "Epoch 77/100\n",
      "\u001b[1m101/101\u001b[0m \u001b[32m━━━━━━━━━━━━━━━━━━━━\u001b[0m\u001b[37m\u001b[0m \u001b[1m0s\u001b[0m 3s/step - accuracy: 0.7804 - loss: 2.5815\n",
      "Epoch 77: val_accuracy did not improve from 0.51316\n",
      "\u001b[1m101/101\u001b[0m \u001b[32m━━━━━━━━━━━━━━━━━━━━\u001b[0m\u001b[37m\u001b[0m \u001b[1m275s\u001b[0m 3s/step - accuracy: 0.7804 - loss: 2.5814 - val_accuracy: 0.4947 - val_loss: 4.1196\n",
      "Epoch 78/100\n",
      "\u001b[1m101/101\u001b[0m \u001b[32m━━━━━━━━━━━━━━━━━━━━\u001b[0m\u001b[37m\u001b[0m \u001b[1m0s\u001b[0m 3s/step - accuracy: 0.7783 - loss: 2.5669\n",
      "Epoch 78: val_accuracy did not improve from 0.51316\n",
      "\u001b[1m101/101\u001b[0m \u001b[32m━━━━━━━━━━━━━━━━━━━━\u001b[0m\u001b[37m\u001b[0m \u001b[1m260s\u001b[0m 3s/step - accuracy: 0.7783 - loss: 2.5670 - val_accuracy: 0.4895 - val_loss: 4.2620\n",
      "Epoch 79/100\n",
      "\u001b[1m101/101\u001b[0m \u001b[32m━━━━━━━━━━━━━━━━━━━━\u001b[0m\u001b[37m\u001b[0m \u001b[1m0s\u001b[0m 2s/step - accuracy: 0.7740 - loss: 2.5997\n",
      "Epoch 79: val_accuracy did not improve from 0.51316\n",
      "\u001b[1m101/101\u001b[0m \u001b[32m━━━━━━━━━━━━━━━━━━━━\u001b[0m\u001b[37m\u001b[0m \u001b[1m247s\u001b[0m 2s/step - accuracy: 0.7740 - loss: 2.5996 - val_accuracy: 0.4974 - val_loss: 4.0828\n",
      "Epoch 80/100\n",
      "\u001b[1m101/101\u001b[0m \u001b[32m━━━━━━━━━━━━━━━━━━━━\u001b[0m\u001b[37m\u001b[0m \u001b[1m0s\u001b[0m 3s/step - accuracy: 0.7833 - loss: 2.5532\n",
      "Epoch 80: val_accuracy did not improve from 0.51316\n",
      "\u001b[1m101/101\u001b[0m \u001b[32m━━━━━━━━━━━━━━━━━━━━\u001b[0m\u001b[37m\u001b[0m \u001b[1m285s\u001b[0m 3s/step - accuracy: 0.7833 - loss: 2.5531 - val_accuracy: 0.5105 - val_loss: 4.0931\n",
      "Epoch 81/100\n",
      "\u001b[1m101/101\u001b[0m \u001b[32m━━━━━━━━━━━━━━━━━━━━\u001b[0m\u001b[37m\u001b[0m \u001b[1m0s\u001b[0m 2s/step - accuracy: 0.7987 - loss: 2.5581\n",
      "Epoch 81: val_accuracy did not improve from 0.51316\n",
      "\u001b[1m101/101\u001b[0m \u001b[32m━━━━━━━━━━━━━━━━━━━━\u001b[0m\u001b[37m\u001b[0m \u001b[1m250s\u001b[0m 2s/step - accuracy: 0.7986 - loss: 2.5581 - val_accuracy: 0.5044 - val_loss: 4.0767\n",
      "Epoch 82/100\n",
      "\u001b[1m101/101\u001b[0m \u001b[32m━━━━━━━━━━━━━━━━━━━━\u001b[0m\u001b[37m\u001b[0m \u001b[1m0s\u001b[0m 3s/step - accuracy: 0.7996 - loss: 2.5341\n",
      "Epoch 82: val_accuracy did not improve from 0.51316\n",
      "\u001b[1m101/101\u001b[0m \u001b[32m━━━━━━━━━━━━━━━━━━━━\u001b[0m\u001b[37m\u001b[0m \u001b[1m277s\u001b[0m 3s/step - accuracy: 0.7995 - loss: 2.5342 - val_accuracy: 0.5009 - val_loss: 4.1545\n",
      "Epoch 83/100\n",
      "\u001b[1m101/101\u001b[0m \u001b[32m━━━━━━━━━━━━━━━━━━━━\u001b[0m\u001b[37m\u001b[0m \u001b[1m0s\u001b[0m 2s/step - accuracy: 0.7798 - loss: 2.5741\n",
      "Epoch 83: val_accuracy did not improve from 0.51316\n",
      "\u001b[1m101/101\u001b[0m \u001b[32m━━━━━━━━━━━━━━━━━━━━\u001b[0m\u001b[37m\u001b[0m \u001b[1m256s\u001b[0m 3s/step - accuracy: 0.7799 - loss: 2.5738 - val_accuracy: 0.5026 - val_loss: 4.1161\n",
      "Epoch 84/100\n",
      "\u001b[1m101/101\u001b[0m \u001b[32m━━━━━━━━━━━━━━━━━━━━\u001b[0m\u001b[37m\u001b[0m \u001b[1m0s\u001b[0m 2s/step - accuracy: 0.8013 - loss: 2.5199\n",
      "Epoch 84: val_accuracy did not improve from 0.51316\n",
      "\u001b[1m101/101\u001b[0m \u001b[32m━━━━━━━━━━━━━━━━━━━━\u001b[0m\u001b[37m\u001b[0m \u001b[1m250s\u001b[0m 2s/step - accuracy: 0.8012 - loss: 2.5200 - val_accuracy: 0.4965 - val_loss: 4.2163\n",
      "Epoch 85/100\n",
      "\u001b[1m101/101\u001b[0m \u001b[32m━━━━━━━━━━━━━━━━━━━━\u001b[0m\u001b[37m\u001b[0m \u001b[1m0s\u001b[0m 3s/step - accuracy: 0.7938 - loss: 2.5282\n",
      "Epoch 85: val_accuracy improved from 0.51316 to 0.52105, saving model to /kaggle/working/cmi_best_model.weights.h5\n",
      "\u001b[1m101/101\u001b[0m \u001b[32m━━━━━━━━━━━━━━━━━━━━\u001b[0m\u001b[37m\u001b[0m \u001b[1m282s\u001b[0m 3s/step - accuracy: 0.7938 - loss: 2.5283 - val_accuracy: 0.5211 - val_loss: 4.0844\n",
      "Epoch 86/100\n",
      "\u001b[1m101/101\u001b[0m \u001b[32m━━━━━━━━━━━━━━━━━━━━\u001b[0m\u001b[37m\u001b[0m \u001b[1m0s\u001b[0m 2s/step - accuracy: 0.7916 - loss: 2.5210\n",
      "Epoch 86: val_accuracy did not improve from 0.52105\n",
      "\u001b[1m101/101\u001b[0m \u001b[32m━━━━━━━━━━━━━━━━━━━━\u001b[0m\u001b[37m\u001b[0m \u001b[1m246s\u001b[0m 2s/step - accuracy: 0.7916 - loss: 2.5210 - val_accuracy: 0.4965 - val_loss: 4.2241\n",
      "Epoch 87/100\n",
      "\u001b[1m101/101\u001b[0m \u001b[32m━━━━━━━━━━━━━━━━━━━━\u001b[0m\u001b[37m\u001b[0m \u001b[1m0s\u001b[0m 3s/step - accuracy: 0.7979 - loss: 2.5356\n",
      "Epoch 87: val_accuracy did not improve from 0.52105\n",
      "\u001b[1m101/101\u001b[0m \u001b[32m━━━━━━━━━━━━━━━━━━━━\u001b[0m\u001b[37m\u001b[0m \u001b[1m278s\u001b[0m 3s/step - accuracy: 0.7979 - loss: 2.5356 - val_accuracy: 0.4877 - val_loss: 4.1650\n",
      "Epoch 88/100\n",
      "\u001b[1m101/101\u001b[0m \u001b[32m━━━━━━━━━━━━━━━━━━━━\u001b[0m\u001b[37m\u001b[0m \u001b[1m0s\u001b[0m 2s/step - accuracy: 0.8067 - loss: 2.5086\n",
      "Epoch 88: val_accuracy did not improve from 0.52105\n",
      "\u001b[1m101/101\u001b[0m \u001b[32m━━━━━━━━━━━━━━━━━━━━\u001b[0m\u001b[37m\u001b[0m \u001b[1m253s\u001b[0m 3s/step - accuracy: 0.8067 - loss: 2.5086 - val_accuracy: 0.4798 - val_loss: 4.2488\n",
      "Epoch 89/100\n",
      "\u001b[1m101/101\u001b[0m \u001b[32m━━━━━━━━━━━━━━━━━━━━\u001b[0m\u001b[37m\u001b[0m \u001b[1m0s\u001b[0m 2s/step - accuracy: 0.8025 - loss: 2.5297\n",
      "Epoch 89: val_accuracy did not improve from 0.52105\n",
      "\u001b[1m101/101\u001b[0m \u001b[32m━━━━━━━━━━━━━━━━━━━━\u001b[0m\u001b[37m\u001b[0m \u001b[1m247s\u001b[0m 2s/step - accuracy: 0.8025 - loss: 2.5296 - val_accuracy: 0.5105 - val_loss: 4.1357\n",
      "Epoch 90/100\n",
      "\u001b[1m101/101\u001b[0m \u001b[32m━━━━━━━━━━━━━━━━━━━━\u001b[0m\u001b[37m\u001b[0m \u001b[1m0s\u001b[0m 3s/step - accuracy: 0.8048 - loss: 2.5203\n",
      "Epoch 90: val_accuracy did not improve from 0.52105\n",
      "\u001b[1m101/101\u001b[0m \u001b[32m━━━━━━━━━━━━━━━━━━━━\u001b[0m\u001b[37m\u001b[0m \u001b[1m282s\u001b[0m 3s/step - accuracy: 0.8048 - loss: 2.5201 - val_accuracy: 0.4895 - val_loss: 4.1847\n",
      "Epoch 91/100\n",
      "\u001b[1m101/101\u001b[0m \u001b[32m━━━━━━━━━━━━━━━━━━━━\u001b[0m\u001b[37m\u001b[0m \u001b[1m0s\u001b[0m 2s/step - accuracy: 0.8068 - loss: 2.5152\n",
      "Epoch 91: val_accuracy did not improve from 0.52105\n",
      "\u001b[1m101/101\u001b[0m \u001b[32m━━━━━━━━━━━━━━━━━━━━\u001b[0m\u001b[37m\u001b[0m \u001b[1m252s\u001b[0m 2s/step - accuracy: 0.8068 - loss: 2.5151 - val_accuracy: 0.4895 - val_loss: 4.3279\n",
      "Epoch 92/100\n",
      "\u001b[1m101/101\u001b[0m \u001b[32m━━━━━━━━━━━━━━━━━━━━\u001b[0m\u001b[37m\u001b[0m \u001b[1m0s\u001b[0m 3s/step - accuracy: 0.8007 - loss: 2.5082\n",
      "Epoch 92: val_accuracy did not improve from 0.52105\n",
      "\u001b[1m101/101\u001b[0m \u001b[32m━━━━━━━━━━━━━━━━━━━━\u001b[0m\u001b[37m\u001b[0m \u001b[1m295s\u001b[0m 3s/step - accuracy: 0.8007 - loss: 2.5081 - val_accuracy: 0.5079 - val_loss: 4.0959\n",
      "Epoch 93/100\n",
      "\u001b[1m101/101\u001b[0m \u001b[32m━━━━━━━━━━━━━━━━━━━━\u001b[0m\u001b[37m\u001b[0m \u001b[1m0s\u001b[0m 2s/step - accuracy: 0.8085 - loss: 2.4845\n",
      "Epoch 93: val_accuracy did not improve from 0.52105\n",
      "\u001b[1m101/101\u001b[0m \u001b[32m━━━━━━━━━━━━━━━━━━━━\u001b[0m\u001b[37m\u001b[0m \u001b[1m250s\u001b[0m 2s/step - accuracy: 0.8084 - loss: 2.4847 - val_accuracy: 0.5061 - val_loss: 4.1646\n",
      "Epoch 94/100\n",
      "\u001b[1m101/101\u001b[0m \u001b[32m━━━━━━━━━━━━━━━━━━━━\u001b[0m\u001b[37m\u001b[0m \u001b[1m0s\u001b[0m 2s/step - accuracy: 0.7996 - loss: 2.5192\n",
      "Epoch 94: val_accuracy did not improve from 0.52105\n",
      "\u001b[1m101/101\u001b[0m \u001b[32m━━━━━━━━━━━━━━━━━━━━\u001b[0m\u001b[37m\u001b[0m \u001b[1m252s\u001b[0m 2s/step - accuracy: 0.7995 - loss: 2.5191 - val_accuracy: 0.5096 - val_loss: 4.1137\n",
      "Epoch 95/100\n",
      "\u001b[1m101/101\u001b[0m \u001b[32m━━━━━━━━━━━━━━━━━━━━\u001b[0m\u001b[37m\u001b[0m \u001b[1m0s\u001b[0m 3s/step - accuracy: 0.8087 - loss: 2.4712\n",
      "Epoch 95: val_accuracy did not improve from 0.52105\n",
      "\u001b[1m101/101\u001b[0m \u001b[32m━━━━━━━━━━━━━━━━━━━━\u001b[0m\u001b[37m\u001b[0m \u001b[1m287s\u001b[0m 3s/step - accuracy: 0.8087 - loss: 2.4712 - val_accuracy: 0.4904 - val_loss: 4.2335\n",
      "Epoch 96/100\n",
      "\u001b[1m101/101\u001b[0m \u001b[32m━━━━━━━━━━━━━━━━━━━━\u001b[0m\u001b[37m\u001b[0m \u001b[1m0s\u001b[0m 2s/step - accuracy: 0.8214 - loss: 2.4358\n",
      "Epoch 96: val_accuracy did not improve from 0.52105\n",
      "\u001b[1m101/101\u001b[0m \u001b[32m━━━━━━━━━━━━━━━━━━━━\u001b[0m\u001b[37m\u001b[0m \u001b[1m255s\u001b[0m 3s/step - accuracy: 0.8213 - loss: 2.4361 - val_accuracy: 0.5105 - val_loss: 4.1248\n",
      "Epoch 97/100\n",
      "\u001b[1m101/101\u001b[0m \u001b[32m━━━━━━━━━━━━━━━━━━━━\u001b[0m\u001b[37m\u001b[0m \u001b[1m0s\u001b[0m 3s/step - accuracy: 0.8172 - loss: 2.4707\n",
      "Epoch 97: val_accuracy did not improve from 0.52105\n",
      "\u001b[1m101/101\u001b[0m \u001b[32m━━━━━━━━━━━━━━━━━━━━\u001b[0m\u001b[37m\u001b[0m \u001b[1m290s\u001b[0m 3s/step - accuracy: 0.8172 - loss: 2.4707 - val_accuracy: 0.4921 - val_loss: 4.2390\n",
      "Epoch 98/100\n",
      "\u001b[1m101/101\u001b[0m \u001b[32m━━━━━━━━━━━━━━━━━━━━\u001b[0m\u001b[37m\u001b[0m \u001b[1m0s\u001b[0m 3s/step - accuracy: 0.8128 - loss: 2.4819\n",
      "Epoch 98: val_accuracy did not improve from 0.52105\n",
      "\u001b[1m101/101\u001b[0m \u001b[32m━━━━━━━━━━━━━━━━━━━━\u001b[0m\u001b[37m\u001b[0m \u001b[1m261s\u001b[0m 3s/step - accuracy: 0.8128 - loss: 2.4817 - val_accuracy: 0.5105 - val_loss: 4.0993\n",
      "Epoch 99/100\n",
      "\u001b[1m101/101\u001b[0m \u001b[32m━━━━━━━━━━━━━━━━━━━━\u001b[0m\u001b[37m\u001b[0m \u001b[1m0s\u001b[0m 3s/step - accuracy: 0.8177 - loss: 2.4554\n",
      "Epoch 99: val_accuracy did not improve from 0.52105\n",
      "\u001b[1m101/101\u001b[0m \u001b[32m━━━━━━━━━━━━━━━━━━━━\u001b[0m\u001b[37m\u001b[0m \u001b[1m260s\u001b[0m 3s/step - accuracy: 0.8176 - loss: 2.4555 - val_accuracy: 0.5000 - val_loss: 4.2419\n",
      "Epoch 100/100\n",
      "\u001b[1m101/101\u001b[0m \u001b[32m━━━━━━━━━━━━━━━━━━━━\u001b[0m\u001b[37m\u001b[0m \u001b[1m0s\u001b[0m 3s/step - accuracy: 0.8203 - loss: 2.4720\n",
      "Epoch 100: val_accuracy did not improve from 0.52105\n",
      "\u001b[1m101/101\u001b[0m \u001b[32m━━━━━━━━━━━━━━━━━━━━\u001b[0m\u001b[37m\u001b[0m \u001b[1m298s\u001b[0m 3s/step - accuracy: 0.8203 - loss: 2.4720 - val_accuracy: 0.5175 - val_loss: 4.1170\n"
     ]
    }
   ],
   "source": [
    "from tensorflow.keras.callbacks import ModelCheckpoint, LearningRateScheduler\n",
    "checkpoint_filepath = \"/kaggle/working/cmi_best_model.weights.h5\"\n",
    "checkpoint_callback = ModelCheckpoint(\n",
    "    filepath=checkpoint_filepath,\n",
    "    monitor=\"val_accuracy\",\n",
    "    save_best_only=True,\n",
    "    save_weights_only=True,\n",
    "    mode=\"max\",\n",
    "    verbose=1\n",
    ")\n",
    "\n",
    "lr_callback = LearningRateScheduler(scheduler, verbose=0)\n",
    "\n",
    "history = model.fit(gesture_train_ds, epochs=100, \n",
    "                    validation_data=gesture_valid_ds,\n",
    "                    callbacks=[checkpoint_callback])\n",
    "model.load_weights(checkpoint_filepath)"
   ]
  },
  {
   "cell_type": "code",
   "execution_count": 14,
   "id": "be2aaa84",
   "metadata": {
    "execution": {
     "iopub.execute_input": "2025-08-06T06:49:27.591573Z",
     "iopub.status.busy": "2025-08-06T06:49:27.591067Z",
     "iopub.status.idle": "2025-08-06T06:49:27.606129Z",
     "shell.execute_reply": "2025-08-06T06:49:27.605146Z"
    },
    "papermill": {
     "duration": 0.502425,
     "end_time": "2025-08-06T06:49:27.607798",
     "exception": false,
     "start_time": "2025-08-06T06:49:27.105373",
     "status": "completed"
    },
    "tags": []
   },
   "outputs": [],
   "source": [
    "import json\n",
    "\n",
    "with open('/kaggle/input/cmi-tf-datasets/mapping.json') as f:\n",
    "    mapping_dict = json.load(f)\n",
    "\n",
    "gesture_mapping = mapping_dict[\"gesture_mapping\"]\n",
    "inv_gesture_mapping = {value: key for key, value in gesture_mapping.items()}\n",
    "\n",
    "num2gesture = np.vectorize(lambda x: inv_gesture_mapping[x])"
   ]
  },
  {
   "cell_type": "code",
   "execution_count": 15,
   "id": "dab15465",
   "metadata": {
    "execution": {
     "iopub.execute_input": "2025-08-06T06:49:28.585398Z",
     "iopub.status.busy": "2025-08-06T06:49:28.584584Z",
     "iopub.status.idle": "2025-08-06T06:49:28.592208Z",
     "shell.execute_reply": "2025-08-06T06:49:28.591215Z"
    },
    "papermill": {
     "duration": 0.497694,
     "end_time": "2025-08-06T06:49:28.593829",
     "exception": false,
     "start_time": "2025-08-06T06:49:28.096135",
     "status": "completed"
    },
    "tags": []
   },
   "outputs": [],
   "source": [
    "non_target_gestures = [\"Drink from bottle/cup\", \"Glasses on/off\", \"Pull air toward your face\",\n",
    "                       \"Pinch knee/leg skin\", \"Scratch knee/leg skin\", \"Write name on leg\",\n",
    "                       \"Text on phone\", \"Feel around in tray and pull out an object\",\n",
    "                       \"Write name in air\", \"Wave hello\"]\n",
    "\n",
    "def map_non_target(y_ind):\n",
    "    y_pred = inv_gesture_mapping[y_ind]\n",
    "    if y_ind == 3:\n",
    "        y_ind = 2\n",
    "    elif y_ind == 4:\n",
    "        y_ind = 3\n",
    "    elif y_ind == 6:\n",
    "        y_ind = 4\n",
    "    elif y_ind == 7:\n",
    "        y_ind = 5\n",
    "    elif y_ind == 9:\n",
    "        y_ind = 6\n",
    "    elif y_ind == 10:\n",
    "        y_ind = 7\n",
    "    if y_pred in non_target_gestures:\n",
    "        y_ind = 8\n",
    "    return y_ind\n",
    "\n",
    "vectorize_map_non_target = np.vectorize(map_non_target)"
   ]
  },
  {
   "cell_type": "code",
   "execution_count": 16,
   "id": "4393cc54",
   "metadata": {
    "execution": {
     "iopub.execute_input": "2025-08-06T06:49:29.688931Z",
     "iopub.status.busy": "2025-08-06T06:49:29.688609Z",
     "iopub.status.idle": "2025-08-06T06:50:33.995317Z",
     "shell.execute_reply": "2025-08-06T06:50:33.994130Z"
    },
    "papermill": {
     "duration": 64.793865,
     "end_time": "2025-08-06T06:50:33.997985",
     "exception": false,
     "start_time": "2025-08-06T06:49:29.204120",
     "status": "completed"
    },
    "tags": []
   },
   "outputs": [],
   "source": [
    "conf_tensor = np.zeros((9, 9), dtype=np.int32)\n",
    "for i, (inputs, labels) in enumerate(gesture_valid_ds):\n",
    "    labels_pred = model.predict(inputs, verbose=0)\n",
    "    labels_pred = tf.argmax(labels_pred, axis=-1).numpy()\n",
    "    labels_pred = vectorize_map_non_target(labels_pred)\n",
    "    labels_true = tf.argmax(labels, axis=-1).numpy()\n",
    "    labels_true = vectorize_map_non_target(labels_true)\n",
    "    conf_tensor += tf.math.confusion_matrix(labels_true, labels_pred, num_classes=9)"
   ]
  },
  {
   "cell_type": "code",
   "execution_count": 17,
   "id": "322a9f05",
   "metadata": {
    "execution": {
     "iopub.execute_input": "2025-08-06T06:50:34.969104Z",
     "iopub.status.busy": "2025-08-06T06:50:34.968791Z",
     "iopub.status.idle": "2025-08-06T06:50:35.013566Z",
     "shell.execute_reply": "2025-08-06T06:50:35.012574Z"
    },
    "papermill": {
     "duration": 0.521126,
     "end_time": "2025-08-06T06:50:35.015241",
     "exception": false,
     "start_time": "2025-08-06T06:50:34.494115",
     "status": "completed"
    },
    "tags": []
   },
   "outputs": [
    {
     "name": "stdout",
     "output_type": "stream",
     "text": [
      "F1 score mean: 0.468\n"
     ]
    }
   ],
   "source": [
    "precisions = []\n",
    "recalls = []\n",
    "f1s = []\n",
    "\n",
    "for i in range(9):\n",
    "    column = conf_tensor[i, :]\n",
    "    row = conf_tensor[:, i]\n",
    "    precision = column[i] / tf.math.reduce_sum(column)\n",
    "    recall = row[i] / tf.math.reduce_sum(row)\n",
    "    inv_f1 = (1/precision + 1/recall)/2\n",
    "    f1 = 1/inv_f1\n",
    "    precisions.append(precision)\n",
    "    recalls.append(recall)\n",
    "    f1s.append(f1)\n",
    "print(f\"F1 score mean: {np.round(np.mean(f1s), 3)}\")"
   ]
  },
  {
   "cell_type": "code",
   "execution_count": 18,
   "id": "89b897da",
   "metadata": {
    "execution": {
     "iopub.execute_input": "2025-08-06T06:50:36.006863Z",
     "iopub.status.busy": "2025-08-06T06:50:36.006326Z",
     "iopub.status.idle": "2025-08-06T06:50:36.011270Z",
     "shell.execute_reply": "2025-08-06T06:50:36.010379Z"
    },
    "papermill": {
     "duration": 0.519628,
     "end_time": "2025-08-06T06:50:36.012931",
     "exception": false,
     "start_time": "2025-08-06T06:50:35.493303",
     "status": "completed"
    },
    "tags": []
   },
   "outputs": [],
   "source": [
    "# import os\n",
    "# save_path = os.path.join(\"/kaggle/working/\", \"cmi_model.weights.h5\")\n",
    "# model.save_weights(save_path)"
   ]
  },
  {
   "cell_type": "code",
   "execution_count": 19,
   "id": "0b599bfa",
   "metadata": {
    "execution": {
     "iopub.execute_input": "2025-08-06T06:50:37.094362Z",
     "iopub.status.busy": "2025-08-06T06:50:37.093605Z",
     "iopub.status.idle": "2025-08-06T06:50:37.540574Z",
     "shell.execute_reply": "2025-08-06T06:50:37.539323Z"
    },
    "papermill": {
     "duration": 0.934505,
     "end_time": "2025-08-06T06:50:37.542251",
     "exception": false,
     "start_time": "2025-08-06T06:50:36.607746",
     "status": "completed"
    },
    "tags": []
   },
   "outputs": [
    {
     "data": {
      "text/html": [
       "<pre style=\"white-space:pre;overflow-x:auto;line-height:normal;font-family:Menlo,'DejaVu Sans Mono',consolas,'Courier New',monospace\"><span style=\"font-weight: bold\">Model: \"rnn_model_1\"</span>\n",
       "</pre>\n"
      ],
      "text/plain": [
       "\u001b[1mModel: \"rnn_model_1\"\u001b[0m\n"
      ]
     },
     "metadata": {},
     "output_type": "display_data"
    },
    {
     "data": {
      "text/html": [
       "<pre style=\"white-space:pre;overflow-x:auto;line-height:normal;font-family:Menlo,'DejaVu Sans Mono',consolas,'Courier New',monospace\">┏━━━━━━━━━━━━━━━━━━━━━━━━━━━━━━━━━┳━━━━━━━━━━━━━━━━━━━━━━━━┳━━━━━━━━━━━━━━━┓\n",
       "┃<span style=\"font-weight: bold\"> Layer (type)                    </span>┃<span style=\"font-weight: bold\"> Output Shape           </span>┃<span style=\"font-weight: bold\">       Param # </span>┃\n",
       "┡━━━━━━━━━━━━━━━━━━━━━━━━━━━━━━━━━╇━━━━━━━━━━━━━━━━━━━━━━━━╇━━━━━━━━━━━━━━━┩\n",
       "│ conv2d_net_0 (<span style=\"color: #0087ff; text-decoration-color: #0087ff\">Sequential</span>)       │ (<span style=\"color: #00d7ff; text-decoration-color: #00d7ff\">None</span>, <span style=\"color: #00af00; text-decoration-color: #00af00\">100</span>, <span style=\"color: #00af00; text-decoration-color: #00af00\">4</span>, <span style=\"color: #00af00; text-decoration-color: #00af00\">4</span>, <span style=\"color: #00af00; text-decoration-color: #00af00\">8</span>)   │           <span style=\"color: #00af00; text-decoration-color: #00af00\">400</span> │\n",
       "├─────────────────────────────────┼────────────────────────┼───────────────┤\n",
       "│ conv2d_net_1 (<span style=\"color: #0087ff; text-decoration-color: #0087ff\">Sequential</span>)       │ (<span style=\"color: #00d7ff; text-decoration-color: #00d7ff\">None</span>, <span style=\"color: #00af00; text-decoration-color: #00af00\">100</span>, <span style=\"color: #00af00; text-decoration-color: #00af00\">2</span>, <span style=\"color: #00af00; text-decoration-color: #00af00\">2</span>, <span style=\"color: #00af00; text-decoration-color: #00af00\">16</span>)  │         <span style=\"color: #00af00; text-decoration-color: #00af00\">1,232</span> │\n",
       "├─────────────────────────────────┼────────────────────────┼───────────────┤\n",
       "│ global_maxpool2d                │ (<span style=\"color: #00d7ff; text-decoration-color: #00d7ff\">None</span>, <span style=\"color: #00af00; text-decoration-color: #00af00\">100</span>, <span style=\"color: #00af00; text-decoration-color: #00af00\">16</span>)        │             <span style=\"color: #00af00; text-decoration-color: #00af00\">0</span> │\n",
       "│ (<span style=\"color: #0087ff; text-decoration-color: #0087ff\">TimeDistributed</span>)               │                        │               │\n",
       "├─────────────────────────────────┼────────────────────────┼───────────────┤\n",
       "│ masking_1 (<span style=\"color: #0087ff; text-decoration-color: #0087ff\">Masking</span>)             │ (<span style=\"color: #00d7ff; text-decoration-color: #00d7ff\">None</span>, <span style=\"color: #00af00; text-decoration-color: #00af00\">100</span>, <span style=\"color: #00af00; text-decoration-color: #00af00\">35</span>)        │             <span style=\"color: #00af00; text-decoration-color: #00af00\">0</span> │\n",
       "├─────────────────────────────────┼────────────────────────┼───────────────┤\n",
       "│ conv1d_net_0 (<span style=\"color: #0087ff; text-decoration-color: #0087ff\">Sequential</span>)       │ (<span style=\"color: #00d7ff; text-decoration-color: #00d7ff\">None</span>, <span style=\"color: #00af00; text-decoration-color: #00af00\">50</span>, <span style=\"color: #00af00; text-decoration-color: #00af00\">32</span>)         │         <span style=\"color: #00af00; text-decoration-color: #00af00\">3,488</span> │\n",
       "├─────────────────────────────────┼────────────────────────┼───────────────┤\n",
       "│ conv1d_net_1 (<span style=\"color: #0087ff; text-decoration-color: #0087ff\">Sequential</span>)       │ (<span style=\"color: #00d7ff; text-decoration-color: #00d7ff\">None</span>, <span style=\"color: #00af00; text-decoration-color: #00af00\">25</span>, <span style=\"color: #00af00; text-decoration-color: #00af00\">64</span>)         │         <span style=\"color: #00af00; text-decoration-color: #00af00\">6,400</span> │\n",
       "├─────────────────────────────────┼────────────────────────┼───────────────┤\n",
       "│ skip_connection_dense_bidirect… │ (<span style=\"color: #00d7ff; text-decoration-color: #00d7ff\">None</span>, <span style=\"color: #00af00; text-decoration-color: #00af00\">25</span>, <span style=\"color: #00af00; text-decoration-color: #00af00\">128</span>)        │         <span style=\"color: #00af00; text-decoration-color: #00af00\">8,320</span> │\n",
       "│ (<span style=\"color: #0087ff; text-decoration-color: #0087ff\">Dense</span>)                         │                        │               │\n",
       "├─────────────────────────────────┼────────────────────────┼───────────────┤\n",
       "│ GRU_0 (<span style=\"color: #0087ff; text-decoration-color: #0087ff\">Bidirectional</span>)           │ (<span style=\"color: #00d7ff; text-decoration-color: #00d7ff\">None</span>, <span style=\"color: #00af00; text-decoration-color: #00af00\">25</span>, <span style=\"color: #00af00; text-decoration-color: #00af00\">128</span>)        │        <span style=\"color: #00af00; text-decoration-color: #00af00\">49,920</span> │\n",
       "├─────────────────────────────────┼────────────────────────┼───────────────┤\n",
       "│ GRU_1 (<span style=\"color: #0087ff; text-decoration-color: #0087ff\">Bidirectional</span>)           │ (<span style=\"color: #00d7ff; text-decoration-color: #00d7ff\">None</span>, <span style=\"color: #00af00; text-decoration-color: #00af00\">25</span>, <span style=\"color: #00af00; text-decoration-color: #00af00\">128</span>)        │        <span style=\"color: #00af00; text-decoration-color: #00af00\">74,496</span> │\n",
       "├─────────────────────────────────┼────────────────────────┼───────────────┤\n",
       "│ GRU_2 (<span style=\"color: #0087ff; text-decoration-color: #0087ff\">Bidirectional</span>)           │ (<span style=\"color: #00d7ff; text-decoration-color: #00d7ff\">None</span>, <span style=\"color: #00af00; text-decoration-color: #00af00\">25</span>, <span style=\"color: #00af00; text-decoration-color: #00af00\">128</span>)        │        <span style=\"color: #00af00; text-decoration-color: #00af00\">74,496</span> │\n",
       "├─────────────────────────────────┼────────────────────────┼───────────────┤\n",
       "│ GRU_3 (<span style=\"color: #0087ff; text-decoration-color: #0087ff\">Bidirectional</span>)           │ (<span style=\"color: #00d7ff; text-decoration-color: #00d7ff\">None</span>, <span style=\"color: #00af00; text-decoration-color: #00af00\">128</span>)            │        <span style=\"color: #00af00; text-decoration-color: #00af00\">74,496</span> │\n",
       "├─────────────────────────────────┼────────────────────────┼───────────────┤\n",
       "│ dense_3 (<span style=\"color: #0087ff; text-decoration-color: #0087ff\">Dense</span>)                 │ (<span style=\"color: #00d7ff; text-decoration-color: #00d7ff\">None</span>, <span style=\"color: #00af00; text-decoration-color: #00af00\">256</span>)            │        <span style=\"color: #00af00; text-decoration-color: #00af00\">36,608</span> │\n",
       "├─────────────────────────────────┼────────────────────────┼───────────────┤\n",
       "│ dense_4 (<span style=\"color: #0087ff; text-decoration-color: #0087ff\">Dense</span>)                 │ (<span style=\"color: #00d7ff; text-decoration-color: #00d7ff\">None</span>, <span style=\"color: #00af00; text-decoration-color: #00af00\">1</span>)              │           <span style=\"color: #00af00; text-decoration-color: #00af00\">257</span> │\n",
       "├─────────────────────────────────┼────────────────────────┼───────────────┤\n",
       "│ dense_5 (<span style=\"color: #0087ff; text-decoration-color: #0087ff\">Dense</span>)                 │ (<span style=\"color: #00d7ff; text-decoration-color: #00d7ff\">None</span>, <span style=\"color: #00af00; text-decoration-color: #00af00\">18</span>)             │         <span style=\"color: #00af00; text-decoration-color: #00af00\">4,626</span> │\n",
       "└─────────────────────────────────┴────────────────────────┴───────────────┘\n",
       "</pre>\n"
      ],
      "text/plain": [
       "┏━━━━━━━━━━━━━━━━━━━━━━━━━━━━━━━━━┳━━━━━━━━━━━━━━━━━━━━━━━━┳━━━━━━━━━━━━━━━┓\n",
       "┃\u001b[1m \u001b[0m\u001b[1mLayer (type)                   \u001b[0m\u001b[1m \u001b[0m┃\u001b[1m \u001b[0m\u001b[1mOutput Shape          \u001b[0m\u001b[1m \u001b[0m┃\u001b[1m \u001b[0m\u001b[1m      Param #\u001b[0m\u001b[1m \u001b[0m┃\n",
       "┡━━━━━━━━━━━━━━━━━━━━━━━━━━━━━━━━━╇━━━━━━━━━━━━━━━━━━━━━━━━╇━━━━━━━━━━━━━━━┩\n",
       "│ conv2d_net_0 (\u001b[38;5;33mSequential\u001b[0m)       │ (\u001b[38;5;45mNone\u001b[0m, \u001b[38;5;34m100\u001b[0m, \u001b[38;5;34m4\u001b[0m, \u001b[38;5;34m4\u001b[0m, \u001b[38;5;34m8\u001b[0m)   │           \u001b[38;5;34m400\u001b[0m │\n",
       "├─────────────────────────────────┼────────────────────────┼───────────────┤\n",
       "│ conv2d_net_1 (\u001b[38;5;33mSequential\u001b[0m)       │ (\u001b[38;5;45mNone\u001b[0m, \u001b[38;5;34m100\u001b[0m, \u001b[38;5;34m2\u001b[0m, \u001b[38;5;34m2\u001b[0m, \u001b[38;5;34m16\u001b[0m)  │         \u001b[38;5;34m1,232\u001b[0m │\n",
       "├─────────────────────────────────┼────────────────────────┼───────────────┤\n",
       "│ global_maxpool2d                │ (\u001b[38;5;45mNone\u001b[0m, \u001b[38;5;34m100\u001b[0m, \u001b[38;5;34m16\u001b[0m)        │             \u001b[38;5;34m0\u001b[0m │\n",
       "│ (\u001b[38;5;33mTimeDistributed\u001b[0m)               │                        │               │\n",
       "├─────────────────────────────────┼────────────────────────┼───────────────┤\n",
       "│ masking_1 (\u001b[38;5;33mMasking\u001b[0m)             │ (\u001b[38;5;45mNone\u001b[0m, \u001b[38;5;34m100\u001b[0m, \u001b[38;5;34m35\u001b[0m)        │             \u001b[38;5;34m0\u001b[0m │\n",
       "├─────────────────────────────────┼────────────────────────┼───────────────┤\n",
       "│ conv1d_net_0 (\u001b[38;5;33mSequential\u001b[0m)       │ (\u001b[38;5;45mNone\u001b[0m, \u001b[38;5;34m50\u001b[0m, \u001b[38;5;34m32\u001b[0m)         │         \u001b[38;5;34m3,488\u001b[0m │\n",
       "├─────────────────────────────────┼────────────────────────┼───────────────┤\n",
       "│ conv1d_net_1 (\u001b[38;5;33mSequential\u001b[0m)       │ (\u001b[38;5;45mNone\u001b[0m, \u001b[38;5;34m25\u001b[0m, \u001b[38;5;34m64\u001b[0m)         │         \u001b[38;5;34m6,400\u001b[0m │\n",
       "├─────────────────────────────────┼────────────────────────┼───────────────┤\n",
       "│ skip_connection_dense_bidirect… │ (\u001b[38;5;45mNone\u001b[0m, \u001b[38;5;34m25\u001b[0m, \u001b[38;5;34m128\u001b[0m)        │         \u001b[38;5;34m8,320\u001b[0m │\n",
       "│ (\u001b[38;5;33mDense\u001b[0m)                         │                        │               │\n",
       "├─────────────────────────────────┼────────────────────────┼───────────────┤\n",
       "│ GRU_0 (\u001b[38;5;33mBidirectional\u001b[0m)           │ (\u001b[38;5;45mNone\u001b[0m, \u001b[38;5;34m25\u001b[0m, \u001b[38;5;34m128\u001b[0m)        │        \u001b[38;5;34m49,920\u001b[0m │\n",
       "├─────────────────────────────────┼────────────────────────┼───────────────┤\n",
       "│ GRU_1 (\u001b[38;5;33mBidirectional\u001b[0m)           │ (\u001b[38;5;45mNone\u001b[0m, \u001b[38;5;34m25\u001b[0m, \u001b[38;5;34m128\u001b[0m)        │        \u001b[38;5;34m74,496\u001b[0m │\n",
       "├─────────────────────────────────┼────────────────────────┼───────────────┤\n",
       "│ GRU_2 (\u001b[38;5;33mBidirectional\u001b[0m)           │ (\u001b[38;5;45mNone\u001b[0m, \u001b[38;5;34m25\u001b[0m, \u001b[38;5;34m128\u001b[0m)        │        \u001b[38;5;34m74,496\u001b[0m │\n",
       "├─────────────────────────────────┼────────────────────────┼───────────────┤\n",
       "│ GRU_3 (\u001b[38;5;33mBidirectional\u001b[0m)           │ (\u001b[38;5;45mNone\u001b[0m, \u001b[38;5;34m128\u001b[0m)            │        \u001b[38;5;34m74,496\u001b[0m │\n",
       "├─────────────────────────────────┼────────────────────────┼───────────────┤\n",
       "│ dense_3 (\u001b[38;5;33mDense\u001b[0m)                 │ (\u001b[38;5;45mNone\u001b[0m, \u001b[38;5;34m256\u001b[0m)            │        \u001b[38;5;34m36,608\u001b[0m │\n",
       "├─────────────────────────────────┼────────────────────────┼───────────────┤\n",
       "│ dense_4 (\u001b[38;5;33mDense\u001b[0m)                 │ (\u001b[38;5;45mNone\u001b[0m, \u001b[38;5;34m1\u001b[0m)              │           \u001b[38;5;34m257\u001b[0m │\n",
       "├─────────────────────────────────┼────────────────────────┼───────────────┤\n",
       "│ dense_5 (\u001b[38;5;33mDense\u001b[0m)                 │ (\u001b[38;5;45mNone\u001b[0m, \u001b[38;5;34m18\u001b[0m)             │         \u001b[38;5;34m4,626\u001b[0m │\n",
       "└─────────────────────────────────┴────────────────────────┴───────────────┘\n"
      ]
     },
     "metadata": {},
     "output_type": "display_data"
    },
    {
     "data": {
      "text/html": [
       "<pre style=\"white-space:pre;overflow-x:auto;line-height:normal;font-family:Menlo,'DejaVu Sans Mono',consolas,'Courier New',monospace\"><span style=\"font-weight: bold\"> Total params: </span><span style=\"color: #00af00; text-decoration-color: #00af00\">334,739</span> (1.28 MB)\n",
       "</pre>\n"
      ],
      "text/plain": [
       "\u001b[1m Total params: \u001b[0m\u001b[38;5;34m334,739\u001b[0m (1.28 MB)\n"
      ]
     },
     "metadata": {},
     "output_type": "display_data"
    },
    {
     "data": {
      "text/html": [
       "<pre style=\"white-space:pre;overflow-x:auto;line-height:normal;font-family:Menlo,'DejaVu Sans Mono',consolas,'Courier New',monospace\"><span style=\"font-weight: bold\"> Trainable params: </span><span style=\"color: #00af00; text-decoration-color: #00af00\">334,499</span> (1.28 MB)\n",
       "</pre>\n"
      ],
      "text/plain": [
       "\u001b[1m Trainable params: \u001b[0m\u001b[38;5;34m334,499\u001b[0m (1.28 MB)\n"
      ]
     },
     "metadata": {},
     "output_type": "display_data"
    },
    {
     "data": {
      "text/html": [
       "<pre style=\"white-space:pre;overflow-x:auto;line-height:normal;font-family:Menlo,'DejaVu Sans Mono',consolas,'Courier New',monospace\"><span style=\"font-weight: bold\"> Non-trainable params: </span><span style=\"color: #00af00; text-decoration-color: #00af00\">240</span> (960.00 B)\n",
       "</pre>\n"
      ],
      "text/plain": [
       "\u001b[1m Non-trainable params: \u001b[0m\u001b[38;5;34m240\u001b[0m (960.00 B)\n"
      ]
     },
     "metadata": {},
     "output_type": "display_data"
    }
   ],
   "source": [
    "new_model = RNNModel(kernel_size2d=3, kernel_size1d=3, filters_2d=[8, 16], dropout=0.2,\n",
    "                     filters_1d=[32, 64], num_rnn_layers=4, rnn_hidden_size=64, mode=\"GRU\", \n",
    "                     bidirectional=True, hidden_size=256, regularizer=\"l2\", \n",
    "                     l1_penalty=1e-6, l2_penalty=1e-6, binary=True)\n",
    "new_model.build(input_shapes=((None, 100, 8, 8, 5), (None, 100, 19), (None, 14)))\n",
    "new_model.load_weights(checkpoint_filepath)\n",
    "new_model.summary()"
   ]
  }
 ],
 "metadata": {
  "kaggle": {
   "accelerator": "none",
   "dataSources": [
    {
     "databundleVersionId": 12518947,
     "sourceId": 102335,
     "sourceType": "competition"
    },
    {
     "datasetId": 7856290,
     "sourceId": 12681757,
     "sourceType": "datasetVersion"
    },
    {
     "datasetId": 7889376,
     "sourceId": 12682032,
     "sourceType": "datasetVersion"
    }
   ],
   "dockerImageVersionId": 31089,
   "isGpuEnabled": false,
   "isInternetEnabled": false,
   "language": "python",
   "sourceType": "notebook"
  },
  "kernelspec": {
   "display_name": "Python 3",
   "language": "python",
   "name": "python3"
  },
  "language_info": {
   "codemirror_mode": {
    "name": "ipython",
    "version": 3
   },
   "file_extension": ".py",
   "mimetype": "text/x-python",
   "name": "python",
   "nbconvert_exporter": "python",
   "pygments_lexer": "ipython3",
   "version": "3.11.13"
  },
  "papermill": {
   "default_parameters": {},
   "duration": 26853.189243,
   "end_time": "2025-08-06T06:50:40.984981",
   "environment_variables": {},
   "exception": null,
   "input_path": "__notebook__.ipynb",
   "output_path": "__notebook__.ipynb",
   "parameters": {},
   "start_time": "2025-08-05T23:23:07.795738",
   "version": "2.6.0"
  }
 },
 "nbformat": 4,
 "nbformat_minor": 5
}
