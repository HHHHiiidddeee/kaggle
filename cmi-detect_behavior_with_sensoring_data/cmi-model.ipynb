{
 "cells": [
  {
   "cell_type": "code",
   "execution_count": 1,
   "id": "8f04c530",
   "metadata": {
    "execution": {
     "iopub.execute_input": "2025-07-22T14:26:53.339265Z",
     "iopub.status.busy": "2025-07-22T14:26:53.339069Z",
     "iopub.status.idle": "2025-07-22T14:27:09.558957Z",
     "shell.execute_reply": "2025-07-22T14:27:09.558168Z"
    },
    "papermill": {
     "duration": 16.226611,
     "end_time": "2025-07-22T14:27:09.560197",
     "exception": false,
     "start_time": "2025-07-22T14:26:53.333586",
     "status": "completed"
    },
    "tags": []
   },
   "outputs": [
    {
     "name": "stderr",
     "output_type": "stream",
     "text": [
      "2025-07-22 14:26:54.954317: E external/local_xla/xla/stream_executor/cuda/cuda_fft.cc:477] Unable to register cuFFT factory: Attempting to register factory for plugin cuFFT when one has already been registered\n",
      "WARNING: All log messages before absl::InitializeLog() is called are written to STDERR\n",
      "E0000 00:00:1753194415.156559      19 cuda_dnn.cc:8310] Unable to register cuDNN factory: Attempting to register factory for plugin cuDNN when one has already been registered\n",
      "E0000 00:00:1753194415.213128      19 cuda_blas.cc:1418] Unable to register cuBLAS factory: Attempting to register factory for plugin cuBLAS when one has already been registered\n",
      "I0000 00:00:1753194429.388513      19 gpu_device.cc:2022] Created device /job:localhost/replica:0/task:0/device:GPU:0 with 15513 MB memory:  -> device: 0, name: Tesla P100-PCIE-16GB, pci bus id: 0000:00:04.0, compute capability: 6.0\n"
     ]
    }
   ],
   "source": [
    "import tensorflow as tf\n",
    "from tensorflow.keras import Model\n",
    "import numpy as np\n",
    "import pandas as pd\n",
    "import warnings\n",
    "warnings.filterwarnings(\"ignore\")\n",
    "\n",
    "tf.random.set_seed(42)\n",
    "type_train_ds = tf.data.experimental.load(\"/kaggle/input/cmi-tf-datasets/type_train_ds\")\n",
    "type_valid_ds = tf.data.experimental.load(\"/kaggle/input/cmi-tf-datasets/type_valid_ds\")\n",
    "gesture_train_ds = tf.data.experimental.load(\"/kaggle/input/cmi-tf-datasets/gesture_train_ds\")\n",
    "gesture_valid_ds = tf.data.experimental.load(\"/kaggle/input/cmi-tf-datasets/gesture_valid_ds\")\n",
    "test_ds = tf.data.experimental.load(\"/kaggle/input/cmi-tf-datasets/test_ds\")"
   ]
  },
  {
   "cell_type": "code",
   "execution_count": 2,
   "id": "2f3cc5f2",
   "metadata": {
    "execution": {
     "iopub.execute_input": "2025-07-22T14:27:09.570098Z",
     "iopub.status.busy": "2025-07-22T14:27:09.569261Z",
     "iopub.status.idle": "2025-07-22T14:27:09.572473Z",
     "shell.execute_reply": "2025-07-22T14:27:09.571916Z"
    },
    "papermill": {
     "duration": 0.008735,
     "end_time": "2025-07-22T14:27:09.573469",
     "exception": false,
     "start_time": "2025-07-22T14:27:09.564734",
     "status": "completed"
    },
    "tags": []
   },
   "outputs": [],
   "source": [
    "# print(\"Num GPUs Available: \", len(tf.config.list_physical_devices('GPU')))"
   ]
  },
  {
   "cell_type": "code",
   "execution_count": 3,
   "id": "2e2b58f1",
   "metadata": {
    "execution": {
     "iopub.execute_input": "2025-07-22T14:27:09.581856Z",
     "iopub.status.busy": "2025-07-22T14:27:09.581676Z",
     "iopub.status.idle": "2025-07-22T14:27:09.586765Z",
     "shell.execute_reply": "2025-07-22T14:27:09.585971Z"
    },
    "papermill": {
     "duration": 0.010433,
     "end_time": "2025-07-22T14:27:09.587824",
     "exception": false,
     "start_time": "2025-07-22T14:27:09.577391",
     "status": "completed"
    },
    "tags": []
   },
   "outputs": [
    {
     "name": "stdout",
     "output_type": "stream",
     "text": [
      "380\n",
      "95\n",
      "380\n",
      "95\n",
      "1\n"
     ]
    }
   ],
   "source": [
    "print(len(type_train_ds))\n",
    "print(len(type_valid_ds))\n",
    "print(len(gesture_train_ds))\n",
    "print(len(gesture_valid_ds))\n",
    "\n",
    "print(len(test_ds))"
   ]
  },
  {
   "cell_type": "code",
   "execution_count": 4,
   "id": "71b909e8",
   "metadata": {
    "execution": {
     "iopub.execute_input": "2025-07-22T14:27:09.596253Z",
     "iopub.status.busy": "2025-07-22T14:27:09.596056Z",
     "iopub.status.idle": "2025-07-22T14:27:09.915523Z",
     "shell.execute_reply": "2025-07-22T14:27:09.914893Z"
    },
    "papermill": {
     "duration": 0.325201,
     "end_time": "2025-07-22T14:27:09.916846",
     "exception": false,
     "start_time": "2025-07-22T14:27:09.591645",
     "status": "completed"
    },
    "tags": []
   },
   "outputs": [
    {
     "name": "stdout",
     "output_type": "stream",
     "text": [
      "(16, 100, 8, 8, 5)\n",
      "(16, 1)\n"
     ]
    }
   ],
   "source": [
    "for i, (inputs, targets) in enumerate(type_train_ds):\n",
    "    if i==0:\n",
    "        print(inputs[0].shape)\n",
    "        print(targets.shape)\n",
    "        break"
   ]
  },
  {
   "cell_type": "code",
   "execution_count": 5,
   "id": "fcc6e07c",
   "metadata": {
    "execution": {
     "iopub.execute_input": "2025-07-22T14:27:09.926544Z",
     "iopub.status.busy": "2025-07-22T14:27:09.926303Z",
     "iopub.status.idle": "2025-07-22T14:27:09.946453Z",
     "shell.execute_reply": "2025-07-22T14:27:09.945895Z"
    },
    "papermill": {
     "duration": 0.026254,
     "end_time": "2025-07-22T14:27:09.947519",
     "exception": false,
     "start_time": "2025-07-22T14:27:09.921265",
     "status": "completed"
    },
    "tags": []
   },
   "outputs": [],
   "source": [
    "from tensorflow.keras.layers import Conv2D, Conv1D, BatchNormalization, TimeDistributed\n",
    "from tensorflow.keras.layers import MaxPool2D, GlobalMaxPool2D, MaxPool1D, Dropout\n",
    "from tensorflow.keras.layers import SimpleRNN, LSTM, GRU, Bidirectional, Flatten, Dense\n",
    "from tensorflow.keras.regularizers import L1, L2, L1L2\n",
    "from tensorflow.keras import Sequential\n",
    "\n",
    "# from keras.src import tree\n",
    "# from keras.src.trainers.data_adapters import data_adapter_utils\n",
    "# from keras.saving import register_keras_serializable\n",
    "\n",
    "# @register_keras_serializable(\"RNNModel\")\n",
    "class RNNModel(Model):\n",
    "    def __init__(self, kernel_size2d=3, kernel_size1d=3, filters_2d=[16, 32], dropout=0.2, \n",
    "                 filters_1d=[16, 32], rnn_hidden_size=32, mode=\"RNN\", bidirectional=False,\n",
    "                 hidden_size=64, regularizer=\"l1\", l1_penalty=0.1, l2_penalty=0.1, \n",
    "                 binary=True, **kwargs):\n",
    "        super().__init__(**kwargs)\n",
    "        self.hidden_size = hidden_size\n",
    "        \n",
    "        self.conv2d_nets = []\n",
    "        for i in range(len(filters_2d)):\n",
    "            conv2d_net = Sequential([\n",
    "                TimeDistributed(Conv2D(filters_2d[i], kernel_size2d, padding=\"same\", activation=\"relu\")),\n",
    "                TimeDistributed(BatchNormalization()),\n",
    "                TimeDistributed(MaxPool2D(pool_size=3, strides=2, padding=\"same\")),\n",
    "                TimeDistributed(Dropout(dropout))\n",
    "            ], name=f\"conv2d_net_{i}\")\n",
    "            self.conv2d_nets.append(conv2d_net)\n",
    "        self.global_maxpool = TimeDistributed(GlobalMaxPool2D(), name=\"global_maxpool\")\n",
    "\n",
    "        self.conv1d_nets = []\n",
    "        for i in range(len(filters_1d)):\n",
    "            conv1d_net = Sequential([\n",
    "                Conv1D(filters_1d[i], kernel_size1d, padding=\"same\", activation=\"relu\"),\n",
    "                BatchNormalization(),\n",
    "                MaxPool1D(pool_size=3, strides=2, padding=\"same\"),\n",
    "                Dropout(dropout)\n",
    "            ], name=f\"conv1d_net_{i}\")\n",
    "            self.conv1d_nets.append(conv1d_net)\n",
    "\n",
    "        if mode == \"RNN\":\n",
    "            self.rnn = SimpleRNN(rnn_hidden_size)\n",
    "        elif mode == \"LSTM\":\n",
    "            self.rnn = LSTM(rnn_hidden_size)\n",
    "        else:\n",
    "            self.rnn = GRU(rnn_hidden_size)\n",
    "        \n",
    "        if bidirectional:\n",
    "            self.rnn = Bidirectional(self.rnn, name=mode)\n",
    "\n",
    "        self.flatten = Flatten()\n",
    "\n",
    "        if regularizer == \"l1\":\n",
    "            self.dense0 = Dense(hidden_size, activation=\"relu\", \n",
    "                                kernel_regularizer=L1(l1_penalty),\n",
    "                                bias_regularizer=L1(l1_penalty))\n",
    "            self.dense1_0 = Dense(1, activation=\"sigmoid\",\n",
    "                                  kernel_regularizer=L1(l1_penalty),\n",
    "                                  bias_regularizer=L1(l1_penalty))\n",
    "            self.dense1_1 = Dense(18, activation=\"softmax\", \n",
    "                                  kernel_regularizer=L1(l1_penalty),\n",
    "                                  bias_regularizer=L1(l1_penalty))\n",
    "        elif regularizer == \"l2\":\n",
    "            self.dense0 = Dense(hidden_size, activation=\"relu\", \n",
    "                                kernel_regularizer=L2(l2_penalty),\n",
    "                                bias_regularizer=L2(l2_penalty))\n",
    "            self.dense1_0 = Dense(1, activation=\"sigmoid\", \n",
    "                                  kernel_regularizer=L2(l2_penalty),\n",
    "                                  bias_regularizer=L2(l2_penalty))\n",
    "            self.dense1_1 = Dense(18, activation=\"softmax\", \n",
    "                                  kernel_regularizer=L2(l2_penalty),\n",
    "                                  bias_regularizer=L2(l2_penalty))\n",
    "        elif regularizer == \"l1l2\":\n",
    "            self.dense0 = Dense(hidden_size, activation=\"relu\", \n",
    "                                kernel_regularizer=L1L2(l1_penalty, l2_penalty),\n",
    "                                bias_regularizer=L1L2(l1_penalty, l2_penalty))\n",
    "            self.dense1_0 = Dense(1, activation=\"sigmoid\", \n",
    "                                  kernel_regularizer=L1L2(l1_penalty, l2_penalty),\n",
    "                                  bias_regularizer=L1L2(l1_penalty, l2_penalty))\n",
    "            self.dense1_1 = Dense(18, activation=\"softmax\", \n",
    "                                  kernel_regularizer=L1L2(l1_penalty, l2_penalty),\n",
    "                                  bias_regularizer=L1L2(l1_penalty, l2_penalty))\n",
    "        else:\n",
    "            self.dense0 = Dense(hidden_size, activation=\"relu\")\n",
    "            self.dense1_0 = Dense(1, activation=\"sigmoid\")\n",
    "            self.dense1_1 = Dense(18, activation=\"softmax\")\n",
    "\n",
    "        self.binary = binary\n",
    "\n",
    "    def build(self, input_shapes, training=False):\n",
    "        shape = input_shapes[0]\n",
    "        for i in range(len(self.conv2d_nets)):\n",
    "            self.conv2d_nets[i].build(shape)\n",
    "            shape = self.conv2d_nets[i].compute_output_shape(shape)\n",
    "        self.global_maxpool.build(shape)\n",
    "        shape = self.global_maxpool.compute_output_shape(shape)\n",
    "        shape = (shape[0], shape[1], shape[2] + input_shapes[1][2])\n",
    "\n",
    "        for i in range(len(self.conv1d_nets)):\n",
    "            self.conv1d_nets[i].build(shape)\n",
    "            shape = self.conv1d_nets[i].compute_output_shape(shape)\n",
    "\n",
    "        self.rnn.build(shape)\n",
    "        shape = self.rnn.compute_output_shape(shape)\n",
    "\n",
    "        self.flatten.build(shape)\n",
    "        shape = self.flatten.compute_output_shape(shape)\n",
    "\n",
    "        shape = (shape[0], shape[1] + input_shapes[2][1])\n",
    "        self.dense0.build(shape)\n",
    "        shape = self.dense0.compute_output_shape(shape)\n",
    "\n",
    "        self.dense1_0.build(shape)\n",
    "        self.dense1_1.build(shape)\n",
    "        \n",
    "\n",
    "    def call(self, inputs, training=False):\n",
    "        image_out = inputs[0]\n",
    "        for i in range(len(self.conv2d_nets)):\n",
    "            image_out = self.conv2d_nets[i](image_out, training=training)\n",
    "        image_out = self.global_maxpool(image_out)   # (batch, timestep, filters)\n",
    "\n",
    "        out = tf.concat([image_out, inputs[1]], axis=-1)\n",
    "        for i in range(len(self.conv1d_nets)):\n",
    "            out = self.conv1d_nets[i](out, training=training)\n",
    "        \n",
    "        out = self.rnn(out)        # (batch, downsampled_timestep, rnn_hidden_size)\n",
    "        out = self.flatten(out)    # (batch, downsampled_timestep*rnn_hidden_size)\n",
    "        \n",
    "        out = tf.concat([out, inputs[2]], axis=-1)\n",
    "        out = self.dense0(out)\n",
    "        if self.binary:\n",
    "            out = self.dense1_0(out)\n",
    "        else:\n",
    "            out = self.dense1_1(out)\n",
    "        return out\n",
    "\n",
    "    def set_binary(self):\n",
    "        self.binary = True\n",
    "        if self.dense1_0.build == False:\n",
    "            self.dense1_0.build(input_shape=(None, self.hidden_size))\n",
    "\n",
    "    def set_multi(self):\n",
    "        self.binary = False\n",
    "        if self.dense1_1.build == False:\n",
    "            self.dense1_1.build(input_shape=(None, self.hidden_size))\n",
    "\n",
    "    def freeze_conv_timeseries(self):\n",
    "        for i in range(len(self.conv2d_nets)):\n",
    "            self.conv2d_nets[i].trainable = False\n",
    "        for i in range(len(self.conv1d_nets)):\n",
    "            self.conv1d_nets[i].trainable = False\n",
    "        self.rnn.trainable = False"
   ]
  },
  {
   "cell_type": "code",
   "execution_count": 6,
   "id": "57f43d21",
   "metadata": {
    "execution": {
     "iopub.execute_input": "2025-07-22T14:27:09.956000Z",
     "iopub.status.busy": "2025-07-22T14:27:09.955798Z",
     "iopub.status.idle": "2025-07-22T14:27:10.006901Z",
     "shell.execute_reply": "2025-07-22T14:27:10.006166Z"
    },
    "papermill": {
     "duration": 0.056654,
     "end_time": "2025-07-22T14:27:10.008042",
     "exception": false,
     "start_time": "2025-07-22T14:27:09.951388",
     "status": "completed"
    },
    "tags": []
   },
   "outputs": [
    {
     "name": "stdout",
     "output_type": "stream",
     "text": [
      "(16, 100, 8, 8, 5)\n",
      "(16, 100, 12)\n",
      "(16, 14)\n"
     ]
    }
   ],
   "source": [
    "for i, (inputs, targets) in enumerate(type_train_ds):\n",
    "    if i == 0:\n",
    "        print(inputs[0].shape)\n",
    "        print(inputs[1].shape)\n",
    "        print(inputs[2].shape)\n",
    "        break"
   ]
  },
  {
   "cell_type": "code",
   "execution_count": 7,
   "id": "d1f234a3",
   "metadata": {
    "execution": {
     "iopub.execute_input": "2025-07-22T14:27:10.017931Z",
     "iopub.status.busy": "2025-07-22T14:27:10.017708Z",
     "iopub.status.idle": "2025-07-22T14:27:10.028445Z",
     "shell.execute_reply": "2025-07-22T14:27:10.027864Z"
    },
    "papermill": {
     "duration": 0.017149,
     "end_time": "2025-07-22T14:27:10.029471",
     "exception": false,
     "start_time": "2025-07-22T14:27:10.012322",
     "status": "completed"
    },
    "tags": []
   },
   "outputs": [],
   "source": [
    "import json\n",
    "\n",
    "with open('/kaggle/input/cmi-tf-datasets/sample_weight.json') as f:\n",
    "    sample_weight_dict = json.load(f)\n",
    "\n",
    "type_sample_weight = sample_weight_dict[\"type_sample_weight\"]\n",
    "type_class_weight = {0: type_sample_weight[0], 1: type_sample_weight[1]}\n",
    "\n",
    "gesture_sample_weight = sample_weight_dict[\"gesture_sample_weight\"]\n",
    "gesture_class_weight = {i: gesture_sample_weight[i] for i in range(len(gesture_sample_weight))}"
   ]
  },
  {
   "cell_type": "code",
   "execution_count": 8,
   "id": "78a3cfcf",
   "metadata": {
    "execution": {
     "iopub.execute_input": "2025-07-22T14:27:10.038155Z",
     "iopub.status.busy": "2025-07-22T14:27:10.037942Z",
     "iopub.status.idle": "2025-07-22T14:27:10.041992Z",
     "shell.execute_reply": "2025-07-22T14:27:10.041470Z"
    },
    "papermill": {
     "duration": 0.009552,
     "end_time": "2025-07-22T14:27:10.043034",
     "exception": false,
     "start_time": "2025-07-22T14:27:10.033482",
     "status": "completed"
    },
    "tags": []
   },
   "outputs": [],
   "source": [
    "def add_type_sample_weight(x, y):\n",
    "    y_int = tf.cast(y, tf.int32)\n",
    "    weight = tf.gather([type_class_weight[0], type_class_weight[1]], y_int)\n",
    "    return x, y, weight\n",
    "\n",
    "def add_gesture_sample_weight(x, y):\n",
    "    y_arg = tf.argmax(y)\n",
    "    weight = tf.gather(gesture_sample_weight, y_arg)\n",
    "    return x, y, weight"
   ]
  },
  {
   "cell_type": "code",
   "execution_count": 9,
   "id": "233ca42b",
   "metadata": {
    "execution": {
     "iopub.execute_input": "2025-07-22T14:27:10.051650Z",
     "iopub.status.busy": "2025-07-22T14:27:10.051438Z",
     "iopub.status.idle": "2025-07-22T14:27:10.137081Z",
     "shell.execute_reply": "2025-07-22T14:27:10.136370Z"
    },
    "papermill": {
     "duration": 0.091173,
     "end_time": "2025-07-22T14:27:10.138145",
     "exception": false,
     "start_time": "2025-07-22T14:27:10.046972",
     "status": "completed"
    },
    "tags": []
   },
   "outputs": [],
   "source": [
    "type_train_ds = type_train_ds.unbatch().map(add_type_sample_weight).batch(16)\n",
    "type_valid_ds = type_valid_ds.unbatch().map(add_type_sample_weight).batch(16)"
   ]
  },
  {
   "cell_type": "code",
   "execution_count": 10,
   "id": "2e00ca0d",
   "metadata": {
    "execution": {
     "iopub.execute_input": "2025-07-22T14:27:10.146911Z",
     "iopub.status.busy": "2025-07-22T14:27:10.146711Z",
     "iopub.status.idle": "2025-07-22T14:27:10.220181Z",
     "shell.execute_reply": "2025-07-22T14:27:10.219484Z"
    },
    "papermill": {
     "duration": 0.078906,
     "end_time": "2025-07-22T14:27:10.221259",
     "exception": false,
     "start_time": "2025-07-22T14:27:10.142353",
     "status": "completed"
    },
    "tags": []
   },
   "outputs": [],
   "source": [
    "gesture_train_ds = gesture_train_ds.unbatch().map(add_gesture_sample_weight).batch(16)\n",
    "gesture_valid_ds = gesture_valid_ds.unbatch().map(add_gesture_sample_weight).batch(16)"
   ]
  },
  {
   "cell_type": "code",
   "execution_count": 11,
   "id": "ec764f2d",
   "metadata": {
    "execution": {
     "iopub.execute_input": "2025-07-22T14:27:10.229663Z",
     "iopub.status.busy": "2025-07-22T14:27:10.229450Z",
     "iopub.status.idle": "2025-07-22T14:27:10.513496Z",
     "shell.execute_reply": "2025-07-22T14:27:10.512717Z"
    },
    "papermill": {
     "duration": 0.289542,
     "end_time": "2025-07-22T14:27:10.514663",
     "exception": false,
     "start_time": "2025-07-22T14:27:10.225121",
     "status": "completed"
    },
    "tags": []
   },
   "outputs": [
    {
     "name": "stdout",
     "output_type": "stream",
     "text": [
      "(16, 18)\n"
     ]
    }
   ],
   "source": [
    "for i, (inputs, targets, weight) in enumerate(gesture_train_ds):\n",
    "    if i == 0:\n",
    "        print(targets.shape)\n",
    "        break"
   ]
  },
  {
   "cell_type": "code",
   "execution_count": 12,
   "id": "2298e36c",
   "metadata": {
    "execution": {
     "iopub.execute_input": "2025-07-22T14:27:10.523941Z",
     "iopub.status.busy": "2025-07-22T14:27:10.523713Z",
     "iopub.status.idle": "2025-07-22T14:27:10.750559Z",
     "shell.execute_reply": "2025-07-22T14:27:10.749817Z"
    },
    "papermill": {
     "duration": 0.232681,
     "end_time": "2025-07-22T14:27:10.751717",
     "exception": false,
     "start_time": "2025-07-22T14:27:10.519036",
     "status": "completed"
    },
    "tags": []
   },
   "outputs": [
    {
     "name": "stdout",
     "output_type": "stream",
     "text": [
      "❌ TPU not available, using default strategy.\n",
      "TPUs not found in the cluster. Failed in initialization: Could not satisfy device specification '/job:localhost/replica:0/task:0/device:TPU_SYSTEM:0'. enable_soft_placement=0. Supported device types [GPU, CPU]. All available devices [/job:localhost/replica:0/task:0/device:GPU:0, /job:localhost/replica:0/task:0/device:CPU:0]. [Op:__inference__tpu_init_fn_231]\n"
     ]
    }
   ],
   "source": [
    "try:\n",
    "    tpu = tf.distribute.cluster_resolver.TPUClusterResolver(tpu='local')\n",
    "    tf.config.experimental_connect_to_cluster(tpu)\n",
    "    tf.tpu.experimental.initialize_tpu_system(tpu)\n",
    "    strategy = tf.distribute.TPUStrategy(tpu)\n",
    "    print(\"✅ TPU initialized.\")\n",
    "except Exception as e:\n",
    "    print(\"❌ TPU not available, using default strategy.\")\n",
    "    strategy = tf.distribute.get_strategy()\n",
    "    print(e)"
   ]
  },
  {
   "cell_type": "code",
   "execution_count": 13,
   "id": "8e5f8bd1",
   "metadata": {
    "execution": {
     "iopub.execute_input": "2025-07-22T14:27:10.760902Z",
     "iopub.status.busy": "2025-07-22T14:27:10.760689Z",
     "iopub.status.idle": "2025-07-22T14:27:12.279297Z",
     "shell.execute_reply": "2025-07-22T14:27:12.278741Z"
    },
    "papermill": {
     "duration": 1.524454,
     "end_time": "2025-07-22T14:27:12.280456",
     "exception": false,
     "start_time": "2025-07-22T14:27:10.756002",
     "status": "completed"
    },
    "tags": []
   },
   "outputs": [
    {
     "data": {
      "text/html": [
       "<pre style=\"white-space:pre;overflow-x:auto;line-height:normal;font-family:Menlo,'DejaVu Sans Mono',consolas,'Courier New',monospace\"><span style=\"font-weight: bold\">Model: \"rnn_model\"</span>\n",
       "</pre>\n"
      ],
      "text/plain": [
       "\u001b[1mModel: \"rnn_model\"\u001b[0m\n"
      ]
     },
     "metadata": {},
     "output_type": "display_data"
    },
    {
     "data": {
      "text/html": [
       "<pre style=\"white-space:pre;overflow-x:auto;line-height:normal;font-family:Menlo,'DejaVu Sans Mono',consolas,'Courier New',monospace\">┏━━━━━━━━━━━━━━━━━━━━━━━━━━━━━━━━━┳━━━━━━━━━━━━━━━━━━━━━━━━┳━━━━━━━━━━━━━━━┓\n",
       "┃<span style=\"font-weight: bold\"> Layer (type)                    </span>┃<span style=\"font-weight: bold\"> Output Shape           </span>┃<span style=\"font-weight: bold\">       Param # </span>┃\n",
       "┡━━━━━━━━━━━━━━━━━━━━━━━━━━━━━━━━━╇━━━━━━━━━━━━━━━━━━━━━━━━╇━━━━━━━━━━━━━━━┩\n",
       "│ conv2d_net_0 (<span style=\"color: #0087ff; text-decoration-color: #0087ff\">Sequential</span>)       │ (<span style=\"color: #00d7ff; text-decoration-color: #00d7ff\">None</span>, <span style=\"color: #00af00; text-decoration-color: #00af00\">100</span>, <span style=\"color: #00af00; text-decoration-color: #00af00\">4</span>, <span style=\"color: #00af00; text-decoration-color: #00af00\">4</span>, <span style=\"color: #00af00; text-decoration-color: #00af00\">16</span>)  │           <span style=\"color: #00af00; text-decoration-color: #00af00\">800</span> │\n",
       "├─────────────────────────────────┼────────────────────────┼───────────────┤\n",
       "│ conv2d_net_1 (<span style=\"color: #0087ff; text-decoration-color: #0087ff\">Sequential</span>)       │ (<span style=\"color: #00d7ff; text-decoration-color: #00d7ff\">None</span>, <span style=\"color: #00af00; text-decoration-color: #00af00\">100</span>, <span style=\"color: #00af00; text-decoration-color: #00af00\">2</span>, <span style=\"color: #00af00; text-decoration-color: #00af00\">2</span>, <span style=\"color: #00af00; text-decoration-color: #00af00\">32</span>)  │         <span style=\"color: #00af00; text-decoration-color: #00af00\">4,768</span> │\n",
       "├─────────────────────────────────┼────────────────────────┼───────────────┤\n",
       "│ global_maxpool                  │ (<span style=\"color: #00d7ff; text-decoration-color: #00d7ff\">None</span>, <span style=\"color: #00af00; text-decoration-color: #00af00\">100</span>, <span style=\"color: #00af00; text-decoration-color: #00af00\">32</span>)        │             <span style=\"color: #00af00; text-decoration-color: #00af00\">0</span> │\n",
       "│ (<span style=\"color: #0087ff; text-decoration-color: #0087ff\">TimeDistributed</span>)               │                        │               │\n",
       "├─────────────────────────────────┼────────────────────────┼───────────────┤\n",
       "│ conv1d_net_0 (<span style=\"color: #0087ff; text-decoration-color: #0087ff\">Sequential</span>)       │ (<span style=\"color: #00d7ff; text-decoration-color: #00d7ff\">None</span>, <span style=\"color: #00af00; text-decoration-color: #00af00\">50</span>, <span style=\"color: #00af00; text-decoration-color: #00af00\">64</span>)         │         <span style=\"color: #00af00; text-decoration-color: #00af00\">8,768</span> │\n",
       "├─────────────────────────────────┼────────────────────────┼───────────────┤\n",
       "│ conv1d_net_1 (<span style=\"color: #0087ff; text-decoration-color: #0087ff\">Sequential</span>)       │ (<span style=\"color: #00d7ff; text-decoration-color: #00d7ff\">None</span>, <span style=\"color: #00af00; text-decoration-color: #00af00\">25</span>, <span style=\"color: #00af00; text-decoration-color: #00af00\">128</span>)        │        <span style=\"color: #00af00; text-decoration-color: #00af00\">25,216</span> │\n",
       "├─────────────────────────────────┼────────────────────────┼───────────────┤\n",
       "│ conv1d_net_2 (<span style=\"color: #0087ff; text-decoration-color: #0087ff\">Sequential</span>)       │ (<span style=\"color: #00d7ff; text-decoration-color: #00d7ff\">None</span>, <span style=\"color: #00af00; text-decoration-color: #00af00\">13</span>, <span style=\"color: #00af00; text-decoration-color: #00af00\">256</span>)        │        <span style=\"color: #00af00; text-decoration-color: #00af00\">99,584</span> │\n",
       "├─────────────────────────────────┼────────────────────────┼───────────────┤\n",
       "│ gru (<span style=\"color: #0087ff; text-decoration-color: #0087ff\">GRU</span>)                       │ ?                      │   <span style=\"color: #00af00; text-decoration-color: #00af00\">0</span> (unbuilt) │\n",
       "├─────────────────────────────────┼────────────────────────┼───────────────┤\n",
       "│ GRU (<span style=\"color: #0087ff; text-decoration-color: #0087ff\">Bidirectional</span>)             │ (<span style=\"color: #00d7ff; text-decoration-color: #00d7ff\">None</span>, <span style=\"color: #00af00; text-decoration-color: #00af00\">512</span>)            │       <span style=\"color: #00af00; text-decoration-color: #00af00\">789,504</span> │\n",
       "├─────────────────────────────────┼────────────────────────┼───────────────┤\n",
       "│ flatten (<span style=\"color: #0087ff; text-decoration-color: #0087ff\">Flatten</span>)               │ (<span style=\"color: #00d7ff; text-decoration-color: #00d7ff\">None</span>, <span style=\"color: #00af00; text-decoration-color: #00af00\">512</span>)            │             <span style=\"color: #00af00; text-decoration-color: #00af00\">0</span> │\n",
       "├─────────────────────────────────┼────────────────────────┼───────────────┤\n",
       "│ dense (<span style=\"color: #0087ff; text-decoration-color: #0087ff\">Dense</span>)                   │ (<span style=\"color: #00d7ff; text-decoration-color: #00d7ff\">None</span>, <span style=\"color: #00af00; text-decoration-color: #00af00\">512</span>)            │       <span style=\"color: #00af00; text-decoration-color: #00af00\">269,824</span> │\n",
       "├─────────────────────────────────┼────────────────────────┼───────────────┤\n",
       "│ dense_1 (<span style=\"color: #0087ff; text-decoration-color: #0087ff\">Dense</span>)                 │ (<span style=\"color: #00d7ff; text-decoration-color: #00d7ff\">None</span>, <span style=\"color: #00af00; text-decoration-color: #00af00\">1</span>)              │           <span style=\"color: #00af00; text-decoration-color: #00af00\">513</span> │\n",
       "├─────────────────────────────────┼────────────────────────┼───────────────┤\n",
       "│ dense_2 (<span style=\"color: #0087ff; text-decoration-color: #0087ff\">Dense</span>)                 │ (<span style=\"color: #00d7ff; text-decoration-color: #00d7ff\">None</span>, <span style=\"color: #00af00; text-decoration-color: #00af00\">18</span>)             │         <span style=\"color: #00af00; text-decoration-color: #00af00\">9,234</span> │\n",
       "└─────────────────────────────────┴────────────────────────┴───────────────┘\n",
       "</pre>\n"
      ],
      "text/plain": [
       "┏━━━━━━━━━━━━━━━━━━━━━━━━━━━━━━━━━┳━━━━━━━━━━━━━━━━━━━━━━━━┳━━━━━━━━━━━━━━━┓\n",
       "┃\u001b[1m \u001b[0m\u001b[1mLayer (type)                   \u001b[0m\u001b[1m \u001b[0m┃\u001b[1m \u001b[0m\u001b[1mOutput Shape          \u001b[0m\u001b[1m \u001b[0m┃\u001b[1m \u001b[0m\u001b[1m      Param #\u001b[0m\u001b[1m \u001b[0m┃\n",
       "┡━━━━━━━━━━━━━━━━━━━━━━━━━━━━━━━━━╇━━━━━━━━━━━━━━━━━━━━━━━━╇━━━━━━━━━━━━━━━┩\n",
       "│ conv2d_net_0 (\u001b[38;5;33mSequential\u001b[0m)       │ (\u001b[38;5;45mNone\u001b[0m, \u001b[38;5;34m100\u001b[0m, \u001b[38;5;34m4\u001b[0m, \u001b[38;5;34m4\u001b[0m, \u001b[38;5;34m16\u001b[0m)  │           \u001b[38;5;34m800\u001b[0m │\n",
       "├─────────────────────────────────┼────────────────────────┼───────────────┤\n",
       "│ conv2d_net_1 (\u001b[38;5;33mSequential\u001b[0m)       │ (\u001b[38;5;45mNone\u001b[0m, \u001b[38;5;34m100\u001b[0m, \u001b[38;5;34m2\u001b[0m, \u001b[38;5;34m2\u001b[0m, \u001b[38;5;34m32\u001b[0m)  │         \u001b[38;5;34m4,768\u001b[0m │\n",
       "├─────────────────────────────────┼────────────────────────┼───────────────┤\n",
       "│ global_maxpool                  │ (\u001b[38;5;45mNone\u001b[0m, \u001b[38;5;34m100\u001b[0m, \u001b[38;5;34m32\u001b[0m)        │             \u001b[38;5;34m0\u001b[0m │\n",
       "│ (\u001b[38;5;33mTimeDistributed\u001b[0m)               │                        │               │\n",
       "├─────────────────────────────────┼────────────────────────┼───────────────┤\n",
       "│ conv1d_net_0 (\u001b[38;5;33mSequential\u001b[0m)       │ (\u001b[38;5;45mNone\u001b[0m, \u001b[38;5;34m50\u001b[0m, \u001b[38;5;34m64\u001b[0m)         │         \u001b[38;5;34m8,768\u001b[0m │\n",
       "├─────────────────────────────────┼────────────────────────┼───────────────┤\n",
       "│ conv1d_net_1 (\u001b[38;5;33mSequential\u001b[0m)       │ (\u001b[38;5;45mNone\u001b[0m, \u001b[38;5;34m25\u001b[0m, \u001b[38;5;34m128\u001b[0m)        │        \u001b[38;5;34m25,216\u001b[0m │\n",
       "├─────────────────────────────────┼────────────────────────┼───────────────┤\n",
       "│ conv1d_net_2 (\u001b[38;5;33mSequential\u001b[0m)       │ (\u001b[38;5;45mNone\u001b[0m, \u001b[38;5;34m13\u001b[0m, \u001b[38;5;34m256\u001b[0m)        │        \u001b[38;5;34m99,584\u001b[0m │\n",
       "├─────────────────────────────────┼────────────────────────┼───────────────┤\n",
       "│ gru (\u001b[38;5;33mGRU\u001b[0m)                       │ ?                      │   \u001b[38;5;34m0\u001b[0m (unbuilt) │\n",
       "├─────────────────────────────────┼────────────────────────┼───────────────┤\n",
       "│ GRU (\u001b[38;5;33mBidirectional\u001b[0m)             │ (\u001b[38;5;45mNone\u001b[0m, \u001b[38;5;34m512\u001b[0m)            │       \u001b[38;5;34m789,504\u001b[0m │\n",
       "├─────────────────────────────────┼────────────────────────┼───────────────┤\n",
       "│ flatten (\u001b[38;5;33mFlatten\u001b[0m)               │ (\u001b[38;5;45mNone\u001b[0m, \u001b[38;5;34m512\u001b[0m)            │             \u001b[38;5;34m0\u001b[0m │\n",
       "├─────────────────────────────────┼────────────────────────┼───────────────┤\n",
       "│ dense (\u001b[38;5;33mDense\u001b[0m)                   │ (\u001b[38;5;45mNone\u001b[0m, \u001b[38;5;34m512\u001b[0m)            │       \u001b[38;5;34m269,824\u001b[0m │\n",
       "├─────────────────────────────────┼────────────────────────┼───────────────┤\n",
       "│ dense_1 (\u001b[38;5;33mDense\u001b[0m)                 │ (\u001b[38;5;45mNone\u001b[0m, \u001b[38;5;34m1\u001b[0m)              │           \u001b[38;5;34m513\u001b[0m │\n",
       "├─────────────────────────────────┼────────────────────────┼───────────────┤\n",
       "│ dense_2 (\u001b[38;5;33mDense\u001b[0m)                 │ (\u001b[38;5;45mNone\u001b[0m, \u001b[38;5;34m18\u001b[0m)             │         \u001b[38;5;34m9,234\u001b[0m │\n",
       "└─────────────────────────────────┴────────────────────────┴───────────────┘\n"
      ]
     },
     "metadata": {},
     "output_type": "display_data"
    },
    {
     "data": {
      "text/html": [
       "<pre style=\"white-space:pre;overflow-x:auto;line-height:normal;font-family:Menlo,'DejaVu Sans Mono',consolas,'Courier New',monospace\"><span style=\"font-weight: bold\"> Total params: </span><span style=\"color: #00af00; text-decoration-color: #00af00\">1,208,211</span> (4.61 MB)\n",
       "</pre>\n"
      ],
      "text/plain": [
       "\u001b[1m Total params: \u001b[0m\u001b[38;5;34m1,208,211\u001b[0m (4.61 MB)\n"
      ]
     },
     "metadata": {},
     "output_type": "display_data"
    },
    {
     "data": {
      "text/html": [
       "<pre style=\"white-space:pre;overflow-x:auto;line-height:normal;font-family:Menlo,'DejaVu Sans Mono',consolas,'Courier New',monospace\"><span style=\"font-weight: bold\"> Trainable params: </span><span style=\"color: #00af00; text-decoration-color: #00af00\">1,207,219</span> (4.61 MB)\n",
       "</pre>\n"
      ],
      "text/plain": [
       "\u001b[1m Trainable params: \u001b[0m\u001b[38;5;34m1,207,219\u001b[0m (4.61 MB)\n"
      ]
     },
     "metadata": {},
     "output_type": "display_data"
    },
    {
     "data": {
      "text/html": [
       "<pre style=\"white-space:pre;overflow-x:auto;line-height:normal;font-family:Menlo,'DejaVu Sans Mono',consolas,'Courier New',monospace\"><span style=\"font-weight: bold\"> Non-trainable params: </span><span style=\"color: #00af00; text-decoration-color: #00af00\">992</span> (3.88 KB)\n",
       "</pre>\n"
      ],
      "text/plain": [
       "\u001b[1m Non-trainable params: \u001b[0m\u001b[38;5;34m992\u001b[0m (3.88 KB)\n"
      ]
     },
     "metadata": {},
     "output_type": "display_data"
    }
   ],
   "source": [
    "from tensorflow.keras.losses import BinaryCrossentropy, CategoricalCrossentropy\n",
    "from tensorflow.keras.optimizers import Adam\n",
    "from tensorflow.keras.metrics import BinaryAccuracy, F1Score, AUC\n",
    "\n",
    "# kernel_size2d = 3\n",
    "# kernel_size1d = 3\n",
    "# filters_2d = [16, 32]\n",
    "# dropout = 0.5\n",
    "# filters_1d = [64, 128]\n",
    "# rnn_hidden_size = 128\n",
    "# mode = \"GRU\"\n",
    "# bidirectional = True\n",
    "# hidden_size = 256\n",
    "# regularizer = \"l2\"\n",
    "# l1_panalty = 1e-4\n",
    "# l2_penalty = 1e-4\n",
    "# binary = True\n",
    "\n",
    "model = RNNModel(kernel_size2d=3, kernel_size1d=3, filters_2d=[16, 32], dropout=0.2,\n",
    "                 filters_1d=[64, 128, 256], rnn_hidden_size=256, mode=\"GRU\", bidirectional=True,\n",
    "                 hidden_size=512, regularizer=\"l1l2\", l1_penalty=1e-4, l2_penalty=1e-4, binary=True)\n",
    "model.build(input_shapes=((None, 100, 8, 8, 5), (None, 100, 12), (None, 14)))\n",
    "model.compile(loss=BinaryCrossentropy(),\n",
    "              optimizer=Adam(learning_rate=0.0005),\n",
    "              metrics=[\"accuracy\", \"auc\"])\n",
    "\n",
    "# with strategy.scope():\n",
    "#     model = RNNModel(kernel_size2d=3, kernel_size1d=3, filters_2d=[16, 32], dropout=0.5,\n",
    "#                      filters_1d=[64, 128], rnn_hidden_size=128, mode=\"GRU\", bidirectional=True,\n",
    "#                      hidden_size=256, regularizer=\"l2\", l1_penalty=1e-5, l2_penalty=1e-5, binary=True)\n",
    "#     model.build(input_shapes=((None, 100, 8, 8, 5), (None, 100, 12), (None, 14)))\n",
    "#     model.compile(loss=BinaryCrossentropy(),\n",
    "#                   optimizer=Adam(learning_rate=0.0001),\n",
    "#                   metrics=[\"accuracy\", \"auc\"])\n",
    "model.summary()"
   ]
  },
  {
   "cell_type": "code",
   "execution_count": 14,
   "id": "49131b1a",
   "metadata": {
    "execution": {
     "iopub.execute_input": "2025-07-22T14:27:12.290822Z",
     "iopub.status.busy": "2025-07-22T14:27:12.290603Z",
     "iopub.status.idle": "2025-07-22T14:50:40.616576Z",
     "shell.execute_reply": "2025-07-22T14:50:40.615944Z"
    },
    "papermill": {
     "duration": 1408.332511,
     "end_time": "2025-07-22T14:50:40.617924",
     "exception": false,
     "start_time": "2025-07-22T14:27:12.285413",
     "status": "completed"
    },
    "tags": []
   },
   "outputs": [
    {
     "name": "stdout",
     "output_type": "stream",
     "text": [
      "Epoch 1/20\n"
     ]
    },
    {
     "name": "stderr",
     "output_type": "stream",
     "text": [
      "I0000 00:00:1753194552.016942      57 cuda_dnn.cc:529] Loaded cuDNN version 90300\n"
     ]
    },
    {
     "name": "stdout",
     "output_type": "stream",
     "text": [
      "    380/Unknown \u001b[1m185s\u001b[0m 161ms/step - accuracy: 0.7332 - auc: 0.8173 - loss: 1.6341\n",
      "Epoch 1: val_loss improved from inf to 1.20681, saving model to /kaggle/working/best_binary_model.weights.h5\n",
      "\u001b[1m380/380\u001b[0m \u001b[32m━━━━━━━━━━━━━━━━━━━━\u001b[0m\u001b[37m\u001b[0m \u001b[1m202s\u001b[0m 206ms/step - accuracy: 0.7334 - auc: 0.8175 - loss: 1.6335 - val_accuracy: 0.8631 - val_auc: 0.9191 - val_loss: 1.2068\n",
      "Epoch 2/20\n",
      "\u001b[1m380/380\u001b[0m \u001b[32m━━━━━━━━━━━━━━━━━━━━\u001b[0m\u001b[37m\u001b[0m \u001b[1m0s\u001b[0m 159ms/step - accuracy: 0.8845 - auc: 0.9521 - loss: 1.0087\n",
      "Epoch 2: val_loss improved from 1.20681 to 0.85617, saving model to /kaggle/working/best_binary_model.weights.h5\n",
      "\u001b[1m380/380\u001b[0m \u001b[32m━━━━━━━━━━━━━━━━━━━━\u001b[0m\u001b[37m\u001b[0m \u001b[1m63s\u001b[0m 167ms/step - accuracy: 0.8845 - auc: 0.9521 - loss: 1.0085 - val_accuracy: 0.9039 - val_auc: 0.9513 - val_loss: 0.8562\n",
      "Epoch 3/20\n",
      "\u001b[1m380/380\u001b[0m \u001b[32m━━━━━━━━━━━━━━━━━━━━\u001b[0m\u001b[37m\u001b[0m \u001b[1m0s\u001b[0m 159ms/step - accuracy: 0.9179 - auc: 0.9737 - loss: 0.7093\n",
      "Epoch 3: val_loss improved from 0.85617 to 0.75697, saving model to /kaggle/working/best_binary_model.weights.h5\n",
      "\u001b[1m380/380\u001b[0m \u001b[32m━━━━━━━━━━━━━━━━━━━━\u001b[0m\u001b[37m\u001b[0m \u001b[1m63s\u001b[0m 167ms/step - accuracy: 0.9179 - auc: 0.9737 - loss: 0.7092 - val_accuracy: 0.8841 - val_auc: 0.9502 - val_loss: 0.7570\n",
      "Epoch 4/20\n",
      "\u001b[1m380/380\u001b[0m \u001b[32m━━━━━━━━━━━━━━━━━━━━\u001b[0m\u001b[37m\u001b[0m \u001b[1m0s\u001b[0m 159ms/step - accuracy: 0.9259 - auc: 0.9786 - loss: 0.5454\n",
      "Epoch 4: val_loss improved from 0.75697 to 0.57773, saving model to /kaggle/working/best_binary_model.weights.h5\n",
      "\u001b[1m380/380\u001b[0m \u001b[32m━━━━━━━━━━━━━━━━━━━━\u001b[0m\u001b[37m\u001b[0m \u001b[1m63s\u001b[0m 166ms/step - accuracy: 0.9259 - auc: 0.9786 - loss: 0.5453 - val_accuracy: 0.9124 - val_auc: 0.9634 - val_loss: 0.5777\n",
      "Epoch 5/20\n",
      "\u001b[1m380/380\u001b[0m \u001b[32m━━━━━━━━━━━━━━━━━━━━\u001b[0m\u001b[37m\u001b[0m \u001b[1m0s\u001b[0m 158ms/step - accuracy: 0.9384 - auc: 0.9842 - loss: 0.4219\n",
      "Epoch 5: val_loss did not improve from 0.57773\n",
      "\u001b[1m380/380\u001b[0m \u001b[32m━━━━━━━━━━━━━━━━━━━━\u001b[0m\u001b[37m\u001b[0m \u001b[1m63s\u001b[0m 165ms/step - accuracy: 0.9384 - auc: 0.9842 - loss: 0.4218 - val_accuracy: 0.8874 - val_auc: 0.9633 - val_loss: 0.5849\n",
      "Epoch 6/20\n",
      "\u001b[1m380/380\u001b[0m \u001b[32m━━━━━━━━━━━━━━━━━━━━\u001b[0m\u001b[37m\u001b[0m \u001b[1m0s\u001b[0m 161ms/step - accuracy: 0.9514 - auc: 0.9884 - loss: 0.3319\n",
      "Epoch 6: val_loss improved from 0.57773 to 0.49716, saving model to /kaggle/working/best_binary_model.weights.h5\n",
      "\u001b[1m380/380\u001b[0m \u001b[32m━━━━━━━━━━━━━━━━━━━━\u001b[0m\u001b[37m\u001b[0m \u001b[1m64s\u001b[0m 168ms/step - accuracy: 0.9514 - auc: 0.9884 - loss: 0.3319 - val_accuracy: 0.9111 - val_auc: 0.9697 - val_loss: 0.4972\n",
      "Epoch 7/20\n",
      "\u001b[1m380/380\u001b[0m \u001b[32m━━━━━━━━━━━━━━━━━━━━\u001b[0m\u001b[37m\u001b[0m \u001b[1m0s\u001b[0m 159ms/step - accuracy: 0.9551 - auc: 0.9913 - loss: 0.2766\n",
      "Epoch 7: val_loss improved from 0.49716 to 0.46607, saving model to /kaggle/working/best_binary_model.weights.h5\n",
      "\u001b[1m380/380\u001b[0m \u001b[32m━━━━━━━━━━━━━━━━━━━━\u001b[0m\u001b[37m\u001b[0m \u001b[1m64s\u001b[0m 167ms/step - accuracy: 0.9551 - auc: 0.9913 - loss: 0.2766 - val_accuracy: 0.9098 - val_auc: 0.9677 - val_loss: 0.4661\n",
      "Epoch 8/20\n",
      "\u001b[1m380/380\u001b[0m \u001b[32m━━━━━━━━━━━━━━━━━━━━\u001b[0m\u001b[37m\u001b[0m \u001b[1m0s\u001b[0m 160ms/step - accuracy: 0.9605 - auc: 0.9907 - loss: 0.2582\n",
      "Epoch 8: val_loss improved from 0.46607 to 0.46387, saving model to /kaggle/working/best_binary_model.weights.h5\n",
      "\u001b[1m380/380\u001b[0m \u001b[32m━━━━━━━━━━━━━━━━━━━━\u001b[0m\u001b[37m\u001b[0m \u001b[1m64s\u001b[0m 168ms/step - accuracy: 0.9605 - auc: 0.9907 - loss: 0.2582 - val_accuracy: 0.9118 - val_auc: 0.9707 - val_loss: 0.4639\n",
      "Epoch 9/20\n",
      "\u001b[1m380/380\u001b[0m \u001b[32m━━━━━━━━━━━━━━━━━━━━\u001b[0m\u001b[37m\u001b[0m \u001b[1m0s\u001b[0m 160ms/step - accuracy: 0.9708 - auc: 0.9944 - loss: 0.2069\n",
      "Epoch 9: val_loss improved from 0.46387 to 0.37892, saving model to /kaggle/working/best_binary_model.weights.h5\n",
      "\u001b[1m380/380\u001b[0m \u001b[32m━━━━━━━━━━━━━━━━━━━━\u001b[0m\u001b[37m\u001b[0m \u001b[1m64s\u001b[0m 168ms/step - accuracy: 0.9707 - auc: 0.9944 - loss: 0.2069 - val_accuracy: 0.9190 - val_auc: 0.9797 - val_loss: 0.3789\n",
      "Epoch 10/20\n",
      "\u001b[1m380/380\u001b[0m \u001b[32m━━━━━━━━━━━━━━━━━━━━\u001b[0m\u001b[37m\u001b[0m \u001b[1m0s\u001b[0m 161ms/step - accuracy: 0.9683 - auc: 0.9944 - loss: 0.2019\n",
      "Epoch 10: val_loss improved from 0.37892 to 0.36593, saving model to /kaggle/working/best_binary_model.weights.h5\n",
      "\u001b[1m380/380\u001b[0m \u001b[32m━━━━━━━━━━━━━━━━━━━━\u001b[0m\u001b[37m\u001b[0m \u001b[1m64s\u001b[0m 169ms/step - accuracy: 0.9683 - auc: 0.9944 - loss: 0.2019 - val_accuracy: 0.9315 - val_auc: 0.9760 - val_loss: 0.3659\n",
      "Epoch 11/20\n",
      "\u001b[1m380/380\u001b[0m \u001b[32m━━━━━━━━━━━━━━━━━━━━\u001b[0m\u001b[37m\u001b[0m \u001b[1m0s\u001b[0m 159ms/step - accuracy: 0.9702 - auc: 0.9954 - loss: 0.1823\n",
      "Epoch 11: val_loss improved from 0.36593 to 0.31903, saving model to /kaggle/working/best_binary_model.weights.h5\n",
      "\u001b[1m380/380\u001b[0m \u001b[32m━━━━━━━━━━━━━━━━━━━━\u001b[0m\u001b[37m\u001b[0m \u001b[1m63s\u001b[0m 166ms/step - accuracy: 0.9702 - auc: 0.9954 - loss: 0.1824 - val_accuracy: 0.9342 - val_auc: 0.9783 - val_loss: 0.3190\n",
      "Epoch 12/20\n",
      "\u001b[1m380/380\u001b[0m \u001b[32m━━━━━━━━━━━━━━━━━━━━\u001b[0m\u001b[37m\u001b[0m \u001b[1m0s\u001b[0m 159ms/step - accuracy: 0.9750 - auc: 0.9951 - loss: 0.1780\n",
      "Epoch 12: val_loss did not improve from 0.31903\n",
      "\u001b[1m380/380\u001b[0m \u001b[32m━━━━━━━━━━━━━━━━━━━━\u001b[0m\u001b[37m\u001b[0m \u001b[1m63s\u001b[0m 166ms/step - accuracy: 0.9750 - auc: 0.9951 - loss: 0.1780 - val_accuracy: 0.9375 - val_auc: 0.9856 - val_loss: 0.3263\n",
      "Epoch 13/20\n",
      "\u001b[1m380/380\u001b[0m \u001b[32m━━━━━━━━━━━━━━━━━━━━\u001b[0m\u001b[37m\u001b[0m \u001b[1m0s\u001b[0m 160ms/step - accuracy: 0.9756 - auc: 0.9971 - loss: 0.1564\n",
      "Epoch 13: val_loss did not improve from 0.31903\n",
      "\u001b[1m380/380\u001b[0m \u001b[32m━━━━━━━━━━━━━━━━━━━━\u001b[0m\u001b[37m\u001b[0m \u001b[1m63s\u001b[0m 167ms/step - accuracy: 0.9756 - auc: 0.9971 - loss: 0.1564 - val_accuracy: 0.9335 - val_auc: 0.9750 - val_loss: 0.3553\n",
      "Epoch 14/20\n",
      "\u001b[1m380/380\u001b[0m \u001b[32m━━━━━━━━━━━━━━━━━━━━\u001b[0m\u001b[37m\u001b[0m \u001b[1m0s\u001b[0m 159ms/step - accuracy: 0.9805 - auc: 0.9975 - loss: 0.1479\n",
      "Epoch 14: val_loss did not improve from 0.31903\n",
      "\u001b[1m380/380\u001b[0m \u001b[32m━━━━━━━━━━━━━━━━━━━━\u001b[0m\u001b[37m\u001b[0m \u001b[1m63s\u001b[0m 166ms/step - accuracy: 0.9805 - auc: 0.9975 - loss: 0.1479 - val_accuracy: 0.9111 - val_auc: 0.9679 - val_loss: 0.4964\n",
      "Epoch 15/20\n",
      "\u001b[1m380/380\u001b[0m \u001b[32m━━━━━━━━━━━━━━━━━━━━\u001b[0m\u001b[37m\u001b[0m \u001b[1m0s\u001b[0m 159ms/step - accuracy: 0.9756 - auc: 0.9969 - loss: 0.1549\n",
      "Epoch 15: val_loss improved from 0.31903 to 0.25960, saving model to /kaggle/working/best_binary_model.weights.h5\n",
      "\u001b[1m380/380\u001b[0m \u001b[32m━━━━━━━━━━━━━━━━━━━━\u001b[0m\u001b[37m\u001b[0m \u001b[1m63s\u001b[0m 167ms/step - accuracy: 0.9756 - auc: 0.9969 - loss: 0.1549 - val_accuracy: 0.9368 - val_auc: 0.9869 - val_loss: 0.2596\n",
      "Epoch 16/20\n",
      "\u001b[1m380/380\u001b[0m \u001b[32m━━━━━━━━━━━━━━━━━━━━\u001b[0m\u001b[37m\u001b[0m \u001b[1m0s\u001b[0m 160ms/step - accuracy: 0.9815 - auc: 0.9977 - loss: 0.1375\n",
      "Epoch 16: val_loss did not improve from 0.25960\n",
      "\u001b[1m380/380\u001b[0m \u001b[32m━━━━━━━━━━━━━━━━━━━━\u001b[0m\u001b[37m\u001b[0m \u001b[1m64s\u001b[0m 168ms/step - accuracy: 0.9815 - auc: 0.9977 - loss: 0.1375 - val_accuracy: 0.9256 - val_auc: 0.9763 - val_loss: 0.4020\n",
      "Epoch 17/20\n",
      "\u001b[1m380/380\u001b[0m \u001b[32m━━━━━━━━━━━━━━━━━━━━\u001b[0m\u001b[37m\u001b[0m \u001b[1m0s\u001b[0m 160ms/step - accuracy: 0.9806 - auc: 0.9980 - loss: 0.1376\n",
      "Epoch 17: val_loss did not improve from 0.25960\n",
      "\u001b[1m380/380\u001b[0m \u001b[32m━━━━━━━━━━━━━━━━━━━━\u001b[0m\u001b[37m\u001b[0m \u001b[1m64s\u001b[0m 167ms/step - accuracy: 0.9806 - auc: 0.9980 - loss: 0.1376 - val_accuracy: 0.9414 - val_auc: 0.9856 - val_loss: 0.2918\n",
      "Epoch 18/20\n",
      "\u001b[1m380/380\u001b[0m \u001b[32m━━━━━━━━━━━━━━━━━━━━\u001b[0m\u001b[37m\u001b[0m \u001b[1m0s\u001b[0m 160ms/step - accuracy: 0.9774 - auc: 0.9980 - loss: 0.1359\n",
      "Epoch 18: val_loss did not improve from 0.25960\n",
      "\u001b[1m380/380\u001b[0m \u001b[32m━━━━━━━━━━━━━━━━━━━━\u001b[0m\u001b[37m\u001b[0m \u001b[1m64s\u001b[0m 167ms/step - accuracy: 0.9774 - auc: 0.9980 - loss: 0.1359 - val_accuracy: 0.9335 - val_auc: 0.9779 - val_loss: 0.3411\n",
      "Epoch 19/20\n",
      "\u001b[1m380/380\u001b[0m \u001b[32m━━━━━━━━━━━━━━━━━━━━\u001b[0m\u001b[37m\u001b[0m \u001b[1m0s\u001b[0m 159ms/step - accuracy: 0.9871 - auc: 0.9991 - loss: 0.1144\n",
      "Epoch 19: val_loss did not improve from 0.25960\n",
      "\u001b[1m380/380\u001b[0m \u001b[32m━━━━━━━━━━━━━━━━━━━━\u001b[0m\u001b[37m\u001b[0m \u001b[1m63s\u001b[0m 167ms/step - accuracy: 0.9870 - auc: 0.9991 - loss: 0.1145 - val_accuracy: 0.9309 - val_auc: 0.9786 - val_loss: 0.3015\n",
      "Epoch 20/20\n",
      "\u001b[1m380/380\u001b[0m \u001b[32m━━━━━━━━━━━━━━━━━━━━\u001b[0m\u001b[37m\u001b[0m \u001b[1m0s\u001b[0m 160ms/step - accuracy: 0.9854 - auc: 0.9988 - loss: 0.1140\n",
      "Epoch 20: val_loss did not improve from 0.25960\n",
      "\u001b[1m380/380\u001b[0m \u001b[32m━━━━━━━━━━━━━━━━━━━━\u001b[0m\u001b[37m\u001b[0m \u001b[1m63s\u001b[0m 167ms/step - accuracy: 0.9854 - auc: 0.9988 - loss: 0.1140 - val_accuracy: 0.9381 - val_auc: 0.9769 - val_loss: 0.3523\n"
     ]
    }
   ],
   "source": [
    "from tensorflow.keras.callbacks import ModelCheckpoint\n",
    "checkpoint_filepath = \"/kaggle/working/best_binary_model.weights.h5\"\n",
    "checkpoint_callback = ModelCheckpoint(\n",
    "    filepath=checkpoint_filepath,\n",
    "    monitor=\"val_loss\",\n",
    "    save_best_only=True,\n",
    "    save_weights_only=True,\n",
    "    mode=\"min\",\n",
    "    verbose=1\n",
    ")\n",
    "\n",
    "history = model.fit(type_train_ds, epochs=20, \n",
    "                    validation_data=type_valid_ds,\n",
    "                    callbacks=[checkpoint_callback])\n",
    "model.load_weights(checkpoint_filepath)"
   ]
  },
  {
   "cell_type": "code",
   "execution_count": 15,
   "id": "9cad5f7f",
   "metadata": {
    "execution": {
     "iopub.execute_input": "2025-07-22T14:50:41.247288Z",
     "iopub.status.busy": "2025-07-22T14:50:41.247015Z",
     "iopub.status.idle": "2025-07-22T14:50:44.149476Z",
     "shell.execute_reply": "2025-07-22T14:50:44.148757Z"
    },
    "papermill": {
     "duration": 3.21676,
     "end_time": "2025-07-22T14:50:44.150617",
     "exception": false,
     "start_time": "2025-07-22T14:50:40.933857",
     "status": "completed"
    },
    "tags": []
   },
   "outputs": [
    {
     "name": "stdout",
     "output_type": "stream",
     "text": [
      "\u001b[1m95/95\u001b[0m \u001b[32m━━━━━━━━━━━━━━━━━━━━\u001b[0m\u001b[37m\u001b[0m \u001b[1m3s\u001b[0m 30ms/step - accuracy: 0.9393 - auc: 0.9888 - loss: 0.2472\n"
     ]
    }
   ],
   "source": [
    "from tensorflow.keras.metrics import AUC\n",
    "result = model.evaluate(type_valid_ds)"
   ]
  },
  {
   "cell_type": "code",
   "execution_count": 16,
   "id": "59ed4eaa",
   "metadata": {
    "execution": {
     "iopub.execute_input": "2025-07-22T14:50:44.876635Z",
     "iopub.status.busy": "2025-07-22T14:50:44.876281Z",
     "iopub.status.idle": "2025-07-22T14:51:20.302546Z",
     "shell.execute_reply": "2025-07-22T14:51:20.301830Z"
    },
    "papermill": {
     "duration": 36.101759,
     "end_time": "2025-07-22T14:51:20.619012",
     "exception": false,
     "start_time": "2025-07-22T14:50:44.517253",
     "status": "completed"
    },
    "tags": []
   },
   "outputs": [
    {
     "data": {
      "text/plain": [
       "<tf.Tensor: shape=(2, 2), dtype=int32, numpy=\n",
       "array([[540,  26],\n",
       "       [ 70, 883]], dtype=int32)>"
      ]
     },
     "execution_count": 16,
     "metadata": {},
     "output_type": "execute_result"
    }
   ],
   "source": [
    "conf_tensor = tf.zeros((2, 2), dtype=tf.int32)\n",
    "for i, (inputs, labels, sample_weight) in enumerate(type_valid_ds):\n",
    "    labels_pred = model.predict(inputs, verbose=0)\n",
    "    labels_pred[labels_pred < 0.5] = 0\n",
    "    labels_pred[labels_pred >= 0.5] = 1\n",
    "    conf_tensor += tf.math.confusion_matrix(tf.reshape(labels, -1), tf.reshape(labels_pred, -1))\n",
    "conf_tensor"
   ]
  },
  {
   "cell_type": "code",
   "execution_count": 17,
   "id": "75f88426",
   "metadata": {
    "execution": {
     "iopub.execute_input": "2025-07-22T14:51:21.296053Z",
     "iopub.status.busy": "2025-07-22T14:51:21.295768Z",
     "iopub.status.idle": "2025-07-22T14:51:21.316064Z",
     "shell.execute_reply": "2025-07-22T14:51:21.315372Z"
    },
    "papermill": {
     "duration": 0.333779,
     "end_time": "2025-07-22T14:51:21.317215",
     "exception": false,
     "start_time": "2025-07-22T14:51:20.983436",
     "status": "completed"
    },
    "tags": []
   },
   "outputs": [
    {
     "name": "stdout",
     "output_type": "stream",
     "text": [
      "tf.Tensor(0.9265477439664218, shape=(), dtype=float64)\n",
      "tf.Tensor(0.9713971397139713, shape=(), dtype=float64)\n",
      "tf.Tensor(0.9484425349087002, shape=(), dtype=float64)\n"
     ]
    }
   ],
   "source": [
    "precision = conf_tensor[1][1] / (conf_tensor[1][0] + conf_tensor[1][1])\n",
    "recall = conf_tensor[1][1] / (conf_tensor[0][1] + conf_tensor[1][1])\n",
    "inv_f1 = (1/precision + 1/recall)/2\n",
    "f1 = 1/inv_f1\n",
    "print(precision)\n",
    "print(recall)\n",
    "print(f1)"
   ]
  },
  {
   "cell_type": "code",
   "execution_count": 18,
   "id": "8cec51f5",
   "metadata": {
    "execution": {
     "iopub.execute_input": "2025-07-22T14:51:21.941487Z",
     "iopub.status.busy": "2025-07-22T14:51:21.941165Z",
     "iopub.status.idle": "2025-07-22T14:51:21.944802Z",
     "shell.execute_reply": "2025-07-22T14:51:21.944212Z"
    },
    "papermill": {
     "duration": 0.317629,
     "end_time": "2025-07-22T14:51:21.945881",
     "exception": false,
     "start_time": "2025-07-22T14:51:21.628252",
     "status": "completed"
    },
    "tags": []
   },
   "outputs": [],
   "source": [
    "model.set_multi()\n",
    "# model.freeze_conv_timeseries()"
   ]
  },
  {
   "cell_type": "code",
   "execution_count": 19,
   "id": "677579db",
   "metadata": {
    "execution": {
     "iopub.execute_input": "2025-07-22T14:51:22.621231Z",
     "iopub.status.busy": "2025-07-22T14:51:22.620271Z",
     "iopub.status.idle": "2025-07-22T14:51:22.922431Z",
     "shell.execute_reply": "2025-07-22T14:51:22.921588Z"
    },
    "papermill": {
     "duration": 0.615323,
     "end_time": "2025-07-22T14:51:22.925011",
     "exception": false,
     "start_time": "2025-07-22T14:51:22.309688",
     "status": "completed"
    },
    "tags": []
   },
   "outputs": [],
   "source": [
    "from tensorflow.keras.metrics import CategoricalAccuracy\n",
    "model.compile(loss=CategoricalCrossentropy(label_smoothing=0.3),\n",
    "              optimizer=Adam(learning_rate=0.0005),\n",
    "              metrics=[\"accuracy\"])\n",
    "\n",
    "# with strategy.scope():\n",
    "#     model.load_weights(checkpoint_filepath)\n",
    "#     model.compile(loss=CategoricalCrossentropy(),\n",
    "#                   optimizer=Adam(learning_rate=0.0005),\n",
    "#                   metrics=[\"accuracy\"])"
   ]
  },
  {
   "cell_type": "code",
   "execution_count": 20,
   "id": "cb8d3599",
   "metadata": {
    "execution": {
     "iopub.execute_input": "2025-07-22T14:51:23.599015Z",
     "iopub.status.busy": "2025-07-22T14:51:23.598098Z",
     "iopub.status.idle": "2025-07-22T15:47:17.342840Z",
     "shell.execute_reply": "2025-07-22T15:47:17.341993Z"
    },
    "papermill": {
     "duration": 3355.174451,
     "end_time": "2025-07-22T15:47:18.411633",
     "exception": false,
     "start_time": "2025-07-22T14:51:23.237182",
     "status": "completed"
    },
    "tags": []
   },
   "outputs": [
    {
     "name": "stdout",
     "output_type": "stream",
     "text": [
      "Epoch 1/50\n",
      "    380/Unknown \u001b[1m184s\u001b[0m 161ms/step - accuracy: 0.2089 - loss: 8.7249\n",
      "Epoch 1: val_accuracy improved from -inf to 0.35155, saving model to /kaggle/working/cmi_best_model.weights.h5\n",
      "\u001b[1m380/380\u001b[0m \u001b[32m━━━━━━━━━━━━━━━━━━━━\u001b[0m\u001b[37m\u001b[0m \u001b[1m199s\u001b[0m 202ms/step - accuracy: 0.2090 - loss: 8.7240 - val_accuracy: 0.3515 - val_loss: 8.0480\n",
      "Epoch 2/50\n",
      "\u001b[1m380/380\u001b[0m \u001b[32m━━━━━━━━━━━━━━━━━━━━\u001b[0m\u001b[37m\u001b[0m \u001b[1m0s\u001b[0m 159ms/step - accuracy: 0.3556 - loss: 8.0066\n",
      "Epoch 2: val_accuracy improved from 0.35155 to 0.39631, saving model to /kaggle/working/cmi_best_model.weights.h5\n",
      "\u001b[1m380/380\u001b[0m \u001b[32m━━━━━━━━━━━━━━━━━━━━\u001b[0m\u001b[37m\u001b[0m \u001b[1m63s\u001b[0m 167ms/step - accuracy: 0.3557 - loss: 8.0063 - val_accuracy: 0.3963 - val_loss: 7.8471\n",
      "Epoch 3/50\n",
      "\u001b[1m380/380\u001b[0m \u001b[32m━━━━━━━━━━━━━━━━━━━━\u001b[0m\u001b[37m\u001b[0m \u001b[1m0s\u001b[0m 159ms/step - accuracy: 0.4244 - loss: 7.6871\n",
      "Epoch 3: val_accuracy improved from 0.39631 to 0.42923, saving model to /kaggle/working/cmi_best_model.weights.h5\n",
      "\u001b[1m380/380\u001b[0m \u001b[32m━━━━━━━━━━━━━━━━━━━━\u001b[0m\u001b[37m\u001b[0m \u001b[1m63s\u001b[0m 166ms/step - accuracy: 0.4244 - loss: 7.6869 - val_accuracy: 0.4292 - val_loss: 7.6724\n",
      "Epoch 4/50\n",
      "\u001b[1m380/380\u001b[0m \u001b[32m━━━━━━━━━━━━━━━━━━━━\u001b[0m\u001b[37m\u001b[0m \u001b[1m0s\u001b[0m 158ms/step - accuracy: 0.4657 - loss: 7.5087\n",
      "Epoch 4: val_accuracy did not improve from 0.42923\n",
      "\u001b[1m380/380\u001b[0m \u001b[32m━━━━━━━━━━━━━━━━━━━━\u001b[0m\u001b[37m\u001b[0m \u001b[1m63s\u001b[0m 165ms/step - accuracy: 0.4658 - loss: 7.5084 - val_accuracy: 0.4207 - val_loss: 7.7351\n",
      "Epoch 5/50\n",
      "\u001b[1m380/380\u001b[0m \u001b[32m━━━━━━━━━━━━━━━━━━━━\u001b[0m\u001b[37m\u001b[0m \u001b[1m0s\u001b[0m 159ms/step - accuracy: 0.4997 - loss: 7.3163\n",
      "Epoch 5: val_accuracy improved from 0.42923 to 0.45688, saving model to /kaggle/working/cmi_best_model.weights.h5\n",
      "\u001b[1m380/380\u001b[0m \u001b[32m━━━━━━━━━━━━━━━━━━━━\u001b[0m\u001b[37m\u001b[0m \u001b[1m63s\u001b[0m 166ms/step - accuracy: 0.4997 - loss: 7.3162 - val_accuracy: 0.4569 - val_loss: 7.5902\n",
      "Epoch 6/50\n",
      "\u001b[1m380/380\u001b[0m \u001b[32m━━━━━━━━━━━━━━━━━━━━\u001b[0m\u001b[37m\u001b[0m \u001b[1m0s\u001b[0m 159ms/step - accuracy: 0.5285 - loss: 7.2288\n",
      "Epoch 6: val_accuracy improved from 0.45688 to 0.46149, saving model to /kaggle/working/cmi_best_model.weights.h5\n",
      "\u001b[1m380/380\u001b[0m \u001b[32m━━━━━━━━━━━━━━━━━━━━\u001b[0m\u001b[37m\u001b[0m \u001b[1m63s\u001b[0m 166ms/step - accuracy: 0.5285 - loss: 7.2286 - val_accuracy: 0.4615 - val_loss: 7.6223\n",
      "Epoch 7/50\n",
      "\u001b[1m380/380\u001b[0m \u001b[32m━━━━━━━━━━━━━━━━━━━━\u001b[0m\u001b[37m\u001b[0m \u001b[1m0s\u001b[0m 159ms/step - accuracy: 0.5536 - loss: 7.1047\n",
      "Epoch 7: val_accuracy improved from 0.46149 to 0.46412, saving model to /kaggle/working/cmi_best_model.weights.h5\n",
      "\u001b[1m380/380\u001b[0m \u001b[32m━━━━━━━━━━━━━━━━━━━━\u001b[0m\u001b[37m\u001b[0m \u001b[1m63s\u001b[0m 166ms/step - accuracy: 0.5536 - loss: 7.1045 - val_accuracy: 0.4641 - val_loss: 7.6358\n",
      "Epoch 8/50\n",
      "\u001b[1m380/380\u001b[0m \u001b[32m━━━━━━━━━━━━━━━━━━━━\u001b[0m\u001b[37m\u001b[0m \u001b[1m0s\u001b[0m 159ms/step - accuracy: 0.5685 - loss: 7.0065\n",
      "Epoch 8: val_accuracy improved from 0.46412 to 0.47926, saving model to /kaggle/working/cmi_best_model.weights.h5\n",
      "\u001b[1m380/380\u001b[0m \u001b[32m━━━━━━━━━━━━━━━━━━━━\u001b[0m\u001b[37m\u001b[0m \u001b[1m63s\u001b[0m 166ms/step - accuracy: 0.5685 - loss: 7.0063 - val_accuracy: 0.4793 - val_loss: 7.5527\n",
      "Epoch 9/50\n",
      "\u001b[1m380/380\u001b[0m \u001b[32m━━━━━━━━━━━━━━━━━━━━\u001b[0m\u001b[37m\u001b[0m \u001b[1m0s\u001b[0m 159ms/step - accuracy: 0.5912 - loss: 6.8820\n",
      "Epoch 9: val_accuracy did not improve from 0.47926\n",
      "\u001b[1m380/380\u001b[0m \u001b[32m━━━━━━━━━━━━━━━━━━━━\u001b[0m\u001b[37m\u001b[0m \u001b[1m63s\u001b[0m 166ms/step - accuracy: 0.5912 - loss: 6.8819 - val_accuracy: 0.4674 - val_loss: 7.6631\n",
      "Epoch 10/50\n",
      "\u001b[1m380/380\u001b[0m \u001b[32m━━━━━━━━━━━━━━━━━━━━\u001b[0m\u001b[37m\u001b[0m \u001b[1m0s\u001b[0m 159ms/step - accuracy: 0.6231 - loss: 6.8004\n",
      "Epoch 10: val_accuracy did not improve from 0.47926\n",
      "\u001b[1m380/380\u001b[0m \u001b[32m━━━━━━━━━━━━━━━━━━━━\u001b[0m\u001b[37m\u001b[0m \u001b[1m63s\u001b[0m 166ms/step - accuracy: 0.6231 - loss: 6.8002 - val_accuracy: 0.4727 - val_loss: 7.6908\n",
      "Epoch 11/50\n",
      "\u001b[1m380/380\u001b[0m \u001b[32m━━━━━━━━━━━━━━━━━━━━\u001b[0m\u001b[37m\u001b[0m \u001b[1m0s\u001b[0m 159ms/step - accuracy: 0.6389 - loss: 6.7014\n",
      "Epoch 11: val_accuracy did not improve from 0.47926\n",
      "\u001b[1m380/380\u001b[0m \u001b[32m━━━━━━━━━━━━━━━━━━━━\u001b[0m\u001b[37m\u001b[0m \u001b[1m63s\u001b[0m 166ms/step - accuracy: 0.6389 - loss: 6.7012 - val_accuracy: 0.4793 - val_loss: 7.7493\n",
      "Epoch 12/50\n",
      "\u001b[1m380/380\u001b[0m \u001b[32m━━━━━━━━━━━━━━━━━━━━\u001b[0m\u001b[37m\u001b[0m \u001b[1m0s\u001b[0m 159ms/step - accuracy: 0.6680 - loss: 6.5731\n",
      "Epoch 12: val_accuracy improved from 0.47926 to 0.48321, saving model to /kaggle/working/cmi_best_model.weights.h5\n",
      "\u001b[1m380/380\u001b[0m \u001b[32m━━━━━━━━━━━━━━━━━━━━\u001b[0m\u001b[37m\u001b[0m \u001b[1m63s\u001b[0m 166ms/step - accuracy: 0.6680 - loss: 6.5729 - val_accuracy: 0.4832 - val_loss: 7.9150\n",
      "Epoch 13/50\n",
      "\u001b[1m380/380\u001b[0m \u001b[32m━━━━━━━━━━━━━━━━━━━━\u001b[0m\u001b[37m\u001b[0m \u001b[1m0s\u001b[0m 161ms/step - accuracy: 0.7043 - loss: 6.4466\n",
      "Epoch 13: val_accuracy improved from 0.48321 to 0.49835, saving model to /kaggle/working/cmi_best_model.weights.h5\n",
      "\u001b[1m380/380\u001b[0m \u001b[32m━━━━━━━━━━━━━━━━━━━━\u001b[0m\u001b[37m\u001b[0m \u001b[1m64s\u001b[0m 168ms/step - accuracy: 0.7043 - loss: 6.4465 - val_accuracy: 0.4984 - val_loss: 7.8076\n",
      "Epoch 14/50\n",
      "\u001b[1m380/380\u001b[0m \u001b[32m━━━━━━━━━━━━━━━━━━━━\u001b[0m\u001b[37m\u001b[0m \u001b[1m0s\u001b[0m 161ms/step - accuracy: 0.7158 - loss: 6.3927\n",
      "Epoch 14: val_accuracy did not improve from 0.49835\n",
      "\u001b[1m380/380\u001b[0m \u001b[32m━━━━━━━━━━━━━━━━━━━━\u001b[0m\u001b[37m\u001b[0m \u001b[1m64s\u001b[0m 169ms/step - accuracy: 0.7158 - loss: 6.3924 - val_accuracy: 0.4687 - val_loss: 8.0611\n",
      "Epoch 15/50\n",
      "\u001b[1m380/380\u001b[0m \u001b[32m━━━━━━━━━━━━━━━━━━━━\u001b[0m\u001b[37m\u001b[0m \u001b[1m0s\u001b[0m 163ms/step - accuracy: 0.7412 - loss: 6.2658\n",
      "Epoch 15: val_accuracy did not improve from 0.49835\n",
      "\u001b[1m380/380\u001b[0m \u001b[32m━━━━━━━━━━━━━━━━━━━━\u001b[0m\u001b[37m\u001b[0m \u001b[1m65s\u001b[0m 170ms/step - accuracy: 0.7412 - loss: 6.2656 - val_accuracy: 0.4799 - val_loss: 8.1924\n",
      "Epoch 16/50\n",
      "\u001b[1m380/380\u001b[0m \u001b[32m━━━━━━━━━━━━━━━━━━━━\u001b[0m\u001b[37m\u001b[0m \u001b[1m0s\u001b[0m 163ms/step - accuracy: 0.7541 - loss: 6.2134\n",
      "Epoch 16: val_accuracy did not improve from 0.49835\n",
      "\u001b[1m380/380\u001b[0m \u001b[32m━━━━━━━━━━━━━━━━━━━━\u001b[0m\u001b[37m\u001b[0m \u001b[1m65s\u001b[0m 171ms/step - accuracy: 0.7541 - loss: 6.2132 - val_accuracy: 0.4799 - val_loss: 8.0873\n",
      "Epoch 17/50\n",
      "\u001b[1m380/380\u001b[0m \u001b[32m━━━━━━━━━━━━━━━━━━━━\u001b[0m\u001b[37m\u001b[0m \u001b[1m0s\u001b[0m 163ms/step - accuracy: 0.7892 - loss: 6.0811\n",
      "Epoch 17: val_accuracy did not improve from 0.49835\n",
      "\u001b[1m380/380\u001b[0m \u001b[32m━━━━━━━━━━━━━━━━━━━━\u001b[0m\u001b[37m\u001b[0m \u001b[1m65s\u001b[0m 170ms/step - accuracy: 0.7892 - loss: 6.0809 - val_accuracy: 0.4760 - val_loss: 8.1567\n",
      "Epoch 18/50\n",
      "\u001b[1m380/380\u001b[0m \u001b[32m━━━━━━━━━━━━━━━━━━━━\u001b[0m\u001b[37m\u001b[0m \u001b[1m0s\u001b[0m 163ms/step - accuracy: 0.7939 - loss: 6.0579\n",
      "Epoch 18: val_accuracy did not improve from 0.49835\n",
      "\u001b[1m380/380\u001b[0m \u001b[32m━━━━━━━━━━━━━━━━━━━━\u001b[0m\u001b[37m\u001b[0m \u001b[1m65s\u001b[0m 171ms/step - accuracy: 0.7939 - loss: 6.0577 - val_accuracy: 0.4714 - val_loss: 8.2187\n",
      "Epoch 19/50\n",
      "\u001b[1m380/380\u001b[0m \u001b[32m━━━━━━━━━━━━━━━━━━━━\u001b[0m\u001b[37m\u001b[0m \u001b[1m0s\u001b[0m 162ms/step - accuracy: 0.8072 - loss: 5.9694\n",
      "Epoch 19: val_accuracy did not improve from 0.49835\n",
      "\u001b[1m380/380\u001b[0m \u001b[32m━━━━━━━━━━━━━━━━━━━━\u001b[0m\u001b[37m\u001b[0m \u001b[1m65s\u001b[0m 170ms/step - accuracy: 0.8072 - loss: 5.9693 - val_accuracy: 0.4529 - val_loss: 8.3823\n",
      "Epoch 20/50\n",
      "\u001b[1m380/380\u001b[0m \u001b[32m━━━━━━━━━━━━━━━━━━━━\u001b[0m\u001b[37m\u001b[0m \u001b[1m0s\u001b[0m 162ms/step - accuracy: 0.8153 - loss: 5.9177\n",
      "Epoch 20: val_accuracy did not improve from 0.49835\n",
      "\u001b[1m380/380\u001b[0m \u001b[32m━━━━━━━━━━━━━━━━━━━━\u001b[0m\u001b[37m\u001b[0m \u001b[1m64s\u001b[0m 170ms/step - accuracy: 0.8153 - loss: 5.9176 - val_accuracy: 0.4753 - val_loss: 8.2799\n",
      "Epoch 21/50\n",
      "\u001b[1m380/380\u001b[0m \u001b[32m━━━━━━━━━━━━━━━━━━━━\u001b[0m\u001b[37m\u001b[0m \u001b[1m0s\u001b[0m 163ms/step - accuracy: 0.8339 - loss: 5.8530\n",
      "Epoch 21: val_accuracy did not improve from 0.49835\n",
      "\u001b[1m380/380\u001b[0m \u001b[32m━━━━━━━━━━━━━━━━━━━━\u001b[0m\u001b[37m\u001b[0m \u001b[1m65s\u001b[0m 171ms/step - accuracy: 0.8339 - loss: 5.8529 - val_accuracy: 0.4681 - val_loss: 8.3227\n",
      "Epoch 22/50\n",
      "\u001b[1m380/380\u001b[0m \u001b[32m━━━━━━━━━━━━━━━━━━━━\u001b[0m\u001b[37m\u001b[0m \u001b[1m0s\u001b[0m 164ms/step - accuracy: 0.8481 - loss: 5.8067\n",
      "Epoch 22: val_accuracy did not improve from 0.49835\n",
      "\u001b[1m380/380\u001b[0m \u001b[32m━━━━━━━━━━━━━━━━━━━━\u001b[0m\u001b[37m\u001b[0m \u001b[1m65s\u001b[0m 171ms/step - accuracy: 0.8480 - loss: 5.8067 - val_accuracy: 0.4819 - val_loss: 8.2591\n",
      "Epoch 23/50\n",
      "\u001b[1m380/380\u001b[0m \u001b[32m━━━━━━━━━━━━━━━━━━━━\u001b[0m\u001b[37m\u001b[0m \u001b[1m0s\u001b[0m 163ms/step - accuracy: 0.8430 - loss: 5.7764\n",
      "Epoch 23: val_accuracy did not improve from 0.49835\n",
      "\u001b[1m380/380\u001b[0m \u001b[32m━━━━━━━━━━━━━━━━━━━━\u001b[0m\u001b[37m\u001b[0m \u001b[1m65s\u001b[0m 170ms/step - accuracy: 0.8430 - loss: 5.7763 - val_accuracy: 0.4674 - val_loss: 8.4614\n",
      "Epoch 24/50\n",
      "\u001b[1m380/380\u001b[0m \u001b[32m━━━━━━━━━━━━━━━━━━━━\u001b[0m\u001b[37m\u001b[0m \u001b[1m0s\u001b[0m 162ms/step - accuracy: 0.8559 - loss: 5.7331\n",
      "Epoch 24: val_accuracy did not improve from 0.49835\n",
      "\u001b[1m380/380\u001b[0m \u001b[32m━━━━━━━━━━━━━━━━━━━━\u001b[0m\u001b[37m\u001b[0m \u001b[1m64s\u001b[0m 170ms/step - accuracy: 0.8559 - loss: 5.7330 - val_accuracy: 0.4733 - val_loss: 8.2932\n",
      "Epoch 25/50\n",
      "\u001b[1m380/380\u001b[0m \u001b[32m━━━━━━━━━━━━━━━━━━━━\u001b[0m\u001b[37m\u001b[0m \u001b[1m0s\u001b[0m 163ms/step - accuracy: 0.8730 - loss: 5.6777\n",
      "Epoch 25: val_accuracy did not improve from 0.49835\n",
      "\u001b[1m380/380\u001b[0m \u001b[32m━━━━━━━━━━━━━━━━━━━━\u001b[0m\u001b[37m\u001b[0m \u001b[1m65s\u001b[0m 170ms/step - accuracy: 0.8730 - loss: 5.6777 - val_accuracy: 0.4819 - val_loss: 8.1938\n",
      "Epoch 26/50\n",
      "\u001b[1m380/380\u001b[0m \u001b[32m━━━━━━━━━━━━━━━━━━━━\u001b[0m\u001b[37m\u001b[0m \u001b[1m0s\u001b[0m 163ms/step - accuracy: 0.8768 - loss: 5.6554\n",
      "Epoch 26: val_accuracy did not improve from 0.49835\n",
      "\u001b[1m380/380\u001b[0m \u001b[32m━━━━━━━━━━━━━━━━━━━━\u001b[0m\u001b[37m\u001b[0m \u001b[1m65s\u001b[0m 170ms/step - accuracy: 0.8768 - loss: 5.6553 - val_accuracy: 0.4878 - val_loss: 8.3299\n",
      "Epoch 27/50\n",
      "\u001b[1m380/380\u001b[0m \u001b[32m━━━━━━━━━━━━━━━━━━━━\u001b[0m\u001b[37m\u001b[0m \u001b[1m0s\u001b[0m 162ms/step - accuracy: 0.8759 - loss: 5.6572\n",
      "Epoch 27: val_accuracy did not improve from 0.49835\n",
      "\u001b[1m380/380\u001b[0m \u001b[32m━━━━━━━━━━━━━━━━━━━━\u001b[0m\u001b[37m\u001b[0m \u001b[1m65s\u001b[0m 170ms/step - accuracy: 0.8759 - loss: 5.6571 - val_accuracy: 0.4970 - val_loss: 8.1396\n",
      "Epoch 28/50\n",
      "\u001b[1m380/380\u001b[0m \u001b[32m━━━━━━━━━━━━━━━━━━━━\u001b[0m\u001b[37m\u001b[0m \u001b[1m0s\u001b[0m 162ms/step - accuracy: 0.8860 - loss: 5.6397\n",
      "Epoch 28: val_accuracy did not improve from 0.49835\n",
      "\u001b[1m380/380\u001b[0m \u001b[32m━━━━━━━━━━━━━━━━━━━━\u001b[0m\u001b[37m\u001b[0m \u001b[1m65s\u001b[0m 170ms/step - accuracy: 0.8860 - loss: 5.6396 - val_accuracy: 0.4694 - val_loss: 8.3141\n",
      "Epoch 29/50\n",
      "\u001b[1m380/380\u001b[0m \u001b[32m━━━━━━━━━━━━━━━━━━━━\u001b[0m\u001b[37m\u001b[0m \u001b[1m0s\u001b[0m 162ms/step - accuracy: 0.8833 - loss: 5.6051\n",
      "Epoch 29: val_accuracy did not improve from 0.49835\n",
      "\u001b[1m380/380\u001b[0m \u001b[32m━━━━━━━━━━━━━━━━━━━━\u001b[0m\u001b[37m\u001b[0m \u001b[1m65s\u001b[0m 170ms/step - accuracy: 0.8833 - loss: 5.6050 - val_accuracy: 0.4661 - val_loss: 8.4182\n",
      "Epoch 30/50\n",
      "\u001b[1m380/380\u001b[0m \u001b[32m━━━━━━━━━━━━━━━━━━━━\u001b[0m\u001b[37m\u001b[0m \u001b[1m0s\u001b[0m 162ms/step - accuracy: 0.8861 - loss: 5.5779\n",
      "Epoch 30: val_accuracy did not improve from 0.49835\n",
      "\u001b[1m380/380\u001b[0m \u001b[32m━━━━━━━━━━━━━━━━━━━━\u001b[0m\u001b[37m\u001b[0m \u001b[1m64s\u001b[0m 169ms/step - accuracy: 0.8861 - loss: 5.5779 - val_accuracy: 0.4700 - val_loss: 8.4819\n",
      "Epoch 31/50\n",
      "\u001b[1m380/380\u001b[0m \u001b[32m━━━━━━━━━━━━━━━━━━━━\u001b[0m\u001b[37m\u001b[0m \u001b[1m0s\u001b[0m 162ms/step - accuracy: 0.8964 - loss: 5.5735\n",
      "Epoch 31: val_accuracy did not improve from 0.49835\n",
      "\u001b[1m380/380\u001b[0m \u001b[32m━━━━━━━━━━━━━━━━━━━━\u001b[0m\u001b[37m\u001b[0m \u001b[1m64s\u001b[0m 170ms/step - accuracy: 0.8964 - loss: 5.5734 - val_accuracy: 0.4714 - val_loss: 8.4010\n",
      "Epoch 32/50\n",
      "\u001b[1m380/380\u001b[0m \u001b[32m━━━━━━━━━━━━━━━━━━━━\u001b[0m\u001b[37m\u001b[0m \u001b[1m0s\u001b[0m 162ms/step - accuracy: 0.9007 - loss: 5.5368\n",
      "Epoch 32: val_accuracy did not improve from 0.49835\n",
      "\u001b[1m380/380\u001b[0m \u001b[32m━━━━━━━━━━━━━━━━━━━━\u001b[0m\u001b[37m\u001b[0m \u001b[1m65s\u001b[0m 170ms/step - accuracy: 0.9007 - loss: 5.5367 - val_accuracy: 0.4865 - val_loss: 8.3190\n",
      "Epoch 33/50\n",
      "\u001b[1m380/380\u001b[0m \u001b[32m━━━━━━━━━━━━━━━━━━━━\u001b[0m\u001b[37m\u001b[0m \u001b[1m0s\u001b[0m 167ms/step - accuracy: 0.9075 - loss: 5.5246\n",
      "Epoch 33: val_accuracy did not improve from 0.49835\n",
      "\u001b[1m380/380\u001b[0m \u001b[32m━━━━━━━━━━━━━━━━━━━━\u001b[0m\u001b[37m\u001b[0m \u001b[1m67s\u001b[0m 175ms/step - accuracy: 0.9075 - loss: 5.5245 - val_accuracy: 0.4773 - val_loss: 8.3035\n",
      "Epoch 34/50\n",
      "\u001b[1m380/380\u001b[0m \u001b[32m━━━━━━━━━━━━━━━━━━━━\u001b[0m\u001b[37m\u001b[0m \u001b[1m0s\u001b[0m 166ms/step - accuracy: 0.9097 - loss: 5.4824\n",
      "Epoch 34: val_accuracy did not improve from 0.49835\n",
      "\u001b[1m380/380\u001b[0m \u001b[32m━━━━━━━━━━━━━━━━━━━━\u001b[0m\u001b[37m\u001b[0m \u001b[1m66s\u001b[0m 173ms/step - accuracy: 0.9097 - loss: 5.4824 - val_accuracy: 0.4924 - val_loss: 8.2679\n",
      "Epoch 35/50\n",
      "\u001b[1m380/380\u001b[0m \u001b[32m━━━━━━━━━━━━━━━━━━━━\u001b[0m\u001b[37m\u001b[0m \u001b[1m0s\u001b[0m 164ms/step - accuracy: 0.9099 - loss: 5.4787\n",
      "Epoch 35: val_accuracy did not improve from 0.49835\n",
      "\u001b[1m380/380\u001b[0m \u001b[32m━━━━━━━━━━━━━━━━━━━━\u001b[0m\u001b[37m\u001b[0m \u001b[1m65s\u001b[0m 171ms/step - accuracy: 0.9099 - loss: 5.4786 - val_accuracy: 0.4779 - val_loss: 8.1768\n",
      "Epoch 36/50\n",
      "\u001b[1m380/380\u001b[0m \u001b[32m━━━━━━━━━━━━━━━━━━━━\u001b[0m\u001b[37m\u001b[0m \u001b[1m0s\u001b[0m 163ms/step - accuracy: 0.9095 - loss: 5.4776\n",
      "Epoch 36: val_accuracy did not improve from 0.49835\n",
      "\u001b[1m380/380\u001b[0m \u001b[32m━━━━━━━━━━━━━━━━━━━━\u001b[0m\u001b[37m\u001b[0m \u001b[1m65s\u001b[0m 171ms/step - accuracy: 0.9095 - loss: 5.4775 - val_accuracy: 0.4826 - val_loss: 8.1796\n",
      "Epoch 37/50\n",
      "\u001b[1m380/380\u001b[0m \u001b[32m━━━━━━━━━━━━━━━━━━━━\u001b[0m\u001b[37m\u001b[0m \u001b[1m0s\u001b[0m 163ms/step - accuracy: 0.9189 - loss: 5.4661\n",
      "Epoch 37: val_accuracy did not improve from 0.49835\n",
      "\u001b[1m380/380\u001b[0m \u001b[32m━━━━━━━━━━━━━━━━━━━━\u001b[0m\u001b[37m\u001b[0m \u001b[1m65s\u001b[0m 171ms/step - accuracy: 0.9189 - loss: 5.4660 - val_accuracy: 0.4918 - val_loss: 8.2026\n",
      "Epoch 38/50\n",
      "\u001b[1m380/380\u001b[0m \u001b[32m━━━━━━━━━━━━━━━━━━━━\u001b[0m\u001b[37m\u001b[0m \u001b[1m0s\u001b[0m 163ms/step - accuracy: 0.9317 - loss: 5.4234\n",
      "Epoch 38: val_accuracy did not improve from 0.49835\n",
      "\u001b[1m380/380\u001b[0m \u001b[32m━━━━━━━━━━━━━━━━━━━━\u001b[0m\u001b[37m\u001b[0m \u001b[1m65s\u001b[0m 170ms/step - accuracy: 0.9317 - loss: 5.4233 - val_accuracy: 0.4779 - val_loss: 8.3380\n",
      "Epoch 39/50\n",
      "\u001b[1m380/380\u001b[0m \u001b[32m━━━━━━━━━━━━━━━━━━━━\u001b[0m\u001b[37m\u001b[0m \u001b[1m0s\u001b[0m 164ms/step - accuracy: 0.9283 - loss: 5.4308\n",
      "Epoch 39: val_accuracy did not improve from 0.49835\n",
      "\u001b[1m380/380\u001b[0m \u001b[32m━━━━━━━━━━━━━━━━━━━━\u001b[0m\u001b[37m\u001b[0m \u001b[1m65s\u001b[0m 171ms/step - accuracy: 0.9282 - loss: 5.4308 - val_accuracy: 0.4733 - val_loss: 8.2320\n",
      "Epoch 40/50\n",
      "\u001b[1m380/380\u001b[0m \u001b[32m━━━━━━━━━━━━━━━━━━━━\u001b[0m\u001b[37m\u001b[0m \u001b[1m0s\u001b[0m 163ms/step - accuracy: 0.9266 - loss: 5.4365\n",
      "Epoch 40: val_accuracy did not improve from 0.49835\n",
      "\u001b[1m380/380\u001b[0m \u001b[32m━━━━━━━━━━━━━━━━━━━━\u001b[0m\u001b[37m\u001b[0m \u001b[1m65s\u001b[0m 170ms/step - accuracy: 0.9266 - loss: 5.4364 - val_accuracy: 0.4852 - val_loss: 8.1696\n",
      "Epoch 41/50\n",
      "\u001b[1m380/380\u001b[0m \u001b[32m━━━━━━━━━━━━━━━━━━━━\u001b[0m\u001b[37m\u001b[0m \u001b[1m0s\u001b[0m 162ms/step - accuracy: 0.9284 - loss: 5.4182\n",
      "Epoch 41: val_accuracy did not improve from 0.49835\n",
      "\u001b[1m380/380\u001b[0m \u001b[32m━━━━━━━━━━━━━━━━━━━━\u001b[0m\u001b[37m\u001b[0m \u001b[1m65s\u001b[0m 170ms/step - accuracy: 0.9285 - loss: 5.4181 - val_accuracy: 0.4786 - val_loss: 8.2124\n",
      "Epoch 42/50\n",
      "\u001b[1m380/380\u001b[0m \u001b[32m━━━━━━━━━━━━━━━━━━━━\u001b[0m\u001b[37m\u001b[0m \u001b[1m0s\u001b[0m 162ms/step - accuracy: 0.9321 - loss: 5.3865\n",
      "Epoch 42: val_accuracy did not improve from 0.49835\n",
      "\u001b[1m380/380\u001b[0m \u001b[32m━━━━━━━━━━━━━━━━━━━━\u001b[0m\u001b[37m\u001b[0m \u001b[1m64s\u001b[0m 169ms/step - accuracy: 0.9321 - loss: 5.3864 - val_accuracy: 0.4806 - val_loss: 8.2490\n",
      "Epoch 43/50\n",
      "\u001b[1m380/380\u001b[0m \u001b[32m━━━━━━━━━━━━━━━━━━━━\u001b[0m\u001b[37m\u001b[0m \u001b[1m0s\u001b[0m 162ms/step - accuracy: 0.9411 - loss: 5.3678\n",
      "Epoch 43: val_accuracy did not improve from 0.49835\n",
      "\u001b[1m380/380\u001b[0m \u001b[32m━━━━━━━━━━━━━━━━━━━━\u001b[0m\u001b[37m\u001b[0m \u001b[1m64s\u001b[0m 170ms/step - accuracy: 0.9411 - loss: 5.3677 - val_accuracy: 0.4872 - val_loss: 8.1269\n",
      "Epoch 44/50\n",
      "\u001b[1m380/380\u001b[0m \u001b[32m━━━━━━━━━━━━━━━━━━━━\u001b[0m\u001b[37m\u001b[0m \u001b[1m0s\u001b[0m 164ms/step - accuracy: 0.9324 - loss: 5.3755\n",
      "Epoch 44: val_accuracy did not improve from 0.49835\n",
      "\u001b[1m380/380\u001b[0m \u001b[32m━━━━━━━━━━━━━━━━━━━━\u001b[0m\u001b[37m\u001b[0m \u001b[1m65s\u001b[0m 171ms/step - accuracy: 0.9324 - loss: 5.3754 - val_accuracy: 0.4766 - val_loss: 8.1570\n",
      "Epoch 45/50\n",
      "\u001b[1m380/380\u001b[0m \u001b[32m━━━━━━━━━━━━━━━━━━━━\u001b[0m\u001b[37m\u001b[0m \u001b[1m0s\u001b[0m 163ms/step - accuracy: 0.9483 - loss: 5.3586\n",
      "Epoch 45: val_accuracy did not improve from 0.49835\n",
      "\u001b[1m380/380\u001b[0m \u001b[32m━━━━━━━━━━━━━━━━━━━━\u001b[0m\u001b[37m\u001b[0m \u001b[1m65s\u001b[0m 170ms/step - accuracy: 0.9483 - loss: 5.3585 - val_accuracy: 0.4845 - val_loss: 8.1617\n",
      "Epoch 46/50\n",
      "\u001b[1m380/380\u001b[0m \u001b[32m━━━━━━━━━━━━━━━━━━━━\u001b[0m\u001b[37m\u001b[0m \u001b[1m0s\u001b[0m 163ms/step - accuracy: 0.9497 - loss: 5.3237\n",
      "Epoch 46: val_accuracy did not improve from 0.49835\n",
      "\u001b[1m380/380\u001b[0m \u001b[32m━━━━━━━━━━━━━━━━━━━━\u001b[0m\u001b[37m\u001b[0m \u001b[1m65s\u001b[0m 170ms/step - accuracy: 0.9497 - loss: 5.3236 - val_accuracy: 0.4786 - val_loss: 8.3360\n",
      "Epoch 47/50\n",
      "\u001b[1m380/380\u001b[0m \u001b[32m━━━━━━━━━━━━━━━━━━━━\u001b[0m\u001b[37m\u001b[0m \u001b[1m0s\u001b[0m 162ms/step - accuracy: 0.9418 - loss: 5.3567\n",
      "Epoch 47: val_accuracy did not improve from 0.49835\n",
      "\u001b[1m380/380\u001b[0m \u001b[32m━━━━━━━━━━━━━━━━━━━━\u001b[0m\u001b[37m\u001b[0m \u001b[1m64s\u001b[0m 169ms/step - accuracy: 0.9418 - loss: 5.3566 - val_accuracy: 0.4839 - val_loss: 8.0842\n",
      "Epoch 48/50\n",
      "\u001b[1m380/380\u001b[0m \u001b[32m━━━━━━━━━━━━━━━━━━━━\u001b[0m\u001b[37m\u001b[0m \u001b[1m0s\u001b[0m 162ms/step - accuracy: 0.9484 - loss: 5.3135\n",
      "Epoch 48: val_accuracy did not improve from 0.49835\n",
      "\u001b[1m380/380\u001b[0m \u001b[32m━━━━━━━━━━━━━━━━━━━━\u001b[0m\u001b[37m\u001b[0m \u001b[1m64s\u001b[0m 169ms/step - accuracy: 0.9484 - loss: 5.3134 - val_accuracy: 0.4951 - val_loss: 8.1133\n",
      "Epoch 49/50\n",
      "\u001b[1m380/380\u001b[0m \u001b[32m━━━━━━━━━━━━━━━━━━━━\u001b[0m\u001b[37m\u001b[0m \u001b[1m0s\u001b[0m 162ms/step - accuracy: 0.9604 - loss: 5.2831\n",
      "Epoch 49: val_accuracy did not improve from 0.49835\n",
      "\u001b[1m380/380\u001b[0m \u001b[32m━━━━━━━━━━━━━━━━━━━━\u001b[0m\u001b[37m\u001b[0m \u001b[1m64s\u001b[0m 169ms/step - accuracy: 0.9604 - loss: 5.2831 - val_accuracy: 0.4885 - val_loss: 8.1107\n",
      "Epoch 50/50\n",
      "\u001b[1m380/380\u001b[0m \u001b[32m━━━━━━━━━━━━━━━━━━━━\u001b[0m\u001b[37m\u001b[0m \u001b[1m0s\u001b[0m 162ms/step - accuracy: 0.9548 - loss: 5.3021\n",
      "Epoch 50: val_accuracy did not improve from 0.49835\n",
      "\u001b[1m380/380\u001b[0m \u001b[32m━━━━━━━━━━━━━━━━━━━━\u001b[0m\u001b[37m\u001b[0m \u001b[1m64s\u001b[0m 169ms/step - accuracy: 0.9548 - loss: 5.3020 - val_accuracy: 0.4793 - val_loss: 8.1723\n"
     ]
    }
   ],
   "source": [
    "checkpoint_filepath = \"/kaggle/working/cmi_best_model.weights.h5\"\n",
    "checkpoint_callback = ModelCheckpoint(\n",
    "    filepath=checkpoint_filepath,\n",
    "    monitor=\"val_accuracy\",\n",
    "    save_best_only=True,\n",
    "    save_weights_only=True,\n",
    "    mode=\"max\",\n",
    "    verbose=1\n",
    ")\n",
    "\n",
    "history = model.fit(gesture_train_ds, epochs=50, \n",
    "                    validation_data=gesture_valid_ds,\n",
    "                    callbacks=[checkpoint_callback])\n",
    "model.load_weights(checkpoint_filepath)"
   ]
  },
  {
   "cell_type": "code",
   "execution_count": 21,
   "id": "5ad5d2a8",
   "metadata": {
    "execution": {
     "iopub.execute_input": "2025-07-22T15:47:20.793717Z",
     "iopub.status.busy": "2025-07-22T15:47:20.792846Z",
     "iopub.status.idle": "2025-07-22T15:47:20.805553Z",
     "shell.execute_reply": "2025-07-22T15:47:20.805014Z"
    },
    "papermill": {
     "duration": 1.193514,
     "end_time": "2025-07-22T15:47:20.806661",
     "exception": false,
     "start_time": "2025-07-22T15:47:19.613147",
     "status": "completed"
    },
    "tags": []
   },
   "outputs": [],
   "source": [
    "import json\n",
    "\n",
    "with open('/kaggle/input/cmi-tf-datasets/mapping.json') as f:\n",
    "    mapping_dict = json.load(f)\n",
    "\n",
    "gesture_mapping = mapping_dict[\"gesture_mapping\"]\n",
    "inv_gesture_mapping = {value: key for key, value in gesture_mapping.items()}\n",
    "\n",
    "num2gesture = np.vectorize(lambda x: inv_gesture_mapping[x])"
   ]
  },
  {
   "cell_type": "code",
   "execution_count": 22,
   "id": "863c575c",
   "metadata": {
    "execution": {
     "iopub.execute_input": "2025-07-22T15:47:23.183503Z",
     "iopub.status.busy": "2025-07-22T15:47:23.182887Z",
     "iopub.status.idle": "2025-07-22T15:47:23.187966Z",
     "shell.execute_reply": "2025-07-22T15:47:23.187231Z"
    },
    "papermill": {
     "duration": 1.201133,
     "end_time": "2025-07-22T15:47:23.189100",
     "exception": false,
     "start_time": "2025-07-22T15:47:21.987967",
     "status": "completed"
    },
    "tags": []
   },
   "outputs": [],
   "source": [
    "non_target_gestures = [\"Drink from bottle/cup\", \"Glasses on/off\", \"Pull air toward your face\",\n",
    "                       \"Pinch knee/leg skin\", \"Scratch knee/leg skin\", \"Write name on leg\",\n",
    "                       \"Text on phone\", \"Feel around in tray and pull out an object\",\n",
    "                       \"Write name in air\", \"Wave hello\"]\n",
    "\n",
    "def map_non_target(y_ind):\n",
    "    y_pred = inv_gesture_mapping[y_ind]\n",
    "    if y_ind == 3:\n",
    "        y_ind = 2\n",
    "    elif y_ind == 4:\n",
    "        y_ind = 3\n",
    "    elif y_ind == 6:\n",
    "        y_ind = 4\n",
    "    elif y_ind == 7:\n",
    "        y_ind = 5\n",
    "    elif y_ind == 9:\n",
    "        y_ind = 6\n",
    "    elif y_ind == 10:\n",
    "        y_ind = 7\n",
    "    if y_pred in non_target_gestures:\n",
    "        y_ind = 8\n",
    "    return y_ind\n",
    "\n",
    "vectorize_map_non_target = np.vectorize(map_non_target)"
   ]
  },
  {
   "cell_type": "code",
   "execution_count": 23,
   "id": "aed0ef36",
   "metadata": {
    "execution": {
     "iopub.execute_input": "2025-07-22T15:47:25.593065Z",
     "iopub.status.busy": "2025-07-22T15:47:25.592797Z",
     "iopub.status.idle": "2025-07-22T15:48:02.625188Z",
     "shell.execute_reply": "2025-07-22T15:48:02.624538Z"
    },
    "papermill": {
     "duration": 38.25838,
     "end_time": "2025-07-22T15:48:02.626757",
     "exception": false,
     "start_time": "2025-07-22T15:47:24.368377",
     "status": "completed"
    },
    "tags": []
   },
   "outputs": [],
   "source": [
    "conf_tensor = np.zeros((9, 9), dtype=np.int32)\n",
    "for i, (inputs, labels, sample_weight) in enumerate(gesture_valid_ds):\n",
    "    labels_pred = model.predict(inputs, verbose=0)\n",
    "    labels_pred = tf.argmax(labels_pred, axis=-1).numpy()\n",
    "    labels_pred = vectorize_map_non_target(labels_pred)\n",
    "    labels_true = tf.argmax(labels, axis=-1).numpy()\n",
    "    labels_true = vectorize_map_non_target(labels_true)\n",
    "    conf_tensor += tf.math.confusion_matrix(labels_true, labels_pred, num_classes=9)"
   ]
  },
  {
   "cell_type": "code",
   "execution_count": 24,
   "id": "3b169c17",
   "metadata": {
    "execution": {
     "iopub.execute_input": "2025-07-22T15:48:04.938148Z",
     "iopub.status.busy": "2025-07-22T15:48:04.937877Z",
     "iopub.status.idle": "2025-07-22T15:48:04.980885Z",
     "shell.execute_reply": "2025-07-22T15:48:04.980065Z"
    },
    "papermill": {
     "duration": 1.25675,
     "end_time": "2025-07-22T15:48:04.981999",
     "exception": false,
     "start_time": "2025-07-22T15:48:03.725249",
     "status": "completed"
    },
    "tags": []
   },
   "outputs": [
    {
     "name": "stdout",
     "output_type": "stream",
     "text": [
      "F1 score mean: 0.516\n"
     ]
    }
   ],
   "source": [
    "precisions = []\n",
    "recalls = []\n",
    "f1s = []\n",
    "\n",
    "for i in range(9):\n",
    "    column = conf_tensor[i, :]\n",
    "    row = conf_tensor[:, i]\n",
    "    precision = column[i] / tf.math.reduce_sum(column)\n",
    "    recall = row[i] / tf.math.reduce_sum(row)\n",
    "    inv_f1 = (1/precision + 1/recall)/2\n",
    "    f1 = 1/inv_f1\n",
    "    precisions.append(precision)\n",
    "    recalls.append(recall)\n",
    "    f1s.append(f1)\n",
    "print(f\"F1 score mean: {np.round(np.mean(f1s), 3)}\")"
   ]
  },
  {
   "cell_type": "code",
   "execution_count": 25,
   "id": "0f52aee2",
   "metadata": {
    "execution": {
     "iopub.execute_input": "2025-07-22T15:48:07.382018Z",
     "iopub.status.busy": "2025-07-22T15:48:07.381741Z",
     "iopub.status.idle": "2025-07-22T15:48:07.385034Z",
     "shell.execute_reply": "2025-07-22T15:48:07.384477Z"
    },
    "papermill": {
     "duration": 1.198773,
     "end_time": "2025-07-22T15:48:07.386186",
     "exception": false,
     "start_time": "2025-07-22T15:48:06.187413",
     "status": "completed"
    },
    "tags": []
   },
   "outputs": [],
   "source": [
    "# import os\n",
    "# save_path = os.path.join(\"/kaggle/working/\", \"cmi_model.weights.h5\")\n",
    "# model.save_weights(save_path)"
   ]
  },
  {
   "cell_type": "code",
   "execution_count": 26,
   "id": "e7c5ac0b",
   "metadata": {
    "execution": {
     "iopub.execute_input": "2025-07-22T15:48:09.774305Z",
     "iopub.status.busy": "2025-07-22T15:48:09.774029Z",
     "iopub.status.idle": "2025-07-22T15:48:10.052220Z",
     "shell.execute_reply": "2025-07-22T15:48:10.051513Z"
    },
    "papermill": {
     "duration": 1.481192,
     "end_time": "2025-07-22T15:48:10.053463",
     "exception": false,
     "start_time": "2025-07-22T15:48:08.572271",
     "status": "completed"
    },
    "tags": []
   },
   "outputs": [
    {
     "data": {
      "text/html": [
       "<pre style=\"white-space:pre;overflow-x:auto;line-height:normal;font-family:Menlo,'DejaVu Sans Mono',consolas,'Courier New',monospace\"><span style=\"font-weight: bold\">Model: \"rnn_model_1\"</span>\n",
       "</pre>\n"
      ],
      "text/plain": [
       "\u001b[1mModel: \"rnn_model_1\"\u001b[0m\n"
      ]
     },
     "metadata": {},
     "output_type": "display_data"
    },
    {
     "data": {
      "text/html": [
       "<pre style=\"white-space:pre;overflow-x:auto;line-height:normal;font-family:Menlo,'DejaVu Sans Mono',consolas,'Courier New',monospace\">┏━━━━━━━━━━━━━━━━━━━━━━━━━━━━━━━━━┳━━━━━━━━━━━━━━━━━━━━━━━━┳━━━━━━━━━━━━━━━┓\n",
       "┃<span style=\"font-weight: bold\"> Layer (type)                    </span>┃<span style=\"font-weight: bold\"> Output Shape           </span>┃<span style=\"font-weight: bold\">       Param # </span>┃\n",
       "┡━━━━━━━━━━━━━━━━━━━━━━━━━━━━━━━━━╇━━━━━━━━━━━━━━━━━━━━━━━━╇━━━━━━━━━━━━━━━┩\n",
       "│ conv2d_net_0 (<span style=\"color: #0087ff; text-decoration-color: #0087ff\">Sequential</span>)       │ (<span style=\"color: #00d7ff; text-decoration-color: #00d7ff\">None</span>, <span style=\"color: #00af00; text-decoration-color: #00af00\">100</span>, <span style=\"color: #00af00; text-decoration-color: #00af00\">4</span>, <span style=\"color: #00af00; text-decoration-color: #00af00\">4</span>, <span style=\"color: #00af00; text-decoration-color: #00af00\">16</span>)  │           <span style=\"color: #00af00; text-decoration-color: #00af00\">800</span> │\n",
       "├─────────────────────────────────┼────────────────────────┼───────────────┤\n",
       "│ conv2d_net_1 (<span style=\"color: #0087ff; text-decoration-color: #0087ff\">Sequential</span>)       │ (<span style=\"color: #00d7ff; text-decoration-color: #00d7ff\">None</span>, <span style=\"color: #00af00; text-decoration-color: #00af00\">100</span>, <span style=\"color: #00af00; text-decoration-color: #00af00\">2</span>, <span style=\"color: #00af00; text-decoration-color: #00af00\">2</span>, <span style=\"color: #00af00; text-decoration-color: #00af00\">32</span>)  │         <span style=\"color: #00af00; text-decoration-color: #00af00\">4,768</span> │\n",
       "├─────────────────────────────────┼────────────────────────┼───────────────┤\n",
       "│ global_maxpool                  │ (<span style=\"color: #00d7ff; text-decoration-color: #00d7ff\">None</span>, <span style=\"color: #00af00; text-decoration-color: #00af00\">100</span>, <span style=\"color: #00af00; text-decoration-color: #00af00\">32</span>)        │             <span style=\"color: #00af00; text-decoration-color: #00af00\">0</span> │\n",
       "│ (<span style=\"color: #0087ff; text-decoration-color: #0087ff\">TimeDistributed</span>)               │                        │               │\n",
       "├─────────────────────────────────┼────────────────────────┼───────────────┤\n",
       "│ conv1d_net_0 (<span style=\"color: #0087ff; text-decoration-color: #0087ff\">Sequential</span>)       │ (<span style=\"color: #00d7ff; text-decoration-color: #00d7ff\">None</span>, <span style=\"color: #00af00; text-decoration-color: #00af00\">50</span>, <span style=\"color: #00af00; text-decoration-color: #00af00\">64</span>)         │         <span style=\"color: #00af00; text-decoration-color: #00af00\">8,768</span> │\n",
       "├─────────────────────────────────┼────────────────────────┼───────────────┤\n",
       "│ conv1d_net_1 (<span style=\"color: #0087ff; text-decoration-color: #0087ff\">Sequential</span>)       │ (<span style=\"color: #00d7ff; text-decoration-color: #00d7ff\">None</span>, <span style=\"color: #00af00; text-decoration-color: #00af00\">25</span>, <span style=\"color: #00af00; text-decoration-color: #00af00\">128</span>)        │        <span style=\"color: #00af00; text-decoration-color: #00af00\">25,216</span> │\n",
       "├─────────────────────────────────┼────────────────────────┼───────────────┤\n",
       "│ conv1d_net_2 (<span style=\"color: #0087ff; text-decoration-color: #0087ff\">Sequential</span>)       │ (<span style=\"color: #00d7ff; text-decoration-color: #00d7ff\">None</span>, <span style=\"color: #00af00; text-decoration-color: #00af00\">13</span>, <span style=\"color: #00af00; text-decoration-color: #00af00\">256</span>)        │        <span style=\"color: #00af00; text-decoration-color: #00af00\">99,584</span> │\n",
       "├─────────────────────────────────┼────────────────────────┼───────────────┤\n",
       "│ gru_1 (<span style=\"color: #0087ff; text-decoration-color: #0087ff\">GRU</span>)                     │ ?                      │   <span style=\"color: #00af00; text-decoration-color: #00af00\">0</span> (unbuilt) │\n",
       "├─────────────────────────────────┼────────────────────────┼───────────────┤\n",
       "│ GRU (<span style=\"color: #0087ff; text-decoration-color: #0087ff\">Bidirectional</span>)             │ (<span style=\"color: #00d7ff; text-decoration-color: #00d7ff\">None</span>, <span style=\"color: #00af00; text-decoration-color: #00af00\">512</span>)            │       <span style=\"color: #00af00; text-decoration-color: #00af00\">789,504</span> │\n",
       "├─────────────────────────────────┼────────────────────────┼───────────────┤\n",
       "│ flatten_1 (<span style=\"color: #0087ff; text-decoration-color: #0087ff\">Flatten</span>)             │ (<span style=\"color: #00d7ff; text-decoration-color: #00d7ff\">None</span>, <span style=\"color: #00af00; text-decoration-color: #00af00\">512</span>)            │             <span style=\"color: #00af00; text-decoration-color: #00af00\">0</span> │\n",
       "├─────────────────────────────────┼────────────────────────┼───────────────┤\n",
       "│ dense_3 (<span style=\"color: #0087ff; text-decoration-color: #0087ff\">Dense</span>)                 │ (<span style=\"color: #00d7ff; text-decoration-color: #00d7ff\">None</span>, <span style=\"color: #00af00; text-decoration-color: #00af00\">512</span>)            │       <span style=\"color: #00af00; text-decoration-color: #00af00\">269,824</span> │\n",
       "├─────────────────────────────────┼────────────────────────┼───────────────┤\n",
       "│ dense_4 (<span style=\"color: #0087ff; text-decoration-color: #0087ff\">Dense</span>)                 │ (<span style=\"color: #00d7ff; text-decoration-color: #00d7ff\">None</span>, <span style=\"color: #00af00; text-decoration-color: #00af00\">1</span>)              │           <span style=\"color: #00af00; text-decoration-color: #00af00\">513</span> │\n",
       "├─────────────────────────────────┼────────────────────────┼───────────────┤\n",
       "│ dense_5 (<span style=\"color: #0087ff; text-decoration-color: #0087ff\">Dense</span>)                 │ (<span style=\"color: #00d7ff; text-decoration-color: #00d7ff\">None</span>, <span style=\"color: #00af00; text-decoration-color: #00af00\">18</span>)             │         <span style=\"color: #00af00; text-decoration-color: #00af00\">9,234</span> │\n",
       "└─────────────────────────────────┴────────────────────────┴───────────────┘\n",
       "</pre>\n"
      ],
      "text/plain": [
       "┏━━━━━━━━━━━━━━━━━━━━━━━━━━━━━━━━━┳━━━━━━━━━━━━━━━━━━━━━━━━┳━━━━━━━━━━━━━━━┓\n",
       "┃\u001b[1m \u001b[0m\u001b[1mLayer (type)                   \u001b[0m\u001b[1m \u001b[0m┃\u001b[1m \u001b[0m\u001b[1mOutput Shape          \u001b[0m\u001b[1m \u001b[0m┃\u001b[1m \u001b[0m\u001b[1m      Param #\u001b[0m\u001b[1m \u001b[0m┃\n",
       "┡━━━━━━━━━━━━━━━━━━━━━━━━━━━━━━━━━╇━━━━━━━━━━━━━━━━━━━━━━━━╇━━━━━━━━━━━━━━━┩\n",
       "│ conv2d_net_0 (\u001b[38;5;33mSequential\u001b[0m)       │ (\u001b[38;5;45mNone\u001b[0m, \u001b[38;5;34m100\u001b[0m, \u001b[38;5;34m4\u001b[0m, \u001b[38;5;34m4\u001b[0m, \u001b[38;5;34m16\u001b[0m)  │           \u001b[38;5;34m800\u001b[0m │\n",
       "├─────────────────────────────────┼────────────────────────┼───────────────┤\n",
       "│ conv2d_net_1 (\u001b[38;5;33mSequential\u001b[0m)       │ (\u001b[38;5;45mNone\u001b[0m, \u001b[38;5;34m100\u001b[0m, \u001b[38;5;34m2\u001b[0m, \u001b[38;5;34m2\u001b[0m, \u001b[38;5;34m32\u001b[0m)  │         \u001b[38;5;34m4,768\u001b[0m │\n",
       "├─────────────────────────────────┼────────────────────────┼───────────────┤\n",
       "│ global_maxpool                  │ (\u001b[38;5;45mNone\u001b[0m, \u001b[38;5;34m100\u001b[0m, \u001b[38;5;34m32\u001b[0m)        │             \u001b[38;5;34m0\u001b[0m │\n",
       "│ (\u001b[38;5;33mTimeDistributed\u001b[0m)               │                        │               │\n",
       "├─────────────────────────────────┼────────────────────────┼───────────────┤\n",
       "│ conv1d_net_0 (\u001b[38;5;33mSequential\u001b[0m)       │ (\u001b[38;5;45mNone\u001b[0m, \u001b[38;5;34m50\u001b[0m, \u001b[38;5;34m64\u001b[0m)         │         \u001b[38;5;34m8,768\u001b[0m │\n",
       "├─────────────────────────────────┼────────────────────────┼───────────────┤\n",
       "│ conv1d_net_1 (\u001b[38;5;33mSequential\u001b[0m)       │ (\u001b[38;5;45mNone\u001b[0m, \u001b[38;5;34m25\u001b[0m, \u001b[38;5;34m128\u001b[0m)        │        \u001b[38;5;34m25,216\u001b[0m │\n",
       "├─────────────────────────────────┼────────────────────────┼───────────────┤\n",
       "│ conv1d_net_2 (\u001b[38;5;33mSequential\u001b[0m)       │ (\u001b[38;5;45mNone\u001b[0m, \u001b[38;5;34m13\u001b[0m, \u001b[38;5;34m256\u001b[0m)        │        \u001b[38;5;34m99,584\u001b[0m │\n",
       "├─────────────────────────────────┼────────────────────────┼───────────────┤\n",
       "│ gru_1 (\u001b[38;5;33mGRU\u001b[0m)                     │ ?                      │   \u001b[38;5;34m0\u001b[0m (unbuilt) │\n",
       "├─────────────────────────────────┼────────────────────────┼───────────────┤\n",
       "│ GRU (\u001b[38;5;33mBidirectional\u001b[0m)             │ (\u001b[38;5;45mNone\u001b[0m, \u001b[38;5;34m512\u001b[0m)            │       \u001b[38;5;34m789,504\u001b[0m │\n",
       "├─────────────────────────────────┼────────────────────────┼───────────────┤\n",
       "│ flatten_1 (\u001b[38;5;33mFlatten\u001b[0m)             │ (\u001b[38;5;45mNone\u001b[0m, \u001b[38;5;34m512\u001b[0m)            │             \u001b[38;5;34m0\u001b[0m │\n",
       "├─────────────────────────────────┼────────────────────────┼───────────────┤\n",
       "│ dense_3 (\u001b[38;5;33mDense\u001b[0m)                 │ (\u001b[38;5;45mNone\u001b[0m, \u001b[38;5;34m512\u001b[0m)            │       \u001b[38;5;34m269,824\u001b[0m │\n",
       "├─────────────────────────────────┼────────────────────────┼───────────────┤\n",
       "│ dense_4 (\u001b[38;5;33mDense\u001b[0m)                 │ (\u001b[38;5;45mNone\u001b[0m, \u001b[38;5;34m1\u001b[0m)              │           \u001b[38;5;34m513\u001b[0m │\n",
       "├─────────────────────────────────┼────────────────────────┼───────────────┤\n",
       "│ dense_5 (\u001b[38;5;33mDense\u001b[0m)                 │ (\u001b[38;5;45mNone\u001b[0m, \u001b[38;5;34m18\u001b[0m)             │         \u001b[38;5;34m9,234\u001b[0m │\n",
       "└─────────────────────────────────┴────────────────────────┴───────────────┘\n"
      ]
     },
     "metadata": {},
     "output_type": "display_data"
    },
    {
     "data": {
      "text/html": [
       "<pre style=\"white-space:pre;overflow-x:auto;line-height:normal;font-family:Menlo,'DejaVu Sans Mono',consolas,'Courier New',monospace\"><span style=\"font-weight: bold\"> Total params: </span><span style=\"color: #00af00; text-decoration-color: #00af00\">1,208,211</span> (4.61 MB)\n",
       "</pre>\n"
      ],
      "text/plain": [
       "\u001b[1m Total params: \u001b[0m\u001b[38;5;34m1,208,211\u001b[0m (4.61 MB)\n"
      ]
     },
     "metadata": {},
     "output_type": "display_data"
    },
    {
     "data": {
      "text/html": [
       "<pre style=\"white-space:pre;overflow-x:auto;line-height:normal;font-family:Menlo,'DejaVu Sans Mono',consolas,'Courier New',monospace\"><span style=\"font-weight: bold\"> Trainable params: </span><span style=\"color: #00af00; text-decoration-color: #00af00\">1,207,219</span> (4.61 MB)\n",
       "</pre>\n"
      ],
      "text/plain": [
       "\u001b[1m Trainable params: \u001b[0m\u001b[38;5;34m1,207,219\u001b[0m (4.61 MB)\n"
      ]
     },
     "metadata": {},
     "output_type": "display_data"
    },
    {
     "data": {
      "text/html": [
       "<pre style=\"white-space:pre;overflow-x:auto;line-height:normal;font-family:Menlo,'DejaVu Sans Mono',consolas,'Courier New',monospace\"><span style=\"font-weight: bold\"> Non-trainable params: </span><span style=\"color: #00af00; text-decoration-color: #00af00\">992</span> (3.88 KB)\n",
       "</pre>\n"
      ],
      "text/plain": [
       "\u001b[1m Non-trainable params: \u001b[0m\u001b[38;5;34m992\u001b[0m (3.88 KB)\n"
      ]
     },
     "metadata": {},
     "output_type": "display_data"
    }
   ],
   "source": [
    "new_model = RNNModel(kernel_size2d=3, kernel_size1d=3, filters_2d=[16, 32], dropout=0.2,\n",
    "                     filters_1d=[64, 128, 256], rnn_hidden_size=256, mode=\"GRU\", bidirectional=True,\n",
    "                     hidden_size=512, regularizer=\"l1l2\", l1_penalty=1e-4, l2_penalty=1e-4, binary=True)\n",
    "new_model.build(input_shapes=((None, 100, 8, 8, 5), (None, 100, 12), (None, 14)))\n",
    "new_model.load_weights(checkpoint_filepath)\n",
    "new_model.summary()"
   ]
  }
 ],
 "metadata": {
  "kaggle": {
   "accelerator": "gpu",
   "dataSources": [
    {
     "databundleVersionId": 12518947,
     "sourceId": 102335,
     "sourceType": "competition"
    },
    {
     "datasetId": 7856290,
     "sourceId": 12454411,
     "sourceType": "datasetVersion"
    },
    {
     "datasetId": 7889376,
     "sourceId": 12525141,
     "sourceType": "datasetVersion"
    }
   ],
   "dockerImageVersionId": 31089,
   "isGpuEnabled": true,
   "isInternetEnabled": false,
   "language": "python",
   "sourceType": "notebook"
  },
  "kernelspec": {
   "display_name": "Python 3",
   "language": "python",
   "name": "python3"
  },
  "language_info": {
   "codemirror_mode": {
    "name": "ipython",
    "version": 3
   },
   "file_extension": ".py",
   "mimetype": "text/x-python",
   "name": "python",
   "nbconvert_exporter": "python",
   "pygments_lexer": "ipython3",
   "version": "3.11.13"
  },
  "papermill": {
   "default_parameters": {},
   "duration": 4885.000291,
   "end_time": "2025-07-22T15:48:14.209430",
   "environment_variables": {},
   "exception": null,
   "input_path": "__notebook__.ipynb",
   "output_path": "__notebook__.ipynb",
   "parameters": {},
   "start_time": "2025-07-22T14:26:49.209139",
   "version": "2.6.0"
  }
 },
 "nbformat": 4,
 "nbformat_minor": 5
}
