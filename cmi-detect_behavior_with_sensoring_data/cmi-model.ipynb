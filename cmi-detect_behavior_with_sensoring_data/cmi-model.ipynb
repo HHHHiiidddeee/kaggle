{
 "cells": [
  {
   "cell_type": "code",
   "execution_count": 1,
   "id": "66aa8c29",
   "metadata": {
    "execution": {
     "iopub.execute_input": "2025-07-23T04:07:14.927221Z",
     "iopub.status.busy": "2025-07-23T04:07:14.926361Z",
     "iopub.status.idle": "2025-07-23T04:07:33.915799Z",
     "shell.execute_reply": "2025-07-23T04:07:33.914801Z"
    },
    "papermill": {
     "duration": 18.998729,
     "end_time": "2025-07-23T04:07:33.917339",
     "exception": false,
     "start_time": "2025-07-23T04:07:14.918610",
     "status": "completed"
    },
    "tags": []
   },
   "outputs": [
    {
     "name": "stderr",
     "output_type": "stream",
     "text": [
      "2025-07-23 04:07:16.678121: E external/local_xla/xla/stream_executor/cuda/cuda_fft.cc:477] Unable to register cuFFT factory: Attempting to register factory for plugin cuFFT when one has already been registered\n",
      "WARNING: All log messages before absl::InitializeLog() is called are written to STDERR\n",
      "E0000 00:00:1753243636.901600      13 cuda_dnn.cc:8310] Unable to register cuDNN factory: Attempting to register factory for plugin cuDNN when one has already been registered\n",
      "E0000 00:00:1753243636.959250      13 cuda_blas.cc:1418] Unable to register cuBLAS factory: Attempting to register factory for plugin cuBLAS when one has already been registered\n",
      "2025-07-23 04:07:33.729321: E external/local_xla/xla/stream_executor/cuda/cuda_driver.cc:152] failed call to cuInit: INTERNAL: CUDA error: Failed call to cuInit: UNKNOWN ERROR (303)\n"
     ]
    }
   ],
   "source": [
    "import tensorflow as tf\n",
    "from tensorflow.keras import Model\n",
    "import numpy as np\n",
    "import pandas as pd\n",
    "import warnings\n",
    "warnings.filterwarnings(\"ignore\")\n",
    "\n",
    "tf.random.set_seed(42)\n",
    "type_train_ds = tf.data.experimental.load(\"/kaggle/input/cmi-tf-datasets/type_train_ds\")\n",
    "type_valid_ds = tf.data.experimental.load(\"/kaggle/input/cmi-tf-datasets/type_valid_ds\")\n",
    "gesture_train_ds = tf.data.experimental.load(\"/kaggle/input/cmi-tf-datasets/gesture_train_ds\")\n",
    "gesture_valid_ds = tf.data.experimental.load(\"/kaggle/input/cmi-tf-datasets/gesture_valid_ds\")\n",
    "test_ds = tf.data.experimental.load(\"/kaggle/input/cmi-tf-datasets/test_ds\")"
   ]
  },
  {
   "cell_type": "code",
   "execution_count": 2,
   "id": "ce097f7b",
   "metadata": {
    "execution": {
     "iopub.execute_input": "2025-07-23T04:07:33.929182Z",
     "iopub.status.busy": "2025-07-23T04:07:33.928509Z",
     "iopub.status.idle": "2025-07-23T04:07:33.933163Z",
     "shell.execute_reply": "2025-07-23T04:07:33.932192Z"
    },
    "papermill": {
     "duration": 0.011861,
     "end_time": "2025-07-23T04:07:33.934576",
     "exception": false,
     "start_time": "2025-07-23T04:07:33.922715",
     "status": "completed"
    },
    "tags": []
   },
   "outputs": [],
   "source": [
    "# print(\"Num GPUs Available: \", len(tf.config.list_physical_devices('GPU')))"
   ]
  },
  {
   "cell_type": "code",
   "execution_count": 3,
   "id": "b09090b0",
   "metadata": {
    "execution": {
     "iopub.execute_input": "2025-07-23T04:07:33.946217Z",
     "iopub.status.busy": "2025-07-23T04:07:33.945835Z",
     "iopub.status.idle": "2025-07-23T04:07:33.953277Z",
     "shell.execute_reply": "2025-07-23T04:07:33.952245Z"
    },
    "papermill": {
     "duration": 0.014835,
     "end_time": "2025-07-23T04:07:33.954604",
     "exception": false,
     "start_time": "2025-07-23T04:07:33.939769",
     "status": "completed"
    },
    "tags": []
   },
   "outputs": [
    {
     "name": "stdout",
     "output_type": "stream",
     "text": [
      "380\n",
      "95\n",
      "380\n",
      "95\n",
      "1\n"
     ]
    }
   ],
   "source": [
    "print(len(type_train_ds))\n",
    "print(len(type_valid_ds))\n",
    "print(len(gesture_train_ds))\n",
    "print(len(gesture_valid_ds))\n",
    "\n",
    "print(len(test_ds))"
   ]
  },
  {
   "cell_type": "code",
   "execution_count": 4,
   "id": "e79433a7",
   "metadata": {
    "execution": {
     "iopub.execute_input": "2025-07-23T04:07:33.965932Z",
     "iopub.status.busy": "2025-07-23T04:07:33.965585Z",
     "iopub.status.idle": "2025-07-23T04:07:34.191471Z",
     "shell.execute_reply": "2025-07-23T04:07:34.190667Z"
    },
    "papermill": {
     "duration": 0.233412,
     "end_time": "2025-07-23T04:07:34.193025",
     "exception": false,
     "start_time": "2025-07-23T04:07:33.959613",
     "status": "completed"
    },
    "tags": []
   },
   "outputs": [
    {
     "name": "stdout",
     "output_type": "stream",
     "text": [
      "(16, 100, 8, 8, 5)\n",
      "(16, 1)\n"
     ]
    }
   ],
   "source": [
    "for i, (inputs, targets) in enumerate(type_train_ds):\n",
    "    if i==0:\n",
    "        print(inputs[0].shape)\n",
    "        print(targets.shape)\n",
    "        break"
   ]
  },
  {
   "cell_type": "code",
   "execution_count": 5,
   "id": "4683c3d1",
   "metadata": {
    "execution": {
     "iopub.execute_input": "2025-07-23T04:07:34.205154Z",
     "iopub.status.busy": "2025-07-23T04:07:34.204822Z",
     "iopub.status.idle": "2025-07-23T04:07:34.230473Z",
     "shell.execute_reply": "2025-07-23T04:07:34.229564Z"
    },
    "papermill": {
     "duration": 0.033653,
     "end_time": "2025-07-23T04:07:34.232144",
     "exception": false,
     "start_time": "2025-07-23T04:07:34.198491",
     "status": "completed"
    },
    "tags": []
   },
   "outputs": [],
   "source": [
    "from tensorflow.keras.layers import Conv2D, Conv1D, BatchNormalization, TimeDistributed\n",
    "from tensorflow.keras.layers import MaxPool2D, GlobalMaxPool2D, MaxPool1D, Dropout\n",
    "from tensorflow.keras.layers import SimpleRNN, LSTM, GRU, Bidirectional, Flatten, Dense\n",
    "from tensorflow.keras.regularizers import L1, L2, L1L2\n",
    "from tensorflow.keras import Sequential\n",
    "\n",
    "# from keras.src import tree\n",
    "# from keras.src.trainers.data_adapters import data_adapter_utils\n",
    "# from keras.saving import register_keras_serializable\n",
    "\n",
    "# @register_keras_serializable(\"RNNModel\")\n",
    "class RNNModel(Model):\n",
    "    def __init__(self, kernel_size2d=3, kernel_size1d=3, filters_2d=[16, 32], dropout=0.2, \n",
    "                 filters_1d=[16, 32], rnn_hidden_size=32, mode=\"RNN\", bidirectional=False,\n",
    "                 hidden_size=64, regularizer=\"l1\", l1_penalty=0.1, l2_penalty=0.1, \n",
    "                 binary=True, **kwargs):\n",
    "        super().__init__(**kwargs)\n",
    "        self.hidden_size = hidden_size\n",
    "        \n",
    "        self.conv2d_nets = []\n",
    "        for i in range(len(filters_2d)):\n",
    "            conv2d_net = Sequential([\n",
    "                TimeDistributed(Conv2D(filters_2d[i], kernel_size2d, padding=\"same\", activation=\"relu\")),\n",
    "                TimeDistributed(BatchNormalization()),\n",
    "                TimeDistributed(MaxPool2D(pool_size=3, strides=2, padding=\"same\")),\n",
    "                TimeDistributed(Dropout(dropout))\n",
    "            ], name=f\"conv2d_net_{i}\")\n",
    "            self.conv2d_nets.append(conv2d_net)\n",
    "        self.global_maxpool = TimeDistributed(GlobalMaxPool2D(), name=\"global_maxpool\")\n",
    "\n",
    "        self.conv1d_nets = []\n",
    "        for i in range(len(filters_1d)):\n",
    "            conv1d_net = Sequential([\n",
    "                Conv1D(filters_1d[i], kernel_size1d, padding=\"same\", activation=\"relu\"),\n",
    "                BatchNormalization(),\n",
    "                MaxPool1D(pool_size=3, strides=2, padding=\"same\"),\n",
    "                Dropout(dropout)\n",
    "            ], name=f\"conv1d_net_{i}\")\n",
    "            self.conv1d_nets.append(conv1d_net)\n",
    "\n",
    "        if mode == \"RNN\":\n",
    "            self.rnn = SimpleRNN(rnn_hidden_size)\n",
    "        elif mode == \"LSTM\":\n",
    "            self.rnn = LSTM(rnn_hidden_size)\n",
    "        else:\n",
    "            self.rnn = GRU(rnn_hidden_size)\n",
    "        \n",
    "        if bidirectional:\n",
    "            self.rnn = Bidirectional(self.rnn, name=mode)\n",
    "\n",
    "        self.flatten = Flatten()\n",
    "\n",
    "        if regularizer == \"l1\":\n",
    "            self.dense0 = Dense(hidden_size, activation=\"relu\", \n",
    "                                kernel_regularizer=L1(l1_penalty),\n",
    "                                bias_regularizer=L1(l1_penalty))\n",
    "            self.dense1_0 = Dense(1, activation=\"sigmoid\",\n",
    "                                  kernel_regularizer=L1(l1_penalty),\n",
    "                                  bias_regularizer=L1(l1_penalty))\n",
    "            self.dense1_1 = Dense(18, activation=\"softmax\", \n",
    "                                  kernel_regularizer=L1(l1_penalty),\n",
    "                                  bias_regularizer=L1(l1_penalty))\n",
    "        elif regularizer == \"l2\":\n",
    "            self.dense0 = Dense(hidden_size, activation=\"relu\", \n",
    "                                kernel_regularizer=L2(l2_penalty),\n",
    "                                bias_regularizer=L2(l2_penalty))\n",
    "            self.dense1_0 = Dense(1, activation=\"sigmoid\", \n",
    "                                  kernel_regularizer=L2(l2_penalty),\n",
    "                                  bias_regularizer=L2(l2_penalty))\n",
    "            self.dense1_1 = Dense(18, activation=\"softmax\", \n",
    "                                  kernel_regularizer=L2(l2_penalty),\n",
    "                                  bias_regularizer=L2(l2_penalty))\n",
    "        elif regularizer == \"l1l2\":\n",
    "            self.dense0 = Dense(hidden_size, activation=\"relu\", \n",
    "                                kernel_regularizer=L1L2(l1_penalty, l2_penalty),\n",
    "                                bias_regularizer=L1L2(l1_penalty, l2_penalty))\n",
    "            self.dense1_0 = Dense(1, activation=\"sigmoid\", \n",
    "                                  kernel_regularizer=L1L2(l1_penalty, l2_penalty),\n",
    "                                  bias_regularizer=L1L2(l1_penalty, l2_penalty))\n",
    "            self.dense1_1 = Dense(18, activation=\"softmax\", \n",
    "                                  kernel_regularizer=L1L2(l1_penalty, l2_penalty),\n",
    "                                  bias_regularizer=L1L2(l1_penalty, l2_penalty))\n",
    "        else:\n",
    "            self.dense0 = Dense(hidden_size, activation=\"relu\")\n",
    "            self.dense1_0 = Dense(1, activation=\"sigmoid\")\n",
    "            self.dense1_1 = Dense(18, activation=\"softmax\")\n",
    "\n",
    "        self.binary = binary\n",
    "\n",
    "    def build(self, input_shapes, training=False):\n",
    "        shape = input_shapes[0]\n",
    "        for i in range(len(self.conv2d_nets)):\n",
    "            self.conv2d_nets[i].build(shape)\n",
    "            shape = self.conv2d_nets[i].compute_output_shape(shape)\n",
    "        self.global_maxpool.build(shape)\n",
    "        shape = self.global_maxpool.compute_output_shape(shape)\n",
    "        shape = (shape[0], shape[1], shape[2] + input_shapes[1][2])\n",
    "\n",
    "        for i in range(len(self.conv1d_nets)):\n",
    "            self.conv1d_nets[i].build(shape)\n",
    "            shape = self.conv1d_nets[i].compute_output_shape(shape)\n",
    "\n",
    "        self.rnn.build(shape)\n",
    "        shape = self.rnn.compute_output_shape(shape)\n",
    "\n",
    "        self.flatten.build(shape)\n",
    "        shape = self.flatten.compute_output_shape(shape)\n",
    "\n",
    "        shape = (shape[0], shape[1] + input_shapes[2][1])\n",
    "        self.dense0.build(shape)\n",
    "        shape = self.dense0.compute_output_shape(shape)\n",
    "\n",
    "        self.dense1_0.build(shape)\n",
    "        self.dense1_1.build(shape)\n",
    "        \n",
    "\n",
    "    def call(self, inputs, training=False):\n",
    "        image_out = inputs[0]\n",
    "        for i in range(len(self.conv2d_nets)):\n",
    "            image_out = self.conv2d_nets[i](image_out, training=training)\n",
    "        image_out = self.global_maxpool(image_out)   # (batch, timestep, filters)\n",
    "\n",
    "        out = tf.concat([image_out, inputs[1]], axis=-1)\n",
    "        for i in range(len(self.conv1d_nets)):\n",
    "            out = self.conv1d_nets[i](out, training=training)\n",
    "        \n",
    "        out = self.rnn(out)        # (batch, downsampled_timestep, rnn_hidden_size)\n",
    "        out = self.flatten(out)    # (batch, downsampled_timestep*rnn_hidden_size)\n",
    "        \n",
    "        out = tf.concat([out, inputs[2]], axis=-1)\n",
    "        out = self.dense0(out)\n",
    "        if self.binary:\n",
    "            out = self.dense1_0(out)\n",
    "        else:\n",
    "            out = self.dense1_1(out)\n",
    "        return out\n",
    "\n",
    "    def set_binary(self):\n",
    "        self.binary = True\n",
    "        if self.dense1_0.build == False:\n",
    "            self.dense1_0.build(input_shape=(None, self.hidden_size))\n",
    "\n",
    "    def set_multi(self):\n",
    "        self.binary = False\n",
    "        if self.dense1_1.build == False:\n",
    "            self.dense1_1.build(input_shape=(None, self.hidden_size))\n",
    "\n",
    "    def freeze_conv_timeseries(self):\n",
    "        for i in range(len(self.conv2d_nets)):\n",
    "            self.conv2d_nets[i].trainable = False\n",
    "        for i in range(len(self.conv1d_nets)):\n",
    "            self.conv1d_nets[i].trainable = False\n",
    "        self.rnn.trainable = False"
   ]
  },
  {
   "cell_type": "code",
   "execution_count": 6,
   "id": "eb228591",
   "metadata": {
    "execution": {
     "iopub.execute_input": "2025-07-23T04:07:34.244500Z",
     "iopub.status.busy": "2025-07-23T04:07:34.243954Z",
     "iopub.status.idle": "2025-07-23T04:07:34.312430Z",
     "shell.execute_reply": "2025-07-23T04:07:34.311440Z"
    },
    "papermill": {
     "duration": 0.07642,
     "end_time": "2025-07-23T04:07:34.314227",
     "exception": false,
     "start_time": "2025-07-23T04:07:34.237807",
     "status": "completed"
    },
    "tags": []
   },
   "outputs": [
    {
     "name": "stdout",
     "output_type": "stream",
     "text": [
      "(16, 100, 8, 8, 5)\n",
      "(16, 100, 12)\n",
      "(16, 14)\n"
     ]
    }
   ],
   "source": [
    "for i, (inputs, targets) in enumerate(type_train_ds):\n",
    "    if i == 0:\n",
    "        print(inputs[0].shape)\n",
    "        print(inputs[1].shape)\n",
    "        print(inputs[2].shape)\n",
    "        break"
   ]
  },
  {
   "cell_type": "code",
   "execution_count": 7,
   "id": "ed2bebd0",
   "metadata": {
    "execution": {
     "iopub.execute_input": "2025-07-23T04:07:34.326413Z",
     "iopub.status.busy": "2025-07-23T04:07:34.325503Z",
     "iopub.status.idle": "2025-07-23T04:07:34.336697Z",
     "shell.execute_reply": "2025-07-23T04:07:34.335898Z"
    },
    "papermill": {
     "duration": 0.018687,
     "end_time": "2025-07-23T04:07:34.338335",
     "exception": false,
     "start_time": "2025-07-23T04:07:34.319648",
     "status": "completed"
    },
    "tags": []
   },
   "outputs": [],
   "source": [
    "import json\n",
    "\n",
    "with open('/kaggle/input/cmi-tf-datasets/sample_weight.json') as f:\n",
    "    sample_weight_dict = json.load(f)\n",
    "\n",
    "type_sample_weight = sample_weight_dict[\"type_sample_weight\"]\n",
    "type_class_weight = {0: type_sample_weight[0], 1: type_sample_weight[1]}\n",
    "\n",
    "gesture_sample_weight = sample_weight_dict[\"gesture_sample_weight\"]\n",
    "gesture_class_weight = {i: gesture_sample_weight[i] for i in range(len(gesture_sample_weight))}"
   ]
  },
  {
   "cell_type": "code",
   "execution_count": 8,
   "id": "6a420a81",
   "metadata": {
    "execution": {
     "iopub.execute_input": "2025-07-23T04:07:34.350402Z",
     "iopub.status.busy": "2025-07-23T04:07:34.350071Z",
     "iopub.status.idle": "2025-07-23T04:07:34.355307Z",
     "shell.execute_reply": "2025-07-23T04:07:34.354508Z"
    },
    "papermill": {
     "duration": 0.013143,
     "end_time": "2025-07-23T04:07:34.356598",
     "exception": false,
     "start_time": "2025-07-23T04:07:34.343455",
     "status": "completed"
    },
    "tags": []
   },
   "outputs": [],
   "source": [
    "def add_type_sample_weight(x, y):\n",
    "    y_int = tf.cast(y, tf.int32)\n",
    "    weight = tf.gather([type_class_weight[0], type_class_weight[1]], y_int)\n",
    "    return x, y, weight\n",
    "\n",
    "def add_gesture_sample_weight(x, y):\n",
    "    y_arg = tf.argmax(y)\n",
    "    weight = tf.gather(gesture_sample_weight, y_arg)\n",
    "    return x, y, weight"
   ]
  },
  {
   "cell_type": "code",
   "execution_count": 9,
   "id": "6538bca4",
   "metadata": {
    "execution": {
     "iopub.execute_input": "2025-07-23T04:07:34.367720Z",
     "iopub.status.busy": "2025-07-23T04:07:34.367408Z",
     "iopub.status.idle": "2025-07-23T04:07:34.477640Z",
     "shell.execute_reply": "2025-07-23T04:07:34.476835Z"
    },
    "papermill": {
     "duration": 0.11775,
     "end_time": "2025-07-23T04:07:34.479510",
     "exception": false,
     "start_time": "2025-07-23T04:07:34.361760",
     "status": "completed"
    },
    "tags": []
   },
   "outputs": [],
   "source": [
    "type_train_ds = type_train_ds.unbatch().map(add_type_sample_weight).batch(16)\n",
    "type_valid_ds = type_valid_ds.unbatch().map(add_type_sample_weight).batch(16)"
   ]
  },
  {
   "cell_type": "code",
   "execution_count": 10,
   "id": "1f492e24",
   "metadata": {
    "execution": {
     "iopub.execute_input": "2025-07-23T04:07:34.491244Z",
     "iopub.status.busy": "2025-07-23T04:07:34.490910Z",
     "iopub.status.idle": "2025-07-23T04:07:34.495022Z",
     "shell.execute_reply": "2025-07-23T04:07:34.494136Z"
    },
    "papermill": {
     "duration": 0.012048,
     "end_time": "2025-07-23T04:07:34.496791",
     "exception": false,
     "start_time": "2025-07-23T04:07:34.484743",
     "status": "completed"
    },
    "tags": []
   },
   "outputs": [],
   "source": [
    "# gesture_train_ds = gesture_train_ds.unbatch().map(add_gesture_sample_weight).batch(16)\n",
    "# gesture_valid_ds = gesture_valid_ds.unbatch().map(add_gesture_sample_weight).batch(16)"
   ]
  },
  {
   "cell_type": "code",
   "execution_count": 11,
   "id": "3381f59c",
   "metadata": {
    "execution": {
     "iopub.execute_input": "2025-07-23T04:07:34.508758Z",
     "iopub.status.busy": "2025-07-23T04:07:34.507929Z",
     "iopub.status.idle": "2025-07-23T04:07:34.784595Z",
     "shell.execute_reply": "2025-07-23T04:07:34.783776Z"
    },
    "papermill": {
     "duration": 0.284112,
     "end_time": "2025-07-23T04:07:34.786038",
     "exception": false,
     "start_time": "2025-07-23T04:07:34.501926",
     "status": "completed"
    },
    "tags": []
   },
   "outputs": [
    {
     "name": "stdout",
     "output_type": "stream",
     "text": [
      "❌ TPU not available, using default strategy.\n",
      "TPUs not found in the cluster. Failed in initialization: Could not satisfy device specification '/job:localhost/replica:0/task:0/device:TPU_SYSTEM:0'. enable_soft_placement=0. Supported device types [CPU]. All available devices [/job:localhost/replica:0/task:0/device:CPU:0]. [Op:__inference__tpu_init_fn_161]\n"
     ]
    }
   ],
   "source": [
    "try:\n",
    "    tpu = tf.distribute.cluster_resolver.TPUClusterResolver(tpu='local')\n",
    "    tf.config.experimental_connect_to_cluster(tpu)\n",
    "    tf.tpu.experimental.initialize_tpu_system(tpu)\n",
    "    strategy = tf.distribute.TPUStrategy(tpu)\n",
    "    print(\"✅ TPU initialized.\")\n",
    "except Exception as e:\n",
    "    print(\"❌ TPU not available, using default strategy.\")\n",
    "    strategy = tf.distribute.get_strategy()\n",
    "    print(e)"
   ]
  },
  {
   "cell_type": "code",
   "execution_count": 12,
   "id": "69774a13",
   "metadata": {
    "execution": {
     "iopub.execute_input": "2025-07-23T04:07:34.798062Z",
     "iopub.status.busy": "2025-07-23T04:07:34.797171Z",
     "iopub.status.idle": "2025-07-23T04:07:35.114818Z",
     "shell.execute_reply": "2025-07-23T04:07:35.113861Z"
    },
    "papermill": {
     "duration": 0.327192,
     "end_time": "2025-07-23T04:07:35.118479",
     "exception": false,
     "start_time": "2025-07-23T04:07:34.791287",
     "status": "completed"
    },
    "tags": []
   },
   "outputs": [
    {
     "data": {
      "text/html": [
       "<pre style=\"white-space:pre;overflow-x:auto;line-height:normal;font-family:Menlo,'DejaVu Sans Mono',consolas,'Courier New',monospace\"><span style=\"font-weight: bold\">Model: \"rnn_model\"</span>\n",
       "</pre>\n"
      ],
      "text/plain": [
       "\u001b[1mModel: \"rnn_model\"\u001b[0m\n"
      ]
     },
     "metadata": {},
     "output_type": "display_data"
    },
    {
     "data": {
      "text/html": [
       "<pre style=\"white-space:pre;overflow-x:auto;line-height:normal;font-family:Menlo,'DejaVu Sans Mono',consolas,'Courier New',monospace\">┏━━━━━━━━━━━━━━━━━━━━━━━━━━━━━━━━━┳━━━━━━━━━━━━━━━━━━━━━━━━┳━━━━━━━━━━━━━━━┓\n",
       "┃<span style=\"font-weight: bold\"> Layer (type)                    </span>┃<span style=\"font-weight: bold\"> Output Shape           </span>┃<span style=\"font-weight: bold\">       Param # </span>┃\n",
       "┡━━━━━━━━━━━━━━━━━━━━━━━━━━━━━━━━━╇━━━━━━━━━━━━━━━━━━━━━━━━╇━━━━━━━━━━━━━━━┩\n",
       "│ conv2d_net_0 (<span style=\"color: #0087ff; text-decoration-color: #0087ff\">Sequential</span>)       │ (<span style=\"color: #00d7ff; text-decoration-color: #00d7ff\">None</span>, <span style=\"color: #00af00; text-decoration-color: #00af00\">100</span>, <span style=\"color: #00af00; text-decoration-color: #00af00\">4</span>, <span style=\"color: #00af00; text-decoration-color: #00af00\">4</span>, <span style=\"color: #00af00; text-decoration-color: #00af00\">16</span>)  │           <span style=\"color: #00af00; text-decoration-color: #00af00\">800</span> │\n",
       "├─────────────────────────────────┼────────────────────────┼───────────────┤\n",
       "│ conv2d_net_1 (<span style=\"color: #0087ff; text-decoration-color: #0087ff\">Sequential</span>)       │ (<span style=\"color: #00d7ff; text-decoration-color: #00d7ff\">None</span>, <span style=\"color: #00af00; text-decoration-color: #00af00\">100</span>, <span style=\"color: #00af00; text-decoration-color: #00af00\">2</span>, <span style=\"color: #00af00; text-decoration-color: #00af00\">2</span>, <span style=\"color: #00af00; text-decoration-color: #00af00\">32</span>)  │         <span style=\"color: #00af00; text-decoration-color: #00af00\">4,768</span> │\n",
       "├─────────────────────────────────┼────────────────────────┼───────────────┤\n",
       "│ global_maxpool                  │ (<span style=\"color: #00d7ff; text-decoration-color: #00d7ff\">None</span>, <span style=\"color: #00af00; text-decoration-color: #00af00\">100</span>, <span style=\"color: #00af00; text-decoration-color: #00af00\">32</span>)        │             <span style=\"color: #00af00; text-decoration-color: #00af00\">0</span> │\n",
       "│ (<span style=\"color: #0087ff; text-decoration-color: #0087ff\">TimeDistributed</span>)               │                        │               │\n",
       "├─────────────────────────────────┼────────────────────────┼───────────────┤\n",
       "│ conv1d_net_0 (<span style=\"color: #0087ff; text-decoration-color: #0087ff\">Sequential</span>)       │ (<span style=\"color: #00d7ff; text-decoration-color: #00d7ff\">None</span>, <span style=\"color: #00af00; text-decoration-color: #00af00\">50</span>, <span style=\"color: #00af00; text-decoration-color: #00af00\">64</span>)         │         <span style=\"color: #00af00; text-decoration-color: #00af00\">8,768</span> │\n",
       "├─────────────────────────────────┼────────────────────────┼───────────────┤\n",
       "│ conv1d_net_1 (<span style=\"color: #0087ff; text-decoration-color: #0087ff\">Sequential</span>)       │ (<span style=\"color: #00d7ff; text-decoration-color: #00d7ff\">None</span>, <span style=\"color: #00af00; text-decoration-color: #00af00\">25</span>, <span style=\"color: #00af00; text-decoration-color: #00af00\">128</span>)        │        <span style=\"color: #00af00; text-decoration-color: #00af00\">25,216</span> │\n",
       "├─────────────────────────────────┼────────────────────────┼───────────────┤\n",
       "│ conv1d_net_2 (<span style=\"color: #0087ff; text-decoration-color: #0087ff\">Sequential</span>)       │ (<span style=\"color: #00d7ff; text-decoration-color: #00d7ff\">None</span>, <span style=\"color: #00af00; text-decoration-color: #00af00\">13</span>, <span style=\"color: #00af00; text-decoration-color: #00af00\">256</span>)        │        <span style=\"color: #00af00; text-decoration-color: #00af00\">99,584</span> │\n",
       "├─────────────────────────────────┼────────────────────────┼───────────────┤\n",
       "│ gru (<span style=\"color: #0087ff; text-decoration-color: #0087ff\">GRU</span>)                       │ ?                      │   <span style=\"color: #00af00; text-decoration-color: #00af00\">0</span> (unbuilt) │\n",
       "├─────────────────────────────────┼────────────────────────┼───────────────┤\n",
       "│ GRU (<span style=\"color: #0087ff; text-decoration-color: #0087ff\">Bidirectional</span>)             │ (<span style=\"color: #00d7ff; text-decoration-color: #00d7ff\">None</span>, <span style=\"color: #00af00; text-decoration-color: #00af00\">512</span>)            │       <span style=\"color: #00af00; text-decoration-color: #00af00\">789,504</span> │\n",
       "├─────────────────────────────────┼────────────────────────┼───────────────┤\n",
       "│ flatten (<span style=\"color: #0087ff; text-decoration-color: #0087ff\">Flatten</span>)               │ (<span style=\"color: #00d7ff; text-decoration-color: #00d7ff\">None</span>, <span style=\"color: #00af00; text-decoration-color: #00af00\">512</span>)            │             <span style=\"color: #00af00; text-decoration-color: #00af00\">0</span> │\n",
       "├─────────────────────────────────┼────────────────────────┼───────────────┤\n",
       "│ dense (<span style=\"color: #0087ff; text-decoration-color: #0087ff\">Dense</span>)                   │ (<span style=\"color: #00d7ff; text-decoration-color: #00d7ff\">None</span>, <span style=\"color: #00af00; text-decoration-color: #00af00\">512</span>)            │       <span style=\"color: #00af00; text-decoration-color: #00af00\">269,824</span> │\n",
       "├─────────────────────────────────┼────────────────────────┼───────────────┤\n",
       "│ dense_1 (<span style=\"color: #0087ff; text-decoration-color: #0087ff\">Dense</span>)                 │ (<span style=\"color: #00d7ff; text-decoration-color: #00d7ff\">None</span>, <span style=\"color: #00af00; text-decoration-color: #00af00\">1</span>)              │           <span style=\"color: #00af00; text-decoration-color: #00af00\">513</span> │\n",
       "├─────────────────────────────────┼────────────────────────┼───────────────┤\n",
       "│ dense_2 (<span style=\"color: #0087ff; text-decoration-color: #0087ff\">Dense</span>)                 │ (<span style=\"color: #00d7ff; text-decoration-color: #00d7ff\">None</span>, <span style=\"color: #00af00; text-decoration-color: #00af00\">18</span>)             │         <span style=\"color: #00af00; text-decoration-color: #00af00\">9,234</span> │\n",
       "└─────────────────────────────────┴────────────────────────┴───────────────┘\n",
       "</pre>\n"
      ],
      "text/plain": [
       "┏━━━━━━━━━━━━━━━━━━━━━━━━━━━━━━━━━┳━━━━━━━━━━━━━━━━━━━━━━━━┳━━━━━━━━━━━━━━━┓\n",
       "┃\u001b[1m \u001b[0m\u001b[1mLayer (type)                   \u001b[0m\u001b[1m \u001b[0m┃\u001b[1m \u001b[0m\u001b[1mOutput Shape          \u001b[0m\u001b[1m \u001b[0m┃\u001b[1m \u001b[0m\u001b[1m      Param #\u001b[0m\u001b[1m \u001b[0m┃\n",
       "┡━━━━━━━━━━━━━━━━━━━━━━━━━━━━━━━━━╇━━━━━━━━━━━━━━━━━━━━━━━━╇━━━━━━━━━━━━━━━┩\n",
       "│ conv2d_net_0 (\u001b[38;5;33mSequential\u001b[0m)       │ (\u001b[38;5;45mNone\u001b[0m, \u001b[38;5;34m100\u001b[0m, \u001b[38;5;34m4\u001b[0m, \u001b[38;5;34m4\u001b[0m, \u001b[38;5;34m16\u001b[0m)  │           \u001b[38;5;34m800\u001b[0m │\n",
       "├─────────────────────────────────┼────────────────────────┼───────────────┤\n",
       "│ conv2d_net_1 (\u001b[38;5;33mSequential\u001b[0m)       │ (\u001b[38;5;45mNone\u001b[0m, \u001b[38;5;34m100\u001b[0m, \u001b[38;5;34m2\u001b[0m, \u001b[38;5;34m2\u001b[0m, \u001b[38;5;34m32\u001b[0m)  │         \u001b[38;5;34m4,768\u001b[0m │\n",
       "├─────────────────────────────────┼────────────────────────┼───────────────┤\n",
       "│ global_maxpool                  │ (\u001b[38;5;45mNone\u001b[0m, \u001b[38;5;34m100\u001b[0m, \u001b[38;5;34m32\u001b[0m)        │             \u001b[38;5;34m0\u001b[0m │\n",
       "│ (\u001b[38;5;33mTimeDistributed\u001b[0m)               │                        │               │\n",
       "├─────────────────────────────────┼────────────────────────┼───────────────┤\n",
       "│ conv1d_net_0 (\u001b[38;5;33mSequential\u001b[0m)       │ (\u001b[38;5;45mNone\u001b[0m, \u001b[38;5;34m50\u001b[0m, \u001b[38;5;34m64\u001b[0m)         │         \u001b[38;5;34m8,768\u001b[0m │\n",
       "├─────────────────────────────────┼────────────────────────┼───────────────┤\n",
       "│ conv1d_net_1 (\u001b[38;5;33mSequential\u001b[0m)       │ (\u001b[38;5;45mNone\u001b[0m, \u001b[38;5;34m25\u001b[0m, \u001b[38;5;34m128\u001b[0m)        │        \u001b[38;5;34m25,216\u001b[0m │\n",
       "├─────────────────────────────────┼────────────────────────┼───────────────┤\n",
       "│ conv1d_net_2 (\u001b[38;5;33mSequential\u001b[0m)       │ (\u001b[38;5;45mNone\u001b[0m, \u001b[38;5;34m13\u001b[0m, \u001b[38;5;34m256\u001b[0m)        │        \u001b[38;5;34m99,584\u001b[0m │\n",
       "├─────────────────────────────────┼────────────────────────┼───────────────┤\n",
       "│ gru (\u001b[38;5;33mGRU\u001b[0m)                       │ ?                      │   \u001b[38;5;34m0\u001b[0m (unbuilt) │\n",
       "├─────────────────────────────────┼────────────────────────┼───────────────┤\n",
       "│ GRU (\u001b[38;5;33mBidirectional\u001b[0m)             │ (\u001b[38;5;45mNone\u001b[0m, \u001b[38;5;34m512\u001b[0m)            │       \u001b[38;5;34m789,504\u001b[0m │\n",
       "├─────────────────────────────────┼────────────────────────┼───────────────┤\n",
       "│ flatten (\u001b[38;5;33mFlatten\u001b[0m)               │ (\u001b[38;5;45mNone\u001b[0m, \u001b[38;5;34m512\u001b[0m)            │             \u001b[38;5;34m0\u001b[0m │\n",
       "├─────────────────────────────────┼────────────────────────┼───────────────┤\n",
       "│ dense (\u001b[38;5;33mDense\u001b[0m)                   │ (\u001b[38;5;45mNone\u001b[0m, \u001b[38;5;34m512\u001b[0m)            │       \u001b[38;5;34m269,824\u001b[0m │\n",
       "├─────────────────────────────────┼────────────────────────┼───────────────┤\n",
       "│ dense_1 (\u001b[38;5;33mDense\u001b[0m)                 │ (\u001b[38;5;45mNone\u001b[0m, \u001b[38;5;34m1\u001b[0m)              │           \u001b[38;5;34m513\u001b[0m │\n",
       "├─────────────────────────────────┼────────────────────────┼───────────────┤\n",
       "│ dense_2 (\u001b[38;5;33mDense\u001b[0m)                 │ (\u001b[38;5;45mNone\u001b[0m, \u001b[38;5;34m18\u001b[0m)             │         \u001b[38;5;34m9,234\u001b[0m │\n",
       "└─────────────────────────────────┴────────────────────────┴───────────────┘\n"
      ]
     },
     "metadata": {},
     "output_type": "display_data"
    },
    {
     "data": {
      "text/html": [
       "<pre style=\"white-space:pre;overflow-x:auto;line-height:normal;font-family:Menlo,'DejaVu Sans Mono',consolas,'Courier New',monospace\"><span style=\"font-weight: bold\"> Total params: </span><span style=\"color: #00af00; text-decoration-color: #00af00\">1,208,211</span> (4.61 MB)\n",
       "</pre>\n"
      ],
      "text/plain": [
       "\u001b[1m Total params: \u001b[0m\u001b[38;5;34m1,208,211\u001b[0m (4.61 MB)\n"
      ]
     },
     "metadata": {},
     "output_type": "display_data"
    },
    {
     "data": {
      "text/html": [
       "<pre style=\"white-space:pre;overflow-x:auto;line-height:normal;font-family:Menlo,'DejaVu Sans Mono',consolas,'Courier New',monospace\"><span style=\"font-weight: bold\"> Trainable params: </span><span style=\"color: #00af00; text-decoration-color: #00af00\">1,207,219</span> (4.61 MB)\n",
       "</pre>\n"
      ],
      "text/plain": [
       "\u001b[1m Trainable params: \u001b[0m\u001b[38;5;34m1,207,219\u001b[0m (4.61 MB)\n"
      ]
     },
     "metadata": {},
     "output_type": "display_data"
    },
    {
     "data": {
      "text/html": [
       "<pre style=\"white-space:pre;overflow-x:auto;line-height:normal;font-family:Menlo,'DejaVu Sans Mono',consolas,'Courier New',monospace\"><span style=\"font-weight: bold\"> Non-trainable params: </span><span style=\"color: #00af00; text-decoration-color: #00af00\">992</span> (3.88 KB)\n",
       "</pre>\n"
      ],
      "text/plain": [
       "\u001b[1m Non-trainable params: \u001b[0m\u001b[38;5;34m992\u001b[0m (3.88 KB)\n"
      ]
     },
     "metadata": {},
     "output_type": "display_data"
    }
   ],
   "source": [
    "from tensorflow.keras.losses import BinaryCrossentropy, CategoricalCrossentropy, CategoricalFocalCrossentropy\n",
    "from tensorflow.keras.optimizers import Adam\n",
    "from tensorflow.keras.metrics import BinaryAccuracy, F1Score, AUC\n",
    "\n",
    "# kernel_size2d = 3\n",
    "# kernel_size1d = 3\n",
    "# filters_2d = [16, 32]\n",
    "# dropout = 0.5\n",
    "# filters_1d = [64, 128]\n",
    "# rnn_hidden_size = 128\n",
    "# mode = \"GRU\"\n",
    "# bidirectional = True\n",
    "# hidden_size = 256\n",
    "# regularizer = \"l2\"\n",
    "# l1_panalty = 1e-4\n",
    "# l2_penalty = 1e-4\n",
    "# binary = True\n",
    "\n",
    "model = RNNModel(kernel_size2d=3, kernel_size1d=3, filters_2d=[16, 32], dropout=0.2,\n",
    "                 filters_1d=[64, 128, 256], rnn_hidden_size=256, mode=\"GRU\", bidirectional=True,\n",
    "                 hidden_size=512, regularizer=\"l1l2\", l1_penalty=1e-4, l2_penalty=1e-4, binary=True)\n",
    "model.build(input_shapes=((None, 100, 8, 8, 5), (None, 100, 12), (None, 14)))\n",
    "model.compile(loss=BinaryCrossentropy(),\n",
    "              optimizer=Adam(learning_rate=0.0005),\n",
    "              metrics=[\"accuracy\", \"auc\"])\n",
    "\n",
    "# with strategy.scope():\n",
    "#     model = RNNModel(kernel_size2d=3, kernel_size1d=3, filters_2d=[16, 32], dropout=0.5,\n",
    "#                      filters_1d=[64, 128], rnn_hidden_size=128, mode=\"GRU\", bidirectional=True,\n",
    "#                      hidden_size=256, regularizer=\"l2\", l1_penalty=1e-5, l2_penalty=1e-5, binary=True)\n",
    "#     model.build(input_shapes=((None, 100, 8, 8, 5), (None, 100, 12), (None, 14)))\n",
    "#     model.compile(loss=BinaryCrossentropy(),\n",
    "#                   optimizer=Adam(learning_rate=0.0001),\n",
    "#                   metrics=[\"accuracy\", \"auc\"])\n",
    "model.summary()"
   ]
  },
  {
   "cell_type": "code",
   "execution_count": 13,
   "id": "6bfd4d89",
   "metadata": {
    "execution": {
     "iopub.execute_input": "2025-07-23T04:07:35.132316Z",
     "iopub.status.busy": "2025-07-23T04:07:35.131489Z",
     "iopub.status.idle": "2025-07-23T05:24:39.143576Z",
     "shell.execute_reply": "2025-07-23T05:24:39.142412Z"
    },
    "papermill": {
     "duration": 4624.020701,
     "end_time": "2025-07-23T05:24:39.145620",
     "exception": false,
     "start_time": "2025-07-23T04:07:35.124919",
     "status": "completed"
    },
    "tags": []
   },
   "outputs": [
    {
     "name": "stdout",
     "output_type": "stream",
     "text": [
      "Epoch 1/20\n",
      "    380/Unknown \u001b[1m382s\u001b[0m 606ms/step - accuracy: 0.7499 - auc: 0.8302 - loss: 1.6002\n",
      "Epoch 1: val_loss improved from inf to 1.08778, saving model to /kaggle/working/best_binary_model.weights.h5\n",
      "\u001b[1m380/380\u001b[0m \u001b[32m━━━━━━━━━━━━━━━━━━━━\u001b[0m\u001b[37m\u001b[0m \u001b[1m404s\u001b[0m 664ms/step - accuracy: 0.7500 - auc: 0.8303 - loss: 1.5996 - val_accuracy: 0.8855 - val_auc: 0.9445 - val_loss: 1.0878\n",
      "Epoch 2/20\n",
      "\u001b[1m380/380\u001b[0m \u001b[32m━━━━━━━━━━━━━━━━━━━━\u001b[0m\u001b[37m\u001b[0m \u001b[1m0s\u001b[0m 609ms/step - accuracy: 0.8822 - auc: 0.9512 - loss: 0.9979\n",
      "Epoch 2: val_loss improved from 1.08778 to 0.85259, saving model to /kaggle/working/best_binary_model.weights.h5\n",
      "\u001b[1m380/380\u001b[0m \u001b[32m━━━━━━━━━━━━━━━━━━━━\u001b[0m\u001b[37m\u001b[0m \u001b[1m236s\u001b[0m 621ms/step - accuracy: 0.8822 - auc: 0.9512 - loss: 0.9977 - val_accuracy: 0.8953 - val_auc: 0.9570 - val_loss: 0.8526\n",
      "Epoch 3/20\n",
      "\u001b[1m380/380\u001b[0m \u001b[32m━━━━━━━━━━━━━━━━━━━━\u001b[0m\u001b[37m\u001b[0m \u001b[1m0s\u001b[0m 632ms/step - accuracy: 0.9201 - auc: 0.9727 - loss: 0.7099\n",
      "Epoch 3: val_loss improved from 0.85259 to 0.70878, saving model to /kaggle/working/best_binary_model.weights.h5\n",
      "\u001b[1m380/380\u001b[0m \u001b[32m━━━━━━━━━━━━━━━━━━━━\u001b[0m\u001b[37m\u001b[0m \u001b[1m245s\u001b[0m 644ms/step - accuracy: 0.9201 - auc: 0.9727 - loss: 0.7098 - val_accuracy: 0.8986 - val_auc: 0.9674 - val_loss: 0.7088\n",
      "Epoch 4/20\n",
      "\u001b[1m380/380\u001b[0m \u001b[32m━━━━━━━━━━━━━━━━━━━━\u001b[0m\u001b[37m\u001b[0m \u001b[1m0s\u001b[0m 611ms/step - accuracy: 0.9323 - auc: 0.9826 - loss: 0.5234\n",
      "Epoch 4: val_loss improved from 0.70878 to 0.55208, saving model to /kaggle/working/best_binary_model.weights.h5\n",
      "\u001b[1m380/380\u001b[0m \u001b[32m━━━━━━━━━━━━━━━━━━━━\u001b[0m\u001b[37m\u001b[0m \u001b[1m237s\u001b[0m 622ms/step - accuracy: 0.9323 - auc: 0.9826 - loss: 0.5233 - val_accuracy: 0.9118 - val_auc: 0.9723 - val_loss: 0.5521\n",
      "Epoch 5/20\n",
      "\u001b[1m380/380\u001b[0m \u001b[32m━━━━━━━━━━━━━━━━━━━━\u001b[0m\u001b[37m\u001b[0m \u001b[1m0s\u001b[0m 547ms/step - accuracy: 0.9438 - auc: 0.9863 - loss: 0.4056\n",
      "Epoch 5: val_loss improved from 0.55208 to 0.45454, saving model to /kaggle/working/best_binary_model.weights.h5\n",
      "\u001b[1m380/380\u001b[0m \u001b[32m━━━━━━━━━━━━━━━━━━━━\u001b[0m\u001b[37m\u001b[0m \u001b[1m212s\u001b[0m 558ms/step - accuracy: 0.9438 - auc: 0.9863 - loss: 0.4056 - val_accuracy: 0.9276 - val_auc: 0.9743 - val_loss: 0.4545\n",
      "Epoch 6/20\n",
      "\u001b[1m380/380\u001b[0m \u001b[32m━━━━━━━━━━━━━━━━━━━━\u001b[0m\u001b[37m\u001b[0m \u001b[1m0s\u001b[0m 561ms/step - accuracy: 0.9532 - auc: 0.9901 - loss: 0.3211\n",
      "Epoch 6: val_loss did not improve from 0.45454\n",
      "\u001b[1m380/380\u001b[0m \u001b[32m━━━━━━━━━━━━━━━━━━━━\u001b[0m\u001b[37m\u001b[0m \u001b[1m217s\u001b[0m 571ms/step - accuracy: 0.9532 - auc: 0.9901 - loss: 0.3211 - val_accuracy: 0.9072 - val_auc: 0.9654 - val_loss: 0.5274\n",
      "Epoch 7/20\n",
      "\u001b[1m380/380\u001b[0m \u001b[32m━━━━━━━━━━━━━━━━━━━━\u001b[0m\u001b[37m\u001b[0m \u001b[1m0s\u001b[0m 548ms/step - accuracy: 0.9587 - auc: 0.9924 - loss: 0.2677\n",
      "Epoch 7: val_loss improved from 0.45454 to 0.42078, saving model to /kaggle/working/best_binary_model.weights.h5\n",
      "\u001b[1m380/380\u001b[0m \u001b[32m━━━━━━━━━━━━━━━━━━━━\u001b[0m\u001b[37m\u001b[0m \u001b[1m213s\u001b[0m 560ms/step - accuracy: 0.9587 - auc: 0.9924 - loss: 0.2676 - val_accuracy: 0.9190 - val_auc: 0.9817 - val_loss: 0.4208\n",
      "Epoch 8/20\n",
      "\u001b[1m380/380\u001b[0m \u001b[32m━━━━━━━━━━━━━━━━━━━━\u001b[0m\u001b[37m\u001b[0m \u001b[1m0s\u001b[0m 561ms/step - accuracy: 0.9674 - auc: 0.9942 - loss: 0.2290\n",
      "Epoch 8: val_loss improved from 0.42078 to 0.39846, saving model to /kaggle/working/best_binary_model.weights.h5\n",
      "\u001b[1m380/380\u001b[0m \u001b[32m━━━━━━━━━━━━━━━━━━━━\u001b[0m\u001b[37m\u001b[0m \u001b[1m218s\u001b[0m 573ms/step - accuracy: 0.9673 - auc: 0.9942 - loss: 0.2291 - val_accuracy: 0.9177 - val_auc: 0.9696 - val_loss: 0.3985\n",
      "Epoch 9/20\n",
      "\u001b[1m380/380\u001b[0m \u001b[32m━━━━━━━━━━━━━━━━━━━━\u001b[0m\u001b[37m\u001b[0m \u001b[1m0s\u001b[0m 562ms/step - accuracy: 0.9676 - auc: 0.9946 - loss: 0.2096\n",
      "Epoch 9: val_loss improved from 0.39846 to 0.37501, saving model to /kaggle/working/best_binary_model.weights.h5\n",
      "\u001b[1m380/380\u001b[0m \u001b[32m━━━━━━━━━━━━━━━━━━━━\u001b[0m\u001b[37m\u001b[0m \u001b[1m218s\u001b[0m 574ms/step - accuracy: 0.9676 - auc: 0.9946 - loss: 0.2096 - val_accuracy: 0.9263 - val_auc: 0.9742 - val_loss: 0.3750\n",
      "Epoch 10/20\n",
      "\u001b[1m380/380\u001b[0m \u001b[32m━━━━━━━━━━━━━━━━━━━━\u001b[0m\u001b[37m\u001b[0m \u001b[1m0s\u001b[0m 552ms/step - accuracy: 0.9664 - auc: 0.9953 - loss: 0.1988\n",
      "Epoch 10: val_loss improved from 0.37501 to 0.32917, saving model to /kaggle/working/best_binary_model.weights.h5\n",
      "\u001b[1m380/380\u001b[0m \u001b[32m━━━━━━━━━━━━━━━━━━━━\u001b[0m\u001b[37m\u001b[0m \u001b[1m214s\u001b[0m 563ms/step - accuracy: 0.9664 - auc: 0.9953 - loss: 0.1988 - val_accuracy: 0.9408 - val_auc: 0.9799 - val_loss: 0.3292\n",
      "Epoch 11/20\n",
      "\u001b[1m380/380\u001b[0m \u001b[32m━━━━━━━━━━━━━━━━━━━━\u001b[0m\u001b[37m\u001b[0m \u001b[1m0s\u001b[0m 562ms/step - accuracy: 0.9722 - auc: 0.9965 - loss: 0.1741\n",
      "Epoch 11: val_loss improved from 0.32917 to 0.28521, saving model to /kaggle/working/best_binary_model.weights.h5\n",
      "\u001b[1m380/380\u001b[0m \u001b[32m━━━━━━━━━━━━━━━━━━━━\u001b[0m\u001b[37m\u001b[0m \u001b[1m218s\u001b[0m 574ms/step - accuracy: 0.9722 - auc: 0.9965 - loss: 0.1741 - val_accuracy: 0.9519 - val_auc: 0.9885 - val_loss: 0.2852\n",
      "Epoch 12/20\n",
      "\u001b[1m380/380\u001b[0m \u001b[32m━━━━━━━━━━━━━━━━━━━━\u001b[0m\u001b[37m\u001b[0m \u001b[1m0s\u001b[0m 552ms/step - accuracy: 0.9747 - auc: 0.9970 - loss: 0.1657\n",
      "Epoch 12: val_loss did not improve from 0.28521\n",
      "\u001b[1m380/380\u001b[0m \u001b[32m━━━━━━━━━━━━━━━━━━━━\u001b[0m\u001b[37m\u001b[0m \u001b[1m262s\u001b[0m 689ms/step - accuracy: 0.9747 - auc: 0.9970 - loss: 0.1658 - val_accuracy: 0.9335 - val_auc: 0.9814 - val_loss: 0.3286\n",
      "Epoch 13/20\n",
      "\u001b[1m380/380\u001b[0m \u001b[32m━━━━━━━━━━━━━━━━━━━━\u001b[0m\u001b[37m\u001b[0m \u001b[1m0s\u001b[0m 566ms/step - accuracy: 0.9764 - auc: 0.9977 - loss: 0.1511\n",
      "Epoch 13: val_loss did not improve from 0.28521\n",
      "\u001b[1m380/380\u001b[0m \u001b[32m━━━━━━━━━━━━━━━━━━━━\u001b[0m\u001b[37m\u001b[0m \u001b[1m219s\u001b[0m 577ms/step - accuracy: 0.9764 - auc: 0.9977 - loss: 0.1512 - val_accuracy: 0.9335 - val_auc: 0.9827 - val_loss: 0.3559\n",
      "Epoch 14/20\n",
      "\u001b[1m380/380\u001b[0m \u001b[32m━━━━━━━━━━━━━━━━━━━━\u001b[0m\u001b[37m\u001b[0m \u001b[1m0s\u001b[0m 554ms/step - accuracy: 0.9787 - auc: 0.9975 - loss: 0.1543\n",
      "Epoch 14: val_loss did not improve from 0.28521\n",
      "\u001b[1m380/380\u001b[0m \u001b[32m━━━━━━━━━━━━━━━━━━━━\u001b[0m\u001b[37m\u001b[0m \u001b[1m215s\u001b[0m 565ms/step - accuracy: 0.9787 - auc: 0.9975 - loss: 0.1543 - val_accuracy: 0.9381 - val_auc: 0.9808 - val_loss: 0.3169\n",
      "Epoch 15/20\n",
      "\u001b[1m380/380\u001b[0m \u001b[32m━━━━━━━━━━━━━━━━━━━━\u001b[0m\u001b[37m\u001b[0m \u001b[1m0s\u001b[0m 551ms/step - accuracy: 0.9735 - auc: 0.9973 - loss: 0.1548\n",
      "Epoch 15: val_loss did not improve from 0.28521\n",
      "\u001b[1m380/380\u001b[0m \u001b[32m━━━━━━━━━━━━━━━━━━━━\u001b[0m\u001b[37m\u001b[0m \u001b[1m262s\u001b[0m 690ms/step - accuracy: 0.9735 - auc: 0.9973 - loss: 0.1548 - val_accuracy: 0.9315 - val_auc: 0.9832 - val_loss: 0.3598\n",
      "Epoch 16/20\n",
      "\u001b[1m380/380\u001b[0m \u001b[32m━━━━━━━━━━━━━━━━━━━━\u001b[0m\u001b[37m\u001b[0m \u001b[1m0s\u001b[0m 546ms/step - accuracy: 0.9816 - auc: 0.9983 - loss: 0.1328\n",
      "Epoch 16: val_loss did not improve from 0.28521\n",
      "\u001b[1m380/380\u001b[0m \u001b[32m━━━━━━━━━━━━━━━━━━━━\u001b[0m\u001b[37m\u001b[0m \u001b[1m212s\u001b[0m 557ms/step - accuracy: 0.9816 - auc: 0.9983 - loss: 0.1328 - val_accuracy: 0.9434 - val_auc: 0.9823 - val_loss: 0.3046\n",
      "Epoch 17/20\n",
      "\u001b[1m380/380\u001b[0m \u001b[32m━━━━━━━━━━━━━━━━━━━━\u001b[0m\u001b[37m\u001b[0m \u001b[1m0s\u001b[0m 530ms/step - accuracy: 0.9903 - auc: 0.9994 - loss: 0.1041\n",
      "Epoch 17: val_loss did not improve from 0.28521\n",
      "\u001b[1m380/380\u001b[0m \u001b[32m━━━━━━━━━━━━━━━━━━━━\u001b[0m\u001b[37m\u001b[0m \u001b[1m206s\u001b[0m 541ms/step - accuracy: 0.9903 - auc: 0.9994 - loss: 0.1041 - val_accuracy: 0.9375 - val_auc: 0.9773 - val_loss: 0.3764\n",
      "Epoch 18/20\n",
      "\u001b[1m380/380\u001b[0m \u001b[32m━━━━━━━━━━━━━━━━━━━━\u001b[0m\u001b[37m\u001b[0m \u001b[1m0s\u001b[0m 527ms/step - accuracy: 0.9869 - auc: 0.9992 - loss: 0.1057\n",
      "Epoch 18: val_loss did not improve from 0.28521\n",
      "\u001b[1m380/380\u001b[0m \u001b[32m━━━━━━━━━━━━━━━━━━━━\u001b[0m\u001b[37m\u001b[0m \u001b[1m205s\u001b[0m 538ms/step - accuracy: 0.9869 - auc: 0.9992 - loss: 0.1057 - val_accuracy: 0.9151 - val_auc: 0.9715 - val_loss: 0.4950\n",
      "Epoch 19/20\n",
      "\u001b[1m380/380\u001b[0m \u001b[32m━━━━━━━━━━━━━━━━━━━━\u001b[0m\u001b[37m\u001b[0m \u001b[1m0s\u001b[0m 531ms/step - accuracy: 0.9843 - auc: 0.9981 - loss: 0.1258\n",
      "Epoch 19: val_loss did not improve from 0.28521\n",
      "\u001b[1m380/380\u001b[0m \u001b[32m━━━━━━━━━━━━━━━━━━━━\u001b[0m\u001b[37m\u001b[0m \u001b[1m206s\u001b[0m 542ms/step - accuracy: 0.9843 - auc: 0.9981 - loss: 0.1258 - val_accuracy: 0.9467 - val_auc: 0.9862 - val_loss: 0.3105\n",
      "Epoch 20/20\n",
      "\u001b[1m380/380\u001b[0m \u001b[32m━━━━━━━━━━━━━━━━━━━━\u001b[0m\u001b[37m\u001b[0m \u001b[1m0s\u001b[0m 531ms/step - accuracy: 0.9840 - auc: 0.9986 - loss: 0.1154\n",
      "Epoch 20: val_loss did not improve from 0.28521\n",
      "\u001b[1m380/380\u001b[0m \u001b[32m━━━━━━━━━━━━━━━━━━━━\u001b[0m\u001b[37m\u001b[0m \u001b[1m206s\u001b[0m 542ms/step - accuracy: 0.9840 - auc: 0.9986 - loss: 0.1153 - val_accuracy: 0.9276 - val_auc: 0.9747 - val_loss: 0.3676\n"
     ]
    }
   ],
   "source": [
    "from tensorflow.keras.callbacks import ModelCheckpoint\n",
    "checkpoint_filepath = \"/kaggle/working/best_binary_model.weights.h5\"\n",
    "checkpoint_callback = ModelCheckpoint(\n",
    "    filepath=checkpoint_filepath,\n",
    "    monitor=\"val_loss\",\n",
    "    save_best_only=True,\n",
    "    save_weights_only=True,\n",
    "    mode=\"min\",\n",
    "    verbose=1\n",
    ")\n",
    "\n",
    "history = model.fit(type_train_ds, epochs=20, \n",
    "                    validation_data=type_valid_ds,\n",
    "                    callbacks=[checkpoint_callback])\n",
    "model.load_weights(checkpoint_filepath)"
   ]
  },
  {
   "cell_type": "code",
   "execution_count": 14,
   "id": "725134eb",
   "metadata": {
    "execution": {
     "iopub.execute_input": "2025-07-23T05:24:40.016908Z",
     "iopub.status.busy": "2025-07-23T05:24:40.016551Z",
     "iopub.status.idle": "2025-07-23T05:24:44.323468Z",
     "shell.execute_reply": "2025-07-23T05:24:44.322421Z"
    },
    "papermill": {
     "duration": 4.698072,
     "end_time": "2025-07-23T05:24:44.325120",
     "exception": false,
     "start_time": "2025-07-23T05:24:39.627048",
     "status": "completed"
    },
    "tags": []
   },
   "outputs": [
    {
     "name": "stdout",
     "output_type": "stream",
     "text": [
      "\u001b[1m95/95\u001b[0m \u001b[32m━━━━━━━━━━━━━━━━━━━━\u001b[0m\u001b[37m\u001b[0m \u001b[1m4s\u001b[0m 45ms/step - accuracy: 0.9528 - auc: 0.9901 - loss: 0.2647\n"
     ]
    }
   ],
   "source": [
    "from tensorflow.keras.metrics import AUC\n",
    "result = model.evaluate(type_valid_ds)"
   ]
  },
  {
   "cell_type": "code",
   "execution_count": 15,
   "id": "20af1803",
   "metadata": {
    "execution": {
     "iopub.execute_input": "2025-07-23T05:24:45.189302Z",
     "iopub.status.busy": "2025-07-23T05:24:45.188964Z",
     "iopub.status.idle": "2025-07-23T05:25:33.746325Z",
     "shell.execute_reply": "2025-07-23T05:25:33.745294Z"
    },
    "papermill": {
     "duration": 49.420668,
     "end_time": "2025-07-23T05:25:34.133363",
     "exception": false,
     "start_time": "2025-07-23T05:24:44.712695",
     "status": "completed"
    },
    "tags": []
   },
   "outputs": [
    {
     "data": {
      "text/plain": [
       "<tf.Tensor: shape=(2, 2), dtype=int32, numpy=\n",
       "array([[518,  48],\n",
       "       [ 25, 928]], dtype=int32)>"
      ]
     },
     "execution_count": 15,
     "metadata": {},
     "output_type": "execute_result"
    }
   ],
   "source": [
    "conf_tensor = tf.zeros((2, 2), dtype=tf.int32)\n",
    "for i, (inputs, labels, sample_weight) in enumerate(type_valid_ds):\n",
    "    labels_pred = model.predict(inputs, verbose=0)\n",
    "    labels_pred[labels_pred < 0.5] = 0\n",
    "    labels_pred[labels_pred >= 0.5] = 1\n",
    "    conf_tensor += tf.math.confusion_matrix(tf.reshape(labels, -1), tf.reshape(labels_pred, -1))\n",
    "conf_tensor"
   ]
  },
  {
   "cell_type": "code",
   "execution_count": 16,
   "id": "38192124",
   "metadata": {
    "execution": {
     "iopub.execute_input": "2025-07-23T05:25:34.904309Z",
     "iopub.status.busy": "2025-07-23T05:25:34.903759Z",
     "iopub.status.idle": "2025-07-23T05:25:34.910636Z",
     "shell.execute_reply": "2025-07-23T05:25:34.909735Z"
    },
    "papermill": {
     "duration": 0.390549,
     "end_time": "2025-07-23T05:25:34.912185",
     "exception": false,
     "start_time": "2025-07-23T05:25:34.521636",
     "status": "completed"
    },
    "tags": []
   },
   "outputs": [
    {
     "data": {
      "text/plain": [
       "<tf.Tensor: shape=(2, 2), dtype=int32, numpy=\n",
       "array([[518,  48],\n",
       "       [ 25, 928]], dtype=int32)>"
      ]
     },
     "execution_count": 16,
     "metadata": {},
     "output_type": "execute_result"
    }
   ],
   "source": [
    "conf_tensor"
   ]
  },
  {
   "cell_type": "code",
   "execution_count": 17,
   "id": "e61f737f",
   "metadata": {
    "execution": {
     "iopub.execute_input": "2025-07-23T05:25:35.775315Z",
     "iopub.status.busy": "2025-07-23T05:25:35.774943Z",
     "iopub.status.idle": "2025-07-23T05:25:35.796264Z",
     "shell.execute_reply": "2025-07-23T05:25:35.795126Z"
    },
    "papermill": {
     "duration": 0.496816,
     "end_time": "2025-07-23T05:25:35.797821",
     "exception": false,
     "start_time": "2025-07-23T05:25:35.301005",
     "status": "completed"
    },
    "tags": []
   },
   "outputs": [
    {
     "name": "stdout",
     "output_type": "stream",
     "text": [
      "tf.Tensor(0.9737670514165793, shape=(), dtype=float64)\n",
      "tf.Tensor(0.9508196721311475, shape=(), dtype=float64)\n",
      "tf.Tensor(0.9621565578019698, shape=(), dtype=float64)\n"
     ]
    }
   ],
   "source": [
    "precision = conf_tensor[1][1] / (conf_tensor[1][0] + conf_tensor[1][1])\n",
    "recall = conf_tensor[1][1] / (conf_tensor[0][1] + conf_tensor[1][1])\n",
    "inv_f1 = (1/precision + 1/recall)/2\n",
    "f1 = 1/inv_f1\n",
    "print(precision)\n",
    "print(recall)\n",
    "print(f1)"
   ]
  },
  {
   "cell_type": "code",
   "execution_count": 18,
   "id": "9dd7d842",
   "metadata": {
    "execution": {
     "iopub.execute_input": "2025-07-23T05:25:36.610467Z",
     "iopub.status.busy": "2025-07-23T05:25:36.610127Z",
     "iopub.status.idle": "2025-07-23T05:25:36.614370Z",
     "shell.execute_reply": "2025-07-23T05:25:36.613601Z"
    },
    "papermill": {
     "duration": 0.419639,
     "end_time": "2025-07-23T05:25:36.615830",
     "exception": false,
     "start_time": "2025-07-23T05:25:36.196191",
     "status": "completed"
    },
    "tags": []
   },
   "outputs": [],
   "source": [
    "model.set_multi()\n",
    "# model.freeze_conv_timeseries()"
   ]
  },
  {
   "cell_type": "code",
   "execution_count": 19,
   "id": "3ea65344",
   "metadata": {
    "execution": {
     "iopub.execute_input": "2025-07-23T05:25:37.479354Z",
     "iopub.status.busy": "2025-07-23T05:25:37.479004Z",
     "iopub.status.idle": "2025-07-23T05:25:37.838966Z",
     "shell.execute_reply": "2025-07-23T05:25:37.838175Z"
    },
    "papermill": {
     "duration": 0.755011,
     "end_time": "2025-07-23T05:25:37.840571",
     "exception": false,
     "start_time": "2025-07-23T05:25:37.085560",
     "status": "completed"
    },
    "tags": []
   },
   "outputs": [],
   "source": [
    "from tensorflow.keras.metrics import CategoricalAccuracy\n",
    "model.compile(loss=CategoricalFocalCrossentropy(alpha=gesture_sample_weight, \n",
    "                                                gamma=3,\n",
    "                                                label_smoothing=0.2),\n",
    "              optimizer=Adam(learning_rate=0.0005),\n",
    "              metrics=[\"accuracy\"])\n",
    "\n",
    "# with strategy.scope():\n",
    "#     model.load_weights(checkpoint_filepath)\n",
    "#     model.compile(loss=CategoricalCrossentropy(),\n",
    "#                   optimizer=Adam(learning_rate=0.0005),\n",
    "#                   metrics=[\"accuracy\"])"
   ]
  },
  {
   "cell_type": "code",
   "execution_count": 20,
   "id": "be50c276",
   "metadata": {
    "execution": {
     "iopub.execute_input": "2025-07-23T05:25:38.618713Z",
     "iopub.status.busy": "2025-07-23T05:25:38.618328Z",
     "iopub.status.idle": "2025-07-23T08:22:57.617981Z",
     "shell.execute_reply": "2025-07-23T08:22:57.616978Z"
    },
    "papermill": {
     "duration": 10640.57887,
     "end_time": "2025-07-23T08:22:58.808430",
     "exception": false,
     "start_time": "2025-07-23T05:25:38.229560",
     "status": "completed"
    },
    "tags": []
   },
   "outputs": [
    {
     "name": "stdout",
     "output_type": "stream",
     "text": [
      "Epoch 1/50\n",
      "\u001b[1m380/380\u001b[0m \u001b[32m━━━━━━━━━━━━━━━━━━━━\u001b[0m\u001b[37m\u001b[0m \u001b[1m0s\u001b[0m 512ms/step - accuracy: 0.1260 - loss: 0.1563\n",
      "Epoch 1: val_accuracy improved from -inf to 0.18038, saving model to /kaggle/working/cmi_best_model.weights.h5\n",
      "\u001b[1m380/380\u001b[0m \u001b[32m━━━━━━━━━━━━━━━━━━━━\u001b[0m\u001b[37m\u001b[0m \u001b[1m379s\u001b[0m 575ms/step - accuracy: 0.1261 - loss: 0.1562 - val_accuracy: 0.1804 - val_loss: 0.1288\n",
      "Epoch 2/50\n",
      "\u001b[1m380/380\u001b[0m \u001b[32m━━━━━━━━━━━━━━━━━━━━\u001b[0m\u001b[37m\u001b[0m \u001b[1m0s\u001b[0m 531ms/step - accuracy: 0.2130 - loss: 0.1251\n",
      "Epoch 2: val_accuracy improved from 0.18038 to 0.22712, saving model to /kaggle/working/cmi_best_model.weights.h5\n",
      "\u001b[1m380/380\u001b[0m \u001b[32m━━━━━━━━━━━━━━━━━━━━\u001b[0m\u001b[37m\u001b[0m \u001b[1m206s\u001b[0m 543ms/step - accuracy: 0.2130 - loss: 0.1251 - val_accuracy: 0.2271 - val_loss: 0.1172\n",
      "Epoch 3/50\n",
      "\u001b[1m380/380\u001b[0m \u001b[32m━━━━━━━━━━━━━━━━━━━━\u001b[0m\u001b[37m\u001b[0m \u001b[1m0s\u001b[0m 536ms/step - accuracy: 0.2612 - loss: 0.1135\n",
      "Epoch 3: val_accuracy improved from 0.22712 to 0.26860, saving model to /kaggle/working/cmi_best_model.weights.h5\n",
      "\u001b[1m380/380\u001b[0m \u001b[32m━━━━━━━━━━━━━━━━━━━━\u001b[0m\u001b[37m\u001b[0m \u001b[1m209s\u001b[0m 550ms/step - accuracy: 0.2612 - loss: 0.1135 - val_accuracy: 0.2686 - val_loss: 0.1135\n",
      "Epoch 4/50\n",
      "\u001b[1m380/380\u001b[0m \u001b[32m━━━━━━━━━━━━━━━━━━━━\u001b[0m\u001b[37m\u001b[0m \u001b[1m0s\u001b[0m 538ms/step - accuracy: 0.2918 - loss: 0.1074\n",
      "Epoch 4: val_accuracy did not improve from 0.26860\n",
      "\u001b[1m380/380\u001b[0m \u001b[32m━━━━━━━━━━━━━━━━━━━━\u001b[0m\u001b[37m\u001b[0m \u001b[1m209s\u001b[0m 549ms/step - accuracy: 0.2918 - loss: 0.1074 - val_accuracy: 0.2673 - val_loss: 0.1160\n",
      "Epoch 5/50\n",
      "\u001b[1m380/380\u001b[0m \u001b[32m━━━━━━━━━━━━━━━━━━━━\u001b[0m\u001b[37m\u001b[0m \u001b[1m0s\u001b[0m 537ms/step - accuracy: 0.3101 - loss: 0.1030\n",
      "Epoch 5: val_accuracy improved from 0.26860 to 0.28440, saving model to /kaggle/working/cmi_best_model.weights.h5\n",
      "\u001b[1m380/380\u001b[0m \u001b[32m━━━━━━━━━━━━━━━━━━━━\u001b[0m\u001b[37m\u001b[0m \u001b[1m209s\u001b[0m 549ms/step - accuracy: 0.3101 - loss: 0.1030 - val_accuracy: 0.2844 - val_loss: 0.1108\n",
      "Epoch 6/50\n",
      "\u001b[1m380/380\u001b[0m \u001b[32m━━━━━━━━━━━━━━━━━━━━\u001b[0m\u001b[37m\u001b[0m \u001b[1m0s\u001b[0m 528ms/step - accuracy: 0.3292 - loss: 0.0992\n",
      "Epoch 6: val_accuracy improved from 0.28440 to 0.31600, saving model to /kaggle/working/cmi_best_model.weights.h5\n",
      "\u001b[1m380/380\u001b[0m \u001b[32m━━━━━━━━━━━━━━━━━━━━\u001b[0m\u001b[37m\u001b[0m \u001b[1m205s\u001b[0m 540ms/step - accuracy: 0.3292 - loss: 0.0992 - val_accuracy: 0.3160 - val_loss: 0.1073\n",
      "Epoch 7/50\n",
      "\u001b[1m380/380\u001b[0m \u001b[32m━━━━━━━━━━━━━━━━━━━━\u001b[0m\u001b[37m\u001b[0m \u001b[1m0s\u001b[0m 532ms/step - accuracy: 0.3501 - loss: 0.0960\n",
      "Epoch 7: val_accuracy improved from 0.31600 to 0.33114, saving model to /kaggle/working/cmi_best_model.weights.h5\n",
      "\u001b[1m380/380\u001b[0m \u001b[32m━━━━━━━━━━━━━━━━━━━━\u001b[0m\u001b[37m\u001b[0m \u001b[1m207s\u001b[0m 544ms/step - accuracy: 0.3502 - loss: 0.0960 - val_accuracy: 0.3311 - val_loss: 0.1050\n",
      "Epoch 8/50\n",
      "\u001b[1m380/380\u001b[0m \u001b[32m━━━━━━━━━━━━━━━━━━━━\u001b[0m\u001b[37m\u001b[0m \u001b[1m0s\u001b[0m 531ms/step - accuracy: 0.3658 - loss: 0.0942\n",
      "Epoch 8: val_accuracy improved from 0.33114 to 0.34233, saving model to /kaggle/working/cmi_best_model.weights.h5\n",
      "\u001b[1m380/380\u001b[0m \u001b[32m━━━━━━━━━━━━━━━━━━━━\u001b[0m\u001b[37m\u001b[0m \u001b[1m206s\u001b[0m 542ms/step - accuracy: 0.3658 - loss: 0.0942 - val_accuracy: 0.3423 - val_loss: 0.1023\n",
      "Epoch 9/50\n",
      "\u001b[1m380/380\u001b[0m \u001b[32m━━━━━━━━━━━━━━━━━━━━\u001b[0m\u001b[37m\u001b[0m \u001b[1m0s\u001b[0m 536ms/step - accuracy: 0.3832 - loss: 0.0918\n",
      "Epoch 9: val_accuracy improved from 0.34233 to 0.34891, saving model to /kaggle/working/cmi_best_model.weights.h5\n",
      "\u001b[1m380/380\u001b[0m \u001b[32m━━━━━━━━━━━━━━━━━━━━\u001b[0m\u001b[37m\u001b[0m \u001b[1m208s\u001b[0m 547ms/step - accuracy: 0.3832 - loss: 0.0918 - val_accuracy: 0.3489 - val_loss: 0.1020\n",
      "Epoch 10/50\n",
      "\u001b[1m380/380\u001b[0m \u001b[32m━━━━━━━━━━━━━━━━━━━━\u001b[0m\u001b[37m\u001b[0m \u001b[1m0s\u001b[0m 528ms/step - accuracy: 0.3935 - loss: 0.0899\n",
      "Epoch 10: val_accuracy improved from 0.34891 to 0.35418, saving model to /kaggle/working/cmi_best_model.weights.h5\n",
      "\u001b[1m380/380\u001b[0m \u001b[32m━━━━━━━━━━━━━━━━━━━━\u001b[0m\u001b[37m\u001b[0m \u001b[1m206s\u001b[0m 541ms/step - accuracy: 0.3935 - loss: 0.0899 - val_accuracy: 0.3542 - val_loss: 0.0983\n",
      "Epoch 11/50\n",
      "\u001b[1m380/380\u001b[0m \u001b[32m━━━━━━━━━━━━━━━━━━━━\u001b[0m\u001b[37m\u001b[0m \u001b[1m0s\u001b[0m 565ms/step - accuracy: 0.3973 - loss: 0.0879\n",
      "Epoch 11: val_accuracy improved from 0.35418 to 0.35550, saving model to /kaggle/working/cmi_best_model.weights.h5\n",
      "\u001b[1m380/380\u001b[0m \u001b[32m━━━━━━━━━━━━━━━━━━━━\u001b[0m\u001b[37m\u001b[0m \u001b[1m219s\u001b[0m 576ms/step - accuracy: 0.3973 - loss: 0.0879 - val_accuracy: 0.3555 - val_loss: 0.0976\n",
      "Epoch 12/50\n",
      "\u001b[1m380/380\u001b[0m \u001b[32m━━━━━━━━━━━━━━━━━━━━\u001b[0m\u001b[37m\u001b[0m \u001b[1m0s\u001b[0m 586ms/step - accuracy: 0.4049 - loss: 0.0863\n",
      "Epoch 12: val_accuracy did not improve from 0.35550\n",
      "\u001b[1m380/380\u001b[0m \u001b[32m━━━━━━━━━━━━━━━━━━━━\u001b[0m\u001b[37m\u001b[0m \u001b[1m227s\u001b[0m 597ms/step - accuracy: 0.4049 - loss: 0.0863 - val_accuracy: 0.3298 - val_loss: 0.0986\n",
      "Epoch 13/50\n",
      "\u001b[1m380/380\u001b[0m \u001b[32m━━━━━━━━━━━━━━━━━━━━\u001b[0m\u001b[37m\u001b[0m \u001b[1m0s\u001b[0m 586ms/step - accuracy: 0.4226 - loss: 0.0851\n",
      "Epoch 13: val_accuracy did not improve from 0.35550\n",
      "\u001b[1m380/380\u001b[0m \u001b[32m━━━━━━━━━━━━━━━━━━━━\u001b[0m\u001b[37m\u001b[0m \u001b[1m227s\u001b[0m 597ms/step - accuracy: 0.4226 - loss: 0.0851 - val_accuracy: 0.3483 - val_loss: 0.0933\n",
      "Epoch 14/50\n",
      "\u001b[1m380/380\u001b[0m \u001b[32m━━━━━━━━━━━━━━━━━━━━\u001b[0m\u001b[37m\u001b[0m \u001b[1m0s\u001b[0m 565ms/step - accuracy: 0.4362 - loss: 0.0828\n",
      "Epoch 14: val_accuracy improved from 0.35550 to 0.36932, saving model to /kaggle/working/cmi_best_model.weights.h5\n",
      "\u001b[1m380/380\u001b[0m \u001b[32m━━━━━━━━━━━━━━━━━━━━\u001b[0m\u001b[37m\u001b[0m \u001b[1m219s\u001b[0m 576ms/step - accuracy: 0.4362 - loss: 0.0828 - val_accuracy: 0.3693 - val_loss: 0.0920\n",
      "Epoch 15/50\n",
      "\u001b[1m380/380\u001b[0m \u001b[32m━━━━━━━━━━━━━━━━━━━━\u001b[0m\u001b[37m\u001b[0m \u001b[1m0s\u001b[0m 536ms/step - accuracy: 0.4425 - loss: 0.0811\n",
      "Epoch 15: val_accuracy improved from 0.36932 to 0.37327, saving model to /kaggle/working/cmi_best_model.weights.h5\n",
      "\u001b[1m380/380\u001b[0m \u001b[32m━━━━━━━━━━━━━━━━━━━━\u001b[0m\u001b[37m\u001b[0m \u001b[1m251s\u001b[0m 549ms/step - accuracy: 0.4426 - loss: 0.0811 - val_accuracy: 0.3733 - val_loss: 0.0953\n",
      "Epoch 16/50\n",
      "\u001b[1m380/380\u001b[0m \u001b[32m━━━━━━━━━━━━━━━━━━━━\u001b[0m\u001b[37m\u001b[0m \u001b[1m0s\u001b[0m 534ms/step - accuracy: 0.4533 - loss: 0.0805\n",
      "Epoch 16: val_accuracy improved from 0.37327 to 0.40355, saving model to /kaggle/working/cmi_best_model.weights.h5\n",
      "\u001b[1m380/380\u001b[0m \u001b[32m━━━━━━━━━━━━━━━━━━━━\u001b[0m\u001b[37m\u001b[0m \u001b[1m207s\u001b[0m 545ms/step - accuracy: 0.4533 - loss: 0.0805 - val_accuracy: 0.4036 - val_loss: 0.0901\n",
      "Epoch 17/50\n",
      "\u001b[1m380/380\u001b[0m \u001b[32m━━━━━━━━━━━━━━━━━━━━\u001b[0m\u001b[37m\u001b[0m \u001b[1m0s\u001b[0m 536ms/step - accuracy: 0.4567 - loss: 0.0793\n",
      "Epoch 17: val_accuracy did not improve from 0.40355\n",
      "\u001b[1m380/380\u001b[0m \u001b[32m━━━━━━━━━━━━━━━━━━━━\u001b[0m\u001b[37m\u001b[0m \u001b[1m208s\u001b[0m 547ms/step - accuracy: 0.4567 - loss: 0.0793 - val_accuracy: 0.3957 - val_loss: 0.0900\n",
      "Epoch 18/50\n",
      "\u001b[1m380/380\u001b[0m \u001b[32m━━━━━━━━━━━━━━━━━━━━\u001b[0m\u001b[37m\u001b[0m \u001b[1m0s\u001b[0m 535ms/step - accuracy: 0.4735 - loss: 0.0778\n",
      "Epoch 18: val_accuracy did not improve from 0.40355\n",
      "\u001b[1m380/380\u001b[0m \u001b[32m━━━━━━━━━━━━━━━━━━━━\u001b[0m\u001b[37m\u001b[0m \u001b[1m208s\u001b[0m 546ms/step - accuracy: 0.4735 - loss: 0.0778 - val_accuracy: 0.3799 - val_loss: 0.0917\n",
      "Epoch 19/50\n",
      "\u001b[1m380/380\u001b[0m \u001b[32m━━━━━━━━━━━━━━━━━━━━\u001b[0m\u001b[37m\u001b[0m \u001b[1m0s\u001b[0m 538ms/step - accuracy: 0.4727 - loss: 0.0772\n",
      "Epoch 19: val_accuracy did not improve from 0.40355\n",
      "\u001b[1m380/380\u001b[0m \u001b[32m━━━━━━━━━━━━━━━━━━━━\u001b[0m\u001b[37m\u001b[0m \u001b[1m209s\u001b[0m 549ms/step - accuracy: 0.4728 - loss: 0.0772 - val_accuracy: 0.3976 - val_loss: 0.0913\n",
      "Epoch 20/50\n",
      "\u001b[1m380/380\u001b[0m \u001b[32m━━━━━━━━━━━━━━━━━━━━\u001b[0m\u001b[37m\u001b[0m \u001b[1m0s\u001b[0m 543ms/step - accuracy: 0.4938 - loss: 0.0756\n",
      "Epoch 20: val_accuracy did not improve from 0.40355\n",
      "\u001b[1m380/380\u001b[0m \u001b[32m━━━━━━━━━━━━━━━━━━━━\u001b[0m\u001b[37m\u001b[0m \u001b[1m212s\u001b[0m 557ms/step - accuracy: 0.4938 - loss: 0.0756 - val_accuracy: 0.3706 - val_loss: 0.0951\n",
      "Epoch 21/50\n",
      "\u001b[1m380/380\u001b[0m \u001b[32m━━━━━━━━━━━━━━━━━━━━\u001b[0m\u001b[37m\u001b[0m \u001b[1m0s\u001b[0m 527ms/step - accuracy: 0.4950 - loss: 0.0751\n",
      "Epoch 21: val_accuracy did not improve from 0.40355\n",
      "\u001b[1m380/380\u001b[0m \u001b[32m━━━━━━━━━━━━━━━━━━━━\u001b[0m\u001b[37m\u001b[0m \u001b[1m205s\u001b[0m 538ms/step - accuracy: 0.4950 - loss: 0.0751 - val_accuracy: 0.3812 - val_loss: 0.0940\n",
      "Epoch 22/50\n",
      "\u001b[1m380/380\u001b[0m \u001b[32m━━━━━━━━━━━━━━━━━━━━\u001b[0m\u001b[37m\u001b[0m \u001b[1m0s\u001b[0m 540ms/step - accuracy: 0.5030 - loss: 0.0742\n",
      "Epoch 22: val_accuracy did not improve from 0.40355\n",
      "\u001b[1m380/380\u001b[0m \u001b[32m━━━━━━━━━━━━━━━━━━━━\u001b[0m\u001b[37m\u001b[0m \u001b[1m209s\u001b[0m 551ms/step - accuracy: 0.5030 - loss: 0.0742 - val_accuracy: 0.3989 - val_loss: 0.0915\n",
      "Epoch 23/50\n",
      "\u001b[1m380/380\u001b[0m \u001b[32m━━━━━━━━━━━━━━━━━━━━\u001b[0m\u001b[37m\u001b[0m \u001b[1m0s\u001b[0m 540ms/step - accuracy: 0.4998 - loss: 0.0742\n",
      "Epoch 23: val_accuracy improved from 0.40355 to 0.42594, saving model to /kaggle/working/cmi_best_model.weights.h5\n",
      "\u001b[1m380/380\u001b[0m \u001b[32m━━━━━━━━━━━━━━━━━━━━\u001b[0m\u001b[37m\u001b[0m \u001b[1m210s\u001b[0m 552ms/step - accuracy: 0.4998 - loss: 0.0742 - val_accuracy: 0.4259 - val_loss: 0.0892\n",
      "Epoch 24/50\n",
      "\u001b[1m380/380\u001b[0m \u001b[32m━━━━━━━━━━━━━━━━━━━━\u001b[0m\u001b[37m\u001b[0m \u001b[1m0s\u001b[0m 551ms/step - accuracy: 0.5111 - loss: 0.0728\n",
      "Epoch 24: val_accuracy did not improve from 0.42594\n",
      "\u001b[1m380/380\u001b[0m \u001b[32m━━━━━━━━━━━━━━━━━━━━\u001b[0m\u001b[37m\u001b[0m \u001b[1m213s\u001b[0m 562ms/step - accuracy: 0.5111 - loss: 0.0728 - val_accuracy: 0.4167 - val_loss: 0.0887\n",
      "Epoch 25/50\n",
      "\u001b[1m380/380\u001b[0m \u001b[32m━━━━━━━━━━━━━━━━━━━━\u001b[0m\u001b[37m\u001b[0m \u001b[1m0s\u001b[0m 559ms/step - accuracy: 0.5125 - loss: 0.0722\n",
      "Epoch 25: val_accuracy did not improve from 0.42594\n",
      "\u001b[1m380/380\u001b[0m \u001b[32m━━━━━━━━━━━━━━━━━━━━\u001b[0m\u001b[37m\u001b[0m \u001b[1m217s\u001b[0m 570ms/step - accuracy: 0.5125 - loss: 0.0722 - val_accuracy: 0.4246 - val_loss: 0.0890\n",
      "Epoch 26/50\n",
      "\u001b[1m380/380\u001b[0m \u001b[32m━━━━━━━━━━━━━━━━━━━━\u001b[0m\u001b[37m\u001b[0m \u001b[1m0s\u001b[0m 543ms/step - accuracy: 0.5267 - loss: 0.0712\n",
      "Epoch 26: val_accuracy did not improve from 0.42594\n",
      "\u001b[1m380/380\u001b[0m \u001b[32m━━━━━━━━━━━━━━━━━━━━\u001b[0m\u001b[37m\u001b[0m \u001b[1m211s\u001b[0m 554ms/step - accuracy: 0.5267 - loss: 0.0712 - val_accuracy: 0.4115 - val_loss: 0.0906\n",
      "Epoch 27/50\n",
      "\u001b[1m380/380\u001b[0m \u001b[32m━━━━━━━━━━━━━━━━━━━━\u001b[0m\u001b[37m\u001b[0m \u001b[1m0s\u001b[0m 545ms/step - accuracy: 0.5233 - loss: 0.0707\n",
      "Epoch 27: val_accuracy did not improve from 0.42594\n",
      "\u001b[1m380/380\u001b[0m \u001b[32m━━━━━━━━━━━━━━━━━━━━\u001b[0m\u001b[37m\u001b[0m \u001b[1m211s\u001b[0m 556ms/step - accuracy: 0.5233 - loss: 0.0707 - val_accuracy: 0.4068 - val_loss: 0.0900\n",
      "Epoch 28/50\n",
      "\u001b[1m380/380\u001b[0m \u001b[32m━━━━━━━━━━━━━━━━━━━━\u001b[0m\u001b[37m\u001b[0m \u001b[1m0s\u001b[0m 552ms/step - accuracy: 0.5363 - loss: 0.0698\n",
      "Epoch 28: val_accuracy did not improve from 0.42594\n",
      "\u001b[1m380/380\u001b[0m \u001b[32m━━━━━━━━━━━━━━━━━━━━\u001b[0m\u001b[37m\u001b[0m \u001b[1m214s\u001b[0m 563ms/step - accuracy: 0.5363 - loss: 0.0698 - val_accuracy: 0.3957 - val_loss: 0.0921\n",
      "Epoch 29/50\n",
      "\u001b[1m380/380\u001b[0m \u001b[32m━━━━━━━━━━━━━━━━━━━━\u001b[0m\u001b[37m\u001b[0m \u001b[1m0s\u001b[0m 541ms/step - accuracy: 0.5438 - loss: 0.0694\n",
      "Epoch 29: val_accuracy did not improve from 0.42594\n",
      "\u001b[1m380/380\u001b[0m \u001b[32m━━━━━━━━━━━━━━━━━━━━\u001b[0m\u001b[37m\u001b[0m \u001b[1m210s\u001b[0m 553ms/step - accuracy: 0.5438 - loss: 0.0694 - val_accuracy: 0.4246 - val_loss: 0.0880\n",
      "Epoch 30/50\n",
      "\u001b[1m380/380\u001b[0m \u001b[32m━━━━━━━━━━━━━━━━━━━━\u001b[0m\u001b[37m\u001b[0m \u001b[1m0s\u001b[0m 545ms/step - accuracy: 0.5483 - loss: 0.0695\n",
      "Epoch 30: val_accuracy did not improve from 0.42594\n",
      "\u001b[1m380/380\u001b[0m \u001b[32m━━━━━━━━━━━━━━━━━━━━\u001b[0m\u001b[37m\u001b[0m \u001b[1m211s\u001b[0m 556ms/step - accuracy: 0.5484 - loss: 0.0694 - val_accuracy: 0.4095 - val_loss: 0.0922\n",
      "Epoch 31/50\n",
      "\u001b[1m380/380\u001b[0m \u001b[32m━━━━━━━━━━━━━━━━━━━━\u001b[0m\u001b[37m\u001b[0m \u001b[1m0s\u001b[0m 557ms/step - accuracy: 0.5515 - loss: 0.0681\n",
      "Epoch 31: val_accuracy did not improve from 0.42594\n",
      "\u001b[1m380/380\u001b[0m \u001b[32m━━━━━━━━━━━━━━━━━━━━\u001b[0m\u001b[37m\u001b[0m \u001b[1m216s\u001b[0m 568ms/step - accuracy: 0.5515 - loss: 0.0681 - val_accuracy: 0.4101 - val_loss: 0.0900\n",
      "Epoch 32/50\n",
      "\u001b[1m380/380\u001b[0m \u001b[32m━━━━━━━━━━━━━━━━━━━━\u001b[0m\u001b[37m\u001b[0m \u001b[1m0s\u001b[0m 533ms/step - accuracy: 0.5600 - loss: 0.0677\n",
      "Epoch 32: val_accuracy did not improve from 0.42594\n",
      "\u001b[1m380/380\u001b[0m \u001b[32m━━━━━━━━━━━━━━━━━━━━\u001b[0m\u001b[37m\u001b[0m \u001b[1m207s\u001b[0m 544ms/step - accuracy: 0.5600 - loss: 0.0677 - val_accuracy: 0.4246 - val_loss: 0.0896\n",
      "Epoch 33/50\n",
      "\u001b[1m380/380\u001b[0m \u001b[32m━━━━━━━━━━━━━━━━━━━━\u001b[0m\u001b[37m\u001b[0m \u001b[1m0s\u001b[0m 512ms/step - accuracy: 0.5700 - loss: 0.0669\n",
      "Epoch 33: val_accuracy improved from 0.42594 to 0.42989, saving model to /kaggle/working/cmi_best_model.weights.h5\n",
      "\u001b[1m380/380\u001b[0m \u001b[32m━━━━━━━━━━━━━━━━━━━━\u001b[0m\u001b[37m\u001b[0m \u001b[1m199s\u001b[0m 524ms/step - accuracy: 0.5700 - loss: 0.0669 - val_accuracy: 0.4299 - val_loss: 0.0915\n",
      "Epoch 34/50\n",
      "\u001b[1m380/380\u001b[0m \u001b[32m━━━━━━━━━━━━━━━━━━━━\u001b[0m\u001b[37m\u001b[0m \u001b[1m0s\u001b[0m 541ms/step - accuracy: 0.5582 - loss: 0.0673\n",
      "Epoch 34: val_accuracy improved from 0.42989 to 0.43384, saving model to /kaggle/working/cmi_best_model.weights.h5\n",
      "\u001b[1m380/380\u001b[0m \u001b[32m━━━━━━━━━━━━━━━━━━━━\u001b[0m\u001b[37m\u001b[0m \u001b[1m211s\u001b[0m 554ms/step - accuracy: 0.5582 - loss: 0.0673 - val_accuracy: 0.4338 - val_loss: 0.0900\n",
      "Epoch 35/50\n",
      "\u001b[1m380/380\u001b[0m \u001b[32m━━━━━━━━━━━━━━━━━━━━\u001b[0m\u001b[37m\u001b[0m \u001b[1m0s\u001b[0m 548ms/step - accuracy: 0.5680 - loss: 0.0663\n",
      "Epoch 35: val_accuracy did not improve from 0.43384\n",
      "\u001b[1m380/380\u001b[0m \u001b[32m━━━━━━━━━━━━━━━━━━━━\u001b[0m\u001b[37m\u001b[0m \u001b[1m212s\u001b[0m 559ms/step - accuracy: 0.5680 - loss: 0.0663 - val_accuracy: 0.4259 - val_loss: 0.0908\n",
      "Epoch 36/50\n",
      "\u001b[1m380/380\u001b[0m \u001b[32m━━━━━━━━━━━━━━━━━━━━\u001b[0m\u001b[37m\u001b[0m \u001b[1m0s\u001b[0m 521ms/step - accuracy: 0.5858 - loss: 0.0658\n",
      "Epoch 36: val_accuracy did not improve from 0.43384\n",
      "\u001b[1m380/380\u001b[0m \u001b[32m━━━━━━━━━━━━━━━━━━━━\u001b[0m\u001b[37m\u001b[0m \u001b[1m202s\u001b[0m 532ms/step - accuracy: 0.5858 - loss: 0.0658 - val_accuracy: 0.4128 - val_loss: 0.0907\n",
      "Epoch 37/50\n",
      "\u001b[1m380/380\u001b[0m \u001b[32m━━━━━━━━━━━━━━━━━━━━\u001b[0m\u001b[37m\u001b[0m \u001b[1m0s\u001b[0m 526ms/step - accuracy: 0.5808 - loss: 0.0658\n",
      "Epoch 37: val_accuracy did not improve from 0.43384\n",
      "\u001b[1m380/380\u001b[0m \u001b[32m━━━━━━━━━━━━━━━━━━━━\u001b[0m\u001b[37m\u001b[0m \u001b[1m204s\u001b[0m 538ms/step - accuracy: 0.5808 - loss: 0.0658 - val_accuracy: 0.3996 - val_loss: 0.0924\n",
      "Epoch 38/50\n",
      "\u001b[1m380/380\u001b[0m \u001b[32m━━━━━━━━━━━━━━━━━━━━\u001b[0m\u001b[37m\u001b[0m \u001b[1m0s\u001b[0m 521ms/step - accuracy: 0.5871 - loss: 0.0652\n",
      "Epoch 38: val_accuracy did not improve from 0.43384\n",
      "\u001b[1m380/380\u001b[0m \u001b[32m━━━━━━━━━━━━━━━━━━━━\u001b[0m\u001b[37m\u001b[0m \u001b[1m202s\u001b[0m 532ms/step - accuracy: 0.5872 - loss: 0.0652 - val_accuracy: 0.4049 - val_loss: 0.0898\n",
      "Epoch 39/50\n",
      "\u001b[1m380/380\u001b[0m \u001b[32m━━━━━━━━━━━━━━━━━━━━\u001b[0m\u001b[37m\u001b[0m \u001b[1m0s\u001b[0m 530ms/step - accuracy: 0.5830 - loss: 0.0645\n",
      "Epoch 39: val_accuracy did not improve from 0.43384\n",
      "\u001b[1m380/380\u001b[0m \u001b[32m━━━━━━━━━━━━━━━━━━━━\u001b[0m\u001b[37m\u001b[0m \u001b[1m206s\u001b[0m 541ms/step - accuracy: 0.5831 - loss: 0.0645 - val_accuracy: 0.4194 - val_loss: 0.0909\n",
      "Epoch 40/50\n",
      "\u001b[1m380/380\u001b[0m \u001b[32m━━━━━━━━━━━━━━━━━━━━\u001b[0m\u001b[37m\u001b[0m \u001b[1m0s\u001b[0m 520ms/step - accuracy: 0.5938 - loss: 0.0644\n",
      "Epoch 40: val_accuracy did not improve from 0.43384\n",
      "\u001b[1m380/380\u001b[0m \u001b[32m━━━━━━━━━━━━━━━━━━━━\u001b[0m\u001b[37m\u001b[0m \u001b[1m202s\u001b[0m 531ms/step - accuracy: 0.5938 - loss: 0.0644 - val_accuracy: 0.4187 - val_loss: 0.0904\n",
      "Epoch 41/50\n",
      "\u001b[1m380/380\u001b[0m \u001b[32m━━━━━━━━━━━━━━━━━━━━\u001b[0m\u001b[37m\u001b[0m \u001b[1m0s\u001b[0m 523ms/step - accuracy: 0.5884 - loss: 0.0648\n",
      "Epoch 41: val_accuracy did not improve from 0.43384\n",
      "\u001b[1m380/380\u001b[0m \u001b[32m━━━━━━━━━━━━━━━━━━━━\u001b[0m\u001b[37m\u001b[0m \u001b[1m203s\u001b[0m 535ms/step - accuracy: 0.5884 - loss: 0.0648 - val_accuracy: 0.4220 - val_loss: 0.0902\n",
      "Epoch 42/50\n",
      "\u001b[1m380/380\u001b[0m \u001b[32m━━━━━━━━━━━━━━━━━━━━\u001b[0m\u001b[37m\u001b[0m \u001b[1m0s\u001b[0m 521ms/step - accuracy: 0.5937 - loss: 0.0631\n",
      "Epoch 42: val_accuracy did not improve from 0.43384\n",
      "\u001b[1m380/380\u001b[0m \u001b[32m━━━━━━━━━━━━━━━━━━━━\u001b[0m\u001b[37m\u001b[0m \u001b[1m203s\u001b[0m 533ms/step - accuracy: 0.5937 - loss: 0.0631 - val_accuracy: 0.4299 - val_loss: 0.0914\n",
      "Epoch 43/50\n",
      "\u001b[1m380/380\u001b[0m \u001b[32m━━━━━━━━━━━━━━━━━━━━\u001b[0m\u001b[37m\u001b[0m \u001b[1m0s\u001b[0m 526ms/step - accuracy: 0.5947 - loss: 0.0633\n",
      "Epoch 43: val_accuracy did not improve from 0.43384\n",
      "\u001b[1m380/380\u001b[0m \u001b[32m━━━━━━━━━━━━━━━━━━━━\u001b[0m\u001b[37m\u001b[0m \u001b[1m204s\u001b[0m 537ms/step - accuracy: 0.5948 - loss: 0.0633 - val_accuracy: 0.4325 - val_loss: 0.0895\n",
      "Epoch 44/50\n",
      "\u001b[1m380/380\u001b[0m \u001b[32m━━━━━━━━━━━━━━━━━━━━\u001b[0m\u001b[37m\u001b[0m \u001b[1m0s\u001b[0m 525ms/step - accuracy: 0.6035 - loss: 0.0630\n",
      "Epoch 44: val_accuracy did not improve from 0.43384\n",
      "\u001b[1m380/380\u001b[0m \u001b[32m━━━━━━━━━━━━━━━━━━━━\u001b[0m\u001b[37m\u001b[0m \u001b[1m204s\u001b[0m 536ms/step - accuracy: 0.6035 - loss: 0.0630 - val_accuracy: 0.4101 - val_loss: 0.0922\n",
      "Epoch 45/50\n",
      "\u001b[1m380/380\u001b[0m \u001b[32m━━━━━━━━━━━━━━━━━━━━\u001b[0m\u001b[37m\u001b[0m \u001b[1m0s\u001b[0m 539ms/step - accuracy: 0.6024 - loss: 0.0630\n",
      "Epoch 45: val_accuracy did not improve from 0.43384\n",
      "\u001b[1m380/380\u001b[0m \u001b[32m━━━━━━━━━━━━━━━━━━━━\u001b[0m\u001b[37m\u001b[0m \u001b[1m209s\u001b[0m 550ms/step - accuracy: 0.6025 - loss: 0.0630 - val_accuracy: 0.4325 - val_loss: 0.0891\n",
      "Epoch 46/50\n",
      "\u001b[1m380/380\u001b[0m \u001b[32m━━━━━━━━━━━━━━━━━━━━\u001b[0m\u001b[37m\u001b[0m \u001b[1m0s\u001b[0m 528ms/step - accuracy: 0.6189 - loss: 0.0625\n",
      "Epoch 46: val_accuracy did not improve from 0.43384\n",
      "\u001b[1m380/380\u001b[0m \u001b[32m━━━━━━━━━━━━━━━━━━━━\u001b[0m\u001b[37m\u001b[0m \u001b[1m205s\u001b[0m 539ms/step - accuracy: 0.6190 - loss: 0.0625 - val_accuracy: 0.4134 - val_loss: 0.0923\n",
      "Epoch 47/50\n",
      "\u001b[1m380/380\u001b[0m \u001b[32m━━━━━━━━━━━━━━━━━━━━\u001b[0m\u001b[37m\u001b[0m \u001b[1m0s\u001b[0m 525ms/step - accuracy: 0.6248 - loss: 0.0623\n",
      "Epoch 47: val_accuracy did not improve from 0.43384\n",
      "\u001b[1m380/380\u001b[0m \u001b[32m━━━━━━━━━━━━━━━━━━━━\u001b[0m\u001b[37m\u001b[0m \u001b[1m204s\u001b[0m 536ms/step - accuracy: 0.6249 - loss: 0.0623 - val_accuracy: 0.4226 - val_loss: 0.0909\n",
      "Epoch 48/50\n",
      "\u001b[1m380/380\u001b[0m \u001b[32m━━━━━━━━━━━━━━━━━━━━\u001b[0m\u001b[37m\u001b[0m \u001b[1m0s\u001b[0m 522ms/step - accuracy: 0.6344 - loss: 0.0616\n",
      "Epoch 48: val_accuracy improved from 0.43384 to 0.44042, saving model to /kaggle/working/cmi_best_model.weights.h5\n",
      "\u001b[1m380/380\u001b[0m \u001b[32m━━━━━━━━━━━━━━━━━━━━\u001b[0m\u001b[37m\u001b[0m \u001b[1m203s\u001b[0m 533ms/step - accuracy: 0.6344 - loss: 0.0616 - val_accuracy: 0.4404 - val_loss: 0.0886\n",
      "Epoch 49/50\n",
      "\u001b[1m380/380\u001b[0m \u001b[32m━━━━━━━━━━━━━━━━━━━━\u001b[0m\u001b[37m\u001b[0m \u001b[1m0s\u001b[0m 520ms/step - accuracy: 0.6403 - loss: 0.0613\n",
      "Epoch 49: val_accuracy did not improve from 0.44042\n",
      "\u001b[1m380/380\u001b[0m \u001b[32m━━━━━━━━━━━━━━━━━━━━\u001b[0m\u001b[37m\u001b[0m \u001b[1m202s\u001b[0m 531ms/step - accuracy: 0.6403 - loss: 0.0613 - val_accuracy: 0.4266 - val_loss: 0.0894\n",
      "Epoch 50/50\n",
      "\u001b[1m380/380\u001b[0m \u001b[32m━━━━━━━━━━━━━━━━━━━━\u001b[0m\u001b[37m\u001b[0m \u001b[1m0s\u001b[0m 516ms/step - accuracy: 0.6446 - loss: 0.0614\n",
      "Epoch 50: val_accuracy did not improve from 0.44042\n",
      "\u001b[1m380/380\u001b[0m \u001b[32m━━━━━━━━━━━━━━━━━━━━\u001b[0m\u001b[37m\u001b[0m \u001b[1m200s\u001b[0m 527ms/step - accuracy: 0.6447 - loss: 0.0614 - val_accuracy: 0.4365 - val_loss: 0.0913\n"
     ]
    }
   ],
   "source": [
    "checkpoint_filepath = \"/kaggle/working/cmi_best_model.weights.h5\"\n",
    "checkpoint_callback = ModelCheckpoint(\n",
    "    filepath=checkpoint_filepath,\n",
    "    monitor=\"val_accuracy\",\n",
    "    save_best_only=True,\n",
    "    save_weights_only=True,\n",
    "    mode=\"max\",\n",
    "    verbose=1\n",
    ")\n",
    "\n",
    "history = model.fit(gesture_train_ds, epochs=50, \n",
    "                    validation_data=gesture_valid_ds,\n",
    "                    callbacks=[checkpoint_callback])\n",
    "model.load_weights(checkpoint_filepath)"
   ]
  },
  {
   "cell_type": "code",
   "execution_count": 21,
   "id": "6dcd7dd0",
   "metadata": {
    "execution": {
     "iopub.execute_input": "2025-07-23T08:23:01.820718Z",
     "iopub.status.busy": "2025-07-23T08:23:01.820376Z",
     "iopub.status.idle": "2025-07-23T08:23:01.830778Z",
     "shell.execute_reply": "2025-07-23T08:23:01.830035Z"
    },
    "papermill": {
     "duration": 1.479276,
     "end_time": "2025-07-23T08:23:01.832451",
     "exception": false,
     "start_time": "2025-07-23T08:23:00.353175",
     "status": "completed"
    },
    "tags": []
   },
   "outputs": [],
   "source": [
    "import json\n",
    "\n",
    "with open('/kaggle/input/cmi-tf-datasets/mapping.json') as f:\n",
    "    mapping_dict = json.load(f)\n",
    "\n",
    "gesture_mapping = mapping_dict[\"gesture_mapping\"]\n",
    "inv_gesture_mapping = {value: key for key, value in gesture_mapping.items()}\n",
    "\n",
    "num2gesture = np.vectorize(lambda x: inv_gesture_mapping[x])"
   ]
  },
  {
   "cell_type": "code",
   "execution_count": 22,
   "id": "0f3df769",
   "metadata": {
    "execution": {
     "iopub.execute_input": "2025-07-23T08:23:04.633543Z",
     "iopub.status.busy": "2025-07-23T08:23:04.633166Z",
     "iopub.status.idle": "2025-07-23T08:23:04.639790Z",
     "shell.execute_reply": "2025-07-23T08:23:04.638762Z"
    },
    "papermill": {
     "duration": 1.471989,
     "end_time": "2025-07-23T08:23:04.641316",
     "exception": false,
     "start_time": "2025-07-23T08:23:03.169327",
     "status": "completed"
    },
    "tags": []
   },
   "outputs": [],
   "source": [
    "non_target_gestures = [\"Drink from bottle/cup\", \"Glasses on/off\", \"Pull air toward your face\",\n",
    "                       \"Pinch knee/leg skin\", \"Scratch knee/leg skin\", \"Write name on leg\",\n",
    "                       \"Text on phone\", \"Feel around in tray and pull out an object\",\n",
    "                       \"Write name in air\", \"Wave hello\"]\n",
    "\n",
    "def map_non_target(y_ind):\n",
    "    y_pred = inv_gesture_mapping[y_ind]\n",
    "    if y_ind == 3:\n",
    "        y_ind = 2\n",
    "    elif y_ind == 4:\n",
    "        y_ind = 3\n",
    "    elif y_ind == 6:\n",
    "        y_ind = 4\n",
    "    elif y_ind == 7:\n",
    "        y_ind = 5\n",
    "    elif y_ind == 9:\n",
    "        y_ind = 6\n",
    "    elif y_ind == 10:\n",
    "        y_ind = 7\n",
    "    if y_pred in non_target_gestures:\n",
    "        y_ind = 8\n",
    "    return y_ind\n",
    "\n",
    "vectorize_map_non_target = np.vectorize(map_non_target)"
   ]
  },
  {
   "cell_type": "code",
   "execution_count": 23,
   "id": "6770bc9b",
   "metadata": {
    "execution": {
     "iopub.execute_input": "2025-07-23T08:23:07.625943Z",
     "iopub.status.busy": "2025-07-23T08:23:07.625100Z",
     "iopub.status.idle": "2025-07-23T08:23:54.363796Z",
     "shell.execute_reply": "2025-07-23T08:23:54.362870Z"
    },
    "papermill": {
     "duration": 48.248792,
     "end_time": "2025-07-23T08:23:54.365567",
     "exception": false,
     "start_time": "2025-07-23T08:23:06.116775",
     "status": "completed"
    },
    "tags": []
   },
   "outputs": [],
   "source": [
    "conf_tensor = np.zeros((9, 9), dtype=np.int32)\n",
    "for i, (inputs, labels) in enumerate(gesture_valid_ds):\n",
    "    labels_pred = model.predict(inputs, verbose=0)\n",
    "    labels_pred = tf.argmax(labels_pred, axis=-1).numpy()\n",
    "    labels_pred = vectorize_map_non_target(labels_pred)\n",
    "    labels_true = tf.argmax(labels, axis=-1).numpy()\n",
    "    labels_true = vectorize_map_non_target(labels_true)\n",
    "    conf_tensor += tf.math.confusion_matrix(labels_true, labels_pred, num_classes=9)"
   ]
  },
  {
   "cell_type": "code",
   "execution_count": 24,
   "id": "dfa16948",
   "metadata": {
    "execution": {
     "iopub.execute_input": "2025-07-23T08:23:57.202918Z",
     "iopub.status.busy": "2025-07-23T08:23:57.202558Z",
     "iopub.status.idle": "2025-07-23T08:23:57.239674Z",
     "shell.execute_reply": "2025-07-23T08:23:57.238603Z"
    },
    "papermill": {
     "duration": 1.539869,
     "end_time": "2025-07-23T08:23:57.241288",
     "exception": false,
     "start_time": "2025-07-23T08:23:55.701419",
     "status": "completed"
    },
    "tags": []
   },
   "outputs": [
    {
     "name": "stdout",
     "output_type": "stream",
     "text": [
      "F1 score mean: 0.519\n"
     ]
    }
   ],
   "source": [
    "precisions = []\n",
    "recalls = []\n",
    "f1s = []\n",
    "\n",
    "for i in range(9):\n",
    "    column = conf_tensor[i, :]\n",
    "    row = conf_tensor[:, i]\n",
    "    precision = column[i] / tf.math.reduce_sum(column)\n",
    "    recall = row[i] / tf.math.reduce_sum(row)\n",
    "    inv_f1 = (1/precision + 1/recall)/2\n",
    "    f1 = 1/inv_f1\n",
    "    precisions.append(precision)\n",
    "    recalls.append(recall)\n",
    "    f1s.append(f1)\n",
    "print(f\"F1 score mean: {np.round(np.mean(f1s), 3)}\")"
   ]
  },
  {
   "cell_type": "code",
   "execution_count": 25,
   "id": "24f91657",
   "metadata": {
    "execution": {
     "iopub.execute_input": "2025-07-23T08:24:00.023452Z",
     "iopub.status.busy": "2025-07-23T08:24:00.023087Z",
     "iopub.status.idle": "2025-07-23T08:24:00.027516Z",
     "shell.execute_reply": "2025-07-23T08:24:00.026387Z"
    },
    "papermill": {
     "duration": 1.458205,
     "end_time": "2025-07-23T08:24:00.029152",
     "exception": false,
     "start_time": "2025-07-23T08:23:58.570947",
     "status": "completed"
    },
    "tags": []
   },
   "outputs": [],
   "source": [
    "# import os\n",
    "# save_path = os.path.join(\"/kaggle/working/\", \"cmi_model.weights.h5\")\n",
    "# model.save_weights(save_path)"
   ]
  },
  {
   "cell_type": "code",
   "execution_count": 26,
   "id": "e2e8a520",
   "metadata": {
    "execution": {
     "iopub.execute_input": "2025-07-23T08:24:02.853452Z",
     "iopub.status.busy": "2025-07-23T08:24:02.853012Z",
     "iopub.status.idle": "2025-07-23T08:24:03.215454Z",
     "shell.execute_reply": "2025-07-23T08:24:03.214508Z"
    },
    "papermill": {
     "duration": 1.699685,
     "end_time": "2025-07-23T08:24:03.216992",
     "exception": false,
     "start_time": "2025-07-23T08:24:01.517307",
     "status": "completed"
    },
    "tags": []
   },
   "outputs": [
    {
     "data": {
      "text/html": [
       "<pre style=\"white-space:pre;overflow-x:auto;line-height:normal;font-family:Menlo,'DejaVu Sans Mono',consolas,'Courier New',monospace\"><span style=\"font-weight: bold\">Model: \"rnn_model_1\"</span>\n",
       "</pre>\n"
      ],
      "text/plain": [
       "\u001b[1mModel: \"rnn_model_1\"\u001b[0m\n"
      ]
     },
     "metadata": {},
     "output_type": "display_data"
    },
    {
     "data": {
      "text/html": [
       "<pre style=\"white-space:pre;overflow-x:auto;line-height:normal;font-family:Menlo,'DejaVu Sans Mono',consolas,'Courier New',monospace\">┏━━━━━━━━━━━━━━━━━━━━━━━━━━━━━━━━━┳━━━━━━━━━━━━━━━━━━━━━━━━┳━━━━━━━━━━━━━━━┓\n",
       "┃<span style=\"font-weight: bold\"> Layer (type)                    </span>┃<span style=\"font-weight: bold\"> Output Shape           </span>┃<span style=\"font-weight: bold\">       Param # </span>┃\n",
       "┡━━━━━━━━━━━━━━━━━━━━━━━━━━━━━━━━━╇━━━━━━━━━━━━━━━━━━━━━━━━╇━━━━━━━━━━━━━━━┩\n",
       "│ conv2d_net_0 (<span style=\"color: #0087ff; text-decoration-color: #0087ff\">Sequential</span>)       │ (<span style=\"color: #00d7ff; text-decoration-color: #00d7ff\">None</span>, <span style=\"color: #00af00; text-decoration-color: #00af00\">100</span>, <span style=\"color: #00af00; text-decoration-color: #00af00\">4</span>, <span style=\"color: #00af00; text-decoration-color: #00af00\">4</span>, <span style=\"color: #00af00; text-decoration-color: #00af00\">16</span>)  │           <span style=\"color: #00af00; text-decoration-color: #00af00\">800</span> │\n",
       "├─────────────────────────────────┼────────────────────────┼───────────────┤\n",
       "│ conv2d_net_1 (<span style=\"color: #0087ff; text-decoration-color: #0087ff\">Sequential</span>)       │ (<span style=\"color: #00d7ff; text-decoration-color: #00d7ff\">None</span>, <span style=\"color: #00af00; text-decoration-color: #00af00\">100</span>, <span style=\"color: #00af00; text-decoration-color: #00af00\">2</span>, <span style=\"color: #00af00; text-decoration-color: #00af00\">2</span>, <span style=\"color: #00af00; text-decoration-color: #00af00\">32</span>)  │         <span style=\"color: #00af00; text-decoration-color: #00af00\">4,768</span> │\n",
       "├─────────────────────────────────┼────────────────────────┼───────────────┤\n",
       "│ global_maxpool                  │ (<span style=\"color: #00d7ff; text-decoration-color: #00d7ff\">None</span>, <span style=\"color: #00af00; text-decoration-color: #00af00\">100</span>, <span style=\"color: #00af00; text-decoration-color: #00af00\">32</span>)        │             <span style=\"color: #00af00; text-decoration-color: #00af00\">0</span> │\n",
       "│ (<span style=\"color: #0087ff; text-decoration-color: #0087ff\">TimeDistributed</span>)               │                        │               │\n",
       "├─────────────────────────────────┼────────────────────────┼───────────────┤\n",
       "│ conv1d_net_0 (<span style=\"color: #0087ff; text-decoration-color: #0087ff\">Sequential</span>)       │ (<span style=\"color: #00d7ff; text-decoration-color: #00d7ff\">None</span>, <span style=\"color: #00af00; text-decoration-color: #00af00\">50</span>, <span style=\"color: #00af00; text-decoration-color: #00af00\">64</span>)         │         <span style=\"color: #00af00; text-decoration-color: #00af00\">8,768</span> │\n",
       "├─────────────────────────────────┼────────────────────────┼───────────────┤\n",
       "│ conv1d_net_1 (<span style=\"color: #0087ff; text-decoration-color: #0087ff\">Sequential</span>)       │ (<span style=\"color: #00d7ff; text-decoration-color: #00d7ff\">None</span>, <span style=\"color: #00af00; text-decoration-color: #00af00\">25</span>, <span style=\"color: #00af00; text-decoration-color: #00af00\">128</span>)        │        <span style=\"color: #00af00; text-decoration-color: #00af00\">25,216</span> │\n",
       "├─────────────────────────────────┼────────────────────────┼───────────────┤\n",
       "│ conv1d_net_2 (<span style=\"color: #0087ff; text-decoration-color: #0087ff\">Sequential</span>)       │ (<span style=\"color: #00d7ff; text-decoration-color: #00d7ff\">None</span>, <span style=\"color: #00af00; text-decoration-color: #00af00\">13</span>, <span style=\"color: #00af00; text-decoration-color: #00af00\">256</span>)        │        <span style=\"color: #00af00; text-decoration-color: #00af00\">99,584</span> │\n",
       "├─────────────────────────────────┼────────────────────────┼───────────────┤\n",
       "│ gru_1 (<span style=\"color: #0087ff; text-decoration-color: #0087ff\">GRU</span>)                     │ ?                      │   <span style=\"color: #00af00; text-decoration-color: #00af00\">0</span> (unbuilt) │\n",
       "├─────────────────────────────────┼────────────────────────┼───────────────┤\n",
       "│ GRU (<span style=\"color: #0087ff; text-decoration-color: #0087ff\">Bidirectional</span>)             │ (<span style=\"color: #00d7ff; text-decoration-color: #00d7ff\">None</span>, <span style=\"color: #00af00; text-decoration-color: #00af00\">512</span>)            │       <span style=\"color: #00af00; text-decoration-color: #00af00\">789,504</span> │\n",
       "├─────────────────────────────────┼────────────────────────┼───────────────┤\n",
       "│ flatten_1 (<span style=\"color: #0087ff; text-decoration-color: #0087ff\">Flatten</span>)             │ (<span style=\"color: #00d7ff; text-decoration-color: #00d7ff\">None</span>, <span style=\"color: #00af00; text-decoration-color: #00af00\">512</span>)            │             <span style=\"color: #00af00; text-decoration-color: #00af00\">0</span> │\n",
       "├─────────────────────────────────┼────────────────────────┼───────────────┤\n",
       "│ dense_3 (<span style=\"color: #0087ff; text-decoration-color: #0087ff\">Dense</span>)                 │ (<span style=\"color: #00d7ff; text-decoration-color: #00d7ff\">None</span>, <span style=\"color: #00af00; text-decoration-color: #00af00\">512</span>)            │       <span style=\"color: #00af00; text-decoration-color: #00af00\">269,824</span> │\n",
       "├─────────────────────────────────┼────────────────────────┼───────────────┤\n",
       "│ dense_4 (<span style=\"color: #0087ff; text-decoration-color: #0087ff\">Dense</span>)                 │ (<span style=\"color: #00d7ff; text-decoration-color: #00d7ff\">None</span>, <span style=\"color: #00af00; text-decoration-color: #00af00\">1</span>)              │           <span style=\"color: #00af00; text-decoration-color: #00af00\">513</span> │\n",
       "├─────────────────────────────────┼────────────────────────┼───────────────┤\n",
       "│ dense_5 (<span style=\"color: #0087ff; text-decoration-color: #0087ff\">Dense</span>)                 │ (<span style=\"color: #00d7ff; text-decoration-color: #00d7ff\">None</span>, <span style=\"color: #00af00; text-decoration-color: #00af00\">18</span>)             │         <span style=\"color: #00af00; text-decoration-color: #00af00\">9,234</span> │\n",
       "└─────────────────────────────────┴────────────────────────┴───────────────┘\n",
       "</pre>\n"
      ],
      "text/plain": [
       "┏━━━━━━━━━━━━━━━━━━━━━━━━━━━━━━━━━┳━━━━━━━━━━━━━━━━━━━━━━━━┳━━━━━━━━━━━━━━━┓\n",
       "┃\u001b[1m \u001b[0m\u001b[1mLayer (type)                   \u001b[0m\u001b[1m \u001b[0m┃\u001b[1m \u001b[0m\u001b[1mOutput Shape          \u001b[0m\u001b[1m \u001b[0m┃\u001b[1m \u001b[0m\u001b[1m      Param #\u001b[0m\u001b[1m \u001b[0m┃\n",
       "┡━━━━━━━━━━━━━━━━━━━━━━━━━━━━━━━━━╇━━━━━━━━━━━━━━━━━━━━━━━━╇━━━━━━━━━━━━━━━┩\n",
       "│ conv2d_net_0 (\u001b[38;5;33mSequential\u001b[0m)       │ (\u001b[38;5;45mNone\u001b[0m, \u001b[38;5;34m100\u001b[0m, \u001b[38;5;34m4\u001b[0m, \u001b[38;5;34m4\u001b[0m, \u001b[38;5;34m16\u001b[0m)  │           \u001b[38;5;34m800\u001b[0m │\n",
       "├─────────────────────────────────┼────────────────────────┼───────────────┤\n",
       "│ conv2d_net_1 (\u001b[38;5;33mSequential\u001b[0m)       │ (\u001b[38;5;45mNone\u001b[0m, \u001b[38;5;34m100\u001b[0m, \u001b[38;5;34m2\u001b[0m, \u001b[38;5;34m2\u001b[0m, \u001b[38;5;34m32\u001b[0m)  │         \u001b[38;5;34m4,768\u001b[0m │\n",
       "├─────────────────────────────────┼────────────────────────┼───────────────┤\n",
       "│ global_maxpool                  │ (\u001b[38;5;45mNone\u001b[0m, \u001b[38;5;34m100\u001b[0m, \u001b[38;5;34m32\u001b[0m)        │             \u001b[38;5;34m0\u001b[0m │\n",
       "│ (\u001b[38;5;33mTimeDistributed\u001b[0m)               │                        │               │\n",
       "├─────────────────────────────────┼────────────────────────┼───────────────┤\n",
       "│ conv1d_net_0 (\u001b[38;5;33mSequential\u001b[0m)       │ (\u001b[38;5;45mNone\u001b[0m, \u001b[38;5;34m50\u001b[0m, \u001b[38;5;34m64\u001b[0m)         │         \u001b[38;5;34m8,768\u001b[0m │\n",
       "├─────────────────────────────────┼────────────────────────┼───────────────┤\n",
       "│ conv1d_net_1 (\u001b[38;5;33mSequential\u001b[0m)       │ (\u001b[38;5;45mNone\u001b[0m, \u001b[38;5;34m25\u001b[0m, \u001b[38;5;34m128\u001b[0m)        │        \u001b[38;5;34m25,216\u001b[0m │\n",
       "├─────────────────────────────────┼────────────────────────┼───────────────┤\n",
       "│ conv1d_net_2 (\u001b[38;5;33mSequential\u001b[0m)       │ (\u001b[38;5;45mNone\u001b[0m, \u001b[38;5;34m13\u001b[0m, \u001b[38;5;34m256\u001b[0m)        │        \u001b[38;5;34m99,584\u001b[0m │\n",
       "├─────────────────────────────────┼────────────────────────┼───────────────┤\n",
       "│ gru_1 (\u001b[38;5;33mGRU\u001b[0m)                     │ ?                      │   \u001b[38;5;34m0\u001b[0m (unbuilt) │\n",
       "├─────────────────────────────────┼────────────────────────┼───────────────┤\n",
       "│ GRU (\u001b[38;5;33mBidirectional\u001b[0m)             │ (\u001b[38;5;45mNone\u001b[0m, \u001b[38;5;34m512\u001b[0m)            │       \u001b[38;5;34m789,504\u001b[0m │\n",
       "├─────────────────────────────────┼────────────────────────┼───────────────┤\n",
       "│ flatten_1 (\u001b[38;5;33mFlatten\u001b[0m)             │ (\u001b[38;5;45mNone\u001b[0m, \u001b[38;5;34m512\u001b[0m)            │             \u001b[38;5;34m0\u001b[0m │\n",
       "├─────────────────────────────────┼────────────────────────┼───────────────┤\n",
       "│ dense_3 (\u001b[38;5;33mDense\u001b[0m)                 │ (\u001b[38;5;45mNone\u001b[0m, \u001b[38;5;34m512\u001b[0m)            │       \u001b[38;5;34m269,824\u001b[0m │\n",
       "├─────────────────────────────────┼────────────────────────┼───────────────┤\n",
       "│ dense_4 (\u001b[38;5;33mDense\u001b[0m)                 │ (\u001b[38;5;45mNone\u001b[0m, \u001b[38;5;34m1\u001b[0m)              │           \u001b[38;5;34m513\u001b[0m │\n",
       "├─────────────────────────────────┼────────────────────────┼───────────────┤\n",
       "│ dense_5 (\u001b[38;5;33mDense\u001b[0m)                 │ (\u001b[38;5;45mNone\u001b[0m, \u001b[38;5;34m18\u001b[0m)             │         \u001b[38;5;34m9,234\u001b[0m │\n",
       "└─────────────────────────────────┴────────────────────────┴───────────────┘\n"
      ]
     },
     "metadata": {},
     "output_type": "display_data"
    },
    {
     "data": {
      "text/html": [
       "<pre style=\"white-space:pre;overflow-x:auto;line-height:normal;font-family:Menlo,'DejaVu Sans Mono',consolas,'Courier New',monospace\"><span style=\"font-weight: bold\"> Total params: </span><span style=\"color: #00af00; text-decoration-color: #00af00\">1,208,211</span> (4.61 MB)\n",
       "</pre>\n"
      ],
      "text/plain": [
       "\u001b[1m Total params: \u001b[0m\u001b[38;5;34m1,208,211\u001b[0m (4.61 MB)\n"
      ]
     },
     "metadata": {},
     "output_type": "display_data"
    },
    {
     "data": {
      "text/html": [
       "<pre style=\"white-space:pre;overflow-x:auto;line-height:normal;font-family:Menlo,'DejaVu Sans Mono',consolas,'Courier New',monospace\"><span style=\"font-weight: bold\"> Trainable params: </span><span style=\"color: #00af00; text-decoration-color: #00af00\">1,207,219</span> (4.61 MB)\n",
       "</pre>\n"
      ],
      "text/plain": [
       "\u001b[1m Trainable params: \u001b[0m\u001b[38;5;34m1,207,219\u001b[0m (4.61 MB)\n"
      ]
     },
     "metadata": {},
     "output_type": "display_data"
    },
    {
     "data": {
      "text/html": [
       "<pre style=\"white-space:pre;overflow-x:auto;line-height:normal;font-family:Menlo,'DejaVu Sans Mono',consolas,'Courier New',monospace\"><span style=\"font-weight: bold\"> Non-trainable params: </span><span style=\"color: #00af00; text-decoration-color: #00af00\">992</span> (3.88 KB)\n",
       "</pre>\n"
      ],
      "text/plain": [
       "\u001b[1m Non-trainable params: \u001b[0m\u001b[38;5;34m992\u001b[0m (3.88 KB)\n"
      ]
     },
     "metadata": {},
     "output_type": "display_data"
    }
   ],
   "source": [
    "new_model = RNNModel(kernel_size2d=3, kernel_size1d=3, filters_2d=[16, 32], dropout=0.2,\n",
    "                     filters_1d=[64, 128, 256], rnn_hidden_size=256, mode=\"GRU\", bidirectional=True,\n",
    "                     hidden_size=512, regularizer=\"l1l2\", l1_penalty=1e-4, l2_penalty=1e-4, binary=True)\n",
    "new_model.build(input_shapes=((None, 100, 8, 8, 5), (None, 100, 12), (None, 14)))\n",
    "new_model.load_weights(checkpoint_filepath)\n",
    "new_model.summary()"
   ]
  }
 ],
 "metadata": {
  "kaggle": {
   "accelerator": "none",
   "dataSources": [
    {
     "databundleVersionId": 12518947,
     "sourceId": 102335,
     "sourceType": "competition"
    },
    {
     "datasetId": 7856290,
     "sourceId": 12454411,
     "sourceType": "datasetVersion"
    },
    {
     "datasetId": 7889376,
     "isSourceIdPinned": false,
     "sourceId": 12546593,
     "sourceType": "datasetVersion"
    }
   ],
   "dockerImageVersionId": 31089,
   "isGpuEnabled": false,
   "isInternetEnabled": false,
   "language": "python",
   "sourceType": "notebook"
  },
  "kernelspec": {
   "display_name": "Python 3",
   "language": "python",
   "name": "python3"
  },
  "language_info": {
   "codemirror_mode": {
    "name": "ipython",
    "version": 3
   },
   "file_extension": ".py",
   "mimetype": "text/x-python",
   "name": "python",
   "nbconvert_exporter": "python",
   "pygments_lexer": "ipython3",
   "version": "3.11.13"
  },
  "papermill": {
   "default_parameters": {},
   "duration": 15418.60493,
   "end_time": "2025-07-23T08:24:07.810152",
   "environment_variables": {},
   "exception": null,
   "input_path": "__notebook__.ipynb",
   "output_path": "__notebook__.ipynb",
   "parameters": {},
   "start_time": "2025-07-23T04:07:09.205222",
   "version": "2.6.0"
  }
 },
 "nbformat": 4,
 "nbformat_minor": 5
}
