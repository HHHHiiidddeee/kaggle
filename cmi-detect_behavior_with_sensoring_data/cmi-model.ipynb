{
 "cells": [
  {
   "cell_type": "code",
   "execution_count": 1,
   "id": "14d67470",
   "metadata": {
    "execution": {
     "iopub.execute_input": "2025-08-11T07:41:54.456306Z",
     "iopub.status.busy": "2025-08-11T07:41:54.456083Z",
     "iopub.status.idle": "2025-08-11T07:42:09.733553Z",
     "shell.execute_reply": "2025-08-11T07:42:09.732677Z"
    },
    "papermill": {
     "duration": 15.283411,
     "end_time": "2025-08-11T07:42:09.734827",
     "exception": false,
     "start_time": "2025-08-11T07:41:54.451416",
     "status": "completed"
    },
    "tags": []
   },
   "outputs": [
    {
     "name": "stderr",
     "output_type": "stream",
     "text": [
      "2025-08-11 07:41:55.846389: E external/local_xla/xla/stream_executor/cuda/cuda_fft.cc:477] Unable to register cuFFT factory: Attempting to register factory for plugin cuFFT when one has already been registered\n",
      "WARNING: All log messages before absl::InitializeLog() is called are written to STDERR\n",
      "E0000 00:00:1754898116.019452      19 cuda_dnn.cc:8310] Unable to register cuDNN factory: Attempting to register factory for plugin cuDNN when one has already been registered\n",
      "E0000 00:00:1754898116.070418      19 cuda_blas.cc:1418] Unable to register cuBLAS factory: Attempting to register factory for plugin cuBLAS when one has already been registered\n",
      "I0000 00:00:1754898129.605340      19 gpu_device.cc:2022] Created device /job:localhost/replica:0/task:0/device:GPU:0 with 15513 MB memory:  -> device: 0, name: Tesla P100-PCIE-16GB, pci bus id: 0000:00:04.0, compute capability: 6.0\n"
     ]
    }
   ],
   "source": [
    "import tensorflow as tf\n",
    "from tensorflow.keras import Model\n",
    "import numpy as np\n",
    "import pandas as pd\n",
    "import warnings\n",
    "warnings.filterwarnings(\"ignore\")\n",
    "\n",
    "tf.random.set_seed(42)\n",
    "type_train_ds = tf.data.experimental.load(\"/kaggle/input/cmi-tf-datasets/type_train_ds\")\n",
    "type_valid_ds = tf.data.experimental.load(\"/kaggle/input/cmi-tf-datasets/type_valid_ds\")\n",
    "gesture_train_ds = tf.data.experimental.load(\"/kaggle/input/cmi-tf-datasets/gesture_train_ds\")\n",
    "gesture_valid_ds = tf.data.experimental.load(\"/kaggle/input/cmi-tf-datasets/gesture_valid_ds\")\n",
    "# test_ds = tf.data.experimental.load(\"/kaggle/input/cmi-tf-datasets/test_ds\")"
   ]
  },
  {
   "cell_type": "code",
   "execution_count": 2,
   "id": "77ddc371",
   "metadata": {
    "execution": {
     "iopub.execute_input": "2025-08-11T07:42:09.743219Z",
     "iopub.status.busy": "2025-08-11T07:42:09.742835Z",
     "iopub.status.idle": "2025-08-11T07:42:09.746005Z",
     "shell.execute_reply": "2025-08-11T07:42:09.745454Z"
    },
    "papermill": {
     "duration": 0.008116,
     "end_time": "2025-08-11T07:42:09.747066",
     "exception": false,
     "start_time": "2025-08-11T07:42:09.738950",
     "status": "completed"
    },
    "tags": []
   },
   "outputs": [],
   "source": [
    "# print(\"Num GPUs Available: \", len(tf.config.list_physical_devices('GPU')))"
   ]
  },
  {
   "cell_type": "code",
   "execution_count": 3,
   "id": "69e79380",
   "metadata": {
    "execution": {
     "iopub.execute_input": "2025-08-11T07:42:09.754028Z",
     "iopub.status.busy": "2025-08-11T07:42:09.753819Z",
     "iopub.status.idle": "2025-08-11T07:42:09.758759Z",
     "shell.execute_reply": "2025-08-11T07:42:09.758062Z"
    },
    "papermill": {
     "duration": 0.009637,
     "end_time": "2025-08-11T07:42:09.759831",
     "exception": false,
     "start_time": "2025-08-11T07:42:09.750194",
     "status": "completed"
    },
    "tags": []
   },
   "outputs": [
    {
     "name": "stdout",
     "output_type": "stream",
     "text": [
      "202\n",
      "36\n",
      "202\n",
      "36\n"
     ]
    }
   ],
   "source": [
    "print(len(type_train_ds))\n",
    "print(len(type_valid_ds))\n",
    "print(len(gesture_train_ds))\n",
    "print(len(gesture_valid_ds))\n",
    "\n",
    "# print(len(test_ds))"
   ]
  },
  {
   "cell_type": "code",
   "execution_count": 4,
   "id": "b88223ea",
   "metadata": {
    "execution": {
     "iopub.execute_input": "2025-08-11T07:42:09.767033Z",
     "iopub.status.busy": "2025-08-11T07:42:09.766517Z",
     "iopub.status.idle": "2025-08-11T07:42:10.025089Z",
     "shell.execute_reply": "2025-08-11T07:42:10.024461Z"
    },
    "papermill": {
     "duration": 0.263433,
     "end_time": "2025-08-11T07:42:10.026407",
     "exception": false,
     "start_time": "2025-08-11T07:42:09.762974",
     "status": "completed"
    },
    "tags": []
   },
   "outputs": [
    {
     "name": "stdout",
     "output_type": "stream",
     "text": [
      "(32, 150, 8, 8, 5)\n",
      "(32, 150, 19)\n",
      "(32, 17)\n",
      "(32, 1)\n"
     ]
    }
   ],
   "source": [
    "for i, (inputs, targets) in enumerate(type_train_ds):\n",
    "    if i==0:\n",
    "        print(inputs[0].shape)\n",
    "        print(inputs[1].shape)\n",
    "        print(inputs[2].shape)\n",
    "        print(targets.shape)\n",
    "        break"
   ]
  },
  {
   "cell_type": "code",
   "execution_count": 5,
   "id": "07dbc843",
   "metadata": {
    "execution": {
     "iopub.execute_input": "2025-08-11T07:42:10.034553Z",
     "iopub.status.busy": "2025-08-11T07:42:10.034317Z",
     "iopub.status.idle": "2025-08-11T07:42:10.055178Z",
     "shell.execute_reply": "2025-08-11T07:42:10.054689Z"
    },
    "papermill": {
     "duration": 0.026227,
     "end_time": "2025-08-11T07:42:10.056266",
     "exception": false,
     "start_time": "2025-08-11T07:42:10.030039",
     "status": "completed"
    },
    "tags": []
   },
   "outputs": [],
   "source": [
    "from tensorflow.keras.layers import Conv3D, Conv2D, Conv1D, BatchNormalization, TimeDistributed, InputLayer\n",
    "from tensorflow.keras.layers import MaxPool3D, MaxPool2D, GlobalMaxPool3D, GlobalMaxPool2D, AveragePooling1D, Dropout\n",
    "from tensorflow.keras.layers import SimpleRNN, LSTM, GRU, Bidirectional, Flatten, Dense\n",
    "from tensorflow.keras.layers import ReLU, ELU, Masking\n",
    "from tensorflow.keras.regularizers import L1, L2, L1L2\n",
    "from tensorflow.keras import Sequential\n",
    "\n",
    "\n",
    "\n",
    "class RNNModel(Model):\n",
    "    def __init__(self, kernel_size2d=3, filters_2d=[16, 32], dropout=0.2, \n",
    "                 num_rnn_layers=1, rnn_hidden_size=32, mode=\"RNN\", bidirectional=False, \n",
    "                 hidden_size=64, regularizer=\"l1\", l1_penalty=0.1, l2_penalty=0.1, \n",
    "                 binary=True, **kwargs):\n",
    "        super().__init__(**kwargs)\n",
    "        self.hidden_size = hidden_size\n",
    "        self.bidirectional = bidirectional\n",
    "        \n",
    "        self.conv2d_nets = []\n",
    "        for i in range(len(filters_2d)):\n",
    "            conv2d_net = Sequential([\n",
    "                TimeDistributed(Conv2D(filters_2d[i], kernel_size2d, padding=\"same\", use_bias=False)),\n",
    "                TimeDistributed(BatchNormalization()),\n",
    "                TimeDistributed(ReLU()),\n",
    "                TimeDistributed(MaxPool2D(pool_size=2, strides=2, padding=\"same\")),\n",
    "                TimeDistributed(Dropout(dropout))\n",
    "            ], name=f\"conv2d_net_{i}\")\n",
    "            self.conv2d_nets.append(conv2d_net)\n",
    "        self.global_maxpool = TimeDistributed(GlobalMaxPool2D(), name=\"global_maxpool2d\")\n",
    "\n",
    "        self.masking = Masking(mask_value=0.0)\n",
    "        self.rnns = Sequential([], name=f\"{mode}_{num_rnn_layers}_layers\")\n",
    "        for i in range(num_rnn_layers):\n",
    "            return_sequences = True if i!=num_rnn_layers-1 else False\n",
    "            if mode == \"RNN\":\n",
    "                rnn = SimpleRNN(rnn_hidden_size, kernel_initializer=\"glorot_normal\", recurrent_initializer=\"orthogonal\", \n",
    "                                dropout=dropout, recurrent_dropout=dropout, return_sequences=return_sequences)\n",
    "            elif mode == \"LSTM\":\n",
    "                rnn = LSTM(rnn_hidden_size, kernel_initializer=\"glorot_normal\", recurrent_initializer=\"orthogonal\", \n",
    "                           dropout=dropout, recurrent_dropout=dropout, return_sequences=return_sequences)\n",
    "            else:\n",
    "                rnn = GRU(rnn_hidden_size, kernel_initializer=\"glorot_normal\", recurrent_initializer=\"orthogonal\", \n",
    "                          dropout=dropout, recurrent_dropout=dropout, return_sequences=return_sequences)\n",
    "            if bidirectional:\n",
    "                rnn = Bidirectional(rnn, name=f\"{mode}_{i}\")\n",
    "            self.rnns.add(rnn)\n",
    "        \n",
    "        # self.dense_flat = Sequential([\n",
    "        #     Dense(1, activation=\"relu\"),\n",
    "        #     Flatten()\n",
    "        # ], name=\"dense_and_flatten\")\n",
    "\n",
    "        if regularizer == \"l1\":\n",
    "            self.dense0 = Dense(hidden_size, activation=\"relu\", \n",
    "                                kernel_regularizer=L1(l1_penalty),\n",
    "                                bias_regularizer=L1(l1_penalty))\n",
    "            self.dense1_0 = Dense(1, activation=\"sigmoid\",\n",
    "                                  kernel_regularizer=L1(l1_penalty),\n",
    "                                  bias_regularizer=L1(l1_penalty))\n",
    "            self.dense1_1 = Dense(18, activation=\"softmax\", kernel_initializer=\"glorot_normal\",\n",
    "                                  kernel_regularizer=L1(l1_penalty),\n",
    "                                  bias_regularizer=L1(l1_penalty))\n",
    "        elif regularizer == \"l2\":\n",
    "            self.dense0 = Dense(hidden_size, activation=\"relu\", \n",
    "                                kernel_regularizer=L2(l2_penalty),\n",
    "                                bias_regularizer=L2(l2_penalty))\n",
    "            self.dense1_0 = Dense(1, activation=\"sigmoid\", \n",
    "                                  kernel_regularizer=L2(l2_penalty),\n",
    "                                  bias_regularizer=L2(l2_penalty))\n",
    "            self.dense1_1 = Dense(18, activation=\"softmax\", kernel_initializer=\"glorot_normal\",\n",
    "                                  kernel_regularizer=L2(l2_penalty),\n",
    "                                  bias_regularizer=L2(l2_penalty))\n",
    "        elif regularizer == \"l1l2\":\n",
    "            self.dense0 = Dense(hidden_size, activation=\"relu\", \n",
    "                                kernel_regularizer=L1L2(l1_penalty, l2_penalty),\n",
    "                                bias_regularizer=L1L2(l1_penalty, l2_penalty))\n",
    "            self.dense1_0 = Dense(1, activation=\"sigmoid\", \n",
    "                                  kernel_regularizer=L1L2(l1_penalty, l2_penalty),\n",
    "                                  bias_regularizer=L1L2(l1_penalty, l2_penalty))\n",
    "            self.dense1_1 = Dense(18, activation=\"softmax\", kernel_initializer=\"glorot_normal\",\n",
    "                                  kernel_regularizer=L1L2(l1_penalty, l2_penalty),\n",
    "                                  bias_regularizer=L1L2(l1_penalty, l2_penalty))\n",
    "        else:\n",
    "            self.dense0 = Dense(hidden_size, activation=\"relu\")\n",
    "            self.dense1_0 = Dense(1, activation=\"sigmoid\")\n",
    "            self.dense1_1 = Dense(18, activation=\"softmax\")\n",
    "\n",
    "        self.binary = binary\n",
    "\n",
    "    def build(self, input_shapes, training=False):\n",
    "        image_shape = input_shapes[0]\n",
    "        for i in range(len(self.conv2d_nets)):\n",
    "            self.conv2d_nets[i].build(image_shape)\n",
    "            image_shape = self.conv2d_nets[i].compute_output_shape(image_shape)\n",
    "        self.global_maxpool.build(image_shape)\n",
    "        image_shape = self.global_maxpool.compute_output_shape(image_shape)\n",
    "\n",
    "        time_series_shape = input_shapes[1]\n",
    "        self.masking.build(time_series_shape)\n",
    "        time_series_shape = self.masking.compute_output_shape(time_series_shape)\n",
    "        time_series_shape = (image_shape[0], image_shape[1], image_shape[2] + time_series_shape[2])\n",
    "\n",
    "        self.rnns.build(time_series_shape)\n",
    "        time_series_shape = self.rnns.compute_output_shape(time_series_shape)\n",
    "        \n",
    "        shape = (image_shape[0],time_series_shape[1] + input_shapes[2][1])\n",
    "\n",
    "        self.dense0.build(shape)\n",
    "        shape = self.dense0.compute_output_shape(shape)\n",
    "\n",
    "        self.dense1_0.build(shape)\n",
    "        self.dense1_1.build(shape)\n",
    "        \n",
    "\n",
    "    def call(self, inputs, training=False):\n",
    "        image_out = inputs[0]\n",
    "        for i in range(len(self.conv2d_nets)):\n",
    "            image_out = self.conv2d_nets[i](image_out, training=training)\n",
    "        image_out = self.global_maxpool(image_out)   # (batch, filters)\n",
    "\n",
    "        time_series_out = inputs[1]\n",
    "        # out = tf.RaggedTensor.from_tensor(out, lengths=inputs[3])\n",
    "\n",
    "        time_series_out = self.masking(time_series_out)\n",
    "        mask = self.masking.compute_mask(time_series_out)\n",
    "        time_series_out = tf.concat([image_out, time_series_out], axis=-1)\n",
    "\n",
    "        time_series_out = self.rnns(time_series_out, mask=mask, training=training)\n",
    "        out = tf.concat([time_series_out, inputs[2]], axis=-1)\n",
    "        out = self.dense0(out)\n",
    "        if self.binary:\n",
    "            out = self.dense1_0(out)\n",
    "        else:\n",
    "            out = self.dense1_1(out)\n",
    "        return out\n",
    "\n",
    "    def set_binary(self):\n",
    "        self.binary = True\n",
    "        if self.dense1_0.build == False:\n",
    "            self.dense1_0.build(input_shape=(None, self.hidden_size))\n",
    "\n",
    "    def set_multi(self):\n",
    "        self.binary = False\n",
    "        if self.dense1_1.build == False:\n",
    "            self.dense1_1.build(input_shape=(None, self.hidden_size))\n",
    "\n",
    "    def freeze_conv_timeseries(self):\n",
    "        for i in range(len(self.conv2d_nets)):\n",
    "            self.conv3d_nets[i].trainable = False\n",
    "        for i in range(len(self.conv1d_nets)):\n",
    "            self.conv1d_nets[i].trainable = False\n",
    "        self.rnn.trainable = False"
   ]
  },
  {
   "cell_type": "code",
   "execution_count": 6,
   "id": "a52a0c28",
   "metadata": {
    "execution": {
     "iopub.execute_input": "2025-08-11T07:42:10.063089Z",
     "iopub.status.busy": "2025-08-11T07:42:10.062905Z",
     "iopub.status.idle": "2025-08-11T07:42:10.136217Z",
     "shell.execute_reply": "2025-08-11T07:42:10.135422Z"
    },
    "papermill": {
     "duration": 0.078144,
     "end_time": "2025-08-11T07:42:10.137539",
     "exception": false,
     "start_time": "2025-08-11T07:42:10.059395",
     "status": "completed"
    },
    "tags": []
   },
   "outputs": [
    {
     "name": "stdout",
     "output_type": "stream",
     "text": [
      "(32, 150, 8, 8, 5)\n",
      "(32, 150, 19)\n",
      "(32, 17)\n"
     ]
    }
   ],
   "source": [
    "for i, (inputs, targets) in enumerate(type_train_ds):\n",
    "    if i == 0:\n",
    "        print(inputs[0].shape)\n",
    "        print(inputs[1].shape)\n",
    "        print(inputs[2].shape)\n",
    "        break"
   ]
  },
  {
   "cell_type": "code",
   "execution_count": 7,
   "id": "f0ab7981",
   "metadata": {
    "execution": {
     "iopub.execute_input": "2025-08-11T07:42:10.145302Z",
     "iopub.status.busy": "2025-08-11T07:42:10.144909Z",
     "iopub.status.idle": "2025-08-11T07:42:10.154697Z",
     "shell.execute_reply": "2025-08-11T07:42:10.154158Z"
    },
    "papermill": {
     "duration": 0.014691,
     "end_time": "2025-08-11T07:42:10.155697",
     "exception": false,
     "start_time": "2025-08-11T07:42:10.141006",
     "status": "completed"
    },
    "tags": []
   },
   "outputs": [],
   "source": [
    "import json\n",
    "\n",
    "with open('/kaggle/input/cmi-tf-datasets/sample_weight.json') as f:\n",
    "    sample_weight_dict = json.load(f)\n",
    "\n",
    "type_sample_weight = sample_weight_dict[\"type_sample_weight\"]\n",
    "type_class_weight = {0: type_sample_weight[0], 1: type_sample_weight[1]}\n",
    "\n",
    "gesture_sample_weight = sample_weight_dict[\"gesture_sample_weight\"]\n",
    "gesture_class_weight = {i: gesture_sample_weight[i] for i in range(len(gesture_sample_weight))}"
   ]
  },
  {
   "cell_type": "code",
   "execution_count": 8,
   "id": "68bb002a",
   "metadata": {
    "execution": {
     "iopub.execute_input": "2025-08-11T07:42:10.162760Z",
     "iopub.status.busy": "2025-08-11T07:42:10.162542Z",
     "iopub.status.idle": "2025-08-11T07:42:10.166388Z",
     "shell.execute_reply": "2025-08-11T07:42:10.165891Z"
    },
    "papermill": {
     "duration": 0.008593,
     "end_time": "2025-08-11T07:42:10.167470",
     "exception": false,
     "start_time": "2025-08-11T07:42:10.158877",
     "status": "completed"
    },
    "tags": []
   },
   "outputs": [],
   "source": [
    "def add_type_sample_weight(x, y):\n",
    "    y_int = tf.cast(y, tf.int32)\n",
    "    weight = tf.gather([type_class_weight[0], type_class_weight[1]], y_int)\n",
    "    return x, y, weight\n",
    "\n",
    "def add_gesture_sample_weight(x, y):\n",
    "    y_arg = tf.argmax(y)\n",
    "    weight = tf.gather(gesture_sample_weight, y_arg)\n",
    "    return x, y, weight"
   ]
  },
  {
   "cell_type": "code",
   "execution_count": 9,
   "id": "156a10f2",
   "metadata": {
    "execution": {
     "iopub.execute_input": "2025-08-11T07:42:10.175420Z",
     "iopub.status.busy": "2025-08-11T07:42:10.175235Z",
     "iopub.status.idle": "2025-08-11T07:42:10.261514Z",
     "shell.execute_reply": "2025-08-11T07:42:10.260987Z"
    },
    "papermill": {
     "duration": 0.091124,
     "end_time": "2025-08-11T07:42:10.262716",
     "exception": false,
     "start_time": "2025-08-11T07:42:10.171592",
     "status": "completed"
    },
    "tags": []
   },
   "outputs": [],
   "source": [
    "type_train_ds = type_train_ds.unbatch().map(add_type_sample_weight).batch(32, drop_remainder=True)\n",
    "type_valid_ds = type_valid_ds.unbatch().map(add_type_sample_weight).batch(32, drop_remainder=True)"
   ]
  },
  {
   "cell_type": "code",
   "execution_count": 10,
   "id": "241acf8f",
   "metadata": {
    "execution": {
     "iopub.execute_input": "2025-08-11T07:42:10.269760Z",
     "iopub.status.busy": "2025-08-11T07:42:10.269551Z",
     "iopub.status.idle": "2025-08-11T07:42:10.297713Z",
     "shell.execute_reply": "2025-08-11T07:42:10.296906Z"
    },
    "papermill": {
     "duration": 0.033315,
     "end_time": "2025-08-11T07:42:10.299194",
     "exception": false,
     "start_time": "2025-08-11T07:42:10.265879",
     "status": "completed"
    },
    "tags": []
   },
   "outputs": [],
   "source": [
    "# gesture_train_ds = gesture_train_ds.unbatch().map(add_gesture_sample_weight).batch(16)\n",
    "# gesture_valid_ds = gesture_valid_ds.unbatch().map(add_gesture_sample_weight).batch(16)\n",
    "gesture_train_ds = gesture_train_ds.unbatch().batch(64)\n",
    "gesture_valid_ds = gesture_valid_ds.unbatch().batch(64)"
   ]
  },
  {
   "cell_type": "code",
   "execution_count": 11,
   "id": "fc74a523",
   "metadata": {
    "execution": {
     "iopub.execute_input": "2025-08-11T07:42:10.306732Z",
     "iopub.status.busy": "2025-08-11T07:42:10.306023Z",
     "iopub.status.idle": "2025-08-11T07:42:10.310163Z",
     "shell.execute_reply": "2025-08-11T07:42:10.309666Z"
    },
    "papermill": {
     "duration": 0.008854,
     "end_time": "2025-08-11T07:42:10.311214",
     "exception": false,
     "start_time": "2025-08-11T07:42:10.302360",
     "status": "completed"
    },
    "tags": []
   },
   "outputs": [],
   "source": [
    "def scheduler(epoch):\n",
    "    lr = 0.001\n",
    "    if epoch < 20:\n",
    "        return lr\n",
    "    elif 20 <= epoch and epoch < 40:\n",
    "        return lr * (1/2)\n",
    "    elif 40 <= epoch and epoch < 60:\n",
    "        return lr * (1/4)\n",
    "    elif 60 <= epoch and epoch < 80:\n",
    "        return lr * (1/8)\n",
    "    else:\n",
    "        return lr * (1/16)"
   ]
  },
  {
   "cell_type": "code",
   "execution_count": 12,
   "id": "bec9054e",
   "metadata": {
    "execution": {
     "iopub.execute_input": "2025-08-11T07:42:10.318632Z",
     "iopub.status.busy": "2025-08-11T07:42:10.317985Z",
     "iopub.status.idle": "2025-08-11T07:42:11.653397Z",
     "shell.execute_reply": "2025-08-11T07:42:11.652696Z"
    },
    "papermill": {
     "duration": 1.340236,
     "end_time": "2025-08-11T07:42:11.654590",
     "exception": false,
     "start_time": "2025-08-11T07:42:10.314354",
     "status": "completed"
    },
    "tags": []
   },
   "outputs": [
    {
     "data": {
      "text/html": [
       "<pre style=\"white-space:pre;overflow-x:auto;line-height:normal;font-family:Menlo,'DejaVu Sans Mono',consolas,'Courier New',monospace\"><span style=\"font-weight: bold\">Model: \"rnn_model\"</span>\n",
       "</pre>\n"
      ],
      "text/plain": [
       "\u001b[1mModel: \"rnn_model\"\u001b[0m\n"
      ]
     },
     "metadata": {},
     "output_type": "display_data"
    },
    {
     "data": {
      "text/html": [
       "<pre style=\"white-space:pre;overflow-x:auto;line-height:normal;font-family:Menlo,'DejaVu Sans Mono',consolas,'Courier New',monospace\">┏━━━━━━━━━━━━━━━━━━━━━━━━━━━━━━━━━┳━━━━━━━━━━━━━━━━━━━━━━━━┳━━━━━━━━━━━━━━━┓\n",
       "┃<span style=\"font-weight: bold\"> Layer (type)                    </span>┃<span style=\"font-weight: bold\"> Output Shape           </span>┃<span style=\"font-weight: bold\">       Param # </span>┃\n",
       "┡━━━━━━━━━━━━━━━━━━━━━━━━━━━━━━━━━╇━━━━━━━━━━━━━━━━━━━━━━━━╇━━━━━━━━━━━━━━━┩\n",
       "│ conv2d_net_0 (<span style=\"color: #0087ff; text-decoration-color: #0087ff\">Sequential</span>)       │ (<span style=\"color: #00d7ff; text-decoration-color: #00d7ff\">None</span>, <span style=\"color: #00af00; text-decoration-color: #00af00\">150</span>, <span style=\"color: #00af00; text-decoration-color: #00af00\">4</span>, <span style=\"color: #00af00; text-decoration-color: #00af00\">4</span>, <span style=\"color: #00af00; text-decoration-color: #00af00\">8</span>)   │           <span style=\"color: #00af00; text-decoration-color: #00af00\">392</span> │\n",
       "├─────────────────────────────────┼────────────────────────┼───────────────┤\n",
       "│ conv2d_net_1 (<span style=\"color: #0087ff; text-decoration-color: #0087ff\">Sequential</span>)       │ (<span style=\"color: #00d7ff; text-decoration-color: #00d7ff\">None</span>, <span style=\"color: #00af00; text-decoration-color: #00af00\">150</span>, <span style=\"color: #00af00; text-decoration-color: #00af00\">2</span>, <span style=\"color: #00af00; text-decoration-color: #00af00\">2</span>, <span style=\"color: #00af00; text-decoration-color: #00af00\">16</span>)  │         <span style=\"color: #00af00; text-decoration-color: #00af00\">1,216</span> │\n",
       "├─────────────────────────────────┼────────────────────────┼───────────────┤\n",
       "│ global_maxpool2d                │ (<span style=\"color: #00d7ff; text-decoration-color: #00d7ff\">None</span>, <span style=\"color: #00af00; text-decoration-color: #00af00\">150</span>, <span style=\"color: #00af00; text-decoration-color: #00af00\">16</span>)        │             <span style=\"color: #00af00; text-decoration-color: #00af00\">0</span> │\n",
       "│ (<span style=\"color: #0087ff; text-decoration-color: #0087ff\">TimeDistributed</span>)               │                        │               │\n",
       "├─────────────────────────────────┼────────────────────────┼───────────────┤\n",
       "│ masking (<span style=\"color: #0087ff; text-decoration-color: #0087ff\">Masking</span>)               │ (<span style=\"color: #00d7ff; text-decoration-color: #00d7ff\">None</span>, <span style=\"color: #00d7ff; text-decoration-color: #00d7ff\">None</span>, <span style=\"color: #00af00; text-decoration-color: #00af00\">19</span>)       │             <span style=\"color: #00af00; text-decoration-color: #00af00\">0</span> │\n",
       "├─────────────────────────────────┼────────────────────────┼───────────────┤\n",
       "│ LSTM_1_layers (<span style=\"color: #0087ff; text-decoration-color: #0087ff\">Sequential</span>)      │ (<span style=\"color: #00d7ff; text-decoration-color: #00d7ff\">None</span>, <span style=\"color: #00af00; text-decoration-color: #00af00\">64</span>)             │        <span style=\"color: #00af00; text-decoration-color: #00af00\">25,600</span> │\n",
       "├─────────────────────────────────┼────────────────────────┼───────────────┤\n",
       "│ dense (<span style=\"color: #0087ff; text-decoration-color: #0087ff\">Dense</span>)                   │ (<span style=\"color: #00d7ff; text-decoration-color: #00d7ff\">None</span>, <span style=\"color: #00af00; text-decoration-color: #00af00\">128</span>)            │        <span style=\"color: #00af00; text-decoration-color: #00af00\">10,496</span> │\n",
       "├─────────────────────────────────┼────────────────────────┼───────────────┤\n",
       "│ dense_1 (<span style=\"color: #0087ff; text-decoration-color: #0087ff\">Dense</span>)                 │ (<span style=\"color: #00d7ff; text-decoration-color: #00d7ff\">None</span>, <span style=\"color: #00af00; text-decoration-color: #00af00\">1</span>)              │           <span style=\"color: #00af00; text-decoration-color: #00af00\">129</span> │\n",
       "├─────────────────────────────────┼────────────────────────┼───────────────┤\n",
       "│ dense_2 (<span style=\"color: #0087ff; text-decoration-color: #0087ff\">Dense</span>)                 │ (<span style=\"color: #00d7ff; text-decoration-color: #00d7ff\">None</span>, <span style=\"color: #00af00; text-decoration-color: #00af00\">18</span>)             │         <span style=\"color: #00af00; text-decoration-color: #00af00\">2,322</span> │\n",
       "└─────────────────────────────────┴────────────────────────┴───────────────┘\n",
       "</pre>\n"
      ],
      "text/plain": [
       "┏━━━━━━━━━━━━━━━━━━━━━━━━━━━━━━━━━┳━━━━━━━━━━━━━━━━━━━━━━━━┳━━━━━━━━━━━━━━━┓\n",
       "┃\u001b[1m \u001b[0m\u001b[1mLayer (type)                   \u001b[0m\u001b[1m \u001b[0m┃\u001b[1m \u001b[0m\u001b[1mOutput Shape          \u001b[0m\u001b[1m \u001b[0m┃\u001b[1m \u001b[0m\u001b[1m      Param #\u001b[0m\u001b[1m \u001b[0m┃\n",
       "┡━━━━━━━━━━━━━━━━━━━━━━━━━━━━━━━━━╇━━━━━━━━━━━━━━━━━━━━━━━━╇━━━━━━━━━━━━━━━┩\n",
       "│ conv2d_net_0 (\u001b[38;5;33mSequential\u001b[0m)       │ (\u001b[38;5;45mNone\u001b[0m, \u001b[38;5;34m150\u001b[0m, \u001b[38;5;34m4\u001b[0m, \u001b[38;5;34m4\u001b[0m, \u001b[38;5;34m8\u001b[0m)   │           \u001b[38;5;34m392\u001b[0m │\n",
       "├─────────────────────────────────┼────────────────────────┼───────────────┤\n",
       "│ conv2d_net_1 (\u001b[38;5;33mSequential\u001b[0m)       │ (\u001b[38;5;45mNone\u001b[0m, \u001b[38;5;34m150\u001b[0m, \u001b[38;5;34m2\u001b[0m, \u001b[38;5;34m2\u001b[0m, \u001b[38;5;34m16\u001b[0m)  │         \u001b[38;5;34m1,216\u001b[0m │\n",
       "├─────────────────────────────────┼────────────────────────┼───────────────┤\n",
       "│ global_maxpool2d                │ (\u001b[38;5;45mNone\u001b[0m, \u001b[38;5;34m150\u001b[0m, \u001b[38;5;34m16\u001b[0m)        │             \u001b[38;5;34m0\u001b[0m │\n",
       "│ (\u001b[38;5;33mTimeDistributed\u001b[0m)               │                        │               │\n",
       "├─────────────────────────────────┼────────────────────────┼───────────────┤\n",
       "│ masking (\u001b[38;5;33mMasking\u001b[0m)               │ (\u001b[38;5;45mNone\u001b[0m, \u001b[38;5;45mNone\u001b[0m, \u001b[38;5;34m19\u001b[0m)       │             \u001b[38;5;34m0\u001b[0m │\n",
       "├─────────────────────────────────┼────────────────────────┼───────────────┤\n",
       "│ LSTM_1_layers (\u001b[38;5;33mSequential\u001b[0m)      │ (\u001b[38;5;45mNone\u001b[0m, \u001b[38;5;34m64\u001b[0m)             │        \u001b[38;5;34m25,600\u001b[0m │\n",
       "├─────────────────────────────────┼────────────────────────┼───────────────┤\n",
       "│ dense (\u001b[38;5;33mDense\u001b[0m)                   │ (\u001b[38;5;45mNone\u001b[0m, \u001b[38;5;34m128\u001b[0m)            │        \u001b[38;5;34m10,496\u001b[0m │\n",
       "├─────────────────────────────────┼────────────────────────┼───────────────┤\n",
       "│ dense_1 (\u001b[38;5;33mDense\u001b[0m)                 │ (\u001b[38;5;45mNone\u001b[0m, \u001b[38;5;34m1\u001b[0m)              │           \u001b[38;5;34m129\u001b[0m │\n",
       "├─────────────────────────────────┼────────────────────────┼───────────────┤\n",
       "│ dense_2 (\u001b[38;5;33mDense\u001b[0m)                 │ (\u001b[38;5;45mNone\u001b[0m, \u001b[38;5;34m18\u001b[0m)             │         \u001b[38;5;34m2,322\u001b[0m │\n",
       "└─────────────────────────────────┴────────────────────────┴───────────────┘\n"
      ]
     },
     "metadata": {},
     "output_type": "display_data"
    },
    {
     "data": {
      "text/html": [
       "<pre style=\"white-space:pre;overflow-x:auto;line-height:normal;font-family:Menlo,'DejaVu Sans Mono',consolas,'Courier New',monospace\"><span style=\"font-weight: bold\"> Total params: </span><span style=\"color: #00af00; text-decoration-color: #00af00\">40,155</span> (156.86 KB)\n",
       "</pre>\n"
      ],
      "text/plain": [
       "\u001b[1m Total params: \u001b[0m\u001b[38;5;34m40,155\u001b[0m (156.86 KB)\n"
      ]
     },
     "metadata": {},
     "output_type": "display_data"
    },
    {
     "data": {
      "text/html": [
       "<pre style=\"white-space:pre;overflow-x:auto;line-height:normal;font-family:Menlo,'DejaVu Sans Mono',consolas,'Courier New',monospace\"><span style=\"font-weight: bold\"> Trainable params: </span><span style=\"color: #00af00; text-decoration-color: #00af00\">40,107</span> (156.67 KB)\n",
       "</pre>\n"
      ],
      "text/plain": [
       "\u001b[1m Trainable params: \u001b[0m\u001b[38;5;34m40,107\u001b[0m (156.67 KB)\n"
      ]
     },
     "metadata": {},
     "output_type": "display_data"
    },
    {
     "data": {
      "text/html": [
       "<pre style=\"white-space:pre;overflow-x:auto;line-height:normal;font-family:Menlo,'DejaVu Sans Mono',consolas,'Courier New',monospace\"><span style=\"font-weight: bold\"> Non-trainable params: </span><span style=\"color: #00af00; text-decoration-color: #00af00\">48</span> (192.00 B)\n",
       "</pre>\n"
      ],
      "text/plain": [
       "\u001b[1m Non-trainable params: \u001b[0m\u001b[38;5;34m48\u001b[0m (192.00 B)\n"
      ]
     },
     "metadata": {},
     "output_type": "display_data"
    }
   ],
   "source": [
    "from tensorflow.keras.losses import BinaryCrossentropy, CategoricalCrossentropy, CategoricalFocalCrossentropy\n",
    "from tensorflow.keras.optimizers import Adam\n",
    "from tensorflow.keras.metrics import BinaryAccuracy, F1Score, AUC\n",
    "\n",
    "model = RNNModel(kernel_size2d=3, filters_2d=[8, 16], dropout=0.2,\n",
    "                 num_rnn_layers=1, rnn_hidden_size=64, mode=\"LSTM\", \n",
    "                 bidirectional=False, hidden_size=128, regularizer=\"l1l2\", \n",
    "                 l1_penalty=1e-6, l2_penalty=1e-5, binary=False)\n",
    "model.build(input_shapes=((None, 150, 8, 8, 5), (None, None, 19), (None, 17)))\n",
    "# model.set_multi()\n",
    "model.compile(loss=CategoricalFocalCrossentropy(alpha=gesture_sample_weight, \n",
    "                                                gamma=0,\n",
    "                                                label_smoothing=0.2),\n",
    "              optimizer=Adam(learning_rate=0.001),\n",
    "              metrics=[\"accuracy\"])\n",
    "model.summary()\n",
    "# model.freeze_conv_timeseries()"
   ]
  },
  {
   "cell_type": "code",
   "execution_count": 13,
   "id": "9557299b",
   "metadata": {
    "execution": {
     "iopub.execute_input": "2025-08-11T07:42:11.663508Z",
     "iopub.status.busy": "2025-08-11T07:42:11.663270Z",
     "iopub.status.idle": "2025-08-11T09:50:47.260922Z",
     "shell.execute_reply": "2025-08-11T09:50:47.260325Z"
    },
    "papermill": {
     "duration": 7715.603377,
     "end_time": "2025-08-11T09:50:47.262279",
     "exception": false,
     "start_time": "2025-08-11T07:42:11.658902",
     "status": "completed"
    },
    "tags": []
   },
   "outputs": [
    {
     "name": "stdout",
     "output_type": "stream",
     "text": [
      "Epoch 1/100\n"
     ]
    },
    {
     "name": "stderr",
     "output_type": "stream",
     "text": [
      "I0000 00:00:1754898312.084593      60 cuda_dnn.cc:529] Loaded cuDNN version 90300\n"
     ]
    },
    {
     "name": "stdout",
     "output_type": "stream",
     "text": [
      "    101/Unknown \u001b[1m257s\u001b[0m 726ms/step - accuracy: 0.1134 - loss: 8.2156\n",
      "Epoch 1: val_accuracy improved from -inf to 0.17018, saving model to /kaggle/working/cmi_best_model.weights.h5\n",
      "\u001b[1m101/101\u001b[0m \u001b[32m━━━━━━━━━━━━━━━━━━━━\u001b[0m\u001b[37m\u001b[0m \u001b[1m279s\u001b[0m 951ms/step - accuracy: 0.1138 - loss: 8.2099 - val_accuracy: 0.1702 - val_loss: 7.7665\n",
      "Epoch 2/100\n",
      "\u001b[1m101/101\u001b[0m \u001b[32m━━━━━━━━━━━━━━━━━━━━\u001b[0m\u001b[37m\u001b[0m \u001b[1m0s\u001b[0m 718ms/step - accuracy: 0.2665 - loss: 6.9283\n",
      "Epoch 2: val_accuracy improved from 0.17018 to 0.20965, saving model to /kaggle/working/cmi_best_model.weights.h5\n",
      "\u001b[1m101/101\u001b[0m \u001b[32m━━━━━━━━━━━━━━━━━━━━\u001b[0m\u001b[37m\u001b[0m \u001b[1m75s\u001b[0m 740ms/step - accuracy: 0.2667 - loss: 6.9270 - val_accuracy: 0.2096 - val_loss: 7.6569\n",
      "Epoch 3/100\n",
      "\u001b[1m101/101\u001b[0m \u001b[32m━━━━━━━━━━━━━━━━━━━━\u001b[0m\u001b[37m\u001b[0m \u001b[1m0s\u001b[0m 722ms/step - accuracy: 0.3204 - loss: 6.6066\n",
      "Epoch 3: val_accuracy improved from 0.20965 to 0.23070, saving model to /kaggle/working/cmi_best_model.weights.h5\n",
      "\u001b[1m101/101\u001b[0m \u001b[32m━━━━━━━━━━━━━━━━━━━━\u001b[0m\u001b[37m\u001b[0m \u001b[1m75s\u001b[0m 744ms/step - accuracy: 0.3204 - loss: 6.6058 - val_accuracy: 0.2307 - val_loss: 7.5739\n",
      "Epoch 4/100\n",
      "\u001b[1m101/101\u001b[0m \u001b[32m━━━━━━━━━━━━━━━━━━━━\u001b[0m\u001b[37m\u001b[0m \u001b[1m0s\u001b[0m 721ms/step - accuracy: 0.3659 - loss: 6.3796\n",
      "Epoch 4: val_accuracy improved from 0.23070 to 0.23684, saving model to /kaggle/working/cmi_best_model.weights.h5\n",
      "\u001b[1m101/101\u001b[0m \u001b[32m━━━━━━━━━━━━━━━━━━━━\u001b[0m\u001b[37m\u001b[0m \u001b[1m75s\u001b[0m 744ms/step - accuracy: 0.3659 - loss: 6.3790 - val_accuracy: 0.2368 - val_loss: 7.6838\n",
      "Epoch 5/100\n",
      "\u001b[1m101/101\u001b[0m \u001b[32m━━━━━━━━━━━━━━━━━━━━\u001b[0m\u001b[37m\u001b[0m \u001b[1m0s\u001b[0m 725ms/step - accuracy: 0.3885 - loss: 6.2331\n",
      "Epoch 5: val_accuracy did not improve from 0.23684\n",
      "\u001b[1m101/101\u001b[0m \u001b[32m━━━━━━━━━━━━━━━━━━━━\u001b[0m\u001b[37m\u001b[0m \u001b[1m75s\u001b[0m 746ms/step - accuracy: 0.3885 - loss: 6.2326 - val_accuracy: 0.2360 - val_loss: 7.7911\n",
      "Epoch 6/100\n",
      "\u001b[1m101/101\u001b[0m \u001b[32m━━━━━━━━━━━━━━━━━━━━\u001b[0m\u001b[37m\u001b[0m \u001b[1m0s\u001b[0m 718ms/step - accuracy: 0.4009 - loss: 6.1268\n",
      "Epoch 6: val_accuracy improved from 0.23684 to 0.27193, saving model to /kaggle/working/cmi_best_model.weights.h5\n",
      "\u001b[1m101/101\u001b[0m \u001b[32m━━━━━━━━━━━━━━━━━━━━\u001b[0m\u001b[37m\u001b[0m \u001b[1m75s\u001b[0m 740ms/step - accuracy: 0.4009 - loss: 6.1264 - val_accuracy: 0.2719 - val_loss: 7.6765\n",
      "Epoch 7/100\n",
      "\u001b[1m101/101\u001b[0m \u001b[32m━━━━━━━━━━━━━━━━━━━━\u001b[0m\u001b[37m\u001b[0m \u001b[1m0s\u001b[0m 721ms/step - accuracy: 0.4198 - loss: 6.0053\n",
      "Epoch 7: val_accuracy improved from 0.27193 to 0.27807, saving model to /kaggle/working/cmi_best_model.weights.h5\n",
      "\u001b[1m101/101\u001b[0m \u001b[32m━━━━━━━━━━━━━━━━━━━━\u001b[0m\u001b[37m\u001b[0m \u001b[1m75s\u001b[0m 744ms/step - accuracy: 0.4198 - loss: 6.0049 - val_accuracy: 0.2781 - val_loss: 7.7199\n",
      "Epoch 8/100\n",
      "\u001b[1m101/101\u001b[0m \u001b[32m━━━━━━━━━━━━━━━━━━━━\u001b[0m\u001b[37m\u001b[0m \u001b[1m0s\u001b[0m 719ms/step - accuracy: 0.4467 - loss: 5.9153\n",
      "Epoch 8: val_accuracy improved from 0.27807 to 0.27982, saving model to /kaggle/working/cmi_best_model.weights.h5\n",
      "\u001b[1m101/101\u001b[0m \u001b[32m━━━━━━━━━━━━━━━━━━━━\u001b[0m\u001b[37m\u001b[0m \u001b[1m75s\u001b[0m 742ms/step - accuracy: 0.4467 - loss: 5.9150 - val_accuracy: 0.2798 - val_loss: 7.6843\n",
      "Epoch 9/100\n",
      "\u001b[1m101/101\u001b[0m \u001b[32m━━━━━━━━━━━━━━━━━━━━\u001b[0m\u001b[37m\u001b[0m \u001b[1m0s\u001b[0m 720ms/step - accuracy: 0.4554 - loss: 5.8535\n",
      "Epoch 9: val_accuracy improved from 0.27982 to 0.30614, saving model to /kaggle/working/cmi_best_model.weights.h5\n",
      "\u001b[1m101/101\u001b[0m \u001b[32m━━━━━━━━━━━━━━━━━━━━\u001b[0m\u001b[37m\u001b[0m \u001b[1m75s\u001b[0m 744ms/step - accuracy: 0.4554 - loss: 5.8531 - val_accuracy: 0.3061 - val_loss: 7.6071\n",
      "Epoch 10/100\n",
      "\u001b[1m101/101\u001b[0m \u001b[32m━━━━━━━━━━━━━━━━━━━━\u001b[0m\u001b[37m\u001b[0m \u001b[1m0s\u001b[0m 717ms/step - accuracy: 0.4644 - loss: 5.7439\n",
      "Epoch 10: val_accuracy did not improve from 0.30614\n",
      "\u001b[1m101/101\u001b[0m \u001b[32m━━━━━━━━━━━━━━━━━━━━\u001b[0m\u001b[37m\u001b[0m \u001b[1m75s\u001b[0m 738ms/step - accuracy: 0.4644 - loss: 5.7436 - val_accuracy: 0.2965 - val_loss: 7.7683\n",
      "Epoch 11/100\n",
      "\u001b[1m101/101\u001b[0m \u001b[32m━━━━━━━━━━━━━━━━━━━━\u001b[0m\u001b[37m\u001b[0m \u001b[1m0s\u001b[0m 721ms/step - accuracy: 0.4771 - loss: 5.7229\n",
      "Epoch 11: val_accuracy improved from 0.30614 to 0.30702, saving model to /kaggle/working/cmi_best_model.weights.h5\n",
      "\u001b[1m101/101\u001b[0m \u001b[32m━━━━━━━━━━━━━━━━━━━━\u001b[0m\u001b[37m\u001b[0m \u001b[1m75s\u001b[0m 743ms/step - accuracy: 0.4771 - loss: 5.7225 - val_accuracy: 0.3070 - val_loss: 7.8093\n",
      "Epoch 12/100\n",
      "\u001b[1m101/101\u001b[0m \u001b[32m━━━━━━━━━━━━━━━━━━━━\u001b[0m\u001b[37m\u001b[0m \u001b[1m0s\u001b[0m 716ms/step - accuracy: 0.4886 - loss: 5.6162\n",
      "Epoch 12: val_accuracy did not improve from 0.30702\n",
      "\u001b[1m101/101\u001b[0m \u001b[32m━━━━━━━━━━━━━━━━━━━━\u001b[0m\u001b[37m\u001b[0m \u001b[1m75s\u001b[0m 739ms/step - accuracy: 0.4886 - loss: 5.6158 - val_accuracy: 0.3044 - val_loss: 7.7574\n",
      "Epoch 13/100\n",
      "\u001b[1m101/101\u001b[0m \u001b[32m━━━━━━━━━━━━━━━━━━━━\u001b[0m\u001b[37m\u001b[0m \u001b[1m0s\u001b[0m 718ms/step - accuracy: 0.5165 - loss: 5.5407\n",
      "Epoch 13: val_accuracy improved from 0.30702 to 0.32193, saving model to /kaggle/working/cmi_best_model.weights.h5\n",
      "\u001b[1m101/101\u001b[0m \u001b[32m━━━━━━━━━━━━━━━━━━━━\u001b[0m\u001b[37m\u001b[0m \u001b[1m75s\u001b[0m 740ms/step - accuracy: 0.5165 - loss: 5.5403 - val_accuracy: 0.3219 - val_loss: 7.6228\n",
      "Epoch 14/100\n",
      "\u001b[1m101/101\u001b[0m \u001b[32m━━━━━━━━━━━━━━━━━━━━\u001b[0m\u001b[37m\u001b[0m \u001b[1m0s\u001b[0m 717ms/step - accuracy: 0.5125 - loss: 5.5043\n",
      "Epoch 14: val_accuracy did not improve from 0.32193\n",
      "\u001b[1m101/101\u001b[0m \u001b[32m━━━━━━━━━━━━━━━━━━━━\u001b[0m\u001b[37m\u001b[0m \u001b[1m75s\u001b[0m 739ms/step - accuracy: 0.5125 - loss: 5.5040 - val_accuracy: 0.3018 - val_loss: 7.6936\n",
      "Epoch 15/100\n",
      "\u001b[1m101/101\u001b[0m \u001b[32m━━━━━━━━━━━━━━━━━━━━\u001b[0m\u001b[37m\u001b[0m \u001b[1m0s\u001b[0m 719ms/step - accuracy: 0.5281 - loss: 5.4573\n",
      "Epoch 15: val_accuracy did not improve from 0.32193\n",
      "\u001b[1m101/101\u001b[0m \u001b[32m━━━━━━━━━━━━━━━━━━━━\u001b[0m\u001b[37m\u001b[0m \u001b[1m75s\u001b[0m 741ms/step - accuracy: 0.5281 - loss: 5.4567 - val_accuracy: 0.3096 - val_loss: 7.7655\n",
      "Epoch 16/100\n",
      "\u001b[1m101/101\u001b[0m \u001b[32m━━━━━━━━━━━━━━━━━━━━\u001b[0m\u001b[37m\u001b[0m \u001b[1m0s\u001b[0m 718ms/step - accuracy: 0.5384 - loss: 5.3972\n",
      "Epoch 16: val_accuracy did not improve from 0.32193\n",
      "\u001b[1m101/101\u001b[0m \u001b[32m━━━━━━━━━━━━━━━━━━━━\u001b[0m\u001b[37m\u001b[0m \u001b[1m75s\u001b[0m 740ms/step - accuracy: 0.5384 - loss: 5.3969 - val_accuracy: 0.2956 - val_loss: 7.7355\n",
      "Epoch 17/100\n",
      "\u001b[1m101/101\u001b[0m \u001b[32m━━━━━━━━━━━━━━━━━━━━\u001b[0m\u001b[37m\u001b[0m \u001b[1m0s\u001b[0m 719ms/step - accuracy: 0.5406 - loss: 5.3649\n",
      "Epoch 17: val_accuracy did not improve from 0.32193\n",
      "\u001b[1m101/101\u001b[0m \u001b[32m━━━━━━━━━━━━━━━━━━━━\u001b[0m\u001b[37m\u001b[0m \u001b[1m75s\u001b[0m 741ms/step - accuracy: 0.5406 - loss: 5.3645 - val_accuracy: 0.3105 - val_loss: 7.6276\n",
      "Epoch 18/100\n",
      "\u001b[1m101/101\u001b[0m \u001b[32m━━━━━━━━━━━━━━━━━━━━\u001b[0m\u001b[37m\u001b[0m \u001b[1m0s\u001b[0m 722ms/step - accuracy: 0.5605 - loss: 5.2810\n",
      "Epoch 18: val_accuracy did not improve from 0.32193\n",
      "\u001b[1m101/101\u001b[0m \u001b[32m━━━━━━━━━━━━━━━━━━━━\u001b[0m\u001b[37m\u001b[0m \u001b[1m75s\u001b[0m 744ms/step - accuracy: 0.5605 - loss: 5.2807 - val_accuracy: 0.2982 - val_loss: 7.7315\n",
      "Epoch 19/100\n",
      "\u001b[1m101/101\u001b[0m \u001b[32m━━━━━━━━━━━━━━━━━━━━\u001b[0m\u001b[37m\u001b[0m \u001b[1m0s\u001b[0m 718ms/step - accuracy: 0.5655 - loss: 5.2387\n",
      "Epoch 19: val_accuracy did not improve from 0.32193\n",
      "\u001b[1m101/101\u001b[0m \u001b[32m━━━━━━━━━━━━━━━━━━━━\u001b[0m\u001b[37m\u001b[0m \u001b[1m75s\u001b[0m 740ms/step - accuracy: 0.5655 - loss: 5.2384 - val_accuracy: 0.3009 - val_loss: 7.6562\n",
      "Epoch 20/100\n",
      "\u001b[1m101/101\u001b[0m \u001b[32m━━━━━━━━━━━━━━━━━━━━\u001b[0m\u001b[37m\u001b[0m \u001b[1m0s\u001b[0m 724ms/step - accuracy: 0.5642 - loss: 5.2429\n",
      "Epoch 20: val_accuracy did not improve from 0.32193\n",
      "\u001b[1m101/101\u001b[0m \u001b[32m━━━━━━━━━━━━━━━━━━━━\u001b[0m\u001b[37m\u001b[0m \u001b[1m75s\u001b[0m 746ms/step - accuracy: 0.5642 - loss: 5.2425 - val_accuracy: 0.3140 - val_loss: 7.6076\n",
      "Epoch 21/100\n",
      "\u001b[1m101/101\u001b[0m \u001b[32m━━━━━━━━━━━━━━━━━━━━\u001b[0m\u001b[37m\u001b[0m \u001b[1m0s\u001b[0m 727ms/step - accuracy: 0.5698 - loss: 5.1836\n",
      "Epoch 21: val_accuracy did not improve from 0.32193\n",
      "\u001b[1m101/101\u001b[0m \u001b[32m━━━━━━━━━━━━━━━━━━━━\u001b[0m\u001b[37m\u001b[0m \u001b[1m76s\u001b[0m 750ms/step - accuracy: 0.5698 - loss: 5.1832 - val_accuracy: 0.3009 - val_loss: 7.6751\n",
      "Epoch 22/100\n",
      "\u001b[1m101/101\u001b[0m \u001b[32m━━━━━━━━━━━━━━━━━━━━\u001b[0m\u001b[37m\u001b[0m \u001b[1m0s\u001b[0m 722ms/step - accuracy: 0.5828 - loss: 5.1601\n",
      "Epoch 22: val_accuracy did not improve from 0.32193\n",
      "\u001b[1m101/101\u001b[0m \u001b[32m━━━━━━━━━━━━━━━━━━━━\u001b[0m\u001b[37m\u001b[0m \u001b[1m75s\u001b[0m 743ms/step - accuracy: 0.5827 - loss: 5.1599 - val_accuracy: 0.2974 - val_loss: 7.6676\n",
      "Epoch 23/100\n",
      "\u001b[1m101/101\u001b[0m \u001b[32m━━━━━━━━━━━━━━━━━━━━\u001b[0m\u001b[37m\u001b[0m \u001b[1m0s\u001b[0m 723ms/step - accuracy: 0.5843 - loss: 5.1066\n",
      "Epoch 23: val_accuracy did not improve from 0.32193\n",
      "\u001b[1m101/101\u001b[0m \u001b[32m━━━━━━━━━━━━━━━━━━━━\u001b[0m\u001b[37m\u001b[0m \u001b[1m75s\u001b[0m 747ms/step - accuracy: 0.5843 - loss: 5.1062 - val_accuracy: 0.2947 - val_loss: 7.6933\n",
      "Epoch 24/100\n",
      "\u001b[1m101/101\u001b[0m \u001b[32m━━━━━━━━━━━━━━━━━━━━\u001b[0m\u001b[37m\u001b[0m \u001b[1m0s\u001b[0m 719ms/step - accuracy: 0.5948 - loss: 5.0858\n",
      "Epoch 24: val_accuracy did not improve from 0.32193\n",
      "\u001b[1m101/101\u001b[0m \u001b[32m━━━━━━━━━━━━━━━━━━━━\u001b[0m\u001b[37m\u001b[0m \u001b[1m75s\u001b[0m 741ms/step - accuracy: 0.5948 - loss: 5.0854 - val_accuracy: 0.3149 - val_loss: 7.6461\n",
      "Epoch 25/100\n",
      "\u001b[1m101/101\u001b[0m \u001b[32m━━━━━━━━━━━━━━━━━━━━\u001b[0m\u001b[37m\u001b[0m \u001b[1m0s\u001b[0m 717ms/step - accuracy: 0.5915 - loss: 5.0668\n",
      "Epoch 25: val_accuracy did not improve from 0.32193\n",
      "\u001b[1m101/101\u001b[0m \u001b[32m━━━━━━━━━━━━━━━━━━━━\u001b[0m\u001b[37m\u001b[0m \u001b[1m75s\u001b[0m 739ms/step - accuracy: 0.5915 - loss: 5.0664 - val_accuracy: 0.3000 - val_loss: 7.7630\n",
      "Epoch 26/100\n",
      "\u001b[1m101/101\u001b[0m \u001b[32m━━━━━━━━━━━━━━━━━━━━\u001b[0m\u001b[37m\u001b[0m \u001b[1m0s\u001b[0m 721ms/step - accuracy: 0.5973 - loss: 5.0555\n",
      "Epoch 26: val_accuracy did not improve from 0.32193\n",
      "\u001b[1m101/101\u001b[0m \u001b[32m━━━━━━━━━━━━━━━━━━━━\u001b[0m\u001b[37m\u001b[0m \u001b[1m75s\u001b[0m 743ms/step - accuracy: 0.5973 - loss: 5.0550 - val_accuracy: 0.2982 - val_loss: 7.7461\n",
      "Epoch 27/100\n",
      "\u001b[1m101/101\u001b[0m \u001b[32m━━━━━━━━━━━━━━━━━━━━\u001b[0m\u001b[37m\u001b[0m \u001b[1m0s\u001b[0m 714ms/step - accuracy: 0.6096 - loss: 4.9909\n",
      "Epoch 27: val_accuracy did not improve from 0.32193\n",
      "\u001b[1m101/101\u001b[0m \u001b[32m━━━━━━━━━━━━━━━━━━━━\u001b[0m\u001b[37m\u001b[0m \u001b[1m74s\u001b[0m 735ms/step - accuracy: 0.6096 - loss: 4.9905 - val_accuracy: 0.3035 - val_loss: 7.6960\n",
      "Epoch 28/100\n",
      "\u001b[1m101/101\u001b[0m \u001b[32m━━━━━━━━━━━━━━━━━━━━\u001b[0m\u001b[37m\u001b[0m \u001b[1m0s\u001b[0m 715ms/step - accuracy: 0.6085 - loss: 4.9382\n",
      "Epoch 28: val_accuracy did not improve from 0.32193\n",
      "\u001b[1m101/101\u001b[0m \u001b[32m━━━━━━━━━━━━━━━━━━━━\u001b[0m\u001b[37m\u001b[0m \u001b[1m74s\u001b[0m 737ms/step - accuracy: 0.6085 - loss: 4.9380 - val_accuracy: 0.3044 - val_loss: 7.8174\n",
      "Epoch 29/100\n",
      "\u001b[1m101/101\u001b[0m \u001b[32m━━━━━━━━━━━━━━━━━━━━\u001b[0m\u001b[37m\u001b[0m \u001b[1m0s\u001b[0m 721ms/step - accuracy: 0.6189 - loss: 4.9211\n",
      "Epoch 29: val_accuracy did not improve from 0.32193\n",
      "\u001b[1m101/101\u001b[0m \u001b[32m━━━━━━━━━━━━━━━━━━━━\u001b[0m\u001b[37m\u001b[0m \u001b[1m75s\u001b[0m 743ms/step - accuracy: 0.6190 - loss: 4.9207 - val_accuracy: 0.3158 - val_loss: 7.6517\n",
      "Epoch 30/100\n",
      "\u001b[1m101/101\u001b[0m \u001b[32m━━━━━━━━━━━━━━━━━━━━\u001b[0m\u001b[37m\u001b[0m \u001b[1m0s\u001b[0m 718ms/step - accuracy: 0.6174 - loss: 4.9137\n",
      "Epoch 30: val_accuracy improved from 0.32193 to 0.32632, saving model to /kaggle/working/cmi_best_model.weights.h5\n",
      "\u001b[1m101/101\u001b[0m \u001b[32m━━━━━━━━━━━━━━━━━━━━\u001b[0m\u001b[37m\u001b[0m \u001b[1m75s\u001b[0m 741ms/step - accuracy: 0.6175 - loss: 4.9133 - val_accuracy: 0.3263 - val_loss: 7.5925\n",
      "Epoch 31/100\n",
      "\u001b[1m101/101\u001b[0m \u001b[32m━━━━━━━━━━━━━━━━━━━━\u001b[0m\u001b[37m\u001b[0m \u001b[1m0s\u001b[0m 719ms/step - accuracy: 0.6213 - loss: 4.8818\n",
      "Epoch 31: val_accuracy did not improve from 0.32632\n",
      "\u001b[1m101/101\u001b[0m \u001b[32m━━━━━━━━━━━━━━━━━━━━\u001b[0m\u001b[37m\u001b[0m \u001b[1m75s\u001b[0m 741ms/step - accuracy: 0.6213 - loss: 4.8814 - val_accuracy: 0.3061 - val_loss: 7.8045\n",
      "Epoch 32/100\n",
      "\u001b[1m101/101\u001b[0m \u001b[32m━━━━━━━━━━━━━━━━━━━━\u001b[0m\u001b[37m\u001b[0m \u001b[1m0s\u001b[0m 719ms/step - accuracy: 0.6331 - loss: 4.8420\n",
      "Epoch 32: val_accuracy did not improve from 0.32632\n",
      "\u001b[1m101/101\u001b[0m \u001b[32m━━━━━━━━━━━━━━━━━━━━\u001b[0m\u001b[37m\u001b[0m \u001b[1m75s\u001b[0m 741ms/step - accuracy: 0.6331 - loss: 4.8416 - val_accuracy: 0.3114 - val_loss: 7.8598\n",
      "Epoch 33/100\n",
      "\u001b[1m101/101\u001b[0m \u001b[32m━━━━━━━━━━━━━━━━━━━━\u001b[0m\u001b[37m\u001b[0m \u001b[1m0s\u001b[0m 719ms/step - accuracy: 0.6325 - loss: 4.8393\n",
      "Epoch 33: val_accuracy did not improve from 0.32632\n",
      "\u001b[1m101/101\u001b[0m \u001b[32m━━━━━━━━━━━━━━━━━━━━\u001b[0m\u001b[37m\u001b[0m \u001b[1m75s\u001b[0m 741ms/step - accuracy: 0.6324 - loss: 4.8391 - val_accuracy: 0.3114 - val_loss: 7.7472\n",
      "Epoch 34/100\n",
      "\u001b[1m101/101\u001b[0m \u001b[32m━━━━━━━━━━━━━━━━━━━━\u001b[0m\u001b[37m\u001b[0m \u001b[1m0s\u001b[0m 719ms/step - accuracy: 0.6422 - loss: 4.7928\n",
      "Epoch 34: val_accuracy did not improve from 0.32632\n",
      "\u001b[1m101/101\u001b[0m \u001b[32m━━━━━━━━━━━━━━━━━━━━\u001b[0m\u001b[37m\u001b[0m \u001b[1m75s\u001b[0m 741ms/step - accuracy: 0.6421 - loss: 4.7926 - val_accuracy: 0.3132 - val_loss: 7.8565\n",
      "Epoch 35/100\n",
      "\u001b[1m101/101\u001b[0m \u001b[32m━━━━━━━━━━━━━━━━━━━━\u001b[0m\u001b[37m\u001b[0m \u001b[1m0s\u001b[0m 721ms/step - accuracy: 0.6382 - loss: 4.7903\n",
      "Epoch 35: val_accuracy did not improve from 0.32632\n",
      "\u001b[1m101/101\u001b[0m \u001b[32m━━━━━━━━━━━━━━━━━━━━\u001b[0m\u001b[37m\u001b[0m \u001b[1m75s\u001b[0m 743ms/step - accuracy: 0.6383 - loss: 4.7898 - val_accuracy: 0.3202 - val_loss: 7.7547\n",
      "Epoch 36/100\n",
      "\u001b[1m101/101\u001b[0m \u001b[32m━━━━━━━━━━━━━━━━━━━━\u001b[0m\u001b[37m\u001b[0m \u001b[1m0s\u001b[0m 723ms/step - accuracy: 0.6497 - loss: 4.7475\n",
      "Epoch 36: val_accuracy did not improve from 0.32632\n",
      "\u001b[1m101/101\u001b[0m \u001b[32m━━━━━━━━━━━━━━━━━━━━\u001b[0m\u001b[37m\u001b[0m \u001b[1m75s\u001b[0m 745ms/step - accuracy: 0.6497 - loss: 4.7472 - val_accuracy: 0.3175 - val_loss: 7.8331\n",
      "Epoch 37/100\n",
      "\u001b[1m101/101\u001b[0m \u001b[32m━━━━━━━━━━━━━━━━━━━━\u001b[0m\u001b[37m\u001b[0m \u001b[1m0s\u001b[0m 723ms/step - accuracy: 0.6508 - loss: 4.7482\n",
      "Epoch 37: val_accuracy did not improve from 0.32632\n",
      "\u001b[1m101/101\u001b[0m \u001b[32m━━━━━━━━━━━━━━━━━━━━\u001b[0m\u001b[37m\u001b[0m \u001b[1m75s\u001b[0m 746ms/step - accuracy: 0.6508 - loss: 4.7477 - val_accuracy: 0.3219 - val_loss: 7.7451\n",
      "Epoch 38/100\n",
      "\u001b[1m101/101\u001b[0m \u001b[32m━━━━━━━━━━━━━━━━━━━━\u001b[0m\u001b[37m\u001b[0m \u001b[1m0s\u001b[0m 717ms/step - accuracy: 0.6513 - loss: 4.7044\n",
      "Epoch 38: val_accuracy did not improve from 0.32632\n",
      "\u001b[1m101/101\u001b[0m \u001b[32m━━━━━━━━━━━━━━━━━━━━\u001b[0m\u001b[37m\u001b[0m \u001b[1m75s\u001b[0m 739ms/step - accuracy: 0.6513 - loss: 4.7041 - val_accuracy: 0.3219 - val_loss: 7.6628\n",
      "Epoch 39/100\n",
      "\u001b[1m101/101\u001b[0m \u001b[32m━━━━━━━━━━━━━━━━━━━━\u001b[0m\u001b[37m\u001b[0m \u001b[1m0s\u001b[0m 723ms/step - accuracy: 0.6464 - loss: 4.7530\n",
      "Epoch 39: val_accuracy did not improve from 0.32632\n",
      "\u001b[1m101/101\u001b[0m \u001b[32m━━━━━━━━━━━━━━━━━━━━\u001b[0m\u001b[37m\u001b[0m \u001b[1m75s\u001b[0m 745ms/step - accuracy: 0.6464 - loss: 4.7525 - val_accuracy: 0.3184 - val_loss: 7.8226\n",
      "Epoch 40/100\n",
      "\u001b[1m101/101\u001b[0m \u001b[32m━━━━━━━━━━━━━━━━━━━━\u001b[0m\u001b[37m\u001b[0m \u001b[1m0s\u001b[0m 719ms/step - accuracy: 0.6653 - loss: 4.6589\n",
      "Epoch 40: val_accuracy improved from 0.32632 to 0.33246, saving model to /kaggle/working/cmi_best_model.weights.h5\n",
      "\u001b[1m101/101\u001b[0m \u001b[32m━━━━━━━━━━━━━━━━━━━━\u001b[0m\u001b[37m\u001b[0m \u001b[1m75s\u001b[0m 742ms/step - accuracy: 0.6653 - loss: 4.6586 - val_accuracy: 0.3325 - val_loss: 7.6636\n",
      "Epoch 41/100\n",
      "\u001b[1m101/101\u001b[0m \u001b[32m━━━━━━━━━━━━━━━━━━━━\u001b[0m\u001b[37m\u001b[0m \u001b[1m0s\u001b[0m 716ms/step - accuracy: 0.6662 - loss: 4.6675\n",
      "Epoch 41: val_accuracy did not improve from 0.33246\n",
      "\u001b[1m101/101\u001b[0m \u001b[32m━━━━━━━━━━━━━━━━━━━━\u001b[0m\u001b[37m\u001b[0m \u001b[1m74s\u001b[0m 738ms/step - accuracy: 0.6662 - loss: 4.6670 - val_accuracy: 0.3228 - val_loss: 7.7714\n",
      "Epoch 42/100\n",
      "\u001b[1m101/101\u001b[0m \u001b[32m━━━━━━━━━━━━━━━━━━━━\u001b[0m\u001b[37m\u001b[0m \u001b[1m0s\u001b[0m 715ms/step - accuracy: 0.6695 - loss: 4.6178\n",
      "Epoch 42: val_accuracy improved from 0.33246 to 0.33333, saving model to /kaggle/working/cmi_best_model.weights.h5\n",
      "\u001b[1m101/101\u001b[0m \u001b[32m━━━━━━━━━━━━━━━━━━━━\u001b[0m\u001b[37m\u001b[0m \u001b[1m74s\u001b[0m 738ms/step - accuracy: 0.6694 - loss: 4.6176 - val_accuracy: 0.3333 - val_loss: 7.7166\n",
      "Epoch 43/100\n",
      "\u001b[1m101/101\u001b[0m \u001b[32m━━━━━━━━━━━━━━━━━━━━\u001b[0m\u001b[37m\u001b[0m \u001b[1m0s\u001b[0m 714ms/step - accuracy: 0.6617 - loss: 4.6163\n",
      "Epoch 43: val_accuracy improved from 0.33333 to 0.33596, saving model to /kaggle/working/cmi_best_model.weights.h5\n",
      "\u001b[1m101/101\u001b[0m \u001b[32m━━━━━━━━━━━━━━━━━━━━\u001b[0m\u001b[37m\u001b[0m \u001b[1m74s\u001b[0m 736ms/step - accuracy: 0.6617 - loss: 4.6159 - val_accuracy: 0.3360 - val_loss: 7.7575\n",
      "Epoch 44/100\n",
      "\u001b[1m101/101\u001b[0m \u001b[32m━━━━━━━━━━━━━━━━━━━━\u001b[0m\u001b[37m\u001b[0m \u001b[1m0s\u001b[0m 714ms/step - accuracy: 0.6674 - loss: 4.6150\n",
      "Epoch 44: val_accuracy did not improve from 0.33596\n",
      "\u001b[1m101/101\u001b[0m \u001b[32m━━━━━━━━━━━━━━━━━━━━\u001b[0m\u001b[37m\u001b[0m \u001b[1m74s\u001b[0m 736ms/step - accuracy: 0.6674 - loss: 4.6148 - val_accuracy: 0.3219 - val_loss: 7.8490\n",
      "Epoch 45/100\n",
      "\u001b[1m101/101\u001b[0m \u001b[32m━━━━━━━━━━━━━━━━━━━━\u001b[0m\u001b[37m\u001b[0m \u001b[1m0s\u001b[0m 719ms/step - accuracy: 0.6845 - loss: 4.5831\n",
      "Epoch 45: val_accuracy did not improve from 0.33596\n",
      "\u001b[1m101/101\u001b[0m \u001b[32m━━━━━━━━━━━━━━━━━━━━\u001b[0m\u001b[37m\u001b[0m \u001b[1m75s\u001b[0m 742ms/step - accuracy: 0.6845 - loss: 4.5828 - val_accuracy: 0.3325 - val_loss: 7.7784\n",
      "Epoch 46/100\n",
      "\u001b[1m101/101\u001b[0m \u001b[32m━━━━━━━━━━━━━━━━━━━━\u001b[0m\u001b[37m\u001b[0m \u001b[1m0s\u001b[0m 723ms/step - accuracy: 0.6881 - loss: 4.5476\n",
      "Epoch 46: val_accuracy did not improve from 0.33596\n",
      "\u001b[1m101/101\u001b[0m \u001b[32m━━━━━━━━━━━━━━━━━━━━\u001b[0m\u001b[37m\u001b[0m \u001b[1m75s\u001b[0m 745ms/step - accuracy: 0.6881 - loss: 4.5475 - val_accuracy: 0.3175 - val_loss: 7.9659\n",
      "Epoch 47/100\n",
      "\u001b[1m101/101\u001b[0m \u001b[32m━━━━━━━━━━━━━━━━━━━━\u001b[0m\u001b[37m\u001b[0m \u001b[1m0s\u001b[0m 722ms/step - accuracy: 0.6919 - loss: 4.5217\n",
      "Epoch 47: val_accuracy did not improve from 0.33596\n",
      "\u001b[1m101/101\u001b[0m \u001b[32m━━━━━━━━━━━━━━━━━━━━\u001b[0m\u001b[37m\u001b[0m \u001b[1m75s\u001b[0m 745ms/step - accuracy: 0.6918 - loss: 4.5215 - val_accuracy: 0.3342 - val_loss: 7.7919\n",
      "Epoch 48/100\n",
      "\u001b[1m101/101\u001b[0m \u001b[32m━━━━━━━━━━━━━━━━━━━━\u001b[0m\u001b[37m\u001b[0m \u001b[1m0s\u001b[0m 722ms/step - accuracy: 0.6931 - loss: 4.5153\n",
      "Epoch 48: val_accuracy did not improve from 0.33596\n",
      "\u001b[1m101/101\u001b[0m \u001b[32m━━━━━━━━━━━━━━━━━━━━\u001b[0m\u001b[37m\u001b[0m \u001b[1m75s\u001b[0m 744ms/step - accuracy: 0.6930 - loss: 4.5152 - val_accuracy: 0.3289 - val_loss: 7.8664\n",
      "Epoch 49/100\n",
      "\u001b[1m101/101\u001b[0m \u001b[32m━━━━━━━━━━━━━━━━━━━━\u001b[0m\u001b[37m\u001b[0m \u001b[1m0s\u001b[0m 724ms/step - accuracy: 0.6822 - loss: 4.5067\n",
      "Epoch 49: val_accuracy did not improve from 0.33596\n",
      "\u001b[1m101/101\u001b[0m \u001b[32m━━━━━━━━━━━━━━━━━━━━\u001b[0m\u001b[37m\u001b[0m \u001b[1m75s\u001b[0m 746ms/step - accuracy: 0.6822 - loss: 4.5064 - val_accuracy: 0.3307 - val_loss: 7.8977\n",
      "Epoch 50/100\n",
      "\u001b[1m101/101\u001b[0m \u001b[32m━━━━━━━━━━━━━━━━━━━━\u001b[0m\u001b[37m\u001b[0m \u001b[1m0s\u001b[0m 722ms/step - accuracy: 0.6860 - loss: 4.4879\n",
      "Epoch 50: val_accuracy did not improve from 0.33596\n",
      "\u001b[1m101/101\u001b[0m \u001b[32m━━━━━━━━━━━━━━━━━━━━\u001b[0m\u001b[37m\u001b[0m \u001b[1m75s\u001b[0m 745ms/step - accuracy: 0.6860 - loss: 4.4876 - val_accuracy: 0.3211 - val_loss: 7.9572\n",
      "Epoch 51/100\n",
      "\u001b[1m101/101\u001b[0m \u001b[32m━━━━━━━━━━━━━━━━━━━━\u001b[0m\u001b[37m\u001b[0m \u001b[1m0s\u001b[0m 723ms/step - accuracy: 0.6892 - loss: 4.4812\n",
      "Epoch 51: val_accuracy did not improve from 0.33596\n",
      "\u001b[1m101/101\u001b[0m \u001b[32m━━━━━━━━━━━━━━━━━━━━\u001b[0m\u001b[37m\u001b[0m \u001b[1m75s\u001b[0m 745ms/step - accuracy: 0.6892 - loss: 4.4810 - val_accuracy: 0.3307 - val_loss: 7.9294\n",
      "Epoch 52/100\n",
      "\u001b[1m101/101\u001b[0m \u001b[32m━━━━━━━━━━━━━━━━━━━━\u001b[0m\u001b[37m\u001b[0m \u001b[1m0s\u001b[0m 719ms/step - accuracy: 0.6877 - loss: 4.4727\n",
      "Epoch 52: val_accuracy did not improve from 0.33596\n",
      "\u001b[1m101/101\u001b[0m \u001b[32m━━━━━━━━━━━━━━━━━━━━\u001b[0m\u001b[37m\u001b[0m \u001b[1m75s\u001b[0m 741ms/step - accuracy: 0.6877 - loss: 4.4724 - val_accuracy: 0.3149 - val_loss: 8.1376\n",
      "Epoch 53/100\n",
      "\u001b[1m101/101\u001b[0m \u001b[32m━━━━━━━━━━━━━━━━━━━━\u001b[0m\u001b[37m\u001b[0m \u001b[1m0s\u001b[0m 722ms/step - accuracy: 0.7022 - loss: 4.4335\n",
      "Epoch 53: val_accuracy did not improve from 0.33596\n",
      "\u001b[1m101/101\u001b[0m \u001b[32m━━━━━━━━━━━━━━━━━━━━\u001b[0m\u001b[37m\u001b[0m \u001b[1m75s\u001b[0m 744ms/step - accuracy: 0.7021 - loss: 4.4332 - val_accuracy: 0.3202 - val_loss: 7.9440\n",
      "Epoch 54/100\n",
      "\u001b[1m101/101\u001b[0m \u001b[32m━━━━━━━━━━━━━━━━━━━━\u001b[0m\u001b[37m\u001b[0m \u001b[1m0s\u001b[0m 722ms/step - accuracy: 0.7050 - loss: 4.4490\n",
      "Epoch 54: val_accuracy did not improve from 0.33596\n",
      "\u001b[1m101/101\u001b[0m \u001b[32m━━━━━━━━━━━━━━━━━━━━\u001b[0m\u001b[37m\u001b[0m \u001b[1m75s\u001b[0m 745ms/step - accuracy: 0.7049 - loss: 4.4487 - val_accuracy: 0.3272 - val_loss: 7.9463\n",
      "Epoch 55/100\n",
      "\u001b[1m101/101\u001b[0m \u001b[32m━━━━━━━━━━━━━━━━━━━━\u001b[0m\u001b[37m\u001b[0m \u001b[1m0s\u001b[0m 719ms/step - accuracy: 0.7006 - loss: 4.4354\n",
      "Epoch 55: val_accuracy did not improve from 0.33596\n",
      "\u001b[1m101/101\u001b[0m \u001b[32m━━━━━━━━━━━━━━━━━━━━\u001b[0m\u001b[37m\u001b[0m \u001b[1m75s\u001b[0m 740ms/step - accuracy: 0.7007 - loss: 4.4349 - val_accuracy: 0.3289 - val_loss: 7.9800\n",
      "Epoch 56/100\n",
      "\u001b[1m101/101\u001b[0m \u001b[32m━━━━━━━━━━━━━━━━━━━━\u001b[0m\u001b[37m\u001b[0m \u001b[1m0s\u001b[0m 716ms/step - accuracy: 0.7165 - loss: 4.3925\n",
      "Epoch 56: val_accuracy did not improve from 0.33596\n",
      "\u001b[1m101/101\u001b[0m \u001b[32m━━━━━━━━━━━━━━━━━━━━\u001b[0m\u001b[37m\u001b[0m \u001b[1m75s\u001b[0m 738ms/step - accuracy: 0.7165 - loss: 4.3923 - val_accuracy: 0.3342 - val_loss: 7.8994\n",
      "Epoch 57/100\n",
      "\u001b[1m101/101\u001b[0m \u001b[32m━━━━━━━━━━━━━━━━━━━━\u001b[0m\u001b[37m\u001b[0m \u001b[1m0s\u001b[0m 716ms/step - accuracy: 0.7145 - loss: 4.3709\n",
      "Epoch 57: val_accuracy did not improve from 0.33596\n",
      "\u001b[1m101/101\u001b[0m \u001b[32m━━━━━━━━━━━━━━━━━━━━\u001b[0m\u001b[37m\u001b[0m \u001b[1m75s\u001b[0m 739ms/step - accuracy: 0.7144 - loss: 4.3709 - val_accuracy: 0.3237 - val_loss: 8.0487\n",
      "Epoch 58/100\n",
      "\u001b[1m101/101\u001b[0m \u001b[32m━━━━━━━━━━━━━━━━━━━━\u001b[0m\u001b[37m\u001b[0m \u001b[1m0s\u001b[0m 716ms/step - accuracy: 0.7100 - loss: 4.3577\n",
      "Epoch 58: val_accuracy did not improve from 0.33596\n",
      "\u001b[1m101/101\u001b[0m \u001b[32m━━━━━━━━━━━━━━━━━━━━\u001b[0m\u001b[37m\u001b[0m \u001b[1m74s\u001b[0m 737ms/step - accuracy: 0.7100 - loss: 4.3575 - val_accuracy: 0.3263 - val_loss: 7.9819\n",
      "Epoch 59/100\n",
      "\u001b[1m101/101\u001b[0m \u001b[32m━━━━━━━━━━━━━━━━━━━━\u001b[0m\u001b[37m\u001b[0m \u001b[1m0s\u001b[0m 729ms/step - accuracy: 0.7143 - loss: 4.3822\n",
      "Epoch 59: val_accuracy did not improve from 0.33596\n",
      "\u001b[1m101/101\u001b[0m \u001b[32m━━━━━━━━━━━━━━━━━━━━\u001b[0m\u001b[37m\u001b[0m \u001b[1m76s\u001b[0m 751ms/step - accuracy: 0.7143 - loss: 4.3817 - val_accuracy: 0.3211 - val_loss: 8.0830\n",
      "Epoch 60/100\n",
      "\u001b[1m101/101\u001b[0m \u001b[32m━━━━━━━━━━━━━━━━━━━━\u001b[0m\u001b[37m\u001b[0m \u001b[1m0s\u001b[0m 728ms/step - accuracy: 0.7236 - loss: 4.3227\n",
      "Epoch 60: val_accuracy did not improve from 0.33596\n",
      "\u001b[1m101/101\u001b[0m \u001b[32m━━━━━━━━━━━━━━━━━━━━\u001b[0m\u001b[37m\u001b[0m \u001b[1m76s\u001b[0m 751ms/step - accuracy: 0.7236 - loss: 4.3225 - val_accuracy: 0.3263 - val_loss: 7.8987\n",
      "Epoch 61/100\n",
      "\u001b[1m101/101\u001b[0m \u001b[32m━━━━━━━━━━━━━━━━━━━━\u001b[0m\u001b[37m\u001b[0m \u001b[1m0s\u001b[0m 722ms/step - accuracy: 0.7110 - loss: 4.3360\n",
      "Epoch 61: val_accuracy did not improve from 0.33596\n",
      "\u001b[1m101/101\u001b[0m \u001b[32m━━━━━━━━━━━━━━━━━━━━\u001b[0m\u001b[37m\u001b[0m \u001b[1m75s\u001b[0m 744ms/step - accuracy: 0.7110 - loss: 4.3357 - val_accuracy: 0.3149 - val_loss: 8.0555\n",
      "Epoch 62/100\n",
      "\u001b[1m101/101\u001b[0m \u001b[32m━━━━━━━━━━━━━━━━━━━━\u001b[0m\u001b[37m\u001b[0m \u001b[1m0s\u001b[0m 721ms/step - accuracy: 0.7093 - loss: 4.3389\n",
      "Epoch 62: val_accuracy improved from 0.33596 to 0.34561, saving model to /kaggle/working/cmi_best_model.weights.h5\n",
      "\u001b[1m101/101\u001b[0m \u001b[32m━━━━━━━━━━━━━━━━━━━━\u001b[0m\u001b[37m\u001b[0m \u001b[1m75s\u001b[0m 743ms/step - accuracy: 0.7094 - loss: 4.3386 - val_accuracy: 0.3456 - val_loss: 7.9355\n",
      "Epoch 63/100\n",
      "\u001b[1m101/101\u001b[0m \u001b[32m━━━━━━━━━━━━━━━━━━━━\u001b[0m\u001b[37m\u001b[0m \u001b[1m0s\u001b[0m 726ms/step - accuracy: 0.7257 - loss: 4.2948\n",
      "Epoch 63: val_accuracy did not improve from 0.34561\n",
      "\u001b[1m101/101\u001b[0m \u001b[32m━━━━━━━━━━━━━━━━━━━━\u001b[0m\u001b[37m\u001b[0m \u001b[1m76s\u001b[0m 748ms/step - accuracy: 0.7257 - loss: 4.2946 - val_accuracy: 0.3342 - val_loss: 7.9619\n",
      "Epoch 64/100\n",
      "\u001b[1m101/101\u001b[0m \u001b[32m━━━━━━━━━━━━━━━━━━━━\u001b[0m\u001b[37m\u001b[0m \u001b[1m0s\u001b[0m 726ms/step - accuracy: 0.7216 - loss: 4.2793\n",
      "Epoch 64: val_accuracy did not improve from 0.34561\n",
      "\u001b[1m101/101\u001b[0m \u001b[32m━━━━━━━━━━━━━━━━━━━━\u001b[0m\u001b[37m\u001b[0m \u001b[1m75s\u001b[0m 747ms/step - accuracy: 0.7216 - loss: 4.2791 - val_accuracy: 0.3263 - val_loss: 8.1350\n",
      "Epoch 65/100\n",
      "\u001b[1m101/101\u001b[0m \u001b[32m━━━━━━━━━━━━━━━━━━━━\u001b[0m\u001b[37m\u001b[0m \u001b[1m0s\u001b[0m 724ms/step - accuracy: 0.7285 - loss: 4.2943\n",
      "Epoch 65: val_accuracy did not improve from 0.34561\n",
      "\u001b[1m101/101\u001b[0m \u001b[32m━━━━━━━━━━━━━━━━━━━━\u001b[0m\u001b[37m\u001b[0m \u001b[1m75s\u001b[0m 745ms/step - accuracy: 0.7285 - loss: 4.2939 - val_accuracy: 0.3386 - val_loss: 8.1044\n",
      "Epoch 66/100\n",
      "\u001b[1m101/101\u001b[0m \u001b[32m━━━━━━━━━━━━━━━━━━━━\u001b[0m\u001b[37m\u001b[0m \u001b[1m0s\u001b[0m 720ms/step - accuracy: 0.7204 - loss: 4.2833\n",
      "Epoch 66: val_accuracy did not improve from 0.34561\n",
      "\u001b[1m101/101\u001b[0m \u001b[32m━━━━━━━━━━━━━━━━━━━━\u001b[0m\u001b[37m\u001b[0m \u001b[1m75s\u001b[0m 744ms/step - accuracy: 0.7204 - loss: 4.2831 - val_accuracy: 0.3368 - val_loss: 8.1161\n",
      "Epoch 67/100\n",
      "\u001b[1m101/101\u001b[0m \u001b[32m━━━━━━━━━━━━━━━━━━━━\u001b[0m\u001b[37m\u001b[0m \u001b[1m0s\u001b[0m 727ms/step - accuracy: 0.7276 - loss: 4.2396\n",
      "Epoch 67: val_accuracy did not improve from 0.34561\n",
      "\u001b[1m101/101\u001b[0m \u001b[32m━━━━━━━━━━━━━━━━━━━━\u001b[0m\u001b[37m\u001b[0m \u001b[1m76s\u001b[0m 748ms/step - accuracy: 0.7276 - loss: 4.2394 - val_accuracy: 0.3333 - val_loss: 8.1274\n",
      "Epoch 68/100\n",
      "\u001b[1m101/101\u001b[0m \u001b[32m━━━━━━━━━━━━━━━━━━━━\u001b[0m\u001b[37m\u001b[0m \u001b[1m0s\u001b[0m 719ms/step - accuracy: 0.7286 - loss: 4.2319\n",
      "Epoch 68: val_accuracy did not improve from 0.34561\n",
      "\u001b[1m101/101\u001b[0m \u001b[32m━━━━━━━━━━━━━━━━━━━━\u001b[0m\u001b[37m\u001b[0m \u001b[1m75s\u001b[0m 740ms/step - accuracy: 0.7286 - loss: 4.2317 - val_accuracy: 0.3386 - val_loss: 8.0164\n",
      "Epoch 69/100\n",
      "\u001b[1m101/101\u001b[0m \u001b[32m━━━━━━━━━━━━━━━━━━━━\u001b[0m\u001b[37m\u001b[0m \u001b[1m0s\u001b[0m 718ms/step - accuracy: 0.7254 - loss: 4.2638\n",
      "Epoch 69: val_accuracy did not improve from 0.34561\n",
      "\u001b[1m101/101\u001b[0m \u001b[32m━━━━━━━━━━━━━━━━━━━━\u001b[0m\u001b[37m\u001b[0m \u001b[1m75s\u001b[0m 740ms/step - accuracy: 0.7254 - loss: 4.2636 - val_accuracy: 0.3316 - val_loss: 8.0627\n",
      "Epoch 70/100\n",
      "\u001b[1m101/101\u001b[0m \u001b[32m━━━━━━━━━━━━━━━━━━━━\u001b[0m\u001b[37m\u001b[0m \u001b[1m0s\u001b[0m 721ms/step - accuracy: 0.7403 - loss: 4.2326\n",
      "Epoch 70: val_accuracy did not improve from 0.34561\n",
      "\u001b[1m101/101\u001b[0m \u001b[32m━━━━━━━━━━━━━━━━━━━━\u001b[0m\u001b[37m\u001b[0m \u001b[1m75s\u001b[0m 743ms/step - accuracy: 0.7402 - loss: 4.2323 - val_accuracy: 0.3377 - val_loss: 8.0778\n",
      "Epoch 71/100\n",
      "\u001b[1m101/101\u001b[0m \u001b[32m━━━━━━━━━━━━━━━━━━━━\u001b[0m\u001b[37m\u001b[0m \u001b[1m0s\u001b[0m 726ms/step - accuracy: 0.7432 - loss: 4.1872\n",
      "Epoch 71: val_accuracy did not improve from 0.34561\n",
      "\u001b[1m101/101\u001b[0m \u001b[32m━━━━━━━━━━━━━━━━━━━━\u001b[0m\u001b[37m\u001b[0m \u001b[1m76s\u001b[0m 748ms/step - accuracy: 0.7432 - loss: 4.1870 - val_accuracy: 0.3281 - val_loss: 8.2616\n",
      "Epoch 72/100\n",
      "\u001b[1m101/101\u001b[0m \u001b[32m━━━━━━━━━━━━━━━━━━━━\u001b[0m\u001b[37m\u001b[0m \u001b[1m0s\u001b[0m 728ms/step - accuracy: 0.7437 - loss: 4.2033\n",
      "Epoch 72: val_accuracy did not improve from 0.34561\n",
      "\u001b[1m101/101\u001b[0m \u001b[32m━━━━━━━━━━━━━━━━━━━━\u001b[0m\u001b[37m\u001b[0m \u001b[1m76s\u001b[0m 750ms/step - accuracy: 0.7436 - loss: 4.2032 - val_accuracy: 0.3447 - val_loss: 8.1078\n",
      "Epoch 73/100\n",
      "\u001b[1m101/101\u001b[0m \u001b[32m━━━━━━━━━━━━━━━━━━━━\u001b[0m\u001b[37m\u001b[0m \u001b[1m0s\u001b[0m 722ms/step - accuracy: 0.7454 - loss: 4.1623\n",
      "Epoch 73: val_accuracy did not improve from 0.34561\n",
      "\u001b[1m101/101\u001b[0m \u001b[32m━━━━━━━━━━━━━━━━━━━━\u001b[0m\u001b[37m\u001b[0m \u001b[1m75s\u001b[0m 744ms/step - accuracy: 0.7454 - loss: 4.1621 - val_accuracy: 0.3368 - val_loss: 8.1784\n",
      "Epoch 74/100\n",
      "\u001b[1m101/101\u001b[0m \u001b[32m━━━━━━━━━━━━━━━━━━━━\u001b[0m\u001b[37m\u001b[0m \u001b[1m0s\u001b[0m 723ms/step - accuracy: 0.7377 - loss: 4.1958\n",
      "Epoch 74: val_accuracy improved from 0.34561 to 0.34737, saving model to /kaggle/working/cmi_best_model.weights.h5\n",
      "\u001b[1m101/101\u001b[0m \u001b[32m━━━━━━━━━━━━━━━━━━━━\u001b[0m\u001b[37m\u001b[0m \u001b[1m75s\u001b[0m 745ms/step - accuracy: 0.7376 - loss: 4.1957 - val_accuracy: 0.3474 - val_loss: 8.0335\n",
      "Epoch 75/100\n",
      "\u001b[1m101/101\u001b[0m \u001b[32m━━━━━━━━━━━━━━━━━━━━\u001b[0m\u001b[37m\u001b[0m \u001b[1m0s\u001b[0m 725ms/step - accuracy: 0.7415 - loss: 4.1680\n",
      "Epoch 75: val_accuracy did not improve from 0.34737\n",
      "\u001b[1m101/101\u001b[0m \u001b[32m━━━━━━━━━━━━━━━━━━━━\u001b[0m\u001b[37m\u001b[0m \u001b[1m75s\u001b[0m 746ms/step - accuracy: 0.7415 - loss: 4.1678 - val_accuracy: 0.3351 - val_loss: 8.2349\n",
      "Epoch 76/100\n",
      "\u001b[1m101/101\u001b[0m \u001b[32m━━━━━━━━━━━━━━━━━━━━\u001b[0m\u001b[37m\u001b[0m \u001b[1m0s\u001b[0m 717ms/step - accuracy: 0.7493 - loss: 4.1636\n",
      "Epoch 76: val_accuracy did not improve from 0.34737\n",
      "\u001b[1m101/101\u001b[0m \u001b[32m━━━━━━━━━━━━━━━━━━━━\u001b[0m\u001b[37m\u001b[0m \u001b[1m75s\u001b[0m 739ms/step - accuracy: 0.7493 - loss: 4.1634 - val_accuracy: 0.3421 - val_loss: 8.2222\n",
      "Epoch 77/100\n",
      "\u001b[1m101/101\u001b[0m \u001b[32m━━━━━━━━━━━━━━━━━━━━\u001b[0m\u001b[37m\u001b[0m \u001b[1m0s\u001b[0m 717ms/step - accuracy: 0.7443 - loss: 4.1701\n",
      "Epoch 77: val_accuracy did not improve from 0.34737\n",
      "\u001b[1m101/101\u001b[0m \u001b[32m━━━━━━━━━━━━━━━━━━━━\u001b[0m\u001b[37m\u001b[0m \u001b[1m75s\u001b[0m 738ms/step - accuracy: 0.7443 - loss: 4.1699 - val_accuracy: 0.3395 - val_loss: 8.1053\n",
      "Epoch 78/100\n",
      "\u001b[1m101/101\u001b[0m \u001b[32m━━━━━━━━━━━━━━━━━━━━\u001b[0m\u001b[37m\u001b[0m \u001b[1m0s\u001b[0m 721ms/step - accuracy: 0.7499 - loss: 4.1139\n",
      "Epoch 78: val_accuracy improved from 0.34737 to 0.35614, saving model to /kaggle/working/cmi_best_model.weights.h5\n",
      "\u001b[1m101/101\u001b[0m \u001b[32m━━━━━━━━━━━━━━━━━━━━\u001b[0m\u001b[37m\u001b[0m \u001b[1m75s\u001b[0m 743ms/step - accuracy: 0.7498 - loss: 4.1138 - val_accuracy: 0.3561 - val_loss: 8.0246\n",
      "Epoch 79/100\n",
      "\u001b[1m101/101\u001b[0m \u001b[32m━━━━━━━━━━━━━━━━━━━━\u001b[0m\u001b[37m\u001b[0m \u001b[1m0s\u001b[0m 717ms/step - accuracy: 0.7383 - loss: 4.2005\n",
      "Epoch 79: val_accuracy did not improve from 0.35614\n",
      "\u001b[1m101/101\u001b[0m \u001b[32m━━━━━━━━━━━━━━━━━━━━\u001b[0m\u001b[37m\u001b[0m \u001b[1m75s\u001b[0m 740ms/step - accuracy: 0.7383 - loss: 4.1999 - val_accuracy: 0.3421 - val_loss: 8.2385\n",
      "Epoch 80/100\n",
      "\u001b[1m101/101\u001b[0m \u001b[32m━━━━━━━━━━━━━━━━━━━━\u001b[0m\u001b[37m\u001b[0m \u001b[1m0s\u001b[0m 717ms/step - accuracy: 0.7515 - loss: 4.1338\n",
      "Epoch 80: val_accuracy did not improve from 0.35614\n",
      "\u001b[1m101/101\u001b[0m \u001b[32m━━━━━━━━━━━━━━━━━━━━\u001b[0m\u001b[37m\u001b[0m \u001b[1m75s\u001b[0m 740ms/step - accuracy: 0.7514 - loss: 4.1336 - val_accuracy: 0.3351 - val_loss: 8.2020\n",
      "Epoch 81/100\n",
      "\u001b[1m101/101\u001b[0m \u001b[32m━━━━━━━━━━━━━━━━━━━━\u001b[0m\u001b[37m\u001b[0m \u001b[1m0s\u001b[0m 717ms/step - accuracy: 0.7503 - loss: 4.1098\n",
      "Epoch 81: val_accuracy did not improve from 0.35614\n",
      "\u001b[1m101/101\u001b[0m \u001b[32m━━━━━━━━━━━━━━━━━━━━\u001b[0m\u001b[37m\u001b[0m \u001b[1m75s\u001b[0m 739ms/step - accuracy: 0.7503 - loss: 4.1097 - val_accuracy: 0.3325 - val_loss: 8.2261\n",
      "Epoch 82/100\n",
      "\u001b[1m101/101\u001b[0m \u001b[32m━━━━━━━━━━━━━━━━━━━━\u001b[0m\u001b[37m\u001b[0m \u001b[1m0s\u001b[0m 719ms/step - accuracy: 0.7586 - loss: 4.1022\n",
      "Epoch 82: val_accuracy did not improve from 0.35614\n",
      "\u001b[1m101/101\u001b[0m \u001b[32m━━━━━━━━━━━━━━━━━━━━\u001b[0m\u001b[37m\u001b[0m \u001b[1m75s\u001b[0m 741ms/step - accuracy: 0.7586 - loss: 4.1021 - val_accuracy: 0.3368 - val_loss: 8.2358\n",
      "Epoch 83/100\n",
      "\u001b[1m101/101\u001b[0m \u001b[32m━━━━━━━━━━━━━━━━━━━━\u001b[0m\u001b[37m\u001b[0m \u001b[1m0s\u001b[0m 720ms/step - accuracy: 0.7555 - loss: 4.1138\n",
      "Epoch 83: val_accuracy did not improve from 0.35614\n",
      "\u001b[1m101/101\u001b[0m \u001b[32m━━━━━━━━━━━━━━━━━━━━\u001b[0m\u001b[37m\u001b[0m \u001b[1m75s\u001b[0m 744ms/step - accuracy: 0.7555 - loss: 4.1136 - val_accuracy: 0.3447 - val_loss: 8.2493\n",
      "Epoch 84/100\n",
      "\u001b[1m101/101\u001b[0m \u001b[32m━━━━━━━━━━━━━━━━━━━━\u001b[0m\u001b[37m\u001b[0m \u001b[1m0s\u001b[0m 720ms/step - accuracy: 0.7607 - loss: 4.0802\n",
      "Epoch 84: val_accuracy did not improve from 0.35614\n",
      "\u001b[1m101/101\u001b[0m \u001b[32m━━━━━━━━━━━━━━━━━━━━\u001b[0m\u001b[37m\u001b[0m \u001b[1m75s\u001b[0m 742ms/step - accuracy: 0.7607 - loss: 4.0800 - val_accuracy: 0.3447 - val_loss: 8.2205\n",
      "Epoch 85/100\n",
      "\u001b[1m101/101\u001b[0m \u001b[32m━━━━━━━━━━━━━━━━━━━━\u001b[0m\u001b[37m\u001b[0m \u001b[1m0s\u001b[0m 724ms/step - accuracy: 0.7641 - loss: 4.0756\n",
      "Epoch 85: val_accuracy did not improve from 0.35614\n",
      "\u001b[1m101/101\u001b[0m \u001b[32m━━━━━━━━━━━━━━━━━━━━\u001b[0m\u001b[37m\u001b[0m \u001b[1m75s\u001b[0m 746ms/step - accuracy: 0.7641 - loss: 4.0755 - val_accuracy: 0.3395 - val_loss: 8.2405\n",
      "Epoch 86/100\n",
      "\u001b[1m101/101\u001b[0m \u001b[32m━━━━━━━━━━━━━━━━━━━━\u001b[0m\u001b[37m\u001b[0m \u001b[1m0s\u001b[0m 740ms/step - accuracy: 0.7656 - loss: 4.0442\n",
      "Epoch 86: val_accuracy did not improve from 0.35614\n",
      "\u001b[1m101/101\u001b[0m \u001b[32m━━━━━━━━━━━━━━━━━━━━\u001b[0m\u001b[37m\u001b[0m \u001b[1m77s\u001b[0m 762ms/step - accuracy: 0.7656 - loss: 4.0442 - val_accuracy: 0.3386 - val_loss: 8.2315\n",
      "Epoch 87/100\n",
      "\u001b[1m101/101\u001b[0m \u001b[32m━━━━━━━━━━━━━━━━━━━━\u001b[0m\u001b[37m\u001b[0m \u001b[1m0s\u001b[0m 727ms/step - accuracy: 0.7644 - loss: 4.0515\n",
      "Epoch 87: val_accuracy did not improve from 0.35614\n",
      "\u001b[1m101/101\u001b[0m \u001b[32m━━━━━━━━━━━━━━━━━━━━\u001b[0m\u001b[37m\u001b[0m \u001b[1m76s\u001b[0m 749ms/step - accuracy: 0.7643 - loss: 4.0513 - val_accuracy: 0.3491 - val_loss: 8.1060\n",
      "Epoch 88/100\n",
      "\u001b[1m101/101\u001b[0m \u001b[32m━━━━━━━━━━━━━━━━━━━━\u001b[0m\u001b[37m\u001b[0m \u001b[1m0s\u001b[0m 726ms/step - accuracy: 0.7672 - loss: 4.0542\n",
      "Epoch 88: val_accuracy did not improve from 0.35614\n",
      "\u001b[1m101/101\u001b[0m \u001b[32m━━━━━━━━━━━━━━━━━━━━\u001b[0m\u001b[37m\u001b[0m \u001b[1m75s\u001b[0m 747ms/step - accuracy: 0.7671 - loss: 4.0541 - val_accuracy: 0.3430 - val_loss: 8.1596\n",
      "Epoch 89/100\n",
      "\u001b[1m101/101\u001b[0m \u001b[32m━━━━━━━━━━━━━━━━━━━━\u001b[0m\u001b[37m\u001b[0m \u001b[1m0s\u001b[0m 727ms/step - accuracy: 0.7668 - loss: 4.0446\n",
      "Epoch 89: val_accuracy did not improve from 0.35614\n",
      "\u001b[1m101/101\u001b[0m \u001b[32m━━━━━━━━━━━━━━━━━━━━\u001b[0m\u001b[37m\u001b[0m \u001b[1m76s\u001b[0m 749ms/step - accuracy: 0.7667 - loss: 4.0445 - val_accuracy: 0.3561 - val_loss: 8.1213\n",
      "Epoch 90/100\n",
      "\u001b[1m101/101\u001b[0m \u001b[32m━━━━━━━━━━━━━━━━━━━━\u001b[0m\u001b[37m\u001b[0m \u001b[1m0s\u001b[0m 727ms/step - accuracy: 0.7721 - loss: 4.0057\n",
      "Epoch 90: val_accuracy did not improve from 0.35614\n",
      "\u001b[1m101/101\u001b[0m \u001b[32m━━━━━━━━━━━━━━━━━━━━\u001b[0m\u001b[37m\u001b[0m \u001b[1m76s\u001b[0m 749ms/step - accuracy: 0.7721 - loss: 4.0058 - val_accuracy: 0.3421 - val_loss: 8.2579\n",
      "Epoch 91/100\n",
      "\u001b[1m101/101\u001b[0m \u001b[32m━━━━━━━━━━━━━━━━━━━━\u001b[0m\u001b[37m\u001b[0m \u001b[1m0s\u001b[0m 728ms/step - accuracy: 0.7591 - loss: 4.0226\n",
      "Epoch 91: val_accuracy did not improve from 0.35614\n",
      "\u001b[1m101/101\u001b[0m \u001b[32m━━━━━━━━━━━━━━━━━━━━\u001b[0m\u001b[37m\u001b[0m \u001b[1m76s\u001b[0m 751ms/step - accuracy: 0.7592 - loss: 4.0224 - val_accuracy: 0.3395 - val_loss: 8.3126\n",
      "Epoch 92/100\n",
      "\u001b[1m101/101\u001b[0m \u001b[32m━━━━━━━━━━━━━━━━━━━━\u001b[0m\u001b[37m\u001b[0m \u001b[1m0s\u001b[0m 736ms/step - accuracy: 0.7749 - loss: 3.9892\n",
      "Epoch 92: val_accuracy improved from 0.35614 to 0.35789, saving model to /kaggle/working/cmi_best_model.weights.h5\n",
      "\u001b[1m101/101\u001b[0m \u001b[32m━━━━━━━━━━━━━━━━━━━━\u001b[0m\u001b[37m\u001b[0m \u001b[1m77s\u001b[0m 758ms/step - accuracy: 0.7748 - loss: 3.9892 - val_accuracy: 0.3579 - val_loss: 8.1543\n",
      "Epoch 93/100\n",
      "\u001b[1m101/101\u001b[0m \u001b[32m━━━━━━━━━━━━━━━━━━━━\u001b[0m\u001b[37m\u001b[0m \u001b[1m0s\u001b[0m 729ms/step - accuracy: 0.7706 - loss: 4.0052\n",
      "Epoch 93: val_accuracy did not improve from 0.35789\n",
      "\u001b[1m101/101\u001b[0m \u001b[32m━━━━━━━━━━━━━━━━━━━━\u001b[0m\u001b[37m\u001b[0m \u001b[1m76s\u001b[0m 751ms/step - accuracy: 0.7706 - loss: 4.0052 - val_accuracy: 0.3509 - val_loss: 8.2131\n",
      "Epoch 94/100\n",
      "\u001b[1m101/101\u001b[0m \u001b[32m━━━━━━━━━━━━━━━━━━━━\u001b[0m\u001b[37m\u001b[0m \u001b[1m0s\u001b[0m 730ms/step - accuracy: 0.7827 - loss: 3.9626\n",
      "Epoch 94: val_accuracy did not improve from 0.35789\n",
      "\u001b[1m101/101\u001b[0m \u001b[32m━━━━━━━━━━━━━━━━━━━━\u001b[0m\u001b[37m\u001b[0m \u001b[1m76s\u001b[0m 752ms/step - accuracy: 0.7827 - loss: 3.9626 - val_accuracy: 0.3272 - val_loss: 8.3877\n",
      "Epoch 95/100\n",
      "\u001b[1m101/101\u001b[0m \u001b[32m━━━━━━━━━━━━━━━━━━━━\u001b[0m\u001b[37m\u001b[0m \u001b[1m0s\u001b[0m 727ms/step - accuracy: 0.7745 - loss: 3.9810\n",
      "Epoch 95: val_accuracy did not improve from 0.35789\n",
      "\u001b[1m101/101\u001b[0m \u001b[32m━━━━━━━━━━━━━━━━━━━━\u001b[0m\u001b[37m\u001b[0m \u001b[1m76s\u001b[0m 749ms/step - accuracy: 0.7745 - loss: 3.9807 - val_accuracy: 0.3544 - val_loss: 8.2839\n",
      "Epoch 96/100\n",
      "\u001b[1m101/101\u001b[0m \u001b[32m━━━━━━━━━━━━━━━━━━━━\u001b[0m\u001b[37m\u001b[0m \u001b[1m0s\u001b[0m 726ms/step - accuracy: 0.7749 - loss: 4.0113\n",
      "Epoch 96: val_accuracy did not improve from 0.35789\n",
      "\u001b[1m101/101\u001b[0m \u001b[32m━━━━━━━━━━━━━━━━━━━━\u001b[0m\u001b[37m\u001b[0m \u001b[1m75s\u001b[0m 747ms/step - accuracy: 0.7749 - loss: 4.0111 - val_accuracy: 0.3518 - val_loss: 8.3791\n",
      "Epoch 97/100\n",
      "\u001b[1m101/101\u001b[0m \u001b[32m━━━━━━━━━━━━━━━━━━━━\u001b[0m\u001b[37m\u001b[0m \u001b[1m0s\u001b[0m 725ms/step - accuracy: 0.7831 - loss: 3.9825\n",
      "Epoch 97: val_accuracy did not improve from 0.35789\n",
      "\u001b[1m101/101\u001b[0m \u001b[32m━━━━━━━━━━━━━━━━━━━━\u001b[0m\u001b[37m\u001b[0m \u001b[1m76s\u001b[0m 747ms/step - accuracy: 0.7830 - loss: 3.9825 - val_accuracy: 0.3474 - val_loss: 8.2641\n",
      "Epoch 98/100\n",
      "\u001b[1m101/101\u001b[0m \u001b[32m━━━━━━━━━━━━━━━━━━━━\u001b[0m\u001b[37m\u001b[0m \u001b[1m0s\u001b[0m 724ms/step - accuracy: 0.7796 - loss: 3.9735\n",
      "Epoch 98: val_accuracy did not improve from 0.35789\n",
      "\u001b[1m101/101\u001b[0m \u001b[32m━━━━━━━━━━━━━━━━━━━━\u001b[0m\u001b[37m\u001b[0m \u001b[1m75s\u001b[0m 746ms/step - accuracy: 0.7795 - loss: 3.9736 - val_accuracy: 0.3439 - val_loss: 8.4215\n",
      "Epoch 99/100\n",
      "\u001b[1m101/101\u001b[0m \u001b[32m━━━━━━━━━━━━━━━━━━━━\u001b[0m\u001b[37m\u001b[0m \u001b[1m0s\u001b[0m 722ms/step - accuracy: 0.7869 - loss: 3.9542\n",
      "Epoch 99: val_accuracy did not improve from 0.35789\n",
      "\u001b[1m101/101\u001b[0m \u001b[32m━━━━━━━━━━━━━━━━━━━━\u001b[0m\u001b[37m\u001b[0m \u001b[1m75s\u001b[0m 745ms/step - accuracy: 0.7869 - loss: 3.9539 - val_accuracy: 0.3526 - val_loss: 8.1830\n",
      "Epoch 100/100\n",
      "\u001b[1m101/101\u001b[0m \u001b[32m━━━━━━━━━━━━━━━━━━━━\u001b[0m\u001b[37m\u001b[0m \u001b[1m0s\u001b[0m 725ms/step - accuracy: 0.7801 - loss: 3.9867\n",
      "Epoch 100: val_accuracy did not improve from 0.35789\n",
      "\u001b[1m101/101\u001b[0m \u001b[32m━━━━━━━━━━━━━━━━━━━━\u001b[0m\u001b[37m\u001b[0m \u001b[1m76s\u001b[0m 747ms/step - accuracy: 0.7801 - loss: 3.9865 - val_accuracy: 0.3456 - val_loss: 8.2876\n"
     ]
    }
   ],
   "source": [
    "from tensorflow.keras.callbacks import ModelCheckpoint, LearningRateScheduler\n",
    "checkpoint_filepath = \"/kaggle/working/cmi_best_model.weights.h5\"\n",
    "checkpoint_callback = ModelCheckpoint(\n",
    "    filepath=checkpoint_filepath,\n",
    "    monitor=\"val_accuracy\",\n",
    "    save_best_only=True,\n",
    "    save_weights_only=True,\n",
    "    mode=\"max\",\n",
    "    verbose=1\n",
    ")\n",
    "\n",
    "lr_callback = LearningRateScheduler(scheduler, verbose=0)\n",
    "\n",
    "history = model.fit(gesture_train_ds, epochs=100, \n",
    "                    validation_data=gesture_valid_ds,\n",
    "                    callbacks=[checkpoint_callback])\n",
    "model.load_weights(checkpoint_filepath)"
   ]
  },
  {
   "cell_type": "code",
   "execution_count": 14,
   "id": "0b5ec851",
   "metadata": {
    "execution": {
     "iopub.execute_input": "2025-08-11T09:50:48.121054Z",
     "iopub.status.busy": "2025-08-11T09:50:48.120430Z",
     "iopub.status.idle": "2025-08-11T09:50:48.128343Z",
     "shell.execute_reply": "2025-08-11T09:50:48.127818Z"
    },
    "papermill": {
     "duration": 0.441665,
     "end_time": "2025-08-11T09:50:48.129559",
     "exception": false,
     "start_time": "2025-08-11T09:50:47.687894",
     "status": "completed"
    },
    "tags": []
   },
   "outputs": [],
   "source": [
    "import json\n",
    "\n",
    "with open('/kaggle/input/cmi-tf-datasets/mapping.json') as f:\n",
    "    mapping_dict = json.load(f)\n",
    "\n",
    "gesture_mapping = mapping_dict[\"gesture_mapping\"]\n",
    "inv_gesture_mapping = {value: key for key, value in gesture_mapping.items()}\n",
    "\n",
    "num2gesture = np.vectorize(lambda x: inv_gesture_mapping[x])"
   ]
  },
  {
   "cell_type": "code",
   "execution_count": 15,
   "id": "1a09b336",
   "metadata": {
    "execution": {
     "iopub.execute_input": "2025-08-11T09:50:49.060881Z",
     "iopub.status.busy": "2025-08-11T09:50:49.060602Z",
     "iopub.status.idle": "2025-08-11T09:50:49.065744Z",
     "shell.execute_reply": "2025-08-11T09:50:49.065120Z"
    },
    "papermill": {
     "duration": 0.439503,
     "end_time": "2025-08-11T09:50:49.066950",
     "exception": false,
     "start_time": "2025-08-11T09:50:48.627447",
     "status": "completed"
    },
    "tags": []
   },
   "outputs": [],
   "source": [
    "non_target_gestures = [\"Drink from bottle/cup\", \"Glasses on/off\", \"Pull air toward your face\",\n",
    "                       \"Pinch knee/leg skin\", \"Scratch knee/leg skin\", \"Write name on leg\",\n",
    "                       \"Text on phone\", \"Feel around in tray and pull out an object\",\n",
    "                       \"Write name in air\", \"Wave hello\"]\n",
    "\n",
    "def map_non_target(y_ind):\n",
    "    y_pred = inv_gesture_mapping[y_ind]\n",
    "    if y_ind == 3:\n",
    "        y_ind = 2\n",
    "    elif y_ind == 4:\n",
    "        y_ind = 3\n",
    "    elif y_ind == 6:\n",
    "        y_ind = 4\n",
    "    elif y_ind == 7:\n",
    "        y_ind = 5\n",
    "    elif y_ind == 9:\n",
    "        y_ind = 6\n",
    "    elif y_ind == 10:\n",
    "        y_ind = 7\n",
    "    if y_pred in non_target_gestures:\n",
    "        y_ind = 8\n",
    "    return y_ind\n",
    "\n",
    "vectorize_map_non_target = np.vectorize(map_non_target)"
   ]
  },
  {
   "cell_type": "code",
   "execution_count": 16,
   "id": "17edb106",
   "metadata": {
    "execution": {
     "iopub.execute_input": "2025-08-11T09:50:49.977036Z",
     "iopub.status.busy": "2025-08-11T09:50:49.976766Z",
     "iopub.status.idle": "2025-08-11T09:51:34.951596Z",
     "shell.execute_reply": "2025-08-11T09:51:34.950960Z"
    },
    "papermill": {
     "duration": 45.467689,
     "end_time": "2025-08-11T09:51:34.952975",
     "exception": false,
     "start_time": "2025-08-11T09:50:49.485286",
     "status": "completed"
    },
    "tags": []
   },
   "outputs": [],
   "source": [
    "conf_tensor = np.zeros((9, 9), dtype=np.int32)\n",
    "for i, (inputs, labels) in enumerate(gesture_valid_ds):\n",
    "    labels_pred = model.predict(inputs, verbose=0)\n",
    "    labels_pred = tf.argmax(labels_pred, axis=-1).numpy()\n",
    "    labels_pred = vectorize_map_non_target(labels_pred)\n",
    "    labels_true = tf.argmax(labels, axis=-1).numpy()\n",
    "    labels_true = vectorize_map_non_target(labels_true)\n",
    "    conf_tensor += tf.math.confusion_matrix(labels_true, labels_pred, num_classes=9)"
   ]
  },
  {
   "cell_type": "code",
   "execution_count": 17,
   "id": "ea68333d",
   "metadata": {
    "execution": {
     "iopub.execute_input": "2025-08-11T09:51:35.794332Z",
     "iopub.status.busy": "2025-08-11T09:51:35.794050Z",
     "iopub.status.idle": "2025-08-11T09:51:35.845043Z",
     "shell.execute_reply": "2025-08-11T09:51:35.844418Z"
    },
    "papermill": {
     "duration": 0.472375,
     "end_time": "2025-08-11T09:51:35.846153",
     "exception": false,
     "start_time": "2025-08-11T09:51:35.373778",
     "status": "completed"
    },
    "tags": []
   },
   "outputs": [
    {
     "name": "stdout",
     "output_type": "stream",
     "text": [
      "F1 score mean: 0.277\n"
     ]
    }
   ],
   "source": [
    "precisions = []\n",
    "recalls = []\n",
    "f1s = []\n",
    "\n",
    "for i in range(9):\n",
    "    column = conf_tensor[i, :]\n",
    "    row = conf_tensor[:, i]\n",
    "    precision = column[i] / tf.math.reduce_sum(column)\n",
    "    recall = row[i] / tf.math.reduce_sum(row)\n",
    "    inv_f1 = (1/precision + 1/recall)/2\n",
    "    f1 = 1/inv_f1\n",
    "    precisions.append(precision)\n",
    "    recalls.append(recall)\n",
    "    f1s.append(f1)\n",
    "print(f\"F1 score mean: {np.round(np.mean(f1s), 3)}\")"
   ]
  },
  {
   "cell_type": "code",
   "execution_count": 18,
   "id": "8bfc2803",
   "metadata": {
    "execution": {
     "iopub.execute_input": "2025-08-11T09:51:36.790403Z",
     "iopub.status.busy": "2025-08-11T09:51:36.790069Z",
     "iopub.status.idle": "2025-08-11T09:51:36.793408Z",
     "shell.execute_reply": "2025-08-11T09:51:36.792857Z"
    },
    "papermill": {
     "duration": 0.520926,
     "end_time": "2025-08-11T09:51:36.794469",
     "exception": false,
     "start_time": "2025-08-11T09:51:36.273543",
     "status": "completed"
    },
    "tags": []
   },
   "outputs": [],
   "source": [
    "# import os\n",
    "# save_path = os.path.join(\"/kaggle/working/\", \"cmi_model.weights.h5\")\n",
    "# model.save_weights(save_path)"
   ]
  },
  {
   "cell_type": "code",
   "execution_count": 19,
   "id": "7c2f7703",
   "metadata": {
    "execution": {
     "iopub.execute_input": "2025-08-11T09:51:37.635645Z",
     "iopub.status.busy": "2025-08-11T09:51:37.635354Z",
     "iopub.status.idle": "2025-08-11T09:51:37.794846Z",
     "shell.execute_reply": "2025-08-11T09:51:37.794136Z"
    },
    "papermill": {
     "duration": 0.581546,
     "end_time": "2025-08-11T09:51:37.796338",
     "exception": false,
     "start_time": "2025-08-11T09:51:37.214792",
     "status": "completed"
    },
    "tags": []
   },
   "outputs": [
    {
     "data": {
      "text/html": [
       "<pre style=\"white-space:pre;overflow-x:auto;line-height:normal;font-family:Menlo,'DejaVu Sans Mono',consolas,'Courier New',monospace\"><span style=\"font-weight: bold\">Model: \"rnn_model_1\"</span>\n",
       "</pre>\n"
      ],
      "text/plain": [
       "\u001b[1mModel: \"rnn_model_1\"\u001b[0m\n"
      ]
     },
     "metadata": {},
     "output_type": "display_data"
    },
    {
     "data": {
      "text/html": [
       "<pre style=\"white-space:pre;overflow-x:auto;line-height:normal;font-family:Menlo,'DejaVu Sans Mono',consolas,'Courier New',monospace\">┏━━━━━━━━━━━━━━━━━━━━━━━━━━━━━━━━━┳━━━━━━━━━━━━━━━━━━━━━━━━┳━━━━━━━━━━━━━━━┓\n",
       "┃<span style=\"font-weight: bold\"> Layer (type)                    </span>┃<span style=\"font-weight: bold\"> Output Shape           </span>┃<span style=\"font-weight: bold\">       Param # </span>┃\n",
       "┡━━━━━━━━━━━━━━━━━━━━━━━━━━━━━━━━━╇━━━━━━━━━━━━━━━━━━━━━━━━╇━━━━━━━━━━━━━━━┩\n",
       "│ conv2d_net_0 (<span style=\"color: #0087ff; text-decoration-color: #0087ff\">Sequential</span>)       │ (<span style=\"color: #00d7ff; text-decoration-color: #00d7ff\">None</span>, <span style=\"color: #00af00; text-decoration-color: #00af00\">150</span>, <span style=\"color: #00af00; text-decoration-color: #00af00\">4</span>, <span style=\"color: #00af00; text-decoration-color: #00af00\">4</span>, <span style=\"color: #00af00; text-decoration-color: #00af00\">8</span>)   │           <span style=\"color: #00af00; text-decoration-color: #00af00\">392</span> │\n",
       "├─────────────────────────────────┼────────────────────────┼───────────────┤\n",
       "│ conv2d_net_1 (<span style=\"color: #0087ff; text-decoration-color: #0087ff\">Sequential</span>)       │ (<span style=\"color: #00d7ff; text-decoration-color: #00d7ff\">None</span>, <span style=\"color: #00af00; text-decoration-color: #00af00\">150</span>, <span style=\"color: #00af00; text-decoration-color: #00af00\">2</span>, <span style=\"color: #00af00; text-decoration-color: #00af00\">2</span>, <span style=\"color: #00af00; text-decoration-color: #00af00\">16</span>)  │         <span style=\"color: #00af00; text-decoration-color: #00af00\">1,216</span> │\n",
       "├─────────────────────────────────┼────────────────────────┼───────────────┤\n",
       "│ global_maxpool2d                │ (<span style=\"color: #00d7ff; text-decoration-color: #00d7ff\">None</span>, <span style=\"color: #00af00; text-decoration-color: #00af00\">150</span>, <span style=\"color: #00af00; text-decoration-color: #00af00\">16</span>)        │             <span style=\"color: #00af00; text-decoration-color: #00af00\">0</span> │\n",
       "│ (<span style=\"color: #0087ff; text-decoration-color: #0087ff\">TimeDistributed</span>)               │                        │               │\n",
       "├─────────────────────────────────┼────────────────────────┼───────────────┤\n",
       "│ masking_1 (<span style=\"color: #0087ff; text-decoration-color: #0087ff\">Masking</span>)             │ (<span style=\"color: #00d7ff; text-decoration-color: #00d7ff\">None</span>, <span style=\"color: #00d7ff; text-decoration-color: #00d7ff\">None</span>, <span style=\"color: #00af00; text-decoration-color: #00af00\">19</span>)       │             <span style=\"color: #00af00; text-decoration-color: #00af00\">0</span> │\n",
       "├─────────────────────────────────┼────────────────────────┼───────────────┤\n",
       "│ LSTM_1_layers (<span style=\"color: #0087ff; text-decoration-color: #0087ff\">Sequential</span>)      │ (<span style=\"color: #00d7ff; text-decoration-color: #00d7ff\">None</span>, <span style=\"color: #00af00; text-decoration-color: #00af00\">64</span>)             │        <span style=\"color: #00af00; text-decoration-color: #00af00\">25,600</span> │\n",
       "├─────────────────────────────────┼────────────────────────┼───────────────┤\n",
       "│ dense_3 (<span style=\"color: #0087ff; text-decoration-color: #0087ff\">Dense</span>)                 │ (<span style=\"color: #00d7ff; text-decoration-color: #00d7ff\">None</span>, <span style=\"color: #00af00; text-decoration-color: #00af00\">128</span>)            │        <span style=\"color: #00af00; text-decoration-color: #00af00\">10,496</span> │\n",
       "├─────────────────────────────────┼────────────────────────┼───────────────┤\n",
       "│ dense_4 (<span style=\"color: #0087ff; text-decoration-color: #0087ff\">Dense</span>)                 │ (<span style=\"color: #00d7ff; text-decoration-color: #00d7ff\">None</span>, <span style=\"color: #00af00; text-decoration-color: #00af00\">1</span>)              │           <span style=\"color: #00af00; text-decoration-color: #00af00\">129</span> │\n",
       "├─────────────────────────────────┼────────────────────────┼───────────────┤\n",
       "│ dense_5 (<span style=\"color: #0087ff; text-decoration-color: #0087ff\">Dense</span>)                 │ (<span style=\"color: #00d7ff; text-decoration-color: #00d7ff\">None</span>, <span style=\"color: #00af00; text-decoration-color: #00af00\">18</span>)             │         <span style=\"color: #00af00; text-decoration-color: #00af00\">2,322</span> │\n",
       "└─────────────────────────────────┴────────────────────────┴───────────────┘\n",
       "</pre>\n"
      ],
      "text/plain": [
       "┏━━━━━━━━━━━━━━━━━━━━━━━━━━━━━━━━━┳━━━━━━━━━━━━━━━━━━━━━━━━┳━━━━━━━━━━━━━━━┓\n",
       "┃\u001b[1m \u001b[0m\u001b[1mLayer (type)                   \u001b[0m\u001b[1m \u001b[0m┃\u001b[1m \u001b[0m\u001b[1mOutput Shape          \u001b[0m\u001b[1m \u001b[0m┃\u001b[1m \u001b[0m\u001b[1m      Param #\u001b[0m\u001b[1m \u001b[0m┃\n",
       "┡━━━━━━━━━━━━━━━━━━━━━━━━━━━━━━━━━╇━━━━━━━━━━━━━━━━━━━━━━━━╇━━━━━━━━━━━━━━━┩\n",
       "│ conv2d_net_0 (\u001b[38;5;33mSequential\u001b[0m)       │ (\u001b[38;5;45mNone\u001b[0m, \u001b[38;5;34m150\u001b[0m, \u001b[38;5;34m4\u001b[0m, \u001b[38;5;34m4\u001b[0m, \u001b[38;5;34m8\u001b[0m)   │           \u001b[38;5;34m392\u001b[0m │\n",
       "├─────────────────────────────────┼────────────────────────┼───────────────┤\n",
       "│ conv2d_net_1 (\u001b[38;5;33mSequential\u001b[0m)       │ (\u001b[38;5;45mNone\u001b[0m, \u001b[38;5;34m150\u001b[0m, \u001b[38;5;34m2\u001b[0m, \u001b[38;5;34m2\u001b[0m, \u001b[38;5;34m16\u001b[0m)  │         \u001b[38;5;34m1,216\u001b[0m │\n",
       "├─────────────────────────────────┼────────────────────────┼───────────────┤\n",
       "│ global_maxpool2d                │ (\u001b[38;5;45mNone\u001b[0m, \u001b[38;5;34m150\u001b[0m, \u001b[38;5;34m16\u001b[0m)        │             \u001b[38;5;34m0\u001b[0m │\n",
       "│ (\u001b[38;5;33mTimeDistributed\u001b[0m)               │                        │               │\n",
       "├─────────────────────────────────┼────────────────────────┼───────────────┤\n",
       "│ masking_1 (\u001b[38;5;33mMasking\u001b[0m)             │ (\u001b[38;5;45mNone\u001b[0m, \u001b[38;5;45mNone\u001b[0m, \u001b[38;5;34m19\u001b[0m)       │             \u001b[38;5;34m0\u001b[0m │\n",
       "├─────────────────────────────────┼────────────────────────┼───────────────┤\n",
       "│ LSTM_1_layers (\u001b[38;5;33mSequential\u001b[0m)      │ (\u001b[38;5;45mNone\u001b[0m, \u001b[38;5;34m64\u001b[0m)             │        \u001b[38;5;34m25,600\u001b[0m │\n",
       "├─────────────────────────────────┼────────────────────────┼───────────────┤\n",
       "│ dense_3 (\u001b[38;5;33mDense\u001b[0m)                 │ (\u001b[38;5;45mNone\u001b[0m, \u001b[38;5;34m128\u001b[0m)            │        \u001b[38;5;34m10,496\u001b[0m │\n",
       "├─────────────────────────────────┼────────────────────────┼───────────────┤\n",
       "│ dense_4 (\u001b[38;5;33mDense\u001b[0m)                 │ (\u001b[38;5;45mNone\u001b[0m, \u001b[38;5;34m1\u001b[0m)              │           \u001b[38;5;34m129\u001b[0m │\n",
       "├─────────────────────────────────┼────────────────────────┼───────────────┤\n",
       "│ dense_5 (\u001b[38;5;33mDense\u001b[0m)                 │ (\u001b[38;5;45mNone\u001b[0m, \u001b[38;5;34m18\u001b[0m)             │         \u001b[38;5;34m2,322\u001b[0m │\n",
       "└─────────────────────────────────┴────────────────────────┴───────────────┘\n"
      ]
     },
     "metadata": {},
     "output_type": "display_data"
    },
    {
     "data": {
      "text/html": [
       "<pre style=\"white-space:pre;overflow-x:auto;line-height:normal;font-family:Menlo,'DejaVu Sans Mono',consolas,'Courier New',monospace\"><span style=\"font-weight: bold\"> Total params: </span><span style=\"color: #00af00; text-decoration-color: #00af00\">40,155</span> (156.86 KB)\n",
       "</pre>\n"
      ],
      "text/plain": [
       "\u001b[1m Total params: \u001b[0m\u001b[38;5;34m40,155\u001b[0m (156.86 KB)\n"
      ]
     },
     "metadata": {},
     "output_type": "display_data"
    },
    {
     "data": {
      "text/html": [
       "<pre style=\"white-space:pre;overflow-x:auto;line-height:normal;font-family:Menlo,'DejaVu Sans Mono',consolas,'Courier New',monospace\"><span style=\"font-weight: bold\"> Trainable params: </span><span style=\"color: #00af00; text-decoration-color: #00af00\">40,107</span> (156.67 KB)\n",
       "</pre>\n"
      ],
      "text/plain": [
       "\u001b[1m Trainable params: \u001b[0m\u001b[38;5;34m40,107\u001b[0m (156.67 KB)\n"
      ]
     },
     "metadata": {},
     "output_type": "display_data"
    },
    {
     "data": {
      "text/html": [
       "<pre style=\"white-space:pre;overflow-x:auto;line-height:normal;font-family:Menlo,'DejaVu Sans Mono',consolas,'Courier New',monospace\"><span style=\"font-weight: bold\"> Non-trainable params: </span><span style=\"color: #00af00; text-decoration-color: #00af00\">48</span> (192.00 B)\n",
       "</pre>\n"
      ],
      "text/plain": [
       "\u001b[1m Non-trainable params: \u001b[0m\u001b[38;5;34m48\u001b[0m (192.00 B)\n"
      ]
     },
     "metadata": {},
     "output_type": "display_data"
    }
   ],
   "source": [
    "new_model = RNNModel(kernel_size2d=3, filters_2d=[8, 16], dropout=0.2,\n",
    "                     num_rnn_layers=1, rnn_hidden_size=64, mode=\"LSTM\", \n",
    "                     bidirectional=False, hidden_size=128, regularizer=\"l1l2\", \n",
    "                     l1_penalty=1e-6, l2_penalty=1e-5, binary=False)\n",
    "new_model.build(input_shapes=((None, 150, 8, 8, 5), (None, None, 19), (None, 17)))\n",
    "new_model.load_weights(checkpoint_filepath)\n",
    "new_model.summary()"
   ]
  }
 ],
 "metadata": {
  "kaggle": {
   "accelerator": "gpu",
   "dataSources": [
    {
     "databundleVersionId": 12518947,
     "sourceId": 102335,
     "sourceType": "competition"
    },
    {
     "datasetId": 7856290,
     "sourceId": 12724267,
     "sourceType": "datasetVersion"
    },
    {
     "datasetId": 8037036,
     "sourceId": 12726692,
     "sourceType": "datasetVersion"
    }
   ],
   "dockerImageVersionId": 31089,
   "isGpuEnabled": true,
   "isInternetEnabled": false,
   "language": "python",
   "sourceType": "notebook"
  },
  "kernelspec": {
   "display_name": "Python 3",
   "language": "python",
   "name": "python3"
  },
  "language_info": {
   "codemirror_mode": {
    "name": "ipython",
    "version": 3
   },
   "file_extension": ".py",
   "mimetype": "text/x-python",
   "name": "python",
   "nbconvert_exporter": "python",
   "pygments_lexer": "ipython3",
   "version": "3.11.13"
  },
  "papermill": {
   "default_parameters": {},
   "duration": 7790.899426,
   "end_time": "2025-08-11T09:51:41.418287",
   "environment_variables": {},
   "exception": null,
   "input_path": "__notebook__.ipynb",
   "output_path": "__notebook__.ipynb",
   "parameters": {},
   "start_time": "2025-08-11T07:41:50.518861",
   "version": "2.6.0"
  }
 },
 "nbformat": 4,
 "nbformat_minor": 5
}
