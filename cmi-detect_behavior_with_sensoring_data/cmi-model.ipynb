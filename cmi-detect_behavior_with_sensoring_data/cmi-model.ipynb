{
 "cells": [
  {
   "cell_type": "code",
   "execution_count": 1,
   "id": "2257e2d9",
   "metadata": {
    "execution": {
     "iopub.execute_input": "2025-08-03T02:51:22.813635Z",
     "iopub.status.busy": "2025-08-03T02:51:22.812809Z",
     "iopub.status.idle": "2025-08-03T02:51:39.400905Z",
     "shell.execute_reply": "2025-08-03T02:51:39.399930Z"
    },
    "papermill": {
     "duration": 16.594958,
     "end_time": "2025-08-03T02:51:39.402325",
     "exception": false,
     "start_time": "2025-08-03T02:51:22.807367",
     "status": "completed"
    },
    "tags": []
   },
   "outputs": [
    {
     "name": "stderr",
     "output_type": "stream",
     "text": [
      "2025-08-03 02:51:24.486701: E external/local_xla/xla/stream_executor/cuda/cuda_fft.cc:477] Unable to register cuFFT factory: Attempting to register factory for plugin cuFFT when one has already been registered\n",
      "WARNING: All log messages before absl::InitializeLog() is called are written to STDERR\n",
      "E0000 00:00:1754189484.695348      19 cuda_dnn.cc:8310] Unable to register cuDNN factory: Attempting to register factory for plugin cuDNN when one has already been registered\n",
      "E0000 00:00:1754189484.754081      19 cuda_blas.cc:1418] Unable to register cuBLAS factory: Attempting to register factory for plugin cuBLAS when one has already been registered\n",
      "I0000 00:00:1754189499.222506      19 gpu_device.cc:2022] Created device /job:localhost/replica:0/task:0/device:GPU:0 with 15513 MB memory:  -> device: 0, name: Tesla P100-PCIE-16GB, pci bus id: 0000:00:04.0, compute capability: 6.0\n"
     ]
    }
   ],
   "source": [
    "import tensorflow as tf\n",
    "from tensorflow.keras import Model\n",
    "import numpy as np\n",
    "import pandas as pd\n",
    "import warnings\n",
    "warnings.filterwarnings(\"ignore\")\n",
    "\n",
    "tf.random.set_seed(42)\n",
    "type_train_ds = tf.data.experimental.load(\"/kaggle/input/cmi-tf-datasets/type_train_ds\")\n",
    "type_valid_ds = tf.data.experimental.load(\"/kaggle/input/cmi-tf-datasets/type_valid_ds\")\n",
    "gesture_train_ds = tf.data.experimental.load(\"/kaggle/input/cmi-tf-datasets/gesture_train_ds\")\n",
    "gesture_valid_ds = tf.data.experimental.load(\"/kaggle/input/cmi-tf-datasets/gesture_valid_ds\")\n",
    "test_ds = tf.data.experimental.load(\"/kaggle/input/cmi-tf-datasets/test_ds\")"
   ]
  },
  {
   "cell_type": "code",
   "execution_count": 2,
   "id": "10ede8c7",
   "metadata": {
    "execution": {
     "iopub.execute_input": "2025-08-03T02:51:39.410357Z",
     "iopub.status.busy": "2025-08-03T02:51:39.409905Z",
     "iopub.status.idle": "2025-08-03T02:51:39.413203Z",
     "shell.execute_reply": "2025-08-03T02:51:39.412686Z"
    },
    "papermill": {
     "duration": 0.008264,
     "end_time": "2025-08-03T02:51:39.414285",
     "exception": false,
     "start_time": "2025-08-03T02:51:39.406021",
     "status": "completed"
    },
    "tags": []
   },
   "outputs": [],
   "source": [
    "# print(\"Num GPUs Available: \", len(tf.config.list_physical_devices('GPU')))"
   ]
  },
  {
   "cell_type": "code",
   "execution_count": 3,
   "id": "06545fc3",
   "metadata": {
    "execution": {
     "iopub.execute_input": "2025-08-03T02:51:39.421437Z",
     "iopub.status.busy": "2025-08-03T02:51:39.421164Z",
     "iopub.status.idle": "2025-08-03T02:51:39.426476Z",
     "shell.execute_reply": "2025-08-03T02:51:39.425741Z"
    },
    "papermill": {
     "duration": 0.010104,
     "end_time": "2025-08-03T02:51:39.427561",
     "exception": false,
     "start_time": "2025-08-03T02:51:39.417457",
     "status": "completed"
    },
    "tags": []
   },
   "outputs": [
    {
     "name": "stdout",
     "output_type": "stream",
     "text": [
      "190\n",
      "48\n",
      "190\n",
      "48\n",
      "1\n"
     ]
    }
   ],
   "source": [
    "print(len(type_train_ds))\n",
    "print(len(type_valid_ds))\n",
    "print(len(gesture_train_ds))\n",
    "print(len(gesture_valid_ds))\n",
    "\n",
    "print(len(test_ds))"
   ]
  },
  {
   "cell_type": "code",
   "execution_count": 4,
   "id": "c3e4e778",
   "metadata": {
    "execution": {
     "iopub.execute_input": "2025-08-03T02:51:39.434356Z",
     "iopub.status.busy": "2025-08-03T02:51:39.434154Z",
     "iopub.status.idle": "2025-08-03T02:51:39.712510Z",
     "shell.execute_reply": "2025-08-03T02:51:39.711802Z"
    },
    "papermill": {
     "duration": 0.283311,
     "end_time": "2025-08-03T02:51:39.713881",
     "exception": false,
     "start_time": "2025-08-03T02:51:39.430570",
     "status": "completed"
    },
    "tags": []
   },
   "outputs": [
    {
     "name": "stdout",
     "output_type": "stream",
     "text": [
      "(32, 100, 8, 8, 5)\n",
      "(32, 1)\n"
     ]
    }
   ],
   "source": [
    "for i, (inputs, targets) in enumerate(type_train_ds):\n",
    "    if i==0:\n",
    "        print(inputs[0].shape)\n",
    "        print(targets.shape)\n",
    "        break"
   ]
  },
  {
   "cell_type": "code",
   "execution_count": 5,
   "id": "83547fba",
   "metadata": {
    "execution": {
     "iopub.execute_input": "2025-08-03T02:51:39.722315Z",
     "iopub.status.busy": "2025-08-03T02:51:39.722104Z",
     "iopub.status.idle": "2025-08-03T02:51:39.743968Z",
     "shell.execute_reply": "2025-08-03T02:51:39.743426Z"
    },
    "papermill": {
     "duration": 0.027617,
     "end_time": "2025-08-03T02:51:39.745047",
     "exception": false,
     "start_time": "2025-08-03T02:51:39.717430",
     "status": "completed"
    },
    "tags": []
   },
   "outputs": [],
   "source": [
    "from tensorflow.keras.layers import Conv3D, Conv1D, BatchNormalization, TimeDistributed\n",
    "from tensorflow.keras.layers import MaxPool3D, GlobalMaxPool3D, AveragePooling1D, Dropout\n",
    "from tensorflow.keras.layers import SimpleRNN, LSTM, GRU, Bidirectional, Flatten, Dense\n",
    "from tensorflow.keras.layers import ReLU, ELU\n",
    "from tensorflow.keras.regularizers import L1, L2, L1L2\n",
    "from tensorflow.keras import Sequential\n",
    "\n",
    "# from keras.src import tree\n",
    "# from keras.src.trainers.data_adapters import data_adapter_utils\n",
    "# from keras.saving import register_keras_serializable\n",
    "\n",
    "# @register_keras_serializable(\"RNNModel\")\n",
    "class RNNModel(Model):\n",
    "    def __init__(self, kernel_size3d=3, kernel_size1d=3, filters_3d=[16, 32], dropout=0.2, \n",
    "                 filters_1d=[16, 32], rnn_hidden_size=32, mode=\"RNN\", bidirectional=False,\n",
    "                 hidden_size=64, regularizer=\"l1\", l1_penalty=0.1, l2_penalty=0.1, \n",
    "                 binary=True, **kwargs):\n",
    "        super().__init__(**kwargs)\n",
    "        self.hidden_size = hidden_size\n",
    "        \n",
    "        self.conv3d_nets = []\n",
    "        for i in range(len(filters_3d)):\n",
    "            conv3d_net = Sequential([\n",
    "                Conv3D(filters_3d[i], kernel_size3d, padding=\"same\"),\n",
    "                BatchNormalization(),\n",
    "                ReLU(),\n",
    "                MaxPool3D(pool_size=2, strides=2, padding=\"same\"),\n",
    "                Dropout(dropout)\n",
    "            ], name=f\"conv3d_net_{i}\")\n",
    "            self.conv3d_nets.append(conv3d_net)\n",
    "        self.global_maxpool = GlobalMaxPool3D()\n",
    "\n",
    "        self.conv1d_nets = []\n",
    "        for i in range(len(filters_1d)):\n",
    "            conv1d_net = Sequential([\n",
    "                Conv1D(filters_1d[i], kernel_size1d, padding=\"same\", kernel_initializer=\"he_normal\"),\n",
    "                BatchNormalization(),\n",
    "                ELU(),\n",
    "                AveragePooling1D(pool_size=2, strides=2, padding=\"same\"),\n",
    "                Dropout(dropout)\n",
    "            ], name=f\"conv1d_net_{i}\")\n",
    "            self.conv1d_nets.append(conv1d_net)\n",
    "\n",
    "        if mode == \"RNN\":\n",
    "            self.rnn = SimpleRNN(rnn_hidden_size, kernel_initializer=\"glorot_normal\", recurrent_initializer=\"orthogonal\", \n",
    "                                 dropout=dropout, recurrent_dropout=dropout, return_sequences=False)\n",
    "        elif mode == \"LSTM\":\n",
    "            self.rnn = LSTM(rnn_hidden_size, kernel_initializer=\"glorot_normal\", recurrent_initializer=\"orthogonal\", \n",
    "                            dropout=dropout, recurrent_dropout=dropout, return_sequences=False)\n",
    "        else:\n",
    "            self.rnn = GRU(rnn_hidden_size, kernel_initializer=\"glorot_normal\", recurrent_initializer=\"orthogonal\", \n",
    "                           dropout=dropout, recurrent_dropout=dropout, return_sequences=False)\n",
    "        \n",
    "        if bidirectional:\n",
    "            self.rnn = Bidirectional(self.rnn, name=mode)\n",
    "        \n",
    "        # self.dense_flat = Sequential([\n",
    "        #     Dense(1, activation=\"relu\"),\n",
    "        #     Flatten()\n",
    "        # ], name=\"dense_and_flatten\")\n",
    "\n",
    "        if regularizer == \"l1\":\n",
    "            self.dense0 = Dense(hidden_size, activation=\"relu\", \n",
    "                                kernel_regularizer=L1(l1_penalty),\n",
    "                                bias_regularizer=L1(l1_penalty))\n",
    "            self.dense1_0 = Dense(1, activation=\"sigmoid\",\n",
    "                                  kernel_regularizer=L1(l1_penalty),\n",
    "                                  bias_regularizer=L1(l1_penalty))\n",
    "            self.dense1_1 = Dense(18, activation=\"softmax\", kernel_initializer=\"glorot_normal\",\n",
    "                                  kernel_regularizer=L1(l1_penalty),\n",
    "                                  bias_regularizer=L1(l1_penalty))\n",
    "        elif regularizer == \"l2\":\n",
    "            self.dense0 = Dense(hidden_size, activation=\"relu\", \n",
    "                                kernel_regularizer=L2(l2_penalty),\n",
    "                                bias_regularizer=L2(l2_penalty))\n",
    "            self.dense1_0 = Dense(1, activation=\"sigmoid\", \n",
    "                                  kernel_regularizer=L2(l2_penalty),\n",
    "                                  bias_regularizer=L2(l2_penalty))\n",
    "            self.dense1_1 = Dense(18, activation=\"softmax\", kernel_initializer=\"glorot_normal\",\n",
    "                                  kernel_regularizer=L2(l2_penalty),\n",
    "                                  bias_regularizer=L2(l2_penalty))\n",
    "        elif regularizer == \"l1l2\":\n",
    "            self.dense0 = Dense(hidden_size, activation=\"relu\", \n",
    "                                kernel_regularizer=L1L2(l1_penalty, l2_penalty),\n",
    "                                bias_regularizer=L1L2(l1_penalty, l2_penalty))\n",
    "            self.dense1_0 = Dense(1, activation=\"sigmoid\", \n",
    "                                  kernel_regularizer=L1L2(l1_penalty, l2_penalty),\n",
    "                                  bias_regularizer=L1L2(l1_penalty, l2_penalty))\n",
    "            self.dense1_1 = Dense(18, activation=\"softmax\", kernel_initializer=\"glorot_normal\",\n",
    "                                  kernel_regularizer=L1L2(l1_penalty, l2_penalty),\n",
    "                                  bias_regularizer=L1L2(l1_penalty, l2_penalty))\n",
    "        else:\n",
    "            self.dense0 = Dense(hidden_size, activation=\"relu\")\n",
    "            self.dense1_0 = Dense(1, activation=\"sigmoid\")\n",
    "            self.dense1_1 = Dense(18, activation=\"softmax\")\n",
    "\n",
    "        self.binary = binary\n",
    "\n",
    "    def build(self, input_shapes, training=False):\n",
    "        image_shape = input_shapes[0]\n",
    "        for i in range(len(self.conv3d_nets)):\n",
    "            self.conv3d_nets[i].build(image_shape)\n",
    "            image_shape = self.conv3d_nets[i].compute_output_shape(image_shape)\n",
    "        self.global_maxpool.build(image_shape)\n",
    "        image_shape = self.global_maxpool.compute_output_shape(image_shape)\n",
    "\n",
    "        time_series_shape = input_shapes[1]\n",
    "        for i in range(len(self.conv1d_nets)):\n",
    "            self.conv1d_nets[i].build(time_series_shape)\n",
    "            time_series_shape = self.conv1d_nets[i].compute_output_shape(time_series_shape)\n",
    "\n",
    "        self.rnn.build(time_series_shape)\n",
    "        time_series_shape = self.rnn.compute_output_shape(time_series_shape)\n",
    "\n",
    "        # self.dense_flat.build(time_series_shape)\n",
    "        # time_series_shape = self.dense_flat.compute_output_shape(time_series_shape)\n",
    "\n",
    "        shape = (image_shape[0], image_shape[1] + time_series_shape[1] + input_shapes[2][1])\n",
    "        self.dense0.build(shape)\n",
    "        shape = self.dense0.compute_output_shape(shape)\n",
    "\n",
    "        self.dense1_0.build(shape)\n",
    "        self.dense1_1.build(shape)\n",
    "        \n",
    "\n",
    "    def call(self, inputs, training=False):\n",
    "        image_out = inputs[0]\n",
    "        for i in range(len(self.conv3d_nets)):\n",
    "            image_out = self.conv3d_nets[i](image_out, training=training)\n",
    "        image_out = self.global_maxpool(image_out)   # (batch, filters)\n",
    "\n",
    "        time_series_out = inputs[1]\n",
    "        for i in range(len(self.conv1d_nets)):\n",
    "            time_series_out = self.conv1d_nets[i](time_series_out, training=training)\n",
    "        \n",
    "        time_series_out = self.rnn(time_series_out, training=training)        # (batch, downsampled_timestep, rnn_hidden_size)\n",
    "        # time_series_out = self.dense_flat(time_series_out)                    # (batch, downsampled_timestep)\n",
    "\n",
    "        out = tf.concat([image_out, time_series_out, inputs[2]], axis=-1)\n",
    "        out = self.dense0(out)\n",
    "        if self.binary:\n",
    "            out = self.dense1_0(out)\n",
    "        else:\n",
    "            out = self.dense1_1(out)\n",
    "        return out\n",
    "\n",
    "    def set_binary(self):\n",
    "        self.binary = True\n",
    "        if self.dense1_0.build == False:\n",
    "            self.dense1_0.build(input_shape=(None, self.hidden_size))\n",
    "\n",
    "    def set_multi(self):\n",
    "        self.binary = False\n",
    "        if self.dense1_1.build == False:\n",
    "            self.dense1_1.build(input_shape=(None, self.hidden_size))\n",
    "\n",
    "    def freeze_conv_timeseries(self):\n",
    "        for i in range(len(self.conv2d_nets)):\n",
    "            self.conv3d_nets[i].trainable = False\n",
    "        for i in range(len(self.conv1d_nets)):\n",
    "            self.conv1d_nets[i].trainable = False\n",
    "        self.rnn.trainable = False"
   ]
  },
  {
   "cell_type": "code",
   "execution_count": 6,
   "id": "e7399505",
   "metadata": {
    "execution": {
     "iopub.execute_input": "2025-08-03T02:51:39.752108Z",
     "iopub.status.busy": "2025-08-03T02:51:39.751915Z",
     "iopub.status.idle": "2025-08-03T02:51:39.804661Z",
     "shell.execute_reply": "2025-08-03T02:51:39.803647Z"
    },
    "papermill": {
     "duration": 0.057592,
     "end_time": "2025-08-03T02:51:39.805872",
     "exception": false,
     "start_time": "2025-08-03T02:51:39.748280",
     "status": "completed"
    },
    "tags": []
   },
   "outputs": [
    {
     "name": "stdout",
     "output_type": "stream",
     "text": [
      "(32, 100, 8, 8, 5)\n",
      "(32, 100, 7)\n",
      "(32, 6)\n"
     ]
    }
   ],
   "source": [
    "for i, (inputs, targets) in enumerate(type_train_ds):\n",
    "    if i == 0:\n",
    "        print(inputs[0].shape)\n",
    "        print(inputs[1].shape)\n",
    "        print(inputs[2].shape)\n",
    "        break"
   ]
  },
  {
   "cell_type": "code",
   "execution_count": 7,
   "id": "2311cff0",
   "metadata": {
    "execution": {
     "iopub.execute_input": "2025-08-03T02:51:39.813276Z",
     "iopub.status.busy": "2025-08-03T02:51:39.813055Z",
     "iopub.status.idle": "2025-08-03T02:51:39.824081Z",
     "shell.execute_reply": "2025-08-03T02:51:39.823355Z"
    },
    "papermill": {
     "duration": 0.015952,
     "end_time": "2025-08-03T02:51:39.825220",
     "exception": false,
     "start_time": "2025-08-03T02:51:39.809268",
     "status": "completed"
    },
    "tags": []
   },
   "outputs": [],
   "source": [
    "import json\n",
    "\n",
    "with open('/kaggle/input/cmi-tf-datasets/sample_weight.json') as f:\n",
    "    sample_weight_dict = json.load(f)\n",
    "\n",
    "type_sample_weight = sample_weight_dict[\"type_sample_weight\"]\n",
    "type_class_weight = {0: type_sample_weight[0], 1: type_sample_weight[1]}\n",
    "\n",
    "gesture_sample_weight = sample_weight_dict[\"gesture_sample_weight\"]\n",
    "gesture_class_weight = {i: gesture_sample_weight[i] for i in range(len(gesture_sample_weight))}"
   ]
  },
  {
   "cell_type": "code",
   "execution_count": 8,
   "id": "382be38c",
   "metadata": {
    "execution": {
     "iopub.execute_input": "2025-08-03T02:51:39.833019Z",
     "iopub.status.busy": "2025-08-03T02:51:39.832624Z",
     "iopub.status.idle": "2025-08-03T02:51:39.836537Z",
     "shell.execute_reply": "2025-08-03T02:51:39.835873Z"
    },
    "papermill": {
     "duration": 0.008841,
     "end_time": "2025-08-03T02:51:39.837647",
     "exception": false,
     "start_time": "2025-08-03T02:51:39.828806",
     "status": "completed"
    },
    "tags": []
   },
   "outputs": [],
   "source": [
    "def add_type_sample_weight(x, y):\n",
    "    y_int = tf.cast(y, tf.int32)\n",
    "    weight = tf.gather([type_class_weight[0], type_class_weight[1]], y_int)\n",
    "    return x, y, weight\n",
    "\n",
    "def add_gesture_sample_weight(x, y):\n",
    "    y_arg = tf.argmax(y)\n",
    "    weight = tf.gather(gesture_sample_weight, y_arg)\n",
    "    return x, y, weight"
   ]
  },
  {
   "cell_type": "code",
   "execution_count": 9,
   "id": "93c6356a",
   "metadata": {
    "execution": {
     "iopub.execute_input": "2025-08-03T02:51:39.844710Z",
     "iopub.status.busy": "2025-08-03T02:51:39.844513Z",
     "iopub.status.idle": "2025-08-03T02:51:39.932719Z",
     "shell.execute_reply": "2025-08-03T02:51:39.931916Z"
    },
    "papermill": {
     "duration": 0.093248,
     "end_time": "2025-08-03T02:51:39.934050",
     "exception": false,
     "start_time": "2025-08-03T02:51:39.840802",
     "status": "completed"
    },
    "tags": []
   },
   "outputs": [],
   "source": [
    "type_train_ds = type_train_ds.unbatch().map(add_type_sample_weight).batch(16)\n",
    "type_valid_ds = type_valid_ds.unbatch().map(add_type_sample_weight).batch(16)"
   ]
  },
  {
   "cell_type": "code",
   "execution_count": 10,
   "id": "d917818d",
   "metadata": {
    "execution": {
     "iopub.execute_input": "2025-08-03T02:51:39.943151Z",
     "iopub.status.busy": "2025-08-03T02:51:39.942569Z",
     "iopub.status.idle": "2025-08-03T02:51:39.945656Z",
     "shell.execute_reply": "2025-08-03T02:51:39.945137Z"
    },
    "papermill": {
     "duration": 0.009056,
     "end_time": "2025-08-03T02:51:39.946782",
     "exception": false,
     "start_time": "2025-08-03T02:51:39.937726",
     "status": "completed"
    },
    "tags": []
   },
   "outputs": [],
   "source": [
    "# gesture_train_ds = gesture_train_ds.unbatch().map(add_gesture_sample_weight).batch(16)\n",
    "# gesture_valid_ds = gesture_valid_ds.unbatch().map(add_gesture_sample_weight).batch(16)"
   ]
  },
  {
   "cell_type": "code",
   "execution_count": 11,
   "id": "60b2a8ba",
   "metadata": {
    "execution": {
     "iopub.execute_input": "2025-08-03T02:51:39.953830Z",
     "iopub.status.busy": "2025-08-03T02:51:39.953603Z",
     "iopub.status.idle": "2025-08-03T02:51:41.486593Z",
     "shell.execute_reply": "2025-08-03T02:51:41.485923Z"
    },
    "papermill": {
     "duration": 1.537871,
     "end_time": "2025-08-03T02:51:41.487729",
     "exception": false,
     "start_time": "2025-08-03T02:51:39.949858",
     "status": "completed"
    },
    "tags": []
   },
   "outputs": [
    {
     "data": {
      "text/html": [
       "<pre style=\"white-space:pre;overflow-x:auto;line-height:normal;font-family:Menlo,'DejaVu Sans Mono',consolas,'Courier New',monospace\"><span style=\"font-weight: bold\">Model: \"rnn_model\"</span>\n",
       "</pre>\n"
      ],
      "text/plain": [
       "\u001b[1mModel: \"rnn_model\"\u001b[0m\n"
      ]
     },
     "metadata": {},
     "output_type": "display_data"
    },
    {
     "data": {
      "text/html": [
       "<pre style=\"white-space:pre;overflow-x:auto;line-height:normal;font-family:Menlo,'DejaVu Sans Mono',consolas,'Courier New',monospace\">┏━━━━━━━━━━━━━━━━━━━━━━━━━━━━━━━━━┳━━━━━━━━━━━━━━━━━━━━━━━━┳━━━━━━━━━━━━━━━┓\n",
       "┃<span style=\"font-weight: bold\"> Layer (type)                    </span>┃<span style=\"font-weight: bold\"> Output Shape           </span>┃<span style=\"font-weight: bold\">       Param # </span>┃\n",
       "┡━━━━━━━━━━━━━━━━━━━━━━━━━━━━━━━━━╇━━━━━━━━━━━━━━━━━━━━━━━━╇━━━━━━━━━━━━━━━┩\n",
       "│ conv3d_net_0 (<span style=\"color: #0087ff; text-decoration-color: #0087ff\">Sequential</span>)       │ (<span style=\"color: #00d7ff; text-decoration-color: #00d7ff\">None</span>, <span style=\"color: #00af00; text-decoration-color: #00af00\">50</span>, <span style=\"color: #00af00; text-decoration-color: #00af00\">4</span>, <span style=\"color: #00af00; text-decoration-color: #00af00\">4</span>, <span style=\"color: #00af00; text-decoration-color: #00af00\">16</span>)   │         <span style=\"color: #00af00; text-decoration-color: #00af00\">2,240</span> │\n",
       "├─────────────────────────────────┼────────────────────────┼───────────────┤\n",
       "│ conv3d_net_1 (<span style=\"color: #0087ff; text-decoration-color: #0087ff\">Sequential</span>)       │ (<span style=\"color: #00d7ff; text-decoration-color: #00d7ff\">None</span>, <span style=\"color: #00af00; text-decoration-color: #00af00\">25</span>, <span style=\"color: #00af00; text-decoration-color: #00af00\">2</span>, <span style=\"color: #00af00; text-decoration-color: #00af00\">2</span>, <span style=\"color: #00af00; text-decoration-color: #00af00\">32</span>)   │        <span style=\"color: #00af00; text-decoration-color: #00af00\">13,984</span> │\n",
       "├─────────────────────────────────┼────────────────────────┼───────────────┤\n",
       "│ global_max_pooling3d            │ (<span style=\"color: #00d7ff; text-decoration-color: #00d7ff\">None</span>, <span style=\"color: #00af00; text-decoration-color: #00af00\">32</span>)             │             <span style=\"color: #00af00; text-decoration-color: #00af00\">0</span> │\n",
       "│ (<span style=\"color: #0087ff; text-decoration-color: #0087ff\">GlobalMaxPooling3D</span>)            │                        │               │\n",
       "├─────────────────────────────────┼────────────────────────┼───────────────┤\n",
       "│ conv1d_net_0 (<span style=\"color: #0087ff; text-decoration-color: #0087ff\">Sequential</span>)       │ (<span style=\"color: #00d7ff; text-decoration-color: #00d7ff\">None</span>, <span style=\"color: #00af00; text-decoration-color: #00af00\">50</span>, <span style=\"color: #00af00; text-decoration-color: #00af00\">16</span>)         │           <span style=\"color: #00af00; text-decoration-color: #00af00\">416</span> │\n",
       "├─────────────────────────────────┼────────────────────────┼───────────────┤\n",
       "│ conv1d_net_1 (<span style=\"color: #0087ff; text-decoration-color: #0087ff\">Sequential</span>)       │ (<span style=\"color: #00d7ff; text-decoration-color: #00d7ff\">None</span>, <span style=\"color: #00af00; text-decoration-color: #00af00\">25</span>, <span style=\"color: #00af00; text-decoration-color: #00af00\">32</span>)         │         <span style=\"color: #00af00; text-decoration-color: #00af00\">1,696</span> │\n",
       "├─────────────────────────────────┼────────────────────────┼───────────────┤\n",
       "│ lstm (<span style=\"color: #0087ff; text-decoration-color: #0087ff\">LSTM</span>)                     │ ?                      │   <span style=\"color: #00af00; text-decoration-color: #00af00\">0</span> (unbuilt) │\n",
       "├─────────────────────────────────┼────────────────────────┼───────────────┤\n",
       "│ LSTM (<span style=\"color: #0087ff; text-decoration-color: #0087ff\">Bidirectional</span>)            │ (<span style=\"color: #00d7ff; text-decoration-color: #00d7ff\">None</span>, <span style=\"color: #00af00; text-decoration-color: #00af00\">128</span>)            │        <span style=\"color: #00af00; text-decoration-color: #00af00\">49,664</span> │\n",
       "├─────────────────────────────────┼────────────────────────┼───────────────┤\n",
       "│ dense (<span style=\"color: #0087ff; text-decoration-color: #0087ff\">Dense</span>)                   │ (<span style=\"color: #00d7ff; text-decoration-color: #00d7ff\">None</span>, <span style=\"color: #00af00; text-decoration-color: #00af00\">128</span>)            │        <span style=\"color: #00af00; text-decoration-color: #00af00\">21,376</span> │\n",
       "├─────────────────────────────────┼────────────────────────┼───────────────┤\n",
       "│ dense_1 (<span style=\"color: #0087ff; text-decoration-color: #0087ff\">Dense</span>)                 │ (<span style=\"color: #00d7ff; text-decoration-color: #00d7ff\">None</span>, <span style=\"color: #00af00; text-decoration-color: #00af00\">1</span>)              │           <span style=\"color: #00af00; text-decoration-color: #00af00\">129</span> │\n",
       "├─────────────────────────────────┼────────────────────────┼───────────────┤\n",
       "│ dense_2 (<span style=\"color: #0087ff; text-decoration-color: #0087ff\">Dense</span>)                 │ (<span style=\"color: #00d7ff; text-decoration-color: #00d7ff\">None</span>, <span style=\"color: #00af00; text-decoration-color: #00af00\">18</span>)             │         <span style=\"color: #00af00; text-decoration-color: #00af00\">2,322</span> │\n",
       "└─────────────────────────────────┴────────────────────────┴───────────────┘\n",
       "</pre>\n"
      ],
      "text/plain": [
       "┏━━━━━━━━━━━━━━━━━━━━━━━━━━━━━━━━━┳━━━━━━━━━━━━━━━━━━━━━━━━┳━━━━━━━━━━━━━━━┓\n",
       "┃\u001b[1m \u001b[0m\u001b[1mLayer (type)                   \u001b[0m\u001b[1m \u001b[0m┃\u001b[1m \u001b[0m\u001b[1mOutput Shape          \u001b[0m\u001b[1m \u001b[0m┃\u001b[1m \u001b[0m\u001b[1m      Param #\u001b[0m\u001b[1m \u001b[0m┃\n",
       "┡━━━━━━━━━━━━━━━━━━━━━━━━━━━━━━━━━╇━━━━━━━━━━━━━━━━━━━━━━━━╇━━━━━━━━━━━━━━━┩\n",
       "│ conv3d_net_0 (\u001b[38;5;33mSequential\u001b[0m)       │ (\u001b[38;5;45mNone\u001b[0m, \u001b[38;5;34m50\u001b[0m, \u001b[38;5;34m4\u001b[0m, \u001b[38;5;34m4\u001b[0m, \u001b[38;5;34m16\u001b[0m)   │         \u001b[38;5;34m2,240\u001b[0m │\n",
       "├─────────────────────────────────┼────────────────────────┼───────────────┤\n",
       "│ conv3d_net_1 (\u001b[38;5;33mSequential\u001b[0m)       │ (\u001b[38;5;45mNone\u001b[0m, \u001b[38;5;34m25\u001b[0m, \u001b[38;5;34m2\u001b[0m, \u001b[38;5;34m2\u001b[0m, \u001b[38;5;34m32\u001b[0m)   │        \u001b[38;5;34m13,984\u001b[0m │\n",
       "├─────────────────────────────────┼────────────────────────┼───────────────┤\n",
       "│ global_max_pooling3d            │ (\u001b[38;5;45mNone\u001b[0m, \u001b[38;5;34m32\u001b[0m)             │             \u001b[38;5;34m0\u001b[0m │\n",
       "│ (\u001b[38;5;33mGlobalMaxPooling3D\u001b[0m)            │                        │               │\n",
       "├─────────────────────────────────┼────────────────────────┼───────────────┤\n",
       "│ conv1d_net_0 (\u001b[38;5;33mSequential\u001b[0m)       │ (\u001b[38;5;45mNone\u001b[0m, \u001b[38;5;34m50\u001b[0m, \u001b[38;5;34m16\u001b[0m)         │           \u001b[38;5;34m416\u001b[0m │\n",
       "├─────────────────────────────────┼────────────────────────┼───────────────┤\n",
       "│ conv1d_net_1 (\u001b[38;5;33mSequential\u001b[0m)       │ (\u001b[38;5;45mNone\u001b[0m, \u001b[38;5;34m25\u001b[0m, \u001b[38;5;34m32\u001b[0m)         │         \u001b[38;5;34m1,696\u001b[0m │\n",
       "├─────────────────────────────────┼────────────────────────┼───────────────┤\n",
       "│ lstm (\u001b[38;5;33mLSTM\u001b[0m)                     │ ?                      │   \u001b[38;5;34m0\u001b[0m (unbuilt) │\n",
       "├─────────────────────────────────┼────────────────────────┼───────────────┤\n",
       "│ LSTM (\u001b[38;5;33mBidirectional\u001b[0m)            │ (\u001b[38;5;45mNone\u001b[0m, \u001b[38;5;34m128\u001b[0m)            │        \u001b[38;5;34m49,664\u001b[0m │\n",
       "├─────────────────────────────────┼────────────────────────┼───────────────┤\n",
       "│ dense (\u001b[38;5;33mDense\u001b[0m)                   │ (\u001b[38;5;45mNone\u001b[0m, \u001b[38;5;34m128\u001b[0m)            │        \u001b[38;5;34m21,376\u001b[0m │\n",
       "├─────────────────────────────────┼────────────────────────┼───────────────┤\n",
       "│ dense_1 (\u001b[38;5;33mDense\u001b[0m)                 │ (\u001b[38;5;45mNone\u001b[0m, \u001b[38;5;34m1\u001b[0m)              │           \u001b[38;5;34m129\u001b[0m │\n",
       "├─────────────────────────────────┼────────────────────────┼───────────────┤\n",
       "│ dense_2 (\u001b[38;5;33mDense\u001b[0m)                 │ (\u001b[38;5;45mNone\u001b[0m, \u001b[38;5;34m18\u001b[0m)             │         \u001b[38;5;34m2,322\u001b[0m │\n",
       "└─────────────────────────────────┴────────────────────────┴───────────────┘\n"
      ]
     },
     "metadata": {},
     "output_type": "display_data"
    },
    {
     "data": {
      "text/html": [
       "<pre style=\"white-space:pre;overflow-x:auto;line-height:normal;font-family:Menlo,'DejaVu Sans Mono',consolas,'Courier New',monospace\"><span style=\"font-weight: bold\"> Total params: </span><span style=\"color: #00af00; text-decoration-color: #00af00\">91,827</span> (358.70 KB)\n",
       "</pre>\n"
      ],
      "text/plain": [
       "\u001b[1m Total params: \u001b[0m\u001b[38;5;34m91,827\u001b[0m (358.70 KB)\n"
      ]
     },
     "metadata": {},
     "output_type": "display_data"
    },
    {
     "data": {
      "text/html": [
       "<pre style=\"white-space:pre;overflow-x:auto;line-height:normal;font-family:Menlo,'DejaVu Sans Mono',consolas,'Courier New',monospace\"><span style=\"font-weight: bold\"> Trainable params: </span><span style=\"color: #00af00; text-decoration-color: #00af00\">91,635</span> (357.95 KB)\n",
       "</pre>\n"
      ],
      "text/plain": [
       "\u001b[1m Trainable params: \u001b[0m\u001b[38;5;34m91,635\u001b[0m (357.95 KB)\n"
      ]
     },
     "metadata": {},
     "output_type": "display_data"
    },
    {
     "data": {
      "text/html": [
       "<pre style=\"white-space:pre;overflow-x:auto;line-height:normal;font-family:Menlo,'DejaVu Sans Mono',consolas,'Courier New',monospace\"><span style=\"font-weight: bold\"> Non-trainable params: </span><span style=\"color: #00af00; text-decoration-color: #00af00\">192</span> (768.00 B)\n",
       "</pre>\n"
      ],
      "text/plain": [
       "\u001b[1m Non-trainable params: \u001b[0m\u001b[38;5;34m192\u001b[0m (768.00 B)\n"
      ]
     },
     "metadata": {},
     "output_type": "display_data"
    }
   ],
   "source": [
    "from tensorflow.keras.losses import BinaryCrossentropy, CategoricalCrossentropy, CategoricalFocalCrossentropy\n",
    "from tensorflow.keras.optimizers import Adam\n",
    "from tensorflow.keras.metrics import BinaryAccuracy, F1Score, AUC\n",
    "\n",
    "model = RNNModel(kernel_size3d=3, kernel_size1d=3, filters_3d=[16, 32], dropout=0.2,\n",
    "                 filters_1d=[16, 32], rnn_hidden_size=64, mode=\"LSTM\", bidirectional=True,\n",
    "                 hidden_size=128, regularizer=\"l1l2\", l1_penalty=1e-5, l2_penalty=1e-5, binary=False)\n",
    "model.build(input_shapes=((None, 100, 8, 8, 5), (None, 100, 7), (None, 6)))\n",
    "# model.set_multi()\n",
    "model.compile(loss=CategoricalFocalCrossentropy(alpha=gesture_sample_weight, \n",
    "                                                gamma=2,\n",
    "                                                label_smoothing=0.1),\n",
    "              optimizer=Adam(learning_rate=0.0005),\n",
    "              metrics=[\"accuracy\"])\n",
    "model.summary()\n",
    "# model.freeze_conv_timeseries()"
   ]
  },
  {
   "cell_type": "code",
   "execution_count": 12,
   "id": "80224b9a",
   "metadata": {
    "execution": {
     "iopub.execute_input": "2025-08-03T02:51:41.496673Z",
     "iopub.status.busy": "2025-08-03T02:51:41.496453Z",
     "iopub.status.idle": "2025-08-03T03:34:43.133590Z",
     "shell.execute_reply": "2025-08-03T03:34:43.132853Z"
    },
    "papermill": {
     "duration": 2581.642964,
     "end_time": "2025-08-03T03:34:43.135031",
     "exception": false,
     "start_time": "2025-08-03T02:51:41.492067",
     "status": "completed"
    },
    "tags": []
   },
   "outputs": [
    {
     "name": "stdout",
     "output_type": "stream",
     "text": [
      "Epoch 1/100\n"
     ]
    },
    {
     "name": "stderr",
     "output_type": "stream",
     "text": [
      "I0000 00:00:1754189516.395592      57 cuda_dnn.cc:529] Loaded cuDNN version 90300\n"
     ]
    },
    {
     "name": "stdout",
     "output_type": "stream",
     "text": [
      "\u001b[1m190/190\u001b[0m \u001b[32m━━━━━━━━━━━━━━━━━━━━\u001b[0m\u001b[37m\u001b[0m \u001b[1m0s\u001b[0m 122ms/step - accuracy: 0.1139 - loss: 7.1339\n",
      "Epoch 1: val_accuracy improved from -inf to 0.16985, saving model to /kaggle/working/cmi_best_model.weights.h5\n",
      "\u001b[1m190/190\u001b[0m \u001b[32m━━━━━━━━━━━━━━━━━━━━\u001b[0m\u001b[37m\u001b[0m \u001b[1m45s\u001b[0m 139ms/step - accuracy: 0.1140 - loss: 7.1304 - val_accuracy: 0.1698 - val_loss: 6.7849\n",
      "Epoch 2/100\n",
      "\u001b[1m190/190\u001b[0m \u001b[32m━━━━━━━━━━━━━━━━━━━━\u001b[0m\u001b[37m\u001b[0m \u001b[1m0s\u001b[0m 128ms/step - accuracy: 0.1911 - loss: 5.7878\n",
      "Epoch 2: val_accuracy improved from 0.16985 to 0.24885, saving model to /kaggle/working/cmi_best_model.weights.h5\n",
      "\u001b[1m190/190\u001b[0m \u001b[32m━━━━━━━━━━━━━━━━━━━━\u001b[0m\u001b[37m\u001b[0m \u001b[1m26s\u001b[0m 136ms/step - accuracy: 0.1912 - loss: 5.7869 - val_accuracy: 0.2488 - val_loss: 5.6575\n",
      "Epoch 3/100\n",
      "\u001b[1m190/190\u001b[0m \u001b[32m━━━━━━━━━━━━━━━━━━━━\u001b[0m\u001b[37m\u001b[0m \u001b[1m0s\u001b[0m 124ms/step - accuracy: 0.2545 - loss: 5.3389\n",
      "Epoch 3: val_accuracy improved from 0.24885 to 0.30744, saving model to /kaggle/working/cmi_best_model.weights.h5\n",
      "\u001b[1m190/190\u001b[0m \u001b[32m━━━━━━━━━━━━━━━━━━━━\u001b[0m\u001b[37m\u001b[0m \u001b[1m25s\u001b[0m 131ms/step - accuracy: 0.2546 - loss: 5.3381 - val_accuracy: 0.3074 - val_loss: 5.2693\n",
      "Epoch 4/100\n",
      "\u001b[1m190/190\u001b[0m \u001b[32m━━━━━━━━━━━━━━━━━━━━\u001b[0m\u001b[37m\u001b[0m \u001b[1m0s\u001b[0m 123ms/step - accuracy: 0.2991 - loss: 4.9680\n",
      "Epoch 4: val_accuracy improved from 0.30744 to 0.32258, saving model to /kaggle/working/cmi_best_model.weights.h5\n",
      "\u001b[1m190/190\u001b[0m \u001b[32m━━━━━━━━━━━━━━━━━━━━\u001b[0m\u001b[37m\u001b[0m \u001b[1m25s\u001b[0m 130ms/step - accuracy: 0.2991 - loss: 4.9675 - val_accuracy: 0.3226 - val_loss: 5.1333\n",
      "Epoch 5/100\n",
      "\u001b[1m190/190\u001b[0m \u001b[32m━━━━━━━━━━━━━━━━━━━━\u001b[0m\u001b[37m\u001b[0m \u001b[1m0s\u001b[0m 123ms/step - accuracy: 0.3116 - loss: 4.7149\n",
      "Epoch 5: val_accuracy improved from 0.32258 to 0.35155, saving model to /kaggle/working/cmi_best_model.weights.h5\n",
      "\u001b[1m190/190\u001b[0m \u001b[32m━━━━━━━━━━━━━━━━━━━━\u001b[0m\u001b[37m\u001b[0m \u001b[1m25s\u001b[0m 130ms/step - accuracy: 0.3116 - loss: 4.7144 - val_accuracy: 0.3515 - val_loss: 4.8252\n",
      "Epoch 6/100\n",
      "\u001b[1m190/190\u001b[0m \u001b[32m━━━━━━━━━━━━━━━━━━━━\u001b[0m\u001b[37m\u001b[0m \u001b[1m0s\u001b[0m 128ms/step - accuracy: 0.3460 - loss: 4.4923\n",
      "Epoch 6: val_accuracy improved from 0.35155 to 0.37591, saving model to /kaggle/working/cmi_best_model.weights.h5\n",
      "\u001b[1m190/190\u001b[0m \u001b[32m━━━━━━━━━━━━━━━━━━━━\u001b[0m\u001b[37m\u001b[0m \u001b[1m26s\u001b[0m 136ms/step - accuracy: 0.3460 - loss: 4.4919 - val_accuracy: 0.3759 - val_loss: 4.7791\n",
      "Epoch 7/100\n",
      "\u001b[1m190/190\u001b[0m \u001b[32m━━━━━━━━━━━━━━━━━━━━\u001b[0m\u001b[37m\u001b[0m \u001b[1m0s\u001b[0m 125ms/step - accuracy: 0.3747 - loss: 4.3390\n",
      "Epoch 7: val_accuracy did not improve from 0.37591\n",
      "\u001b[1m190/190\u001b[0m \u001b[32m━━━━━━━━━━━━━━━━━━━━\u001b[0m\u001b[37m\u001b[0m \u001b[1m25s\u001b[0m 133ms/step - accuracy: 0.3747 - loss: 4.3387 - val_accuracy: 0.3515 - val_loss: 4.6286\n",
      "Epoch 8/100\n",
      "\u001b[1m190/190\u001b[0m \u001b[32m━━━━━━━━━━━━━━━━━━━━\u001b[0m\u001b[37m\u001b[0m \u001b[1m0s\u001b[0m 128ms/step - accuracy: 0.3865 - loss: 4.1905\n",
      "Epoch 8: val_accuracy improved from 0.37591 to 0.38381, saving model to /kaggle/working/cmi_best_model.weights.h5\n",
      "\u001b[1m190/190\u001b[0m \u001b[32m━━━━━━━━━━━━━━━━━━━━\u001b[0m\u001b[37m\u001b[0m \u001b[1m26s\u001b[0m 135ms/step - accuracy: 0.3865 - loss: 4.1900 - val_accuracy: 0.3838 - val_loss: 4.5180\n",
      "Epoch 9/100\n",
      "\u001b[1m190/190\u001b[0m \u001b[32m━━━━━━━━━━━━━━━━━━━━\u001b[0m\u001b[37m\u001b[0m \u001b[1m0s\u001b[0m 123ms/step - accuracy: 0.4035 - loss: 4.0055\n",
      "Epoch 9: val_accuracy improved from 0.38381 to 0.39368, saving model to /kaggle/working/cmi_best_model.weights.h5\n",
      "\u001b[1m190/190\u001b[0m \u001b[32m━━━━━━━━━━━━━━━━━━━━\u001b[0m\u001b[37m\u001b[0m \u001b[1m25s\u001b[0m 130ms/step - accuracy: 0.4035 - loss: 4.0053 - val_accuracy: 0.3937 - val_loss: 4.4947\n",
      "Epoch 10/100\n",
      "\u001b[1m190/190\u001b[0m \u001b[32m━━━━━━━━━━━━━━━━━━━━\u001b[0m\u001b[37m\u001b[0m \u001b[1m0s\u001b[0m 122ms/step - accuracy: 0.4277 - loss: 3.9434\n",
      "Epoch 10: val_accuracy improved from 0.39368 to 0.41475, saving model to /kaggle/working/cmi_best_model.weights.h5\n",
      "\u001b[1m190/190\u001b[0m \u001b[32m━━━━━━━━━━━━━━━━━━━━\u001b[0m\u001b[37m\u001b[0m \u001b[1m24s\u001b[0m 129ms/step - accuracy: 0.4277 - loss: 3.9431 - val_accuracy: 0.4147 - val_loss: 4.2952\n",
      "Epoch 11/100\n",
      "\u001b[1m190/190\u001b[0m \u001b[32m━━━━━━━━━━━━━━━━━━━━\u001b[0m\u001b[37m\u001b[0m \u001b[1m0s\u001b[0m 126ms/step - accuracy: 0.4327 - loss: 3.8296\n",
      "Epoch 11: val_accuracy improved from 0.41475 to 0.41606, saving model to /kaggle/working/cmi_best_model.weights.h5\n",
      "\u001b[1m190/190\u001b[0m \u001b[32m━━━━━━━━━━━━━━━━━━━━\u001b[0m\u001b[37m\u001b[0m \u001b[1m25s\u001b[0m 133ms/step - accuracy: 0.4327 - loss: 3.8293 - val_accuracy: 0.4161 - val_loss: 4.2185\n",
      "Epoch 12/100\n",
      "\u001b[1m190/190\u001b[0m \u001b[32m━━━━━━━━━━━━━━━━━━━━\u001b[0m\u001b[37m\u001b[0m \u001b[1m0s\u001b[0m 124ms/step - accuracy: 0.4585 - loss: 3.7339\n",
      "Epoch 12: val_accuracy did not improve from 0.41606\n",
      "\u001b[1m190/190\u001b[0m \u001b[32m━━━━━━━━━━━━━━━━━━━━\u001b[0m\u001b[37m\u001b[0m \u001b[1m25s\u001b[0m 130ms/step - accuracy: 0.4585 - loss: 3.7336 - val_accuracy: 0.4121 - val_loss: 4.2293\n",
      "Epoch 13/100\n",
      "\u001b[1m190/190\u001b[0m \u001b[32m━━━━━━━━━━━━━━━━━━━━\u001b[0m\u001b[37m\u001b[0m \u001b[1m0s\u001b[0m 124ms/step - accuracy: 0.4608 - loss: 3.6628\n",
      "Epoch 13: val_accuracy improved from 0.41606 to 0.42660, saving model to /kaggle/working/cmi_best_model.weights.h5\n",
      "\u001b[1m190/190\u001b[0m \u001b[32m━━━━━━━━━━━━━━━━━━━━\u001b[0m\u001b[37m\u001b[0m \u001b[1m25s\u001b[0m 132ms/step - accuracy: 0.4608 - loss: 3.6625 - val_accuracy: 0.4266 - val_loss: 4.2161\n",
      "Epoch 14/100\n",
      "\u001b[1m190/190\u001b[0m \u001b[32m━━━━━━━━━━━━━━━━━━━━\u001b[0m\u001b[37m\u001b[0m \u001b[1m0s\u001b[0m 126ms/step - accuracy: 0.4637 - loss: 3.5814\n",
      "Epoch 14: val_accuracy did not improve from 0.42660\n",
      "\u001b[1m190/190\u001b[0m \u001b[32m━━━━━━━━━━━━━━━━━━━━\u001b[0m\u001b[37m\u001b[0m \u001b[1m25s\u001b[0m 133ms/step - accuracy: 0.4637 - loss: 3.5812 - val_accuracy: 0.4174 - val_loss: 4.1070\n",
      "Epoch 15/100\n",
      "\u001b[1m190/190\u001b[0m \u001b[32m━━━━━━━━━━━━━━━━━━━━\u001b[0m\u001b[37m\u001b[0m \u001b[1m0s\u001b[0m 123ms/step - accuracy: 0.4913 - loss: 3.5037\n",
      "Epoch 15: val_accuracy did not improve from 0.42660\n",
      "\u001b[1m190/190\u001b[0m \u001b[32m━━━━━━━━━━━━━━━━━━━━\u001b[0m\u001b[37m\u001b[0m \u001b[1m25s\u001b[0m 130ms/step - accuracy: 0.4913 - loss: 3.5035 - val_accuracy: 0.4174 - val_loss: 4.2012\n",
      "Epoch 16/100\n",
      "\u001b[1m190/190\u001b[0m \u001b[32m━━━━━━━━━━━━━━━━━━━━\u001b[0m\u001b[37m\u001b[0m \u001b[1m0s\u001b[0m 120ms/step - accuracy: 0.4948 - loss: 3.4225\n",
      "Epoch 16: val_accuracy improved from 0.42660 to 0.43910, saving model to /kaggle/working/cmi_best_model.weights.h5\n",
      "\u001b[1m190/190\u001b[0m \u001b[32m━━━━━━━━━━━━━━━━━━━━\u001b[0m\u001b[37m\u001b[0m \u001b[1m24s\u001b[0m 127ms/step - accuracy: 0.4948 - loss: 3.4223 - val_accuracy: 0.4391 - val_loss: 3.9991\n",
      "Epoch 17/100\n",
      "\u001b[1m190/190\u001b[0m \u001b[32m━━━━━━━━━━━━━━━━━━━━\u001b[0m\u001b[37m\u001b[0m \u001b[1m0s\u001b[0m 128ms/step - accuracy: 0.4947 - loss: 3.3729\n",
      "Epoch 17: val_accuracy improved from 0.43910 to 0.44371, saving model to /kaggle/working/cmi_best_model.weights.h5\n",
      "\u001b[1m190/190\u001b[0m \u001b[32m━━━━━━━━━━━━━━━━━━━━\u001b[0m\u001b[37m\u001b[0m \u001b[1m26s\u001b[0m 135ms/step - accuracy: 0.4947 - loss: 3.3728 - val_accuracy: 0.4437 - val_loss: 4.0467\n",
      "Epoch 18/100\n",
      "\u001b[1m190/190\u001b[0m \u001b[32m━━━━━━━━━━━━━━━━━━━━\u001b[0m\u001b[37m\u001b[0m \u001b[1m0s\u001b[0m 125ms/step - accuracy: 0.5160 - loss: 3.2959\n",
      "Epoch 18: val_accuracy did not improve from 0.44371\n",
      "\u001b[1m190/190\u001b[0m \u001b[32m━━━━━━━━━━━━━━━━━━━━\u001b[0m\u001b[37m\u001b[0m \u001b[1m25s\u001b[0m 132ms/step - accuracy: 0.5160 - loss: 3.2958 - val_accuracy: 0.4279 - val_loss: 4.1138\n",
      "Epoch 19/100\n",
      "\u001b[1m190/190\u001b[0m \u001b[32m━━━━━━━━━━━━━━━━━━━━\u001b[0m\u001b[37m\u001b[0m \u001b[1m0s\u001b[0m 129ms/step - accuracy: 0.5203 - loss: 3.2761\n",
      "Epoch 19: val_accuracy did not improve from 0.44371\n",
      "\u001b[1m190/190\u001b[0m \u001b[32m━━━━━━━━━━━━━━━━━━━━\u001b[0m\u001b[37m\u001b[0m \u001b[1m26s\u001b[0m 136ms/step - accuracy: 0.5202 - loss: 3.2759 - val_accuracy: 0.4332 - val_loss: 4.0209\n",
      "Epoch 20/100\n",
      "\u001b[1m190/190\u001b[0m \u001b[32m━━━━━━━━━━━━━━━━━━━━\u001b[0m\u001b[37m\u001b[0m \u001b[1m0s\u001b[0m 126ms/step - accuracy: 0.5251 - loss: 3.2177\n",
      "Epoch 20: val_accuracy improved from 0.44371 to 0.44964, saving model to /kaggle/working/cmi_best_model.weights.h5\n",
      "\u001b[1m190/190\u001b[0m \u001b[32m━━━━━━━━━━━━━━━━━━━━\u001b[0m\u001b[37m\u001b[0m \u001b[1m25s\u001b[0m 134ms/step - accuracy: 0.5251 - loss: 3.2176 - val_accuracy: 0.4496 - val_loss: 3.9314\n",
      "Epoch 21/100\n",
      "\u001b[1m190/190\u001b[0m \u001b[32m━━━━━━━━━━━━━━━━━━━━\u001b[0m\u001b[37m\u001b[0m \u001b[1m0s\u001b[0m 124ms/step - accuracy: 0.5225 - loss: 3.1774\n",
      "Epoch 21: val_accuracy did not improve from 0.44964\n",
      "\u001b[1m190/190\u001b[0m \u001b[32m━━━━━━━━━━━━━━━━━━━━\u001b[0m\u001b[37m\u001b[0m \u001b[1m25s\u001b[0m 131ms/step - accuracy: 0.5225 - loss: 3.1772 - val_accuracy: 0.4299 - val_loss: 3.8905\n",
      "Epoch 22/100\n",
      "\u001b[1m190/190\u001b[0m \u001b[32m━━━━━━━━━━━━━━━━━━━━\u001b[0m\u001b[37m\u001b[0m \u001b[1m0s\u001b[0m 127ms/step - accuracy: 0.5243 - loss: 3.1300\n",
      "Epoch 22: val_accuracy did not improve from 0.44964\n",
      "\u001b[1m190/190\u001b[0m \u001b[32m━━━━━━━━━━━━━━━━━━━━\u001b[0m\u001b[37m\u001b[0m \u001b[1m26s\u001b[0m 134ms/step - accuracy: 0.5244 - loss: 3.1298 - val_accuracy: 0.4470 - val_loss: 3.8553\n",
      "Epoch 23/100\n",
      "\u001b[1m190/190\u001b[0m \u001b[32m━━━━━━━━━━━━━━━━━━━━\u001b[0m\u001b[37m\u001b[0m \u001b[1m0s\u001b[0m 129ms/step - accuracy: 0.5426 - loss: 3.0810\n",
      "Epoch 23: val_accuracy did not improve from 0.44964\n",
      "\u001b[1m190/190\u001b[0m \u001b[32m━━━━━━━━━━━━━━━━━━━━\u001b[0m\u001b[37m\u001b[0m \u001b[1m26s\u001b[0m 136ms/step - accuracy: 0.5426 - loss: 3.0809 - val_accuracy: 0.4338 - val_loss: 3.9239\n",
      "Epoch 24/100\n",
      "\u001b[1m190/190\u001b[0m \u001b[32m━━━━━━━━━━━━━━━━━━━━\u001b[0m\u001b[37m\u001b[0m \u001b[1m0s\u001b[0m 128ms/step - accuracy: 0.5476 - loss: 3.0701\n",
      "Epoch 24: val_accuracy did not improve from 0.44964\n",
      "\u001b[1m190/190\u001b[0m \u001b[32m━━━━━━━━━━━━━━━━━━━━\u001b[0m\u001b[37m\u001b[0m \u001b[1m26s\u001b[0m 135ms/step - accuracy: 0.5476 - loss: 3.0699 - val_accuracy: 0.4483 - val_loss: 3.8781\n",
      "Epoch 25/100\n",
      "\u001b[1m190/190\u001b[0m \u001b[32m━━━━━━━━━━━━━━━━━━━━\u001b[0m\u001b[37m\u001b[0m \u001b[1m0s\u001b[0m 132ms/step - accuracy: 0.5660 - loss: 2.9912\n",
      "Epoch 25: val_accuracy did not improve from 0.44964\n",
      "\u001b[1m190/190\u001b[0m \u001b[32m━━━━━━━━━━━━━━━━━━━━\u001b[0m\u001b[37m\u001b[0m \u001b[1m26s\u001b[0m 139ms/step - accuracy: 0.5660 - loss: 2.9910 - val_accuracy: 0.4365 - val_loss: 3.9555\n",
      "Epoch 26/100\n",
      "\u001b[1m190/190\u001b[0m \u001b[32m━━━━━━━━━━━━━━━━━━━━\u001b[0m\u001b[37m\u001b[0m \u001b[1m0s\u001b[0m 129ms/step - accuracy: 0.5564 - loss: 2.9882\n",
      "Epoch 26: val_accuracy improved from 0.44964 to 0.45030, saving model to /kaggle/working/cmi_best_model.weights.h5\n",
      "\u001b[1m190/190\u001b[0m \u001b[32m━━━━━━━━━━━━━━━━━━━━\u001b[0m\u001b[37m\u001b[0m \u001b[1m26s\u001b[0m 137ms/step - accuracy: 0.5563 - loss: 2.9880 - val_accuracy: 0.4503 - val_loss: 3.9135\n",
      "Epoch 27/100\n",
      "\u001b[1m190/190\u001b[0m \u001b[32m━━━━━━━━━━━━━━━━━━━━\u001b[0m\u001b[37m\u001b[0m \u001b[1m0s\u001b[0m 130ms/step - accuracy: 0.5748 - loss: 2.9401\n",
      "Epoch 27: val_accuracy improved from 0.45030 to 0.45688, saving model to /kaggle/working/cmi_best_model.weights.h5\n",
      "\u001b[1m190/190\u001b[0m \u001b[32m━━━━━━━━━━━━━━━━━━━━\u001b[0m\u001b[37m\u001b[0m \u001b[1m26s\u001b[0m 137ms/step - accuracy: 0.5748 - loss: 2.9398 - val_accuracy: 0.4569 - val_loss: 3.9159\n",
      "Epoch 28/100\n",
      "\u001b[1m190/190\u001b[0m \u001b[32m━━━━━━━━━━━━━━━━━━━━\u001b[0m\u001b[37m\u001b[0m \u001b[1m0s\u001b[0m 127ms/step - accuracy: 0.5763 - loss: 2.8693\n",
      "Epoch 28: val_accuracy did not improve from 0.45688\n",
      "\u001b[1m190/190\u001b[0m \u001b[32m━━━━━━━━━━━━━━━━━━━━\u001b[0m\u001b[37m\u001b[0m \u001b[1m25s\u001b[0m 134ms/step - accuracy: 0.5763 - loss: 2.8692 - val_accuracy: 0.4483 - val_loss: 3.8204\n",
      "Epoch 29/100\n",
      "\u001b[1m190/190\u001b[0m \u001b[32m━━━━━━━━━━━━━━━━━━━━\u001b[0m\u001b[37m\u001b[0m \u001b[1m0s\u001b[0m 131ms/step - accuracy: 0.5696 - loss: 2.8856\n",
      "Epoch 29: val_accuracy did not improve from 0.45688\n",
      "\u001b[1m190/190\u001b[0m \u001b[32m━━━━━━━━━━━━━━━━━━━━\u001b[0m\u001b[37m\u001b[0m \u001b[1m26s\u001b[0m 138ms/step - accuracy: 0.5697 - loss: 2.8852 - val_accuracy: 0.4569 - val_loss: 3.8602\n",
      "Epoch 30/100\n",
      "\u001b[1m190/190\u001b[0m \u001b[32m━━━━━━━━━━━━━━━━━━━━\u001b[0m\u001b[37m\u001b[0m \u001b[1m0s\u001b[0m 130ms/step - accuracy: 0.5748 - loss: 2.8334\n",
      "Epoch 30: val_accuracy did not improve from 0.45688\n",
      "\u001b[1m190/190\u001b[0m \u001b[32m━━━━━━━━━━━━━━━━━━━━\u001b[0m\u001b[37m\u001b[0m \u001b[1m41s\u001b[0m 136ms/step - accuracy: 0.5749 - loss: 2.8332 - val_accuracy: 0.4549 - val_loss: 3.8235\n",
      "Epoch 31/100\n",
      "\u001b[1m190/190\u001b[0m \u001b[32m━━━━━━━━━━━━━━━━━━━━\u001b[0m\u001b[37m\u001b[0m \u001b[1m0s\u001b[0m 127ms/step - accuracy: 0.5890 - loss: 2.8147\n",
      "Epoch 31: val_accuracy did not improve from 0.45688\n",
      "\u001b[1m190/190\u001b[0m \u001b[32m━━━━━━━━━━━━━━━━━━━━\u001b[0m\u001b[37m\u001b[0m \u001b[1m26s\u001b[0m 134ms/step - accuracy: 0.5890 - loss: 2.8145 - val_accuracy: 0.4496 - val_loss: 3.9032\n",
      "Epoch 32/100\n",
      "\u001b[1m190/190\u001b[0m \u001b[32m━━━━━━━━━━━━━━━━━━━━\u001b[0m\u001b[37m\u001b[0m \u001b[1m0s\u001b[0m 128ms/step - accuracy: 0.6025 - loss: 2.7630\n",
      "Epoch 32: val_accuracy improved from 0.45688 to 0.45951, saving model to /kaggle/working/cmi_best_model.weights.h5\n",
      "\u001b[1m190/190\u001b[0m \u001b[32m━━━━━━━━━━━━━━━━━━━━\u001b[0m\u001b[37m\u001b[0m \u001b[1m26s\u001b[0m 135ms/step - accuracy: 0.6024 - loss: 2.7629 - val_accuracy: 0.4595 - val_loss: 3.8860\n",
      "Epoch 33/100\n",
      "\u001b[1m190/190\u001b[0m \u001b[32m━━━━━━━━━━━━━━━━━━━━\u001b[0m\u001b[37m\u001b[0m \u001b[1m0s\u001b[0m 127ms/step - accuracy: 0.5895 - loss: 2.7512\n",
      "Epoch 33: val_accuracy did not improve from 0.45951\n",
      "\u001b[1m190/190\u001b[0m \u001b[32m━━━━━━━━━━━━━━━━━━━━\u001b[0m\u001b[37m\u001b[0m \u001b[1m25s\u001b[0m 134ms/step - accuracy: 0.5895 - loss: 2.7511 - val_accuracy: 0.4437 - val_loss: 3.9140\n",
      "Epoch 34/100\n",
      "\u001b[1m190/190\u001b[0m \u001b[32m━━━━━━━━━━━━━━━━━━━━\u001b[0m\u001b[37m\u001b[0m \u001b[1m0s\u001b[0m 128ms/step - accuracy: 0.5941 - loss: 2.7242\n",
      "Epoch 34: val_accuracy did not improve from 0.45951\n",
      "\u001b[1m190/190\u001b[0m \u001b[32m━━━━━━━━━━━━━━━━━━━━\u001b[0m\u001b[37m\u001b[0m \u001b[1m26s\u001b[0m 135ms/step - accuracy: 0.5941 - loss: 2.7241 - val_accuracy: 0.4549 - val_loss: 3.9141\n",
      "Epoch 35/100\n",
      "\u001b[1m190/190\u001b[0m \u001b[32m━━━━━━━━━━━━━━━━━━━━\u001b[0m\u001b[37m\u001b[0m \u001b[1m0s\u001b[0m 126ms/step - accuracy: 0.6050 - loss: 2.6943\n",
      "Epoch 35: val_accuracy improved from 0.45951 to 0.46083, saving model to /kaggle/working/cmi_best_model.weights.h5\n",
      "\u001b[1m190/190\u001b[0m \u001b[32m━━━━━━━━━━━━━━━━━━━━\u001b[0m\u001b[37m\u001b[0m \u001b[1m25s\u001b[0m 134ms/step - accuracy: 0.6050 - loss: 2.6941 - val_accuracy: 0.4608 - val_loss: 3.8979\n",
      "Epoch 36/100\n",
      "\u001b[1m190/190\u001b[0m \u001b[32m━━━━━━━━━━━━━━━━━━━━\u001b[0m\u001b[37m\u001b[0m \u001b[1m0s\u001b[0m 123ms/step - accuracy: 0.6057 - loss: 2.7058\n",
      "Epoch 36: val_accuracy improved from 0.46083 to 0.46544, saving model to /kaggle/working/cmi_best_model.weights.h5\n",
      "\u001b[1m190/190\u001b[0m \u001b[32m━━━━━━━━━━━━━━━━━━━━\u001b[0m\u001b[37m\u001b[0m \u001b[1m25s\u001b[0m 131ms/step - accuracy: 0.6057 - loss: 2.7055 - val_accuracy: 0.4654 - val_loss: 3.8732\n",
      "Epoch 37/100\n",
      "\u001b[1m190/190\u001b[0m \u001b[32m━━━━━━━━━━━━━━━━━━━━\u001b[0m\u001b[37m\u001b[0m \u001b[1m0s\u001b[0m 129ms/step - accuracy: 0.6248 - loss: 2.6340\n",
      "Epoch 37: val_accuracy did not improve from 0.46544\n",
      "\u001b[1m190/190\u001b[0m \u001b[32m━━━━━━━━━━━━━━━━━━━━\u001b[0m\u001b[37m\u001b[0m \u001b[1m26s\u001b[0m 136ms/step - accuracy: 0.6248 - loss: 2.6338 - val_accuracy: 0.4615 - val_loss: 3.8584\n",
      "Epoch 38/100\n",
      "\u001b[1m190/190\u001b[0m \u001b[32m━━━━━━━━━━━━━━━━━━━━\u001b[0m\u001b[37m\u001b[0m \u001b[1m0s\u001b[0m 126ms/step - accuracy: 0.6196 - loss: 2.5934\n",
      "Epoch 38: val_accuracy did not improve from 0.46544\n",
      "\u001b[1m190/190\u001b[0m \u001b[32m━━━━━━━━━━━━━━━━━━━━\u001b[0m\u001b[37m\u001b[0m \u001b[1m25s\u001b[0m 132ms/step - accuracy: 0.6196 - loss: 2.5932 - val_accuracy: 0.4411 - val_loss: 3.8606\n",
      "Epoch 39/100\n",
      "\u001b[1m190/190\u001b[0m \u001b[32m━━━━━━━━━━━━━━━━━━━━\u001b[0m\u001b[37m\u001b[0m \u001b[1m0s\u001b[0m 128ms/step - accuracy: 0.6313 - loss: 2.5726\n",
      "Epoch 39: val_accuracy did not improve from 0.46544\n",
      "\u001b[1m190/190\u001b[0m \u001b[32m━━━━━━━━━━━━━━━━━━━━\u001b[0m\u001b[37m\u001b[0m \u001b[1m26s\u001b[0m 135ms/step - accuracy: 0.6313 - loss: 2.5725 - val_accuracy: 0.4595 - val_loss: 3.8302\n",
      "Epoch 40/100\n",
      "\u001b[1m190/190\u001b[0m \u001b[32m━━━━━━━━━━━━━━━━━━━━\u001b[0m\u001b[37m\u001b[0m \u001b[1m0s\u001b[0m 125ms/step - accuracy: 0.6115 - loss: 2.6098\n",
      "Epoch 40: val_accuracy did not improve from 0.46544\n",
      "\u001b[1m190/190\u001b[0m \u001b[32m━━━━━━━━━━━━━━━━━━━━\u001b[0m\u001b[37m\u001b[0m \u001b[1m25s\u001b[0m 132ms/step - accuracy: 0.6115 - loss: 2.6096 - val_accuracy: 0.4608 - val_loss: 3.9704\n",
      "Epoch 41/100\n",
      "\u001b[1m190/190\u001b[0m \u001b[32m━━━━━━━━━━━━━━━━━━━━\u001b[0m\u001b[37m\u001b[0m \u001b[1m0s\u001b[0m 123ms/step - accuracy: 0.6350 - loss: 2.5420\n",
      "Epoch 41: val_accuracy did not improve from 0.46544\n",
      "\u001b[1m190/190\u001b[0m \u001b[32m━━━━━━━━━━━━━━━━━━━━\u001b[0m\u001b[37m\u001b[0m \u001b[1m25s\u001b[0m 129ms/step - accuracy: 0.6350 - loss: 2.5419 - val_accuracy: 0.4556 - val_loss: 3.8316\n",
      "Epoch 42/100\n",
      "\u001b[1m190/190\u001b[0m \u001b[32m━━━━━━━━━━━━━━━━━━━━\u001b[0m\u001b[37m\u001b[0m \u001b[1m0s\u001b[0m 128ms/step - accuracy: 0.6430 - loss: 2.4949\n",
      "Epoch 42: val_accuracy did not improve from 0.46544\n",
      "\u001b[1m190/190\u001b[0m \u001b[32m━━━━━━━━━━━━━━━━━━━━\u001b[0m\u001b[37m\u001b[0m \u001b[1m26s\u001b[0m 135ms/step - accuracy: 0.6429 - loss: 2.4949 - val_accuracy: 0.4549 - val_loss: 3.8926\n",
      "Epoch 43/100\n",
      "\u001b[1m190/190\u001b[0m \u001b[32m━━━━━━━━━━━━━━━━━━━━\u001b[0m\u001b[37m\u001b[0m \u001b[1m0s\u001b[0m 128ms/step - accuracy: 0.6418 - loss: 2.5129\n",
      "Epoch 43: val_accuracy did not improve from 0.46544\n",
      "\u001b[1m190/190\u001b[0m \u001b[32m━━━━━━━━━━━━━━━━━━━━\u001b[0m\u001b[37m\u001b[0m \u001b[1m26s\u001b[0m 135ms/step - accuracy: 0.6418 - loss: 2.5128 - val_accuracy: 0.4556 - val_loss: 3.9105\n",
      "Epoch 44/100\n",
      "\u001b[1m190/190\u001b[0m \u001b[32m━━━━━━━━━━━━━━━━━━━━\u001b[0m\u001b[37m\u001b[0m \u001b[1m0s\u001b[0m 128ms/step - accuracy: 0.6359 - loss: 2.5218\n",
      "Epoch 44: val_accuracy did not improve from 0.46544\n",
      "\u001b[1m190/190\u001b[0m \u001b[32m━━━━━━━━━━━━━━━━━━━━\u001b[0m\u001b[37m\u001b[0m \u001b[1m26s\u001b[0m 135ms/step - accuracy: 0.6359 - loss: 2.5217 - val_accuracy: 0.4470 - val_loss: 3.9683\n",
      "Epoch 45/100\n",
      "\u001b[1m190/190\u001b[0m \u001b[32m━━━━━━━━━━━━━━━━━━━━\u001b[0m\u001b[37m\u001b[0m \u001b[1m0s\u001b[0m 124ms/step - accuracy: 0.6560 - loss: 2.4105\n",
      "Epoch 45: val_accuracy did not improve from 0.46544\n",
      "\u001b[1m190/190\u001b[0m \u001b[32m━━━━━━━━━━━━━━━━━━━━\u001b[0m\u001b[37m\u001b[0m \u001b[1m25s\u001b[0m 131ms/step - accuracy: 0.6559 - loss: 2.4106 - val_accuracy: 0.4635 - val_loss: 3.9045\n",
      "Epoch 46/100\n",
      "\u001b[1m190/190\u001b[0m \u001b[32m━━━━━━━━━━━━━━━━━━━━\u001b[0m\u001b[37m\u001b[0m \u001b[1m0s\u001b[0m 123ms/step - accuracy: 0.6478 - loss: 2.4416\n",
      "Epoch 46: val_accuracy did not improve from 0.46544\n",
      "\u001b[1m190/190\u001b[0m \u001b[32m━━━━━━━━━━━━━━━━━━━━\u001b[0m\u001b[37m\u001b[0m \u001b[1m25s\u001b[0m 129ms/step - accuracy: 0.6478 - loss: 2.4414 - val_accuracy: 0.4411 - val_loss: 4.1401\n",
      "Epoch 47/100\n",
      "\u001b[1m190/190\u001b[0m \u001b[32m━━━━━━━━━━━━━━━━━━━━\u001b[0m\u001b[37m\u001b[0m \u001b[1m0s\u001b[0m 128ms/step - accuracy: 0.6525 - loss: 2.4310\n",
      "Epoch 47: val_accuracy did not improve from 0.46544\n",
      "\u001b[1m190/190\u001b[0m \u001b[32m━━━━━━━━━━━━━━━━━━━━\u001b[0m\u001b[37m\u001b[0m \u001b[1m26s\u001b[0m 135ms/step - accuracy: 0.6525 - loss: 2.4308 - val_accuracy: 0.4523 - val_loss: 4.0027\n",
      "Epoch 48/100\n",
      "\u001b[1m190/190\u001b[0m \u001b[32m━━━━━━━━━━━━━━━━━━━━\u001b[0m\u001b[37m\u001b[0m \u001b[1m0s\u001b[0m 128ms/step - accuracy: 0.6470 - loss: 2.4313\n",
      "Epoch 48: val_accuracy did not improve from 0.46544\n",
      "\u001b[1m190/190\u001b[0m \u001b[32m━━━━━━━━━━━━━━━━━━━━\u001b[0m\u001b[37m\u001b[0m \u001b[1m26s\u001b[0m 135ms/step - accuracy: 0.6471 - loss: 2.4312 - val_accuracy: 0.4562 - val_loss: 3.8991\n",
      "Epoch 49/100\n",
      "\u001b[1m190/190\u001b[0m \u001b[32m━━━━━━━━━━━━━━━━━━━━\u001b[0m\u001b[37m\u001b[0m \u001b[1m0s\u001b[0m 129ms/step - accuracy: 0.6594 - loss: 2.4123\n",
      "Epoch 49: val_accuracy did not improve from 0.46544\n",
      "\u001b[1m190/190\u001b[0m \u001b[32m━━━━━━━━━━━━━━━━━━━━\u001b[0m\u001b[37m\u001b[0m \u001b[1m26s\u001b[0m 136ms/step - accuracy: 0.6594 - loss: 2.4121 - val_accuracy: 0.4450 - val_loss: 4.1474\n",
      "Epoch 50/100\n",
      "\u001b[1m190/190\u001b[0m \u001b[32m━━━━━━━━━━━━━━━━━━━━\u001b[0m\u001b[37m\u001b[0m \u001b[1m0s\u001b[0m 131ms/step - accuracy: 0.6669 - loss: 2.4007\n",
      "Epoch 50: val_accuracy did not improve from 0.46544\n",
      "\u001b[1m190/190\u001b[0m \u001b[32m━━━━━━━━━━━━━━━━━━━━\u001b[0m\u001b[37m\u001b[0m \u001b[1m26s\u001b[0m 138ms/step - accuracy: 0.6669 - loss: 2.4006 - val_accuracy: 0.4529 - val_loss: 3.9281\n",
      "Epoch 51/100\n",
      "\u001b[1m190/190\u001b[0m \u001b[32m━━━━━━━━━━━━━━━━━━━━\u001b[0m\u001b[37m\u001b[0m \u001b[1m0s\u001b[0m 129ms/step - accuracy: 0.6722 - loss: 2.3702\n",
      "Epoch 51: val_accuracy did not improve from 0.46544\n",
      "\u001b[1m190/190\u001b[0m \u001b[32m━━━━━━━━━━━━━━━━━━━━\u001b[0m\u001b[37m\u001b[0m \u001b[1m26s\u001b[0m 137ms/step - accuracy: 0.6722 - loss: 2.3702 - val_accuracy: 0.4582 - val_loss: 3.9570\n",
      "Epoch 52/100\n",
      "\u001b[1m190/190\u001b[0m \u001b[32m━━━━━━━━━━━━━━━━━━━━\u001b[0m\u001b[37m\u001b[0m \u001b[1m0s\u001b[0m 131ms/step - accuracy: 0.6679 - loss: 2.3866\n",
      "Epoch 52: val_accuracy did not improve from 0.46544\n",
      "\u001b[1m190/190\u001b[0m \u001b[32m━━━━━━━━━━━━━━━━━━━━\u001b[0m\u001b[37m\u001b[0m \u001b[1m26s\u001b[0m 138ms/step - accuracy: 0.6678 - loss: 2.3864 - val_accuracy: 0.4542 - val_loss: 3.8958\n",
      "Epoch 53/100\n",
      "\u001b[1m190/190\u001b[0m \u001b[32m━━━━━━━━━━━━━━━━━━━━\u001b[0m\u001b[37m\u001b[0m \u001b[1m0s\u001b[0m 129ms/step - accuracy: 0.6681 - loss: 2.3282\n",
      "Epoch 53: val_accuracy improved from 0.46544 to 0.46610, saving model to /kaggle/working/cmi_best_model.weights.h5\n",
      "\u001b[1m190/190\u001b[0m \u001b[32m━━━━━━━━━━━━━━━━━━━━\u001b[0m\u001b[37m\u001b[0m \u001b[1m26s\u001b[0m 137ms/step - accuracy: 0.6682 - loss: 2.3280 - val_accuracy: 0.4661 - val_loss: 3.8895\n",
      "Epoch 54/100\n",
      "\u001b[1m190/190\u001b[0m \u001b[32m━━━━━━━━━━━━━━━━━━━━\u001b[0m\u001b[37m\u001b[0m \u001b[1m0s\u001b[0m 131ms/step - accuracy: 0.6680 - loss: 2.3077\n",
      "Epoch 54: val_accuracy did not improve from 0.46610\n",
      "\u001b[1m190/190\u001b[0m \u001b[32m━━━━━━━━━━━━━━━━━━━━\u001b[0m\u001b[37m\u001b[0m \u001b[1m26s\u001b[0m 138ms/step - accuracy: 0.6681 - loss: 2.3076 - val_accuracy: 0.4417 - val_loss: 3.9432\n",
      "Epoch 55/100\n",
      "\u001b[1m190/190\u001b[0m \u001b[32m━━━━━━━━━━━━━━━━━━━━\u001b[0m\u001b[37m\u001b[0m \u001b[1m0s\u001b[0m 128ms/step - accuracy: 0.6884 - loss: 2.2819\n",
      "Epoch 55: val_accuracy did not improve from 0.46610\n",
      "\u001b[1m190/190\u001b[0m \u001b[32m━━━━━━━━━━━━━━━━━━━━\u001b[0m\u001b[37m\u001b[0m \u001b[1m26s\u001b[0m 135ms/step - accuracy: 0.6883 - loss: 2.2819 - val_accuracy: 0.4503 - val_loss: 3.9619\n",
      "Epoch 56/100\n",
      "\u001b[1m190/190\u001b[0m \u001b[32m━━━━━━━━━━━━━━━━━━━━\u001b[0m\u001b[37m\u001b[0m \u001b[1m0s\u001b[0m 124ms/step - accuracy: 0.6691 - loss: 2.2943\n",
      "Epoch 56: val_accuracy did not improve from 0.46610\n",
      "\u001b[1m190/190\u001b[0m \u001b[32m━━━━━━━━━━━━━━━━━━━━\u001b[0m\u001b[37m\u001b[0m \u001b[1m25s\u001b[0m 130ms/step - accuracy: 0.6691 - loss: 2.2943 - val_accuracy: 0.4542 - val_loss: 3.9524\n",
      "Epoch 57/100\n",
      "\u001b[1m190/190\u001b[0m \u001b[32m━━━━━━━━━━━━━━━━━━━━\u001b[0m\u001b[37m\u001b[0m \u001b[1m0s\u001b[0m 126ms/step - accuracy: 0.6866 - loss: 2.2596\n",
      "Epoch 57: val_accuracy did not improve from 0.46610\n",
      "\u001b[1m190/190\u001b[0m \u001b[32m━━━━━━━━━━━━━━━━━━━━\u001b[0m\u001b[37m\u001b[0m \u001b[1m25s\u001b[0m 133ms/step - accuracy: 0.6866 - loss: 2.2597 - val_accuracy: 0.4628 - val_loss: 3.8128\n",
      "Epoch 58/100\n",
      "\u001b[1m190/190\u001b[0m \u001b[32m━━━━━━━━━━━━━━━━━━━━\u001b[0m\u001b[37m\u001b[0m \u001b[1m0s\u001b[0m 130ms/step - accuracy: 0.6832 - loss: 2.2691\n",
      "Epoch 58: val_accuracy did not improve from 0.46610\n",
      "\u001b[1m190/190\u001b[0m \u001b[32m━━━━━━━━━━━━━━━━━━━━\u001b[0m\u001b[37m\u001b[0m \u001b[1m26s\u001b[0m 137ms/step - accuracy: 0.6832 - loss: 2.2691 - val_accuracy: 0.4503 - val_loss: 3.9634\n",
      "Epoch 59/100\n",
      "\u001b[1m190/190\u001b[0m \u001b[32m━━━━━━━━━━━━━━━━━━━━\u001b[0m\u001b[37m\u001b[0m \u001b[1m0s\u001b[0m 124ms/step - accuracy: 0.6985 - loss: 2.2495\n",
      "Epoch 59: val_accuracy did not improve from 0.46610\n",
      "\u001b[1m190/190\u001b[0m \u001b[32m━━━━━━━━━━━━━━━━━━━━\u001b[0m\u001b[37m\u001b[0m \u001b[1m25s\u001b[0m 130ms/step - accuracy: 0.6985 - loss: 2.2494 - val_accuracy: 0.4444 - val_loss: 3.9867\n",
      "Epoch 60/100\n",
      "\u001b[1m190/190\u001b[0m \u001b[32m━━━━━━━━━━━━━━━━━━━━\u001b[0m\u001b[37m\u001b[0m \u001b[1m0s\u001b[0m 124ms/step - accuracy: 0.6862 - loss: 2.2312\n",
      "Epoch 60: val_accuracy did not improve from 0.46610\n",
      "\u001b[1m190/190\u001b[0m \u001b[32m━━━━━━━━━━━━━━━━━━━━\u001b[0m\u001b[37m\u001b[0m \u001b[1m25s\u001b[0m 131ms/step - accuracy: 0.6862 - loss: 2.2312 - val_accuracy: 0.4569 - val_loss: 3.9818\n",
      "Epoch 61/100\n",
      "\u001b[1m190/190\u001b[0m \u001b[32m━━━━━━━━━━━━━━━━━━━━\u001b[0m\u001b[37m\u001b[0m \u001b[1m0s\u001b[0m 133ms/step - accuracy: 0.6889 - loss: 2.2275\n",
      "Epoch 61: val_accuracy did not improve from 0.46610\n",
      "\u001b[1m190/190\u001b[0m \u001b[32m━━━━━━━━━━━━━━━━━━━━\u001b[0m\u001b[37m\u001b[0m \u001b[1m27s\u001b[0m 140ms/step - accuracy: 0.6889 - loss: 2.2274 - val_accuracy: 0.4463 - val_loss: 4.0619\n",
      "Epoch 62/100\n",
      "\u001b[1m190/190\u001b[0m \u001b[32m━━━━━━━━━━━━━━━━━━━━\u001b[0m\u001b[37m\u001b[0m \u001b[1m0s\u001b[0m 132ms/step - accuracy: 0.6937 - loss: 2.2227\n",
      "Epoch 62: val_accuracy improved from 0.46610 to 0.46807, saving model to /kaggle/working/cmi_best_model.weights.h5\n",
      "\u001b[1m190/190\u001b[0m \u001b[32m━━━━━━━━━━━━━━━━━━━━\u001b[0m\u001b[37m\u001b[0m \u001b[1m27s\u001b[0m 140ms/step - accuracy: 0.6937 - loss: 2.2226 - val_accuracy: 0.4681 - val_loss: 3.8876\n",
      "Epoch 63/100\n",
      "\u001b[1m190/190\u001b[0m \u001b[32m━━━━━━━━━━━━━━━━━━━━\u001b[0m\u001b[37m\u001b[0m \u001b[1m0s\u001b[0m 129ms/step - accuracy: 0.6978 - loss: 2.2156\n",
      "Epoch 63: val_accuracy did not improve from 0.46807\n",
      "\u001b[1m190/190\u001b[0m \u001b[32m━━━━━━━━━━━━━━━━━━━━\u001b[0m\u001b[37m\u001b[0m \u001b[1m26s\u001b[0m 136ms/step - accuracy: 0.6978 - loss: 2.2155 - val_accuracy: 0.4457 - val_loss: 4.0852\n",
      "Epoch 64/100\n",
      "\u001b[1m190/190\u001b[0m \u001b[32m━━━━━━━━━━━━━━━━━━━━\u001b[0m\u001b[37m\u001b[0m \u001b[1m0s\u001b[0m 126ms/step - accuracy: 0.7080 - loss: 2.1873\n",
      "Epoch 64: val_accuracy did not improve from 0.46807\n",
      "\u001b[1m190/190\u001b[0m \u001b[32m━━━━━━━━━━━━━━━━━━━━\u001b[0m\u001b[37m\u001b[0m \u001b[1m25s\u001b[0m 133ms/step - accuracy: 0.7080 - loss: 2.1872 - val_accuracy: 0.4668 - val_loss: 3.9368\n",
      "Epoch 65/100\n",
      "\u001b[1m190/190\u001b[0m \u001b[32m━━━━━━━━━━━━━━━━━━━━\u001b[0m\u001b[37m\u001b[0m \u001b[1m0s\u001b[0m 122ms/step - accuracy: 0.7140 - loss: 2.1406\n",
      "Epoch 65: val_accuracy did not improve from 0.46807\n",
      "\u001b[1m190/190\u001b[0m \u001b[32m━━━━━━━━━━━━━━━━━━━━\u001b[0m\u001b[37m\u001b[0m \u001b[1m25s\u001b[0m 129ms/step - accuracy: 0.7140 - loss: 2.1406 - val_accuracy: 0.4542 - val_loss: 4.0367\n",
      "Epoch 66/100\n",
      "\u001b[1m190/190\u001b[0m \u001b[32m━━━━━━━━━━━━━━━━━━━━\u001b[0m\u001b[37m\u001b[0m \u001b[1m0s\u001b[0m 122ms/step - accuracy: 0.7202 - loss: 2.1505\n",
      "Epoch 66: val_accuracy improved from 0.46807 to 0.46873, saving model to /kaggle/working/cmi_best_model.weights.h5\n",
      "\u001b[1m190/190\u001b[0m \u001b[32m━━━━━━━━━━━━━━━━━━━━\u001b[0m\u001b[37m\u001b[0m \u001b[1m25s\u001b[0m 129ms/step - accuracy: 0.7202 - loss: 2.1504 - val_accuracy: 0.4687 - val_loss: 3.9929\n",
      "Epoch 67/100\n",
      "\u001b[1m190/190\u001b[0m \u001b[32m━━━━━━━━━━━━━━━━━━━━\u001b[0m\u001b[37m\u001b[0m \u001b[1m0s\u001b[0m 121ms/step - accuracy: 0.7207 - loss: 2.1584\n",
      "Epoch 67: val_accuracy did not improve from 0.46873\n",
      "\u001b[1m190/190\u001b[0m \u001b[32m━━━━━━━━━━━━━━━━━━━━\u001b[0m\u001b[37m\u001b[0m \u001b[1m24s\u001b[0m 127ms/step - accuracy: 0.7206 - loss: 2.1583 - val_accuracy: 0.4602 - val_loss: 3.9310\n",
      "Epoch 68/100\n",
      "\u001b[1m190/190\u001b[0m \u001b[32m━━━━━━━━━━━━━━━━━━━━\u001b[0m\u001b[37m\u001b[0m \u001b[1m0s\u001b[0m 121ms/step - accuracy: 0.7234 - loss: 2.1217\n",
      "Epoch 68: val_accuracy did not improve from 0.46873\n",
      "\u001b[1m190/190\u001b[0m \u001b[32m━━━━━━━━━━━━━━━━━━━━\u001b[0m\u001b[37m\u001b[0m \u001b[1m24s\u001b[0m 128ms/step - accuracy: 0.7234 - loss: 2.1218 - val_accuracy: 0.4536 - val_loss: 3.9569\n",
      "Epoch 69/100\n",
      "\u001b[1m190/190\u001b[0m \u001b[32m━━━━━━━━━━━━━━━━━━━━\u001b[0m\u001b[37m\u001b[0m \u001b[1m0s\u001b[0m 123ms/step - accuracy: 0.7115 - loss: 2.1283\n",
      "Epoch 69: val_accuracy did not improve from 0.46873\n",
      "\u001b[1m190/190\u001b[0m \u001b[32m━━━━━━━━━━━━━━━━━━━━\u001b[0m\u001b[37m\u001b[0m \u001b[1m25s\u001b[0m 130ms/step - accuracy: 0.7115 - loss: 2.1283 - val_accuracy: 0.4556 - val_loss: 4.0736\n",
      "Epoch 70/100\n",
      "\u001b[1m190/190\u001b[0m \u001b[32m━━━━━━━━━━━━━━━━━━━━\u001b[0m\u001b[37m\u001b[0m \u001b[1m0s\u001b[0m 127ms/step - accuracy: 0.7197 - loss: 2.0998\n",
      "Epoch 70: val_accuracy did not improve from 0.46873\n",
      "\u001b[1m190/190\u001b[0m \u001b[32m━━━━━━━━━━━━━━━━━━━━\u001b[0m\u001b[37m\u001b[0m \u001b[1m26s\u001b[0m 134ms/step - accuracy: 0.7198 - loss: 2.0997 - val_accuracy: 0.4529 - val_loss: 4.1088\n",
      "Epoch 71/100\n",
      "\u001b[1m190/190\u001b[0m \u001b[32m━━━━━━━━━━━━━━━━━━━━\u001b[0m\u001b[37m\u001b[0m \u001b[1m0s\u001b[0m 131ms/step - accuracy: 0.7138 - loss: 2.1168\n",
      "Epoch 71: val_accuracy did not improve from 0.46873\n",
      "\u001b[1m190/190\u001b[0m \u001b[32m━━━━━━━━━━━━━━━━━━━━\u001b[0m\u001b[37m\u001b[0m \u001b[1m26s\u001b[0m 138ms/step - accuracy: 0.7137 - loss: 2.1168 - val_accuracy: 0.4404 - val_loss: 4.0434\n",
      "Epoch 72/100\n",
      "\u001b[1m190/190\u001b[0m \u001b[32m━━━━━━━━━━━━━━━━━━━━\u001b[0m\u001b[37m\u001b[0m \u001b[1m0s\u001b[0m 130ms/step - accuracy: 0.7277 - loss: 2.0865\n",
      "Epoch 72: val_accuracy did not improve from 0.46873\n",
      "\u001b[1m190/190\u001b[0m \u001b[32m━━━━━━━━━━━━━━━━━━━━\u001b[0m\u001b[37m\u001b[0m \u001b[1m26s\u001b[0m 137ms/step - accuracy: 0.7277 - loss: 2.0865 - val_accuracy: 0.4358 - val_loss: 4.0991\n",
      "Epoch 73/100\n",
      "\u001b[1m190/190\u001b[0m \u001b[32m━━━━━━━━━━━━━━━━━━━━\u001b[0m\u001b[37m\u001b[0m \u001b[1m0s\u001b[0m 129ms/step - accuracy: 0.7171 - loss: 2.1537\n",
      "Epoch 73: val_accuracy did not improve from 0.46873\n",
      "\u001b[1m190/190\u001b[0m \u001b[32m━━━━━━━━━━━━━━━━━━━━\u001b[0m\u001b[37m\u001b[0m \u001b[1m26s\u001b[0m 136ms/step - accuracy: 0.7171 - loss: 2.1536 - val_accuracy: 0.4542 - val_loss: 4.0145\n",
      "Epoch 74/100\n",
      "\u001b[1m190/190\u001b[0m \u001b[32m━━━━━━━━━━━━━━━━━━━━\u001b[0m\u001b[37m\u001b[0m \u001b[1m0s\u001b[0m 129ms/step - accuracy: 0.7328 - loss: 2.0690\n",
      "Epoch 74: val_accuracy did not improve from 0.46873\n",
      "\u001b[1m190/190\u001b[0m \u001b[32m━━━━━━━━━━━━━━━━━━━━\u001b[0m\u001b[37m\u001b[0m \u001b[1m26s\u001b[0m 136ms/step - accuracy: 0.7329 - loss: 2.0690 - val_accuracy: 0.4529 - val_loss: 4.1844\n",
      "Epoch 75/100\n",
      "\u001b[1m190/190\u001b[0m \u001b[32m━━━━━━━━━━━━━━━━━━━━\u001b[0m\u001b[37m\u001b[0m \u001b[1m0s\u001b[0m 130ms/step - accuracy: 0.7215 - loss: 2.0796\n",
      "Epoch 75: val_accuracy did not improve from 0.46873\n",
      "\u001b[1m190/190\u001b[0m \u001b[32m━━━━━━━━━━━━━━━━━━━━\u001b[0m\u001b[37m\u001b[0m \u001b[1m26s\u001b[0m 137ms/step - accuracy: 0.7215 - loss: 2.0796 - val_accuracy: 0.4542 - val_loss: 3.9292\n",
      "Epoch 76/100\n",
      "\u001b[1m190/190\u001b[0m \u001b[32m━━━━━━━━━━━━━━━━━━━━\u001b[0m\u001b[37m\u001b[0m \u001b[1m0s\u001b[0m 130ms/step - accuracy: 0.7381 - loss: 2.0476\n",
      "Epoch 76: val_accuracy did not improve from 0.46873\n",
      "\u001b[1m190/190\u001b[0m \u001b[32m━━━━━━━━━━━━━━━━━━━━\u001b[0m\u001b[37m\u001b[0m \u001b[1m26s\u001b[0m 138ms/step - accuracy: 0.7380 - loss: 2.0477 - val_accuracy: 0.4516 - val_loss: 4.0703\n",
      "Epoch 77/100\n",
      "\u001b[1m190/190\u001b[0m \u001b[32m━━━━━━━━━━━━━━━━━━━━\u001b[0m\u001b[37m\u001b[0m \u001b[1m0s\u001b[0m 130ms/step - accuracy: 0.7383 - loss: 2.0475\n",
      "Epoch 77: val_accuracy improved from 0.46873 to 0.47005, saving model to /kaggle/working/cmi_best_model.weights.h5\n",
      "\u001b[1m190/190\u001b[0m \u001b[32m━━━━━━━━━━━━━━━━━━━━\u001b[0m\u001b[37m\u001b[0m \u001b[1m26s\u001b[0m 138ms/step - accuracy: 0.7383 - loss: 2.0475 - val_accuracy: 0.4700 - val_loss: 4.0224\n",
      "Epoch 78/100\n",
      "\u001b[1m190/190\u001b[0m \u001b[32m━━━━━━━━━━━━━━━━━━━━\u001b[0m\u001b[37m\u001b[0m \u001b[1m0s\u001b[0m 132ms/step - accuracy: 0.7294 - loss: 2.0700\n",
      "Epoch 78: val_accuracy did not improve from 0.47005\n",
      "\u001b[1m190/190\u001b[0m \u001b[32m━━━━━━━━━━━━━━━━━━━━\u001b[0m\u001b[37m\u001b[0m \u001b[1m26s\u001b[0m 139ms/step - accuracy: 0.7294 - loss: 2.0698 - val_accuracy: 0.4641 - val_loss: 3.9864\n",
      "Epoch 79/100\n",
      "\u001b[1m190/190\u001b[0m \u001b[32m━━━━━━━━━━━━━━━━━━━━\u001b[0m\u001b[37m\u001b[0m \u001b[1m0s\u001b[0m 130ms/step - accuracy: 0.7303 - loss: 2.0789\n",
      "Epoch 79: val_accuracy did not improve from 0.47005\n",
      "\u001b[1m190/190\u001b[0m \u001b[32m━━━━━━━━━━━━━━━━━━━━\u001b[0m\u001b[37m\u001b[0m \u001b[1m26s\u001b[0m 137ms/step - accuracy: 0.7304 - loss: 2.0787 - val_accuracy: 0.4654 - val_loss: 3.9556\n",
      "Epoch 80/100\n",
      "\u001b[1m190/190\u001b[0m \u001b[32m━━━━━━━━━━━━━━━━━━━━\u001b[0m\u001b[37m\u001b[0m \u001b[1m0s\u001b[0m 133ms/step - accuracy: 0.7434 - loss: 2.0221\n",
      "Epoch 80: val_accuracy did not improve from 0.47005\n",
      "\u001b[1m190/190\u001b[0m \u001b[32m━━━━━━━━━━━━━━━━━━━━\u001b[0m\u001b[37m\u001b[0m \u001b[1m27s\u001b[0m 140ms/step - accuracy: 0.7434 - loss: 2.0221 - val_accuracy: 0.4687 - val_loss: 4.0308\n",
      "Epoch 81/100\n",
      "\u001b[1m190/190\u001b[0m \u001b[32m━━━━━━━━━━━━━━━━━━━━\u001b[0m\u001b[37m\u001b[0m \u001b[1m0s\u001b[0m 131ms/step - accuracy: 0.7479 - loss: 2.0186\n",
      "Epoch 81: val_accuracy did not improve from 0.47005\n",
      "\u001b[1m190/190\u001b[0m \u001b[32m━━━━━━━━━━━━━━━━━━━━\u001b[0m\u001b[37m\u001b[0m \u001b[1m26s\u001b[0m 139ms/step - accuracy: 0.7479 - loss: 2.0186 - val_accuracy: 0.4615 - val_loss: 4.0890\n",
      "Epoch 82/100\n",
      "\u001b[1m190/190\u001b[0m \u001b[32m━━━━━━━━━━━━━━━━━━━━\u001b[0m\u001b[37m\u001b[0m \u001b[1m0s\u001b[0m 131ms/step - accuracy: 0.7491 - loss: 2.0133\n",
      "Epoch 82: val_accuracy did not improve from 0.47005\n",
      "\u001b[1m190/190\u001b[0m \u001b[32m━━━━━━━━━━━━━━━━━━━━\u001b[0m\u001b[37m\u001b[0m \u001b[1m26s\u001b[0m 138ms/step - accuracy: 0.7490 - loss: 2.0133 - val_accuracy: 0.4305 - val_loss: 4.2044\n",
      "Epoch 83/100\n",
      "\u001b[1m190/190\u001b[0m \u001b[32m━━━━━━━━━━━━━━━━━━━━\u001b[0m\u001b[37m\u001b[0m \u001b[1m0s\u001b[0m 128ms/step - accuracy: 0.7410 - loss: 2.0388\n",
      "Epoch 83: val_accuracy did not improve from 0.47005\n",
      "\u001b[1m190/190\u001b[0m \u001b[32m━━━━━━━━━━━━━━━━━━━━\u001b[0m\u001b[37m\u001b[0m \u001b[1m26s\u001b[0m 135ms/step - accuracy: 0.7409 - loss: 2.0387 - val_accuracy: 0.4608 - val_loss: 4.1148\n",
      "Epoch 84/100\n",
      "\u001b[1m190/190\u001b[0m \u001b[32m━━━━━━━━━━━━━━━━━━━━\u001b[0m\u001b[37m\u001b[0m \u001b[1m0s\u001b[0m 125ms/step - accuracy: 0.7493 - loss: 1.9958\n",
      "Epoch 84: val_accuracy did not improve from 0.47005\n",
      "\u001b[1m190/190\u001b[0m \u001b[32m━━━━━━━━━━━━━━━━━━━━\u001b[0m\u001b[37m\u001b[0m \u001b[1m25s\u001b[0m 132ms/step - accuracy: 0.7493 - loss: 1.9958 - val_accuracy: 0.4569 - val_loss: 4.0988\n",
      "Epoch 85/100\n",
      "\u001b[1m190/190\u001b[0m \u001b[32m━━━━━━━━━━━━━━━━━━━━\u001b[0m\u001b[37m\u001b[0m \u001b[1m0s\u001b[0m 124ms/step - accuracy: 0.7488 - loss: 2.0012\n",
      "Epoch 85: val_accuracy did not improve from 0.47005\n",
      "\u001b[1m190/190\u001b[0m \u001b[32m━━━━━━━━━━━━━━━━━━━━\u001b[0m\u001b[37m\u001b[0m \u001b[1m25s\u001b[0m 130ms/step - accuracy: 0.7488 - loss: 2.0011 - val_accuracy: 0.4582 - val_loss: 4.0440\n",
      "Epoch 86/100\n",
      "\u001b[1m190/190\u001b[0m \u001b[32m━━━━━━━━━━━━━━━━━━━━\u001b[0m\u001b[37m\u001b[0m \u001b[1m0s\u001b[0m 124ms/step - accuracy: 0.7486 - loss: 2.0038\n",
      "Epoch 86: val_accuracy did not improve from 0.47005\n",
      "\u001b[1m190/190\u001b[0m \u001b[32m━━━━━━━━━━━━━━━━━━━━\u001b[0m\u001b[37m\u001b[0m \u001b[1m25s\u001b[0m 131ms/step - accuracy: 0.7486 - loss: 2.0038 - val_accuracy: 0.4463 - val_loss: 4.1550\n",
      "Epoch 87/100\n",
      "\u001b[1m190/190\u001b[0m \u001b[32m━━━━━━━━━━━━━━━━━━━━\u001b[0m\u001b[37m\u001b[0m \u001b[1m0s\u001b[0m 127ms/step - accuracy: 0.7568 - loss: 2.0012\n",
      "Epoch 87: val_accuracy did not improve from 0.47005\n",
      "\u001b[1m190/190\u001b[0m \u001b[32m━━━━━━━━━━━━━━━━━━━━\u001b[0m\u001b[37m\u001b[0m \u001b[1m25s\u001b[0m 134ms/step - accuracy: 0.7568 - loss: 2.0012 - val_accuracy: 0.4628 - val_loss: 4.0542\n",
      "Epoch 88/100\n",
      "\u001b[1m190/190\u001b[0m \u001b[32m━━━━━━━━━━━━━━━━━━━━\u001b[0m\u001b[37m\u001b[0m \u001b[1m0s\u001b[0m 122ms/step - accuracy: 0.7635 - loss: 1.9527\n",
      "Epoch 88: val_accuracy did not improve from 0.47005\n",
      "\u001b[1m190/190\u001b[0m \u001b[32m━━━━━━━━━━━━━━━━━━━━\u001b[0m\u001b[37m\u001b[0m \u001b[1m24s\u001b[0m 128ms/step - accuracy: 0.7635 - loss: 1.9528 - val_accuracy: 0.4529 - val_loss: 4.0725\n",
      "Epoch 89/100\n",
      "\u001b[1m190/190\u001b[0m \u001b[32m━━━━━━━━━━━━━━━━━━━━\u001b[0m\u001b[37m\u001b[0m \u001b[1m0s\u001b[0m 122ms/step - accuracy: 0.7595 - loss: 1.9584\n",
      "Epoch 89: val_accuracy did not improve from 0.47005\n",
      "\u001b[1m190/190\u001b[0m \u001b[32m━━━━━━━━━━━━━━━━━━━━\u001b[0m\u001b[37m\u001b[0m \u001b[1m24s\u001b[0m 129ms/step - accuracy: 0.7595 - loss: 1.9584 - val_accuracy: 0.4542 - val_loss: 4.1267\n",
      "Epoch 90/100\n",
      "\u001b[1m190/190\u001b[0m \u001b[32m━━━━━━━━━━━━━━━━━━━━\u001b[0m\u001b[37m\u001b[0m \u001b[1m0s\u001b[0m 124ms/step - accuracy: 0.7583 - loss: 1.9667\n",
      "Epoch 90: val_accuracy did not improve from 0.47005\n",
      "\u001b[1m190/190\u001b[0m \u001b[32m━━━━━━━━━━━━━━━━━━━━\u001b[0m\u001b[37m\u001b[0m \u001b[1m25s\u001b[0m 131ms/step - accuracy: 0.7583 - loss: 1.9667 - val_accuracy: 0.4398 - val_loss: 4.2035\n",
      "Epoch 91/100\n",
      "\u001b[1m190/190\u001b[0m \u001b[32m━━━━━━━━━━━━━━━━━━━━\u001b[0m\u001b[37m\u001b[0m \u001b[1m0s\u001b[0m 127ms/step - accuracy: 0.7678 - loss: 1.9667\n",
      "Epoch 91: val_accuracy did not improve from 0.47005\n",
      "\u001b[1m190/190\u001b[0m \u001b[32m━━━━━━━━━━━━━━━━━━━━\u001b[0m\u001b[37m\u001b[0m \u001b[1m25s\u001b[0m 133ms/step - accuracy: 0.7678 - loss: 1.9666 - val_accuracy: 0.4608 - val_loss: 4.0792\n",
      "Epoch 92/100\n",
      "\u001b[1m190/190\u001b[0m \u001b[32m━━━━━━━━━━━━━━━━━━━━\u001b[0m\u001b[37m\u001b[0m \u001b[1m0s\u001b[0m 123ms/step - accuracy: 0.7555 - loss: 1.9766\n",
      "Epoch 92: val_accuracy did not improve from 0.47005\n",
      "\u001b[1m190/190\u001b[0m \u001b[32m━━━━━━━━━━━━━━━━━━━━\u001b[0m\u001b[37m\u001b[0m \u001b[1m25s\u001b[0m 130ms/step - accuracy: 0.7555 - loss: 1.9765 - val_accuracy: 0.4503 - val_loss: 4.0821\n",
      "Epoch 93/100\n",
      "\u001b[1m190/190\u001b[0m \u001b[32m━━━━━━━━━━━━━━━━━━━━\u001b[0m\u001b[37m\u001b[0m \u001b[1m0s\u001b[0m 122ms/step - accuracy: 0.7685 - loss: 1.9346\n",
      "Epoch 93: val_accuracy did not improve from 0.47005\n",
      "\u001b[1m190/190\u001b[0m \u001b[32m━━━━━━━━━━━━━━━━━━━━\u001b[0m\u001b[37m\u001b[0m \u001b[1m24s\u001b[0m 129ms/step - accuracy: 0.7684 - loss: 1.9346 - val_accuracy: 0.4516 - val_loss: 4.0506\n",
      "Epoch 94/100\n",
      "\u001b[1m190/190\u001b[0m \u001b[32m━━━━━━━━━━━━━━━━━━━━\u001b[0m\u001b[37m\u001b[0m \u001b[1m0s\u001b[0m 127ms/step - accuracy: 0.7658 - loss: 1.9326\n",
      "Epoch 94: val_accuracy did not improve from 0.47005\n",
      "\u001b[1m190/190\u001b[0m \u001b[32m━━━━━━━━━━━━━━━━━━━━\u001b[0m\u001b[37m\u001b[0m \u001b[1m25s\u001b[0m 134ms/step - accuracy: 0.7658 - loss: 1.9325 - val_accuracy: 0.4674 - val_loss: 4.1483\n",
      "Epoch 95/100\n",
      "\u001b[1m190/190\u001b[0m \u001b[32m━━━━━━━━━━━━━━━━━━━━\u001b[0m\u001b[37m\u001b[0m \u001b[1m0s\u001b[0m 127ms/step - accuracy: 0.7714 - loss: 1.9163\n",
      "Epoch 95: val_accuracy did not improve from 0.47005\n",
      "\u001b[1m190/190\u001b[0m \u001b[32m━━━━━━━━━━━━━━━━━━━━\u001b[0m\u001b[37m\u001b[0m \u001b[1m26s\u001b[0m 134ms/step - accuracy: 0.7714 - loss: 1.9163 - val_accuracy: 0.4608 - val_loss: 4.1459\n",
      "Epoch 96/100\n",
      "\u001b[1m190/190\u001b[0m \u001b[32m━━━━━━━━━━━━━━━━━━━━\u001b[0m\u001b[37m\u001b[0m \u001b[1m0s\u001b[0m 127ms/step - accuracy: 0.7716 - loss: 1.9265\n",
      "Epoch 96: val_accuracy did not improve from 0.47005\n",
      "\u001b[1m190/190\u001b[0m \u001b[32m━━━━━━━━━━━━━━━━━━━━\u001b[0m\u001b[37m\u001b[0m \u001b[1m25s\u001b[0m 134ms/step - accuracy: 0.7716 - loss: 1.9265 - val_accuracy: 0.4516 - val_loss: 4.2426\n",
      "Epoch 97/100\n",
      "\u001b[1m190/190\u001b[0m \u001b[32m━━━━━━━━━━━━━━━━━━━━\u001b[0m\u001b[37m\u001b[0m \u001b[1m0s\u001b[0m 129ms/step - accuracy: 0.7738 - loss: 1.9042\n",
      "Epoch 97: val_accuracy did not improve from 0.47005\n",
      "\u001b[1m190/190\u001b[0m \u001b[32m━━━━━━━━━━━━━━━━━━━━\u001b[0m\u001b[37m\u001b[0m \u001b[1m26s\u001b[0m 136ms/step - accuracy: 0.7738 - loss: 1.9042 - val_accuracy: 0.4621 - val_loss: 4.0406\n",
      "Epoch 98/100\n",
      "\u001b[1m190/190\u001b[0m \u001b[32m━━━━━━━━━━━━━━━━━━━━\u001b[0m\u001b[37m\u001b[0m \u001b[1m0s\u001b[0m 131ms/step - accuracy: 0.7726 - loss: 1.9145\n",
      "Epoch 98: val_accuracy did not improve from 0.47005\n",
      "\u001b[1m190/190\u001b[0m \u001b[32m━━━━━━━━━━━━━━━━━━━━\u001b[0m\u001b[37m\u001b[0m \u001b[1m26s\u001b[0m 138ms/step - accuracy: 0.7726 - loss: 1.9144 - val_accuracy: 0.4694 - val_loss: 4.1300\n",
      "Epoch 99/100\n",
      "\u001b[1m190/190\u001b[0m \u001b[32m━━━━━━━━━━━━━━━━━━━━\u001b[0m\u001b[37m\u001b[0m \u001b[1m0s\u001b[0m 131ms/step - accuracy: 0.7772 - loss: 1.8946\n",
      "Epoch 99: val_accuracy did not improve from 0.47005\n",
      "\u001b[1m190/190\u001b[0m \u001b[32m━━━━━━━━━━━━━━━━━━━━\u001b[0m\u001b[37m\u001b[0m \u001b[1m26s\u001b[0m 138ms/step - accuracy: 0.7771 - loss: 1.8947 - val_accuracy: 0.4516 - val_loss: 4.0664\n",
      "Epoch 100/100\n",
      "\u001b[1m190/190\u001b[0m \u001b[32m━━━━━━━━━━━━━━━━━━━━\u001b[0m\u001b[37m\u001b[0m \u001b[1m0s\u001b[0m 126ms/step - accuracy: 0.7771 - loss: 1.8949\n",
      "Epoch 100: val_accuracy did not improve from 0.47005\n",
      "\u001b[1m190/190\u001b[0m \u001b[32m━━━━━━━━━━━━━━━━━━━━\u001b[0m\u001b[37m\u001b[0m \u001b[1m25s\u001b[0m 133ms/step - accuracy: 0.7771 - loss: 1.8949 - val_accuracy: 0.4595 - val_loss: 4.1913\n"
     ]
    }
   ],
   "source": [
    "from tensorflow.keras.callbacks import ModelCheckpoint\n",
    "checkpoint_filepath = \"/kaggle/working/cmi_best_model.weights.h5\"\n",
    "checkpoint_callback = ModelCheckpoint(\n",
    "    filepath=checkpoint_filepath,\n",
    "    monitor=\"val_accuracy\",\n",
    "    save_best_only=True,\n",
    "    save_weights_only=True,\n",
    "    mode=\"max\",\n",
    "    verbose=1\n",
    ")\n",
    "\n",
    "history = model.fit(gesture_train_ds, epochs=100, \n",
    "                    validation_data=gesture_valid_ds,\n",
    "                    callbacks=[checkpoint_callback])\n",
    "model.load_weights(checkpoint_filepath)"
   ]
  },
  {
   "cell_type": "code",
   "execution_count": 13,
   "id": "8c58b9b7",
   "metadata": {
    "execution": {
     "iopub.execute_input": "2025-08-03T03:34:45.094980Z",
     "iopub.status.busy": "2025-08-03T03:34:45.094689Z",
     "iopub.status.idle": "2025-08-03T03:34:45.122526Z",
     "shell.execute_reply": "2025-08-03T03:34:45.121821Z"
    },
    "papermill": {
     "duration": 1.007517,
     "end_time": "2025-08-03T03:34:45.123831",
     "exception": false,
     "start_time": "2025-08-03T03:34:44.116314",
     "status": "completed"
    },
    "tags": []
   },
   "outputs": [],
   "source": [
    "import json\n",
    "\n",
    "with open('/kaggle/input/cmi-tf-datasets/mapping.json') as f:\n",
    "    mapping_dict = json.load(f)\n",
    "\n",
    "gesture_mapping = mapping_dict[\"gesture_mapping\"]\n",
    "inv_gesture_mapping = {value: key for key, value in gesture_mapping.items()}\n",
    "\n",
    "num2gesture = np.vectorize(lambda x: inv_gesture_mapping[x])"
   ]
  },
  {
   "cell_type": "code",
   "execution_count": 14,
   "id": "cbd6aca3",
   "metadata": {
    "execution": {
     "iopub.execute_input": "2025-08-03T03:34:46.952276Z",
     "iopub.status.busy": "2025-08-03T03:34:46.951968Z",
     "iopub.status.idle": "2025-08-03T03:34:46.957472Z",
     "shell.execute_reply": "2025-08-03T03:34:46.956710Z"
    },
    "papermill": {
     "duration": 0.893904,
     "end_time": "2025-08-03T03:34:46.958634",
     "exception": false,
     "start_time": "2025-08-03T03:34:46.064730",
     "status": "completed"
    },
    "tags": []
   },
   "outputs": [],
   "source": [
    "non_target_gestures = [\"Drink from bottle/cup\", \"Glasses on/off\", \"Pull air toward your face\",\n",
    "                       \"Pinch knee/leg skin\", \"Scratch knee/leg skin\", \"Write name on leg\",\n",
    "                       \"Text on phone\", \"Feel around in tray and pull out an object\",\n",
    "                       \"Write name in air\", \"Wave hello\"]\n",
    "\n",
    "def map_non_target(y_ind):\n",
    "    y_pred = inv_gesture_mapping[y_ind]\n",
    "    if y_ind == 3:\n",
    "        y_ind = 2\n",
    "    elif y_ind == 4:\n",
    "        y_ind = 3\n",
    "    elif y_ind == 6:\n",
    "        y_ind = 4\n",
    "    elif y_ind == 7:\n",
    "        y_ind = 5\n",
    "    elif y_ind == 9:\n",
    "        y_ind = 6\n",
    "    elif y_ind == 10:\n",
    "        y_ind = 7\n",
    "    if y_pred in non_target_gestures:\n",
    "        y_ind = 8\n",
    "    return y_ind\n",
    "\n",
    "vectorize_map_non_target = np.vectorize(map_non_target)"
   ]
  },
  {
   "cell_type": "code",
   "execution_count": 15,
   "id": "96d71bab",
   "metadata": {
    "execution": {
     "iopub.execute_input": "2025-08-03T03:34:48.820335Z",
     "iopub.status.busy": "2025-08-03T03:34:48.819956Z",
     "iopub.status.idle": "2025-08-03T03:34:57.319106Z",
     "shell.execute_reply": "2025-08-03T03:34:57.317933Z"
    },
    "papermill": {
     "duration": 9.433641,
     "end_time": "2025-08-03T03:34:57.320803",
     "exception": false,
     "start_time": "2025-08-03T03:34:47.887162",
     "status": "completed"
    },
    "tags": []
   },
   "outputs": [],
   "source": [
    "conf_tensor = np.zeros((9, 9), dtype=np.int32)\n",
    "for i, (inputs, labels) in enumerate(gesture_valid_ds):\n",
    "    labels_pred = model.predict(inputs, verbose=0)\n",
    "    labels_pred = tf.argmax(labels_pred, axis=-1).numpy()\n",
    "    labels_pred = vectorize_map_non_target(labels_pred)\n",
    "    labels_true = tf.argmax(labels, axis=-1).numpy()\n",
    "    labels_true = vectorize_map_non_target(labels_true)\n",
    "    conf_tensor += tf.math.confusion_matrix(labels_true, labels_pred, num_classes=9)"
   ]
  },
  {
   "cell_type": "code",
   "execution_count": 16,
   "id": "eebcd505",
   "metadata": {
    "execution": {
     "iopub.execute_input": "2025-08-03T03:34:59.169858Z",
     "iopub.status.busy": "2025-08-03T03:34:59.164976Z",
     "iopub.status.idle": "2025-08-03T03:34:59.221689Z",
     "shell.execute_reply": "2025-08-03T03:34:59.220888Z"
    },
    "papermill": {
     "duration": 1.01372,
     "end_time": "2025-08-03T03:34:59.223013",
     "exception": false,
     "start_time": "2025-08-03T03:34:58.209293",
     "status": "completed"
    },
    "tags": []
   },
   "outputs": [
    {
     "name": "stdout",
     "output_type": "stream",
     "text": [
      "F1 score mean: 0.499\n"
     ]
    }
   ],
   "source": [
    "precisions = []\n",
    "recalls = []\n",
    "f1s = []\n",
    "\n",
    "for i in range(9):\n",
    "    column = conf_tensor[i, :]\n",
    "    row = conf_tensor[:, i]\n",
    "    precision = column[i] / tf.math.reduce_sum(column)\n",
    "    recall = row[i] / tf.math.reduce_sum(row)\n",
    "    inv_f1 = (1/precision + 1/recall)/2\n",
    "    f1 = 1/inv_f1\n",
    "    precisions.append(precision)\n",
    "    recalls.append(recall)\n",
    "    f1s.append(f1)\n",
    "print(f\"F1 score mean: {np.round(np.mean(f1s), 3)}\")"
   ]
  },
  {
   "cell_type": "code",
   "execution_count": 17,
   "id": "755d5c24",
   "metadata": {
    "execution": {
     "iopub.execute_input": "2025-08-03T03:35:01.158040Z",
     "iopub.status.busy": "2025-08-03T03:35:01.157743Z",
     "iopub.status.idle": "2025-08-03T03:35:01.161379Z",
     "shell.execute_reply": "2025-08-03T03:35:01.160607Z"
    },
    "papermill": {
     "duration": 0.98532,
     "end_time": "2025-08-03T03:35:01.162808",
     "exception": false,
     "start_time": "2025-08-03T03:35:00.177488",
     "status": "completed"
    },
    "tags": []
   },
   "outputs": [],
   "source": [
    "# import os\n",
    "# save_path = os.path.join(\"/kaggle/working/\", \"cmi_model.weights.h5\")\n",
    "# model.save_weights(save_path)"
   ]
  },
  {
   "cell_type": "code",
   "execution_count": 18,
   "id": "74eb71a0",
   "metadata": {
    "execution": {
     "iopub.execute_input": "2025-08-03T03:35:02.991023Z",
     "iopub.status.busy": "2025-08-03T03:35:02.990712Z",
     "iopub.status.idle": "2025-08-03T03:35:03.213727Z",
     "shell.execute_reply": "2025-08-03T03:35:03.212945Z"
    },
    "papermill": {
     "duration": 1.17719,
     "end_time": "2025-08-03T03:35:03.214875",
     "exception": false,
     "start_time": "2025-08-03T03:35:02.037685",
     "status": "completed"
    },
    "tags": []
   },
   "outputs": [
    {
     "data": {
      "text/html": [
       "<pre style=\"white-space:pre;overflow-x:auto;line-height:normal;font-family:Menlo,'DejaVu Sans Mono',consolas,'Courier New',monospace\"><span style=\"font-weight: bold\">Model: \"rnn_model_1\"</span>\n",
       "</pre>\n"
      ],
      "text/plain": [
       "\u001b[1mModel: \"rnn_model_1\"\u001b[0m\n"
      ]
     },
     "metadata": {},
     "output_type": "display_data"
    },
    {
     "data": {
      "text/html": [
       "<pre style=\"white-space:pre;overflow-x:auto;line-height:normal;font-family:Menlo,'DejaVu Sans Mono',consolas,'Courier New',monospace\">┏━━━━━━━━━━━━━━━━━━━━━━━━━━━━━━━━━┳━━━━━━━━━━━━━━━━━━━━━━━━┳━━━━━━━━━━━━━━━┓\n",
       "┃<span style=\"font-weight: bold\"> Layer (type)                    </span>┃<span style=\"font-weight: bold\"> Output Shape           </span>┃<span style=\"font-weight: bold\">       Param # </span>┃\n",
       "┡━━━━━━━━━━━━━━━━━━━━━━━━━━━━━━━━━╇━━━━━━━━━━━━━━━━━━━━━━━━╇━━━━━━━━━━━━━━━┩\n",
       "│ conv3d_net_0 (<span style=\"color: #0087ff; text-decoration-color: #0087ff\">Sequential</span>)       │ (<span style=\"color: #00d7ff; text-decoration-color: #00d7ff\">None</span>, <span style=\"color: #00af00; text-decoration-color: #00af00\">50</span>, <span style=\"color: #00af00; text-decoration-color: #00af00\">4</span>, <span style=\"color: #00af00; text-decoration-color: #00af00\">4</span>, <span style=\"color: #00af00; text-decoration-color: #00af00\">16</span>)   │         <span style=\"color: #00af00; text-decoration-color: #00af00\">2,240</span> │\n",
       "├─────────────────────────────────┼────────────────────────┼───────────────┤\n",
       "│ conv3d_net_1 (<span style=\"color: #0087ff; text-decoration-color: #0087ff\">Sequential</span>)       │ (<span style=\"color: #00d7ff; text-decoration-color: #00d7ff\">None</span>, <span style=\"color: #00af00; text-decoration-color: #00af00\">25</span>, <span style=\"color: #00af00; text-decoration-color: #00af00\">2</span>, <span style=\"color: #00af00; text-decoration-color: #00af00\">2</span>, <span style=\"color: #00af00; text-decoration-color: #00af00\">32</span>)   │        <span style=\"color: #00af00; text-decoration-color: #00af00\">13,984</span> │\n",
       "├─────────────────────────────────┼────────────────────────┼───────────────┤\n",
       "│ global_max_pooling3d_1          │ (<span style=\"color: #00d7ff; text-decoration-color: #00d7ff\">None</span>, <span style=\"color: #00af00; text-decoration-color: #00af00\">32</span>)             │             <span style=\"color: #00af00; text-decoration-color: #00af00\">0</span> │\n",
       "│ (<span style=\"color: #0087ff; text-decoration-color: #0087ff\">GlobalMaxPooling3D</span>)            │                        │               │\n",
       "├─────────────────────────────────┼────────────────────────┼───────────────┤\n",
       "│ conv1d_net_0 (<span style=\"color: #0087ff; text-decoration-color: #0087ff\">Sequential</span>)       │ (<span style=\"color: #00d7ff; text-decoration-color: #00d7ff\">None</span>, <span style=\"color: #00af00; text-decoration-color: #00af00\">50</span>, <span style=\"color: #00af00; text-decoration-color: #00af00\">16</span>)         │           <span style=\"color: #00af00; text-decoration-color: #00af00\">416</span> │\n",
       "├─────────────────────────────────┼────────────────────────┼───────────────┤\n",
       "│ conv1d_net_1 (<span style=\"color: #0087ff; text-decoration-color: #0087ff\">Sequential</span>)       │ (<span style=\"color: #00d7ff; text-decoration-color: #00d7ff\">None</span>, <span style=\"color: #00af00; text-decoration-color: #00af00\">25</span>, <span style=\"color: #00af00; text-decoration-color: #00af00\">32</span>)         │         <span style=\"color: #00af00; text-decoration-color: #00af00\">1,696</span> │\n",
       "├─────────────────────────────────┼────────────────────────┼───────────────┤\n",
       "│ lstm_1 (<span style=\"color: #0087ff; text-decoration-color: #0087ff\">LSTM</span>)                   │ ?                      │   <span style=\"color: #00af00; text-decoration-color: #00af00\">0</span> (unbuilt) │\n",
       "├─────────────────────────────────┼────────────────────────┼───────────────┤\n",
       "│ LSTM (<span style=\"color: #0087ff; text-decoration-color: #0087ff\">Bidirectional</span>)            │ (<span style=\"color: #00d7ff; text-decoration-color: #00d7ff\">None</span>, <span style=\"color: #00af00; text-decoration-color: #00af00\">128</span>)            │        <span style=\"color: #00af00; text-decoration-color: #00af00\">49,664</span> │\n",
       "├─────────────────────────────────┼────────────────────────┼───────────────┤\n",
       "│ dense_3 (<span style=\"color: #0087ff; text-decoration-color: #0087ff\">Dense</span>)                 │ (<span style=\"color: #00d7ff; text-decoration-color: #00d7ff\">None</span>, <span style=\"color: #00af00; text-decoration-color: #00af00\">128</span>)            │        <span style=\"color: #00af00; text-decoration-color: #00af00\">21,376</span> │\n",
       "├─────────────────────────────────┼────────────────────────┼───────────────┤\n",
       "│ dense_4 (<span style=\"color: #0087ff; text-decoration-color: #0087ff\">Dense</span>)                 │ (<span style=\"color: #00d7ff; text-decoration-color: #00d7ff\">None</span>, <span style=\"color: #00af00; text-decoration-color: #00af00\">1</span>)              │           <span style=\"color: #00af00; text-decoration-color: #00af00\">129</span> │\n",
       "├─────────────────────────────────┼────────────────────────┼───────────────┤\n",
       "│ dense_5 (<span style=\"color: #0087ff; text-decoration-color: #0087ff\">Dense</span>)                 │ (<span style=\"color: #00d7ff; text-decoration-color: #00d7ff\">None</span>, <span style=\"color: #00af00; text-decoration-color: #00af00\">18</span>)             │         <span style=\"color: #00af00; text-decoration-color: #00af00\">2,322</span> │\n",
       "└─────────────────────────────────┴────────────────────────┴───────────────┘\n",
       "</pre>\n"
      ],
      "text/plain": [
       "┏━━━━━━━━━━━━━━━━━━━━━━━━━━━━━━━━━┳━━━━━━━━━━━━━━━━━━━━━━━━┳━━━━━━━━━━━━━━━┓\n",
       "┃\u001b[1m \u001b[0m\u001b[1mLayer (type)                   \u001b[0m\u001b[1m \u001b[0m┃\u001b[1m \u001b[0m\u001b[1mOutput Shape          \u001b[0m\u001b[1m \u001b[0m┃\u001b[1m \u001b[0m\u001b[1m      Param #\u001b[0m\u001b[1m \u001b[0m┃\n",
       "┡━━━━━━━━━━━━━━━━━━━━━━━━━━━━━━━━━╇━━━━━━━━━━━━━━━━━━━━━━━━╇━━━━━━━━━━━━━━━┩\n",
       "│ conv3d_net_0 (\u001b[38;5;33mSequential\u001b[0m)       │ (\u001b[38;5;45mNone\u001b[0m, \u001b[38;5;34m50\u001b[0m, \u001b[38;5;34m4\u001b[0m, \u001b[38;5;34m4\u001b[0m, \u001b[38;5;34m16\u001b[0m)   │         \u001b[38;5;34m2,240\u001b[0m │\n",
       "├─────────────────────────────────┼────────────────────────┼───────────────┤\n",
       "│ conv3d_net_1 (\u001b[38;5;33mSequential\u001b[0m)       │ (\u001b[38;5;45mNone\u001b[0m, \u001b[38;5;34m25\u001b[0m, \u001b[38;5;34m2\u001b[0m, \u001b[38;5;34m2\u001b[0m, \u001b[38;5;34m32\u001b[0m)   │        \u001b[38;5;34m13,984\u001b[0m │\n",
       "├─────────────────────────────────┼────────────────────────┼───────────────┤\n",
       "│ global_max_pooling3d_1          │ (\u001b[38;5;45mNone\u001b[0m, \u001b[38;5;34m32\u001b[0m)             │             \u001b[38;5;34m0\u001b[0m │\n",
       "│ (\u001b[38;5;33mGlobalMaxPooling3D\u001b[0m)            │                        │               │\n",
       "├─────────────────────────────────┼────────────────────────┼───────────────┤\n",
       "│ conv1d_net_0 (\u001b[38;5;33mSequential\u001b[0m)       │ (\u001b[38;5;45mNone\u001b[0m, \u001b[38;5;34m50\u001b[0m, \u001b[38;5;34m16\u001b[0m)         │           \u001b[38;5;34m416\u001b[0m │\n",
       "├─────────────────────────────────┼────────────────────────┼───────────────┤\n",
       "│ conv1d_net_1 (\u001b[38;5;33mSequential\u001b[0m)       │ (\u001b[38;5;45mNone\u001b[0m, \u001b[38;5;34m25\u001b[0m, \u001b[38;5;34m32\u001b[0m)         │         \u001b[38;5;34m1,696\u001b[0m │\n",
       "├─────────────────────────────────┼────────────────────────┼───────────────┤\n",
       "│ lstm_1 (\u001b[38;5;33mLSTM\u001b[0m)                   │ ?                      │   \u001b[38;5;34m0\u001b[0m (unbuilt) │\n",
       "├─────────────────────────────────┼────────────────────────┼───────────────┤\n",
       "│ LSTM (\u001b[38;5;33mBidirectional\u001b[0m)            │ (\u001b[38;5;45mNone\u001b[0m, \u001b[38;5;34m128\u001b[0m)            │        \u001b[38;5;34m49,664\u001b[0m │\n",
       "├─────────────────────────────────┼────────────────────────┼───────────────┤\n",
       "│ dense_3 (\u001b[38;5;33mDense\u001b[0m)                 │ (\u001b[38;5;45mNone\u001b[0m, \u001b[38;5;34m128\u001b[0m)            │        \u001b[38;5;34m21,376\u001b[0m │\n",
       "├─────────────────────────────────┼────────────────────────┼───────────────┤\n",
       "│ dense_4 (\u001b[38;5;33mDense\u001b[0m)                 │ (\u001b[38;5;45mNone\u001b[0m, \u001b[38;5;34m1\u001b[0m)              │           \u001b[38;5;34m129\u001b[0m │\n",
       "├─────────────────────────────────┼────────────────────────┼───────────────┤\n",
       "│ dense_5 (\u001b[38;5;33mDense\u001b[0m)                 │ (\u001b[38;5;45mNone\u001b[0m, \u001b[38;5;34m18\u001b[0m)             │         \u001b[38;5;34m2,322\u001b[0m │\n",
       "└─────────────────────────────────┴────────────────────────┴───────────────┘\n"
      ]
     },
     "metadata": {},
     "output_type": "display_data"
    },
    {
     "data": {
      "text/html": [
       "<pre style=\"white-space:pre;overflow-x:auto;line-height:normal;font-family:Menlo,'DejaVu Sans Mono',consolas,'Courier New',monospace\"><span style=\"font-weight: bold\"> Total params: </span><span style=\"color: #00af00; text-decoration-color: #00af00\">91,827</span> (358.70 KB)\n",
       "</pre>\n"
      ],
      "text/plain": [
       "\u001b[1m Total params: \u001b[0m\u001b[38;5;34m91,827\u001b[0m (358.70 KB)\n"
      ]
     },
     "metadata": {},
     "output_type": "display_data"
    },
    {
     "data": {
      "text/html": [
       "<pre style=\"white-space:pre;overflow-x:auto;line-height:normal;font-family:Menlo,'DejaVu Sans Mono',consolas,'Courier New',monospace\"><span style=\"font-weight: bold\"> Trainable params: </span><span style=\"color: #00af00; text-decoration-color: #00af00\">91,635</span> (357.95 KB)\n",
       "</pre>\n"
      ],
      "text/plain": [
       "\u001b[1m Trainable params: \u001b[0m\u001b[38;5;34m91,635\u001b[0m (357.95 KB)\n"
      ]
     },
     "metadata": {},
     "output_type": "display_data"
    },
    {
     "data": {
      "text/html": [
       "<pre style=\"white-space:pre;overflow-x:auto;line-height:normal;font-family:Menlo,'DejaVu Sans Mono',consolas,'Courier New',monospace\"><span style=\"font-weight: bold\"> Non-trainable params: </span><span style=\"color: #00af00; text-decoration-color: #00af00\">192</span> (768.00 B)\n",
       "</pre>\n"
      ],
      "text/plain": [
       "\u001b[1m Non-trainable params: \u001b[0m\u001b[38;5;34m192\u001b[0m (768.00 B)\n"
      ]
     },
     "metadata": {},
     "output_type": "display_data"
    }
   ],
   "source": [
    "new_model = RNNModel(kernel_size3d=3, kernel_size1d=3, filters_3d=[16, 32], dropout=0.2,\n",
    "                     filters_1d=[16, 32], rnn_hidden_size=64, mode=\"LSTM\", bidirectional=True,\n",
    "                     hidden_size=128, regularizer=\"l1l2\", l1_penalty=1e-5, l2_penalty=1e-5, binary=True)\n",
    "new_model.build(input_shapes=((None, 100, 8, 8, 5), (None, 100, 7), (None, 6)))\n",
    "new_model.load_weights(checkpoint_filepath)\n",
    "new_model.summary()"
   ]
  }
 ],
 "metadata": {
  "kaggle": {
   "accelerator": "gpu",
   "dataSources": [
    {
     "databundleVersionId": 12518947,
     "sourceId": 102335,
     "sourceType": "competition"
    },
    {
     "datasetId": 7856290,
     "sourceId": 12641873,
     "sourceType": "datasetVersion"
    },
    {
     "datasetId": 7889376,
     "sourceId": 12642395,
     "sourceType": "datasetVersion"
    }
   ],
   "dockerImageVersionId": 31089,
   "isGpuEnabled": true,
   "isInternetEnabled": false,
   "language": "python",
   "sourceType": "notebook"
  },
  "kernelspec": {
   "display_name": "Python 3",
   "language": "python",
   "name": "python3"
  },
  "language_info": {
   "codemirror_mode": {
    "name": "ipython",
    "version": 3
   },
   "file_extension": ".py",
   "mimetype": "text/x-python",
   "name": "python",
   "nbconvert_exporter": "python",
   "pygments_lexer": "ipython3",
   "version": "3.11.13"
  },
  "papermill": {
   "default_parameters": {},
   "duration": 2628.506922,
   "end_time": "2025-08-03T03:35:06.970486",
   "environment_variables": {},
   "exception": null,
   "input_path": "__notebook__.ipynb",
   "output_path": "__notebook__.ipynb",
   "parameters": {},
   "start_time": "2025-08-03T02:51:18.463564",
   "version": "2.6.0"
  }
 },
 "nbformat": 4,
 "nbformat_minor": 5
}
