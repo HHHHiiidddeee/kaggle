{
 "cells": [
  {
   "cell_type": "code",
   "execution_count": 1,
   "id": "1d09a4a5",
   "metadata": {
    "execution": {
     "iopub.execute_input": "2025-07-22T23:24:51.125189Z",
     "iopub.status.busy": "2025-07-22T23:24:51.124816Z",
     "iopub.status.idle": "2025-07-22T23:25:11.228348Z",
     "shell.execute_reply": "2025-07-22T23:25:11.227228Z"
    },
    "papermill": {
     "duration": 20.112754,
     "end_time": "2025-07-22T23:25:11.230293",
     "exception": false,
     "start_time": "2025-07-22T23:24:51.117539",
     "status": "completed"
    },
    "tags": []
   },
   "outputs": [
    {
     "name": "stderr",
     "output_type": "stream",
     "text": [
      "2025-07-22 23:24:52.723605: E external/local_xla/xla/stream_executor/cuda/cuda_fft.cc:477] Unable to register cuFFT factory: Attempting to register factory for plugin cuFFT when one has already been registered\n",
      "WARNING: All log messages before absl::InitializeLog() is called are written to STDERR\n",
      "E0000 00:00:1753226692.952195      13 cuda_dnn.cc:8310] Unable to register cuDNN factory: Attempting to register factory for plugin cuDNN when one has already been registered\n",
      "E0000 00:00:1753226693.017763      13 cuda_blas.cc:1418] Unable to register cuBLAS factory: Attempting to register factory for plugin cuBLAS when one has already been registered\n",
      "2025-07-22 23:25:10.972381: E external/local_xla/xla/stream_executor/cuda/cuda_driver.cc:152] failed call to cuInit: INTERNAL: CUDA error: Failed call to cuInit: UNKNOWN ERROR (303)\n"
     ]
    }
   ],
   "source": [
    "import tensorflow as tf\n",
    "from tensorflow.keras import Model\n",
    "import numpy as np\n",
    "import pandas as pd\n",
    "import warnings\n",
    "warnings.filterwarnings(\"ignore\")\n",
    "\n",
    "tf.random.set_seed(42)\n",
    "type_train_ds = tf.data.experimental.load(\"/kaggle/input/cmi-tf-datasets/type_train_ds\")\n",
    "type_valid_ds = tf.data.experimental.load(\"/kaggle/input/cmi-tf-datasets/type_valid_ds\")\n",
    "gesture_train_ds = tf.data.experimental.load(\"/kaggle/input/cmi-tf-datasets/gesture_train_ds\")\n",
    "gesture_valid_ds = tf.data.experimental.load(\"/kaggle/input/cmi-tf-datasets/gesture_valid_ds\")\n",
    "test_ds = tf.data.experimental.load(\"/kaggle/input/cmi-tf-datasets/test_ds\")"
   ]
  },
  {
   "cell_type": "code",
   "execution_count": 2,
   "id": "713f63d2",
   "metadata": {
    "execution": {
     "iopub.execute_input": "2025-07-22T23:25:11.243022Z",
     "iopub.status.busy": "2025-07-22T23:25:11.242261Z",
     "iopub.status.idle": "2025-07-22T23:25:11.247670Z",
     "shell.execute_reply": "2025-07-22T23:25:11.246661Z"
    },
    "papermill": {
     "duration": 0.013646,
     "end_time": "2025-07-22T23:25:11.249547",
     "exception": false,
     "start_time": "2025-07-22T23:25:11.235901",
     "status": "completed"
    },
    "tags": []
   },
   "outputs": [],
   "source": [
    "# print(\"Num GPUs Available: \", len(tf.config.list_physical_devices('GPU')))"
   ]
  },
  {
   "cell_type": "code",
   "execution_count": 3,
   "id": "cddc0b29",
   "metadata": {
    "execution": {
     "iopub.execute_input": "2025-07-22T23:25:11.262407Z",
     "iopub.status.busy": "2025-07-22T23:25:11.262053Z",
     "iopub.status.idle": "2025-07-22T23:25:11.270567Z",
     "shell.execute_reply": "2025-07-22T23:25:11.269120Z"
    },
    "papermill": {
     "duration": 0.016897,
     "end_time": "2025-07-22T23:25:11.272314",
     "exception": false,
     "start_time": "2025-07-22T23:25:11.255417",
     "status": "completed"
    },
    "tags": []
   },
   "outputs": [
    {
     "name": "stdout",
     "output_type": "stream",
     "text": [
      "380\n",
      "95\n",
      "380\n",
      "95\n",
      "1\n"
     ]
    }
   ],
   "source": [
    "print(len(type_train_ds))\n",
    "print(len(type_valid_ds))\n",
    "print(len(gesture_train_ds))\n",
    "print(len(gesture_valid_ds))\n",
    "\n",
    "print(len(test_ds))"
   ]
  },
  {
   "cell_type": "code",
   "execution_count": 4,
   "id": "2a2b8a29",
   "metadata": {
    "execution": {
     "iopub.execute_input": "2025-07-22T23:25:11.284654Z",
     "iopub.status.busy": "2025-07-22T23:25:11.284271Z",
     "iopub.status.idle": "2025-07-22T23:25:11.585206Z",
     "shell.execute_reply": "2025-07-22T23:25:11.583724Z"
    },
    "papermill": {
     "duration": 0.309333,
     "end_time": "2025-07-22T23:25:11.587088",
     "exception": false,
     "start_time": "2025-07-22T23:25:11.277755",
     "status": "completed"
    },
    "tags": []
   },
   "outputs": [
    {
     "name": "stdout",
     "output_type": "stream",
     "text": [
      "(16, 100, 8, 8, 5)\n",
      "(16, 1)\n"
     ]
    }
   ],
   "source": [
    "for i, (inputs, targets) in enumerate(type_train_ds):\n",
    "    if i==0:\n",
    "        print(inputs[0].shape)\n",
    "        print(targets.shape)\n",
    "        break"
   ]
  },
  {
   "cell_type": "code",
   "execution_count": 5,
   "id": "4c420e65",
   "metadata": {
    "execution": {
     "iopub.execute_input": "2025-07-22T23:25:11.599945Z",
     "iopub.status.busy": "2025-07-22T23:25:11.599470Z",
     "iopub.status.idle": "2025-07-22T23:25:11.628398Z",
     "shell.execute_reply": "2025-07-22T23:25:11.627229Z"
    },
    "papermill": {
     "duration": 0.037851,
     "end_time": "2025-07-22T23:25:11.630354",
     "exception": false,
     "start_time": "2025-07-22T23:25:11.592503",
     "status": "completed"
    },
    "tags": []
   },
   "outputs": [],
   "source": [
    "from tensorflow.keras.layers import Conv2D, Conv1D, BatchNormalization, TimeDistributed\n",
    "from tensorflow.keras.layers import MaxPool2D, GlobalMaxPool2D, MaxPool1D, Dropout\n",
    "from tensorflow.keras.layers import SimpleRNN, LSTM, GRU, Bidirectional, Flatten, Dense\n",
    "from tensorflow.keras.regularizers import L1, L2, L1L2\n",
    "from tensorflow.keras import Sequential\n",
    "\n",
    "# from keras.src import tree\n",
    "# from keras.src.trainers.data_adapters import data_adapter_utils\n",
    "# from keras.saving import register_keras_serializable\n",
    "\n",
    "# @register_keras_serializable(\"RNNModel\")\n",
    "class RNNModel(Model):\n",
    "    def __init__(self, kernel_size2d=3, kernel_size1d=3, filters_2d=[16, 32], dropout=0.2, \n",
    "                 filters_1d=[16, 32], rnn_hidden_size=32, mode=\"RNN\", bidirectional=False,\n",
    "                 hidden_size=64, regularizer=\"l1\", l1_penalty=0.1, l2_penalty=0.1, \n",
    "                 binary=True, **kwargs):\n",
    "        super().__init__(**kwargs)\n",
    "        self.hidden_size = hidden_size\n",
    "        \n",
    "        self.conv2d_nets = []\n",
    "        for i in range(len(filters_2d)):\n",
    "            conv2d_net = Sequential([\n",
    "                TimeDistributed(Conv2D(filters_2d[i], kernel_size2d, padding=\"same\", activation=\"relu\")),\n",
    "                TimeDistributed(BatchNormalization()),\n",
    "                TimeDistributed(MaxPool2D(pool_size=3, strides=2, padding=\"same\")),\n",
    "                TimeDistributed(Dropout(dropout))\n",
    "            ], name=f\"conv2d_net_{i}\")\n",
    "            self.conv2d_nets.append(conv2d_net)\n",
    "        self.global_maxpool = TimeDistributed(GlobalMaxPool2D(), name=\"global_maxpool\")\n",
    "\n",
    "        self.conv1d_nets = []\n",
    "        for i in range(len(filters_1d)):\n",
    "            conv1d_net = Sequential([\n",
    "                Conv1D(filters_1d[i], kernel_size1d, padding=\"same\", activation=\"relu\"),\n",
    "                BatchNormalization(),\n",
    "                MaxPool1D(pool_size=3, strides=2, padding=\"same\"),\n",
    "                Dropout(dropout)\n",
    "            ], name=f\"conv1d_net_{i}\")\n",
    "            self.conv1d_nets.append(conv1d_net)\n",
    "\n",
    "        if mode == \"RNN\":\n",
    "            self.rnn = SimpleRNN(rnn_hidden_size)\n",
    "        elif mode == \"LSTM\":\n",
    "            self.rnn = LSTM(rnn_hidden_size)\n",
    "        else:\n",
    "            self.rnn = GRU(rnn_hidden_size)\n",
    "        \n",
    "        if bidirectional:\n",
    "            self.rnn = Bidirectional(self.rnn, name=mode)\n",
    "\n",
    "        self.flatten = Flatten()\n",
    "\n",
    "        if regularizer == \"l1\":\n",
    "            self.dense0 = Dense(hidden_size, activation=\"relu\", \n",
    "                                kernel_regularizer=L1(l1_penalty),\n",
    "                                bias_regularizer=L1(l1_penalty))\n",
    "            self.dense1_0 = Dense(1, activation=\"sigmoid\",\n",
    "                                  kernel_regularizer=L1(l1_penalty),\n",
    "                                  bias_regularizer=L1(l1_penalty))\n",
    "            self.dense1_1 = Dense(18, activation=\"softmax\", \n",
    "                                  kernel_regularizer=L1(l1_penalty),\n",
    "                                  bias_regularizer=L1(l1_penalty))\n",
    "        elif regularizer == \"l2\":\n",
    "            self.dense0 = Dense(hidden_size, activation=\"relu\", \n",
    "                                kernel_regularizer=L2(l2_penalty),\n",
    "                                bias_regularizer=L2(l2_penalty))\n",
    "            self.dense1_0 = Dense(1, activation=\"sigmoid\", \n",
    "                                  kernel_regularizer=L2(l2_penalty),\n",
    "                                  bias_regularizer=L2(l2_penalty))\n",
    "            self.dense1_1 = Dense(18, activation=\"softmax\", \n",
    "                                  kernel_regularizer=L2(l2_penalty),\n",
    "                                  bias_regularizer=L2(l2_penalty))\n",
    "        elif regularizer == \"l1l2\":\n",
    "            self.dense0 = Dense(hidden_size, activation=\"relu\", \n",
    "                                kernel_regularizer=L1L2(l1_penalty, l2_penalty),\n",
    "                                bias_regularizer=L1L2(l1_penalty, l2_penalty))\n",
    "            self.dense1_0 = Dense(1, activation=\"sigmoid\", \n",
    "                                  kernel_regularizer=L1L2(l1_penalty, l2_penalty),\n",
    "                                  bias_regularizer=L1L2(l1_penalty, l2_penalty))\n",
    "            self.dense1_1 = Dense(18, activation=\"softmax\", \n",
    "                                  kernel_regularizer=L1L2(l1_penalty, l2_penalty),\n",
    "                                  bias_regularizer=L1L2(l1_penalty, l2_penalty))\n",
    "        else:\n",
    "            self.dense0 = Dense(hidden_size, activation=\"relu\")\n",
    "            self.dense1_0 = Dense(1, activation=\"sigmoid\")\n",
    "            self.dense1_1 = Dense(18, activation=\"softmax\")\n",
    "\n",
    "        self.binary = binary\n",
    "\n",
    "    def build(self, input_shapes, training=False):\n",
    "        shape = input_shapes[0]\n",
    "        for i in range(len(self.conv2d_nets)):\n",
    "            self.conv2d_nets[i].build(shape)\n",
    "            shape = self.conv2d_nets[i].compute_output_shape(shape)\n",
    "        self.global_maxpool.build(shape)\n",
    "        shape = self.global_maxpool.compute_output_shape(shape)\n",
    "        shape = (shape[0], shape[1], shape[2] + input_shapes[1][2])\n",
    "\n",
    "        for i in range(len(self.conv1d_nets)):\n",
    "            self.conv1d_nets[i].build(shape)\n",
    "            shape = self.conv1d_nets[i].compute_output_shape(shape)\n",
    "\n",
    "        self.rnn.build(shape)\n",
    "        shape = self.rnn.compute_output_shape(shape)\n",
    "\n",
    "        self.flatten.build(shape)\n",
    "        shape = self.flatten.compute_output_shape(shape)\n",
    "\n",
    "        shape = (shape[0], shape[1] + input_shapes[2][1])\n",
    "        self.dense0.build(shape)\n",
    "        shape = self.dense0.compute_output_shape(shape)\n",
    "\n",
    "        self.dense1_0.build(shape)\n",
    "        self.dense1_1.build(shape)\n",
    "        \n",
    "\n",
    "    def call(self, inputs, training=False):\n",
    "        image_out = inputs[0]\n",
    "        for i in range(len(self.conv2d_nets)):\n",
    "            image_out = self.conv2d_nets[i](image_out, training=training)\n",
    "        image_out = self.global_maxpool(image_out)   # (batch, timestep, filters)\n",
    "\n",
    "        out = tf.concat([image_out, inputs[1]], axis=-1)\n",
    "        for i in range(len(self.conv1d_nets)):\n",
    "            out = self.conv1d_nets[i](out, training=training)\n",
    "        \n",
    "        out = self.rnn(out)        # (batch, downsampled_timestep, rnn_hidden_size)\n",
    "        out = self.flatten(out)    # (batch, downsampled_timestep*rnn_hidden_size)\n",
    "        \n",
    "        out = tf.concat([out, inputs[2]], axis=-1)\n",
    "        out = self.dense0(out)\n",
    "        if self.binary:\n",
    "            out = self.dense1_0(out)\n",
    "        else:\n",
    "            out = self.dense1_1(out)\n",
    "        return out\n",
    "\n",
    "    def set_binary(self):\n",
    "        self.binary = True\n",
    "        if self.dense1_0.build == False:\n",
    "            self.dense1_0.build(input_shape=(None, self.hidden_size))\n",
    "\n",
    "    def set_multi(self):\n",
    "        self.binary = False\n",
    "        if self.dense1_1.build == False:\n",
    "            self.dense1_1.build(input_shape=(None, self.hidden_size))\n",
    "\n",
    "    def freeze_conv_timeseries(self):\n",
    "        for i in range(len(self.conv2d_nets)):\n",
    "            self.conv2d_nets[i].trainable = False\n",
    "        for i in range(len(self.conv1d_nets)):\n",
    "            self.conv1d_nets[i].trainable = False\n",
    "        self.rnn.trainable = False"
   ]
  },
  {
   "cell_type": "code",
   "execution_count": 6,
   "id": "3d114bdf",
   "metadata": {
    "execution": {
     "iopub.execute_input": "2025-07-22T23:25:11.642244Z",
     "iopub.status.busy": "2025-07-22T23:25:11.641797Z",
     "iopub.status.idle": "2025-07-22T23:25:11.721870Z",
     "shell.execute_reply": "2025-07-22T23:25:11.720604Z"
    },
    "papermill": {
     "duration": 0.088251,
     "end_time": "2025-07-22T23:25:11.723811",
     "exception": false,
     "start_time": "2025-07-22T23:25:11.635560",
     "status": "completed"
    },
    "tags": []
   },
   "outputs": [
    {
     "name": "stdout",
     "output_type": "stream",
     "text": [
      "(16, 100, 8, 8, 5)\n",
      "(16, 100, 12)\n",
      "(16, 14)\n"
     ]
    }
   ],
   "source": [
    "for i, (inputs, targets) in enumerate(type_train_ds):\n",
    "    if i == 0:\n",
    "        print(inputs[0].shape)\n",
    "        print(inputs[1].shape)\n",
    "        print(inputs[2].shape)\n",
    "        break"
   ]
  },
  {
   "cell_type": "code",
   "execution_count": 7,
   "id": "af9743f6",
   "metadata": {
    "execution": {
     "iopub.execute_input": "2025-07-22T23:25:11.736924Z",
     "iopub.status.busy": "2025-07-22T23:25:11.736515Z",
     "iopub.status.idle": "2025-07-22T23:25:11.761188Z",
     "shell.execute_reply": "2025-07-22T23:25:11.759903Z"
    },
    "papermill": {
     "duration": 0.033736,
     "end_time": "2025-07-22T23:25:11.763505",
     "exception": false,
     "start_time": "2025-07-22T23:25:11.729769",
     "status": "completed"
    },
    "tags": []
   },
   "outputs": [],
   "source": [
    "import json\n",
    "\n",
    "with open('/kaggle/input/cmi-tf-datasets/sample_weight.json') as f:\n",
    "    sample_weight_dict = json.load(f)\n",
    "\n",
    "type_sample_weight = sample_weight_dict[\"type_sample_weight\"]\n",
    "type_class_weight = {0: type_sample_weight[0], 1: type_sample_weight[1]}\n",
    "\n",
    "gesture_sample_weight = sample_weight_dict[\"gesture_sample_weight\"]\n",
    "gesture_class_weight = {i: gesture_sample_weight[i] for i in range(len(gesture_sample_weight))}"
   ]
  },
  {
   "cell_type": "code",
   "execution_count": 8,
   "id": "efa540b6",
   "metadata": {
    "execution": {
     "iopub.execute_input": "2025-07-22T23:25:11.777982Z",
     "iopub.status.busy": "2025-07-22T23:25:11.777556Z",
     "iopub.status.idle": "2025-07-22T23:25:11.783793Z",
     "shell.execute_reply": "2025-07-22T23:25:11.782675Z"
    },
    "papermill": {
     "duration": 0.016409,
     "end_time": "2025-07-22T23:25:11.785909",
     "exception": false,
     "start_time": "2025-07-22T23:25:11.769500",
     "status": "completed"
    },
    "tags": []
   },
   "outputs": [],
   "source": [
    "def add_type_sample_weight(x, y):\n",
    "    y_int = tf.cast(y, tf.int32)\n",
    "    weight = tf.gather([type_class_weight[0], type_class_weight[1]], y_int)\n",
    "    return x, y, weight\n",
    "\n",
    "def add_gesture_sample_weight(x, y):\n",
    "    y_arg = tf.argmax(y)\n",
    "    weight = tf.gather(gesture_sample_weight, y_arg)\n",
    "    return x, y, weight"
   ]
  },
  {
   "cell_type": "code",
   "execution_count": 9,
   "id": "e1c6209a",
   "metadata": {
    "execution": {
     "iopub.execute_input": "2025-07-22T23:25:11.798707Z",
     "iopub.status.busy": "2025-07-22T23:25:11.798344Z",
     "iopub.status.idle": "2025-07-22T23:25:11.915599Z",
     "shell.execute_reply": "2025-07-22T23:25:11.914691Z"
    },
    "papermill": {
     "duration": 0.125826,
     "end_time": "2025-07-22T23:25:11.917463",
     "exception": false,
     "start_time": "2025-07-22T23:25:11.791637",
     "status": "completed"
    },
    "tags": []
   },
   "outputs": [],
   "source": [
    "type_train_ds = type_train_ds.unbatch().map(add_type_sample_weight).batch(16)\n",
    "type_valid_ds = type_valid_ds.unbatch().map(add_type_sample_weight).batch(16)"
   ]
  },
  {
   "cell_type": "code",
   "execution_count": 10,
   "id": "e9f7eef1",
   "metadata": {
    "execution": {
     "iopub.execute_input": "2025-07-22T23:25:11.930765Z",
     "iopub.status.busy": "2025-07-22T23:25:11.929535Z",
     "iopub.status.idle": "2025-07-22T23:25:11.934577Z",
     "shell.execute_reply": "2025-07-22T23:25:11.933426Z"
    },
    "papermill": {
     "duration": 0.013373,
     "end_time": "2025-07-22T23:25:11.936470",
     "exception": false,
     "start_time": "2025-07-22T23:25:11.923097",
     "status": "completed"
    },
    "tags": []
   },
   "outputs": [],
   "source": [
    "# gesture_train_ds = gesture_train_ds.unbatch().map(add_gesture_sample_weight).batch(16)\n",
    "# gesture_valid_ds = gesture_valid_ds.unbatch().map(add_gesture_sample_weight).batch(16)"
   ]
  },
  {
   "cell_type": "code",
   "execution_count": 11,
   "id": "c78aa49a",
   "metadata": {
    "execution": {
     "iopub.execute_input": "2025-07-22T23:25:11.948724Z",
     "iopub.status.busy": "2025-07-22T23:25:11.948344Z",
     "iopub.status.idle": "2025-07-22T23:25:12.294156Z",
     "shell.execute_reply": "2025-07-22T23:25:12.293214Z"
    },
    "papermill": {
     "duration": 0.353686,
     "end_time": "2025-07-22T23:25:12.295500",
     "exception": false,
     "start_time": "2025-07-22T23:25:11.941814",
     "status": "completed"
    },
    "tags": []
   },
   "outputs": [
    {
     "name": "stdout",
     "output_type": "stream",
     "text": [
      "❌ TPU not available, using default strategy.\n",
      "TPUs not found in the cluster. Failed in initialization: Could not satisfy device specification '/job:localhost/replica:0/task:0/device:TPU_SYSTEM:0'. enable_soft_placement=0. Supported device types [CPU]. All available devices [/job:localhost/replica:0/task:0/device:CPU:0]. [Op:__inference__tpu_init_fn_161]\n"
     ]
    }
   ],
   "source": [
    "try:\n",
    "    tpu = tf.distribute.cluster_resolver.TPUClusterResolver(tpu='local')\n",
    "    tf.config.experimental_connect_to_cluster(tpu)\n",
    "    tf.tpu.experimental.initialize_tpu_system(tpu)\n",
    "    strategy = tf.distribute.TPUStrategy(tpu)\n",
    "    print(\"✅ TPU initialized.\")\n",
    "except Exception as e:\n",
    "    print(\"❌ TPU not available, using default strategy.\")\n",
    "    strategy = tf.distribute.get_strategy()\n",
    "    print(e)"
   ]
  },
  {
   "cell_type": "code",
   "execution_count": 12,
   "id": "c6e63ed4",
   "metadata": {
    "execution": {
     "iopub.execute_input": "2025-07-22T23:25:12.307461Z",
     "iopub.status.busy": "2025-07-22T23:25:12.307152Z",
     "iopub.status.idle": "2025-07-22T23:25:12.627182Z",
     "shell.execute_reply": "2025-07-22T23:25:12.626355Z"
    },
    "papermill": {
     "duration": 0.327749,
     "end_time": "2025-07-22T23:25:12.628548",
     "exception": false,
     "start_time": "2025-07-22T23:25:12.300799",
     "status": "completed"
    },
    "tags": []
   },
   "outputs": [
    {
     "data": {
      "text/html": [
       "<pre style=\"white-space:pre;overflow-x:auto;line-height:normal;font-family:Menlo,'DejaVu Sans Mono',consolas,'Courier New',monospace\"><span style=\"font-weight: bold\">Model: \"rnn_model\"</span>\n",
       "</pre>\n"
      ],
      "text/plain": [
       "\u001b[1mModel: \"rnn_model\"\u001b[0m\n"
      ]
     },
     "metadata": {},
     "output_type": "display_data"
    },
    {
     "data": {
      "text/html": [
       "<pre style=\"white-space:pre;overflow-x:auto;line-height:normal;font-family:Menlo,'DejaVu Sans Mono',consolas,'Courier New',monospace\">┏━━━━━━━━━━━━━━━━━━━━━━━━━━━━━━━━━┳━━━━━━━━━━━━━━━━━━━━━━━━┳━━━━━━━━━━━━━━━┓\n",
       "┃<span style=\"font-weight: bold\"> Layer (type)                    </span>┃<span style=\"font-weight: bold\"> Output Shape           </span>┃<span style=\"font-weight: bold\">       Param # </span>┃\n",
       "┡━━━━━━━━━━━━━━━━━━━━━━━━━━━━━━━━━╇━━━━━━━━━━━━━━━━━━━━━━━━╇━━━━━━━━━━━━━━━┩\n",
       "│ conv2d_net_0 (<span style=\"color: #0087ff; text-decoration-color: #0087ff\">Sequential</span>)       │ (<span style=\"color: #00d7ff; text-decoration-color: #00d7ff\">None</span>, <span style=\"color: #00af00; text-decoration-color: #00af00\">100</span>, <span style=\"color: #00af00; text-decoration-color: #00af00\">4</span>, <span style=\"color: #00af00; text-decoration-color: #00af00\">4</span>, <span style=\"color: #00af00; text-decoration-color: #00af00\">16</span>)  │           <span style=\"color: #00af00; text-decoration-color: #00af00\">800</span> │\n",
       "├─────────────────────────────────┼────────────────────────┼───────────────┤\n",
       "│ conv2d_net_1 (<span style=\"color: #0087ff; text-decoration-color: #0087ff\">Sequential</span>)       │ (<span style=\"color: #00d7ff; text-decoration-color: #00d7ff\">None</span>, <span style=\"color: #00af00; text-decoration-color: #00af00\">100</span>, <span style=\"color: #00af00; text-decoration-color: #00af00\">2</span>, <span style=\"color: #00af00; text-decoration-color: #00af00\">2</span>, <span style=\"color: #00af00; text-decoration-color: #00af00\">32</span>)  │         <span style=\"color: #00af00; text-decoration-color: #00af00\">4,768</span> │\n",
       "├─────────────────────────────────┼────────────────────────┼───────────────┤\n",
       "│ global_maxpool                  │ (<span style=\"color: #00d7ff; text-decoration-color: #00d7ff\">None</span>, <span style=\"color: #00af00; text-decoration-color: #00af00\">100</span>, <span style=\"color: #00af00; text-decoration-color: #00af00\">32</span>)        │             <span style=\"color: #00af00; text-decoration-color: #00af00\">0</span> │\n",
       "│ (<span style=\"color: #0087ff; text-decoration-color: #0087ff\">TimeDistributed</span>)               │                        │               │\n",
       "├─────────────────────────────────┼────────────────────────┼───────────────┤\n",
       "│ conv1d_net_0 (<span style=\"color: #0087ff; text-decoration-color: #0087ff\">Sequential</span>)       │ (<span style=\"color: #00d7ff; text-decoration-color: #00d7ff\">None</span>, <span style=\"color: #00af00; text-decoration-color: #00af00\">50</span>, <span style=\"color: #00af00; text-decoration-color: #00af00\">64</span>)         │         <span style=\"color: #00af00; text-decoration-color: #00af00\">8,768</span> │\n",
       "├─────────────────────────────────┼────────────────────────┼───────────────┤\n",
       "│ conv1d_net_1 (<span style=\"color: #0087ff; text-decoration-color: #0087ff\">Sequential</span>)       │ (<span style=\"color: #00d7ff; text-decoration-color: #00d7ff\">None</span>, <span style=\"color: #00af00; text-decoration-color: #00af00\">25</span>, <span style=\"color: #00af00; text-decoration-color: #00af00\">128</span>)        │        <span style=\"color: #00af00; text-decoration-color: #00af00\">25,216</span> │\n",
       "├─────────────────────────────────┼────────────────────────┼───────────────┤\n",
       "│ conv1d_net_2 (<span style=\"color: #0087ff; text-decoration-color: #0087ff\">Sequential</span>)       │ (<span style=\"color: #00d7ff; text-decoration-color: #00d7ff\">None</span>, <span style=\"color: #00af00; text-decoration-color: #00af00\">13</span>, <span style=\"color: #00af00; text-decoration-color: #00af00\">256</span>)        │        <span style=\"color: #00af00; text-decoration-color: #00af00\">99,584</span> │\n",
       "├─────────────────────────────────┼────────────────────────┼───────────────┤\n",
       "│ gru (<span style=\"color: #0087ff; text-decoration-color: #0087ff\">GRU</span>)                       │ ?                      │   <span style=\"color: #00af00; text-decoration-color: #00af00\">0</span> (unbuilt) │\n",
       "├─────────────────────────────────┼────────────────────────┼───────────────┤\n",
       "│ GRU (<span style=\"color: #0087ff; text-decoration-color: #0087ff\">Bidirectional</span>)             │ (<span style=\"color: #00d7ff; text-decoration-color: #00d7ff\">None</span>, <span style=\"color: #00af00; text-decoration-color: #00af00\">512</span>)            │       <span style=\"color: #00af00; text-decoration-color: #00af00\">789,504</span> │\n",
       "├─────────────────────────────────┼────────────────────────┼───────────────┤\n",
       "│ flatten (<span style=\"color: #0087ff; text-decoration-color: #0087ff\">Flatten</span>)               │ (<span style=\"color: #00d7ff; text-decoration-color: #00d7ff\">None</span>, <span style=\"color: #00af00; text-decoration-color: #00af00\">512</span>)            │             <span style=\"color: #00af00; text-decoration-color: #00af00\">0</span> │\n",
       "├─────────────────────────────────┼────────────────────────┼───────────────┤\n",
       "│ dense (<span style=\"color: #0087ff; text-decoration-color: #0087ff\">Dense</span>)                   │ (<span style=\"color: #00d7ff; text-decoration-color: #00d7ff\">None</span>, <span style=\"color: #00af00; text-decoration-color: #00af00\">512</span>)            │       <span style=\"color: #00af00; text-decoration-color: #00af00\">269,824</span> │\n",
       "├─────────────────────────────────┼────────────────────────┼───────────────┤\n",
       "│ dense_1 (<span style=\"color: #0087ff; text-decoration-color: #0087ff\">Dense</span>)                 │ (<span style=\"color: #00d7ff; text-decoration-color: #00d7ff\">None</span>, <span style=\"color: #00af00; text-decoration-color: #00af00\">1</span>)              │           <span style=\"color: #00af00; text-decoration-color: #00af00\">513</span> │\n",
       "├─────────────────────────────────┼────────────────────────┼───────────────┤\n",
       "│ dense_2 (<span style=\"color: #0087ff; text-decoration-color: #0087ff\">Dense</span>)                 │ (<span style=\"color: #00d7ff; text-decoration-color: #00d7ff\">None</span>, <span style=\"color: #00af00; text-decoration-color: #00af00\">18</span>)             │         <span style=\"color: #00af00; text-decoration-color: #00af00\">9,234</span> │\n",
       "└─────────────────────────────────┴────────────────────────┴───────────────┘\n",
       "</pre>\n"
      ],
      "text/plain": [
       "┏━━━━━━━━━━━━━━━━━━━━━━━━━━━━━━━━━┳━━━━━━━━━━━━━━━━━━━━━━━━┳━━━━━━━━━━━━━━━┓\n",
       "┃\u001b[1m \u001b[0m\u001b[1mLayer (type)                   \u001b[0m\u001b[1m \u001b[0m┃\u001b[1m \u001b[0m\u001b[1mOutput Shape          \u001b[0m\u001b[1m \u001b[0m┃\u001b[1m \u001b[0m\u001b[1m      Param #\u001b[0m\u001b[1m \u001b[0m┃\n",
       "┡━━━━━━━━━━━━━━━━━━━━━━━━━━━━━━━━━╇━━━━━━━━━━━━━━━━━━━━━━━━╇━━━━━━━━━━━━━━━┩\n",
       "│ conv2d_net_0 (\u001b[38;5;33mSequential\u001b[0m)       │ (\u001b[38;5;45mNone\u001b[0m, \u001b[38;5;34m100\u001b[0m, \u001b[38;5;34m4\u001b[0m, \u001b[38;5;34m4\u001b[0m, \u001b[38;5;34m16\u001b[0m)  │           \u001b[38;5;34m800\u001b[0m │\n",
       "├─────────────────────────────────┼────────────────────────┼───────────────┤\n",
       "│ conv2d_net_1 (\u001b[38;5;33mSequential\u001b[0m)       │ (\u001b[38;5;45mNone\u001b[0m, \u001b[38;5;34m100\u001b[0m, \u001b[38;5;34m2\u001b[0m, \u001b[38;5;34m2\u001b[0m, \u001b[38;5;34m32\u001b[0m)  │         \u001b[38;5;34m4,768\u001b[0m │\n",
       "├─────────────────────────────────┼────────────────────────┼───────────────┤\n",
       "│ global_maxpool                  │ (\u001b[38;5;45mNone\u001b[0m, \u001b[38;5;34m100\u001b[0m, \u001b[38;5;34m32\u001b[0m)        │             \u001b[38;5;34m0\u001b[0m │\n",
       "│ (\u001b[38;5;33mTimeDistributed\u001b[0m)               │                        │               │\n",
       "├─────────────────────────────────┼────────────────────────┼───────────────┤\n",
       "│ conv1d_net_0 (\u001b[38;5;33mSequential\u001b[0m)       │ (\u001b[38;5;45mNone\u001b[0m, \u001b[38;5;34m50\u001b[0m, \u001b[38;5;34m64\u001b[0m)         │         \u001b[38;5;34m8,768\u001b[0m │\n",
       "├─────────────────────────────────┼────────────────────────┼───────────────┤\n",
       "│ conv1d_net_1 (\u001b[38;5;33mSequential\u001b[0m)       │ (\u001b[38;5;45mNone\u001b[0m, \u001b[38;5;34m25\u001b[0m, \u001b[38;5;34m128\u001b[0m)        │        \u001b[38;5;34m25,216\u001b[0m │\n",
       "├─────────────────────────────────┼────────────────────────┼───────────────┤\n",
       "│ conv1d_net_2 (\u001b[38;5;33mSequential\u001b[0m)       │ (\u001b[38;5;45mNone\u001b[0m, \u001b[38;5;34m13\u001b[0m, \u001b[38;5;34m256\u001b[0m)        │        \u001b[38;5;34m99,584\u001b[0m │\n",
       "├─────────────────────────────────┼────────────────────────┼───────────────┤\n",
       "│ gru (\u001b[38;5;33mGRU\u001b[0m)                       │ ?                      │   \u001b[38;5;34m0\u001b[0m (unbuilt) │\n",
       "├─────────────────────────────────┼────────────────────────┼───────────────┤\n",
       "│ GRU (\u001b[38;5;33mBidirectional\u001b[0m)             │ (\u001b[38;5;45mNone\u001b[0m, \u001b[38;5;34m512\u001b[0m)            │       \u001b[38;5;34m789,504\u001b[0m │\n",
       "├─────────────────────────────────┼────────────────────────┼───────────────┤\n",
       "│ flatten (\u001b[38;5;33mFlatten\u001b[0m)               │ (\u001b[38;5;45mNone\u001b[0m, \u001b[38;5;34m512\u001b[0m)            │             \u001b[38;5;34m0\u001b[0m │\n",
       "├─────────────────────────────────┼────────────────────────┼───────────────┤\n",
       "│ dense (\u001b[38;5;33mDense\u001b[0m)                   │ (\u001b[38;5;45mNone\u001b[0m, \u001b[38;5;34m512\u001b[0m)            │       \u001b[38;5;34m269,824\u001b[0m │\n",
       "├─────────────────────────────────┼────────────────────────┼───────────────┤\n",
       "│ dense_1 (\u001b[38;5;33mDense\u001b[0m)                 │ (\u001b[38;5;45mNone\u001b[0m, \u001b[38;5;34m1\u001b[0m)              │           \u001b[38;5;34m513\u001b[0m │\n",
       "├─────────────────────────────────┼────────────────────────┼───────────────┤\n",
       "│ dense_2 (\u001b[38;5;33mDense\u001b[0m)                 │ (\u001b[38;5;45mNone\u001b[0m, \u001b[38;5;34m18\u001b[0m)             │         \u001b[38;5;34m9,234\u001b[0m │\n",
       "└─────────────────────────────────┴────────────────────────┴───────────────┘\n"
      ]
     },
     "metadata": {},
     "output_type": "display_data"
    },
    {
     "data": {
      "text/html": [
       "<pre style=\"white-space:pre;overflow-x:auto;line-height:normal;font-family:Menlo,'DejaVu Sans Mono',consolas,'Courier New',monospace\"><span style=\"font-weight: bold\"> Total params: </span><span style=\"color: #00af00; text-decoration-color: #00af00\">1,208,211</span> (4.61 MB)\n",
       "</pre>\n"
      ],
      "text/plain": [
       "\u001b[1m Total params: \u001b[0m\u001b[38;5;34m1,208,211\u001b[0m (4.61 MB)\n"
      ]
     },
     "metadata": {},
     "output_type": "display_data"
    },
    {
     "data": {
      "text/html": [
       "<pre style=\"white-space:pre;overflow-x:auto;line-height:normal;font-family:Menlo,'DejaVu Sans Mono',consolas,'Courier New',monospace\"><span style=\"font-weight: bold\"> Trainable params: </span><span style=\"color: #00af00; text-decoration-color: #00af00\">1,207,219</span> (4.61 MB)\n",
       "</pre>\n"
      ],
      "text/plain": [
       "\u001b[1m Trainable params: \u001b[0m\u001b[38;5;34m1,207,219\u001b[0m (4.61 MB)\n"
      ]
     },
     "metadata": {},
     "output_type": "display_data"
    },
    {
     "data": {
      "text/html": [
       "<pre style=\"white-space:pre;overflow-x:auto;line-height:normal;font-family:Menlo,'DejaVu Sans Mono',consolas,'Courier New',monospace\"><span style=\"font-weight: bold\"> Non-trainable params: </span><span style=\"color: #00af00; text-decoration-color: #00af00\">992</span> (3.88 KB)\n",
       "</pre>\n"
      ],
      "text/plain": [
       "\u001b[1m Non-trainable params: \u001b[0m\u001b[38;5;34m992\u001b[0m (3.88 KB)\n"
      ]
     },
     "metadata": {},
     "output_type": "display_data"
    }
   ],
   "source": [
    "from tensorflow.keras.losses import BinaryCrossentropy, CategoricalCrossentropy, CategoricalFocalCrossentropy\n",
    "from tensorflow.keras.optimizers import Adam\n",
    "from tensorflow.keras.metrics import BinaryAccuracy, F1Score, AUC\n",
    "\n",
    "# kernel_size2d = 3\n",
    "# kernel_size1d = 3\n",
    "# filters_2d = [16, 32]\n",
    "# dropout = 0.5\n",
    "# filters_1d = [64, 128]\n",
    "# rnn_hidden_size = 128\n",
    "# mode = \"GRU\"\n",
    "# bidirectional = True\n",
    "# hidden_size = 256\n",
    "# regularizer = \"l2\"\n",
    "# l1_panalty = 1e-4\n",
    "# l2_penalty = 1e-4\n",
    "# binary = True\n",
    "\n",
    "model = RNNModel(kernel_size2d=3, kernel_size1d=3, filters_2d=[16, 32], dropout=0.2,\n",
    "                 filters_1d=[64, 128, 256], rnn_hidden_size=256, mode=\"GRU\", bidirectional=True,\n",
    "                 hidden_size=512, regularizer=\"l1l2\", l1_penalty=1e-4, l2_penalty=1e-4, binary=True)\n",
    "model.build(input_shapes=((None, 100, 8, 8, 5), (None, 100, 12), (None, 14)))\n",
    "model.compile(loss=BinaryCrossentropy(),\n",
    "              optimizer=Adam(learning_rate=0.0005),\n",
    "              metrics=[\"accuracy\", \"auc\"])\n",
    "\n",
    "# with strategy.scope():\n",
    "#     model = RNNModel(kernel_size2d=3, kernel_size1d=3, filters_2d=[16, 32], dropout=0.5,\n",
    "#                      filters_1d=[64, 128], rnn_hidden_size=128, mode=\"GRU\", bidirectional=True,\n",
    "#                      hidden_size=256, regularizer=\"l2\", l1_penalty=1e-5, l2_penalty=1e-5, binary=True)\n",
    "#     model.build(input_shapes=((None, 100, 8, 8, 5), (None, 100, 12), (None, 14)))\n",
    "#     model.compile(loss=BinaryCrossentropy(),\n",
    "#                   optimizer=Adam(learning_rate=0.0001),\n",
    "#                   metrics=[\"accuracy\", \"auc\"])\n",
    "model.summary()"
   ]
  },
  {
   "cell_type": "code",
   "execution_count": 13,
   "id": "c29c895c",
   "metadata": {
    "execution": {
     "iopub.execute_input": "2025-07-22T23:25:12.641391Z",
     "iopub.status.busy": "2025-07-22T23:25:12.641092Z",
     "iopub.status.idle": "2025-07-23T00:34:18.023165Z",
     "shell.execute_reply": "2025-07-23T00:34:18.020931Z"
    },
    "papermill": {
     "duration": 4145.391383,
     "end_time": "2025-07-23T00:34:18.025891",
     "exception": false,
     "start_time": "2025-07-22T23:25:12.634508",
     "status": "completed"
    },
    "tags": []
   },
   "outputs": [
    {
     "name": "stdout",
     "output_type": "stream",
     "text": [
      "Epoch 1/20\n",
      "    380/Unknown \u001b[1m350s\u001b[0m 516ms/step - accuracy: 0.7318 - auc: 0.8088 - loss: 1.6559\n",
      "Epoch 1: val_loss improved from inf to 1.17595, saving model to /kaggle/working/best_binary_model.weights.h5\n",
      "\u001b[1m380/380\u001b[0m \u001b[32m━━━━━━━━━━━━━━━━━━━━\u001b[0m\u001b[37m\u001b[0m \u001b[1m372s\u001b[0m 574ms/step - accuracy: 0.7319 - auc: 0.8090 - loss: 1.6554 - val_accuracy: 0.8492 - val_auc: 0.9232 - val_loss: 1.1760\n",
      "Epoch 2/20\n",
      "\u001b[1m380/380\u001b[0m \u001b[32m━━━━━━━━━━━━━━━━━━━━\u001b[0m\u001b[37m\u001b[0m \u001b[1m0s\u001b[0m 498ms/step - accuracy: 0.8709 - auc: 0.9423 - loss: 1.0542\n",
      "Epoch 2: val_loss improved from 1.17595 to 0.87187, saving model to /kaggle/working/best_binary_model.weights.h5\n",
      "\u001b[1m380/380\u001b[0m \u001b[32m━━━━━━━━━━━━━━━━━━━━\u001b[0m\u001b[37m\u001b[0m \u001b[1m193s\u001b[0m 508ms/step - accuracy: 0.8709 - auc: 0.9423 - loss: 1.0540 - val_accuracy: 0.8901 - val_auc: 0.9494 - val_loss: 0.8719\n",
      "Epoch 3/20\n",
      "\u001b[1m380/380\u001b[0m \u001b[32m━━━━━━━━━━━━━━━━━━━━\u001b[0m\u001b[37m\u001b[0m \u001b[1m0s\u001b[0m 455ms/step - accuracy: 0.9095 - auc: 0.9687 - loss: 0.7527\n",
      "Epoch 3: val_loss improved from 0.87187 to 0.73715, saving model to /kaggle/working/best_binary_model.weights.h5\n",
      "\u001b[1m380/380\u001b[0m \u001b[32m━━━━━━━━━━━━━━━━━━━━\u001b[0m\u001b[37m\u001b[0m \u001b[1m177s\u001b[0m 466ms/step - accuracy: 0.9095 - auc: 0.9687 - loss: 0.7526 - val_accuracy: 0.8960 - val_auc: 0.9536 - val_loss: 0.7371\n",
      "Epoch 4/20\n",
      "\u001b[1m380/380\u001b[0m \u001b[32m━━━━━━━━━━━━━━━━━━━━\u001b[0m\u001b[37m\u001b[0m \u001b[1m0s\u001b[0m 517ms/step - accuracy: 0.9275 - auc: 0.9789 - loss: 0.5623\n",
      "Epoch 4: val_loss improved from 0.73715 to 0.58199, saving model to /kaggle/working/best_binary_model.weights.h5\n",
      "\u001b[1m380/380\u001b[0m \u001b[32m━━━━━━━━━━━━━━━━━━━━\u001b[0m\u001b[37m\u001b[0m \u001b[1m200s\u001b[0m 527ms/step - accuracy: 0.9275 - auc: 0.9789 - loss: 0.5622 - val_accuracy: 0.9151 - val_auc: 0.9612 - val_loss: 0.5820\n",
      "Epoch 5/20\n",
      "\u001b[1m380/380\u001b[0m \u001b[32m━━━━━━━━━━━━━━━━━━━━\u001b[0m\u001b[37m\u001b[0m \u001b[1m0s\u001b[0m 505ms/step - accuracy: 0.9432 - auc: 0.9848 - loss: 0.4326\n",
      "Epoch 5: val_loss did not improve from 0.58199\n",
      "\u001b[1m380/380\u001b[0m \u001b[32m━━━━━━━━━━━━━━━━━━━━\u001b[0m\u001b[37m\u001b[0m \u001b[1m196s\u001b[0m 515ms/step - accuracy: 0.9431 - auc: 0.9848 - loss: 0.4326 - val_accuracy: 0.9065 - val_auc: 0.9632 - val_loss: 0.5841\n",
      "Epoch 6/20\n",
      "\u001b[1m380/380\u001b[0m \u001b[32m━━━━━━━━━━━━━━━━━━━━\u001b[0m\u001b[37m\u001b[0m \u001b[1m0s\u001b[0m 503ms/step - accuracy: 0.9466 - auc: 0.9875 - loss: 0.3546\n",
      "Epoch 6: val_loss improved from 0.58199 to 0.43943, saving model to /kaggle/working/best_binary_model.weights.h5\n",
      "\u001b[1m380/380\u001b[0m \u001b[32m━━━━━━━━━━━━━━━━━━━━\u001b[0m\u001b[37m\u001b[0m \u001b[1m195s\u001b[0m 513ms/step - accuracy: 0.9466 - auc: 0.9875 - loss: 0.3546 - val_accuracy: 0.9269 - val_auc: 0.9682 - val_loss: 0.4394\n",
      "Epoch 7/20\n",
      "\u001b[1m380/380\u001b[0m \u001b[32m━━━━━━━━━━━━━━━━━━━━\u001b[0m\u001b[37m\u001b[0m \u001b[1m0s\u001b[0m 521ms/step - accuracy: 0.9581 - auc: 0.9922 - loss: 0.2774\n",
      "Epoch 7: val_loss did not improve from 0.43943\n",
      "\u001b[1m380/380\u001b[0m \u001b[32m━━━━━━━━━━━━━━━━━━━━\u001b[0m\u001b[37m\u001b[0m \u001b[1m202s\u001b[0m 532ms/step - accuracy: 0.9581 - auc: 0.9922 - loss: 0.2774 - val_accuracy: 0.9105 - val_auc: 0.9676 - val_loss: 0.5384\n",
      "Epoch 8/20\n",
      "\u001b[1m380/380\u001b[0m \u001b[32m━━━━━━━━━━━━━━━━━━━━\u001b[0m\u001b[37m\u001b[0m \u001b[1m0s\u001b[0m 532ms/step - accuracy: 0.9604 - auc: 0.9928 - loss: 0.2446\n",
      "Epoch 8: val_loss improved from 0.43943 to 0.43319, saving model to /kaggle/working/best_binary_model.weights.h5\n",
      "\u001b[1m380/380\u001b[0m \u001b[32m━━━━━━━━━━━━━━━━━━━━\u001b[0m\u001b[37m\u001b[0m \u001b[1m206s\u001b[0m 543ms/step - accuracy: 0.9603 - auc: 0.9928 - loss: 0.2446 - val_accuracy: 0.9203 - val_auc: 0.9647 - val_loss: 0.4332\n",
      "Epoch 9/20\n",
      "\u001b[1m380/380\u001b[0m \u001b[32m━━━━━━━━━━━━━━━━━━━━\u001b[0m\u001b[37m\u001b[0m \u001b[1m0s\u001b[0m 534ms/step - accuracy: 0.9643 - auc: 0.9929 - loss: 0.2323\n",
      "Epoch 9: val_loss improved from 0.43319 to 0.41286, saving model to /kaggle/working/best_binary_model.weights.h5\n",
      "\u001b[1m380/380\u001b[0m \u001b[32m━━━━━━━━━━━━━━━━━━━━\u001b[0m\u001b[37m\u001b[0m \u001b[1m207s\u001b[0m 544ms/step - accuracy: 0.9643 - auc: 0.9929 - loss: 0.2323 - val_accuracy: 0.9256 - val_auc: 0.9716 - val_loss: 0.4129\n",
      "Epoch 10/20\n",
      "\u001b[1m380/380\u001b[0m \u001b[32m━━━━━━━━━━━━━━━━━━━━\u001b[0m\u001b[37m\u001b[0m \u001b[1m0s\u001b[0m 521ms/step - accuracy: 0.9643 - auc: 0.9938 - loss: 0.2114\n",
      "Epoch 10: val_loss did not improve from 0.41286\n",
      "\u001b[1m380/380\u001b[0m \u001b[32m━━━━━━━━━━━━━━━━━━━━\u001b[0m\u001b[37m\u001b[0m \u001b[1m202s\u001b[0m 531ms/step - accuracy: 0.9643 - auc: 0.9938 - loss: 0.2114 - val_accuracy: 0.9184 - val_auc: 0.9706 - val_loss: 0.4767\n",
      "Epoch 11/20\n",
      "\u001b[1m380/380\u001b[0m \u001b[32m━━━━━━━━━━━━━━━━━━━━\u001b[0m\u001b[37m\u001b[0m \u001b[1m0s\u001b[0m 512ms/step - accuracy: 0.9674 - auc: 0.9940 - loss: 0.2019\n",
      "Epoch 11: val_loss improved from 0.41286 to 0.38033, saving model to /kaggle/working/best_binary_model.weights.h5\n",
      "\u001b[1m380/380\u001b[0m \u001b[32m━━━━━━━━━━━━━━━━━━━━\u001b[0m\u001b[37m\u001b[0m \u001b[1m202s\u001b[0m 532ms/step - accuracy: 0.9674 - auc: 0.9940 - loss: 0.2019 - val_accuracy: 0.9315 - val_auc: 0.9722 - val_loss: 0.3803\n",
      "Epoch 12/20\n",
      "\u001b[1m380/380\u001b[0m \u001b[32m━━━━━━━━━━━━━━━━━━━━\u001b[0m\u001b[37m\u001b[0m \u001b[1m0s\u001b[0m 525ms/step - accuracy: 0.9725 - auc: 0.9959 - loss: 0.1806\n",
      "Epoch 12: val_loss improved from 0.38033 to 0.35559, saving model to /kaggle/working/best_binary_model.weights.h5\n",
      "\u001b[1m380/380\u001b[0m \u001b[32m━━━━━━━━━━━━━━━━━━━━\u001b[0m\u001b[37m\u001b[0m \u001b[1m204s\u001b[0m 536ms/step - accuracy: 0.9725 - auc: 0.9959 - loss: 0.1806 - val_accuracy: 0.9256 - val_auc: 0.9714 - val_loss: 0.3556\n",
      "Epoch 13/20\n",
      "\u001b[1m380/380\u001b[0m \u001b[32m━━━━━━━━━━━━━━━━━━━━\u001b[0m\u001b[37m\u001b[0m \u001b[1m0s\u001b[0m 522ms/step - accuracy: 0.9770 - auc: 0.9965 - loss: 0.1620\n",
      "Epoch 13: val_loss did not improve from 0.35559\n",
      "\u001b[1m380/380\u001b[0m \u001b[32m━━━━━━━━━━━━━━━━━━━━\u001b[0m\u001b[37m\u001b[0m \u001b[1m202s\u001b[0m 532ms/step - accuracy: 0.9770 - auc: 0.9965 - loss: 0.1620 - val_accuracy: 0.9355 - val_auc: 0.9753 - val_loss: 0.3598\n",
      "Epoch 14/20\n",
      "\u001b[1m380/380\u001b[0m \u001b[32m━━━━━━━━━━━━━━━━━━━━\u001b[0m\u001b[37m\u001b[0m \u001b[1m0s\u001b[0m 521ms/step - accuracy: 0.9815 - auc: 0.9977 - loss: 0.1470\n",
      "Epoch 14: val_loss did not improve from 0.35559\n",
      "\u001b[1m380/380\u001b[0m \u001b[32m━━━━━━━━━━━━━━━━━━━━\u001b[0m\u001b[37m\u001b[0m \u001b[1m202s\u001b[0m 531ms/step - accuracy: 0.9815 - auc: 0.9977 - loss: 0.1470 - val_accuracy: 0.9203 - val_auc: 0.9746 - val_loss: 0.4274\n",
      "Epoch 15/20\n",
      "\u001b[1m380/380\u001b[0m \u001b[32m━━━━━━━━━━━━━━━━━━━━\u001b[0m\u001b[37m\u001b[0m \u001b[1m0s\u001b[0m 518ms/step - accuracy: 0.9773 - auc: 0.9971 - loss: 0.1511\n",
      "Epoch 15: val_loss improved from 0.35559 to 0.31600, saving model to /kaggle/working/best_binary_model.weights.h5\n",
      "\u001b[1m380/380\u001b[0m \u001b[32m━━━━━━━━━━━━━━━━━━━━\u001b[0m\u001b[37m\u001b[0m \u001b[1m201s\u001b[0m 529ms/step - accuracy: 0.9773 - auc: 0.9971 - loss: 0.1511 - val_accuracy: 0.9315 - val_auc: 0.9759 - val_loss: 0.3160\n",
      "Epoch 16/20\n",
      "\u001b[1m380/380\u001b[0m \u001b[32m━━━━━━━━━━━━━━━━━━━━\u001b[0m\u001b[37m\u001b[0m \u001b[1m0s\u001b[0m 505ms/step - accuracy: 0.9782 - auc: 0.9966 - loss: 0.1501\n",
      "Epoch 16: val_loss did not improve from 0.31600\n",
      "\u001b[1m380/380\u001b[0m \u001b[32m━━━━━━━━━━━━━━━━━━━━\u001b[0m\u001b[37m\u001b[0m \u001b[1m196s\u001b[0m 515ms/step - accuracy: 0.9782 - auc: 0.9966 - loss: 0.1501 - val_accuracy: 0.9315 - val_auc: 0.9788 - val_loss: 0.3604\n",
      "Epoch 17/20\n",
      "\u001b[1m380/380\u001b[0m \u001b[32m━━━━━━━━━━━━━━━━━━━━\u001b[0m\u001b[37m\u001b[0m \u001b[1m0s\u001b[0m 512ms/step - accuracy: 0.9825 - auc: 0.9985 - loss: 0.1311\n",
      "Epoch 17: val_loss did not improve from 0.31600\n",
      "\u001b[1m380/380\u001b[0m \u001b[32m━━━━━━━━━━━━━━━━━━━━\u001b[0m\u001b[37m\u001b[0m \u001b[1m199s\u001b[0m 522ms/step - accuracy: 0.9825 - auc: 0.9985 - loss: 0.1311 - val_accuracy: 0.9348 - val_auc: 0.9731 - val_loss: 0.3657\n",
      "Epoch 18/20\n",
      "\u001b[1m380/380\u001b[0m \u001b[32m━━━━━━━━━━━━━━━━━━━━\u001b[0m\u001b[37m\u001b[0m \u001b[1m0s\u001b[0m 507ms/step - accuracy: 0.9776 - auc: 0.9980 - loss: 0.1366\n",
      "Epoch 18: val_loss improved from 0.31600 to 0.29837, saving model to /kaggle/working/best_binary_model.weights.h5\n",
      "\u001b[1m380/380\u001b[0m \u001b[32m━━━━━━━━━━━━━━━━━━━━\u001b[0m\u001b[37m\u001b[0m \u001b[1m197s\u001b[0m 518ms/step - accuracy: 0.9776 - auc: 0.9980 - loss: 0.1366 - val_accuracy: 0.9401 - val_auc: 0.9795 - val_loss: 0.2984\n",
      "Epoch 19/20\n",
      "\u001b[1m380/380\u001b[0m \u001b[32m━━━━━━━━━━━━━━━━━━━━\u001b[0m\u001b[37m\u001b[0m \u001b[1m0s\u001b[0m 490ms/step - accuracy: 0.9873 - auc: 0.9987 - loss: 0.1127\n",
      "Epoch 19: val_loss did not improve from 0.29837\n",
      "\u001b[1m380/380\u001b[0m \u001b[32m━━━━━━━━━━━━━━━━━━━━\u001b[0m\u001b[37m\u001b[0m \u001b[1m190s\u001b[0m 500ms/step - accuracy: 0.9873 - auc: 0.9987 - loss: 0.1127 - val_accuracy: 0.9401 - val_auc: 0.9805 - val_loss: 0.3264\n",
      "Epoch 20/20\n",
      "\u001b[1m380/380\u001b[0m \u001b[32m━━━━━━━━━━━━━━━━━━━━\u001b[0m\u001b[37m\u001b[0m \u001b[1m0s\u001b[0m 490ms/step - accuracy: 0.9827 - auc: 0.9982 - loss: 0.1355\n",
      "Epoch 20: val_loss did not improve from 0.29837\n",
      "\u001b[1m380/380\u001b[0m \u001b[32m━━━━━━━━━━━━━━━━━━━━\u001b[0m\u001b[37m\u001b[0m \u001b[1m190s\u001b[0m 501ms/step - accuracy: 0.9827 - auc: 0.9982 - loss: 0.1355 - val_accuracy: 0.9315 - val_auc: 0.9738 - val_loss: 0.3628\n"
     ]
    }
   ],
   "source": [
    "from tensorflow.keras.callbacks import ModelCheckpoint\n",
    "checkpoint_filepath = \"/kaggle/working/best_binary_model.weights.h5\"\n",
    "checkpoint_callback = ModelCheckpoint(\n",
    "    filepath=checkpoint_filepath,\n",
    "    monitor=\"val_loss\",\n",
    "    save_best_only=True,\n",
    "    save_weights_only=True,\n",
    "    mode=\"min\",\n",
    "    verbose=1\n",
    ")\n",
    "\n",
    "history = model.fit(type_train_ds, epochs=20, \n",
    "                    validation_data=type_valid_ds,\n",
    "                    callbacks=[checkpoint_callback])\n",
    "model.load_weights(checkpoint_filepath)"
   ]
  },
  {
   "cell_type": "code",
   "execution_count": 14,
   "id": "cefaa09b",
   "metadata": {
    "execution": {
     "iopub.execute_input": "2025-07-23T00:34:18.801720Z",
     "iopub.status.busy": "2025-07-23T00:34:18.801256Z",
     "iopub.status.idle": "2025-07-23T00:34:22.734542Z",
     "shell.execute_reply": "2025-07-23T00:34:22.733303Z"
    },
    "papermill": {
     "duration": 4.322968,
     "end_time": "2025-07-23T00:34:22.736094",
     "exception": false,
     "start_time": "2025-07-23T00:34:18.413126",
     "status": "completed"
    },
    "tags": []
   },
   "outputs": [
    {
     "name": "stdout",
     "output_type": "stream",
     "text": [
      "\u001b[1m95/95\u001b[0m \u001b[32m━━━━━━━━━━━━━━━━━━━━\u001b[0m\u001b[37m\u001b[0m \u001b[1m4s\u001b[0m 41ms/step - accuracy: 0.9391 - auc: 0.9825 - loss: 0.2810\n"
     ]
    }
   ],
   "source": [
    "from tensorflow.keras.metrics import AUC\n",
    "result = model.evaluate(type_valid_ds)"
   ]
  },
  {
   "cell_type": "code",
   "execution_count": 15,
   "id": "20d166d1",
   "metadata": {
    "execution": {
     "iopub.execute_input": "2025-07-23T00:34:23.586103Z",
     "iopub.status.busy": "2025-07-23T00:34:23.585697Z",
     "iopub.status.idle": "2025-07-23T00:35:13.429824Z",
     "shell.execute_reply": "2025-07-23T00:35:13.428818Z"
    },
    "papermill": {
     "duration": 50.613621,
     "end_time": "2025-07-23T00:35:13.814532",
     "exception": false,
     "start_time": "2025-07-23T00:34:23.200911",
     "status": "completed"
    },
    "tags": []
   },
   "outputs": [
    {
     "data": {
      "text/plain": [
       "<tf.Tensor: shape=(2, 2), dtype=int32, numpy=\n",
       "array([[535,  31],\n",
       "       [ 60, 893]], dtype=int32)>"
      ]
     },
     "execution_count": 15,
     "metadata": {},
     "output_type": "execute_result"
    }
   ],
   "source": [
    "conf_tensor = tf.zeros((2, 2), dtype=tf.int32)\n",
    "for i, (inputs, labels, sample_weight) in enumerate(type_valid_ds):\n",
    "    labels_pred = model.predict(inputs, verbose=0)\n",
    "    labels_pred[labels_pred < 0.5] = 0\n",
    "    labels_pred[labels_pred >= 0.5] = 1\n",
    "    conf_tensor += tf.math.confusion_matrix(tf.reshape(labels, -1), tf.reshape(labels_pred, -1))\n",
    "conf_tensor"
   ]
  },
  {
   "cell_type": "code",
   "execution_count": 16,
   "id": "badbd334",
   "metadata": {
    "execution": {
     "iopub.execute_input": "2025-07-23T00:35:14.684947Z",
     "iopub.status.busy": "2025-07-23T00:35:14.683872Z",
     "iopub.status.idle": "2025-07-23T00:35:14.690064Z",
     "shell.execute_reply": "2025-07-23T00:35:14.688906Z"
    },
    "papermill": {
     "duration": 0.472582,
     "end_time": "2025-07-23T00:35:14.691496",
     "exception": false,
     "start_time": "2025-07-23T00:35:14.218914",
     "status": "completed"
    },
    "tags": []
   },
   "outputs": [
    {
     "data": {
      "text/plain": [
       "<tf.Tensor: shape=(2, 2), dtype=int32, numpy=\n",
       "array([[535,  31],\n",
       "       [ 60, 893]], dtype=int32)>"
      ]
     },
     "execution_count": 16,
     "metadata": {},
     "output_type": "execute_result"
    }
   ],
   "source": [
    "conf_tensor"
   ]
  },
  {
   "cell_type": "code",
   "execution_count": 17,
   "id": "8d651d78",
   "metadata": {
    "execution": {
     "iopub.execute_input": "2025-07-23T00:35:15.461310Z",
     "iopub.status.busy": "2025-07-23T00:35:15.460991Z",
     "iopub.status.idle": "2025-07-23T00:35:15.481609Z",
     "shell.execute_reply": "2025-07-23T00:35:15.480746Z"
    },
    "papermill": {
     "duration": 0.408756,
     "end_time": "2025-07-23T00:35:15.483124",
     "exception": false,
     "start_time": "2025-07-23T00:35:15.074368",
     "status": "completed"
    },
    "tags": []
   },
   "outputs": [
    {
     "name": "stdout",
     "output_type": "stream",
     "text": [
      "tf.Tensor(0.9370409233997902, shape=(), dtype=float64)\n",
      "tf.Tensor(0.9664502164502164, shape=(), dtype=float64)\n",
      "tf.Tensor(0.9515183803942461, shape=(), dtype=float64)\n"
     ]
    }
   ],
   "source": [
    "precision = conf_tensor[1][1] / (conf_tensor[1][0] + conf_tensor[1][1])\n",
    "recall = conf_tensor[1][1] / (conf_tensor[0][1] + conf_tensor[1][1])\n",
    "inv_f1 = (1/precision + 1/recall)/2\n",
    "f1 = 1/inv_f1\n",
    "print(precision)\n",
    "print(recall)\n",
    "print(f1)"
   ]
  },
  {
   "cell_type": "code",
   "execution_count": 18,
   "id": "1ce8b254",
   "metadata": {
    "execution": {
     "iopub.execute_input": "2025-07-23T00:35:16.335047Z",
     "iopub.status.busy": "2025-07-23T00:35:16.334676Z",
     "iopub.status.idle": "2025-07-23T00:35:16.338654Z",
     "shell.execute_reply": "2025-07-23T00:35:16.337912Z"
    },
    "papermill": {
     "duration": 0.395575,
     "end_time": "2025-07-23T00:35:16.340166",
     "exception": false,
     "start_time": "2025-07-23T00:35:15.944591",
     "status": "completed"
    },
    "tags": []
   },
   "outputs": [],
   "source": [
    "model.set_multi()\n",
    "# model.freeze_conv_timeseries()"
   ]
  },
  {
   "cell_type": "code",
   "execution_count": 19,
   "id": "98f7854e",
   "metadata": {
    "execution": {
     "iopub.execute_input": "2025-07-23T00:35:17.103601Z",
     "iopub.status.busy": "2025-07-23T00:35:17.102733Z",
     "iopub.status.idle": "2025-07-23T00:35:17.832751Z",
     "shell.execute_reply": "2025-07-23T00:35:17.831768Z"
    },
    "papermill": {
     "duration": 1.112783,
     "end_time": "2025-07-23T00:35:17.834410",
     "exception": false,
     "start_time": "2025-07-23T00:35:16.721627",
     "status": "completed"
    },
    "tags": []
   },
   "outputs": [],
   "source": [
    "from tensorflow.keras.metrics import CategoricalAccuracy\n",
    "model.compile(loss=CategoricalFocalCrossentropy(alpha=gesture_sample_weight, \n",
    "                                                gamma=3,\n",
    "                                                label_smoothing=0.2),\n",
    "              optimizer=Adam(learning_rate=0.0001),\n",
    "              metrics=[\"accuracy\"])\n",
    "\n",
    "# with strategy.scope():\n",
    "#     model.load_weights(checkpoint_filepath)\n",
    "#     model.compile(loss=CategoricalCrossentropy(),\n",
    "#                   optimizer=Adam(learning_rate=0.0005),\n",
    "#                   metrics=[\"accuracy\"])"
   ]
  },
  {
   "cell_type": "code",
   "execution_count": 20,
   "id": "0999c7a9",
   "metadata": {
    "execution": {
     "iopub.execute_input": "2025-07-23T00:35:18.679569Z",
     "iopub.status.busy": "2025-07-23T00:35:18.679163Z",
     "iopub.status.idle": "2025-07-23T03:26:17.644431Z",
     "shell.execute_reply": "2025-07-23T03:26:17.640616Z"
    },
    "papermill": {
     "duration": 10259.429763,
     "end_time": "2025-07-23T03:26:17.646998",
     "exception": false,
     "start_time": "2025-07-23T00:35:18.217235",
     "status": "completed"
    },
    "tags": []
   },
   "outputs": [
    {
     "name": "stdout",
     "output_type": "stream",
     "text": [
      "Epoch 1/50\n",
      "\u001b[1m380/380\u001b[0m \u001b[32m━━━━━━━━━━━━━━━━━━━━\u001b[0m\u001b[37m\u001b[0m \u001b[1m0s\u001b[0m 498ms/step - accuracy: 0.1120 - loss: 0.1774\n",
      "Epoch 1: val_accuracy improved from -inf to 0.17577, saving model to /kaggle/working/cmi_best_model.weights.h5\n",
      "\u001b[1m380/380\u001b[0m \u001b[32m━━━━━━━━━━━━━━━━━━━━\u001b[0m\u001b[37m\u001b[0m \u001b[1m372s\u001b[0m 557ms/step - accuracy: 0.1120 - loss: 0.1774 - val_accuracy: 0.1758 - val_loss: 0.1385\n",
      "Epoch 2/50\n",
      "\u001b[1m380/380\u001b[0m \u001b[32m━━━━━━━━━━━━━━━━━━━━\u001b[0m\u001b[37m\u001b[0m \u001b[1m0s\u001b[0m 537ms/step - accuracy: 0.1674 - loss: 0.1348\n",
      "Epoch 2: val_accuracy improved from 0.17577 to 0.18762, saving model to /kaggle/working/cmi_best_model.weights.h5\n",
      "\u001b[1m380/380\u001b[0m \u001b[32m━━━━━━━━━━━━━━━━━━━━\u001b[0m\u001b[37m\u001b[0m \u001b[1m208s\u001b[0m 548ms/step - accuracy: 0.1674 - loss: 0.1348 - val_accuracy: 0.1876 - val_loss: 0.1298\n",
      "Epoch 3/50\n",
      "\u001b[1m380/380\u001b[0m \u001b[32m━━━━━━━━━━━━━━━━━━━━\u001b[0m\u001b[37m\u001b[0m \u001b[1m0s\u001b[0m 491ms/step - accuracy: 0.1895 - loss: 0.1271\n",
      "Epoch 3: val_accuracy improved from 0.18762 to 0.19355, saving model to /kaggle/working/cmi_best_model.weights.h5\n",
      "\u001b[1m380/380\u001b[0m \u001b[32m━━━━━━━━━━━━━━━━━━━━\u001b[0m\u001b[37m\u001b[0m \u001b[1m191s\u001b[0m 502ms/step - accuracy: 0.1895 - loss: 0.1271 - val_accuracy: 0.1935 - val_loss: 0.1258\n",
      "Epoch 4/50\n",
      "\u001b[1m380/380\u001b[0m \u001b[32m━━━━━━━━━━━━━━━━━━━━\u001b[0m\u001b[37m\u001b[0m \u001b[1m0s\u001b[0m 495ms/step - accuracy: 0.2004 - loss: 0.1231\n",
      "Epoch 4: val_accuracy improved from 0.19355 to 0.19421, saving model to /kaggle/working/cmi_best_model.weights.h5\n",
      "\u001b[1m380/380\u001b[0m \u001b[32m━━━━━━━━━━━━━━━━━━━━\u001b[0m\u001b[37m\u001b[0m \u001b[1m192s\u001b[0m 505ms/step - accuracy: 0.2004 - loss: 0.1231 - val_accuracy: 0.1942 - val_loss: 0.1237\n",
      "Epoch 5/50\n",
      "\u001b[1m380/380\u001b[0m \u001b[32m━━━━━━━━━━━━━━━━━━━━\u001b[0m\u001b[37m\u001b[0m \u001b[1m0s\u001b[0m 529ms/step - accuracy: 0.2119 - loss: 0.1208\n",
      "Epoch 5: val_accuracy improved from 0.19421 to 0.19947, saving model to /kaggle/working/cmi_best_model.weights.h5\n",
      "\u001b[1m380/380\u001b[0m \u001b[32m━━━━━━━━━━━━━━━━━━━━\u001b[0m\u001b[37m\u001b[0m \u001b[1m205s\u001b[0m 540ms/step - accuracy: 0.2119 - loss: 0.1208 - val_accuracy: 0.1995 - val_loss: 0.1218\n",
      "Epoch 6/50\n",
      "\u001b[1m380/380\u001b[0m \u001b[32m━━━━━━━━━━━━━━━━━━━━\u001b[0m\u001b[37m\u001b[0m \u001b[1m0s\u001b[0m 498ms/step - accuracy: 0.2220 - loss: 0.1189\n",
      "Epoch 6: val_accuracy improved from 0.19947 to 0.20869, saving model to /kaggle/working/cmi_best_model.weights.h5\n",
      "\u001b[1m380/380\u001b[0m \u001b[32m━━━━━━━━━━━━━━━━━━━━\u001b[0m\u001b[37m\u001b[0m \u001b[1m193s\u001b[0m 509ms/step - accuracy: 0.2220 - loss: 0.1189 - val_accuracy: 0.2087 - val_loss: 0.1214\n",
      "Epoch 7/50\n",
      "\u001b[1m380/380\u001b[0m \u001b[32m━━━━━━━━━━━━━━━━━━━━\u001b[0m\u001b[37m\u001b[0m \u001b[1m0s\u001b[0m 497ms/step - accuracy: 0.2330 - loss: 0.1174\n",
      "Epoch 7: val_accuracy improved from 0.20869 to 0.22976, saving model to /kaggle/working/cmi_best_model.weights.h5\n",
      "\u001b[1m380/380\u001b[0m \u001b[32m━━━━━━━━━━━━━━━━━━━━\u001b[0m\u001b[37m\u001b[0m \u001b[1m193s\u001b[0m 508ms/step - accuracy: 0.2330 - loss: 0.1174 - val_accuracy: 0.2298 - val_loss: 0.1184\n",
      "Epoch 8/50\n",
      "\u001b[1m380/380\u001b[0m \u001b[32m━━━━━━━━━━━━━━━━━━━━\u001b[0m\u001b[37m\u001b[0m \u001b[1m0s\u001b[0m 560ms/step - accuracy: 0.2471 - loss: 0.1143\n",
      "Epoch 8: val_accuracy improved from 0.22976 to 0.25806, saving model to /kaggle/working/cmi_best_model.weights.h5\n",
      "\u001b[1m380/380\u001b[0m \u001b[32m━━━━━━━━━━━━━━━━━━━━\u001b[0m\u001b[37m\u001b[0m \u001b[1m217s\u001b[0m 570ms/step - accuracy: 0.2471 - loss: 0.1143 - val_accuracy: 0.2581 - val_loss: 0.1147\n",
      "Epoch 9/50\n",
      "\u001b[1m380/380\u001b[0m \u001b[32m━━━━━━━━━━━━━━━━━━━━\u001b[0m\u001b[37m\u001b[0m \u001b[1m0s\u001b[0m 501ms/step - accuracy: 0.2533 - loss: 0.1109\n",
      "Epoch 9: val_accuracy did not improve from 0.25806\n",
      "\u001b[1m380/380\u001b[0m \u001b[32m━━━━━━━━━━━━━━━━━━━━\u001b[0m\u001b[37m\u001b[0m \u001b[1m194s\u001b[0m 511ms/step - accuracy: 0.2533 - loss: 0.1109 - val_accuracy: 0.2541 - val_loss: 0.1129\n",
      "Epoch 10/50\n",
      "\u001b[1m380/380\u001b[0m \u001b[32m━━━━━━━━━━━━━━━━━━━━\u001b[0m\u001b[37m\u001b[0m \u001b[1m0s\u001b[0m 504ms/step - accuracy: 0.2633 - loss: 0.1082\n",
      "Epoch 10: val_accuracy improved from 0.25806 to 0.25872, saving model to /kaggle/working/cmi_best_model.weights.h5\n",
      "\u001b[1m380/380\u001b[0m \u001b[32m━━━━━━━━━━━━━━━━━━━━\u001b[0m\u001b[37m\u001b[0m \u001b[1m196s\u001b[0m 515ms/step - accuracy: 0.2633 - loss: 0.1082 - val_accuracy: 0.2587 - val_loss: 0.1118\n",
      "Epoch 11/50\n",
      "\u001b[1m380/380\u001b[0m \u001b[32m━━━━━━━━━━━━━━━━━━━━\u001b[0m\u001b[37m\u001b[0m \u001b[1m0s\u001b[0m 538ms/step - accuracy: 0.2804 - loss: 0.1063\n",
      "Epoch 11: val_accuracy improved from 0.25872 to 0.26465, saving model to /kaggle/working/cmi_best_model.weights.h5\n",
      "\u001b[1m380/380\u001b[0m \u001b[32m━━━━━━━━━━━━━━━━━━━━\u001b[0m\u001b[37m\u001b[0m \u001b[1m208s\u001b[0m 549ms/step - accuracy: 0.2805 - loss: 0.1063 - val_accuracy: 0.2646 - val_loss: 0.1104\n",
      "Epoch 12/50\n",
      "\u001b[1m380/380\u001b[0m \u001b[32m━━━━━━━━━━━━━━━━━━━━\u001b[0m\u001b[37m\u001b[0m \u001b[1m0s\u001b[0m 507ms/step - accuracy: 0.2937 - loss: 0.1045\n",
      "Epoch 12: val_accuracy improved from 0.26465 to 0.26860, saving model to /kaggle/working/cmi_best_model.weights.h5\n",
      "\u001b[1m380/380\u001b[0m \u001b[32m━━━━━━━━━━━━━━━━━━━━\u001b[0m\u001b[37m\u001b[0m \u001b[1m197s\u001b[0m 518ms/step - accuracy: 0.2938 - loss: 0.1045 - val_accuracy: 0.2686 - val_loss: 0.1096\n",
      "Epoch 13/50\n",
      "\u001b[1m380/380\u001b[0m \u001b[32m━━━━━━━━━━━━━━━━━━━━\u001b[0m\u001b[37m\u001b[0m \u001b[1m0s\u001b[0m 504ms/step - accuracy: 0.2931 - loss: 0.1034\n",
      "Epoch 13: val_accuracy improved from 0.26860 to 0.26926, saving model to /kaggle/working/cmi_best_model.weights.h5\n",
      "\u001b[1m380/380\u001b[0m \u001b[32m━━━━━━━━━━━━━━━━━━━━\u001b[0m\u001b[37m\u001b[0m \u001b[1m196s\u001b[0m 515ms/step - accuracy: 0.2931 - loss: 0.1034 - val_accuracy: 0.2693 - val_loss: 0.1099\n",
      "Epoch 14/50\n",
      "\u001b[1m380/380\u001b[0m \u001b[32m━━━━━━━━━━━━━━━━━━━━\u001b[0m\u001b[37m\u001b[0m \u001b[1m0s\u001b[0m 479ms/step - accuracy: 0.3020 - loss: 0.1021\n",
      "Epoch 14: val_accuracy improved from 0.26926 to 0.28769, saving model to /kaggle/working/cmi_best_model.weights.h5\n",
      "\u001b[1m380/380\u001b[0m \u001b[32m━━━━━━━━━━━━━━━━━━━━\u001b[0m\u001b[37m\u001b[0m \u001b[1m186s\u001b[0m 489ms/step - accuracy: 0.3020 - loss: 0.1021 - val_accuracy: 0.2877 - val_loss: 0.1082\n",
      "Epoch 15/50\n",
      "\u001b[1m380/380\u001b[0m \u001b[32m━━━━━━━━━━━━━━━━━━━━\u001b[0m\u001b[37m\u001b[0m \u001b[1m0s\u001b[0m 473ms/step - accuracy: 0.3110 - loss: 0.1008\n",
      "Epoch 15: val_accuracy did not improve from 0.28769\n",
      "\u001b[1m380/380\u001b[0m \u001b[32m━━━━━━━━━━━━━━━━━━━━\u001b[0m\u001b[37m\u001b[0m \u001b[1m184s\u001b[0m 483ms/step - accuracy: 0.3111 - loss: 0.1008 - val_accuracy: 0.2877 - val_loss: 0.1068\n",
      "Epoch 16/50\n",
      "\u001b[1m380/380\u001b[0m \u001b[32m━━━━━━━━━━━━━━━━━━━━\u001b[0m\u001b[37m\u001b[0m \u001b[1m0s\u001b[0m 536ms/step - accuracy: 0.3207 - loss: 0.1001\n",
      "Epoch 16: val_accuracy did not improve from 0.28769\n",
      "\u001b[1m380/380\u001b[0m \u001b[32m━━━━━━━━━━━━━━━━━━━━\u001b[0m\u001b[37m\u001b[0m \u001b[1m208s\u001b[0m 547ms/step - accuracy: 0.3207 - loss: 0.1001 - val_accuracy: 0.2870 - val_loss: 0.1082\n",
      "Epoch 17/50\n",
      "\u001b[1m380/380\u001b[0m \u001b[32m━━━━━━━━━━━━━━━━━━━━\u001b[0m\u001b[37m\u001b[0m \u001b[1m0s\u001b[0m 503ms/step - accuracy: 0.3316 - loss: 0.0992\n",
      "Epoch 17: val_accuracy improved from 0.28769 to 0.29625, saving model to /kaggle/working/cmi_best_model.weights.h5\n",
      "\u001b[1m380/380\u001b[0m \u001b[32m━━━━━━━━━━━━━━━━━━━━\u001b[0m\u001b[37m\u001b[0m \u001b[1m195s\u001b[0m 513ms/step - accuracy: 0.3316 - loss: 0.0992 - val_accuracy: 0.2962 - val_loss: 0.1068\n",
      "Epoch 18/50\n",
      "\u001b[1m380/380\u001b[0m \u001b[32m━━━━━━━━━━━━━━━━━━━━\u001b[0m\u001b[37m\u001b[0m \u001b[1m0s\u001b[0m 502ms/step - accuracy: 0.3330 - loss: 0.0979\n",
      "Epoch 18: val_accuracy improved from 0.29625 to 0.29756, saving model to /kaggle/working/cmi_best_model.weights.h5\n",
      "\u001b[1m380/380\u001b[0m \u001b[32m━━━━━━━━━━━━━━━━━━━━\u001b[0m\u001b[37m\u001b[0m \u001b[1m195s\u001b[0m 512ms/step - accuracy: 0.3329 - loss: 0.0979 - val_accuracy: 0.2976 - val_loss: 0.1078\n",
      "Epoch 19/50\n",
      "\u001b[1m380/380\u001b[0m \u001b[32m━━━━━━━━━━━━━━━━━━━━\u001b[0m\u001b[37m\u001b[0m \u001b[1m0s\u001b[0m 571ms/step - accuracy: 0.3338 - loss: 0.0971\n",
      "Epoch 19: val_accuracy improved from 0.29756 to 0.30546, saving model to /kaggle/working/cmi_best_model.weights.h5\n",
      "\u001b[1m380/380\u001b[0m \u001b[32m━━━━━━━━━━━━━━━━━━━━\u001b[0m\u001b[37m\u001b[0m \u001b[1m221s\u001b[0m 582ms/step - accuracy: 0.3338 - loss: 0.0971 - val_accuracy: 0.3055 - val_loss: 0.1055\n",
      "Epoch 20/50\n",
      "\u001b[1m380/380\u001b[0m \u001b[32m━━━━━━━━━━━━━━━━━━━━\u001b[0m\u001b[37m\u001b[0m \u001b[1m0s\u001b[0m 479ms/step - accuracy: 0.3475 - loss: 0.0960\n",
      "Epoch 20: val_accuracy did not improve from 0.30546\n",
      "\u001b[1m380/380\u001b[0m \u001b[32m━━━━━━━━━━━━━━━━━━━━\u001b[0m\u001b[37m\u001b[0m \u001b[1m227s\u001b[0m 490ms/step - accuracy: 0.3475 - loss: 0.0960 - val_accuracy: 0.3035 - val_loss: 0.1060\n",
      "Epoch 21/50\n",
      "\u001b[1m380/380\u001b[0m \u001b[32m━━━━━━━━━━━━━━━━━━━━\u001b[0m\u001b[37m\u001b[0m \u001b[1m0s\u001b[0m 496ms/step - accuracy: 0.3484 - loss: 0.0958\n",
      "Epoch 21: val_accuracy improved from 0.30546 to 0.30612, saving model to /kaggle/working/cmi_best_model.weights.h5\n",
      "\u001b[1m380/380\u001b[0m \u001b[32m━━━━━━━━━━━━━━━━━━━━\u001b[0m\u001b[37m\u001b[0m \u001b[1m192s\u001b[0m 506ms/step - accuracy: 0.3484 - loss: 0.0958 - val_accuracy: 0.3061 - val_loss: 0.1051\n",
      "Epoch 22/50\n",
      "\u001b[1m380/380\u001b[0m \u001b[32m━━━━━━━━━━━━━━━━━━━━\u001b[0m\u001b[37m\u001b[0m \u001b[1m0s\u001b[0m 529ms/step - accuracy: 0.3449 - loss: 0.0948\n",
      "Epoch 22: val_accuracy improved from 0.30612 to 0.32785, saving model to /kaggle/working/cmi_best_model.weights.h5\n",
      "\u001b[1m380/380\u001b[0m \u001b[32m━━━━━━━━━━━━━━━━━━━━\u001b[0m\u001b[37m\u001b[0m \u001b[1m205s\u001b[0m 540ms/step - accuracy: 0.3449 - loss: 0.0948 - val_accuracy: 0.3278 - val_loss: 0.1036\n",
      "Epoch 23/50\n",
      "\u001b[1m380/380\u001b[0m \u001b[32m━━━━━━━━━━━━━━━━━━━━\u001b[0m\u001b[37m\u001b[0m \u001b[1m0s\u001b[0m 495ms/step - accuracy: 0.3476 - loss: 0.0944\n",
      "Epoch 23: val_accuracy did not improve from 0.32785\n",
      "\u001b[1m380/380\u001b[0m \u001b[32m━━━━━━━━━━━━━━━━━━━━\u001b[0m\u001b[37m\u001b[0m \u001b[1m192s\u001b[0m 506ms/step - accuracy: 0.3476 - loss: 0.0944 - val_accuracy: 0.3140 - val_loss: 0.1042\n",
      "Epoch 24/50\n",
      "\u001b[1m380/380\u001b[0m \u001b[32m━━━━━━━━━━━━━━━━━━━━\u001b[0m\u001b[37m\u001b[0m \u001b[1m0s\u001b[0m 501ms/step - accuracy: 0.3618 - loss: 0.0933\n",
      "Epoch 24: val_accuracy did not improve from 0.32785\n",
      "\u001b[1m380/380\u001b[0m \u001b[32m━━━━━━━━━━━━━━━━━━━━\u001b[0m\u001b[37m\u001b[0m \u001b[1m204s\u001b[0m 511ms/step - accuracy: 0.3618 - loss: 0.0933 - val_accuracy: 0.3199 - val_loss: 0.1042\n",
      "Epoch 25/50\n",
      "\u001b[1m380/380\u001b[0m \u001b[32m━━━━━━━━━━━━━━━━━━━━\u001b[0m\u001b[37m\u001b[0m \u001b[1m0s\u001b[0m 539ms/step - accuracy: 0.3604 - loss: 0.0932\n",
      "Epoch 25: val_accuracy did not improve from 0.32785\n",
      "\u001b[1m380/380\u001b[0m \u001b[32m━━━━━━━━━━━━━━━━━━━━\u001b[0m\u001b[37m\u001b[0m \u001b[1m209s\u001b[0m 550ms/step - accuracy: 0.3604 - loss: 0.0932 - val_accuracy: 0.3180 - val_loss: 0.1035\n",
      "Epoch 26/50\n",
      "\u001b[1m380/380\u001b[0m \u001b[32m━━━━━━━━━━━━━━━━━━━━\u001b[0m\u001b[37m\u001b[0m \u001b[1m0s\u001b[0m 494ms/step - accuracy: 0.3669 - loss: 0.0919\n",
      "Epoch 26: val_accuracy did not improve from 0.32785\n",
      "\u001b[1m380/380\u001b[0m \u001b[32m━━━━━━━━━━━━━━━━━━━━\u001b[0m\u001b[37m\u001b[0m \u001b[1m192s\u001b[0m 504ms/step - accuracy: 0.3669 - loss: 0.0919 - val_accuracy: 0.3232 - val_loss: 0.1031\n",
      "Epoch 27/50\n",
      "\u001b[1m380/380\u001b[0m \u001b[32m━━━━━━━━━━━━━━━━━━━━\u001b[0m\u001b[37m\u001b[0m \u001b[1m0s\u001b[0m 507ms/step - accuracy: 0.3660 - loss: 0.0912\n",
      "Epoch 27: val_accuracy did not improve from 0.32785\n",
      "\u001b[1m380/380\u001b[0m \u001b[32m━━━━━━━━━━━━━━━━━━━━\u001b[0m\u001b[37m\u001b[0m \u001b[1m197s\u001b[0m 518ms/step - accuracy: 0.3660 - loss: 0.0912 - val_accuracy: 0.3239 - val_loss: 0.1013\n",
      "Epoch 28/50\n",
      "\u001b[1m380/380\u001b[0m \u001b[32m━━━━━━━━━━━━━━━━━━━━\u001b[0m\u001b[37m\u001b[0m \u001b[1m0s\u001b[0m 534ms/step - accuracy: 0.3717 - loss: 0.0910\n",
      "Epoch 28: val_accuracy did not improve from 0.32785\n",
      "\u001b[1m380/380\u001b[0m \u001b[32m━━━━━━━━━━━━━━━━━━━━\u001b[0m\u001b[37m\u001b[0m \u001b[1m207s\u001b[0m 545ms/step - accuracy: 0.3717 - loss: 0.0910 - val_accuracy: 0.3278 - val_loss: 0.1023\n",
      "Epoch 29/50\n",
      "\u001b[1m380/380\u001b[0m \u001b[32m━━━━━━━━━━━━━━━━━━━━\u001b[0m\u001b[37m\u001b[0m \u001b[1m0s\u001b[0m 507ms/step - accuracy: 0.3762 - loss: 0.0902\n",
      "Epoch 29: val_accuracy did not improve from 0.32785\n",
      "\u001b[1m380/380\u001b[0m \u001b[32m━━━━━━━━━━━━━━━━━━━━\u001b[0m\u001b[37m\u001b[0m \u001b[1m197s\u001b[0m 519ms/step - accuracy: 0.3762 - loss: 0.0902 - val_accuracy: 0.3265 - val_loss: 0.1035\n",
      "Epoch 30/50\n",
      "\u001b[1m380/380\u001b[0m \u001b[32m━━━━━━━━━━━━━━━━━━━━\u001b[0m\u001b[37m\u001b[0m \u001b[1m0s\u001b[0m 502ms/step - accuracy: 0.3904 - loss: 0.0896\n",
      "Epoch 30: val_accuracy did not improve from 0.32785\n",
      "\u001b[1m380/380\u001b[0m \u001b[32m━━━━━━━━━━━━━━━━━━━━\u001b[0m\u001b[37m\u001b[0m \u001b[1m195s\u001b[0m 513ms/step - accuracy: 0.3904 - loss: 0.0896 - val_accuracy: 0.3265 - val_loss: 0.1024\n",
      "Epoch 31/50\n",
      "\u001b[1m380/380\u001b[0m \u001b[32m━━━━━━━━━━━━━━━━━━━━\u001b[0m\u001b[37m\u001b[0m \u001b[1m0s\u001b[0m 539ms/step - accuracy: 0.3825 - loss: 0.0891\n",
      "Epoch 31: val_accuracy improved from 0.32785 to 0.33246, saving model to /kaggle/working/cmi_best_model.weights.h5\n",
      "\u001b[1m380/380\u001b[0m \u001b[32m━━━━━━━━━━━━━━━━━━━━\u001b[0m\u001b[37m\u001b[0m \u001b[1m209s\u001b[0m 550ms/step - accuracy: 0.3825 - loss: 0.0891 - val_accuracy: 0.3325 - val_loss: 0.1012\n",
      "Epoch 32/50\n",
      "\u001b[1m380/380\u001b[0m \u001b[32m━━━━━━━━━━━━━━━━━━━━\u001b[0m\u001b[37m\u001b[0m \u001b[1m0s\u001b[0m 516ms/step - accuracy: 0.3867 - loss: 0.0888\n",
      "Epoch 32: val_accuracy improved from 0.33246 to 0.33443, saving model to /kaggle/working/cmi_best_model.weights.h5\n",
      "\u001b[1m380/380\u001b[0m \u001b[32m━━━━━━━━━━━━━━━━━━━━\u001b[0m\u001b[37m\u001b[0m \u001b[1m200s\u001b[0m 527ms/step - accuracy: 0.3867 - loss: 0.0888 - val_accuracy: 0.3344 - val_loss: 0.1002\n",
      "Epoch 33/50\n",
      "\u001b[1m380/380\u001b[0m \u001b[32m━━━━━━━━━━━━━━━━━━━━\u001b[0m\u001b[37m\u001b[0m \u001b[1m0s\u001b[0m 542ms/step - accuracy: 0.3835 - loss: 0.0882\n",
      "Epoch 33: val_accuracy improved from 0.33443 to 0.34167, saving model to /kaggle/working/cmi_best_model.weights.h5\n",
      "\u001b[1m380/380\u001b[0m \u001b[32m━━━━━━━━━━━━━━━━━━━━\u001b[0m\u001b[37m\u001b[0m \u001b[1m210s\u001b[0m 553ms/step - accuracy: 0.3835 - loss: 0.0882 - val_accuracy: 0.3417 - val_loss: 0.1014\n",
      "Epoch 34/50\n",
      "\u001b[1m380/380\u001b[0m \u001b[32m━━━━━━━━━━━━━━━━━━━━\u001b[0m\u001b[37m\u001b[0m \u001b[1m0s\u001b[0m 539ms/step - accuracy: 0.3987 - loss: 0.0876\n",
      "Epoch 34: val_accuracy did not improve from 0.34167\n",
      "\u001b[1m380/380\u001b[0m \u001b[32m━━━━━━━━━━━━━━━━━━━━\u001b[0m\u001b[37m\u001b[0m \u001b[1m209s\u001b[0m 550ms/step - accuracy: 0.3988 - loss: 0.0876 - val_accuracy: 0.3278 - val_loss: 0.1018\n",
      "Epoch 35/50\n",
      "\u001b[1m380/380\u001b[0m \u001b[32m━━━━━━━━━━━━━━━━━━━━\u001b[0m\u001b[37m\u001b[0m \u001b[1m0s\u001b[0m 508ms/step - accuracy: 0.3902 - loss: 0.0870\n",
      "Epoch 35: val_accuracy improved from 0.34167 to 0.34562, saving model to /kaggle/working/cmi_best_model.weights.h5\n",
      "\u001b[1m380/380\u001b[0m \u001b[32m━━━━━━━━━━━━━━━━━━━━\u001b[0m\u001b[37m\u001b[0m \u001b[1m197s\u001b[0m 518ms/step - accuracy: 0.3903 - loss: 0.0870 - val_accuracy: 0.3456 - val_loss: 0.0999\n",
      "Epoch 36/50\n",
      "\u001b[1m380/380\u001b[0m \u001b[32m━━━━━━━━━━━━━━━━━━━━\u001b[0m\u001b[37m\u001b[0m \u001b[1m0s\u001b[0m 502ms/step - accuracy: 0.4105 - loss: 0.0863\n",
      "Epoch 36: val_accuracy did not improve from 0.34562\n",
      "\u001b[1m380/380\u001b[0m \u001b[32m━━━━━━━━━━━━━━━━━━━━\u001b[0m\u001b[37m\u001b[0m \u001b[1m194s\u001b[0m 512ms/step - accuracy: 0.4105 - loss: 0.0863 - val_accuracy: 0.3436 - val_loss: 0.1022\n",
      "Epoch 37/50\n",
      "\u001b[1m380/380\u001b[0m \u001b[32m━━━━━━━━━━━━━━━━━━━━\u001b[0m\u001b[37m\u001b[0m \u001b[1m0s\u001b[0m 505ms/step - accuracy: 0.4018 - loss: 0.0859\n",
      "Epoch 37: val_accuracy improved from 0.34562 to 0.35023, saving model to /kaggle/working/cmi_best_model.weights.h5\n",
      "\u001b[1m380/380\u001b[0m \u001b[32m━━━━━━━━━━━━━━━━━━━━\u001b[0m\u001b[37m\u001b[0m \u001b[1m196s\u001b[0m 516ms/step - accuracy: 0.4018 - loss: 0.0859 - val_accuracy: 0.3502 - val_loss: 0.1003\n",
      "Epoch 38/50\n",
      "\u001b[1m380/380\u001b[0m \u001b[32m━━━━━━━━━━━━━━━━━━━━\u001b[0m\u001b[37m\u001b[0m \u001b[1m0s\u001b[0m 536ms/step - accuracy: 0.4191 - loss: 0.0847\n",
      "Epoch 38: val_accuracy did not improve from 0.35023\n",
      "\u001b[1m380/380\u001b[0m \u001b[32m━━━━━━━━━━━━━━━━━━━━\u001b[0m\u001b[37m\u001b[0m \u001b[1m208s\u001b[0m 546ms/step - accuracy: 0.4191 - loss: 0.0847 - val_accuracy: 0.3463 - val_loss: 0.1014\n",
      "Epoch 39/50\n",
      "\u001b[1m380/380\u001b[0m \u001b[32m━━━━━━━━━━━━━━━━━━━━\u001b[0m\u001b[37m\u001b[0m \u001b[1m0s\u001b[0m 506ms/step - accuracy: 0.4124 - loss: 0.0847\n",
      "Epoch 39: val_accuracy improved from 0.35023 to 0.36537, saving model to /kaggle/working/cmi_best_model.weights.h5\n",
      "\u001b[1m380/380\u001b[0m \u001b[32m━━━━━━━━━━━━━━━━━━━━\u001b[0m\u001b[37m\u001b[0m \u001b[1m196s\u001b[0m 516ms/step - accuracy: 0.4124 - loss: 0.0847 - val_accuracy: 0.3654 - val_loss: 0.0990\n",
      "Epoch 40/50\n",
      "\u001b[1m380/380\u001b[0m \u001b[32m━━━━━━━━━━━━━━━━━━━━\u001b[0m\u001b[37m\u001b[0m \u001b[1m0s\u001b[0m 527ms/step - accuracy: 0.4160 - loss: 0.0846\n",
      "Epoch 40: val_accuracy did not improve from 0.36537\n",
      "\u001b[1m380/380\u001b[0m \u001b[32m━━━━━━━━━━━━━━━━━━━━\u001b[0m\u001b[37m\u001b[0m \u001b[1m204s\u001b[0m 538ms/step - accuracy: 0.4160 - loss: 0.0846 - val_accuracy: 0.3608 - val_loss: 0.0995\n",
      "Epoch 41/50\n",
      "\u001b[1m380/380\u001b[0m \u001b[32m━━━━━━━━━━━━━━━━━━━━\u001b[0m\u001b[37m\u001b[0m \u001b[1m0s\u001b[0m 583ms/step - accuracy: 0.4244 - loss: 0.0836\n",
      "Epoch 41: val_accuracy did not improve from 0.36537\n",
      "\u001b[1m380/380\u001b[0m \u001b[32m━━━━━━━━━━━━━━━━━━━━\u001b[0m\u001b[37m\u001b[0m \u001b[1m225s\u001b[0m 593ms/step - accuracy: 0.4244 - loss: 0.0836 - val_accuracy: 0.3555 - val_loss: 0.1007\n",
      "Epoch 42/50\n",
      "\u001b[1m380/380\u001b[0m \u001b[32m━━━━━━━━━━━━━━━━━━━━\u001b[0m\u001b[37m\u001b[0m \u001b[1m0s\u001b[0m 507ms/step - accuracy: 0.4250 - loss: 0.0828\n",
      "Epoch 42: val_accuracy improved from 0.36537 to 0.37130, saving model to /kaggle/working/cmi_best_model.weights.h5\n",
      "\u001b[1m380/380\u001b[0m \u001b[32m━━━━━━━━━━━━━━━━━━━━\u001b[0m\u001b[37m\u001b[0m \u001b[1m197s\u001b[0m 517ms/step - accuracy: 0.4250 - loss: 0.0828 - val_accuracy: 0.3713 - val_loss: 0.0978\n",
      "Epoch 43/50\n",
      "\u001b[1m380/380\u001b[0m \u001b[32m━━━━━━━━━━━━━━━━━━━━\u001b[0m\u001b[37m\u001b[0m \u001b[1m0s\u001b[0m 513ms/step - accuracy: 0.4355 - loss: 0.0830\n",
      "Epoch 43: val_accuracy improved from 0.37130 to 0.37261, saving model to /kaggle/working/cmi_best_model.weights.h5\n",
      "\u001b[1m380/380\u001b[0m \u001b[32m━━━━━━━━━━━━━━━━━━━━\u001b[0m\u001b[37m\u001b[0m \u001b[1m199s\u001b[0m 523ms/step - accuracy: 0.4355 - loss: 0.0830 - val_accuracy: 0.3726 - val_loss: 0.1002\n",
      "Epoch 44/50\n",
      "\u001b[1m380/380\u001b[0m \u001b[32m━━━━━━━━━━━━━━━━━━━━\u001b[0m\u001b[37m\u001b[0m \u001b[1m0s\u001b[0m 566ms/step - accuracy: 0.4299 - loss: 0.0828\n",
      "Epoch 44: val_accuracy did not improve from 0.37261\n",
      "\u001b[1m380/380\u001b[0m \u001b[32m━━━━━━━━━━━━━━━━━━━━\u001b[0m\u001b[37m\u001b[0m \u001b[1m219s\u001b[0m 577ms/step - accuracy: 0.4299 - loss: 0.0828 - val_accuracy: 0.3660 - val_loss: 0.0988\n",
      "Epoch 45/50\n",
      "\u001b[1m380/380\u001b[0m \u001b[32m━━━━━━━━━━━━━━━━━━━━\u001b[0m\u001b[37m\u001b[0m \u001b[1m0s\u001b[0m 505ms/step - accuracy: 0.4324 - loss: 0.0816\n",
      "Epoch 45: val_accuracy did not improve from 0.37261\n",
      "\u001b[1m380/380\u001b[0m \u001b[32m━━━━━━━━━━━━━━━━━━━━\u001b[0m\u001b[37m\u001b[0m \u001b[1m196s\u001b[0m 516ms/step - accuracy: 0.4325 - loss: 0.0816 - val_accuracy: 0.3601 - val_loss: 0.0989\n",
      "Epoch 46/50\n",
      "\u001b[1m380/380\u001b[0m \u001b[32m━━━━━━━━━━━━━━━━━━━━\u001b[0m\u001b[37m\u001b[0m \u001b[1m0s\u001b[0m 510ms/step - accuracy: 0.4430 - loss: 0.0811\n",
      "Epoch 46: val_accuracy did not improve from 0.37261\n",
      "\u001b[1m380/380\u001b[0m \u001b[32m━━━━━━━━━━━━━━━━━━━━\u001b[0m\u001b[37m\u001b[0m \u001b[1m198s\u001b[0m 521ms/step - accuracy: 0.4430 - loss: 0.0811 - val_accuracy: 0.3720 - val_loss: 0.0989\n",
      "Epoch 47/50\n",
      "\u001b[1m380/380\u001b[0m \u001b[32m━━━━━━━━━━━━━━━━━━━━\u001b[0m\u001b[37m\u001b[0m \u001b[1m0s\u001b[0m 528ms/step - accuracy: 0.4545 - loss: 0.0807\n",
      "Epoch 47: val_accuracy improved from 0.37261 to 0.37722, saving model to /kaggle/working/cmi_best_model.weights.h5\n",
      "\u001b[1m380/380\u001b[0m \u001b[32m━━━━━━━━━━━━━━━━━━━━\u001b[0m\u001b[37m\u001b[0m \u001b[1m205s\u001b[0m 538ms/step - accuracy: 0.4545 - loss: 0.0807 - val_accuracy: 0.3772 - val_loss: 0.0999\n",
      "Epoch 48/50\n",
      "\u001b[1m380/380\u001b[0m \u001b[32m━━━━━━━━━━━━━━━━━━━━\u001b[0m\u001b[37m\u001b[0m \u001b[1m0s\u001b[0m 507ms/step - accuracy: 0.4451 - loss: 0.0804\n",
      "Epoch 48: val_accuracy improved from 0.37722 to 0.38315, saving model to /kaggle/working/cmi_best_model.weights.h5\n",
      "\u001b[1m380/380\u001b[0m \u001b[32m━━━━━━━━━━━━━━━━━━━━\u001b[0m\u001b[37m\u001b[0m \u001b[1m197s\u001b[0m 518ms/step - accuracy: 0.4451 - loss: 0.0804 - val_accuracy: 0.3831 - val_loss: 0.0976\n",
      "Epoch 49/50\n",
      "\u001b[1m380/380\u001b[0m \u001b[32m━━━━━━━━━━━━━━━━━━━━\u001b[0m\u001b[37m\u001b[0m \u001b[1m0s\u001b[0m 529ms/step - accuracy: 0.4474 - loss: 0.0800\n",
      "Epoch 49: val_accuracy did not improve from 0.38315\n",
      "\u001b[1m380/380\u001b[0m \u001b[32m━━━━━━━━━━━━━━━━━━━━\u001b[0m\u001b[37m\u001b[0m \u001b[1m205s\u001b[0m 539ms/step - accuracy: 0.4474 - loss: 0.0800 - val_accuracy: 0.3818 - val_loss: 0.0990\n",
      "Epoch 50/50\n",
      "\u001b[1m380/380\u001b[0m \u001b[32m━━━━━━━━━━━━━━━━━━━━\u001b[0m\u001b[37m\u001b[0m \u001b[1m0s\u001b[0m 589ms/step - accuracy: 0.4558 - loss: 0.0798\n",
      "Epoch 50: val_accuracy did not improve from 0.38315\n",
      "\u001b[1m380/380\u001b[0m \u001b[32m━━━━━━━━━━━━━━━━━━━━\u001b[0m\u001b[37m\u001b[0m \u001b[1m228s\u001b[0m 599ms/step - accuracy: 0.4558 - loss: 0.0798 - val_accuracy: 0.3766 - val_loss: 0.0982\n"
     ]
    }
   ],
   "source": [
    "checkpoint_filepath = \"/kaggle/working/cmi_best_model.weights.h5\"\n",
    "checkpoint_callback = ModelCheckpoint(\n",
    "    filepath=checkpoint_filepath,\n",
    "    monitor=\"val_accuracy\",\n",
    "    save_best_only=True,\n",
    "    save_weights_only=True,\n",
    "    mode=\"max\",\n",
    "    verbose=1\n",
    ")\n",
    "\n",
    "history = model.fit(gesture_train_ds, epochs=50, \n",
    "                    validation_data=gesture_valid_ds,\n",
    "                    callbacks=[checkpoint_callback])\n",
    "model.load_weights(checkpoint_filepath)"
   ]
  },
  {
   "cell_type": "code",
   "execution_count": 21,
   "id": "cbb04418",
   "metadata": {
    "execution": {
     "iopub.execute_input": "2025-07-23T03:26:20.642046Z",
     "iopub.status.busy": "2025-07-23T03:26:20.641258Z",
     "iopub.status.idle": "2025-07-23T03:26:20.660104Z",
     "shell.execute_reply": "2025-07-23T03:26:20.659062Z"
    },
    "papermill": {
     "duration": 1.531066,
     "end_time": "2025-07-23T03:26:20.661720",
     "exception": false,
     "start_time": "2025-07-23T03:26:19.130654",
     "status": "completed"
    },
    "tags": []
   },
   "outputs": [],
   "source": [
    "import json\n",
    "\n",
    "with open('/kaggle/input/cmi-tf-datasets/mapping.json') as f:\n",
    "    mapping_dict = json.load(f)\n",
    "\n",
    "gesture_mapping = mapping_dict[\"gesture_mapping\"]\n",
    "inv_gesture_mapping = {value: key for key, value in gesture_mapping.items()}\n",
    "\n",
    "num2gesture = np.vectorize(lambda x: inv_gesture_mapping[x])"
   ]
  },
  {
   "cell_type": "code",
   "execution_count": 22,
   "id": "e587b956",
   "metadata": {
    "execution": {
     "iopub.execute_input": "2025-07-23T03:26:23.507441Z",
     "iopub.status.busy": "2025-07-23T03:26:23.506944Z",
     "iopub.status.idle": "2025-07-23T03:26:23.514756Z",
     "shell.execute_reply": "2025-07-23T03:26:23.513977Z"
    },
    "papermill": {
     "duration": 1.360102,
     "end_time": "2025-07-23T03:26:23.516248",
     "exception": false,
     "start_time": "2025-07-23T03:26:22.156146",
     "status": "completed"
    },
    "tags": []
   },
   "outputs": [],
   "source": [
    "non_target_gestures = [\"Drink from bottle/cup\", \"Glasses on/off\", \"Pull air toward your face\",\n",
    "                       \"Pinch knee/leg skin\", \"Scratch knee/leg skin\", \"Write name on leg\",\n",
    "                       \"Text on phone\", \"Feel around in tray and pull out an object\",\n",
    "                       \"Write name in air\", \"Wave hello\"]\n",
    "\n",
    "def map_non_target(y_ind):\n",
    "    y_pred = inv_gesture_mapping[y_ind]\n",
    "    if y_ind == 3:\n",
    "        y_ind = 2\n",
    "    elif y_ind == 4:\n",
    "        y_ind = 3\n",
    "    elif y_ind == 6:\n",
    "        y_ind = 4\n",
    "    elif y_ind == 7:\n",
    "        y_ind = 5\n",
    "    elif y_ind == 9:\n",
    "        y_ind = 6\n",
    "    elif y_ind == 10:\n",
    "        y_ind = 7\n",
    "    if y_pred in non_target_gestures:\n",
    "        y_ind = 8\n",
    "    return y_ind\n",
    "\n",
    "vectorize_map_non_target = np.vectorize(map_non_target)"
   ]
  },
  {
   "cell_type": "code",
   "execution_count": 23,
   "id": "db76c320",
   "metadata": {
    "execution": {
     "iopub.execute_input": "2025-07-23T03:26:26.455591Z",
     "iopub.status.busy": "2025-07-23T03:26:26.454703Z",
     "iopub.status.idle": "2025-07-23T03:27:22.145887Z",
     "shell.execute_reply": "2025-07-23T03:27:22.144911Z"
    },
    "papermill": {
     "duration": 57.119046,
     "end_time": "2025-07-23T03:27:22.147799",
     "exception": false,
     "start_time": "2025-07-23T03:26:25.028753",
     "status": "completed"
    },
    "tags": []
   },
   "outputs": [],
   "source": [
    "conf_tensor = np.zeros((9, 9), dtype=np.int32)\n",
    "for i, (inputs, labels) in enumerate(gesture_valid_ds):\n",
    "    labels_pred = model.predict(inputs, verbose=0)\n",
    "    labels_pred = tf.argmax(labels_pred, axis=-1).numpy()\n",
    "    labels_pred = vectorize_map_non_target(labels_pred)\n",
    "    labels_true = tf.argmax(labels, axis=-1).numpy()\n",
    "    labels_true = vectorize_map_non_target(labels_true)\n",
    "    conf_tensor += tf.math.confusion_matrix(labels_true, labels_pred, num_classes=9)"
   ]
  },
  {
   "cell_type": "code",
   "execution_count": 24,
   "id": "71823fa6",
   "metadata": {
    "execution": {
     "iopub.execute_input": "2025-07-23T03:27:25.162200Z",
     "iopub.status.busy": "2025-07-23T03:27:25.161817Z",
     "iopub.status.idle": "2025-07-23T03:27:25.204516Z",
     "shell.execute_reply": "2025-07-23T03:27:25.203497Z"
    },
    "papermill": {
     "duration": 1.573521,
     "end_time": "2025-07-23T03:27:25.206097",
     "exception": false,
     "start_time": "2025-07-23T03:27:23.632576",
     "status": "completed"
    },
    "tags": []
   },
   "outputs": [
    {
     "name": "stdout",
     "output_type": "stream",
     "text": [
      "F1 score mean: 0.444\n"
     ]
    }
   ],
   "source": [
    "precisions = []\n",
    "recalls = []\n",
    "f1s = []\n",
    "\n",
    "for i in range(9):\n",
    "    column = conf_tensor[i, :]\n",
    "    row = conf_tensor[:, i]\n",
    "    precision = column[i] / tf.math.reduce_sum(column)\n",
    "    recall = row[i] / tf.math.reduce_sum(row)\n",
    "    inv_f1 = (1/precision + 1/recall)/2\n",
    "    f1 = 1/inv_f1\n",
    "    precisions.append(precision)\n",
    "    recalls.append(recall)\n",
    "    f1s.append(f1)\n",
    "print(f\"F1 score mean: {np.round(np.mean(f1s), 3)}\")"
   ]
  },
  {
   "cell_type": "code",
   "execution_count": 25,
   "id": "5b0a9ab5",
   "metadata": {
    "execution": {
     "iopub.execute_input": "2025-07-23T03:27:28.067607Z",
     "iopub.status.busy": "2025-07-23T03:27:28.066755Z",
     "iopub.status.idle": "2025-07-23T03:27:28.070671Z",
     "shell.execute_reply": "2025-07-23T03:27:28.069914Z"
    },
    "papermill": {
     "duration": 1.366811,
     "end_time": "2025-07-23T03:27:28.072261",
     "exception": false,
     "start_time": "2025-07-23T03:27:26.705450",
     "status": "completed"
    },
    "tags": []
   },
   "outputs": [],
   "source": [
    "# import os\n",
    "# save_path = os.path.join(\"/kaggle/working/\", \"cmi_model.weights.h5\")\n",
    "# model.save_weights(save_path)"
   ]
  },
  {
   "cell_type": "code",
   "execution_count": 26,
   "id": "a459d06f",
   "metadata": {
    "execution": {
     "iopub.execute_input": "2025-07-23T03:27:30.976931Z",
     "iopub.status.busy": "2025-07-23T03:27:30.976578Z",
     "iopub.status.idle": "2025-07-23T03:27:31.332393Z",
     "shell.execute_reply": "2025-07-23T03:27:31.331545Z"
    },
    "papermill": {
     "duration": 1.717174,
     "end_time": "2025-07-23T03:27:31.333690",
     "exception": false,
     "start_time": "2025-07-23T03:27:29.616516",
     "status": "completed"
    },
    "tags": []
   },
   "outputs": [
    {
     "data": {
      "text/html": [
       "<pre style=\"white-space:pre;overflow-x:auto;line-height:normal;font-family:Menlo,'DejaVu Sans Mono',consolas,'Courier New',monospace\"><span style=\"font-weight: bold\">Model: \"rnn_model_1\"</span>\n",
       "</pre>\n"
      ],
      "text/plain": [
       "\u001b[1mModel: \"rnn_model_1\"\u001b[0m\n"
      ]
     },
     "metadata": {},
     "output_type": "display_data"
    },
    {
     "data": {
      "text/html": [
       "<pre style=\"white-space:pre;overflow-x:auto;line-height:normal;font-family:Menlo,'DejaVu Sans Mono',consolas,'Courier New',monospace\">┏━━━━━━━━━━━━━━━━━━━━━━━━━━━━━━━━━┳━━━━━━━━━━━━━━━━━━━━━━━━┳━━━━━━━━━━━━━━━┓\n",
       "┃<span style=\"font-weight: bold\"> Layer (type)                    </span>┃<span style=\"font-weight: bold\"> Output Shape           </span>┃<span style=\"font-weight: bold\">       Param # </span>┃\n",
       "┡━━━━━━━━━━━━━━━━━━━━━━━━━━━━━━━━━╇━━━━━━━━━━━━━━━━━━━━━━━━╇━━━━━━━━━━━━━━━┩\n",
       "│ conv2d_net_0 (<span style=\"color: #0087ff; text-decoration-color: #0087ff\">Sequential</span>)       │ (<span style=\"color: #00d7ff; text-decoration-color: #00d7ff\">None</span>, <span style=\"color: #00af00; text-decoration-color: #00af00\">100</span>, <span style=\"color: #00af00; text-decoration-color: #00af00\">4</span>, <span style=\"color: #00af00; text-decoration-color: #00af00\">4</span>, <span style=\"color: #00af00; text-decoration-color: #00af00\">16</span>)  │           <span style=\"color: #00af00; text-decoration-color: #00af00\">800</span> │\n",
       "├─────────────────────────────────┼────────────────────────┼───────────────┤\n",
       "│ conv2d_net_1 (<span style=\"color: #0087ff; text-decoration-color: #0087ff\">Sequential</span>)       │ (<span style=\"color: #00d7ff; text-decoration-color: #00d7ff\">None</span>, <span style=\"color: #00af00; text-decoration-color: #00af00\">100</span>, <span style=\"color: #00af00; text-decoration-color: #00af00\">2</span>, <span style=\"color: #00af00; text-decoration-color: #00af00\">2</span>, <span style=\"color: #00af00; text-decoration-color: #00af00\">32</span>)  │         <span style=\"color: #00af00; text-decoration-color: #00af00\">4,768</span> │\n",
       "├─────────────────────────────────┼────────────────────────┼───────────────┤\n",
       "│ global_maxpool                  │ (<span style=\"color: #00d7ff; text-decoration-color: #00d7ff\">None</span>, <span style=\"color: #00af00; text-decoration-color: #00af00\">100</span>, <span style=\"color: #00af00; text-decoration-color: #00af00\">32</span>)        │             <span style=\"color: #00af00; text-decoration-color: #00af00\">0</span> │\n",
       "│ (<span style=\"color: #0087ff; text-decoration-color: #0087ff\">TimeDistributed</span>)               │                        │               │\n",
       "├─────────────────────────────────┼────────────────────────┼───────────────┤\n",
       "│ conv1d_net_0 (<span style=\"color: #0087ff; text-decoration-color: #0087ff\">Sequential</span>)       │ (<span style=\"color: #00d7ff; text-decoration-color: #00d7ff\">None</span>, <span style=\"color: #00af00; text-decoration-color: #00af00\">50</span>, <span style=\"color: #00af00; text-decoration-color: #00af00\">64</span>)         │         <span style=\"color: #00af00; text-decoration-color: #00af00\">8,768</span> │\n",
       "├─────────────────────────────────┼────────────────────────┼───────────────┤\n",
       "│ conv1d_net_1 (<span style=\"color: #0087ff; text-decoration-color: #0087ff\">Sequential</span>)       │ (<span style=\"color: #00d7ff; text-decoration-color: #00d7ff\">None</span>, <span style=\"color: #00af00; text-decoration-color: #00af00\">25</span>, <span style=\"color: #00af00; text-decoration-color: #00af00\">128</span>)        │        <span style=\"color: #00af00; text-decoration-color: #00af00\">25,216</span> │\n",
       "├─────────────────────────────────┼────────────────────────┼───────────────┤\n",
       "│ conv1d_net_2 (<span style=\"color: #0087ff; text-decoration-color: #0087ff\">Sequential</span>)       │ (<span style=\"color: #00d7ff; text-decoration-color: #00d7ff\">None</span>, <span style=\"color: #00af00; text-decoration-color: #00af00\">13</span>, <span style=\"color: #00af00; text-decoration-color: #00af00\">256</span>)        │        <span style=\"color: #00af00; text-decoration-color: #00af00\">99,584</span> │\n",
       "├─────────────────────────────────┼────────────────────────┼───────────────┤\n",
       "│ gru_1 (<span style=\"color: #0087ff; text-decoration-color: #0087ff\">GRU</span>)                     │ ?                      │   <span style=\"color: #00af00; text-decoration-color: #00af00\">0</span> (unbuilt) │\n",
       "├─────────────────────────────────┼────────────────────────┼───────────────┤\n",
       "│ GRU (<span style=\"color: #0087ff; text-decoration-color: #0087ff\">Bidirectional</span>)             │ (<span style=\"color: #00d7ff; text-decoration-color: #00d7ff\">None</span>, <span style=\"color: #00af00; text-decoration-color: #00af00\">512</span>)            │       <span style=\"color: #00af00; text-decoration-color: #00af00\">789,504</span> │\n",
       "├─────────────────────────────────┼────────────────────────┼───────────────┤\n",
       "│ flatten_1 (<span style=\"color: #0087ff; text-decoration-color: #0087ff\">Flatten</span>)             │ (<span style=\"color: #00d7ff; text-decoration-color: #00d7ff\">None</span>, <span style=\"color: #00af00; text-decoration-color: #00af00\">512</span>)            │             <span style=\"color: #00af00; text-decoration-color: #00af00\">0</span> │\n",
       "├─────────────────────────────────┼────────────────────────┼───────────────┤\n",
       "│ dense_3 (<span style=\"color: #0087ff; text-decoration-color: #0087ff\">Dense</span>)                 │ (<span style=\"color: #00d7ff; text-decoration-color: #00d7ff\">None</span>, <span style=\"color: #00af00; text-decoration-color: #00af00\">512</span>)            │       <span style=\"color: #00af00; text-decoration-color: #00af00\">269,824</span> │\n",
       "├─────────────────────────────────┼────────────────────────┼───────────────┤\n",
       "│ dense_4 (<span style=\"color: #0087ff; text-decoration-color: #0087ff\">Dense</span>)                 │ (<span style=\"color: #00d7ff; text-decoration-color: #00d7ff\">None</span>, <span style=\"color: #00af00; text-decoration-color: #00af00\">1</span>)              │           <span style=\"color: #00af00; text-decoration-color: #00af00\">513</span> │\n",
       "├─────────────────────────────────┼────────────────────────┼───────────────┤\n",
       "│ dense_5 (<span style=\"color: #0087ff; text-decoration-color: #0087ff\">Dense</span>)                 │ (<span style=\"color: #00d7ff; text-decoration-color: #00d7ff\">None</span>, <span style=\"color: #00af00; text-decoration-color: #00af00\">18</span>)             │         <span style=\"color: #00af00; text-decoration-color: #00af00\">9,234</span> │\n",
       "└─────────────────────────────────┴────────────────────────┴───────────────┘\n",
       "</pre>\n"
      ],
      "text/plain": [
       "┏━━━━━━━━━━━━━━━━━━━━━━━━━━━━━━━━━┳━━━━━━━━━━━━━━━━━━━━━━━━┳━━━━━━━━━━━━━━━┓\n",
       "┃\u001b[1m \u001b[0m\u001b[1mLayer (type)                   \u001b[0m\u001b[1m \u001b[0m┃\u001b[1m \u001b[0m\u001b[1mOutput Shape          \u001b[0m\u001b[1m \u001b[0m┃\u001b[1m \u001b[0m\u001b[1m      Param #\u001b[0m\u001b[1m \u001b[0m┃\n",
       "┡━━━━━━━━━━━━━━━━━━━━━━━━━━━━━━━━━╇━━━━━━━━━━━━━━━━━━━━━━━━╇━━━━━━━━━━━━━━━┩\n",
       "│ conv2d_net_0 (\u001b[38;5;33mSequential\u001b[0m)       │ (\u001b[38;5;45mNone\u001b[0m, \u001b[38;5;34m100\u001b[0m, \u001b[38;5;34m4\u001b[0m, \u001b[38;5;34m4\u001b[0m, \u001b[38;5;34m16\u001b[0m)  │           \u001b[38;5;34m800\u001b[0m │\n",
       "├─────────────────────────────────┼────────────────────────┼───────────────┤\n",
       "│ conv2d_net_1 (\u001b[38;5;33mSequential\u001b[0m)       │ (\u001b[38;5;45mNone\u001b[0m, \u001b[38;5;34m100\u001b[0m, \u001b[38;5;34m2\u001b[0m, \u001b[38;5;34m2\u001b[0m, \u001b[38;5;34m32\u001b[0m)  │         \u001b[38;5;34m4,768\u001b[0m │\n",
       "├─────────────────────────────────┼────────────────────────┼───────────────┤\n",
       "│ global_maxpool                  │ (\u001b[38;5;45mNone\u001b[0m, \u001b[38;5;34m100\u001b[0m, \u001b[38;5;34m32\u001b[0m)        │             \u001b[38;5;34m0\u001b[0m │\n",
       "│ (\u001b[38;5;33mTimeDistributed\u001b[0m)               │                        │               │\n",
       "├─────────────────────────────────┼────────────────────────┼───────────────┤\n",
       "│ conv1d_net_0 (\u001b[38;5;33mSequential\u001b[0m)       │ (\u001b[38;5;45mNone\u001b[0m, \u001b[38;5;34m50\u001b[0m, \u001b[38;5;34m64\u001b[0m)         │         \u001b[38;5;34m8,768\u001b[0m │\n",
       "├─────────────────────────────────┼────────────────────────┼───────────────┤\n",
       "│ conv1d_net_1 (\u001b[38;5;33mSequential\u001b[0m)       │ (\u001b[38;5;45mNone\u001b[0m, \u001b[38;5;34m25\u001b[0m, \u001b[38;5;34m128\u001b[0m)        │        \u001b[38;5;34m25,216\u001b[0m │\n",
       "├─────────────────────────────────┼────────────────────────┼───────────────┤\n",
       "│ conv1d_net_2 (\u001b[38;5;33mSequential\u001b[0m)       │ (\u001b[38;5;45mNone\u001b[0m, \u001b[38;5;34m13\u001b[0m, \u001b[38;5;34m256\u001b[0m)        │        \u001b[38;5;34m99,584\u001b[0m │\n",
       "├─────────────────────────────────┼────────────────────────┼───────────────┤\n",
       "│ gru_1 (\u001b[38;5;33mGRU\u001b[0m)                     │ ?                      │   \u001b[38;5;34m0\u001b[0m (unbuilt) │\n",
       "├─────────────────────────────────┼────────────────────────┼───────────────┤\n",
       "│ GRU (\u001b[38;5;33mBidirectional\u001b[0m)             │ (\u001b[38;5;45mNone\u001b[0m, \u001b[38;5;34m512\u001b[0m)            │       \u001b[38;5;34m789,504\u001b[0m │\n",
       "├─────────────────────────────────┼────────────────────────┼───────────────┤\n",
       "│ flatten_1 (\u001b[38;5;33mFlatten\u001b[0m)             │ (\u001b[38;5;45mNone\u001b[0m, \u001b[38;5;34m512\u001b[0m)            │             \u001b[38;5;34m0\u001b[0m │\n",
       "├─────────────────────────────────┼────────────────────────┼───────────────┤\n",
       "│ dense_3 (\u001b[38;5;33mDense\u001b[0m)                 │ (\u001b[38;5;45mNone\u001b[0m, \u001b[38;5;34m512\u001b[0m)            │       \u001b[38;5;34m269,824\u001b[0m │\n",
       "├─────────────────────────────────┼────────────────────────┼───────────────┤\n",
       "│ dense_4 (\u001b[38;5;33mDense\u001b[0m)                 │ (\u001b[38;5;45mNone\u001b[0m, \u001b[38;5;34m1\u001b[0m)              │           \u001b[38;5;34m513\u001b[0m │\n",
       "├─────────────────────────────────┼────────────────────────┼───────────────┤\n",
       "│ dense_5 (\u001b[38;5;33mDense\u001b[0m)                 │ (\u001b[38;5;45mNone\u001b[0m, \u001b[38;5;34m18\u001b[0m)             │         \u001b[38;5;34m9,234\u001b[0m │\n",
       "└─────────────────────────────────┴────────────────────────┴───────────────┘\n"
      ]
     },
     "metadata": {},
     "output_type": "display_data"
    },
    {
     "data": {
      "text/html": [
       "<pre style=\"white-space:pre;overflow-x:auto;line-height:normal;font-family:Menlo,'DejaVu Sans Mono',consolas,'Courier New',monospace\"><span style=\"font-weight: bold\"> Total params: </span><span style=\"color: #00af00; text-decoration-color: #00af00\">1,208,211</span> (4.61 MB)\n",
       "</pre>\n"
      ],
      "text/plain": [
       "\u001b[1m Total params: \u001b[0m\u001b[38;5;34m1,208,211\u001b[0m (4.61 MB)\n"
      ]
     },
     "metadata": {},
     "output_type": "display_data"
    },
    {
     "data": {
      "text/html": [
       "<pre style=\"white-space:pre;overflow-x:auto;line-height:normal;font-family:Menlo,'DejaVu Sans Mono',consolas,'Courier New',monospace\"><span style=\"font-weight: bold\"> Trainable params: </span><span style=\"color: #00af00; text-decoration-color: #00af00\">1,207,219</span> (4.61 MB)\n",
       "</pre>\n"
      ],
      "text/plain": [
       "\u001b[1m Trainable params: \u001b[0m\u001b[38;5;34m1,207,219\u001b[0m (4.61 MB)\n"
      ]
     },
     "metadata": {},
     "output_type": "display_data"
    },
    {
     "data": {
      "text/html": [
       "<pre style=\"white-space:pre;overflow-x:auto;line-height:normal;font-family:Menlo,'DejaVu Sans Mono',consolas,'Courier New',monospace\"><span style=\"font-weight: bold\"> Non-trainable params: </span><span style=\"color: #00af00; text-decoration-color: #00af00\">992</span> (3.88 KB)\n",
       "</pre>\n"
      ],
      "text/plain": [
       "\u001b[1m Non-trainable params: \u001b[0m\u001b[38;5;34m992\u001b[0m (3.88 KB)\n"
      ]
     },
     "metadata": {},
     "output_type": "display_data"
    }
   ],
   "source": [
    "new_model = RNNModel(kernel_size2d=3, kernel_size1d=3, filters_2d=[16, 32], dropout=0.2,\n",
    "                     filters_1d=[64, 128, 256], rnn_hidden_size=256, mode=\"GRU\", bidirectional=True,\n",
    "                     hidden_size=512, regularizer=\"l1l2\", l1_penalty=1e-4, l2_penalty=1e-4, binary=True)\n",
    "new_model.build(input_shapes=((None, 100, 8, 8, 5), (None, 100, 12), (None, 14)))\n",
    "new_model.load_weights(checkpoint_filepath)\n",
    "new_model.summary()"
   ]
  }
 ],
 "metadata": {
  "kaggle": {
   "accelerator": "none",
   "dataSources": [
    {
     "databundleVersionId": 12518947,
     "sourceId": 102335,
     "sourceType": "competition"
    },
    {
     "datasetId": 7856290,
     "sourceId": 12454411,
     "sourceType": "datasetVersion"
    },
    {
     "datasetId": 7889376,
     "isSourceIdPinned": false,
     "sourceId": 12546593,
     "sourceType": "datasetVersion"
    }
   ],
   "dockerImageVersionId": 31089,
   "isGpuEnabled": false,
   "isInternetEnabled": false,
   "language": "python",
   "sourceType": "notebook"
  },
  "kernelspec": {
   "display_name": "Python 3",
   "language": "python",
   "name": "python3"
  },
  "language_info": {
   "codemirror_mode": {
    "name": "ipython",
    "version": 3
   },
   "file_extension": ".py",
   "mimetype": "text/x-python",
   "name": "python",
   "nbconvert_exporter": "python",
   "pygments_lexer": "ipython3",
   "version": "3.11.13"
  },
  "papermill": {
   "default_parameters": {},
   "duration": 14569.615425,
   "end_time": "2025-07-23T03:27:35.765879",
   "environment_variables": {},
   "exception": null,
   "input_path": "__notebook__.ipynb",
   "output_path": "__notebook__.ipynb",
   "parameters": {},
   "start_time": "2025-07-22T23:24:46.150454",
   "version": "2.6.0"
  }
 },
 "nbformat": 4,
 "nbformat_minor": 5
}
