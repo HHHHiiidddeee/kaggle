{
 "cells": [
  {
   "cell_type": "code",
   "execution_count": 1,
   "id": "88618a71",
   "metadata": {
    "execution": {
     "iopub.execute_input": "2025-08-12T07:59:52.454929Z",
     "iopub.status.busy": "2025-08-12T07:59:52.454607Z",
     "iopub.status.idle": "2025-08-12T08:00:09.180022Z",
     "shell.execute_reply": "2025-08-12T08:00:09.179179Z"
    },
    "papermill": {
     "duration": 16.732191,
     "end_time": "2025-08-12T08:00:09.181435",
     "exception": false,
     "start_time": "2025-08-12T07:59:52.449244",
     "status": "completed"
    },
    "tags": []
   },
   "outputs": [
    {
     "name": "stderr",
     "output_type": "stream",
     "text": [
      "2025-08-12 07:59:54.368217: E external/local_xla/xla/stream_executor/cuda/cuda_fft.cc:477] Unable to register cuFFT factory: Attempting to register factory for plugin cuFFT when one has already been registered\n",
      "WARNING: All log messages before absl::InitializeLog() is called are written to STDERR\n",
      "E0000 00:00:1754985594.566194      19 cuda_dnn.cc:8310] Unable to register cuDNN factory: Attempting to register factory for plugin cuDNN when one has already been registered\n",
      "E0000 00:00:1754985594.631357      19 cuda_blas.cc:1418] Unable to register cuBLAS factory: Attempting to register factory for plugin cuBLAS when one has already been registered\n",
      "I0000 00:00:1754985609.043613      19 gpu_device.cc:2022] Created device /job:localhost/replica:0/task:0/device:GPU:0 with 15513 MB memory:  -> device: 0, name: Tesla P100-PCIE-16GB, pci bus id: 0000:00:04.0, compute capability: 6.0\n"
     ]
    }
   ],
   "source": [
    "import tensorflow as tf\n",
    "from tensorflow.keras import Model\n",
    "import numpy as np\n",
    "import pandas as pd\n",
    "import warnings\n",
    "warnings.filterwarnings(\"ignore\")\n",
    "\n",
    "tf.random.set_seed(42)\n",
    "type_train_ds = tf.data.experimental.load(\"/kaggle/input/cmi-tf-datasets/type_train_ds\")\n",
    "type_valid_ds = tf.data.experimental.load(\"/kaggle/input/cmi-tf-datasets/type_valid_ds\")\n",
    "gesture_train_ds = tf.data.experimental.load(\"/kaggle/input/cmi-tf-datasets/gesture_train_ds\")\n",
    "gesture_valid_ds = tf.data.experimental.load(\"/kaggle/input/cmi-tf-datasets/gesture_valid_ds\")\n",
    "# test_ds = tf.data.experimental.load(\"/kaggle/input/cmi-tf-datasets/test_ds\")"
   ]
  },
  {
   "cell_type": "code",
   "execution_count": 2,
   "id": "cccdff83",
   "metadata": {
    "execution": {
     "iopub.execute_input": "2025-08-12T08:00:09.189688Z",
     "iopub.status.busy": "2025-08-12T08:00:09.189219Z",
     "iopub.status.idle": "2025-08-12T08:00:09.192773Z",
     "shell.execute_reply": "2025-08-12T08:00:09.192057Z"
    },
    "papermill": {
     "duration": 0.008709,
     "end_time": "2025-08-12T08:00:09.193987",
     "exception": false,
     "start_time": "2025-08-12T08:00:09.185278",
     "status": "completed"
    },
    "tags": []
   },
   "outputs": [],
   "source": [
    "# print(\"Num GPUs Available: \", len(tf.config.list_physical_devices('GPU')))"
   ]
  },
  {
   "cell_type": "code",
   "execution_count": 3,
   "id": "2c03e42e",
   "metadata": {
    "execution": {
     "iopub.execute_input": "2025-08-12T08:00:09.201970Z",
     "iopub.status.busy": "2025-08-12T08:00:09.201405Z",
     "iopub.status.idle": "2025-08-12T08:00:09.207415Z",
     "shell.execute_reply": "2025-08-12T08:00:09.206675Z"
    },
    "papermill": {
     "duration": 0.011069,
     "end_time": "2025-08-12T08:00:09.208539",
     "exception": false,
     "start_time": "2025-08-12T08:00:09.197470",
     "status": "completed"
    },
    "tags": []
   },
   "outputs": [
    {
     "name": "stdout",
     "output_type": "stream",
     "text": [
      "230\n",
      "24\n",
      "230\n",
      "24\n"
     ]
    }
   ],
   "source": [
    "print(len(type_train_ds))\n",
    "print(len(type_valid_ds))\n",
    "print(len(gesture_train_ds))\n",
    "print(len(gesture_valid_ds))\n",
    "\n",
    "# print(len(test_ds))"
   ]
  },
  {
   "cell_type": "code",
   "execution_count": 4,
   "id": "391443e6",
   "metadata": {
    "execution": {
     "iopub.execute_input": "2025-08-12T08:00:09.215940Z",
     "iopub.status.busy": "2025-08-12T08:00:09.215711Z",
     "iopub.status.idle": "2025-08-12T08:00:09.420364Z",
     "shell.execute_reply": "2025-08-12T08:00:09.419672Z"
    },
    "papermill": {
     "duration": 0.209672,
     "end_time": "2025-08-12T08:00:09.421625",
     "exception": false,
     "start_time": "2025-08-12T08:00:09.211953",
     "status": "completed"
    },
    "tags": []
   },
   "outputs": [
    {
     "name": "stdout",
     "output_type": "stream",
     "text": [
      "(64, 50, 8, 8, 5)\n",
      "(64, 50, 19)\n",
      "(64, 17)\n",
      "(64, 1)\n"
     ]
    }
   ],
   "source": [
    "for i, (inputs, targets) in enumerate(type_train_ds):\n",
    "    if i==0:\n",
    "        print(inputs[0].shape)\n",
    "        print(inputs[1].shape)\n",
    "        print(inputs[2].shape)\n",
    "        print(targets.shape)\n",
    "        break"
   ]
  },
  {
   "cell_type": "code",
   "execution_count": 5,
   "id": "27c73601",
   "metadata": {
    "execution": {
     "iopub.execute_input": "2025-08-12T08:00:09.430157Z",
     "iopub.status.busy": "2025-08-12T08:00:09.429929Z",
     "iopub.status.idle": "2025-08-12T08:00:09.451857Z",
     "shell.execute_reply": "2025-08-12T08:00:09.451279Z"
    },
    "papermill": {
     "duration": 0.02769,
     "end_time": "2025-08-12T08:00:09.452982",
     "exception": false,
     "start_time": "2025-08-12T08:00:09.425292",
     "status": "completed"
    },
    "tags": []
   },
   "outputs": [],
   "source": [
    "from tensorflow.keras.layers import Conv3D, Conv2D, Conv1D, BatchNormalization, TimeDistributed, InputLayer\n",
    "from tensorflow.keras.layers import MaxPool3D, MaxPool2D, GlobalMaxPool3D, GlobalMaxPool2D, AveragePooling1D, Dropout\n",
    "from tensorflow.keras.layers import SimpleRNN, LSTM, GRU, Bidirectional, Flatten, Dense\n",
    "from tensorflow.keras.layers import ReLU, ELU, Masking\n",
    "from tensorflow.keras.regularizers import L1, L2, L1L2\n",
    "from tensorflow.keras import Sequential\n",
    "\n",
    "class RNNModel(Model):\n",
    "    def __init__(self, kernel_size3d=3, kernel_size1d=3, filters_3d=[16, 32], dropout=0.2, \n",
    "                 filters_1d=[16, 32], num_rnn_layers=1, rnn_hidden_size=32, mode=\"RNN\", \n",
    "                 bidirectional=False, hidden_size=64, regularizer=\"l1\", l1_penalty=0.1, l2_penalty=0.1, \n",
    "                 binary=True, **kwargs):\n",
    "        super().__init__(**kwargs)\n",
    "        self.hidden_size = hidden_size\n",
    "        self.bidirectional = bidirectional\n",
    "        \n",
    "        self.conv3d_nets = []\n",
    "        for i in range(len(filters_3d)):\n",
    "            conv3d_net = Sequential([\n",
    "                Conv3D(filters_3d[i], kernel_size3d, padding=\"same\", use_bias=False),\n",
    "                BatchNormalization(),\n",
    "                ReLU(),\n",
    "                MaxPool3D(pool_size=(2, 2, 2), strides=(2, 1, 1), padding=\"same\"),\n",
    "                Dropout(dropout)\n",
    "            ], name=f\"conv3d_net_{i}\")\n",
    "            self.conv3d_nets.append(conv3d_net)\n",
    "        self.global_maxpool = GlobalMaxPool3D()\n",
    "\n",
    "        self.conv1d_nets = []\n",
    "        for i in range(len(filters_1d)):\n",
    "            conv1d_net = Sequential([\n",
    "                Conv1D(filters_1d[i], kernel_size1d, padding=\"same\", kernel_initializer=\"he_normal\", use_bias=False),\n",
    "                BatchNormalization(),\n",
    "                ELU(),\n",
    "                AveragePooling1D(pool_size=2, strides=2, padding=\"same\"),\n",
    "                Dropout(dropout)\n",
    "            ], name=f\"conv1d_net_{i}\")\n",
    "            self.conv1d_nets.append(conv1d_net)\n",
    "\n",
    "        self.masking = Masking(mask_value=0.0)\n",
    "        self.rnns = []\n",
    "        # self.skip_dense = Dense(rnn_hidden_size*2, name=\"skip_connection_dense_bidirectional\")\n",
    "        for i in range(num_rnn_layers):\n",
    "            return_sequences = True if i!=num_rnn_layers-1 else False\n",
    "            if mode == \"RNN\":\n",
    "                rnn = SimpleRNN(rnn_hidden_size, kernel_initializer=\"glorot_normal\", recurrent_initializer=\"orthogonal\", \n",
    "                                dropout=dropout, recurrent_dropout=dropout, return_sequences=return_sequences)\n",
    "            elif mode == \"LSTM\":\n",
    "                rnn = LSTM(rnn_hidden_size, kernel_initializer=\"glorot_normal\", recurrent_initializer=\"orthogonal\", \n",
    "                           dropout=dropout, recurrent_dropout=dropout, return_sequences=return_sequences)\n",
    "            else:\n",
    "                rnn = GRU(rnn_hidden_size, kernel_initializer=\"glorot_normal\", recurrent_initializer=\"orthogonal\", \n",
    "                          dropout=dropout, recurrent_dropout=dropout, return_sequences=return_sequences)\n",
    "            if bidirectional:\n",
    "                rnn = Bidirectional(rnn, name=f\"{mode}_{i}\")\n",
    "            self.rnns.append(rnn)\n",
    "        \n",
    "        # self.dense_flat = Sequential([\n",
    "        #     Dense(1, activation=\"relu\"),\n",
    "        #     Flatten()\n",
    "        # ], name=\"dense_and_flatten\")\n",
    "\n",
    "        if regularizer == \"l1\":\n",
    "            self.dense0 = Dense(hidden_size, activation=\"relu\", \n",
    "                                kernel_regularizer=L1(l1_penalty),\n",
    "                                bias_regularizer=L1(l1_penalty))\n",
    "            self.dense1_0 = Dense(1, activation=\"sigmoid\",\n",
    "                                  kernel_regularizer=L1(l1_penalty),\n",
    "                                  bias_regularizer=L1(l1_penalty))\n",
    "            self.dense1_1 = Dense(18, activation=\"softmax\", kernel_initializer=\"glorot_normal\",\n",
    "                                  kernel_regularizer=L1(l1_penalty),\n",
    "                                  bias_regularizer=L1(l1_penalty))\n",
    "        elif regularizer == \"l2\":\n",
    "            self.dense0 = Dense(hidden_size, activation=\"relu\", \n",
    "                                kernel_regularizer=L2(l2_penalty),\n",
    "                                bias_regularizer=L2(l2_penalty))\n",
    "            self.dense1_0 = Dense(1, activation=\"sigmoid\", \n",
    "                                  kernel_regularizer=L2(l2_penalty),\n",
    "                                  bias_regularizer=L2(l2_penalty))\n",
    "            self.dense1_1 = Dense(18, activation=\"softmax\", kernel_initializer=\"glorot_normal\",\n",
    "                                  kernel_regularizer=L2(l2_penalty),\n",
    "                                  bias_regularizer=L2(l2_penalty))\n",
    "        elif regularizer == \"l1l2\":\n",
    "            self.dense0 = Dense(hidden_size, activation=\"relu\", \n",
    "                                kernel_regularizer=L1L2(l1_penalty, l2_penalty),\n",
    "                                bias_regularizer=L1L2(l1_penalty, l2_penalty))\n",
    "            self.dense1_0 = Dense(1, activation=\"sigmoid\", \n",
    "                                  kernel_regularizer=L1L2(l1_penalty, l2_penalty),\n",
    "                                  bias_regularizer=L1L2(l1_penalty, l2_penalty))\n",
    "            self.dense1_1 = Dense(18, activation=\"softmax\", kernel_initializer=\"glorot_normal\",\n",
    "                                  kernel_regularizer=L1L2(l1_penalty, l2_penalty),\n",
    "                                  bias_regularizer=L1L2(l1_penalty, l2_penalty))\n",
    "        else:\n",
    "            self.dense0 = Dense(hidden_size, activation=\"relu\")\n",
    "            self.dense1_0 = Dense(1, activation=\"sigmoid\")\n",
    "            self.dense1_1 = Dense(18, activation=\"softmax\")\n",
    "\n",
    "        self.binary = binary\n",
    "\n",
    "    def build(self, input_shapes, training=False):\n",
    "        image_shape = input_shapes[0]\n",
    "        for i in range(len(self.conv3d_nets)):\n",
    "            self.conv3d_nets[i].build(image_shape)\n",
    "            image_shape = self.conv3d_nets[i].compute_output_shape(image_shape)\n",
    "        self.global_maxpool.build(image_shape)\n",
    "        image_shape = self.global_maxpool.compute_output_shape(image_shape)\n",
    "\n",
    "        time_series_shape = input_shapes[1]\n",
    "        for i in range(len(self.conv1d_nets)):\n",
    "            self.conv1d_nets[i].build(time_series_shape)\n",
    "            shape = self.conv1d_nets[i].compute_output_shape(time_series_shape)\n",
    "\n",
    "        self.masking.build(time_series_shape)\n",
    "        time_series_shape = self.masking.compute_output_shape(time_series_shape)\n",
    "        # self.skip_dense.build(shape)\n",
    "        for i in range(len(self.rnns)):\n",
    "            self.rnns[i].build(time_series_shape)\n",
    "            time_series_shape = self.rnns[i].compute_output_shape(time_series_shape)\n",
    "        \n",
    "        shape = (image_shape[0], image_shape[1] + time_series_shape[1] + input_shapes[2][1])\n",
    "\n",
    "        self.dense0.build(shape)\n",
    "        shape = self.dense0.compute_output_shape(shape)\n",
    "\n",
    "        self.dense1_0.build(shape)\n",
    "        self.dense1_1.build(shape)\n",
    "        \n",
    "\n",
    "    def call(self, inputs, training=False):\n",
    "        image_out = inputs[0]\n",
    "        for i in range(len(self.conv3d_nets)):\n",
    "            image_out = self.conv3d_nets[i](image_out, training=training)\n",
    "        image_out = self.global_maxpool(image_out)   # (batch, filters)\n",
    "\n",
    "        time_series_out = inputs[1]\n",
    "        # out = tf.RaggedTensor.from_tensor(out, lengths=inputs[3])\n",
    "        for i in range(len(self.conv1d_nets)):\n",
    "            time_series_out = self.conv1d_nets[i](time_series_out, training=training)\n",
    "\n",
    "        time_series_out = self.masking(time_series_out)\n",
    "        mask = self.masking.compute_mask(time_series_out)\n",
    "        # time_series_out = tf.ragged.boolean_mask(time_series_out, mask)\n",
    "        for i in range(len(self.rnns)):\n",
    "            time_series_out = self.rnns[i](time_series_out, mask=mask, training=training)\n",
    "            # if i==0 and len(self.rnns)!=1:\n",
    "            #     out = self.skip_dense(out) if self.bidirectional else out\n",
    "            #     out = rnn_out + out\n",
    "            # if i < len(self.rnns)-1:\n",
    "            #     out = rnn_out + out\n",
    "            # else:\n",
    "            #     out = rnn_out\n",
    "        # out = self.rnn(out, training=training)        # (batch, downsampled_timestep, rnn_hidden_size)\n",
    "        out = tf.concat([image_out, time_series_out, inputs[2]], axis=-1)\n",
    "        out = self.dense0(out)\n",
    "        if self.binary:\n",
    "            out = self.dense1_0(out)\n",
    "        else:\n",
    "            out = self.dense1_1(out)\n",
    "        return out\n",
    "\n",
    "    def set_binary(self):\n",
    "        self.binary = True\n",
    "        if self.dense1_0.build == False:\n",
    "            self.dense1_0.build(input_shape=(None, self.hidden_size))\n",
    "\n",
    "    def set_multi(self):\n",
    "        self.binary = False\n",
    "        if self.dense1_1.build == False:\n",
    "            self.dense1_1.build(input_shape=(None, self.hidden_size))\n",
    "\n",
    "    def freeze_conv_timeseries(self):\n",
    "        for i in range(len(self.conv2d_nets)):\n",
    "            self.conv3d_nets[i].trainable = False\n",
    "        for i in range(len(self.conv1d_nets)):\n",
    "            self.conv1d_nets[i].trainable = False\n",
    "        self.rnn.trainable = False"
   ]
  },
  {
   "cell_type": "code",
   "execution_count": 6,
   "id": "0ab6014a",
   "metadata": {
    "execution": {
     "iopub.execute_input": "2025-08-12T08:00:09.460477Z",
     "iopub.status.busy": "2025-08-12T08:00:09.460277Z",
     "iopub.status.idle": "2025-08-12T08:00:09.516750Z",
     "shell.execute_reply": "2025-08-12T08:00:09.515833Z"
    },
    "papermill": {
     "duration": 0.061591,
     "end_time": "2025-08-12T08:00:09.518012",
     "exception": false,
     "start_time": "2025-08-12T08:00:09.456421",
     "status": "completed"
    },
    "tags": []
   },
   "outputs": [
    {
     "name": "stdout",
     "output_type": "stream",
     "text": [
      "(64, 50, 8, 8, 5)\n",
      "(64, 50, 19)\n",
      "(64, 17)\n"
     ]
    }
   ],
   "source": [
    "for i, (inputs, targets) in enumerate(type_train_ds):\n",
    "    if i == 0:\n",
    "        print(inputs[0].shape)\n",
    "        print(inputs[1].shape)\n",
    "        print(inputs[2].shape)\n",
    "        break"
   ]
  },
  {
   "cell_type": "code",
   "execution_count": 7,
   "id": "f56862d7",
   "metadata": {
    "execution": {
     "iopub.execute_input": "2025-08-12T08:00:09.525901Z",
     "iopub.status.busy": "2025-08-12T08:00:09.525641Z",
     "iopub.status.idle": "2025-08-12T08:00:09.540902Z",
     "shell.execute_reply": "2025-08-12T08:00:09.540376Z"
    },
    "papermill": {
     "duration": 0.020353,
     "end_time": "2025-08-12T08:00:09.542079",
     "exception": false,
     "start_time": "2025-08-12T08:00:09.521726",
     "status": "completed"
    },
    "tags": []
   },
   "outputs": [],
   "source": [
    "import json\n",
    "\n",
    "with open('/kaggle/input/cmi-tf-datasets/sample_weight.json') as f:\n",
    "    sample_weight_dict = json.load(f)\n",
    "\n",
    "type_sample_weight = sample_weight_dict[\"type_sample_weight\"]\n",
    "type_class_weight = {0: type_sample_weight[0], 1: type_sample_weight[1]}\n",
    "\n",
    "gesture_sample_weight = sample_weight_dict[\"gesture_sample_weight\"]\n",
    "gesture_class_weight = {i: gesture_sample_weight[i] for i in range(len(gesture_sample_weight))}"
   ]
  },
  {
   "cell_type": "code",
   "execution_count": 8,
   "id": "4772ff3d",
   "metadata": {
    "execution": {
     "iopub.execute_input": "2025-08-12T08:00:09.550629Z",
     "iopub.status.busy": "2025-08-12T08:00:09.550400Z",
     "iopub.status.idle": "2025-08-12T08:00:09.554537Z",
     "shell.execute_reply": "2025-08-12T08:00:09.554000Z"
    },
    "papermill": {
     "duration": 0.009973,
     "end_time": "2025-08-12T08:00:09.555600",
     "exception": false,
     "start_time": "2025-08-12T08:00:09.545627",
     "status": "completed"
    },
    "tags": []
   },
   "outputs": [],
   "source": [
    "def add_type_sample_weight(x, y):\n",
    "    y_int = tf.cast(y, tf.int32)\n",
    "    weight = tf.gather([type_class_weight[0], type_class_weight[1]], y_int)\n",
    "    return x, y, weight\n",
    "\n",
    "def add_gesture_sample_weight(x, y):\n",
    "    y_arg = tf.argmax(y)\n",
    "    weight = tf.gather(gesture_sample_weight, y_arg)\n",
    "    return x, y, weight"
   ]
  },
  {
   "cell_type": "code",
   "execution_count": 9,
   "id": "8e40852a",
   "metadata": {
    "execution": {
     "iopub.execute_input": "2025-08-12T08:00:09.562984Z",
     "iopub.status.busy": "2025-08-12T08:00:09.562783Z",
     "iopub.status.idle": "2025-08-12T08:00:09.655035Z",
     "shell.execute_reply": "2025-08-12T08:00:09.654334Z"
    },
    "papermill": {
     "duration": 0.097424,
     "end_time": "2025-08-12T08:00:09.656392",
     "exception": false,
     "start_time": "2025-08-12T08:00:09.558968",
     "status": "completed"
    },
    "tags": []
   },
   "outputs": [],
   "source": [
    "type_train_ds = type_train_ds.unbatch().map(add_type_sample_weight).batch(32, drop_remainder=True)\n",
    "type_valid_ds = type_valid_ds.unbatch().map(add_type_sample_weight).batch(32, drop_remainder=True)"
   ]
  },
  {
   "cell_type": "code",
   "execution_count": 10,
   "id": "e676062d",
   "metadata": {
    "execution": {
     "iopub.execute_input": "2025-08-12T08:00:09.664434Z",
     "iopub.status.busy": "2025-08-12T08:00:09.664193Z",
     "iopub.status.idle": "2025-08-12T08:00:09.694097Z",
     "shell.execute_reply": "2025-08-12T08:00:09.693251Z"
    },
    "papermill": {
     "duration": 0.035713,
     "end_time": "2025-08-12T08:00:09.695774",
     "exception": false,
     "start_time": "2025-08-12T08:00:09.660061",
     "status": "completed"
    },
    "tags": []
   },
   "outputs": [],
   "source": [
    "# gesture_train_ds = gesture_train_ds.unbatch().map(add_gesture_sample_weight).batch(16)\n",
    "# gesture_valid_ds = gesture_valid_ds.unbatch().map(add_gesture_sample_weight).batch(16)\n",
    "gesture_train_ds = gesture_train_ds.unbatch().batch(32)\n",
    "gesture_valid_ds = gesture_valid_ds.unbatch().batch(32)"
   ]
  },
  {
   "cell_type": "code",
   "execution_count": 11,
   "id": "2f495525",
   "metadata": {
    "execution": {
     "iopub.execute_input": "2025-08-12T08:00:09.703962Z",
     "iopub.status.busy": "2025-08-12T08:00:09.703740Z",
     "iopub.status.idle": "2025-08-12T08:00:09.707947Z",
     "shell.execute_reply": "2025-08-12T08:00:09.707409Z"
    },
    "papermill": {
     "duration": 0.009616,
     "end_time": "2025-08-12T08:00:09.709012",
     "exception": false,
     "start_time": "2025-08-12T08:00:09.699396",
     "status": "completed"
    },
    "tags": []
   },
   "outputs": [],
   "source": [
    "def scheduler(epoch):\n",
    "    lr = 0.001\n",
    "    if epoch < 20:\n",
    "        return lr\n",
    "    elif 20 <= epoch and epoch < 40:\n",
    "        return lr * (1/2)\n",
    "    elif 40 <= epoch and epoch < 60:\n",
    "        return lr * (1/4)\n",
    "    elif 60 <= epoch and epoch < 80:\n",
    "        return lr * (1/8)\n",
    "    else:\n",
    "        return lr * (1/16)"
   ]
  },
  {
   "cell_type": "code",
   "execution_count": 12,
   "id": "38771035",
   "metadata": {
    "execution": {
     "iopub.execute_input": "2025-08-12T08:00:09.717048Z",
     "iopub.status.busy": "2025-08-12T08:00:09.716480Z",
     "iopub.status.idle": "2025-08-12T08:00:11.138461Z",
     "shell.execute_reply": "2025-08-12T08:00:11.137887Z"
    },
    "papermill": {
     "duration": 1.426949,
     "end_time": "2025-08-12T08:00:11.139536",
     "exception": false,
     "start_time": "2025-08-12T08:00:09.712587",
     "status": "completed"
    },
    "tags": []
   },
   "outputs": [
    {
     "data": {
      "text/html": [
       "<pre style=\"white-space:pre;overflow-x:auto;line-height:normal;font-family:Menlo,'DejaVu Sans Mono',consolas,'Courier New',monospace\"><span style=\"font-weight: bold\">Model: \"rnn_model\"</span>\n",
       "</pre>\n"
      ],
      "text/plain": [
       "\u001b[1mModel: \"rnn_model\"\u001b[0m\n"
      ]
     },
     "metadata": {},
     "output_type": "display_data"
    },
    {
     "data": {
      "text/html": [
       "<pre style=\"white-space:pre;overflow-x:auto;line-height:normal;font-family:Menlo,'DejaVu Sans Mono',consolas,'Courier New',monospace\">┏━━━━━━━━━━━━━━━━━━━━━━━━━━━━━━━━━┳━━━━━━━━━━━━━━━━━━━━━━━━┳━━━━━━━━━━━━━━━┓\n",
       "┃<span style=\"font-weight: bold\"> Layer (type)                    </span>┃<span style=\"font-weight: bold\"> Output Shape           </span>┃<span style=\"font-weight: bold\">       Param # </span>┃\n",
       "┡━━━━━━━━━━━━━━━━━━━━━━━━━━━━━━━━━╇━━━━━━━━━━━━━━━━━━━━━━━━╇━━━━━━━━━━━━━━━┩\n",
       "│ conv3d_net_0 (<span style=\"color: #0087ff; text-decoration-color: #0087ff\">Sequential</span>)       │ (<span style=\"color: #00d7ff; text-decoration-color: #00d7ff\">None</span>, <span style=\"color: #00d7ff; text-decoration-color: #00d7ff\">None</span>, <span style=\"color: #00af00; text-decoration-color: #00af00\">8</span>, <span style=\"color: #00af00; text-decoration-color: #00af00\">8</span>, <span style=\"color: #00af00; text-decoration-color: #00af00\">8</span>)  │         <span style=\"color: #00af00; text-decoration-color: #00af00\">1,832</span> │\n",
       "├─────────────────────────────────┼────────────────────────┼───────────────┤\n",
       "│ conv3d_net_1 (<span style=\"color: #0087ff; text-decoration-color: #0087ff\">Sequential</span>)       │ (<span style=\"color: #00d7ff; text-decoration-color: #00d7ff\">None</span>, <span style=\"color: #00d7ff; text-decoration-color: #00d7ff\">None</span>, <span style=\"color: #00af00; text-decoration-color: #00af00\">8</span>, <span style=\"color: #00af00; text-decoration-color: #00af00\">8</span>, <span style=\"color: #00af00; text-decoration-color: #00af00\">16</span>) │         <span style=\"color: #00af00; text-decoration-color: #00af00\">5,824</span> │\n",
       "├─────────────────────────────────┼────────────────────────┼───────────────┤\n",
       "│ conv3d_net_2 (<span style=\"color: #0087ff; text-decoration-color: #0087ff\">Sequential</span>)       │ (<span style=\"color: #00d7ff; text-decoration-color: #00d7ff\">None</span>, <span style=\"color: #00d7ff; text-decoration-color: #00d7ff\">None</span>, <span style=\"color: #00af00; text-decoration-color: #00af00\">8</span>, <span style=\"color: #00af00; text-decoration-color: #00af00\">8</span>, <span style=\"color: #00af00; text-decoration-color: #00af00\">32</span>) │        <span style=\"color: #00af00; text-decoration-color: #00af00\">23,168</span> │\n",
       "├─────────────────────────────────┼────────────────────────┼───────────────┤\n",
       "│ global_max_pooling3d            │ (<span style=\"color: #00d7ff; text-decoration-color: #00d7ff\">None</span>, <span style=\"color: #00af00; text-decoration-color: #00af00\">32</span>)             │             <span style=\"color: #00af00; text-decoration-color: #00af00\">0</span> │\n",
       "│ (<span style=\"color: #0087ff; text-decoration-color: #0087ff\">GlobalMaxPooling3D</span>)            │                        │               │\n",
       "├─────────────────────────────────┼────────────────────────┼───────────────┤\n",
       "│ masking (<span style=\"color: #0087ff; text-decoration-color: #0087ff\">Masking</span>)               │ (<span style=\"color: #00d7ff; text-decoration-color: #00d7ff\">None</span>, <span style=\"color: #00d7ff; text-decoration-color: #00d7ff\">None</span>, <span style=\"color: #00af00; text-decoration-color: #00af00\">19</span>)       │             <span style=\"color: #00af00; text-decoration-color: #00af00\">0</span> │\n",
       "├─────────────────────────────────┼────────────────────────┼───────────────┤\n",
       "│ gru (<span style=\"color: #0087ff; text-decoration-color: #0087ff\">GRU</span>)                       │ (<span style=\"color: #00d7ff; text-decoration-color: #00d7ff\">None</span>, <span style=\"color: #00af00; text-decoration-color: #00af00\">128</span>)            │        <span style=\"color: #00af00; text-decoration-color: #00af00\">57,216</span> │\n",
       "├─────────────────────────────────┼────────────────────────┼───────────────┤\n",
       "│ dense (<span style=\"color: #0087ff; text-decoration-color: #0087ff\">Dense</span>)                   │ (<span style=\"color: #00d7ff; text-decoration-color: #00d7ff\">None</span>, <span style=\"color: #00af00; text-decoration-color: #00af00\">256</span>)            │        <span style=\"color: #00af00; text-decoration-color: #00af00\">45,568</span> │\n",
       "├─────────────────────────────────┼────────────────────────┼───────────────┤\n",
       "│ dense_1 (<span style=\"color: #0087ff; text-decoration-color: #0087ff\">Dense</span>)                 │ (<span style=\"color: #00d7ff; text-decoration-color: #00d7ff\">None</span>, <span style=\"color: #00af00; text-decoration-color: #00af00\">1</span>)              │           <span style=\"color: #00af00; text-decoration-color: #00af00\">257</span> │\n",
       "├─────────────────────────────────┼────────────────────────┼───────────────┤\n",
       "│ dense_2 (<span style=\"color: #0087ff; text-decoration-color: #0087ff\">Dense</span>)                 │ (<span style=\"color: #00d7ff; text-decoration-color: #00d7ff\">None</span>, <span style=\"color: #00af00; text-decoration-color: #00af00\">18</span>)             │         <span style=\"color: #00af00; text-decoration-color: #00af00\">4,626</span> │\n",
       "└─────────────────────────────────┴────────────────────────┴───────────────┘\n",
       "</pre>\n"
      ],
      "text/plain": [
       "┏━━━━━━━━━━━━━━━━━━━━━━━━━━━━━━━━━┳━━━━━━━━━━━━━━━━━━━━━━━━┳━━━━━━━━━━━━━━━┓\n",
       "┃\u001b[1m \u001b[0m\u001b[1mLayer (type)                   \u001b[0m\u001b[1m \u001b[0m┃\u001b[1m \u001b[0m\u001b[1mOutput Shape          \u001b[0m\u001b[1m \u001b[0m┃\u001b[1m \u001b[0m\u001b[1m      Param #\u001b[0m\u001b[1m \u001b[0m┃\n",
       "┡━━━━━━━━━━━━━━━━━━━━━━━━━━━━━━━━━╇━━━━━━━━━━━━━━━━━━━━━━━━╇━━━━━━━━━━━━━━━┩\n",
       "│ conv3d_net_0 (\u001b[38;5;33mSequential\u001b[0m)       │ (\u001b[38;5;45mNone\u001b[0m, \u001b[38;5;45mNone\u001b[0m, \u001b[38;5;34m8\u001b[0m, \u001b[38;5;34m8\u001b[0m, \u001b[38;5;34m8\u001b[0m)  │         \u001b[38;5;34m1,832\u001b[0m │\n",
       "├─────────────────────────────────┼────────────────────────┼───────────────┤\n",
       "│ conv3d_net_1 (\u001b[38;5;33mSequential\u001b[0m)       │ (\u001b[38;5;45mNone\u001b[0m, \u001b[38;5;45mNone\u001b[0m, \u001b[38;5;34m8\u001b[0m, \u001b[38;5;34m8\u001b[0m, \u001b[38;5;34m16\u001b[0m) │         \u001b[38;5;34m5,824\u001b[0m │\n",
       "├─────────────────────────────────┼────────────────────────┼───────────────┤\n",
       "│ conv3d_net_2 (\u001b[38;5;33mSequential\u001b[0m)       │ (\u001b[38;5;45mNone\u001b[0m, \u001b[38;5;45mNone\u001b[0m, \u001b[38;5;34m8\u001b[0m, \u001b[38;5;34m8\u001b[0m, \u001b[38;5;34m32\u001b[0m) │        \u001b[38;5;34m23,168\u001b[0m │\n",
       "├─────────────────────────────────┼────────────────────────┼───────────────┤\n",
       "│ global_max_pooling3d            │ (\u001b[38;5;45mNone\u001b[0m, \u001b[38;5;34m32\u001b[0m)             │             \u001b[38;5;34m0\u001b[0m │\n",
       "│ (\u001b[38;5;33mGlobalMaxPooling3D\u001b[0m)            │                        │               │\n",
       "├─────────────────────────────────┼────────────────────────┼───────────────┤\n",
       "│ masking (\u001b[38;5;33mMasking\u001b[0m)               │ (\u001b[38;5;45mNone\u001b[0m, \u001b[38;5;45mNone\u001b[0m, \u001b[38;5;34m19\u001b[0m)       │             \u001b[38;5;34m0\u001b[0m │\n",
       "├─────────────────────────────────┼────────────────────────┼───────────────┤\n",
       "│ gru (\u001b[38;5;33mGRU\u001b[0m)                       │ (\u001b[38;5;45mNone\u001b[0m, \u001b[38;5;34m128\u001b[0m)            │        \u001b[38;5;34m57,216\u001b[0m │\n",
       "├─────────────────────────────────┼────────────────────────┼───────────────┤\n",
       "│ dense (\u001b[38;5;33mDense\u001b[0m)                   │ (\u001b[38;5;45mNone\u001b[0m, \u001b[38;5;34m256\u001b[0m)            │        \u001b[38;5;34m45,568\u001b[0m │\n",
       "├─────────────────────────────────┼────────────────────────┼───────────────┤\n",
       "│ dense_1 (\u001b[38;5;33mDense\u001b[0m)                 │ (\u001b[38;5;45mNone\u001b[0m, \u001b[38;5;34m1\u001b[0m)              │           \u001b[38;5;34m257\u001b[0m │\n",
       "├─────────────────────────────────┼────────────────────────┼───────────────┤\n",
       "│ dense_2 (\u001b[38;5;33mDense\u001b[0m)                 │ (\u001b[38;5;45mNone\u001b[0m, \u001b[38;5;34m18\u001b[0m)             │         \u001b[38;5;34m4,626\u001b[0m │\n",
       "└─────────────────────────────────┴────────────────────────┴───────────────┘\n"
      ]
     },
     "metadata": {},
     "output_type": "display_data"
    },
    {
     "data": {
      "text/html": [
       "<pre style=\"white-space:pre;overflow-x:auto;line-height:normal;font-family:Menlo,'DejaVu Sans Mono',consolas,'Courier New',monospace\"><span style=\"font-weight: bold\"> Total params: </span><span style=\"color: #00af00; text-decoration-color: #00af00\">138,491</span> (540.98 KB)\n",
       "</pre>\n"
      ],
      "text/plain": [
       "\u001b[1m Total params: \u001b[0m\u001b[38;5;34m138,491\u001b[0m (540.98 KB)\n"
      ]
     },
     "metadata": {},
     "output_type": "display_data"
    },
    {
     "data": {
      "text/html": [
       "<pre style=\"white-space:pre;overflow-x:auto;line-height:normal;font-family:Menlo,'DejaVu Sans Mono',consolas,'Courier New',monospace\"><span style=\"font-weight: bold\"> Trainable params: </span><span style=\"color: #00af00; text-decoration-color: #00af00\">138,379</span> (540.54 KB)\n",
       "</pre>\n"
      ],
      "text/plain": [
       "\u001b[1m Trainable params: \u001b[0m\u001b[38;5;34m138,379\u001b[0m (540.54 KB)\n"
      ]
     },
     "metadata": {},
     "output_type": "display_data"
    },
    {
     "data": {
      "text/html": [
       "<pre style=\"white-space:pre;overflow-x:auto;line-height:normal;font-family:Menlo,'DejaVu Sans Mono',consolas,'Courier New',monospace\"><span style=\"font-weight: bold\"> Non-trainable params: </span><span style=\"color: #00af00; text-decoration-color: #00af00\">112</span> (448.00 B)\n",
       "</pre>\n"
      ],
      "text/plain": [
       "\u001b[1m Non-trainable params: \u001b[0m\u001b[38;5;34m112\u001b[0m (448.00 B)\n"
      ]
     },
     "metadata": {},
     "output_type": "display_data"
    }
   ],
   "source": [
    "from tensorflow.keras.losses import BinaryCrossentropy, CategoricalCrossentropy, CategoricalFocalCrossentropy\n",
    "from tensorflow.keras.optimizers import Adam\n",
    "from tensorflow.keras.metrics import BinaryAccuracy, F1Score, AUC\n",
    "\n",
    "model = RNNModel(kernel_size3d=(5, 3, 3), kernel_size1d=5, filters_3d=[8, 16, 32], dropout=0.2,\n",
    "                 filters_1d=[], num_rnn_layers=1, rnn_hidden_size=128, mode=\"GRU\", \n",
    "                 bidirectional=False, hidden_size=256, regularizer=\"l1l2\", \n",
    "                 l1_penalty=1e-6, l2_penalty=1e-6, binary=False)\n",
    "model.build(input_shapes=((None, None, 8, 8, 5), (None, None, 19), (None, 17)))\n",
    "# model.set_multi()\n",
    "model.compile(loss=CategoricalFocalCrossentropy(alpha=gesture_sample_weight, \n",
    "                                                gamma=2,\n",
    "                                                label_smoothing=0.2),\n",
    "              optimizer=Adam(learning_rate=5e-3),\n",
    "              metrics=[\"accuracy\"])\n",
    "model.summary()\n",
    "# model.freeze_conv_timeseries()"
   ]
  },
  {
   "cell_type": "code",
   "execution_count": 13,
   "id": "5ce9401b",
   "metadata": {
    "execution": {
     "iopub.execute_input": "2025-08-12T08:00:11.148527Z",
     "iopub.status.busy": "2025-08-12T08:00:11.148308Z",
     "iopub.status.idle": "2025-08-12T08:54:09.155901Z",
     "shell.execute_reply": "2025-08-12T08:54:09.155062Z"
    },
    "papermill": {
     "duration": 3238.974963,
     "end_time": "2025-08-12T08:54:10.118737",
     "exception": false,
     "start_time": "2025-08-12T08:00:11.143774",
     "status": "completed"
    },
    "tags": []
   },
   "outputs": [
    {
     "name": "stdout",
     "output_type": "stream",
     "text": [
      "Epoch 1/50\n"
     ]
    },
    {
     "name": "stderr",
     "output_type": "stream",
     "text": [
      "I0000 00:00:1754985619.848908      59 cuda_dnn.cc:529] Loaded cuDNN version 90300\n"
     ]
    },
    {
     "name": "stdout",
     "output_type": "stream",
     "text": [
      "    459/Unknown \u001b[1m64s\u001b[0m 114ms/step - accuracy: 0.2170 - loss: 6.1115\n",
      "Epoch 1: val_accuracy improved from -inf to 0.29822, saving model to /kaggle/working/cmi_best_model.weights.h5\n",
      "\u001b[1m459/459\u001b[0m \u001b[32m━━━━━━━━━━━━━━━━━━━━\u001b[0m\u001b[37m\u001b[0m \u001b[1m78s\u001b[0m 144ms/step - accuracy: 0.2171 - loss: 6.1102 - val_accuracy: 0.2982 - val_loss: 5.2582\n",
      "Epoch 2/50\n",
      "\u001b[1m459/459\u001b[0m \u001b[32m━━━━━━━━━━━━━━━━━━━━\u001b[0m\u001b[37m\u001b[0m \u001b[1m0s\u001b[0m 113ms/step - accuracy: 0.3435 - loss: 4.9196\n",
      "Epoch 2: val_accuracy improved from 0.29822 to 0.32390, saving model to /kaggle/working/cmi_best_model.weights.h5\n",
      "\u001b[1m459/459\u001b[0m \u001b[32m━━━━━━━━━━━━━━━━━━━━\u001b[0m\u001b[37m\u001b[0m \u001b[1m64s\u001b[0m 139ms/step - accuracy: 0.3435 - loss: 4.9194 - val_accuracy: 0.3239 - val_loss: 5.0372\n",
      "Epoch 3/50\n",
      "\u001b[1m459/459\u001b[0m \u001b[32m━━━━━━━━━━━━━━━━━━━━\u001b[0m\u001b[37m\u001b[0m \u001b[1m0s\u001b[0m 112ms/step - accuracy: 0.3742 - loss: 4.7316\n",
      "Epoch 3: val_accuracy improved from 0.32390 to 0.34496, saving model to /kaggle/working/cmi_best_model.weights.h5\n",
      "\u001b[1m459/459\u001b[0m \u001b[32m━━━━━━━━━━━━━━━━━━━━\u001b[0m\u001b[37m\u001b[0m \u001b[1m63s\u001b[0m 138ms/step - accuracy: 0.3742 - loss: 4.7316 - val_accuracy: 0.3450 - val_loss: 5.0403\n",
      "Epoch 4/50\n",
      "\u001b[1m459/459\u001b[0m \u001b[32m━━━━━━━━━━━━━━━━━━━━\u001b[0m\u001b[37m\u001b[0m \u001b[1m0s\u001b[0m 112ms/step - accuracy: 0.3949 - loss: 4.6552\n",
      "Epoch 4: val_accuracy improved from 0.34496 to 0.36932, saving model to /kaggle/working/cmi_best_model.weights.h5\n",
      "\u001b[1m459/459\u001b[0m \u001b[32m━━━━━━━━━━━━━━━━━━━━\u001b[0m\u001b[37m\u001b[0m \u001b[1m63s\u001b[0m 138ms/step - accuracy: 0.3949 - loss: 4.6551 - val_accuracy: 0.3693 - val_loss: 5.0340\n",
      "Epoch 5/50\n",
      "\u001b[1m459/459\u001b[0m \u001b[32m━━━━━━━━━━━━━━━━━━━━\u001b[0m\u001b[37m\u001b[0m \u001b[1m0s\u001b[0m 113ms/step - accuracy: 0.4178 - loss: 4.4769\n",
      "Epoch 5: val_accuracy improved from 0.36932 to 0.39895, saving model to /kaggle/working/cmi_best_model.weights.h5\n",
      "\u001b[1m459/459\u001b[0m \u001b[32m━━━━━━━━━━━━━━━━━━━━\u001b[0m\u001b[37m\u001b[0m \u001b[1m64s\u001b[0m 139ms/step - accuracy: 0.4178 - loss: 4.4769 - val_accuracy: 0.3989 - val_loss: 4.8787\n",
      "Epoch 6/50\n",
      "\u001b[1m459/459\u001b[0m \u001b[32m━━━━━━━━━━━━━━━━━━━━\u001b[0m\u001b[37m\u001b[0m \u001b[1m0s\u001b[0m 113ms/step - accuracy: 0.4281 - loss: 4.4278\n",
      "Epoch 6: val_accuracy improved from 0.39895 to 0.40224, saving model to /kaggle/working/cmi_best_model.weights.h5\n",
      "\u001b[1m459/459\u001b[0m \u001b[32m━━━━━━━━━━━━━━━━━━━━\u001b[0m\u001b[37m\u001b[0m \u001b[1m64s\u001b[0m 139ms/step - accuracy: 0.4281 - loss: 4.4277 - val_accuracy: 0.4022 - val_loss: 4.8399\n",
      "Epoch 7/50\n",
      "\u001b[1m459/459\u001b[0m \u001b[32m━━━━━━━━━━━━━━━━━━━━\u001b[0m\u001b[37m\u001b[0m \u001b[1m0s\u001b[0m 112ms/step - accuracy: 0.4357 - loss: 4.4028\n",
      "Epoch 7: val_accuracy did not improve from 0.40224\n",
      "\u001b[1m459/459\u001b[0m \u001b[32m━━━━━━━━━━━━━━━━━━━━\u001b[0m\u001b[37m\u001b[0m \u001b[1m63s\u001b[0m 138ms/step - accuracy: 0.4357 - loss: 4.4027 - val_accuracy: 0.3996 - val_loss: 4.7438\n",
      "Epoch 8/50\n",
      "\u001b[1m459/459\u001b[0m \u001b[32m━━━━━━━━━━━━━━━━━━━━\u001b[0m\u001b[37m\u001b[0m \u001b[1m0s\u001b[0m 112ms/step - accuracy: 0.4353 - loss: 4.4041\n",
      "Epoch 8: val_accuracy improved from 0.40224 to 0.41014, saving model to /kaggle/working/cmi_best_model.weights.h5\n",
      "\u001b[1m459/459\u001b[0m \u001b[32m━━━━━━━━━━━━━━━━━━━━\u001b[0m\u001b[37m\u001b[0m \u001b[1m63s\u001b[0m 138ms/step - accuracy: 0.4353 - loss: 4.4040 - val_accuracy: 0.4101 - val_loss: 4.8044\n",
      "Epoch 9/50\n",
      "\u001b[1m459/459\u001b[0m \u001b[32m━━━━━━━━━━━━━━━━━━━━\u001b[0m\u001b[37m\u001b[0m \u001b[1m0s\u001b[0m 112ms/step - accuracy: 0.4537 - loss: 4.2687\n",
      "Epoch 9: val_accuracy did not improve from 0.41014\n",
      "\u001b[1m459/459\u001b[0m \u001b[32m━━━━━━━━━━━━━━━━━━━━\u001b[0m\u001b[37m\u001b[0m \u001b[1m64s\u001b[0m 138ms/step - accuracy: 0.4537 - loss: 4.2687 - val_accuracy: 0.3766 - val_loss: 4.8443\n",
      "Epoch 10/50\n",
      "\u001b[1m459/459\u001b[0m \u001b[32m━━━━━━━━━━━━━━━━━━━━\u001b[0m\u001b[37m\u001b[0m \u001b[1m0s\u001b[0m 113ms/step - accuracy: 0.4522 - loss: 4.3073\n",
      "Epoch 10: val_accuracy did not improve from 0.41014\n",
      "\u001b[1m459/459\u001b[0m \u001b[32m━━━━━━━━━━━━━━━━━━━━\u001b[0m\u001b[37m\u001b[0m \u001b[1m64s\u001b[0m 140ms/step - accuracy: 0.4522 - loss: 4.3072 - val_accuracy: 0.3910 - val_loss: 4.7145\n",
      "Epoch 11/50\n",
      "\u001b[1m459/459\u001b[0m \u001b[32m━━━━━━━━━━━━━━━━━━━━\u001b[0m\u001b[37m\u001b[0m \u001b[1m0s\u001b[0m 112ms/step - accuracy: 0.4489 - loss: 4.2610\n",
      "Epoch 11: val_accuracy did not improve from 0.41014\n",
      "\u001b[1m459/459\u001b[0m \u001b[32m━━━━━━━━━━━━━━━━━━━━\u001b[0m\u001b[37m\u001b[0m \u001b[1m64s\u001b[0m 139ms/step - accuracy: 0.4489 - loss: 4.2610 - val_accuracy: 0.3983 - val_loss: 4.7545\n",
      "Epoch 12/50\n",
      "\u001b[1m459/459\u001b[0m \u001b[32m━━━━━━━━━━━━━━━━━━━━\u001b[0m\u001b[37m\u001b[0m \u001b[1m0s\u001b[0m 113ms/step - accuracy: 0.4583 - loss: 4.1890\n",
      "Epoch 12: val_accuracy did not improve from 0.41014\n",
      "\u001b[1m459/459\u001b[0m \u001b[32m━━━━━━━━━━━━━━━━━━━━\u001b[0m\u001b[37m\u001b[0m \u001b[1m64s\u001b[0m 139ms/step - accuracy: 0.4583 - loss: 4.1889 - val_accuracy: 0.3871 - val_loss: 4.7365\n",
      "Epoch 13/50\n",
      "\u001b[1m459/459\u001b[0m \u001b[32m━━━━━━━━━━━━━━━━━━━━\u001b[0m\u001b[37m\u001b[0m \u001b[1m0s\u001b[0m 113ms/step - accuracy: 0.4553 - loss: 4.1403\n",
      "Epoch 13: val_accuracy did not improve from 0.41014\n",
      "\u001b[1m459/459\u001b[0m \u001b[32m━━━━━━━━━━━━━━━━━━━━\u001b[0m\u001b[37m\u001b[0m \u001b[1m64s\u001b[0m 139ms/step - accuracy: 0.4554 - loss: 4.1402 - val_accuracy: 0.3891 - val_loss: 4.6293\n",
      "Epoch 14/50\n",
      "\u001b[1m459/459\u001b[0m \u001b[32m━━━━━━━━━━━━━━━━━━━━\u001b[0m\u001b[37m\u001b[0m \u001b[1m0s\u001b[0m 113ms/step - accuracy: 0.4865 - loss: 4.0388\n",
      "Epoch 14: val_accuracy did not improve from 0.41014\n",
      "\u001b[1m459/459\u001b[0m \u001b[32m━━━━━━━━━━━━━━━━━━━━\u001b[0m\u001b[37m\u001b[0m \u001b[1m64s\u001b[0m 140ms/step - accuracy: 0.4865 - loss: 4.0387 - val_accuracy: 0.3963 - val_loss: 4.7483\n",
      "Epoch 15/50\n",
      "\u001b[1m459/459\u001b[0m \u001b[32m━━━━━━━━━━━━━━━━━━━━\u001b[0m\u001b[37m\u001b[0m \u001b[1m0s\u001b[0m 113ms/step - accuracy: 0.4759 - loss: 4.0279\n",
      "Epoch 15: val_accuracy did not improve from 0.41014\n",
      "\u001b[1m459/459\u001b[0m \u001b[32m━━━━━━━━━━━━━━━━━━━━\u001b[0m\u001b[37m\u001b[0m \u001b[1m64s\u001b[0m 139ms/step - accuracy: 0.4759 - loss: 4.0278 - val_accuracy: 0.3970 - val_loss: 4.6890\n",
      "Epoch 16/50\n",
      "\u001b[1m459/459\u001b[0m \u001b[32m━━━━━━━━━━━━━━━━━━━━\u001b[0m\u001b[37m\u001b[0m \u001b[1m0s\u001b[0m 113ms/step - accuracy: 0.4996 - loss: 3.9365\n",
      "Epoch 16: val_accuracy did not improve from 0.41014\n",
      "\u001b[1m459/459\u001b[0m \u001b[32m━━━━━━━━━━━━━━━━━━━━\u001b[0m\u001b[37m\u001b[0m \u001b[1m64s\u001b[0m 139ms/step - accuracy: 0.4996 - loss: 3.9365 - val_accuracy: 0.3943 - val_loss: 4.6867\n",
      "Epoch 17/50\n",
      "\u001b[1m459/459\u001b[0m \u001b[32m━━━━━━━━━━━━━━━━━━━━\u001b[0m\u001b[37m\u001b[0m \u001b[1m0s\u001b[0m 114ms/step - accuracy: 0.4933 - loss: 3.9520\n",
      "Epoch 17: val_accuracy did not improve from 0.41014\n",
      "\u001b[1m459/459\u001b[0m \u001b[32m━━━━━━━━━━━━━━━━━━━━\u001b[0m\u001b[37m\u001b[0m \u001b[1m64s\u001b[0m 139ms/step - accuracy: 0.4933 - loss: 3.9519 - val_accuracy: 0.3957 - val_loss: 4.7808\n",
      "Epoch 18/50\n",
      "\u001b[1m459/459\u001b[0m \u001b[32m━━━━━━━━━━━━━━━━━━━━\u001b[0m\u001b[37m\u001b[0m \u001b[1m0s\u001b[0m 113ms/step - accuracy: 0.5126 - loss: 3.8436\n",
      "Epoch 18: val_accuracy improved from 0.41014 to 0.41475, saving model to /kaggle/working/cmi_best_model.weights.h5\n",
      "\u001b[1m459/459\u001b[0m \u001b[32m━━━━━━━━━━━━━━━━━━━━\u001b[0m\u001b[37m\u001b[0m \u001b[1m64s\u001b[0m 139ms/step - accuracy: 0.5126 - loss: 3.8436 - val_accuracy: 0.4147 - val_loss: 4.6408\n",
      "Epoch 19/50\n",
      "\u001b[1m459/459\u001b[0m \u001b[32m━━━━━━━━━━━━━━━━━━━━\u001b[0m\u001b[37m\u001b[0m \u001b[1m0s\u001b[0m 113ms/step - accuracy: 0.5246 - loss: 3.8081\n",
      "Epoch 19: val_accuracy did not improve from 0.41475\n",
      "\u001b[1m459/459\u001b[0m \u001b[32m━━━━━━━━━━━━━━━━━━━━\u001b[0m\u001b[37m\u001b[0m \u001b[1m64s\u001b[0m 140ms/step - accuracy: 0.5246 - loss: 3.8082 - val_accuracy: 0.3943 - val_loss: 4.7997\n",
      "Epoch 20/50\n",
      "\u001b[1m459/459\u001b[0m \u001b[32m━━━━━━━━━━━━━━━━━━━━\u001b[0m\u001b[37m\u001b[0m \u001b[1m0s\u001b[0m 113ms/step - accuracy: 0.5000 - loss: 3.9342\n",
      "Epoch 20: val_accuracy did not improve from 0.41475\n",
      "\u001b[1m459/459\u001b[0m \u001b[32m━━━━━━━━━━━━━━━━━━━━\u001b[0m\u001b[37m\u001b[0m \u001b[1m64s\u001b[0m 139ms/step - accuracy: 0.5000 - loss: 3.9342 - val_accuracy: 0.4082 - val_loss: 4.7421\n",
      "Epoch 21/50\n",
      "\u001b[1m459/459\u001b[0m \u001b[32m━━━━━━━━━━━━━━━━━━━━\u001b[0m\u001b[37m\u001b[0m \u001b[1m0s\u001b[0m 113ms/step - accuracy: 0.4990 - loss: 3.9087\n",
      "Epoch 21: val_accuracy did not improve from 0.41475\n",
      "\u001b[1m459/459\u001b[0m \u001b[32m━━━━━━━━━━━━━━━━━━━━\u001b[0m\u001b[37m\u001b[0m \u001b[1m64s\u001b[0m 139ms/step - accuracy: 0.4990 - loss: 3.9086 - val_accuracy: 0.3759 - val_loss: 4.9128\n",
      "Epoch 22/50\n",
      "\u001b[1m459/459\u001b[0m \u001b[32m━━━━━━━━━━━━━━━━━━━━\u001b[0m\u001b[37m\u001b[0m \u001b[1m0s\u001b[0m 114ms/step - accuracy: 0.4968 - loss: 3.9258\n",
      "Epoch 22: val_accuracy did not improve from 0.41475\n",
      "\u001b[1m459/459\u001b[0m \u001b[32m━━━━━━━━━━━━━━━━━━━━\u001b[0m\u001b[37m\u001b[0m \u001b[1m64s\u001b[0m 139ms/step - accuracy: 0.4968 - loss: 3.9257 - val_accuracy: 0.4101 - val_loss: 4.8147\n",
      "Epoch 23/50\n",
      "\u001b[1m459/459\u001b[0m \u001b[32m━━━━━━━━━━━━━━━━━━━━\u001b[0m\u001b[37m\u001b[0m \u001b[1m0s\u001b[0m 114ms/step - accuracy: 0.4994 - loss: 3.8967\n",
      "Epoch 23: val_accuracy did not improve from 0.41475\n",
      "\u001b[1m459/459\u001b[0m \u001b[32m━━━━━━━━━━━━━━━━━━━━\u001b[0m\u001b[37m\u001b[0m \u001b[1m64s\u001b[0m 140ms/step - accuracy: 0.4994 - loss: 3.8966 - val_accuracy: 0.3970 - val_loss: 4.7979\n",
      "Epoch 24/50\n",
      "\u001b[1m459/459\u001b[0m \u001b[32m━━━━━━━━━━━━━━━━━━━━\u001b[0m\u001b[37m\u001b[0m \u001b[1m0s\u001b[0m 114ms/step - accuracy: 0.5132 - loss: 3.8352\n",
      "Epoch 24: val_accuracy did not improve from 0.41475\n",
      "\u001b[1m459/459\u001b[0m \u001b[32m━━━━━━━━━━━━━━━━━━━━\u001b[0m\u001b[37m\u001b[0m \u001b[1m64s\u001b[0m 139ms/step - accuracy: 0.5132 - loss: 3.8352 - val_accuracy: 0.4115 - val_loss: 4.7669\n",
      "Epoch 25/50\n",
      "\u001b[1m459/459\u001b[0m \u001b[32m━━━━━━━━━━━━━━━━━━━━\u001b[0m\u001b[37m\u001b[0m \u001b[1m0s\u001b[0m 113ms/step - accuracy: 0.5183 - loss: 3.7734\n",
      "Epoch 25: val_accuracy did not improve from 0.41475\n",
      "\u001b[1m459/459\u001b[0m \u001b[32m━━━━━━━━━━━━━━━━━━━━\u001b[0m\u001b[37m\u001b[0m \u001b[1m64s\u001b[0m 139ms/step - accuracy: 0.5183 - loss: 3.7733 - val_accuracy: 0.4055 - val_loss: 4.7555\n",
      "Epoch 26/50\n",
      "\u001b[1m459/459\u001b[0m \u001b[32m━━━━━━━━━━━━━━━━━━━━\u001b[0m\u001b[37m\u001b[0m \u001b[1m0s\u001b[0m 113ms/step - accuracy: 0.5165 - loss: 3.8028\n",
      "Epoch 26: val_accuracy did not improve from 0.41475\n",
      "\u001b[1m459/459\u001b[0m \u001b[32m━━━━━━━━━━━━━━━━━━━━\u001b[0m\u001b[37m\u001b[0m \u001b[1m64s\u001b[0m 139ms/step - accuracy: 0.5165 - loss: 3.8027 - val_accuracy: 0.3963 - val_loss: 4.7992\n",
      "Epoch 27/50\n",
      "\u001b[1m459/459\u001b[0m \u001b[32m━━━━━━━━━━━━━━━━━━━━\u001b[0m\u001b[37m\u001b[0m \u001b[1m0s\u001b[0m 113ms/step - accuracy: 0.5311 - loss: 3.7550\n",
      "Epoch 27: val_accuracy improved from 0.41475 to 0.42001, saving model to /kaggle/working/cmi_best_model.weights.h5\n",
      "\u001b[1m459/459\u001b[0m \u001b[32m━━━━━━━━━━━━━━━━━━━━\u001b[0m\u001b[37m\u001b[0m \u001b[1m64s\u001b[0m 139ms/step - accuracy: 0.5310 - loss: 3.7550 - val_accuracy: 0.4200 - val_loss: 4.7062\n",
      "Epoch 28/50\n",
      "\u001b[1m459/459\u001b[0m \u001b[32m━━━━━━━━━━━━━━━━━━━━\u001b[0m\u001b[37m\u001b[0m \u001b[1m0s\u001b[0m 113ms/step - accuracy: 0.5322 - loss: 3.7448\n",
      "Epoch 28: val_accuracy did not improve from 0.42001\n",
      "\u001b[1m459/459\u001b[0m \u001b[32m━━━━━━━━━━━━━━━━━━━━\u001b[0m\u001b[37m\u001b[0m \u001b[1m64s\u001b[0m 139ms/step - accuracy: 0.5322 - loss: 3.7447 - val_accuracy: 0.4154 - val_loss: 4.7409\n",
      "Epoch 29/50\n",
      "\u001b[1m459/459\u001b[0m \u001b[32m━━━━━━━━━━━━━━━━━━━━\u001b[0m\u001b[37m\u001b[0m \u001b[1m0s\u001b[0m 114ms/step - accuracy: 0.5375 - loss: 3.6894\n",
      "Epoch 29: val_accuracy improved from 0.42001 to 0.43515, saving model to /kaggle/working/cmi_best_model.weights.h5\n",
      "\u001b[1m459/459\u001b[0m \u001b[32m━━━━━━━━━━━━━━━━━━━━\u001b[0m\u001b[37m\u001b[0m \u001b[1m64s\u001b[0m 140ms/step - accuracy: 0.5376 - loss: 3.6893 - val_accuracy: 0.4352 - val_loss: 4.6226\n",
      "Epoch 30/50\n",
      "\u001b[1m459/459\u001b[0m \u001b[32m━━━━━━━━━━━━━━━━━━━━\u001b[0m\u001b[37m\u001b[0m \u001b[1m0s\u001b[0m 114ms/step - accuracy: 0.5484 - loss: 3.6425\n",
      "Epoch 30: val_accuracy did not improve from 0.43515\n",
      "\u001b[1m459/459\u001b[0m \u001b[32m━━━━━━━━━━━━━━━━━━━━\u001b[0m\u001b[37m\u001b[0m \u001b[1m64s\u001b[0m 140ms/step - accuracy: 0.5484 - loss: 3.6424 - val_accuracy: 0.4220 - val_loss: 4.7156\n",
      "Epoch 31/50\n",
      "\u001b[1m459/459\u001b[0m \u001b[32m━━━━━━━━━━━━━━━━━━━━\u001b[0m\u001b[37m\u001b[0m \u001b[1m0s\u001b[0m 114ms/step - accuracy: 0.5540 - loss: 3.6199\n",
      "Epoch 31: val_accuracy did not improve from 0.43515\n",
      "\u001b[1m459/459\u001b[0m \u001b[32m━━━━━━━━━━━━━━━━━━━━\u001b[0m\u001b[37m\u001b[0m \u001b[1m64s\u001b[0m 140ms/step - accuracy: 0.5540 - loss: 3.6199 - val_accuracy: 0.4213 - val_loss: 4.6838\n",
      "Epoch 32/50\n",
      "\u001b[1m459/459\u001b[0m \u001b[32m━━━━━━━━━━━━━━━━━━━━\u001b[0m\u001b[37m\u001b[0m \u001b[1m0s\u001b[0m 114ms/step - accuracy: 0.5492 - loss: 3.6215\n",
      "Epoch 32: val_accuracy improved from 0.43515 to 0.43581, saving model to /kaggle/working/cmi_best_model.weights.h5\n",
      "\u001b[1m459/459\u001b[0m \u001b[32m━━━━━━━━━━━━━━━━━━━━\u001b[0m\u001b[37m\u001b[0m \u001b[1m65s\u001b[0m 141ms/step - accuracy: 0.5492 - loss: 3.6214 - val_accuracy: 0.4358 - val_loss: 4.5594\n",
      "Epoch 33/50\n",
      "\u001b[1m459/459\u001b[0m \u001b[32m━━━━━━━━━━━━━━━━━━━━\u001b[0m\u001b[37m\u001b[0m \u001b[1m0s\u001b[0m 114ms/step - accuracy: 0.5658 - loss: 3.5497\n",
      "Epoch 33: val_accuracy did not improve from 0.43581\n",
      "\u001b[1m459/459\u001b[0m \u001b[32m━━━━━━━━━━━━━━━━━━━━\u001b[0m\u001b[37m\u001b[0m \u001b[1m64s\u001b[0m 140ms/step - accuracy: 0.5658 - loss: 3.5497 - val_accuracy: 0.4352 - val_loss: 4.6952\n",
      "Epoch 34/50\n",
      "\u001b[1m459/459\u001b[0m \u001b[32m━━━━━━━━━━━━━━━━━━━━\u001b[0m\u001b[37m\u001b[0m \u001b[1m0s\u001b[0m 115ms/step - accuracy: 0.5561 - loss: 3.5817\n",
      "Epoch 34: val_accuracy did not improve from 0.43581\n",
      "\u001b[1m459/459\u001b[0m \u001b[32m━━━━━━━━━━━━━━━━━━━━\u001b[0m\u001b[37m\u001b[0m \u001b[1m65s\u001b[0m 141ms/step - accuracy: 0.5561 - loss: 3.5817 - val_accuracy: 0.4240 - val_loss: 4.6799\n",
      "Epoch 35/50\n",
      "\u001b[1m459/459\u001b[0m \u001b[32m━━━━━━━━━━━━━━━━━━━━\u001b[0m\u001b[37m\u001b[0m \u001b[1m0s\u001b[0m 114ms/step - accuracy: 0.5640 - loss: 3.5478\n",
      "Epoch 35: val_accuracy did not improve from 0.43581\n",
      "\u001b[1m459/459\u001b[0m \u001b[32m━━━━━━━━━━━━━━━━━━━━\u001b[0m\u001b[37m\u001b[0m \u001b[1m64s\u001b[0m 140ms/step - accuracy: 0.5640 - loss: 3.5478 - val_accuracy: 0.4134 - val_loss: 4.7900\n",
      "Epoch 36/50\n",
      "\u001b[1m459/459\u001b[0m \u001b[32m━━━━━━━━━━━━━━━━━━━━\u001b[0m\u001b[37m\u001b[0m \u001b[1m0s\u001b[0m 114ms/step - accuracy: 0.5574 - loss: 3.5665\n",
      "Epoch 36: val_accuracy improved from 0.43581 to 0.44898, saving model to /kaggle/working/cmi_best_model.weights.h5\n",
      "\u001b[1m459/459\u001b[0m \u001b[32m━━━━━━━━━━━━━━━━━━━━\u001b[0m\u001b[37m\u001b[0m \u001b[1m64s\u001b[0m 140ms/step - accuracy: 0.5574 - loss: 3.5665 - val_accuracy: 0.4490 - val_loss: 4.6277\n",
      "Epoch 37/50\n",
      "\u001b[1m459/459\u001b[0m \u001b[32m━━━━━━━━━━━━━━━━━━━━\u001b[0m\u001b[37m\u001b[0m \u001b[1m0s\u001b[0m 114ms/step - accuracy: 0.5775 - loss: 3.5024\n",
      "Epoch 37: val_accuracy did not improve from 0.44898\n",
      "\u001b[1m459/459\u001b[0m \u001b[32m━━━━━━━━━━━━━━━━━━━━\u001b[0m\u001b[37m\u001b[0m \u001b[1m65s\u001b[0m 141ms/step - accuracy: 0.5775 - loss: 3.5024 - val_accuracy: 0.4424 - val_loss: 4.5939\n",
      "Epoch 38/50\n",
      "\u001b[1m459/459\u001b[0m \u001b[32m━━━━━━━━━━━━━━━━━━━━\u001b[0m\u001b[37m\u001b[0m \u001b[1m0s\u001b[0m 116ms/step - accuracy: 0.5713 - loss: 3.4997\n",
      "Epoch 38: val_accuracy did not improve from 0.44898\n",
      "\u001b[1m459/459\u001b[0m \u001b[32m━━━━━━━━━━━━━━━━━━━━\u001b[0m\u001b[37m\u001b[0m \u001b[1m65s\u001b[0m 142ms/step - accuracy: 0.5713 - loss: 3.4997 - val_accuracy: 0.4378 - val_loss: 4.7165\n",
      "Epoch 39/50\n",
      "\u001b[1m459/459\u001b[0m \u001b[32m━━━━━━━━━━━━━━━━━━━━\u001b[0m\u001b[37m\u001b[0m \u001b[1m0s\u001b[0m 115ms/step - accuracy: 0.5615 - loss: 3.4980\n",
      "Epoch 39: val_accuracy did not improve from 0.44898\n",
      "\u001b[1m459/459\u001b[0m \u001b[32m━━━━━━━━━━━━━━━━━━━━\u001b[0m\u001b[37m\u001b[0m \u001b[1m65s\u001b[0m 142ms/step - accuracy: 0.5615 - loss: 3.4980 - val_accuracy: 0.4378 - val_loss: 4.6651\n",
      "Epoch 40/50\n",
      "\u001b[1m459/459\u001b[0m \u001b[32m━━━━━━━━━━━━━━━━━━━━\u001b[0m\u001b[37m\u001b[0m \u001b[1m0s\u001b[0m 114ms/step - accuracy: 0.5731 - loss: 3.4960\n",
      "Epoch 40: val_accuracy did not improve from 0.44898\n",
      "\u001b[1m459/459\u001b[0m \u001b[32m━━━━━━━━━━━━━━━━━━━━\u001b[0m\u001b[37m\u001b[0m \u001b[1m64s\u001b[0m 139ms/step - accuracy: 0.5731 - loss: 3.4959 - val_accuracy: 0.4352 - val_loss: 4.6890\n",
      "Epoch 41/50\n",
      "\u001b[1m459/459\u001b[0m \u001b[32m━━━━━━━━━━━━━━━━━━━━\u001b[0m\u001b[37m\u001b[0m \u001b[1m0s\u001b[0m 113ms/step - accuracy: 0.5799 - loss: 3.4814\n",
      "Epoch 41: val_accuracy did not improve from 0.44898\n",
      "\u001b[1m459/459\u001b[0m \u001b[32m━━━━━━━━━━━━━━━━━━━━\u001b[0m\u001b[37m\u001b[0m \u001b[1m64s\u001b[0m 139ms/step - accuracy: 0.5799 - loss: 3.4814 - val_accuracy: 0.4325 - val_loss: 4.6722\n",
      "Epoch 42/50\n",
      "\u001b[1m459/459\u001b[0m \u001b[32m━━━━━━━━━━━━━━━━━━━━\u001b[0m\u001b[37m\u001b[0m \u001b[1m0s\u001b[0m 116ms/step - accuracy: 0.5835 - loss: 3.4757\n",
      "Epoch 42: val_accuracy did not improve from 0.44898\n",
      "\u001b[1m459/459\u001b[0m \u001b[32m━━━━━━━━━━━━━━━━━━━━\u001b[0m\u001b[37m\u001b[0m \u001b[1m66s\u001b[0m 143ms/step - accuracy: 0.5835 - loss: 3.4757 - val_accuracy: 0.4226 - val_loss: 4.7981\n",
      "Epoch 43/50\n",
      "\u001b[1m459/459\u001b[0m \u001b[32m━━━━━━━━━━━━━━━━━━━━\u001b[0m\u001b[37m\u001b[0m \u001b[1m0s\u001b[0m 115ms/step - accuracy: 0.5794 - loss: 3.4508\n",
      "Epoch 43: val_accuracy did not improve from 0.44898\n",
      "\u001b[1m459/459\u001b[0m \u001b[32m━━━━━━━━━━━━━━━━━━━━\u001b[0m\u001b[37m\u001b[0m \u001b[1m65s\u001b[0m 142ms/step - accuracy: 0.5794 - loss: 3.4508 - val_accuracy: 0.4213 - val_loss: 4.7301\n",
      "Epoch 44/50\n",
      "\u001b[1m459/459\u001b[0m \u001b[32m━━━━━━━━━━━━━━━━━━━━\u001b[0m\u001b[37m\u001b[0m \u001b[1m0s\u001b[0m 115ms/step - accuracy: 0.5877 - loss: 3.4287\n",
      "Epoch 44: val_accuracy did not improve from 0.44898\n",
      "\u001b[1m459/459\u001b[0m \u001b[32m━━━━━━━━━━━━━━━━━━━━\u001b[0m\u001b[37m\u001b[0m \u001b[1m65s\u001b[0m 141ms/step - accuracy: 0.5877 - loss: 3.4287 - val_accuracy: 0.4147 - val_loss: 4.8558\n",
      "Epoch 45/50\n",
      "\u001b[1m459/459\u001b[0m \u001b[32m━━━━━━━━━━━━━━━━━━━━\u001b[0m\u001b[37m\u001b[0m \u001b[1m0s\u001b[0m 116ms/step - accuracy: 0.5831 - loss: 3.4338\n",
      "Epoch 45: val_accuracy did not improve from 0.44898\n",
      "\u001b[1m459/459\u001b[0m \u001b[32m━━━━━━━━━━━━━━━━━━━━\u001b[0m\u001b[37m\u001b[0m \u001b[1m65s\u001b[0m 142ms/step - accuracy: 0.5831 - loss: 3.4338 - val_accuracy: 0.4404 - val_loss: 4.6266\n",
      "Epoch 46/50\n",
      "\u001b[1m459/459\u001b[0m \u001b[32m━━━━━━━━━━━━━━━━━━━━\u001b[0m\u001b[37m\u001b[0m \u001b[1m0s\u001b[0m 114ms/step - accuracy: 0.5909 - loss: 3.4149\n",
      "Epoch 46: val_accuracy did not improve from 0.44898\n",
      "\u001b[1m459/459\u001b[0m \u001b[32m━━━━━━━━━━━━━━━━━━━━\u001b[0m\u001b[37m\u001b[0m \u001b[1m64s\u001b[0m 140ms/step - accuracy: 0.5909 - loss: 3.4148 - val_accuracy: 0.4286 - val_loss: 4.7455\n",
      "Epoch 47/50\n",
      "\u001b[1m459/459\u001b[0m \u001b[32m━━━━━━━━━━━━━━━━━━━━\u001b[0m\u001b[37m\u001b[0m \u001b[1m0s\u001b[0m 114ms/step - accuracy: 0.5907 - loss: 3.4227\n",
      "Epoch 47: val_accuracy did not improve from 0.44898\n",
      "\u001b[1m459/459\u001b[0m \u001b[32m━━━━━━━━━━━━━━━━━━━━\u001b[0m\u001b[37m\u001b[0m \u001b[1m64s\u001b[0m 140ms/step - accuracy: 0.5907 - loss: 3.4226 - val_accuracy: 0.4279 - val_loss: 4.8240\n",
      "Epoch 48/50\n",
      "\u001b[1m459/459\u001b[0m \u001b[32m━━━━━━━━━━━━━━━━━━━━\u001b[0m\u001b[37m\u001b[0m \u001b[1m0s\u001b[0m 112ms/step - accuracy: 0.5912 - loss: 3.4228\n",
      "Epoch 48: val_accuracy did not improve from 0.44898\n",
      "\u001b[1m459/459\u001b[0m \u001b[32m━━━━━━━━━━━━━━━━━━━━\u001b[0m\u001b[37m\u001b[0m \u001b[1m64s\u001b[0m 139ms/step - accuracy: 0.5912 - loss: 3.4228 - val_accuracy: 0.4161 - val_loss: 4.7327\n",
      "Epoch 49/50\n",
      "\u001b[1m459/459\u001b[0m \u001b[32m━━━━━━━━━━━━━━━━━━━━\u001b[0m\u001b[37m\u001b[0m \u001b[1m0s\u001b[0m 114ms/step - accuracy: 0.5942 - loss: 3.4130\n",
      "Epoch 49: val_accuracy did not improve from 0.44898\n",
      "\u001b[1m459/459\u001b[0m \u001b[32m━━━━━━━━━━━━━━━━━━━━\u001b[0m\u001b[37m\u001b[0m \u001b[1m64s\u001b[0m 140ms/step - accuracy: 0.5942 - loss: 3.4130 - val_accuracy: 0.4266 - val_loss: 4.7114\n",
      "Epoch 50/50\n",
      "\u001b[1m459/459\u001b[0m \u001b[32m━━━━━━━━━━━━━━━━━━━━\u001b[0m\u001b[37m\u001b[0m \u001b[1m0s\u001b[0m 114ms/step - accuracy: 0.5973 - loss: 3.3714\n",
      "Epoch 50: val_accuracy did not improve from 0.44898\n",
      "\u001b[1m459/459\u001b[0m \u001b[32m━━━━━━━━━━━━━━━━━━━━\u001b[0m\u001b[37m\u001b[0m \u001b[1m82s\u001b[0m 178ms/step - accuracy: 0.5973 - loss: 3.3714 - val_accuracy: 0.4273 - val_loss: 4.6989\n"
     ]
    }
   ],
   "source": [
    "from tensorflow.keras.callbacks import ModelCheckpoint, LearningRateScheduler\n",
    "checkpoint_filepath = \"/kaggle/working/cmi_best_model.weights.h5\"\n",
    "checkpoint_callback = ModelCheckpoint(\n",
    "    filepath=checkpoint_filepath,\n",
    "    monitor=\"val_accuracy\",\n",
    "    save_best_only=True,\n",
    "    save_weights_only=True,\n",
    "    mode=\"max\",\n",
    "    verbose=1\n",
    ")\n",
    "\n",
    "lr_callback = LearningRateScheduler(scheduler, verbose=0)\n",
    "\n",
    "history = model.fit(gesture_train_ds, epochs=50, \n",
    "                    validation_data=gesture_valid_ds,\n",
    "                    callbacks=[checkpoint_callback])\n",
    "model.load_weights(checkpoint_filepath)"
   ]
  },
  {
   "cell_type": "code",
   "execution_count": 14,
   "id": "378ba00c",
   "metadata": {
    "execution": {
     "iopub.execute_input": "2025-08-12T08:54:12.142400Z",
     "iopub.status.busy": "2025-08-12T08:54:12.142119Z",
     "iopub.status.idle": "2025-08-12T08:54:12.151232Z",
     "shell.execute_reply": "2025-08-12T08:54:12.150656Z"
    },
    "papermill": {
     "duration": 1.051497,
     "end_time": "2025-08-12T08:54:12.152353",
     "exception": false,
     "start_time": "2025-08-12T08:54:11.100856",
     "status": "completed"
    },
    "tags": []
   },
   "outputs": [],
   "source": [
    "import json\n",
    "\n",
    "with open('/kaggle/input/cmi-tf-datasets/mapping.json') as f:\n",
    "    mapping_dict = json.load(f)\n",
    "\n",
    "gesture_mapping = mapping_dict[\"gesture_mapping\"]\n",
    "inv_gesture_mapping = {value: key for key, value in gesture_mapping.items()}\n",
    "\n",
    "num2gesture = np.vectorize(lambda x: inv_gesture_mapping[x])"
   ]
  },
  {
   "cell_type": "code",
   "execution_count": 15,
   "id": "5551e65e",
   "metadata": {
    "execution": {
     "iopub.execute_input": "2025-08-12T08:54:14.285189Z",
     "iopub.status.busy": "2025-08-12T08:54:14.284569Z",
     "iopub.status.idle": "2025-08-12T08:54:14.289654Z",
     "shell.execute_reply": "2025-08-12T08:54:14.289116Z"
    },
    "papermill": {
     "duration": 1.090217,
     "end_time": "2025-08-12T08:54:14.291482",
     "exception": false,
     "start_time": "2025-08-12T08:54:13.201265",
     "status": "completed"
    },
    "tags": []
   },
   "outputs": [],
   "source": [
    "non_target_gestures = [\"Drink from bottle/cup\", \"Glasses on/off\", \"Pull air toward your face\",\n",
    "                       \"Pinch knee/leg skin\", \"Scratch knee/leg skin\", \"Write name on leg\",\n",
    "                       \"Text on phone\", \"Feel around in tray and pull out an object\",\n",
    "                       \"Write name in air\", \"Wave hello\"]\n",
    "\n",
    "def map_non_target(y_ind):\n",
    "    y_pred = inv_gesture_mapping[y_ind]\n",
    "    if y_ind == 3:\n",
    "        y_ind = 2\n",
    "    elif y_ind == 4:\n",
    "        y_ind = 3\n",
    "    elif y_ind == 6:\n",
    "        y_ind = 4\n",
    "    elif y_ind == 7:\n",
    "        y_ind = 5\n",
    "    elif y_ind == 9:\n",
    "        y_ind = 6\n",
    "    elif y_ind == 10:\n",
    "        y_ind = 7\n",
    "    if y_pred in non_target_gestures:\n",
    "        y_ind = 8\n",
    "    return y_ind\n",
    "\n",
    "vectorize_map_non_target = np.vectorize(map_non_target)"
   ]
  },
  {
   "cell_type": "code",
   "execution_count": 16,
   "id": "79e21a72",
   "metadata": {
    "execution": {
     "iopub.execute_input": "2025-08-12T08:54:16.369556Z",
     "iopub.status.busy": "2025-08-12T08:54:16.368811Z",
     "iopub.status.idle": "2025-08-12T08:54:33.338655Z",
     "shell.execute_reply": "2025-08-12T08:54:33.337876Z"
    },
    "papermill": {
     "duration": 18.051424,
     "end_time": "2025-08-12T08:54:33.340232",
     "exception": false,
     "start_time": "2025-08-12T08:54:15.288808",
     "status": "completed"
    },
    "tags": []
   },
   "outputs": [],
   "source": [
    "conf_tensor = np.zeros((9, 9), dtype=np.int32)\n",
    "for i, (inputs, labels) in enumerate(gesture_valid_ds):\n",
    "    labels_pred = model.predict(inputs, verbose=0)\n",
    "    labels_pred = tf.argmax(labels_pred, axis=-1).numpy()\n",
    "    labels_pred = vectorize_map_non_target(labels_pred)\n",
    "    labels_true = tf.argmax(labels, axis=-1).numpy()\n",
    "    labels_true = vectorize_map_non_target(labels_true)\n",
    "    conf_tensor += tf.math.confusion_matrix(labels_true, labels_pred, num_classes=9)"
   ]
  },
  {
   "cell_type": "code",
   "execution_count": 17,
   "id": "7f203ab3",
   "metadata": {
    "execution": {
     "iopub.execute_input": "2025-08-12T08:54:35.547342Z",
     "iopub.status.busy": "2025-08-12T08:54:35.547057Z",
     "iopub.status.idle": "2025-08-12T08:54:35.594014Z",
     "shell.execute_reply": "2025-08-12T08:54:35.593145Z"
    },
    "papermill": {
     "duration": 1.179607,
     "end_time": "2025-08-12T08:54:35.595184",
     "exception": false,
     "start_time": "2025-08-12T08:54:34.415577",
     "status": "completed"
    },
    "tags": []
   },
   "outputs": [
    {
     "name": "stdout",
     "output_type": "stream",
     "text": [
      "F1 score mean: 0.467\n"
     ]
    }
   ],
   "source": [
    "precisions = []\n",
    "recalls = []\n",
    "f1s = []\n",
    "\n",
    "for i in range(9):\n",
    "    column = conf_tensor[i, :]\n",
    "    row = conf_tensor[:, i]\n",
    "    precision = column[i] / tf.math.reduce_sum(column)\n",
    "    recall = row[i] / tf.math.reduce_sum(row)\n",
    "    inv_f1 = (1/precision + 1/recall)/2\n",
    "    f1 = 1/inv_f1\n",
    "    precisions.append(precision)\n",
    "    recalls.append(recall)\n",
    "    f1s.append(f1)\n",
    "print(f\"F1 score mean: {np.round(np.mean(f1s), 3)}\")"
   ]
  },
  {
   "cell_type": "code",
   "execution_count": 18,
   "id": "8562f4ee",
   "metadata": {
    "execution": {
     "iopub.execute_input": "2025-08-12T08:54:37.591885Z",
     "iopub.status.busy": "2025-08-12T08:54:37.591579Z",
     "iopub.status.idle": "2025-08-12T08:54:37.594946Z",
     "shell.execute_reply": "2025-08-12T08:54:37.594239Z"
    },
    "papermill": {
     "duration": 0.964748,
     "end_time": "2025-08-12T08:54:37.596139",
     "exception": false,
     "start_time": "2025-08-12T08:54:36.631391",
     "status": "completed"
    },
    "tags": []
   },
   "outputs": [],
   "source": [
    "# import os\n",
    "# save_path = os.path.join(\"/kaggle/working/\", \"cmi_model.weights.h5\")\n",
    "# model.save_weights(save_path)"
   ]
  },
  {
   "cell_type": "code",
   "execution_count": 19,
   "id": "1663a4c9",
   "metadata": {
    "execution": {
     "iopub.execute_input": "2025-08-12T08:54:39.677990Z",
     "iopub.status.busy": "2025-08-12T08:54:39.677707Z",
     "iopub.status.idle": "2025-08-12T08:54:39.832954Z",
     "shell.execute_reply": "2025-08-12T08:54:39.832202Z"
    },
    "papermill": {
     "duration": 1.20508,
     "end_time": "2025-08-12T08:54:39.834056",
     "exception": false,
     "start_time": "2025-08-12T08:54:38.628976",
     "status": "completed"
    },
    "tags": []
   },
   "outputs": [
    {
     "data": {
      "text/html": [
       "<pre style=\"white-space:pre;overflow-x:auto;line-height:normal;font-family:Menlo,'DejaVu Sans Mono',consolas,'Courier New',monospace\"><span style=\"font-weight: bold\">Model: \"rnn_model_1\"</span>\n",
       "</pre>\n"
      ],
      "text/plain": [
       "\u001b[1mModel: \"rnn_model_1\"\u001b[0m\n"
      ]
     },
     "metadata": {},
     "output_type": "display_data"
    },
    {
     "data": {
      "text/html": [
       "<pre style=\"white-space:pre;overflow-x:auto;line-height:normal;font-family:Menlo,'DejaVu Sans Mono',consolas,'Courier New',monospace\">┏━━━━━━━━━━━━━━━━━━━━━━━━━━━━━━━━━┳━━━━━━━━━━━━━━━━━━━━━━━━┳━━━━━━━━━━━━━━━┓\n",
       "┃<span style=\"font-weight: bold\"> Layer (type)                    </span>┃<span style=\"font-weight: bold\"> Output Shape           </span>┃<span style=\"font-weight: bold\">       Param # </span>┃\n",
       "┡━━━━━━━━━━━━━━━━━━━━━━━━━━━━━━━━━╇━━━━━━━━━━━━━━━━━━━━━━━━╇━━━━━━━━━━━━━━━┩\n",
       "│ conv3d_net_0 (<span style=\"color: #0087ff; text-decoration-color: #0087ff\">Sequential</span>)       │ (<span style=\"color: #00d7ff; text-decoration-color: #00d7ff\">None</span>, <span style=\"color: #00d7ff; text-decoration-color: #00d7ff\">None</span>, <span style=\"color: #00af00; text-decoration-color: #00af00\">8</span>, <span style=\"color: #00af00; text-decoration-color: #00af00\">8</span>, <span style=\"color: #00af00; text-decoration-color: #00af00\">8</span>)  │         <span style=\"color: #00af00; text-decoration-color: #00af00\">1,832</span> │\n",
       "├─────────────────────────────────┼────────────────────────┼───────────────┤\n",
       "│ conv3d_net_1 (<span style=\"color: #0087ff; text-decoration-color: #0087ff\">Sequential</span>)       │ (<span style=\"color: #00d7ff; text-decoration-color: #00d7ff\">None</span>, <span style=\"color: #00d7ff; text-decoration-color: #00d7ff\">None</span>, <span style=\"color: #00af00; text-decoration-color: #00af00\">8</span>, <span style=\"color: #00af00; text-decoration-color: #00af00\">8</span>, <span style=\"color: #00af00; text-decoration-color: #00af00\">16</span>) │         <span style=\"color: #00af00; text-decoration-color: #00af00\">5,824</span> │\n",
       "├─────────────────────────────────┼────────────────────────┼───────────────┤\n",
       "│ conv3d_net_2 (<span style=\"color: #0087ff; text-decoration-color: #0087ff\">Sequential</span>)       │ (<span style=\"color: #00d7ff; text-decoration-color: #00d7ff\">None</span>, <span style=\"color: #00d7ff; text-decoration-color: #00d7ff\">None</span>, <span style=\"color: #00af00; text-decoration-color: #00af00\">8</span>, <span style=\"color: #00af00; text-decoration-color: #00af00\">8</span>, <span style=\"color: #00af00; text-decoration-color: #00af00\">32</span>) │        <span style=\"color: #00af00; text-decoration-color: #00af00\">23,168</span> │\n",
       "├─────────────────────────────────┼────────────────────────┼───────────────┤\n",
       "│ global_max_pooling3d_1          │ (<span style=\"color: #00d7ff; text-decoration-color: #00d7ff\">None</span>, <span style=\"color: #00af00; text-decoration-color: #00af00\">32</span>)             │             <span style=\"color: #00af00; text-decoration-color: #00af00\">0</span> │\n",
       "│ (<span style=\"color: #0087ff; text-decoration-color: #0087ff\">GlobalMaxPooling3D</span>)            │                        │               │\n",
       "├─────────────────────────────────┼────────────────────────┼───────────────┤\n",
       "│ masking_1 (<span style=\"color: #0087ff; text-decoration-color: #0087ff\">Masking</span>)             │ (<span style=\"color: #00d7ff; text-decoration-color: #00d7ff\">None</span>, <span style=\"color: #00d7ff; text-decoration-color: #00d7ff\">None</span>, <span style=\"color: #00af00; text-decoration-color: #00af00\">19</span>)       │             <span style=\"color: #00af00; text-decoration-color: #00af00\">0</span> │\n",
       "├─────────────────────────────────┼────────────────────────┼───────────────┤\n",
       "│ gru_1 (<span style=\"color: #0087ff; text-decoration-color: #0087ff\">GRU</span>)                     │ (<span style=\"color: #00d7ff; text-decoration-color: #00d7ff\">None</span>, <span style=\"color: #00af00; text-decoration-color: #00af00\">128</span>)            │        <span style=\"color: #00af00; text-decoration-color: #00af00\">57,216</span> │\n",
       "├─────────────────────────────────┼────────────────────────┼───────────────┤\n",
       "│ dense_3 (<span style=\"color: #0087ff; text-decoration-color: #0087ff\">Dense</span>)                 │ (<span style=\"color: #00d7ff; text-decoration-color: #00d7ff\">None</span>, <span style=\"color: #00af00; text-decoration-color: #00af00\">256</span>)            │        <span style=\"color: #00af00; text-decoration-color: #00af00\">45,568</span> │\n",
       "├─────────────────────────────────┼────────────────────────┼───────────────┤\n",
       "│ dense_4 (<span style=\"color: #0087ff; text-decoration-color: #0087ff\">Dense</span>)                 │ (<span style=\"color: #00d7ff; text-decoration-color: #00d7ff\">None</span>, <span style=\"color: #00af00; text-decoration-color: #00af00\">1</span>)              │           <span style=\"color: #00af00; text-decoration-color: #00af00\">257</span> │\n",
       "├─────────────────────────────────┼────────────────────────┼───────────────┤\n",
       "│ dense_5 (<span style=\"color: #0087ff; text-decoration-color: #0087ff\">Dense</span>)                 │ (<span style=\"color: #00d7ff; text-decoration-color: #00d7ff\">None</span>, <span style=\"color: #00af00; text-decoration-color: #00af00\">18</span>)             │         <span style=\"color: #00af00; text-decoration-color: #00af00\">4,626</span> │\n",
       "└─────────────────────────────────┴────────────────────────┴───────────────┘\n",
       "</pre>\n"
      ],
      "text/plain": [
       "┏━━━━━━━━━━━━━━━━━━━━━━━━━━━━━━━━━┳━━━━━━━━━━━━━━━━━━━━━━━━┳━━━━━━━━━━━━━━━┓\n",
       "┃\u001b[1m \u001b[0m\u001b[1mLayer (type)                   \u001b[0m\u001b[1m \u001b[0m┃\u001b[1m \u001b[0m\u001b[1mOutput Shape          \u001b[0m\u001b[1m \u001b[0m┃\u001b[1m \u001b[0m\u001b[1m      Param #\u001b[0m\u001b[1m \u001b[0m┃\n",
       "┡━━━━━━━━━━━━━━━━━━━━━━━━━━━━━━━━━╇━━━━━━━━━━━━━━━━━━━━━━━━╇━━━━━━━━━━━━━━━┩\n",
       "│ conv3d_net_0 (\u001b[38;5;33mSequential\u001b[0m)       │ (\u001b[38;5;45mNone\u001b[0m, \u001b[38;5;45mNone\u001b[0m, \u001b[38;5;34m8\u001b[0m, \u001b[38;5;34m8\u001b[0m, \u001b[38;5;34m8\u001b[0m)  │         \u001b[38;5;34m1,832\u001b[0m │\n",
       "├─────────────────────────────────┼────────────────────────┼───────────────┤\n",
       "│ conv3d_net_1 (\u001b[38;5;33mSequential\u001b[0m)       │ (\u001b[38;5;45mNone\u001b[0m, \u001b[38;5;45mNone\u001b[0m, \u001b[38;5;34m8\u001b[0m, \u001b[38;5;34m8\u001b[0m, \u001b[38;5;34m16\u001b[0m) │         \u001b[38;5;34m5,824\u001b[0m │\n",
       "├─────────────────────────────────┼────────────────────────┼───────────────┤\n",
       "│ conv3d_net_2 (\u001b[38;5;33mSequential\u001b[0m)       │ (\u001b[38;5;45mNone\u001b[0m, \u001b[38;5;45mNone\u001b[0m, \u001b[38;5;34m8\u001b[0m, \u001b[38;5;34m8\u001b[0m, \u001b[38;5;34m32\u001b[0m) │        \u001b[38;5;34m23,168\u001b[0m │\n",
       "├─────────────────────────────────┼────────────────────────┼───────────────┤\n",
       "│ global_max_pooling3d_1          │ (\u001b[38;5;45mNone\u001b[0m, \u001b[38;5;34m32\u001b[0m)             │             \u001b[38;5;34m0\u001b[0m │\n",
       "│ (\u001b[38;5;33mGlobalMaxPooling3D\u001b[0m)            │                        │               │\n",
       "├─────────────────────────────────┼────────────────────────┼───────────────┤\n",
       "│ masking_1 (\u001b[38;5;33mMasking\u001b[0m)             │ (\u001b[38;5;45mNone\u001b[0m, \u001b[38;5;45mNone\u001b[0m, \u001b[38;5;34m19\u001b[0m)       │             \u001b[38;5;34m0\u001b[0m │\n",
       "├─────────────────────────────────┼────────────────────────┼───────────────┤\n",
       "│ gru_1 (\u001b[38;5;33mGRU\u001b[0m)                     │ (\u001b[38;5;45mNone\u001b[0m, \u001b[38;5;34m128\u001b[0m)            │        \u001b[38;5;34m57,216\u001b[0m │\n",
       "├─────────────────────────────────┼────────────────────────┼───────────────┤\n",
       "│ dense_3 (\u001b[38;5;33mDense\u001b[0m)                 │ (\u001b[38;5;45mNone\u001b[0m, \u001b[38;5;34m256\u001b[0m)            │        \u001b[38;5;34m45,568\u001b[0m │\n",
       "├─────────────────────────────────┼────────────────────────┼───────────────┤\n",
       "│ dense_4 (\u001b[38;5;33mDense\u001b[0m)                 │ (\u001b[38;5;45mNone\u001b[0m, \u001b[38;5;34m1\u001b[0m)              │           \u001b[38;5;34m257\u001b[0m │\n",
       "├─────────────────────────────────┼────────────────────────┼───────────────┤\n",
       "│ dense_5 (\u001b[38;5;33mDense\u001b[0m)                 │ (\u001b[38;5;45mNone\u001b[0m, \u001b[38;5;34m18\u001b[0m)             │         \u001b[38;5;34m4,626\u001b[0m │\n",
       "└─────────────────────────────────┴────────────────────────┴───────────────┘\n"
      ]
     },
     "metadata": {},
     "output_type": "display_data"
    },
    {
     "data": {
      "text/html": [
       "<pre style=\"white-space:pre;overflow-x:auto;line-height:normal;font-family:Menlo,'DejaVu Sans Mono',consolas,'Courier New',monospace\"><span style=\"font-weight: bold\"> Total params: </span><span style=\"color: #00af00; text-decoration-color: #00af00\">138,491</span> (540.98 KB)\n",
       "</pre>\n"
      ],
      "text/plain": [
       "\u001b[1m Total params: \u001b[0m\u001b[38;5;34m138,491\u001b[0m (540.98 KB)\n"
      ]
     },
     "metadata": {},
     "output_type": "display_data"
    },
    {
     "data": {
      "text/html": [
       "<pre style=\"white-space:pre;overflow-x:auto;line-height:normal;font-family:Menlo,'DejaVu Sans Mono',consolas,'Courier New',monospace\"><span style=\"font-weight: bold\"> Trainable params: </span><span style=\"color: #00af00; text-decoration-color: #00af00\">138,379</span> (540.54 KB)\n",
       "</pre>\n"
      ],
      "text/plain": [
       "\u001b[1m Trainable params: \u001b[0m\u001b[38;5;34m138,379\u001b[0m (540.54 KB)\n"
      ]
     },
     "metadata": {},
     "output_type": "display_data"
    },
    {
     "data": {
      "text/html": [
       "<pre style=\"white-space:pre;overflow-x:auto;line-height:normal;font-family:Menlo,'DejaVu Sans Mono',consolas,'Courier New',monospace\"><span style=\"font-weight: bold\"> Non-trainable params: </span><span style=\"color: #00af00; text-decoration-color: #00af00\">112</span> (448.00 B)\n",
       "</pre>\n"
      ],
      "text/plain": [
       "\u001b[1m Non-trainable params: \u001b[0m\u001b[38;5;34m112\u001b[0m (448.00 B)\n"
      ]
     },
     "metadata": {},
     "output_type": "display_data"
    }
   ],
   "source": [
    "new_model = RNNModel(kernel_size3d=(5, 3, 3), kernel_size1d=5, filters_3d=[8, 16, 32], dropout=0.2,\n",
    "                     filters_1d=[], num_rnn_layers=1, rnn_hidden_size=128, mode=\"GRU\", \n",
    "                     bidirectional=False, hidden_size=256, regularizer=\"l1l2\", \n",
    "                     l1_penalty=1e-6, l2_penalty=1e-6, binary=False)\n",
    "new_model.build(input_shapes=((None, None, 8, 8, 5), (None, None, 19), (None, 17)))\n",
    "new_model.load_weights(checkpoint_filepath)\n",
    "new_model.summary()"
   ]
  },
  {
   "cell_type": "code",
   "execution_count": null,
   "id": "6865cfb2",
   "metadata": {
    "papermill": {
     "duration": 1.0259,
     "end_time": "2025-08-12T08:54:41.819215",
     "exception": false,
     "start_time": "2025-08-12T08:54:40.793315",
     "status": "completed"
    },
    "tags": []
   },
   "outputs": [],
   "source": []
  }
 ],
 "metadata": {
  "kaggle": {
   "accelerator": "gpu",
   "dataSources": [
    {
     "databundleVersionId": 12518947,
     "sourceId": 102335,
     "sourceType": "competition"
    },
    {
     "datasetId": 7856290,
     "sourceId": 12739983,
     "sourceType": "datasetVersion"
    },
    {
     "datasetId": 8037036,
     "sourceId": 12740386,
     "sourceType": "datasetVersion"
    }
   ],
   "dockerImageVersionId": 31089,
   "isGpuEnabled": true,
   "isInternetEnabled": false,
   "language": "python",
   "sourceType": "notebook"
  },
  "kernelspec": {
   "display_name": "Python 3",
   "language": "python",
   "name": "python3"
  },
  "language_info": {
   "codemirror_mode": {
    "name": "ipython",
    "version": 3
   },
   "file_extension": ".py",
   "mimetype": "text/x-python",
   "name": "python",
   "nbconvert_exporter": "python",
   "pygments_lexer": "ipython3",
   "version": "3.11.13"
  },
  "papermill": {
   "default_parameters": {},
   "duration": 3298.340601,
   "end_time": "2025-08-12T08:54:46.482778",
   "environment_variables": {},
   "exception": null,
   "input_path": "__notebook__.ipynb",
   "output_path": "__notebook__.ipynb",
   "parameters": {},
   "start_time": "2025-08-12T07:59:48.142177",
   "version": "2.6.0"
  }
 },
 "nbformat": 4,
 "nbformat_minor": 5
}
