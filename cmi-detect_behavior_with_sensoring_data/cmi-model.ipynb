{
 "cells": [
  {
   "cell_type": "code",
   "execution_count": 1,
   "id": "726484ca",
   "metadata": {
    "execution": {
     "iopub.execute_input": "2025-07-23T23:24:31.879333Z",
     "iopub.status.busy": "2025-07-23T23:24:31.879008Z",
     "iopub.status.idle": "2025-07-23T23:24:53.798084Z",
     "shell.execute_reply": "2025-07-23T23:24:53.796790Z"
    },
    "papermill": {
     "duration": 21.928751,
     "end_time": "2025-07-23T23:24:53.801789",
     "exception": false,
     "start_time": "2025-07-23T23:24:31.873038",
     "status": "completed"
    },
    "tags": []
   },
   "outputs": [
    {
     "name": "stderr",
     "output_type": "stream",
     "text": [
      "2025-07-23 23:24:33.818160: E external/local_xla/xla/stream_executor/cuda/cuda_fft.cc:477] Unable to register cuFFT factory: Attempting to register factory for plugin cuFFT when one has already been registered\n",
      "WARNING: All log messages before absl::InitializeLog() is called are written to STDERR\n",
      "E0000 00:00:1753313074.088293      13 cuda_dnn.cc:8310] Unable to register cuDNN factory: Attempting to register factory for plugin cuDNN when one has already been registered\n",
      "E0000 00:00:1753313074.165687      13 cuda_blas.cc:1418] Unable to register cuBLAS factory: Attempting to register factory for plugin cuBLAS when one has already been registered\n",
      "2025-07-23 23:24:53.540330: E external/local_xla/xla/stream_executor/cuda/cuda_driver.cc:152] failed call to cuInit: INTERNAL: CUDA error: Failed call to cuInit: UNKNOWN ERROR (303)\n"
     ]
    }
   ],
   "source": [
    "import tensorflow as tf\n",
    "from tensorflow.keras import Model\n",
    "import numpy as np\n",
    "import pandas as pd\n",
    "import warnings\n",
    "warnings.filterwarnings(\"ignore\")\n",
    "\n",
    "tf.random.set_seed(42)\n",
    "type_train_ds = tf.data.experimental.load(\"/kaggle/input/cmi-tf-datasets/type_train_ds\")\n",
    "type_valid_ds = tf.data.experimental.load(\"/kaggle/input/cmi-tf-datasets/type_valid_ds\")\n",
    "gesture_train_ds = tf.data.experimental.load(\"/kaggle/input/cmi-tf-datasets/gesture_train_ds\")\n",
    "gesture_valid_ds = tf.data.experimental.load(\"/kaggle/input/cmi-tf-datasets/gesture_valid_ds\")\n",
    "test_ds = tf.data.experimental.load(\"/kaggle/input/cmi-tf-datasets/test_ds\")"
   ]
  },
  {
   "cell_type": "code",
   "execution_count": 2,
   "id": "55a48fab",
   "metadata": {
    "execution": {
     "iopub.execute_input": "2025-07-23T23:24:53.821425Z",
     "iopub.status.busy": "2025-07-23T23:24:53.820255Z",
     "iopub.status.idle": "2025-07-23T23:24:53.827095Z",
     "shell.execute_reply": "2025-07-23T23:24:53.825569Z"
    },
    "papermill": {
     "duration": 0.018455,
     "end_time": "2025-07-23T23:24:53.829574",
     "exception": false,
     "start_time": "2025-07-23T23:24:53.811119",
     "status": "completed"
    },
    "tags": []
   },
   "outputs": [],
   "source": [
    "# print(\"Num GPUs Available: \", len(tf.config.list_physical_devices('GPU')))"
   ]
  },
  {
   "cell_type": "code",
   "execution_count": 3,
   "id": "12f7b412",
   "metadata": {
    "execution": {
     "iopub.execute_input": "2025-07-23T23:24:53.843634Z",
     "iopub.status.busy": "2025-07-23T23:24:53.843231Z",
     "iopub.status.idle": "2025-07-23T23:24:53.852763Z",
     "shell.execute_reply": "2025-07-23T23:24:53.851483Z"
    },
    "papermill": {
     "duration": 0.01939,
     "end_time": "2025-07-23T23:24:53.855078",
     "exception": false,
     "start_time": "2025-07-23T23:24:53.835688",
     "status": "completed"
    },
    "tags": []
   },
   "outputs": [
    {
     "name": "stdout",
     "output_type": "stream",
     "text": [
      "380\n",
      "95\n",
      "380\n",
      "95\n",
      "1\n"
     ]
    }
   ],
   "source": [
    "print(len(type_train_ds))\n",
    "print(len(type_valid_ds))\n",
    "print(len(gesture_train_ds))\n",
    "print(len(gesture_valid_ds))\n",
    "\n",
    "print(len(test_ds))"
   ]
  },
  {
   "cell_type": "code",
   "execution_count": 4,
   "id": "3c75c583",
   "metadata": {
    "execution": {
     "iopub.execute_input": "2025-07-23T23:24:53.870062Z",
     "iopub.status.busy": "2025-07-23T23:24:53.869249Z",
     "iopub.status.idle": "2025-07-23T23:24:54.145946Z",
     "shell.execute_reply": "2025-07-23T23:24:54.145048Z"
    },
    "papermill": {
     "duration": 0.286334,
     "end_time": "2025-07-23T23:24:54.147793",
     "exception": false,
     "start_time": "2025-07-23T23:24:53.861459",
     "status": "completed"
    },
    "tags": []
   },
   "outputs": [
    {
     "name": "stdout",
     "output_type": "stream",
     "text": [
      "(16, 100, 8, 8, 5)\n",
      "(16, 1)\n"
     ]
    }
   ],
   "source": [
    "for i, (inputs, targets) in enumerate(type_train_ds):\n",
    "    if i==0:\n",
    "        print(inputs[0].shape)\n",
    "        print(targets.shape)\n",
    "        break"
   ]
  },
  {
   "cell_type": "code",
   "execution_count": 5,
   "id": "3eaf946e",
   "metadata": {
    "execution": {
     "iopub.execute_input": "2025-07-23T23:24:54.158136Z",
     "iopub.status.busy": "2025-07-23T23:24:54.157785Z",
     "iopub.status.idle": "2025-07-23T23:24:54.185988Z",
     "shell.execute_reply": "2025-07-23T23:24:54.185077Z"
    },
    "papermill": {
     "duration": 0.035403,
     "end_time": "2025-07-23T23:24:54.187722",
     "exception": false,
     "start_time": "2025-07-23T23:24:54.152319",
     "status": "completed"
    },
    "tags": []
   },
   "outputs": [],
   "source": [
    "from tensorflow.keras.layers import Conv2D, Conv1D, BatchNormalization, TimeDistributed\n",
    "from tensorflow.keras.layers import MaxPool2D, GlobalMaxPool2D, MaxPool1D, Dropout\n",
    "from tensorflow.keras.layers import SimpleRNN, LSTM, GRU, Bidirectional, Flatten, Dense\n",
    "from tensorflow.keras.layers import ReLU, ELU\n",
    "from tensorflow.keras.regularizers import L1, L2, L1L2\n",
    "from tensorflow.keras import Sequential\n",
    "\n",
    "# from keras.src import tree\n",
    "# from keras.src.trainers.data_adapters import data_adapter_utils\n",
    "# from keras.saving import register_keras_serializable\n",
    "\n",
    "# @register_keras_serializable(\"RNNModel\")\n",
    "class RNNModel(Model):\n",
    "    def __init__(self, kernel_size2d=3, kernel_size1d=3, filters_2d=[16, 32], dropout=0.2, \n",
    "                 filters_1d=[16, 32], rnn_hidden_size=32, mode=\"RNN\", bidirectional=False,\n",
    "                 hidden_size=64, regularizer=\"l1\", l1_penalty=0.1, l2_penalty=0.1, \n",
    "                 binary=True, **kwargs):\n",
    "        super().__init__(**kwargs)\n",
    "        self.hidden_size = hidden_size\n",
    "        \n",
    "        self.conv2d_nets = []\n",
    "        for i in range(len(filters_2d)):\n",
    "            conv2d_net = Sequential([\n",
    "                TimeDistributed(Conv2D(filters_2d[i], kernel_size2d, padding=\"same\")),\n",
    "                TimeDistributed(BatchNormalization()),\n",
    "                TimeDistributed(ReLU()),\n",
    "                TimeDistributed(MaxPool2D(pool_size=3, strides=2, padding=\"same\")),\n",
    "                TimeDistributed(Dropout(dropout))\n",
    "            ], name=f\"conv2d_net_{i}\")\n",
    "            self.conv2d_nets.append(conv2d_net)\n",
    "        self.global_maxpool = TimeDistributed(GlobalMaxPool2D(), name=\"global_maxpool\")\n",
    "\n",
    "        self.conv1d_nets = []\n",
    "        for i in range(len(filters_1d)):\n",
    "            conv1d_net = Sequential([\n",
    "                Conv1D(filters_1d[i], kernel_size1d, padding=\"same\"),\n",
    "                BatchNormalization(),\n",
    "                ELU(),\n",
    "                MaxPool1D(pool_size=3, strides=2, padding=\"same\"),\n",
    "                Dropout(dropout)\n",
    "            ], name=f\"conv1d_net_{i}\")\n",
    "            self.conv1d_nets.append(conv1d_net)\n",
    "\n",
    "        if mode == \"RNN\":\n",
    "            self.rnn = SimpleRNN(rnn_hidden_size)\n",
    "        elif mode == \"LSTM\":\n",
    "            self.rnn = LSTM(rnn_hidden_size)\n",
    "        else:\n",
    "            self.rnn = GRU(rnn_hidden_size)\n",
    "        \n",
    "        if bidirectional:\n",
    "            self.rnn = Bidirectional(self.rnn, name=mode)\n",
    "\n",
    "        self.flatten = Flatten()\n",
    "\n",
    "        if regularizer == \"l1\":\n",
    "            self.dense0 = Dense(hidden_size, activation=\"relu\", \n",
    "                                kernel_regularizer=L1(l1_penalty),\n",
    "                                bias_regularizer=L1(l1_penalty))\n",
    "            self.dense1_0 = Dense(1, activation=\"sigmoid\",\n",
    "                                  kernel_regularizer=L1(l1_penalty),\n",
    "                                  bias_regularizer=L1(l1_penalty))\n",
    "            self.dense1_1 = Dense(18, activation=\"softmax\", \n",
    "                                  kernel_regularizer=L1(l1_penalty),\n",
    "                                  bias_regularizer=L1(l1_penalty))\n",
    "        elif regularizer == \"l2\":\n",
    "            self.dense0 = Dense(hidden_size, activation=\"relu\", \n",
    "                                kernel_regularizer=L2(l2_penalty),\n",
    "                                bias_regularizer=L2(l2_penalty))\n",
    "            self.dense1_0 = Dense(1, activation=\"sigmoid\", \n",
    "                                  kernel_regularizer=L2(l2_penalty),\n",
    "                                  bias_regularizer=L2(l2_penalty))\n",
    "            self.dense1_1 = Dense(18, activation=\"softmax\", \n",
    "                                  kernel_regularizer=L2(l2_penalty),\n",
    "                                  bias_regularizer=L2(l2_penalty))\n",
    "        elif regularizer == \"l1l2\":\n",
    "            self.dense0 = Dense(hidden_size, activation=\"relu\", \n",
    "                                kernel_regularizer=L1L2(l1_penalty, l2_penalty),\n",
    "                                bias_regularizer=L1L2(l1_penalty, l2_penalty))\n",
    "            self.dense1_0 = Dense(1, activation=\"sigmoid\", \n",
    "                                  kernel_regularizer=L1L2(l1_penalty, l2_penalty),\n",
    "                                  bias_regularizer=L1L2(l1_penalty, l2_penalty))\n",
    "            self.dense1_1 = Dense(18, activation=\"softmax\", \n",
    "                                  kernel_regularizer=L1L2(l1_penalty, l2_penalty),\n",
    "                                  bias_regularizer=L1L2(l1_penalty, l2_penalty))\n",
    "        else:\n",
    "            self.dense0 = Dense(hidden_size, activation=\"relu\")\n",
    "            self.dense1_0 = Dense(1, activation=\"sigmoid\")\n",
    "            self.dense1_1 = Dense(18, activation=\"softmax\")\n",
    "\n",
    "        self.binary = binary\n",
    "\n",
    "    def build(self, input_shapes, training=False):\n",
    "        shape = input_shapes[0]\n",
    "        for i in range(len(self.conv2d_nets)):\n",
    "            self.conv2d_nets[i].build(shape)\n",
    "            shape = self.conv2d_nets[i].compute_output_shape(shape)\n",
    "        self.global_maxpool.build(shape)\n",
    "        shape = self.global_maxpool.compute_output_shape(shape)\n",
    "        shape = (shape[0], shape[1], shape[2] + input_shapes[1][2])\n",
    "\n",
    "        for i in range(len(self.conv1d_nets)):\n",
    "            self.conv1d_nets[i].build(shape)\n",
    "            shape = self.conv1d_nets[i].compute_output_shape(shape)\n",
    "\n",
    "        self.rnn.build(shape)\n",
    "        shape = self.rnn.compute_output_shape(shape)\n",
    "\n",
    "        self.flatten.build(shape)\n",
    "        shape = self.flatten.compute_output_shape(shape)\n",
    "\n",
    "        shape = (shape[0], shape[1] + input_shapes[2][1])\n",
    "        self.dense0.build(shape)\n",
    "        shape = self.dense0.compute_output_shape(shape)\n",
    "\n",
    "        self.dense1_0.build(shape)\n",
    "        self.dense1_1.build(shape)\n",
    "        \n",
    "\n",
    "    def call(self, inputs, training=False):\n",
    "        image_out = inputs[0]\n",
    "        for i in range(len(self.conv2d_nets)):\n",
    "            image_out = self.conv2d_nets[i](image_out, training=training)\n",
    "        image_out = self.global_maxpool(image_out)   # (batch, timestep, filters)\n",
    "\n",
    "        out = tf.concat([image_out, inputs[1]], axis=-1)\n",
    "        for i in range(len(self.conv1d_nets)):\n",
    "            out = self.conv1d_nets[i](out, training=training)\n",
    "        \n",
    "        out = self.rnn(out)        # (batch, downsampled_timestep, rnn_hidden_size)\n",
    "        out = self.flatten(out)    # (batch, downsampled_timestep*rnn_hidden_size)\n",
    "        \n",
    "        out = tf.concat([out, inputs[2]], axis=-1)\n",
    "        out = self.dense0(out)\n",
    "        if self.binary:\n",
    "            out = self.dense1_0(out)\n",
    "        else:\n",
    "            out = self.dense1_1(out)\n",
    "        return out\n",
    "\n",
    "    def set_binary(self):\n",
    "        self.binary = True\n",
    "        if self.dense1_0.build == False:\n",
    "            self.dense1_0.build(input_shape=(None, self.hidden_size))\n",
    "\n",
    "    def set_multi(self):\n",
    "        self.binary = False\n",
    "        if self.dense1_1.build == False:\n",
    "            self.dense1_1.build(input_shape=(None, self.hidden_size))\n",
    "\n",
    "    def freeze_conv_timeseries(self):\n",
    "        for i in range(len(self.conv2d_nets)):\n",
    "            self.conv2d_nets[i].trainable = False\n",
    "        for i in range(len(self.conv1d_nets)):\n",
    "            self.conv1d_nets[i].trainable = False\n",
    "        self.rnn.trainable = False"
   ]
  },
  {
   "cell_type": "code",
   "execution_count": 6,
   "id": "1865859f",
   "metadata": {
    "execution": {
     "iopub.execute_input": "2025-07-23T23:24:54.197247Z",
     "iopub.status.busy": "2025-07-23T23:24:54.196965Z",
     "iopub.status.idle": "2025-07-23T23:24:54.279285Z",
     "shell.execute_reply": "2025-07-23T23:24:54.278369Z"
    },
    "papermill": {
     "duration": 0.088887,
     "end_time": "2025-07-23T23:24:54.280877",
     "exception": false,
     "start_time": "2025-07-23T23:24:54.191990",
     "status": "completed"
    },
    "tags": []
   },
   "outputs": [
    {
     "name": "stdout",
     "output_type": "stream",
     "text": [
      "(16, 100, 8, 8, 5)\n",
      "(16, 100, 12)\n",
      "(16, 14)\n"
     ]
    }
   ],
   "source": [
    "for i, (inputs, targets) in enumerate(type_train_ds):\n",
    "    if i == 0:\n",
    "        print(inputs[0].shape)\n",
    "        print(inputs[1].shape)\n",
    "        print(inputs[2].shape)\n",
    "        break"
   ]
  },
  {
   "cell_type": "code",
   "execution_count": 7,
   "id": "f8739eab",
   "metadata": {
    "execution": {
     "iopub.execute_input": "2025-07-23T23:24:54.290329Z",
     "iopub.status.busy": "2025-07-23T23:24:54.290017Z",
     "iopub.status.idle": "2025-07-23T23:24:54.301508Z",
     "shell.execute_reply": "2025-07-23T23:24:54.300435Z"
    },
    "papermill": {
     "duration": 0.018005,
     "end_time": "2025-07-23T23:24:54.303102",
     "exception": false,
     "start_time": "2025-07-23T23:24:54.285097",
     "status": "completed"
    },
    "tags": []
   },
   "outputs": [],
   "source": [
    "import json\n",
    "\n",
    "with open('/kaggle/input/cmi-tf-datasets/sample_weight.json') as f:\n",
    "    sample_weight_dict = json.load(f)\n",
    "\n",
    "type_sample_weight = sample_weight_dict[\"type_sample_weight\"]\n",
    "type_class_weight = {0: type_sample_weight[0], 1: type_sample_weight[1]}\n",
    "\n",
    "gesture_sample_weight = sample_weight_dict[\"gesture_sample_weight\"]\n",
    "gesture_class_weight = {i: gesture_sample_weight[i] for i in range(len(gesture_sample_weight))}"
   ]
  },
  {
   "cell_type": "code",
   "execution_count": 8,
   "id": "6d0b9236",
   "metadata": {
    "execution": {
     "iopub.execute_input": "2025-07-23T23:24:54.312783Z",
     "iopub.status.busy": "2025-07-23T23:24:54.312437Z",
     "iopub.status.idle": "2025-07-23T23:24:54.318229Z",
     "shell.execute_reply": "2025-07-23T23:24:54.317276Z"
    },
    "papermill": {
     "duration": 0.012534,
     "end_time": "2025-07-23T23:24:54.319793",
     "exception": false,
     "start_time": "2025-07-23T23:24:54.307259",
     "status": "completed"
    },
    "tags": []
   },
   "outputs": [],
   "source": [
    "def add_type_sample_weight(x, y):\n",
    "    y_int = tf.cast(y, tf.int32)\n",
    "    weight = tf.gather([type_class_weight[0], type_class_weight[1]], y_int)\n",
    "    return x, y, weight\n",
    "\n",
    "def add_gesture_sample_weight(x, y):\n",
    "    y_arg = tf.argmax(y)\n",
    "    weight = tf.gather(gesture_sample_weight, y_arg)\n",
    "    return x, y, weight"
   ]
  },
  {
   "cell_type": "code",
   "execution_count": 9,
   "id": "7e00a1e6",
   "metadata": {
    "execution": {
     "iopub.execute_input": "2025-07-23T23:24:54.329347Z",
     "iopub.status.busy": "2025-07-23T23:24:54.328960Z",
     "iopub.status.idle": "2025-07-23T23:24:54.451598Z",
     "shell.execute_reply": "2025-07-23T23:24:54.450612Z"
    },
    "papermill": {
     "duration": 0.129326,
     "end_time": "2025-07-23T23:24:54.453326",
     "exception": false,
     "start_time": "2025-07-23T23:24:54.324000",
     "status": "completed"
    },
    "tags": []
   },
   "outputs": [],
   "source": [
    "type_train_ds = type_train_ds.unbatch().map(add_type_sample_weight).batch(16)\n",
    "type_valid_ds = type_valid_ds.unbatch().map(add_type_sample_weight).batch(16)"
   ]
  },
  {
   "cell_type": "code",
   "execution_count": 10,
   "id": "53bc27de",
   "metadata": {
    "execution": {
     "iopub.execute_input": "2025-07-23T23:24:54.463642Z",
     "iopub.status.busy": "2025-07-23T23:24:54.463327Z",
     "iopub.status.idle": "2025-07-23T23:24:54.467388Z",
     "shell.execute_reply": "2025-07-23T23:24:54.466446Z"
    },
    "papermill": {
     "duration": 0.01157,
     "end_time": "2025-07-23T23:24:54.468960",
     "exception": false,
     "start_time": "2025-07-23T23:24:54.457390",
     "status": "completed"
    },
    "tags": []
   },
   "outputs": [],
   "source": [
    "# gesture_train_ds = gesture_train_ds.unbatch().map(add_gesture_sample_weight).batch(16)\n",
    "# gesture_valid_ds = gesture_valid_ds.unbatch().map(add_gesture_sample_weight).batch(16)"
   ]
  },
  {
   "cell_type": "code",
   "execution_count": 11,
   "id": "9a6c2024",
   "metadata": {
    "execution": {
     "iopub.execute_input": "2025-07-23T23:24:54.478696Z",
     "iopub.status.busy": "2025-07-23T23:24:54.478377Z",
     "iopub.status.idle": "2025-07-23T23:24:54.836752Z",
     "shell.execute_reply": "2025-07-23T23:24:54.835648Z"
    },
    "papermill": {
     "duration": 0.365693,
     "end_time": "2025-07-23T23:24:54.838833",
     "exception": false,
     "start_time": "2025-07-23T23:24:54.473140",
     "status": "completed"
    },
    "tags": []
   },
   "outputs": [
    {
     "data": {
      "text/html": [
       "<pre style=\"white-space:pre;overflow-x:auto;line-height:normal;font-family:Menlo,'DejaVu Sans Mono',consolas,'Courier New',monospace\"><span style=\"font-weight: bold\">Model: \"rnn_model\"</span>\n",
       "</pre>\n"
      ],
      "text/plain": [
       "\u001b[1mModel: \"rnn_model\"\u001b[0m\n"
      ]
     },
     "metadata": {},
     "output_type": "display_data"
    },
    {
     "data": {
      "text/html": [
       "<pre style=\"white-space:pre;overflow-x:auto;line-height:normal;font-family:Menlo,'DejaVu Sans Mono',consolas,'Courier New',monospace\">┏━━━━━━━━━━━━━━━━━━━━━━━━━━━━━━━━━┳━━━━━━━━━━━━━━━━━━━━━━━━┳━━━━━━━━━━━━━━━┓\n",
       "┃<span style=\"font-weight: bold\"> Layer (type)                    </span>┃<span style=\"font-weight: bold\"> Output Shape           </span>┃<span style=\"font-weight: bold\">       Param # </span>┃\n",
       "┡━━━━━━━━━━━━━━━━━━━━━━━━━━━━━━━━━╇━━━━━━━━━━━━━━━━━━━━━━━━╇━━━━━━━━━━━━━━━┩\n",
       "│ conv2d_net_0 (<span style=\"color: #0087ff; text-decoration-color: #0087ff\">Sequential</span>)       │ (<span style=\"color: #00d7ff; text-decoration-color: #00d7ff\">None</span>, <span style=\"color: #00af00; text-decoration-color: #00af00\">100</span>, <span style=\"color: #00af00; text-decoration-color: #00af00\">4</span>, <span style=\"color: #00af00; text-decoration-color: #00af00\">4</span>, <span style=\"color: #00af00; text-decoration-color: #00af00\">16</span>)  │           <span style=\"color: #00af00; text-decoration-color: #00af00\">800</span> │\n",
       "├─────────────────────────────────┼────────────────────────┼───────────────┤\n",
       "│ conv2d_net_1 (<span style=\"color: #0087ff; text-decoration-color: #0087ff\">Sequential</span>)       │ (<span style=\"color: #00d7ff; text-decoration-color: #00d7ff\">None</span>, <span style=\"color: #00af00; text-decoration-color: #00af00\">100</span>, <span style=\"color: #00af00; text-decoration-color: #00af00\">2</span>, <span style=\"color: #00af00; text-decoration-color: #00af00\">2</span>, <span style=\"color: #00af00; text-decoration-color: #00af00\">32</span>)  │         <span style=\"color: #00af00; text-decoration-color: #00af00\">4,768</span> │\n",
       "├─────────────────────────────────┼────────────────────────┼───────────────┤\n",
       "│ global_maxpool                  │ (<span style=\"color: #00d7ff; text-decoration-color: #00d7ff\">None</span>, <span style=\"color: #00af00; text-decoration-color: #00af00\">100</span>, <span style=\"color: #00af00; text-decoration-color: #00af00\">32</span>)        │             <span style=\"color: #00af00; text-decoration-color: #00af00\">0</span> │\n",
       "│ (<span style=\"color: #0087ff; text-decoration-color: #0087ff\">TimeDistributed</span>)               │                        │               │\n",
       "├─────────────────────────────────┼────────────────────────┼───────────────┤\n",
       "│ conv1d_net_0 (<span style=\"color: #0087ff; text-decoration-color: #0087ff\">Sequential</span>)       │ (<span style=\"color: #00d7ff; text-decoration-color: #00d7ff\">None</span>, <span style=\"color: #00af00; text-decoration-color: #00af00\">50</span>, <span style=\"color: #00af00; text-decoration-color: #00af00\">64</span>)         │         <span style=\"color: #00af00; text-decoration-color: #00af00\">8,768</span> │\n",
       "├─────────────────────────────────┼────────────────────────┼───────────────┤\n",
       "│ conv1d_net_1 (<span style=\"color: #0087ff; text-decoration-color: #0087ff\">Sequential</span>)       │ (<span style=\"color: #00d7ff; text-decoration-color: #00d7ff\">None</span>, <span style=\"color: #00af00; text-decoration-color: #00af00\">25</span>, <span style=\"color: #00af00; text-decoration-color: #00af00\">128</span>)        │        <span style=\"color: #00af00; text-decoration-color: #00af00\">25,216</span> │\n",
       "├─────────────────────────────────┼────────────────────────┼───────────────┤\n",
       "│ conv1d_net_2 (<span style=\"color: #0087ff; text-decoration-color: #0087ff\">Sequential</span>)       │ (<span style=\"color: #00d7ff; text-decoration-color: #00d7ff\">None</span>, <span style=\"color: #00af00; text-decoration-color: #00af00\">13</span>, <span style=\"color: #00af00; text-decoration-color: #00af00\">256</span>)        │        <span style=\"color: #00af00; text-decoration-color: #00af00\">99,584</span> │\n",
       "├─────────────────────────────────┼────────────────────────┼───────────────┤\n",
       "│ gru (<span style=\"color: #0087ff; text-decoration-color: #0087ff\">GRU</span>)                       │ ?                      │   <span style=\"color: #00af00; text-decoration-color: #00af00\">0</span> (unbuilt) │\n",
       "├─────────────────────────────────┼────────────────────────┼───────────────┤\n",
       "│ GRU (<span style=\"color: #0087ff; text-decoration-color: #0087ff\">Bidirectional</span>)             │ (<span style=\"color: #00d7ff; text-decoration-color: #00d7ff\">None</span>, <span style=\"color: #00af00; text-decoration-color: #00af00\">512</span>)            │       <span style=\"color: #00af00; text-decoration-color: #00af00\">789,504</span> │\n",
       "├─────────────────────────────────┼────────────────────────┼───────────────┤\n",
       "│ flatten (<span style=\"color: #0087ff; text-decoration-color: #0087ff\">Flatten</span>)               │ (<span style=\"color: #00d7ff; text-decoration-color: #00d7ff\">None</span>, <span style=\"color: #00af00; text-decoration-color: #00af00\">512</span>)            │             <span style=\"color: #00af00; text-decoration-color: #00af00\">0</span> │\n",
       "├─────────────────────────────────┼────────────────────────┼───────────────┤\n",
       "│ dense (<span style=\"color: #0087ff; text-decoration-color: #0087ff\">Dense</span>)                   │ (<span style=\"color: #00d7ff; text-decoration-color: #00d7ff\">None</span>, <span style=\"color: #00af00; text-decoration-color: #00af00\">512</span>)            │       <span style=\"color: #00af00; text-decoration-color: #00af00\">269,824</span> │\n",
       "├─────────────────────────────────┼────────────────────────┼───────────────┤\n",
       "│ dense_1 (<span style=\"color: #0087ff; text-decoration-color: #0087ff\">Dense</span>)                 │ (<span style=\"color: #00d7ff; text-decoration-color: #00d7ff\">None</span>, <span style=\"color: #00af00; text-decoration-color: #00af00\">1</span>)              │           <span style=\"color: #00af00; text-decoration-color: #00af00\">513</span> │\n",
       "├─────────────────────────────────┼────────────────────────┼───────────────┤\n",
       "│ dense_2 (<span style=\"color: #0087ff; text-decoration-color: #0087ff\">Dense</span>)                 │ (<span style=\"color: #00d7ff; text-decoration-color: #00d7ff\">None</span>, <span style=\"color: #00af00; text-decoration-color: #00af00\">18</span>)             │         <span style=\"color: #00af00; text-decoration-color: #00af00\">9,234</span> │\n",
       "└─────────────────────────────────┴────────────────────────┴───────────────┘\n",
       "</pre>\n"
      ],
      "text/plain": [
       "┏━━━━━━━━━━━━━━━━━━━━━━━━━━━━━━━━━┳━━━━━━━━━━━━━━━━━━━━━━━━┳━━━━━━━━━━━━━━━┓\n",
       "┃\u001b[1m \u001b[0m\u001b[1mLayer (type)                   \u001b[0m\u001b[1m \u001b[0m┃\u001b[1m \u001b[0m\u001b[1mOutput Shape          \u001b[0m\u001b[1m \u001b[0m┃\u001b[1m \u001b[0m\u001b[1m      Param #\u001b[0m\u001b[1m \u001b[0m┃\n",
       "┡━━━━━━━━━━━━━━━━━━━━━━━━━━━━━━━━━╇━━━━━━━━━━━━━━━━━━━━━━━━╇━━━━━━━━━━━━━━━┩\n",
       "│ conv2d_net_0 (\u001b[38;5;33mSequential\u001b[0m)       │ (\u001b[38;5;45mNone\u001b[0m, \u001b[38;5;34m100\u001b[0m, \u001b[38;5;34m4\u001b[0m, \u001b[38;5;34m4\u001b[0m, \u001b[38;5;34m16\u001b[0m)  │           \u001b[38;5;34m800\u001b[0m │\n",
       "├─────────────────────────────────┼────────────────────────┼───────────────┤\n",
       "│ conv2d_net_1 (\u001b[38;5;33mSequential\u001b[0m)       │ (\u001b[38;5;45mNone\u001b[0m, \u001b[38;5;34m100\u001b[0m, \u001b[38;5;34m2\u001b[0m, \u001b[38;5;34m2\u001b[0m, \u001b[38;5;34m32\u001b[0m)  │         \u001b[38;5;34m4,768\u001b[0m │\n",
       "├─────────────────────────────────┼────────────────────────┼───────────────┤\n",
       "│ global_maxpool                  │ (\u001b[38;5;45mNone\u001b[0m, \u001b[38;5;34m100\u001b[0m, \u001b[38;5;34m32\u001b[0m)        │             \u001b[38;5;34m0\u001b[0m │\n",
       "│ (\u001b[38;5;33mTimeDistributed\u001b[0m)               │                        │               │\n",
       "├─────────────────────────────────┼────────────────────────┼───────────────┤\n",
       "│ conv1d_net_0 (\u001b[38;5;33mSequential\u001b[0m)       │ (\u001b[38;5;45mNone\u001b[0m, \u001b[38;5;34m50\u001b[0m, \u001b[38;5;34m64\u001b[0m)         │         \u001b[38;5;34m8,768\u001b[0m │\n",
       "├─────────────────────────────────┼────────────────────────┼───────────────┤\n",
       "│ conv1d_net_1 (\u001b[38;5;33mSequential\u001b[0m)       │ (\u001b[38;5;45mNone\u001b[0m, \u001b[38;5;34m25\u001b[0m, \u001b[38;5;34m128\u001b[0m)        │        \u001b[38;5;34m25,216\u001b[0m │\n",
       "├─────────────────────────────────┼────────────────────────┼───────────────┤\n",
       "│ conv1d_net_2 (\u001b[38;5;33mSequential\u001b[0m)       │ (\u001b[38;5;45mNone\u001b[0m, \u001b[38;5;34m13\u001b[0m, \u001b[38;5;34m256\u001b[0m)        │        \u001b[38;5;34m99,584\u001b[0m │\n",
       "├─────────────────────────────────┼────────────────────────┼───────────────┤\n",
       "│ gru (\u001b[38;5;33mGRU\u001b[0m)                       │ ?                      │   \u001b[38;5;34m0\u001b[0m (unbuilt) │\n",
       "├─────────────────────────────────┼────────────────────────┼───────────────┤\n",
       "│ GRU (\u001b[38;5;33mBidirectional\u001b[0m)             │ (\u001b[38;5;45mNone\u001b[0m, \u001b[38;5;34m512\u001b[0m)            │       \u001b[38;5;34m789,504\u001b[0m │\n",
       "├─────────────────────────────────┼────────────────────────┼───────────────┤\n",
       "│ flatten (\u001b[38;5;33mFlatten\u001b[0m)               │ (\u001b[38;5;45mNone\u001b[0m, \u001b[38;5;34m512\u001b[0m)            │             \u001b[38;5;34m0\u001b[0m │\n",
       "├─────────────────────────────────┼────────────────────────┼───────────────┤\n",
       "│ dense (\u001b[38;5;33mDense\u001b[0m)                   │ (\u001b[38;5;45mNone\u001b[0m, \u001b[38;5;34m512\u001b[0m)            │       \u001b[38;5;34m269,824\u001b[0m │\n",
       "├─────────────────────────────────┼────────────────────────┼───────────────┤\n",
       "│ dense_1 (\u001b[38;5;33mDense\u001b[0m)                 │ (\u001b[38;5;45mNone\u001b[0m, \u001b[38;5;34m1\u001b[0m)              │           \u001b[38;5;34m513\u001b[0m │\n",
       "├─────────────────────────────────┼────────────────────────┼───────────────┤\n",
       "│ dense_2 (\u001b[38;5;33mDense\u001b[0m)                 │ (\u001b[38;5;45mNone\u001b[0m, \u001b[38;5;34m18\u001b[0m)             │         \u001b[38;5;34m9,234\u001b[0m │\n",
       "└─────────────────────────────────┴────────────────────────┴───────────────┘\n"
      ]
     },
     "metadata": {},
     "output_type": "display_data"
    },
    {
     "data": {
      "text/html": [
       "<pre style=\"white-space:pre;overflow-x:auto;line-height:normal;font-family:Menlo,'DejaVu Sans Mono',consolas,'Courier New',monospace\"><span style=\"font-weight: bold\"> Total params: </span><span style=\"color: #00af00; text-decoration-color: #00af00\">1,208,211</span> (4.61 MB)\n",
       "</pre>\n"
      ],
      "text/plain": [
       "\u001b[1m Total params: \u001b[0m\u001b[38;5;34m1,208,211\u001b[0m (4.61 MB)\n"
      ]
     },
     "metadata": {},
     "output_type": "display_data"
    },
    {
     "data": {
      "text/html": [
       "<pre style=\"white-space:pre;overflow-x:auto;line-height:normal;font-family:Menlo,'DejaVu Sans Mono',consolas,'Courier New',monospace\"><span style=\"font-weight: bold\"> Trainable params: </span><span style=\"color: #00af00; text-decoration-color: #00af00\">1,207,219</span> (4.61 MB)\n",
       "</pre>\n"
      ],
      "text/plain": [
       "\u001b[1m Trainable params: \u001b[0m\u001b[38;5;34m1,207,219\u001b[0m (4.61 MB)\n"
      ]
     },
     "metadata": {},
     "output_type": "display_data"
    },
    {
     "data": {
      "text/html": [
       "<pre style=\"white-space:pre;overflow-x:auto;line-height:normal;font-family:Menlo,'DejaVu Sans Mono',consolas,'Courier New',monospace\"><span style=\"font-weight: bold\"> Non-trainable params: </span><span style=\"color: #00af00; text-decoration-color: #00af00\">992</span> (3.88 KB)\n",
       "</pre>\n"
      ],
      "text/plain": [
       "\u001b[1m Non-trainable params: \u001b[0m\u001b[38;5;34m992\u001b[0m (3.88 KB)\n"
      ]
     },
     "metadata": {},
     "output_type": "display_data"
    }
   ],
   "source": [
    "from tensorflow.keras.losses import BinaryCrossentropy, CategoricalCrossentropy, CategoricalFocalCrossentropy\n",
    "from tensorflow.keras.optimizers import Adam\n",
    "from tensorflow.keras.metrics import BinaryAccuracy, F1Score, AUC\n",
    "\n",
    "model = RNNModel(kernel_size2d=3, kernel_size1d=3, filters_2d=[16, 32], dropout=0.2,\n",
    "                 filters_1d=[64, 128, 256], rnn_hidden_size=256, mode=\"GRU\", bidirectional=True,\n",
    "                 hidden_size=512, regularizer=\"l1l2\", l1_penalty=1e-3, l2_penalty=1e-4, binary=False)\n",
    "model.build(input_shapes=((None, 100, 8, 8, 5), (None, 100, 12), (None, 14)))\n",
    "# model.set_multi()\n",
    "model.compile(loss=CategoricalFocalCrossentropy(alpha=gesture_sample_weight, \n",
    "                                                gamma=2,\n",
    "                                                label_smoothing=0.3),\n",
    "              optimizer=Adam(learning_rate=0.0005),\n",
    "              metrics=[\"accuracy\"])\n",
    "model.summary()\n",
    "# model.freeze_conv_timeseries()"
   ]
  },
  {
   "cell_type": "code",
   "execution_count": 12,
   "id": "b7b5b1f9",
   "metadata": {
    "execution": {
     "iopub.execute_input": "2025-07-23T23:24:54.850102Z",
     "iopub.status.busy": "2025-07-23T23:24:54.849742Z",
     "iopub.status.idle": "2025-07-24T07:10:53.552861Z",
     "shell.execute_reply": "2025-07-24T07:10:53.551881Z"
    },
    "papermill": {
     "duration": 27958.711054,
     "end_time": "2025-07-24T07:10:53.555033",
     "exception": false,
     "start_time": "2025-07-23T23:24:54.843979",
     "status": "completed"
    },
    "tags": []
   },
   "outputs": [
    {
     "name": "stdout",
     "output_type": "stream",
     "text": [
      "Epoch 1/100\n",
      "\u001b[1m380/380\u001b[0m \u001b[32m━━━━━━━━━━━━━━━━━━━━\u001b[0m\u001b[37m\u001b[0m \u001b[1m0s\u001b[0m 713ms/step - accuracy: 0.1441 - loss: 15.9873\n",
      "Epoch 1: val_accuracy improved from -inf to 0.19092, saving model to /kaggle/working/cmi_best_model.weights.h5\n",
      "\u001b[1m380/380\u001b[0m \u001b[32m━━━━━━━━━━━━━━━━━━━━\u001b[0m\u001b[37m\u001b[0m \u001b[1m468s\u001b[0m 782ms/step - accuracy: 0.1441 - loss: 15.9830 - val_accuracy: 0.1909 - val_loss: 11.6186\n",
      "Epoch 2/100\n",
      "\u001b[1m380/380\u001b[0m \u001b[32m━━━━━━━━━━━━━━━━━━━━\u001b[0m\u001b[37m\u001b[0m \u001b[1m0s\u001b[0m 717ms/step - accuracy: 0.2467 - loss: 10.4846\n",
      "Epoch 2: val_accuracy improved from 0.19092 to 0.28111, saving model to /kaggle/working/cmi_best_model.weights.h5\n",
      "\u001b[1m380/380\u001b[0m \u001b[32m━━━━━━━━━━━━━━━━━━━━\u001b[0m\u001b[37m\u001b[0m \u001b[1m277s\u001b[0m 729ms/step - accuracy: 0.2468 - loss: 10.4823 - val_accuracy: 0.2811 - val_loss: 8.1675\n",
      "Epoch 3/100\n",
      "\u001b[1m380/380\u001b[0m \u001b[32m━━━━━━━━━━━━━━━━━━━━\u001b[0m\u001b[37m\u001b[0m \u001b[1m0s\u001b[0m 682ms/step - accuracy: 0.3109 - loss: 7.6313\n",
      "Epoch 3: val_accuracy improved from 0.28111 to 0.29164, saving model to /kaggle/working/cmi_best_model.weights.h5\n",
      "\u001b[1m380/380\u001b[0m \u001b[32m━━━━━━━━━━━━━━━━━━━━\u001b[0m\u001b[37m\u001b[0m \u001b[1m264s\u001b[0m 694ms/step - accuracy: 0.3110 - loss: 7.6302 - val_accuracy: 0.2916 - val_loss: 6.7800\n",
      "Epoch 4/100\n",
      "\u001b[1m380/380\u001b[0m \u001b[32m━━━━━━━━━━━━━━━━━━━━\u001b[0m\u001b[37m\u001b[0m \u001b[1m0s\u001b[0m 692ms/step - accuracy: 0.3537 - loss: 6.3586\n",
      "Epoch 4: val_accuracy did not improve from 0.29164\n",
      "\u001b[1m380/380\u001b[0m \u001b[32m━━━━━━━━━━━━━━━━━━━━\u001b[0m\u001b[37m\u001b[0m \u001b[1m267s\u001b[0m 703ms/step - accuracy: 0.3538 - loss: 6.3581 - val_accuracy: 0.2758 - val_loss: 6.5654\n",
      "Epoch 5/100\n",
      "\u001b[1m380/380\u001b[0m \u001b[32m━━━━━━━━━━━━━━━━━━━━\u001b[0m\u001b[37m\u001b[0m \u001b[1m0s\u001b[0m 696ms/step - accuracy: 0.3763 - loss: 5.7949\n",
      "Epoch 5: val_accuracy improved from 0.29164 to 0.32324, saving model to /kaggle/working/cmi_best_model.weights.h5\n",
      "\u001b[1m380/380\u001b[0m \u001b[32m━━━━━━━━━━━━━━━━━━━━\u001b[0m\u001b[37m\u001b[0m \u001b[1m269s\u001b[0m 708ms/step - accuracy: 0.3763 - loss: 5.7946 - val_accuracy: 0.3232 - val_loss: 5.9154\n",
      "Epoch 6/100\n",
      "\u001b[1m380/380\u001b[0m \u001b[32m━━━━━━━━━━━━━━━━━━━━\u001b[0m\u001b[37m\u001b[0m \u001b[1m0s\u001b[0m 684ms/step - accuracy: 0.3999 - loss: 5.5071\n",
      "Epoch 6: val_accuracy did not improve from 0.32324\n",
      "\u001b[1m380/380\u001b[0m \u001b[32m━━━━━━━━━━━━━━━━━━━━\u001b[0m\u001b[37m\u001b[0m \u001b[1m264s\u001b[0m 696ms/step - accuracy: 0.4000 - loss: 5.5070 - val_accuracy: 0.3193 - val_loss: 5.7480\n",
      "Epoch 7/100\n",
      "\u001b[1m380/380\u001b[0m \u001b[32m━━━━━━━━━━━━━━━━━━━━\u001b[0m\u001b[37m\u001b[0m \u001b[1m0s\u001b[0m 685ms/step - accuracy: 0.4189 - loss: 5.3089\n",
      "Epoch 7: val_accuracy improved from 0.32324 to 0.32390, saving model to /kaggle/working/cmi_best_model.weights.h5\n",
      "\u001b[1m380/380\u001b[0m \u001b[32m━━━━━━━━━━━━━━━━━━━━\u001b[0m\u001b[37m\u001b[0m \u001b[1m265s\u001b[0m 696ms/step - accuracy: 0.4189 - loss: 5.3088 - val_accuracy: 0.3239 - val_loss: 5.6276\n",
      "Epoch 8/100\n",
      "\u001b[1m380/380\u001b[0m \u001b[32m━━━━━━━━━━━━━━━━━━━━\u001b[0m\u001b[37m\u001b[0m \u001b[1m0s\u001b[0m 715ms/step - accuracy: 0.4279 - loss: 5.1768\n",
      "Epoch 8: val_accuracy improved from 0.32390 to 0.35155, saving model to /kaggle/working/cmi_best_model.weights.h5\n",
      "\u001b[1m380/380\u001b[0m \u001b[32m━━━━━━━━━━━━━━━━━━━━\u001b[0m\u001b[37m\u001b[0m \u001b[1m276s\u001b[0m 727ms/step - accuracy: 0.4280 - loss: 5.1767 - val_accuracy: 0.3515 - val_loss: 5.4849\n",
      "Epoch 9/100\n",
      "\u001b[1m380/380\u001b[0m \u001b[32m━━━━━━━━━━━━━━━━━━━━\u001b[0m\u001b[37m\u001b[0m \u001b[1m0s\u001b[0m 685ms/step - accuracy: 0.4530 - loss: 5.0715\n",
      "Epoch 9: val_accuracy did not improve from 0.35155\n",
      "\u001b[1m380/380\u001b[0m \u001b[32m━━━━━━━━━━━━━━━━━━━━\u001b[0m\u001b[37m\u001b[0m \u001b[1m310s\u001b[0m 696ms/step - accuracy: 0.4530 - loss: 5.0714 - val_accuracy: 0.3450 - val_loss: 5.4817\n",
      "Epoch 10/100\n",
      "\u001b[1m380/380\u001b[0m \u001b[32m━━━━━━━━━━━━━━━━━━━━\u001b[0m\u001b[37m\u001b[0m \u001b[1m0s\u001b[0m 701ms/step - accuracy: 0.4522 - loss: 4.9772\n",
      "Epoch 10: val_accuracy did not improve from 0.35155\n",
      "\u001b[1m380/380\u001b[0m \u001b[32m━━━━━━━━━━━━━━━━━━━━\u001b[0m\u001b[37m\u001b[0m \u001b[1m270s\u001b[0m 712ms/step - accuracy: 0.4522 - loss: 4.9771 - val_accuracy: 0.3147 - val_loss: 5.6376\n",
      "Epoch 11/100\n",
      "\u001b[1m380/380\u001b[0m \u001b[32m━━━━━━━━━━━━━━━━━━━━\u001b[0m\u001b[37m\u001b[0m \u001b[1m0s\u001b[0m 693ms/step - accuracy: 0.4687 - loss: 4.9098\n",
      "Epoch 11: val_accuracy improved from 0.35155 to 0.35813, saving model to /kaggle/working/cmi_best_model.weights.h5\n",
      "\u001b[1m380/380\u001b[0m \u001b[32m━━━━━━━━━━━━━━━━━━━━\u001b[0m\u001b[37m\u001b[0m \u001b[1m268s\u001b[0m 705ms/step - accuracy: 0.4688 - loss: 4.9097 - val_accuracy: 0.3581 - val_loss: 5.4702\n",
      "Epoch 12/100\n",
      "\u001b[1m380/380\u001b[0m \u001b[32m━━━━━━━━━━━━━━━━━━━━\u001b[0m\u001b[37m\u001b[0m \u001b[1m0s\u001b[0m 712ms/step - accuracy: 0.4891 - loss: 4.8288\n",
      "Epoch 12: val_accuracy did not improve from 0.35813\n",
      "\u001b[1m380/380\u001b[0m \u001b[32m━━━━━━━━━━━━━━━━━━━━\u001b[0m\u001b[37m\u001b[0m \u001b[1m275s\u001b[0m 723ms/step - accuracy: 0.4891 - loss: 4.8286 - val_accuracy: 0.2982 - val_loss: 5.8055\n",
      "Epoch 13/100\n",
      "\u001b[1m380/380\u001b[0m \u001b[32m━━━━━━━━━━━━━━━━━━━━\u001b[0m\u001b[37m\u001b[0m \u001b[1m0s\u001b[0m 689ms/step - accuracy: 0.5006 - loss: 4.7525\n",
      "Epoch 13: val_accuracy improved from 0.35813 to 0.36669, saving model to /kaggle/working/cmi_best_model.weights.h5\n",
      "\u001b[1m380/380\u001b[0m \u001b[32m━━━━━━━━━━━━━━━━━━━━\u001b[0m\u001b[37m\u001b[0m \u001b[1m266s\u001b[0m 701ms/step - accuracy: 0.5007 - loss: 4.7524 - val_accuracy: 0.3667 - val_loss: 5.3934\n",
      "Epoch 14/100\n",
      "\u001b[1m380/380\u001b[0m \u001b[32m━━━━━━━━━━━━━━━━━━━━\u001b[0m\u001b[37m\u001b[0m \u001b[1m0s\u001b[0m 691ms/step - accuracy: 0.5107 - loss: 4.6822\n",
      "Epoch 14: val_accuracy did not improve from 0.36669\n",
      "\u001b[1m380/380\u001b[0m \u001b[32m━━━━━━━━━━━━━━━━━━━━\u001b[0m\u001b[37m\u001b[0m \u001b[1m267s\u001b[0m 702ms/step - accuracy: 0.5107 - loss: 4.6821 - val_accuracy: 0.3147 - val_loss: 5.7023\n",
      "Epoch 15/100\n",
      "\u001b[1m380/380\u001b[0m \u001b[32m━━━━━━━━━━━━━━━━━━━━\u001b[0m\u001b[37m\u001b[0m \u001b[1m0s\u001b[0m 689ms/step - accuracy: 0.5266 - loss: 4.6067\n",
      "Epoch 15: val_accuracy did not improve from 0.36669\n",
      "\u001b[1m380/380\u001b[0m \u001b[32m━━━━━━━━━━━━━━━━━━━━\u001b[0m\u001b[37m\u001b[0m \u001b[1m266s\u001b[0m 700ms/step - accuracy: 0.5267 - loss: 4.6066 - val_accuracy: 0.3028 - val_loss: 5.7438\n",
      "Epoch 16/100\n",
      "\u001b[1m380/380\u001b[0m \u001b[32m━━━━━━━━━━━━━━━━━━━━\u001b[0m\u001b[37m\u001b[0m \u001b[1m0s\u001b[0m 685ms/step - accuracy: 0.5412 - loss: 4.5418\n",
      "Epoch 16: val_accuracy did not improve from 0.36669\n",
      "\u001b[1m380/380\u001b[0m \u001b[32m━━━━━━━━━━━━━━━━━━━━\u001b[0m\u001b[37m\u001b[0m \u001b[1m264s\u001b[0m 696ms/step - accuracy: 0.5412 - loss: 4.5417 - val_accuracy: 0.3120 - val_loss: 5.8543\n",
      "Epoch 17/100\n",
      "\u001b[1m380/380\u001b[0m \u001b[32m━━━━━━━━━━━━━━━━━━━━\u001b[0m\u001b[37m\u001b[0m \u001b[1m0s\u001b[0m 688ms/step - accuracy: 0.5523 - loss: 4.5129\n",
      "Epoch 17: val_accuracy did not improve from 0.36669\n",
      "\u001b[1m380/380\u001b[0m \u001b[32m━━━━━━━━━━━━━━━━━━━━\u001b[0m\u001b[37m\u001b[0m \u001b[1m266s\u001b[0m 700ms/step - accuracy: 0.5524 - loss: 4.5128 - val_accuracy: 0.3634 - val_loss: 5.5380\n",
      "Epoch 18/100\n",
      "\u001b[1m380/380\u001b[0m \u001b[32m━━━━━━━━━━━━━━━━━━━━\u001b[0m\u001b[37m\u001b[0m \u001b[1m0s\u001b[0m 686ms/step - accuracy: 0.5637 - loss: 4.4234\n",
      "Epoch 18: val_accuracy improved from 0.36669 to 0.38907, saving model to /kaggle/working/cmi_best_model.weights.h5\n",
      "\u001b[1m380/380\u001b[0m \u001b[32m━━━━━━━━━━━━━━━━━━━━\u001b[0m\u001b[37m\u001b[0m \u001b[1m265s\u001b[0m 698ms/step - accuracy: 0.5638 - loss: 4.4233 - val_accuracy: 0.3891 - val_loss: 5.2783\n",
      "Epoch 19/100\n",
      "\u001b[1m380/380\u001b[0m \u001b[32m━━━━━━━━━━━━━━━━━━━━\u001b[0m\u001b[37m\u001b[0m \u001b[1m0s\u001b[0m 683ms/step - accuracy: 0.5910 - loss: 4.3375\n",
      "Epoch 19: val_accuracy did not improve from 0.38907\n",
      "\u001b[1m380/380\u001b[0m \u001b[32m━━━━━━━━━━━━━━━━━━━━\u001b[0m\u001b[37m\u001b[0m \u001b[1m264s\u001b[0m 694ms/step - accuracy: 0.5910 - loss: 4.3374 - val_accuracy: 0.3436 - val_loss: 5.7583\n",
      "Epoch 20/100\n",
      "\u001b[1m380/380\u001b[0m \u001b[32m━━━━━━━━━━━━━━━━━━━━\u001b[0m\u001b[37m\u001b[0m \u001b[1m0s\u001b[0m 689ms/step - accuracy: 0.5984 - loss: 4.2791\n",
      "Epoch 20: val_accuracy did not improve from 0.38907\n",
      "\u001b[1m380/380\u001b[0m \u001b[32m━━━━━━━━━━━━━━━━━━━━\u001b[0m\u001b[37m\u001b[0m \u001b[1m266s\u001b[0m 700ms/step - accuracy: 0.5985 - loss: 4.2790 - val_accuracy: 0.3687 - val_loss: 5.5166\n",
      "Epoch 21/100\n",
      "\u001b[1m380/380\u001b[0m \u001b[32m━━━━━━━━━━━━━━━━━━━━\u001b[0m\u001b[37m\u001b[0m \u001b[1m0s\u001b[0m 694ms/step - accuracy: 0.6047 - loss: 4.2322\n",
      "Epoch 21: val_accuracy did not improve from 0.38907\n",
      "\u001b[1m380/380\u001b[0m \u001b[32m━━━━━━━━━━━━━━━━━━━━\u001b[0m\u001b[37m\u001b[0m \u001b[1m268s\u001b[0m 706ms/step - accuracy: 0.6047 - loss: 4.2321 - val_accuracy: 0.3812 - val_loss: 5.3814\n",
      "Epoch 22/100\n",
      "\u001b[1m380/380\u001b[0m \u001b[32m━━━━━━━━━━━━━━━━━━━━\u001b[0m\u001b[37m\u001b[0m \u001b[1m0s\u001b[0m 691ms/step - accuracy: 0.6249 - loss: 4.1822\n",
      "Epoch 22: val_accuracy did not improve from 0.38907\n",
      "\u001b[1m380/380\u001b[0m \u001b[32m━━━━━━━━━━━━━━━━━━━━\u001b[0m\u001b[37m\u001b[0m \u001b[1m321s\u001b[0m 702ms/step - accuracy: 0.6249 - loss: 4.1821 - val_accuracy: 0.3331 - val_loss: 5.7864\n",
      "Epoch 23/100\n",
      "\u001b[1m380/380\u001b[0m \u001b[32m━━━━━━━━━━━━━━━━━━━━\u001b[0m\u001b[37m\u001b[0m \u001b[1m0s\u001b[0m 700ms/step - accuracy: 0.6313 - loss: 4.1366\n",
      "Epoch 23: val_accuracy did not improve from 0.38907\n",
      "\u001b[1m380/380\u001b[0m \u001b[32m━━━━━━━━━━━━━━━━━━━━\u001b[0m\u001b[37m\u001b[0m \u001b[1m270s\u001b[0m 711ms/step - accuracy: 0.6313 - loss: 4.1365 - val_accuracy: 0.3009 - val_loss: 6.0132\n",
      "Epoch 24/100\n",
      "\u001b[1m380/380\u001b[0m \u001b[32m━━━━━━━━━━━━━━━━━━━━\u001b[0m\u001b[37m\u001b[0m \u001b[1m0s\u001b[0m 696ms/step - accuracy: 0.6501 - loss: 4.0915\n",
      "Epoch 24: val_accuracy did not improve from 0.38907\n",
      "\u001b[1m380/380\u001b[0m \u001b[32m━━━━━━━━━━━━━━━━━━━━\u001b[0m\u001b[37m\u001b[0m \u001b[1m269s\u001b[0m 708ms/step - accuracy: 0.6501 - loss: 4.0914 - val_accuracy: 0.3384 - val_loss: 5.7271\n",
      "Epoch 25/100\n",
      "\u001b[1m380/380\u001b[0m \u001b[32m━━━━━━━━━━━━━━━━━━━━\u001b[0m\u001b[37m\u001b[0m \u001b[1m0s\u001b[0m 699ms/step - accuracy: 0.6809 - loss: 3.9682\n",
      "Epoch 25: val_accuracy did not improve from 0.38907\n",
      "\u001b[1m380/380\u001b[0m \u001b[32m━━━━━━━━━━━━━━━━━━━━\u001b[0m\u001b[37m\u001b[0m \u001b[1m270s\u001b[0m 710ms/step - accuracy: 0.6809 - loss: 3.9681 - val_accuracy: 0.3298 - val_loss: 5.8263\n",
      "Epoch 26/100\n",
      "\u001b[1m380/380\u001b[0m \u001b[32m━━━━━━━━━━━━━━━━━━━━\u001b[0m\u001b[37m\u001b[0m \u001b[1m0s\u001b[0m 701ms/step - accuracy: 0.6755 - loss: 3.9632\n",
      "Epoch 26: val_accuracy did not improve from 0.38907\n",
      "\u001b[1m380/380\u001b[0m \u001b[32m━━━━━━━━━━━━━━━━━━━━\u001b[0m\u001b[37m\u001b[0m \u001b[1m323s\u001b[0m 712ms/step - accuracy: 0.6756 - loss: 3.9632 - val_accuracy: 0.3094 - val_loss: 6.2645\n",
      "Epoch 27/100\n",
      "\u001b[1m380/380\u001b[0m \u001b[32m━━━━━━━━━━━━━━━━━━━━\u001b[0m\u001b[37m\u001b[0m \u001b[1m0s\u001b[0m 689ms/step - accuracy: 0.6904 - loss: 3.9148\n",
      "Epoch 27: val_accuracy did not improve from 0.38907\n",
      "\u001b[1m380/380\u001b[0m \u001b[32m━━━━━━━━━━━━━━━━━━━━\u001b[0m\u001b[37m\u001b[0m \u001b[1m266s\u001b[0m 700ms/step - accuracy: 0.6904 - loss: 3.9147 - val_accuracy: 0.3219 - val_loss: 6.0097\n",
      "Epoch 28/100\n",
      "\u001b[1m380/380\u001b[0m \u001b[32m━━━━━━━━━━━━━━━━━━━━\u001b[0m\u001b[37m\u001b[0m \u001b[1m0s\u001b[0m 693ms/step - accuracy: 0.7055 - loss: 3.8473\n",
      "Epoch 28: val_accuracy did not improve from 0.38907\n",
      "\u001b[1m380/380\u001b[0m \u001b[32m━━━━━━━━━━━━━━━━━━━━\u001b[0m\u001b[37m\u001b[0m \u001b[1m268s\u001b[0m 704ms/step - accuracy: 0.7055 - loss: 3.8473 - val_accuracy: 0.3002 - val_loss: 6.2884\n",
      "Epoch 29/100\n",
      "\u001b[1m380/380\u001b[0m \u001b[32m━━━━━━━━━━━━━━━━━━━━\u001b[0m\u001b[37m\u001b[0m \u001b[1m0s\u001b[0m 695ms/step - accuracy: 0.7183 - loss: 3.8121\n",
      "Epoch 29: val_accuracy did not improve from 0.38907\n",
      "\u001b[1m380/380\u001b[0m \u001b[32m━━━━━━━━━━━━━━━━━━━━\u001b[0m\u001b[37m\u001b[0m \u001b[1m268s\u001b[0m 705ms/step - accuracy: 0.7183 - loss: 3.8120 - val_accuracy: 0.3390 - val_loss: 5.8333\n",
      "Epoch 30/100\n",
      "\u001b[1m380/380\u001b[0m \u001b[32m━━━━━━━━━━━━━━━━━━━━\u001b[0m\u001b[37m\u001b[0m \u001b[1m0s\u001b[0m 694ms/step - accuracy: 0.7204 - loss: 3.7834\n",
      "Epoch 30: val_accuracy did not improve from 0.38907\n",
      "\u001b[1m380/380\u001b[0m \u001b[32m━━━━━━━━━━━━━━━━━━━━\u001b[0m\u001b[37m\u001b[0m \u001b[1m268s\u001b[0m 706ms/step - accuracy: 0.7204 - loss: 3.7833 - val_accuracy: 0.3542 - val_loss: 5.7330\n",
      "Epoch 31/100\n",
      "\u001b[1m380/380\u001b[0m \u001b[32m━━━━━━━━━━━━━━━━━━━━\u001b[0m\u001b[37m\u001b[0m \u001b[1m0s\u001b[0m 692ms/step - accuracy: 0.7297 - loss: 3.7742\n",
      "Epoch 31: val_accuracy did not improve from 0.38907\n",
      "\u001b[1m380/380\u001b[0m \u001b[32m━━━━━━━━━━━━━━━━━━━━\u001b[0m\u001b[37m\u001b[0m \u001b[1m267s\u001b[0m 702ms/step - accuracy: 0.7297 - loss: 3.7741 - val_accuracy: 0.3799 - val_loss: 5.6122\n",
      "Epoch 32/100\n",
      "\u001b[1m380/380\u001b[0m \u001b[32m━━━━━━━━━━━━━━━━━━━━\u001b[0m\u001b[37m\u001b[0m \u001b[1m0s\u001b[0m 703ms/step - accuracy: 0.7386 - loss: 3.6978\n",
      "Epoch 32: val_accuracy did not improve from 0.38907\n",
      "\u001b[1m380/380\u001b[0m \u001b[32m━━━━━━━━━━━━━━━━━━━━\u001b[0m\u001b[37m\u001b[0m \u001b[1m271s\u001b[0m 714ms/step - accuracy: 0.7386 - loss: 3.6978 - val_accuracy: 0.3272 - val_loss: 5.9211\n",
      "Epoch 33/100\n",
      "\u001b[1m380/380\u001b[0m \u001b[32m━━━━━━━━━━━━━━━━━━━━\u001b[0m\u001b[37m\u001b[0m \u001b[1m0s\u001b[0m 694ms/step - accuracy: 0.7541 - loss: 3.6558\n",
      "Epoch 33: val_accuracy did not improve from 0.38907\n",
      "\u001b[1m380/380\u001b[0m \u001b[32m━━━━━━━━━━━━━━━━━━━━\u001b[0m\u001b[37m\u001b[0m \u001b[1m268s\u001b[0m 706ms/step - accuracy: 0.7541 - loss: 3.6558 - val_accuracy: 0.3423 - val_loss: 5.8507\n",
      "Epoch 34/100\n",
      "\u001b[1m380/380\u001b[0m \u001b[32m━━━━━━━━━━━━━━━━━━━━\u001b[0m\u001b[37m\u001b[0m \u001b[1m0s\u001b[0m 703ms/step - accuracy: 0.7631 - loss: 3.6290\n",
      "Epoch 34: val_accuracy improved from 0.38907 to 0.40158, saving model to /kaggle/working/cmi_best_model.weights.h5\n",
      "\u001b[1m380/380\u001b[0m \u001b[32m━━━━━━━━━━━━━━━━━━━━\u001b[0m\u001b[37m\u001b[0m \u001b[1m271s\u001b[0m 714ms/step - accuracy: 0.7631 - loss: 3.6290 - val_accuracy: 0.4016 - val_loss: 5.5225\n",
      "Epoch 35/100\n",
      "\u001b[1m380/380\u001b[0m \u001b[32m━━━━━━━━━━━━━━━━━━━━\u001b[0m\u001b[37m\u001b[0m \u001b[1m0s\u001b[0m 698ms/step - accuracy: 0.7646 - loss: 3.6356\n",
      "Epoch 35: val_accuracy did not improve from 0.40158\n",
      "\u001b[1m380/380\u001b[0m \u001b[32m━━━━━━━━━━━━━━━━━━━━\u001b[0m\u001b[37m\u001b[0m \u001b[1m270s\u001b[0m 709ms/step - accuracy: 0.7646 - loss: 3.6355 - val_accuracy: 0.3627 - val_loss: 5.8735\n",
      "Epoch 36/100\n",
      "\u001b[1m380/380\u001b[0m \u001b[32m━━━━━━━━━━━━━━━━━━━━\u001b[0m\u001b[37m\u001b[0m \u001b[1m0s\u001b[0m 707ms/step - accuracy: 0.7756 - loss: 3.5829\n",
      "Epoch 36: val_accuracy improved from 0.40158 to 0.40224, saving model to /kaggle/working/cmi_best_model.weights.h5\n",
      "\u001b[1m380/380\u001b[0m \u001b[32m━━━━━━━━━━━━━━━━━━━━\u001b[0m\u001b[37m\u001b[0m \u001b[1m273s\u001b[0m 718ms/step - accuracy: 0.7756 - loss: 3.5829 - val_accuracy: 0.4022 - val_loss: 5.6445\n",
      "Epoch 37/100\n",
      "\u001b[1m380/380\u001b[0m \u001b[32m━━━━━━━━━━━━━━━━━━━━\u001b[0m\u001b[37m\u001b[0m \u001b[1m0s\u001b[0m 700ms/step - accuracy: 0.7691 - loss: 3.5965\n",
      "Epoch 37: val_accuracy did not improve from 0.40224\n",
      "\u001b[1m380/380\u001b[0m \u001b[32m━━━━━━━━━━━━━━━━━━━━\u001b[0m\u001b[37m\u001b[0m \u001b[1m270s\u001b[0m 711ms/step - accuracy: 0.7692 - loss: 3.5964 - val_accuracy: 0.3924 - val_loss: 5.7097\n",
      "Epoch 38/100\n",
      "\u001b[1m380/380\u001b[0m \u001b[32m━━━━━━━━━━━━━━━━━━━━\u001b[0m\u001b[37m\u001b[0m \u001b[1m0s\u001b[0m 703ms/step - accuracy: 0.7863 - loss: 3.5309\n",
      "Epoch 38: val_accuracy did not improve from 0.40224\n",
      "\u001b[1m380/380\u001b[0m \u001b[32m━━━━━━━━━━━━━━━━━━━━\u001b[0m\u001b[37m\u001b[0m \u001b[1m272s\u001b[0m 716ms/step - accuracy: 0.7863 - loss: 3.5309 - val_accuracy: 0.3502 - val_loss: 5.7528\n",
      "Epoch 39/100\n",
      "\u001b[1m380/380\u001b[0m \u001b[32m━━━━━━━━━━━━━━━━━━━━\u001b[0m\u001b[37m\u001b[0m \u001b[1m0s\u001b[0m 704ms/step - accuracy: 0.7836 - loss: 3.5240\n",
      "Epoch 39: val_accuracy did not improve from 0.40224\n",
      "\u001b[1m380/380\u001b[0m \u001b[32m━━━━━━━━━━━━━━━━━━━━\u001b[0m\u001b[37m\u001b[0m \u001b[1m272s\u001b[0m 715ms/step - accuracy: 0.7836 - loss: 3.5239 - val_accuracy: 0.3858 - val_loss: 5.7692\n",
      "Epoch 40/100\n",
      "\u001b[1m380/380\u001b[0m \u001b[32m━━━━━━━━━━━━━━━━━━━━\u001b[0m\u001b[37m\u001b[0m \u001b[1m0s\u001b[0m 701ms/step - accuracy: 0.7904 - loss: 3.4995\n",
      "Epoch 40: val_accuracy improved from 0.40224 to 0.41540, saving model to /kaggle/working/cmi_best_model.weights.h5\n",
      "\u001b[1m380/380\u001b[0m \u001b[32m━━━━━━━━━━━━━━━━━━━━\u001b[0m\u001b[37m\u001b[0m \u001b[1m271s\u001b[0m 713ms/step - accuracy: 0.7904 - loss: 3.4995 - val_accuracy: 0.4154 - val_loss: 5.4714\n",
      "Epoch 41/100\n",
      "\u001b[1m380/380\u001b[0m \u001b[32m━━━━━━━━━━━━━━━━━━━━\u001b[0m\u001b[37m\u001b[0m \u001b[1m0s\u001b[0m 707ms/step - accuracy: 0.7955 - loss: 3.4791\n",
      "Epoch 41: val_accuracy did not improve from 0.41540\n",
      "\u001b[1m380/380\u001b[0m \u001b[32m━━━━━━━━━━━━━━━━━━━━\u001b[0m\u001b[37m\u001b[0m \u001b[1m324s\u001b[0m 718ms/step - accuracy: 0.7955 - loss: 3.4791 - val_accuracy: 0.3818 - val_loss: 5.7214\n",
      "Epoch 42/100\n",
      "\u001b[1m380/380\u001b[0m \u001b[32m━━━━━━━━━━━━━━━━━━━━\u001b[0m\u001b[37m\u001b[0m \u001b[1m0s\u001b[0m 686ms/step - accuracy: 0.7980 - loss: 3.4730\n",
      "Epoch 42: val_accuracy improved from 0.41540 to 0.42791, saving model to /kaggle/working/cmi_best_model.weights.h5\n",
      "\u001b[1m380/380\u001b[0m \u001b[32m━━━━━━━━━━━━━━━━━━━━\u001b[0m\u001b[37m\u001b[0m \u001b[1m266s\u001b[0m 699ms/step - accuracy: 0.7980 - loss: 3.4730 - val_accuracy: 0.4279 - val_loss: 5.4620\n",
      "Epoch 43/100\n",
      "\u001b[1m380/380\u001b[0m \u001b[32m━━━━━━━━━━━━━━━━━━━━\u001b[0m\u001b[37m\u001b[0m \u001b[1m0s\u001b[0m 631ms/step - accuracy: 0.8005 - loss: 3.4356\n",
      "Epoch 43: val_accuracy did not improve from 0.42791\n",
      "\u001b[1m380/380\u001b[0m \u001b[32m━━━━━━━━━━━━━━━━━━━━\u001b[0m\u001b[37m\u001b[0m \u001b[1m244s\u001b[0m 642ms/step - accuracy: 0.8005 - loss: 3.4356 - val_accuracy: 0.3983 - val_loss: 5.6768\n",
      "Epoch 44/100\n",
      "\u001b[1m380/380\u001b[0m \u001b[32m━━━━━━━━━━━━━━━━━━━━\u001b[0m\u001b[37m\u001b[0m \u001b[1m0s\u001b[0m 711ms/step - accuracy: 0.8101 - loss: 3.4093\n",
      "Epoch 44: val_accuracy did not improve from 0.42791\n",
      "\u001b[1m380/380\u001b[0m \u001b[32m━━━━━━━━━━━━━━━━━━━━\u001b[0m\u001b[37m\u001b[0m \u001b[1m274s\u001b[0m 722ms/step - accuracy: 0.8101 - loss: 3.4093 - val_accuracy: 0.3924 - val_loss: 5.5046\n",
      "Epoch 45/100\n",
      "\u001b[1m380/380\u001b[0m \u001b[32m━━━━━━━━━━━━━━━━━━━━\u001b[0m\u001b[37m\u001b[0m \u001b[1m0s\u001b[0m 712ms/step - accuracy: 0.8053 - loss: 3.4144\n",
      "Epoch 45: val_accuracy did not improve from 0.42791\n",
      "\u001b[1m380/380\u001b[0m \u001b[32m━━━━━━━━━━━━━━━━━━━━\u001b[0m\u001b[37m\u001b[0m \u001b[1m275s\u001b[0m 723ms/step - accuracy: 0.8053 - loss: 3.4144 - val_accuracy: 0.3792 - val_loss: 5.5990\n",
      "Epoch 46/100\n",
      "\u001b[1m380/380\u001b[0m \u001b[32m━━━━━━━━━━━━━━━━━━━━\u001b[0m\u001b[37m\u001b[0m \u001b[1m0s\u001b[0m 706ms/step - accuracy: 0.8212 - loss: 3.3651\n",
      "Epoch 46: val_accuracy did not improve from 0.42791\n",
      "\u001b[1m380/380\u001b[0m \u001b[32m━━━━━━━━━━━━━━━━━━━━\u001b[0m\u001b[37m\u001b[0m \u001b[1m273s\u001b[0m 718ms/step - accuracy: 0.8212 - loss: 3.3651 - val_accuracy: 0.4161 - val_loss: 5.4447\n",
      "Epoch 47/100\n",
      "\u001b[1m380/380\u001b[0m \u001b[32m━━━━━━━━━━━━━━━━━━━━\u001b[0m\u001b[37m\u001b[0m \u001b[1m0s\u001b[0m 715ms/step - accuracy: 0.8224 - loss: 3.3643\n",
      "Epoch 47: val_accuracy did not improve from 0.42791\n",
      "\u001b[1m380/380\u001b[0m \u001b[32m━━━━━━━━━━━━━━━━━━━━\u001b[0m\u001b[37m\u001b[0m \u001b[1m276s\u001b[0m 726ms/step - accuracy: 0.8224 - loss: 3.3643 - val_accuracy: 0.4167 - val_loss: 5.5363\n",
      "Epoch 48/100\n",
      "\u001b[1m380/380\u001b[0m \u001b[32m━━━━━━━━━━━━━━━━━━━━\u001b[0m\u001b[37m\u001b[0m \u001b[1m0s\u001b[0m 706ms/step - accuracy: 0.8142 - loss: 3.3745\n",
      "Epoch 48: val_accuracy did not improve from 0.42791\n",
      "\u001b[1m380/380\u001b[0m \u001b[32m━━━━━━━━━━━━━━━━━━━━\u001b[0m\u001b[37m\u001b[0m \u001b[1m273s\u001b[0m 718ms/step - accuracy: 0.8142 - loss: 3.3745 - val_accuracy: 0.3733 - val_loss: 5.8230\n",
      "Epoch 49/100\n",
      "\u001b[1m380/380\u001b[0m \u001b[32m━━━━━━━━━━━━━━━━━━━━\u001b[0m\u001b[37m\u001b[0m \u001b[1m0s\u001b[0m 688ms/step - accuracy: 0.8293 - loss: 3.3403\n",
      "Epoch 49: val_accuracy did not improve from 0.42791\n",
      "\u001b[1m380/380\u001b[0m \u001b[32m━━━━━━━━━━━━━━━━━━━━\u001b[0m\u001b[37m\u001b[0m \u001b[1m266s\u001b[0m 700ms/step - accuracy: 0.8292 - loss: 3.3403 - val_accuracy: 0.4279 - val_loss: 5.4519\n",
      "Epoch 50/100\n",
      "\u001b[1m380/380\u001b[0m \u001b[32m━━━━━━━━━━━━━━━━━━━━\u001b[0m\u001b[37m\u001b[0m \u001b[1m0s\u001b[0m 713ms/step - accuracy: 0.8305 - loss: 3.3267\n",
      "Epoch 50: val_accuracy did not improve from 0.42791\n",
      "\u001b[1m380/380\u001b[0m \u001b[32m━━━━━━━━━━━━━━━━━━━━\u001b[0m\u001b[37m\u001b[0m \u001b[1m275s\u001b[0m 724ms/step - accuracy: 0.8305 - loss: 3.3267 - val_accuracy: 0.4128 - val_loss: 5.4555\n",
      "Epoch 51/100\n",
      "\u001b[1m380/380\u001b[0m \u001b[32m━━━━━━━━━━━━━━━━━━━━\u001b[0m\u001b[37m\u001b[0m \u001b[1m0s\u001b[0m 720ms/step - accuracy: 0.8323 - loss: 3.2955\n",
      "Epoch 51: val_accuracy did not improve from 0.42791\n",
      "\u001b[1m380/380\u001b[0m \u001b[32m━━━━━━━━━━━━━━━━━━━━\u001b[0m\u001b[37m\u001b[0m \u001b[1m278s\u001b[0m 731ms/step - accuracy: 0.8323 - loss: 3.2956 - val_accuracy: 0.4154 - val_loss: 5.4206\n",
      "Epoch 52/100\n",
      "\u001b[1m380/380\u001b[0m \u001b[32m━━━━━━━━━━━━━━━━━━━━\u001b[0m\u001b[37m\u001b[0m \u001b[1m0s\u001b[0m 711ms/step - accuracy: 0.8321 - loss: 3.3116\n",
      "Epoch 52: val_accuracy did not improve from 0.42791\n",
      "\u001b[1m380/380\u001b[0m \u001b[32m━━━━━━━━━━━━━━━━━━━━\u001b[0m\u001b[37m\u001b[0m \u001b[1m275s\u001b[0m 722ms/step - accuracy: 0.8321 - loss: 3.3116 - val_accuracy: 0.4009 - val_loss: 5.5421\n",
      "Epoch 53/100\n",
      "\u001b[1m380/380\u001b[0m \u001b[32m━━━━━━━━━━━━━━━━━━━━\u001b[0m\u001b[37m\u001b[0m \u001b[1m0s\u001b[0m 711ms/step - accuracy: 0.8221 - loss: 3.3211\n",
      "Epoch 53: val_accuracy improved from 0.42791 to 0.44700, saving model to /kaggle/working/cmi_best_model.weights.h5\n",
      "\u001b[1m380/380\u001b[0m \u001b[32m━━━━━━━━━━━━━━━━━━━━\u001b[0m\u001b[37m\u001b[0m \u001b[1m274s\u001b[0m 722ms/step - accuracy: 0.8222 - loss: 3.3210 - val_accuracy: 0.4470 - val_loss: 5.3167\n",
      "Epoch 54/100\n",
      "\u001b[1m380/380\u001b[0m \u001b[32m━━━━━━━━━━━━━━━━━━━━\u001b[0m\u001b[37m\u001b[0m \u001b[1m0s\u001b[0m 711ms/step - accuracy: 0.8339 - loss: 3.2834\n",
      "Epoch 54: val_accuracy did not improve from 0.44700\n",
      "\u001b[1m380/380\u001b[0m \u001b[32m━━━━━━━━━━━━━━━━━━━━\u001b[0m\u001b[37m\u001b[0m \u001b[1m274s\u001b[0m 722ms/step - accuracy: 0.8339 - loss: 3.2833 - val_accuracy: 0.4233 - val_loss: 5.3171\n",
      "Epoch 55/100\n",
      "\u001b[1m380/380\u001b[0m \u001b[32m━━━━━━━━━━━━━━━━━━━━\u001b[0m\u001b[37m\u001b[0m \u001b[1m0s\u001b[0m 706ms/step - accuracy: 0.8294 - loss: 3.2731\n",
      "Epoch 55: val_accuracy did not improve from 0.44700\n",
      "\u001b[1m380/380\u001b[0m \u001b[32m━━━━━━━━━━━━━━━━━━━━\u001b[0m\u001b[37m\u001b[0m \u001b[1m273s\u001b[0m 717ms/step - accuracy: 0.8294 - loss: 3.2731 - val_accuracy: 0.4358 - val_loss: 5.4536\n",
      "Epoch 56/100\n",
      "\u001b[1m380/380\u001b[0m \u001b[32m━━━━━━━━━━━━━━━━━━━━\u001b[0m\u001b[37m\u001b[0m \u001b[1m0s\u001b[0m 707ms/step - accuracy: 0.8433 - loss: 3.2434\n",
      "Epoch 56: val_accuracy did not improve from 0.44700\n",
      "\u001b[1m380/380\u001b[0m \u001b[32m━━━━━━━━━━━━━━━━━━━━\u001b[0m\u001b[37m\u001b[0m \u001b[1m273s\u001b[0m 719ms/step - accuracy: 0.8433 - loss: 3.2434 - val_accuracy: 0.4345 - val_loss: 5.3448\n",
      "Epoch 57/100\n",
      "\u001b[1m380/380\u001b[0m \u001b[32m━━━━━━━━━━━━━━━━━━━━\u001b[0m\u001b[37m\u001b[0m \u001b[1m0s\u001b[0m 650ms/step - accuracy: 0.8404 - loss: 3.2572\n",
      "Epoch 57: val_accuracy did not improve from 0.44700\n",
      "\u001b[1m380/380\u001b[0m \u001b[32m━━━━━━━━━━━━━━━━━━━━\u001b[0m\u001b[37m\u001b[0m \u001b[1m251s\u001b[0m 661ms/step - accuracy: 0.8404 - loss: 3.2572 - val_accuracy: 0.4424 - val_loss: 5.3400\n",
      "Epoch 58/100\n",
      "\u001b[1m380/380\u001b[0m \u001b[32m━━━━━━━━━━━━━━━━━━━━\u001b[0m\u001b[37m\u001b[0m \u001b[1m0s\u001b[0m 704ms/step - accuracy: 0.8370 - loss: 3.2392\n",
      "Epoch 58: val_accuracy did not improve from 0.44700\n",
      "\u001b[1m380/380\u001b[0m \u001b[32m━━━━━━━━━━━━━━━━━━━━\u001b[0m\u001b[37m\u001b[0m \u001b[1m272s\u001b[0m 716ms/step - accuracy: 0.8371 - loss: 3.2391 - val_accuracy: 0.4167 - val_loss: 5.3770\n",
      "Epoch 59/100\n",
      "\u001b[1m380/380\u001b[0m \u001b[32m━━━━━━━━━━━━━━━━━━━━\u001b[0m\u001b[37m\u001b[0m \u001b[1m0s\u001b[0m 706ms/step - accuracy: 0.8473 - loss: 3.2149\n",
      "Epoch 59: val_accuracy did not improve from 0.44700\n",
      "\u001b[1m380/380\u001b[0m \u001b[32m━━━━━━━━━━━━━━━━━━━━\u001b[0m\u001b[37m\u001b[0m \u001b[1m323s\u001b[0m 718ms/step - accuracy: 0.8473 - loss: 3.2149 - val_accuracy: 0.4345 - val_loss: 5.4269\n",
      "Epoch 60/100\n",
      "\u001b[1m380/380\u001b[0m \u001b[32m━━━━━━━━━━━━━━━━━━━━\u001b[0m\u001b[37m\u001b[0m \u001b[1m0s\u001b[0m 713ms/step - accuracy: 0.8420 - loss: 3.2263\n",
      "Epoch 60: val_accuracy did not improve from 0.44700\n",
      "\u001b[1m380/380\u001b[0m \u001b[32m━━━━━━━━━━━━━━━━━━━━\u001b[0m\u001b[37m\u001b[0m \u001b[1m275s\u001b[0m 724ms/step - accuracy: 0.8421 - loss: 3.2262 - val_accuracy: 0.4358 - val_loss: 5.4305\n",
      "Epoch 61/100\n",
      "\u001b[1m380/380\u001b[0m \u001b[32m━━━━━━━━━━━━━━━━━━━━\u001b[0m\u001b[37m\u001b[0m \u001b[1m0s\u001b[0m 711ms/step - accuracy: 0.8437 - loss: 3.2187\n",
      "Epoch 61: val_accuracy did not improve from 0.44700\n",
      "\u001b[1m380/380\u001b[0m \u001b[32m━━━━━━━━━━━━━━━━━━━━\u001b[0m\u001b[37m\u001b[0m \u001b[1m275s\u001b[0m 723ms/step - accuracy: 0.8437 - loss: 3.2187 - val_accuracy: 0.4378 - val_loss: 5.3717\n",
      "Epoch 62/100\n",
      "\u001b[1m380/380\u001b[0m \u001b[32m━━━━━━━━━━━━━━━━━━━━\u001b[0m\u001b[37m\u001b[0m \u001b[1m0s\u001b[0m 709ms/step - accuracy: 0.8559 - loss: 3.2058\n",
      "Epoch 62: val_accuracy did not improve from 0.44700\n",
      "\u001b[1m380/380\u001b[0m \u001b[32m━━━━━━━━━━━━━━━━━━━━\u001b[0m\u001b[37m\u001b[0m \u001b[1m274s\u001b[0m 720ms/step - accuracy: 0.8559 - loss: 3.2057 - val_accuracy: 0.4411 - val_loss: 5.4052\n",
      "Epoch 63/100\n",
      "\u001b[1m380/380\u001b[0m \u001b[32m━━━━━━━━━━━━━━━━━━━━\u001b[0m\u001b[37m\u001b[0m \u001b[1m0s\u001b[0m 707ms/step - accuracy: 0.8549 - loss: 3.1950\n",
      "Epoch 63: val_accuracy did not improve from 0.44700\n",
      "\u001b[1m380/380\u001b[0m \u001b[32m━━━━━━━━━━━━━━━━━━━━\u001b[0m\u001b[37m\u001b[0m \u001b[1m273s\u001b[0m 718ms/step - accuracy: 0.8549 - loss: 3.1950 - val_accuracy: 0.4115 - val_loss: 5.5191\n",
      "Epoch 64/100\n",
      "\u001b[1m380/380\u001b[0m \u001b[32m━━━━━━━━━━━━━━━━━━━━\u001b[0m\u001b[37m\u001b[0m \u001b[1m0s\u001b[0m 712ms/step - accuracy: 0.8492 - loss: 3.2127\n",
      "Epoch 64: val_accuracy did not improve from 0.44700\n",
      "\u001b[1m380/380\u001b[0m \u001b[32m━━━━━━━━━━━━━━━━━━━━\u001b[0m\u001b[37m\u001b[0m \u001b[1m275s\u001b[0m 723ms/step - accuracy: 0.8492 - loss: 3.2127 - val_accuracy: 0.4312 - val_loss: 5.4749\n",
      "Epoch 65/100\n",
      "\u001b[1m380/380\u001b[0m \u001b[32m━━━━━━━━━━━━━━━━━━━━\u001b[0m\u001b[37m\u001b[0m \u001b[1m0s\u001b[0m 713ms/step - accuracy: 0.8409 - loss: 3.2241\n",
      "Epoch 65: val_accuracy did not improve from 0.44700\n",
      "\u001b[1m380/380\u001b[0m \u001b[32m━━━━━━━━━━━━━━━━━━━━\u001b[0m\u001b[37m\u001b[0m \u001b[1m275s\u001b[0m 724ms/step - accuracy: 0.8409 - loss: 3.2240 - val_accuracy: 0.4398 - val_loss: 5.4238\n",
      "Epoch 66/100\n",
      "\u001b[1m380/380\u001b[0m \u001b[32m━━━━━━━━━━━━━━━━━━━━\u001b[0m\u001b[37m\u001b[0m \u001b[1m0s\u001b[0m 717ms/step - accuracy: 0.8559 - loss: 3.1872\n",
      "Epoch 66: val_accuracy improved from 0.44700 to 0.45161, saving model to /kaggle/working/cmi_best_model.weights.h5\n",
      "\u001b[1m380/380\u001b[0m \u001b[32m━━━━━━━━━━━━━━━━━━━━\u001b[0m\u001b[37m\u001b[0m \u001b[1m277s\u001b[0m 728ms/step - accuracy: 0.8559 - loss: 3.1872 - val_accuracy: 0.4516 - val_loss: 5.2897\n",
      "Epoch 67/100\n",
      "\u001b[1m380/380\u001b[0m \u001b[32m━━━━━━━━━━━━━━━━━━━━\u001b[0m\u001b[37m\u001b[0m \u001b[1m0s\u001b[0m 723ms/step - accuracy: 0.8551 - loss: 3.1830\n",
      "Epoch 67: val_accuracy did not improve from 0.45161\n",
      "\u001b[1m380/380\u001b[0m \u001b[32m━━━━━━━━━━━━━━━━━━━━\u001b[0m\u001b[37m\u001b[0m \u001b[1m279s\u001b[0m 735ms/step - accuracy: 0.8551 - loss: 3.1830 - val_accuracy: 0.4365 - val_loss: 5.3779\n",
      "Epoch 68/100\n",
      "\u001b[1m380/380\u001b[0m \u001b[32m━━━━━━━━━━━━━━━━━━━━\u001b[0m\u001b[37m\u001b[0m \u001b[1m0s\u001b[0m 716ms/step - accuracy: 0.8593 - loss: 3.1658\n",
      "Epoch 68: val_accuracy did not improve from 0.45161\n",
      "\u001b[1m380/380\u001b[0m \u001b[32m━━━━━━━━━━━━━━━━━━━━\u001b[0m\u001b[37m\u001b[0m \u001b[1m276s\u001b[0m 727ms/step - accuracy: 0.8593 - loss: 3.1658 - val_accuracy: 0.4411 - val_loss: 5.3769\n",
      "Epoch 69/100\n",
      "\u001b[1m380/380\u001b[0m \u001b[32m━━━━━━━━━━━━━━━━━━━━\u001b[0m\u001b[37m\u001b[0m \u001b[1m0s\u001b[0m 712ms/step - accuracy: 0.8619 - loss: 3.1545\n",
      "Epoch 69: val_accuracy did not improve from 0.45161\n",
      "\u001b[1m380/380\u001b[0m \u001b[32m━━━━━━━━━━━━━━━━━━━━\u001b[0m\u001b[37m\u001b[0m \u001b[1m275s\u001b[0m 723ms/step - accuracy: 0.8619 - loss: 3.1546 - val_accuracy: 0.4240 - val_loss: 5.4635\n",
      "Epoch 70/100\n",
      "\u001b[1m380/380\u001b[0m \u001b[32m━━━━━━━━━━━━━━━━━━━━\u001b[0m\u001b[37m\u001b[0m \u001b[1m0s\u001b[0m 708ms/step - accuracy: 0.8571 - loss: 3.1551\n",
      "Epoch 70: val_accuracy did not improve from 0.45161\n",
      "\u001b[1m380/380\u001b[0m \u001b[32m━━━━━━━━━━━━━━━━━━━━\u001b[0m\u001b[37m\u001b[0m \u001b[1m273s\u001b[0m 719ms/step - accuracy: 0.8571 - loss: 3.1551 - val_accuracy: 0.4319 - val_loss: 5.3163\n",
      "Epoch 71/100\n",
      "\u001b[1m380/380\u001b[0m \u001b[32m━━━━━━━━━━━━━━━━━━━━\u001b[0m\u001b[37m\u001b[0m \u001b[1m0s\u001b[0m 722ms/step - accuracy: 0.8646 - loss: 3.1579\n",
      "Epoch 71: val_accuracy did not improve from 0.45161\n",
      "\u001b[1m380/380\u001b[0m \u001b[32m━━━━━━━━━━━━━━━━━━━━\u001b[0m\u001b[37m\u001b[0m \u001b[1m279s\u001b[0m 734ms/step - accuracy: 0.8646 - loss: 3.1578 - val_accuracy: 0.4259 - val_loss: 5.4235\n",
      "Epoch 72/100\n",
      "\u001b[1m380/380\u001b[0m \u001b[32m━━━━━━━━━━━━━━━━━━━━\u001b[0m\u001b[37m\u001b[0m \u001b[1m0s\u001b[0m 720ms/step - accuracy: 0.8640 - loss: 3.1233\n",
      "Epoch 72: val_accuracy did not improve from 0.45161\n",
      "\u001b[1m380/380\u001b[0m \u001b[32m━━━━━━━━━━━━━━━━━━━━\u001b[0m\u001b[37m\u001b[0m \u001b[1m278s\u001b[0m 731ms/step - accuracy: 0.8640 - loss: 3.1233 - val_accuracy: 0.4194 - val_loss: 5.3591\n",
      "Epoch 73/100\n",
      "\u001b[1m380/380\u001b[0m \u001b[32m━━━━━━━━━━━━━━━━━━━━\u001b[0m\u001b[37m\u001b[0m \u001b[1m0s\u001b[0m 678ms/step - accuracy: 0.8612 - loss: 3.1407\n",
      "Epoch 73: val_accuracy did not improve from 0.45161\n",
      "\u001b[1m380/380\u001b[0m \u001b[32m━━━━━━━━━━━━━━━━━━━━\u001b[0m\u001b[37m\u001b[0m \u001b[1m262s\u001b[0m 690ms/step - accuracy: 0.8612 - loss: 3.1406 - val_accuracy: 0.4266 - val_loss: 5.3674\n",
      "Epoch 74/100\n",
      "\u001b[1m380/380\u001b[0m \u001b[32m━━━━━━━━━━━━━━━━━━━━\u001b[0m\u001b[37m\u001b[0m \u001b[1m0s\u001b[0m 695ms/step - accuracy: 0.8657 - loss: 3.1133\n",
      "Epoch 74: val_accuracy did not improve from 0.45161\n",
      "\u001b[1m380/380\u001b[0m \u001b[32m━━━━━━━━━━━━━━━━━━━━\u001b[0m\u001b[37m\u001b[0m \u001b[1m268s\u001b[0m 706ms/step - accuracy: 0.8657 - loss: 3.1133 - val_accuracy: 0.4371 - val_loss: 5.3347\n",
      "Epoch 75/100\n",
      "\u001b[1m380/380\u001b[0m \u001b[32m━━━━━━━━━━━━━━━━━━━━\u001b[0m\u001b[37m\u001b[0m \u001b[1m0s\u001b[0m 683ms/step - accuracy: 0.8683 - loss: 3.1047\n",
      "Epoch 75: val_accuracy did not improve from 0.45161\n",
      "\u001b[1m380/380\u001b[0m \u001b[32m━━━━━━━━━━━━━━━━━━━━\u001b[0m\u001b[37m\u001b[0m \u001b[1m264s\u001b[0m 695ms/step - accuracy: 0.8683 - loss: 3.1047 - val_accuracy: 0.4371 - val_loss: 5.3028\n",
      "Epoch 76/100\n",
      "\u001b[1m380/380\u001b[0m \u001b[32m━━━━━━━━━━━━━━━━━━━━\u001b[0m\u001b[37m\u001b[0m \u001b[1m0s\u001b[0m 683ms/step - accuracy: 0.8791 - loss: 3.0948\n",
      "Epoch 76: val_accuracy did not improve from 0.45161\n",
      "\u001b[1m380/380\u001b[0m \u001b[32m━━━━━━━━━━━━━━━━━━━━\u001b[0m\u001b[37m\u001b[0m \u001b[1m264s\u001b[0m 695ms/step - accuracy: 0.8791 - loss: 3.0948 - val_accuracy: 0.4213 - val_loss: 5.3249\n",
      "Epoch 77/100\n",
      "\u001b[1m380/380\u001b[0m \u001b[32m━━━━━━━━━━━━━━━━━━━━\u001b[0m\u001b[37m\u001b[0m \u001b[1m0s\u001b[0m 763ms/step - accuracy: 0.8754 - loss: 3.0907\n",
      "Epoch 77: val_accuracy did not improve from 0.45161\n",
      "\u001b[1m380/380\u001b[0m \u001b[32m━━━━━━━━━━━━━━━━━━━━\u001b[0m\u001b[37m\u001b[0m \u001b[1m295s\u001b[0m 775ms/step - accuracy: 0.8754 - loss: 3.0907 - val_accuracy: 0.4187 - val_loss: 5.4058\n",
      "Epoch 78/100\n",
      "\u001b[1m380/380\u001b[0m \u001b[32m━━━━━━━━━━━━━━━━━━━━\u001b[0m\u001b[37m\u001b[0m \u001b[1m0s\u001b[0m 780ms/step - accuracy: 0.8616 - loss: 3.1524\n",
      "Epoch 78: val_accuracy did not improve from 0.45161\n",
      "\u001b[1m380/380\u001b[0m \u001b[32m━━━━━━━━━━━━━━━━━━━━\u001b[0m\u001b[37m\u001b[0m \u001b[1m301s\u001b[0m 793ms/step - accuracy: 0.8616 - loss: 3.1523 - val_accuracy: 0.4108 - val_loss: 5.5425\n",
      "Epoch 79/100\n",
      "\u001b[1m380/380\u001b[0m \u001b[32m━━━━━━━━━━━━━━━━━━━━\u001b[0m\u001b[37m\u001b[0m \u001b[1m0s\u001b[0m 796ms/step - accuracy: 0.8833 - loss: 3.0766\n",
      "Epoch 79: val_accuracy did not improve from 0.45161\n",
      "\u001b[1m380/380\u001b[0m \u001b[32m━━━━━━━━━━━━━━━━━━━━\u001b[0m\u001b[37m\u001b[0m \u001b[1m307s\u001b[0m 808ms/step - accuracy: 0.8833 - loss: 3.0766 - val_accuracy: 0.4319 - val_loss: 5.4472\n",
      "Epoch 80/100\n",
      "\u001b[1m380/380\u001b[0m \u001b[32m━━━━━━━━━━━━━━━━━━━━\u001b[0m\u001b[37m\u001b[0m \u001b[1m0s\u001b[0m 758ms/step - accuracy: 0.8698 - loss: 3.1114\n",
      "Epoch 80: val_accuracy did not improve from 0.45161\n",
      "\u001b[1m380/380\u001b[0m \u001b[32m━━━━━━━━━━━━━━━━━━━━\u001b[0m\u001b[37m\u001b[0m \u001b[1m292s\u001b[0m 770ms/step - accuracy: 0.8698 - loss: 3.1114 - val_accuracy: 0.4253 - val_loss: 5.4507\n",
      "Epoch 81/100\n",
      "\u001b[1m380/380\u001b[0m \u001b[32m━━━━━━━━━━━━━━━━━━━━\u001b[0m\u001b[37m\u001b[0m \u001b[1m0s\u001b[0m 747ms/step - accuracy: 0.8751 - loss: 3.0849\n",
      "Epoch 81: val_accuracy did not improve from 0.45161\n",
      "\u001b[1m380/380\u001b[0m \u001b[32m━━━━━━━━━━━━━━━━━━━━\u001b[0m\u001b[37m\u001b[0m \u001b[1m288s\u001b[0m 758ms/step - accuracy: 0.8751 - loss: 3.0848 - val_accuracy: 0.4398 - val_loss: 5.3536\n",
      "Epoch 82/100\n",
      "\u001b[1m380/380\u001b[0m \u001b[32m━━━━━━━━━━━━━━━━━━━━\u001b[0m\u001b[37m\u001b[0m \u001b[1m0s\u001b[0m 746ms/step - accuracy: 0.8771 - loss: 3.0812\n",
      "Epoch 82: val_accuracy did not improve from 0.45161\n",
      "\u001b[1m380/380\u001b[0m \u001b[32m━━━━━━━━━━━━━━━━━━━━\u001b[0m\u001b[37m\u001b[0m \u001b[1m288s\u001b[0m 758ms/step - accuracy: 0.8771 - loss: 3.0812 - val_accuracy: 0.3897 - val_loss: 5.7250\n",
      "Epoch 83/100\n",
      "\u001b[1m380/380\u001b[0m \u001b[32m━━━━━━━━━━━━━━━━━━━━\u001b[0m\u001b[37m\u001b[0m \u001b[1m0s\u001b[0m 744ms/step - accuracy: 0.8765 - loss: 3.1059\n",
      "Epoch 83: val_accuracy did not improve from 0.45161\n",
      "\u001b[1m380/380\u001b[0m \u001b[32m━━━━━━━━━━━━━━━━━━━━\u001b[0m\u001b[37m\u001b[0m \u001b[1m287s\u001b[0m 757ms/step - accuracy: 0.8765 - loss: 3.1058 - val_accuracy: 0.4180 - val_loss: 5.3321\n",
      "Epoch 84/100\n",
      "\u001b[1m380/380\u001b[0m \u001b[32m━━━━━━━━━━━━━━━━━━━━\u001b[0m\u001b[37m\u001b[0m \u001b[1m0s\u001b[0m 750ms/step - accuracy: 0.8930 - loss: 3.0594\n",
      "Epoch 84: val_accuracy did not improve from 0.45161\n",
      "\u001b[1m380/380\u001b[0m \u001b[32m━━━━━━━━━━━━━━━━━━━━\u001b[0m\u001b[37m\u001b[0m \u001b[1m290s\u001b[0m 764ms/step - accuracy: 0.8930 - loss: 3.0594 - val_accuracy: 0.4305 - val_loss: 5.4553\n",
      "Epoch 85/100\n",
      "\u001b[1m380/380\u001b[0m \u001b[32m━━━━━━━━━━━━━━━━━━━━\u001b[0m\u001b[37m\u001b[0m \u001b[1m0s\u001b[0m 747ms/step - accuracy: 0.8882 - loss: 3.0567\n",
      "Epoch 85: val_accuracy did not improve from 0.45161\n",
      "\u001b[1m380/380\u001b[0m \u001b[32m━━━━━━━━━━━━━━━━━━━━\u001b[0m\u001b[37m\u001b[0m \u001b[1m289s\u001b[0m 760ms/step - accuracy: 0.8882 - loss: 3.0567 - val_accuracy: 0.4332 - val_loss: 5.3428\n",
      "Epoch 86/100\n",
      "\u001b[1m380/380\u001b[0m \u001b[32m━━━━━━━━━━━━━━━━━━━━\u001b[0m\u001b[37m\u001b[0m \u001b[1m0s\u001b[0m 773ms/step - accuracy: 0.8889 - loss: 3.0329\n",
      "Epoch 86: val_accuracy did not improve from 0.45161\n",
      "\u001b[1m380/380\u001b[0m \u001b[32m━━━━━━━━━━━━━━━━━━━━\u001b[0m\u001b[37m\u001b[0m \u001b[1m299s\u001b[0m 785ms/step - accuracy: 0.8889 - loss: 3.0329 - val_accuracy: 0.4134 - val_loss: 5.4029\n",
      "Epoch 87/100\n",
      "\u001b[1m380/380\u001b[0m \u001b[32m━━━━━━━━━━━━━━━━━━━━\u001b[0m\u001b[37m\u001b[0m \u001b[1m0s\u001b[0m 818ms/step - accuracy: 0.8870 - loss: 3.0655\n",
      "Epoch 87: val_accuracy did not improve from 0.45161\n",
      "\u001b[1m380/380\u001b[0m \u001b[32m━━━━━━━━━━━━━━━━━━━━\u001b[0m\u001b[37m\u001b[0m \u001b[1m315s\u001b[0m 830ms/step - accuracy: 0.8870 - loss: 3.0655 - val_accuracy: 0.4207 - val_loss: 5.3261\n",
      "Epoch 88/100\n",
      "\u001b[1m380/380\u001b[0m \u001b[32m━━━━━━━━━━━━━━━━━━━━\u001b[0m\u001b[37m\u001b[0m \u001b[1m0s\u001b[0m 783ms/step - accuracy: 0.8879 - loss: 3.0602\n",
      "Epoch 88: val_accuracy did not improve from 0.45161\n",
      "\u001b[1m380/380\u001b[0m \u001b[32m━━━━━━━━━━━━━━━━━━━━\u001b[0m\u001b[37m\u001b[0m \u001b[1m302s\u001b[0m 796ms/step - accuracy: 0.8879 - loss: 3.0602 - val_accuracy: 0.4121 - val_loss: 5.4662\n",
      "Epoch 89/100\n",
      "\u001b[1m380/380\u001b[0m \u001b[32m━━━━━━━━━━━━━━━━━━━━\u001b[0m\u001b[37m\u001b[0m \u001b[1m0s\u001b[0m 763ms/step - accuracy: 0.8899 - loss: 3.0498\n",
      "Epoch 89: val_accuracy did not improve from 0.45161\n",
      "\u001b[1m380/380\u001b[0m \u001b[32m━━━━━━━━━━━━━━━━━━━━\u001b[0m\u001b[37m\u001b[0m \u001b[1m294s\u001b[0m 774ms/step - accuracy: 0.8899 - loss: 3.0497 - val_accuracy: 0.4457 - val_loss: 5.4164\n",
      "Epoch 90/100\n",
      "\u001b[1m380/380\u001b[0m \u001b[32m━━━━━━━━━━━━━━━━━━━━\u001b[0m\u001b[37m\u001b[0m \u001b[1m0s\u001b[0m 763ms/step - accuracy: 0.8929 - loss: 3.0419\n",
      "Epoch 90: val_accuracy did not improve from 0.45161\n",
      "\u001b[1m380/380\u001b[0m \u001b[32m━━━━━━━━━━━━━━━━━━━━\u001b[0m\u001b[37m\u001b[0m \u001b[1m294s\u001b[0m 774ms/step - accuracy: 0.8929 - loss: 3.0420 - val_accuracy: 0.4134 - val_loss: 5.4487\n",
      "Epoch 91/100\n",
      "\u001b[1m380/380\u001b[0m \u001b[32m━━━━━━━━━━━━━━━━━━━━\u001b[0m\u001b[37m\u001b[0m \u001b[1m0s\u001b[0m 745ms/step - accuracy: 0.8844 - loss: 3.0566\n",
      "Epoch 91: val_accuracy did not improve from 0.45161\n",
      "\u001b[1m380/380\u001b[0m \u001b[32m━━━━━━━━━━━━━━━━━━━━\u001b[0m\u001b[37m\u001b[0m \u001b[1m288s\u001b[0m 757ms/step - accuracy: 0.8844 - loss: 3.0565 - val_accuracy: 0.4075 - val_loss: 5.6311\n",
      "Epoch 92/100\n",
      "\u001b[1m380/380\u001b[0m \u001b[32m━━━━━━━━━━━━━━━━━━━━\u001b[0m\u001b[37m\u001b[0m \u001b[1m0s\u001b[0m 765ms/step - accuracy: 0.8970 - loss: 3.0244\n",
      "Epoch 92: val_accuracy did not improve from 0.45161\n",
      "\u001b[1m380/380\u001b[0m \u001b[32m━━━━━━━━━━━━━━━━━━━━\u001b[0m\u001b[37m\u001b[0m \u001b[1m295s\u001b[0m 777ms/step - accuracy: 0.8970 - loss: 3.0244 - val_accuracy: 0.4411 - val_loss: 5.3764\n",
      "Epoch 93/100\n",
      "\u001b[1m380/380\u001b[0m \u001b[32m━━━━━━━━━━━━━━━━━━━━\u001b[0m\u001b[37m\u001b[0m \u001b[1m0s\u001b[0m 749ms/step - accuracy: 0.9064 - loss: 3.0089\n",
      "Epoch 93: val_accuracy did not improve from 0.45161\n",
      "\u001b[1m380/380\u001b[0m \u001b[32m━━━━━━━━━━━━━━━━━━━━\u001b[0m\u001b[37m\u001b[0m \u001b[1m289s\u001b[0m 761ms/step - accuracy: 0.9064 - loss: 3.0088 - val_accuracy: 0.4431 - val_loss: 5.4010\n",
      "Epoch 94/100\n",
      "\u001b[1m380/380\u001b[0m \u001b[32m━━━━━━━━━━━━━━━━━━━━\u001b[0m\u001b[37m\u001b[0m \u001b[1m0s\u001b[0m 763ms/step - accuracy: 0.8980 - loss: 3.0332\n",
      "Epoch 94: val_accuracy did not improve from 0.45161\n",
      "\u001b[1m380/380\u001b[0m \u001b[32m━━━━━━━━━━━━━━━━━━━━\u001b[0m\u001b[37m\u001b[0m \u001b[1m295s\u001b[0m 775ms/step - accuracy: 0.8980 - loss: 3.0332 - val_accuracy: 0.4266 - val_loss: 5.4968\n",
      "Epoch 95/100\n",
      "\u001b[1m380/380\u001b[0m \u001b[32m━━━━━━━━━━━━━━━━━━━━\u001b[0m\u001b[37m\u001b[0m \u001b[1m0s\u001b[0m 739ms/step - accuracy: 0.8976 - loss: 3.0409\n",
      "Epoch 95: val_accuracy did not improve from 0.45161\n",
      "\u001b[1m380/380\u001b[0m \u001b[32m━━━━━━━━━━━━━━━━━━━━\u001b[0m\u001b[37m\u001b[0m \u001b[1m285s\u001b[0m 750ms/step - accuracy: 0.8976 - loss: 3.0409 - val_accuracy: 0.4299 - val_loss: 5.3437\n",
      "Epoch 96/100\n",
      "\u001b[1m380/380\u001b[0m \u001b[32m━━━━━━━━━━━━━━━━━━━━\u001b[0m\u001b[37m\u001b[0m \u001b[1m0s\u001b[0m 715ms/step - accuracy: 0.9098 - loss: 3.0065\n",
      "Epoch 96: val_accuracy did not improve from 0.45161\n",
      "\u001b[1m380/380\u001b[0m \u001b[32m━━━━━━━━━━━━━━━━━━━━\u001b[0m\u001b[37m\u001b[0m \u001b[1m276s\u001b[0m 726ms/step - accuracy: 0.9098 - loss: 3.0065 - val_accuracy: 0.4154 - val_loss: 5.4952\n",
      "Epoch 97/100\n",
      "\u001b[1m380/380\u001b[0m \u001b[32m━━━━━━━━━━━━━━━━━━━━\u001b[0m\u001b[37m\u001b[0m \u001b[1m0s\u001b[0m 714ms/step - accuracy: 0.9001 - loss: 3.0308\n",
      "Epoch 97: val_accuracy did not improve from 0.45161\n",
      "\u001b[1m380/380\u001b[0m \u001b[32m━━━━━━━━━━━━━━━━━━━━\u001b[0m\u001b[37m\u001b[0m \u001b[1m275s\u001b[0m 725ms/step - accuracy: 0.9002 - loss: 3.0308 - val_accuracy: 0.4167 - val_loss: 5.4524\n",
      "Epoch 98/100\n",
      "\u001b[1m380/380\u001b[0m \u001b[32m━━━━━━━━━━━━━━━━━━━━\u001b[0m\u001b[37m\u001b[0m \u001b[1m0s\u001b[0m 721ms/step - accuracy: 0.9004 - loss: 3.0278\n",
      "Epoch 98: val_accuracy did not improve from 0.45161\n",
      "\u001b[1m380/380\u001b[0m \u001b[32m━━━━━━━━━━━━━━━━━━━━\u001b[0m\u001b[37m\u001b[0m \u001b[1m278s\u001b[0m 733ms/step - accuracy: 0.9004 - loss: 3.0277 - val_accuracy: 0.4477 - val_loss: 5.4228\n",
      "Epoch 99/100\n",
      "\u001b[1m380/380\u001b[0m \u001b[32m━━━━━━━━━━━━━━━━━━━━\u001b[0m\u001b[37m\u001b[0m \u001b[1m0s\u001b[0m 732ms/step - accuracy: 0.9079 - loss: 3.0172\n",
      "Epoch 99: val_accuracy did not improve from 0.45161\n",
      "\u001b[1m380/380\u001b[0m \u001b[32m━━━━━━━━━━━━━━━━━━━━\u001b[0m\u001b[37m\u001b[0m \u001b[1m282s\u001b[0m 743ms/step - accuracy: 0.9079 - loss: 3.0172 - val_accuracy: 0.4253 - val_loss: 5.5387\n",
      "Epoch 100/100\n",
      "\u001b[1m380/380\u001b[0m \u001b[32m━━━━━━━━━━━━━━━━━━━━\u001b[0m\u001b[37m\u001b[0m \u001b[1m0s\u001b[0m 720ms/step - accuracy: 0.9012 - loss: 3.0545\n",
      "Epoch 100: val_accuracy did not improve from 0.45161\n",
      "\u001b[1m380/380\u001b[0m \u001b[32m━━━━━━━━━━━━━━━━━━━━\u001b[0m\u001b[37m\u001b[0m \u001b[1m278s\u001b[0m 731ms/step - accuracy: 0.9011 - loss: 3.0545 - val_accuracy: 0.4200 - val_loss: 5.5210\n"
     ]
    }
   ],
   "source": [
    "from tensorflow.keras.callbacks import ModelCheckpoint\n",
    "checkpoint_filepath = \"/kaggle/working/cmi_best_model.weights.h5\"\n",
    "checkpoint_callback = ModelCheckpoint(\n",
    "    filepath=checkpoint_filepath,\n",
    "    monitor=\"val_accuracy\",\n",
    "    save_best_only=True,\n",
    "    save_weights_only=True,\n",
    "    mode=\"max\",\n",
    "    verbose=1\n",
    ")\n",
    "\n",
    "history = model.fit(gesture_train_ds, epochs=100, \n",
    "                    validation_data=gesture_valid_ds,\n",
    "                    callbacks=[checkpoint_callback])\n",
    "model.load_weights(checkpoint_filepath)"
   ]
  },
  {
   "cell_type": "code",
   "execution_count": 13,
   "id": "8b0c8572",
   "metadata": {
    "execution": {
     "iopub.execute_input": "2025-07-24T07:10:57.901433Z",
     "iopub.status.busy": "2025-07-24T07:10:57.901104Z",
     "iopub.status.idle": "2025-07-24T07:10:57.915788Z",
     "shell.execute_reply": "2025-07-24T07:10:57.914718Z"
    },
    "papermill": {
     "duration": 2.209993,
     "end_time": "2025-07-24T07:10:57.917648",
     "exception": false,
     "start_time": "2025-07-24T07:10:55.707655",
     "status": "completed"
    },
    "tags": []
   },
   "outputs": [],
   "source": [
    "import json\n",
    "\n",
    "with open('/kaggle/input/cmi-tf-datasets/mapping.json') as f:\n",
    "    mapping_dict = json.load(f)\n",
    "\n",
    "gesture_mapping = mapping_dict[\"gesture_mapping\"]\n",
    "inv_gesture_mapping = {value: key for key, value in gesture_mapping.items()}\n",
    "\n",
    "num2gesture = np.vectorize(lambda x: inv_gesture_mapping[x])"
   ]
  },
  {
   "cell_type": "code",
   "execution_count": 14,
   "id": "b4613776",
   "metadata": {
    "execution": {
     "iopub.execute_input": "2025-07-24T07:11:02.044985Z",
     "iopub.status.busy": "2025-07-24T07:11:02.044639Z",
     "iopub.status.idle": "2025-07-24T07:11:02.051539Z",
     "shell.execute_reply": "2025-07-24T07:11:02.050548Z"
    },
    "papermill": {
     "duration": 2.144356,
     "end_time": "2025-07-24T07:11:02.053108",
     "exception": false,
     "start_time": "2025-07-24T07:10:59.908752",
     "status": "completed"
    },
    "tags": []
   },
   "outputs": [],
   "source": [
    "non_target_gestures = [\"Drink from bottle/cup\", \"Glasses on/off\", \"Pull air toward your face\",\n",
    "                       \"Pinch knee/leg skin\", \"Scratch knee/leg skin\", \"Write name on leg\",\n",
    "                       \"Text on phone\", \"Feel around in tray and pull out an object\",\n",
    "                       \"Write name in air\", \"Wave hello\"]\n",
    "\n",
    "def map_non_target(y_ind):\n",
    "    y_pred = inv_gesture_mapping[y_ind]\n",
    "    if y_ind == 3:\n",
    "        y_ind = 2\n",
    "    elif y_ind == 4:\n",
    "        y_ind = 3\n",
    "    elif y_ind == 6:\n",
    "        y_ind = 4\n",
    "    elif y_ind == 7:\n",
    "        y_ind = 5\n",
    "    elif y_ind == 9:\n",
    "        y_ind = 6\n",
    "    elif y_ind == 10:\n",
    "        y_ind = 7\n",
    "    if y_pred in non_target_gestures:\n",
    "        y_ind = 8\n",
    "    return y_ind\n",
    "\n",
    "vectorize_map_non_target = np.vectorize(map_non_target)"
   ]
  },
  {
   "cell_type": "code",
   "execution_count": 15,
   "id": "b51d0aa6",
   "metadata": {
    "execution": {
     "iopub.execute_input": "2025-07-24T07:11:06.326391Z",
     "iopub.status.busy": "2025-07-24T07:11:06.326074Z",
     "iopub.status.idle": "2025-07-24T07:11:59.764922Z",
     "shell.execute_reply": "2025-07-24T07:11:59.763854Z"
    },
    "papermill": {
     "duration": 55.578988,
     "end_time": "2025-07-24T07:11:59.766751",
     "exception": false,
     "start_time": "2025-07-24T07:11:04.187763",
     "status": "completed"
    },
    "tags": []
   },
   "outputs": [],
   "source": [
    "conf_tensor = np.zeros((9, 9), dtype=np.int32)\n",
    "for i, (inputs, labels) in enumerate(gesture_valid_ds):\n",
    "    labels_pred = model.predict(inputs, verbose=0)\n",
    "    labels_pred = tf.argmax(labels_pred, axis=-1).numpy()\n",
    "    labels_pred = vectorize_map_non_target(labels_pred)\n",
    "    labels_true = tf.argmax(labels, axis=-1).numpy()\n",
    "    labels_true = vectorize_map_non_target(labels_true)\n",
    "    conf_tensor += tf.math.confusion_matrix(labels_true, labels_pred, num_classes=9)"
   ]
  },
  {
   "cell_type": "code",
   "execution_count": 16,
   "id": "dff41d6e",
   "metadata": {
    "execution": {
     "iopub.execute_input": "2025-07-24T07:12:03.892724Z",
     "iopub.status.busy": "2025-07-24T07:12:03.892372Z",
     "iopub.status.idle": "2025-07-24T07:12:03.937661Z",
     "shell.execute_reply": "2025-07-24T07:12:03.936677Z"
    },
    "papermill": {
     "duration": 2.195868,
     "end_time": "2025-07-24T07:12:03.939251",
     "exception": false,
     "start_time": "2025-07-24T07:12:01.743383",
     "status": "completed"
    },
    "tags": []
   },
   "outputs": [
    {
     "name": "stdout",
     "output_type": "stream",
     "text": [
      "F1 score mean: 0.441\n"
     ]
    }
   ],
   "source": [
    "precisions = []\n",
    "recalls = []\n",
    "f1s = []\n",
    "\n",
    "for i in range(9):\n",
    "    column = conf_tensor[i, :]\n",
    "    row = conf_tensor[:, i]\n",
    "    precision = column[i] / tf.math.reduce_sum(column)\n",
    "    recall = row[i] / tf.math.reduce_sum(row)\n",
    "    inv_f1 = (1/precision + 1/recall)/2\n",
    "    f1 = 1/inv_f1\n",
    "    precisions.append(precision)\n",
    "    recalls.append(recall)\n",
    "    f1s.append(f1)\n",
    "print(f\"F1 score mean: {np.round(np.mean(f1s), 3)}\")"
   ]
  },
  {
   "cell_type": "code",
   "execution_count": 17,
   "id": "20ed107c",
   "metadata": {
    "execution": {
     "iopub.execute_input": "2025-07-24T07:12:08.271463Z",
     "iopub.status.busy": "2025-07-24T07:12:08.271135Z",
     "iopub.status.idle": "2025-07-24T07:12:08.275364Z",
     "shell.execute_reply": "2025-07-24T07:12:08.274397Z"
    },
    "papermill": {
     "duration": 2.193503,
     "end_time": "2025-07-24T07:12:08.276876",
     "exception": false,
     "start_time": "2025-07-24T07:12:06.083373",
     "status": "completed"
    },
    "tags": []
   },
   "outputs": [],
   "source": [
    "# import os\n",
    "# save_path = os.path.join(\"/kaggle/working/\", \"cmi_model.weights.h5\")\n",
    "# model.save_weights(save_path)"
   ]
  },
  {
   "cell_type": "code",
   "execution_count": 18,
   "id": "ba04af6e",
   "metadata": {
    "execution": {
     "iopub.execute_input": "2025-07-24T07:12:12.419373Z",
     "iopub.status.busy": "2025-07-24T07:12:12.418421Z",
     "iopub.status.idle": "2025-07-24T07:12:12.790936Z",
     "shell.execute_reply": "2025-07-24T07:12:12.790010Z"
    },
    "papermill": {
     "duration": 2.536104,
     "end_time": "2025-07-24T07:12:12.792388",
     "exception": false,
     "start_time": "2025-07-24T07:12:10.256284",
     "status": "completed"
    },
    "tags": []
   },
   "outputs": [
    {
     "data": {
      "text/html": [
       "<pre style=\"white-space:pre;overflow-x:auto;line-height:normal;font-family:Menlo,'DejaVu Sans Mono',consolas,'Courier New',monospace\"><span style=\"font-weight: bold\">Model: \"rnn_model_1\"</span>\n",
       "</pre>\n"
      ],
      "text/plain": [
       "\u001b[1mModel: \"rnn_model_1\"\u001b[0m\n"
      ]
     },
     "metadata": {},
     "output_type": "display_data"
    },
    {
     "data": {
      "text/html": [
       "<pre style=\"white-space:pre;overflow-x:auto;line-height:normal;font-family:Menlo,'DejaVu Sans Mono',consolas,'Courier New',monospace\">┏━━━━━━━━━━━━━━━━━━━━━━━━━━━━━━━━━┳━━━━━━━━━━━━━━━━━━━━━━━━┳━━━━━━━━━━━━━━━┓\n",
       "┃<span style=\"font-weight: bold\"> Layer (type)                    </span>┃<span style=\"font-weight: bold\"> Output Shape           </span>┃<span style=\"font-weight: bold\">       Param # </span>┃\n",
       "┡━━━━━━━━━━━━━━━━━━━━━━━━━━━━━━━━━╇━━━━━━━━━━━━━━━━━━━━━━━━╇━━━━━━━━━━━━━━━┩\n",
       "│ conv2d_net_0 (<span style=\"color: #0087ff; text-decoration-color: #0087ff\">Sequential</span>)       │ (<span style=\"color: #00d7ff; text-decoration-color: #00d7ff\">None</span>, <span style=\"color: #00af00; text-decoration-color: #00af00\">100</span>, <span style=\"color: #00af00; text-decoration-color: #00af00\">4</span>, <span style=\"color: #00af00; text-decoration-color: #00af00\">4</span>, <span style=\"color: #00af00; text-decoration-color: #00af00\">16</span>)  │           <span style=\"color: #00af00; text-decoration-color: #00af00\">800</span> │\n",
       "├─────────────────────────────────┼────────────────────────┼───────────────┤\n",
       "│ conv2d_net_1 (<span style=\"color: #0087ff; text-decoration-color: #0087ff\">Sequential</span>)       │ (<span style=\"color: #00d7ff; text-decoration-color: #00d7ff\">None</span>, <span style=\"color: #00af00; text-decoration-color: #00af00\">100</span>, <span style=\"color: #00af00; text-decoration-color: #00af00\">2</span>, <span style=\"color: #00af00; text-decoration-color: #00af00\">2</span>, <span style=\"color: #00af00; text-decoration-color: #00af00\">32</span>)  │         <span style=\"color: #00af00; text-decoration-color: #00af00\">4,768</span> │\n",
       "├─────────────────────────────────┼────────────────────────┼───────────────┤\n",
       "│ global_maxpool                  │ (<span style=\"color: #00d7ff; text-decoration-color: #00d7ff\">None</span>, <span style=\"color: #00af00; text-decoration-color: #00af00\">100</span>, <span style=\"color: #00af00; text-decoration-color: #00af00\">32</span>)        │             <span style=\"color: #00af00; text-decoration-color: #00af00\">0</span> │\n",
       "│ (<span style=\"color: #0087ff; text-decoration-color: #0087ff\">TimeDistributed</span>)               │                        │               │\n",
       "├─────────────────────────────────┼────────────────────────┼───────────────┤\n",
       "│ conv1d_net_0 (<span style=\"color: #0087ff; text-decoration-color: #0087ff\">Sequential</span>)       │ (<span style=\"color: #00d7ff; text-decoration-color: #00d7ff\">None</span>, <span style=\"color: #00af00; text-decoration-color: #00af00\">50</span>, <span style=\"color: #00af00; text-decoration-color: #00af00\">64</span>)         │         <span style=\"color: #00af00; text-decoration-color: #00af00\">8,768</span> │\n",
       "├─────────────────────────────────┼────────────────────────┼───────────────┤\n",
       "│ conv1d_net_1 (<span style=\"color: #0087ff; text-decoration-color: #0087ff\">Sequential</span>)       │ (<span style=\"color: #00d7ff; text-decoration-color: #00d7ff\">None</span>, <span style=\"color: #00af00; text-decoration-color: #00af00\">25</span>, <span style=\"color: #00af00; text-decoration-color: #00af00\">128</span>)        │        <span style=\"color: #00af00; text-decoration-color: #00af00\">25,216</span> │\n",
       "├─────────────────────────────────┼────────────────────────┼───────────────┤\n",
       "│ conv1d_net_2 (<span style=\"color: #0087ff; text-decoration-color: #0087ff\">Sequential</span>)       │ (<span style=\"color: #00d7ff; text-decoration-color: #00d7ff\">None</span>, <span style=\"color: #00af00; text-decoration-color: #00af00\">13</span>, <span style=\"color: #00af00; text-decoration-color: #00af00\">256</span>)        │        <span style=\"color: #00af00; text-decoration-color: #00af00\">99,584</span> │\n",
       "├─────────────────────────────────┼────────────────────────┼───────────────┤\n",
       "│ gru_1 (<span style=\"color: #0087ff; text-decoration-color: #0087ff\">GRU</span>)                     │ ?                      │   <span style=\"color: #00af00; text-decoration-color: #00af00\">0</span> (unbuilt) │\n",
       "├─────────────────────────────────┼────────────────────────┼───────────────┤\n",
       "│ GRU (<span style=\"color: #0087ff; text-decoration-color: #0087ff\">Bidirectional</span>)             │ (<span style=\"color: #00d7ff; text-decoration-color: #00d7ff\">None</span>, <span style=\"color: #00af00; text-decoration-color: #00af00\">512</span>)            │       <span style=\"color: #00af00; text-decoration-color: #00af00\">789,504</span> │\n",
       "├─────────────────────────────────┼────────────────────────┼───────────────┤\n",
       "│ flatten_1 (<span style=\"color: #0087ff; text-decoration-color: #0087ff\">Flatten</span>)             │ (<span style=\"color: #00d7ff; text-decoration-color: #00d7ff\">None</span>, <span style=\"color: #00af00; text-decoration-color: #00af00\">512</span>)            │             <span style=\"color: #00af00; text-decoration-color: #00af00\">0</span> │\n",
       "├─────────────────────────────────┼────────────────────────┼───────────────┤\n",
       "│ dense_3 (<span style=\"color: #0087ff; text-decoration-color: #0087ff\">Dense</span>)                 │ (<span style=\"color: #00d7ff; text-decoration-color: #00d7ff\">None</span>, <span style=\"color: #00af00; text-decoration-color: #00af00\">512</span>)            │       <span style=\"color: #00af00; text-decoration-color: #00af00\">269,824</span> │\n",
       "├─────────────────────────────────┼────────────────────────┼───────────────┤\n",
       "│ dense_4 (<span style=\"color: #0087ff; text-decoration-color: #0087ff\">Dense</span>)                 │ (<span style=\"color: #00d7ff; text-decoration-color: #00d7ff\">None</span>, <span style=\"color: #00af00; text-decoration-color: #00af00\">1</span>)              │           <span style=\"color: #00af00; text-decoration-color: #00af00\">513</span> │\n",
       "├─────────────────────────────────┼────────────────────────┼───────────────┤\n",
       "│ dense_5 (<span style=\"color: #0087ff; text-decoration-color: #0087ff\">Dense</span>)                 │ (<span style=\"color: #00d7ff; text-decoration-color: #00d7ff\">None</span>, <span style=\"color: #00af00; text-decoration-color: #00af00\">18</span>)             │         <span style=\"color: #00af00; text-decoration-color: #00af00\">9,234</span> │\n",
       "└─────────────────────────────────┴────────────────────────┴───────────────┘\n",
       "</pre>\n"
      ],
      "text/plain": [
       "┏━━━━━━━━━━━━━━━━━━━━━━━━━━━━━━━━━┳━━━━━━━━━━━━━━━━━━━━━━━━┳━━━━━━━━━━━━━━━┓\n",
       "┃\u001b[1m \u001b[0m\u001b[1mLayer (type)                   \u001b[0m\u001b[1m \u001b[0m┃\u001b[1m \u001b[0m\u001b[1mOutput Shape          \u001b[0m\u001b[1m \u001b[0m┃\u001b[1m \u001b[0m\u001b[1m      Param #\u001b[0m\u001b[1m \u001b[0m┃\n",
       "┡━━━━━━━━━━━━━━━━━━━━━━━━━━━━━━━━━╇━━━━━━━━━━━━━━━━━━━━━━━━╇━━━━━━━━━━━━━━━┩\n",
       "│ conv2d_net_0 (\u001b[38;5;33mSequential\u001b[0m)       │ (\u001b[38;5;45mNone\u001b[0m, \u001b[38;5;34m100\u001b[0m, \u001b[38;5;34m4\u001b[0m, \u001b[38;5;34m4\u001b[0m, \u001b[38;5;34m16\u001b[0m)  │           \u001b[38;5;34m800\u001b[0m │\n",
       "├─────────────────────────────────┼────────────────────────┼───────────────┤\n",
       "│ conv2d_net_1 (\u001b[38;5;33mSequential\u001b[0m)       │ (\u001b[38;5;45mNone\u001b[0m, \u001b[38;5;34m100\u001b[0m, \u001b[38;5;34m2\u001b[0m, \u001b[38;5;34m2\u001b[0m, \u001b[38;5;34m32\u001b[0m)  │         \u001b[38;5;34m4,768\u001b[0m │\n",
       "├─────────────────────────────────┼────────────────────────┼───────────────┤\n",
       "│ global_maxpool                  │ (\u001b[38;5;45mNone\u001b[0m, \u001b[38;5;34m100\u001b[0m, \u001b[38;5;34m32\u001b[0m)        │             \u001b[38;5;34m0\u001b[0m │\n",
       "│ (\u001b[38;5;33mTimeDistributed\u001b[0m)               │                        │               │\n",
       "├─────────────────────────────────┼────────────────────────┼───────────────┤\n",
       "│ conv1d_net_0 (\u001b[38;5;33mSequential\u001b[0m)       │ (\u001b[38;5;45mNone\u001b[0m, \u001b[38;5;34m50\u001b[0m, \u001b[38;5;34m64\u001b[0m)         │         \u001b[38;5;34m8,768\u001b[0m │\n",
       "├─────────────────────────────────┼────────────────────────┼───────────────┤\n",
       "│ conv1d_net_1 (\u001b[38;5;33mSequential\u001b[0m)       │ (\u001b[38;5;45mNone\u001b[0m, \u001b[38;5;34m25\u001b[0m, \u001b[38;5;34m128\u001b[0m)        │        \u001b[38;5;34m25,216\u001b[0m │\n",
       "├─────────────────────────────────┼────────────────────────┼───────────────┤\n",
       "│ conv1d_net_2 (\u001b[38;5;33mSequential\u001b[0m)       │ (\u001b[38;5;45mNone\u001b[0m, \u001b[38;5;34m13\u001b[0m, \u001b[38;5;34m256\u001b[0m)        │        \u001b[38;5;34m99,584\u001b[0m │\n",
       "├─────────────────────────────────┼────────────────────────┼───────────────┤\n",
       "│ gru_1 (\u001b[38;5;33mGRU\u001b[0m)                     │ ?                      │   \u001b[38;5;34m0\u001b[0m (unbuilt) │\n",
       "├─────────────────────────────────┼────────────────────────┼───────────────┤\n",
       "│ GRU (\u001b[38;5;33mBidirectional\u001b[0m)             │ (\u001b[38;5;45mNone\u001b[0m, \u001b[38;5;34m512\u001b[0m)            │       \u001b[38;5;34m789,504\u001b[0m │\n",
       "├─────────────────────────────────┼────────────────────────┼───────────────┤\n",
       "│ flatten_1 (\u001b[38;5;33mFlatten\u001b[0m)             │ (\u001b[38;5;45mNone\u001b[0m, \u001b[38;5;34m512\u001b[0m)            │             \u001b[38;5;34m0\u001b[0m │\n",
       "├─────────────────────────────────┼────────────────────────┼───────────────┤\n",
       "│ dense_3 (\u001b[38;5;33mDense\u001b[0m)                 │ (\u001b[38;5;45mNone\u001b[0m, \u001b[38;5;34m512\u001b[0m)            │       \u001b[38;5;34m269,824\u001b[0m │\n",
       "├─────────────────────────────────┼────────────────────────┼───────────────┤\n",
       "│ dense_4 (\u001b[38;5;33mDense\u001b[0m)                 │ (\u001b[38;5;45mNone\u001b[0m, \u001b[38;5;34m1\u001b[0m)              │           \u001b[38;5;34m513\u001b[0m │\n",
       "├─────────────────────────────────┼────────────────────────┼───────────────┤\n",
       "│ dense_5 (\u001b[38;5;33mDense\u001b[0m)                 │ (\u001b[38;5;45mNone\u001b[0m, \u001b[38;5;34m18\u001b[0m)             │         \u001b[38;5;34m9,234\u001b[0m │\n",
       "└─────────────────────────────────┴────────────────────────┴───────────────┘\n"
      ]
     },
     "metadata": {},
     "output_type": "display_data"
    },
    {
     "data": {
      "text/html": [
       "<pre style=\"white-space:pre;overflow-x:auto;line-height:normal;font-family:Menlo,'DejaVu Sans Mono',consolas,'Courier New',monospace\"><span style=\"font-weight: bold\"> Total params: </span><span style=\"color: #00af00; text-decoration-color: #00af00\">1,208,211</span> (4.61 MB)\n",
       "</pre>\n"
      ],
      "text/plain": [
       "\u001b[1m Total params: \u001b[0m\u001b[38;5;34m1,208,211\u001b[0m (4.61 MB)\n"
      ]
     },
     "metadata": {},
     "output_type": "display_data"
    },
    {
     "data": {
      "text/html": [
       "<pre style=\"white-space:pre;overflow-x:auto;line-height:normal;font-family:Menlo,'DejaVu Sans Mono',consolas,'Courier New',monospace\"><span style=\"font-weight: bold\"> Trainable params: </span><span style=\"color: #00af00; text-decoration-color: #00af00\">1,207,219</span> (4.61 MB)\n",
       "</pre>\n"
      ],
      "text/plain": [
       "\u001b[1m Trainable params: \u001b[0m\u001b[38;5;34m1,207,219\u001b[0m (4.61 MB)\n"
      ]
     },
     "metadata": {},
     "output_type": "display_data"
    },
    {
     "data": {
      "text/html": [
       "<pre style=\"white-space:pre;overflow-x:auto;line-height:normal;font-family:Menlo,'DejaVu Sans Mono',consolas,'Courier New',monospace\"><span style=\"font-weight: bold\"> Non-trainable params: </span><span style=\"color: #00af00; text-decoration-color: #00af00\">992</span> (3.88 KB)\n",
       "</pre>\n"
      ],
      "text/plain": [
       "\u001b[1m Non-trainable params: \u001b[0m\u001b[38;5;34m992\u001b[0m (3.88 KB)\n"
      ]
     },
     "metadata": {},
     "output_type": "display_data"
    }
   ],
   "source": [
    "new_model = RNNModel(kernel_size2d=3, kernel_size1d=3, filters_2d=[16, 32], dropout=0.2,\n",
    "                     filters_1d=[64, 128, 256], rnn_hidden_size=256, mode=\"GRU\", bidirectional=True,\n",
    "                     hidden_size=512, regularizer=\"l1l2\", l1_penalty=1e-3, l2_penalty=1e-4, binary=True)\n",
    "new_model.build(input_shapes=((None, 100, 8, 8, 5), (None, 100, 12), (None, 14)))\n",
    "new_model.load_weights(checkpoint_filepath)\n",
    "new_model.summary()"
   ]
  }
 ],
 "metadata": {
  "kaggle": {
   "accelerator": "none",
   "dataSources": [
    {
     "databundleVersionId": 12518947,
     "sourceId": 102335,
     "sourceType": "competition"
    },
    {
     "datasetId": 7856290,
     "sourceId": 12555917,
     "sourceType": "datasetVersion"
    },
    {
     "datasetId": 7889376,
     "sourceId": 12556297,
     "sourceType": "datasetVersion"
    }
   ],
   "dockerImageVersionId": 31089,
   "isGpuEnabled": false,
   "isInternetEnabled": false,
   "language": "python",
   "sourceType": "notebook"
  },
  "kernelspec": {
   "display_name": "Python 3",
   "language": "python",
   "name": "python3"
  },
  "language_info": {
   "codemirror_mode": {
    "name": "ipython",
    "version": 3
   },
   "file_extension": ".py",
   "mimetype": "text/x-python",
   "name": "python",
   "nbconvert_exporter": "python",
   "pygments_lexer": "ipython3",
   "version": "3.11.13"
  },
  "papermill": {
   "default_parameters": {},
   "duration": 28071.139893,
   "end_time": "2025-07-24T07:12:17.926044",
   "environment_variables": {},
   "exception": null,
   "input_path": "__notebook__.ipynb",
   "output_path": "__notebook__.ipynb",
   "parameters": {},
   "start_time": "2025-07-23T23:24:26.786151",
   "version": "2.6.0"
  }
 },
 "nbformat": 4,
 "nbformat_minor": 5
}
