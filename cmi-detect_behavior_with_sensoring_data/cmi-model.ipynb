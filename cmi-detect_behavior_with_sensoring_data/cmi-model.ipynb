{
 "cells": [
  {
   "cell_type": "code",
   "execution_count": 1,
   "id": "00578c15",
   "metadata": {
    "execution": {
     "iopub.execute_input": "2025-08-01T15:34:40.638422Z",
     "iopub.status.busy": "2025-08-01T15:34:40.638147Z",
     "iopub.status.idle": "2025-08-01T15:34:58.484328Z",
     "shell.execute_reply": "2025-08-01T15:34:58.483426Z"
    },
    "papermill": {
     "duration": 17.852661,
     "end_time": "2025-08-01T15:34:58.485721",
     "exception": false,
     "start_time": "2025-08-01T15:34:40.633060",
     "status": "completed"
    },
    "tags": []
   },
   "outputs": [
    {
     "name": "stderr",
     "output_type": "stream",
     "text": [
      "2025-08-01 15:34:42.234280: E external/local_xla/xla/stream_executor/cuda/cuda_fft.cc:477] Unable to register cuFFT factory: Attempting to register factory for plugin cuFFT when one has already been registered\n",
      "WARNING: All log messages before absl::InitializeLog() is called are written to STDERR\n",
      "E0000 00:00:1754062482.418522      19 cuda_dnn.cc:8310] Unable to register cuDNN factory: Attempting to register factory for plugin cuDNN when one has already been registered\n",
      "E0000 00:00:1754062482.469840      19 cuda_blas.cc:1418] Unable to register cuBLAS factory: Attempting to register factory for plugin cuBLAS when one has already been registered\n",
      "I0000 00:00:1754062498.310167      19 gpu_device.cc:2022] Created device /job:localhost/replica:0/task:0/device:GPU:0 with 15513 MB memory:  -> device: 0, name: Tesla P100-PCIE-16GB, pci bus id: 0000:00:04.0, compute capability: 6.0\n"
     ]
    }
   ],
   "source": [
    "import tensorflow as tf\n",
    "from tensorflow.keras import Model\n",
    "import numpy as np\n",
    "import pandas as pd\n",
    "import warnings\n",
    "warnings.filterwarnings(\"ignore\")\n",
    "\n",
    "tf.random.set_seed(42)\n",
    "type_train_ds = tf.data.experimental.load(\"/kaggle/input/cmi-tf-datasets/type_train_ds\")\n",
    "type_valid_ds = tf.data.experimental.load(\"/kaggle/input/cmi-tf-datasets/type_valid_ds\")\n",
    "gesture_train_ds = tf.data.experimental.load(\"/kaggle/input/cmi-tf-datasets/gesture_train_ds\")\n",
    "gesture_valid_ds = tf.data.experimental.load(\"/kaggle/input/cmi-tf-datasets/gesture_valid_ds\")\n",
    "test_ds = tf.data.experimental.load(\"/kaggle/input/cmi-tf-datasets/test_ds\")"
   ]
  },
  {
   "cell_type": "code",
   "execution_count": 2,
   "id": "e74e1347",
   "metadata": {
    "execution": {
     "iopub.execute_input": "2025-08-01T15:34:58.494552Z",
     "iopub.status.busy": "2025-08-01T15:34:58.494056Z",
     "iopub.status.idle": "2025-08-01T15:36:17.339639Z",
     "shell.execute_reply": "2025-08-01T15:36:17.338813Z"
    },
    "papermill": {
     "duration": 78.851572,
     "end_time": "2025-08-01T15:36:17.341279",
     "exception": false,
     "start_time": "2025-08-01T15:34:58.489707",
     "status": "completed"
    },
    "tags": []
   },
   "outputs": [],
   "source": [
    "a = pd.read_csv(\"/kaggle/input/preprocessed-dataset/preprocessed_train.csv\")"
   ]
  },
  {
   "cell_type": "code",
   "execution_count": 3,
   "id": "96ef291f",
   "metadata": {
    "execution": {
     "iopub.execute_input": "2025-08-01T15:36:17.350622Z",
     "iopub.status.busy": "2025-08-01T15:36:17.350343Z",
     "iopub.status.idle": "2025-08-01T15:36:18.721703Z",
     "shell.execute_reply": "2025-08-01T15:36:18.720873Z"
    },
    "papermill": {
     "duration": 1.377515,
     "end_time": "2025-08-01T15:36:18.723252",
     "exception": false,
     "start_time": "2025-08-01T15:36:17.345737",
     "status": "completed"
    },
    "tags": []
   },
   "outputs": [
    {
     "data": {
      "text/plain": [
       "Series([], dtype: int64)"
      ]
     },
     "execution_count": 3,
     "metadata": {},
     "output_type": "execute_result"
    }
   ],
   "source": [
    "a.isnull().sum()[a.isnull().sum() > 0]"
   ]
  },
  {
   "cell_type": "code",
   "execution_count": 4,
   "id": "7ee05ebb",
   "metadata": {
    "execution": {
     "iopub.execute_input": "2025-08-01T15:36:18.732394Z",
     "iopub.status.busy": "2025-08-01T15:36:18.732123Z",
     "iopub.status.idle": "2025-08-01T15:36:18.736215Z",
     "shell.execute_reply": "2025-08-01T15:36:18.735384Z"
    },
    "papermill": {
     "duration": 0.0099,
     "end_time": "2025-08-01T15:36:18.737468",
     "exception": false,
     "start_time": "2025-08-01T15:36:18.727568",
     "status": "completed"
    },
    "tags": []
   },
   "outputs": [],
   "source": [
    "# print(\"Num GPUs Available: \", len(tf.config.list_physical_devices('GPU')))"
   ]
  },
  {
   "cell_type": "code",
   "execution_count": 5,
   "id": "1516aa31",
   "metadata": {
    "execution": {
     "iopub.execute_input": "2025-08-01T15:36:18.746011Z",
     "iopub.status.busy": "2025-08-01T15:36:18.745725Z",
     "iopub.status.idle": "2025-08-01T15:36:18.752269Z",
     "shell.execute_reply": "2025-08-01T15:36:18.751490Z"
    },
    "papermill": {
     "duration": 0.012168,
     "end_time": "2025-08-01T15:36:18.753499",
     "exception": false,
     "start_time": "2025-08-01T15:36:18.741331",
     "status": "completed"
    },
    "tags": []
   },
   "outputs": [
    {
     "name": "stdout",
     "output_type": "stream",
     "text": [
      "190\n",
      "48\n",
      "190\n",
      "48\n",
      "1\n"
     ]
    }
   ],
   "source": [
    "print(len(type_train_ds))\n",
    "print(len(type_valid_ds))\n",
    "print(len(gesture_train_ds))\n",
    "print(len(gesture_valid_ds))\n",
    "\n",
    "print(len(test_ds))"
   ]
  },
  {
   "cell_type": "code",
   "execution_count": 6,
   "id": "99c149cc",
   "metadata": {
    "execution": {
     "iopub.execute_input": "2025-08-01T15:36:18.762678Z",
     "iopub.status.busy": "2025-08-01T15:36:18.762038Z",
     "iopub.status.idle": "2025-08-01T15:36:19.017881Z",
     "shell.execute_reply": "2025-08-01T15:36:19.017057Z"
    },
    "papermill": {
     "duration": 0.262044,
     "end_time": "2025-08-01T15:36:19.019567",
     "exception": false,
     "start_time": "2025-08-01T15:36:18.757523",
     "status": "completed"
    },
    "tags": []
   },
   "outputs": [
    {
     "name": "stdout",
     "output_type": "stream",
     "text": [
      "(32, 100, 8, 8, 5)\n",
      "(32, 1)\n"
     ]
    }
   ],
   "source": [
    "for i, (inputs, targets) in enumerate(type_train_ds):\n",
    "    if i==0:\n",
    "        print(inputs[0].shape)\n",
    "        print(targets.shape)\n",
    "        break"
   ]
  },
  {
   "cell_type": "code",
   "execution_count": 7,
   "id": "cc48bac6",
   "metadata": {
    "execution": {
     "iopub.execute_input": "2025-08-01T15:36:19.030027Z",
     "iopub.status.busy": "2025-08-01T15:36:19.029734Z",
     "iopub.status.idle": "2025-08-01T15:36:19.053357Z",
     "shell.execute_reply": "2025-08-01T15:36:19.052775Z"
    },
    "papermill": {
     "duration": 0.030335,
     "end_time": "2025-08-01T15:36:19.054451",
     "exception": false,
     "start_time": "2025-08-01T15:36:19.024116",
     "status": "completed"
    },
    "tags": []
   },
   "outputs": [],
   "source": [
    "from tensorflow.keras.layers import Conv2D, Conv1D, BatchNormalization, TimeDistributed\n",
    "from tensorflow.keras.layers import AveragePooling2D, GlobalAveragePooling2D, AveragePooling1D, Dropout\n",
    "from tensorflow.keras.layers import SimpleRNN, LSTM, GRU, Bidirectional, Flatten, Dense\n",
    "from tensorflow.keras.layers import ReLU, ELU\n",
    "from tensorflow.keras.regularizers import L1, L2, L1L2\n",
    "from tensorflow.keras import Sequential\n",
    "\n",
    "# from keras.src import tree\n",
    "# from keras.src.trainers.data_adapters import data_adapter_utils\n",
    "# from keras.saving import register_keras_serializable\n",
    "\n",
    "# @register_keras_serializable(\"RNNModel\")\n",
    "class RNNModel(Model):\n",
    "    def __init__(self, kernel_size2d=3, kernel_size1d=3, filters_2d=[16, 32], dropout=0.2, \n",
    "                 filters_1d=[16, 32], rnn_hidden_size=32, mode=\"RNN\", bidirectional=False,\n",
    "                 hidden_size=64, regularizer=\"l1\", l1_penalty=0.1, l2_penalty=0.1, \n",
    "                 binary=True, **kwargs):\n",
    "        super().__init__(**kwargs)\n",
    "        self.hidden_size = hidden_size\n",
    "        \n",
    "        self.conv2d_nets = []\n",
    "        for i in range(len(filters_2d)):\n",
    "            conv2d_net = Sequential([\n",
    "                TimeDistributed(Conv2D(filters_2d[i], kernel_size2d, padding=\"same\", kernel_initializer=\"he_normal\")),\n",
    "                TimeDistributed(BatchNormalization()),\n",
    "                TimeDistributed(ReLU()),\n",
    "                TimeDistributed(AveragePooling2D(pool_size=2, strides=2, padding=\"same\")),\n",
    "                TimeDistributed(Dropout(dropout))\n",
    "            ], name=f\"conv2d_net_{i}\")\n",
    "            self.conv2d_nets.append(conv2d_net)\n",
    "        self.global_avgpool = TimeDistributed(GlobalAveragePooling2D(), name=\"global_avgpool\")\n",
    "\n",
    "        self.conv1d_nets = []\n",
    "        for i in range(len(filters_1d)):\n",
    "            conv1d_net = Sequential([\n",
    "                Conv1D(filters_1d[i], kernel_size1d, padding=\"same\", kernel_initializer=\"he_normal\"),\n",
    "                BatchNormalization(),\n",
    "                ELU(),\n",
    "                AveragePooling1D(pool_size=2, strides=2, padding=\"same\"),\n",
    "                Dropout(dropout)\n",
    "            ], name=f\"conv1d_net_{i}\")\n",
    "            self.conv1d_nets.append(conv1d_net)\n",
    "\n",
    "        if mode == \"RNN\":\n",
    "            self.rnn = SimpleRNN(rnn_hidden_size, kernel_initializer=\"glorot_normal\", recurrent_initializer=\"orthogonal\", \n",
    "                                 dropout=dropout, recurrent_dropout=dropout)\n",
    "        elif mode == \"LSTM\":\n",
    "            self.rnn = LSTM(rnn_hidden_size, kernel_initializer=\"glorot_normal\", recurrent_initializer=\"orthogonal\", \n",
    "                            dropout=dropout, recurrent_dropout=dropout)\n",
    "        else:\n",
    "            self.rnn = GRU(rnn_hidden_size, kernel_initializer=\"glorot_normal\", recurrent_initializer=\"orthogonal\", \n",
    "                           dropout=dropout, recurrent_dropout=dropout)\n",
    "        \n",
    "        if bidirectional:\n",
    "            self.rnn = Bidirectional(self.rnn, name=mode)\n",
    "\n",
    "        self.flatten = Flatten()\n",
    "\n",
    "        if regularizer == \"l1\":\n",
    "            self.dense0 = Dense(hidden_size, activation=\"relu\", \n",
    "                                kernel_regularizer=L1(l1_penalty),\n",
    "                                bias_regularizer=L1(l1_penalty))\n",
    "            self.dense1_0 = Dense(1, activation=\"sigmoid\",\n",
    "                                  kernel_regularizer=L1(l1_penalty),\n",
    "                                  bias_regularizer=L1(l1_penalty))\n",
    "            self.dense1_1 = Dense(18, activation=\"softmax\", kernel_initializer=\"glorot_normal\",\n",
    "                                  kernel_regularizer=L1(l1_penalty),\n",
    "                                  bias_regularizer=L1(l1_penalty))\n",
    "        elif regularizer == \"l2\":\n",
    "            self.dense0 = Dense(hidden_size, activation=\"relu\", \n",
    "                                kernel_regularizer=L2(l2_penalty),\n",
    "                                bias_regularizer=L2(l2_penalty))\n",
    "            self.dense1_0 = Dense(1, activation=\"sigmoid\", \n",
    "                                  kernel_regularizer=L2(l2_penalty),\n",
    "                                  bias_regularizer=L2(l2_penalty))\n",
    "            self.dense1_1 = Dense(18, activation=\"softmax\", kernel_initializer=\"glorot_normal\",\n",
    "                                  kernel_regularizer=L2(l2_penalty),\n",
    "                                  bias_regularizer=L2(l2_penalty))\n",
    "        elif regularizer == \"l1l2\":\n",
    "            self.dense0 = Dense(hidden_size, activation=\"relu\", \n",
    "                                kernel_regularizer=L1L2(l1_penalty, l2_penalty),\n",
    "                                bias_regularizer=L1L2(l1_penalty, l2_penalty))\n",
    "            self.dense1_0 = Dense(1, activation=\"sigmoid\", \n",
    "                                  kernel_regularizer=L1L2(l1_penalty, l2_penalty),\n",
    "                                  bias_regularizer=L1L2(l1_penalty, l2_penalty))\n",
    "            self.dense1_1 = Dense(18, activation=\"softmax\", kernel_initializer=\"glorot_normal\",\n",
    "                                  kernel_regularizer=L1L2(l1_penalty, l2_penalty),\n",
    "                                  bias_regularizer=L1L2(l1_penalty, l2_penalty))\n",
    "        else:\n",
    "            self.dense0 = Dense(hidden_size, activation=\"relu\")\n",
    "            self.dense1_0 = Dense(1, activation=\"sigmoid\")\n",
    "            self.dense1_1 = Dense(18, activation=\"softmax\")\n",
    "\n",
    "        self.binary = binary\n",
    "\n",
    "    def build(self, input_shapes, training=False):\n",
    "        shape = input_shapes[0]\n",
    "        for i in range(len(self.conv2d_nets)):\n",
    "            self.conv2d_nets[i].build(shape)\n",
    "            shape = self.conv2d_nets[i].compute_output_shape(shape)\n",
    "        self.global_avgpool.build(shape)\n",
    "        shape = self.global_avgpool.compute_output_shape(shape)\n",
    "        shape = (shape[0], shape[1], shape[2] + input_shapes[1][2])\n",
    "\n",
    "        for i in range(len(self.conv1d_nets)):\n",
    "            self.conv1d_nets[i].build(shape)\n",
    "            shape = self.conv1d_nets[i].compute_output_shape(shape)\n",
    "\n",
    "        self.rnn.build(shape)\n",
    "        shape = self.rnn.compute_output_shape(shape)\n",
    "\n",
    "        self.flatten.build(shape)\n",
    "        shape = self.flatten.compute_output_shape(shape)\n",
    "\n",
    "        shape = (shape[0], shape[1] + input_shapes[2][1])\n",
    "        self.dense0.build(shape)\n",
    "        shape = self.dense0.compute_output_shape(shape)\n",
    "\n",
    "        self.dense1_0.build(shape)\n",
    "        self.dense1_1.build(shape)\n",
    "        \n",
    "\n",
    "    def call(self, inputs, training=False):\n",
    "        image_out = inputs[0]\n",
    "        for i in range(len(self.conv2d_nets)):\n",
    "            image_out = self.conv2d_nets[i](image_out, training=training)\n",
    "        image_out = self.global_avgpool(image_out)   # (batch, timestep, filters)\n",
    "\n",
    "        out = tf.concat([image_out, inputs[1]], axis=-1)\n",
    "        for i in range(len(self.conv1d_nets)):\n",
    "            out = self.conv1d_nets[i](out, training=training)\n",
    "        \n",
    "        out = self.rnn(out, training=training)        # (batch, downsampled_timestep, rnn_hidden_size)\n",
    "        out = self.flatten(out)                       # (batch, downsampled_timestep*rnn_hidden_size)\n",
    "        \n",
    "        out = tf.concat([out, inputs[2]], axis=-1)\n",
    "        out = self.dense0(out)\n",
    "        if self.binary:\n",
    "            out = self.dense1_0(out)\n",
    "        else:\n",
    "            out = self.dense1_1(out)\n",
    "        return out\n",
    "\n",
    "    def set_binary(self):\n",
    "        self.binary = True\n",
    "        if self.dense1_0.build == False:\n",
    "            self.dense1_0.build(input_shape=(None, self.hidden_size))\n",
    "\n",
    "    def set_multi(self):\n",
    "        self.binary = False\n",
    "        if self.dense1_1.build == False:\n",
    "            self.dense1_1.build(input_shape=(None, self.hidden_size))\n",
    "\n",
    "    def freeze_conv_timeseries(self):\n",
    "        for i in range(len(self.conv2d_nets)):\n",
    "            self.conv2d_nets[i].trainable = False\n",
    "        for i in range(len(self.conv1d_nets)):\n",
    "            self.conv1d_nets[i].trainable = False\n",
    "        self.rnn.trainable = False"
   ]
  },
  {
   "cell_type": "code",
   "execution_count": 8,
   "id": "1c7b3941",
   "metadata": {
    "execution": {
     "iopub.execute_input": "2025-08-01T15:36:19.062729Z",
     "iopub.status.busy": "2025-08-01T15:36:19.062270Z",
     "iopub.status.idle": "2025-08-01T15:36:19.121784Z",
     "shell.execute_reply": "2025-08-01T15:36:19.121051Z"
    },
    "papermill": {
     "duration": 0.065048,
     "end_time": "2025-08-01T15:36:19.123164",
     "exception": false,
     "start_time": "2025-08-01T15:36:19.058116",
     "status": "completed"
    },
    "tags": []
   },
   "outputs": [
    {
     "name": "stdout",
     "output_type": "stream",
     "text": [
      "(32, 100, 8, 8, 5)\n",
      "(32, 100, 7)\n",
      "(32, 6)\n"
     ]
    }
   ],
   "source": [
    "for i, (inputs, targets) in enumerate(type_train_ds):\n",
    "    if i == 0:\n",
    "        print(inputs[0].shape)\n",
    "        print(inputs[1].shape)\n",
    "        print(inputs[2].shape)\n",
    "        break"
   ]
  },
  {
   "cell_type": "code",
   "execution_count": 9,
   "id": "b7679f15",
   "metadata": {
    "execution": {
     "iopub.execute_input": "2025-08-01T15:36:19.131835Z",
     "iopub.status.busy": "2025-08-01T15:36:19.131616Z",
     "iopub.status.idle": "2025-08-01T15:36:19.139563Z",
     "shell.execute_reply": "2025-08-01T15:36:19.138926Z"
    },
    "papermill": {
     "duration": 0.013524,
     "end_time": "2025-08-01T15:36:19.140786",
     "exception": false,
     "start_time": "2025-08-01T15:36:19.127262",
     "status": "completed"
    },
    "tags": []
   },
   "outputs": [],
   "source": [
    "import json\n",
    "\n",
    "with open('/kaggle/input/cmi-tf-datasets/sample_weight.json') as f:\n",
    "    sample_weight_dict = json.load(f)\n",
    "\n",
    "type_sample_weight = sample_weight_dict[\"type_sample_weight\"]\n",
    "type_class_weight = {0: type_sample_weight[0], 1: type_sample_weight[1]}\n",
    "\n",
    "gesture_sample_weight = sample_weight_dict[\"gesture_sample_weight\"]\n",
    "gesture_class_weight = {i: gesture_sample_weight[i] for i in range(len(gesture_sample_weight))}"
   ]
  },
  {
   "cell_type": "code",
   "execution_count": 10,
   "id": "3171430a",
   "metadata": {
    "execution": {
     "iopub.execute_input": "2025-08-01T15:36:19.148894Z",
     "iopub.status.busy": "2025-08-01T15:36:19.148669Z",
     "iopub.status.idle": "2025-08-01T15:36:19.152907Z",
     "shell.execute_reply": "2025-08-01T15:36:19.152347Z"
    },
    "papermill": {
     "duration": 0.009653,
     "end_time": "2025-08-01T15:36:19.154158",
     "exception": false,
     "start_time": "2025-08-01T15:36:19.144505",
     "status": "completed"
    },
    "tags": []
   },
   "outputs": [],
   "source": [
    "def add_type_sample_weight(x, y):\n",
    "    y_int = tf.cast(y, tf.int32)\n",
    "    weight = tf.gather([type_class_weight[0], type_class_weight[1]], y_int)\n",
    "    return x, y, weight\n",
    "\n",
    "def add_gesture_sample_weight(x, y):\n",
    "    y_arg = tf.argmax(y)\n",
    "    weight = tf.gather(gesture_sample_weight, y_arg)\n",
    "    return x, y, weight"
   ]
  },
  {
   "cell_type": "code",
   "execution_count": 11,
   "id": "ab9a85f6",
   "metadata": {
    "execution": {
     "iopub.execute_input": "2025-08-01T15:36:19.162734Z",
     "iopub.status.busy": "2025-08-01T15:36:19.162476Z",
     "iopub.status.idle": "2025-08-01T15:36:19.262694Z",
     "shell.execute_reply": "2025-08-01T15:36:19.262059Z"
    },
    "papermill": {
     "duration": 0.106183,
     "end_time": "2025-08-01T15:36:19.264275",
     "exception": false,
     "start_time": "2025-08-01T15:36:19.158092",
     "status": "completed"
    },
    "tags": []
   },
   "outputs": [],
   "source": [
    "type_train_ds = type_train_ds.unbatch().map(add_type_sample_weight).batch(16)\n",
    "type_valid_ds = type_valid_ds.unbatch().map(add_type_sample_weight).batch(16)"
   ]
  },
  {
   "cell_type": "code",
   "execution_count": 12,
   "id": "06eb49fe",
   "metadata": {
    "execution": {
     "iopub.execute_input": "2025-08-01T15:36:19.273671Z",
     "iopub.status.busy": "2025-08-01T15:36:19.273407Z",
     "iopub.status.idle": "2025-08-01T15:36:19.276605Z",
     "shell.execute_reply": "2025-08-01T15:36:19.276003Z"
    },
    "papermill": {
     "duration": 0.00901,
     "end_time": "2025-08-01T15:36:19.277749",
     "exception": false,
     "start_time": "2025-08-01T15:36:19.268739",
     "status": "completed"
    },
    "tags": []
   },
   "outputs": [],
   "source": [
    "# gesture_train_ds = gesture_train_ds.unbatch().map(add_gesture_sample_weight).batch(16)\n",
    "# gesture_valid_ds = gesture_valid_ds.unbatch().map(add_gesture_sample_weight).batch(16)"
   ]
  },
  {
   "cell_type": "code",
   "execution_count": 13,
   "id": "3e5bf457",
   "metadata": {
    "execution": {
     "iopub.execute_input": "2025-08-01T15:36:19.286364Z",
     "iopub.status.busy": "2025-08-01T15:36:19.286142Z",
     "iopub.status.idle": "2025-08-01T15:36:21.000813Z",
     "shell.execute_reply": "2025-08-01T15:36:20.999999Z"
    },
    "papermill": {
     "duration": 1.720625,
     "end_time": "2025-08-01T15:36:21.002294",
     "exception": false,
     "start_time": "2025-08-01T15:36:19.281669",
     "status": "completed"
    },
    "tags": []
   },
   "outputs": [
    {
     "data": {
      "text/html": [
       "<pre style=\"white-space:pre;overflow-x:auto;line-height:normal;font-family:Menlo,'DejaVu Sans Mono',consolas,'Courier New',monospace\"><span style=\"font-weight: bold\">Model: \"rnn_model\"</span>\n",
       "</pre>\n"
      ],
      "text/plain": [
       "\u001b[1mModel: \"rnn_model\"\u001b[0m\n"
      ]
     },
     "metadata": {},
     "output_type": "display_data"
    },
    {
     "data": {
      "text/html": [
       "<pre style=\"white-space:pre;overflow-x:auto;line-height:normal;font-family:Menlo,'DejaVu Sans Mono',consolas,'Courier New',monospace\">┏━━━━━━━━━━━━━━━━━━━━━━━━━━━━━━━━━┳━━━━━━━━━━━━━━━━━━━━━━━━┳━━━━━━━━━━━━━━━┓\n",
       "┃<span style=\"font-weight: bold\"> Layer (type)                    </span>┃<span style=\"font-weight: bold\"> Output Shape           </span>┃<span style=\"font-weight: bold\">       Param # </span>┃\n",
       "┡━━━━━━━━━━━━━━━━━━━━━━━━━━━━━━━━━╇━━━━━━━━━━━━━━━━━━━━━━━━╇━━━━━━━━━━━━━━━┩\n",
       "│ conv2d_net_0 (<span style=\"color: #0087ff; text-decoration-color: #0087ff\">Sequential</span>)       │ (<span style=\"color: #00d7ff; text-decoration-color: #00d7ff\">None</span>, <span style=\"color: #00af00; text-decoration-color: #00af00\">100</span>, <span style=\"color: #00af00; text-decoration-color: #00af00\">4</span>, <span style=\"color: #00af00; text-decoration-color: #00af00\">4</span>, <span style=\"color: #00af00; text-decoration-color: #00af00\">16</span>)  │           <span style=\"color: #00af00; text-decoration-color: #00af00\">800</span> │\n",
       "├─────────────────────────────────┼────────────────────────┼───────────────┤\n",
       "│ conv2d_net_1 (<span style=\"color: #0087ff; text-decoration-color: #0087ff\">Sequential</span>)       │ (<span style=\"color: #00d7ff; text-decoration-color: #00d7ff\">None</span>, <span style=\"color: #00af00; text-decoration-color: #00af00\">100</span>, <span style=\"color: #00af00; text-decoration-color: #00af00\">2</span>, <span style=\"color: #00af00; text-decoration-color: #00af00\">2</span>, <span style=\"color: #00af00; text-decoration-color: #00af00\">32</span>)  │         <span style=\"color: #00af00; text-decoration-color: #00af00\">4,768</span> │\n",
       "├─────────────────────────────────┼────────────────────────┼───────────────┤\n",
       "│ global_avgpool                  │ (<span style=\"color: #00d7ff; text-decoration-color: #00d7ff\">None</span>, <span style=\"color: #00af00; text-decoration-color: #00af00\">100</span>, <span style=\"color: #00af00; text-decoration-color: #00af00\">32</span>)        │             <span style=\"color: #00af00; text-decoration-color: #00af00\">0</span> │\n",
       "│ (<span style=\"color: #0087ff; text-decoration-color: #0087ff\">TimeDistributed</span>)               │                        │               │\n",
       "├─────────────────────────────────┼────────────────────────┼───────────────┤\n",
       "│ conv1d_net_0 (<span style=\"color: #0087ff; text-decoration-color: #0087ff\">Sequential</span>)       │ (<span style=\"color: #00d7ff; text-decoration-color: #00d7ff\">None</span>, <span style=\"color: #00af00; text-decoration-color: #00af00\">50</span>, <span style=\"color: #00af00; text-decoration-color: #00af00\">64</span>)         │         <span style=\"color: #00af00; text-decoration-color: #00af00\">7,808</span> │\n",
       "├─────────────────────────────────┼────────────────────────┼───────────────┤\n",
       "│ conv1d_net_1 (<span style=\"color: #0087ff; text-decoration-color: #0087ff\">Sequential</span>)       │ (<span style=\"color: #00d7ff; text-decoration-color: #00d7ff\">None</span>, <span style=\"color: #00af00; text-decoration-color: #00af00\">25</span>, <span style=\"color: #00af00; text-decoration-color: #00af00\">128</span>)        │        <span style=\"color: #00af00; text-decoration-color: #00af00\">25,216</span> │\n",
       "├─────────────────────────────────┼────────────────────────┼───────────────┤\n",
       "│ conv1d_net_2 (<span style=\"color: #0087ff; text-decoration-color: #0087ff\">Sequential</span>)       │ (<span style=\"color: #00d7ff; text-decoration-color: #00d7ff\">None</span>, <span style=\"color: #00af00; text-decoration-color: #00af00\">13</span>, <span style=\"color: #00af00; text-decoration-color: #00af00\">256</span>)        │        <span style=\"color: #00af00; text-decoration-color: #00af00\">99,584</span> │\n",
       "├─────────────────────────────────┼────────────────────────┼───────────────┤\n",
       "│ gru (<span style=\"color: #0087ff; text-decoration-color: #0087ff\">GRU</span>)                       │ ?                      │   <span style=\"color: #00af00; text-decoration-color: #00af00\">0</span> (unbuilt) │\n",
       "├─────────────────────────────────┼────────────────────────┼───────────────┤\n",
       "│ GRU (<span style=\"color: #0087ff; text-decoration-color: #0087ff\">Bidirectional</span>)             │ (<span style=\"color: #00d7ff; text-decoration-color: #00d7ff\">None</span>, <span style=\"color: #00af00; text-decoration-color: #00af00\">512</span>)            │       <span style=\"color: #00af00; text-decoration-color: #00af00\">789,504</span> │\n",
       "├─────────────────────────────────┼────────────────────────┼───────────────┤\n",
       "│ flatten (<span style=\"color: #0087ff; text-decoration-color: #0087ff\">Flatten</span>)               │ (<span style=\"color: #00d7ff; text-decoration-color: #00d7ff\">None</span>, <span style=\"color: #00af00; text-decoration-color: #00af00\">512</span>)            │             <span style=\"color: #00af00; text-decoration-color: #00af00\">0</span> │\n",
       "├─────────────────────────────────┼────────────────────────┼───────────────┤\n",
       "│ dense (<span style=\"color: #0087ff; text-decoration-color: #0087ff\">Dense</span>)                   │ (<span style=\"color: #00d7ff; text-decoration-color: #00d7ff\">None</span>, <span style=\"color: #00af00; text-decoration-color: #00af00\">512</span>)            │       <span style=\"color: #00af00; text-decoration-color: #00af00\">265,728</span> │\n",
       "├─────────────────────────────────┼────────────────────────┼───────────────┤\n",
       "│ dense_1 (<span style=\"color: #0087ff; text-decoration-color: #0087ff\">Dense</span>)                 │ (<span style=\"color: #00d7ff; text-decoration-color: #00d7ff\">None</span>, <span style=\"color: #00af00; text-decoration-color: #00af00\">1</span>)              │           <span style=\"color: #00af00; text-decoration-color: #00af00\">513</span> │\n",
       "├─────────────────────────────────┼────────────────────────┼───────────────┤\n",
       "│ dense_2 (<span style=\"color: #0087ff; text-decoration-color: #0087ff\">Dense</span>)                 │ (<span style=\"color: #00d7ff; text-decoration-color: #00d7ff\">None</span>, <span style=\"color: #00af00; text-decoration-color: #00af00\">18</span>)             │         <span style=\"color: #00af00; text-decoration-color: #00af00\">9,234</span> │\n",
       "└─────────────────────────────────┴────────────────────────┴───────────────┘\n",
       "</pre>\n"
      ],
      "text/plain": [
       "┏━━━━━━━━━━━━━━━━━━━━━━━━━━━━━━━━━┳━━━━━━━━━━━━━━━━━━━━━━━━┳━━━━━━━━━━━━━━━┓\n",
       "┃\u001b[1m \u001b[0m\u001b[1mLayer (type)                   \u001b[0m\u001b[1m \u001b[0m┃\u001b[1m \u001b[0m\u001b[1mOutput Shape          \u001b[0m\u001b[1m \u001b[0m┃\u001b[1m \u001b[0m\u001b[1m      Param #\u001b[0m\u001b[1m \u001b[0m┃\n",
       "┡━━━━━━━━━━━━━━━━━━━━━━━━━━━━━━━━━╇━━━━━━━━━━━━━━━━━━━━━━━━╇━━━━━━━━━━━━━━━┩\n",
       "│ conv2d_net_0 (\u001b[38;5;33mSequential\u001b[0m)       │ (\u001b[38;5;45mNone\u001b[0m, \u001b[38;5;34m100\u001b[0m, \u001b[38;5;34m4\u001b[0m, \u001b[38;5;34m4\u001b[0m, \u001b[38;5;34m16\u001b[0m)  │           \u001b[38;5;34m800\u001b[0m │\n",
       "├─────────────────────────────────┼────────────────────────┼───────────────┤\n",
       "│ conv2d_net_1 (\u001b[38;5;33mSequential\u001b[0m)       │ (\u001b[38;5;45mNone\u001b[0m, \u001b[38;5;34m100\u001b[0m, \u001b[38;5;34m2\u001b[0m, \u001b[38;5;34m2\u001b[0m, \u001b[38;5;34m32\u001b[0m)  │         \u001b[38;5;34m4,768\u001b[0m │\n",
       "├─────────────────────────────────┼────────────────────────┼───────────────┤\n",
       "│ global_avgpool                  │ (\u001b[38;5;45mNone\u001b[0m, \u001b[38;5;34m100\u001b[0m, \u001b[38;5;34m32\u001b[0m)        │             \u001b[38;5;34m0\u001b[0m │\n",
       "│ (\u001b[38;5;33mTimeDistributed\u001b[0m)               │                        │               │\n",
       "├─────────────────────────────────┼────────────────────────┼───────────────┤\n",
       "│ conv1d_net_0 (\u001b[38;5;33mSequential\u001b[0m)       │ (\u001b[38;5;45mNone\u001b[0m, \u001b[38;5;34m50\u001b[0m, \u001b[38;5;34m64\u001b[0m)         │         \u001b[38;5;34m7,808\u001b[0m │\n",
       "├─────────────────────────────────┼────────────────────────┼───────────────┤\n",
       "│ conv1d_net_1 (\u001b[38;5;33mSequential\u001b[0m)       │ (\u001b[38;5;45mNone\u001b[0m, \u001b[38;5;34m25\u001b[0m, \u001b[38;5;34m128\u001b[0m)        │        \u001b[38;5;34m25,216\u001b[0m │\n",
       "├─────────────────────────────────┼────────────────────────┼───────────────┤\n",
       "│ conv1d_net_2 (\u001b[38;5;33mSequential\u001b[0m)       │ (\u001b[38;5;45mNone\u001b[0m, \u001b[38;5;34m13\u001b[0m, \u001b[38;5;34m256\u001b[0m)        │        \u001b[38;5;34m99,584\u001b[0m │\n",
       "├─────────────────────────────────┼────────────────────────┼───────────────┤\n",
       "│ gru (\u001b[38;5;33mGRU\u001b[0m)                       │ ?                      │   \u001b[38;5;34m0\u001b[0m (unbuilt) │\n",
       "├─────────────────────────────────┼────────────────────────┼───────────────┤\n",
       "│ GRU (\u001b[38;5;33mBidirectional\u001b[0m)             │ (\u001b[38;5;45mNone\u001b[0m, \u001b[38;5;34m512\u001b[0m)            │       \u001b[38;5;34m789,504\u001b[0m │\n",
       "├─────────────────────────────────┼────────────────────────┼───────────────┤\n",
       "│ flatten (\u001b[38;5;33mFlatten\u001b[0m)               │ (\u001b[38;5;45mNone\u001b[0m, \u001b[38;5;34m512\u001b[0m)            │             \u001b[38;5;34m0\u001b[0m │\n",
       "├─────────────────────────────────┼────────────────────────┼───────────────┤\n",
       "│ dense (\u001b[38;5;33mDense\u001b[0m)                   │ (\u001b[38;5;45mNone\u001b[0m, \u001b[38;5;34m512\u001b[0m)            │       \u001b[38;5;34m265,728\u001b[0m │\n",
       "├─────────────────────────────────┼────────────────────────┼───────────────┤\n",
       "│ dense_1 (\u001b[38;5;33mDense\u001b[0m)                 │ (\u001b[38;5;45mNone\u001b[0m, \u001b[38;5;34m1\u001b[0m)              │           \u001b[38;5;34m513\u001b[0m │\n",
       "├─────────────────────────────────┼────────────────────────┼───────────────┤\n",
       "│ dense_2 (\u001b[38;5;33mDense\u001b[0m)                 │ (\u001b[38;5;45mNone\u001b[0m, \u001b[38;5;34m18\u001b[0m)             │         \u001b[38;5;34m9,234\u001b[0m │\n",
       "└─────────────────────────────────┴────────────────────────┴───────────────┘\n"
      ]
     },
     "metadata": {},
     "output_type": "display_data"
    },
    {
     "data": {
      "text/html": [
       "<pre style=\"white-space:pre;overflow-x:auto;line-height:normal;font-family:Menlo,'DejaVu Sans Mono',consolas,'Courier New',monospace\"><span style=\"font-weight: bold\"> Total params: </span><span style=\"color: #00af00; text-decoration-color: #00af00\">1,203,155</span> (4.59 MB)\n",
       "</pre>\n"
      ],
      "text/plain": [
       "\u001b[1m Total params: \u001b[0m\u001b[38;5;34m1,203,155\u001b[0m (4.59 MB)\n"
      ]
     },
     "metadata": {},
     "output_type": "display_data"
    },
    {
     "data": {
      "text/html": [
       "<pre style=\"white-space:pre;overflow-x:auto;line-height:normal;font-family:Menlo,'DejaVu Sans Mono',consolas,'Courier New',monospace\"><span style=\"font-weight: bold\"> Trainable params: </span><span style=\"color: #00af00; text-decoration-color: #00af00\">1,202,163</span> (4.59 MB)\n",
       "</pre>\n"
      ],
      "text/plain": [
       "\u001b[1m Trainable params: \u001b[0m\u001b[38;5;34m1,202,163\u001b[0m (4.59 MB)\n"
      ]
     },
     "metadata": {},
     "output_type": "display_data"
    },
    {
     "data": {
      "text/html": [
       "<pre style=\"white-space:pre;overflow-x:auto;line-height:normal;font-family:Menlo,'DejaVu Sans Mono',consolas,'Courier New',monospace\"><span style=\"font-weight: bold\"> Non-trainable params: </span><span style=\"color: #00af00; text-decoration-color: #00af00\">992</span> (3.88 KB)\n",
       "</pre>\n"
      ],
      "text/plain": [
       "\u001b[1m Non-trainable params: \u001b[0m\u001b[38;5;34m992\u001b[0m (3.88 KB)\n"
      ]
     },
     "metadata": {},
     "output_type": "display_data"
    }
   ],
   "source": [
    "from tensorflow.keras.losses import BinaryCrossentropy, CategoricalCrossentropy, CategoricalFocalCrossentropy\n",
    "from tensorflow.keras.optimizers import Adam\n",
    "from tensorflow.keras.metrics import BinaryAccuracy, F1Score, AUC\n",
    "\n",
    "model = RNNModel(kernel_size2d=3, kernel_size1d=3, filters_2d=[16, 32], dropout=0.2,\n",
    "                 filters_1d=[64, 128, 256], rnn_hidden_size=256, mode=\"GRU\", bidirectional=True,\n",
    "                 hidden_size=512, regularizer=\"l1l2\", l1_penalty=1e-3, l2_penalty=1e-4, binary=False)\n",
    "model.build(input_shapes=((None, 100, 8, 8, 5), (None, 100, 7), (None, 6)))\n",
    "# model.set_multi()\n",
    "model.compile(loss=CategoricalFocalCrossentropy(alpha=gesture_sample_weight, \n",
    "                                                gamma=2,\n",
    "                                                label_smoothing=0.2),\n",
    "              optimizer=Adam(learning_rate=0.0005),\n",
    "              metrics=[\"accuracy\"])\n",
    "model.summary()\n",
    "# model.freeze_conv_timeseries()"
   ]
  },
  {
   "cell_type": "code",
   "execution_count": 14,
   "id": "a95d0f33",
   "metadata": {
    "execution": {
     "iopub.execute_input": "2025-08-01T15:36:21.013310Z",
     "iopub.status.busy": "2025-08-01T15:36:21.012938Z",
     "iopub.status.idle": "2025-08-01T17:01:31.803763Z",
     "shell.execute_reply": "2025-08-01T17:01:31.802844Z"
    },
    "papermill": {
     "duration": 5110.798007,
     "end_time": "2025-08-01T17:01:31.805379",
     "exception": false,
     "start_time": "2025-08-01T15:36:21.007372",
     "status": "completed"
    },
    "tags": []
   },
   "outputs": [
    {
     "name": "stdout",
     "output_type": "stream",
     "text": [
      "Epoch 1/100\n"
     ]
    },
    {
     "name": "stderr",
     "output_type": "stream",
     "text": [
      "I0000 00:00:1754062732.094541      58 cuda_dnn.cc:529] Loaded cuDNN version 90300\n"
     ]
    },
    {
     "name": "stdout",
     "output_type": "stream",
     "text": [
      "\u001b[1m190/190\u001b[0m \u001b[32m━━━━━━━━━━━━━━━━━━━━\u001b[0m\u001b[37m\u001b[0m \u001b[1m0s\u001b[0m 252ms/step - accuracy: 0.1232 - loss: 16.4572\n",
      "Epoch 1: val_accuracy improved from -inf to 0.16392, saving model to /kaggle/working/cmi_best_model.weights.h5\n",
      "\u001b[1m190/190\u001b[0m \u001b[32m━━━━━━━━━━━━━━━━━━━━\u001b[0m\u001b[37m\u001b[0m \u001b[1m226s\u001b[0m 370ms/step - accuracy: 0.1233 - loss: 16.4503 - val_accuracy: 0.1639 - val_loss: 13.4308\n",
      "Epoch 2/100\n",
      "\u001b[1m190/190\u001b[0m \u001b[32m━━━━━━━━━━━━━━━━━━━━\u001b[0m\u001b[37m\u001b[0m \u001b[1m0s\u001b[0m 248ms/step - accuracy: 0.2014 - loss: 12.1686\n",
      "Epoch 2: val_accuracy improved from 0.16392 to 0.20935, saving model to /kaggle/working/cmi_best_model.weights.h5\n",
      "\u001b[1m190/190\u001b[0m \u001b[32m━━━━━━━━━━━━━━━━━━━━\u001b[0m\u001b[37m\u001b[0m \u001b[1m50s\u001b[0m 260ms/step - accuracy: 0.2014 - loss: 12.1644 - val_accuracy: 0.2093 - val_loss: 10.4047\n",
      "Epoch 3/100\n",
      "\u001b[1m190/190\u001b[0m \u001b[32m━━━━━━━━━━━━━━━━━━━━\u001b[0m\u001b[37m\u001b[0m \u001b[1m0s\u001b[0m 251ms/step - accuracy: 0.2703 - loss: 9.3102\n",
      "Epoch 3: val_accuracy improved from 0.20935 to 0.27979, saving model to /kaggle/working/cmi_best_model.weights.h5\n",
      "\u001b[1m190/190\u001b[0m \u001b[32m━━━━━━━━━━━━━━━━━━━━\u001b[0m\u001b[37m\u001b[0m \u001b[1m50s\u001b[0m 263ms/step - accuracy: 0.2703 - loss: 9.3074 - val_accuracy: 0.2798 - val_loss: 8.2224\n",
      "Epoch 4/100\n",
      "\u001b[1m190/190\u001b[0m \u001b[32m━━━━━━━━━━━━━━━━━━━━\u001b[0m\u001b[37m\u001b[0m \u001b[1m0s\u001b[0m 248ms/step - accuracy: 0.3119 - loss: 7.5100\n",
      "Epoch 4: val_accuracy improved from 0.27979 to 0.29493, saving model to /kaggle/working/cmi_best_model.weights.h5\n",
      "\u001b[1m190/190\u001b[0m \u001b[32m━━━━━━━━━━━━━━━━━━━━\u001b[0m\u001b[37m\u001b[0m \u001b[1m50s\u001b[0m 260ms/step - accuracy: 0.3120 - loss: 7.5083 - val_accuracy: 0.2949 - val_loss: 7.2448\n",
      "Epoch 5/100\n",
      "\u001b[1m190/190\u001b[0m \u001b[32m━━━━━━━━━━━━━━━━━━━━\u001b[0m\u001b[37m\u001b[0m \u001b[1m0s\u001b[0m 246ms/step - accuracy: 0.3461 - loss: 6.4401\n",
      "Epoch 5: val_accuracy improved from 0.29493 to 0.30612, saving model to /kaggle/working/cmi_best_model.weights.h5\n",
      "\u001b[1m190/190\u001b[0m \u001b[32m━━━━━━━━━━━━━━━━━━━━\u001b[0m\u001b[37m\u001b[0m \u001b[1m49s\u001b[0m 259ms/step - accuracy: 0.3461 - loss: 6.4392 - val_accuracy: 0.3061 - val_loss: 6.6539\n",
      "Epoch 6/100\n",
      "\u001b[1m190/190\u001b[0m \u001b[32m━━━━━━━━━━━━━━━━━━━━\u001b[0m\u001b[37m\u001b[0m \u001b[1m0s\u001b[0m 247ms/step - accuracy: 0.3734 - loss: 5.8201\n",
      "Epoch 6: val_accuracy improved from 0.30612 to 0.32126, saving model to /kaggle/working/cmi_best_model.weights.h5\n",
      "\u001b[1m190/190\u001b[0m \u001b[32m━━━━━━━━━━━━━━━━━━━━\u001b[0m\u001b[37m\u001b[0m \u001b[1m49s\u001b[0m 259ms/step - accuracy: 0.3734 - loss: 5.8195 - val_accuracy: 0.3213 - val_loss: 6.1203\n",
      "Epoch 7/100\n",
      "\u001b[1m190/190\u001b[0m \u001b[32m━━━━━━━━━━━━━━━━━━━━\u001b[0m\u001b[37m\u001b[0m \u001b[1m0s\u001b[0m 246ms/step - accuracy: 0.3844 - loss: 5.4544\n",
      "Epoch 7: val_accuracy improved from 0.32126 to 0.33706, saving model to /kaggle/working/cmi_best_model.weights.h5\n",
      "\u001b[1m190/190\u001b[0m \u001b[32m━━━━━━━━━━━━━━━━━━━━\u001b[0m\u001b[37m\u001b[0m \u001b[1m49s\u001b[0m 259ms/step - accuracy: 0.3844 - loss: 5.4539 - val_accuracy: 0.3371 - val_loss: 5.8737\n",
      "Epoch 8/100\n",
      "\u001b[1m190/190\u001b[0m \u001b[32m━━━━━━━━━━━━━━━━━━━━\u001b[0m\u001b[37m\u001b[0m \u001b[1m0s\u001b[0m 247ms/step - accuracy: 0.4003 - loss: 5.1605\n",
      "Epoch 8: val_accuracy did not improve from 0.33706\n",
      "\u001b[1m190/190\u001b[0m \u001b[32m━━━━━━━━━━━━━━━━━━━━\u001b[0m\u001b[37m\u001b[0m \u001b[1m49s\u001b[0m 258ms/step - accuracy: 0.4003 - loss: 5.1603 - val_accuracy: 0.3226 - val_loss: 5.7833\n",
      "Epoch 9/100\n",
      "\u001b[1m190/190\u001b[0m \u001b[32m━━━━━━━━━━━━━━━━━━━━\u001b[0m\u001b[37m\u001b[0m \u001b[1m0s\u001b[0m 247ms/step - accuracy: 0.4170 - loss: 4.9911\n",
      "Epoch 9: val_accuracy improved from 0.33706 to 0.34233, saving model to /kaggle/working/cmi_best_model.weights.h5\n",
      "\u001b[1m190/190\u001b[0m \u001b[32m━━━━━━━━━━━━━━━━━━━━\u001b[0m\u001b[37m\u001b[0m \u001b[1m49s\u001b[0m 260ms/step - accuracy: 0.4170 - loss: 4.9909 - val_accuracy: 0.3423 - val_loss: 5.6301\n",
      "Epoch 10/100\n",
      "\u001b[1m190/190\u001b[0m \u001b[32m━━━━━━━━━━━━━━━━━━━━\u001b[0m\u001b[37m\u001b[0m \u001b[1m0s\u001b[0m 248ms/step - accuracy: 0.4327 - loss: 4.7951\n",
      "Epoch 10: val_accuracy improved from 0.34233 to 0.35681, saving model to /kaggle/working/cmi_best_model.weights.h5\n",
      "\u001b[1m190/190\u001b[0m \u001b[32m━━━━━━━━━━━━━━━━━━━━\u001b[0m\u001b[37m\u001b[0m \u001b[1m50s\u001b[0m 261ms/step - accuracy: 0.4327 - loss: 4.7950 - val_accuracy: 0.3568 - val_loss: 5.5478\n",
      "Epoch 11/100\n",
      "\u001b[1m190/190\u001b[0m \u001b[32m━━━━━━━━━━━━━━━━━━━━\u001b[0m\u001b[37m\u001b[0m \u001b[1m0s\u001b[0m 249ms/step - accuracy: 0.4563 - loss: 4.6458\n",
      "Epoch 11: val_accuracy improved from 0.35681 to 0.38051, saving model to /kaggle/working/cmi_best_model.weights.h5\n",
      "\u001b[1m190/190\u001b[0m \u001b[32m━━━━━━━━━━━━━━━━━━━━\u001b[0m\u001b[37m\u001b[0m \u001b[1m50s\u001b[0m 261ms/step - accuracy: 0.4563 - loss: 4.6456 - val_accuracy: 0.3805 - val_loss: 5.3516\n",
      "Epoch 12/100\n",
      "\u001b[1m190/190\u001b[0m \u001b[32m━━━━━━━━━━━━━━━━━━━━\u001b[0m\u001b[37m\u001b[0m \u001b[1m0s\u001b[0m 249ms/step - accuracy: 0.4626 - loss: 4.5625\n",
      "Epoch 12: val_accuracy did not improve from 0.38051\n",
      "\u001b[1m190/190\u001b[0m \u001b[32m━━━━━━━━━━━━━━━━━━━━\u001b[0m\u001b[37m\u001b[0m \u001b[1m49s\u001b[0m 260ms/step - accuracy: 0.4626 - loss: 4.5623 - val_accuracy: 0.3746 - val_loss: 5.4141\n",
      "Epoch 13/100\n",
      "\u001b[1m190/190\u001b[0m \u001b[32m━━━━━━━━━━━━━━━━━━━━\u001b[0m\u001b[37m\u001b[0m \u001b[1m0s\u001b[0m 249ms/step - accuracy: 0.4822 - loss: 4.4167\n",
      "Epoch 13: val_accuracy did not improve from 0.38051\n",
      "\u001b[1m190/190\u001b[0m \u001b[32m━━━━━━━━━━━━━━━━━━━━\u001b[0m\u001b[37m\u001b[0m \u001b[1m49s\u001b[0m 260ms/step - accuracy: 0.4821 - loss: 4.4167 - val_accuracy: 0.3608 - val_loss: 5.3631\n",
      "Epoch 14/100\n",
      "\u001b[1m190/190\u001b[0m \u001b[32m━━━━━━━━━━━━━━━━━━━━\u001b[0m\u001b[37m\u001b[0m \u001b[1m0s\u001b[0m 248ms/step - accuracy: 0.4952 - loss: 4.3521\n",
      "Epoch 14: val_accuracy did not improve from 0.38051\n",
      "\u001b[1m190/190\u001b[0m \u001b[32m━━━━━━━━━━━━━━━━━━━━\u001b[0m\u001b[37m\u001b[0m \u001b[1m49s\u001b[0m 260ms/step - accuracy: 0.4952 - loss: 4.3520 - val_accuracy: 0.3687 - val_loss: 5.3546\n",
      "Epoch 15/100\n",
      "\u001b[1m190/190\u001b[0m \u001b[32m━━━━━━━━━━━━━━━━━━━━\u001b[0m\u001b[37m\u001b[0m \u001b[1m0s\u001b[0m 247ms/step - accuracy: 0.5101 - loss: 4.2656\n",
      "Epoch 15: val_accuracy did not improve from 0.38051\n",
      "\u001b[1m190/190\u001b[0m \u001b[32m━━━━━━━━━━━━━━━━━━━━\u001b[0m\u001b[37m\u001b[0m \u001b[1m49s\u001b[0m 259ms/step - accuracy: 0.5101 - loss: 4.2654 - val_accuracy: 0.3318 - val_loss: 5.6233\n",
      "Epoch 16/100\n",
      "\u001b[1m190/190\u001b[0m \u001b[32m━━━━━━━━━━━━━━━━━━━━\u001b[0m\u001b[37m\u001b[0m \u001b[1m0s\u001b[0m 248ms/step - accuracy: 0.5271 - loss: 4.1508\n",
      "Epoch 16: val_accuracy did not improve from 0.38051\n",
      "\u001b[1m190/190\u001b[0m \u001b[32m━━━━━━━━━━━━━━━━━━━━\u001b[0m\u001b[37m\u001b[0m \u001b[1m49s\u001b[0m 259ms/step - accuracy: 0.5271 - loss: 4.1507 - val_accuracy: 0.3647 - val_loss: 5.5499\n",
      "Epoch 17/100\n",
      "\u001b[1m190/190\u001b[0m \u001b[32m━━━━━━━━━━━━━━━━━━━━\u001b[0m\u001b[37m\u001b[0m \u001b[1m0s\u001b[0m 249ms/step - accuracy: 0.5464 - loss: 4.0833\n",
      "Epoch 17: val_accuracy did not improve from 0.38051\n",
      "\u001b[1m190/190\u001b[0m \u001b[32m━━━━━━━━━━━━━━━━━━━━\u001b[0m\u001b[37m\u001b[0m \u001b[1m49s\u001b[0m 260ms/step - accuracy: 0.5464 - loss: 4.0832 - val_accuracy: 0.3627 - val_loss: 5.4740\n",
      "Epoch 18/100\n",
      "\u001b[1m190/190\u001b[0m \u001b[32m━━━━━━━━━━━━━━━━━━━━\u001b[0m\u001b[37m\u001b[0m \u001b[1m0s\u001b[0m 248ms/step - accuracy: 0.5439 - loss: 4.0221\n",
      "Epoch 18: val_accuracy improved from 0.38051 to 0.39763, saving model to /kaggle/working/cmi_best_model.weights.h5\n",
      "\u001b[1m190/190\u001b[0m \u001b[32m━━━━━━━━━━━━━━━━━━━━\u001b[0m\u001b[37m\u001b[0m \u001b[1m49s\u001b[0m 260ms/step - accuracy: 0.5439 - loss: 4.0219 - val_accuracy: 0.3976 - val_loss: 5.2677\n",
      "Epoch 19/100\n",
      "\u001b[1m190/190\u001b[0m \u001b[32m━━━━━━━━━━━━━━━━━━━━\u001b[0m\u001b[37m\u001b[0m \u001b[1m0s\u001b[0m 247ms/step - accuracy: 0.5610 - loss: 3.9377\n",
      "Epoch 19: val_accuracy did not improve from 0.39763\n",
      "\u001b[1m190/190\u001b[0m \u001b[32m━━━━━━━━━━━━━━━━━━━━\u001b[0m\u001b[37m\u001b[0m \u001b[1m49s\u001b[0m 258ms/step - accuracy: 0.5610 - loss: 3.9375 - val_accuracy: 0.3720 - val_loss: 5.3756\n",
      "Epoch 20/100\n",
      "\u001b[1m190/190\u001b[0m \u001b[32m━━━━━━━━━━━━━━━━━━━━\u001b[0m\u001b[37m\u001b[0m \u001b[1m0s\u001b[0m 247ms/step - accuracy: 0.5689 - loss: 3.9134\n",
      "Epoch 20: val_accuracy did not improve from 0.39763\n",
      "\u001b[1m190/190\u001b[0m \u001b[32m━━━━━━━━━━━━━━━━━━━━\u001b[0m\u001b[37m\u001b[0m \u001b[1m49s\u001b[0m 259ms/step - accuracy: 0.5689 - loss: 3.9132 - val_accuracy: 0.3779 - val_loss: 5.3874\n",
      "Epoch 21/100\n",
      "\u001b[1m190/190\u001b[0m \u001b[32m━━━━━━━━━━━━━━━━━━━━\u001b[0m\u001b[37m\u001b[0m \u001b[1m0s\u001b[0m 247ms/step - accuracy: 0.5843 - loss: 3.8000\n",
      "Epoch 21: val_accuracy did not improve from 0.39763\n",
      "\u001b[1m190/190\u001b[0m \u001b[32m━━━━━━━━━━━━━━━━━━━━\u001b[0m\u001b[37m\u001b[0m \u001b[1m49s\u001b[0m 258ms/step - accuracy: 0.5843 - loss: 3.8000 - val_accuracy: 0.3812 - val_loss: 5.4164\n",
      "Epoch 22/100\n",
      "\u001b[1m190/190\u001b[0m \u001b[32m━━━━━━━━━━━━━━━━━━━━\u001b[0m\u001b[37m\u001b[0m \u001b[1m0s\u001b[0m 248ms/step - accuracy: 0.5791 - loss: 3.7795\n",
      "Epoch 22: val_accuracy did not improve from 0.39763\n",
      "\u001b[1m190/190\u001b[0m \u001b[32m━━━━━━━━━━━━━━━━━━━━\u001b[0m\u001b[37m\u001b[0m \u001b[1m49s\u001b[0m 260ms/step - accuracy: 0.5791 - loss: 3.7794 - val_accuracy: 0.3608 - val_loss: 5.4803\n",
      "Epoch 23/100\n",
      "\u001b[1m190/190\u001b[0m \u001b[32m━━━━━━━━━━━━━━━━━━━━\u001b[0m\u001b[37m\u001b[0m \u001b[1m0s\u001b[0m 248ms/step - accuracy: 0.6054 - loss: 3.6991\n",
      "Epoch 23: val_accuracy did not improve from 0.39763\n",
      "\u001b[1m190/190\u001b[0m \u001b[32m━━━━━━━━━━━━━━━━━━━━\u001b[0m\u001b[37m\u001b[0m \u001b[1m49s\u001b[0m 260ms/step - accuracy: 0.6054 - loss: 3.6988 - val_accuracy: 0.3673 - val_loss: 5.3844\n",
      "Epoch 24/100\n",
      "\u001b[1m190/190\u001b[0m \u001b[32m━━━━━━━━━━━━━━━━━━━━\u001b[0m\u001b[37m\u001b[0m \u001b[1m0s\u001b[0m 247ms/step - accuracy: 0.6096 - loss: 3.6241\n",
      "Epoch 24: val_accuracy did not improve from 0.39763\n",
      "\u001b[1m190/190\u001b[0m \u001b[32m━━━━━━━━━━━━━━━━━━━━\u001b[0m\u001b[37m\u001b[0m \u001b[1m49s\u001b[0m 258ms/step - accuracy: 0.6096 - loss: 3.6242 - val_accuracy: 0.3562 - val_loss: 5.4159\n",
      "Epoch 25/100\n",
      "\u001b[1m190/190\u001b[0m \u001b[32m━━━━━━━━━━━━━━━━━━━━\u001b[0m\u001b[37m\u001b[0m \u001b[1m0s\u001b[0m 247ms/step - accuracy: 0.6054 - loss: 3.6127\n",
      "Epoch 25: val_accuracy did not improve from 0.39763\n",
      "\u001b[1m190/190\u001b[0m \u001b[32m━━━━━━━━━━━━━━━━━━━━\u001b[0m\u001b[37m\u001b[0m \u001b[1m49s\u001b[0m 259ms/step - accuracy: 0.6054 - loss: 3.6127 - val_accuracy: 0.3812 - val_loss: 5.4184\n",
      "Epoch 26/100\n",
      "\u001b[1m190/190\u001b[0m \u001b[32m━━━━━━━━━━━━━━━━━━━━\u001b[0m\u001b[37m\u001b[0m \u001b[1m0s\u001b[0m 247ms/step - accuracy: 0.6320 - loss: 3.5345\n",
      "Epoch 26: val_accuracy did not improve from 0.39763\n",
      "\u001b[1m190/190\u001b[0m \u001b[32m━━━━━━━━━━━━━━━━━━━━\u001b[0m\u001b[37m\u001b[0m \u001b[1m49s\u001b[0m 258ms/step - accuracy: 0.6320 - loss: 3.5345 - val_accuracy: 0.3759 - val_loss: 5.2914\n",
      "Epoch 27/100\n",
      "\u001b[1m190/190\u001b[0m \u001b[32m━━━━━━━━━━━━━━━━━━━━\u001b[0m\u001b[37m\u001b[0m \u001b[1m0s\u001b[0m 249ms/step - accuracy: 0.6470 - loss: 3.4959\n",
      "Epoch 27: val_accuracy did not improve from 0.39763\n",
      "\u001b[1m190/190\u001b[0m \u001b[32m━━━━━━━━━━━━━━━━━━━━\u001b[0m\u001b[37m\u001b[0m \u001b[1m49s\u001b[0m 260ms/step - accuracy: 0.6470 - loss: 3.4959 - val_accuracy: 0.3884 - val_loss: 5.3695\n",
      "Epoch 28/100\n",
      "\u001b[1m190/190\u001b[0m \u001b[32m━━━━━━━━━━━━━━━━━━━━\u001b[0m\u001b[37m\u001b[0m \u001b[1m0s\u001b[0m 248ms/step - accuracy: 0.6333 - loss: 3.5083\n",
      "Epoch 28: val_accuracy did not improve from 0.39763\n",
      "\u001b[1m190/190\u001b[0m \u001b[32m━━━━━━━━━━━━━━━━━━━━\u001b[0m\u001b[37m\u001b[0m \u001b[1m49s\u001b[0m 259ms/step - accuracy: 0.6333 - loss: 3.5080 - val_accuracy: 0.3779 - val_loss: 5.5853\n",
      "Epoch 29/100\n",
      "\u001b[1m190/190\u001b[0m \u001b[32m━━━━━━━━━━━━━━━━━━━━\u001b[0m\u001b[37m\u001b[0m \u001b[1m0s\u001b[0m 248ms/step - accuracy: 0.6441 - loss: 3.4378\n",
      "Epoch 29: val_accuracy did not improve from 0.39763\n",
      "\u001b[1m190/190\u001b[0m \u001b[32m━━━━━━━━━━━━━━━━━━━━\u001b[0m\u001b[37m\u001b[0m \u001b[1m49s\u001b[0m 259ms/step - accuracy: 0.6442 - loss: 3.4376 - val_accuracy: 0.3805 - val_loss: 5.4401\n",
      "Epoch 30/100\n",
      "\u001b[1m190/190\u001b[0m \u001b[32m━━━━━━━━━━━━━━━━━━━━\u001b[0m\u001b[37m\u001b[0m \u001b[1m0s\u001b[0m 250ms/step - accuracy: 0.6607 - loss: 3.3940\n",
      "Epoch 30: val_accuracy did not improve from 0.39763\n",
      "\u001b[1m190/190\u001b[0m \u001b[32m━━━━━━━━━━━━━━━━━━━━\u001b[0m\u001b[37m\u001b[0m \u001b[1m50s\u001b[0m 261ms/step - accuracy: 0.6608 - loss: 3.3938 - val_accuracy: 0.3957 - val_loss: 5.2561\n",
      "Epoch 31/100\n",
      "\u001b[1m190/190\u001b[0m \u001b[32m━━━━━━━━━━━━━━━━━━━━\u001b[0m\u001b[37m\u001b[0m \u001b[1m0s\u001b[0m 250ms/step - accuracy: 0.6683 - loss: 3.3449\n",
      "Epoch 31: val_accuracy improved from 0.39763 to 0.41475, saving model to /kaggle/working/cmi_best_model.weights.h5\n",
      "\u001b[1m190/190\u001b[0m \u001b[32m━━━━━━━━━━━━━━━━━━━━\u001b[0m\u001b[37m\u001b[0m \u001b[1m50s\u001b[0m 262ms/step - accuracy: 0.6683 - loss: 3.3449 - val_accuracy: 0.4147 - val_loss: 5.3388\n",
      "Epoch 32/100\n",
      "\u001b[1m190/190\u001b[0m \u001b[32m━━━━━━━━━━━━━━━━━━━━\u001b[0m\u001b[37m\u001b[0m \u001b[1m0s\u001b[0m 248ms/step - accuracy: 0.6782 - loss: 3.3390\n",
      "Epoch 32: val_accuracy did not improve from 0.41475\n",
      "\u001b[1m190/190\u001b[0m \u001b[32m━━━━━━━━━━━━━━━━━━━━\u001b[0m\u001b[37m\u001b[0m \u001b[1m49s\u001b[0m 260ms/step - accuracy: 0.6782 - loss: 3.3388 - val_accuracy: 0.4003 - val_loss: 5.4170\n",
      "Epoch 33/100\n",
      "\u001b[1m190/190\u001b[0m \u001b[32m━━━━━━━━━━━━━━━━━━━━\u001b[0m\u001b[37m\u001b[0m \u001b[1m0s\u001b[0m 248ms/step - accuracy: 0.6858 - loss: 3.2611\n",
      "Epoch 33: val_accuracy did not improve from 0.41475\n",
      "\u001b[1m190/190\u001b[0m \u001b[32m━━━━━━━━━━━━━━━━━━━━\u001b[0m\u001b[37m\u001b[0m \u001b[1m49s\u001b[0m 260ms/step - accuracy: 0.6858 - loss: 3.2610 - val_accuracy: 0.4121 - val_loss: 5.1921\n",
      "Epoch 34/100\n",
      "\u001b[1m190/190\u001b[0m \u001b[32m━━━━━━━━━━━━━━━━━━━━\u001b[0m\u001b[37m\u001b[0m \u001b[1m0s\u001b[0m 249ms/step - accuracy: 0.6938 - loss: 3.2499\n",
      "Epoch 34: val_accuracy did not improve from 0.41475\n",
      "\u001b[1m190/190\u001b[0m \u001b[32m━━━━━━━━━━━━━━━━━━━━\u001b[0m\u001b[37m\u001b[0m \u001b[1m49s\u001b[0m 260ms/step - accuracy: 0.6937 - loss: 3.2498 - val_accuracy: 0.4022 - val_loss: 5.3906\n",
      "Epoch 35/100\n",
      "\u001b[1m190/190\u001b[0m \u001b[32m━━━━━━━━━━━━━━━━━━━━\u001b[0m\u001b[37m\u001b[0m \u001b[1m0s\u001b[0m 247ms/step - accuracy: 0.6946 - loss: 3.2077\n",
      "Epoch 35: val_accuracy improved from 0.41475 to 0.41540, saving model to /kaggle/working/cmi_best_model.weights.h5\n",
      "\u001b[1m190/190\u001b[0m \u001b[32m━━━━━━━━━━━━━━━━━━━━\u001b[0m\u001b[37m\u001b[0m \u001b[1m49s\u001b[0m 260ms/step - accuracy: 0.6946 - loss: 3.2076 - val_accuracy: 0.4154 - val_loss: 5.2641\n",
      "Epoch 36/100\n",
      "\u001b[1m190/190\u001b[0m \u001b[32m━━━━━━━━━━━━━━━━━━━━\u001b[0m\u001b[37m\u001b[0m \u001b[1m0s\u001b[0m 248ms/step - accuracy: 0.7115 - loss: 3.1640\n",
      "Epoch 36: val_accuracy did not improve from 0.41540\n",
      "\u001b[1m190/190\u001b[0m \u001b[32m━━━━━━━━━━━━━━━━━━━━\u001b[0m\u001b[37m\u001b[0m \u001b[1m49s\u001b[0m 260ms/step - accuracy: 0.7115 - loss: 3.1640 - val_accuracy: 0.4016 - val_loss: 5.2797\n",
      "Epoch 37/100\n",
      "\u001b[1m190/190\u001b[0m \u001b[32m━━━━━━━━━━━━━━━━━━━━\u001b[0m\u001b[37m\u001b[0m \u001b[1m0s\u001b[0m 247ms/step - accuracy: 0.7077 - loss: 3.1468\n",
      "Epoch 37: val_accuracy did not improve from 0.41540\n",
      "\u001b[1m190/190\u001b[0m \u001b[32m━━━━━━━━━━━━━━━━━━━━\u001b[0m\u001b[37m\u001b[0m \u001b[1m49s\u001b[0m 258ms/step - accuracy: 0.7078 - loss: 3.1467 - val_accuracy: 0.4075 - val_loss: 5.2882\n",
      "Epoch 38/100\n",
      "\u001b[1m190/190\u001b[0m \u001b[32m━━━━━━━━━━━━━━━━━━━━\u001b[0m\u001b[37m\u001b[0m \u001b[1m0s\u001b[0m 247ms/step - accuracy: 0.7135 - loss: 3.1278\n",
      "Epoch 38: val_accuracy did not improve from 0.41540\n",
      "\u001b[1m190/190\u001b[0m \u001b[32m━━━━━━━━━━━━━━━━━━━━\u001b[0m\u001b[37m\u001b[0m \u001b[1m49s\u001b[0m 259ms/step - accuracy: 0.7135 - loss: 3.1277 - val_accuracy: 0.3897 - val_loss: 5.4580\n",
      "Epoch 39/100\n",
      "\u001b[1m190/190\u001b[0m \u001b[32m━━━━━━━━━━━━━━━━━━━━\u001b[0m\u001b[37m\u001b[0m \u001b[1m0s\u001b[0m 247ms/step - accuracy: 0.7256 - loss: 3.1038\n",
      "Epoch 39: val_accuracy did not improve from 0.41540\n",
      "\u001b[1m190/190\u001b[0m \u001b[32m━━━━━━━━━━━━━━━━━━━━\u001b[0m\u001b[37m\u001b[0m \u001b[1m49s\u001b[0m 259ms/step - accuracy: 0.7256 - loss: 3.1037 - val_accuracy: 0.3904 - val_loss: 5.4641\n",
      "Epoch 40/100\n",
      "\u001b[1m190/190\u001b[0m \u001b[32m━━━━━━━━━━━━━━━━━━━━\u001b[0m\u001b[37m\u001b[0m \u001b[1m0s\u001b[0m 247ms/step - accuracy: 0.7282 - loss: 3.0543\n",
      "Epoch 40: val_accuracy did not improve from 0.41540\n",
      "\u001b[1m190/190\u001b[0m \u001b[32m━━━━━━━━━━━━━━━━━━━━\u001b[0m\u001b[37m\u001b[0m \u001b[1m49s\u001b[0m 259ms/step - accuracy: 0.7282 - loss: 3.0543 - val_accuracy: 0.3950 - val_loss: 5.3577\n",
      "Epoch 41/100\n",
      "\u001b[1m190/190\u001b[0m \u001b[32m━━━━━━━━━━━━━━━━━━━━\u001b[0m\u001b[37m\u001b[0m \u001b[1m0s\u001b[0m 249ms/step - accuracy: 0.7389 - loss: 3.0324\n",
      "Epoch 41: val_accuracy did not improve from 0.41540\n",
      "\u001b[1m190/190\u001b[0m \u001b[32m━━━━━━━━━━━━━━━━━━━━\u001b[0m\u001b[37m\u001b[0m \u001b[1m49s\u001b[0m 260ms/step - accuracy: 0.7389 - loss: 3.0325 - val_accuracy: 0.3838 - val_loss: 5.4967\n",
      "Epoch 42/100\n",
      "\u001b[1m190/190\u001b[0m \u001b[32m━━━━━━━━━━━━━━━━━━━━\u001b[0m\u001b[37m\u001b[0m \u001b[1m0s\u001b[0m 248ms/step - accuracy: 0.7391 - loss: 3.0330\n",
      "Epoch 42: val_accuracy did not improve from 0.41540\n",
      "\u001b[1m190/190\u001b[0m \u001b[32m━━━━━━━━━━━━━━━━━━━━\u001b[0m\u001b[37m\u001b[0m \u001b[1m49s\u001b[0m 260ms/step - accuracy: 0.7391 - loss: 3.0330 - val_accuracy: 0.3963 - val_loss: 5.3377\n",
      "Epoch 43/100\n",
      "\u001b[1m190/190\u001b[0m \u001b[32m━━━━━━━━━━━━━━━━━━━━\u001b[0m\u001b[37m\u001b[0m \u001b[1m0s\u001b[0m 247ms/step - accuracy: 0.7428 - loss: 2.9964\n",
      "Epoch 43: val_accuracy did not improve from 0.41540\n",
      "\u001b[1m190/190\u001b[0m \u001b[32m━━━━━━━━━━━━━━━━━━━━\u001b[0m\u001b[37m\u001b[0m \u001b[1m49s\u001b[0m 259ms/step - accuracy: 0.7428 - loss: 2.9963 - val_accuracy: 0.4042 - val_loss: 5.3414\n",
      "Epoch 44/100\n",
      "\u001b[1m190/190\u001b[0m \u001b[32m━━━━━━━━━━━━━━━━━━━━\u001b[0m\u001b[37m\u001b[0m \u001b[1m0s\u001b[0m 249ms/step - accuracy: 0.7521 - loss: 2.9950\n",
      "Epoch 44: val_accuracy did not improve from 0.41540\n",
      "\u001b[1m190/190\u001b[0m \u001b[32m━━━━━━━━━━━━━━━━━━━━\u001b[0m\u001b[37m\u001b[0m \u001b[1m50s\u001b[0m 261ms/step - accuracy: 0.7521 - loss: 2.9949 - val_accuracy: 0.4108 - val_loss: 5.3550\n",
      "Epoch 45/100\n",
      "\u001b[1m190/190\u001b[0m \u001b[32m━━━━━━━━━━━━━━━━━━━━\u001b[0m\u001b[37m\u001b[0m \u001b[1m0s\u001b[0m 248ms/step - accuracy: 0.7469 - loss: 2.9570\n",
      "Epoch 45: val_accuracy did not improve from 0.41540\n",
      "\u001b[1m190/190\u001b[0m \u001b[32m━━━━━━━━━━━━━━━━━━━━\u001b[0m\u001b[37m\u001b[0m \u001b[1m49s\u001b[0m 260ms/step - accuracy: 0.7469 - loss: 2.9570 - val_accuracy: 0.4029 - val_loss: 5.4781\n",
      "Epoch 46/100\n",
      "\u001b[1m190/190\u001b[0m \u001b[32m━━━━━━━━━━━━━━━━━━━━\u001b[0m\u001b[37m\u001b[0m \u001b[1m0s\u001b[0m 249ms/step - accuracy: 0.7578 - loss: 2.9305\n",
      "Epoch 46: val_accuracy did not improve from 0.41540\n",
      "\u001b[1m190/190\u001b[0m \u001b[32m━━━━━━━━━━━━━━━━━━━━\u001b[0m\u001b[37m\u001b[0m \u001b[1m50s\u001b[0m 263ms/step - accuracy: 0.7578 - loss: 2.9305 - val_accuracy: 0.3930 - val_loss: 5.6067\n",
      "Epoch 47/100\n",
      "\u001b[1m190/190\u001b[0m \u001b[32m━━━━━━━━━━━━━━━━━━━━\u001b[0m\u001b[37m\u001b[0m \u001b[1m0s\u001b[0m 248ms/step - accuracy: 0.7623 - loss: 2.9224\n",
      "Epoch 47: val_accuracy did not improve from 0.41540\n",
      "\u001b[1m190/190\u001b[0m \u001b[32m━━━━━━━━━━━━━━━━━━━━\u001b[0m\u001b[37m\u001b[0m \u001b[1m49s\u001b[0m 260ms/step - accuracy: 0.7623 - loss: 2.9224 - val_accuracy: 0.3976 - val_loss: 5.6369\n",
      "Epoch 48/100\n",
      "\u001b[1m190/190\u001b[0m \u001b[32m━━━━━━━━━━━━━━━━━━━━\u001b[0m\u001b[37m\u001b[0m \u001b[1m0s\u001b[0m 249ms/step - accuracy: 0.7626 - loss: 2.9050\n",
      "Epoch 48: val_accuracy did not improve from 0.41540\n",
      "\u001b[1m190/190\u001b[0m \u001b[32m━━━━━━━━━━━━━━━━━━━━\u001b[0m\u001b[37m\u001b[0m \u001b[1m50s\u001b[0m 261ms/step - accuracy: 0.7626 - loss: 2.9049 - val_accuracy: 0.4141 - val_loss: 5.4881\n",
      "Epoch 49/100\n",
      "\u001b[1m190/190\u001b[0m \u001b[32m━━━━━━━━━━━━━━━━━━━━\u001b[0m\u001b[37m\u001b[0m \u001b[1m0s\u001b[0m 248ms/step - accuracy: 0.7813 - loss: 2.8706\n",
      "Epoch 49: val_accuracy improved from 0.41540 to 0.43515, saving model to /kaggle/working/cmi_best_model.weights.h5\n",
      "\u001b[1m190/190\u001b[0m \u001b[32m━━━━━━━━━━━━━━━━━━━━\u001b[0m\u001b[37m\u001b[0m \u001b[1m50s\u001b[0m 261ms/step - accuracy: 0.7812 - loss: 2.8706 - val_accuracy: 0.4352 - val_loss: 5.3153\n",
      "Epoch 50/100\n",
      "\u001b[1m190/190\u001b[0m \u001b[32m━━━━━━━━━━━━━━━━━━━━\u001b[0m\u001b[37m\u001b[0m \u001b[1m0s\u001b[0m 248ms/step - accuracy: 0.7615 - loss: 2.9035\n",
      "Epoch 50: val_accuracy did not improve from 0.43515\n",
      "\u001b[1m190/190\u001b[0m \u001b[32m━━━━━━━━━━━━━━━━━━━━\u001b[0m\u001b[37m\u001b[0m \u001b[1m49s\u001b[0m 260ms/step - accuracy: 0.7616 - loss: 2.9034 - val_accuracy: 0.4101 - val_loss: 5.3010\n",
      "Epoch 51/100\n",
      "\u001b[1m190/190\u001b[0m \u001b[32m━━━━━━━━━━━━━━━━━━━━\u001b[0m\u001b[37m\u001b[0m \u001b[1m0s\u001b[0m 248ms/step - accuracy: 0.7856 - loss: 2.8521\n",
      "Epoch 51: val_accuracy did not improve from 0.43515\n",
      "\u001b[1m190/190\u001b[0m \u001b[32m━━━━━━━━━━━━━━━━━━━━\u001b[0m\u001b[37m\u001b[0m \u001b[1m49s\u001b[0m 259ms/step - accuracy: 0.7855 - loss: 2.8520 - val_accuracy: 0.4154 - val_loss: 5.3168\n",
      "Epoch 52/100\n",
      "\u001b[1m190/190\u001b[0m \u001b[32m━━━━━━━━━━━━━━━━━━━━\u001b[0m\u001b[37m\u001b[0m \u001b[1m0s\u001b[0m 247ms/step - accuracy: 0.7841 - loss: 2.8233\n",
      "Epoch 52: val_accuracy did not improve from 0.43515\n",
      "\u001b[1m190/190\u001b[0m \u001b[32m━━━━━━━━━━━━━━━━━━━━\u001b[0m\u001b[37m\u001b[0m \u001b[1m49s\u001b[0m 259ms/step - accuracy: 0.7841 - loss: 2.8233 - val_accuracy: 0.4115 - val_loss: 5.3530\n",
      "Epoch 53/100\n",
      "\u001b[1m190/190\u001b[0m \u001b[32m━━━━━━━━━━━━━━━━━━━━\u001b[0m\u001b[37m\u001b[0m \u001b[1m0s\u001b[0m 249ms/step - accuracy: 0.7907 - loss: 2.8277\n",
      "Epoch 53: val_accuracy did not improve from 0.43515\n",
      "\u001b[1m190/190\u001b[0m \u001b[32m━━━━━━━━━━━━━━━━━━━━\u001b[0m\u001b[37m\u001b[0m \u001b[1m50s\u001b[0m 261ms/step - accuracy: 0.7907 - loss: 2.8276 - val_accuracy: 0.4016 - val_loss: 5.4097\n",
      "Epoch 54/100\n",
      "\u001b[1m190/190\u001b[0m \u001b[32m━━━━━━━━━━━━━━━━━━━━\u001b[0m\u001b[37m\u001b[0m \u001b[1m0s\u001b[0m 248ms/step - accuracy: 0.7890 - loss: 2.8173\n",
      "Epoch 54: val_accuracy did not improve from 0.43515\n",
      "\u001b[1m190/190\u001b[0m \u001b[32m━━━━━━━━━━━━━━━━━━━━\u001b[0m\u001b[37m\u001b[0m \u001b[1m49s\u001b[0m 260ms/step - accuracy: 0.7890 - loss: 2.8172 - val_accuracy: 0.4101 - val_loss: 5.4708\n",
      "Epoch 55/100\n",
      "\u001b[1m190/190\u001b[0m \u001b[32m━━━━━━━━━━━━━━━━━━━━\u001b[0m\u001b[37m\u001b[0m \u001b[1m0s\u001b[0m 248ms/step - accuracy: 0.7911 - loss: 2.7968\n",
      "Epoch 55: val_accuracy did not improve from 0.43515\n",
      "\u001b[1m190/190\u001b[0m \u001b[32m━━━━━━━━━━━━━━━━━━━━\u001b[0m\u001b[37m\u001b[0m \u001b[1m49s\u001b[0m 260ms/step - accuracy: 0.7910 - loss: 2.7968 - val_accuracy: 0.4082 - val_loss: 5.4814\n",
      "Epoch 56/100\n",
      "\u001b[1m190/190\u001b[0m \u001b[32m━━━━━━━━━━━━━━━━━━━━\u001b[0m\u001b[37m\u001b[0m \u001b[1m0s\u001b[0m 247ms/step - accuracy: 0.7969 - loss: 2.7882\n",
      "Epoch 56: val_accuracy did not improve from 0.43515\n",
      "\u001b[1m190/190\u001b[0m \u001b[32m━━━━━━━━━━━━━━━━━━━━\u001b[0m\u001b[37m\u001b[0m \u001b[1m49s\u001b[0m 259ms/step - accuracy: 0.7969 - loss: 2.7882 - val_accuracy: 0.4213 - val_loss: 5.2763\n",
      "Epoch 57/100\n",
      "\u001b[1m190/190\u001b[0m \u001b[32m━━━━━━━━━━━━━━━━━━━━\u001b[0m\u001b[37m\u001b[0m \u001b[1m0s\u001b[0m 247ms/step - accuracy: 0.7884 - loss: 2.8017\n",
      "Epoch 57: val_accuracy did not improve from 0.43515\n",
      "\u001b[1m190/190\u001b[0m \u001b[32m━━━━━━━━━━━━━━━━━━━━\u001b[0m\u001b[37m\u001b[0m \u001b[1m49s\u001b[0m 259ms/step - accuracy: 0.7884 - loss: 2.8017 - val_accuracy: 0.4016 - val_loss: 5.5129\n",
      "Epoch 58/100\n",
      "\u001b[1m190/190\u001b[0m \u001b[32m━━━━━━━━━━━━━━━━━━━━\u001b[0m\u001b[37m\u001b[0m \u001b[1m0s\u001b[0m 247ms/step - accuracy: 0.7908 - loss: 2.7898\n",
      "Epoch 58: val_accuracy did not improve from 0.43515\n",
      "\u001b[1m190/190\u001b[0m \u001b[32m━━━━━━━━━━━━━━━━━━━━\u001b[0m\u001b[37m\u001b[0m \u001b[1m49s\u001b[0m 259ms/step - accuracy: 0.7908 - loss: 2.7897 - val_accuracy: 0.4022 - val_loss: 5.5817\n",
      "Epoch 59/100\n",
      "\u001b[1m190/190\u001b[0m \u001b[32m━━━━━━━━━━━━━━━━━━━━\u001b[0m\u001b[37m\u001b[0m \u001b[1m0s\u001b[0m 248ms/step - accuracy: 0.7990 - loss: 2.7688\n",
      "Epoch 59: val_accuracy did not improve from 0.43515\n",
      "\u001b[1m190/190\u001b[0m \u001b[32m━━━━━━━━━━━━━━━━━━━━\u001b[0m\u001b[37m\u001b[0m \u001b[1m49s\u001b[0m 260ms/step - accuracy: 0.7991 - loss: 2.7687 - val_accuracy: 0.4055 - val_loss: 5.4680\n",
      "Epoch 60/100\n",
      "\u001b[1m190/190\u001b[0m \u001b[32m━━━━━━━━━━━━━━━━━━━━\u001b[0m\u001b[37m\u001b[0m \u001b[1m0s\u001b[0m 248ms/step - accuracy: 0.8049 - loss: 2.7405\n",
      "Epoch 60: val_accuracy did not improve from 0.43515\n",
      "\u001b[1m190/190\u001b[0m \u001b[32m━━━━━━━━━━━━━━━━━━━━\u001b[0m\u001b[37m\u001b[0m \u001b[1m49s\u001b[0m 259ms/step - accuracy: 0.8049 - loss: 2.7404 - val_accuracy: 0.4174 - val_loss: 5.4643\n",
      "Epoch 61/100\n",
      "\u001b[1m190/190\u001b[0m \u001b[32m━━━━━━━━━━━━━━━━━━━━\u001b[0m\u001b[37m\u001b[0m \u001b[1m0s\u001b[0m 247ms/step - accuracy: 0.8012 - loss: 2.7406\n",
      "Epoch 61: val_accuracy did not improve from 0.43515\n",
      "\u001b[1m190/190\u001b[0m \u001b[32m━━━━━━━━━━━━━━━━━━━━\u001b[0m\u001b[37m\u001b[0m \u001b[1m49s\u001b[0m 259ms/step - accuracy: 0.8012 - loss: 2.7406 - val_accuracy: 0.4088 - val_loss: 5.4717\n",
      "Epoch 62/100\n",
      "\u001b[1m190/190\u001b[0m \u001b[32m━━━━━━━━━━━━━━━━━━━━\u001b[0m\u001b[37m\u001b[0m \u001b[1m0s\u001b[0m 248ms/step - accuracy: 0.8008 - loss: 2.7423\n",
      "Epoch 62: val_accuracy did not improve from 0.43515\n",
      "\u001b[1m190/190\u001b[0m \u001b[32m━━━━━━━━━━━━━━━━━━━━\u001b[0m\u001b[37m\u001b[0m \u001b[1m49s\u001b[0m 259ms/step - accuracy: 0.8008 - loss: 2.7422 - val_accuracy: 0.4055 - val_loss: 5.4873\n",
      "Epoch 63/100\n",
      "\u001b[1m190/190\u001b[0m \u001b[32m━━━━━━━━━━━━━━━━━━━━\u001b[0m\u001b[37m\u001b[0m \u001b[1m0s\u001b[0m 248ms/step - accuracy: 0.8099 - loss: 2.7309\n",
      "Epoch 63: val_accuracy did not improve from 0.43515\n",
      "\u001b[1m190/190\u001b[0m \u001b[32m━━━━━━━━━━━━━━━━━━━━\u001b[0m\u001b[37m\u001b[0m \u001b[1m49s\u001b[0m 259ms/step - accuracy: 0.8099 - loss: 2.7309 - val_accuracy: 0.3937 - val_loss: 5.4344\n",
      "Epoch 64/100\n",
      "\u001b[1m190/190\u001b[0m \u001b[32m━━━━━━━━━━━━━━━━━━━━\u001b[0m\u001b[37m\u001b[0m \u001b[1m0s\u001b[0m 249ms/step - accuracy: 0.8190 - loss: 2.7067\n",
      "Epoch 64: val_accuracy did not improve from 0.43515\n",
      "\u001b[1m190/190\u001b[0m \u001b[32m━━━━━━━━━━━━━━━━━━━━\u001b[0m\u001b[37m\u001b[0m \u001b[1m50s\u001b[0m 261ms/step - accuracy: 0.8190 - loss: 2.7067 - val_accuracy: 0.4279 - val_loss: 5.4706\n",
      "Epoch 65/100\n",
      "\u001b[1m190/190\u001b[0m \u001b[32m━━━━━━━━━━━━━━━━━━━━\u001b[0m\u001b[37m\u001b[0m \u001b[1m0s\u001b[0m 248ms/step - accuracy: 0.8138 - loss: 2.6822\n",
      "Epoch 65: val_accuracy did not improve from 0.43515\n",
      "\u001b[1m190/190\u001b[0m \u001b[32m━━━━━━━━━━━━━━━━━━━━\u001b[0m\u001b[37m\u001b[0m \u001b[1m49s\u001b[0m 259ms/step - accuracy: 0.8138 - loss: 2.6823 - val_accuracy: 0.4174 - val_loss: 5.5242\n",
      "Epoch 66/100\n",
      "\u001b[1m190/190\u001b[0m \u001b[32m━━━━━━━━━━━━━━━━━━━━\u001b[0m\u001b[37m\u001b[0m \u001b[1m0s\u001b[0m 246ms/step - accuracy: 0.8094 - loss: 2.7046\n",
      "Epoch 66: val_accuracy did not improve from 0.43515\n",
      "\u001b[1m190/190\u001b[0m \u001b[32m━━━━━━━━━━━━━━━━━━━━\u001b[0m\u001b[37m\u001b[0m \u001b[1m49s\u001b[0m 258ms/step - accuracy: 0.8095 - loss: 2.7046 - val_accuracy: 0.4075 - val_loss: 5.5964\n",
      "Epoch 67/100\n",
      "\u001b[1m190/190\u001b[0m \u001b[32m━━━━━━━━━━━━━━━━━━━━\u001b[0m\u001b[37m\u001b[0m \u001b[1m0s\u001b[0m 248ms/step - accuracy: 0.8135 - loss: 2.6843\n",
      "Epoch 67: val_accuracy did not improve from 0.43515\n",
      "\u001b[1m190/190\u001b[0m \u001b[32m━━━━━━━━━━━━━━━━━━━━\u001b[0m\u001b[37m\u001b[0m \u001b[1m49s\u001b[0m 260ms/step - accuracy: 0.8135 - loss: 2.6843 - val_accuracy: 0.4200 - val_loss: 5.3030\n",
      "Epoch 68/100\n",
      "\u001b[1m190/190\u001b[0m \u001b[32m━━━━━━━━━━━━━━━━━━━━\u001b[0m\u001b[37m\u001b[0m \u001b[1m0s\u001b[0m 246ms/step - accuracy: 0.8174 - loss: 2.6725\n",
      "Epoch 68: val_accuracy did not improve from 0.43515\n",
      "\u001b[1m190/190\u001b[0m \u001b[32m━━━━━━━━━━━━━━━━━━━━\u001b[0m\u001b[37m\u001b[0m \u001b[1m49s\u001b[0m 258ms/step - accuracy: 0.8174 - loss: 2.6725 - val_accuracy: 0.4240 - val_loss: 5.4146\n",
      "Epoch 69/100\n",
      "\u001b[1m190/190\u001b[0m \u001b[32m━━━━━━━━━━━━━━━━━━━━\u001b[0m\u001b[37m\u001b[0m \u001b[1m0s\u001b[0m 248ms/step - accuracy: 0.8325 - loss: 2.6425\n",
      "Epoch 69: val_accuracy did not improve from 0.43515\n",
      "\u001b[1m190/190\u001b[0m \u001b[32m━━━━━━━━━━━━━━━━━━━━\u001b[0m\u001b[37m\u001b[0m \u001b[1m49s\u001b[0m 259ms/step - accuracy: 0.8325 - loss: 2.6425 - val_accuracy: 0.4147 - val_loss: 5.5006\n",
      "Epoch 70/100\n",
      "\u001b[1m190/190\u001b[0m \u001b[32m━━━━━━━━━━━━━━━━━━━━\u001b[0m\u001b[37m\u001b[0m \u001b[1m0s\u001b[0m 246ms/step - accuracy: 0.8289 - loss: 2.6346\n",
      "Epoch 70: val_accuracy did not improve from 0.43515\n",
      "\u001b[1m190/190\u001b[0m \u001b[32m━━━━━━━━━━━━━━━━━━━━\u001b[0m\u001b[37m\u001b[0m \u001b[1m49s\u001b[0m 258ms/step - accuracy: 0.8289 - loss: 2.6347 - val_accuracy: 0.4259 - val_loss: 5.3684\n",
      "Epoch 71/100\n",
      "\u001b[1m190/190\u001b[0m \u001b[32m━━━━━━━━━━━━━━━━━━━━\u001b[0m\u001b[37m\u001b[0m \u001b[1m0s\u001b[0m 246ms/step - accuracy: 0.8236 - loss: 2.6745\n",
      "Epoch 71: val_accuracy did not improve from 0.43515\n",
      "\u001b[1m190/190\u001b[0m \u001b[32m━━━━━━━━━━━━━━━━━━━━\u001b[0m\u001b[37m\u001b[0m \u001b[1m49s\u001b[0m 258ms/step - accuracy: 0.8236 - loss: 2.6744 - val_accuracy: 0.4088 - val_loss: 5.4857\n",
      "Epoch 72/100\n",
      "\u001b[1m190/190\u001b[0m \u001b[32m━━━━━━━━━━━━━━━━━━━━\u001b[0m\u001b[37m\u001b[0m \u001b[1m0s\u001b[0m 248ms/step - accuracy: 0.8279 - loss: 2.6446\n",
      "Epoch 72: val_accuracy did not improve from 0.43515\n",
      "\u001b[1m190/190\u001b[0m \u001b[32m━━━━━━━━━━━━━━━━━━━━\u001b[0m\u001b[37m\u001b[0m \u001b[1m49s\u001b[0m 260ms/step - accuracy: 0.8279 - loss: 2.6445 - val_accuracy: 0.4049 - val_loss: 5.5923\n",
      "Epoch 73/100\n",
      "\u001b[1m190/190\u001b[0m \u001b[32m━━━━━━━━━━━━━━━━━━━━\u001b[0m\u001b[37m\u001b[0m \u001b[1m0s\u001b[0m 248ms/step - accuracy: 0.8238 - loss: 2.6596\n",
      "Epoch 73: val_accuracy did not improve from 0.43515\n",
      "\u001b[1m190/190\u001b[0m \u001b[32m━━━━━━━━━━━━━━━━━━━━\u001b[0m\u001b[37m\u001b[0m \u001b[1m49s\u001b[0m 260ms/step - accuracy: 0.8238 - loss: 2.6595 - val_accuracy: 0.4161 - val_loss: 5.5245\n",
      "Epoch 74/100\n",
      "\u001b[1m190/190\u001b[0m \u001b[32m━━━━━━━━━━━━━━━━━━━━\u001b[0m\u001b[37m\u001b[0m \u001b[1m0s\u001b[0m 249ms/step - accuracy: 0.8344 - loss: 2.6351\n",
      "Epoch 74: val_accuracy did not improve from 0.43515\n",
      "\u001b[1m190/190\u001b[0m \u001b[32m━━━━━━━━━━━━━━━━━━━━\u001b[0m\u001b[37m\u001b[0m \u001b[1m50s\u001b[0m 261ms/step - accuracy: 0.8344 - loss: 2.6351 - val_accuracy: 0.4068 - val_loss: 5.7314\n",
      "Epoch 75/100\n",
      "\u001b[1m190/190\u001b[0m \u001b[32m━━━━━━━━━━━━━━━━━━━━\u001b[0m\u001b[37m\u001b[0m \u001b[1m0s\u001b[0m 248ms/step - accuracy: 0.8275 - loss: 2.6336\n",
      "Epoch 75: val_accuracy did not improve from 0.43515\n",
      "\u001b[1m190/190\u001b[0m \u001b[32m━━━━━━━━━━━━━━━━━━━━\u001b[0m\u001b[37m\u001b[0m \u001b[1m49s\u001b[0m 260ms/step - accuracy: 0.8275 - loss: 2.6335 - val_accuracy: 0.4068 - val_loss: 5.5321\n",
      "Epoch 76/100\n",
      "\u001b[1m190/190\u001b[0m \u001b[32m━━━━━━━━━━━━━━━━━━━━\u001b[0m\u001b[37m\u001b[0m \u001b[1m0s\u001b[0m 247ms/step - accuracy: 0.8352 - loss: 2.6089\n",
      "Epoch 76: val_accuracy did not improve from 0.43515\n",
      "\u001b[1m190/190\u001b[0m \u001b[32m━━━━━━━━━━━━━━━━━━━━\u001b[0m\u001b[37m\u001b[0m \u001b[1m49s\u001b[0m 259ms/step - accuracy: 0.8351 - loss: 2.6089 - val_accuracy: 0.3996 - val_loss: 5.7364\n",
      "Epoch 77/100\n",
      "\u001b[1m190/190\u001b[0m \u001b[32m━━━━━━━━━━━━━━━━━━━━\u001b[0m\u001b[37m\u001b[0m \u001b[1m0s\u001b[0m 249ms/step - accuracy: 0.8373 - loss: 2.5946\n",
      "Epoch 77: val_accuracy did not improve from 0.43515\n",
      "\u001b[1m190/190\u001b[0m \u001b[32m━━━━━━━━━━━━━━━━━━━━\u001b[0m\u001b[37m\u001b[0m \u001b[1m49s\u001b[0m 260ms/step - accuracy: 0.8373 - loss: 2.5947 - val_accuracy: 0.4009 - val_loss: 5.6852\n",
      "Epoch 78/100\n",
      "\u001b[1m190/190\u001b[0m \u001b[32m━━━━━━━━━━━━━━━━━━━━\u001b[0m\u001b[37m\u001b[0m \u001b[1m0s\u001b[0m 248ms/step - accuracy: 0.8304 - loss: 2.6177\n",
      "Epoch 78: val_accuracy did not improve from 0.43515\n",
      "\u001b[1m190/190\u001b[0m \u001b[32m━━━━━━━━━━━━━━━━━━━━\u001b[0m\u001b[37m\u001b[0m \u001b[1m49s\u001b[0m 260ms/step - accuracy: 0.8304 - loss: 2.6176 - val_accuracy: 0.4009 - val_loss: 5.5616\n",
      "Epoch 79/100\n",
      "\u001b[1m190/190\u001b[0m \u001b[32m━━━━━━━━━━━━━━━━━━━━\u001b[0m\u001b[37m\u001b[0m \u001b[1m0s\u001b[0m 249ms/step - accuracy: 0.8272 - loss: 2.6070\n",
      "Epoch 79: val_accuracy did not improve from 0.43515\n",
      "\u001b[1m190/190\u001b[0m \u001b[32m━━━━━━━━━━━━━━━━━━━━\u001b[0m\u001b[37m\u001b[0m \u001b[1m50s\u001b[0m 261ms/step - accuracy: 0.8273 - loss: 2.6069 - val_accuracy: 0.4022 - val_loss: 5.5479\n",
      "Epoch 80/100\n",
      "\u001b[1m190/190\u001b[0m \u001b[32m━━━━━━━━━━━━━━━━━━━━\u001b[0m\u001b[37m\u001b[0m \u001b[1m0s\u001b[0m 249ms/step - accuracy: 0.8399 - loss: 2.5802\n",
      "Epoch 80: val_accuracy did not improve from 0.43515\n",
      "\u001b[1m190/190\u001b[0m \u001b[32m━━━━━━━━━━━━━━━━━━━━\u001b[0m\u001b[37m\u001b[0m \u001b[1m50s\u001b[0m 261ms/step - accuracy: 0.8399 - loss: 2.5802 - val_accuracy: 0.4134 - val_loss: 5.5567\n",
      "Epoch 81/100\n",
      "\u001b[1m190/190\u001b[0m \u001b[32m━━━━━━━━━━━━━━━━━━━━\u001b[0m\u001b[37m\u001b[0m \u001b[1m0s\u001b[0m 248ms/step - accuracy: 0.8458 - loss: 2.5594\n",
      "Epoch 81: val_accuracy did not improve from 0.43515\n",
      "\u001b[1m190/190\u001b[0m \u001b[32m━━━━━━━━━━━━━━━━━━━━\u001b[0m\u001b[37m\u001b[0m \u001b[1m49s\u001b[0m 260ms/step - accuracy: 0.8458 - loss: 2.5594 - val_accuracy: 0.4147 - val_loss: 5.5726\n",
      "Epoch 82/100\n",
      "\u001b[1m190/190\u001b[0m \u001b[32m━━━━━━━━━━━━━━━━━━━━\u001b[0m\u001b[37m\u001b[0m \u001b[1m0s\u001b[0m 248ms/step - accuracy: 0.8297 - loss: 2.6086\n",
      "Epoch 82: val_accuracy did not improve from 0.43515\n",
      "\u001b[1m190/190\u001b[0m \u001b[32m━━━━━━━━━━━━━━━━━━━━\u001b[0m\u001b[37m\u001b[0m \u001b[1m49s\u001b[0m 260ms/step - accuracy: 0.8297 - loss: 2.6085 - val_accuracy: 0.4161 - val_loss: 5.7065\n",
      "Epoch 83/100\n",
      "\u001b[1m190/190\u001b[0m \u001b[32m━━━━━━━━━━━━━━━━━━━━\u001b[0m\u001b[37m\u001b[0m \u001b[1m0s\u001b[0m 249ms/step - accuracy: 0.8477 - loss: 2.5617\n",
      "Epoch 83: val_accuracy did not improve from 0.43515\n",
      "\u001b[1m190/190\u001b[0m \u001b[32m━━━━━━━━━━━━━━━━━━━━\u001b[0m\u001b[37m\u001b[0m \u001b[1m49s\u001b[0m 260ms/step - accuracy: 0.8477 - loss: 2.5618 - val_accuracy: 0.3970 - val_loss: 5.6838\n",
      "Epoch 84/100\n",
      "\u001b[1m190/190\u001b[0m \u001b[32m━━━━━━━━━━━━━━━━━━━━\u001b[0m\u001b[37m\u001b[0m \u001b[1m0s\u001b[0m 247ms/step - accuracy: 0.8434 - loss: 2.5712\n",
      "Epoch 84: val_accuracy did not improve from 0.43515\n",
      "\u001b[1m190/190\u001b[0m \u001b[32m━━━━━━━━━━━━━━━━━━━━\u001b[0m\u001b[37m\u001b[0m \u001b[1m49s\u001b[0m 259ms/step - accuracy: 0.8434 - loss: 2.5712 - val_accuracy: 0.4095 - val_loss: 5.4870\n",
      "Epoch 85/100\n",
      "\u001b[1m190/190\u001b[0m \u001b[32m━━━━━━━━━━━━━━━━━━━━\u001b[0m\u001b[37m\u001b[0m \u001b[1m0s\u001b[0m 247ms/step - accuracy: 0.8499 - loss: 2.5650\n",
      "Epoch 85: val_accuracy did not improve from 0.43515\n",
      "\u001b[1m190/190\u001b[0m \u001b[32m━━━━━━━━━━━━━━━━━━━━\u001b[0m\u001b[37m\u001b[0m \u001b[1m49s\u001b[0m 259ms/step - accuracy: 0.8499 - loss: 2.5650 - val_accuracy: 0.4154 - val_loss: 5.5617\n",
      "Epoch 86/100\n",
      "\u001b[1m190/190\u001b[0m \u001b[32m━━━━━━━━━━━━━━━━━━━━\u001b[0m\u001b[37m\u001b[0m \u001b[1m0s\u001b[0m 248ms/step - accuracy: 0.8513 - loss: 2.5518\n",
      "Epoch 86: val_accuracy did not improve from 0.43515\n",
      "\u001b[1m190/190\u001b[0m \u001b[32m━━━━━━━━━━━━━━━━━━━━\u001b[0m\u001b[37m\u001b[0m \u001b[1m49s\u001b[0m 260ms/step - accuracy: 0.8513 - loss: 2.5519 - val_accuracy: 0.4095 - val_loss: 5.6293\n",
      "Epoch 87/100\n",
      "\u001b[1m190/190\u001b[0m \u001b[32m━━━━━━━━━━━━━━━━━━━━\u001b[0m\u001b[37m\u001b[0m \u001b[1m0s\u001b[0m 248ms/step - accuracy: 0.8423 - loss: 2.5481\n",
      "Epoch 87: val_accuracy did not improve from 0.43515\n",
      "\u001b[1m190/190\u001b[0m \u001b[32m━━━━━━━━━━━━━━━━━━━━\u001b[0m\u001b[37m\u001b[0m \u001b[1m49s\u001b[0m 260ms/step - accuracy: 0.8423 - loss: 2.5481 - val_accuracy: 0.4246 - val_loss: 5.4554\n",
      "Epoch 88/100\n",
      "\u001b[1m190/190\u001b[0m \u001b[32m━━━━━━━━━━━━━━━━━━━━\u001b[0m\u001b[37m\u001b[0m \u001b[1m0s\u001b[0m 248ms/step - accuracy: 0.8440 - loss: 2.5487\n",
      "Epoch 88: val_accuracy did not improve from 0.43515\n",
      "\u001b[1m190/190\u001b[0m \u001b[32m━━━━━━━━━━━━━━━━━━━━\u001b[0m\u001b[37m\u001b[0m \u001b[1m49s\u001b[0m 259ms/step - accuracy: 0.8440 - loss: 2.5487 - val_accuracy: 0.3904 - val_loss: 5.7420\n",
      "Epoch 89/100\n",
      "\u001b[1m190/190\u001b[0m \u001b[32m━━━━━━━━━━━━━━━━━━━━\u001b[0m\u001b[37m\u001b[0m \u001b[1m0s\u001b[0m 247ms/step - accuracy: 0.8598 - loss: 2.5439\n",
      "Epoch 89: val_accuracy did not improve from 0.43515\n",
      "\u001b[1m190/190\u001b[0m \u001b[32m━━━━━━━━━━━━━━━━━━━━\u001b[0m\u001b[37m\u001b[0m \u001b[1m49s\u001b[0m 258ms/step - accuracy: 0.8597 - loss: 2.5439 - val_accuracy: 0.4147 - val_loss: 5.6042\n",
      "Epoch 90/100\n",
      "\u001b[1m190/190\u001b[0m \u001b[32m━━━━━━━━━━━━━━━━━━━━\u001b[0m\u001b[37m\u001b[0m \u001b[1m0s\u001b[0m 246ms/step - accuracy: 0.8495 - loss: 2.5673\n",
      "Epoch 90: val_accuracy did not improve from 0.43515\n",
      "\u001b[1m190/190\u001b[0m \u001b[32m━━━━━━━━━━━━━━━━━━━━\u001b[0m\u001b[37m\u001b[0m \u001b[1m49s\u001b[0m 258ms/step - accuracy: 0.8495 - loss: 2.5671 - val_accuracy: 0.4101 - val_loss: 5.6444\n",
      "Epoch 91/100\n",
      "\u001b[1m190/190\u001b[0m \u001b[32m━━━━━━━━━━━━━━━━━━━━\u001b[0m\u001b[37m\u001b[0m \u001b[1m0s\u001b[0m 248ms/step - accuracy: 0.8439 - loss: 2.5420\n",
      "Epoch 91: val_accuracy did not improve from 0.43515\n",
      "\u001b[1m190/190\u001b[0m \u001b[32m━━━━━━━━━━━━━━━━━━━━\u001b[0m\u001b[37m\u001b[0m \u001b[1m49s\u001b[0m 260ms/step - accuracy: 0.8439 - loss: 2.5419 - val_accuracy: 0.4128 - val_loss: 5.5939\n",
      "Epoch 92/100\n",
      "\u001b[1m190/190\u001b[0m \u001b[32m━━━━━━━━━━━━━━━━━━━━\u001b[0m\u001b[37m\u001b[0m \u001b[1m0s\u001b[0m 250ms/step - accuracy: 0.8551 - loss: 2.5134\n",
      "Epoch 92: val_accuracy did not improve from 0.43515\n",
      "\u001b[1m190/190\u001b[0m \u001b[32m━━━━━━━━━━━━━━━━━━━━\u001b[0m\u001b[37m\u001b[0m \u001b[1m50s\u001b[0m 262ms/step - accuracy: 0.8551 - loss: 2.5134 - val_accuracy: 0.4147 - val_loss: 5.6645\n",
      "Epoch 93/100\n",
      "\u001b[1m190/190\u001b[0m \u001b[32m━━━━━━━━━━━━━━━━━━━━\u001b[0m\u001b[37m\u001b[0m \u001b[1m0s\u001b[0m 248ms/step - accuracy: 0.8583 - loss: 2.5069\n",
      "Epoch 93: val_accuracy did not improve from 0.43515\n",
      "\u001b[1m190/190\u001b[0m \u001b[32m━━━━━━━━━━━━━━━━━━━━\u001b[0m\u001b[37m\u001b[0m \u001b[1m49s\u001b[0m 260ms/step - accuracy: 0.8583 - loss: 2.5070 - val_accuracy: 0.4213 - val_loss: 5.5709\n",
      "Epoch 94/100\n",
      "\u001b[1m190/190\u001b[0m \u001b[32m━━━━━━━━━━━━━━━━━━━━\u001b[0m\u001b[37m\u001b[0m \u001b[1m0s\u001b[0m 248ms/step - accuracy: 0.8624 - loss: 2.5049\n",
      "Epoch 94: val_accuracy did not improve from 0.43515\n",
      "\u001b[1m190/190\u001b[0m \u001b[32m━━━━━━━━━━━━━━━━━━━━\u001b[0m\u001b[37m\u001b[0m \u001b[1m49s\u001b[0m 260ms/step - accuracy: 0.8624 - loss: 2.5048 - val_accuracy: 0.4128 - val_loss: 5.6502\n",
      "Epoch 95/100\n",
      "\u001b[1m190/190\u001b[0m \u001b[32m━━━━━━━━━━━━━━━━━━━━\u001b[0m\u001b[37m\u001b[0m \u001b[1m0s\u001b[0m 248ms/step - accuracy: 0.8609 - loss: 2.4877\n",
      "Epoch 95: val_accuracy did not improve from 0.43515\n",
      "\u001b[1m190/190\u001b[0m \u001b[32m━━━━━━━━━━━━━━━━━━━━\u001b[0m\u001b[37m\u001b[0m \u001b[1m49s\u001b[0m 260ms/step - accuracy: 0.8609 - loss: 2.4878 - val_accuracy: 0.4022 - val_loss: 5.6822\n",
      "Epoch 96/100\n",
      "\u001b[1m190/190\u001b[0m \u001b[32m━━━━━━━━━━━━━━━━━━━━\u001b[0m\u001b[37m\u001b[0m \u001b[1m0s\u001b[0m 248ms/step - accuracy: 0.8589 - loss: 2.5132\n",
      "Epoch 96: val_accuracy did not improve from 0.43515\n",
      "\u001b[1m190/190\u001b[0m \u001b[32m━━━━━━━━━━━━━━━━━━━━\u001b[0m\u001b[37m\u001b[0m \u001b[1m49s\u001b[0m 259ms/step - accuracy: 0.8589 - loss: 2.5131 - val_accuracy: 0.4101 - val_loss: 5.6818\n",
      "Epoch 97/100\n",
      "\u001b[1m190/190\u001b[0m \u001b[32m━━━━━━━━━━━━━━━━━━━━\u001b[0m\u001b[37m\u001b[0m \u001b[1m0s\u001b[0m 248ms/step - accuracy: 0.8591 - loss: 2.4943\n",
      "Epoch 97: val_accuracy did not improve from 0.43515\n",
      "\u001b[1m190/190\u001b[0m \u001b[32m━━━━━━━━━━━━━━━━━━━━\u001b[0m\u001b[37m\u001b[0m \u001b[1m49s\u001b[0m 260ms/step - accuracy: 0.8591 - loss: 2.4943 - val_accuracy: 0.4134 - val_loss: 5.5185\n",
      "Epoch 98/100\n",
      "\u001b[1m190/190\u001b[0m \u001b[32m━━━━━━━━━━━━━━━━━━━━\u001b[0m\u001b[37m\u001b[0m \u001b[1m0s\u001b[0m 247ms/step - accuracy: 0.8569 - loss: 2.4967\n",
      "Epoch 98: val_accuracy did not improve from 0.43515\n",
      "\u001b[1m190/190\u001b[0m \u001b[32m━━━━━━━━━━━━━━━━━━━━\u001b[0m\u001b[37m\u001b[0m \u001b[1m49s\u001b[0m 259ms/step - accuracy: 0.8568 - loss: 2.4967 - val_accuracy: 0.4319 - val_loss: 5.4674\n",
      "Epoch 99/100\n",
      "\u001b[1m190/190\u001b[0m \u001b[32m━━━━━━━━━━━━━━━━━━━━\u001b[0m\u001b[37m\u001b[0m \u001b[1m0s\u001b[0m 247ms/step - accuracy: 0.8642 - loss: 2.4870\n",
      "Epoch 99: val_accuracy did not improve from 0.43515\n",
      "\u001b[1m190/190\u001b[0m \u001b[32m━━━━━━━━━━━━━━━━━━━━\u001b[0m\u001b[37m\u001b[0m \u001b[1m49s\u001b[0m 259ms/step - accuracy: 0.8642 - loss: 2.4870 - val_accuracy: 0.4220 - val_loss: 5.4744\n",
      "Epoch 100/100\n",
      "\u001b[1m190/190\u001b[0m \u001b[32m━━━━━━━━━━━━━━━━━━━━\u001b[0m\u001b[37m\u001b[0m \u001b[1m0s\u001b[0m 246ms/step - accuracy: 0.8608 - loss: 2.4961\n",
      "Epoch 100: val_accuracy did not improve from 0.43515\n",
      "\u001b[1m190/190\u001b[0m \u001b[32m━━━━━━━━━━━━━━━━━━━━\u001b[0m\u001b[37m\u001b[0m \u001b[1m49s\u001b[0m 258ms/step - accuracy: 0.8608 - loss: 2.4960 - val_accuracy: 0.4128 - val_loss: 5.6114\n"
     ]
    }
   ],
   "source": [
    "from tensorflow.keras.callbacks import ModelCheckpoint\n",
    "checkpoint_filepath = \"/kaggle/working/cmi_best_model.weights.h5\"\n",
    "checkpoint_callback = ModelCheckpoint(\n",
    "    filepath=checkpoint_filepath,\n",
    "    monitor=\"val_accuracy\",\n",
    "    save_best_only=True,\n",
    "    save_weights_only=True,\n",
    "    mode=\"max\",\n",
    "    verbose=1\n",
    ")\n",
    "\n",
    "history = model.fit(gesture_train_ds, epochs=100, \n",
    "                    validation_data=gesture_valid_ds,\n",
    "                    callbacks=[checkpoint_callback])\n",
    "model.load_weights(checkpoint_filepath)"
   ]
  },
  {
   "cell_type": "code",
   "execution_count": 15,
   "id": "3e478ed1",
   "metadata": {
    "execution": {
     "iopub.execute_input": "2025-08-01T17:01:33.636497Z",
     "iopub.status.busy": "2025-08-01T17:01:33.636204Z",
     "iopub.status.idle": "2025-08-01T17:01:33.646263Z",
     "shell.execute_reply": "2025-08-01T17:01:33.645658Z"
    },
    "papermill": {
     "duration": 0.961587,
     "end_time": "2025-08-01T17:01:33.647408",
     "exception": false,
     "start_time": "2025-08-01T17:01:32.685821",
     "status": "completed"
    },
    "tags": []
   },
   "outputs": [],
   "source": [
    "import json\n",
    "\n",
    "with open('/kaggle/input/cmi-tf-datasets/mapping.json') as f:\n",
    "    mapping_dict = json.load(f)\n",
    "\n",
    "gesture_mapping = mapping_dict[\"gesture_mapping\"]\n",
    "inv_gesture_mapping = {value: key for key, value in gesture_mapping.items()}\n",
    "\n",
    "num2gesture = np.vectorize(lambda x: inv_gesture_mapping[x])"
   ]
  },
  {
   "cell_type": "code",
   "execution_count": 16,
   "id": "64a264f6",
   "metadata": {
    "execution": {
     "iopub.execute_input": "2025-08-01T17:01:35.466494Z",
     "iopub.status.busy": "2025-08-01T17:01:35.466161Z",
     "iopub.status.idle": "2025-08-01T17:01:35.471727Z",
     "shell.execute_reply": "2025-08-01T17:01:35.470993Z"
    },
    "papermill": {
     "duration": 0.958929,
     "end_time": "2025-08-01T17:01:35.473036",
     "exception": false,
     "start_time": "2025-08-01T17:01:34.514107",
     "status": "completed"
    },
    "tags": []
   },
   "outputs": [],
   "source": [
    "non_target_gestures = [\"Drink from bottle/cup\", \"Glasses on/off\", \"Pull air toward your face\",\n",
    "                       \"Pinch knee/leg skin\", \"Scratch knee/leg skin\", \"Write name on leg\",\n",
    "                       \"Text on phone\", \"Feel around in tray and pull out an object\",\n",
    "                       \"Write name in air\", \"Wave hello\"]\n",
    "\n",
    "def map_non_target(y_ind):\n",
    "    y_pred = inv_gesture_mapping[y_ind]\n",
    "    if y_ind == 3:\n",
    "        y_ind = 2\n",
    "    elif y_ind == 4:\n",
    "        y_ind = 3\n",
    "    elif y_ind == 6:\n",
    "        y_ind = 4\n",
    "    elif y_ind == 7:\n",
    "        y_ind = 5\n",
    "    elif y_ind == 9:\n",
    "        y_ind = 6\n",
    "    elif y_ind == 10:\n",
    "        y_ind = 7\n",
    "    if y_pred in non_target_gestures:\n",
    "        y_ind = 8\n",
    "    return y_ind\n",
    "\n",
    "vectorize_map_non_target = np.vectorize(map_non_target)"
   ]
  },
  {
   "cell_type": "code",
   "execution_count": 17,
   "id": "a542c480",
   "metadata": {
    "execution": {
     "iopub.execute_input": "2025-08-01T17:01:37.271449Z",
     "iopub.status.busy": "2025-08-01T17:01:37.271146Z",
     "iopub.status.idle": "2025-08-01T17:02:17.168159Z",
     "shell.execute_reply": "2025-08-01T17:02:17.167498Z"
    },
    "papermill": {
     "duration": 40.747336,
     "end_time": "2025-08-01T17:02:17.169674",
     "exception": false,
     "start_time": "2025-08-01T17:01:36.422338",
     "status": "completed"
    },
    "tags": []
   },
   "outputs": [],
   "source": [
    "conf_tensor = np.zeros((9, 9), dtype=np.int32)\n",
    "for i, (inputs, labels) in enumerate(gesture_valid_ds):\n",
    "    labels_pred = model.predict(inputs, verbose=0)\n",
    "    labels_pred = tf.argmax(labels_pred, axis=-1).numpy()\n",
    "    labels_pred = vectorize_map_non_target(labels_pred)\n",
    "    labels_true = tf.argmax(labels, axis=-1).numpy()\n",
    "    labels_true = vectorize_map_non_target(labels_true)\n",
    "    conf_tensor += tf.math.confusion_matrix(labels_true, labels_pred, num_classes=9)"
   ]
  },
  {
   "cell_type": "code",
   "execution_count": 18,
   "id": "30f7d926",
   "metadata": {
    "execution": {
     "iopub.execute_input": "2025-08-01T17:02:18.992087Z",
     "iopub.status.busy": "2025-08-01T17:02:18.991657Z",
     "iopub.status.idle": "2025-08-01T17:02:19.054389Z",
     "shell.execute_reply": "2025-08-01T17:02:19.053564Z"
    },
    "papermill": {
     "duration": 0.921671,
     "end_time": "2025-08-01T17:02:19.055689",
     "exception": false,
     "start_time": "2025-08-01T17:02:18.134018",
     "status": "completed"
    },
    "tags": []
   },
   "outputs": [
    {
     "name": "stdout",
     "output_type": "stream",
     "text": [
      "F1 score mean: 0.448\n"
     ]
    }
   ],
   "source": [
    "precisions = []\n",
    "recalls = []\n",
    "f1s = []\n",
    "\n",
    "for i in range(9):\n",
    "    column = conf_tensor[i, :]\n",
    "    row = conf_tensor[:, i]\n",
    "    precision = column[i] / tf.math.reduce_sum(column)\n",
    "    recall = row[i] / tf.math.reduce_sum(row)\n",
    "    inv_f1 = (1/precision + 1/recall)/2\n",
    "    f1 = 1/inv_f1\n",
    "    precisions.append(precision)\n",
    "    recalls.append(recall)\n",
    "    f1s.append(f1)\n",
    "print(f\"F1 score mean: {np.round(np.mean(f1s), 3)}\")"
   ]
  },
  {
   "cell_type": "code",
   "execution_count": 19,
   "id": "7c8cdb02",
   "metadata": {
    "execution": {
     "iopub.execute_input": "2025-08-01T17:02:20.923496Z",
     "iopub.status.busy": "2025-08-01T17:02:20.923154Z",
     "iopub.status.idle": "2025-08-01T17:02:20.927222Z",
     "shell.execute_reply": "2025-08-01T17:02:20.926318Z"
    },
    "papermill": {
     "duration": 0.942297,
     "end_time": "2025-08-01T17:02:20.928547",
     "exception": false,
     "start_time": "2025-08-01T17:02:19.986250",
     "status": "completed"
    },
    "tags": []
   },
   "outputs": [],
   "source": [
    "# import os\n",
    "# save_path = os.path.join(\"/kaggle/working/\", \"cmi_model.weights.h5\")\n",
    "# model.save_weights(save_path)"
   ]
  },
  {
   "cell_type": "code",
   "execution_count": 20,
   "id": "5eaee766",
   "metadata": {
    "execution": {
     "iopub.execute_input": "2025-08-01T17:02:22.782700Z",
     "iopub.status.busy": "2025-08-01T17:02:22.782162Z",
     "iopub.status.idle": "2025-08-01T17:02:23.105721Z",
     "shell.execute_reply": "2025-08-01T17:02:23.104985Z"
    },
    "papermill": {
     "duration": 1.27716,
     "end_time": "2025-08-01T17:02:23.107075",
     "exception": false,
     "start_time": "2025-08-01T17:02:21.829915",
     "status": "completed"
    },
    "tags": []
   },
   "outputs": [
    {
     "data": {
      "text/html": [
       "<pre style=\"white-space:pre;overflow-x:auto;line-height:normal;font-family:Menlo,'DejaVu Sans Mono',consolas,'Courier New',monospace\"><span style=\"font-weight: bold\">Model: \"rnn_model_1\"</span>\n",
       "</pre>\n"
      ],
      "text/plain": [
       "\u001b[1mModel: \"rnn_model_1\"\u001b[0m\n"
      ]
     },
     "metadata": {},
     "output_type": "display_data"
    },
    {
     "data": {
      "text/html": [
       "<pre style=\"white-space:pre;overflow-x:auto;line-height:normal;font-family:Menlo,'DejaVu Sans Mono',consolas,'Courier New',monospace\">┏━━━━━━━━━━━━━━━━━━━━━━━━━━━━━━━━━┳━━━━━━━━━━━━━━━━━━━━━━━━┳━━━━━━━━━━━━━━━┓\n",
       "┃<span style=\"font-weight: bold\"> Layer (type)                    </span>┃<span style=\"font-weight: bold\"> Output Shape           </span>┃<span style=\"font-weight: bold\">       Param # </span>┃\n",
       "┡━━━━━━━━━━━━━━━━━━━━━━━━━━━━━━━━━╇━━━━━━━━━━━━━━━━━━━━━━━━╇━━━━━━━━━━━━━━━┩\n",
       "│ conv2d_net_0 (<span style=\"color: #0087ff; text-decoration-color: #0087ff\">Sequential</span>)       │ (<span style=\"color: #00d7ff; text-decoration-color: #00d7ff\">None</span>, <span style=\"color: #00af00; text-decoration-color: #00af00\">100</span>, <span style=\"color: #00af00; text-decoration-color: #00af00\">4</span>, <span style=\"color: #00af00; text-decoration-color: #00af00\">4</span>, <span style=\"color: #00af00; text-decoration-color: #00af00\">16</span>)  │           <span style=\"color: #00af00; text-decoration-color: #00af00\">800</span> │\n",
       "├─────────────────────────────────┼────────────────────────┼───────────────┤\n",
       "│ conv2d_net_1 (<span style=\"color: #0087ff; text-decoration-color: #0087ff\">Sequential</span>)       │ (<span style=\"color: #00d7ff; text-decoration-color: #00d7ff\">None</span>, <span style=\"color: #00af00; text-decoration-color: #00af00\">100</span>, <span style=\"color: #00af00; text-decoration-color: #00af00\">2</span>, <span style=\"color: #00af00; text-decoration-color: #00af00\">2</span>, <span style=\"color: #00af00; text-decoration-color: #00af00\">32</span>)  │         <span style=\"color: #00af00; text-decoration-color: #00af00\">4,768</span> │\n",
       "├─────────────────────────────────┼────────────────────────┼───────────────┤\n",
       "│ global_avgpool                  │ (<span style=\"color: #00d7ff; text-decoration-color: #00d7ff\">None</span>, <span style=\"color: #00af00; text-decoration-color: #00af00\">100</span>, <span style=\"color: #00af00; text-decoration-color: #00af00\">32</span>)        │             <span style=\"color: #00af00; text-decoration-color: #00af00\">0</span> │\n",
       "│ (<span style=\"color: #0087ff; text-decoration-color: #0087ff\">TimeDistributed</span>)               │                        │               │\n",
       "├─────────────────────────────────┼────────────────────────┼───────────────┤\n",
       "│ conv1d_net_0 (<span style=\"color: #0087ff; text-decoration-color: #0087ff\">Sequential</span>)       │ (<span style=\"color: #00d7ff; text-decoration-color: #00d7ff\">None</span>, <span style=\"color: #00af00; text-decoration-color: #00af00\">50</span>, <span style=\"color: #00af00; text-decoration-color: #00af00\">64</span>)         │         <span style=\"color: #00af00; text-decoration-color: #00af00\">7,808</span> │\n",
       "├─────────────────────────────────┼────────────────────────┼───────────────┤\n",
       "│ conv1d_net_1 (<span style=\"color: #0087ff; text-decoration-color: #0087ff\">Sequential</span>)       │ (<span style=\"color: #00d7ff; text-decoration-color: #00d7ff\">None</span>, <span style=\"color: #00af00; text-decoration-color: #00af00\">25</span>, <span style=\"color: #00af00; text-decoration-color: #00af00\">128</span>)        │        <span style=\"color: #00af00; text-decoration-color: #00af00\">25,216</span> │\n",
       "├─────────────────────────────────┼────────────────────────┼───────────────┤\n",
       "│ conv1d_net_2 (<span style=\"color: #0087ff; text-decoration-color: #0087ff\">Sequential</span>)       │ (<span style=\"color: #00d7ff; text-decoration-color: #00d7ff\">None</span>, <span style=\"color: #00af00; text-decoration-color: #00af00\">13</span>, <span style=\"color: #00af00; text-decoration-color: #00af00\">256</span>)        │        <span style=\"color: #00af00; text-decoration-color: #00af00\">99,584</span> │\n",
       "├─────────────────────────────────┼────────────────────────┼───────────────┤\n",
       "│ gru_1 (<span style=\"color: #0087ff; text-decoration-color: #0087ff\">GRU</span>)                     │ ?                      │   <span style=\"color: #00af00; text-decoration-color: #00af00\">0</span> (unbuilt) │\n",
       "├─────────────────────────────────┼────────────────────────┼───────────────┤\n",
       "│ GRU (<span style=\"color: #0087ff; text-decoration-color: #0087ff\">Bidirectional</span>)             │ (<span style=\"color: #00d7ff; text-decoration-color: #00d7ff\">None</span>, <span style=\"color: #00af00; text-decoration-color: #00af00\">512</span>)            │       <span style=\"color: #00af00; text-decoration-color: #00af00\">789,504</span> │\n",
       "├─────────────────────────────────┼────────────────────────┼───────────────┤\n",
       "│ flatten_1 (<span style=\"color: #0087ff; text-decoration-color: #0087ff\">Flatten</span>)             │ (<span style=\"color: #00d7ff; text-decoration-color: #00d7ff\">None</span>, <span style=\"color: #00af00; text-decoration-color: #00af00\">512</span>)            │             <span style=\"color: #00af00; text-decoration-color: #00af00\">0</span> │\n",
       "├─────────────────────────────────┼────────────────────────┼───────────────┤\n",
       "│ dense_3 (<span style=\"color: #0087ff; text-decoration-color: #0087ff\">Dense</span>)                 │ (<span style=\"color: #00d7ff; text-decoration-color: #00d7ff\">None</span>, <span style=\"color: #00af00; text-decoration-color: #00af00\">512</span>)            │       <span style=\"color: #00af00; text-decoration-color: #00af00\">265,728</span> │\n",
       "├─────────────────────────────────┼────────────────────────┼───────────────┤\n",
       "│ dense_4 (<span style=\"color: #0087ff; text-decoration-color: #0087ff\">Dense</span>)                 │ (<span style=\"color: #00d7ff; text-decoration-color: #00d7ff\">None</span>, <span style=\"color: #00af00; text-decoration-color: #00af00\">1</span>)              │           <span style=\"color: #00af00; text-decoration-color: #00af00\">513</span> │\n",
       "├─────────────────────────────────┼────────────────────────┼───────────────┤\n",
       "│ dense_5 (<span style=\"color: #0087ff; text-decoration-color: #0087ff\">Dense</span>)                 │ (<span style=\"color: #00d7ff; text-decoration-color: #00d7ff\">None</span>, <span style=\"color: #00af00; text-decoration-color: #00af00\">18</span>)             │         <span style=\"color: #00af00; text-decoration-color: #00af00\">9,234</span> │\n",
       "└─────────────────────────────────┴────────────────────────┴───────────────┘\n",
       "</pre>\n"
      ],
      "text/plain": [
       "┏━━━━━━━━━━━━━━━━━━━━━━━━━━━━━━━━━┳━━━━━━━━━━━━━━━━━━━━━━━━┳━━━━━━━━━━━━━━━┓\n",
       "┃\u001b[1m \u001b[0m\u001b[1mLayer (type)                   \u001b[0m\u001b[1m \u001b[0m┃\u001b[1m \u001b[0m\u001b[1mOutput Shape          \u001b[0m\u001b[1m \u001b[0m┃\u001b[1m \u001b[0m\u001b[1m      Param #\u001b[0m\u001b[1m \u001b[0m┃\n",
       "┡━━━━━━━━━━━━━━━━━━━━━━━━━━━━━━━━━╇━━━━━━━━━━━━━━━━━━━━━━━━╇━━━━━━━━━━━━━━━┩\n",
       "│ conv2d_net_0 (\u001b[38;5;33mSequential\u001b[0m)       │ (\u001b[38;5;45mNone\u001b[0m, \u001b[38;5;34m100\u001b[0m, \u001b[38;5;34m4\u001b[0m, \u001b[38;5;34m4\u001b[0m, \u001b[38;5;34m16\u001b[0m)  │           \u001b[38;5;34m800\u001b[0m │\n",
       "├─────────────────────────────────┼────────────────────────┼───────────────┤\n",
       "│ conv2d_net_1 (\u001b[38;5;33mSequential\u001b[0m)       │ (\u001b[38;5;45mNone\u001b[0m, \u001b[38;5;34m100\u001b[0m, \u001b[38;5;34m2\u001b[0m, \u001b[38;5;34m2\u001b[0m, \u001b[38;5;34m32\u001b[0m)  │         \u001b[38;5;34m4,768\u001b[0m │\n",
       "├─────────────────────────────────┼────────────────────────┼───────────────┤\n",
       "│ global_avgpool                  │ (\u001b[38;5;45mNone\u001b[0m, \u001b[38;5;34m100\u001b[0m, \u001b[38;5;34m32\u001b[0m)        │             \u001b[38;5;34m0\u001b[0m │\n",
       "│ (\u001b[38;5;33mTimeDistributed\u001b[0m)               │                        │               │\n",
       "├─────────────────────────────────┼────────────────────────┼───────────────┤\n",
       "│ conv1d_net_0 (\u001b[38;5;33mSequential\u001b[0m)       │ (\u001b[38;5;45mNone\u001b[0m, \u001b[38;5;34m50\u001b[0m, \u001b[38;5;34m64\u001b[0m)         │         \u001b[38;5;34m7,808\u001b[0m │\n",
       "├─────────────────────────────────┼────────────────────────┼───────────────┤\n",
       "│ conv1d_net_1 (\u001b[38;5;33mSequential\u001b[0m)       │ (\u001b[38;5;45mNone\u001b[0m, \u001b[38;5;34m25\u001b[0m, \u001b[38;5;34m128\u001b[0m)        │        \u001b[38;5;34m25,216\u001b[0m │\n",
       "├─────────────────────────────────┼────────────────────────┼───────────────┤\n",
       "│ conv1d_net_2 (\u001b[38;5;33mSequential\u001b[0m)       │ (\u001b[38;5;45mNone\u001b[0m, \u001b[38;5;34m13\u001b[0m, \u001b[38;5;34m256\u001b[0m)        │        \u001b[38;5;34m99,584\u001b[0m │\n",
       "├─────────────────────────────────┼────────────────────────┼───────────────┤\n",
       "│ gru_1 (\u001b[38;5;33mGRU\u001b[0m)                     │ ?                      │   \u001b[38;5;34m0\u001b[0m (unbuilt) │\n",
       "├─────────────────────────────────┼────────────────────────┼───────────────┤\n",
       "│ GRU (\u001b[38;5;33mBidirectional\u001b[0m)             │ (\u001b[38;5;45mNone\u001b[0m, \u001b[38;5;34m512\u001b[0m)            │       \u001b[38;5;34m789,504\u001b[0m │\n",
       "├─────────────────────────────────┼────────────────────────┼───────────────┤\n",
       "│ flatten_1 (\u001b[38;5;33mFlatten\u001b[0m)             │ (\u001b[38;5;45mNone\u001b[0m, \u001b[38;5;34m512\u001b[0m)            │             \u001b[38;5;34m0\u001b[0m │\n",
       "├─────────────────────────────────┼────────────────────────┼───────────────┤\n",
       "│ dense_3 (\u001b[38;5;33mDense\u001b[0m)                 │ (\u001b[38;5;45mNone\u001b[0m, \u001b[38;5;34m512\u001b[0m)            │       \u001b[38;5;34m265,728\u001b[0m │\n",
       "├─────────────────────────────────┼────────────────────────┼───────────────┤\n",
       "│ dense_4 (\u001b[38;5;33mDense\u001b[0m)                 │ (\u001b[38;5;45mNone\u001b[0m, \u001b[38;5;34m1\u001b[0m)              │           \u001b[38;5;34m513\u001b[0m │\n",
       "├─────────────────────────────────┼────────────────────────┼───────────────┤\n",
       "│ dense_5 (\u001b[38;5;33mDense\u001b[0m)                 │ (\u001b[38;5;45mNone\u001b[0m, \u001b[38;5;34m18\u001b[0m)             │         \u001b[38;5;34m9,234\u001b[0m │\n",
       "└─────────────────────────────────┴────────────────────────┴───────────────┘\n"
      ]
     },
     "metadata": {},
     "output_type": "display_data"
    },
    {
     "data": {
      "text/html": [
       "<pre style=\"white-space:pre;overflow-x:auto;line-height:normal;font-family:Menlo,'DejaVu Sans Mono',consolas,'Courier New',monospace\"><span style=\"font-weight: bold\"> Total params: </span><span style=\"color: #00af00; text-decoration-color: #00af00\">1,203,155</span> (4.59 MB)\n",
       "</pre>\n"
      ],
      "text/plain": [
       "\u001b[1m Total params: \u001b[0m\u001b[38;5;34m1,203,155\u001b[0m (4.59 MB)\n"
      ]
     },
     "metadata": {},
     "output_type": "display_data"
    },
    {
     "data": {
      "text/html": [
       "<pre style=\"white-space:pre;overflow-x:auto;line-height:normal;font-family:Menlo,'DejaVu Sans Mono',consolas,'Courier New',monospace\"><span style=\"font-weight: bold\"> Trainable params: </span><span style=\"color: #00af00; text-decoration-color: #00af00\">1,202,163</span> (4.59 MB)\n",
       "</pre>\n"
      ],
      "text/plain": [
       "\u001b[1m Trainable params: \u001b[0m\u001b[38;5;34m1,202,163\u001b[0m (4.59 MB)\n"
      ]
     },
     "metadata": {},
     "output_type": "display_data"
    },
    {
     "data": {
      "text/html": [
       "<pre style=\"white-space:pre;overflow-x:auto;line-height:normal;font-family:Menlo,'DejaVu Sans Mono',consolas,'Courier New',monospace\"><span style=\"font-weight: bold\"> Non-trainable params: </span><span style=\"color: #00af00; text-decoration-color: #00af00\">992</span> (3.88 KB)\n",
       "</pre>\n"
      ],
      "text/plain": [
       "\u001b[1m Non-trainable params: \u001b[0m\u001b[38;5;34m992\u001b[0m (3.88 KB)\n"
      ]
     },
     "metadata": {},
     "output_type": "display_data"
    }
   ],
   "source": [
    "new_model = RNNModel(kernel_size2d=3, kernel_size1d=3, filters_2d=[16, 32], dropout=0.2,\n",
    "                     filters_1d=[64, 128, 256], rnn_hidden_size=256, mode=\"GRU\", bidirectional=True,\n",
    "                     hidden_size=512, regularizer=\"l1l2\", l1_penalty=1e-3, l2_penalty=1e-4, binary=True)\n",
    "new_model.build(input_shapes=((None, 100, 8, 8, 5), (None, 100, 7), (None, 6)))\n",
    "new_model.load_weights(checkpoint_filepath)\n",
    "new_model.summary()"
   ]
  }
 ],
 "metadata": {
  "kaggle": {
   "accelerator": "gpu",
   "dataSources": [
    {
     "databundleVersionId": 12518947,
     "sourceId": 102335,
     "sourceType": "competition"
    },
    {
     "databundleVersionId": 13245643,
     "datasetId": 7889376,
     "sourceId": 12642395,
     "sourceType": "datasetVersion"
    },
    {
     "databundleVersionId": 13245044,
     "datasetId": 7856290,
     "sourceId": 12641873,
     "sourceType": "datasetVersion"
    }
   ],
   "dockerImageVersionId": 31089,
   "isGpuEnabled": true,
   "isInternetEnabled": false,
   "language": "python",
   "sourceType": "notebook"
  },
  "kernelspec": {
   "display_name": "Python 3",
   "language": "python",
   "name": "python3"
  },
  "language_info": {
   "codemirror_mode": {
    "name": "ipython",
    "version": 3
   },
   "file_extension": ".py",
   "mimetype": "text/x-python",
   "name": "python",
   "nbconvert_exporter": "python",
   "pygments_lexer": "ipython3",
   "version": "3.11.13"
  },
  "papermill": {
   "default_parameters": {},
   "duration": 5270.99801,
   "end_time": "2025-08-01T17:02:26.989070",
   "environment_variables": {},
   "exception": null,
   "input_path": "__notebook__.ipynb",
   "output_path": "__notebook__.ipynb",
   "parameters": {},
   "start_time": "2025-08-01T15:34:35.991060",
   "version": "2.6.0"
  }
 },
 "nbformat": 4,
 "nbformat_minor": 5
}
