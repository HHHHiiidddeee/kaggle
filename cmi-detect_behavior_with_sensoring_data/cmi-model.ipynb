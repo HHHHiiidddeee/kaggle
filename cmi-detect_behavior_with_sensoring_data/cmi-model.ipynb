{
 "cells": [
  {
   "cell_type": "code",
   "execution_count": 1,
   "id": "048eb152",
   "metadata": {
    "execution": {
     "iopub.execute_input": "2025-08-12T07:25:04.240765Z",
     "iopub.status.busy": "2025-08-12T07:25:04.240555Z",
     "iopub.status.idle": "2025-08-12T07:25:20.154555Z",
     "shell.execute_reply": "2025-08-12T07:25:20.153685Z"
    },
    "papermill": {
     "duration": 15.920565,
     "end_time": "2025-08-12T07:25:20.156383",
     "exception": false,
     "start_time": "2025-08-12T07:25:04.235818",
     "status": "completed"
    },
    "tags": []
   },
   "outputs": [
    {
     "name": "stderr",
     "output_type": "stream",
     "text": [
      "2025-08-12 07:25:06.019553: E external/local_xla/xla/stream_executor/cuda/cuda_fft.cc:477] Unable to register cuFFT factory: Attempting to register factory for plugin cuFFT when one has already been registered\n",
      "WARNING: All log messages before absl::InitializeLog() is called are written to STDERR\n",
      "E0000 00:00:1754983506.232619      19 cuda_dnn.cc:8310] Unable to register cuDNN factory: Attempting to register factory for plugin cuDNN when one has already been registered\n",
      "E0000 00:00:1754983506.309227      19 cuda_blas.cc:1418] Unable to register cuBLAS factory: Attempting to register factory for plugin cuBLAS when one has already been registered\n",
      "I0000 00:00:1754983520.009260      19 gpu_device.cc:2022] Created device /job:localhost/replica:0/task:0/device:GPU:0 with 15513 MB memory:  -> device: 0, name: Tesla P100-PCIE-16GB, pci bus id: 0000:00:04.0, compute capability: 6.0\n"
     ]
    }
   ],
   "source": [
    "import tensorflow as tf\n",
    "from tensorflow.keras import Model\n",
    "import numpy as np\n",
    "import pandas as pd\n",
    "import warnings\n",
    "warnings.filterwarnings(\"ignore\")\n",
    "\n",
    "tf.random.set_seed(42)\n",
    "type_train_ds = tf.data.experimental.load(\"/kaggle/input/cmi-tf-datasets/type_train_ds\")\n",
    "type_valid_ds = tf.data.experimental.load(\"/kaggle/input/cmi-tf-datasets/type_valid_ds\")\n",
    "gesture_train_ds = tf.data.experimental.load(\"/kaggle/input/cmi-tf-datasets/gesture_train_ds\")\n",
    "gesture_valid_ds = tf.data.experimental.load(\"/kaggle/input/cmi-tf-datasets/gesture_valid_ds\")\n",
    "# test_ds = tf.data.experimental.load(\"/kaggle/input/cmi-tf-datasets/test_ds\")"
   ]
  },
  {
   "cell_type": "code",
   "execution_count": 2,
   "id": "132a2936",
   "metadata": {
    "execution": {
     "iopub.execute_input": "2025-08-12T07:25:20.164941Z",
     "iopub.status.busy": "2025-08-12T07:25:20.164551Z",
     "iopub.status.idle": "2025-08-12T07:25:20.168004Z",
     "shell.execute_reply": "2025-08-12T07:25:20.167312Z"
    },
    "papermill": {
     "duration": 0.008821,
     "end_time": "2025-08-12T07:25:20.169047",
     "exception": false,
     "start_time": "2025-08-12T07:25:20.160226",
     "status": "completed"
    },
    "tags": []
   },
   "outputs": [],
   "source": [
    "# print(\"Num GPUs Available: \", len(tf.config.list_physical_devices('GPU')))"
   ]
  },
  {
   "cell_type": "code",
   "execution_count": 3,
   "id": "9ba621af",
   "metadata": {
    "execution": {
     "iopub.execute_input": "2025-08-12T07:25:20.176199Z",
     "iopub.status.busy": "2025-08-12T07:25:20.175988Z",
     "iopub.status.idle": "2025-08-12T07:25:20.180817Z",
     "shell.execute_reply": "2025-08-12T07:25:20.180055Z"
    },
    "papermill": {
     "duration": 0.009732,
     "end_time": "2025-08-12T07:25:20.181964",
     "exception": false,
     "start_time": "2025-08-12T07:25:20.172232",
     "status": "completed"
    },
    "tags": []
   },
   "outputs": [
    {
     "name": "stdout",
     "output_type": "stream",
     "text": [
      "230\n",
      "24\n",
      "230\n",
      "24\n"
     ]
    }
   ],
   "source": [
    "print(len(type_train_ds))\n",
    "print(len(type_valid_ds))\n",
    "print(len(gesture_train_ds))\n",
    "print(len(gesture_valid_ds))\n",
    "\n",
    "# print(len(test_ds))"
   ]
  },
  {
   "cell_type": "code",
   "execution_count": 4,
   "id": "126e6956",
   "metadata": {
    "execution": {
     "iopub.execute_input": "2025-08-12T07:25:20.189234Z",
     "iopub.status.busy": "2025-08-12T07:25:20.188815Z",
     "iopub.status.idle": "2025-08-12T07:25:20.398233Z",
     "shell.execute_reply": "2025-08-12T07:25:20.397600Z"
    },
    "papermill": {
     "duration": 0.214223,
     "end_time": "2025-08-12T07:25:20.399385",
     "exception": false,
     "start_time": "2025-08-12T07:25:20.185162",
     "status": "completed"
    },
    "tags": []
   },
   "outputs": [
    {
     "name": "stdout",
     "output_type": "stream",
     "text": [
      "(64, 50, 8, 8, 5)\n",
      "(64, 50, 19)\n",
      "(64, 17)\n",
      "(64, 1)\n"
     ]
    }
   ],
   "source": [
    "for i, (inputs, targets) in enumerate(type_train_ds):\n",
    "    if i==0:\n",
    "        print(inputs[0].shape)\n",
    "        print(inputs[1].shape)\n",
    "        print(inputs[2].shape)\n",
    "        print(targets.shape)\n",
    "        break"
   ]
  },
  {
   "cell_type": "code",
   "execution_count": 5,
   "id": "19cddc0e",
   "metadata": {
    "execution": {
     "iopub.execute_input": "2025-08-12T07:25:20.407675Z",
     "iopub.status.busy": "2025-08-12T07:25:20.407461Z",
     "iopub.status.idle": "2025-08-12T07:25:20.429619Z",
     "shell.execute_reply": "2025-08-12T07:25:20.429119Z"
    },
    "papermill": {
     "duration": 0.027552,
     "end_time": "2025-08-12T07:25:20.430606",
     "exception": false,
     "start_time": "2025-08-12T07:25:20.403054",
     "status": "completed"
    },
    "tags": []
   },
   "outputs": [],
   "source": [
    "from tensorflow.keras.layers import Conv3D, Conv2D, Conv1D, BatchNormalization, TimeDistributed, InputLayer\n",
    "from tensorflow.keras.layers import MaxPool3D, MaxPool2D, GlobalMaxPool3D, GlobalMaxPool2D, AveragePooling1D, Dropout\n",
    "from tensorflow.keras.layers import SimpleRNN, LSTM, GRU, Bidirectional, Flatten, Dense\n",
    "from tensorflow.keras.layers import ReLU, ELU, Masking\n",
    "from tensorflow.keras.regularizers import L1, L2, L1L2\n",
    "from tensorflow.keras import Sequential\n",
    "\n",
    "class RNNModel(Model):\n",
    "    def __init__(self, kernel_size3d=3, kernel_size1d=3, filters_3d=[16, 32], dropout=0.2, \n",
    "                 filters_1d=[16, 32], num_rnn_layers=1, rnn_hidden_size=32, mode=\"RNN\", \n",
    "                 bidirectional=False, hidden_size=64, regularizer=\"l1\", l1_penalty=0.1, l2_penalty=0.1, \n",
    "                 binary=True, **kwargs):\n",
    "        super().__init__(**kwargs)\n",
    "        self.hidden_size = hidden_size\n",
    "        self.bidirectional = bidirectional\n",
    "        \n",
    "        self.conv3d_nets = []\n",
    "        for i in range(len(filters_3d)):\n",
    "            conv3d_net = Sequential([\n",
    "                Conv3D(filters_3d[i], kernel_size3d, padding=\"same\", use_bias=False),\n",
    "                BatchNormalization(),\n",
    "                ReLU(),\n",
    "                MaxPool3D(pool_size=(2, 2, 2), strides=(2, 1, 1), padding=\"same\"),\n",
    "                Dropout(dropout)\n",
    "            ], name=f\"conv3d_net_{i}\")\n",
    "            self.conv3d_nets.append(conv3d_net)\n",
    "        self.global_maxpool = GlobalMaxPool3D()\n",
    "\n",
    "        self.conv1d_nets = []\n",
    "        for i in range(len(filters_1d)):\n",
    "            conv1d_net = Sequential([\n",
    "                Conv1D(filters_1d[i], kernel_size1d, padding=\"same\", kernel_initializer=\"he_normal\", use_bias=False),\n",
    "                BatchNormalization(),\n",
    "                ELU(),\n",
    "                AveragePooling1D(pool_size=2, strides=2, padding=\"same\"),\n",
    "                Dropout(dropout)\n",
    "            ], name=f\"conv1d_net_{i}\")\n",
    "            self.conv1d_nets.append(conv1d_net)\n",
    "\n",
    "        self.masking = Masking(mask_value=0.0)\n",
    "        self.rnns = []\n",
    "        # self.skip_dense = Dense(rnn_hidden_size*2, name=\"skip_connection_dense_bidirectional\")\n",
    "        for i in range(num_rnn_layers):\n",
    "            return_sequences = True if i!=num_rnn_layers-1 else False\n",
    "            if mode == \"RNN\":\n",
    "                rnn = SimpleRNN(rnn_hidden_size, kernel_initializer=\"glorot_normal\", recurrent_initializer=\"orthogonal\", \n",
    "                                dropout=dropout, recurrent_dropout=dropout, return_sequences=return_sequences)\n",
    "            elif mode == \"LSTM\":\n",
    "                rnn = LSTM(rnn_hidden_size, kernel_initializer=\"glorot_normal\", recurrent_initializer=\"orthogonal\", \n",
    "                           dropout=dropout, recurrent_dropout=dropout, return_sequences=return_sequences)\n",
    "            else:\n",
    "                rnn = GRU(rnn_hidden_size, kernel_initializer=\"glorot_normal\", recurrent_initializer=\"orthogonal\", \n",
    "                          dropout=dropout, recurrent_dropout=dropout, return_sequences=return_sequences)\n",
    "            if bidirectional:\n",
    "                rnn = Bidirectional(rnn, name=f\"{mode}_{i}\")\n",
    "            self.rnns.append(rnn)\n",
    "        \n",
    "        # self.dense_flat = Sequential([\n",
    "        #     Dense(1, activation=\"relu\"),\n",
    "        #     Flatten()\n",
    "        # ], name=\"dense_and_flatten\")\n",
    "\n",
    "        if regularizer == \"l1\":\n",
    "            self.dense0 = Dense(hidden_size, activation=\"relu\", \n",
    "                                kernel_regularizer=L1(l1_penalty),\n",
    "                                bias_regularizer=L1(l1_penalty))\n",
    "            self.dense1_0 = Dense(1, activation=\"sigmoid\",\n",
    "                                  kernel_regularizer=L1(l1_penalty),\n",
    "                                  bias_regularizer=L1(l1_penalty))\n",
    "            self.dense1_1 = Dense(18, activation=\"softmax\", kernel_initializer=\"glorot_normal\",\n",
    "                                  kernel_regularizer=L1(l1_penalty),\n",
    "                                  bias_regularizer=L1(l1_penalty))\n",
    "        elif regularizer == \"l2\":\n",
    "            self.dense0 = Dense(hidden_size, activation=\"relu\", \n",
    "                                kernel_regularizer=L2(l2_penalty),\n",
    "                                bias_regularizer=L2(l2_penalty))\n",
    "            self.dense1_0 = Dense(1, activation=\"sigmoid\", \n",
    "                                  kernel_regularizer=L2(l2_penalty),\n",
    "                                  bias_regularizer=L2(l2_penalty))\n",
    "            self.dense1_1 = Dense(18, activation=\"softmax\", kernel_initializer=\"glorot_normal\",\n",
    "                                  kernel_regularizer=L2(l2_penalty),\n",
    "                                  bias_regularizer=L2(l2_penalty))\n",
    "        elif regularizer == \"l1l2\":\n",
    "            self.dense0 = Dense(hidden_size, activation=\"relu\", \n",
    "                                kernel_regularizer=L1L2(l1_penalty, l2_penalty),\n",
    "                                bias_regularizer=L1L2(l1_penalty, l2_penalty))\n",
    "            self.dense1_0 = Dense(1, activation=\"sigmoid\", \n",
    "                                  kernel_regularizer=L1L2(l1_penalty, l2_penalty),\n",
    "                                  bias_regularizer=L1L2(l1_penalty, l2_penalty))\n",
    "            self.dense1_1 = Dense(18, activation=\"softmax\", kernel_initializer=\"glorot_normal\",\n",
    "                                  kernel_regularizer=L1L2(l1_penalty, l2_penalty),\n",
    "                                  bias_regularizer=L1L2(l1_penalty, l2_penalty))\n",
    "        else:\n",
    "            self.dense0 = Dense(hidden_size, activation=\"relu\")\n",
    "            self.dense1_0 = Dense(1, activation=\"sigmoid\")\n",
    "            self.dense1_1 = Dense(18, activation=\"softmax\")\n",
    "\n",
    "        self.binary = binary\n",
    "\n",
    "    def build(self, input_shapes, training=False):\n",
    "        image_shape = input_shapes[0]\n",
    "        for i in range(len(self.conv3d_nets)):\n",
    "            self.conv3d_nets[i].build(image_shape)\n",
    "            image_shape = self.conv3d_nets[i].compute_output_shape(image_shape)\n",
    "        self.global_maxpool.build(image_shape)\n",
    "        image_shape = self.global_maxpool.compute_output_shape(image_shape)\n",
    "\n",
    "        time_series_shape = input_shapes[1]\n",
    "        for i in range(len(self.conv1d_nets)):\n",
    "            self.conv1d_nets[i].build(time_series_shape)\n",
    "            shape = self.conv1d_nets[i].compute_output_shape(time_series_shape)\n",
    "\n",
    "        self.masking.build(time_series_shape)\n",
    "        time_series_shape = self.masking.compute_output_shape(time_series_shape)\n",
    "        # self.skip_dense.build(shape)\n",
    "        for i in range(len(self.rnns)):\n",
    "            self.rnns[i].build(time_series_shape)\n",
    "            time_series_shape = self.rnns[i].compute_output_shape(time_series_shape)\n",
    "        \n",
    "        shape = (image_shape[0], image_shape[1] + time_series_shape[1] + input_shapes[2][1])\n",
    "\n",
    "        self.dense0.build(shape)\n",
    "        shape = self.dense0.compute_output_shape(shape)\n",
    "\n",
    "        self.dense1_0.build(shape)\n",
    "        self.dense1_1.build(shape)\n",
    "        \n",
    "\n",
    "    def call(self, inputs, training=False):\n",
    "        image_out = inputs[0]\n",
    "        for i in range(len(self.conv3d_nets)):\n",
    "            image_out = self.conv3d_nets[i](image_out, training=training)\n",
    "        image_out = self.global_maxpool(image_out)   # (batch, filters)\n",
    "\n",
    "        time_series_out = inputs[1]\n",
    "        # out = tf.RaggedTensor.from_tensor(out, lengths=inputs[3])\n",
    "        for i in range(len(self.conv1d_nets)):\n",
    "            time_series_out = self.conv1d_nets[i](time_series_out, training=training)\n",
    "\n",
    "        time_series_out = self.masking(time_series_out)\n",
    "        mask = self.masking.compute_mask(time_series_out)\n",
    "        # time_series_out = tf.ragged.boolean_mask(time_series_out, mask)\n",
    "        for i in range(len(self.rnns)):\n",
    "            time_series_out = self.rnns[i](time_series_out, mask=mask, training=training)\n",
    "            # if i==0 and len(self.rnns)!=1:\n",
    "            #     out = self.skip_dense(out) if self.bidirectional else out\n",
    "            #     out = rnn_out + out\n",
    "            # if i < len(self.rnns)-1:\n",
    "            #     out = rnn_out + out\n",
    "            # else:\n",
    "            #     out = rnn_out\n",
    "        # out = self.rnn(out, training=training)        # (batch, downsampled_timestep, rnn_hidden_size)\n",
    "        out = tf.concat([image_out, time_series_out, inputs[2]], axis=-1)\n",
    "        out = self.dense0(out)\n",
    "        if self.binary:\n",
    "            out = self.dense1_0(out)\n",
    "        else:\n",
    "            out = self.dense1_1(out)\n",
    "        return out\n",
    "\n",
    "    def set_binary(self):\n",
    "        self.binary = True\n",
    "        if self.dense1_0.build == False:\n",
    "            self.dense1_0.build(input_shape=(None, self.hidden_size))\n",
    "\n",
    "    def set_multi(self):\n",
    "        self.binary = False\n",
    "        if self.dense1_1.build == False:\n",
    "            self.dense1_1.build(input_shape=(None, self.hidden_size))\n",
    "\n",
    "    def freeze_conv_timeseries(self):\n",
    "        for i in range(len(self.conv2d_nets)):\n",
    "            self.conv3d_nets[i].trainable = False\n",
    "        for i in range(len(self.conv1d_nets)):\n",
    "            self.conv1d_nets[i].trainable = False\n",
    "        self.rnn.trainable = False"
   ]
  },
  {
   "cell_type": "code",
   "execution_count": 6,
   "id": "17ed124c",
   "metadata": {
    "execution": {
     "iopub.execute_input": "2025-08-12T07:25:20.437800Z",
     "iopub.status.busy": "2025-08-12T07:25:20.437620Z",
     "iopub.status.idle": "2025-08-12T07:25:20.488294Z",
     "shell.execute_reply": "2025-08-12T07:25:20.487648Z"
    },
    "papermill": {
     "duration": 0.055528,
     "end_time": "2025-08-12T07:25:20.489408",
     "exception": false,
     "start_time": "2025-08-12T07:25:20.433880",
     "status": "completed"
    },
    "tags": []
   },
   "outputs": [
    {
     "name": "stdout",
     "output_type": "stream",
     "text": [
      "(64, 50, 8, 8, 5)\n",
      "(64, 50, 19)\n",
      "(64, 17)\n"
     ]
    }
   ],
   "source": [
    "for i, (inputs, targets) in enumerate(type_train_ds):\n",
    "    if i == 0:\n",
    "        print(inputs[0].shape)\n",
    "        print(inputs[1].shape)\n",
    "        print(inputs[2].shape)\n",
    "        break"
   ]
  },
  {
   "cell_type": "code",
   "execution_count": 7,
   "id": "f4eef415",
   "metadata": {
    "execution": {
     "iopub.execute_input": "2025-08-12T07:25:20.497110Z",
     "iopub.status.busy": "2025-08-12T07:25:20.496879Z",
     "iopub.status.idle": "2025-08-12T07:25:20.504313Z",
     "shell.execute_reply": "2025-08-12T07:25:20.503803Z"
    },
    "papermill": {
     "duration": 0.012302,
     "end_time": "2025-08-12T07:25:20.505324",
     "exception": false,
     "start_time": "2025-08-12T07:25:20.493022",
     "status": "completed"
    },
    "tags": []
   },
   "outputs": [],
   "source": [
    "import json\n",
    "\n",
    "with open('/kaggle/input/cmi-tf-datasets/sample_weight.json') as f:\n",
    "    sample_weight_dict = json.load(f)\n",
    "\n",
    "type_sample_weight = sample_weight_dict[\"type_sample_weight\"]\n",
    "type_class_weight = {0: type_sample_weight[0], 1: type_sample_weight[1]}\n",
    "\n",
    "gesture_sample_weight = sample_weight_dict[\"gesture_sample_weight\"]\n",
    "gesture_class_weight = {i: gesture_sample_weight[i] for i in range(len(gesture_sample_weight))}"
   ]
  },
  {
   "cell_type": "code",
   "execution_count": 8,
   "id": "174be6f5",
   "metadata": {
    "execution": {
     "iopub.execute_input": "2025-08-12T07:25:20.513418Z",
     "iopub.status.busy": "2025-08-12T07:25:20.513213Z",
     "iopub.status.idle": "2025-08-12T07:25:20.517250Z",
     "shell.execute_reply": "2025-08-12T07:25:20.516582Z"
    },
    "papermill": {
     "duration": 0.009675,
     "end_time": "2025-08-12T07:25:20.518265",
     "exception": false,
     "start_time": "2025-08-12T07:25:20.508590",
     "status": "completed"
    },
    "tags": []
   },
   "outputs": [],
   "source": [
    "def add_type_sample_weight(x, y):\n",
    "    y_int = tf.cast(y, tf.int32)\n",
    "    weight = tf.gather([type_class_weight[0], type_class_weight[1]], y_int)\n",
    "    return x, y, weight\n",
    "\n",
    "def add_gesture_sample_weight(x, y):\n",
    "    y_arg = tf.argmax(y)\n",
    "    weight = tf.gather(gesture_sample_weight, y_arg)\n",
    "    return x, y, weight"
   ]
  },
  {
   "cell_type": "code",
   "execution_count": 9,
   "id": "3c6e3b11",
   "metadata": {
    "execution": {
     "iopub.execute_input": "2025-08-12T07:25:20.525553Z",
     "iopub.status.busy": "2025-08-12T07:25:20.525122Z",
     "iopub.status.idle": "2025-08-12T07:25:20.610457Z",
     "shell.execute_reply": "2025-08-12T07:25:20.609842Z"
    },
    "papermill": {
     "duration": 0.090163,
     "end_time": "2025-08-12T07:25:20.611602",
     "exception": false,
     "start_time": "2025-08-12T07:25:20.521439",
     "status": "completed"
    },
    "tags": []
   },
   "outputs": [],
   "source": [
    "type_train_ds = type_train_ds.unbatch().map(add_type_sample_weight).batch(32, drop_remainder=True)\n",
    "type_valid_ds = type_valid_ds.unbatch().map(add_type_sample_weight).batch(32, drop_remainder=True)"
   ]
  },
  {
   "cell_type": "code",
   "execution_count": 10,
   "id": "078ca722",
   "metadata": {
    "execution": {
     "iopub.execute_input": "2025-08-12T07:25:20.618858Z",
     "iopub.status.busy": "2025-08-12T07:25:20.618656Z",
     "iopub.status.idle": "2025-08-12T07:25:20.645653Z",
     "shell.execute_reply": "2025-08-12T07:25:20.645184Z"
    },
    "papermill": {
     "duration": 0.03172,
     "end_time": "2025-08-12T07:25:20.646706",
     "exception": false,
     "start_time": "2025-08-12T07:25:20.614986",
     "status": "completed"
    },
    "tags": []
   },
   "outputs": [],
   "source": [
    "# gesture_train_ds = gesture_train_ds.unbatch().map(add_gesture_sample_weight).batch(16)\n",
    "# gesture_valid_ds = gesture_valid_ds.unbatch().map(add_gesture_sample_weight).batch(16)\n",
    "gesture_train_ds = gesture_train_ds.unbatch().batch(32)\n",
    "gesture_valid_ds = gesture_valid_ds.unbatch().batch(32)"
   ]
  },
  {
   "cell_type": "code",
   "execution_count": 11,
   "id": "67e5efd8",
   "metadata": {
    "execution": {
     "iopub.execute_input": "2025-08-12T07:25:20.653862Z",
     "iopub.status.busy": "2025-08-12T07:25:20.653663Z",
     "iopub.status.idle": "2025-08-12T07:25:20.657303Z",
     "shell.execute_reply": "2025-08-12T07:25:20.656792Z"
    },
    "papermill": {
     "duration": 0.008431,
     "end_time": "2025-08-12T07:25:20.658349",
     "exception": false,
     "start_time": "2025-08-12T07:25:20.649918",
     "status": "completed"
    },
    "tags": []
   },
   "outputs": [],
   "source": [
    "def scheduler(epoch):\n",
    "    lr = 0.001\n",
    "    if epoch < 20:\n",
    "        return lr\n",
    "    elif 20 <= epoch and epoch < 40:\n",
    "        return lr * (1/2)\n",
    "    elif 40 <= epoch and epoch < 60:\n",
    "        return lr * (1/4)\n",
    "    elif 60 <= epoch and epoch < 80:\n",
    "        return lr * (1/8)\n",
    "    else:\n",
    "        return lr * (1/16)"
   ]
  },
  {
   "cell_type": "code",
   "execution_count": 12,
   "id": "5a68900a",
   "metadata": {
    "execution": {
     "iopub.execute_input": "2025-08-12T07:25:20.665762Z",
     "iopub.status.busy": "2025-08-12T07:25:20.665549Z",
     "iopub.status.idle": "2025-08-12T07:25:22.093203Z",
     "shell.execute_reply": "2025-08-12T07:25:22.092515Z"
    },
    "papermill": {
     "duration": 1.432703,
     "end_time": "2025-08-12T07:25:22.094249",
     "exception": false,
     "start_time": "2025-08-12T07:25:20.661546",
     "status": "completed"
    },
    "tags": []
   },
   "outputs": [
    {
     "data": {
      "text/html": [
       "<pre style=\"white-space:pre;overflow-x:auto;line-height:normal;font-family:Menlo,'DejaVu Sans Mono',consolas,'Courier New',monospace\"><span style=\"font-weight: bold\">Model: \"rnn_model\"</span>\n",
       "</pre>\n"
      ],
      "text/plain": [
       "\u001b[1mModel: \"rnn_model\"\u001b[0m\n"
      ]
     },
     "metadata": {},
     "output_type": "display_data"
    },
    {
     "data": {
      "text/html": [
       "<pre style=\"white-space:pre;overflow-x:auto;line-height:normal;font-family:Menlo,'DejaVu Sans Mono',consolas,'Courier New',monospace\">┏━━━━━━━━━━━━━━━━━━━━━━━━━━━━━━━━━┳━━━━━━━━━━━━━━━━━━━━━━━━┳━━━━━━━━━━━━━━━┓\n",
       "┃<span style=\"font-weight: bold\"> Layer (type)                    </span>┃<span style=\"font-weight: bold\"> Output Shape           </span>┃<span style=\"font-weight: bold\">       Param # </span>┃\n",
       "┡━━━━━━━━━━━━━━━━━━━━━━━━━━━━━━━━━╇━━━━━━━━━━━━━━━━━━━━━━━━╇━━━━━━━━━━━━━━━┩\n",
       "│ conv3d_net_0 (<span style=\"color: #0087ff; text-decoration-color: #0087ff\">Sequential</span>)       │ (<span style=\"color: #00d7ff; text-decoration-color: #00d7ff\">None</span>, <span style=\"color: #00d7ff; text-decoration-color: #00d7ff\">None</span>, <span style=\"color: #00af00; text-decoration-color: #00af00\">8</span>, <span style=\"color: #00af00; text-decoration-color: #00af00\">8</span>, <span style=\"color: #00af00; text-decoration-color: #00af00\">8</span>)  │         <span style=\"color: #00af00; text-decoration-color: #00af00\">1,832</span> │\n",
       "├─────────────────────────────────┼────────────────────────┼───────────────┤\n",
       "│ conv3d_net_1 (<span style=\"color: #0087ff; text-decoration-color: #0087ff\">Sequential</span>)       │ (<span style=\"color: #00d7ff; text-decoration-color: #00d7ff\">None</span>, <span style=\"color: #00d7ff; text-decoration-color: #00d7ff\">None</span>, <span style=\"color: #00af00; text-decoration-color: #00af00\">8</span>, <span style=\"color: #00af00; text-decoration-color: #00af00\">8</span>, <span style=\"color: #00af00; text-decoration-color: #00af00\">16</span>) │         <span style=\"color: #00af00; text-decoration-color: #00af00\">5,824</span> │\n",
       "├─────────────────────────────────┼────────────────────────┼───────────────┤\n",
       "│ conv3d_net_2 (<span style=\"color: #0087ff; text-decoration-color: #0087ff\">Sequential</span>)       │ (<span style=\"color: #00d7ff; text-decoration-color: #00d7ff\">None</span>, <span style=\"color: #00d7ff; text-decoration-color: #00d7ff\">None</span>, <span style=\"color: #00af00; text-decoration-color: #00af00\">8</span>, <span style=\"color: #00af00; text-decoration-color: #00af00\">8</span>, <span style=\"color: #00af00; text-decoration-color: #00af00\">32</span>) │        <span style=\"color: #00af00; text-decoration-color: #00af00\">23,168</span> │\n",
       "├─────────────────────────────────┼────────────────────────┼───────────────┤\n",
       "│ global_max_pooling3d            │ (<span style=\"color: #00d7ff; text-decoration-color: #00d7ff\">None</span>, <span style=\"color: #00af00; text-decoration-color: #00af00\">32</span>)             │             <span style=\"color: #00af00; text-decoration-color: #00af00\">0</span> │\n",
       "│ (<span style=\"color: #0087ff; text-decoration-color: #0087ff\">GlobalMaxPooling3D</span>)            │                        │               │\n",
       "├─────────────────────────────────┼────────────────────────┼───────────────┤\n",
       "│ masking (<span style=\"color: #0087ff; text-decoration-color: #0087ff\">Masking</span>)               │ (<span style=\"color: #00d7ff; text-decoration-color: #00d7ff\">None</span>, <span style=\"color: #00d7ff; text-decoration-color: #00d7ff\">None</span>, <span style=\"color: #00af00; text-decoration-color: #00af00\">19</span>)       │             <span style=\"color: #00af00; text-decoration-color: #00af00\">0</span> │\n",
       "├─────────────────────────────────┼────────────────────────┼───────────────┤\n",
       "│ gru (<span style=\"color: #0087ff; text-decoration-color: #0087ff\">GRU</span>)                       │ (<span style=\"color: #00d7ff; text-decoration-color: #00d7ff\">None</span>, <span style=\"color: #00af00; text-decoration-color: #00af00\">32</span>)             │         <span style=\"color: #00af00; text-decoration-color: #00af00\">5,088</span> │\n",
       "├─────────────────────────────────┼────────────────────────┼───────────────┤\n",
       "│ dense (<span style=\"color: #0087ff; text-decoration-color: #0087ff\">Dense</span>)                   │ (<span style=\"color: #00d7ff; text-decoration-color: #00d7ff\">None</span>, <span style=\"color: #00af00; text-decoration-color: #00af00\">32</span>)             │         <span style=\"color: #00af00; text-decoration-color: #00af00\">2,624</span> │\n",
       "├─────────────────────────────────┼────────────────────────┼───────────────┤\n",
       "│ dense_1 (<span style=\"color: #0087ff; text-decoration-color: #0087ff\">Dense</span>)                 │ (<span style=\"color: #00d7ff; text-decoration-color: #00d7ff\">None</span>, <span style=\"color: #00af00; text-decoration-color: #00af00\">1</span>)              │            <span style=\"color: #00af00; text-decoration-color: #00af00\">33</span> │\n",
       "├─────────────────────────────────┼────────────────────────┼───────────────┤\n",
       "│ dense_2 (<span style=\"color: #0087ff; text-decoration-color: #0087ff\">Dense</span>)                 │ (<span style=\"color: #00d7ff; text-decoration-color: #00d7ff\">None</span>, <span style=\"color: #00af00; text-decoration-color: #00af00\">18</span>)             │           <span style=\"color: #00af00; text-decoration-color: #00af00\">594</span> │\n",
       "└─────────────────────────────────┴────────────────────────┴───────────────┘\n",
       "</pre>\n"
      ],
      "text/plain": [
       "┏━━━━━━━━━━━━━━━━━━━━━━━━━━━━━━━━━┳━━━━━━━━━━━━━━━━━━━━━━━━┳━━━━━━━━━━━━━━━┓\n",
       "┃\u001b[1m \u001b[0m\u001b[1mLayer (type)                   \u001b[0m\u001b[1m \u001b[0m┃\u001b[1m \u001b[0m\u001b[1mOutput Shape          \u001b[0m\u001b[1m \u001b[0m┃\u001b[1m \u001b[0m\u001b[1m      Param #\u001b[0m\u001b[1m \u001b[0m┃\n",
       "┡━━━━━━━━━━━━━━━━━━━━━━━━━━━━━━━━━╇━━━━━━━━━━━━━━━━━━━━━━━━╇━━━━━━━━━━━━━━━┩\n",
       "│ conv3d_net_0 (\u001b[38;5;33mSequential\u001b[0m)       │ (\u001b[38;5;45mNone\u001b[0m, \u001b[38;5;45mNone\u001b[0m, \u001b[38;5;34m8\u001b[0m, \u001b[38;5;34m8\u001b[0m, \u001b[38;5;34m8\u001b[0m)  │         \u001b[38;5;34m1,832\u001b[0m │\n",
       "├─────────────────────────────────┼────────────────────────┼───────────────┤\n",
       "│ conv3d_net_1 (\u001b[38;5;33mSequential\u001b[0m)       │ (\u001b[38;5;45mNone\u001b[0m, \u001b[38;5;45mNone\u001b[0m, \u001b[38;5;34m8\u001b[0m, \u001b[38;5;34m8\u001b[0m, \u001b[38;5;34m16\u001b[0m) │         \u001b[38;5;34m5,824\u001b[0m │\n",
       "├─────────────────────────────────┼────────────────────────┼───────────────┤\n",
       "│ conv3d_net_2 (\u001b[38;5;33mSequential\u001b[0m)       │ (\u001b[38;5;45mNone\u001b[0m, \u001b[38;5;45mNone\u001b[0m, \u001b[38;5;34m8\u001b[0m, \u001b[38;5;34m8\u001b[0m, \u001b[38;5;34m32\u001b[0m) │        \u001b[38;5;34m23,168\u001b[0m │\n",
       "├─────────────────────────────────┼────────────────────────┼───────────────┤\n",
       "│ global_max_pooling3d            │ (\u001b[38;5;45mNone\u001b[0m, \u001b[38;5;34m32\u001b[0m)             │             \u001b[38;5;34m0\u001b[0m │\n",
       "│ (\u001b[38;5;33mGlobalMaxPooling3D\u001b[0m)            │                        │               │\n",
       "├─────────────────────────────────┼────────────────────────┼───────────────┤\n",
       "│ masking (\u001b[38;5;33mMasking\u001b[0m)               │ (\u001b[38;5;45mNone\u001b[0m, \u001b[38;5;45mNone\u001b[0m, \u001b[38;5;34m19\u001b[0m)       │             \u001b[38;5;34m0\u001b[0m │\n",
       "├─────────────────────────────────┼────────────────────────┼───────────────┤\n",
       "│ gru (\u001b[38;5;33mGRU\u001b[0m)                       │ (\u001b[38;5;45mNone\u001b[0m, \u001b[38;5;34m32\u001b[0m)             │         \u001b[38;5;34m5,088\u001b[0m │\n",
       "├─────────────────────────────────┼────────────────────────┼───────────────┤\n",
       "│ dense (\u001b[38;5;33mDense\u001b[0m)                   │ (\u001b[38;5;45mNone\u001b[0m, \u001b[38;5;34m32\u001b[0m)             │         \u001b[38;5;34m2,624\u001b[0m │\n",
       "├─────────────────────────────────┼────────────────────────┼───────────────┤\n",
       "│ dense_1 (\u001b[38;5;33mDense\u001b[0m)                 │ (\u001b[38;5;45mNone\u001b[0m, \u001b[38;5;34m1\u001b[0m)              │            \u001b[38;5;34m33\u001b[0m │\n",
       "├─────────────────────────────────┼────────────────────────┼───────────────┤\n",
       "│ dense_2 (\u001b[38;5;33mDense\u001b[0m)                 │ (\u001b[38;5;45mNone\u001b[0m, \u001b[38;5;34m18\u001b[0m)             │           \u001b[38;5;34m594\u001b[0m │\n",
       "└─────────────────────────────────┴────────────────────────┴───────────────┘\n"
      ]
     },
     "metadata": {},
     "output_type": "display_data"
    },
    {
     "data": {
      "text/html": [
       "<pre style=\"white-space:pre;overflow-x:auto;line-height:normal;font-family:Menlo,'DejaVu Sans Mono',consolas,'Courier New',monospace\"><span style=\"font-weight: bold\"> Total params: </span><span style=\"color: #00af00; text-decoration-color: #00af00\">39,163</span> (152.98 KB)\n",
       "</pre>\n"
      ],
      "text/plain": [
       "\u001b[1m Total params: \u001b[0m\u001b[38;5;34m39,163\u001b[0m (152.98 KB)\n"
      ]
     },
     "metadata": {},
     "output_type": "display_data"
    },
    {
     "data": {
      "text/html": [
       "<pre style=\"white-space:pre;overflow-x:auto;line-height:normal;font-family:Menlo,'DejaVu Sans Mono',consolas,'Courier New',monospace\"><span style=\"font-weight: bold\"> Trainable params: </span><span style=\"color: #00af00; text-decoration-color: #00af00\">39,051</span> (152.54 KB)\n",
       "</pre>\n"
      ],
      "text/plain": [
       "\u001b[1m Trainable params: \u001b[0m\u001b[38;5;34m39,051\u001b[0m (152.54 KB)\n"
      ]
     },
     "metadata": {},
     "output_type": "display_data"
    },
    {
     "data": {
      "text/html": [
       "<pre style=\"white-space:pre;overflow-x:auto;line-height:normal;font-family:Menlo,'DejaVu Sans Mono',consolas,'Courier New',monospace\"><span style=\"font-weight: bold\"> Non-trainable params: </span><span style=\"color: #00af00; text-decoration-color: #00af00\">112</span> (448.00 B)\n",
       "</pre>\n"
      ],
      "text/plain": [
       "\u001b[1m Non-trainable params: \u001b[0m\u001b[38;5;34m112\u001b[0m (448.00 B)\n"
      ]
     },
     "metadata": {},
     "output_type": "display_data"
    }
   ],
   "source": [
    "from tensorflow.keras.losses import BinaryCrossentropy, CategoricalCrossentropy, CategoricalFocalCrossentropy\n",
    "from tensorflow.keras.optimizers import Adam\n",
    "from tensorflow.keras.metrics import BinaryAccuracy, F1Score, AUC\n",
    "\n",
    "model = RNNModel(kernel_size3d=(5, 3, 3), kernel_size1d=5, filters_3d=[8, 16, 32], dropout=0.2,\n",
    "                 filters_1d=[], num_rnn_layers=1, rnn_hidden_size=32, mode=\"GRU\", \n",
    "                 bidirectional=False, hidden_size=32, regularizer=\"l1l2\", \n",
    "                 l1_penalty=1e-6, l2_penalty=1e-6, binary=False)\n",
    "model.build(input_shapes=((None, None, 8, 8, 5), (None, None, 19), (None, 17)))\n",
    "# model.set_multi()\n",
    "model.compile(loss=CategoricalFocalCrossentropy(alpha=gesture_sample_weight, \n",
    "                                                gamma=2,\n",
    "                                                label_smoothing=0.2),\n",
    "              optimizer=Adam(learning_rate=5e-3),\n",
    "              metrics=[\"accuracy\"])\n",
    "model.summary()\n",
    "# model.freeze_conv_timeseries()"
   ]
  },
  {
   "cell_type": "code",
   "execution_count": 13,
   "id": "23266117",
   "metadata": {
    "execution": {
     "iopub.execute_input": "2025-08-12T07:25:22.102929Z",
     "iopub.status.busy": "2025-08-12T07:25:22.102696Z",
     "iopub.status.idle": "2025-08-12T08:17:27.664530Z",
     "shell.execute_reply": "2025-08-12T08:17:27.663943Z"
    },
    "papermill": {
     "duration": 3125.567403,
     "end_time": "2025-08-12T08:17:27.665816",
     "exception": false,
     "start_time": "2025-08-12T07:25:22.098413",
     "status": "completed"
    },
    "tags": []
   },
   "outputs": [
    {
     "name": "stdout",
     "output_type": "stream",
     "text": [
      "Epoch 1/50\n"
     ]
    },
    {
     "name": "stderr",
     "output_type": "stream",
     "text": [
      "I0000 00:00:1754983530.155048      57 cuda_dnn.cc:529] Loaded cuDNN version 90300\n"
     ]
    },
    {
     "name": "stdout",
     "output_type": "stream",
     "text": [
      "    459/Unknown \u001b[1m62s\u001b[0m 110ms/step - accuracy: 0.1617 - loss: 6.3387\n",
      "Epoch 1: val_accuracy improved from -inf to 0.27716, saving model to /kaggle/working/cmi_best_model.weights.h5\n",
      "\u001b[1m459/459\u001b[0m \u001b[32m━━━━━━━━━━━━━━━━━━━━\u001b[0m\u001b[37m\u001b[0m \u001b[1m76s\u001b[0m 140ms/step - accuracy: 0.1618 - loss: 6.3373 - val_accuracy: 0.2772 - val_loss: 5.4041\n",
      "Epoch 2/50\n",
      "\u001b[1m459/459\u001b[0m \u001b[32m━━━━━━━━━━━━━━━━━━━━\u001b[0m\u001b[37m\u001b[0m \u001b[1m0s\u001b[0m 109ms/step - accuracy: 0.3246 - loss: 4.9993\n",
      "Epoch 2: val_accuracy improved from 0.27716 to 0.32521, saving model to /kaggle/working/cmi_best_model.weights.h5\n",
      "\u001b[1m459/459\u001b[0m \u001b[32m━━━━━━━━━━━━━━━━━━━━\u001b[0m\u001b[37m\u001b[0m \u001b[1m62s\u001b[0m 135ms/step - accuracy: 0.3246 - loss: 4.9991 - val_accuracy: 0.3252 - val_loss: 5.0260\n",
      "Epoch 3/50\n",
      "\u001b[1m459/459\u001b[0m \u001b[32m━━━━━━━━━━━━━━━━━━━━\u001b[0m\u001b[37m\u001b[0m \u001b[1m0s\u001b[0m 111ms/step - accuracy: 0.3656 - loss: 4.6893\n",
      "Epoch 3: val_accuracy improved from 0.32521 to 0.40158, saving model to /kaggle/working/cmi_best_model.weights.h5\n",
      "\u001b[1m459/459\u001b[0m \u001b[32m━━━━━━━━━━━━━━━━━━━━\u001b[0m\u001b[37m\u001b[0m \u001b[1m63s\u001b[0m 137ms/step - accuracy: 0.3656 - loss: 4.6892 - val_accuracy: 0.4016 - val_loss: 4.7548\n",
      "Epoch 4/50\n",
      "\u001b[1m459/459\u001b[0m \u001b[32m━━━━━━━━━━━━━━━━━━━━\u001b[0m\u001b[37m\u001b[0m \u001b[1m0s\u001b[0m 113ms/step - accuracy: 0.4041 - loss: 4.5126\n",
      "Epoch 4: val_accuracy improved from 0.40158 to 0.40948, saving model to /kaggle/working/cmi_best_model.weights.h5\n",
      "\u001b[1m459/459\u001b[0m \u001b[32m━━━━━━━━━━━━━━━━━━━━\u001b[0m\u001b[37m\u001b[0m \u001b[1m63s\u001b[0m 138ms/step - accuracy: 0.4041 - loss: 4.5126 - val_accuracy: 0.4095 - val_loss: 4.7235\n",
      "Epoch 5/50\n",
      "\u001b[1m459/459\u001b[0m \u001b[32m━━━━━━━━━━━━━━━━━━━━\u001b[0m\u001b[37m\u001b[0m \u001b[1m0s\u001b[0m 110ms/step - accuracy: 0.4258 - loss: 4.3681\n",
      "Epoch 5: val_accuracy improved from 0.40948 to 0.41540, saving model to /kaggle/working/cmi_best_model.weights.h5\n",
      "\u001b[1m459/459\u001b[0m \u001b[32m━━━━━━━━━━━━━━━━━━━━\u001b[0m\u001b[37m\u001b[0m \u001b[1m62s\u001b[0m 135ms/step - accuracy: 0.4258 - loss: 4.3680 - val_accuracy: 0.4154 - val_loss: 4.6152\n",
      "Epoch 6/50\n",
      "\u001b[1m459/459\u001b[0m \u001b[32m━━━━━━━━━━━━━━━━━━━━\u001b[0m\u001b[37m\u001b[0m \u001b[1m0s\u001b[0m 109ms/step - accuracy: 0.4377 - loss: 4.3012\n",
      "Epoch 6: val_accuracy improved from 0.41540 to 0.42989, saving model to /kaggle/working/cmi_best_model.weights.h5\n",
      "\u001b[1m459/459\u001b[0m \u001b[32m━━━━━━━━━━━━━━━━━━━━\u001b[0m\u001b[37m\u001b[0m \u001b[1m62s\u001b[0m 135ms/step - accuracy: 0.4377 - loss: 4.3011 - val_accuracy: 0.4299 - val_loss: 4.6377\n",
      "Epoch 7/50\n",
      "\u001b[1m459/459\u001b[0m \u001b[32m━━━━━━━━━━━━━━━━━━━━\u001b[0m\u001b[37m\u001b[0m \u001b[1m0s\u001b[0m 109ms/step - accuracy: 0.4544 - loss: 4.2103\n",
      "Epoch 7: val_accuracy did not improve from 0.42989\n",
      "\u001b[1m459/459\u001b[0m \u001b[32m━━━━━━━━━━━━━━━━━━━━\u001b[0m\u001b[37m\u001b[0m \u001b[1m61s\u001b[0m 134ms/step - accuracy: 0.4544 - loss: 4.2102 - val_accuracy: 0.4134 - val_loss: 4.5707\n",
      "Epoch 8/50\n",
      "\u001b[1m459/459\u001b[0m \u001b[32m━━━━━━━━━━━━━━━━━━━━\u001b[0m\u001b[37m\u001b[0m \u001b[1m0s\u001b[0m 109ms/step - accuracy: 0.4581 - loss: 4.1542\n",
      "Epoch 8: val_accuracy did not improve from 0.42989\n",
      "\u001b[1m459/459\u001b[0m \u001b[32m━━━━━━━━━━━━━━━━━━━━\u001b[0m\u001b[37m\u001b[0m \u001b[1m62s\u001b[0m 134ms/step - accuracy: 0.4581 - loss: 4.1541 - val_accuracy: 0.4161 - val_loss: 4.4968\n",
      "Epoch 9/50\n",
      "\u001b[1m459/459\u001b[0m \u001b[32m━━━━━━━━━━━━━━━━━━━━\u001b[0m\u001b[37m\u001b[0m \u001b[1m0s\u001b[0m 108ms/step - accuracy: 0.4747 - loss: 4.0925\n",
      "Epoch 9: val_accuracy improved from 0.42989 to 0.44108, saving model to /kaggle/working/cmi_best_model.weights.h5\n",
      "\u001b[1m459/459\u001b[0m \u001b[32m━━━━━━━━━━━━━━━━━━━━\u001b[0m\u001b[37m\u001b[0m \u001b[1m61s\u001b[0m 134ms/step - accuracy: 0.4747 - loss: 4.0924 - val_accuracy: 0.4411 - val_loss: 4.5096\n",
      "Epoch 10/50\n",
      "\u001b[1m459/459\u001b[0m \u001b[32m━━━━━━━━━━━━━━━━━━━━\u001b[0m\u001b[37m\u001b[0m \u001b[1m0s\u001b[0m 108ms/step - accuracy: 0.4814 - loss: 4.0085\n",
      "Epoch 10: val_accuracy improved from 0.44108 to 0.45556, saving model to /kaggle/working/cmi_best_model.weights.h5\n",
      "\u001b[1m459/459\u001b[0m \u001b[32m━━━━━━━━━━━━━━━━━━━━\u001b[0m\u001b[37m\u001b[0m \u001b[1m61s\u001b[0m 133ms/step - accuracy: 0.4814 - loss: 4.0084 - val_accuracy: 0.4556 - val_loss: 4.3980\n",
      "Epoch 11/50\n",
      "\u001b[1m459/459\u001b[0m \u001b[32m━━━━━━━━━━━━━━━━━━━━\u001b[0m\u001b[37m\u001b[0m \u001b[1m0s\u001b[0m 108ms/step - accuracy: 0.4935 - loss: 3.9684\n",
      "Epoch 11: val_accuracy did not improve from 0.45556\n",
      "\u001b[1m459/459\u001b[0m \u001b[32m━━━━━━━━━━━━━━━━━━━━\u001b[0m\u001b[37m\u001b[0m \u001b[1m62s\u001b[0m 134ms/step - accuracy: 0.4936 - loss: 3.9683 - val_accuracy: 0.4444 - val_loss: 4.4542\n",
      "Epoch 12/50\n",
      "\u001b[1m459/459\u001b[0m \u001b[32m━━━━━━━━━━━━━━━━━━━━\u001b[0m\u001b[37m\u001b[0m \u001b[1m0s\u001b[0m 110ms/step - accuracy: 0.4977 - loss: 3.9424\n",
      "Epoch 12: val_accuracy did not improve from 0.45556\n",
      "\u001b[1m459/459\u001b[0m \u001b[32m━━━━━━━━━━━━━━━━━━━━\u001b[0m\u001b[37m\u001b[0m \u001b[1m62s\u001b[0m 135ms/step - accuracy: 0.4977 - loss: 3.9423 - val_accuracy: 0.4371 - val_loss: 4.4661\n",
      "Epoch 13/50\n",
      "\u001b[1m459/459\u001b[0m \u001b[32m━━━━━━━━━━━━━━━━━━━━\u001b[0m\u001b[37m\u001b[0m \u001b[1m0s\u001b[0m 110ms/step - accuracy: 0.5034 - loss: 3.8775\n",
      "Epoch 13: val_accuracy did not improve from 0.45556\n",
      "\u001b[1m459/459\u001b[0m \u001b[32m━━━━━━━━━━━━━━━━━━━━\u001b[0m\u001b[37m\u001b[0m \u001b[1m62s\u001b[0m 135ms/step - accuracy: 0.5034 - loss: 3.8774 - val_accuracy: 0.4503 - val_loss: 4.4605\n",
      "Epoch 14/50\n",
      "\u001b[1m459/459\u001b[0m \u001b[32m━━━━━━━━━━━━━━━━━━━━\u001b[0m\u001b[37m\u001b[0m \u001b[1m0s\u001b[0m 109ms/step - accuracy: 0.5137 - loss: 3.8347\n",
      "Epoch 14: val_accuracy improved from 0.45556 to 0.45622, saving model to /kaggle/working/cmi_best_model.weights.h5\n",
      "\u001b[1m459/459\u001b[0m \u001b[32m━━━━━━━━━━━━━━━━━━━━\u001b[0m\u001b[37m\u001b[0m \u001b[1m61s\u001b[0m 134ms/step - accuracy: 0.5138 - loss: 3.8346 - val_accuracy: 0.4562 - val_loss: 4.4533\n",
      "Epoch 15/50\n",
      "\u001b[1m459/459\u001b[0m \u001b[32m━━━━━━━━━━━━━━━━━━━━\u001b[0m\u001b[37m\u001b[0m \u001b[1m0s\u001b[0m 111ms/step - accuracy: 0.5123 - loss: 3.8257\n",
      "Epoch 15: val_accuracy did not improve from 0.45622\n",
      "\u001b[1m459/459\u001b[0m \u001b[32m━━━━━━━━━━━━━━━━━━━━\u001b[0m\u001b[37m\u001b[0m \u001b[1m62s\u001b[0m 136ms/step - accuracy: 0.5123 - loss: 3.8256 - val_accuracy: 0.4516 - val_loss: 4.5483\n",
      "Epoch 16/50\n",
      "\u001b[1m459/459\u001b[0m \u001b[32m━━━━━━━━━━━━━━━━━━━━\u001b[0m\u001b[37m\u001b[0m \u001b[1m0s\u001b[0m 109ms/step - accuracy: 0.5304 - loss: 3.7529\n",
      "Epoch 16: val_accuracy improved from 0.45622 to 0.47202, saving model to /kaggle/working/cmi_best_model.weights.h5\n",
      "\u001b[1m459/459\u001b[0m \u001b[32m━━━━━━━━━━━━━━━━━━━━\u001b[0m\u001b[37m\u001b[0m \u001b[1m62s\u001b[0m 136ms/step - accuracy: 0.5304 - loss: 3.7528 - val_accuracy: 0.4720 - val_loss: 4.3932\n",
      "Epoch 17/50\n",
      "\u001b[1m459/459\u001b[0m \u001b[32m━━━━━━━━━━━━━━━━━━━━\u001b[0m\u001b[37m\u001b[0m \u001b[1m0s\u001b[0m 109ms/step - accuracy: 0.5313 - loss: 3.7424\n",
      "Epoch 17: val_accuracy did not improve from 0.47202\n",
      "\u001b[1m459/459\u001b[0m \u001b[32m━━━━━━━━━━━━━━━━━━━━\u001b[0m\u001b[37m\u001b[0m \u001b[1m62s\u001b[0m 135ms/step - accuracy: 0.5314 - loss: 3.7423 - val_accuracy: 0.4714 - val_loss: 4.4066\n",
      "Epoch 18/50\n",
      "\u001b[1m459/459\u001b[0m \u001b[32m━━━━━━━━━━━━━━━━━━━━\u001b[0m\u001b[37m\u001b[0m \u001b[1m0s\u001b[0m 109ms/step - accuracy: 0.5418 - loss: 3.6971\n",
      "Epoch 18: val_accuracy did not improve from 0.47202\n",
      "\u001b[1m459/459\u001b[0m \u001b[32m━━━━━━━━━━━━━━━━━━━━\u001b[0m\u001b[37m\u001b[0m \u001b[1m62s\u001b[0m 134ms/step - accuracy: 0.5418 - loss: 3.6970 - val_accuracy: 0.4681 - val_loss: 4.4766\n",
      "Epoch 19/50\n",
      "\u001b[1m459/459\u001b[0m \u001b[32m━━━━━━━━━━━━━━━━━━━━\u001b[0m\u001b[37m\u001b[0m \u001b[1m0s\u001b[0m 109ms/step - accuracy: 0.5443 - loss: 3.6708\n",
      "Epoch 19: val_accuracy did not improve from 0.47202\n",
      "\u001b[1m459/459\u001b[0m \u001b[32m━━━━━━━━━━━━━━━━━━━━\u001b[0m\u001b[37m\u001b[0m \u001b[1m62s\u001b[0m 134ms/step - accuracy: 0.5443 - loss: 3.6707 - val_accuracy: 0.4536 - val_loss: 4.4182\n",
      "Epoch 20/50\n",
      "\u001b[1m459/459\u001b[0m \u001b[32m━━━━━━━━━━━━━━━━━━━━\u001b[0m\u001b[37m\u001b[0m \u001b[1m0s\u001b[0m 109ms/step - accuracy: 0.5466 - loss: 3.6476\n",
      "Epoch 20: val_accuracy did not improve from 0.47202\n",
      "\u001b[1m459/459\u001b[0m \u001b[32m━━━━━━━━━━━━━━━━━━━━\u001b[0m\u001b[37m\u001b[0m \u001b[1m62s\u001b[0m 134ms/step - accuracy: 0.5466 - loss: 3.6475 - val_accuracy: 0.4431 - val_loss: 4.4610\n",
      "Epoch 21/50\n",
      "\u001b[1m459/459\u001b[0m \u001b[32m━━━━━━━━━━━━━━━━━━━━\u001b[0m\u001b[37m\u001b[0m \u001b[1m0s\u001b[0m 110ms/step - accuracy: 0.5567 - loss: 3.6172\n",
      "Epoch 21: val_accuracy did not improve from 0.47202\n",
      "\u001b[1m459/459\u001b[0m \u001b[32m━━━━━━━━━━━━━━━━━━━━\u001b[0m\u001b[37m\u001b[0m \u001b[1m62s\u001b[0m 136ms/step - accuracy: 0.5567 - loss: 3.6172 - val_accuracy: 0.4615 - val_loss: 4.4701\n",
      "Epoch 22/50\n",
      "\u001b[1m459/459\u001b[0m \u001b[32m━━━━━━━━━━━━━━━━━━━━\u001b[0m\u001b[37m\u001b[0m \u001b[1m0s\u001b[0m 110ms/step - accuracy: 0.5528 - loss: 3.6068\n",
      "Epoch 22: val_accuracy did not improve from 0.47202\n",
      "\u001b[1m459/459\u001b[0m \u001b[32m━━━━━━━━━━━━━━━━━━━━\u001b[0m\u001b[37m\u001b[0m \u001b[1m62s\u001b[0m 135ms/step - accuracy: 0.5528 - loss: 3.6067 - val_accuracy: 0.4503 - val_loss: 4.5593\n",
      "Epoch 23/50\n",
      "\u001b[1m459/459\u001b[0m \u001b[32m━━━━━━━━━━━━━━━━━━━━\u001b[0m\u001b[37m\u001b[0m \u001b[1m0s\u001b[0m 110ms/step - accuracy: 0.5571 - loss: 3.5763\n",
      "Epoch 23: val_accuracy did not improve from 0.47202\n",
      "\u001b[1m459/459\u001b[0m \u001b[32m━━━━━━━━━━━━━━━━━━━━\u001b[0m\u001b[37m\u001b[0m \u001b[1m62s\u001b[0m 135ms/step - accuracy: 0.5571 - loss: 3.5762 - val_accuracy: 0.4404 - val_loss: 4.6557\n",
      "Epoch 24/50\n",
      "\u001b[1m459/459\u001b[0m \u001b[32m━━━━━━━━━━━━━━━━━━━━\u001b[0m\u001b[37m\u001b[0m \u001b[1m0s\u001b[0m 109ms/step - accuracy: 0.5630 - loss: 3.5477\n",
      "Epoch 24: val_accuracy did not improve from 0.47202\n",
      "\u001b[1m459/459\u001b[0m \u001b[32m━━━━━━━━━━━━━━━━━━━━\u001b[0m\u001b[37m\u001b[0m \u001b[1m62s\u001b[0m 134ms/step - accuracy: 0.5630 - loss: 3.5477 - val_accuracy: 0.4602 - val_loss: 4.5120\n",
      "Epoch 25/50\n",
      "\u001b[1m459/459\u001b[0m \u001b[32m━━━━━━━━━━━━━━━━━━━━\u001b[0m\u001b[37m\u001b[0m \u001b[1m0s\u001b[0m 109ms/step - accuracy: 0.5692 - loss: 3.5402\n",
      "Epoch 25: val_accuracy did not improve from 0.47202\n",
      "\u001b[1m459/459\u001b[0m \u001b[32m━━━━━━━━━━━━━━━━━━━━\u001b[0m\u001b[37m\u001b[0m \u001b[1m62s\u001b[0m 134ms/step - accuracy: 0.5692 - loss: 3.5401 - val_accuracy: 0.4345 - val_loss: 4.5176\n",
      "Epoch 26/50\n",
      "\u001b[1m459/459\u001b[0m \u001b[32m━━━━━━━━━━━━━━━━━━━━\u001b[0m\u001b[37m\u001b[0m \u001b[1m0s\u001b[0m 110ms/step - accuracy: 0.5645 - loss: 3.5312\n",
      "Epoch 26: val_accuracy did not improve from 0.47202\n",
      "\u001b[1m459/459\u001b[0m \u001b[32m━━━━━━━━━━━━━━━━━━━━\u001b[0m\u001b[37m\u001b[0m \u001b[1m62s\u001b[0m 136ms/step - accuracy: 0.5645 - loss: 3.5311 - val_accuracy: 0.4641 - val_loss: 4.4488\n",
      "Epoch 27/50\n",
      "\u001b[1m459/459\u001b[0m \u001b[32m━━━━━━━━━━━━━━━━━━━━\u001b[0m\u001b[37m\u001b[0m \u001b[1m0s\u001b[0m 109ms/step - accuracy: 0.5660 - loss: 3.5112\n",
      "Epoch 27: val_accuracy did not improve from 0.47202\n",
      "\u001b[1m459/459\u001b[0m \u001b[32m━━━━━━━━━━━━━━━━━━━━\u001b[0m\u001b[37m\u001b[0m \u001b[1m62s\u001b[0m 134ms/step - accuracy: 0.5660 - loss: 3.5112 - val_accuracy: 0.4608 - val_loss: 4.5354\n",
      "Epoch 28/50\n",
      "\u001b[1m459/459\u001b[0m \u001b[32m━━━━━━━━━━━━━━━━━━━━\u001b[0m\u001b[37m\u001b[0m \u001b[1m0s\u001b[0m 109ms/step - accuracy: 0.5772 - loss: 3.4735\n",
      "Epoch 28: val_accuracy did not improve from 0.47202\n",
      "\u001b[1m459/459\u001b[0m \u001b[32m━━━━━━━━━━━━━━━━━━━━\u001b[0m\u001b[37m\u001b[0m \u001b[1m62s\u001b[0m 134ms/step - accuracy: 0.5772 - loss: 3.4735 - val_accuracy: 0.4569 - val_loss: 4.4382\n",
      "Epoch 29/50\n",
      "\u001b[1m459/459\u001b[0m \u001b[32m━━━━━━━━━━━━━━━━━━━━\u001b[0m\u001b[37m\u001b[0m \u001b[1m0s\u001b[0m 110ms/step - accuracy: 0.5742 - loss: 3.4798\n",
      "Epoch 29: val_accuracy did not improve from 0.47202\n",
      "\u001b[1m459/459\u001b[0m \u001b[32m━━━━━━━━━━━━━━━━━━━━\u001b[0m\u001b[37m\u001b[0m \u001b[1m62s\u001b[0m 135ms/step - accuracy: 0.5742 - loss: 3.4798 - val_accuracy: 0.4628 - val_loss: 4.5784\n",
      "Epoch 30/50\n",
      "\u001b[1m459/459\u001b[0m \u001b[32m━━━━━━━━━━━━━━━━━━━━\u001b[0m\u001b[37m\u001b[0m \u001b[1m0s\u001b[0m 110ms/step - accuracy: 0.5830 - loss: 3.4624\n",
      "Epoch 30: val_accuracy did not improve from 0.47202\n",
      "\u001b[1m459/459\u001b[0m \u001b[32m━━━━━━━━━━━━━━━━━━━━\u001b[0m\u001b[37m\u001b[0m \u001b[1m62s\u001b[0m 135ms/step - accuracy: 0.5830 - loss: 3.4624 - val_accuracy: 0.4608 - val_loss: 4.5855\n",
      "Epoch 31/50\n",
      "\u001b[1m459/459\u001b[0m \u001b[32m━━━━━━━━━━━━━━━━━━━━\u001b[0m\u001b[37m\u001b[0m \u001b[1m0s\u001b[0m 111ms/step - accuracy: 0.5840 - loss: 3.4459\n",
      "Epoch 31: val_accuracy did not improve from 0.47202\n",
      "\u001b[1m459/459\u001b[0m \u001b[32m━━━━━━━━━━━━━━━━━━━━\u001b[0m\u001b[37m\u001b[0m \u001b[1m63s\u001b[0m 136ms/step - accuracy: 0.5840 - loss: 3.4459 - val_accuracy: 0.4431 - val_loss: 4.6571\n",
      "Epoch 32/50\n",
      "\u001b[1m459/459\u001b[0m \u001b[32m━━━━━━━━━━━━━━━━━━━━\u001b[0m\u001b[37m\u001b[0m \u001b[1m0s\u001b[0m 111ms/step - accuracy: 0.5751 - loss: 3.4804\n",
      "Epoch 32: val_accuracy did not improve from 0.47202\n",
      "\u001b[1m459/459\u001b[0m \u001b[32m━━━━━━━━━━━━━━━━━━━━\u001b[0m\u001b[37m\u001b[0m \u001b[1m62s\u001b[0m 136ms/step - accuracy: 0.5751 - loss: 3.4804 - val_accuracy: 0.4635 - val_loss: 4.4703\n",
      "Epoch 33/50\n",
      "\u001b[1m459/459\u001b[0m \u001b[32m━━━━━━━━━━━━━━━━━━━━\u001b[0m\u001b[37m\u001b[0m \u001b[1m0s\u001b[0m 110ms/step - accuracy: 0.5908 - loss: 3.4396\n",
      "Epoch 33: val_accuracy did not improve from 0.47202\n",
      "\u001b[1m459/459\u001b[0m \u001b[32m━━━━━━━━━━━━━━━━━━━━\u001b[0m\u001b[37m\u001b[0m \u001b[1m62s\u001b[0m 135ms/step - accuracy: 0.5908 - loss: 3.4395 - val_accuracy: 0.4714 - val_loss: 4.4615\n",
      "Epoch 34/50\n",
      "\u001b[1m459/459\u001b[0m \u001b[32m━━━━━━━━━━━━━━━━━━━━\u001b[0m\u001b[37m\u001b[0m \u001b[1m0s\u001b[0m 110ms/step - accuracy: 0.5814 - loss: 3.4517\n",
      "Epoch 34: val_accuracy did not improve from 0.47202\n",
      "\u001b[1m459/459\u001b[0m \u001b[32m━━━━━━━━━━━━━━━━━━━━\u001b[0m\u001b[37m\u001b[0m \u001b[1m62s\u001b[0m 135ms/step - accuracy: 0.5814 - loss: 3.4516 - val_accuracy: 0.4720 - val_loss: 4.3660\n",
      "Epoch 35/50\n",
      "\u001b[1m459/459\u001b[0m \u001b[32m━━━━━━━━━━━━━━━━━━━━\u001b[0m\u001b[37m\u001b[0m \u001b[1m0s\u001b[0m 111ms/step - accuracy: 0.5881 - loss: 3.4000\n",
      "Epoch 35: val_accuracy did not improve from 0.47202\n",
      "\u001b[1m459/459\u001b[0m \u001b[32m━━━━━━━━━━━━━━━━━━━━\u001b[0m\u001b[37m\u001b[0m \u001b[1m62s\u001b[0m 135ms/step - accuracy: 0.5882 - loss: 3.4000 - val_accuracy: 0.4661 - val_loss: 4.4226\n",
      "Epoch 36/50\n",
      "\u001b[1m459/459\u001b[0m \u001b[32m━━━━━━━━━━━━━━━━━━━━\u001b[0m\u001b[37m\u001b[0m \u001b[1m0s\u001b[0m 111ms/step - accuracy: 0.5940 - loss: 3.3848\n",
      "Epoch 36: val_accuracy did not improve from 0.47202\n",
      "\u001b[1m459/459\u001b[0m \u001b[32m━━━━━━━━━━━━━━━━━━━━\u001b[0m\u001b[37m\u001b[0m \u001b[1m63s\u001b[0m 137ms/step - accuracy: 0.5940 - loss: 3.3847 - val_accuracy: 0.4687 - val_loss: 4.4636\n",
      "Epoch 37/50\n",
      "\u001b[1m459/459\u001b[0m \u001b[32m━━━━━━━━━━━━━━━━━━━━\u001b[0m\u001b[37m\u001b[0m \u001b[1m0s\u001b[0m 111ms/step - accuracy: 0.5875 - loss: 3.3874\n",
      "Epoch 37: val_accuracy improved from 0.47202 to 0.47334, saving model to /kaggle/working/cmi_best_model.weights.h5\n",
      "\u001b[1m459/459\u001b[0m \u001b[32m━━━━━━━━━━━━━━━━━━━━\u001b[0m\u001b[37m\u001b[0m \u001b[1m63s\u001b[0m 136ms/step - accuracy: 0.5875 - loss: 3.3873 - val_accuracy: 0.4733 - val_loss: 4.5215\n",
      "Epoch 38/50\n",
      "\u001b[1m459/459\u001b[0m \u001b[32m━━━━━━━━━━━━━━━━━━━━\u001b[0m\u001b[37m\u001b[0m \u001b[1m0s\u001b[0m 111ms/step - accuracy: 0.5966 - loss: 3.3660\n",
      "Epoch 38: val_accuracy did not improve from 0.47334\n",
      "\u001b[1m459/459\u001b[0m \u001b[32m━━━━━━━━━━━━━━━━━━━━\u001b[0m\u001b[37m\u001b[0m \u001b[1m62s\u001b[0m 136ms/step - accuracy: 0.5967 - loss: 3.3659 - val_accuracy: 0.4727 - val_loss: 4.4604\n",
      "Epoch 39/50\n",
      "\u001b[1m459/459\u001b[0m \u001b[32m━━━━━━━━━━━━━━━━━━━━\u001b[0m\u001b[37m\u001b[0m \u001b[1m0s\u001b[0m 111ms/step - accuracy: 0.6030 - loss: 3.3554\n",
      "Epoch 39: val_accuracy improved from 0.47334 to 0.47400, saving model to /kaggle/working/cmi_best_model.weights.h5\n",
      "\u001b[1m459/459\u001b[0m \u001b[32m━━━━━━━━━━━━━━━━━━━━\u001b[0m\u001b[37m\u001b[0m \u001b[1m63s\u001b[0m 137ms/step - accuracy: 0.6030 - loss: 3.3553 - val_accuracy: 0.4740 - val_loss: 4.5208\n",
      "Epoch 40/50\n",
      "\u001b[1m459/459\u001b[0m \u001b[32m━━━━━━━━━━━━━━━━━━━━\u001b[0m\u001b[37m\u001b[0m \u001b[1m0s\u001b[0m 111ms/step - accuracy: 0.5968 - loss: 3.3522\n",
      "Epoch 40: val_accuracy improved from 0.47400 to 0.47465, saving model to /kaggle/working/cmi_best_model.weights.h5\n",
      "\u001b[1m459/459\u001b[0m \u001b[32m━━━━━━━━━━━━━━━━━━━━\u001b[0m\u001b[37m\u001b[0m \u001b[1m62s\u001b[0m 136ms/step - accuracy: 0.5968 - loss: 3.3522 - val_accuracy: 0.4747 - val_loss: 4.4574\n",
      "Epoch 41/50\n",
      "\u001b[1m459/459\u001b[0m \u001b[32m━━━━━━━━━━━━━━━━━━━━\u001b[0m\u001b[37m\u001b[0m \u001b[1m0s\u001b[0m 111ms/step - accuracy: 0.5993 - loss: 3.3668\n",
      "Epoch 41: val_accuracy improved from 0.47465 to 0.47795, saving model to /kaggle/working/cmi_best_model.weights.h5\n",
      "\u001b[1m459/459\u001b[0m \u001b[32m━━━━━━━━━━━━━━━━━━━━\u001b[0m\u001b[37m\u001b[0m \u001b[1m63s\u001b[0m 137ms/step - accuracy: 0.5993 - loss: 3.3668 - val_accuracy: 0.4779 - val_loss: 4.4756\n",
      "Epoch 42/50\n",
      "\u001b[1m459/459\u001b[0m \u001b[32m━━━━━━━━━━━━━━━━━━━━\u001b[0m\u001b[37m\u001b[0m \u001b[1m0s\u001b[0m 111ms/step - accuracy: 0.5986 - loss: 3.3664\n",
      "Epoch 42: val_accuracy did not improve from 0.47795\n",
      "\u001b[1m459/459\u001b[0m \u001b[32m━━━━━━━━━━━━━━━━━━━━\u001b[0m\u001b[37m\u001b[0m \u001b[1m62s\u001b[0m 136ms/step - accuracy: 0.5987 - loss: 3.3663 - val_accuracy: 0.4681 - val_loss: 4.4679\n",
      "Epoch 43/50\n",
      "\u001b[1m459/459\u001b[0m \u001b[32m━━━━━━━━━━━━━━━━━━━━\u001b[0m\u001b[37m\u001b[0m \u001b[1m0s\u001b[0m 111ms/step - accuracy: 0.6026 - loss: 3.3446\n",
      "Epoch 43: val_accuracy did not improve from 0.47795\n",
      "\u001b[1m459/459\u001b[0m \u001b[32m━━━━━━━━━━━━━━━━━━━━\u001b[0m\u001b[37m\u001b[0m \u001b[1m62s\u001b[0m 136ms/step - accuracy: 0.6026 - loss: 3.3446 - val_accuracy: 0.4700 - val_loss: 4.5757\n",
      "Epoch 44/50\n",
      "\u001b[1m459/459\u001b[0m \u001b[32m━━━━━━━━━━━━━━━━━━━━\u001b[0m\u001b[37m\u001b[0m \u001b[1m0s\u001b[0m 111ms/step - accuracy: 0.6007 - loss: 3.3442\n",
      "Epoch 44: val_accuracy improved from 0.47795 to 0.48058, saving model to /kaggle/working/cmi_best_model.weights.h5\n",
      "\u001b[1m459/459\u001b[0m \u001b[32m━━━━━━━━━━━━━━━━━━━━\u001b[0m\u001b[37m\u001b[0m \u001b[1m62s\u001b[0m 136ms/step - accuracy: 0.6007 - loss: 3.3442 - val_accuracy: 0.4806 - val_loss: 4.5149\n",
      "Epoch 45/50\n",
      "\u001b[1m459/459\u001b[0m \u001b[32m━━━━━━━━━━━━━━━━━━━━\u001b[0m\u001b[37m\u001b[0m \u001b[1m0s\u001b[0m 111ms/step - accuracy: 0.5945 - loss: 3.3455\n",
      "Epoch 45: val_accuracy did not improve from 0.48058\n",
      "\u001b[1m459/459\u001b[0m \u001b[32m━━━━━━━━━━━━━━━━━━━━\u001b[0m\u001b[37m\u001b[0m \u001b[1m63s\u001b[0m 137ms/step - accuracy: 0.5945 - loss: 3.3454 - val_accuracy: 0.4727 - val_loss: 4.4682\n",
      "Epoch 46/50\n",
      "\u001b[1m459/459\u001b[0m \u001b[32m━━━━━━━━━━━━━━━━━━━━\u001b[0m\u001b[37m\u001b[0m \u001b[1m0s\u001b[0m 111ms/step - accuracy: 0.6020 - loss: 3.3303\n",
      "Epoch 46: val_accuracy did not improve from 0.48058\n",
      "\u001b[1m459/459\u001b[0m \u001b[32m━━━━━━━━━━━━━━━━━━━━\u001b[0m\u001b[37m\u001b[0m \u001b[1m63s\u001b[0m 137ms/step - accuracy: 0.6021 - loss: 3.3302 - val_accuracy: 0.4740 - val_loss: 4.4408\n",
      "Epoch 47/50\n",
      "\u001b[1m459/459\u001b[0m \u001b[32m━━━━━━━━━━━━━━━━━━━━\u001b[0m\u001b[37m\u001b[0m \u001b[1m0s\u001b[0m 111ms/step - accuracy: 0.6102 - loss: 3.3186\n",
      "Epoch 47: val_accuracy did not improve from 0.48058\n",
      "\u001b[1m459/459\u001b[0m \u001b[32m━━━━━━━━━━━━━━━━━━━━\u001b[0m\u001b[37m\u001b[0m \u001b[1m63s\u001b[0m 137ms/step - accuracy: 0.6102 - loss: 3.3185 - val_accuracy: 0.4700 - val_loss: 4.4822\n",
      "Epoch 48/50\n",
      "\u001b[1m459/459\u001b[0m \u001b[32m━━━━━━━━━━━━━━━━━━━━\u001b[0m\u001b[37m\u001b[0m \u001b[1m0s\u001b[0m 112ms/step - accuracy: 0.6122 - loss: 3.2960\n",
      "Epoch 48: val_accuracy improved from 0.48058 to 0.48650, saving model to /kaggle/working/cmi_best_model.weights.h5\n",
      "\u001b[1m459/459\u001b[0m \u001b[32m━━━━━━━━━━━━━━━━━━━━\u001b[0m\u001b[37m\u001b[0m \u001b[1m63s\u001b[0m 138ms/step - accuracy: 0.6122 - loss: 3.2959 - val_accuracy: 0.4865 - val_loss: 4.4576\n",
      "Epoch 49/50\n",
      "\u001b[1m459/459\u001b[0m \u001b[32m━━━━━━━━━━━━━━━━━━━━\u001b[0m\u001b[37m\u001b[0m \u001b[1m0s\u001b[0m 113ms/step - accuracy: 0.6083 - loss: 3.2916\n",
      "Epoch 49: val_accuracy did not improve from 0.48650\n",
      "\u001b[1m459/459\u001b[0m \u001b[32m━━━━━━━━━━━━━━━━━━━━\u001b[0m\u001b[37m\u001b[0m \u001b[1m63s\u001b[0m 138ms/step - accuracy: 0.6083 - loss: 3.2916 - val_accuracy: 0.4654 - val_loss: 4.5645\n",
      "Epoch 50/50\n",
      "\u001b[1m459/459\u001b[0m \u001b[32m━━━━━━━━━━━━━━━━━━━━\u001b[0m\u001b[37m\u001b[0m \u001b[1m0s\u001b[0m 114ms/step - accuracy: 0.6037 - loss: 3.3170\n",
      "Epoch 50: val_accuracy did not improve from 0.48650\n",
      "\u001b[1m459/459\u001b[0m \u001b[32m━━━━━━━━━━━━━━━━━━━━\u001b[0m\u001b[37m\u001b[0m \u001b[1m64s\u001b[0m 140ms/step - accuracy: 0.6037 - loss: 3.3170 - val_accuracy: 0.4747 - val_loss: 4.5277\n"
     ]
    }
   ],
   "source": [
    "from tensorflow.keras.callbacks import ModelCheckpoint, LearningRateScheduler\n",
    "checkpoint_filepath = \"/kaggle/working/cmi_best_model.weights.h5\"\n",
    "checkpoint_callback = ModelCheckpoint(\n",
    "    filepath=checkpoint_filepath,\n",
    "    monitor=\"val_accuracy\",\n",
    "    save_best_only=True,\n",
    "    save_weights_only=True,\n",
    "    mode=\"max\",\n",
    "    verbose=1\n",
    ")\n",
    "\n",
    "lr_callback = LearningRateScheduler(scheduler, verbose=0)\n",
    "\n",
    "history = model.fit(gesture_train_ds, epochs=50, \n",
    "                    validation_data=gesture_valid_ds,\n",
    "                    callbacks=[checkpoint_callback])\n",
    "model.load_weights(checkpoint_filepath)"
   ]
  },
  {
   "cell_type": "code",
   "execution_count": 14,
   "id": "a801c4ef",
   "metadata": {
    "execution": {
     "iopub.execute_input": "2025-08-12T08:17:29.696190Z",
     "iopub.status.busy": "2025-08-12T08:17:29.695886Z",
     "iopub.status.idle": "2025-08-12T08:17:29.704799Z",
     "shell.execute_reply": "2025-08-12T08:17:29.704289Z"
    },
    "papermill": {
     "duration": 0.986854,
     "end_time": "2025-08-12T08:17:29.705965",
     "exception": false,
     "start_time": "2025-08-12T08:17:28.719111",
     "status": "completed"
    },
    "tags": []
   },
   "outputs": [],
   "source": [
    "import json\n",
    "\n",
    "with open('/kaggle/input/cmi-tf-datasets/mapping.json') as f:\n",
    "    mapping_dict = json.load(f)\n",
    "\n",
    "gesture_mapping = mapping_dict[\"gesture_mapping\"]\n",
    "inv_gesture_mapping = {value: key for key, value in gesture_mapping.items()}\n",
    "\n",
    "num2gesture = np.vectorize(lambda x: inv_gesture_mapping[x])"
   ]
  },
  {
   "cell_type": "code",
   "execution_count": 15,
   "id": "ff6ce79f",
   "metadata": {
    "execution": {
     "iopub.execute_input": "2025-08-12T08:17:31.771602Z",
     "iopub.status.busy": "2025-08-12T08:17:31.771356Z",
     "iopub.status.idle": "2025-08-12T08:17:31.776302Z",
     "shell.execute_reply": "2025-08-12T08:17:31.775730Z"
    },
    "papermill": {
     "duration": 1.042722,
     "end_time": "2025-08-12T08:17:31.777464",
     "exception": false,
     "start_time": "2025-08-12T08:17:30.734742",
     "status": "completed"
    },
    "tags": []
   },
   "outputs": [],
   "source": [
    "non_target_gestures = [\"Drink from bottle/cup\", \"Glasses on/off\", \"Pull air toward your face\",\n",
    "                       \"Pinch knee/leg skin\", \"Scratch knee/leg skin\", \"Write name on leg\",\n",
    "                       \"Text on phone\", \"Feel around in tray and pull out an object\",\n",
    "                       \"Write name in air\", \"Wave hello\"]\n",
    "\n",
    "def map_non_target(y_ind):\n",
    "    y_pred = inv_gesture_mapping[y_ind]\n",
    "    if y_ind == 3:\n",
    "        y_ind = 2\n",
    "    elif y_ind == 4:\n",
    "        y_ind = 3\n",
    "    elif y_ind == 6:\n",
    "        y_ind = 4\n",
    "    elif y_ind == 7:\n",
    "        y_ind = 5\n",
    "    elif y_ind == 9:\n",
    "        y_ind = 6\n",
    "    elif y_ind == 10:\n",
    "        y_ind = 7\n",
    "    if y_pred in non_target_gestures:\n",
    "        y_ind = 8\n",
    "    return y_ind\n",
    "\n",
    "vectorize_map_non_target = np.vectorize(map_non_target)"
   ]
  },
  {
   "cell_type": "code",
   "execution_count": 16,
   "id": "9e388b84",
   "metadata": {
    "execution": {
     "iopub.execute_input": "2025-08-12T08:17:33.753808Z",
     "iopub.status.busy": "2025-08-12T08:17:33.753536Z",
     "iopub.status.idle": "2025-08-12T08:17:50.345755Z",
     "shell.execute_reply": "2025-08-12T08:17:50.345171Z"
    },
    "papermill": {
     "duration": 17.53872,
     "end_time": "2025-08-12T08:17:50.347154",
     "exception": false,
     "start_time": "2025-08-12T08:17:32.808434",
     "status": "completed"
    },
    "tags": []
   },
   "outputs": [],
   "source": [
    "conf_tensor = np.zeros((9, 9), dtype=np.int32)\n",
    "for i, (inputs, labels) in enumerate(gesture_valid_ds):\n",
    "    labels_pred = model.predict(inputs, verbose=0)\n",
    "    labels_pred = tf.argmax(labels_pred, axis=-1).numpy()\n",
    "    labels_pred = vectorize_map_non_target(labels_pred)\n",
    "    labels_true = tf.argmax(labels, axis=-1).numpy()\n",
    "    labels_true = vectorize_map_non_target(labels_true)\n",
    "    conf_tensor += tf.math.confusion_matrix(labels_true, labels_pred, num_classes=9)"
   ]
  },
  {
   "cell_type": "code",
   "execution_count": 17,
   "id": "29064470",
   "metadata": {
    "execution": {
     "iopub.execute_input": "2025-08-12T08:17:52.382793Z",
     "iopub.status.busy": "2025-08-12T08:17:52.382525Z",
     "iopub.status.idle": "2025-08-12T08:17:52.429444Z",
     "shell.execute_reply": "2025-08-12T08:17:52.428757Z"
    },
    "papermill": {
     "duration": 1.07128,
     "end_time": "2025-08-12T08:17:52.430506",
     "exception": false,
     "start_time": "2025-08-12T08:17:51.359226",
     "status": "completed"
    },
    "tags": []
   },
   "outputs": [
    {
     "name": "stdout",
     "output_type": "stream",
     "text": [
      "F1 score mean: 0.497\n"
     ]
    }
   ],
   "source": [
    "precisions = []\n",
    "recalls = []\n",
    "f1s = []\n",
    "\n",
    "for i in range(9):\n",
    "    column = conf_tensor[i, :]\n",
    "    row = conf_tensor[:, i]\n",
    "    precision = column[i] / tf.math.reduce_sum(column)\n",
    "    recall = row[i] / tf.math.reduce_sum(row)\n",
    "    inv_f1 = (1/precision + 1/recall)/2\n",
    "    f1 = 1/inv_f1\n",
    "    precisions.append(precision)\n",
    "    recalls.append(recall)\n",
    "    f1s.append(f1)\n",
    "print(f\"F1 score mean: {np.round(np.mean(f1s), 3)}\")"
   ]
  },
  {
   "cell_type": "code",
   "execution_count": 18,
   "id": "66c5cfe7",
   "metadata": {
    "execution": {
     "iopub.execute_input": "2025-08-12T08:17:54.401341Z",
     "iopub.status.busy": "2025-08-12T08:17:54.401049Z",
     "iopub.status.idle": "2025-08-12T08:17:54.404586Z",
     "shell.execute_reply": "2025-08-12T08:17:54.403819Z"
    },
    "papermill": {
     "duration": 0.963112,
     "end_time": "2025-08-12T08:17:54.405642",
     "exception": false,
     "start_time": "2025-08-12T08:17:53.442530",
     "status": "completed"
    },
    "tags": []
   },
   "outputs": [],
   "source": [
    "# import os\n",
    "# save_path = os.path.join(\"/kaggle/working/\", \"cmi_model.weights.h5\")\n",
    "# model.save_weights(save_path)"
   ]
  },
  {
   "cell_type": "code",
   "execution_count": 19,
   "id": "d5df09e7",
   "metadata": {
    "execution": {
     "iopub.execute_input": "2025-08-12T08:17:56.541356Z",
     "iopub.status.busy": "2025-08-12T08:17:56.541069Z",
     "iopub.status.idle": "2025-08-12T08:17:56.713434Z",
     "shell.execute_reply": "2025-08-12T08:17:56.712683Z"
    },
    "papermill": {
     "duration": 1.278717,
     "end_time": "2025-08-12T08:17:56.714563",
     "exception": false,
     "start_time": "2025-08-12T08:17:55.435846",
     "status": "completed"
    },
    "tags": []
   },
   "outputs": [
    {
     "data": {
      "text/html": [
       "<pre style=\"white-space:pre;overflow-x:auto;line-height:normal;font-family:Menlo,'DejaVu Sans Mono',consolas,'Courier New',monospace\"><span style=\"font-weight: bold\">Model: \"rnn_model_1\"</span>\n",
       "</pre>\n"
      ],
      "text/plain": [
       "\u001b[1mModel: \"rnn_model_1\"\u001b[0m\n"
      ]
     },
     "metadata": {},
     "output_type": "display_data"
    },
    {
     "data": {
      "text/html": [
       "<pre style=\"white-space:pre;overflow-x:auto;line-height:normal;font-family:Menlo,'DejaVu Sans Mono',consolas,'Courier New',monospace\">┏━━━━━━━━━━━━━━━━━━━━━━━━━━━━━━━━━┳━━━━━━━━━━━━━━━━━━━━━━━━┳━━━━━━━━━━━━━━━┓\n",
       "┃<span style=\"font-weight: bold\"> Layer (type)                    </span>┃<span style=\"font-weight: bold\"> Output Shape           </span>┃<span style=\"font-weight: bold\">       Param # </span>┃\n",
       "┡━━━━━━━━━━━━━━━━━━━━━━━━━━━━━━━━━╇━━━━━━━━━━━━━━━━━━━━━━━━╇━━━━━━━━━━━━━━━┩\n",
       "│ conv3d_net_0 (<span style=\"color: #0087ff; text-decoration-color: #0087ff\">Sequential</span>)       │ (<span style=\"color: #00d7ff; text-decoration-color: #00d7ff\">None</span>, <span style=\"color: #00d7ff; text-decoration-color: #00d7ff\">None</span>, <span style=\"color: #00af00; text-decoration-color: #00af00\">8</span>, <span style=\"color: #00af00; text-decoration-color: #00af00\">8</span>, <span style=\"color: #00af00; text-decoration-color: #00af00\">8</span>)  │         <span style=\"color: #00af00; text-decoration-color: #00af00\">1,832</span> │\n",
       "├─────────────────────────────────┼────────────────────────┼───────────────┤\n",
       "│ conv3d_net_1 (<span style=\"color: #0087ff; text-decoration-color: #0087ff\">Sequential</span>)       │ (<span style=\"color: #00d7ff; text-decoration-color: #00d7ff\">None</span>, <span style=\"color: #00d7ff; text-decoration-color: #00d7ff\">None</span>, <span style=\"color: #00af00; text-decoration-color: #00af00\">8</span>, <span style=\"color: #00af00; text-decoration-color: #00af00\">8</span>, <span style=\"color: #00af00; text-decoration-color: #00af00\">16</span>) │         <span style=\"color: #00af00; text-decoration-color: #00af00\">5,824</span> │\n",
       "├─────────────────────────────────┼────────────────────────┼───────────────┤\n",
       "│ conv3d_net_2 (<span style=\"color: #0087ff; text-decoration-color: #0087ff\">Sequential</span>)       │ (<span style=\"color: #00d7ff; text-decoration-color: #00d7ff\">None</span>, <span style=\"color: #00d7ff; text-decoration-color: #00d7ff\">None</span>, <span style=\"color: #00af00; text-decoration-color: #00af00\">8</span>, <span style=\"color: #00af00; text-decoration-color: #00af00\">8</span>, <span style=\"color: #00af00; text-decoration-color: #00af00\">32</span>) │        <span style=\"color: #00af00; text-decoration-color: #00af00\">23,168</span> │\n",
       "├─────────────────────────────────┼────────────────────────┼───────────────┤\n",
       "│ global_max_pooling3d_1          │ (<span style=\"color: #00d7ff; text-decoration-color: #00d7ff\">None</span>, <span style=\"color: #00af00; text-decoration-color: #00af00\">32</span>)             │             <span style=\"color: #00af00; text-decoration-color: #00af00\">0</span> │\n",
       "│ (<span style=\"color: #0087ff; text-decoration-color: #0087ff\">GlobalMaxPooling3D</span>)            │                        │               │\n",
       "├─────────────────────────────────┼────────────────────────┼───────────────┤\n",
       "│ masking_1 (<span style=\"color: #0087ff; text-decoration-color: #0087ff\">Masking</span>)             │ (<span style=\"color: #00d7ff; text-decoration-color: #00d7ff\">None</span>, <span style=\"color: #00d7ff; text-decoration-color: #00d7ff\">None</span>, <span style=\"color: #00af00; text-decoration-color: #00af00\">19</span>)       │             <span style=\"color: #00af00; text-decoration-color: #00af00\">0</span> │\n",
       "├─────────────────────────────────┼────────────────────────┼───────────────┤\n",
       "│ gru_1 (<span style=\"color: #0087ff; text-decoration-color: #0087ff\">GRU</span>)                     │ (<span style=\"color: #00d7ff; text-decoration-color: #00d7ff\">None</span>, <span style=\"color: #00af00; text-decoration-color: #00af00\">32</span>)             │         <span style=\"color: #00af00; text-decoration-color: #00af00\">5,088</span> │\n",
       "├─────────────────────────────────┼────────────────────────┼───────────────┤\n",
       "│ dense_3 (<span style=\"color: #0087ff; text-decoration-color: #0087ff\">Dense</span>)                 │ (<span style=\"color: #00d7ff; text-decoration-color: #00d7ff\">None</span>, <span style=\"color: #00af00; text-decoration-color: #00af00\">32</span>)             │         <span style=\"color: #00af00; text-decoration-color: #00af00\">2,624</span> │\n",
       "├─────────────────────────────────┼────────────────────────┼───────────────┤\n",
       "│ dense_4 (<span style=\"color: #0087ff; text-decoration-color: #0087ff\">Dense</span>)                 │ (<span style=\"color: #00d7ff; text-decoration-color: #00d7ff\">None</span>, <span style=\"color: #00af00; text-decoration-color: #00af00\">1</span>)              │            <span style=\"color: #00af00; text-decoration-color: #00af00\">33</span> │\n",
       "├─────────────────────────────────┼────────────────────────┼───────────────┤\n",
       "│ dense_5 (<span style=\"color: #0087ff; text-decoration-color: #0087ff\">Dense</span>)                 │ (<span style=\"color: #00d7ff; text-decoration-color: #00d7ff\">None</span>, <span style=\"color: #00af00; text-decoration-color: #00af00\">18</span>)             │           <span style=\"color: #00af00; text-decoration-color: #00af00\">594</span> │\n",
       "└─────────────────────────────────┴────────────────────────┴───────────────┘\n",
       "</pre>\n"
      ],
      "text/plain": [
       "┏━━━━━━━━━━━━━━━━━━━━━━━━━━━━━━━━━┳━━━━━━━━━━━━━━━━━━━━━━━━┳━━━━━━━━━━━━━━━┓\n",
       "┃\u001b[1m \u001b[0m\u001b[1mLayer (type)                   \u001b[0m\u001b[1m \u001b[0m┃\u001b[1m \u001b[0m\u001b[1mOutput Shape          \u001b[0m\u001b[1m \u001b[0m┃\u001b[1m \u001b[0m\u001b[1m      Param #\u001b[0m\u001b[1m \u001b[0m┃\n",
       "┡━━━━━━━━━━━━━━━━━━━━━━━━━━━━━━━━━╇━━━━━━━━━━━━━━━━━━━━━━━━╇━━━━━━━━━━━━━━━┩\n",
       "│ conv3d_net_0 (\u001b[38;5;33mSequential\u001b[0m)       │ (\u001b[38;5;45mNone\u001b[0m, \u001b[38;5;45mNone\u001b[0m, \u001b[38;5;34m8\u001b[0m, \u001b[38;5;34m8\u001b[0m, \u001b[38;5;34m8\u001b[0m)  │         \u001b[38;5;34m1,832\u001b[0m │\n",
       "├─────────────────────────────────┼────────────────────────┼───────────────┤\n",
       "│ conv3d_net_1 (\u001b[38;5;33mSequential\u001b[0m)       │ (\u001b[38;5;45mNone\u001b[0m, \u001b[38;5;45mNone\u001b[0m, \u001b[38;5;34m8\u001b[0m, \u001b[38;5;34m8\u001b[0m, \u001b[38;5;34m16\u001b[0m) │         \u001b[38;5;34m5,824\u001b[0m │\n",
       "├─────────────────────────────────┼────────────────────────┼───────────────┤\n",
       "│ conv3d_net_2 (\u001b[38;5;33mSequential\u001b[0m)       │ (\u001b[38;5;45mNone\u001b[0m, \u001b[38;5;45mNone\u001b[0m, \u001b[38;5;34m8\u001b[0m, \u001b[38;5;34m8\u001b[0m, \u001b[38;5;34m32\u001b[0m) │        \u001b[38;5;34m23,168\u001b[0m │\n",
       "├─────────────────────────────────┼────────────────────────┼───────────────┤\n",
       "│ global_max_pooling3d_1          │ (\u001b[38;5;45mNone\u001b[0m, \u001b[38;5;34m32\u001b[0m)             │             \u001b[38;5;34m0\u001b[0m │\n",
       "│ (\u001b[38;5;33mGlobalMaxPooling3D\u001b[0m)            │                        │               │\n",
       "├─────────────────────────────────┼────────────────────────┼───────────────┤\n",
       "│ masking_1 (\u001b[38;5;33mMasking\u001b[0m)             │ (\u001b[38;5;45mNone\u001b[0m, \u001b[38;5;45mNone\u001b[0m, \u001b[38;5;34m19\u001b[0m)       │             \u001b[38;5;34m0\u001b[0m │\n",
       "├─────────────────────────────────┼────────────────────────┼───────────────┤\n",
       "│ gru_1 (\u001b[38;5;33mGRU\u001b[0m)                     │ (\u001b[38;5;45mNone\u001b[0m, \u001b[38;5;34m32\u001b[0m)             │         \u001b[38;5;34m5,088\u001b[0m │\n",
       "├─────────────────────────────────┼────────────────────────┼───────────────┤\n",
       "│ dense_3 (\u001b[38;5;33mDense\u001b[0m)                 │ (\u001b[38;5;45mNone\u001b[0m, \u001b[38;5;34m32\u001b[0m)             │         \u001b[38;5;34m2,624\u001b[0m │\n",
       "├─────────────────────────────────┼────────────────────────┼───────────────┤\n",
       "│ dense_4 (\u001b[38;5;33mDense\u001b[0m)                 │ (\u001b[38;5;45mNone\u001b[0m, \u001b[38;5;34m1\u001b[0m)              │            \u001b[38;5;34m33\u001b[0m │\n",
       "├─────────────────────────────────┼────────────────────────┼───────────────┤\n",
       "│ dense_5 (\u001b[38;5;33mDense\u001b[0m)                 │ (\u001b[38;5;45mNone\u001b[0m, \u001b[38;5;34m18\u001b[0m)             │           \u001b[38;5;34m594\u001b[0m │\n",
       "└─────────────────────────────────┴────────────────────────┴───────────────┘\n"
      ]
     },
     "metadata": {},
     "output_type": "display_data"
    },
    {
     "data": {
      "text/html": [
       "<pre style=\"white-space:pre;overflow-x:auto;line-height:normal;font-family:Menlo,'DejaVu Sans Mono',consolas,'Courier New',monospace\"><span style=\"font-weight: bold\"> Total params: </span><span style=\"color: #00af00; text-decoration-color: #00af00\">39,163</span> (152.98 KB)\n",
       "</pre>\n"
      ],
      "text/plain": [
       "\u001b[1m Total params: \u001b[0m\u001b[38;5;34m39,163\u001b[0m (152.98 KB)\n"
      ]
     },
     "metadata": {},
     "output_type": "display_data"
    },
    {
     "data": {
      "text/html": [
       "<pre style=\"white-space:pre;overflow-x:auto;line-height:normal;font-family:Menlo,'DejaVu Sans Mono',consolas,'Courier New',monospace\"><span style=\"font-weight: bold\"> Trainable params: </span><span style=\"color: #00af00; text-decoration-color: #00af00\">39,051</span> (152.54 KB)\n",
       "</pre>\n"
      ],
      "text/plain": [
       "\u001b[1m Trainable params: \u001b[0m\u001b[38;5;34m39,051\u001b[0m (152.54 KB)\n"
      ]
     },
     "metadata": {},
     "output_type": "display_data"
    },
    {
     "data": {
      "text/html": [
       "<pre style=\"white-space:pre;overflow-x:auto;line-height:normal;font-family:Menlo,'DejaVu Sans Mono',consolas,'Courier New',monospace\"><span style=\"font-weight: bold\"> Non-trainable params: </span><span style=\"color: #00af00; text-decoration-color: #00af00\">112</span> (448.00 B)\n",
       "</pre>\n"
      ],
      "text/plain": [
       "\u001b[1m Non-trainable params: \u001b[0m\u001b[38;5;34m112\u001b[0m (448.00 B)\n"
      ]
     },
     "metadata": {},
     "output_type": "display_data"
    }
   ],
   "source": [
    "new_model = RNNModel(kernel_size3d=(5, 3, 3), kernel_size1d=5, filters_3d=[8, 16, 32], dropout=0.2,\n",
    "                     filters_1d=[], num_rnn_layers=1, rnn_hidden_size=32, mode=\"GRU\", \n",
    "                     bidirectional=False, hidden_size=32, regularizer=\"l1l2\", \n",
    "                     l1_penalty=1e-6, l2_penalty=1e-6, binary=False)\n",
    "new_model.build(input_shapes=((None, None, 8, 8, 5), (None, None, 19), (None, 17)))\n",
    "new_model.load_weights(checkpoint_filepath)\n",
    "new_model.summary()"
   ]
  },
  {
   "cell_type": "code",
   "execution_count": null,
   "id": "de2e54af",
   "metadata": {
    "papermill": {
     "duration": 1.025653,
     "end_time": "2025-08-12T08:17:58.773398",
     "exception": false,
     "start_time": "2025-08-12T08:17:57.747745",
     "status": "completed"
    },
    "tags": []
   },
   "outputs": [],
   "source": []
  }
 ],
 "metadata": {
  "kaggle": {
   "accelerator": "gpu",
   "dataSources": [
    {
     "databundleVersionId": 12518947,
     "sourceId": 102335,
     "sourceType": "competition"
    },
    {
     "datasetId": 7856290,
     "sourceId": 12739983,
     "sourceType": "datasetVersion"
    },
    {
     "datasetId": 8037036,
     "sourceId": 12740386,
     "sourceType": "datasetVersion"
    }
   ],
   "dockerImageVersionId": 31089,
   "isGpuEnabled": true,
   "isInternetEnabled": false,
   "language": "python",
   "sourceType": "notebook"
  },
  "kernelspec": {
   "display_name": "Python 3",
   "language": "python",
   "name": "python3"
  },
  "language_info": {
   "codemirror_mode": {
    "name": "ipython",
    "version": 3
   },
   "file_extension": ".py",
   "mimetype": "text/x-python",
   "name": "python",
   "nbconvert_exporter": "python",
   "pygments_lexer": "ipython3",
   "version": "3.11.13"
  },
  "papermill": {
   "default_parameters": {},
   "duration": 3182.606738,
   "end_time": "2025-08-12T08:18:02.767420",
   "environment_variables": {},
   "exception": null,
   "input_path": "__notebook__.ipynb",
   "output_path": "__notebook__.ipynb",
   "parameters": {},
   "start_time": "2025-08-12T07:25:00.160682",
   "version": "2.6.0"
  }
 },
 "nbformat": 4,
 "nbformat_minor": 5
}
