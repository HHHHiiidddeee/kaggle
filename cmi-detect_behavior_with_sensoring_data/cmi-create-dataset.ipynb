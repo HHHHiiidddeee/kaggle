{
 "cells": [
  {
   "cell_type": "code",
   "execution_count": 1,
   "id": "7b06aca7",
   "metadata": {
    "execution": {
     "iopub.execute_input": "2025-08-01T14:54:03.784949Z",
     "iopub.status.busy": "2025-08-01T14:54:03.784606Z",
     "iopub.status.idle": "2025-08-01T14:54:25.992229Z",
     "shell.execute_reply": "2025-08-01T14:54:25.990943Z"
    },
    "papermill": {
     "duration": 22.21678,
     "end_time": "2025-08-01T14:54:25.994488",
     "exception": false,
     "start_time": "2025-08-01T14:54:03.777708",
     "status": "completed"
    },
    "tags": []
   },
   "outputs": [
    {
     "name": "stderr",
     "output_type": "stream",
     "text": [
      "2025-08-01 14:54:08.141956: E external/local_xla/xla/stream_executor/cuda/cuda_fft.cc:477] Unable to register cuFFT factory: Attempting to register factory for plugin cuFFT when one has already been registered\n",
      "WARNING: All log messages before absl::InitializeLog() is called are written to STDERR\n",
      "E0000 00:00:1754060048.406348      13 cuda_dnn.cc:8310] Unable to register cuDNN factory: Attempting to register factory for plugin cuDNN when one has already been registered\n",
      "E0000 00:00:1754060048.491403      13 cuda_blas.cc:1418] Unable to register cuBLAS factory: Attempting to register factory for plugin cuBLAS when one has already been registered\n"
     ]
    }
   ],
   "source": [
    "import numpy as np\n",
    "import pandas as pd\n",
    "import matplotlib.pyplot as plt\n",
    "import tensorflow as tf\n",
    "import warnings\n",
    "from itertools import product\n",
    "from sklearn.preprocessing import OneHotEncoder\n",
    "warnings.filterwarnings(\"ignore\")"
   ]
  },
  {
   "cell_type": "code",
   "execution_count": 2,
   "id": "8ce8fe46",
   "metadata": {
    "execution": {
     "iopub.execute_input": "2025-08-01T14:54:26.007525Z",
     "iopub.status.busy": "2025-08-01T14:54:26.006720Z",
     "iopub.status.idle": "2025-08-01T14:55:46.342909Z",
     "shell.execute_reply": "2025-08-01T14:55:46.341644Z"
    },
    "papermill": {
     "duration": 80.344823,
     "end_time": "2025-08-01T14:55:46.345115",
     "exception": false,
     "start_time": "2025-08-01T14:54:26.000292",
     "status": "completed"
    },
    "tags": []
   },
   "outputs": [],
   "source": [
    "train_df = pd.read_csv(\"/kaggle/input/preprocessed-dataset/preprocessed_train.csv\")\n",
    "test_df = pd.read_csv(\"/kaggle/input/preprocessed-dataset/preprocessed_test.csv\")"
   ]
  },
  {
   "cell_type": "code",
   "execution_count": 3,
   "id": "db72694a",
   "metadata": {
    "execution": {
     "iopub.execute_input": "2025-08-01T14:55:46.357620Z",
     "iopub.status.busy": "2025-08-01T14:55:46.357202Z",
     "iopub.status.idle": "2025-08-01T14:55:46.399303Z",
     "shell.execute_reply": "2025-08-01T14:55:46.398194Z"
    },
    "papermill": {
     "duration": 0.050245,
     "end_time": "2025-08-01T14:55:46.401211",
     "exception": false,
     "start_time": "2025-08-01T14:55:46.350966",
     "status": "completed"
    },
    "tags": []
   },
   "outputs": [
    {
     "data": {
      "text/plain": [
       "array(['Target', 'Non-Target'], dtype=object)"
      ]
     },
     "execution_count": 3,
     "metadata": {},
     "output_type": "execute_result"
    }
   ],
   "source": [
    "train_df[\"sequence_type\"].unique()"
   ]
  },
  {
   "cell_type": "code",
   "execution_count": 4,
   "id": "f8413b53",
   "metadata": {
    "execution": {
     "iopub.execute_input": "2025-08-01T14:55:46.413611Z",
     "iopub.status.busy": "2025-08-01T14:55:46.413184Z",
     "iopub.status.idle": "2025-08-01T14:55:46.460319Z",
     "shell.execute_reply": "2025-08-01T14:55:46.459079Z"
    },
    "papermill": {
     "duration": 0.055697,
     "end_time": "2025-08-01T14:55:46.462317",
     "exception": false,
     "start_time": "2025-08-01T14:55:46.406620",
     "status": "completed"
    },
    "tags": []
   },
   "outputs": [],
   "source": [
    "type_mapping = {\"Target\": 1, \"Non-Target\": 0}\n",
    "train_df[\"sequence_type\"] = train_df[\"sequence_type\"].map(type_mapping)"
   ]
  },
  {
   "cell_type": "code",
   "execution_count": 5,
   "id": "ce721c6c",
   "metadata": {
    "execution": {
     "iopub.execute_input": "2025-08-01T14:55:46.474671Z",
     "iopub.status.busy": "2025-08-01T14:55:46.474213Z",
     "iopub.status.idle": "2025-08-01T14:55:48.257070Z",
     "shell.execute_reply": "2025-08-01T14:55:48.255913Z"
    },
    "papermill": {
     "duration": 1.791488,
     "end_time": "2025-08-01T14:55:48.259039",
     "exception": false,
     "start_time": "2025-08-01T14:55:46.467551",
     "status": "completed"
    },
    "tags": []
   },
   "outputs": [],
   "source": [
    "gestures = pd.get_dummies(train_df[\"gesture\"])\n",
    "train_df = pd.concat([train_df, gestures], axis=1)\n",
    "train_df = train_df.drop([\"gesture\"], axis=1)"
   ]
  },
  {
   "cell_type": "code",
   "execution_count": 6,
   "id": "439a5306",
   "metadata": {
    "execution": {
     "iopub.execute_input": "2025-08-01T14:55:48.271166Z",
     "iopub.status.busy": "2025-08-01T14:55:48.270717Z",
     "iopub.status.idle": "2025-08-01T14:55:48.276411Z",
     "shell.execute_reply": "2025-08-01T14:55:48.275223Z"
    },
    "papermill": {
     "duration": 0.01397,
     "end_time": "2025-08-01T14:55:48.278284",
     "exception": false,
     "start_time": "2025-08-01T14:55:48.264314",
     "status": "completed"
    },
    "tags": []
   },
   "outputs": [],
   "source": [
    "gesture_mapping = {gesture: i for i, gesture in enumerate(gestures)}"
   ]
  },
  {
   "cell_type": "code",
   "execution_count": 7,
   "id": "8169bc84",
   "metadata": {
    "execution": {
     "iopub.execute_input": "2025-08-01T14:55:48.292547Z",
     "iopub.status.busy": "2025-08-01T14:55:48.292142Z",
     "iopub.status.idle": "2025-08-01T14:55:48.441960Z",
     "shell.execute_reply": "2025-08-01T14:55:48.440805Z"
    },
    "papermill": {
     "duration": 0.160543,
     "end_time": "2025-08-01T14:55:48.444055",
     "exception": false,
     "start_time": "2025-08-01T14:55:48.283512",
     "status": "completed"
    },
    "tags": []
   },
   "outputs": [],
   "source": [
    "from sklearn.model_selection import train_test_split\n",
    "tf.random.set_seed(42)\n",
    "acc_columns = [\"acc_r\", \"acc_theta\", \"acc_phi\"]\n",
    "rot_columns = [\"rot_omega\", \"rot_u_theta\", \"rot_u_phi\"]\n",
    "thm_columns = [\"thm_mean\"]\n",
    "\n",
    "i_list = range(1, 6)\n",
    "j_list = range(64)\n",
    "comb = list(product(i_list, j_list))\n",
    "tof_columns = [f\"tof_{i}_v{j}\" for i, j in comb]\n",
    "\n",
    "def create_dataset(df, max_length=100, batch_size=16, mode=\"train\", train_size=0.8):\n",
    "    seq_ids = df[\"sequence_id\"].values\n",
    "    seq_counters = df[\"sequence_counter\"].values\n",
    "    seq_starts = np.array(df[df[\"sequence_counter\"]==0].index)\n",
    "    seq_lengths = np.diff(np.concatenate([seq_starts, np.array([len(df)])]), n=1)\n",
    "    \n",
    "    images = df[tof_columns].to_numpy()   # (samples, 5*64)\n",
    "    images = images.reshape(-1, 64, 5)\n",
    "    images = images.reshape(-1, 8, 8, 5)\n",
    "    images = tf.convert_to_tensor(images, dtype=tf.float32)\n",
    "\n",
    "    others = df[acc_columns + rot_columns + thm_columns].to_numpy()\n",
    "    others = tf.convert_to_tensor(others, dtype=tf.float32)\n",
    "\n",
    "    feature_columns = ['adult_child', 'age', 'sex', 'height_cm', \n",
    "                       'shoulder_to_wrist_cm', 'elbow_to_wrist_cm']\n",
    "    features = df[feature_columns].to_numpy()\n",
    "    features = tf.convert_to_tensor(features, dtype=tf.float32)\n",
    "\n",
    "    if mode != \"test\":\n",
    "        sequence_types = df[[\"sequence_type\"]].values\n",
    "        gestures = df[gesture_mapping.keys()].values\n",
    "        targets = np.concatenate([sequence_types, gestures], axis=1)\n",
    "        targets = tf.convert_to_tensor(targets, dtype=tf.float32)\n",
    "        inputs = (images, others, features, targets)\n",
    "        inputs, targets = create_window(inputs, seq_starts, seq_lengths, \n",
    "                                        max_length, mode)\n",
    "        ids = np.arange(len(targets))\n",
    "        train_ids, valid_ids = train_test_split(ids, train_size=train_size, stratify=tf.argmax(targets[:, 1:], axis=-1), random_state=42)\n",
    "        inputs_train = (\n",
    "            tf.gather(inputs[0], train_ids),\n",
    "            tf.gather(inputs[1], train_ids),\n",
    "            tf.gather(inputs[2], train_ids)\n",
    "        )\n",
    "        inputs_valid = (\n",
    "            tf.gather(inputs[0], valid_ids),\n",
    "            tf.gather(inputs[1], valid_ids),\n",
    "            tf.gather(inputs[2], valid_ids)\n",
    "        )\n",
    "        targets_train, targets_valid = tf.gather(targets, train_ids), tf.gather(targets, valid_ids)\n",
    "        type_train_ds = tf.data.Dataset.from_tensor_slices((inputs_train, targets_train[:, :1]))\n",
    "        type_train_ds = type_train_ds.shuffle(len(inputs_train)).batch(batch_size)\n",
    "        gesture_train_ds = tf.data.Dataset.from_tensor_slices((inputs_train, targets_train[:, 1:]))\n",
    "        gesture_train_ds = gesture_train_ds.shuffle(len(inputs_train)).batch(batch_size)\n",
    "\n",
    "        type_valid_ds = tf.data.Dataset.from_tensor_slices((inputs_valid, targets_valid[:, :1]))\n",
    "        type_valid_ds = type_valid_ds.shuffle(len(inputs_valid)).batch(batch_size)\n",
    "        gesture_valid_ds = tf.data.Dataset.from_tensor_slices((inputs_valid, targets_valid[:, 1:]))\n",
    "        gesture_valid_ds = gesture_valid_ds.shuffle(len(inputs_valid)).batch(batch_size)\n",
    "        return type_train_ds, type_valid_ds, gesture_train_ds, gesture_valid_ds\n",
    "    else:\n",
    "        inputs = (images, others, features)\n",
    "        inputs = create_window(inputs, seq_starts, seq_lengths, \n",
    "                               max_length, mode)\n",
    "        test_ds = tf.data.Dataset.from_tensor_slices(inputs)\n",
    "        test_ds = test_ds.batch(batch_size)\n",
    "    return test_ds\n",
    "\n",
    "\n",
    "def create_window(inputs, seq_starts, seq_lengths, max_length=100, mode=\"train\"):\n",
    "    images = inputs[0]\n",
    "    others = inputs[1]\n",
    "    features = inputs[2]\n",
    "\n",
    "    image_windows = []\n",
    "    other_windows = []\n",
    "    feature_windows = []\n",
    "\n",
    "    if mode != \"test\":\n",
    "        targets = inputs[3]\n",
    "        target_windows = []\n",
    "    \n",
    "    for start, length in zip(seq_starts, seq_lengths):\n",
    "        if length < max_length:\n",
    "            image_window = images[start:start+length]\n",
    "            other_window = others[start:start+length]\n",
    "        else:\n",
    "            image_window = images[start:start+100]\n",
    "            other_window = others[start:start+100]\n",
    "        feature_window = features[start]\n",
    "        if mode != \"test\":\n",
    "            target_window = targets[start]\n",
    "        if length < max_length:\n",
    "            image_window = tf.pad(image_window, \n",
    "                                  tf.constant([[0, max_length-length],\n",
    "                                               [0, 0],\n",
    "                                               [0, 0],\n",
    "                                               [0, 0]]))\n",
    "            other_window = tf.pad(other_window, \n",
    "                                  tf.constant([[0, max_length-length],\n",
    "                                               [0, 0]]))\n",
    "        image_windows.append(image_window)\n",
    "        other_windows.append(other_window)\n",
    "        feature_windows.append(feature_window)\n",
    "        if mode != \"test\":\n",
    "            target_windows.append(target_window)\n",
    "\n",
    "    image_windows = tf.stack(image_windows)\n",
    "    other_windows = tf.stack(other_windows)\n",
    "    feature_windows = tf.stack(feature_windows)\n",
    "\n",
    "    if mode != \"test\":\n",
    "        target_windows = tf.stack(target_windows)\n",
    "        return (image_windows, other_windows, feature_windows), target_windows\n",
    "    else:\n",
    "        return (image_windows, other_windows, feature_windows)"
   ]
  },
  {
   "cell_type": "code",
   "execution_count": 8,
   "id": "a0e2649e",
   "metadata": {
    "execution": {
     "iopub.execute_input": "2025-08-01T14:55:48.456017Z",
     "iopub.status.busy": "2025-08-01T14:55:48.455563Z",
     "iopub.status.idle": "2025-08-01T14:55:48.461226Z",
     "shell.execute_reply": "2025-08-01T14:55:48.460195Z"
    },
    "papermill": {
     "duration": 0.013563,
     "end_time": "2025-08-01T14:55:48.462886",
     "exception": false,
     "start_time": "2025-08-01T14:55:48.449323",
     "status": "completed"
    },
    "tags": []
   },
   "outputs": [],
   "source": [
    "def get_sequence_targets(df):\n",
    "    seq_ids = df[\"sequence_id\"].values\n",
    "    seq_starts = np.array(df[df[\"sequence_counter\"]==0].index)\n",
    "    sequence_targets = df.loc[seq_starts, \"sequence_type\"].values\n",
    "    return sequence_targets"
   ]
  },
  {
   "cell_type": "code",
   "execution_count": 9,
   "id": "25db5335",
   "metadata": {
    "execution": {
     "iopub.execute_input": "2025-08-01T14:55:48.475063Z",
     "iopub.status.busy": "2025-08-01T14:55:48.474291Z",
     "iopub.status.idle": "2025-08-01T14:55:48.479623Z",
     "shell.execute_reply": "2025-08-01T14:55:48.478640Z"
    },
    "papermill": {
     "duration": 0.013053,
     "end_time": "2025-08-01T14:55:48.481238",
     "exception": false,
     "start_time": "2025-08-01T14:55:48.468185",
     "status": "completed"
    },
    "tags": []
   },
   "outputs": [],
   "source": [
    "gesture_columns = gestures.columns\n",
    "def get_sequence_gestures(df):\n",
    "    seq_ids = df[\"sequence_id\"].values\n",
    "    seq_starts = np.array(df[df[\"sequence_counter\"]==0].index)\n",
    "    sequence_gestures = df.loc[seq_starts, gesture_columns]\n",
    "    return sequence_gestures"
   ]
  },
  {
   "cell_type": "code",
   "execution_count": 10,
   "id": "9dcdf1e9",
   "metadata": {
    "execution": {
     "iopub.execute_input": "2025-08-01T14:55:48.493658Z",
     "iopub.status.busy": "2025-08-01T14:55:48.493273Z",
     "iopub.status.idle": "2025-08-01T14:56:04.183234Z",
     "shell.execute_reply": "2025-08-01T14:56:04.182384Z"
    },
    "papermill": {
     "duration": 15.698315,
     "end_time": "2025-08-01T14:56:04.184785",
     "exception": false,
     "start_time": "2025-08-01T14:55:48.486470",
     "status": "completed"
    },
    "tags": []
   },
   "outputs": [
    {
     "name": "stderr",
     "output_type": "stream",
     "text": [
      "2025-08-01 14:55:50.044311: E external/local_xla/xla/stream_executor/cuda/cuda_driver.cc:152] failed call to cuInit: INTERNAL: CUDA error: Failed call to cuInit: UNKNOWN ERROR (303)\n"
     ]
    }
   ],
   "source": [
    "type_train_ds, type_valid_ds, gesture_train_ds, gesture_valid_ds = create_dataset(train_df, batch_size=32)"
   ]
  },
  {
   "cell_type": "code",
   "execution_count": 11,
   "id": "5c951173",
   "metadata": {
    "execution": {
     "iopub.execute_input": "2025-08-01T14:56:04.195451Z",
     "iopub.status.busy": "2025-08-01T14:56:04.195092Z",
     "iopub.status.idle": "2025-08-01T14:56:04.257923Z",
     "shell.execute_reply": "2025-08-01T14:56:04.256915Z"
    },
    "papermill": {
     "duration": 0.069831,
     "end_time": "2025-08-01T14:56:04.259460",
     "exception": false,
     "start_time": "2025-08-01T14:56:04.189629",
     "status": "completed"
    },
    "tags": []
   },
   "outputs": [
    {
     "name": "stdout",
     "output_type": "stream",
     "text": [
      "2828\n",
      "4767\n"
     ]
    }
   ],
   "source": [
    "sequence_targets = get_sequence_targets(train_df)\n",
    "print(len(sequence_targets[sequence_targets == 0]))\n",
    "print(len(sequence_targets[sequence_targets == 1]))"
   ]
  },
  {
   "cell_type": "code",
   "execution_count": 12,
   "id": "a144e53d",
   "metadata": {
    "execution": {
     "iopub.execute_input": "2025-08-01T14:56:04.269968Z",
     "iopub.status.busy": "2025-08-01T14:56:04.269623Z",
     "iopub.status.idle": "2025-08-01T14:56:04.275640Z",
     "shell.execute_reply": "2025-08-01T14:56:04.274580Z"
    },
    "papermill": {
     "duration": 0.012712,
     "end_time": "2025-08-01T14:56:04.276956",
     "exception": false,
     "start_time": "2025-08-01T14:56:04.264244",
     "status": "completed"
    },
    "tags": []
   },
   "outputs": [],
   "source": [
    "len_target = len(sequence_targets[sequence_targets == 1])\n",
    "len_non_target = len(sequence_targets[sequence_targets == 0])\n",
    "type_sample_weight = (len_target/len_non_target, len_target/len_target)"
   ]
  },
  {
   "cell_type": "code",
   "execution_count": 13,
   "id": "e031afef",
   "metadata": {
    "execution": {
     "iopub.execute_input": "2025-08-01T14:56:04.287131Z",
     "iopub.status.busy": "2025-08-01T14:56:04.286789Z",
     "iopub.status.idle": "2025-08-01T14:56:04.292716Z",
     "shell.execute_reply": "2025-08-01T14:56:04.291869Z"
    },
    "papermill": {
     "duration": 0.012449,
     "end_time": "2025-08-01T14:56:04.293996",
     "exception": false,
     "start_time": "2025-08-01T14:56:04.281547",
     "status": "completed"
    },
    "tags": []
   },
   "outputs": [
    {
     "data": {
      "text/plain": [
       "(1.6856435643564356, 1.0)"
      ]
     },
     "execution_count": 13,
     "metadata": {},
     "output_type": "execute_result"
    }
   ],
   "source": [
    "type_sample_weight"
   ]
  },
  {
   "cell_type": "code",
   "execution_count": 14,
   "id": "ca0f68a2",
   "metadata": {
    "execution": {
     "iopub.execute_input": "2025-08-01T14:56:04.304327Z",
     "iopub.status.busy": "2025-08-01T14:56:04.304031Z",
     "iopub.status.idle": "2025-08-01T14:56:04.310742Z",
     "shell.execute_reply": "2025-08-01T14:56:04.309751Z"
    },
    "papermill": {
     "duration": 0.013565,
     "end_time": "2025-08-01T14:56:04.312178",
     "exception": false,
     "start_time": "2025-08-01T14:56:04.298613",
     "status": "completed"
    },
    "tags": []
   },
   "outputs": [
    {
     "data": {
      "text/plain": [
       "Index(['Above ear - pull hair', 'Cheek - pinch skin', 'Drink from bottle/cup',\n",
       "       'Eyebrow - pull hair', 'Eyelash - pull hair',\n",
       "       'Feel around in tray and pull out an object',\n",
       "       'Forehead - pull hairline', 'Forehead - scratch', 'Glasses on/off',\n",
       "       'Neck - pinch skin', 'Neck - scratch', 'Pinch knee/leg skin',\n",
       "       'Pull air toward your face', 'Scratch knee/leg skin', 'Text on phone',\n",
       "       'Wave hello', 'Write name in air', 'Write name on leg'],\n",
       "      dtype='object')"
      ]
     },
     "execution_count": 14,
     "metadata": {},
     "output_type": "execute_result"
    }
   ],
   "source": [
    "gestures.columns"
   ]
  },
  {
   "cell_type": "code",
   "execution_count": 15,
   "id": "571546ff",
   "metadata": {
    "execution": {
     "iopub.execute_input": "2025-08-01T14:56:04.322950Z",
     "iopub.status.busy": "2025-08-01T14:56:04.322597Z",
     "iopub.status.idle": "2025-08-01T14:56:04.372955Z",
     "shell.execute_reply": "2025-08-01T14:56:04.372087Z"
    },
    "papermill": {
     "duration": 0.057534,
     "end_time": "2025-08-01T14:56:04.374494",
     "exception": false,
     "start_time": "2025-08-01T14:56:04.316960",
     "status": "completed"
    },
    "tags": []
   },
   "outputs": [],
   "source": [
    "non_target_gestures = [\"Drink from bottle/cup\", \"Glasses on/off\", \"Pull air toward your face\",\n",
    "                       \"Pinch knee/leg skin\", \"Scratch knee/leg skin\", \"Write name on leg\",\n",
    "                       \"Text on phone\", \"Feel around in tray and pull out an object\",\n",
    "                       \"Write name in air\", \"Wave hello\"]\n",
    "sequence_gestures = get_sequence_gestures(train_df)\n",
    "all_count = sequence_gestures.sum()\n",
    "non_target_count = all_count[non_target_gestures]\n",
    "non_target_sum = non_target_count.sum()\n",
    "all_count[non_target_gestures] = non_target_sum\n",
    "all_count = non_target_sum / all_count\n",
    "gesture_sample_weight = tuple(all_count.values)"
   ]
  },
  {
   "cell_type": "code",
   "execution_count": 16,
   "id": "86edfde8",
   "metadata": {
    "execution": {
     "iopub.execute_input": "2025-08-01T14:56:04.385434Z",
     "iopub.status.busy": "2025-08-01T14:56:04.385035Z",
     "iopub.status.idle": "2025-08-01T14:56:04.391308Z",
     "shell.execute_reply": "2025-08-01T14:56:04.390398Z"
    },
    "papermill": {
     "duration": 0.013267,
     "end_time": "2025-08-01T14:56:04.392707",
     "exception": false,
     "start_time": "2025-08-01T14:56:04.379440",
     "status": "completed"
    },
    "tags": []
   },
   "outputs": [
    {
     "data": {
      "text/plain": [
       "(4.768971332209106,\n",
       " 4.74496644295302,\n",
       " 1.0,\n",
       " 4.7851099830795265,\n",
       " 4.768971332209106,\n",
       " 1.0,\n",
       " 4.7370184254606365,\n",
       " 4.7370184254606365,\n",
       " 1.0,\n",
       " 4.705490848585691,\n",
       " 4.721202003338898,\n",
       " 1.0,\n",
       " 1.0,\n",
       " 1.0,\n",
       " 1.0,\n",
       " 1.0,\n",
       " 1.0,\n",
       " 1.0)"
      ]
     },
     "execution_count": 16,
     "metadata": {},
     "output_type": "execute_result"
    }
   ],
   "source": [
    "gesture_sample_weight"
   ]
  },
  {
   "cell_type": "code",
   "execution_count": 17,
   "id": "1a91e6c2",
   "metadata": {
    "execution": {
     "iopub.execute_input": "2025-08-01T14:56:04.404033Z",
     "iopub.status.busy": "2025-08-01T14:56:04.403695Z",
     "iopub.status.idle": "2025-08-01T14:56:04.410699Z",
     "shell.execute_reply": "2025-08-01T14:56:04.409778Z"
    },
    "papermill": {
     "duration": 0.014708,
     "end_time": "2025-08-01T14:56:04.412490",
     "exception": false,
     "start_time": "2025-08-01T14:56:04.397782",
     "status": "completed"
    },
    "tags": []
   },
   "outputs": [
    {
     "name": "stdout",
     "output_type": "stream",
     "text": [
      "190\n",
      "48\n",
      "190\n",
      "48\n"
     ]
    }
   ],
   "source": [
    "print(len(type_train_ds))\n",
    "print(len(type_valid_ds))\n",
    "print(len(gesture_train_ds))\n",
    "print(len(gesture_valid_ds))"
   ]
  },
  {
   "cell_type": "code",
   "execution_count": 18,
   "id": "bad371b4",
   "metadata": {
    "execution": {
     "iopub.execute_input": "2025-08-01T14:56:04.424524Z",
     "iopub.status.busy": "2025-08-01T14:56:04.423633Z",
     "iopub.status.idle": "2025-08-01T14:56:05.333062Z",
     "shell.execute_reply": "2025-08-01T14:56:05.331891Z"
    },
    "papermill": {
     "duration": 0.916989,
     "end_time": "2025-08-01T14:56:05.334765",
     "exception": false,
     "start_time": "2025-08-01T14:56:04.417776",
     "status": "completed"
    },
    "tags": []
   },
   "outputs": [
    {
     "name": "stdout",
     "output_type": "stream",
     "text": [
      "(32, 100, 8, 8, 5)\n",
      "(32, 100, 7)\n",
      "(32, 6)\n",
      "(32, 1)\n"
     ]
    }
   ],
   "source": [
    "# Check dataset shape\n",
    "for i, (inputs, targets) in enumerate(type_train_ds):\n",
    "    if i == 0:\n",
    "        print(inputs[0].shape)        # Image (TOF)\n",
    "        print(inputs[1].shape)        # Other time-series\n",
    "        print(inputs[2].shape)        # Feature\n",
    "        print(targets.shape)          # Target or Non-Target\n",
    "        break"
   ]
  },
  {
   "cell_type": "code",
   "execution_count": 19,
   "id": "9ce1baca",
   "metadata": {
    "execution": {
     "iopub.execute_input": "2025-08-01T14:56:05.347503Z",
     "iopub.status.busy": "2025-08-01T14:56:05.346668Z",
     "iopub.status.idle": "2025-08-01T14:56:06.330467Z",
     "shell.execute_reply": "2025-08-01T14:56:06.329294Z"
    },
    "papermill": {
     "duration": 0.992223,
     "end_time": "2025-08-01T14:56:06.332448",
     "exception": false,
     "start_time": "2025-08-01T14:56:05.340225",
     "status": "completed"
    },
    "tags": []
   },
   "outputs": [
    {
     "name": "stdout",
     "output_type": "stream",
     "text": [
      "(32, 100, 8, 8, 5)\n",
      "(32, 100, 7)\n",
      "(32, 6)\n",
      "(32, 18)\n"
     ]
    }
   ],
   "source": [
    "for i, (inputs, targets) in enumerate(gesture_train_ds):\n",
    "    if i == 0:\n",
    "        print(inputs[0].shape)        # Image (TOF)\n",
    "        print(inputs[1].shape)        # Other time-series\n",
    "        print(inputs[2].shape)        # Feature\n",
    "        print(targets.shape)          # Gesture\n",
    "        break"
   ]
  },
  {
   "cell_type": "code",
   "execution_count": 20,
   "id": "e83828a6",
   "metadata": {
    "execution": {
     "iopub.execute_input": "2025-08-01T14:56:06.345486Z",
     "iopub.status.busy": "2025-08-01T14:56:06.345110Z",
     "iopub.status.idle": "2025-08-01T14:56:06.367535Z",
     "shell.execute_reply": "2025-08-01T14:56:06.366402Z"
    },
    "papermill": {
     "duration": 0.03103,
     "end_time": "2025-08-01T14:56:06.369534",
     "exception": false,
     "start_time": "2025-08-01T14:56:06.338504",
     "status": "completed"
    },
    "tags": []
   },
   "outputs": [],
   "source": [
    "test_ds = create_dataset(test_df, batch_size=32, mode=\"test\")"
   ]
  },
  {
   "cell_type": "code",
   "execution_count": 21,
   "id": "046f8aca",
   "metadata": {
    "execution": {
     "iopub.execute_input": "2025-08-01T14:56:06.382142Z",
     "iopub.status.busy": "2025-08-01T14:56:06.381730Z",
     "iopub.status.idle": "2025-08-01T14:56:06.399469Z",
     "shell.execute_reply": "2025-08-01T14:56:06.398260Z"
    },
    "papermill": {
     "duration": 0.025912,
     "end_time": "2025-08-01T14:56:06.401307",
     "exception": false,
     "start_time": "2025-08-01T14:56:06.375395",
     "status": "completed"
    },
    "tags": []
   },
   "outputs": [
    {
     "name": "stdout",
     "output_type": "stream",
     "text": [
      "(2, 100, 8, 8, 5)\n",
      "(2, 100, 7)\n",
      "(2, 6)\n"
     ]
    }
   ],
   "source": [
    "# Check dataset shape\n",
    "for inputs in test_ds:\n",
    "    print(inputs[0].shape)        # Image (TOF)\n",
    "    print(inputs[1].shape)        # Other time-series\n",
    "    print(inputs[2].shape)        # Feature"
   ]
  },
  {
   "cell_type": "code",
   "execution_count": 22,
   "id": "1c21d092",
   "metadata": {
    "execution": {
     "iopub.execute_input": "2025-08-01T14:56:06.414356Z",
     "iopub.status.busy": "2025-08-01T14:56:06.413993Z",
     "iopub.status.idle": "2025-08-01T14:56:12.711440Z",
     "shell.execute_reply": "2025-08-01T14:56:12.710400Z"
    },
    "papermill": {
     "duration": 6.305932,
     "end_time": "2025-08-01T14:56:12.713236",
     "exception": false,
     "start_time": "2025-08-01T14:56:06.407304",
     "status": "completed"
    },
    "tags": []
   },
   "outputs": [],
   "source": [
    "import os\n",
    "output_path = \"/kaggle/working/\"\n",
    "type_train_path = os.path.join(output_path, \"type_train_ds\")\n",
    "type_valid_path = os.path.join(output_path, \"type_valid_ds\")\n",
    "gesture_train_path = os.path.join(output_path, \"gesture_train_ds\")\n",
    "gesture_valid_path = os.path.join(output_path, \"gesture_valid_ds\")\n",
    "test_path = os.path.join(output_path, \"test_ds\")\n",
    "\n",
    "tf.data.experimental.save(type_train_ds, type_train_path)\n",
    "tf.data.experimental.save(type_valid_ds, type_valid_path)\n",
    "tf.data.experimental.save(gesture_train_ds, gesture_train_path)\n",
    "tf.data.experimental.save(gesture_valid_ds, gesture_valid_path)\n",
    "tf.data.experimental.save(test_ds, test_path)"
   ]
  },
  {
   "cell_type": "code",
   "execution_count": 23,
   "id": "e29e0bb8",
   "metadata": {
    "execution": {
     "iopub.execute_input": "2025-08-01T14:56:12.725378Z",
     "iopub.status.busy": "2025-08-01T14:56:12.725039Z",
     "iopub.status.idle": "2025-08-01T14:56:12.730874Z",
     "shell.execute_reply": "2025-08-01T14:56:12.730101Z"
    },
    "papermill": {
     "duration": 0.013408,
     "end_time": "2025-08-01T14:56:12.732332",
     "exception": false,
     "start_time": "2025-08-01T14:56:12.718924",
     "status": "completed"
    },
    "tags": []
   },
   "outputs": [],
   "source": [
    "import json\n",
    "\n",
    "mapping_dicts = {\n",
    "    \"type_mapping\":type_mapping, \n",
    "    \"gesture_mapping\": gesture_mapping\n",
    "}\n",
    "\n",
    "dict_path = os.path.join(output_path, \"mapping.json\")\n",
    "with open(dict_path, \"w\") as f:\n",
    "    json.dump(mapping_dicts, f, indent=2)"
   ]
  },
  {
   "cell_type": "code",
   "execution_count": 24,
   "id": "6a28c118",
   "metadata": {
    "execution": {
     "iopub.execute_input": "2025-08-01T14:56:12.744373Z",
     "iopub.status.busy": "2025-08-01T14:56:12.744053Z",
     "iopub.status.idle": "2025-08-01T14:56:12.749649Z",
     "shell.execute_reply": "2025-08-01T14:56:12.748842Z"
    },
    "papermill": {
     "duration": 0.013532,
     "end_time": "2025-08-01T14:56:12.751149",
     "exception": false,
     "start_time": "2025-08-01T14:56:12.737617",
     "status": "completed"
    },
    "tags": []
   },
   "outputs": [],
   "source": [
    "sample_weight_dicts = {\n",
    "    \"type_sample_weight\": type_sample_weight,\n",
    "    \"gesture_sample_weight\": gesture_sample_weight\n",
    "}\n",
    "\n",
    "dict_path = os.path.join(output_path, \"sample_weight.json\")\n",
    "with open(dict_path, \"w\") as f:\n",
    "    json.dump(sample_weight_dicts, f, indent=2)"
   ]
  },
  {
   "cell_type": "code",
   "execution_count": null,
   "id": "41e497fe",
   "metadata": {
    "papermill": {
     "duration": 0.004871,
     "end_time": "2025-08-01T14:56:12.761179",
     "exception": false,
     "start_time": "2025-08-01T14:56:12.756308",
     "status": "completed"
    },
    "tags": []
   },
   "outputs": [],
   "source": []
  }
 ],
 "metadata": {
  "kaggle": {
   "accelerator": "none",
   "dataSources": [
    {
     "databundleVersionId": 12518947,
     "sourceId": 102335,
     "sourceType": "competition"
    },
    {
     "datasetId": 7856290,
     "sourceId": 12641873,
     "sourceType": "datasetVersion"
    }
   ],
   "dockerImageVersionId": 31089,
   "isGpuEnabled": false,
   "isInternetEnabled": true,
   "language": "python",
   "sourceType": "notebook"
  },
  "kernelspec": {
   "display_name": "Python 3",
   "language": "python",
   "name": "python3"
  },
  "language_info": {
   "codemirror_mode": {
    "name": "ipython",
    "version": 3
   },
   "file_extension": ".py",
   "mimetype": "text/x-python",
   "name": "python",
   "nbconvert_exporter": "python",
   "pygments_lexer": "ipython3",
   "version": "3.11.13"
  },
  "papermill": {
   "default_parameters": {},
   "duration": 137.374077,
   "end_time": "2025-08-01T14:56:15.975192",
   "environment_variables": {},
   "exception": null,
   "input_path": "__notebook__.ipynb",
   "output_path": "__notebook__.ipynb",
   "parameters": {},
   "start_time": "2025-08-01T14:53:58.601115",
   "version": "2.6.0"
  }
 },
 "nbformat": 4,
 "nbformat_minor": 5
}
