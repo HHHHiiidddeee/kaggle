{
 "cells": [
  {
   "cell_type": "code",
   "execution_count": 1,
   "id": "2b3eccf2",
   "metadata": {
    "execution": {
     "iopub.execute_input": "2025-08-16T07:42:41.932475Z",
     "iopub.status.busy": "2025-08-16T07:42:41.932177Z",
     "iopub.status.idle": "2025-08-16T07:43:04.815527Z",
     "shell.execute_reply": "2025-08-16T07:43:04.814473Z"
    },
    "papermill": {
     "duration": 22.892173,
     "end_time": "2025-08-16T07:43:04.817331",
     "exception": false,
     "start_time": "2025-08-16T07:42:41.925158",
     "status": "completed"
    },
    "tags": []
   },
   "outputs": [
    {
     "name": "stderr",
     "output_type": "stream",
     "text": [
      "2025-08-16 07:42:46.817069: E external/local_xla/xla/stream_executor/cuda/cuda_fft.cc:477] Unable to register cuFFT factory: Attempting to register factory for plugin cuFFT when one has already been registered\n",
      "WARNING: All log messages before absl::InitializeLog() is called are written to STDERR\n",
      "E0000 00:00:1755330167.178327      13 cuda_dnn.cc:8310] Unable to register cuDNN factory: Attempting to register factory for plugin cuDNN when one has already been registered\n",
      "E0000 00:00:1755330167.276658      13 cuda_blas.cc:1418] Unable to register cuBLAS factory: Attempting to register factory for plugin cuBLAS when one has already been registered\n"
     ]
    }
   ],
   "source": [
    "import numpy as np\n",
    "import pandas as pd\n",
    "import matplotlib.pyplot as plt\n",
    "import tensorflow as tf\n",
    "import warnings\n",
    "from itertools import product\n",
    "from sklearn.preprocessing import OneHotEncoder\n",
    "import time\n",
    "warnings.filterwarnings(\"ignore\")"
   ]
  },
  {
   "cell_type": "code",
   "execution_count": 2,
   "id": "e5ae0e02",
   "metadata": {
    "execution": {
     "iopub.execute_input": "2025-08-16T07:43:04.830791Z",
     "iopub.status.busy": "2025-08-16T07:43:04.829375Z",
     "iopub.status.idle": "2025-08-16T07:44:27.689011Z",
     "shell.execute_reply": "2025-08-16T07:44:27.687894Z"
    },
    "papermill": {
     "duration": 82.867675,
     "end_time": "2025-08-16T07:44:27.690876",
     "exception": false,
     "start_time": "2025-08-16T07:43:04.823201",
     "status": "completed"
    },
    "tags": []
   },
   "outputs": [],
   "source": [
    "train_df = pd.read_csv(\"/kaggle/input/preprocessed-dataset/preprocessed_train.csv\")\n",
    "# test_df = pd.read_csv(\"/kaggle/input/preprocessed-dataset/preprocessed_test.csv\")"
   ]
  },
  {
   "cell_type": "code",
   "execution_count": 3,
   "id": "1fdeaa3a",
   "metadata": {
    "execution": {
     "iopub.execute_input": "2025-08-16T07:44:27.702981Z",
     "iopub.status.busy": "2025-08-16T07:44:27.702549Z",
     "iopub.status.idle": "2025-08-16T07:44:28.092161Z",
     "shell.execute_reply": "2025-08-16T07:44:28.091191Z"
    },
    "papermill": {
     "duration": 0.397094,
     "end_time": "2025-08-16T07:44:28.093602",
     "exception": false,
     "start_time": "2025-08-16T07:44:27.696508",
     "status": "completed"
    },
    "tags": []
   },
   "outputs": [
    {
     "data": {
      "image/png": "[encoded data removed]",
      "text/plain": [
       "<Figure size 640x480 with 1 Axes>"
      ]
     },
     "metadata": {},
     "output_type": "display_data"
    }
   ],
   "source": [
    "seq_ids = train_df[\"sequence_id\"].values\n",
    "seq_counters = train_df[\"sequence_counter\"].values\n",
    "seq_starts = np.array(train_df[train_df[\"sequence_counter\"]==0].index)\n",
    "seq_lengths = np.diff(np.concatenate([seq_starts, np.array([len(train_df)])]), n=1)\n",
    "\n",
    "bins = np.arange(0, 300, 5)\n",
    "plt.hist(seq_lengths, bins=bins)\n",
    "plt.show()"
   ]
  },
  {
   "cell_type": "code",
   "execution_count": 4,
   "id": "dc6ca03c",
   "metadata": {
    "execution": {
     "iopub.execute_input": "2025-08-16T07:44:28.106534Z",
     "iopub.status.busy": "2025-08-16T07:44:28.105509Z",
     "iopub.status.idle": "2025-08-16T07:44:28.114999Z",
     "shell.execute_reply": "2025-08-16T07:44:28.113859Z"
    },
    "papermill": {
     "duration": 0.01723,
     "end_time": "2025-08-16T07:44:28.116350",
     "exception": false,
     "start_time": "2025-08-16T07:44:28.099120",
     "status": "completed"
    },
    "tags": []
   },
   "outputs": [
    {
     "name": "stdout",
     "output_type": "stream",
     "text": [
      "Quantile 50.0%: 59.0\n",
      "Quantile 99.5%: 246.0\n",
      "Mean: 70.61\n",
      "Min length: 11\n",
      "Max length: 700\n"
     ]
    }
   ],
   "source": [
    "print(f\"Quantile {0.5*100}%: {np.quantile(seq_lengths, 0.5)}\")\n",
    "print(f\"Quantile {0.995*100}%: {np.quantile(seq_lengths, 0.995)}\")\n",
    "print(f\"Mean: {round(seq_lengths.mean(), 2)}\")\n",
    "print(f\"Min length: {seq_lengths.min()}\")\n",
    "print(f\"Max length: {seq_lengths.max()}\")"
   ]
  },
  {
   "cell_type": "code",
   "execution_count": 5,
   "id": "6d8301a2",
   "metadata": {
    "execution": {
     "iopub.execute_input": "2025-08-16T07:44:28.128404Z",
     "iopub.status.busy": "2025-08-16T07:44:28.128121Z",
     "iopub.status.idle": "2025-08-16T07:44:28.134087Z",
     "shell.execute_reply": "2025-08-16T07:44:28.133260Z"
    },
    "papermill": {
     "duration": 0.013394,
     "end_time": "2025-08-16T07:44:28.135402",
     "exception": false,
     "start_time": "2025-08-16T07:44:28.122008",
     "status": "completed"
    },
    "tags": []
   },
   "outputs": [
    {
     "data": {
      "text/plain": [
       "38"
      ]
     },
     "execution_count": 5,
     "metadata": {},
     "output_type": "execute_result"
    }
   ],
   "source": [
    "len(seq_lengths) - int(len(seq_lengths) * 0.995)"
   ]
  },
  {
   "cell_type": "code",
   "execution_count": 6,
   "id": "40b453cf",
   "metadata": {
    "execution": {
     "iopub.execute_input": "2025-08-16T07:44:28.147807Z",
     "iopub.status.busy": "2025-08-16T07:44:28.147494Z",
     "iopub.status.idle": "2025-08-16T07:44:28.181186Z",
     "shell.execute_reply": "2025-08-16T07:44:28.180389Z"
    },
    "papermill": {
     "duration": 0.041592,
     "end_time": "2025-08-16T07:44:28.182681",
     "exception": false,
     "start_time": "2025-08-16T07:44:28.141089",
     "status": "completed"
    },
    "tags": []
   },
   "outputs": [
    {
     "data": {
      "text/plain": [
       "array(['Target', 'Non-Target'], dtype=object)"
      ]
     },
     "execution_count": 6,
     "metadata": {},
     "output_type": "execute_result"
    }
   ],
   "source": [
    "train_df[\"sequence_type\"].unique()"
   ]
  },
  {
   "cell_type": "code",
   "execution_count": 7,
   "id": "43493f94",
   "metadata": {
    "execution": {
     "iopub.execute_input": "2025-08-16T07:44:28.196048Z",
     "iopub.status.busy": "2025-08-16T07:44:28.195731Z",
     "iopub.status.idle": "2025-08-16T07:44:28.236546Z",
     "shell.execute_reply": "2025-08-16T07:44:28.235621Z"
    },
    "papermill": {
     "duration": 0.048993,
     "end_time": "2025-08-16T07:44:28.238188",
     "exception": false,
     "start_time": "2025-08-16T07:44:28.189195",
     "status": "completed"
    },
    "tags": []
   },
   "outputs": [],
   "source": [
    "type_mapping = {\"Target\": 1, \"Non-Target\": 0}\n",
    "train_df[\"sequence_type\"] = train_df[\"sequence_type\"].map(type_mapping)"
   ]
  },
  {
   "cell_type": "code",
   "execution_count": 8,
   "id": "c59b71e2",
   "metadata": {
    "execution": {
     "iopub.execute_input": "2025-08-16T07:44:28.250874Z",
     "iopub.status.busy": "2025-08-16T07:44:28.250449Z",
     "iopub.status.idle": "2025-08-16T07:44:29.389388Z",
     "shell.execute_reply": "2025-08-16T07:44:29.388329Z"
    },
    "papermill": {
     "duration": 1.147363,
     "end_time": "2025-08-16T07:44:29.391369",
     "exception": false,
     "start_time": "2025-08-16T07:44:28.244006",
     "status": "completed"
    },
    "tags": []
   },
   "outputs": [],
   "source": [
    "gestures = pd.get_dummies(train_df[\"gesture\"])\n",
    "train_df = pd.concat([train_df, gestures], axis=1)\n",
    "train_df = train_df.drop([\"gesture\"], axis=1)"
   ]
  },
  {
   "cell_type": "code",
   "execution_count": 9,
   "id": "b886ab40",
   "metadata": {
    "execution": {
     "iopub.execute_input": "2025-08-16T07:44:29.407044Z",
     "iopub.status.busy": "2025-08-16T07:44:29.406372Z",
     "iopub.status.idle": "2025-08-16T07:44:29.411062Z",
     "shell.execute_reply": "2025-08-16T07:44:29.410087Z"
    },
    "papermill": {
     "duration": 0.013953,
     "end_time": "2025-08-16T07:44:29.412603",
     "exception": false,
     "start_time": "2025-08-16T07:44:29.398650",
     "status": "completed"
    },
    "tags": []
   },
   "outputs": [],
   "source": [
    "gesture_mapping = {gesture: i for i, gesture in enumerate(gestures)}"
   ]
  },
  {
   "cell_type": "code",
   "execution_count": 10,
   "id": "07298eda",
   "metadata": {
    "execution": {
     "iopub.execute_input": "2025-08-16T07:44:29.428386Z",
     "iopub.status.busy": "2025-08-16T07:44:29.428061Z",
     "iopub.status.idle": "2025-08-16T07:44:29.594947Z",
     "shell.execute_reply": "2025-08-16T07:44:29.593855Z"
    },
    "papermill": {
     "duration": 0.177355,
     "end_time": "2025-08-16T07:44:29.596867",
     "exception": false,
     "start_time": "2025-08-16T07:44:29.419512",
     "status": "completed"
    },
    "tags": []
   },
   "outputs": [],
   "source": [
    "from sklearn.model_selection import train_test_split\n",
    "tf.random.set_seed(42)\n",
    "acc_columns = [\"acc_x\", \"acc_y\", \"acc_z\", \"acc_r\", \"acc_theta\", \"acc_phi\"]\n",
    "rot_columns = [\"rot_w\", \"rot_x\", \"rot_y\", \"rot_z\", \"rot_omega\", \"rot_u_theta\", \"rot_u_phi\"]\n",
    "thm_columns = [\"thm_1\", \"thm_2\", \"thm_3\", \"thm_4\", \"thm_5\", \"thm_mean\"]\n",
    "\n",
    "i_list = range(1, 6)\n",
    "j_list = range(64)\n",
    "comb = list(product(i_list, j_list))\n",
    "tof_columns = [f\"tof_{i}_v{j}\" for i, j in comb]\n",
    "\n",
    "def create_dataset(df, window_size=70, shift=35, batch_size=16, mode=\"train\", train_size=0.9):\n",
    "    print(\">>>>> Start creating dataset...\")\n",
    "    start_time = time.time()\n",
    "    \n",
    "    seq_starts = np.array(df[df[\"sequence_counter\"]==0].index)\n",
    "    seq_lengths = np.diff(np.concatenate([seq_starts, np.array([len(df)])]), n=1)\n",
    "    \n",
    "    images = df[tof_columns].to_numpy()   # (samples, 5*64)\n",
    "    images = images.reshape(-1, 64, 5)\n",
    "    images = images.reshape(-1, 8, 8, 5)\n",
    "    images = tf.convert_to_tensor(images, dtype=tf.float32)\n",
    "\n",
    "    others = df[acc_columns + rot_columns + thm_columns].to_numpy()\n",
    "    others = tf.convert_to_tensor(others, dtype=tf.float32)\n",
    "\n",
    "    feature_columns = ['acc_x_mean', 'acc_y_mean', 'acc_z_mean', \"acc_x_std\", \"acc_y_std\", \"acc_z_std\",\n",
    "                       'thm_1_std', 'thm_2_std', 'thm_3_std', 'thm_4_std', 'thm_5_std',\n",
    "                       'adult_child', 'age', 'sex', 'height_cm',\n",
    "                       'shoulder_to_wrist_cm', 'elbow_to_wrist_cm']\n",
    "    features = df[feature_columns].to_numpy()\n",
    "    features = tf.convert_to_tensor(features, dtype=tf.float32)\n",
    "\n",
    "    if mode != \"test\":\n",
    "        sequence_types = df[[\"sequence_type\"]].values\n",
    "        gestures = df[gesture_mapping.keys()].values\n",
    "        targets = np.concatenate([sequence_types, gestures], axis=1)\n",
    "        targets = tf.convert_to_tensor(targets, dtype=tf.float32)\n",
    "        \n",
    "        ids = np.arange(len(targets))\n",
    "        seq_starts_train, seq_starts_valid, seq_lengths_train, seq_lengths_valid = train_test_split(seq_starts, seq_lengths, train_size=train_size, stratify=tf.argmax(tf.gather(targets[:, 1:], seq_starts), axis=-1), random_state=42)\n",
    "        seq_ends_train = seq_starts_train + seq_lengths_train\n",
    "        inputs = (images, others, features, targets)\n",
    "        \n",
    "        threshold = seq_lengths_train.min()\n",
    "        inputs_train, targets_train = time_series_crop_window(inputs, seq_ends_train, \n",
    "                                                              seq_lengths_train, window_size=window_size,\n",
    "                                                              shift=shift, threshold=threshold)\n",
    "        valid_max_length = seq_lengths_valid.max()\n",
    "        inputs_valid, targets_valid = create_window(inputs, seq_starts_valid, \n",
    "                                                    seq_lengths_valid, valid_max_length, \"valid\")\n",
    "        \n",
    "        type_train_ds = tf.data.Dataset.from_tensor_slices((inputs_train, targets_train[:, :1]))\n",
    "        type_train_ds = type_train_ds.shuffle(len(inputs_train)).batch(batch_size)\n",
    "        gesture_train_ds = tf.data.Dataset.from_tensor_slices((inputs_train, targets_train[:, 1:]))\n",
    "        gesture_train_ds = gesture_train_ds.shuffle(len(inputs_train)).batch(batch_size)\n",
    "\n",
    "        type_valid_ds = tf.data.Dataset.from_tensor_slices((inputs_valid, targets_valid[:, :1]))\n",
    "        type_valid_ds = type_valid_ds.shuffle(len(inputs_valid)).batch(batch_size)\n",
    "        gesture_valid_ds = tf.data.Dataset.from_tensor_slices((inputs_valid, targets_valid[:, 1:]))\n",
    "        gesture_valid_ds = gesture_valid_ds.shuffle(len(inputs_valid)).batch(batch_size)\n",
    "\n",
    "        end_time = time.time()\n",
    "        diff_time = end_time - start_time\n",
    "        print(\">>>>> End creating dataset\")\n",
    "        print_converted_time(diff_time)\n",
    "        return type_train_ds, type_valid_ds, gesture_train_ds, gesture_valid_ds\n",
    "    else:\n",
    "        inputs = (images, others, features)\n",
    "        test_max_length = seq_length.max()\n",
    "        inputs = create_window(inputs, seq_starts, seq_lengths, test_max_length, mode=mode)\n",
    "        test_ds = tf.data.Dataset.from_tensor_slices(inputs)\n",
    "        test_ds = test_ds.batch(batch_size)\n",
    "        end_time = time.time()\n",
    "        time_diff = end_time - start_time\n",
    "        print(\">>>>> End creating dataset\")\n",
    "        print_converted_time(diff_time)\n",
    "    return test_ds\n",
    "\n",
    "\n",
    "def print_converted_time(diff_time):\n",
    "    hours, rem = divmod(diff_time, 3600)\n",
    "    minutes, seconds = divmod(rem, 60)\n",
    "    print(f\"Elapsed time: {int(hours)} hours {int(minutes)} minutes {seconds:.2f} seconds\")\n",
    "\n",
    "\n",
    "def create_window(inputs, seq_starts, seq_lengths, max_length, mode=\"valid\"):\n",
    "    images = inputs[0]\n",
    "    others = inputs[1]\n",
    "    features = inputs[2]\n",
    "\n",
    "    image_windows = []\n",
    "    other_windows = []\n",
    "    feature_windows = []\n",
    "\n",
    "    if mode != \"test\":\n",
    "        targets = inputs[3]\n",
    "        target_windows = []\n",
    "    \n",
    "    for start, length in zip(seq_starts, seq_lengths):\n",
    "        image_window = images[start:start+length, :, :, :]\n",
    "        other_window = others[start:start+length, :]\n",
    "        feature_window = features[start]\n",
    "        if mode != \"test\":\n",
    "            target_window = targets[start]\n",
    "        if length < max_length:\n",
    "            image_window = tf.pad(image_window, \n",
    "                                  tf.constant([[0, max_length-int(length)],\n",
    "                                               [0, 0],\n",
    "                                               [0, 0],\n",
    "                                               [0, 0]]), constant_values=0.0)\n",
    "            other_window = tf.pad(other_window, \n",
    "                                  tf.constant([[0, max_length-int(length)],\n",
    "                                               [0, 0]]), constant_values=0.0)\n",
    "        image_windows.append(image_window)\n",
    "        other_windows.append(other_window)\n",
    "        feature_windows.append(feature_window)\n",
    "        if mode != \"test\":\n",
    "            target_windows.append(target_window)\n",
    "\n",
    "    image_windows = tf.stack(image_windows)\n",
    "    other_windows = tf.stack(other_windows)\n",
    "    feature_windows = tf.stack(feature_windows)\n",
    "\n",
    "    if mode != \"test\":\n",
    "        target_windows = tf.stack(target_windows)\n",
    "        return (image_windows, other_windows, feature_windows), target_windows\n",
    "    else:\n",
    "        return (image_windows, other_windows, feature_windows)\n",
    "\n",
    "\n",
    "def time_series_crop_window(inputs, seq_ends, seq_lengths, window_size=50, shift=25, threshold=10):\n",
    "    images = inputs[0]\n",
    "    others = inputs[1]\n",
    "    features = inputs[2]\n",
    "    targets = inputs[3]\n",
    "\n",
    "    image_windows = []\n",
    "    other_windows = []\n",
    "    feature_windows = []\n",
    "    target_windows = []\n",
    "    \n",
    "    for end, length in zip(seq_ends, seq_lengths):\n",
    "        num_windows = (length - window_size) // shift + 1\n",
    "        rem = length - shift * num_windows\n",
    "        window_sizes = [window_size for i in range(num_windows - 1)]\n",
    "        window_sizes.append(rem)\n",
    "        for i, size in enumerate(window_sizes):\n",
    "            append_flag = False\n",
    "            image_window = images[end - i*shift - size: end - i*shift, :, :, :]\n",
    "            other_window = others[end - i*shift - size: end - i*shift, :]\n",
    "            feature_window = features[end - i*shift - size]\n",
    "            target_window = targets[end - i*shift - size]\n",
    "                \n",
    "            if size == window_size:\n",
    "                append_flag = True\n",
    "            elif size < window_size and size >= threshold:\n",
    "                append_flag = True\n",
    "                image_window = tf.pad(image_window, \n",
    "                                      tf.constant([[window_size-size, 0],\n",
    "                                                   [0, 0],\n",
    "                                                   [0, 0],\n",
    "                                                   [0, 0]]), constant_values=0.0)\n",
    "                other_window = tf.pad(other_window, \n",
    "                                      tf.constant([[window_size-size, 0],\n",
    "                                                   [0, 0]]), constant_values=0.0)\n",
    "            if append_flag:\n",
    "                image_windows.append(image_window)\n",
    "                other_windows.append(other_window)\n",
    "                feature_windows.append(feature_window)\n",
    "                target_windows.append(target_window)\n",
    "\n",
    "    image_windows = tf.stack(image_windows)\n",
    "    other_windows = tf.stack(other_windows)\n",
    "    feature_windows = tf.stack(feature_windows)\n",
    "    target_windows = tf.stack(target_windows)\n",
    "    return (image_windows, other_windows, feature_windows), target_windows\n",
    "\n",
    "    \n",
    "def allocate_index(images, others, features, targets, seq_starts, seq_lengths, ids):\n",
    "    images = tf.gather(images, ids)\n",
    "    others = tf.gather(others, ids)\n",
    "    features = tf.gather(features, ids)\n",
    "    targets = tf.gather(targets, ids)\n",
    "    seq_starts = tf.gather(seq_starts, ids)\n",
    "    seq_lengths = tf.gather(seq_lengths, ids)\n",
    "    return images, othres, features, targets, seq_starts, seq_lengths"
   ]
  },
  {
   "cell_type": "code",
   "execution_count": 11,
   "id": "494995d0",
   "metadata": {
    "execution": {
     "iopub.execute_input": "2025-08-16T07:44:29.612386Z",
     "iopub.status.busy": "2025-08-16T07:44:29.611672Z",
     "iopub.status.idle": "2025-08-16T07:44:49.928951Z",
     "shell.execute_reply": "2025-08-16T07:44:49.927670Z"
    },
    "papermill": {
     "duration": 20.329227,
     "end_time": "2025-08-16T07:44:49.933261",
     "exception": false,
     "start_time": "2025-08-16T07:44:29.604034",
     "status": "completed"
    },
    "tags": []
   },
   "outputs": [
    {
     "name": "stdout",
     "output_type": "stream",
     "text": [
      ">>>>> Start creating dataset...\n"
     ]
    },
    {
     "name": "stderr",
     "output_type": "stream",
     "text": [
      "2025-08-16 07:44:30.851277: E external/local_xla/xla/stream_executor/cuda/cuda_driver.cc:152] failed call to cuInit: INTERNAL: CUDA error: Failed call to cuInit: UNKNOWN ERROR (303)\n"
     ]
    },
    {
     "name": "stdout",
     "output_type": "stream",
     "text": [
      ">>>>> End creating dataset\n",
      "Elapsed time: 0 hours 0 minutes 20.24 seconds\n"
     ]
    }
   ],
   "source": [
    "type_train_ds, type_valid_ds, gesture_train_ds, gesture_valid_ds = create_dataset(train_df, batch_size=16)"
   ]
  },
  {
   "cell_type": "code",
   "execution_count": 12,
   "id": "de42224c",
   "metadata": {
    "execution": {
     "iopub.execute_input": "2025-08-16T07:44:49.950118Z",
     "iopub.status.busy": "2025-08-16T07:44:49.949004Z",
     "iopub.status.idle": "2025-08-16T07:44:51.457458Z",
     "shell.execute_reply": "2025-08-16T07:44:51.456423Z"
    },
    "papermill": {
     "duration": 1.517426,
     "end_time": "2025-08-16T07:44:51.459151",
     "exception": false,
     "start_time": "2025-08-16T07:44:49.941725",
     "status": "completed"
    },
    "tags": []
   },
   "outputs": [
    {
     "name": "stdout",
     "output_type": "stream",
     "text": [
      "#batch: 505\n",
      "(16, 70, 8, 8, 5)\n",
      "(16, 70, 19)\n",
      "(16, 17)\n"
     ]
    }
   ],
   "source": [
    "print(f\"#batch: {len(type_train_ds)}\")\n",
    "for i, (inputs, targets) in enumerate(type_train_ds):\n",
    "    if i == 0:\n",
    "        print(inputs[0].shape)\n",
    "        print(inputs[1].shape)\n",
    "        print(inputs[2].shape)\n",
    "        break"
   ]
  },
  {
   "cell_type": "code",
   "execution_count": 13,
   "id": "39538cf6",
   "metadata": {
    "execution": {
     "iopub.execute_input": "2025-08-16T07:44:51.472177Z",
     "iopub.status.busy": "2025-08-16T07:44:51.471858Z",
     "iopub.status.idle": "2025-08-16T07:44:51.476941Z",
     "shell.execute_reply": "2025-08-16T07:44:51.476021Z"
    },
    "papermill": {
     "duration": 0.013241,
     "end_time": "2025-08-16T07:44:51.478370",
     "exception": false,
     "start_time": "2025-08-16T07:44:51.465129",
     "status": "completed"
    },
    "tags": []
   },
   "outputs": [],
   "source": [
    "def get_sequence_targets(df):\n",
    "    seq_ids = df[\"sequence_id\"].values\n",
    "    seq_starts = np.array(df[df[\"sequence_counter\"]==0].index)\n",
    "    sequence_targets = df.loc[seq_starts, \"sequence_type\"].values\n",
    "    return sequence_targets"
   ]
  },
  {
   "cell_type": "code",
   "execution_count": 14,
   "id": "bd21e3cc",
   "metadata": {
    "execution": {
     "iopub.execute_input": "2025-08-16T07:44:51.491706Z",
     "iopub.status.busy": "2025-08-16T07:44:51.491364Z",
     "iopub.status.idle": "2025-08-16T07:44:51.496791Z",
     "shell.execute_reply": "2025-08-16T07:44:51.495801Z"
    },
    "papermill": {
     "duration": 0.014119,
     "end_time": "2025-08-16T07:44:51.498359",
     "exception": false,
     "start_time": "2025-08-16T07:44:51.484240",
     "status": "completed"
    },
    "tags": []
   },
   "outputs": [],
   "source": [
    "gesture_columns = gestures.columns\n",
    "def get_sequence_gestures(df):\n",
    "    seq_ids = df[\"sequence_id\"].values\n",
    "    seq_starts = np.array(df[df[\"sequence_counter\"]==0].index)\n",
    "    sequence_gestures = df.loc[seq_starts, gesture_columns]\n",
    "    return sequence_gestures"
   ]
  },
  {
   "cell_type": "code",
   "execution_count": 15,
   "id": "9b0f97cd",
   "metadata": {
    "execution": {
     "iopub.execute_input": "2025-08-16T07:44:51.511247Z",
     "iopub.status.busy": "2025-08-16T07:44:51.510926Z",
     "iopub.status.idle": "2025-08-16T07:44:51.568660Z",
     "shell.execute_reply": "2025-08-16T07:44:51.567603Z"
    },
    "papermill": {
     "duration": 0.065784,
     "end_time": "2025-08-16T07:44:51.570144",
     "exception": false,
     "start_time": "2025-08-16T07:44:51.504360",
     "status": "completed"
    },
    "tags": []
   },
   "outputs": [
    {
     "name": "stdout",
     "output_type": "stream",
     "text": [
      "2828\n",
      "4767\n"
     ]
    }
   ],
   "source": [
    "sequence_targets = get_sequence_targets(train_df)\n",
    "print(len(sequence_targets[sequence_targets == 0]))\n",
    "print(len(sequence_targets[sequence_targets == 1]))"
   ]
  },
  {
   "cell_type": "code",
   "execution_count": 16,
   "id": "9d38f1fc",
   "metadata": {
    "execution": {
     "iopub.execute_input": "2025-08-16T07:44:51.583697Z",
     "iopub.status.busy": "2025-08-16T07:44:51.582647Z",
     "iopub.status.idle": "2025-08-16T07:44:51.587964Z",
     "shell.execute_reply": "2025-08-16T07:44:51.587204Z"
    },
    "papermill": {
     "duration": 0.013411,
     "end_time": "2025-08-16T07:44:51.589364",
     "exception": false,
     "start_time": "2025-08-16T07:44:51.575953",
     "status": "completed"
    },
    "tags": []
   },
   "outputs": [],
   "source": [
    "len_target = len(sequence_targets[sequence_targets == 1])\n",
    "len_non_target = len(sequence_targets[sequence_targets == 0])\n",
    "type_sample_weight = (len_target/len_non_target, len_target/len_target)"
   ]
  },
  {
   "cell_type": "code",
   "execution_count": 17,
   "id": "a6bb231c",
   "metadata": {
    "execution": {
     "iopub.execute_input": "2025-08-16T07:44:51.603116Z",
     "iopub.status.busy": "2025-08-16T07:44:51.602782Z",
     "iopub.status.idle": "2025-08-16T07:44:51.609094Z",
     "shell.execute_reply": "2025-08-16T07:44:51.608213Z"
    },
    "papermill": {
     "duration": 0.015238,
     "end_time": "2025-08-16T07:44:51.610852",
     "exception": false,
     "start_time": "2025-08-16T07:44:51.595614",
     "status": "completed"
    },
    "tags": []
   },
   "outputs": [
    {
     "data": {
      "text/plain": [
       "(1.6856435643564356, 1.0)"
      ]
     },
     "execution_count": 17,
     "metadata": {},
     "output_type": "execute_result"
    }
   ],
   "source": [
    "type_sample_weight"
   ]
  },
  {
   "cell_type": "code",
   "execution_count": 18,
   "id": "d5f5a177",
   "metadata": {
    "execution": {
     "iopub.execute_input": "2025-08-16T07:44:51.624439Z",
     "iopub.status.busy": "2025-08-16T07:44:51.623518Z",
     "iopub.status.idle": "2025-08-16T07:44:51.629829Z",
     "shell.execute_reply": "2025-08-16T07:44:51.629024Z"
    },
    "papermill": {
     "duration": 0.014223,
     "end_time": "2025-08-16T07:44:51.631157",
     "exception": false,
     "start_time": "2025-08-16T07:44:51.616934",
     "status": "completed"
    },
    "tags": []
   },
   "outputs": [
    {
     "data": {
      "text/plain": [
       "Index(['Above ear - pull hair', 'Cheek - pinch skin', 'Drink from bottle/cup',\n",
       "       'Eyebrow - pull hair', 'Eyelash - pull hair',\n",
       "       'Feel around in tray and pull out an object',\n",
       "       'Forehead - pull hairline', 'Forehead - scratch', 'Glasses on/off',\n",
       "       'Neck - pinch skin', 'Neck - scratch', 'Pinch knee/leg skin',\n",
       "       'Pull air toward your face', 'Scratch knee/leg skin', 'Text on phone',\n",
       "       'Wave hello', 'Write name in air', 'Write name on leg'],\n",
       "      dtype='object')"
      ]
     },
     "execution_count": 18,
     "metadata": {},
     "output_type": "execute_result"
    }
   ],
   "source": [
    "gestures.columns"
   ]
  },
  {
   "cell_type": "code",
   "execution_count": 19,
   "id": "b5b97f5f",
   "metadata": {
    "execution": {
     "iopub.execute_input": "2025-08-16T07:44:51.645210Z",
     "iopub.status.busy": "2025-08-16T07:44:51.644449Z",
     "iopub.status.idle": "2025-08-16T07:44:51.701288Z",
     "shell.execute_reply": "2025-08-16T07:44:51.700537Z"
    },
    "papermill": {
     "duration": 0.065549,
     "end_time": "2025-08-16T07:44:51.702865",
     "exception": false,
     "start_time": "2025-08-16T07:44:51.637316",
     "status": "completed"
    },
    "tags": []
   },
   "outputs": [],
   "source": [
    "non_target_gestures = [\"Drink from bottle/cup\", \"Glasses on/off\", \"Pull air toward your face\",\n",
    "                       \"Pinch knee/leg skin\", \"Scratch knee/leg skin\", \"Write name on leg\",\n",
    "                       \"Text on phone\", \"Feel around in tray and pull out an object\",\n",
    "                       \"Write name in air\", \"Wave hello\"]\n",
    "sequence_gestures = get_sequence_gestures(train_df)\n",
    "all_count = sequence_gestures.sum()\n",
    "non_target_count = all_count[non_target_gestures]\n",
    "non_target_sum = non_target_count.sum()\n",
    "all_count[non_target_gestures] = non_target_sum\n",
    "all_count = non_target_sum / all_count\n",
    "gesture_sample_weight = tuple(all_count.values)"
   ]
  },
  {
   "cell_type": "code",
   "execution_count": 20,
   "id": "a86520bc",
   "metadata": {
    "execution": {
     "iopub.execute_input": "2025-08-16T07:44:51.716458Z",
     "iopub.status.busy": "2025-08-16T07:44:51.716140Z",
     "iopub.status.idle": "2025-08-16T07:44:51.721974Z",
     "shell.execute_reply": "2025-08-16T07:44:51.721157Z"
    },
    "papermill": {
     "duration": 0.014312,
     "end_time": "2025-08-16T07:44:51.723307",
     "exception": false,
     "start_time": "2025-08-16T07:44:51.708995",
     "status": "completed"
    },
    "tags": []
   },
   "outputs": [
    {
     "data": {
      "text/plain": [
       "(4.768971332209106,\n",
       " 4.74496644295302,\n",
       " 1.0,\n",
       " 4.7851099830795265,\n",
       " 4.768971332209106,\n",
       " 1.0,\n",
       " 4.7370184254606365,\n",
       " 4.7370184254606365,\n",
       " 1.0,\n",
       " 4.705490848585691,\n",
       " 4.721202003338898,\n",
       " 1.0,\n",
       " 1.0,\n",
       " 1.0,\n",
       " 1.0,\n",
       " 1.0,\n",
       " 1.0,\n",
       " 1.0)"
      ]
     },
     "execution_count": 20,
     "metadata": {},
     "output_type": "execute_result"
    }
   ],
   "source": [
    "gesture_sample_weight"
   ]
  },
  {
   "cell_type": "code",
   "execution_count": 21,
   "id": "4375d316",
   "metadata": {
    "execution": {
     "iopub.execute_input": "2025-08-16T07:44:51.737110Z",
     "iopub.status.busy": "2025-08-16T07:44:51.736759Z",
     "iopub.status.idle": "2025-08-16T07:44:51.743139Z",
     "shell.execute_reply": "2025-08-16T07:44:51.742021Z"
    },
    "papermill": {
     "duration": 0.014551,
     "end_time": "2025-08-16T07:44:51.744413",
     "exception": false,
     "start_time": "2025-08-16T07:44:51.729862",
     "status": "completed"
    },
    "tags": []
   },
   "outputs": [
    {
     "name": "stdout",
     "output_type": "stream",
     "text": [
      "505\n",
      "48\n",
      "505\n",
      "48\n"
     ]
    }
   ],
   "source": [
    "print(len(type_train_ds))\n",
    "print(len(type_valid_ds))\n",
    "print(len(gesture_train_ds))\n",
    "print(len(gesture_valid_ds))"
   ]
  },
  {
   "cell_type": "code",
   "execution_count": 22,
   "id": "c81bdbb3",
   "metadata": {
    "execution": {
     "iopub.execute_input": "2025-08-16T07:44:51.758074Z",
     "iopub.status.busy": "2025-08-16T07:44:51.757771Z",
     "iopub.status.idle": "2025-08-16T07:44:51.767939Z",
     "shell.execute_reply": "2025-08-16T07:44:51.766969Z"
    },
    "papermill": {
     "duration": 0.018592,
     "end_time": "2025-08-16T07:44:51.769225",
     "exception": false,
     "start_time": "2025-08-16T07:44:51.750633",
     "status": "completed"
    },
    "tags": []
   },
   "outputs": [
    {
     "name": "stdout",
     "output_type": "stream",
     "text": [
      "(16, 70, 8, 8, 5)\n",
      "(16, 70, 19)\n",
      "(16, 17)\n",
      "(16, 1)\n"
     ]
    }
   ],
   "source": [
    "# Check dataset shape\n",
    "for i, (inputs, targets) in enumerate(type_train_ds):\n",
    "    if i == 0:\n",
    "        print(inputs[0].shape)        # Image (TOF)\n",
    "        print(inputs[1].shape)        # Other time-series\n",
    "        print(inputs[2].shape)        # Feature\n",
    "        print(targets.shape)          # Target or Non-Target\n",
    "        break"
   ]
  },
  {
   "cell_type": "code",
   "execution_count": 23,
   "id": "21dd2f91",
   "metadata": {
    "execution": {
     "iopub.execute_input": "2025-08-16T07:44:51.783249Z",
     "iopub.status.busy": "2025-08-16T07:44:51.782936Z",
     "iopub.status.idle": "2025-08-16T07:44:52.612781Z",
     "shell.execute_reply": "2025-08-16T07:44:52.611774Z"
    },
    "papermill": {
     "duration": 0.838435,
     "end_time": "2025-08-16T07:44:52.614281",
     "exception": false,
     "start_time": "2025-08-16T07:44:51.775846",
     "status": "completed"
    },
    "tags": []
   },
   "outputs": [
    {
     "name": "stdout",
     "output_type": "stream",
     "text": [
      "(16, 70, 8, 8, 5)\n",
      "(16, 70, 19)\n",
      "(16, 17)\n",
      "(16, 18)\n"
     ]
    }
   ],
   "source": [
    "for i, (inputs, targets) in enumerate(gesture_train_ds):\n",
    "    if i == 0:\n",
    "        print(inputs[0].shape)        # Image (TOF)\n",
    "        print(inputs[1].shape)        # Other time-series\n",
    "        print(inputs[2].shape)        # Feature\n",
    "        print(targets.shape)          # Gesture\n",
    "        break"
   ]
  },
  {
   "cell_type": "code",
   "execution_count": 24,
   "id": "2409a3ed",
   "metadata": {
    "execution": {
     "iopub.execute_input": "2025-08-16T07:44:52.628285Z",
     "iopub.status.busy": "2025-08-16T07:44:52.627593Z",
     "iopub.status.idle": "2025-08-16T07:44:52.631263Z",
     "shell.execute_reply": "2025-08-16T07:44:52.630523Z"
    },
    "papermill": {
     "duration": 0.011761,
     "end_time": "2025-08-16T07:44:52.632439",
     "exception": false,
     "start_time": "2025-08-16T07:44:52.620678",
     "status": "completed"
    },
    "tags": []
   },
   "outputs": [],
   "source": [
    "# test_ds = create_dataset(test_df, batch_size=64, mode=\"test\")"
   ]
  },
  {
   "cell_type": "code",
   "execution_count": 25,
   "id": "3fed8d74",
   "metadata": {
    "execution": {
     "iopub.execute_input": "2025-08-16T07:44:52.646004Z",
     "iopub.status.busy": "2025-08-16T07:44:52.645675Z",
     "iopub.status.idle": "2025-08-16T07:44:52.649266Z",
     "shell.execute_reply": "2025-08-16T07:44:52.648615Z"
    },
    "papermill": {
     "duration": 0.011906,
     "end_time": "2025-08-16T07:44:52.650489",
     "exception": false,
     "start_time": "2025-08-16T07:44:52.638583",
     "status": "completed"
    },
    "tags": []
   },
   "outputs": [],
   "source": [
    "# Check dataset shape\n",
    "# for inputs in test_ds:\n",
    "#     print(inputs[0].shape)        # Image (TOF)\n",
    "#     print(inputs[1].shape)        # Other time-series\n",
    "#     print(inputs[2].shape)        # Feature"
   ]
  },
  {
   "cell_type": "code",
   "execution_count": 26,
   "id": "138892d4",
   "metadata": {
    "execution": {
     "iopub.execute_input": "2025-08-16T07:44:52.663846Z",
     "iopub.status.busy": "2025-08-16T07:44:52.663473Z",
     "iopub.status.idle": "2025-08-16T07:44:59.671953Z",
     "shell.execute_reply": "2025-08-16T07:44:59.670987Z"
    },
    "papermill": {
     "duration": 7.017243,
     "end_time": "2025-08-16T07:44:59.673741",
     "exception": false,
     "start_time": "2025-08-16T07:44:52.656498",
     "status": "completed"
    },
    "tags": []
   },
   "outputs": [],
   "source": [
    "import os\n",
    "output_path = \"/kaggle/working/\"\n",
    "type_train_path = os.path.join(output_path, \"type_train_ds\")\n",
    "type_valid_path = os.path.join(output_path, \"type_valid_ds\")\n",
    "gesture_train_path = os.path.join(output_path, \"gesture_train_ds\")\n",
    "gesture_valid_path = os.path.join(output_path, \"gesture_valid_ds\")\n",
    "# test_path = os.path.join(output_path, \"test_ds\")\n",
    "\n",
    "tf.data.experimental.save(type_train_ds, type_train_path)\n",
    "tf.data.experimental.save(type_valid_ds, type_valid_path)\n",
    "tf.data.experimental.save(gesture_train_ds, gesture_train_path)\n",
    "tf.data.experimental.save(gesture_valid_ds, gesture_valid_path)\n",
    "# tf.data.experimental.save(test_ds, test_path)"
   ]
  },
  {
   "cell_type": "code",
   "execution_count": 27,
   "id": "c61eeee5",
   "metadata": {
    "execution": {
     "iopub.execute_input": "2025-08-16T07:44:59.688142Z",
     "iopub.status.busy": "2025-08-16T07:44:59.687485Z",
     "iopub.status.idle": "2025-08-16T07:44:59.693051Z",
     "shell.execute_reply": "2025-08-16T07:44:59.692194Z"
    },
    "papermill": {
     "duration": 0.013825,
     "end_time": "2025-08-16T07:44:59.694278",
     "exception": false,
     "start_time": "2025-08-16T07:44:59.680453",
     "status": "completed"
    },
    "tags": []
   },
   "outputs": [],
   "source": [
    "import json\n",
    "\n",
    "mapping_dicts = {\n",
    "    \"type_mapping\":type_mapping, \n",
    "    \"gesture_mapping\": gesture_mapping\n",
    "}\n",
    "\n",
    "dict_path = os.path.join(output_path, \"mapping.json\")\n",
    "with open(dict_path, \"w\") as f:\n",
    "    json.dump(mapping_dicts, f, indent=2)"
   ]
  },
  {
   "cell_type": "code",
   "execution_count": 28,
   "id": "efcc7b3e",
   "metadata": {
    "execution": {
     "iopub.execute_input": "2025-08-16T07:44:59.707666Z",
     "iopub.status.busy": "2025-08-16T07:44:59.707345Z",
     "iopub.status.idle": "2025-08-16T07:44:59.712392Z",
     "shell.execute_reply": "2025-08-16T07:44:59.711746Z"
    },
    "papermill": {
     "duration": 0.01316,
     "end_time": "2025-08-16T07:44:59.713652",
     "exception": false,
     "start_time": "2025-08-16T07:44:59.700492",
     "status": "completed"
    },
    "tags": []
   },
   "outputs": [],
   "source": [
    "sample_weight_dicts = {\n",
    "    \"type_sample_weight\": type_sample_weight,\n",
    "    \"gesture_sample_weight\": gesture_sample_weight\n",
    "}\n",
    "\n",
    "dict_path = os.path.join(output_path, \"sample_weight.json\")\n",
    "with open(dict_path, \"w\") as f:\n",
    "    json.dump(sample_weight_dicts, f, indent=2)"
   ]
  },
  {
   "cell_type": "code",
   "execution_count": null,
   "id": "f27ca40b",
   "metadata": {
    "papermill": {
     "duration": 0.005723,
     "end_time": "2025-08-16T07:44:59.725495",
     "exception": false,
     "start_time": "2025-08-16T07:44:59.719772",
     "status": "completed"
    },
    "tags": []
   },
   "outputs": [],
   "source": []
  }
 ],
 "metadata": {
  "kaggle": {
   "accelerator": "none",
   "dataSources": [
    {
     "databundleVersionId": 12518947,
     "sourceId": 102335,
     "sourceType": "competition"
    },
    {
     "datasetId": 7856290,
     "sourceId": 12739983,
     "sourceType": "datasetVersion"
    }
   ],
   "dockerImageVersionId": 31089,
   "isGpuEnabled": false,
   "isInternetEnabled": true,
   "language": "python",
   "sourceType": "notebook"
  },
  "kernelspec": {
   "display_name": "Python 3",
   "language": "python",
   "name": "python3"
  },
  "language_info": {
   "codemirror_mode": {
    "name": "ipython",
    "version": 3
   },
   "file_extension": ".py",
   "mimetype": "text/x-python",
   "name": "python",
   "nbconvert_exporter": "python",
   "pygments_lexer": "ipython3",
   "version": "3.11.13"
  },
  "papermill": {
   "default_parameters": {},
   "duration": 146.413984,
   "end_time": "2025-08-16T07:45:02.865723",
   "environment_variables": {},
   "exception": null,
   "input_path": "__notebook__.ipynb",
   "output_path": "__notebook__.ipynb",
   "parameters": {},
   "start_time": "2025-08-16T07:42:36.451739",
   "version": "2.6.0"
  }
 },
 "nbformat": 4,
 "nbformat_minor": 5
}
