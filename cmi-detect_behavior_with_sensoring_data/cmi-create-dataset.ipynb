{
 "cells": [
  {
   "cell_type": "code",
   "execution_count": 1,
   "id": "23bf40ce",
   "metadata": {
    "execution": {
     "iopub.execute_input": "2025-08-12T15:49:36.070901Z",
     "iopub.status.busy": "2025-08-12T15:49:36.070162Z",
     "iopub.status.idle": "2025-08-12T15:49:58.855259Z",
     "shell.execute_reply": "2025-08-12T15:49:58.853643Z"
    },
    "papermill": {
     "duration": 22.794803,
     "end_time": "2025-08-12T15:49:58.857291",
     "exception": false,
     "start_time": "2025-08-12T15:49:36.062488",
     "status": "completed"
    },
    "tags": []
   },
   "outputs": [
    {
     "name": "stderr",
     "output_type": "stream",
     "text": [
      "2025-08-12 15:49:40.379330: E external/local_xla/xla/stream_executor/cuda/cuda_fft.cc:477] Unable to register cuFFT factory: Attempting to register factory for plugin cuFFT when one has already been registered\n",
      "WARNING: All log messages before absl::InitializeLog() is called are written to STDERR\n",
      "E0000 00:00:1755013780.653660      13 cuda_dnn.cc:8310] Unable to register cuDNN factory: Attempting to register factory for plugin cuDNN when one has already been registered\n",
      "E0000 00:00:1755013780.729899      13 cuda_blas.cc:1418] Unable to register cuBLAS factory: Attempting to register factory for plugin cuBLAS when one has already been registered\n"
     ]
    }
   ],
   "source": [
    "import numpy as np\n",
    "import pandas as pd\n",
    "import matplotlib.pyplot as plt\n",
    "import tensorflow as tf\n",
    "import warnings\n",
    "from itertools import product\n",
    "from sklearn.preprocessing import OneHotEncoder\n",
    "import time\n",
    "warnings.filterwarnings(\"ignore\")"
   ]
  },
  {
   "cell_type": "code",
   "execution_count": 2,
   "id": "6618aee5",
   "metadata": {
    "execution": {
     "iopub.execute_input": "2025-08-12T15:49:58.871813Z",
     "iopub.status.busy": "2025-08-12T15:49:58.871116Z",
     "iopub.status.idle": "2025-08-12T15:51:32.386978Z",
     "shell.execute_reply": "2025-08-12T15:51:32.385890Z"
    },
    "papermill": {
     "duration": 93.524498,
     "end_time": "2025-08-12T15:51:32.389004",
     "exception": false,
     "start_time": "2025-08-12T15:49:58.864506",
     "status": "completed"
    },
    "tags": []
   },
   "outputs": [],
   "source": [
    "train_df = pd.read_csv(\"/kaggle/input/preprocessed-dataset/preprocessed_train.csv\")\n",
    "# test_df = pd.read_csv(\"/kaggle/input/preprocessed-dataset/preprocessed_test.csv\")"
   ]
  },
  {
   "cell_type": "code",
   "execution_count": 3,
   "id": "783875c1",
   "metadata": {
    "execution": {
     "iopub.execute_input": "2025-08-12T15:51:32.401960Z",
     "iopub.status.busy": "2025-08-12T15:51:32.401663Z",
     "iopub.status.idle": "2025-08-12T15:51:32.792840Z",
     "shell.execute_reply": "2025-08-12T15:51:32.791685Z"
    },
    "papermill": {
     "duration": 0.39979,
     "end_time": "2025-08-12T15:51:32.794726",
     "exception": false,
     "start_time": "2025-08-12T15:51:32.394936",
     "status": "completed"
    },
    "tags": []
   },
   "outputs": [
    {
     "data": {
      "image/png": "[encoded data removed]",
      "text/plain": [
       "<Figure size 640x480 with 1 Axes>"
      ]
     },
     "metadata": {},
     "output_type": "display_data"
    }
   ],
   "source": [
    "seq_ids = train_df[\"sequence_id\"].values\n",
    "seq_counters = train_df[\"sequence_counter\"].values\n",
    "seq_starts = np.array(train_df[train_df[\"sequence_counter\"]==0].index)\n",
    "seq_lengths = np.diff(np.concatenate([seq_starts, np.array([len(train_df)])]), n=1)\n",
    "\n",
    "bins = np.arange(0, 300, 5)\n",
    "plt.hist(seq_lengths, bins=bins)\n",
    "plt.show()"
   ]
  },
  {
   "cell_type": "code",
   "execution_count": 4,
   "id": "868d08b8",
   "metadata": {
    "execution": {
     "iopub.execute_input": "2025-08-12T15:51:32.809684Z",
     "iopub.status.busy": "2025-08-12T15:51:32.809337Z",
     "iopub.status.idle": "2025-08-12T15:51:32.818175Z",
     "shell.execute_reply": "2025-08-12T15:51:32.817109Z"
    },
    "papermill": {
     "duration": 0.018423,
     "end_time": "2025-08-12T15:51:32.820379",
     "exception": false,
     "start_time": "2025-08-12T15:51:32.801956",
     "status": "completed"
    },
    "tags": []
   },
   "outputs": [
    {
     "name": "stdout",
     "output_type": "stream",
     "text": [
      "Quantile 99.5%: 246.0\n",
      "Max length: 700\n"
     ]
    }
   ],
   "source": [
    "print(f\"Quantile {0.995*100}%: {np.quantile(seq_lengths, 0.995)}\")\n",
    "print(f\"Max length: {seq_lengths.max()}\")"
   ]
  },
  {
   "cell_type": "code",
   "execution_count": 5,
   "id": "3006bfec",
   "metadata": {
    "execution": {
     "iopub.execute_input": "2025-08-12T15:51:32.836066Z",
     "iopub.status.busy": "2025-08-12T15:51:32.835725Z",
     "iopub.status.idle": "2025-08-12T15:51:32.842633Z",
     "shell.execute_reply": "2025-08-12T15:51:32.841458Z"
    },
    "papermill": {
     "duration": 0.01628,
     "end_time": "2025-08-12T15:51:32.844417",
     "exception": false,
     "start_time": "2025-08-12T15:51:32.828137",
     "status": "completed"
    },
    "tags": []
   },
   "outputs": [
    {
     "data": {
      "text/plain": [
       "38"
      ]
     },
     "execution_count": 5,
     "metadata": {},
     "output_type": "execute_result"
    }
   ],
   "source": [
    "len(seq_lengths) - int(len(seq_lengths) * 0.995)"
   ]
  },
  {
   "cell_type": "code",
   "execution_count": 6,
   "id": "728dc0da",
   "metadata": {
    "execution": {
     "iopub.execute_input": "2025-08-12T15:51:32.860974Z",
     "iopub.status.busy": "2025-08-12T15:51:32.860515Z",
     "iopub.status.idle": "2025-08-12T15:51:32.901874Z",
     "shell.execute_reply": "2025-08-12T15:51:32.900778Z"
    },
    "papermill": {
     "duration": 0.05278,
     "end_time": "2025-08-12T15:51:32.903962",
     "exception": false,
     "start_time": "2025-08-12T15:51:32.851182",
     "status": "completed"
    },
    "tags": []
   },
   "outputs": [
    {
     "data": {
      "text/plain": [
       "array(['Target', 'Non-Target'], dtype=object)"
      ]
     },
     "execution_count": 6,
     "metadata": {},
     "output_type": "execute_result"
    }
   ],
   "source": [
    "train_df[\"sequence_type\"].unique()"
   ]
  },
  {
   "cell_type": "code",
   "execution_count": 7,
   "id": "5084bb57",
   "metadata": {
    "execution": {
     "iopub.execute_input": "2025-08-12T15:51:32.920617Z",
     "iopub.status.busy": "2025-08-12T15:51:32.919785Z",
     "iopub.status.idle": "2025-08-12T15:51:32.963531Z",
     "shell.execute_reply": "2025-08-12T15:51:32.962523Z"
    },
    "papermill": {
     "duration": 0.054079,
     "end_time": "2025-08-12T15:51:32.965305",
     "exception": false,
     "start_time": "2025-08-12T15:51:32.911226",
     "status": "completed"
    },
    "tags": []
   },
   "outputs": [],
   "source": [
    "type_mapping = {\"Target\": 1, \"Non-Target\": 0}\n",
    "train_df[\"sequence_type\"] = train_df[\"sequence_type\"].map(type_mapping)"
   ]
  },
  {
   "cell_type": "code",
   "execution_count": 8,
   "id": "af9f7f86",
   "metadata": {
    "execution": {
     "iopub.execute_input": "2025-08-12T15:51:32.980552Z",
     "iopub.status.busy": "2025-08-12T15:51:32.980196Z",
     "iopub.status.idle": "2025-08-12T15:51:34.164005Z",
     "shell.execute_reply": "2025-08-12T15:51:34.163006Z"
    },
    "papermill": {
     "duration": 1.193524,
     "end_time": "2025-08-12T15:51:34.165918",
     "exception": false,
     "start_time": "2025-08-12T15:51:32.972394",
     "status": "completed"
    },
    "tags": []
   },
   "outputs": [],
   "source": [
    "gestures = pd.get_dummies(train_df[\"gesture\"])\n",
    "train_df = pd.concat([train_df, gestures], axis=1)\n",
    "train_df = train_df.drop([\"gesture\"], axis=1)"
   ]
  },
  {
   "cell_type": "code",
   "execution_count": 9,
   "id": "5eddca53",
   "metadata": {
    "execution": {
     "iopub.execute_input": "2025-08-12T15:51:34.181192Z",
     "iopub.status.busy": "2025-08-12T15:51:34.180419Z",
     "iopub.status.idle": "2025-08-12T15:51:34.185680Z",
     "shell.execute_reply": "2025-08-12T15:51:34.184779Z"
    },
    "papermill": {
     "duration": 0.015451,
     "end_time": "2025-08-12T15:51:34.187166",
     "exception": false,
     "start_time": "2025-08-12T15:51:34.171715",
     "status": "completed"
    },
    "tags": []
   },
   "outputs": [],
   "source": [
    "gesture_mapping = {gesture: i for i, gesture in enumerate(gestures)}"
   ]
  },
  {
   "cell_type": "code",
   "execution_count": 10,
   "id": "b81eba0f",
   "metadata": {
    "execution": {
     "iopub.execute_input": "2025-08-12T15:51:34.204000Z",
     "iopub.status.busy": "2025-08-12T15:51:34.203682Z",
     "iopub.status.idle": "2025-08-12T15:51:34.368967Z",
     "shell.execute_reply": "2025-08-12T15:51:34.368188Z"
    },
    "papermill": {
     "duration": 0.174775,
     "end_time": "2025-08-12T15:51:34.370496",
     "exception": false,
     "start_time": "2025-08-12T15:51:34.195721",
     "status": "completed"
    },
    "tags": []
   },
   "outputs": [],
   "source": [
    "from sklearn.model_selection import train_test_split\n",
    "tf.random.set_seed(42)\n",
    "acc_columns = [\"acc_x\", \"acc_y\", \"acc_z\", \"acc_r\", \"acc_theta\", \"acc_phi\"]\n",
    "rot_columns = [\"rot_w\", \"rot_x\", \"rot_y\", \"rot_z\", \"rot_omega\", \"rot_u_theta\", \"rot_u_phi\"]\n",
    "thm_columns = [\"thm_1\", \"thm_2\", \"thm_3\", \"thm_4\", \"thm_5\", \"thm_mean\"]\n",
    "\n",
    "i_list = range(1, 6)\n",
    "j_list = range(64)\n",
    "comb = list(product(i_list, j_list))\n",
    "tof_columns = [f\"tof_{i}_v{j}\" for i, j in comb]\n",
    "\n",
    "def create_dataset(df, window_size=50, shift=25, batch_size=16, mode=\"train\", train_size=0.8):\n",
    "    print(\">>>>> Start creating dataset...\")\n",
    "    start_time = time.time()\n",
    "    \n",
    "    seq_starts = np.array(df[df[\"sequence_counter\"]==0].index)\n",
    "    seq_lengths = np.diff(np.concatenate([seq_starts, np.array([len(df)])]), n=1)\n",
    "    \n",
    "    images = df[tof_columns].to_numpy()   # (samples, 5*64)\n",
    "    images = images.reshape(-1, 64, 5)\n",
    "    images = images.reshape(-1, 8, 8, 5)\n",
    "    images = tf.convert_to_tensor(images, dtype=tf.float32)\n",
    "\n",
    "    others = df[acc_columns + rot_columns + thm_columns].to_numpy()\n",
    "    others = tf.convert_to_tensor(others, dtype=tf.float32)\n",
    "\n",
    "    feature_columns = ['acc_x_mean', 'acc_y_mean', 'acc_z_mean', \"acc_x_std\", \"acc_y_std\", \"acc_z_std\",\n",
    "                       'thm_1_std', 'thm_2_std', 'thm_3_std', 'thm_4_std', 'thm_5_std',\n",
    "                       'adult_child', 'age', 'sex', 'height_cm',\n",
    "                       'shoulder_to_wrist_cm', 'elbow_to_wrist_cm']\n",
    "    features = df[feature_columns].to_numpy()\n",
    "    features = tf.convert_to_tensor(features, dtype=tf.float32)\n",
    "\n",
    "    if mode != \"test\":\n",
    "        sequence_types = df[[\"sequence_type\"]].values\n",
    "        gestures = df[gesture_mapping.keys()].values\n",
    "        targets = np.concatenate([sequence_types, gestures], axis=1)\n",
    "        targets = tf.convert_to_tensor(targets, dtype=tf.float32)\n",
    "        \n",
    "        ids = np.arange(len(targets))\n",
    "        seq_starts_train, seq_starts_valid, seq_lengths_train, seq_lengths_valid = train_test_split(seq_starts, seq_lengths, train_size=train_size, stratify=tf.argmax(tf.gather(targets[:, 1:], seq_starts), axis=-1), random_state=42)\n",
    "        seq_ends_train = seq_starts_train + seq_lengths_train\n",
    "        inputs = (images, others, features, targets)\n",
    "        \n",
    "        threshold = seq_lengths_train.min()\n",
    "        inputs_train, targets_train = time_series_crop_window(inputs, seq_ends_train, \n",
    "                                                              seq_lengths_train, window_size=window_size,\n",
    "                                                              shift=shift, threshold=threshold)\n",
    "        valid_max_length = seq_lengths_valid.max()\n",
    "        inputs_valid, targets_valid = create_window(inputs, seq_starts_valid, \n",
    "                                                    seq_lengths_valid, valid_max_length, \"valid\")\n",
    "        \n",
    "        type_train_ds = tf.data.Dataset.from_tensor_slices((inputs_train, targets_train[:, :1]))\n",
    "        type_train_ds = type_train_ds.shuffle(len(inputs_train)).batch(batch_size)\n",
    "        gesture_train_ds = tf.data.Dataset.from_tensor_slices((inputs_train, targets_train[:, 1:]))\n",
    "        gesture_train_ds = gesture_train_ds.shuffle(len(inputs_train)).batch(batch_size)\n",
    "\n",
    "        type_valid_ds = tf.data.Dataset.from_tensor_slices((inputs_valid, targets_valid[:, :1]))\n",
    "        type_valid_ds = type_valid_ds.shuffle(len(inputs_valid)).batch(batch_size)\n",
    "        gesture_valid_ds = tf.data.Dataset.from_tensor_slices((inputs_valid, targets_valid[:, 1:]))\n",
    "        gesture_valid_ds = gesture_valid_ds.shuffle(len(inputs_valid)).batch(batch_size)\n",
    "\n",
    "        end_time = time.time()\n",
    "        diff_time = end_time - start_time\n",
    "        print(\">>>>> End creating dataset\")\n",
    "        print_converted_time(diff_time)\n",
    "        return type_train_ds, type_valid_ds, gesture_train_ds, gesture_valid_ds\n",
    "    else:\n",
    "        inputs = (images, others, features)\n",
    "        test_max_length = seq_length.max()\n",
    "        inputs = create_window(inputs, seq_starts, seq_lengths, test_max_length, mode=mode)\n",
    "        test_ds = tf.data.Dataset.from_tensor_slices(inputs)\n",
    "        test_ds = test_ds.batch(batch_size)\n",
    "        end_time = time.time()\n",
    "        time_diff = end_time - start_time\n",
    "        print(\">>>>> End creating dataset\")\n",
    "        print_converted_time(diff_time)\n",
    "    return test_ds\n",
    "\n",
    "\n",
    "def print_converted_time(diff_time):\n",
    "    hours, rem = divmod(diff_time, 3600)\n",
    "    minutes, seconds = divmod(rem, 60)\n",
    "    print(f\"Elapsed time: {int(hours)} hours {int(minutes)} minutes {seconds:.2f} seconds\")\n",
    "\n",
    "\n",
    "def create_window(inputs, seq_starts, seq_lengths, max_length, mode=\"valid\"):\n",
    "    images = inputs[0]\n",
    "    others = inputs[1]\n",
    "    features = inputs[2]\n",
    "\n",
    "    image_windows = []\n",
    "    other_windows = []\n",
    "    feature_windows = []\n",
    "\n",
    "    if mode != \"test\":\n",
    "        targets = inputs[3]\n",
    "        target_windows = []\n",
    "    \n",
    "    for start, length in zip(seq_starts, seq_lengths):\n",
    "        image_window = images[start:start+length, :, :, :]\n",
    "        other_window = others[start:start+length, :]\n",
    "        feature_window = features[start]\n",
    "        if mode != \"test\":\n",
    "            target_window = targets[start]\n",
    "        if length < max_length:\n",
    "            image_window = tf.pad(image_window, \n",
    "                                  tf.constant([[0, max_length-int(length)],\n",
    "                                               [0, 0],\n",
    "                                               [0, 0],\n",
    "                                               [0, 0]]), constant_values=0.0)\n",
    "            other_window = tf.pad(other_window, \n",
    "                                  tf.constant([[0, max_length-int(length)],\n",
    "                                               [0, 0]]), constant_values=0.0)\n",
    "        image_windows.append(image_window)\n",
    "        other_windows.append(other_window)\n",
    "        feature_windows.append(feature_window)\n",
    "        if mode != \"test\":\n",
    "            target_windows.append(target_window)\n",
    "\n",
    "    image_windows = tf.stack(image_windows)\n",
    "    other_windows = tf.stack(other_windows)\n",
    "    feature_windows = tf.stack(feature_windows)\n",
    "\n",
    "    if mode != \"test\":\n",
    "        target_windows = tf.stack(target_windows)\n",
    "        return (image_windows, other_windows, feature_windows), target_windows\n",
    "    else:\n",
    "        return (image_windows, other_windows, feature_windows)\n",
    "\n",
    "\n",
    "def time_series_crop_window(inputs, seq_ends, seq_lengths, window_size=50, shift=25, threshold=10):\n",
    "    images = inputs[0]\n",
    "    others = inputs[1]\n",
    "    features = inputs[2]\n",
    "    targets = inputs[3]\n",
    "\n",
    "    image_windows = []\n",
    "    other_windows = []\n",
    "    feature_windows = []\n",
    "    target_windows = []\n",
    "    \n",
    "    for end, length in zip(seq_ends, seq_lengths):\n",
    "        num_windows = (length - window_size) // shift + 1\n",
    "        rem = length - shift * num_windows\n",
    "        window_sizes = [window_size for i in range(num_windows - 1)]\n",
    "        window_sizes.append(rem)\n",
    "        for i, size in enumerate(window_sizes):\n",
    "            append_flag = False\n",
    "            image_window = images[end - i*shift - size: end - i*shift, :, :, :]\n",
    "            other_window = others[end - i*shift - size: end - i*shift, :]\n",
    "            feature_window = features[end - i*shift - size]\n",
    "            target_window = targets[end - i*shift - size]\n",
    "                \n",
    "            if size == window_size:\n",
    "                append_flag = True\n",
    "            elif size < window_size and size >= threshold:\n",
    "                append_flag = True\n",
    "                image_window = tf.pad(image_window, \n",
    "                                      tf.constant([[window_size-size, 0],\n",
    "                                                   [0, 0],\n",
    "                                                   [0, 0],\n",
    "                                                   [0, 0]]), constant_values=0.0)\n",
    "                other_window = tf.pad(other_window, \n",
    "                                      tf.constant([[window_size-size, 0],\n",
    "                                                   [0, 0]]), constant_values=0.0)\n",
    "            if append_flag:\n",
    "                image_windows.append(image_window)\n",
    "                other_windows.append(other_window)\n",
    "                feature_windows.append(feature_window)\n",
    "                target_windows.append(target_window)\n",
    "\n",
    "    image_windows = tf.stack(image_windows)\n",
    "    other_windows = tf.stack(other_windows)\n",
    "    feature_windows = tf.stack(feature_windows)\n",
    "    target_windows = tf.stack(target_windows)\n",
    "    return (image_windows, other_windows, feature_windows), target_windows\n",
    "\n",
    "    \n",
    "def allocate_index(images, others, features, targets, seq_starts, seq_lengths, ids):\n",
    "    images = tf.gather(images, ids)\n",
    "    others = tf.gather(others, ids)\n",
    "    features = tf.gather(features, ids)\n",
    "    targets = tf.gather(targets, ids)\n",
    "    seq_starts = tf.gather(seq_starts, ids)\n",
    "    seq_lengths = tf.gather(seq_lengths, ids)\n",
    "    return images, othres, features, targets, seq_starts, seq_lengths"
   ]
  },
  {
   "cell_type": "code",
   "execution_count": 11,
   "id": "768e5a69",
   "metadata": {
    "execution": {
     "iopub.execute_input": "2025-08-12T15:51:34.383068Z",
     "iopub.status.busy": "2025-08-12T15:51:34.382775Z",
     "iopub.status.idle": "2025-08-12T15:51:58.042711Z",
     "shell.execute_reply": "2025-08-12T15:51:58.041388Z"
    },
    "papermill": {
     "duration": 23.671227,
     "end_time": "2025-08-12T15:51:58.047549",
     "exception": false,
     "start_time": "2025-08-12T15:51:34.376322",
     "status": "completed"
    },
    "tags": []
   },
   "outputs": [
    {
     "name": "stdout",
     "output_type": "stream",
     "text": [
      ">>>>> Start creating dataset...\n"
     ]
    },
    {
     "name": "stderr",
     "output_type": "stream",
     "text": [
      "2025-08-12 15:51:35.834119: E external/local_xla/xla/stream_executor/cuda/cuda_driver.cc:152] failed call to cuInit: INTERNAL: CUDA error: Failed call to cuInit: UNKNOWN ERROR (303)\n"
     ]
    },
    {
     "name": "stdout",
     "output_type": "stream",
     "text": [
      ">>>>> End creating dataset\n",
      "Elapsed time: 0 hours 0 minutes 23.61 seconds\n"
     ]
    }
   ],
   "source": [
    "type_train_ds, type_valid_ds, gesture_train_ds, gesture_valid_ds = create_dataset(train_df, batch_size=64)"
   ]
  },
  {
   "cell_type": "code",
   "execution_count": 12,
   "id": "e10be5a6",
   "metadata": {
    "execution": {
     "iopub.execute_input": "2025-08-12T15:51:58.064088Z",
     "iopub.status.busy": "2025-08-12T15:51:58.063742Z",
     "iopub.status.idle": "2025-08-12T15:51:58.784581Z",
     "shell.execute_reply": "2025-08-12T15:51:58.783530Z"
    },
    "papermill": {
     "duration": 0.730665,
     "end_time": "2025-08-12T15:51:58.786307",
     "exception": false,
     "start_time": "2025-08-12T15:51:58.055642",
     "status": "completed"
    },
    "tags": []
   },
   "outputs": [
    {
     "name": "stdout",
     "output_type": "stream",
     "text": [
      "#batch: 146\n",
      "(64, 50, 8, 8, 5)\n",
      "(64, 50, 19)\n",
      "(64, 17)\n"
     ]
    }
   ],
   "source": [
    "print(f\"#batch: {len(type_train_ds)}\")\n",
    "for i, (inputs, targets) in enumerate(type_train_ds):\n",
    "    if i == 0:\n",
    "        print(inputs[0].shape)\n",
    "        print(inputs[1].shape)\n",
    "        print(inputs[2].shape)\n",
    "        break"
   ]
  },
  {
   "cell_type": "code",
   "execution_count": 13,
   "id": "5e1406e3",
   "metadata": {
    "execution": {
     "iopub.execute_input": "2025-08-12T15:51:58.799833Z",
     "iopub.status.busy": "2025-08-12T15:51:58.799477Z",
     "iopub.status.idle": "2025-08-12T15:51:58.805163Z",
     "shell.execute_reply": "2025-08-12T15:51:58.804191Z"
    },
    "papermill": {
     "duration": 0.014312,
     "end_time": "2025-08-12T15:51:58.806824",
     "exception": false,
     "start_time": "2025-08-12T15:51:58.792512",
     "status": "completed"
    },
    "tags": []
   },
   "outputs": [],
   "source": [
    "def get_sequence_targets(df):\n",
    "    seq_ids = df[\"sequence_id\"].values\n",
    "    seq_starts = np.array(df[df[\"sequence_counter\"]==0].index)\n",
    "    sequence_targets = df.loc[seq_starts, \"sequence_type\"].values\n",
    "    return sequence_targets"
   ]
  },
  {
   "cell_type": "code",
   "execution_count": 14,
   "id": "f2d884d5",
   "metadata": {
    "execution": {
     "iopub.execute_input": "2025-08-12T15:51:58.820127Z",
     "iopub.status.busy": "2025-08-12T15:51:58.819836Z",
     "iopub.status.idle": "2025-08-12T15:51:58.825176Z",
     "shell.execute_reply": "2025-08-12T15:51:58.824269Z"
    },
    "papermill": {
     "duration": 0.014013,
     "end_time": "2025-08-12T15:51:58.826875",
     "exception": false,
     "start_time": "2025-08-12T15:51:58.812862",
     "status": "completed"
    },
    "tags": []
   },
   "outputs": [],
   "source": [
    "gesture_columns = gestures.columns\n",
    "def get_sequence_gestures(df):\n",
    "    seq_ids = df[\"sequence_id\"].values\n",
    "    seq_starts = np.array(df[df[\"sequence_counter\"]==0].index)\n",
    "    sequence_gestures = df.loc[seq_starts, gesture_columns]\n",
    "    return sequence_gestures"
   ]
  },
  {
   "cell_type": "code",
   "execution_count": 15,
   "id": "aeb5b5fc",
   "metadata": {
    "execution": {
     "iopub.execute_input": "2025-08-12T15:51:58.839837Z",
     "iopub.status.busy": "2025-08-12T15:51:58.839424Z",
     "iopub.status.idle": "2025-08-12T15:51:58.890330Z",
     "shell.execute_reply": "2025-08-12T15:51:58.889381Z"
    },
    "papermill": {
     "duration": 0.059508,
     "end_time": "2025-08-12T15:51:58.892157",
     "exception": false,
     "start_time": "2025-08-12T15:51:58.832649",
     "status": "completed"
    },
    "tags": []
   },
   "outputs": [
    {
     "name": "stdout",
     "output_type": "stream",
     "text": [
      "2828\n",
      "4767\n"
     ]
    }
   ],
   "source": [
    "sequence_targets = get_sequence_targets(train_df)\n",
    "print(len(sequence_targets[sequence_targets == 0]))\n",
    "print(len(sequence_targets[sequence_targets == 1]))"
   ]
  },
  {
   "cell_type": "code",
   "execution_count": 16,
   "id": "b2c81e1c",
   "metadata": {
    "execution": {
     "iopub.execute_input": "2025-08-12T15:51:58.905896Z",
     "iopub.status.busy": "2025-08-12T15:51:58.905406Z",
     "iopub.status.idle": "2025-08-12T15:51:58.911459Z",
     "shell.execute_reply": "2025-08-12T15:51:58.910520Z"
    },
    "papermill": {
     "duration": 0.014754,
     "end_time": "2025-08-12T15:51:58.913220",
     "exception": false,
     "start_time": "2025-08-12T15:51:58.898466",
     "status": "completed"
    },
    "tags": []
   },
   "outputs": [],
   "source": [
    "len_target = len(sequence_targets[sequence_targets == 1])\n",
    "len_non_target = len(sequence_targets[sequence_targets == 0])\n",
    "type_sample_weight = (len_target/len_non_target, len_target/len_target)"
   ]
  },
  {
   "cell_type": "code",
   "execution_count": 17,
   "id": "59cb7484",
   "metadata": {
    "execution": {
     "iopub.execute_input": "2025-08-12T15:51:58.927929Z",
     "iopub.status.busy": "2025-08-12T15:51:58.927639Z",
     "iopub.status.idle": "2025-08-12T15:51:58.933966Z",
     "shell.execute_reply": "2025-08-12T15:51:58.933041Z"
    },
    "papermill": {
     "duration": 0.015323,
     "end_time": "2025-08-12T15:51:58.935687",
     "exception": false,
     "start_time": "2025-08-12T15:51:58.920364",
     "status": "completed"
    },
    "tags": []
   },
   "outputs": [
    {
     "data": {
      "text/plain": [
       "(1.6856435643564356, 1.0)"
      ]
     },
     "execution_count": 17,
     "metadata": {},
     "output_type": "execute_result"
    }
   ],
   "source": [
    "type_sample_weight"
   ]
  },
  {
   "cell_type": "code",
   "execution_count": 18,
   "id": "e63160b8",
   "metadata": {
    "execution": {
     "iopub.execute_input": "2025-08-12T15:51:58.950669Z",
     "iopub.status.busy": "2025-08-12T15:51:58.950289Z",
     "iopub.status.idle": "2025-08-12T15:51:58.957357Z",
     "shell.execute_reply": "2025-08-12T15:51:58.956338Z"
    },
    "papermill": {
     "duration": 0.016236,
     "end_time": "2025-08-12T15:51:58.959039",
     "exception": false,
     "start_time": "2025-08-12T15:51:58.942803",
     "status": "completed"
    },
    "tags": []
   },
   "outputs": [
    {
     "data": {
      "text/plain": [
       "Index(['Above ear - pull hair', 'Cheek - pinch skin', 'Drink from bottle/cup',\n",
       "       'Eyebrow - pull hair', 'Eyelash - pull hair',\n",
       "       'Feel around in tray and pull out an object',\n",
       "       'Forehead - pull hairline', 'Forehead - scratch', 'Glasses on/off',\n",
       "       'Neck - pinch skin', 'Neck - scratch', 'Pinch knee/leg skin',\n",
       "       'Pull air toward your face', 'Scratch knee/leg skin', 'Text on phone',\n",
       "       'Wave hello', 'Write name in air', 'Write name on leg'],\n",
       "      dtype='object')"
      ]
     },
     "execution_count": 18,
     "metadata": {},
     "output_type": "execute_result"
    }
   ],
   "source": [
    "gestures.columns"
   ]
  },
  {
   "cell_type": "code",
   "execution_count": 19,
   "id": "f6e78ff4",
   "metadata": {
    "execution": {
     "iopub.execute_input": "2025-08-12T15:51:58.973997Z",
     "iopub.status.busy": "2025-08-12T15:51:58.973687Z",
     "iopub.status.idle": "2025-08-12T15:51:59.030709Z",
     "shell.execute_reply": "2025-08-12T15:51:59.029476Z"
    },
    "papermill": {
     "duration": 0.066089,
     "end_time": "2025-08-12T15:51:59.032400",
     "exception": false,
     "start_time": "2025-08-12T15:51:58.966311",
     "status": "completed"
    },
    "tags": []
   },
   "outputs": [],
   "source": [
    "non_target_gestures = [\"Drink from bottle/cup\", \"Glasses on/off\", \"Pull air toward your face\",\n",
    "                       \"Pinch knee/leg skin\", \"Scratch knee/leg skin\", \"Write name on leg\",\n",
    "                       \"Text on phone\", \"Feel around in tray and pull out an object\",\n",
    "                       \"Write name in air\", \"Wave hello\"]\n",
    "sequence_gestures = get_sequence_gestures(train_df)\n",
    "all_count = sequence_gestures.sum()\n",
    "non_target_count = all_count[non_target_gestures]\n",
    "non_target_sum = non_target_count.sum()\n",
    "all_count[non_target_gestures] = non_target_sum\n",
    "all_count = non_target_sum / all_count\n",
    "gesture_sample_weight = tuple(all_count.values)"
   ]
  },
  {
   "cell_type": "code",
   "execution_count": 20,
   "id": "76ce9b73",
   "metadata": {
    "execution": {
     "iopub.execute_input": "2025-08-12T15:51:59.046623Z",
     "iopub.status.busy": "2025-08-12T15:51:59.046244Z",
     "iopub.status.idle": "2025-08-12T15:51:59.053309Z",
     "shell.execute_reply": "2025-08-12T15:51:59.052484Z"
    },
    "papermill": {
     "duration": 0.016135,
     "end_time": "2025-08-12T15:51:59.054692",
     "exception": false,
     "start_time": "2025-08-12T15:51:59.038557",
     "status": "completed"
    },
    "tags": []
   },
   "outputs": [
    {
     "data": {
      "text/plain": [
       "(4.768971332209106,\n",
       " 4.74496644295302,\n",
       " 1.0,\n",
       " 4.7851099830795265,\n",
       " 4.768971332209106,\n",
       " 1.0,\n",
       " 4.7370184254606365,\n",
       " 4.7370184254606365,\n",
       " 1.0,\n",
       " 4.705490848585691,\n",
       " 4.721202003338898,\n",
       " 1.0,\n",
       " 1.0,\n",
       " 1.0,\n",
       " 1.0,\n",
       " 1.0,\n",
       " 1.0,\n",
       " 1.0)"
      ]
     },
     "execution_count": 20,
     "metadata": {},
     "output_type": "execute_result"
    }
   ],
   "source": [
    "gesture_sample_weight"
   ]
  },
  {
   "cell_type": "code",
   "execution_count": 21,
   "id": "f676b001",
   "metadata": {
    "execution": {
     "iopub.execute_input": "2025-08-12T15:51:59.069532Z",
     "iopub.status.busy": "2025-08-12T15:51:59.068946Z",
     "iopub.status.idle": "2025-08-12T15:51:59.075154Z",
     "shell.execute_reply": "2025-08-12T15:51:59.074218Z"
    },
    "papermill": {
     "duration": 0.015628,
     "end_time": "2025-08-12T15:51:59.076539",
     "exception": false,
     "start_time": "2025-08-12T15:51:59.060911",
     "status": "completed"
    },
    "tags": []
   },
   "outputs": [
    {
     "name": "stdout",
     "output_type": "stream",
     "text": [
      "146\n",
      "24\n",
      "146\n",
      "24\n"
     ]
    }
   ],
   "source": [
    "print(len(type_train_ds))\n",
    "print(len(type_valid_ds))\n",
    "print(len(gesture_train_ds))\n",
    "print(len(gesture_valid_ds))"
   ]
  },
  {
   "cell_type": "code",
   "execution_count": 22,
   "id": "9d35a8a1",
   "metadata": {
    "execution": {
     "iopub.execute_input": "2025-08-12T15:51:59.091654Z",
     "iopub.status.busy": "2025-08-12T15:51:59.090886Z",
     "iopub.status.idle": "2025-08-12T15:51:59.104270Z",
     "shell.execute_reply": "2025-08-12T15:51:59.103297Z"
    },
    "papermill": {
     "duration": 0.022475,
     "end_time": "2025-08-12T15:51:59.105942",
     "exception": false,
     "start_time": "2025-08-12T15:51:59.083467",
     "status": "completed"
    },
    "tags": []
   },
   "outputs": [
    {
     "name": "stdout",
     "output_type": "stream",
     "text": [
      "(64, 50, 8, 8, 5)\n",
      "(64, 50, 19)\n",
      "(64, 17)\n",
      "(64, 1)\n"
     ]
    }
   ],
   "source": [
    "# Check dataset shape\n",
    "for i, (inputs, targets) in enumerate(type_train_ds):\n",
    "    if i == 0:\n",
    "        print(inputs[0].shape)        # Image (TOF)\n",
    "        print(inputs[1].shape)        # Other time-series\n",
    "        print(inputs[2].shape)        # Feature\n",
    "        print(targets.shape)          # Target or Non-Target\n",
    "        break"
   ]
  },
  {
   "cell_type": "code",
   "execution_count": 23,
   "id": "e7dcde52",
   "metadata": {
    "execution": {
     "iopub.execute_input": "2025-08-12T15:51:59.121064Z",
     "iopub.status.busy": "2025-08-12T15:51:59.120762Z",
     "iopub.status.idle": "2025-08-12T15:51:59.711814Z",
     "shell.execute_reply": "2025-08-12T15:51:59.710908Z"
    },
    "papermill": {
     "duration": 0.600858,
     "end_time": "2025-08-12T15:51:59.713762",
     "exception": false,
     "start_time": "2025-08-12T15:51:59.112904",
     "status": "completed"
    },
    "tags": []
   },
   "outputs": [
    {
     "name": "stdout",
     "output_type": "stream",
     "text": [
      "(64, 50, 8, 8, 5)\n",
      "(64, 50, 19)\n",
      "(64, 17)\n",
      "(64, 18)\n"
     ]
    }
   ],
   "source": [
    "for i, (inputs, targets) in enumerate(gesture_train_ds):\n",
    "    if i == 0:\n",
    "        print(inputs[0].shape)        # Image (TOF)\n",
    "        print(inputs[1].shape)        # Other time-series\n",
    "        print(inputs[2].shape)        # Feature\n",
    "        print(targets.shape)          # Gesture\n",
    "        break"
   ]
  },
  {
   "cell_type": "code",
   "execution_count": 24,
   "id": "57e6c5dc",
   "metadata": {
    "execution": {
     "iopub.execute_input": "2025-08-12T15:51:59.727555Z",
     "iopub.status.busy": "2025-08-12T15:51:59.727221Z",
     "iopub.status.idle": "2025-08-12T15:51:59.731466Z",
     "shell.execute_reply": "2025-08-12T15:51:59.730507Z"
    },
    "papermill": {
     "duration": 0.012762,
     "end_time": "2025-08-12T15:51:59.733031",
     "exception": false,
     "start_time": "2025-08-12T15:51:59.720269",
     "status": "completed"
    },
    "tags": []
   },
   "outputs": [],
   "source": [
    "# test_ds = create_dataset(test_df, batch_size=64, mode=\"test\")"
   ]
  },
  {
   "cell_type": "code",
   "execution_count": 25,
   "id": "7d3111e6",
   "metadata": {
    "execution": {
     "iopub.execute_input": "2025-08-12T15:51:59.747683Z",
     "iopub.status.busy": "2025-08-12T15:51:59.747347Z",
     "iopub.status.idle": "2025-08-12T15:51:59.752078Z",
     "shell.execute_reply": "2025-08-12T15:51:59.750648Z"
    },
    "papermill": {
     "duration": 0.014403,
     "end_time": "2025-08-12T15:51:59.753819",
     "exception": false,
     "start_time": "2025-08-12T15:51:59.739416",
     "status": "completed"
    },
    "tags": []
   },
   "outputs": [],
   "source": [
    "# Check dataset shape\n",
    "# for inputs in test_ds:\n",
    "#     print(inputs[0].shape)        # Image (TOF)\n",
    "#     print(inputs[1].shape)        # Other time-series\n",
    "#     print(inputs[2].shape)        # Feature"
   ]
  },
  {
   "cell_type": "code",
   "execution_count": 26,
   "id": "be877ecb",
   "metadata": {
    "execution": {
     "iopub.execute_input": "2025-08-12T15:51:59.769486Z",
     "iopub.status.busy": "2025-08-12T15:51:59.768890Z",
     "iopub.status.idle": "2025-08-12T15:52:13.770115Z",
     "shell.execute_reply": "2025-08-12T15:52:13.769150Z"
    },
    "papermill": {
     "duration": 14.012321,
     "end_time": "2025-08-12T15:52:13.772355",
     "exception": false,
     "start_time": "2025-08-12T15:51:59.760034",
     "status": "completed"
    },
    "tags": []
   },
   "outputs": [],
   "source": [
    "import os\n",
    "output_path = \"/kaggle/working/\"\n",
    "type_train_path = os.path.join(output_path, \"type_train_ds\")\n",
    "type_valid_path = os.path.join(output_path, \"type_valid_ds\")\n",
    "gesture_train_path = os.path.join(output_path, \"gesture_train_ds\")\n",
    "gesture_valid_path = os.path.join(output_path, \"gesture_valid_ds\")\n",
    "# test_path = os.path.join(output_path, \"test_ds\")\n",
    "\n",
    "tf.data.experimental.save(type_train_ds, type_train_path)\n",
    "tf.data.experimental.save(type_valid_ds, type_valid_path)\n",
    "tf.data.experimental.save(gesture_train_ds, gesture_train_path)\n",
    "tf.data.experimental.save(gesture_valid_ds, gesture_valid_path)\n",
    "# tf.data.experimental.save(test_ds, test_path)"
   ]
  },
  {
   "cell_type": "code",
   "execution_count": 27,
   "id": "c5734509",
   "metadata": {
    "execution": {
     "iopub.execute_input": "2025-08-12T15:52:13.831115Z",
     "iopub.status.busy": "2025-08-12T15:52:13.830805Z",
     "iopub.status.idle": "2025-08-12T15:52:13.836447Z",
     "shell.execute_reply": "2025-08-12T15:52:13.835255Z"
    },
    "papermill": {
     "duration": 0.015891,
     "end_time": "2025-08-12T15:52:13.838137",
     "exception": false,
     "start_time": "2025-08-12T15:52:13.822246",
     "status": "completed"
    },
    "tags": []
   },
   "outputs": [],
   "source": [
    "import json\n",
    "\n",
    "mapping_dicts = {\n",
    "    \"type_mapping\":type_mapping, \n",
    "    \"gesture_mapping\": gesture_mapping\n",
    "}\n",
    "\n",
    "dict_path = os.path.join(output_path, \"mapping.json\")\n",
    "with open(dict_path, \"w\") as f:\n",
    "    json.dump(mapping_dicts, f, indent=2)"
   ]
  },
  {
   "cell_type": "code",
   "execution_count": 28,
   "id": "3ba345b8",
   "metadata": {
    "execution": {
     "iopub.execute_input": "2025-08-12T15:52:13.957339Z",
     "iopub.status.busy": "2025-08-12T15:52:13.956017Z",
     "iopub.status.idle": "2025-08-12T15:52:13.963340Z",
     "shell.execute_reply": "2025-08-12T15:52:13.962237Z"
    },
    "papermill": {
     "duration": 0.074259,
     "end_time": "2025-08-12T15:52:13.965298",
     "exception": false,
     "start_time": "2025-08-12T15:52:13.891039",
     "status": "completed"
    },
    "tags": []
   },
   "outputs": [],
   "source": [
    "sample_weight_dicts = {\n",
    "    \"type_sample_weight\": type_sample_weight,\n",
    "    \"gesture_sample_weight\": gesture_sample_weight\n",
    "}\n",
    "\n",
    "dict_path = os.path.join(output_path, \"sample_weight.json\")\n",
    "with open(dict_path, \"w\") as f:\n",
    "    json.dump(sample_weight_dicts, f, indent=2)"
   ]
  },
  {
   "cell_type": "code",
   "execution_count": null,
   "id": "7402f5e7",
   "metadata": {
    "papermill": {
     "duration": 0.012512,
     "end_time": "2025-08-12T15:52:14.031568",
     "exception": false,
     "start_time": "2025-08-12T15:52:14.019056",
     "status": "completed"
    },
    "tags": []
   },
   "outputs": [],
   "source": []
  }
 ],
 "metadata": {
  "kaggle": {
   "accelerator": "none",
   "dataSources": [
    {
     "databundleVersionId": 12518947,
     "sourceId": 102335,
     "sourceType": "competition"
    },
    {
     "datasetId": 7856290,
     "sourceId": 12739983,
     "sourceType": "datasetVersion"
    }
   ],
   "dockerImageVersionId": 31089,
   "isGpuEnabled": false,
   "isInternetEnabled": true,
   "language": "python",
   "sourceType": "notebook"
  },
  "kernelspec": {
   "display_name": "Python 3",
   "language": "python",
   "name": "python3"
  },
  "language_info": {
   "codemirror_mode": {
    "name": "ipython",
    "version": 3
   },
   "file_extension": ".py",
   "mimetype": "text/x-python",
   "name": "python",
   "nbconvert_exporter": "python",
   "pygments_lexer": "ipython3",
   "version": "3.11.13"
  },
  "papermill": {
   "default_parameters": {},
   "duration": 166.415641,
   "end_time": "2025-08-12T15:52:17.289700",
   "environment_variables": {},
   "exception": null,
   "input_path": "__notebook__.ipynb",
   "output_path": "__notebook__.ipynb",
   "parameters": {},
   "start_time": "2025-08-12T15:49:30.874059",
   "version": "2.6.0"
  }
 },
 "nbformat": 4,
 "nbformat_minor": 5
}
