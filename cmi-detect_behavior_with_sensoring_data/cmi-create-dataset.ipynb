{
 "cells": [
  {
   "cell_type": "code",
   "execution_count": 1,
   "id": "325a2929",
   "metadata": {
    "execution": {
     "iopub.execute_input": "2025-08-10T15:09:26.695250Z",
     "iopub.status.busy": "2025-08-10T15:09:26.694841Z",
     "iopub.status.idle": "2025-08-10T15:09:45.712175Z",
     "shell.execute_reply": "2025-08-10T15:09:45.711051Z"
    },
    "papermill": {
     "duration": 19.026712,
     "end_time": "2025-08-10T15:09:45.713865",
     "exception": false,
     "start_time": "2025-08-10T15:09:26.687153",
     "status": "completed"
    },
    "tags": []
   },
   "outputs": [
    {
     "name": "stderr",
     "output_type": "stream",
     "text": [
      "2025-08-10 15:09:30.187211: E external/local_xla/xla/stream_executor/cuda/cuda_fft.cc:477] Unable to register cuFFT factory: Attempting to register factory for plugin cuFFT when one has already been registered\n",
      "WARNING: All log messages before absl::InitializeLog() is called are written to STDERR\n",
      "E0000 00:00:1754838570.412311      13 cuda_dnn.cc:8310] Unable to register cuDNN factory: Attempting to register factory for plugin cuDNN when one has already been registered\n",
      "E0000 00:00:1754838570.475371      13 cuda_blas.cc:1418] Unable to register cuBLAS factory: Attempting to register factory for plugin cuBLAS when one has already been registered\n"
     ]
    }
   ],
   "source": [
    "import numpy as np\n",
    "import pandas as pd\n",
    "import matplotlib.pyplot as plt\n",
    "import tensorflow as tf\n",
    "import warnings\n",
    "from itertools import product\n",
    "from sklearn.preprocessing import OneHotEncoder\n",
    "warnings.filterwarnings(\"ignore\")"
   ]
  },
  {
   "cell_type": "code",
   "execution_count": 2,
   "id": "2f0557b9",
   "metadata": {
    "execution": {
     "iopub.execute_input": "2025-08-10T15:09:45.724623Z",
     "iopub.status.busy": "2025-08-10T15:09:45.724117Z",
     "iopub.status.idle": "2025-08-10T15:10:42.195105Z",
     "shell.execute_reply": "2025-08-10T15:10:42.194029Z"
    },
    "papermill": {
     "duration": 56.47887,
     "end_time": "2025-08-10T15:10:42.197665",
     "exception": false,
     "start_time": "2025-08-10T15:09:45.718795",
     "status": "completed"
    },
    "tags": []
   },
   "outputs": [],
   "source": [
    "train_df = pd.read_csv(\"/kaggle/input/preprocessed-dataset/preprocessed_train.csv\")\n",
    "# test_df = pd.read_csv(\"/kaggle/input/preprocessed-dataset/preprocessed_test.csv\")"
   ]
  },
  {
   "cell_type": "code",
   "execution_count": 3,
   "id": "94f8cacf",
   "metadata": {
    "execution": {
     "iopub.execute_input": "2025-08-10T15:10:42.222050Z",
     "iopub.status.busy": "2025-08-10T15:10:42.221385Z",
     "iopub.status.idle": "2025-08-10T15:10:42.519886Z",
     "shell.execute_reply": "2025-08-10T15:10:42.519037Z"
    },
    "papermill": {
     "duration": 0.312063,
     "end_time": "2025-08-10T15:10:42.521387",
     "exception": false,
     "start_time": "2025-08-10T15:10:42.209324",
     "status": "completed"
    },
    "tags": []
   },
   "outputs": [
    {
     "data": {
      "image/png": "[encoded data removed]",
      "text/plain": [
       "<Figure size 640x480 with 1 Axes>"
      ]
     },
     "metadata": {},
     "output_type": "display_data"
    }
   ],
   "source": [
    "seq_ids = train_df[\"sequence_id\"].values\n",
    "seq_counters = train_df[\"sequence_counter\"].values\n",
    "seq_starts = np.array(train_df[train_df[\"sequence_counter\"]==0].index)\n",
    "seq_lengths = np.diff(np.concatenate([seq_starts, np.array([len(train_df)])]), n=1)\n",
    "\n",
    "bins = np.arange(0, 300, 5)\n",
    "plt.hist(seq_lengths, bins=bins)\n",
    "plt.show()"
   ]
  },
  {
   "cell_type": "code",
   "execution_count": 4,
   "id": "66bf0745",
   "metadata": {
    "execution": {
     "iopub.execute_input": "2025-08-10T15:10:42.532447Z",
     "iopub.status.busy": "2025-08-10T15:10:42.532161Z",
     "iopub.status.idle": "2025-08-10T15:10:42.540052Z",
     "shell.execute_reply": "2025-08-10T15:10:42.538936Z"
    },
    "papermill": {
     "duration": 0.015113,
     "end_time": "2025-08-10T15:10:42.541456",
     "exception": false,
     "start_time": "2025-08-10T15:10:42.526343",
     "status": "completed"
    },
    "tags": []
   },
   "outputs": [
    {
     "name": "stdout",
     "output_type": "stream",
     "text": [
      "Quantile 0.99: 85.0\n",
      "Max length: 142\n"
     ]
    }
   ],
   "source": [
    "print(f\"Quantile 0.99: {np.quantile(seq_lengths, 0.99)}\")\n",
    "print(f\"Max length: {seq_lengths.max()}\")"
   ]
  },
  {
   "cell_type": "code",
   "execution_count": 5,
   "id": "d721a009",
   "metadata": {
    "execution": {
     "iopub.execute_input": "2025-08-10T15:10:42.553403Z",
     "iopub.status.busy": "2025-08-10T15:10:42.552435Z",
     "iopub.status.idle": "2025-08-10T15:10:42.580136Z",
     "shell.execute_reply": "2025-08-10T15:10:42.579155Z"
    },
    "papermill": {
     "duration": 0.035287,
     "end_time": "2025-08-10T15:10:42.581669",
     "exception": false,
     "start_time": "2025-08-10T15:10:42.546382",
     "status": "completed"
    },
    "tags": []
   },
   "outputs": [
    {
     "data": {
      "text/plain": [
       "array(['Target', 'Non-Target'], dtype=object)"
      ]
     },
     "execution_count": 5,
     "metadata": {},
     "output_type": "execute_result"
    }
   ],
   "source": [
    "train_df[\"sequence_type\"].unique()"
   ]
  },
  {
   "cell_type": "code",
   "execution_count": 6,
   "id": "923128fa",
   "metadata": {
    "execution": {
     "iopub.execute_input": "2025-08-10T15:10:42.593064Z",
     "iopub.status.busy": "2025-08-10T15:10:42.592746Z",
     "iopub.status.idle": "2025-08-10T15:10:42.621439Z",
     "shell.execute_reply": "2025-08-10T15:10:42.620558Z"
    },
    "papermill": {
     "duration": 0.037382,
     "end_time": "2025-08-10T15:10:42.624392",
     "exception": false,
     "start_time": "2025-08-10T15:10:42.587010",
     "status": "completed"
    },
    "tags": []
   },
   "outputs": [],
   "source": [
    "type_mapping = {\"Target\": 1, \"Non-Target\": 0}\n",
    "train_df[\"sequence_type\"] = train_df[\"sequence_type\"].map(type_mapping)"
   ]
  },
  {
   "cell_type": "code",
   "execution_count": 7,
   "id": "f7c81af4",
   "metadata": {
    "execution": {
     "iopub.execute_input": "2025-08-10T15:10:42.636167Z",
     "iopub.status.busy": "2025-08-10T15:10:42.635909Z",
     "iopub.status.idle": "2025-08-10T15:10:43.391883Z",
     "shell.execute_reply": "2025-08-10T15:10:43.391019Z"
    },
    "papermill": {
     "duration": 0.763805,
     "end_time": "2025-08-10T15:10:43.393702",
     "exception": false,
     "start_time": "2025-08-10T15:10:42.629897",
     "status": "completed"
    },
    "tags": []
   },
   "outputs": [],
   "source": [
    "gestures = pd.get_dummies(train_df[\"gesture\"])\n",
    "train_df = pd.concat([train_df, gestures], axis=1)\n",
    "train_df = train_df.drop([\"gesture\"], axis=1)"
   ]
  },
  {
   "cell_type": "code",
   "execution_count": 8,
   "id": "592b653f",
   "metadata": {
    "execution": {
     "iopub.execute_input": "2025-08-10T15:10:43.405121Z",
     "iopub.status.busy": "2025-08-10T15:10:43.404717Z",
     "iopub.status.idle": "2025-08-10T15:10:43.409591Z",
     "shell.execute_reply": "2025-08-10T15:10:43.408658Z"
    },
    "papermill": {
     "duration": 0.012079,
     "end_time": "2025-08-10T15:10:43.410997",
     "exception": false,
     "start_time": "2025-08-10T15:10:43.398918",
     "status": "completed"
    },
    "tags": []
   },
   "outputs": [],
   "source": [
    "gesture_mapping = {gesture: i for i, gesture in enumerate(gestures)}"
   ]
  },
  {
   "cell_type": "code",
   "execution_count": 9,
   "id": "7b756b5f",
   "metadata": {
    "execution": {
     "iopub.execute_input": "2025-08-10T15:10:43.422237Z",
     "iopub.status.busy": "2025-08-10T15:10:43.421955Z",
     "iopub.status.idle": "2025-08-10T15:10:43.556962Z",
     "shell.execute_reply": "2025-08-10T15:10:43.556199Z"
    },
    "papermill": {
     "duration": 0.142652,
     "end_time": "2025-08-10T15:10:43.558657",
     "exception": false,
     "start_time": "2025-08-10T15:10:43.416005",
     "status": "completed"
    },
    "tags": []
   },
   "outputs": [],
   "source": [
    "from sklearn.model_selection import train_test_split\n",
    "tf.random.set_seed(42)\n",
    "acc_columns = [\"acc_x\", \"acc_y\", \"acc_z\", \"acc_r\", \"acc_theta\", \"acc_phi\"]\n",
    "rot_columns = [\"rot_w\", \"rot_x\", \"rot_y\", \"rot_z\", \"rot_omega\", \"rot_u_theta\", \"rot_u_phi\"]\n",
    "thm_columns = [\"thm_1\", \"thm_2\", \"thm_3\", \"thm_4\", \"thm_5\", \"thm_mean\"]\n",
    "\n",
    "i_list = range(1, 6)\n",
    "j_list = range(64)\n",
    "comb = list(product(i_list, j_list))\n",
    "tof_columns = [f\"tof_{i}_v{j}\" for i, j in comb]\n",
    "\n",
    "def create_dataset(df, max_length=150, batch_size=16, mode=\"train\", train_size=0.85):\n",
    "    seq_starts = np.array(df[df[\"sequence_counter\"]==0].index)\n",
    "    seq_lengths = np.diff(np.concatenate([seq_starts, np.array([len(df)])]), n=1)\n",
    "    seq_lengths = tf.convert_to_tensor(seq_lengths, dtype=tf.int32)\n",
    "    \n",
    "    images = df[tof_columns].to_numpy()   # (samples, 5*64)\n",
    "    images = images.reshape(-1, 64, 5)\n",
    "    images = images.reshape(-1, 8, 8, 5)\n",
    "    images = tf.convert_to_tensor(images, dtype=tf.float32)\n",
    "\n",
    "    others = df[acc_columns + rot_columns + thm_columns].to_numpy()\n",
    "    others = tf.convert_to_tensor(others, dtype=tf.float32)\n",
    "\n",
    "    feature_columns = ['acc_x_mean', 'acc_y_mean', 'acc_z_mean', \"acc_x_std\", \"acc_y_std\", \"acc_z_std\",\n",
    "                       'thm_1_std', 'thm_2_std', 'thm_3_std', 'thm_4_std', 'thm_5_std',\n",
    "                       'adult_child', 'age', 'sex', 'height_cm',\n",
    "                       'shoulder_to_wrist_cm', 'elbow_to_wrist_cm']\n",
    "    features = df[feature_columns].to_numpy()\n",
    "    features = tf.convert_to_tensor(features, dtype=tf.float32)\n",
    "\n",
    "    if mode != \"test\":\n",
    "        sequence_types = df[[\"sequence_type\"]].values\n",
    "        gestures = df[gesture_mapping.keys()].values\n",
    "        targets = np.concatenate([sequence_types, gestures], axis=1)\n",
    "        targets = tf.convert_to_tensor(targets, dtype=tf.float32)\n",
    "        inputs = (images, others, features, targets)\n",
    "        inputs, targets = create_window(inputs, seq_starts, seq_lengths, max_length, mode)\n",
    "        ids = np.arange(len(targets))\n",
    "        train_ids, valid_ids = train_test_split(ids, train_size=train_size, stratify=tf.argmax(targets[:, 1:], axis=-1), random_state=42)\n",
    "        inputs_train = (\n",
    "            tf.gather(inputs[0], train_ids),\n",
    "            tf.gather(inputs[1], train_ids),\n",
    "            tf.gather(inputs[2], train_ids)\n",
    "        )\n",
    "        inputs_valid = (\n",
    "            tf.gather(inputs[0], valid_ids),\n",
    "            tf.gather(inputs[1], valid_ids),\n",
    "            tf.gather(inputs[2], valid_ids)\n",
    "        )\n",
    "        targets_train, targets_valid = tf.gather(targets, train_ids), tf.gather(targets, valid_ids)\n",
    "        type_train_ds = tf.data.Dataset.from_tensor_slices((inputs_train, targets_train[:, :1]))\n",
    "        type_train_ds = type_train_ds.shuffle(len(inputs_train)).batch(batch_size)\n",
    "        gesture_train_ds = tf.data.Dataset.from_tensor_slices((inputs_train, targets_train[:, 1:]))\n",
    "        gesture_train_ds = gesture_train_ds.shuffle(len(inputs_train)).batch(batch_size)\n",
    "\n",
    "        type_valid_ds = tf.data.Dataset.from_tensor_slices((inputs_valid, targets_valid[:, :1]))\n",
    "        type_valid_ds = type_valid_ds.shuffle(len(inputs_valid)).batch(batch_size)\n",
    "        gesture_valid_ds = tf.data.Dataset.from_tensor_slices((inputs_valid, targets_valid[:, 1:]))\n",
    "        gesture_valid_ds = gesture_valid_ds.shuffle(len(inputs_valid)).batch(batch_size)\n",
    "        return type_train_ds, type_valid_ds, gesture_train_ds, gesture_valid_ds\n",
    "    else:\n",
    "        inputs = (images, others, features)\n",
    "        inputs = create_window(inputs, seq_starts, seq_lengths, max_length, mode)\n",
    "        test_ds = tf.data.Dataset.from_tensor_slices(inputs)\n",
    "        test_ds = test_ds.batch(batch_size)\n",
    "    return test_ds\n",
    "\n",
    "\n",
    "def create_window(inputs, seq_starts, seq_lengths, max_length, mode=\"train\"):\n",
    "    images = inputs[0]\n",
    "    others = inputs[1]\n",
    "    features = inputs[2]\n",
    "\n",
    "    image_windows = []\n",
    "    other_windows = []\n",
    "    feature_windows = []\n",
    "\n",
    "    if mode != \"test\":\n",
    "        targets = inputs[3]\n",
    "        target_windows = []\n",
    "    \n",
    "    for start, length in zip(seq_starts, seq_lengths):\n",
    "        image_window = images[start:start+length, :, :, :]\n",
    "        other_window = others[start:start+length, :]\n",
    "        feature_window = features[start]\n",
    "        if mode != \"test\":\n",
    "            target_window = targets[start]\n",
    "        if length < max_length:\n",
    "            image_window = tf.pad(image_window, \n",
    "                                  tf.constant([[0, max_length-int(length)],\n",
    "                                               [0, 0],\n",
    "                                               [0, 0],\n",
    "                                               [0, 0]]), constant_values=0.0)\n",
    "            other_window = tf.pad(other_window, \n",
    "                                  tf.constant([[0, max_length-int(length)],\n",
    "                                               [0, 0]]), constant_values=0.0)\n",
    "        image_windows.append(image_window)\n",
    "        other_windows.append(other_window)\n",
    "        feature_windows.append(feature_window)\n",
    "        if mode != \"test\":\n",
    "            target_windows.append(target_window)\n",
    "\n",
    "    image_windows = tf.stack(image_windows)\n",
    "    other_windows = tf.stack(other_windows)\n",
    "    # image_windows = tf.RaggedTensor.from_tensor(image_windows, lengths=seq_lengths)\n",
    "    # other_windows = tf.RaggedTensor.from_tensor(other_windows, lengths=seq_lengths)\n",
    "    feature_windows = tf.stack(feature_windows)\n",
    "\n",
    "    if mode != \"test\":\n",
    "        target_windows = tf.stack(target_windows)\n",
    "        return (image_windows, other_windows, feature_windows), target_windows\n",
    "    else:\n",
    "        return (image_windows, other_windows, feature_windows)"
   ]
  },
  {
   "cell_type": "code",
   "execution_count": 10,
   "id": "db6c9b48",
   "metadata": {
    "execution": {
     "iopub.execute_input": "2025-08-10T15:10:43.570072Z",
     "iopub.status.busy": "2025-08-10T15:10:43.569827Z",
     "iopub.status.idle": "2025-08-10T15:11:02.345891Z",
     "shell.execute_reply": "2025-08-10T15:11:02.344817Z"
    },
    "papermill": {
     "duration": 18.783406,
     "end_time": "2025-08-10T15:11:02.347376",
     "exception": false,
     "start_time": "2025-08-10T15:10:43.563970",
     "status": "completed"
    },
    "tags": []
   },
   "outputs": [
    {
     "name": "stderr",
     "output_type": "stream",
     "text": [
      "2025-08-10 15:10:43.603936: E external/local_xla/xla/stream_executor/cuda/cuda_driver.cc:152] failed call to cuInit: INTERNAL: CUDA error: Failed call to cuInit: UNKNOWN ERROR (303)\n"
     ]
    }
   ],
   "source": [
    "type_train_ds, type_valid_ds, gesture_train_ds, gesture_valid_ds = create_dataset(train_df, batch_size=32)"
   ]
  },
  {
   "cell_type": "code",
   "execution_count": 11,
   "id": "0e4bd171",
   "metadata": {
    "execution": {
     "iopub.execute_input": "2025-08-10T15:11:02.358406Z",
     "iopub.status.busy": "2025-08-10T15:11:02.358139Z",
     "iopub.status.idle": "2025-08-10T15:11:03.459581Z",
     "shell.execute_reply": "2025-08-10T15:11:03.458464Z"
    },
    "papermill": {
     "duration": 1.108664,
     "end_time": "2025-08-10T15:11:03.461130",
     "exception": false,
     "start_time": "2025-08-10T15:11:02.352466",
     "status": "completed"
    },
    "tags": []
   },
   "outputs": [
    {
     "name": "stdout",
     "output_type": "stream",
     "text": [
      "(32, 150, 8, 8, 5)\n",
      "(32, 150, 19)\n",
      "(32, 17)\n"
     ]
    }
   ],
   "source": [
    "for i, (inputs, targets) in enumerate(type_train_ds):\n",
    "    if i == 0:\n",
    "        print(inputs[0].shape)\n",
    "        print(inputs[1].shape)\n",
    "        print(inputs[2].shape)\n",
    "        break"
   ]
  },
  {
   "cell_type": "code",
   "execution_count": 12,
   "id": "4d21a526",
   "metadata": {
    "execution": {
     "iopub.execute_input": "2025-08-10T15:11:03.472353Z",
     "iopub.status.busy": "2025-08-10T15:11:03.472071Z",
     "iopub.status.idle": "2025-08-10T15:11:03.477116Z",
     "shell.execute_reply": "2025-08-10T15:11:03.476015Z"
    },
    "papermill": {
     "duration": 0.012378,
     "end_time": "2025-08-10T15:11:03.478632",
     "exception": false,
     "start_time": "2025-08-10T15:11:03.466254",
     "status": "completed"
    },
    "tags": []
   },
   "outputs": [],
   "source": [
    "def get_sequence_targets(df):\n",
    "    seq_ids = df[\"sequence_id\"].values\n",
    "    seq_starts = np.array(df[df[\"sequence_counter\"]==0].index)\n",
    "    sequence_targets = df.loc[seq_starts, \"sequence_type\"].values\n",
    "    return sequence_targets"
   ]
  },
  {
   "cell_type": "code",
   "execution_count": 13,
   "id": "fcd90d36",
   "metadata": {
    "execution": {
     "iopub.execute_input": "2025-08-10T15:11:03.491211Z",
     "iopub.status.busy": "2025-08-10T15:11:03.490279Z",
     "iopub.status.idle": "2025-08-10T15:11:03.496008Z",
     "shell.execute_reply": "2025-08-10T15:11:03.495023Z"
    },
    "papermill": {
     "duration": 0.013786,
     "end_time": "2025-08-10T15:11:03.497749",
     "exception": false,
     "start_time": "2025-08-10T15:11:03.483963",
     "status": "completed"
    },
    "tags": []
   },
   "outputs": [],
   "source": [
    "gesture_columns = gestures.columns\n",
    "def get_sequence_gestures(df):\n",
    "    seq_ids = df[\"sequence_id\"].values\n",
    "    seq_starts = np.array(df[df[\"sequence_counter\"]==0].index)\n",
    "    sequence_gestures = df.loc[seq_starts, gesture_columns]\n",
    "    return sequence_gestures"
   ]
  },
  {
   "cell_type": "code",
   "execution_count": 14,
   "id": "0d1acc1a",
   "metadata": {
    "execution": {
     "iopub.execute_input": "2025-08-10T15:11:03.509375Z",
     "iopub.status.busy": "2025-08-10T15:11:03.509089Z",
     "iopub.status.idle": "2025-08-10T15:11:03.546333Z",
     "shell.execute_reply": "2025-08-10T15:11:03.544605Z"
    },
    "papermill": {
     "duration": 0.045551,
     "end_time": "2025-08-10T15:11:03.548424",
     "exception": false,
     "start_time": "2025-08-10T15:11:03.502873",
     "status": "completed"
    },
    "tags": []
   },
   "outputs": [
    {
     "name": "stdout",
     "output_type": "stream",
     "text": [
      "2828\n",
      "4767\n"
     ]
    }
   ],
   "source": [
    "sequence_targets = get_sequence_targets(train_df)\n",
    "print(len(sequence_targets[sequence_targets == 0]))\n",
    "print(len(sequence_targets[sequence_targets == 1]))"
   ]
  },
  {
   "cell_type": "code",
   "execution_count": 15,
   "id": "335d0c46",
   "metadata": {
    "execution": {
     "iopub.execute_input": "2025-08-10T15:11:03.560133Z",
     "iopub.status.busy": "2025-08-10T15:11:03.559870Z",
     "iopub.status.idle": "2025-08-10T15:11:03.566253Z",
     "shell.execute_reply": "2025-08-10T15:11:03.565208Z"
    },
    "papermill": {
     "duration": 0.01436,
     "end_time": "2025-08-10T15:11:03.568358",
     "exception": false,
     "start_time": "2025-08-10T15:11:03.553998",
     "status": "completed"
    },
    "tags": []
   },
   "outputs": [],
   "source": [
    "len_target = len(sequence_targets[sequence_targets == 1])\n",
    "len_non_target = len(sequence_targets[sequence_targets == 0])\n",
    "type_sample_weight = (len_target/len_non_target, len_target/len_target)"
   ]
  },
  {
   "cell_type": "code",
   "execution_count": 16,
   "id": "18c0e799",
   "metadata": {
    "execution": {
     "iopub.execute_input": "2025-08-10T15:11:03.580347Z",
     "iopub.status.busy": "2025-08-10T15:11:03.579595Z",
     "iopub.status.idle": "2025-08-10T15:11:03.585571Z",
     "shell.execute_reply": "2025-08-10T15:11:03.584733Z"
    },
    "papermill": {
     "duration": 0.013914,
     "end_time": "2025-08-10T15:11:03.587215",
     "exception": false,
     "start_time": "2025-08-10T15:11:03.573301",
     "status": "completed"
    },
    "tags": []
   },
   "outputs": [
    {
     "data": {
      "text/plain": [
       "(1.6856435643564356, 1.0)"
      ]
     },
     "execution_count": 16,
     "metadata": {},
     "output_type": "execute_result"
    }
   ],
   "source": [
    "type_sample_weight"
   ]
  },
  {
   "cell_type": "code",
   "execution_count": 17,
   "id": "1f82eb88",
   "metadata": {
    "execution": {
     "iopub.execute_input": "2025-08-10T15:11:03.598586Z",
     "iopub.status.busy": "2025-08-10T15:11:03.598275Z",
     "iopub.status.idle": "2025-08-10T15:11:03.605913Z",
     "shell.execute_reply": "2025-08-10T15:11:03.604845Z"
    },
    "papermill": {
     "duration": 0.015209,
     "end_time": "2025-08-10T15:11:03.607588",
     "exception": false,
     "start_time": "2025-08-10T15:11:03.592379",
     "status": "completed"
    },
    "tags": []
   },
   "outputs": [
    {
     "data": {
      "text/plain": [
       "Index(['Above ear - pull hair', 'Cheek - pinch skin', 'Drink from bottle/cup',\n",
       "       'Eyebrow - pull hair', 'Eyelash - pull hair',\n",
       "       'Feel around in tray and pull out an object',\n",
       "       'Forehead - pull hairline', 'Forehead - scratch', 'Glasses on/off',\n",
       "       'Neck - pinch skin', 'Neck - scratch', 'Pinch knee/leg skin',\n",
       "       'Pull air toward your face', 'Scratch knee/leg skin', 'Text on phone',\n",
       "       'Wave hello', 'Write name in air', 'Write name on leg'],\n",
       "      dtype='object')"
      ]
     },
     "execution_count": 17,
     "metadata": {},
     "output_type": "execute_result"
    }
   ],
   "source": [
    "gestures.columns"
   ]
  },
  {
   "cell_type": "code",
   "execution_count": 18,
   "id": "05502cea",
   "metadata": {
    "execution": {
     "iopub.execute_input": "2025-08-10T15:11:03.619755Z",
     "iopub.status.busy": "2025-08-10T15:11:03.619403Z",
     "iopub.status.idle": "2025-08-10T15:11:03.662768Z",
     "shell.execute_reply": "2025-08-10T15:11:03.661742Z"
    },
    "papermill": {
     "duration": 0.051832,
     "end_time": "2025-08-10T15:11:03.664704",
     "exception": false,
     "start_time": "2025-08-10T15:11:03.612872",
     "status": "completed"
    },
    "tags": []
   },
   "outputs": [],
   "source": [
    "non_target_gestures = [\"Drink from bottle/cup\", \"Glasses on/off\", \"Pull air toward your face\",\n",
    "                       \"Pinch knee/leg skin\", \"Scratch knee/leg skin\", \"Write name on leg\",\n",
    "                       \"Text on phone\", \"Feel around in tray and pull out an object\",\n",
    "                       \"Write name in air\", \"Wave hello\"]\n",
    "sequence_gestures = get_sequence_gestures(train_df)\n",
    "all_count = sequence_gestures.sum()\n",
    "non_target_count = all_count[non_target_gestures]\n",
    "non_target_sum = non_target_count.sum()\n",
    "all_count[non_target_gestures] = non_target_sum\n",
    "all_count = non_target_sum / all_count\n",
    "gesture_sample_weight = tuple(all_count.values)"
   ]
  },
  {
   "cell_type": "code",
   "execution_count": 19,
   "id": "53af4f95",
   "metadata": {
    "execution": {
     "iopub.execute_input": "2025-08-10T15:11:03.676389Z",
     "iopub.status.busy": "2025-08-10T15:11:03.676098Z",
     "iopub.status.idle": "2025-08-10T15:11:03.681979Z",
     "shell.execute_reply": "2025-08-10T15:11:03.681171Z"
    },
    "papermill": {
     "duration": 0.013473,
     "end_time": "2025-08-10T15:11:03.683338",
     "exception": false,
     "start_time": "2025-08-10T15:11:03.669865",
     "status": "completed"
    },
    "tags": []
   },
   "outputs": [
    {
     "data": {
      "text/plain": [
       "(4.768971332209106,\n",
       " 4.74496644295302,\n",
       " 1.0,\n",
       " 4.7851099830795265,\n",
       " 4.768971332209106,\n",
       " 1.0,\n",
       " 4.7370184254606365,\n",
       " 4.7370184254606365,\n",
       " 1.0,\n",
       " 4.705490848585691,\n",
       " 4.721202003338898,\n",
       " 1.0,\n",
       " 1.0,\n",
       " 1.0,\n",
       " 1.0,\n",
       " 1.0,\n",
       " 1.0,\n",
       " 1.0)"
      ]
     },
     "execution_count": 19,
     "metadata": {},
     "output_type": "execute_result"
    }
   ],
   "source": [
    "gesture_sample_weight"
   ]
  },
  {
   "cell_type": "code",
   "execution_count": 20,
   "id": "d8e4fffd",
   "metadata": {
    "execution": {
     "iopub.execute_input": "2025-08-10T15:11:03.694863Z",
     "iopub.status.busy": "2025-08-10T15:11:03.694580Z",
     "iopub.status.idle": "2025-08-10T15:11:03.701620Z",
     "shell.execute_reply": "2025-08-10T15:11:03.700589Z"
    },
    "papermill": {
     "duration": 0.014146,
     "end_time": "2025-08-10T15:11:03.702949",
     "exception": false,
     "start_time": "2025-08-10T15:11:03.688803",
     "status": "completed"
    },
    "tags": []
   },
   "outputs": [
    {
     "name": "stdout",
     "output_type": "stream",
     "text": [
      "202\n",
      "36\n",
      "202\n",
      "36\n"
     ]
    }
   ],
   "source": [
    "print(len(type_train_ds))\n",
    "print(len(type_valid_ds))\n",
    "print(len(gesture_train_ds))\n",
    "print(len(gesture_valid_ds))"
   ]
  },
  {
   "cell_type": "code",
   "execution_count": 21,
   "id": "4f55927e",
   "metadata": {
    "execution": {
     "iopub.execute_input": "2025-08-10T15:11:03.714987Z",
     "iopub.status.busy": "2025-08-10T15:11:03.714364Z",
     "iopub.status.idle": "2025-08-10T15:11:03.728882Z",
     "shell.execute_reply": "2025-08-10T15:11:03.727713Z"
    },
    "papermill": {
     "duration": 0.022185,
     "end_time": "2025-08-10T15:11:03.730361",
     "exception": false,
     "start_time": "2025-08-10T15:11:03.708176",
     "status": "completed"
    },
    "tags": []
   },
   "outputs": [
    {
     "name": "stdout",
     "output_type": "stream",
     "text": [
      "(32, 150, 8, 8, 5)\n",
      "(32, 150, 19)\n",
      "(32, 17)\n",
      "(32, 1)\n"
     ]
    }
   ],
   "source": [
    "# Check dataset shape\n",
    "for i, (inputs, targets) in enumerate(type_train_ds):\n",
    "    if i == 0:\n",
    "        print(inputs[0].shape)        # Image (TOF)\n",
    "        print(inputs[1].shape)        # Other time-series\n",
    "        print(inputs[2].shape)        # Feature\n",
    "        print(targets.shape)          # Target or Non-Target\n",
    "        break"
   ]
  },
  {
   "cell_type": "code",
   "execution_count": 22,
   "id": "e3abb926",
   "metadata": {
    "execution": {
     "iopub.execute_input": "2025-08-10T15:11:03.742266Z",
     "iopub.status.busy": "2025-08-10T15:11:03.741974Z",
     "iopub.status.idle": "2025-08-10T15:11:04.812921Z",
     "shell.execute_reply": "2025-08-10T15:11:04.811764Z"
    },
    "papermill": {
     "duration": 1.078683,
     "end_time": "2025-08-10T15:11:04.814364",
     "exception": false,
     "start_time": "2025-08-10T15:11:03.735681",
     "status": "completed"
    },
    "tags": []
   },
   "outputs": [
    {
     "name": "stdout",
     "output_type": "stream",
     "text": [
      "(32, 150, 8, 8, 5)\n",
      "(32, 150, 19)\n",
      "(32, 17)\n",
      "(32, 18)\n"
     ]
    }
   ],
   "source": [
    "for i, (inputs, targets) in enumerate(gesture_train_ds):\n",
    "    if i == 0:\n",
    "        print(inputs[0].shape)        # Image (TOF)\n",
    "        print(inputs[1].shape)        # Other time-series\n",
    "        print(inputs[2].shape)        # Feature\n",
    "        print(targets.shape)          # Gesture\n",
    "        break"
   ]
  },
  {
   "cell_type": "code",
   "execution_count": 23,
   "id": "6b608373",
   "metadata": {
    "execution": {
     "iopub.execute_input": "2025-08-10T15:11:04.826353Z",
     "iopub.status.busy": "2025-08-10T15:11:04.826057Z",
     "iopub.status.idle": "2025-08-10T15:11:04.829872Z",
     "shell.execute_reply": "2025-08-10T15:11:04.828978Z"
    },
    "papermill": {
     "duration": 0.011698,
     "end_time": "2025-08-10T15:11:04.831568",
     "exception": false,
     "start_time": "2025-08-10T15:11:04.819870",
     "status": "completed"
    },
    "tags": []
   },
   "outputs": [],
   "source": [
    "# test_ds = create_dataset(test_df, batch_size=64, mode=\"test\")"
   ]
  },
  {
   "cell_type": "code",
   "execution_count": 24,
   "id": "7de45b1d",
   "metadata": {
    "execution": {
     "iopub.execute_input": "2025-08-10T15:11:04.843421Z",
     "iopub.status.busy": "2025-08-10T15:11:04.843133Z",
     "iopub.status.idle": "2025-08-10T15:11:04.847909Z",
     "shell.execute_reply": "2025-08-10T15:11:04.846334Z"
    },
    "papermill": {
     "duration": 0.012599,
     "end_time": "2025-08-10T15:11:04.849469",
     "exception": false,
     "start_time": "2025-08-10T15:11:04.836870",
     "status": "completed"
    },
    "tags": []
   },
   "outputs": [],
   "source": [
    "# Check dataset shape\n",
    "# for inputs in test_ds:\n",
    "#     print(inputs[0].shape)        # Image (TOF)\n",
    "#     print(inputs[1].shape)        # Other time-series\n",
    "#     print(inputs[2].shape)        # Feature"
   ]
  },
  {
   "cell_type": "code",
   "execution_count": 25,
   "id": "9ee08374",
   "metadata": {
    "execution": {
     "iopub.execute_input": "2025-08-10T15:11:04.861068Z",
     "iopub.status.busy": "2025-08-10T15:11:04.860822Z",
     "iopub.status.idle": "2025-08-10T15:11:12.573433Z",
     "shell.execute_reply": "2025-08-10T15:11:12.572391Z"
    },
    "papermill": {
     "duration": 7.720825,
     "end_time": "2025-08-10T15:11:12.575710",
     "exception": false,
     "start_time": "2025-08-10T15:11:04.854885",
     "status": "completed"
    },
    "tags": []
   },
   "outputs": [],
   "source": [
    "import os\n",
    "output_path = \"/kaggle/working/\"\n",
    "type_train_path = os.path.join(output_path, \"type_train_ds\")\n",
    "type_valid_path = os.path.join(output_path, \"type_valid_ds\")\n",
    "gesture_train_path = os.path.join(output_path, \"gesture_train_ds\")\n",
    "gesture_valid_path = os.path.join(output_path, \"gesture_valid_ds\")\n",
    "# test_path = os.path.join(output_path, \"test_ds\")\n",
    "\n",
    "tf.data.experimental.save(type_train_ds, type_train_path)\n",
    "tf.data.experimental.save(type_valid_ds, type_valid_path)\n",
    "tf.data.experimental.save(gesture_train_ds, gesture_train_path)\n",
    "tf.data.experimental.save(gesture_valid_ds, gesture_valid_path)\n",
    "# tf.data.experimental.save(test_ds, test_path)"
   ]
  },
  {
   "cell_type": "code",
   "execution_count": 26,
   "id": "41ca0e03",
   "metadata": {
    "execution": {
     "iopub.execute_input": "2025-08-10T15:11:12.636028Z",
     "iopub.status.busy": "2025-08-10T15:11:12.635618Z",
     "iopub.status.idle": "2025-08-10T15:11:12.644295Z",
     "shell.execute_reply": "2025-08-10T15:11:12.643294Z"
    },
    "papermill": {
     "duration": 0.022989,
     "end_time": "2025-08-10T15:11:12.645869",
     "exception": false,
     "start_time": "2025-08-10T15:11:12.622880",
     "status": "completed"
    },
    "tags": []
   },
   "outputs": [],
   "source": [
    "import json\n",
    "\n",
    "mapping_dicts = {\n",
    "    \"type_mapping\":type_mapping, \n",
    "    \"gesture_mapping\": gesture_mapping\n",
    "}\n",
    "\n",
    "dict_path = os.path.join(output_path, \"mapping.json\")\n",
    "with open(dict_path, \"w\") as f:\n",
    "    json.dump(mapping_dicts, f, indent=2)"
   ]
  },
  {
   "cell_type": "code",
   "execution_count": 27,
   "id": "5e75ebb8",
   "metadata": {
    "execution": {
     "iopub.execute_input": "2025-08-10T15:11:12.700440Z",
     "iopub.status.busy": "2025-08-10T15:11:12.699785Z",
     "iopub.status.idle": "2025-08-10T15:11:12.710561Z",
     "shell.execute_reply": "2025-08-10T15:11:12.709456Z"
    },
    "papermill": {
     "duration": 0.025891,
     "end_time": "2025-08-10T15:11:12.712929",
     "exception": false,
     "start_time": "2025-08-10T15:11:12.687038",
     "status": "completed"
    },
    "tags": []
   },
   "outputs": [],
   "source": [
    "sample_weight_dicts = {\n",
    "    \"type_sample_weight\": type_sample_weight,\n",
    "    \"gesture_sample_weight\": gesture_sample_weight\n",
    "}\n",
    "\n",
    "dict_path = os.path.join(output_path, \"sample_weight.json\")\n",
    "with open(dict_path, \"w\") as f:\n",
    "    json.dump(sample_weight_dicts, f, indent=2)"
   ]
  },
  {
   "cell_type": "code",
   "execution_count": null,
   "id": "1d0fce45",
   "metadata": {
    "papermill": {
     "duration": 0.010745,
     "end_time": "2025-08-10T15:11:12.776747",
     "exception": false,
     "start_time": "2025-08-10T15:11:12.766002",
     "status": "completed"
    },
    "tags": []
   },
   "outputs": [],
   "source": []
  }
 ],
 "metadata": {
  "kaggle": {
   "accelerator": "none",
   "dataSources": [
    {
     "databundleVersionId": 12518947,
     "sourceId": 102335,
     "sourceType": "competition"
    },
    {
     "datasetId": 7856290,
     "sourceId": 12724267,
     "sourceType": "datasetVersion"
    }
   ],
   "dockerImageVersionId": 31089,
   "isGpuEnabled": false,
   "isInternetEnabled": true,
   "language": "python",
   "sourceType": "notebook"
  },
  "kernelspec": {
   "display_name": "Python 3",
   "language": "python",
   "name": "python3"
  },
  "language_info": {
   "codemirror_mode": {
    "name": "ipython",
    "version": 3
   },
   "file_extension": ".py",
   "mimetype": "text/x-python",
   "name": "python",
   "nbconvert_exporter": "python",
   "pygments_lexer": "ipython3",
   "version": "3.11.13"
  },
  "papermill": {
   "default_parameters": {},
   "duration": 115.107752,
   "end_time": "2025-08-10T15:11:16.142485",
   "environment_variables": {},
   "exception": null,
   "input_path": "__notebook__.ipynb",
   "output_path": "__notebook__.ipynb",
   "parameters": {},
   "start_time": "2025-08-10T15:09:21.034733",
   "version": "2.6.0"
  }
 },
 "nbformat": 4,
 "nbformat_minor": 5
}
