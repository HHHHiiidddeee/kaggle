{
 "cells": [
  {
   "cell_type": "code",
   "execution_count": 1,
   "id": "1bf80fc6",
   "metadata": {
    "execution": {
     "iopub.execute_input": "2025-08-03T15:59:28.141812Z",
     "iopub.status.busy": "2025-08-03T15:59:28.141423Z",
     "iopub.status.idle": "2025-08-03T15:59:46.915677Z",
     "shell.execute_reply": "2025-08-03T15:59:46.914704Z"
    },
    "papermill": {
     "duration": 18.783043,
     "end_time": "2025-08-03T15:59:46.917619",
     "exception": false,
     "start_time": "2025-08-03T15:59:28.134576",
     "status": "completed"
    },
    "tags": []
   },
   "outputs": [
    {
     "name": "stderr",
     "output_type": "stream",
     "text": [
      "2025-08-03 15:59:31.614776: E external/local_xla/xla/stream_executor/cuda/cuda_fft.cc:477] Unable to register cuFFT factory: Attempting to register factory for plugin cuFFT when one has already been registered\n",
      "WARNING: All log messages before absl::InitializeLog() is called are written to STDERR\n",
      "E0000 00:00:1754236771.859227      13 cuda_dnn.cc:8310] Unable to register cuDNN factory: Attempting to register factory for plugin cuDNN when one has already been registered\n",
      "E0000 00:00:1754236771.932641      13 cuda_blas.cc:1418] Unable to register cuBLAS factory: Attempting to register factory for plugin cuBLAS when one has already been registered\n"
     ]
    }
   ],
   "source": [
    "import numpy as np\n",
    "import pandas as pd\n",
    "import matplotlib.pyplot as plt\n",
    "import tensorflow as tf\n",
    "import warnings\n",
    "from itertools import product\n",
    "from sklearn.preprocessing import OneHotEncoder\n",
    "warnings.filterwarnings(\"ignore\")"
   ]
  },
  {
   "cell_type": "code",
   "execution_count": 2,
   "id": "b4e3c588",
   "metadata": {
    "execution": {
     "iopub.execute_input": "2025-08-03T15:59:46.929775Z",
     "iopub.status.busy": "2025-08-03T15:59:46.929214Z",
     "iopub.status.idle": "2025-08-03T16:01:35.564624Z",
     "shell.execute_reply": "2025-08-03T16:01:35.563679Z"
    },
    "papermill": {
     "duration": 108.642931,
     "end_time": "2025-08-03T16:01:35.566360",
     "exception": false,
     "start_time": "2025-08-03T15:59:46.923429",
     "status": "completed"
    },
    "tags": []
   },
   "outputs": [],
   "source": [
    "train_df = pd.read_csv(\"/kaggle/input/preprocessed-dataset/preprocessed_train.csv\")\n",
    "test_df = pd.read_csv(\"/kaggle/input/preprocessed-dataset/preprocessed_test.csv\")"
   ]
  },
  {
   "cell_type": "code",
   "execution_count": 3,
   "id": "80ab2d7a",
   "metadata": {
    "execution": {
     "iopub.execute_input": "2025-08-03T16:01:35.577952Z",
     "iopub.status.busy": "2025-08-03T16:01:35.577616Z",
     "iopub.status.idle": "2025-08-03T16:01:35.936984Z",
     "shell.execute_reply": "2025-08-03T16:01:35.936065Z"
    },
    "papermill": {
     "duration": 0.36705,
     "end_time": "2025-08-03T16:01:35.938696",
     "exception": false,
     "start_time": "2025-08-03T16:01:35.571646",
     "status": "completed"
    },
    "tags": []
   },
   "outputs": [
    {
     "data": {
      "image/png": "[encoded data removed]",
      "text/plain": [
       "<Figure size 640x480 with 1 Axes>"
      ]
     },
     "metadata": {},
     "output_type": "display_data"
    }
   ],
   "source": [
    "seq_ids = train_df[\"sequence_id\"].values\n",
    "seq_counters = train_df[\"sequence_counter\"].values\n",
    "seq_starts = np.array(train_df[train_df[\"sequence_counter\"]==0].index)\n",
    "seq_lengths = np.diff(np.concatenate([seq_starts, np.array([len(train_df)])]), n=1)\n",
    "\n",
    "bins = np.arange(0, 300, 5)\n",
    "plt.hist(seq_lengths, bins=bins)\n",
    "plt.show()"
   ]
  },
  {
   "cell_type": "code",
   "execution_count": 4,
   "id": "786b020a",
   "metadata": {
    "execution": {
     "iopub.execute_input": "2025-08-03T16:01:35.951977Z",
     "iopub.status.busy": "2025-08-03T16:01:35.951633Z",
     "iopub.status.idle": "2025-08-03T16:01:35.958916Z",
     "shell.execute_reply": "2025-08-03T16:01:35.958054Z"
    },
    "papermill": {
     "duration": 0.016557,
     "end_time": "2025-08-03T16:01:35.960462",
     "exception": false,
     "start_time": "2025-08-03T16:01:35.943905",
     "status": "completed"
    },
    "tags": []
   },
   "outputs": [
    {
     "name": "stdout",
     "output_type": "stream",
     "text": [
      "Quantile 0.95: 127.0\n",
      "Max length: 700\n"
     ]
    }
   ],
   "source": [
    "print(f\"Quantile 0.95: {np.quantile(seq_lengths, 0.95)}\")\n",
    "print(f\"Max length: {seq_lengths.max()}\")"
   ]
  },
  {
   "cell_type": "code",
   "execution_count": 5,
   "id": "ddecb9e8",
   "metadata": {
    "execution": {
     "iopub.execute_input": "2025-08-03T16:01:35.971974Z",
     "iopub.status.busy": "2025-08-03T16:01:35.971687Z",
     "iopub.status.idle": "2025-08-03T16:01:36.004839Z",
     "shell.execute_reply": "2025-08-03T16:01:36.003962Z"
    },
    "papermill": {
     "duration": 0.040706,
     "end_time": "2025-08-03T16:01:36.006356",
     "exception": false,
     "start_time": "2025-08-03T16:01:35.965650",
     "status": "completed"
    },
    "tags": []
   },
   "outputs": [
    {
     "data": {
      "text/plain": [
       "array(['Target', 'Non-Target'], dtype=object)"
      ]
     },
     "execution_count": 5,
     "metadata": {},
     "output_type": "execute_result"
    }
   ],
   "source": [
    "train_df[\"sequence_type\"].unique()"
   ]
  },
  {
   "cell_type": "code",
   "execution_count": 6,
   "id": "8709e912",
   "metadata": {
    "execution": {
     "iopub.execute_input": "2025-08-03T16:01:36.019054Z",
     "iopub.status.busy": "2025-08-03T16:01:36.018711Z",
     "iopub.status.idle": "2025-08-03T16:01:36.057831Z",
     "shell.execute_reply": "2025-08-03T16:01:36.056993Z"
    },
    "papermill": {
     "duration": 0.047801,
     "end_time": "2025-08-03T16:01:36.059403",
     "exception": false,
     "start_time": "2025-08-03T16:01:36.011602",
     "status": "completed"
    },
    "tags": []
   },
   "outputs": [],
   "source": [
    "type_mapping = {\"Target\": 1, \"Non-Target\": 0}\n",
    "train_df[\"sequence_type\"] = train_df[\"sequence_type\"].map(type_mapping)"
   ]
  },
  {
   "cell_type": "code",
   "execution_count": 7,
   "id": "8e447c69",
   "metadata": {
    "execution": {
     "iopub.execute_input": "2025-08-03T16:01:36.071177Z",
     "iopub.status.busy": "2025-08-03T16:01:36.070832Z",
     "iopub.status.idle": "2025-08-03T16:01:37.139936Z",
     "shell.execute_reply": "2025-08-03T16:01:37.139173Z"
    },
    "papermill": {
     "duration": 1.077021,
     "end_time": "2025-08-03T16:01:37.141633",
     "exception": false,
     "start_time": "2025-08-03T16:01:36.064612",
     "status": "completed"
    },
    "tags": []
   },
   "outputs": [],
   "source": [
    "gestures = pd.get_dummies(train_df[\"gesture\"])\n",
    "train_df = pd.concat([train_df, gestures], axis=1)\n",
    "train_df = train_df.drop([\"gesture\"], axis=1)"
   ]
  },
  {
   "cell_type": "code",
   "execution_count": 8,
   "id": "37f2bc69",
   "metadata": {
    "execution": {
     "iopub.execute_input": "2025-08-03T16:01:37.153582Z",
     "iopub.status.busy": "2025-08-03T16:01:37.153281Z",
     "iopub.status.idle": "2025-08-03T16:01:37.158016Z",
     "shell.execute_reply": "2025-08-03T16:01:37.157135Z"
    },
    "papermill": {
     "duration": 0.012353,
     "end_time": "2025-08-03T16:01:37.159491",
     "exception": false,
     "start_time": "2025-08-03T16:01:37.147138",
     "status": "completed"
    },
    "tags": []
   },
   "outputs": [],
   "source": [
    "gesture_mapping = {gesture: i for i, gesture in enumerate(gestures)}"
   ]
  },
  {
   "cell_type": "code",
   "execution_count": 9,
   "id": "f31cca2e",
   "metadata": {
    "execution": {
     "iopub.execute_input": "2025-08-03T16:01:37.171384Z",
     "iopub.status.busy": "2025-08-03T16:01:37.171007Z",
     "iopub.status.idle": "2025-08-03T16:01:37.323298Z",
     "shell.execute_reply": "2025-08-03T16:01:37.322351Z"
    },
    "papermill": {
     "duration": 0.160232,
     "end_time": "2025-08-03T16:01:37.324929",
     "exception": false,
     "start_time": "2025-08-03T16:01:37.164697",
     "status": "completed"
    },
    "tags": []
   },
   "outputs": [],
   "source": [
    "from sklearn.model_selection import train_test_split\n",
    "tf.random.set_seed(42)\n",
    "acc_columns = [\"acc_r\", \"acc_theta\", \"acc_phi\"]\n",
    "rot_columns = [\"rot_omega\", \"rot_u_theta\", \"rot_u_phi\"]\n",
    "thm_columns = [\"thm_mean\"]\n",
    "\n",
    "i_list = range(1, 6)\n",
    "j_list = range(64)\n",
    "comb = list(product(i_list, j_list))\n",
    "tof_columns = [f\"tof_{i}_v{j}\" for i, j in comb]\n",
    "\n",
    "def create_dataset(df, max_length=100, batch_size=16, mode=\"train\", train_size=0.8):\n",
    "    seq_ids = df[\"sequence_id\"].values\n",
    "    seq_counters = df[\"sequence_counter\"].values\n",
    "    seq_starts = np.array(df[df[\"sequence_counter\"]==0].index)\n",
    "    seq_lengths = np.diff(np.concatenate([seq_starts, np.array([len(df)])]), n=1)\n",
    "    \n",
    "    images = df[tof_columns].to_numpy()   # (samples, 5*64)\n",
    "    images = images.reshape(-1, 64, 5)\n",
    "    images = images.reshape(-1, 8, 8, 5)\n",
    "    images = tf.convert_to_tensor(images, dtype=tf.float32)\n",
    "\n",
    "    others = df[acc_columns + rot_columns + thm_columns].to_numpy()\n",
    "    others = tf.convert_to_tensor(others, dtype=tf.float32)\n",
    "\n",
    "    feature_columns = ['adult_child', 'age', 'sex', 'height_cm', \n",
    "                       'shoulder_to_wrist_cm', 'elbow_to_wrist_cm']\n",
    "    features = df[feature_columns].to_numpy()\n",
    "    features = tf.convert_to_tensor(features, dtype=tf.float32)\n",
    "\n",
    "    if mode != \"test\":\n",
    "        sequence_types = df[[\"sequence_type\"]].values\n",
    "        gestures = df[gesture_mapping.keys()].values\n",
    "        targets = np.concatenate([sequence_types, gestures], axis=1)\n",
    "        targets = tf.convert_to_tensor(targets, dtype=tf.float32)\n",
    "        inputs = (images, others, features, targets)\n",
    "        inputs, targets = create_window(inputs, seq_starts, seq_lengths, \n",
    "                                        max_length, mode)\n",
    "        ids = np.arange(len(targets))\n",
    "        train_ids, valid_ids = train_test_split(ids, train_size=train_size, stratify=tf.argmax(targets[:, 1:], axis=-1), random_state=42)\n",
    "        inputs_train = (\n",
    "            tf.gather(inputs[0], train_ids),\n",
    "            tf.gather(inputs[1], train_ids),\n",
    "            tf.gather(inputs[2], train_ids)\n",
    "        )\n",
    "        inputs_valid = (\n",
    "            tf.gather(inputs[0], valid_ids),\n",
    "            tf.gather(inputs[1], valid_ids),\n",
    "            tf.gather(inputs[2], valid_ids)\n",
    "        )\n",
    "        targets_train, targets_valid = tf.gather(targets, train_ids), tf.gather(targets, valid_ids)\n",
    "        type_train_ds = tf.data.Dataset.from_tensor_slices((inputs_train, targets_train[:, :1]))\n",
    "        type_train_ds = type_train_ds.shuffle(len(inputs_train)).batch(batch_size)\n",
    "        gesture_train_ds = tf.data.Dataset.from_tensor_slices((inputs_train, targets_train[:, 1:]))\n",
    "        gesture_train_ds = gesture_train_ds.shuffle(len(inputs_train)).batch(batch_size)\n",
    "\n",
    "        type_valid_ds = tf.data.Dataset.from_tensor_slices((inputs_valid, targets_valid[:, :1]))\n",
    "        type_valid_ds = type_valid_ds.shuffle(len(inputs_valid)).batch(batch_size)\n",
    "        gesture_valid_ds = tf.data.Dataset.from_tensor_slices((inputs_valid, targets_valid[:, 1:]))\n",
    "        gesture_valid_ds = gesture_valid_ds.shuffle(len(inputs_valid)).batch(batch_size)\n",
    "        return type_train_ds, type_valid_ds, gesture_train_ds, gesture_valid_ds\n",
    "    else:\n",
    "        inputs = (images, others, features)\n",
    "        inputs = create_window(inputs, seq_starts, seq_lengths, \n",
    "                               max_length, mode)\n",
    "        test_ds = tf.data.Dataset.from_tensor_slices(inputs)\n",
    "        test_ds = test_ds.batch(batch_size)\n",
    "    return test_ds\n",
    "\n",
    "\n",
    "def create_window(inputs, seq_starts, seq_lengths, max_length=100, mode=\"train\"):\n",
    "    images = inputs[0]\n",
    "    others = inputs[1]\n",
    "    features = inputs[2]\n",
    "\n",
    "    image_windows = []\n",
    "    other_windows = []\n",
    "    feature_windows = []\n",
    "\n",
    "    if mode != \"test\":\n",
    "        targets = inputs[3]\n",
    "        target_windows = []\n",
    "    \n",
    "    for start, length in zip(seq_starts, seq_lengths):\n",
    "        if length < max_length:\n",
    "            image_window = images[start:start+length]\n",
    "            other_window = others[start:start+length]\n",
    "        else:\n",
    "            image_window = images[start:start+max_length]\n",
    "            other_window = others[start:start+max_length]\n",
    "        feature_window = features[start]\n",
    "        if mode != \"test\":\n",
    "            target_window = targets[start]\n",
    "        if length < max_length:\n",
    "            image_window = tf.pad(image_window, \n",
    "                                  tf.constant([[0, max_length-length],\n",
    "                                               [0, 0],\n",
    "                                               [0, 0],\n",
    "                                               [0, 0]]), constant_values=0.0)\n",
    "            other_window = tf.pad(other_window, \n",
    "                                  tf.constant([[0, max_length-length],\n",
    "                                               [0, 0]]), constant_values=0.0)\n",
    "        image_windows.append(image_window)\n",
    "        other_windows.append(other_window)\n",
    "        feature_windows.append(feature_window)\n",
    "        if mode != \"test\":\n",
    "            target_windows.append(target_window)\n",
    "\n",
    "    image_windows = tf.stack(image_windows)\n",
    "    other_windows = tf.stack(other_windows)\n",
    "    feature_windows = tf.stack(feature_windows)\n",
    "\n",
    "    if mode != \"test\":\n",
    "        target_windows = tf.stack(target_windows)\n",
    "        return (image_windows, other_windows, feature_windows), target_windows\n",
    "    else:\n",
    "        return (image_windows, other_windows, feature_windows)"
   ]
  },
  {
   "cell_type": "code",
   "execution_count": 10,
   "id": "36298301",
   "metadata": {
    "execution": {
     "iopub.execute_input": "2025-08-03T16:01:37.336552Z",
     "iopub.status.busy": "2025-08-03T16:01:37.336250Z",
     "iopub.status.idle": "2025-08-03T16:01:37.340947Z",
     "shell.execute_reply": "2025-08-03T16:01:37.340224Z"
    },
    "papermill": {
     "duration": 0.012151,
     "end_time": "2025-08-03T16:01:37.342300",
     "exception": false,
     "start_time": "2025-08-03T16:01:37.330149",
     "status": "completed"
    },
    "tags": []
   },
   "outputs": [],
   "source": [
    "def get_sequence_targets(df):\n",
    "    seq_ids = df[\"sequence_id\"].values\n",
    "    seq_starts = np.array(df[df[\"sequence_counter\"]==0].index)\n",
    "    sequence_targets = df.loc[seq_starts, \"sequence_type\"].values\n",
    "    return sequence_targets"
   ]
  },
  {
   "cell_type": "code",
   "execution_count": 11,
   "id": "b9f51b8a",
   "metadata": {
    "execution": {
     "iopub.execute_input": "2025-08-03T16:01:37.354179Z",
     "iopub.status.busy": "2025-08-03T16:01:37.353871Z",
     "iopub.status.idle": "2025-08-03T16:01:37.359053Z",
     "shell.execute_reply": "2025-08-03T16:01:37.358092Z"
    },
    "papermill": {
     "duration": 0.012756,
     "end_time": "2025-08-03T16:01:37.360507",
     "exception": false,
     "start_time": "2025-08-03T16:01:37.347751",
     "status": "completed"
    },
    "tags": []
   },
   "outputs": [],
   "source": [
    "gesture_columns = gestures.columns\n",
    "def get_sequence_gestures(df):\n",
    "    seq_ids = df[\"sequence_id\"].values\n",
    "    seq_starts = np.array(df[df[\"sequence_counter\"]==0].index)\n",
    "    sequence_gestures = df.loc[seq_starts, gesture_columns]\n",
    "    return sequence_gestures"
   ]
  },
  {
   "cell_type": "code",
   "execution_count": 12,
   "id": "b2954a62",
   "metadata": {
    "execution": {
     "iopub.execute_input": "2025-08-03T16:01:37.372164Z",
     "iopub.status.busy": "2025-08-03T16:01:37.371787Z",
     "iopub.status.idle": "2025-08-03T16:01:52.415053Z",
     "shell.execute_reply": "2025-08-03T16:01:52.414018Z"
    },
    "papermill": {
     "duration": 15.051199,
     "end_time": "2025-08-03T16:01:52.416873",
     "exception": false,
     "start_time": "2025-08-03T16:01:37.365674",
     "status": "completed"
    },
    "tags": []
   },
   "outputs": [
    {
     "name": "stderr",
     "output_type": "stream",
     "text": [
      "2025-08-03 16:01:38.490661: E external/local_xla/xla/stream_executor/cuda/cuda_driver.cc:152] failed call to cuInit: INTERNAL: CUDA error: Failed call to cuInit: UNKNOWN ERROR (303)\n"
     ]
    }
   ],
   "source": [
    "type_train_ds, type_valid_ds, gesture_train_ds, gesture_valid_ds = create_dataset(train_df, max_length=130, batch_size=32)"
   ]
  },
  {
   "cell_type": "code",
   "execution_count": 13,
   "id": "ed50dbda",
   "metadata": {
    "execution": {
     "iopub.execute_input": "2025-08-03T16:01:52.429093Z",
     "iopub.status.busy": "2025-08-03T16:01:52.428742Z",
     "iopub.status.idle": "2025-08-03T16:01:52.474481Z",
     "shell.execute_reply": "2025-08-03T16:01:52.473499Z"
    },
    "papermill": {
     "duration": 0.053392,
     "end_time": "2025-08-03T16:01:52.475858",
     "exception": false,
     "start_time": "2025-08-03T16:01:52.422466",
     "status": "completed"
    },
    "tags": []
   },
   "outputs": [
    {
     "name": "stdout",
     "output_type": "stream",
     "text": [
      "2828\n",
      "4767\n"
     ]
    }
   ],
   "source": [
    "sequence_targets = get_sequence_targets(train_df)\n",
    "print(len(sequence_targets[sequence_targets == 0]))\n",
    "print(len(sequence_targets[sequence_targets == 1]))"
   ]
  },
  {
   "cell_type": "code",
   "execution_count": 14,
   "id": "76f814ba",
   "metadata": {
    "execution": {
     "iopub.execute_input": "2025-08-03T16:01:52.488610Z",
     "iopub.status.busy": "2025-08-03T16:01:52.487412Z",
     "iopub.status.idle": "2025-08-03T16:01:52.492876Z",
     "shell.execute_reply": "2025-08-03T16:01:52.491970Z"
    },
    "papermill": {
     "duration": 0.013094,
     "end_time": "2025-08-03T16:01:52.494228",
     "exception": false,
     "start_time": "2025-08-03T16:01:52.481134",
     "status": "completed"
    },
    "tags": []
   },
   "outputs": [],
   "source": [
    "len_target = len(sequence_targets[sequence_targets == 1])\n",
    "len_non_target = len(sequence_targets[sequence_targets == 0])\n",
    "type_sample_weight = (len_target/len_non_target, len_target/len_target)"
   ]
  },
  {
   "cell_type": "code",
   "execution_count": 15,
   "id": "7ea58541",
   "metadata": {
    "execution": {
     "iopub.execute_input": "2025-08-03T16:01:52.506145Z",
     "iopub.status.busy": "2025-08-03T16:01:52.505525Z",
     "iopub.status.idle": "2025-08-03T16:01:52.510921Z",
     "shell.execute_reply": "2025-08-03T16:01:52.510084Z"
    },
    "papermill": {
     "duration": 0.012688,
     "end_time": "2025-08-03T16:01:52.512229",
     "exception": false,
     "start_time": "2025-08-03T16:01:52.499541",
     "status": "completed"
    },
    "tags": []
   },
   "outputs": [
    {
     "data": {
      "text/plain": [
       "(1.6856435643564356, 1.0)"
      ]
     },
     "execution_count": 15,
     "metadata": {},
     "output_type": "execute_result"
    }
   ],
   "source": [
    "type_sample_weight"
   ]
  },
  {
   "cell_type": "code",
   "execution_count": 16,
   "id": "c0c57af0",
   "metadata": {
    "execution": {
     "iopub.execute_input": "2025-08-03T16:01:52.524640Z",
     "iopub.status.busy": "2025-08-03T16:01:52.523602Z",
     "iopub.status.idle": "2025-08-03T16:01:52.529963Z",
     "shell.execute_reply": "2025-08-03T16:01:52.529134Z"
    },
    "papermill": {
     "duration": 0.013897,
     "end_time": "2025-08-03T16:01:52.531427",
     "exception": false,
     "start_time": "2025-08-03T16:01:52.517530",
     "status": "completed"
    },
    "tags": []
   },
   "outputs": [
    {
     "data": {
      "text/plain": [
       "Index(['Above ear - pull hair', 'Cheek - pinch skin', 'Drink from bottle/cup',\n",
       "       'Eyebrow - pull hair', 'Eyelash - pull hair',\n",
       "       'Feel around in tray and pull out an object',\n",
       "       'Forehead - pull hairline', 'Forehead - scratch', 'Glasses on/off',\n",
       "       'Neck - pinch skin', 'Neck - scratch', 'Pinch knee/leg skin',\n",
       "       'Pull air toward your face', 'Scratch knee/leg skin', 'Text on phone',\n",
       "       'Wave hello', 'Write name in air', 'Write name on leg'],\n",
       "      dtype='object')"
      ]
     },
     "execution_count": 16,
     "metadata": {},
     "output_type": "execute_result"
    }
   ],
   "source": [
    "gestures.columns"
   ]
  },
  {
   "cell_type": "code",
   "execution_count": 17,
   "id": "4074fce1",
   "metadata": {
    "execution": {
     "iopub.execute_input": "2025-08-03T16:01:52.544314Z",
     "iopub.status.busy": "2025-08-03T16:01:52.543962Z",
     "iopub.status.idle": "2025-08-03T16:01:52.594473Z",
     "shell.execute_reply": "2025-08-03T16:01:52.593621Z"
    },
    "papermill": {
     "duration": 0.059115,
     "end_time": "2025-08-03T16:01:52.596072",
     "exception": false,
     "start_time": "2025-08-03T16:01:52.536957",
     "status": "completed"
    },
    "tags": []
   },
   "outputs": [],
   "source": [
    "non_target_gestures = [\"Drink from bottle/cup\", \"Glasses on/off\", \"Pull air toward your face\",\n",
    "                       \"Pinch knee/leg skin\", \"Scratch knee/leg skin\", \"Write name on leg\",\n",
    "                       \"Text on phone\", \"Feel around in tray and pull out an object\",\n",
    "                       \"Write name in air\", \"Wave hello\"]\n",
    "sequence_gestures = get_sequence_gestures(train_df)\n",
    "all_count = sequence_gestures.sum()\n",
    "non_target_count = all_count[non_target_gestures]\n",
    "non_target_sum = non_target_count.sum()\n",
    "all_count[non_target_gestures] = non_target_sum\n",
    "all_count = non_target_sum / all_count\n",
    "gesture_sample_weight = tuple(all_count.values)"
   ]
  },
  {
   "cell_type": "code",
   "execution_count": 18,
   "id": "98c83746",
   "metadata": {
    "execution": {
     "iopub.execute_input": "2025-08-03T16:01:52.608193Z",
     "iopub.status.busy": "2025-08-03T16:01:52.607852Z",
     "iopub.status.idle": "2025-08-03T16:01:52.613774Z",
     "shell.execute_reply": "2025-08-03T16:01:52.613000Z"
    },
    "papermill": {
     "duration": 0.013502,
     "end_time": "2025-08-03T16:01:52.615095",
     "exception": false,
     "start_time": "2025-08-03T16:01:52.601593",
     "status": "completed"
    },
    "tags": []
   },
   "outputs": [
    {
     "data": {
      "text/plain": [
       "(4.768971332209106,\n",
       " 4.74496644295302,\n",
       " 1.0,\n",
       " 4.7851099830795265,\n",
       " 4.768971332209106,\n",
       " 1.0,\n",
       " 4.7370184254606365,\n",
       " 4.7370184254606365,\n",
       " 1.0,\n",
       " 4.705490848585691,\n",
       " 4.721202003338898,\n",
       " 1.0,\n",
       " 1.0,\n",
       " 1.0,\n",
       " 1.0,\n",
       " 1.0,\n",
       " 1.0,\n",
       " 1.0)"
      ]
     },
     "execution_count": 18,
     "metadata": {},
     "output_type": "execute_result"
    }
   ],
   "source": [
    "gesture_sample_weight"
   ]
  },
  {
   "cell_type": "code",
   "execution_count": 19,
   "id": "09e1a3a1",
   "metadata": {
    "execution": {
     "iopub.execute_input": "2025-08-03T16:01:52.627452Z",
     "iopub.status.busy": "2025-08-03T16:01:52.627075Z",
     "iopub.status.idle": "2025-08-03T16:01:52.634297Z",
     "shell.execute_reply": "2025-08-03T16:01:52.633265Z"
    },
    "papermill": {
     "duration": 0.015087,
     "end_time": "2025-08-03T16:01:52.635719",
     "exception": false,
     "start_time": "2025-08-03T16:01:52.620632",
     "status": "completed"
    },
    "tags": []
   },
   "outputs": [
    {
     "name": "stdout",
     "output_type": "stream",
     "text": [
      "190\n",
      "48\n",
      "190\n",
      "48\n"
     ]
    }
   ],
   "source": [
    "print(len(type_train_ds))\n",
    "print(len(type_valid_ds))\n",
    "print(len(gesture_train_ds))\n",
    "print(len(gesture_valid_ds))"
   ]
  },
  {
   "cell_type": "code",
   "execution_count": 20,
   "id": "674b2855",
   "metadata": {
    "execution": {
     "iopub.execute_input": "2025-08-03T16:01:52.648681Z",
     "iopub.status.busy": "2025-08-03T16:01:52.647700Z",
     "iopub.status.idle": "2025-08-03T16:01:53.729236Z",
     "shell.execute_reply": "2025-08-03T16:01:53.728353Z"
    },
    "papermill": {
     "duration": 1.089341,
     "end_time": "2025-08-03T16:01:53.730637",
     "exception": false,
     "start_time": "2025-08-03T16:01:52.641296",
     "status": "completed"
    },
    "tags": []
   },
   "outputs": [
    {
     "name": "stdout",
     "output_type": "stream",
     "text": [
      "(32, 130, 8, 8, 5)\n",
      "(32, 130, 7)\n",
      "(32, 6)\n",
      "(32, 1)\n"
     ]
    }
   ],
   "source": [
    "# Check dataset shape\n",
    "for i, (inputs, targets) in enumerate(type_train_ds):\n",
    "    if i == 0:\n",
    "        print(inputs[0].shape)        # Image (TOF)\n",
    "        print(inputs[1].shape)        # Other time-series\n",
    "        print(inputs[2].shape)        # Feature\n",
    "        print(targets.shape)          # Target or Non-Target\n",
    "        break"
   ]
  },
  {
   "cell_type": "code",
   "execution_count": 21,
   "id": "5815055b",
   "metadata": {
    "execution": {
     "iopub.execute_input": "2025-08-03T16:01:53.743491Z",
     "iopub.status.busy": "2025-08-03T16:01:53.743183Z",
     "iopub.status.idle": "2025-08-03T16:01:54.800733Z",
     "shell.execute_reply": "2025-08-03T16:01:54.799748Z"
    },
    "papermill": {
     "duration": 1.065756,
     "end_time": "2025-08-03T16:01:54.802300",
     "exception": false,
     "start_time": "2025-08-03T16:01:53.736544",
     "status": "completed"
    },
    "tags": []
   },
   "outputs": [
    {
     "name": "stdout",
     "output_type": "stream",
     "text": [
      "(32, 130, 8, 8, 5)\n",
      "(32, 130, 7)\n",
      "(32, 6)\n",
      "(32, 18)\n"
     ]
    }
   ],
   "source": [
    "for i, (inputs, targets) in enumerate(gesture_train_ds):\n",
    "    if i == 0:\n",
    "        print(inputs[0].shape)        # Image (TOF)\n",
    "        print(inputs[1].shape)        # Other time-series\n",
    "        print(inputs[2].shape)        # Feature\n",
    "        print(targets.shape)          # Gesture\n",
    "        break"
   ]
  },
  {
   "cell_type": "code",
   "execution_count": 22,
   "id": "1088eb27",
   "metadata": {
    "execution": {
     "iopub.execute_input": "2025-08-03T16:01:54.815408Z",
     "iopub.status.busy": "2025-08-03T16:01:54.815010Z",
     "iopub.status.idle": "2025-08-03T16:01:54.833436Z",
     "shell.execute_reply": "2025-08-03T16:01:54.832557Z"
    },
    "papermill": {
     "duration": 0.026889,
     "end_time": "2025-08-03T16:01:54.835087",
     "exception": false,
     "start_time": "2025-08-03T16:01:54.808198",
     "status": "completed"
    },
    "tags": []
   },
   "outputs": [],
   "source": [
    "test_ds = create_dataset(test_df, max_length=130, batch_size=32, mode=\"test\")"
   ]
  },
  {
   "cell_type": "code",
   "execution_count": 23,
   "id": "8d53b384",
   "metadata": {
    "execution": {
     "iopub.execute_input": "2025-08-03T16:01:54.848194Z",
     "iopub.status.busy": "2025-08-03T16:01:54.847799Z",
     "iopub.status.idle": "2025-08-03T16:01:54.863217Z",
     "shell.execute_reply": "2025-08-03T16:01:54.862193Z"
    },
    "papermill": {
     "duration": 0.023777,
     "end_time": "2025-08-03T16:01:54.864717",
     "exception": false,
     "start_time": "2025-08-03T16:01:54.840940",
     "status": "completed"
    },
    "tags": []
   },
   "outputs": [
    {
     "name": "stdout",
     "output_type": "stream",
     "text": [
      "(2, 130, 8, 8, 5)\n",
      "(2, 130, 7)\n",
      "(2, 6)\n"
     ]
    }
   ],
   "source": [
    "# Check dataset shape\n",
    "for inputs in test_ds:\n",
    "    print(inputs[0].shape)        # Image (TOF)\n",
    "    print(inputs[1].shape)        # Other time-series\n",
    "    print(inputs[2].shape)        # Feature"
   ]
  },
  {
   "cell_type": "code",
   "execution_count": 24,
   "id": "ec0e00ca",
   "metadata": {
    "execution": {
     "iopub.execute_input": "2025-08-03T16:01:54.877659Z",
     "iopub.status.busy": "2025-08-03T16:01:54.877357Z",
     "iopub.status.idle": "2025-08-03T16:02:04.671348Z",
     "shell.execute_reply": "2025-08-03T16:02:04.670296Z"
    },
    "papermill": {
     "duration": 9.802728,
     "end_time": "2025-08-03T16:02:04.673410",
     "exception": false,
     "start_time": "2025-08-03T16:01:54.870682",
     "status": "completed"
    },
    "tags": []
   },
   "outputs": [],
   "source": [
    "import os\n",
    "output_path = \"/kaggle/working/\"\n",
    "type_train_path = os.path.join(output_path, \"type_train_ds\")\n",
    "type_valid_path = os.path.join(output_path, \"type_valid_ds\")\n",
    "gesture_train_path = os.path.join(output_path, \"gesture_train_ds\")\n",
    "gesture_valid_path = os.path.join(output_path, \"gesture_valid_ds\")\n",
    "test_path = os.path.join(output_path, \"test_ds\")\n",
    "\n",
    "tf.data.experimental.save(type_train_ds, type_train_path)\n",
    "tf.data.experimental.save(type_valid_ds, type_valid_path)\n",
    "tf.data.experimental.save(gesture_train_ds, gesture_train_path)\n",
    "tf.data.experimental.save(gesture_valid_ds, gesture_valid_path)\n",
    "tf.data.experimental.save(test_ds, test_path)"
   ]
  },
  {
   "cell_type": "code",
   "execution_count": 25,
   "id": "49acd7da",
   "metadata": {
    "execution": {
     "iopub.execute_input": "2025-08-03T16:02:04.923258Z",
     "iopub.status.busy": "2025-08-03T16:02:04.922752Z",
     "iopub.status.idle": "2025-08-03T16:02:04.930979Z",
     "shell.execute_reply": "2025-08-03T16:02:04.930001Z"
    },
    "papermill": {
     "duration": 0.251657,
     "end_time": "2025-08-03T16:02:04.932770",
     "exception": false,
     "start_time": "2025-08-03T16:02:04.681113",
     "status": "completed"
    },
    "tags": []
   },
   "outputs": [],
   "source": [
    "import json\n",
    "\n",
    "mapping_dicts = {\n",
    "    \"type_mapping\":type_mapping, \n",
    "    \"gesture_mapping\": gesture_mapping\n",
    "}\n",
    "\n",
    "dict_path = os.path.join(output_path, \"mapping.json\")\n",
    "with open(dict_path, \"w\") as f:\n",
    "    json.dump(mapping_dicts, f, indent=2)"
   ]
  },
  {
   "cell_type": "code",
   "execution_count": 26,
   "id": "5e67ce6b",
   "metadata": {
    "execution": {
     "iopub.execute_input": "2025-08-03T16:02:05.154521Z",
     "iopub.status.busy": "2025-08-03T16:02:05.153942Z",
     "iopub.status.idle": "2025-08-03T16:02:05.159707Z",
     "shell.execute_reply": "2025-08-03T16:02:05.158617Z"
    },
    "papermill": {
     "duration": 0.014551,
     "end_time": "2025-08-03T16:02:05.161480",
     "exception": false,
     "start_time": "2025-08-03T16:02:05.146929",
     "status": "completed"
    },
    "tags": []
   },
   "outputs": [],
   "source": [
    "sample_weight_dicts = {\n",
    "    \"type_sample_weight\": type_sample_weight,\n",
    "    \"gesture_sample_weight\": gesture_sample_weight\n",
    "}\n",
    "\n",
    "dict_path = os.path.join(output_path, \"sample_weight.json\")\n",
    "with open(dict_path, \"w\") as f:\n",
    "    json.dump(sample_weight_dicts, f, indent=2)"
   ]
  },
  {
   "cell_type": "code",
   "execution_count": null,
   "id": "c4cd31bb",
   "metadata": {
    "papermill": {
     "duration": 0.007982,
     "end_time": "2025-08-03T16:02:05.423523",
     "exception": false,
     "start_time": "2025-08-03T16:02:05.415541",
     "status": "completed"
    },
    "tags": []
   },
   "outputs": [],
   "source": []
  }
 ],
 "metadata": {
  "kaggle": {
   "accelerator": "none",
   "dataSources": [
    {
     "databundleVersionId": 12518947,
     "sourceId": 102335,
     "sourceType": "competition"
    },
    {
     "datasetId": 7856290,
     "sourceId": 12641873,
     "sourceType": "datasetVersion"
    }
   ],
   "dockerImageVersionId": 31089,
   "isGpuEnabled": false,
   "isInternetEnabled": true,
   "language": "python",
   "sourceType": "notebook"
  },
  "kernelspec": {
   "display_name": "Python 3",
   "language": "python",
   "name": "python3"
  },
  "language_info": {
   "codemirror_mode": {
    "name": "ipython",
    "version": 3
   },
   "file_extension": ".py",
   "mimetype": "text/x-python",
   "name": "python",
   "nbconvert_exporter": "python",
   "pygments_lexer": "ipython3",
   "version": "3.11.13"
  },
  "papermill": {
   "default_parameters": {},
   "duration": 166.203572,
   "end_time": "2025-08-03T16:02:09.602372",
   "environment_variables": {},
   "exception": null,
   "input_path": "__notebook__.ipynb",
   "output_path": "__notebook__.ipynb",
   "parameters": {},
   "start_time": "2025-08-03T15:59:23.398800",
   "version": "2.6.0"
  }
 },
 "nbformat": 4,
 "nbformat_minor": 5
}
