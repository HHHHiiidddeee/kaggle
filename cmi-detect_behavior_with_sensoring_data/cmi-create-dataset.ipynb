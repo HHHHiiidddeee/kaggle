{
 "cells": [
  {
   "cell_type": "code",
   "execution_count": 1,
   "id": "36886fe7",
   "metadata": {
    "execution": {
     "iopub.execute_input": "2025-07-22T16:25:03.025178Z",
     "iopub.status.busy": "2025-07-22T16:25:03.024818Z",
     "iopub.status.idle": "2025-07-22T16:25:24.291211Z",
     "shell.execute_reply": "2025-07-22T16:25:24.290134Z"
    },
    "papermill": {
     "duration": 21.275436,
     "end_time": "2025-07-22T16:25:24.293055",
     "exception": false,
     "start_time": "2025-07-22T16:25:03.017619",
     "status": "completed"
    },
    "tags": []
   },
   "outputs": [
    {
     "name": "stderr",
     "output_type": "stream",
     "text": [
      "2025-07-22 16:25:07.178932: E external/local_xla/xla/stream_executor/cuda/cuda_fft.cc:477] Unable to register cuFFT factory: Attempting to register factory for plugin cuFFT when one has already been registered\n",
      "WARNING: All log messages before absl::InitializeLog() is called are written to STDERR\n",
      "E0000 00:00:1753201507.437772      13 cuda_dnn.cc:8310] Unable to register cuDNN factory: Attempting to register factory for plugin cuDNN when one has already been registered\n",
      "E0000 00:00:1753201507.516016      13 cuda_blas.cc:1418] Unable to register cuBLAS factory: Attempting to register factory for plugin cuBLAS when one has already been registered\n"
     ]
    }
   ],
   "source": [
    "import numpy as np\n",
    "import pandas as pd\n",
    "import matplotlib.pyplot as plt\n",
    "import tensorflow as tf\n",
    "import warnings\n",
    "from itertools import product\n",
    "from sklearn.preprocessing import OneHotEncoder\n",
    "warnings.filterwarnings(\"ignore\")"
   ]
  },
  {
   "cell_type": "code",
   "execution_count": 2,
   "id": "0b5b4400",
   "metadata": {
    "execution": {
     "iopub.execute_input": "2025-07-22T16:25:24.305315Z",
     "iopub.status.busy": "2025-07-22T16:25:24.304175Z",
     "iopub.status.idle": "2025-07-22T16:26:52.915462Z",
     "shell.execute_reply": "2025-07-22T16:26:52.914566Z"
    },
    "papermill": {
     "duration": 88.619004,
     "end_time": "2025-07-22T16:26:52.917327",
     "exception": false,
     "start_time": "2025-07-22T16:25:24.298323",
     "status": "completed"
    },
    "tags": []
   },
   "outputs": [],
   "source": [
    "train_df = pd.read_csv(\"/kaggle/input/preprocessed-dataset/preprocessed_train.csv\")\n",
    "test_df = pd.read_csv(\"/kaggle/input/preprocessed-dataset/preprocessed_test.csv\")"
   ]
  },
  {
   "cell_type": "code",
   "execution_count": 3,
   "id": "eff37403",
   "metadata": {
    "execution": {
     "iopub.execute_input": "2025-07-22T16:26:52.929168Z",
     "iopub.status.busy": "2025-07-22T16:26:52.928810Z",
     "iopub.status.idle": "2025-07-22T16:26:52.967764Z",
     "shell.execute_reply": "2025-07-22T16:26:52.966793Z"
    },
    "papermill": {
     "duration": 0.046134,
     "end_time": "2025-07-22T16:26:52.969265",
     "exception": false,
     "start_time": "2025-07-22T16:26:52.923131",
     "status": "completed"
    },
    "tags": []
   },
   "outputs": [
    {
     "data": {
      "text/plain": [
       "array(['Target', 'Non-Target'], dtype=object)"
      ]
     },
     "execution_count": 3,
     "metadata": {},
     "output_type": "execute_result"
    }
   ],
   "source": [
    "train_df[\"sequence_type\"].unique()"
   ]
  },
  {
   "cell_type": "code",
   "execution_count": 4,
   "id": "0febf371",
   "metadata": {
    "execution": {
     "iopub.execute_input": "2025-07-22T16:26:52.980690Z",
     "iopub.status.busy": "2025-07-22T16:26:52.980301Z",
     "iopub.status.idle": "2025-07-22T16:26:53.023064Z",
     "shell.execute_reply": "2025-07-22T16:26:53.022100Z"
    },
    "papermill": {
     "duration": 0.050411,
     "end_time": "2025-07-22T16:26:53.024740",
     "exception": false,
     "start_time": "2025-07-22T16:26:52.974329",
     "status": "completed"
    },
    "tags": []
   },
   "outputs": [],
   "source": [
    "type_mapping = {\"Target\": 1, \"Non-Target\": 0}\n",
    "train_df[\"sequence_type\"] = train_df[\"sequence_type\"].map(type_mapping)"
   ]
  },
  {
   "cell_type": "code",
   "execution_count": 5,
   "id": "ce423ab7",
   "metadata": {
    "execution": {
     "iopub.execute_input": "2025-07-22T16:26:53.036580Z",
     "iopub.status.busy": "2025-07-22T16:26:53.035550Z",
     "iopub.status.idle": "2025-07-22T16:26:54.210795Z",
     "shell.execute_reply": "2025-07-22T16:26:54.209710Z"
    },
    "papermill": {
     "duration": 1.182995,
     "end_time": "2025-07-22T16:26:54.212625",
     "exception": false,
     "start_time": "2025-07-22T16:26:53.029630",
     "status": "completed"
    },
    "tags": []
   },
   "outputs": [],
   "source": [
    "gestures = pd.get_dummies(train_df[\"gesture\"])\n",
    "train_df = pd.concat([train_df, gestures], axis=1)\n",
    "train_df = train_df.drop([\"gesture\"], axis=1)"
   ]
  },
  {
   "cell_type": "code",
   "execution_count": 6,
   "id": "f274e2a5",
   "metadata": {
    "execution": {
     "iopub.execute_input": "2025-07-22T16:26:54.223897Z",
     "iopub.status.busy": "2025-07-22T16:26:54.223359Z",
     "iopub.status.idle": "2025-07-22T16:26:54.228601Z",
     "shell.execute_reply": "2025-07-22T16:26:54.227571Z"
    },
    "papermill": {
     "duration": 0.012513,
     "end_time": "2025-07-22T16:26:54.230213",
     "exception": false,
     "start_time": "2025-07-22T16:26:54.217700",
     "status": "completed"
    },
    "tags": []
   },
   "outputs": [],
   "source": [
    "gesture_mapping = {gesture: i for i, gesture in enumerate(gestures)}"
   ]
  },
  {
   "cell_type": "code",
   "execution_count": 7,
   "id": "d700e933",
   "metadata": {
    "execution": {
     "iopub.execute_input": "2025-07-22T16:26:54.243072Z",
     "iopub.status.busy": "2025-07-22T16:26:54.242692Z",
     "iopub.status.idle": "2025-07-22T16:26:54.409541Z",
     "shell.execute_reply": "2025-07-22T16:26:54.408586Z"
    },
    "papermill": {
     "duration": 0.176095,
     "end_time": "2025-07-22T16:26:54.411365",
     "exception": false,
     "start_time": "2025-07-22T16:26:54.235270",
     "status": "completed"
    },
    "tags": []
   },
   "outputs": [],
   "source": [
    "from sklearn.model_selection import train_test_split\n",
    "tf.random.set_seed(42)\n",
    "acc_columns = [\"acc_x\", \"acc_y\", \"acc_z\"]\n",
    "rot_columns = [\"rot_w\", \"rot_x\", \"rot_y\", \"rot_z\"]\n",
    "thm_columns = [\"thm_1\", \"thm_2\", \"thm_3\", \"thm_4\", \"thm_5\"]\n",
    "\n",
    "i_list = range(1, 6)\n",
    "j_list = range(64)\n",
    "comb = list(product(i_list, j_list))\n",
    "tof_columns = [f\"tof_{i}_v{j}\" for i, j in comb]\n",
    "\n",
    "def create_dataset(df, max_length=100, batch_size=16, mode=\"train\", train_size=0.8):\n",
    "    seq_ids = df[\"sequence_id\"].values\n",
    "    seq_counters = df[\"sequence_counter\"].values\n",
    "    seq_starts = np.array(df[df[\"sequence_counter\"]==0].index)\n",
    "    seq_lengths = np.diff(np.concatenate([seq_starts, np.array([len(df)])]), n=1)\n",
    "    \n",
    "    images = df[tof_columns].to_numpy()   # (samples, 5*64)\n",
    "    images = images.reshape(-1, 64, 5)\n",
    "    images = images.reshape(-1, 8, 8, 5)\n",
    "    images = tf.convert_to_tensor(images, dtype=tf.float64)\n",
    "\n",
    "    others = df[acc_columns + rot_columns + thm_columns].to_numpy()\n",
    "    others = tf.convert_to_tensor(others, dtype=tf.float64)\n",
    "\n",
    "    feature_columns = ['acc_x_mean', 'acc_y_mean', 'acc_z_mean',\n",
    "                       'thm_1_std', 'thm_2_std', 'thm_3_std', 'thm_4_std', 'thm_5_std',\n",
    "                       'adult_child', 'age', 'sex', 'height_cm', \n",
    "                       'shoulder_to_wrist_cm', 'elbow_to_wrist_cm']\n",
    "    features = df[feature_columns].to_numpy()\n",
    "    features = tf.convert_to_tensor(features, dtype=tf.float64)\n",
    "\n",
    "    if mode != \"test\":\n",
    "        sequence_types = df[[\"sequence_type\"]].values\n",
    "        gestures = df[gesture_mapping.keys()].values\n",
    "        targets = np.concatenate([sequence_types, gestures], axis=1)\n",
    "        targets = tf.convert_to_tensor(targets, dtype=tf.float64)\n",
    "        inputs = (images, others, features, targets)\n",
    "        inputs, targets = create_window(inputs, seq_starts, seq_lengths, \n",
    "                                        max_length, mode)\n",
    "        ids = np.arange(len(targets))\n",
    "        train_ids, valid_ids = train_test_split(ids, train_size=train_size, stratify=tf.argmax(targets[:, 1:], axis=-1), random_state=42)\n",
    "        inputs_train = (\n",
    "            tf.gather(inputs[0], train_ids),\n",
    "            tf.gather(inputs[1], train_ids),\n",
    "            tf.gather(inputs[2], train_ids)\n",
    "        )\n",
    "        inputs_valid = (\n",
    "            tf.gather(inputs[0], valid_ids),\n",
    "            tf.gather(inputs[1], valid_ids),\n",
    "            tf.gather(inputs[2], valid_ids)\n",
    "        )\n",
    "        targets_train, targets_valid = tf.gather(targets, train_ids), tf.gather(targets, valid_ids)\n",
    "        # targets_train, targets_valid = targets[train_ids], targets[valid_ids]\n",
    "        # inputs_train, inputs_valid, targets_train, targets_valid = train_test_split(\n",
    "        #     (inputs[0], inputs[1], inputs[2]), targets, train_size=train_size, stratify=targets[:, :1]\n",
    "        # )\n",
    "        type_train_ds = tf.data.Dataset.from_tensor_slices((inputs_train, targets_train[:, :1]))\n",
    "        type_train_ds = type_train_ds.shuffle(len(inputs_train)).batch(batch_size)\n",
    "        gesture_train_ds = tf.data.Dataset.from_tensor_slices((inputs_train, targets_train[:, 1:]))\n",
    "        gesture_train_ds = gesture_train_ds.shuffle(len(inputs_train)).batch(batch_size)\n",
    "\n",
    "        type_valid_ds = tf.data.Dataset.from_tensor_slices((inputs_valid, targets_valid[:, :1]))\n",
    "        type_valid_ds = type_valid_ds.shuffle(len(inputs_valid)).batch(batch_size)\n",
    "        gesture_valid_ds = tf.data.Dataset.from_tensor_slices((inputs_valid, targets_valid[:, 1:]))\n",
    "        gesture_valid_ds = gesture_valid_ds.shuffle(len(inputs_valid)).batch(batch_size)\n",
    "        return type_train_ds, type_valid_ds, gesture_train_ds, gesture_valid_ds\n",
    "    else:\n",
    "        inputs = (images, others, features)\n",
    "        inputs = create_window(inputs, seq_starts, seq_lengths, \n",
    "                               max_length, mode)\n",
    "        test_ds = tf.data.Dataset.from_tensor_slices(inputs)\n",
    "        test_ds = test_ds.batch(batch_size)\n",
    "    return test_ds\n",
    "\n",
    "\n",
    "def create_window(inputs, seq_starts, seq_lengths, max_length=100, mode=\"train\"):\n",
    "    images = inputs[0]\n",
    "    others = inputs[1]\n",
    "    features = inputs[2]\n",
    "\n",
    "    image_windows = []\n",
    "    other_windows = []\n",
    "    feature_windows = []\n",
    "\n",
    "    if mode != \"test\":\n",
    "        targets = inputs[3]\n",
    "        target_windows = []\n",
    "    \n",
    "    for start, length in zip(seq_starts, seq_lengths):\n",
    "        if length < max_length:\n",
    "            image_window = images[start:start+length]\n",
    "            other_window = others[start:start+length]\n",
    "        else:\n",
    "            image_window = images[start:start+100]\n",
    "            other_window = others[start:start+100]\n",
    "        feature_window = features[start]\n",
    "        if mode != \"test\":\n",
    "            target_window = targets[start]\n",
    "        if length < max_length:\n",
    "            image_window = tf.pad(image_window, \n",
    "                                  tf.constant([[0, max_length-length],\n",
    "                                               [0, 0],\n",
    "                                               [0, 0],\n",
    "                                               [0, 0]]))\n",
    "            other_window = tf.pad(other_window, \n",
    "                                  tf.constant([[0, max_length-length],\n",
    "                                               [0, 0]]))\n",
    "        image_windows.append(image_window)\n",
    "        other_windows.append(other_window)\n",
    "        feature_windows.append(feature_window)\n",
    "        if mode != \"test\":\n",
    "            target_windows.append(target_window)\n",
    "\n",
    "    image_windows = tf.stack(image_windows)\n",
    "    other_windows = tf.stack(other_windows)\n",
    "    feature_windows = tf.stack(feature_windows)\n",
    "\n",
    "    if mode != \"test\":\n",
    "        target_windows = tf.stack(target_windows)\n",
    "        return (image_windows, other_windows, feature_windows), target_windows\n",
    "    else:\n",
    "        return (image_windows, other_windows, feature_windows)"
   ]
  },
  {
   "cell_type": "code",
   "execution_count": 8,
   "id": "47f87a1d",
   "metadata": {
    "execution": {
     "iopub.execute_input": "2025-07-22T16:26:54.423285Z",
     "iopub.status.busy": "2025-07-22T16:26:54.422398Z",
     "iopub.status.idle": "2025-07-22T16:26:54.428214Z",
     "shell.execute_reply": "2025-07-22T16:26:54.427456Z"
    },
    "papermill": {
     "duration": 0.013359,
     "end_time": "2025-07-22T16:26:54.429976",
     "exception": false,
     "start_time": "2025-07-22T16:26:54.416617",
     "status": "completed"
    },
    "tags": []
   },
   "outputs": [],
   "source": [
    "def get_sequence_targets(df):\n",
    "    seq_ids = df[\"sequence_id\"].values\n",
    "    seq_starts = np.array(df[df[\"sequence_counter\"]==0].index)\n",
    "    sequence_targets = df.loc[seq_starts, \"sequence_type\"].values\n",
    "    return sequence_targets"
   ]
  },
  {
   "cell_type": "code",
   "execution_count": 9,
   "id": "5d4cf1e3",
   "metadata": {
    "execution": {
     "iopub.execute_input": "2025-07-22T16:26:54.441949Z",
     "iopub.status.busy": "2025-07-22T16:26:54.441286Z",
     "iopub.status.idle": "2025-07-22T16:26:54.448069Z",
     "shell.execute_reply": "2025-07-22T16:26:54.447115Z"
    },
    "papermill": {
     "duration": 0.014442,
     "end_time": "2025-07-22T16:26:54.449712",
     "exception": false,
     "start_time": "2025-07-22T16:26:54.435270",
     "status": "completed"
    },
    "tags": []
   },
   "outputs": [],
   "source": [
    "gesture_columns = gestures.columns\n",
    "def get_sequence_gestures(df):\n",
    "    seq_ids = df[\"sequence_id\"].values\n",
    "    seq_starts = np.array(df[df[\"sequence_counter\"]==0].index)\n",
    "    sequence_gestures = df.loc[seq_starts, gesture_columns]\n",
    "    return sequence_gestures"
   ]
  },
  {
   "cell_type": "code",
   "execution_count": 10,
   "id": "fba3097d",
   "metadata": {
    "execution": {
     "iopub.execute_input": "2025-07-22T16:26:54.460649Z",
     "iopub.status.busy": "2025-07-22T16:26:54.460322Z",
     "iopub.status.idle": "2025-07-22T16:27:18.763207Z",
     "shell.execute_reply": "2025-07-22T16:27:18.758947Z"
    },
    "papermill": {
     "duration": 24.317834,
     "end_time": "2025-07-22T16:27:18.772455",
     "exception": false,
     "start_time": "2025-07-22T16:26:54.454621",
     "status": "completed"
    },
    "tags": []
   },
   "outputs": [
    {
     "name": "stderr",
     "output_type": "stream",
     "text": [
      "2025-07-22 16:26:55.721269: E external/local_xla/xla/stream_executor/cuda/cuda_driver.cc:152] failed call to cuInit: INTERNAL: CUDA error: Failed call to cuInit: UNKNOWN ERROR (303)\n"
     ]
    }
   ],
   "source": [
    "type_train_ds, type_valid_ds, gesture_train_ds, gesture_valid_ds = create_dataset(train_df)"
   ]
  },
  {
   "cell_type": "code",
   "execution_count": 11,
   "id": "e47fded5",
   "metadata": {
    "execution": {
     "iopub.execute_input": "2025-07-22T16:27:18.810055Z",
     "iopub.status.busy": "2025-07-22T16:27:18.809542Z",
     "iopub.status.idle": "2025-07-22T16:27:18.952800Z",
     "shell.execute_reply": "2025-07-22T16:27:18.950112Z"
    },
    "papermill": {
     "duration": 0.166323,
     "end_time": "2025-07-22T16:27:18.959165",
     "exception": false,
     "start_time": "2025-07-22T16:27:18.792842",
     "status": "completed"
    },
    "tags": []
   },
   "outputs": [
    {
     "name": "stdout",
     "output_type": "stream",
     "text": [
      "2828\n",
      "4767\n"
     ]
    }
   ],
   "source": [
    "sequence_targets = get_sequence_targets(train_df)\n",
    "print(len(sequence_targets[sequence_targets == 0]))\n",
    "print(len(sequence_targets[sequence_targets == 1]))"
   ]
  },
  {
   "cell_type": "code",
   "execution_count": 12,
   "id": "06eeaeb3",
   "metadata": {
    "execution": {
     "iopub.execute_input": "2025-07-22T16:27:18.993845Z",
     "iopub.status.busy": "2025-07-22T16:27:18.993217Z",
     "iopub.status.idle": "2025-07-22T16:27:19.007775Z",
     "shell.execute_reply": "2025-07-22T16:27:19.004321Z"
    },
    "papermill": {
     "duration": 0.038364,
     "end_time": "2025-07-22T16:27:19.013366",
     "exception": false,
     "start_time": "2025-07-22T16:27:18.975002",
     "status": "completed"
    },
    "tags": []
   },
   "outputs": [],
   "source": [
    "len_target = len(sequence_targets[sequence_targets == 1])\n",
    "len_non_target = len(sequence_targets[sequence_targets == 0])\n",
    "type_sample_weight = (len_target/len_non_target, len_target/len_target)"
   ]
  },
  {
   "cell_type": "code",
   "execution_count": 13,
   "id": "0cb0eee9",
   "metadata": {
    "execution": {
     "iopub.execute_input": "2025-07-22T16:27:19.049231Z",
     "iopub.status.busy": "2025-07-22T16:27:19.047886Z",
     "iopub.status.idle": "2025-07-22T16:27:19.065985Z",
     "shell.execute_reply": "2025-07-22T16:27:19.062562Z"
    },
    "papermill": {
     "duration": 0.042616,
     "end_time": "2025-07-22T16:27:19.072910",
     "exception": false,
     "start_time": "2025-07-22T16:27:19.030294",
     "status": "completed"
    },
    "tags": []
   },
   "outputs": [
    {
     "data": {
      "text/plain": [
       "(1.6856435643564356, 1.0)"
      ]
     },
     "execution_count": 13,
     "metadata": {},
     "output_type": "execute_result"
    }
   ],
   "source": [
    "type_sample_weight"
   ]
  },
  {
   "cell_type": "code",
   "execution_count": 14,
   "id": "545dd5c8",
   "metadata": {
    "execution": {
     "iopub.execute_input": "2025-07-22T16:27:19.118897Z",
     "iopub.status.busy": "2025-07-22T16:27:19.117128Z",
     "iopub.status.idle": "2025-07-22T16:27:19.135455Z",
     "shell.execute_reply": "2025-07-22T16:27:19.133446Z"
    },
    "papermill": {
     "duration": 0.047026,
     "end_time": "2025-07-22T16:27:19.140274",
     "exception": false,
     "start_time": "2025-07-22T16:27:19.093248",
     "status": "completed"
    },
    "tags": []
   },
   "outputs": [
    {
     "data": {
      "text/plain": [
       "Index(['Above ear - pull hair', 'Cheek - pinch skin', 'Drink from bottle/cup',\n",
       "       'Eyebrow - pull hair', 'Eyelash - pull hair',\n",
       "       'Feel around in tray and pull out an object',\n",
       "       'Forehead - pull hairline', 'Forehead - scratch', 'Glasses on/off',\n",
       "       'Neck - pinch skin', 'Neck - scratch', 'Pinch knee/leg skin',\n",
       "       'Pull air toward your face', 'Scratch knee/leg skin', 'Text on phone',\n",
       "       'Wave hello', 'Write name in air', 'Write name on leg'],\n",
       "      dtype='object')"
      ]
     },
     "execution_count": 14,
     "metadata": {},
     "output_type": "execute_result"
    }
   ],
   "source": [
    "gestures.columns"
   ]
  },
  {
   "cell_type": "code",
   "execution_count": 15,
   "id": "59522565",
   "metadata": {
    "execution": {
     "iopub.execute_input": "2025-07-22T16:27:19.183043Z",
     "iopub.status.busy": "2025-07-22T16:27:19.182571Z",
     "iopub.status.idle": "2025-07-22T16:27:19.312317Z",
     "shell.execute_reply": "2025-07-22T16:27:19.308987Z"
    },
    "papermill": {
     "duration": 0.159732,
     "end_time": "2025-07-22T16:27:19.317421",
     "exception": false,
     "start_time": "2025-07-22T16:27:19.157689",
     "status": "completed"
    },
    "tags": []
   },
   "outputs": [],
   "source": [
    "non_target_gestures = [\"Drink from bottle/cup\", \"Glasses on/off\", \"Pull air toward your face\",\n",
    "                       \"Pinch knee/leg skin\", \"Scratch knee/leg skin\", \"Write name on leg\",\n",
    "                       \"Text on phone\", \"Feel around in tray and pull out an object\",\n",
    "                       \"Write name in air\", \"Wave hello\"]\n",
    "sequence_gestures = get_sequence_gestures(train_df)\n",
    "all_count = sequence_gestures.sum()\n",
    "non_target_count = all_count[non_target_gestures]\n",
    "non_target_sum = non_target_count.sum()\n",
    "all_count[non_target_gestures] = non_target_sum\n",
    "all_count = 1 / all_count\n",
    "all_count = all_count / all_count.sum()\n",
    "gesture_sample_weight = tuple(all_count)"
   ]
  },
  {
   "cell_type": "code",
   "execution_count": 16,
   "id": "ba07c488",
   "metadata": {
    "execution": {
     "iopub.execute_input": "2025-07-22T16:27:19.365240Z",
     "iopub.status.busy": "2025-07-22T16:27:19.363560Z",
     "iopub.status.idle": "2025-07-22T16:27:19.377832Z",
     "shell.execute_reply": "2025-07-22T16:27:19.376045Z"
    },
    "papermill": {
     "duration": 0.041471,
     "end_time": "2025-07-22T16:27:19.381189",
     "exception": false,
     "start_time": "2025-07-22T16:27:19.339718",
     "status": "completed"
    },
    "tags": []
   },
   "outputs": [
    {
     "data": {
      "text/plain": [
       "(0.0994182973743844,\n",
       " 0.09891786970303684,\n",
       " 0.02084690606188471,\n",
       " 0.09975473831304561,\n",
       " 0.0994182973743844,\n",
       " 0.02084690606188471,\n",
       " 0.09875217812899491,\n",
       " 0.09875217812899491,\n",
       " 0.02084690606188471,\n",
       " 0.09809492569552405,\n",
       " 0.09842245466278791,\n",
       " 0.02084690606188471,\n",
       " 0.02084690606188471,\n",
       " 0.02084690606188471,\n",
       " 0.02084690606188471,\n",
       " 0.02084690606188471,\n",
       " 0.02084690606188471,\n",
       " 0.02084690606188471)"
      ]
     },
     "execution_count": 16,
     "metadata": {},
     "output_type": "execute_result"
    }
   ],
   "source": [
    "gesture_sample_weight"
   ]
  },
  {
   "cell_type": "code",
   "execution_count": 17,
   "id": "f0bf972a",
   "metadata": {
    "execution": {
     "iopub.execute_input": "2025-07-22T16:27:19.426393Z",
     "iopub.status.busy": "2025-07-22T16:27:19.424712Z",
     "iopub.status.idle": "2025-07-22T16:27:19.450321Z",
     "shell.execute_reply": "2025-07-22T16:27:19.447004Z"
    },
    "papermill": {
     "duration": 0.052235,
     "end_time": "2025-07-22T16:27:19.455096",
     "exception": false,
     "start_time": "2025-07-22T16:27:19.402861",
     "status": "completed"
    },
    "tags": []
   },
   "outputs": [
    {
     "name": "stdout",
     "output_type": "stream",
     "text": [
      "380\n",
      "95\n",
      "380\n",
      "95\n"
     ]
    }
   ],
   "source": [
    "print(len(type_train_ds))\n",
    "print(len(type_valid_ds))\n",
    "print(len(gesture_train_ds))\n",
    "print(len(gesture_valid_ds))"
   ]
  },
  {
   "cell_type": "code",
   "execution_count": 18,
   "id": "3b185d73",
   "metadata": {
    "execution": {
     "iopub.execute_input": "2025-07-22T16:27:19.497739Z",
     "iopub.status.busy": "2025-07-22T16:27:19.496723Z",
     "iopub.status.idle": "2025-07-22T16:27:23.589170Z",
     "shell.execute_reply": "2025-07-22T16:27:23.588093Z"
    },
    "papermill": {
     "duration": 4.118647,
     "end_time": "2025-07-22T16:27:23.591052",
     "exception": false,
     "start_time": "2025-07-22T16:27:19.472405",
     "status": "completed"
    },
    "tags": []
   },
   "outputs": [
    {
     "name": "stdout",
     "output_type": "stream",
     "text": [
      "(16, 100, 8, 8, 5)\n",
      "(16, 100, 12)\n",
      "(16, 14)\n",
      "(16, 1)\n"
     ]
    }
   ],
   "source": [
    "# Check dataset shape\n",
    "for i, (inputs, targets) in enumerate(type_train_ds):\n",
    "    if i == 0:\n",
    "        print(inputs[0].shape)        # Image (TOF)\n",
    "        print(inputs[1].shape)        # Other time-series\n",
    "        print(inputs[2].shape)        # Feature\n",
    "        print(targets.shape)          # Target or Non-Target\n",
    "        break"
   ]
  },
  {
   "cell_type": "code",
   "execution_count": 19,
   "id": "9d19f957",
   "metadata": {
    "execution": {
     "iopub.execute_input": "2025-07-22T16:27:23.603561Z",
     "iopub.status.busy": "2025-07-22T16:27:23.602990Z",
     "iopub.status.idle": "2025-07-22T16:27:29.243405Z",
     "shell.execute_reply": "2025-07-22T16:27:29.242211Z"
    },
    "papermill": {
     "duration": 5.648874,
     "end_time": "2025-07-22T16:27:29.245283",
     "exception": false,
     "start_time": "2025-07-22T16:27:23.596409",
     "status": "completed"
    },
    "tags": []
   },
   "outputs": [
    {
     "name": "stdout",
     "output_type": "stream",
     "text": [
      "(16, 100, 8, 8, 5)\n",
      "(16, 100, 12)\n",
      "(16, 14)\n",
      "(16, 18)\n"
     ]
    }
   ],
   "source": [
    "for i, (inputs, targets) in enumerate(gesture_train_ds):\n",
    "    if i == 0:\n",
    "        print(inputs[0].shape)        # Image (TOF)\n",
    "        print(inputs[1].shape)        # Other time-series\n",
    "        print(inputs[2].shape)        # Feature\n",
    "        print(targets.shape)          # Gesture\n",
    "        break"
   ]
  },
  {
   "cell_type": "code",
   "execution_count": 20,
   "id": "9173a7c0",
   "metadata": {
    "execution": {
     "iopub.execute_input": "2025-07-22T16:27:29.259808Z",
     "iopub.status.busy": "2025-07-22T16:27:29.259407Z",
     "iopub.status.idle": "2025-07-22T16:27:29.282398Z",
     "shell.execute_reply": "2025-07-22T16:27:29.281304Z"
    },
    "papermill": {
     "duration": 0.032758,
     "end_time": "2025-07-22T16:27:29.284212",
     "exception": false,
     "start_time": "2025-07-22T16:27:29.251454",
     "status": "completed"
    },
    "tags": []
   },
   "outputs": [],
   "source": [
    "test_ds = create_dataset(test_df, mode=\"test\")"
   ]
  },
  {
   "cell_type": "code",
   "execution_count": 21,
   "id": "6d8ccf40",
   "metadata": {
    "execution": {
     "iopub.execute_input": "2025-07-22T16:27:29.296323Z",
     "iopub.status.busy": "2025-07-22T16:27:29.296033Z",
     "iopub.status.idle": "2025-07-22T16:27:29.314482Z",
     "shell.execute_reply": "2025-07-22T16:27:29.313266Z"
    },
    "papermill": {
     "duration": 0.026424,
     "end_time": "2025-07-22T16:27:29.316241",
     "exception": false,
     "start_time": "2025-07-22T16:27:29.289817",
     "status": "completed"
    },
    "tags": []
   },
   "outputs": [
    {
     "name": "stdout",
     "output_type": "stream",
     "text": [
      "(2, 100, 8, 8, 5)\n",
      "(2, 100, 12)\n",
      "(2, 14)\n"
     ]
    }
   ],
   "source": [
    "# Check dataset shape\n",
    "for inputs in test_ds:\n",
    "    print(inputs[0].shape)        # Image (TOF)\n",
    "    print(inputs[1].shape)        # Other time-series\n",
    "    print(inputs[2].shape)        # Feature"
   ]
  },
  {
   "cell_type": "code",
   "execution_count": 22,
   "id": "1fe54679",
   "metadata": {
    "execution": {
     "iopub.execute_input": "2025-07-22T16:27:29.329554Z",
     "iopub.status.busy": "2025-07-22T16:27:29.329199Z",
     "iopub.status.idle": "2025-07-22T16:27:47.713770Z",
     "shell.execute_reply": "2025-07-22T16:27:47.712557Z"
    },
    "papermill": {
     "duration": 18.393543,
     "end_time": "2025-07-22T16:27:47.715902",
     "exception": false,
     "start_time": "2025-07-22T16:27:29.322359",
     "status": "completed"
    },
    "tags": []
   },
   "outputs": [],
   "source": [
    "import os\n",
    "output_path = \"/kaggle/working/\"\n",
    "type_train_path = os.path.join(output_path, \"type_train_ds\")\n",
    "type_valid_path = os.path.join(output_path, \"type_valid_ds\")\n",
    "gesture_train_path = os.path.join(output_path, \"gesture_train_ds\")\n",
    "gesture_valid_path = os.path.join(output_path, \"gesture_valid_ds\")\n",
    "test_path = os.path.join(output_path, \"test_ds\")\n",
    "\n",
    "tf.data.experimental.save(type_train_ds, type_train_path)\n",
    "tf.data.experimental.save(type_valid_ds, type_valid_path)\n",
    "tf.data.experimental.save(gesture_train_ds, gesture_train_path)\n",
    "tf.data.experimental.save(gesture_valid_ds, gesture_valid_path)\n",
    "tf.data.experimental.save(test_ds, test_path)"
   ]
  },
  {
   "cell_type": "code",
   "execution_count": 23,
   "id": "66e81a25",
   "metadata": {
    "execution": {
     "iopub.execute_input": "2025-07-22T16:27:47.728580Z",
     "iopub.status.busy": "2025-07-22T16:27:47.728191Z",
     "iopub.status.idle": "2025-07-22T16:27:47.734420Z",
     "shell.execute_reply": "2025-07-22T16:27:47.733441Z"
    },
    "papermill": {
     "duration": 0.014646,
     "end_time": "2025-07-22T16:27:47.736185",
     "exception": false,
     "start_time": "2025-07-22T16:27:47.721539",
     "status": "completed"
    },
    "tags": []
   },
   "outputs": [],
   "source": [
    "import json\n",
    "\n",
    "mapping_dicts = {\n",
    "    \"type_mapping\":type_mapping, \n",
    "    \"gesture_mapping\": gesture_mapping\n",
    "}\n",
    "\n",
    "dict_path = os.path.join(output_path, \"mapping.json\")\n",
    "with open(dict_path, \"w\") as f:\n",
    "    json.dump(mapping_dicts, f, indent=2)"
   ]
  },
  {
   "cell_type": "code",
   "execution_count": 24,
   "id": "6fcc3070",
   "metadata": {
    "execution": {
     "iopub.execute_input": "2025-07-22T16:27:47.748962Z",
     "iopub.status.busy": "2025-07-22T16:27:47.748597Z",
     "iopub.status.idle": "2025-07-22T16:27:47.754196Z",
     "shell.execute_reply": "2025-07-22T16:27:47.753256Z"
    },
    "papermill": {
     "duration": 0.013944,
     "end_time": "2025-07-22T16:27:47.755955",
     "exception": false,
     "start_time": "2025-07-22T16:27:47.742011",
     "status": "completed"
    },
    "tags": []
   },
   "outputs": [],
   "source": [
    "sample_weight_dicts = {\n",
    "    \"type_sample_weight\": type_sample_weight,\n",
    "    \"gesture_sample_weight\": gesture_sample_weight\n",
    "}\n",
    "\n",
    "dict_path = os.path.join(output_path, \"sample_weight.json\")\n",
    "with open(dict_path, \"w\") as f:\n",
    "    json.dump(sample_weight_dicts, f, indent=2)"
   ]
  },
  {
   "cell_type": "code",
   "execution_count": null,
   "id": "464d9812",
   "metadata": {
    "papermill": {
     "duration": 0.005188,
     "end_time": "2025-07-22T16:27:47.766749",
     "exception": false,
     "start_time": "2025-07-22T16:27:47.761561",
     "status": "completed"
    },
    "tags": []
   },
   "outputs": [],
   "source": []
  }
 ],
 "metadata": {
  "kaggle": {
   "accelerator": "none",
   "dataSources": [
    {
     "databundleVersionId": 12518947,
     "sourceId": 102335,
     "sourceType": "competition"
    },
    {
     "datasetId": 7856290,
     "sourceId": 12454411,
     "sourceType": "datasetVersion"
    }
   ],
   "dockerImageVersionId": 31089,
   "isGpuEnabled": false,
   "isInternetEnabled": true,
   "language": "python",
   "sourceType": "notebook"
  },
  "kernelspec": {
   "display_name": "Python 3",
   "language": "python",
   "name": "python3"
  },
  "language_info": {
   "codemirror_mode": {
    "name": "ipython",
    "version": 3
   },
   "file_extension": ".py",
   "mimetype": "text/x-python",
   "name": "python",
   "nbconvert_exporter": "python",
   "pygments_lexer": "ipython3",
   "version": "3.11.13"
  },
  "papermill": {
   "default_parameters": {},
   "duration": 173.398815,
   "end_time": "2025-07-22T16:27:51.116395",
   "environment_variables": {},
   "exception": null,
   "input_path": "__notebook__.ipynb",
   "output_path": "__notebook__.ipynb",
   "parameters": {},
   "start_time": "2025-07-22T16:24:57.717580",
   "version": "2.6.0"
  }
 },
 "nbformat": 4,
 "nbformat_minor": 5
}
