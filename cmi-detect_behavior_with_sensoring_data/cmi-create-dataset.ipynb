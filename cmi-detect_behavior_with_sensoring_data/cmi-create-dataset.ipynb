{
 "cells": [
  {
   "cell_type": "code",
   "execution_count": 1,
   "id": "026aaabe",
   "metadata": {
    "execution": {
     "iopub.execute_input": "2025-07-31T15:56:29.009924Z",
     "iopub.status.busy": "2025-07-31T15:56:29.009573Z",
     "iopub.status.idle": "2025-07-31T15:56:51.666594Z",
     "shell.execute_reply": "2025-07-31T15:56:51.665543Z"
    },
    "papermill": {
     "duration": 22.666159,
     "end_time": "2025-07-31T15:56:51.668535",
     "exception": false,
     "start_time": "2025-07-31T15:56:29.002376",
     "status": "completed"
    },
    "tags": []
   },
   "outputs": [
    {
     "name": "stderr",
     "output_type": "stream",
     "text": [
      "2025-07-31 15:56:33.210712: E external/local_xla/xla/stream_executor/cuda/cuda_fft.cc:477] Unable to register cuFFT factory: Attempting to register factory for plugin cuFFT when one has already been registered\n",
      "WARNING: All log messages before absl::InitializeLog() is called are written to STDERR\n",
      "E0000 00:00:1753977393.475672      13 cuda_dnn.cc:8310] Unable to register cuDNN factory: Attempting to register factory for plugin cuDNN when one has already been registered\n",
      "E0000 00:00:1753977393.553103      13 cuda_blas.cc:1418] Unable to register cuBLAS factory: Attempting to register factory for plugin cuBLAS when one has already been registered\n"
     ]
    }
   ],
   "source": [
    "import numpy as np\n",
    "import pandas as pd\n",
    "import matplotlib.pyplot as plt\n",
    "import tensorflow as tf\n",
    "import warnings\n",
    "from itertools import product\n",
    "from sklearn.preprocessing import OneHotEncoder\n",
    "warnings.filterwarnings(\"ignore\")"
   ]
  },
  {
   "cell_type": "code",
   "execution_count": 2,
   "id": "cf284a1b",
   "metadata": {
    "execution": {
     "iopub.execute_input": "2025-07-31T15:56:51.681514Z",
     "iopub.status.busy": "2025-07-31T15:56:51.680937Z",
     "iopub.status.idle": "2025-07-31T15:58:06.732826Z",
     "shell.execute_reply": "2025-07-31T15:58:06.731490Z"
    },
    "papermill": {
     "duration": 75.060309,
     "end_time": "2025-07-31T15:58:06.734830",
     "exception": false,
     "start_time": "2025-07-31T15:56:51.674521",
     "status": "completed"
    },
    "tags": []
   },
   "outputs": [],
   "source": [
    "train_df = pd.read_csv(\"/kaggle/input/preprocessed-dataset/preprocessed_train.csv\")\n",
    "test_df = pd.read_csv(\"/kaggle/input/preprocessed-dataset/preprocessed_test.csv\")"
   ]
  },
  {
   "cell_type": "code",
   "execution_count": 3,
   "id": "7a063ead",
   "metadata": {
    "execution": {
     "iopub.execute_input": "2025-07-31T15:58:06.749325Z",
     "iopub.status.busy": "2025-07-31T15:58:06.748963Z",
     "iopub.status.idle": "2025-07-31T15:58:06.799176Z",
     "shell.execute_reply": "2025-07-31T15:58:06.797376Z"
    },
    "papermill": {
     "duration": 0.060722,
     "end_time": "2025-07-31T15:58:06.802250",
     "exception": false,
     "start_time": "2025-07-31T15:58:06.741528",
     "status": "completed"
    },
    "tags": []
   },
   "outputs": [
    {
     "data": {
      "text/plain": [
       "array(['Target', 'Non-Target'], dtype=object)"
      ]
     },
     "execution_count": 3,
     "metadata": {},
     "output_type": "execute_result"
    }
   ],
   "source": [
    "train_df[\"sequence_type\"].unique()"
   ]
  },
  {
   "cell_type": "code",
   "execution_count": 4,
   "id": "5950d3cf",
   "metadata": {
    "execution": {
     "iopub.execute_input": "2025-07-31T15:58:06.817179Z",
     "iopub.status.busy": "2025-07-31T15:58:06.816816Z",
     "iopub.status.idle": "2025-07-31T15:58:06.859922Z",
     "shell.execute_reply": "2025-07-31T15:58:06.858207Z"
    },
    "papermill": {
     "duration": 0.053097,
     "end_time": "2025-07-31T15:58:06.862362",
     "exception": false,
     "start_time": "2025-07-31T15:58:06.809265",
     "status": "completed"
    },
    "tags": []
   },
   "outputs": [],
   "source": [
    "type_mapping = {\"Target\": 1, \"Non-Target\": 0}\n",
    "train_df[\"sequence_type\"] = train_df[\"sequence_type\"].map(type_mapping)"
   ]
  },
  {
   "cell_type": "code",
   "execution_count": 5,
   "id": "d787d62b",
   "metadata": {
    "execution": {
     "iopub.execute_input": "2025-07-31T15:58:06.875702Z",
     "iopub.status.busy": "2025-07-31T15:58:06.875351Z",
     "iopub.status.idle": "2025-07-31T15:58:07.961936Z",
     "shell.execute_reply": "2025-07-31T15:58:07.960465Z"
    },
    "papermill": {
     "duration": 1.095734,
     "end_time": "2025-07-31T15:58:07.964686",
     "exception": false,
     "start_time": "2025-07-31T15:58:06.868952",
     "status": "completed"
    },
    "tags": []
   },
   "outputs": [],
   "source": [
    "gestures = pd.get_dummies(train_df[\"gesture\"])\n",
    "train_df = pd.concat([train_df, gestures], axis=1)\n",
    "train_df = train_df.drop([\"gesture\"], axis=1)"
   ]
  },
  {
   "cell_type": "code",
   "execution_count": 6,
   "id": "878b85ac",
   "metadata": {
    "execution": {
     "iopub.execute_input": "2025-07-31T15:58:07.978931Z",
     "iopub.status.busy": "2025-07-31T15:58:07.978457Z",
     "iopub.status.idle": "2025-07-31T15:58:07.983964Z",
     "shell.execute_reply": "2025-07-31T15:58:07.982812Z"
    },
    "papermill": {
     "duration": 0.014683,
     "end_time": "2025-07-31T15:58:07.986083",
     "exception": false,
     "start_time": "2025-07-31T15:58:07.971400",
     "status": "completed"
    },
    "tags": []
   },
   "outputs": [],
   "source": [
    "gesture_mapping = {gesture: i for i, gesture in enumerate(gestures)}"
   ]
  },
  {
   "cell_type": "code",
   "execution_count": 7,
   "id": "a10a4912",
   "metadata": {
    "execution": {
     "iopub.execute_input": "2025-07-31T15:58:08.001656Z",
     "iopub.status.busy": "2025-07-31T15:58:08.001273Z",
     "iopub.status.idle": "2025-07-31T15:58:08.204282Z",
     "shell.execute_reply": "2025-07-31T15:58:08.202725Z"
    },
    "papermill": {
     "duration": 0.214856,
     "end_time": "2025-07-31T15:58:08.207336",
     "exception": false,
     "start_time": "2025-07-31T15:58:07.992480",
     "status": "completed"
    },
    "tags": []
   },
   "outputs": [],
   "source": [
    "from sklearn.model_selection import train_test_split\n",
    "tf.random.set_seed(42)\n",
    "acc_columns = [\"acc_r\", \"acc_theta\", \"acc_phi\"]\n",
    "rot_columns = [\"rot_omega\", \"rot_u_theta\", \"rot_u_phi\"]\n",
    "thm_columns = [\"thm_mean\"]\n",
    "\n",
    "i_list = range(1, 6)\n",
    "j_list = range(64)\n",
    "comb = list(product(i_list, j_list))\n",
    "tof_columns = [f\"tof_{i}_v{j}\" for i, j in comb]\n",
    "\n",
    "def create_dataset(df, max_length=100, batch_size=16, mode=\"train\", train_size=0.8):\n",
    "    seq_ids = df[\"sequence_id\"].values\n",
    "    seq_counters = df[\"sequence_counter\"].values\n",
    "    seq_starts = np.array(df[df[\"sequence_counter\"]==0].index)\n",
    "    seq_lengths = np.diff(np.concatenate([seq_starts, np.array([len(df)])]), n=1)\n",
    "    \n",
    "    images = df[tof_columns].to_numpy()   # (samples, 5*64)\n",
    "    images = images.reshape(-1, 64, 5)\n",
    "    images = images.reshape(-1, 8, 8, 5)\n",
    "    images = tf.convert_to_tensor(images, dtype=tf.float64)\n",
    "\n",
    "    others = df[acc_columns + rot_columns + thm_columns].to_numpy()\n",
    "    others = tf.convert_to_tensor(others, dtype=tf.float64)\n",
    "\n",
    "    feature_columns = ['adult_child', 'age', 'sex', 'height_cm', \n",
    "                       'shoulder_to_wrist_cm', 'elbow_to_wrist_cm']\n",
    "    features = df[feature_columns].to_numpy()\n",
    "    features = tf.convert_to_tensor(features, dtype=tf.float64)\n",
    "\n",
    "    if mode != \"test\":\n",
    "        sequence_types = df[[\"sequence_type\"]].values\n",
    "        gestures = df[gesture_mapping.keys()].values\n",
    "        targets = np.concatenate([sequence_types, gestures], axis=1)\n",
    "        targets = tf.convert_to_tensor(targets, dtype=tf.float64)\n",
    "        inputs = (images, others, features, targets)\n",
    "        inputs, targets = create_window(inputs, seq_starts, seq_lengths, \n",
    "                                        max_length, mode)\n",
    "        ids = np.arange(len(targets))\n",
    "        train_ids, valid_ids = train_test_split(ids, train_size=train_size, stratify=tf.argmax(targets[:, 1:], axis=-1), random_state=42)\n",
    "        inputs_train = (\n",
    "            tf.gather(inputs[0], train_ids),\n",
    "            tf.gather(inputs[1], train_ids),\n",
    "            tf.gather(inputs[2], train_ids)\n",
    "        )\n",
    "        inputs_valid = (\n",
    "            tf.gather(inputs[0], valid_ids),\n",
    "            tf.gather(inputs[1], valid_ids),\n",
    "            tf.gather(inputs[2], valid_ids)\n",
    "        )\n",
    "        targets_train, targets_valid = tf.gather(targets, train_ids), tf.gather(targets, valid_ids)\n",
    "        type_train_ds = tf.data.Dataset.from_tensor_slices((inputs_train, targets_train[:, :1]))\n",
    "        type_train_ds = type_train_ds.shuffle(len(inputs_train)).batch(batch_size)\n",
    "        gesture_train_ds = tf.data.Dataset.from_tensor_slices((inputs_train, targets_train[:, 1:]))\n",
    "        gesture_train_ds = gesture_train_ds.shuffle(len(inputs_train)).batch(batch_size)\n",
    "\n",
    "        type_valid_ds = tf.data.Dataset.from_tensor_slices((inputs_valid, targets_valid[:, :1]))\n",
    "        type_valid_ds = type_valid_ds.shuffle(len(inputs_valid)).batch(batch_size)\n",
    "        gesture_valid_ds = tf.data.Dataset.from_tensor_slices((inputs_valid, targets_valid[:, 1:]))\n",
    "        gesture_valid_ds = gesture_valid_ds.shuffle(len(inputs_valid)).batch(batch_size)\n",
    "        return type_train_ds, type_valid_ds, gesture_train_ds, gesture_valid_ds\n",
    "    else:\n",
    "        inputs = (images, others, features)\n",
    "        inputs = create_window(inputs, seq_starts, seq_lengths, \n",
    "                               max_length, mode)\n",
    "        test_ds = tf.data.Dataset.from_tensor_slices(inputs)\n",
    "        test_ds = test_ds.batch(batch_size)\n",
    "    return test_ds\n",
    "\n",
    "\n",
    "def create_window(inputs, seq_starts, seq_lengths, max_length=100, mode=\"train\"):\n",
    "    images = inputs[0]\n",
    "    others = inputs[1]\n",
    "    features = inputs[2]\n",
    "\n",
    "    image_windows = []\n",
    "    other_windows = []\n",
    "    feature_windows = []\n",
    "\n",
    "    if mode != \"test\":\n",
    "        targets = inputs[3]\n",
    "        target_windows = []\n",
    "    \n",
    "    for start, length in zip(seq_starts, seq_lengths):\n",
    "        if length < max_length:\n",
    "            image_window = images[start:start+length]\n",
    "            other_window = others[start:start+length]\n",
    "        else:\n",
    "            image_window = images[start:start+100]\n",
    "            other_window = others[start:start+100]\n",
    "        feature_window = features[start]\n",
    "        if mode != \"test\":\n",
    "            target_window = targets[start]\n",
    "        if length < max_length:\n",
    "            image_window = tf.pad(image_window, \n",
    "                                  tf.constant([[0, max_length-length],\n",
    "                                               [0, 0],\n",
    "                                               [0, 0],\n",
    "                                               [0, 0]]))\n",
    "            other_window = tf.pad(other_window, \n",
    "                                  tf.constant([[0, max_length-length],\n",
    "                                               [0, 0]]))\n",
    "        image_windows.append(image_window)\n",
    "        other_windows.append(other_window)\n",
    "        feature_windows.append(feature_window)\n",
    "        if mode != \"test\":\n",
    "            target_windows.append(target_window)\n",
    "\n",
    "    image_windows = tf.stack(image_windows)\n",
    "    other_windows = tf.stack(other_windows)\n",
    "    feature_windows = tf.stack(feature_windows)\n",
    "\n",
    "    if mode != \"test\":\n",
    "        target_windows = tf.stack(target_windows)\n",
    "        return (image_windows, other_windows, feature_windows), target_windows\n",
    "    else:\n",
    "        return (image_windows, other_windows, feature_windows)"
   ]
  },
  {
   "cell_type": "code",
   "execution_count": 8,
   "id": "590f9d69",
   "metadata": {
    "execution": {
     "iopub.execute_input": "2025-07-31T15:58:08.220321Z",
     "iopub.status.busy": "2025-07-31T15:58:08.219971Z",
     "iopub.status.idle": "2025-07-31T15:58:08.227016Z",
     "shell.execute_reply": "2025-07-31T15:58:08.225154Z"
    },
    "papermill": {
     "duration": 0.016226,
     "end_time": "2025-07-31T15:58:08.229262",
     "exception": false,
     "start_time": "2025-07-31T15:58:08.213036",
     "status": "completed"
    },
    "tags": []
   },
   "outputs": [],
   "source": [
    "def get_sequence_targets(df):\n",
    "    seq_ids = df[\"sequence_id\"].values\n",
    "    seq_starts = np.array(df[df[\"sequence_counter\"]==0].index)\n",
    "    sequence_targets = df.loc[seq_starts, \"sequence_type\"].values\n",
    "    return sequence_targets"
   ]
  },
  {
   "cell_type": "code",
   "execution_count": 9,
   "id": "011bd00c",
   "metadata": {
    "execution": {
     "iopub.execute_input": "2025-07-31T15:58:08.242307Z",
     "iopub.status.busy": "2025-07-31T15:58:08.241928Z",
     "iopub.status.idle": "2025-07-31T15:58:08.249249Z",
     "shell.execute_reply": "2025-07-31T15:58:08.247528Z"
    },
    "papermill": {
     "duration": 0.016615,
     "end_time": "2025-07-31T15:58:08.251402",
     "exception": false,
     "start_time": "2025-07-31T15:58:08.234787",
     "status": "completed"
    },
    "tags": []
   },
   "outputs": [],
   "source": [
    "gesture_columns = gestures.columns\n",
    "def get_sequence_gestures(df):\n",
    "    seq_ids = df[\"sequence_id\"].values\n",
    "    seq_starts = np.array(df[df[\"sequence_counter\"]==0].index)\n",
    "    sequence_gestures = df.loc[seq_starts, gesture_columns]\n",
    "    return sequence_gestures"
   ]
  },
  {
   "cell_type": "code",
   "execution_count": 10,
   "id": "83beb192",
   "metadata": {
    "execution": {
     "iopub.execute_input": "2025-07-31T15:58:08.266812Z",
     "iopub.status.busy": "2025-07-31T15:58:08.266252Z",
     "iopub.status.idle": "2025-07-31T15:58:32.389236Z",
     "shell.execute_reply": "2025-07-31T15:58:32.387108Z"
    },
    "papermill": {
     "duration": 24.137383,
     "end_time": "2025-07-31T15:58:32.395396",
     "exception": false,
     "start_time": "2025-07-31T15:58:08.258013",
     "status": "completed"
    },
    "tags": []
   },
   "outputs": [
    {
     "name": "stderr",
     "output_type": "stream",
     "text": [
      "2025-07-31 15:58:09.603668: E external/local_xla/xla/stream_executor/cuda/cuda_driver.cc:152] failed call to cuInit: INTERNAL: CUDA error: Failed call to cuInit: UNKNOWN ERROR (303)\n"
     ]
    }
   ],
   "source": [
    "type_train_ds, type_valid_ds, gesture_train_ds, gesture_valid_ds = create_dataset(train_df)"
   ]
  },
  {
   "cell_type": "code",
   "execution_count": 11,
   "id": "ba6bcc74",
   "metadata": {
    "execution": {
     "iopub.execute_input": "2025-07-31T15:58:32.414640Z",
     "iopub.status.busy": "2025-07-31T15:58:32.414196Z",
     "iopub.status.idle": "2025-07-31T15:58:32.484744Z",
     "shell.execute_reply": "2025-07-31T15:58:32.483262Z"
    },
    "papermill": {
     "duration": 0.0801,
     "end_time": "2025-07-31T15:58:32.486497",
     "exception": false,
     "start_time": "2025-07-31T15:58:32.406397",
     "status": "completed"
    },
    "tags": []
   },
   "outputs": [
    {
     "name": "stdout",
     "output_type": "stream",
     "text": [
      "2828\n",
      "4767\n"
     ]
    }
   ],
   "source": [
    "sequence_targets = get_sequence_targets(train_df)\n",
    "print(len(sequence_targets[sequence_targets == 0]))\n",
    "print(len(sequence_targets[sequence_targets == 1]))"
   ]
  },
  {
   "cell_type": "code",
   "execution_count": 12,
   "id": "c44f0af1",
   "metadata": {
    "execution": {
     "iopub.execute_input": "2025-07-31T15:58:32.499222Z",
     "iopub.status.busy": "2025-07-31T15:58:32.498622Z",
     "iopub.status.idle": "2025-07-31T15:58:32.505132Z",
     "shell.execute_reply": "2025-07-31T15:58:32.504038Z"
    },
    "papermill": {
     "duration": 0.014971,
     "end_time": "2025-07-31T15:58:32.507311",
     "exception": false,
     "start_time": "2025-07-31T15:58:32.492340",
     "status": "completed"
    },
    "tags": []
   },
   "outputs": [],
   "source": [
    "len_target = len(sequence_targets[sequence_targets == 1])\n",
    "len_non_target = len(sequence_targets[sequence_targets == 0])\n",
    "type_sample_weight = (len_target/len_non_target, len_target/len_target)"
   ]
  },
  {
   "cell_type": "code",
   "execution_count": 13,
   "id": "be7ede0f",
   "metadata": {
    "execution": {
     "iopub.execute_input": "2025-07-31T15:58:32.521109Z",
     "iopub.status.busy": "2025-07-31T15:58:32.520208Z",
     "iopub.status.idle": "2025-07-31T15:58:32.528310Z",
     "shell.execute_reply": "2025-07-31T15:58:32.527038Z"
    },
    "papermill": {
     "duration": 0.016822,
     "end_time": "2025-07-31T15:58:32.530033",
     "exception": false,
     "start_time": "2025-07-31T15:58:32.513211",
     "status": "completed"
    },
    "tags": []
   },
   "outputs": [
    {
     "data": {
      "text/plain": [
       "(1.6856435643564356, 1.0)"
      ]
     },
     "execution_count": 13,
     "metadata": {},
     "output_type": "execute_result"
    }
   ],
   "source": [
    "type_sample_weight"
   ]
  },
  {
   "cell_type": "code",
   "execution_count": 14,
   "id": "d96407b1",
   "metadata": {
    "execution": {
     "iopub.execute_input": "2025-07-31T15:58:32.543405Z",
     "iopub.status.busy": "2025-07-31T15:58:32.542458Z",
     "iopub.status.idle": "2025-07-31T15:58:32.550131Z",
     "shell.execute_reply": "2025-07-31T15:58:32.548751Z"
    },
    "papermill": {
     "duration": 0.016233,
     "end_time": "2025-07-31T15:58:32.552072",
     "exception": false,
     "start_time": "2025-07-31T15:58:32.535839",
     "status": "completed"
    },
    "tags": []
   },
   "outputs": [
    {
     "data": {
      "text/plain": [
       "Index(['Above ear - pull hair', 'Cheek - pinch skin', 'Drink from bottle/cup',\n",
       "       'Eyebrow - pull hair', 'Eyelash - pull hair',\n",
       "       'Feel around in tray and pull out an object',\n",
       "       'Forehead - pull hairline', 'Forehead - scratch', 'Glasses on/off',\n",
       "       'Neck - pinch skin', 'Neck - scratch', 'Pinch knee/leg skin',\n",
       "       'Pull air toward your face', 'Scratch knee/leg skin', 'Text on phone',\n",
       "       'Wave hello', 'Write name in air', 'Write name on leg'],\n",
       "      dtype='object')"
      ]
     },
     "execution_count": 14,
     "metadata": {},
     "output_type": "execute_result"
    }
   ],
   "source": [
    "gestures.columns"
   ]
  },
  {
   "cell_type": "code",
   "execution_count": 15,
   "id": "a461084f",
   "metadata": {
    "execution": {
     "iopub.execute_input": "2025-07-31T15:58:32.565906Z",
     "iopub.status.busy": "2025-07-31T15:58:32.565507Z",
     "iopub.status.idle": "2025-07-31T15:58:32.617573Z",
     "shell.execute_reply": "2025-07-31T15:58:32.616249Z"
    },
    "papermill": {
     "duration": 0.060851,
     "end_time": "2025-07-31T15:58:32.619470",
     "exception": false,
     "start_time": "2025-07-31T15:58:32.558619",
     "status": "completed"
    },
    "tags": []
   },
   "outputs": [],
   "source": [
    "non_target_gestures = [\"Drink from bottle/cup\", \"Glasses on/off\", \"Pull air toward your face\",\n",
    "                       \"Pinch knee/leg skin\", \"Scratch knee/leg skin\", \"Write name on leg\",\n",
    "                       \"Text on phone\", \"Feel around in tray and pull out an object\",\n",
    "                       \"Write name in air\", \"Wave hello\"]\n",
    "sequence_gestures = get_sequence_gestures(train_df)\n",
    "all_count = sequence_gestures.sum()\n",
    "non_target_count = all_count[non_target_gestures]\n",
    "non_target_sum = non_target_count.sum()\n",
    "all_count[non_target_gestures] = non_target_sum\n",
    "all_count = non_target_sum / all_count\n",
    "gesture_sample_weight = tuple(all_count.values)"
   ]
  },
  {
   "cell_type": "code",
   "execution_count": 16,
   "id": "243180d6",
   "metadata": {
    "execution": {
     "iopub.execute_input": "2025-07-31T15:58:32.632832Z",
     "iopub.status.busy": "2025-07-31T15:58:32.632476Z",
     "iopub.status.idle": "2025-07-31T15:58:32.640478Z",
     "shell.execute_reply": "2025-07-31T15:58:32.639229Z"
    },
    "papermill": {
     "duration": 0.016797,
     "end_time": "2025-07-31T15:58:32.642276",
     "exception": false,
     "start_time": "2025-07-31T15:58:32.625479",
     "status": "completed"
    },
    "tags": []
   },
   "outputs": [
    {
     "data": {
      "text/plain": [
       "(4.768971332209106,\n",
       " 4.74496644295302,\n",
       " 1.0,\n",
       " 4.7851099830795265,\n",
       " 4.768971332209106,\n",
       " 1.0,\n",
       " 4.7370184254606365,\n",
       " 4.7370184254606365,\n",
       " 1.0,\n",
       " 4.705490848585691,\n",
       " 4.721202003338898,\n",
       " 1.0,\n",
       " 1.0,\n",
       " 1.0,\n",
       " 1.0,\n",
       " 1.0,\n",
       " 1.0,\n",
       " 1.0)"
      ]
     },
     "execution_count": 16,
     "metadata": {},
     "output_type": "execute_result"
    }
   ],
   "source": [
    "gesture_sample_weight"
   ]
  },
  {
   "cell_type": "code",
   "execution_count": 17,
   "id": "9f896441",
   "metadata": {
    "execution": {
     "iopub.execute_input": "2025-07-31T15:58:32.657254Z",
     "iopub.status.busy": "2025-07-31T15:58:32.656934Z",
     "iopub.status.idle": "2025-07-31T15:58:32.666024Z",
     "shell.execute_reply": "2025-07-31T15:58:32.664628Z"
    },
    "papermill": {
     "duration": 0.019955,
     "end_time": "2025-07-31T15:58:32.668098",
     "exception": false,
     "start_time": "2025-07-31T15:58:32.648143",
     "status": "completed"
    },
    "tags": []
   },
   "outputs": [
    {
     "name": "stdout",
     "output_type": "stream",
     "text": [
      "380\n",
      "95\n",
      "380\n",
      "95\n"
     ]
    }
   ],
   "source": [
    "print(len(type_train_ds))\n",
    "print(len(type_valid_ds))\n",
    "print(len(gesture_train_ds))\n",
    "print(len(gesture_valid_ds))"
   ]
  },
  {
   "cell_type": "code",
   "execution_count": 18,
   "id": "0e41f7a1",
   "metadata": {
    "execution": {
     "iopub.execute_input": "2025-07-31T15:58:32.682455Z",
     "iopub.status.busy": "2025-07-31T15:58:32.682059Z",
     "iopub.status.idle": "2025-07-31T15:58:34.315654Z",
     "shell.execute_reply": "2025-07-31T15:58:34.314119Z"
    },
    "papermill": {
     "duration": 1.643331,
     "end_time": "2025-07-31T15:58:34.317518",
     "exception": false,
     "start_time": "2025-07-31T15:58:32.674187",
     "status": "completed"
    },
    "tags": []
   },
   "outputs": [
    {
     "name": "stdout",
     "output_type": "stream",
     "text": [
      "(16, 100, 8, 8, 5)\n",
      "(16, 100, 7)\n",
      "(16, 6)\n",
      "(16, 1)\n"
     ]
    }
   ],
   "source": [
    "# Check dataset shape\n",
    "for i, (inputs, targets) in enumerate(type_train_ds):\n",
    "    if i == 0:\n",
    "        print(inputs[0].shape)        # Image (TOF)\n",
    "        print(inputs[1].shape)        # Other time-series\n",
    "        print(inputs[2].shape)        # Feature\n",
    "        print(targets.shape)          # Target or Non-Target\n",
    "        break"
   ]
  },
  {
   "cell_type": "code",
   "execution_count": 19,
   "id": "7edb74af",
   "metadata": {
    "execution": {
     "iopub.execute_input": "2025-07-31T15:58:34.331416Z",
     "iopub.status.busy": "2025-07-31T15:58:34.330731Z",
     "iopub.status.idle": "2025-07-31T15:58:35.833862Z",
     "shell.execute_reply": "2025-07-31T15:58:35.832525Z"
    },
    "papermill": {
     "duration": 1.511852,
     "end_time": "2025-07-31T15:58:35.835756",
     "exception": false,
     "start_time": "2025-07-31T15:58:34.323904",
     "status": "completed"
    },
    "tags": []
   },
   "outputs": [
    {
     "name": "stdout",
     "output_type": "stream",
     "text": [
      "(16, 100, 8, 8, 5)\n",
      "(16, 100, 7)\n",
      "(16, 6)\n",
      "(16, 18)\n"
     ]
    }
   ],
   "source": [
    "for i, (inputs, targets) in enumerate(gesture_train_ds):\n",
    "    if i == 0:\n",
    "        print(inputs[0].shape)        # Image (TOF)\n",
    "        print(inputs[1].shape)        # Other time-series\n",
    "        print(inputs[2].shape)        # Feature\n",
    "        print(targets.shape)          # Gesture\n",
    "        break"
   ]
  },
  {
   "cell_type": "code",
   "execution_count": 20,
   "id": "6038109c",
   "metadata": {
    "execution": {
     "iopub.execute_input": "2025-07-31T15:58:35.851273Z",
     "iopub.status.busy": "2025-07-31T15:58:35.850313Z",
     "iopub.status.idle": "2025-07-31T15:58:35.872775Z",
     "shell.execute_reply": "2025-07-31T15:58:35.871249Z"
    },
    "papermill": {
     "duration": 0.032861,
     "end_time": "2025-07-31T15:58:35.874853",
     "exception": false,
     "start_time": "2025-07-31T15:58:35.841992",
     "status": "completed"
    },
    "tags": []
   },
   "outputs": [],
   "source": [
    "test_ds = create_dataset(test_df, mode=\"test\")"
   ]
  },
  {
   "cell_type": "code",
   "execution_count": 21,
   "id": "c5d8870a",
   "metadata": {
    "execution": {
     "iopub.execute_input": "2025-07-31T15:58:35.888757Z",
     "iopub.status.busy": "2025-07-31T15:58:35.888135Z",
     "iopub.status.idle": "2025-07-31T15:58:35.907093Z",
     "shell.execute_reply": "2025-07-31T15:58:35.905788Z"
    },
    "papermill": {
     "duration": 0.027662,
     "end_time": "2025-07-31T15:58:35.908884",
     "exception": false,
     "start_time": "2025-07-31T15:58:35.881222",
     "status": "completed"
    },
    "tags": []
   },
   "outputs": [
    {
     "name": "stdout",
     "output_type": "stream",
     "text": [
      "(2, 100, 8, 8, 5)\n",
      "(2, 100, 7)\n",
      "(2, 6)\n"
     ]
    }
   ],
   "source": [
    "# Check dataset shape\n",
    "for inputs in test_ds:\n",
    "    print(inputs[0].shape)        # Image (TOF)\n",
    "    print(inputs[1].shape)        # Other time-series\n",
    "    print(inputs[2].shape)        # Feature"
   ]
  },
  {
   "cell_type": "code",
   "execution_count": 22,
   "id": "ce2fb191",
   "metadata": {
    "execution": {
     "iopub.execute_input": "2025-07-31T15:58:35.923988Z",
     "iopub.status.busy": "2025-07-31T15:58:35.922965Z",
     "iopub.status.idle": "2025-07-31T15:58:49.675943Z",
     "shell.execute_reply": "2025-07-31T15:58:49.674992Z"
    },
    "papermill": {
     "duration": 13.7627,
     "end_time": "2025-07-31T15:58:49.678111",
     "exception": false,
     "start_time": "2025-07-31T15:58:35.915411",
     "status": "completed"
    },
    "tags": []
   },
   "outputs": [],
   "source": [
    "import os\n",
    "output_path = \"/kaggle/working/\"\n",
    "type_train_path = os.path.join(output_path, \"type_train_ds\")\n",
    "type_valid_path = os.path.join(output_path, \"type_valid_ds\")\n",
    "gesture_train_path = os.path.join(output_path, \"gesture_train_ds\")\n",
    "gesture_valid_path = os.path.join(output_path, \"gesture_valid_ds\")\n",
    "test_path = os.path.join(output_path, \"test_ds\")\n",
    "\n",
    "tf.data.experimental.save(type_train_ds, type_train_path)\n",
    "tf.data.experimental.save(type_valid_ds, type_valid_path)\n",
    "tf.data.experimental.save(gesture_train_ds, gesture_train_path)\n",
    "tf.data.experimental.save(gesture_valid_ds, gesture_valid_path)\n",
    "tf.data.experimental.save(test_ds, test_path)"
   ]
  },
  {
   "cell_type": "code",
   "execution_count": 23,
   "id": "1b6e37b3",
   "metadata": {
    "execution": {
     "iopub.execute_input": "2025-07-31T15:58:49.824130Z",
     "iopub.status.busy": "2025-07-31T15:58:49.823294Z",
     "iopub.status.idle": "2025-07-31T15:58:49.830666Z",
     "shell.execute_reply": "2025-07-31T15:58:49.829379Z"
    },
    "papermill": {
     "duration": 0.020613,
     "end_time": "2025-07-31T15:58:49.832577",
     "exception": false,
     "start_time": "2025-07-31T15:58:49.811964",
     "status": "completed"
    },
    "tags": []
   },
   "outputs": [],
   "source": [
    "import json\n",
    "\n",
    "mapping_dicts = {\n",
    "    \"type_mapping\":type_mapping, \n",
    "    \"gesture_mapping\": gesture_mapping\n",
    "}\n",
    "\n",
    "dict_path = os.path.join(output_path, \"mapping.json\")\n",
    "with open(dict_path, \"w\") as f:\n",
    "    json.dump(mapping_dicts, f, indent=2)"
   ]
  },
  {
   "cell_type": "code",
   "execution_count": 24,
   "id": "8861cb57",
   "metadata": {
    "execution": {
     "iopub.execute_input": "2025-07-31T15:58:49.967285Z",
     "iopub.status.busy": "2025-07-31T15:58:49.966297Z",
     "iopub.status.idle": "2025-07-31T15:58:49.972613Z",
     "shell.execute_reply": "2025-07-31T15:58:49.971641Z"
    },
    "papermill": {
     "duration": 0.019895,
     "end_time": "2025-07-31T15:58:49.974358",
     "exception": false,
     "start_time": "2025-07-31T15:58:49.954463",
     "status": "completed"
    },
    "tags": []
   },
   "outputs": [],
   "source": [
    "sample_weight_dicts = {\n",
    "    \"type_sample_weight\": type_sample_weight,\n",
    "    \"gesture_sample_weight\": gesture_sample_weight\n",
    "}\n",
    "\n",
    "dict_path = os.path.join(output_path, \"sample_weight.json\")\n",
    "with open(dict_path, \"w\") as f:\n",
    "    json.dump(sample_weight_dicts, f, indent=2)"
   ]
  },
  {
   "cell_type": "code",
   "execution_count": null,
   "id": "410ff115",
   "metadata": {
    "papermill": {
     "duration": 0.134249,
     "end_time": "2025-07-31T15:58:50.223387",
     "exception": false,
     "start_time": "2025-07-31T15:58:50.089138",
     "status": "completed"
    },
    "tags": []
   },
   "outputs": [],
   "source": []
  }
 ],
 "metadata": {
  "kaggle": {
   "accelerator": "none",
   "dataSources": [
    {
     "databundleVersionId": 12518947,
     "sourceId": 102335,
     "sourceType": "competition"
    },
    {
     "datasetId": 7856290,
     "sourceId": 12633594,
     "sourceType": "datasetVersion"
    }
   ],
   "dockerImageVersionId": 31089,
   "isGpuEnabled": false,
   "isInternetEnabled": true,
   "language": "python",
   "sourceType": "notebook"
  },
  "kernelspec": {
   "display_name": "Python 3",
   "language": "python",
   "name": "python3"
  },
  "language_info": {
   "codemirror_mode": {
    "name": "ipython",
    "version": 3
   },
   "file_extension": ".py",
   "mimetype": "text/x-python",
   "name": "python",
   "nbconvert_exporter": "python",
   "pygments_lexer": "ipython3",
   "version": "3.11.13"
  },
  "papermill": {
   "default_parameters": {},
   "duration": 150.402692,
   "end_time": "2025-07-31T15:58:53.803532",
   "environment_variables": {},
   "exception": null,
   "input_path": "__notebook__.ipynb",
   "output_path": "__notebook__.ipynb",
   "parameters": {},
   "start_time": "2025-07-31T15:56:23.400840",
   "version": "2.6.0"
  }
 },
 "nbformat": 4,
 "nbformat_minor": 5
}
