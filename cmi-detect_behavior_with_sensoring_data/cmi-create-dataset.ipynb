{
 "cells": [
  {
   "cell_type": "code",
   "execution_count": 1,
   "id": "765e1d91",
   "metadata": {
    "execution": {
     "iopub.execute_input": "2025-07-23T14:35:46.298215Z",
     "iopub.status.busy": "2025-07-23T14:35:46.297854Z",
     "iopub.status.idle": "2025-07-23T14:36:04.766825Z",
     "shell.execute_reply": "2025-07-23T14:36:04.765915Z"
    },
    "papermill": {
     "duration": 18.477401,
     "end_time": "2025-07-23T14:36:04.768628",
     "exception": false,
     "start_time": "2025-07-23T14:35:46.291227",
     "status": "completed"
    },
    "tags": []
   },
   "outputs": [
    {
     "name": "stderr",
     "output_type": "stream",
     "text": [
      "2025-07-23 14:35:49.719213: E external/local_xla/xla/stream_executor/cuda/cuda_fft.cc:477] Unable to register cuFFT factory: Attempting to register factory for plugin cuFFT when one has already been registered\n",
      "WARNING: All log messages before absl::InitializeLog() is called are written to STDERR\n",
      "E0000 00:00:1753281349.939106      13 cuda_dnn.cc:8310] Unable to register cuDNN factory: Attempting to register factory for plugin cuDNN when one has already been registered\n",
      "E0000 00:00:1753281350.001295      13 cuda_blas.cc:1418] Unable to register cuBLAS factory: Attempting to register factory for plugin cuBLAS when one has already been registered\n"
     ]
    }
   ],
   "source": [
    "import numpy as np\n",
    "import pandas as pd\n",
    "import matplotlib.pyplot as plt\n",
    "import tensorflow as tf\n",
    "import warnings\n",
    "from itertools import product\n",
    "from sklearn.preprocessing import OneHotEncoder\n",
    "warnings.filterwarnings(\"ignore\")"
   ]
  },
  {
   "cell_type": "code",
   "execution_count": 2,
   "id": "5d7581c2",
   "metadata": {
    "execution": {
     "iopub.execute_input": "2025-07-23T14:36:04.779800Z",
     "iopub.status.busy": "2025-07-23T14:36:04.779252Z",
     "iopub.status.idle": "2025-07-23T14:37:44.167680Z",
     "shell.execute_reply": "2025-07-23T14:37:44.166721Z"
    },
    "papermill": {
     "duration": 99.39589,
     "end_time": "2025-07-23T14:37:44.169641",
     "exception": false,
     "start_time": "2025-07-23T14:36:04.773751",
     "status": "completed"
    },
    "tags": []
   },
   "outputs": [],
   "source": [
    "train_df = pd.read_csv(\"/kaggle/input/preprocessed-dataset/preprocessed_train.csv\")\n",
    "test_df = pd.read_csv(\"/kaggle/input/preprocessed-dataset/preprocessed_test.csv\")"
   ]
  },
  {
   "cell_type": "code",
   "execution_count": 3,
   "id": "67a6dcce",
   "metadata": {
    "execution": {
     "iopub.execute_input": "2025-07-23T14:37:44.181081Z",
     "iopub.status.busy": "2025-07-23T14:37:44.180347Z",
     "iopub.status.idle": "2025-07-23T14:37:44.216695Z",
     "shell.execute_reply": "2025-07-23T14:37:44.215812Z"
    },
    "papermill": {
     "duration": 0.043341,
     "end_time": "2025-07-23T14:37:44.218327",
     "exception": false,
     "start_time": "2025-07-23T14:37:44.174986",
     "status": "completed"
    },
    "tags": []
   },
   "outputs": [
    {
     "data": {
      "text/plain": [
       "array(['Target', 'Non-Target'], dtype=object)"
      ]
     },
     "execution_count": 3,
     "metadata": {},
     "output_type": "execute_result"
    }
   ],
   "source": [
    "train_df[\"sequence_type\"].unique()"
   ]
  },
  {
   "cell_type": "code",
   "execution_count": 4,
   "id": "61ff26e3",
   "metadata": {
    "execution": {
     "iopub.execute_input": "2025-07-23T14:37:44.228854Z",
     "iopub.status.busy": "2025-07-23T14:37:44.228534Z",
     "iopub.status.idle": "2025-07-23T14:37:44.268725Z",
     "shell.execute_reply": "2025-07-23T14:37:44.267775Z"
    },
    "papermill": {
     "duration": 0.047527,
     "end_time": "2025-07-23T14:37:44.270640",
     "exception": false,
     "start_time": "2025-07-23T14:37:44.223113",
     "status": "completed"
    },
    "tags": []
   },
   "outputs": [],
   "source": [
    "type_mapping = {\"Target\": 1, \"Non-Target\": 0}\n",
    "train_df[\"sequence_type\"] = train_df[\"sequence_type\"].map(type_mapping)"
   ]
  },
  {
   "cell_type": "code",
   "execution_count": 5,
   "id": "53b2408c",
   "metadata": {
    "execution": {
     "iopub.execute_input": "2025-07-23T14:37:44.281091Z",
     "iopub.status.busy": "2025-07-23T14:37:44.280743Z",
     "iopub.status.idle": "2025-07-23T14:37:45.388364Z",
     "shell.execute_reply": "2025-07-23T14:37:45.387374Z"
    },
    "papermill": {
     "duration": 1.114703,
     "end_time": "2025-07-23T14:37:45.390126",
     "exception": false,
     "start_time": "2025-07-23T14:37:44.275423",
     "status": "completed"
    },
    "tags": []
   },
   "outputs": [],
   "source": [
    "gestures = pd.get_dummies(train_df[\"gesture\"])\n",
    "train_df = pd.concat([train_df, gestures], axis=1)\n",
    "train_df = train_df.drop([\"gesture\"], axis=1)"
   ]
  },
  {
   "cell_type": "code",
   "execution_count": 6,
   "id": "6ab5a0e6",
   "metadata": {
    "execution": {
     "iopub.execute_input": "2025-07-23T14:37:45.402742Z",
     "iopub.status.busy": "2025-07-23T14:37:45.402417Z",
     "iopub.status.idle": "2025-07-23T14:37:45.406567Z",
     "shell.execute_reply": "2025-07-23T14:37:45.405725Z"
    },
    "papermill": {
     "duration": 0.011131,
     "end_time": "2025-07-23T14:37:45.408006",
     "exception": false,
     "start_time": "2025-07-23T14:37:45.396875",
     "status": "completed"
    },
    "tags": []
   },
   "outputs": [],
   "source": [
    "gesture_mapping = {gesture: i for i, gesture in enumerate(gestures)}"
   ]
  },
  {
   "cell_type": "code",
   "execution_count": 7,
   "id": "a3a3192b",
   "metadata": {
    "execution": {
     "iopub.execute_input": "2025-07-23T14:37:45.419349Z",
     "iopub.status.busy": "2025-07-23T14:37:45.419060Z",
     "iopub.status.idle": "2025-07-23T14:37:45.549799Z",
     "shell.execute_reply": "2025-07-23T14:37:45.548934Z"
    },
    "papermill": {
     "duration": 0.138806,
     "end_time": "2025-07-23T14:37:45.551445",
     "exception": false,
     "start_time": "2025-07-23T14:37:45.412639",
     "status": "completed"
    },
    "tags": []
   },
   "outputs": [],
   "source": [
    "from sklearn.model_selection import train_test_split\n",
    "tf.random.set_seed(42)\n",
    "acc_columns = [\"acc_x\", \"acc_y\", \"acc_z\"]\n",
    "rot_columns = [\"rot_w\", \"rot_x\", \"rot_y\", \"rot_z\"]\n",
    "thm_columns = [\"thm_1\", \"thm_2\", \"thm_3\", \"thm_4\", \"thm_5\"]\n",
    "\n",
    "i_list = range(1, 6)\n",
    "j_list = range(64)\n",
    "comb = list(product(i_list, j_list))\n",
    "tof_columns = [f\"tof_{i}_v{j}\" for i, j in comb]\n",
    "\n",
    "def create_dataset(df, max_length=100, batch_size=16, mode=\"train\", train_size=0.8):\n",
    "    seq_ids = df[\"sequence_id\"].values\n",
    "    seq_counters = df[\"sequence_counter\"].values\n",
    "    seq_starts = np.array(df[df[\"sequence_counter\"]==0].index)\n",
    "    seq_lengths = np.diff(np.concatenate([seq_starts, np.array([len(df)])]), n=1)\n",
    "    \n",
    "    images = df[tof_columns].to_numpy()   # (samples, 5*64)\n",
    "    images = images.reshape(-1, 64, 5)\n",
    "    images = images.reshape(-1, 8, 8, 5)\n",
    "    images = tf.convert_to_tensor(images, dtype=tf.float64)\n",
    "\n",
    "    others = df[acc_columns + rot_columns + thm_columns].to_numpy()\n",
    "    others = tf.convert_to_tensor(others, dtype=tf.float64)\n",
    "\n",
    "    feature_columns = ['acc_x_mean', 'acc_y_mean', 'acc_z_mean',\n",
    "                       'thm_1_std', 'thm_2_std', 'thm_3_std', 'thm_4_std', 'thm_5_std',\n",
    "                       'adult_child', 'age', 'sex', 'height_cm', \n",
    "                       'shoulder_to_wrist_cm', 'elbow_to_wrist_cm']\n",
    "    features = df[feature_columns].to_numpy()\n",
    "    features = tf.convert_to_tensor(features, dtype=tf.float64)\n",
    "\n",
    "    if mode != \"test\":\n",
    "        sequence_types = df[[\"sequence_type\"]].values\n",
    "        gestures = df[gesture_mapping.keys()].values\n",
    "        targets = np.concatenate([sequence_types, gestures], axis=1)\n",
    "        targets = tf.convert_to_tensor(targets, dtype=tf.float64)\n",
    "        inputs = (images, others, features, targets)\n",
    "        inputs, targets = create_window(inputs, seq_starts, seq_lengths, \n",
    "                                        max_length, mode)\n",
    "        ids = np.arange(len(targets))\n",
    "        train_ids, valid_ids = train_test_split(ids, train_size=train_size, stratify=tf.argmax(targets[:, 1:], axis=-1), random_state=42)\n",
    "        inputs_train = (\n",
    "            tf.gather(inputs[0], train_ids),\n",
    "            tf.gather(inputs[1], train_ids),\n",
    "            tf.gather(inputs[2], train_ids)\n",
    "        )\n",
    "        inputs_valid = (\n",
    "            tf.gather(inputs[0], valid_ids),\n",
    "            tf.gather(inputs[1], valid_ids),\n",
    "            tf.gather(inputs[2], valid_ids)\n",
    "        )\n",
    "        targets_train, targets_valid = tf.gather(targets, train_ids), tf.gather(targets, valid_ids)\n",
    "        # targets_train, targets_valid = targets[train_ids], targets[valid_ids]\n",
    "        # inputs_train, inputs_valid, targets_train, targets_valid = train_test_split(\n",
    "        #     (inputs[0], inputs[1], inputs[2]), targets, train_size=train_size, stratify=targets[:, :1]\n",
    "        # )\n",
    "        type_train_ds = tf.data.Dataset.from_tensor_slices((inputs_train, targets_train[:, :1]))\n",
    "        type_train_ds = type_train_ds.shuffle(len(inputs_train)).batch(batch_size)\n",
    "        gesture_train_ds = tf.data.Dataset.from_tensor_slices((inputs_train, targets_train[:, 1:]))\n",
    "        gesture_train_ds = gesture_train_ds.shuffle(len(inputs_train)).batch(batch_size)\n",
    "\n",
    "        type_valid_ds = tf.data.Dataset.from_tensor_slices((inputs_valid, targets_valid[:, :1]))\n",
    "        type_valid_ds = type_valid_ds.shuffle(len(inputs_valid)).batch(batch_size)\n",
    "        gesture_valid_ds = tf.data.Dataset.from_tensor_slices((inputs_valid, targets_valid[:, 1:]))\n",
    "        gesture_valid_ds = gesture_valid_ds.shuffle(len(inputs_valid)).batch(batch_size)\n",
    "        return type_train_ds, type_valid_ds, gesture_train_ds, gesture_valid_ds\n",
    "    else:\n",
    "        inputs = (images, others, features)\n",
    "        inputs = create_window(inputs, seq_starts, seq_lengths, \n",
    "                               max_length, mode)\n",
    "        test_ds = tf.data.Dataset.from_tensor_slices(inputs)\n",
    "        test_ds = test_ds.batch(batch_size)\n",
    "    return test_ds\n",
    "\n",
    "\n",
    "def create_window(inputs, seq_starts, seq_lengths, max_length=100, mode=\"train\"):\n",
    "    images = inputs[0]\n",
    "    others = inputs[1]\n",
    "    features = inputs[2]\n",
    "\n",
    "    image_windows = []\n",
    "    other_windows = []\n",
    "    feature_windows = []\n",
    "\n",
    "    if mode != \"test\":\n",
    "        targets = inputs[3]\n",
    "        target_windows = []\n",
    "    \n",
    "    for start, length in zip(seq_starts, seq_lengths):\n",
    "        if length < max_length:\n",
    "            image_window = images[start:start+length]\n",
    "            other_window = others[start:start+length]\n",
    "        else:\n",
    "            image_window = images[start:start+100]\n",
    "            other_window = others[start:start+100]\n",
    "        feature_window = features[start]\n",
    "        if mode != \"test\":\n",
    "            target_window = targets[start]\n",
    "        if length < max_length:\n",
    "            image_window = tf.pad(image_window, \n",
    "                                  tf.constant([[0, max_length-length],\n",
    "                                               [0, 0],\n",
    "                                               [0, 0],\n",
    "                                               [0, 0]]))\n",
    "            other_window = tf.pad(other_window, \n",
    "                                  tf.constant([[0, max_length-length],\n",
    "                                               [0, 0]]))\n",
    "        image_windows.append(image_window)\n",
    "        other_windows.append(other_window)\n",
    "        feature_windows.append(feature_window)\n",
    "        if mode != \"test\":\n",
    "            target_windows.append(target_window)\n",
    "\n",
    "    image_windows = tf.stack(image_windows)\n",
    "    other_windows = tf.stack(other_windows)\n",
    "    feature_windows = tf.stack(feature_windows)\n",
    "\n",
    "    if mode != \"test\":\n",
    "        target_windows = tf.stack(target_windows)\n",
    "        return (image_windows, other_windows, feature_windows), target_windows\n",
    "    else:\n",
    "        return (image_windows, other_windows, feature_windows)"
   ]
  },
  {
   "cell_type": "code",
   "execution_count": 8,
   "id": "7a0a76cb",
   "metadata": {
    "execution": {
     "iopub.execute_input": "2025-07-23T14:37:45.561934Z",
     "iopub.status.busy": "2025-07-23T14:37:45.561614Z",
     "iopub.status.idle": "2025-07-23T14:37:45.566469Z",
     "shell.execute_reply": "2025-07-23T14:37:45.565518Z"
    },
    "papermill": {
     "duration": 0.011729,
     "end_time": "2025-07-23T14:37:45.568020",
     "exception": false,
     "start_time": "2025-07-23T14:37:45.556291",
     "status": "completed"
    },
    "tags": []
   },
   "outputs": [],
   "source": [
    "def get_sequence_targets(df):\n",
    "    seq_ids = df[\"sequence_id\"].values\n",
    "    seq_starts = np.array(df[df[\"sequence_counter\"]==0].index)\n",
    "    sequence_targets = df.loc[seq_starts, \"sequence_type\"].values\n",
    "    return sequence_targets"
   ]
  },
  {
   "cell_type": "code",
   "execution_count": 9,
   "id": "f3b57160",
   "metadata": {
    "execution": {
     "iopub.execute_input": "2025-07-23T14:37:45.578520Z",
     "iopub.status.busy": "2025-07-23T14:37:45.578249Z",
     "iopub.status.idle": "2025-07-23T14:37:45.582886Z",
     "shell.execute_reply": "2025-07-23T14:37:45.582155Z"
    },
    "papermill": {
     "duration": 0.011452,
     "end_time": "2025-07-23T14:37:45.584294",
     "exception": false,
     "start_time": "2025-07-23T14:37:45.572842",
     "status": "completed"
    },
    "tags": []
   },
   "outputs": [],
   "source": [
    "gesture_columns = gestures.columns\n",
    "def get_sequence_gestures(df):\n",
    "    seq_ids = df[\"sequence_id\"].values\n",
    "    seq_starts = np.array(df[df[\"sequence_counter\"]==0].index)\n",
    "    sequence_gestures = df.loc[seq_starts, gesture_columns]\n",
    "    return sequence_gestures"
   ]
  },
  {
   "cell_type": "code",
   "execution_count": 10,
   "id": "3a0f0b02",
   "metadata": {
    "execution": {
     "iopub.execute_input": "2025-07-23T14:37:45.594889Z",
     "iopub.status.busy": "2025-07-23T14:37:45.594551Z",
     "iopub.status.idle": "2025-07-23T14:38:02.452160Z",
     "shell.execute_reply": "2025-07-23T14:38:02.451408Z"
    },
    "papermill": {
     "duration": 16.864597,
     "end_time": "2025-07-23T14:38:02.453690",
     "exception": false,
     "start_time": "2025-07-23T14:37:45.589093",
     "status": "completed"
    },
    "tags": []
   },
   "outputs": [
    {
     "name": "stderr",
     "output_type": "stream",
     "text": [
      "2025-07-23 14:37:46.698646: E external/local_xla/xla/stream_executor/cuda/cuda_driver.cc:152] failed call to cuInit: INTERNAL: CUDA error: Failed call to cuInit: UNKNOWN ERROR (303)\n"
     ]
    }
   ],
   "source": [
    "type_train_ds, type_valid_ds, gesture_train_ds, gesture_valid_ds = create_dataset(train_df)"
   ]
  },
  {
   "cell_type": "code",
   "execution_count": 11,
   "id": "05ee7f1a",
   "metadata": {
    "execution": {
     "iopub.execute_input": "2025-07-23T14:38:02.464713Z",
     "iopub.status.busy": "2025-07-23T14:38:02.463903Z",
     "iopub.status.idle": "2025-07-23T14:38:02.505172Z",
     "shell.execute_reply": "2025-07-23T14:38:02.504129Z"
    },
    "papermill": {
     "duration": 0.048237,
     "end_time": "2025-07-23T14:38:02.506751",
     "exception": false,
     "start_time": "2025-07-23T14:38:02.458514",
     "status": "completed"
    },
    "tags": []
   },
   "outputs": [
    {
     "name": "stdout",
     "output_type": "stream",
     "text": [
      "2828\n",
      "4767\n"
     ]
    }
   ],
   "source": [
    "sequence_targets = get_sequence_targets(train_df)\n",
    "print(len(sequence_targets[sequence_targets == 0]))\n",
    "print(len(sequence_targets[sequence_targets == 1]))"
   ]
  },
  {
   "cell_type": "code",
   "execution_count": 12,
   "id": "08781442",
   "metadata": {
    "execution": {
     "iopub.execute_input": "2025-07-23T14:38:02.517372Z",
     "iopub.status.busy": "2025-07-23T14:38:02.517102Z",
     "iopub.status.idle": "2025-07-23T14:38:02.522157Z",
     "shell.execute_reply": "2025-07-23T14:38:02.521336Z"
    },
    "papermill": {
     "duration": 0.011992,
     "end_time": "2025-07-23T14:38:02.523582",
     "exception": false,
     "start_time": "2025-07-23T14:38:02.511590",
     "status": "completed"
    },
    "tags": []
   },
   "outputs": [],
   "source": [
    "len_target = len(sequence_targets[sequence_targets == 1])\n",
    "len_non_target = len(sequence_targets[sequence_targets == 0])\n",
    "type_sample_weight = (len_target/len_non_target, len_target/len_target)"
   ]
  },
  {
   "cell_type": "code",
   "execution_count": 13,
   "id": "caccb81a",
   "metadata": {
    "execution": {
     "iopub.execute_input": "2025-07-23T14:38:02.534603Z",
     "iopub.status.busy": "2025-07-23T14:38:02.534045Z",
     "iopub.status.idle": "2025-07-23T14:38:02.539651Z",
     "shell.execute_reply": "2025-07-23T14:38:02.538720Z"
    },
    "papermill": {
     "duration": 0.01289,
     "end_time": "2025-07-23T14:38:02.541162",
     "exception": false,
     "start_time": "2025-07-23T14:38:02.528272",
     "status": "completed"
    },
    "tags": []
   },
   "outputs": [
    {
     "data": {
      "text/plain": [
       "(1.6856435643564356, 1.0)"
      ]
     },
     "execution_count": 13,
     "metadata": {},
     "output_type": "execute_result"
    }
   ],
   "source": [
    "type_sample_weight"
   ]
  },
  {
   "cell_type": "code",
   "execution_count": 14,
   "id": "c13c139b",
   "metadata": {
    "execution": {
     "iopub.execute_input": "2025-07-23T14:38:02.552235Z",
     "iopub.status.busy": "2025-07-23T14:38:02.551593Z",
     "iopub.status.idle": "2025-07-23T14:38:02.557390Z",
     "shell.execute_reply": "2025-07-23T14:38:02.556533Z"
    },
    "papermill": {
     "duration": 0.012625,
     "end_time": "2025-07-23T14:38:02.558632",
     "exception": false,
     "start_time": "2025-07-23T14:38:02.546007",
     "status": "completed"
    },
    "tags": []
   },
   "outputs": [
    {
     "data": {
      "text/plain": [
       "Index(['Above ear - pull hair', 'Cheek - pinch skin', 'Drink from bottle/cup',\n",
       "       'Eyebrow - pull hair', 'Eyelash - pull hair',\n",
       "       'Feel around in tray and pull out an object',\n",
       "       'Forehead - pull hairline', 'Forehead - scratch', 'Glasses on/off',\n",
       "       'Neck - pinch skin', 'Neck - scratch', 'Pinch knee/leg skin',\n",
       "       'Pull air toward your face', 'Scratch knee/leg skin', 'Text on phone',\n",
       "       'Wave hello', 'Write name in air', 'Write name on leg'],\n",
       "      dtype='object')"
      ]
     },
     "execution_count": 14,
     "metadata": {},
     "output_type": "execute_result"
    }
   ],
   "source": [
    "gestures.columns"
   ]
  },
  {
   "cell_type": "code",
   "execution_count": 15,
   "id": "8d1bd97a",
   "metadata": {
    "execution": {
     "iopub.execute_input": "2025-07-23T14:38:02.569837Z",
     "iopub.status.busy": "2025-07-23T14:38:02.569007Z",
     "iopub.status.idle": "2025-07-23T14:38:02.621301Z",
     "shell.execute_reply": "2025-07-23T14:38:02.620348Z"
    },
    "papermill": {
     "duration": 0.059564,
     "end_time": "2025-07-23T14:38:02.622987",
     "exception": false,
     "start_time": "2025-07-23T14:38:02.563423",
     "status": "completed"
    },
    "tags": []
   },
   "outputs": [],
   "source": [
    "non_target_gestures = [\"Drink from bottle/cup\", \"Glasses on/off\", \"Pull air toward your face\",\n",
    "                       \"Pinch knee/leg skin\", \"Scratch knee/leg skin\", \"Write name on leg\",\n",
    "                       \"Text on phone\", \"Feel around in tray and pull out an object\",\n",
    "                       \"Write name in air\", \"Wave hello\"]\n",
    "sequence_gestures = get_sequence_gestures(train_df)\n",
    "all_count = sequence_gestures.sum()\n",
    "non_target_count = all_count[non_target_gestures]\n",
    "non_target_sum = non_target_count.sum()\n",
    "all_count[non_target_gestures] = non_target_sum\n",
    "all_count = non_target_sum / all_count\n",
    "gesture_sample_weight = tuple(all_count.values)"
   ]
  },
  {
   "cell_type": "code",
   "execution_count": 16,
   "id": "5a905490",
   "metadata": {
    "execution": {
     "iopub.execute_input": "2025-07-23T14:38:02.633900Z",
     "iopub.status.busy": "2025-07-23T14:38:02.633591Z",
     "iopub.status.idle": "2025-07-23T14:38:02.639418Z",
     "shell.execute_reply": "2025-07-23T14:38:02.638372Z"
    },
    "papermill": {
     "duration": 0.012838,
     "end_time": "2025-07-23T14:38:02.640893",
     "exception": false,
     "start_time": "2025-07-23T14:38:02.628055",
     "status": "completed"
    },
    "tags": []
   },
   "outputs": [
    {
     "data": {
      "text/plain": [
       "(4.768971332209106,\n",
       " 4.74496644295302,\n",
       " 1.0,\n",
       " 4.7851099830795265,\n",
       " 4.768971332209106,\n",
       " 1.0,\n",
       " 4.7370184254606365,\n",
       " 4.7370184254606365,\n",
       " 1.0,\n",
       " 4.705490848585691,\n",
       " 4.721202003338898,\n",
       " 1.0,\n",
       " 1.0,\n",
       " 1.0,\n",
       " 1.0,\n",
       " 1.0,\n",
       " 1.0,\n",
       " 1.0)"
      ]
     },
     "execution_count": 16,
     "metadata": {},
     "output_type": "execute_result"
    }
   ],
   "source": [
    "gesture_sample_weight"
   ]
  },
  {
   "cell_type": "code",
   "execution_count": 17,
   "id": "da5d3b6a",
   "metadata": {
    "execution": {
     "iopub.execute_input": "2025-07-23T14:38:02.652514Z",
     "iopub.status.busy": "2025-07-23T14:38:02.651582Z",
     "iopub.status.idle": "2025-07-23T14:38:02.658894Z",
     "shell.execute_reply": "2025-07-23T14:38:02.658097Z"
    },
    "papermill": {
     "duration": 0.014421,
     "end_time": "2025-07-23T14:38:02.660196",
     "exception": false,
     "start_time": "2025-07-23T14:38:02.645775",
     "status": "completed"
    },
    "tags": []
   },
   "outputs": [
    {
     "name": "stdout",
     "output_type": "stream",
     "text": [
      "380\n",
      "95\n",
      "380\n",
      "95\n"
     ]
    }
   ],
   "source": [
    "print(len(type_train_ds))\n",
    "print(len(type_valid_ds))\n",
    "print(len(gesture_train_ds))\n",
    "print(len(gesture_valid_ds))"
   ]
  },
  {
   "cell_type": "code",
   "execution_count": 18,
   "id": "2e3d4b43",
   "metadata": {
    "execution": {
     "iopub.execute_input": "2025-07-23T14:38:02.671551Z",
     "iopub.status.busy": "2025-07-23T14:38:02.670893Z",
     "iopub.status.idle": "2025-07-23T14:38:04.202144Z",
     "shell.execute_reply": "2025-07-23T14:38:04.201078Z"
    },
    "papermill": {
     "duration": 1.538363,
     "end_time": "2025-07-23T14:38:04.203540",
     "exception": false,
     "start_time": "2025-07-23T14:38:02.665177",
     "status": "completed"
    },
    "tags": []
   },
   "outputs": [
    {
     "name": "stdout",
     "output_type": "stream",
     "text": [
      "(16, 100, 8, 8, 5)\n",
      "(16, 100, 12)\n",
      "(16, 14)\n",
      "(16, 1)\n"
     ]
    }
   ],
   "source": [
    "# Check dataset shape\n",
    "for i, (inputs, targets) in enumerate(type_train_ds):\n",
    "    if i == 0:\n",
    "        print(inputs[0].shape)        # Image (TOF)\n",
    "        print(inputs[1].shape)        # Other time-series\n",
    "        print(inputs[2].shape)        # Feature\n",
    "        print(targets.shape)          # Target or Non-Target\n",
    "        break"
   ]
  },
  {
   "cell_type": "code",
   "execution_count": 19,
   "id": "905a8091",
   "metadata": {
    "execution": {
     "iopub.execute_input": "2025-07-23T14:38:04.215057Z",
     "iopub.status.busy": "2025-07-23T14:38:04.214724Z",
     "iopub.status.idle": "2025-07-23T14:38:05.685781Z",
     "shell.execute_reply": "2025-07-23T14:38:05.684549Z"
    },
    "papermill": {
     "duration": 1.478644,
     "end_time": "2025-07-23T14:38:05.687327",
     "exception": false,
     "start_time": "2025-07-23T14:38:04.208683",
     "status": "completed"
    },
    "tags": []
   },
   "outputs": [
    {
     "name": "stdout",
     "output_type": "stream",
     "text": [
      "(16, 100, 8, 8, 5)\n",
      "(16, 100, 12)\n",
      "(16, 14)\n",
      "(16, 18)\n"
     ]
    }
   ],
   "source": [
    "for i, (inputs, targets) in enumerate(gesture_train_ds):\n",
    "    if i == 0:\n",
    "        print(inputs[0].shape)        # Image (TOF)\n",
    "        print(inputs[1].shape)        # Other time-series\n",
    "        print(inputs[2].shape)        # Feature\n",
    "        print(targets.shape)          # Gesture\n",
    "        break"
   ]
  },
  {
   "cell_type": "code",
   "execution_count": 20,
   "id": "72214382",
   "metadata": {
    "execution": {
     "iopub.execute_input": "2025-07-23T14:38:05.698748Z",
     "iopub.status.busy": "2025-07-23T14:38:05.698437Z",
     "iopub.status.idle": "2025-07-23T14:38:05.715538Z",
     "shell.execute_reply": "2025-07-23T14:38:05.714710Z"
    },
    "papermill": {
     "duration": 0.024688,
     "end_time": "2025-07-23T14:38:05.717202",
     "exception": false,
     "start_time": "2025-07-23T14:38:05.692514",
     "status": "completed"
    },
    "tags": []
   },
   "outputs": [],
   "source": [
    "test_ds = create_dataset(test_df, mode=\"test\")"
   ]
  },
  {
   "cell_type": "code",
   "execution_count": 21,
   "id": "05e9f75a",
   "metadata": {
    "execution": {
     "iopub.execute_input": "2025-07-23T14:38:05.728459Z",
     "iopub.status.busy": "2025-07-23T14:38:05.728193Z",
     "iopub.status.idle": "2025-07-23T14:38:05.745091Z",
     "shell.execute_reply": "2025-07-23T14:38:05.744002Z"
    },
    "papermill": {
     "duration": 0.024773,
     "end_time": "2025-07-23T14:38:05.747167",
     "exception": false,
     "start_time": "2025-07-23T14:38:05.722394",
     "status": "completed"
    },
    "tags": []
   },
   "outputs": [
    {
     "name": "stdout",
     "output_type": "stream",
     "text": [
      "(2, 100, 8, 8, 5)\n",
      "(2, 100, 12)\n",
      "(2, 14)\n"
     ]
    }
   ],
   "source": [
    "# Check dataset shape\n",
    "for inputs in test_ds:\n",
    "    print(inputs[0].shape)        # Image (TOF)\n",
    "    print(inputs[1].shape)        # Other time-series\n",
    "    print(inputs[2].shape)        # Feature"
   ]
  },
  {
   "cell_type": "code",
   "execution_count": 22,
   "id": "c9e7f68a",
   "metadata": {
    "execution": {
     "iopub.execute_input": "2025-07-23T14:38:05.765865Z",
     "iopub.status.busy": "2025-07-23T14:38:05.764424Z",
     "iopub.status.idle": "2025-07-23T14:38:17.713662Z",
     "shell.execute_reply": "2025-07-23T14:38:17.712433Z"
    },
    "papermill": {
     "duration": 11.960716,
     "end_time": "2025-07-23T14:38:17.716047",
     "exception": false,
     "start_time": "2025-07-23T14:38:05.755331",
     "status": "completed"
    },
    "tags": []
   },
   "outputs": [],
   "source": [
    "import os\n",
    "output_path = \"/kaggle/working/\"\n",
    "type_train_path = os.path.join(output_path, \"type_train_ds\")\n",
    "type_valid_path = os.path.join(output_path, \"type_valid_ds\")\n",
    "gesture_train_path = os.path.join(output_path, \"gesture_train_ds\")\n",
    "gesture_valid_path = os.path.join(output_path, \"gesture_valid_ds\")\n",
    "test_path = os.path.join(output_path, \"test_ds\")\n",
    "\n",
    "tf.data.experimental.save(type_train_ds, type_train_path)\n",
    "tf.data.experimental.save(type_valid_ds, type_valid_path)\n",
    "tf.data.experimental.save(gesture_train_ds, gesture_train_path)\n",
    "tf.data.experimental.save(gesture_valid_ds, gesture_valid_path)\n",
    "tf.data.experimental.save(test_ds, test_path)"
   ]
  },
  {
   "cell_type": "code",
   "execution_count": 23,
   "id": "fb2e7c86",
   "metadata": {
    "execution": {
     "iopub.execute_input": "2025-07-23T14:38:17.797848Z",
     "iopub.status.busy": "2025-07-23T14:38:17.797349Z",
     "iopub.status.idle": "2025-07-23T14:38:17.805456Z",
     "shell.execute_reply": "2025-07-23T14:38:17.804534Z"
    },
    "papermill": {
     "duration": 0.02587,
     "end_time": "2025-07-23T14:38:17.807626",
     "exception": false,
     "start_time": "2025-07-23T14:38:17.781756",
     "status": "completed"
    },
    "tags": []
   },
   "outputs": [],
   "source": [
    "import json\n",
    "\n",
    "mapping_dicts = {\n",
    "    \"type_mapping\":type_mapping, \n",
    "    \"gesture_mapping\": gesture_mapping\n",
    "}\n",
    "\n",
    "dict_path = os.path.join(output_path, \"mapping.json\")\n",
    "with open(dict_path, \"w\") as f:\n",
    "    json.dump(mapping_dicts, f, indent=2)"
   ]
  },
  {
   "cell_type": "code",
   "execution_count": 24,
   "id": "ddfc9ef3",
   "metadata": {
    "execution": {
     "iopub.execute_input": "2025-07-23T14:38:17.939835Z",
     "iopub.status.busy": "2025-07-23T14:38:17.938809Z",
     "iopub.status.idle": "2025-07-23T14:38:17.946217Z",
     "shell.execute_reply": "2025-07-23T14:38:17.945130Z"
    },
    "papermill": {
     "duration": 0.080342,
     "end_time": "2025-07-23T14:38:17.948443",
     "exception": false,
     "start_time": "2025-07-23T14:38:17.868101",
     "status": "completed"
    },
    "tags": []
   },
   "outputs": [],
   "source": [
    "sample_weight_dicts = {\n",
    "    \"type_sample_weight\": type_sample_weight,\n",
    "    \"gesture_sample_weight\": gesture_sample_weight\n",
    "}\n",
    "\n",
    "dict_path = os.path.join(output_path, \"sample_weight.json\")\n",
    "with open(dict_path, \"w\") as f:\n",
    "    json.dump(sample_weight_dicts, f, indent=2)"
   ]
  },
  {
   "cell_type": "code",
   "execution_count": null,
   "id": "c3b1451a",
   "metadata": {
    "papermill": {
     "duration": 0.014101,
     "end_time": "2025-07-23T14:38:18.034319",
     "exception": false,
     "start_time": "2025-07-23T14:38:18.020218",
     "status": "completed"
    },
    "tags": []
   },
   "outputs": [],
   "source": []
  }
 ],
 "metadata": {
  "kaggle": {
   "accelerator": "none",
   "dataSources": [
    {
     "databundleVersionId": 12518947,
     "sourceId": 102335,
     "sourceType": "competition"
    },
    {
     "datasetId": 7856290,
     "sourceId": 12454411,
     "sourceType": "datasetVersion"
    }
   ],
   "dockerImageVersionId": 31089,
   "isGpuEnabled": false,
   "isInternetEnabled": true,
   "language": "python",
   "sourceType": "notebook"
  },
  "kernelspec": {
   "display_name": "Python 3",
   "language": "python",
   "name": "python3"
  },
  "language_info": {
   "codemirror_mode": {
    "name": "ipython",
    "version": 3
   },
   "file_extension": ".py",
   "mimetype": "text/x-python",
   "name": "python",
   "nbconvert_exporter": "python",
   "pygments_lexer": "ipython3",
   "version": "3.11.13"
  },
  "papermill": {
   "default_parameters": {},
   "duration": 160.183363,
   "end_time": "2025-07-23T14:38:21.886568",
   "environment_variables": {},
   "exception": null,
   "input_path": "__notebook__.ipynb",
   "output_path": "__notebook__.ipynb",
   "parameters": {},
   "start_time": "2025-07-23T14:35:41.703205",
   "version": "2.6.0"
  }
 },
 "nbformat": 4,
 "nbformat_minor": 5
}
