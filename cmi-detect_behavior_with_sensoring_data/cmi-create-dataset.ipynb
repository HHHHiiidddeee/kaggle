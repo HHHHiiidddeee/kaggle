{
 "cells": [
  {
   "cell_type": "code",
   "execution_count": 1,
   "id": "88c25895",
   "metadata": {
    "execution": {
     "iopub.execute_input": "2025-08-09T05:31:18.219508Z",
     "iopub.status.busy": "2025-08-09T05:31:18.219170Z",
     "iopub.status.idle": "2025-08-09T05:31:39.787288Z",
     "shell.execute_reply": "2025-08-09T05:31:39.786205Z"
    },
    "papermill": {
     "duration": 21.577413,
     "end_time": "2025-08-09T05:31:39.789259",
     "exception": false,
     "start_time": "2025-08-09T05:31:18.211846",
     "status": "completed"
    },
    "tags": []
   },
   "outputs": [
    {
     "name": "stderr",
     "output_type": "stream",
     "text": [
      "2025-08-09 05:31:22.320890: E external/local_xla/xla/stream_executor/cuda/cuda_fft.cc:477] Unable to register cuFFT factory: Attempting to register factory for plugin cuFFT when one has already been registered\n",
      "WARNING: All log messages before absl::InitializeLog() is called are written to STDERR\n",
      "E0000 00:00:1754717482.594276      13 cuda_dnn.cc:8310] Unable to register cuDNN factory: Attempting to register factory for plugin cuDNN when one has already been registered\n",
      "E0000 00:00:1754717482.670447      13 cuda_blas.cc:1418] Unable to register cuBLAS factory: Attempting to register factory for plugin cuBLAS when one has already been registered\n"
     ]
    }
   ],
   "source": [
    "import numpy as np\n",
    "import pandas as pd\n",
    "import matplotlib.pyplot as plt\n",
    "import tensorflow as tf\n",
    "import warnings\n",
    "from itertools import product\n",
    "from sklearn.preprocessing import OneHotEncoder\n",
    "warnings.filterwarnings(\"ignore\")"
   ]
  },
  {
   "cell_type": "code",
   "execution_count": 2,
   "id": "6810444f",
   "metadata": {
    "execution": {
     "iopub.execute_input": "2025-08-09T05:31:39.803039Z",
     "iopub.status.busy": "2025-08-09T05:31:39.802344Z",
     "iopub.status.idle": "2025-08-09T05:33:09.771348Z",
     "shell.execute_reply": "2025-08-09T05:33:09.770323Z"
    },
    "papermill": {
     "duration": 89.978006,
     "end_time": "2025-08-09T05:33:09.773224",
     "exception": false,
     "start_time": "2025-08-09T05:31:39.795218",
     "status": "completed"
    },
    "tags": []
   },
   "outputs": [],
   "source": [
    "train_df = pd.read_csv(\"/kaggle/input/preprocessed-dataset/preprocessed_train.csv\")\n",
    "# test_df = pd.read_csv(\"/kaggle/input/preprocessed-dataset/preprocessed_test.csv\")"
   ]
  },
  {
   "cell_type": "code",
   "execution_count": 3,
   "id": "a9193bcf",
   "metadata": {
    "execution": {
     "iopub.execute_input": "2025-08-09T05:33:09.785529Z",
     "iopub.status.busy": "2025-08-09T05:33:09.785148Z",
     "iopub.status.idle": "2025-08-09T05:33:09.795001Z",
     "shell.execute_reply": "2025-08-09T05:33:09.793748Z"
    },
    "papermill": {
     "duration": 0.018122,
     "end_time": "2025-08-09T05:33:09.796919",
     "exception": false,
     "start_time": "2025-08-09T05:33:09.778797",
     "status": "completed"
    },
    "tags": []
   },
   "outputs": [
    {
     "data": {
      "text/plain": [
       "['index',\n",
       " 'row_id',\n",
       " 'sequence_type',\n",
       " 'sequence_id',\n",
       " 'sequence_counter',\n",
       " 'subject',\n",
       " 'orientation',\n",
       " 'behavior',\n",
       " 'phase',\n",
       " 'gesture',\n",
       " 'acc_x',\n",
       " 'acc_y',\n",
       " 'acc_z',\n",
       " 'rot_w',\n",
       " 'rot_x',\n",
       " 'rot_y',\n",
       " 'rot_z',\n",
       " 'thm_1',\n",
       " 'thm_2',\n",
       " 'thm_3',\n",
       " 'thm_4',\n",
       " 'thm_5',\n",
       " 'tof_1_v0',\n",
       " 'tof_1_v1',\n",
       " 'tof_1_v2',\n",
       " 'tof_1_v3',\n",
       " 'tof_1_v4',\n",
       " 'tof_1_v5',\n",
       " 'tof_1_v6',\n",
       " 'tof_1_v7',\n",
       " 'tof_1_v8',\n",
       " 'tof_1_v9',\n",
       " 'tof_1_v10',\n",
       " 'tof_1_v11',\n",
       " 'tof_1_v12',\n",
       " 'tof_1_v13',\n",
       " 'tof_1_v14',\n",
       " 'tof_1_v15',\n",
       " 'tof_1_v16',\n",
       " 'tof_1_v17',\n",
       " 'tof_1_v18',\n",
       " 'tof_1_v19',\n",
       " 'tof_1_v20',\n",
       " 'tof_1_v21',\n",
       " 'tof_1_v22',\n",
       " 'tof_1_v23',\n",
       " 'tof_1_v24',\n",
       " 'tof_1_v25',\n",
       " 'tof_1_v26',\n",
       " 'tof_1_v27',\n",
       " 'tof_1_v28',\n",
       " 'tof_1_v29',\n",
       " 'tof_1_v30',\n",
       " 'tof_1_v31',\n",
       " 'tof_1_v32',\n",
       " 'tof_1_v33',\n",
       " 'tof_1_v34',\n",
       " 'tof_1_v35',\n",
       " 'tof_1_v36',\n",
       " 'tof_1_v37',\n",
       " 'tof_1_v38',\n",
       " 'tof_1_v39',\n",
       " 'tof_1_v40',\n",
       " 'tof_1_v41',\n",
       " 'tof_1_v42',\n",
       " 'tof_1_v43',\n",
       " 'tof_1_v44',\n",
       " 'tof_1_v45',\n",
       " 'tof_1_v46',\n",
       " 'tof_1_v47',\n",
       " 'tof_1_v48',\n",
       " 'tof_1_v49',\n",
       " 'tof_1_v50',\n",
       " 'tof_1_v51',\n",
       " 'tof_1_v52',\n",
       " 'tof_1_v53',\n",
       " 'tof_1_v54',\n",
       " 'tof_1_v55',\n",
       " 'tof_1_v56',\n",
       " 'tof_1_v57',\n",
       " 'tof_1_v58',\n",
       " 'tof_1_v59',\n",
       " 'tof_1_v60',\n",
       " 'tof_1_v61',\n",
       " 'tof_1_v62',\n",
       " 'tof_1_v63',\n",
       " 'tof_2_v0',\n",
       " 'tof_2_v1',\n",
       " 'tof_2_v2',\n",
       " 'tof_2_v3',\n",
       " 'tof_2_v4',\n",
       " 'tof_2_v5',\n",
       " 'tof_2_v6',\n",
       " 'tof_2_v7',\n",
       " 'tof_2_v8',\n",
       " 'tof_2_v9',\n",
       " 'tof_2_v10',\n",
       " 'tof_2_v11',\n",
       " 'tof_2_v12',\n",
       " 'tof_2_v13',\n",
       " 'tof_2_v14',\n",
       " 'tof_2_v15',\n",
       " 'tof_2_v16',\n",
       " 'tof_2_v17',\n",
       " 'tof_2_v18',\n",
       " 'tof_2_v19',\n",
       " 'tof_2_v20',\n",
       " 'tof_2_v21',\n",
       " 'tof_2_v22',\n",
       " 'tof_2_v23',\n",
       " 'tof_2_v24',\n",
       " 'tof_2_v25',\n",
       " 'tof_2_v26',\n",
       " 'tof_2_v27',\n",
       " 'tof_2_v28',\n",
       " 'tof_2_v29',\n",
       " 'tof_2_v30',\n",
       " 'tof_2_v31',\n",
       " 'tof_2_v32',\n",
       " 'tof_2_v33',\n",
       " 'tof_2_v34',\n",
       " 'tof_2_v35',\n",
       " 'tof_2_v36',\n",
       " 'tof_2_v37',\n",
       " 'tof_2_v38',\n",
       " 'tof_2_v39',\n",
       " 'tof_2_v40',\n",
       " 'tof_2_v41',\n",
       " 'tof_2_v42',\n",
       " 'tof_2_v43',\n",
       " 'tof_2_v44',\n",
       " 'tof_2_v45',\n",
       " 'tof_2_v46',\n",
       " 'tof_2_v47',\n",
       " 'tof_2_v48',\n",
       " 'tof_2_v49',\n",
       " 'tof_2_v50',\n",
       " 'tof_2_v51',\n",
       " 'tof_2_v52',\n",
       " 'tof_2_v53',\n",
       " 'tof_2_v54',\n",
       " 'tof_2_v55',\n",
       " 'tof_2_v56',\n",
       " 'tof_2_v57',\n",
       " 'tof_2_v58',\n",
       " 'tof_2_v59',\n",
       " 'tof_2_v60',\n",
       " 'tof_2_v61',\n",
       " 'tof_2_v62',\n",
       " 'tof_2_v63',\n",
       " 'tof_3_v0',\n",
       " 'tof_3_v1',\n",
       " 'tof_3_v2',\n",
       " 'tof_3_v3',\n",
       " 'tof_3_v4',\n",
       " 'tof_3_v5',\n",
       " 'tof_3_v6',\n",
       " 'tof_3_v7',\n",
       " 'tof_3_v8',\n",
       " 'tof_3_v9',\n",
       " 'tof_3_v10',\n",
       " 'tof_3_v11',\n",
       " 'tof_3_v12',\n",
       " 'tof_3_v13',\n",
       " 'tof_3_v14',\n",
       " 'tof_3_v15',\n",
       " 'tof_3_v16',\n",
       " 'tof_3_v17',\n",
       " 'tof_3_v18',\n",
       " 'tof_3_v19',\n",
       " 'tof_3_v20',\n",
       " 'tof_3_v21',\n",
       " 'tof_3_v22',\n",
       " 'tof_3_v23',\n",
       " 'tof_3_v24',\n",
       " 'tof_3_v25',\n",
       " 'tof_3_v26',\n",
       " 'tof_3_v27',\n",
       " 'tof_3_v28',\n",
       " 'tof_3_v29',\n",
       " 'tof_3_v30',\n",
       " 'tof_3_v31',\n",
       " 'tof_3_v32',\n",
       " 'tof_3_v33',\n",
       " 'tof_3_v34',\n",
       " 'tof_3_v35',\n",
       " 'tof_3_v36',\n",
       " 'tof_3_v37',\n",
       " 'tof_3_v38',\n",
       " 'tof_3_v39',\n",
       " 'tof_3_v40',\n",
       " 'tof_3_v41',\n",
       " 'tof_3_v42',\n",
       " 'tof_3_v43',\n",
       " 'tof_3_v44',\n",
       " 'tof_3_v45',\n",
       " 'tof_3_v46',\n",
       " 'tof_3_v47',\n",
       " 'tof_3_v48',\n",
       " 'tof_3_v49',\n",
       " 'tof_3_v50',\n",
       " 'tof_3_v51',\n",
       " 'tof_3_v52',\n",
       " 'tof_3_v53',\n",
       " 'tof_3_v54',\n",
       " 'tof_3_v55',\n",
       " 'tof_3_v56',\n",
       " 'tof_3_v57',\n",
       " 'tof_3_v58',\n",
       " 'tof_3_v59',\n",
       " 'tof_3_v60',\n",
       " 'tof_3_v61',\n",
       " 'tof_3_v62',\n",
       " 'tof_3_v63',\n",
       " 'tof_4_v0',\n",
       " 'tof_4_v1',\n",
       " 'tof_4_v2',\n",
       " 'tof_4_v3',\n",
       " 'tof_4_v4',\n",
       " 'tof_4_v5',\n",
       " 'tof_4_v6',\n",
       " 'tof_4_v7',\n",
       " 'tof_4_v8',\n",
       " 'tof_4_v9',\n",
       " 'tof_4_v10',\n",
       " 'tof_4_v11',\n",
       " 'tof_4_v12',\n",
       " 'tof_4_v13',\n",
       " 'tof_4_v14',\n",
       " 'tof_4_v15',\n",
       " 'tof_4_v16',\n",
       " 'tof_4_v17',\n",
       " 'tof_4_v18',\n",
       " 'tof_4_v19',\n",
       " 'tof_4_v20',\n",
       " 'tof_4_v21',\n",
       " 'tof_4_v22',\n",
       " 'tof_4_v23',\n",
       " 'tof_4_v24',\n",
       " 'tof_4_v25',\n",
       " 'tof_4_v26',\n",
       " 'tof_4_v27',\n",
       " 'tof_4_v28',\n",
       " 'tof_4_v29',\n",
       " 'tof_4_v30',\n",
       " 'tof_4_v31',\n",
       " 'tof_4_v32',\n",
       " 'tof_4_v33',\n",
       " 'tof_4_v34',\n",
       " 'tof_4_v35',\n",
       " 'tof_4_v36',\n",
       " 'tof_4_v37',\n",
       " 'tof_4_v38',\n",
       " 'tof_4_v39',\n",
       " 'tof_4_v40',\n",
       " 'tof_4_v41',\n",
       " 'tof_4_v42',\n",
       " 'tof_4_v43',\n",
       " 'tof_4_v44',\n",
       " 'tof_4_v45',\n",
       " 'tof_4_v46',\n",
       " 'tof_4_v47',\n",
       " 'tof_4_v48',\n",
       " 'tof_4_v49',\n",
       " 'tof_4_v50',\n",
       " 'tof_4_v51',\n",
       " 'tof_4_v52',\n",
       " 'tof_4_v53',\n",
       " 'tof_4_v54',\n",
       " 'tof_4_v55',\n",
       " 'tof_4_v56',\n",
       " 'tof_4_v57',\n",
       " 'tof_4_v58',\n",
       " 'tof_4_v59',\n",
       " 'tof_4_v60',\n",
       " 'tof_4_v61',\n",
       " 'tof_4_v62',\n",
       " 'tof_4_v63',\n",
       " 'tof_5_v0',\n",
       " 'tof_5_v1',\n",
       " 'tof_5_v2',\n",
       " 'tof_5_v3',\n",
       " 'tof_5_v4',\n",
       " 'tof_5_v5',\n",
       " 'tof_5_v6',\n",
       " 'tof_5_v7',\n",
       " 'tof_5_v8',\n",
       " 'tof_5_v9',\n",
       " 'tof_5_v10',\n",
       " 'tof_5_v11',\n",
       " 'tof_5_v12',\n",
       " 'tof_5_v13',\n",
       " 'tof_5_v14',\n",
       " 'tof_5_v15',\n",
       " 'tof_5_v16',\n",
       " 'tof_5_v17',\n",
       " 'tof_5_v18',\n",
       " 'tof_5_v19',\n",
       " 'tof_5_v20',\n",
       " 'tof_5_v21',\n",
       " 'tof_5_v22',\n",
       " 'tof_5_v23',\n",
       " 'tof_5_v24',\n",
       " 'tof_5_v25',\n",
       " 'tof_5_v26',\n",
       " 'tof_5_v27',\n",
       " 'tof_5_v28',\n",
       " 'tof_5_v29',\n",
       " 'tof_5_v30',\n",
       " 'tof_5_v31',\n",
       " 'tof_5_v32',\n",
       " 'tof_5_v33',\n",
       " 'tof_5_v34',\n",
       " 'tof_5_v35',\n",
       " 'tof_5_v36',\n",
       " 'tof_5_v37',\n",
       " 'tof_5_v38',\n",
       " 'tof_5_v39',\n",
       " 'tof_5_v40',\n",
       " 'tof_5_v41',\n",
       " 'tof_5_v42',\n",
       " 'tof_5_v43',\n",
       " 'tof_5_v44',\n",
       " 'tof_5_v45',\n",
       " 'tof_5_v46',\n",
       " 'tof_5_v47',\n",
       " 'tof_5_v48',\n",
       " 'tof_5_v49',\n",
       " 'tof_5_v50',\n",
       " 'tof_5_v51',\n",
       " 'tof_5_v52',\n",
       " 'tof_5_v53',\n",
       " 'tof_5_v54',\n",
       " 'tof_5_v55',\n",
       " 'tof_5_v56',\n",
       " 'tof_5_v57',\n",
       " 'tof_5_v58',\n",
       " 'tof_5_v59',\n",
       " 'tof_5_v60',\n",
       " 'tof_5_v61',\n",
       " 'tof_5_v62',\n",
       " 'tof_5_v63',\n",
       " 'acc_r',\n",
       " 'acc_theta',\n",
       " 'acc_phi',\n",
       " 'rot_omega',\n",
       " 'rot_u_theta',\n",
       " 'rot_u_phi',\n",
       " 'thm_mean',\n",
       " 'acc_x_mean',\n",
       " 'acc_y_mean',\n",
       " 'acc_z_mean',\n",
       " 'thm_1_std',\n",
       " 'thm_2_std',\n",
       " 'thm_3_std',\n",
       " 'thm_4_std',\n",
       " 'thm_5_std',\n",
       " 'adult_child',\n",
       " 'age',\n",
       " 'sex',\n",
       " 'height_cm',\n",
       " 'shoulder_to_wrist_cm',\n",
       " 'elbow_to_wrist_cm']"
      ]
     },
     "execution_count": 3,
     "metadata": {},
     "output_type": "execute_result"
    }
   ],
   "source": [
    "list(train_df.columns)"
   ]
  },
  {
   "cell_type": "code",
   "execution_count": 4,
   "id": "78b2856c",
   "metadata": {
    "execution": {
     "iopub.execute_input": "2025-08-09T05:33:09.810497Z",
     "iopub.status.busy": "2025-08-09T05:33:09.810145Z",
     "iopub.status.idle": "2025-08-09T05:33:10.198853Z",
     "shell.execute_reply": "2025-08-09T05:33:10.197771Z"
    },
    "papermill": {
     "duration": 0.397546,
     "end_time": "2025-08-09T05:33:10.200793",
     "exception": false,
     "start_time": "2025-08-09T05:33:09.803247",
     "status": "completed"
    },
    "tags": []
   },
   "outputs": [
    {
     "data": {
      "image/png": "[encoded data removed]",
      "text/plain": [
       "<Figure size 640x480 with 1 Axes>"
      ]
     },
     "metadata": {},
     "output_type": "display_data"
    }
   ],
   "source": [
    "seq_ids = train_df[\"sequence_id\"].values\n",
    "seq_counters = train_df[\"sequence_counter\"].values\n",
    "seq_starts = np.array(train_df[train_df[\"sequence_counter\"]==0].index)\n",
    "seq_lengths = np.diff(np.concatenate([seq_starts, np.array([len(train_df)])]), n=1)\n",
    "\n",
    "bins = np.arange(0, 300, 5)\n",
    "plt.hist(seq_lengths, bins=bins)\n",
    "plt.show()"
   ]
  },
  {
   "cell_type": "code",
   "execution_count": 5,
   "id": "e5c8d5e1",
   "metadata": {
    "execution": {
     "iopub.execute_input": "2025-08-09T05:33:10.214038Z",
     "iopub.status.busy": "2025-08-09T05:33:10.213642Z",
     "iopub.status.idle": "2025-08-09T05:33:10.221591Z",
     "shell.execute_reply": "2025-08-09T05:33:10.220675Z"
    },
    "papermill": {
     "duration": 0.016348,
     "end_time": "2025-08-09T05:33:10.223167",
     "exception": false,
     "start_time": "2025-08-09T05:33:10.206819",
     "status": "completed"
    },
    "tags": []
   },
   "outputs": [
    {
     "name": "stdout",
     "output_type": "stream",
     "text": [
      "Quantile 0.9: 103.0\n",
      "Max length: 700\n"
     ]
    }
   ],
   "source": [
    "print(f\"Quantile 0.9: {np.quantile(seq_lengths, 0.9)}\")\n",
    "print(f\"Max length: {seq_lengths.max()}\")"
   ]
  },
  {
   "cell_type": "code",
   "execution_count": 6,
   "id": "c1def07c",
   "metadata": {
    "execution": {
     "iopub.execute_input": "2025-08-09T05:33:10.237010Z",
     "iopub.status.busy": "2025-08-09T05:33:10.236636Z",
     "iopub.status.idle": "2025-08-09T05:33:10.272265Z",
     "shell.execute_reply": "2025-08-09T05:33:10.271284Z"
    },
    "papermill": {
     "duration": 0.044809,
     "end_time": "2025-08-09T05:33:10.273922",
     "exception": false,
     "start_time": "2025-08-09T05:33:10.229113",
     "status": "completed"
    },
    "tags": []
   },
   "outputs": [
    {
     "data": {
      "text/plain": [
       "array(['Target', 'Non-Target'], dtype=object)"
      ]
     },
     "execution_count": 6,
     "metadata": {},
     "output_type": "execute_result"
    }
   ],
   "source": [
    "train_df[\"sequence_type\"].unique()"
   ]
  },
  {
   "cell_type": "code",
   "execution_count": 7,
   "id": "2ac4aa0e",
   "metadata": {
    "execution": {
     "iopub.execute_input": "2025-08-09T05:33:10.286986Z",
     "iopub.status.busy": "2025-08-09T05:33:10.286627Z",
     "iopub.status.idle": "2025-08-09T05:33:10.332782Z",
     "shell.execute_reply": "2025-08-09T05:33:10.331591Z"
    },
    "papermill": {
     "duration": 0.054715,
     "end_time": "2025-08-09T05:33:10.334595",
     "exception": false,
     "start_time": "2025-08-09T05:33:10.279880",
     "status": "completed"
    },
    "tags": []
   },
   "outputs": [],
   "source": [
    "type_mapping = {\"Target\": 1, \"Non-Target\": 0}\n",
    "train_df[\"sequence_type\"] = train_df[\"sequence_type\"].map(type_mapping)"
   ]
  },
  {
   "cell_type": "code",
   "execution_count": 8,
   "id": "94b697d5",
   "metadata": {
    "execution": {
     "iopub.execute_input": "2025-08-09T05:33:10.347814Z",
     "iopub.status.busy": "2025-08-09T05:33:10.347456Z",
     "iopub.status.idle": "2025-08-09T05:33:11.550280Z",
     "shell.execute_reply": "2025-08-09T05:33:11.548950Z"
    },
    "papermill": {
     "duration": 1.211628,
     "end_time": "2025-08-09T05:33:11.552246",
     "exception": false,
     "start_time": "2025-08-09T05:33:10.340618",
     "status": "completed"
    },
    "tags": []
   },
   "outputs": [],
   "source": [
    "gestures = pd.get_dummies(train_df[\"gesture\"])\n",
    "train_df = pd.concat([train_df, gestures], axis=1)\n",
    "train_df = train_df.drop([\"gesture\"], axis=1)"
   ]
  },
  {
   "cell_type": "code",
   "execution_count": 9,
   "id": "2e90eba6",
   "metadata": {
    "execution": {
     "iopub.execute_input": "2025-08-09T05:33:11.565819Z",
     "iopub.status.busy": "2025-08-09T05:33:11.565464Z",
     "iopub.status.idle": "2025-08-09T05:33:11.570443Z",
     "shell.execute_reply": "2025-08-09T05:33:11.569573Z"
    },
    "papermill": {
     "duration": 0.013612,
     "end_time": "2025-08-09T05:33:11.572028",
     "exception": false,
     "start_time": "2025-08-09T05:33:11.558416",
     "status": "completed"
    },
    "tags": []
   },
   "outputs": [],
   "source": [
    "gesture_mapping = {gesture: i for i, gesture in enumerate(gestures)}"
   ]
  },
  {
   "cell_type": "code",
   "execution_count": 10,
   "id": "eaf0e57b",
   "metadata": {
    "execution": {
     "iopub.execute_input": "2025-08-09T05:33:11.585786Z",
     "iopub.status.busy": "2025-08-09T05:33:11.585435Z",
     "iopub.status.idle": "2025-08-09T05:33:11.712600Z",
     "shell.execute_reply": "2025-08-09T05:33:11.711573Z"
    },
    "papermill": {
     "duration": 0.136354,
     "end_time": "2025-08-09T05:33:11.714301",
     "exception": false,
     "start_time": "2025-08-09T05:33:11.577947",
     "status": "completed"
    },
    "tags": []
   },
   "outputs": [],
   "source": [
    "from sklearn.model_selection import train_test_split\n",
    "tf.random.set_seed(42)\n",
    "acc_columns = [\"acc_x\", \"acc_y\", \"acc_z\", \"acc_r\", \"acc_theta\", \"acc_phi\"]\n",
    "rot_columns = [\"rot_w\", \"rot_x\", \"rot_y\", \"rot_z\", \"rot_omega\", \"rot_u_theta\", \"rot_u_phi\"]\n",
    "thm_columns = [\"thm_1\", \"thm_2\", \"thm_3\", \"thm_4\", \"thm_5\", \"thm_mean\"]\n",
    "\n",
    "i_list = range(1, 6)\n",
    "j_list = range(64)\n",
    "comb = list(product(i_list, j_list))\n",
    "tof_columns = [f\"tof_{i}_v{j}\" for i, j in comb]\n",
    "\n",
    "def create_dataset(df, max_length=700, batch_size=16, mode=\"train\", train_size=0.85):\n",
    "    seq_ids = df[\"sequence_id\"].values\n",
    "    seq_counters = df[\"sequence_counter\"].values\n",
    "    seq_starts = np.array(df[df[\"sequence_counter\"]==0].index)\n",
    "    seq_lengths = np.diff(np.concatenate([seq_starts, np.array([len(df)])]), n=1)\n",
    "    seq_lengths = tf.convert_to_tensor(seq_lengths, dtype=tf.int32)\n",
    "    \n",
    "    images = df[tof_columns].to_numpy()   # (samples, 5*64)\n",
    "    images = images.reshape(-1, 64, 5)\n",
    "    images = images.reshape(-1, 8, 8, 5)\n",
    "    images = tf.convert_to_tensor(images, dtype=tf.float32)\n",
    "\n",
    "    others = df[acc_columns + rot_columns + thm_columns].to_numpy()\n",
    "    others = tf.convert_to_tensor(others, dtype=tf.float32)\n",
    "\n",
    "    feature_columns = ['acc_x_mean', 'acc_y_mean', 'acc_z_mean',\n",
    "                       'thm_1_std', 'thm_2_std', 'thm_3_std', 'thm_4_std', 'thm_5_std',\n",
    "                       'adult_child', 'age', 'sex', 'height_cm',\n",
    "                       'shoulder_to_wrist_cm', 'elbow_to_wrist_cm']\n",
    "    features = df[feature_columns].to_numpy()\n",
    "    features = tf.convert_to_tensor(features, dtype=tf.float32)\n",
    "\n",
    "    if mode != \"test\":\n",
    "        sequence_types = df[[\"sequence_type\"]].values\n",
    "        gestures = df[gesture_mapping.keys()].values\n",
    "        targets = np.concatenate([sequence_types, gestures], axis=1)\n",
    "        targets = tf.convert_to_tensor(targets, dtype=tf.float32)\n",
    "        inputs = (images, others, features, targets)\n",
    "        inputs, targets = create_window(inputs, seq_starts, seq_lengths, max_length, mode)\n",
    "        ids = np.arange(len(targets))\n",
    "        train_ids, valid_ids = train_test_split(ids, train_size=train_size, stratify=tf.argmax(targets[:, 1:], axis=-1), random_state=42)\n",
    "        inputs_train = (\n",
    "            tf.gather(inputs[0], train_ids),\n",
    "            tf.gather(inputs[1], train_ids),\n",
    "            tf.gather(inputs[2], train_ids)\n",
    "        )\n",
    "        inputs_valid = (\n",
    "            tf.gather(inputs[0], valid_ids),\n",
    "            tf.gather(inputs[1], valid_ids),\n",
    "            tf.gather(inputs[2], valid_ids)\n",
    "        )\n",
    "        targets_train, targets_valid = tf.gather(targets, train_ids), tf.gather(targets, valid_ids)\n",
    "        type_train_ds = tf.data.Dataset.from_tensor_slices((inputs_train, targets_train[:, :1]))\n",
    "        type_train_ds = type_train_ds.shuffle(len(inputs_train)).batch(batch_size)\n",
    "        gesture_train_ds = tf.data.Dataset.from_tensor_slices((inputs_train, targets_train[:, 1:]))\n",
    "        gesture_train_ds = gesture_train_ds.shuffle(len(inputs_train)).batch(batch_size)\n",
    "\n",
    "        type_valid_ds = tf.data.Dataset.from_tensor_slices((inputs_valid, targets_valid[:, :1]))\n",
    "        type_valid_ds = type_valid_ds.shuffle(len(inputs_valid)).batch(batch_size)\n",
    "        gesture_valid_ds = tf.data.Dataset.from_tensor_slices((inputs_valid, targets_valid[:, 1:]))\n",
    "        gesture_valid_ds = gesture_valid_ds.shuffle(len(inputs_valid)).batch(batch_size)\n",
    "        return type_train_ds, type_valid_ds, gesture_train_ds, gesture_valid_ds\n",
    "    else:\n",
    "        inputs = (images, others, features)\n",
    "        inputs = create_window(inputs, seq_starts, seq_lengths, max_length, mode)\n",
    "        test_ds = tf.data.Dataset.from_tensor_slices(inputs)\n",
    "        test_ds = test_ds.batch(batch_size)\n",
    "    return test_ds\n",
    "\n",
    "\n",
    "def create_window(inputs, seq_starts, seq_lengths, max_length, mode=\"train\"):\n",
    "    images = inputs[0]\n",
    "    others = inputs[1]\n",
    "    features = inputs[2]\n",
    "\n",
    "    image_windows = []\n",
    "    other_windows = []\n",
    "    feature_windows = []\n",
    "\n",
    "    if mode != \"test\":\n",
    "        targets = inputs[3]\n",
    "        target_windows = []\n",
    "    \n",
    "    for start, length in zip(seq_starts, seq_lengths):\n",
    "        image_window = images[start:start+length, :, :, :]\n",
    "        other_window = others[start:start+length, :]\n",
    "        feature_window = features[start]\n",
    "        if mode != \"test\":\n",
    "            target_window = targets[start]\n",
    "        if length < max_length:\n",
    "            image_window = tf.pad(image_window, \n",
    "                                  tf.constant([[0, max_length-int(length)],\n",
    "                                               [0, 0],\n",
    "                                               [0, 0],\n",
    "                                               [0, 0]]), constant_values=0.0)\n",
    "            other_window = tf.pad(other_window, \n",
    "                                  tf.constant([[0, max_length-int(length)],\n",
    "                                               [0, 0]]), constant_values=0.0)\n",
    "        image_windows.append(image_window)\n",
    "        other_windows.append(other_window)\n",
    "        feature_windows.append(feature_window)\n",
    "        if mode != \"test\":\n",
    "            target_windows.append(target_window)\n",
    "\n",
    "    image_windows = tf.stack(image_windows)\n",
    "    other_windows = tf.stack(other_windows)\n",
    "    image_windows = tf.RaggedTensor.from_tensor(image_windows, lengths=seq_lengths)\n",
    "    other_windows = tf.RaggedTensor.from_tensor(other_windows, lengths=seq_lengths)\n",
    "    feature_windows = tf.stack(feature_windows)\n",
    "\n",
    "    if mode != \"test\":\n",
    "        target_windows = tf.stack(target_windows)\n",
    "        return (image_windows, other_windows, feature_windows, seq_lengths), target_windows\n",
    "    else:\n",
    "        return (image_windows, other_windows, feature_windows, seq_lenghts)"
   ]
  },
  {
   "cell_type": "code",
   "execution_count": 11,
   "id": "383e9b56",
   "metadata": {
    "execution": {
     "iopub.execute_input": "2025-08-09T05:33:11.727253Z",
     "iopub.status.busy": "2025-08-09T05:33:11.726951Z",
     "iopub.status.idle": "2025-08-09T05:34:01.916144Z",
     "shell.execute_reply": "2025-08-09T05:34:01.914608Z"
    },
    "papermill": {
     "duration": 50.199882,
     "end_time": "2025-08-09T05:34:01.920255",
     "exception": false,
     "start_time": "2025-08-09T05:33:11.720373",
     "status": "completed"
    },
    "tags": []
   },
   "outputs": [
    {
     "name": "stderr",
     "output_type": "stream",
     "text": [
      "2025-08-09 05:33:11.771835: E external/local_xla/xla/stream_executor/cuda/cuda_driver.cc:152] failed call to cuInit: INTERNAL: CUDA error: Failed call to cuInit: UNKNOWN ERROR (303)\n"
     ]
    }
   ],
   "source": [
    "type_train_ds, type_valid_ds, gesture_train_ds, gesture_valid_ds = create_dataset(train_df, batch_size=32)"
   ]
  },
  {
   "cell_type": "code",
   "execution_count": 12,
   "id": "d644ae86",
   "metadata": {
    "execution": {
     "iopub.execute_input": "2025-08-09T05:34:01.937852Z",
     "iopub.status.busy": "2025-08-09T05:34:01.937442Z",
     "iopub.status.idle": "2025-08-09T05:34:02.060229Z",
     "shell.execute_reply": "2025-08-09T05:34:02.058879Z"
    },
    "papermill": {
     "duration": 0.132642,
     "end_time": "2025-08-09T05:34:02.062140",
     "exception": false,
     "start_time": "2025-08-09T05:34:01.929498",
     "status": "completed"
    },
    "tags": []
   },
   "outputs": [
    {
     "name": "stdout",
     "output_type": "stream",
     "text": [
      "(32, None, 8, 8, 5)\n",
      "(32, None, 19)\n",
      "(32, 14)\n"
     ]
    }
   ],
   "source": [
    "for i, (inputs, targets) in enumerate(type_train_ds):\n",
    "    if i == 0:\n",
    "        print(inputs[0].shape)\n",
    "        print(inputs[1].shape)\n",
    "        print(inputs[2].shape)\n",
    "        break"
   ]
  },
  {
   "cell_type": "code",
   "execution_count": 13,
   "id": "25532dd8",
   "metadata": {
    "execution": {
     "iopub.execute_input": "2025-08-09T05:34:02.075584Z",
     "iopub.status.busy": "2025-08-09T05:34:02.075239Z",
     "iopub.status.idle": "2025-08-09T05:34:02.081168Z",
     "shell.execute_reply": "2025-08-09T05:34:02.080032Z"
    },
    "papermill": {
     "duration": 0.014564,
     "end_time": "2025-08-09T05:34:02.082721",
     "exception": false,
     "start_time": "2025-08-09T05:34:02.068157",
     "status": "completed"
    },
    "tags": []
   },
   "outputs": [],
   "source": [
    "def get_sequence_targets(df):\n",
    "    seq_ids = df[\"sequence_id\"].values\n",
    "    seq_starts = np.array(df[df[\"sequence_counter\"]==0].index)\n",
    "    sequence_targets = df.loc[seq_starts, \"sequence_type\"].values\n",
    "    return sequence_targets"
   ]
  },
  {
   "cell_type": "code",
   "execution_count": 14,
   "id": "49831314",
   "metadata": {
    "execution": {
     "iopub.execute_input": "2025-08-09T05:34:02.096402Z",
     "iopub.status.busy": "2025-08-09T05:34:02.096091Z",
     "iopub.status.idle": "2025-08-09T05:34:02.101520Z",
     "shell.execute_reply": "2025-08-09T05:34:02.100529Z"
    },
    "papermill": {
     "duration": 0.014449,
     "end_time": "2025-08-09T05:34:02.103270",
     "exception": false,
     "start_time": "2025-08-09T05:34:02.088821",
     "status": "completed"
    },
    "tags": []
   },
   "outputs": [],
   "source": [
    "gesture_columns = gestures.columns\n",
    "def get_sequence_gestures(df):\n",
    "    seq_ids = df[\"sequence_id\"].values\n",
    "    seq_starts = np.array(df[df[\"sequence_counter\"]==0].index)\n",
    "    sequence_gestures = df.loc[seq_starts, gesture_columns]\n",
    "    return sequence_gestures"
   ]
  },
  {
   "cell_type": "code",
   "execution_count": 15,
   "id": "b26b07b1",
   "metadata": {
    "execution": {
     "iopub.execute_input": "2025-08-09T05:34:02.116554Z",
     "iopub.status.busy": "2025-08-09T05:34:02.116247Z",
     "iopub.status.idle": "2025-08-09T05:34:02.194123Z",
     "shell.execute_reply": "2025-08-09T05:34:02.192803Z"
    },
    "papermill": {
     "duration": 0.086843,
     "end_time": "2025-08-09T05:34:02.196236",
     "exception": false,
     "start_time": "2025-08-09T05:34:02.109393",
     "status": "completed"
    },
    "tags": []
   },
   "outputs": [
    {
     "name": "stdout",
     "output_type": "stream",
     "text": [
      "2828\n",
      "4767\n"
     ]
    }
   ],
   "source": [
    "sequence_targets = get_sequence_targets(train_df)\n",
    "print(len(sequence_targets[sequence_targets == 0]))\n",
    "print(len(sequence_targets[sequence_targets == 1]))"
   ]
  },
  {
   "cell_type": "code",
   "execution_count": 16,
   "id": "815554d7",
   "metadata": {
    "execution": {
     "iopub.execute_input": "2025-08-09T05:34:02.210019Z",
     "iopub.status.busy": "2025-08-09T05:34:02.209601Z",
     "iopub.status.idle": "2025-08-09T05:34:02.214698Z",
     "shell.execute_reply": "2025-08-09T05:34:02.213923Z"
    },
    "papermill": {
     "duration": 0.013737,
     "end_time": "2025-08-09T05:34:02.216227",
     "exception": false,
     "start_time": "2025-08-09T05:34:02.202490",
     "status": "completed"
    },
    "tags": []
   },
   "outputs": [],
   "source": [
    "len_target = len(sequence_targets[sequence_targets == 1])\n",
    "len_non_target = len(sequence_targets[sequence_targets == 0])\n",
    "type_sample_weight = (len_target/len_non_target, len_target/len_target)"
   ]
  },
  {
   "cell_type": "code",
   "execution_count": 17,
   "id": "09cb54bf",
   "metadata": {
    "execution": {
     "iopub.execute_input": "2025-08-09T05:34:02.230324Z",
     "iopub.status.busy": "2025-08-09T05:34:02.229515Z",
     "iopub.status.idle": "2025-08-09T05:34:02.236481Z",
     "shell.execute_reply": "2025-08-09T05:34:02.235412Z"
    },
    "papermill": {
     "duration": 0.0158,
     "end_time": "2025-08-09T05:34:02.238066",
     "exception": false,
     "start_time": "2025-08-09T05:34:02.222266",
     "status": "completed"
    },
    "tags": []
   },
   "outputs": [
    {
     "data": {
      "text/plain": [
       "(1.6856435643564356, 1.0)"
      ]
     },
     "execution_count": 17,
     "metadata": {},
     "output_type": "execute_result"
    }
   ],
   "source": [
    "type_sample_weight"
   ]
  },
  {
   "cell_type": "code",
   "execution_count": 18,
   "id": "47e577e0",
   "metadata": {
    "execution": {
     "iopub.execute_input": "2025-08-09T05:34:02.252047Z",
     "iopub.status.busy": "2025-08-09T05:34:02.251435Z",
     "iopub.status.idle": "2025-08-09T05:34:02.258295Z",
     "shell.execute_reply": "2025-08-09T05:34:02.257330Z"
    },
    "papermill": {
     "duration": 0.01535,
     "end_time": "2025-08-09T05:34:02.259812",
     "exception": false,
     "start_time": "2025-08-09T05:34:02.244462",
     "status": "completed"
    },
    "tags": []
   },
   "outputs": [
    {
     "data": {
      "text/plain": [
       "Index(['Above ear - pull hair', 'Cheek - pinch skin', 'Drink from bottle/cup',\n",
       "       'Eyebrow - pull hair', 'Eyelash - pull hair',\n",
       "       'Feel around in tray and pull out an object',\n",
       "       'Forehead - pull hairline', 'Forehead - scratch', 'Glasses on/off',\n",
       "       'Neck - pinch skin', 'Neck - scratch', 'Pinch knee/leg skin',\n",
       "       'Pull air toward your face', 'Scratch knee/leg skin', 'Text on phone',\n",
       "       'Wave hello', 'Write name in air', 'Write name on leg'],\n",
       "      dtype='object')"
      ]
     },
     "execution_count": 18,
     "metadata": {},
     "output_type": "execute_result"
    }
   ],
   "source": [
    "gestures.columns"
   ]
  },
  {
   "cell_type": "code",
   "execution_count": 19,
   "id": "4888d0a1",
   "metadata": {
    "execution": {
     "iopub.execute_input": "2025-08-09T05:34:02.273804Z",
     "iopub.status.busy": "2025-08-09T05:34:02.273428Z",
     "iopub.status.idle": "2025-08-09T05:34:02.332226Z",
     "shell.execute_reply": "2025-08-09T05:34:02.331270Z"
    },
    "papermill": {
     "duration": 0.067777,
     "end_time": "2025-08-09T05:34:02.333982",
     "exception": false,
     "start_time": "2025-08-09T05:34:02.266205",
     "status": "completed"
    },
    "tags": []
   },
   "outputs": [],
   "source": [
    "non_target_gestures = [\"Drink from bottle/cup\", \"Glasses on/off\", \"Pull air toward your face\",\n",
    "                       \"Pinch knee/leg skin\", \"Scratch knee/leg skin\", \"Write name on leg\",\n",
    "                       \"Text on phone\", \"Feel around in tray and pull out an object\",\n",
    "                       \"Write name in air\", \"Wave hello\"]\n",
    "sequence_gestures = get_sequence_gestures(train_df)\n",
    "all_count = sequence_gestures.sum()\n",
    "non_target_count = all_count[non_target_gestures]\n",
    "non_target_sum = non_target_count.sum()\n",
    "all_count[non_target_gestures] = non_target_sum\n",
    "all_count = non_target_sum / all_count\n",
    "gesture_sample_weight = tuple(all_count.values)"
   ]
  },
  {
   "cell_type": "code",
   "execution_count": 20,
   "id": "3f6d5add",
   "metadata": {
    "execution": {
     "iopub.execute_input": "2025-08-09T05:34:02.347735Z",
     "iopub.status.busy": "2025-08-09T05:34:02.347389Z",
     "iopub.status.idle": "2025-08-09T05:34:02.353373Z",
     "shell.execute_reply": "2025-08-09T05:34:02.352590Z"
    },
    "papermill": {
     "duration": 0.014304,
     "end_time": "2025-08-09T05:34:02.354570",
     "exception": false,
     "start_time": "2025-08-09T05:34:02.340266",
     "status": "completed"
    },
    "tags": []
   },
   "outputs": [
    {
     "data": {
      "text/plain": [
       "(4.768971332209106,\n",
       " 4.74496644295302,\n",
       " 1.0,\n",
       " 4.7851099830795265,\n",
       " 4.768971332209106,\n",
       " 1.0,\n",
       " 4.7370184254606365,\n",
       " 4.7370184254606365,\n",
       " 1.0,\n",
       " 4.705490848585691,\n",
       " 4.721202003338898,\n",
       " 1.0,\n",
       " 1.0,\n",
       " 1.0,\n",
       " 1.0,\n",
       " 1.0,\n",
       " 1.0,\n",
       " 1.0)"
      ]
     },
     "execution_count": 20,
     "metadata": {},
     "output_type": "execute_result"
    }
   ],
   "source": [
    "gesture_sample_weight"
   ]
  },
  {
   "cell_type": "code",
   "execution_count": 21,
   "id": "b1e09ef7",
   "metadata": {
    "execution": {
     "iopub.execute_input": "2025-08-09T05:34:02.368228Z",
     "iopub.status.busy": "2025-08-09T05:34:02.367890Z",
     "iopub.status.idle": "2025-08-09T05:34:02.375226Z",
     "shell.execute_reply": "2025-08-09T05:34:02.374191Z"
    },
    "papermill": {
     "duration": 0.015976,
     "end_time": "2025-08-09T05:34:02.376821",
     "exception": false,
     "start_time": "2025-08-09T05:34:02.360845",
     "status": "completed"
    },
    "tags": []
   },
   "outputs": [
    {
     "name": "stdout",
     "output_type": "stream",
     "text": [
      "202\n",
      "36\n",
      "202\n",
      "36\n"
     ]
    }
   ],
   "source": [
    "print(len(type_train_ds))\n",
    "print(len(type_valid_ds))\n",
    "print(len(gesture_train_ds))\n",
    "print(len(gesture_valid_ds))"
   ]
  },
  {
   "cell_type": "code",
   "execution_count": 22,
   "id": "a632c4e0",
   "metadata": {
    "execution": {
     "iopub.execute_input": "2025-08-09T05:34:02.391498Z",
     "iopub.status.busy": "2025-08-09T05:34:02.391070Z",
     "iopub.status.idle": "2025-08-09T05:34:02.402890Z",
     "shell.execute_reply": "2025-08-09T05:34:02.401804Z"
    },
    "papermill": {
     "duration": 0.021355,
     "end_time": "2025-08-09T05:34:02.404591",
     "exception": false,
     "start_time": "2025-08-09T05:34:02.383236",
     "status": "completed"
    },
    "tags": []
   },
   "outputs": [
    {
     "name": "stdout",
     "output_type": "stream",
     "text": [
      "(32, None, 8, 8, 5)\n",
      "(32, None, 19)\n",
      "(32, 14)\n",
      "(32, 1)\n"
     ]
    }
   ],
   "source": [
    "# Check dataset shape\n",
    "for i, (inputs, targets) in enumerate(type_train_ds):\n",
    "    if i == 0:\n",
    "        print(inputs[0].shape)        # Image (TOF)\n",
    "        print(inputs[1].shape)        # Other time-series\n",
    "        print(inputs[2].shape)        # Feature\n",
    "        print(targets.shape)          # Target or Non-Target\n",
    "        break"
   ]
  },
  {
   "cell_type": "code",
   "execution_count": 23,
   "id": "98ac5769",
   "metadata": {
    "execution": {
     "iopub.execute_input": "2025-08-09T05:34:02.418716Z",
     "iopub.status.busy": "2025-08-09T05:34:02.418320Z",
     "iopub.status.idle": "2025-08-09T05:34:02.438368Z",
     "shell.execute_reply": "2025-08-09T05:34:02.437385Z"
    },
    "papermill": {
     "duration": 0.029113,
     "end_time": "2025-08-09T05:34:02.440144",
     "exception": false,
     "start_time": "2025-08-09T05:34:02.411031",
     "status": "completed"
    },
    "tags": []
   },
   "outputs": [
    {
     "name": "stdout",
     "output_type": "stream",
     "text": [
      "(32, None, 8, 8, 5)\n",
      "(32, None, 19)\n",
      "(32, 14)\n",
      "(32, 18)\n"
     ]
    }
   ],
   "source": [
    "for i, (inputs, targets) in enumerate(gesture_train_ds):\n",
    "    if i == 0:\n",
    "        print(inputs[0].shape)        # Image (TOF)\n",
    "        print(inputs[1].shape)        # Other time-series\n",
    "        print(inputs[2].shape)        # Feature\n",
    "        print(targets.shape)          # Gesture\n",
    "        break"
   ]
  },
  {
   "cell_type": "code",
   "execution_count": 24,
   "id": "17f47355",
   "metadata": {
    "execution": {
     "iopub.execute_input": "2025-08-09T05:34:02.456853Z",
     "iopub.status.busy": "2025-08-09T05:34:02.456029Z",
     "iopub.status.idle": "2025-08-09T05:34:02.460240Z",
     "shell.execute_reply": "2025-08-09T05:34:02.459332Z"
    },
    "papermill": {
     "duration": 0.013422,
     "end_time": "2025-08-09T05:34:02.461880",
     "exception": false,
     "start_time": "2025-08-09T05:34:02.448458",
     "status": "completed"
    },
    "tags": []
   },
   "outputs": [],
   "source": [
    "# test_ds = create_dataset(test_df, batch_size=64, mode=\"test\")"
   ]
  },
  {
   "cell_type": "code",
   "execution_count": 25,
   "id": "718930ee",
   "metadata": {
    "execution": {
     "iopub.execute_input": "2025-08-09T05:34:02.476277Z",
     "iopub.status.busy": "2025-08-09T05:34:02.475967Z",
     "iopub.status.idle": "2025-08-09T05:34:02.480290Z",
     "shell.execute_reply": "2025-08-09T05:34:02.479334Z"
    },
    "papermill": {
     "duration": 0.013628,
     "end_time": "2025-08-09T05:34:02.481997",
     "exception": false,
     "start_time": "2025-08-09T05:34:02.468369",
     "status": "completed"
    },
    "tags": []
   },
   "outputs": [],
   "source": [
    "# Check dataset shape\n",
    "# for inputs in test_ds:\n",
    "#     print(inputs[0].shape)        # Image (TOF)\n",
    "#     print(inputs[1].shape)        # Other time-series\n",
    "#     print(inputs[2].shape)        # Feature"
   ]
  },
  {
   "cell_type": "code",
   "execution_count": 26,
   "id": "192951f9",
   "metadata": {
    "execution": {
     "iopub.execute_input": "2025-08-09T05:34:02.497593Z",
     "iopub.status.busy": "2025-08-09T05:34:02.497258Z",
     "iopub.status.idle": "2025-08-09T05:34:05.728569Z",
     "shell.execute_reply": "2025-08-09T05:34:05.727634Z"
    },
    "papermill": {
     "duration": 3.241676,
     "end_time": "2025-08-09T05:34:05.730448",
     "exception": false,
     "start_time": "2025-08-09T05:34:02.488772",
     "status": "completed"
    },
    "tags": []
   },
   "outputs": [],
   "source": [
    "import os\n",
    "output_path = \"/kaggle/working/\"\n",
    "type_train_path = os.path.join(output_path, \"type_train_ds\")\n",
    "type_valid_path = os.path.join(output_path, \"type_valid_ds\")\n",
    "gesture_train_path = os.path.join(output_path, \"gesture_train_ds\")\n",
    "gesture_valid_path = os.path.join(output_path, \"gesture_valid_ds\")\n",
    "# test_path = os.path.join(output_path, \"test_ds\")\n",
    "\n",
    "tf.data.experimental.save(type_train_ds, type_train_path)\n",
    "tf.data.experimental.save(type_valid_ds, type_valid_path)\n",
    "tf.data.experimental.save(gesture_train_ds, gesture_train_path)\n",
    "tf.data.experimental.save(gesture_valid_ds, gesture_valid_path)\n",
    "# tf.data.experimental.save(test_ds, test_path)"
   ]
  },
  {
   "cell_type": "code",
   "execution_count": 27,
   "id": "8d620236",
   "metadata": {
    "execution": {
     "iopub.execute_input": "2025-08-09T05:34:05.745915Z",
     "iopub.status.busy": "2025-08-09T05:34:05.745566Z",
     "iopub.status.idle": "2025-08-09T05:34:05.751797Z",
     "shell.execute_reply": "2025-08-09T05:34:05.750749Z"
    },
    "papermill": {
     "duration": 0.015767,
     "end_time": "2025-08-09T05:34:05.753365",
     "exception": false,
     "start_time": "2025-08-09T05:34:05.737598",
     "status": "completed"
    },
    "tags": []
   },
   "outputs": [],
   "source": [
    "import json\n",
    "\n",
    "mapping_dicts = {\n",
    "    \"type_mapping\":type_mapping, \n",
    "    \"gesture_mapping\": gesture_mapping\n",
    "}\n",
    "\n",
    "dict_path = os.path.join(output_path, \"mapping.json\")\n",
    "with open(dict_path, \"w\") as f:\n",
    "    json.dump(mapping_dicts, f, indent=2)"
   ]
  },
  {
   "cell_type": "code",
   "execution_count": 28,
   "id": "f408f0b0",
   "metadata": {
    "execution": {
     "iopub.execute_input": "2025-08-09T05:34:05.768999Z",
     "iopub.status.busy": "2025-08-09T05:34:05.768592Z",
     "iopub.status.idle": "2025-08-09T05:34:05.774732Z",
     "shell.execute_reply": "2025-08-09T05:34:05.773769Z"
    },
    "papermill": {
     "duration": 0.015323,
     "end_time": "2025-08-09T05:34:05.776401",
     "exception": false,
     "start_time": "2025-08-09T05:34:05.761078",
     "status": "completed"
    },
    "tags": []
   },
   "outputs": [],
   "source": [
    "sample_weight_dicts = {\n",
    "    \"type_sample_weight\": type_sample_weight,\n",
    "    \"gesture_sample_weight\": gesture_sample_weight\n",
    "}\n",
    "\n",
    "dict_path = os.path.join(output_path, \"sample_weight.json\")\n",
    "with open(dict_path, \"w\") as f:\n",
    "    json.dump(sample_weight_dicts, f, indent=2)"
   ]
  },
  {
   "cell_type": "code",
   "execution_count": null,
   "id": "985cf012",
   "metadata": {
    "papermill": {
     "duration": 0.006312,
     "end_time": "2025-08-09T05:34:05.789554",
     "exception": false,
     "start_time": "2025-08-09T05:34:05.783242",
     "status": "completed"
    },
    "tags": []
   },
   "outputs": [],
   "source": []
  }
 ],
 "metadata": {
  "kaggle": {
   "accelerator": "none",
   "dataSources": [
    {
     "databundleVersionId": 12518947,
     "sourceId": 102335,
     "sourceType": "competition"
    },
    {
     "datasetId": 7856290,
     "sourceId": 12681757,
     "sourceType": "datasetVersion"
    }
   ],
   "dockerImageVersionId": 31089,
   "isGpuEnabled": false,
   "isInternetEnabled": true,
   "language": "python",
   "sourceType": "notebook"
  },
  "kernelspec": {
   "display_name": "Python 3",
   "language": "python",
   "name": "python3"
  },
  "language_info": {
   "codemirror_mode": {
    "name": "ipython",
    "version": 3
   },
   "file_extension": ".py",
   "mimetype": "text/x-python",
   "name": "python",
   "nbconvert_exporter": "python",
   "pygments_lexer": "ipython3",
   "version": "3.11.13"
  },
  "papermill": {
   "default_parameters": {},
   "duration": 177.339167,
   "end_time": "2025-08-09T05:34:10.288310",
   "environment_variables": {},
   "exception": null,
   "input_path": "__notebook__.ipynb",
   "output_path": "__notebook__.ipynb",
   "parameters": {},
   "start_time": "2025-08-09T05:31:12.949143",
   "version": "2.6.0"
  }
 },
 "nbformat": 4,
 "nbformat_minor": 5
}
