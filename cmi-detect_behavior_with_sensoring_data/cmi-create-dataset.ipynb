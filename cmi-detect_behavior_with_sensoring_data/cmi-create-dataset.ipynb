{
 "cells": [
  {
   "cell_type": "code",
   "execution_count": 1,
   "id": "24360d34",
   "metadata": {
    "execution": {
     "iopub.execute_input": "2025-07-22T16:08:55.858052Z",
     "iopub.status.busy": "2025-07-22T16:08:55.857722Z",
     "iopub.status.idle": "2025-07-22T16:09:17.456132Z",
     "shell.execute_reply": "2025-07-22T16:09:17.454930Z"
    },
    "papermill": {
     "duration": 21.607171,
     "end_time": "2025-07-22T16:09:17.458237",
     "exception": false,
     "start_time": "2025-07-22T16:08:55.851066",
     "status": "completed"
    },
    "tags": []
   },
   "outputs": [
    {
     "name": "stderr",
     "output_type": "stream",
     "text": [
      "2025-07-22 16:08:59.954439: E external/local_xla/xla/stream_executor/cuda/cuda_fft.cc:477] Unable to register cuFFT factory: Attempting to register factory for plugin cuFFT when one has already been registered\n",
      "WARNING: All log messages before absl::InitializeLog() is called are written to STDERR\n",
      "E0000 00:00:1753200540.220156      13 cuda_dnn.cc:8310] Unable to register cuDNN factory: Attempting to register factory for plugin cuDNN when one has already been registered\n",
      "E0000 00:00:1753200540.297505      13 cuda_blas.cc:1418] Unable to register cuBLAS factory: Attempting to register factory for plugin cuBLAS when one has already been registered\n"
     ]
    }
   ],
   "source": [
    "import numpy as np\n",
    "import pandas as pd\n",
    "import matplotlib.pyplot as plt\n",
    "import tensorflow as tf\n",
    "import warnings\n",
    "from itertools import product\n",
    "from sklearn.preprocessing import OneHotEncoder\n",
    "warnings.filterwarnings(\"ignore\")"
   ]
  },
  {
   "cell_type": "code",
   "execution_count": 2,
   "id": "21a28be1",
   "metadata": {
    "execution": {
     "iopub.execute_input": "2025-07-22T16:09:17.471149Z",
     "iopub.status.busy": "2025-07-22T16:09:17.470505Z",
     "iopub.status.idle": "2025-07-22T16:10:49.115454Z",
     "shell.execute_reply": "2025-07-22T16:10:49.114355Z"
    },
    "papermill": {
     "duration": 91.652676,
     "end_time": "2025-07-22T16:10:49.117456",
     "exception": false,
     "start_time": "2025-07-22T16:09:17.464780",
     "status": "completed"
    },
    "tags": []
   },
   "outputs": [],
   "source": [
    "train_df = pd.read_csv(\"/kaggle/input/preprocessed-dataset/preprocessed_train.csv\")\n",
    "test_df = pd.read_csv(\"/kaggle/input/preprocessed-dataset/preprocessed_test.csv\")"
   ]
  },
  {
   "cell_type": "code",
   "execution_count": 3,
   "id": "7c0a45e0",
   "metadata": {
    "execution": {
     "iopub.execute_input": "2025-07-22T16:10:49.128579Z",
     "iopub.status.busy": "2025-07-22T16:10:49.128250Z",
     "iopub.status.idle": "2025-07-22T16:10:49.168325Z",
     "shell.execute_reply": "2025-07-22T16:10:49.167106Z"
    },
    "papermill": {
     "duration": 0.047621,
     "end_time": "2025-07-22T16:10:49.170194",
     "exception": false,
     "start_time": "2025-07-22T16:10:49.122573",
     "status": "completed"
    },
    "tags": []
   },
   "outputs": [
    {
     "data": {
      "text/plain": [
       "array(['Target', 'Non-Target'], dtype=object)"
      ]
     },
     "execution_count": 3,
     "metadata": {},
     "output_type": "execute_result"
    }
   ],
   "source": [
    "train_df[\"sequence_type\"].unique()"
   ]
  },
  {
   "cell_type": "code",
   "execution_count": 4,
   "id": "a3231ad5",
   "metadata": {
    "execution": {
     "iopub.execute_input": "2025-07-22T16:10:49.181256Z",
     "iopub.status.busy": "2025-07-22T16:10:49.180921Z",
     "iopub.status.idle": "2025-07-22T16:10:49.223668Z",
     "shell.execute_reply": "2025-07-22T16:10:49.222650Z"
    },
    "papermill": {
     "duration": 0.050348,
     "end_time": "2025-07-22T16:10:49.225425",
     "exception": false,
     "start_time": "2025-07-22T16:10:49.175077",
     "status": "completed"
    },
    "tags": []
   },
   "outputs": [],
   "source": [
    "type_mapping = {\"Target\": 1, \"Non-Target\": 0}\n",
    "train_df[\"sequence_type\"] = train_df[\"sequence_type\"].map(type_mapping)"
   ]
  },
  {
   "cell_type": "code",
   "execution_count": 5,
   "id": "2c124b5e",
   "metadata": {
    "execution": {
     "iopub.execute_input": "2025-07-22T16:10:49.236468Z",
     "iopub.status.busy": "2025-07-22T16:10:49.236145Z",
     "iopub.status.idle": "2025-07-22T16:10:50.402937Z",
     "shell.execute_reply": "2025-07-22T16:10:50.401796Z"
    },
    "papermill": {
     "duration": 1.174745,
     "end_time": "2025-07-22T16:10:50.405033",
     "exception": false,
     "start_time": "2025-07-22T16:10:49.230288",
     "status": "completed"
    },
    "tags": []
   },
   "outputs": [],
   "source": [
    "gestures = pd.get_dummies(train_df[\"gesture\"])\n",
    "train_df = pd.concat([train_df, gestures], axis=1)\n",
    "train_df = train_df.drop([\"gesture\"], axis=1)"
   ]
  },
  {
   "cell_type": "code",
   "execution_count": 6,
   "id": "0aa51341",
   "metadata": {
    "execution": {
     "iopub.execute_input": "2025-07-22T16:10:50.418229Z",
     "iopub.status.busy": "2025-07-22T16:10:50.417938Z",
     "iopub.status.idle": "2025-07-22T16:10:50.422760Z",
     "shell.execute_reply": "2025-07-22T16:10:50.421590Z"
    },
    "papermill": {
     "duration": 0.013655,
     "end_time": "2025-07-22T16:10:50.424916",
     "exception": false,
     "start_time": "2025-07-22T16:10:50.411261",
     "status": "completed"
    },
    "tags": []
   },
   "outputs": [],
   "source": [
    "gesture_mapping = {gesture: i for i, gesture in enumerate(gestures)}"
   ]
  },
  {
   "cell_type": "code",
   "execution_count": 7,
   "id": "ece26382",
   "metadata": {
    "execution": {
     "iopub.execute_input": "2025-07-22T16:10:50.440002Z",
     "iopub.status.busy": "2025-07-22T16:10:50.439644Z",
     "iopub.status.idle": "2025-07-22T16:10:50.608112Z",
     "shell.execute_reply": "2025-07-22T16:10:50.607183Z"
    },
    "papermill": {
     "duration": 0.179203,
     "end_time": "2025-07-22T16:10:50.610053",
     "exception": false,
     "start_time": "2025-07-22T16:10:50.430850",
     "status": "completed"
    },
    "tags": []
   },
   "outputs": [],
   "source": [
    "from sklearn.model_selection import train_test_split\n",
    "tf.random.set_seed(42)\n",
    "acc_columns = [\"acc_x\", \"acc_y\", \"acc_z\"]\n",
    "rot_columns = [\"rot_w\", \"rot_x\", \"rot_y\", \"rot_z\"]\n",
    "thm_columns = [\"thm_1\", \"thm_2\", \"thm_3\", \"thm_4\", \"thm_5\"]\n",
    "\n",
    "i_list = range(1, 6)\n",
    "j_list = range(64)\n",
    "comb = list(product(i_list, j_list))\n",
    "tof_columns = [f\"tof_{i}_v{j}\" for i, j in comb]\n",
    "\n",
    "def create_dataset(df, max_length=100, batch_size=16, mode=\"train\", train_size=0.8):\n",
    "    seq_ids = df[\"sequence_id\"].values\n",
    "    seq_counters = df[\"sequence_counter\"].values\n",
    "    seq_starts = np.array(df[df[\"sequence_counter\"]==0].index)\n",
    "    seq_lengths = np.diff(np.concatenate([seq_starts, np.array([len(df)])]), n=1)\n",
    "    \n",
    "    images = df[tof_columns].to_numpy()   # (samples, 5*64)\n",
    "    images = images.reshape(-1, 64, 5)\n",
    "    images = images.reshape(-1, 8, 8, 5)\n",
    "    images = tf.convert_to_tensor(images, dtype=tf.float64)\n",
    "\n",
    "    others = df[acc_columns + rot_columns + thm_columns].to_numpy()\n",
    "    others = tf.convert_to_tensor(others, dtype=tf.float64)\n",
    "\n",
    "    feature_columns = ['acc_x_mean', 'acc_y_mean', 'acc_z_mean',\n",
    "                       'thm_1_std', 'thm_2_std', 'thm_3_std', 'thm_4_std', 'thm_5_std',\n",
    "                       'adult_child', 'age', 'sex', 'height_cm', \n",
    "                       'shoulder_to_wrist_cm', 'elbow_to_wrist_cm']\n",
    "    features = df[feature_columns].to_numpy()\n",
    "    features = tf.convert_to_tensor(features, dtype=tf.float64)\n",
    "\n",
    "    if mode != \"test\":\n",
    "        sequence_types = df[[\"sequence_type\"]].values\n",
    "        gestures = df[gesture_mapping.keys()].values\n",
    "        targets = np.concatenate([sequence_types, gestures], axis=1)\n",
    "        targets = tf.convert_to_tensor(targets, dtype=tf.float64)\n",
    "        inputs = (images, others, features, targets)\n",
    "        inputs, targets = create_window(inputs, seq_starts, seq_lengths, \n",
    "                                        max_length, mode)\n",
    "        ids = np.arange(len(targets))\n",
    "        train_ids, valid_ids = train_test_split(ids, train_size=train_size, stratify=tf.argmax(targets[:, 1:], axis=-1), random_state=42)\n",
    "        inputs_train = (\n",
    "            tf.gather(inputs[0], train_ids),\n",
    "            tf.gather(inputs[1], train_ids),\n",
    "            tf.gather(inputs[2], train_ids)\n",
    "        )\n",
    "        inputs_valid = (\n",
    "            tf.gather(inputs[0], valid_ids),\n",
    "            tf.gather(inputs[1], valid_ids),\n",
    "            tf.gather(inputs[2], valid_ids)\n",
    "        )\n",
    "        targets_train, targets_valid = tf.gather(targets, train_ids), tf.gather(targets, valid_ids)\n",
    "        # targets_train, targets_valid = targets[train_ids], targets[valid_ids]\n",
    "        # inputs_train, inputs_valid, targets_train, targets_valid = train_test_split(\n",
    "        #     (inputs[0], inputs[1], inputs[2]), targets, train_size=train_size, stratify=targets[:, :1]\n",
    "        # )\n",
    "        type_train_ds = tf.data.Dataset.from_tensor_slices((inputs_train, targets_train[:, :1]))\n",
    "        type_train_ds = type_train_ds.shuffle(len(inputs_train)).batch(batch_size)\n",
    "        gesture_train_ds = tf.data.Dataset.from_tensor_slices((inputs_train, targets_train[:, 1:]))\n",
    "        gesture_train_ds = gesture_train_ds.shuffle(len(inputs_train)).batch(batch_size)\n",
    "\n",
    "        type_valid_ds = tf.data.Dataset.from_tensor_slices((inputs_valid, targets_valid[:, :1]))\n",
    "        type_valid_ds = type_valid_ds.shuffle(len(inputs_valid)).batch(batch_size)\n",
    "        gesture_valid_ds = tf.data.Dataset.from_tensor_slices((inputs_valid, targets_valid[:, 1:]))\n",
    "        gesture_valid_ds = gesture_valid_ds.shuffle(len(inputs_valid)).batch(batch_size)\n",
    "        return type_train_ds, type_valid_ds, gesture_train_ds, gesture_valid_ds\n",
    "    else:\n",
    "        inputs = (images, others, features)\n",
    "        inputs = create_window(inputs, seq_starts, seq_lengths, \n",
    "                               max_length, mode)\n",
    "        test_ds = tf.data.Dataset.from_tensor_slices(inputs)\n",
    "        test_ds = test_ds.batch(batch_size)\n",
    "    return test_ds\n",
    "\n",
    "\n",
    "def create_window(inputs, seq_starts, seq_lengths, max_length=100, mode=\"train\"):\n",
    "    images = inputs[0]\n",
    "    others = inputs[1]\n",
    "    features = inputs[2]\n",
    "\n",
    "    image_windows = []\n",
    "    other_windows = []\n",
    "    feature_windows = []\n",
    "\n",
    "    if mode != \"test\":\n",
    "        targets = inputs[3]\n",
    "        target_windows = []\n",
    "    \n",
    "    for start, length in zip(seq_starts, seq_lengths):\n",
    "        if length < max_length:\n",
    "            image_window = images[start:start+length]\n",
    "            other_window = others[start:start+length]\n",
    "        else:\n",
    "            image_window = images[start:start+100]\n",
    "            other_window = others[start:start+100]\n",
    "        feature_window = features[start]\n",
    "        if mode != \"test\":\n",
    "            target_window = targets[start]\n",
    "        if length < max_length:\n",
    "            image_window = tf.pad(image_window, \n",
    "                                  tf.constant([[0, max_length-length],\n",
    "                                               [0, 0],\n",
    "                                               [0, 0],\n",
    "                                               [0, 0]]))\n",
    "            other_window = tf.pad(other_window, \n",
    "                                  tf.constant([[0, max_length-length],\n",
    "                                               [0, 0]]))\n",
    "        image_windows.append(image_window)\n",
    "        other_windows.append(other_window)\n",
    "        feature_windows.append(feature_window)\n",
    "        if mode != \"test\":\n",
    "            target_windows.append(target_window)\n",
    "\n",
    "    image_windows = tf.stack(image_windows)\n",
    "    other_windows = tf.stack(other_windows)\n",
    "    feature_windows = tf.stack(feature_windows)\n",
    "\n",
    "    if mode != \"test\":\n",
    "        target_windows = tf.stack(target_windows)\n",
    "        return (image_windows, other_windows, feature_windows), target_windows\n",
    "    else:\n",
    "        return (image_windows, other_windows, feature_windows)"
   ]
  },
  {
   "cell_type": "code",
   "execution_count": 8,
   "id": "06c9d8cc",
   "metadata": {
    "execution": {
     "iopub.execute_input": "2025-07-22T16:10:50.620916Z",
     "iopub.status.busy": "2025-07-22T16:10:50.620569Z",
     "iopub.status.idle": "2025-07-22T16:10:50.625816Z",
     "shell.execute_reply": "2025-07-22T16:10:50.624807Z"
    },
    "papermill": {
     "duration": 0.012351,
     "end_time": "2025-07-22T16:10:50.627280",
     "exception": false,
     "start_time": "2025-07-22T16:10:50.614929",
     "status": "completed"
    },
    "tags": []
   },
   "outputs": [],
   "source": [
    "def get_sequence_targets(df):\n",
    "    seq_ids = df[\"sequence_id\"].values\n",
    "    seq_starts = np.array(df[df[\"sequence_counter\"]==0].index)\n",
    "    sequence_targets = df.loc[seq_starts, \"sequence_type\"].values\n",
    "    return sequence_targets"
   ]
  },
  {
   "cell_type": "code",
   "execution_count": 9,
   "id": "9f2a0592",
   "metadata": {
    "execution": {
     "iopub.execute_input": "2025-07-22T16:10:50.638665Z",
     "iopub.status.busy": "2025-07-22T16:10:50.638320Z",
     "iopub.status.idle": "2025-07-22T16:10:50.643662Z",
     "shell.execute_reply": "2025-07-22T16:10:50.642715Z"
    },
    "papermill": {
     "duration": 0.013204,
     "end_time": "2025-07-22T16:10:50.645593",
     "exception": false,
     "start_time": "2025-07-22T16:10:50.632389",
     "status": "completed"
    },
    "tags": []
   },
   "outputs": [],
   "source": [
    "gesture_columns = gestures.columns\n",
    "def get_sequence_gestures(df):\n",
    "    seq_ids = df[\"sequence_id\"].values\n",
    "    seq_starts = np.array(df[df[\"sequence_counter\"]==0].index)\n",
    "    sequence_gestures = df.loc[seq_starts, gesture_columns]\n",
    "    return sequence_gestures"
   ]
  },
  {
   "cell_type": "code",
   "execution_count": 10,
   "id": "a9ea02c8",
   "metadata": {
    "execution": {
     "iopub.execute_input": "2025-07-22T16:10:50.658836Z",
     "iopub.status.busy": "2025-07-22T16:10:50.658504Z",
     "iopub.status.idle": "2025-07-22T16:11:18.015094Z",
     "shell.execute_reply": "2025-07-22T16:11:18.013592Z"
    },
    "papermill": {
     "duration": 27.36719,
     "end_time": "2025-07-22T16:11:18.018869",
     "exception": false,
     "start_time": "2025-07-22T16:10:50.651679",
     "status": "completed"
    },
    "tags": []
   },
   "outputs": [
    {
     "name": "stderr",
     "output_type": "stream",
     "text": [
      "2025-07-22 16:10:52.085312: E external/local_xla/xla/stream_executor/cuda/cuda_driver.cc:152] failed call to cuInit: INTERNAL: CUDA error: Failed call to cuInit: UNKNOWN ERROR (303)\n"
     ]
    }
   ],
   "source": [
    "type_train_ds, type_valid_ds, gesture_train_ds, gesture_valid_ds = create_dataset(train_df)"
   ]
  },
  {
   "cell_type": "code",
   "execution_count": 11,
   "id": "e802e992",
   "metadata": {
    "execution": {
     "iopub.execute_input": "2025-07-22T16:11:18.034407Z",
     "iopub.status.busy": "2025-07-22T16:11:18.033356Z",
     "iopub.status.idle": "2025-07-22T16:11:18.081517Z",
     "shell.execute_reply": "2025-07-22T16:11:18.080691Z"
    },
    "papermill": {
     "duration": 0.057341,
     "end_time": "2025-07-22T16:11:18.084068",
     "exception": false,
     "start_time": "2025-07-22T16:11:18.026727",
     "status": "completed"
    },
    "tags": []
   },
   "outputs": [
    {
     "name": "stdout",
     "output_type": "stream",
     "text": [
      "2828\n",
      "4767\n"
     ]
    }
   ],
   "source": [
    "sequence_targets = get_sequence_targets(train_df)\n",
    "print(len(sequence_targets[sequence_targets == 0]))\n",
    "print(len(sequence_targets[sequence_targets == 1]))"
   ]
  },
  {
   "cell_type": "code",
   "execution_count": 12,
   "id": "aabe39e8",
   "metadata": {
    "execution": {
     "iopub.execute_input": "2025-07-22T16:11:18.095278Z",
     "iopub.status.busy": "2025-07-22T16:11:18.094895Z",
     "iopub.status.idle": "2025-07-22T16:11:18.101244Z",
     "shell.execute_reply": "2025-07-22T16:11:18.100134Z"
    },
    "papermill": {
     "duration": 0.013982,
     "end_time": "2025-07-22T16:11:18.103098",
     "exception": false,
     "start_time": "2025-07-22T16:11:18.089116",
     "status": "completed"
    },
    "tags": []
   },
   "outputs": [],
   "source": [
    "len_target = len(sequence_targets[sequence_targets == 1])\n",
    "len_non_target = len(sequence_targets[sequence_targets == 0])\n",
    "type_sample_weight = (len_target/len_non_target, len_target/len_target)"
   ]
  },
  {
   "cell_type": "code",
   "execution_count": 13,
   "id": "8b25e4f1",
   "metadata": {
    "execution": {
     "iopub.execute_input": "2025-07-22T16:11:18.114232Z",
     "iopub.status.busy": "2025-07-22T16:11:18.113877Z",
     "iopub.status.idle": "2025-07-22T16:11:18.120440Z",
     "shell.execute_reply": "2025-07-22T16:11:18.119584Z"
    },
    "papermill": {
     "duration": 0.014294,
     "end_time": "2025-07-22T16:11:18.122366",
     "exception": false,
     "start_time": "2025-07-22T16:11:18.108072",
     "status": "completed"
    },
    "tags": []
   },
   "outputs": [
    {
     "data": {
      "text/plain": [
       "(1.6856435643564356, 1.0)"
      ]
     },
     "execution_count": 13,
     "metadata": {},
     "output_type": "execute_result"
    }
   ],
   "source": [
    "type_sample_weight"
   ]
  },
  {
   "cell_type": "code",
   "execution_count": 14,
   "id": "0ad3b879",
   "metadata": {
    "execution": {
     "iopub.execute_input": "2025-07-22T16:11:18.133972Z",
     "iopub.status.busy": "2025-07-22T16:11:18.133673Z",
     "iopub.status.idle": "2025-07-22T16:11:18.140293Z",
     "shell.execute_reply": "2025-07-22T16:11:18.139410Z"
    },
    "papermill": {
     "duration": 0.014363,
     "end_time": "2025-07-22T16:11:18.142128",
     "exception": false,
     "start_time": "2025-07-22T16:11:18.127765",
     "status": "completed"
    },
    "tags": []
   },
   "outputs": [
    {
     "data": {
      "text/plain": [
       "Index(['Above ear - pull hair', 'Cheek - pinch skin', 'Drink from bottle/cup',\n",
       "       'Eyebrow - pull hair', 'Eyelash - pull hair',\n",
       "       'Feel around in tray and pull out an object',\n",
       "       'Forehead - pull hairline', 'Forehead - scratch', 'Glasses on/off',\n",
       "       'Neck - pinch skin', 'Neck - scratch', 'Pinch knee/leg skin',\n",
       "       'Pull air toward your face', 'Scratch knee/leg skin', 'Text on phone',\n",
       "       'Wave hello', 'Write name in air', 'Write name on leg'],\n",
       "      dtype='object')"
      ]
     },
     "execution_count": 14,
     "metadata": {},
     "output_type": "execute_result"
    }
   ],
   "source": [
    "gestures.columns"
   ]
  },
  {
   "cell_type": "code",
   "execution_count": 15,
   "id": "f68ff3a4",
   "metadata": {
    "execution": {
     "iopub.execute_input": "2025-07-22T16:11:18.154766Z",
     "iopub.status.busy": "2025-07-22T16:11:18.154405Z",
     "iopub.status.idle": "2025-07-22T16:11:18.209671Z",
     "shell.execute_reply": "2025-07-22T16:11:18.208415Z"
    },
    "papermill": {
     "duration": 0.063559,
     "end_time": "2025-07-22T16:11:18.211444",
     "exception": false,
     "start_time": "2025-07-22T16:11:18.147885",
     "status": "completed"
    },
    "tags": []
   },
   "outputs": [],
   "source": [
    "non_target_gestures = [\"Drink from bottle/cup\", \"Glasses on/off\", \"Pull air toward your face\",\n",
    "                       \"Pinch knee/leg skin\", \"Scratch knee/leg skin\", \"Write name on leg\",\n",
    "                       \"Text on phone\", \"Feel around in tray and pull out an object\",\n",
    "                       \"Write name in air\", \"Wave hello\"]\n",
    "sequence_gestures = get_sequence_gestures(train_df)\n",
    "all_count = sequence_gestures.sum()\n",
    "non_target_count = all_count[non_target_gestures]\n",
    "non_target_sum = non_target_count.sum()\n",
    "all_count[non_target_gestures] = non_target_sum\n",
    "all_count = non_target_sum / all_count\n",
    "gesture_sample_weight = tuple(all_count.values)"
   ]
  },
  {
   "cell_type": "code",
   "execution_count": 16,
   "id": "05c73883",
   "metadata": {
    "execution": {
     "iopub.execute_input": "2025-07-22T16:11:18.223163Z",
     "iopub.status.busy": "2025-07-22T16:11:18.222848Z",
     "iopub.status.idle": "2025-07-22T16:11:18.229165Z",
     "shell.execute_reply": "2025-07-22T16:11:18.228304Z"
    },
    "papermill": {
     "duration": 0.014159,
     "end_time": "2025-07-22T16:11:18.230860",
     "exception": false,
     "start_time": "2025-07-22T16:11:18.216701",
     "status": "completed"
    },
    "tags": []
   },
   "outputs": [
    {
     "data": {
      "text/plain": [
       "(4.768971332209106,\n",
       " 4.74496644295302,\n",
       " 1.0,\n",
       " 4.7851099830795265,\n",
       " 4.768971332209106,\n",
       " 1.0,\n",
       " 4.7370184254606365,\n",
       " 4.7370184254606365,\n",
       " 1.0,\n",
       " 4.705490848585691,\n",
       " 4.721202003338898,\n",
       " 1.0,\n",
       " 1.0,\n",
       " 1.0,\n",
       " 1.0,\n",
       " 1.0,\n",
       " 1.0,\n",
       " 1.0)"
      ]
     },
     "execution_count": 16,
     "metadata": {},
     "output_type": "execute_result"
    }
   ],
   "source": [
    "gesture_sample_weight"
   ]
  },
  {
   "cell_type": "code",
   "execution_count": 17,
   "id": "a4257349",
   "metadata": {
    "execution": {
     "iopub.execute_input": "2025-07-22T16:11:18.242921Z",
     "iopub.status.busy": "2025-07-22T16:11:18.242081Z",
     "iopub.status.idle": "2025-07-22T16:11:18.250203Z",
     "shell.execute_reply": "2025-07-22T16:11:18.249055Z"
    },
    "papermill": {
     "duration": 0.015964,
     "end_time": "2025-07-22T16:11:18.252040",
     "exception": false,
     "start_time": "2025-07-22T16:11:18.236076",
     "status": "completed"
    },
    "tags": []
   },
   "outputs": [
    {
     "name": "stdout",
     "output_type": "stream",
     "text": [
      "380\n",
      "95\n",
      "380\n",
      "95\n"
     ]
    }
   ],
   "source": [
    "print(len(type_train_ds))\n",
    "print(len(type_valid_ds))\n",
    "print(len(gesture_train_ds))\n",
    "print(len(gesture_valid_ds))"
   ]
  },
  {
   "cell_type": "code",
   "execution_count": 18,
   "id": "715c98e6",
   "metadata": {
    "execution": {
     "iopub.execute_input": "2025-07-22T16:11:18.263850Z",
     "iopub.status.busy": "2025-07-22T16:11:18.263283Z",
     "iopub.status.idle": "2025-07-22T16:11:19.891788Z",
     "shell.execute_reply": "2025-07-22T16:11:19.890552Z"
    },
    "papermill": {
     "duration": 1.636036,
     "end_time": "2025-07-22T16:11:19.893323",
     "exception": false,
     "start_time": "2025-07-22T16:11:18.257287",
     "status": "completed"
    },
    "tags": []
   },
   "outputs": [
    {
     "name": "stdout",
     "output_type": "stream",
     "text": [
      "(16, 100, 8, 8, 5)\n",
      "(16, 100, 12)\n",
      "(16, 14)\n",
      "(16, 1)\n"
     ]
    }
   ],
   "source": [
    "# Check dataset shape\n",
    "for i, (inputs, targets) in enumerate(type_train_ds):\n",
    "    if i == 0:\n",
    "        print(inputs[0].shape)        # Image (TOF)\n",
    "        print(inputs[1].shape)        # Other time-series\n",
    "        print(inputs[2].shape)        # Feature\n",
    "        print(targets.shape)          # Target or Non-Target\n",
    "        break"
   ]
  },
  {
   "cell_type": "code",
   "execution_count": 19,
   "id": "ed70f41a",
   "metadata": {
    "execution": {
     "iopub.execute_input": "2025-07-22T16:11:19.905251Z",
     "iopub.status.busy": "2025-07-22T16:11:19.904958Z",
     "iopub.status.idle": "2025-07-22T16:11:21.462886Z",
     "shell.execute_reply": "2025-07-22T16:11:21.461439Z"
    },
    "papermill": {
     "duration": 1.565953,
     "end_time": "2025-07-22T16:11:21.464547",
     "exception": false,
     "start_time": "2025-07-22T16:11:19.898594",
     "status": "completed"
    },
    "tags": []
   },
   "outputs": [
    {
     "name": "stdout",
     "output_type": "stream",
     "text": [
      "(16, 100, 8, 8, 5)\n",
      "(16, 100, 12)\n",
      "(16, 14)\n",
      "(16, 18)\n"
     ]
    }
   ],
   "source": [
    "for i, (inputs, targets) in enumerate(gesture_train_ds):\n",
    "    if i == 0:\n",
    "        print(inputs[0].shape)        # Image (TOF)\n",
    "        print(inputs[1].shape)        # Other time-series\n",
    "        print(inputs[2].shape)        # Feature\n",
    "        print(targets.shape)          # Gesture\n",
    "        break"
   ]
  },
  {
   "cell_type": "code",
   "execution_count": 20,
   "id": "3f396859",
   "metadata": {
    "execution": {
     "iopub.execute_input": "2025-07-22T16:11:21.477098Z",
     "iopub.status.busy": "2025-07-22T16:11:21.476727Z",
     "iopub.status.idle": "2025-07-22T16:11:21.496660Z",
     "shell.execute_reply": "2025-07-22T16:11:21.495558Z"
    },
    "papermill": {
     "duration": 0.028565,
     "end_time": "2025-07-22T16:11:21.498725",
     "exception": false,
     "start_time": "2025-07-22T16:11:21.470160",
     "status": "completed"
    },
    "tags": []
   },
   "outputs": [],
   "source": [
    "test_ds = create_dataset(test_df, mode=\"test\")"
   ]
  },
  {
   "cell_type": "code",
   "execution_count": 21,
   "id": "ab2ccae3",
   "metadata": {
    "execution": {
     "iopub.execute_input": "2025-07-22T16:11:21.511911Z",
     "iopub.status.busy": "2025-07-22T16:11:21.511576Z",
     "iopub.status.idle": "2025-07-22T16:11:21.528969Z",
     "shell.execute_reply": "2025-07-22T16:11:21.527915Z"
    },
    "papermill": {
     "duration": 0.025784,
     "end_time": "2025-07-22T16:11:21.530424",
     "exception": false,
     "start_time": "2025-07-22T16:11:21.504640",
     "status": "completed"
    },
    "tags": []
   },
   "outputs": [
    {
     "name": "stdout",
     "output_type": "stream",
     "text": [
      "(2, 100, 8, 8, 5)\n",
      "(2, 100, 12)\n",
      "(2, 14)\n"
     ]
    }
   ],
   "source": [
    "# Check dataset shape\n",
    "for inputs in test_ds:\n",
    "    print(inputs[0].shape)        # Image (TOF)\n",
    "    print(inputs[1].shape)        # Other time-series\n",
    "    print(inputs[2].shape)        # Feature"
   ]
  },
  {
   "cell_type": "code",
   "execution_count": 22,
   "id": "dfd7adaa",
   "metadata": {
    "execution": {
     "iopub.execute_input": "2025-07-22T16:11:21.543223Z",
     "iopub.status.busy": "2025-07-22T16:11:21.542504Z",
     "iopub.status.idle": "2025-07-22T16:11:34.973086Z",
     "shell.execute_reply": "2025-07-22T16:11:34.972001Z"
    },
    "papermill": {
     "duration": 13.43921,
     "end_time": "2025-07-22T16:11:34.975285",
     "exception": false,
     "start_time": "2025-07-22T16:11:21.536075",
     "status": "completed"
    },
    "tags": []
   },
   "outputs": [],
   "source": [
    "import os\n",
    "output_path = \"/kaggle/working/\"\n",
    "type_train_path = os.path.join(output_path, \"type_train_ds\")\n",
    "type_valid_path = os.path.join(output_path, \"type_valid_ds\")\n",
    "gesture_train_path = os.path.join(output_path, \"gesture_train_ds\")\n",
    "gesture_valid_path = os.path.join(output_path, \"gesture_valid_ds\")\n",
    "test_path = os.path.join(output_path, \"test_ds\")\n",
    "\n",
    "tf.data.experimental.save(type_train_ds, type_train_path)\n",
    "tf.data.experimental.save(type_valid_ds, type_valid_path)\n",
    "tf.data.experimental.save(gesture_train_ds, gesture_train_path)\n",
    "tf.data.experimental.save(gesture_valid_ds, gesture_valid_path)\n",
    "tf.data.experimental.save(test_ds, test_path)"
   ]
  },
  {
   "cell_type": "code",
   "execution_count": 23,
   "id": "9dcb466f",
   "metadata": {
    "execution": {
     "iopub.execute_input": "2025-07-22T16:11:35.043334Z",
     "iopub.status.busy": "2025-07-22T16:11:35.042997Z",
     "iopub.status.idle": "2025-07-22T16:11:35.048858Z",
     "shell.execute_reply": "2025-07-22T16:11:35.047806Z"
    },
    "papermill": {
     "duration": 0.06956,
     "end_time": "2025-07-22T16:11:35.050376",
     "exception": false,
     "start_time": "2025-07-22T16:11:34.980816",
     "status": "completed"
    },
    "tags": []
   },
   "outputs": [],
   "source": [
    "import json\n",
    "\n",
    "mapping_dicts = {\n",
    "    \"type_mapping\":type_mapping, \n",
    "    \"gesture_mapping\": gesture_mapping\n",
    "}\n",
    "\n",
    "dict_path = os.path.join(output_path, \"mapping.json\")\n",
    "with open(dict_path, \"w\") as f:\n",
    "    json.dump(mapping_dicts, f, indent=2)"
   ]
  },
  {
   "cell_type": "code",
   "execution_count": 24,
   "id": "c4ad2493",
   "metadata": {
    "execution": {
     "iopub.execute_input": "2025-07-22T16:11:35.117268Z",
     "iopub.status.busy": "2025-07-22T16:11:35.116292Z",
     "iopub.status.idle": "2025-07-22T16:11:35.122512Z",
     "shell.execute_reply": "2025-07-22T16:11:35.121314Z"
    },
    "papermill": {
     "duration": 0.068415,
     "end_time": "2025-07-22T16:11:35.124296",
     "exception": false,
     "start_time": "2025-07-22T16:11:35.055881",
     "status": "completed"
    },
    "tags": []
   },
   "outputs": [],
   "source": [
    "sample_weight_dicts = {\n",
    "    \"type_sample_weight\": type_sample_weight,\n",
    "    \"gesture_sample_weight\": gesture_sample_weight\n",
    "}\n",
    "\n",
    "dict_path = os.path.join(output_path, \"sample_weight.json\")\n",
    "with open(dict_path, \"w\") as f:\n",
    "    json.dump(sample_weight_dicts, f, indent=2)"
   ]
  },
  {
   "cell_type": "code",
   "execution_count": null,
   "id": "e53e42cb",
   "metadata": {
    "papermill": {
     "duration": 0.072336,
     "end_time": "2025-07-22T16:11:35.202496",
     "exception": false,
     "start_time": "2025-07-22T16:11:35.130160",
     "status": "completed"
    },
    "tags": []
   },
   "outputs": [],
   "source": []
  }
 ],
 "metadata": {
  "kaggle": {
   "accelerator": "none",
   "dataSources": [
    {
     "databundleVersionId": 12518947,
     "sourceId": 102335,
     "sourceType": "competition"
    },
    {
     "datasetId": 7856290,
     "sourceId": 12454411,
     "sourceType": "datasetVersion"
    }
   ],
   "dockerImageVersionId": 31089,
   "isGpuEnabled": false,
   "isInternetEnabled": true,
   "language": "python",
   "sourceType": "notebook"
  },
  "kernelspec": {
   "display_name": "Python 3",
   "language": "python",
   "name": "python3"
  },
  "language_info": {
   "codemirror_mode": {
    "name": "ipython",
    "version": 3
   },
   "file_extension": ".py",
   "mimetype": "text/x-python",
   "name": "python",
   "nbconvert_exporter": "python",
   "pygments_lexer": "ipython3",
   "version": "3.11.13"
  },
  "papermill": {
   "default_parameters": {},
   "duration": 168.299204,
   "end_time": "2025-07-22T16:11:39.099129",
   "environment_variables": {},
   "exception": null,
   "input_path": "__notebook__.ipynb",
   "output_path": "__notebook__.ipynb",
   "parameters": {},
   "start_time": "2025-07-22T16:08:50.799925",
   "version": "2.6.0"
  }
 },
 "nbformat": 4,
 "nbformat_minor": 5
}
