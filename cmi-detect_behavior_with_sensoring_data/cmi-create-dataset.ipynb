{
 "cells": [
  {
   "cell_type": "code",
   "execution_count": 1,
   "id": "9b72f469",
   "metadata": {
    "execution": {
     "iopub.execute_input": "2025-08-01T13:45:26.886032Z",
     "iopub.status.busy": "2025-08-01T13:45:26.885663Z",
     "iopub.status.idle": "2025-08-01T13:45:49.330714Z",
     "shell.execute_reply": "2025-08-01T13:45:49.329782Z"
    },
    "papermill": {
     "duration": 22.453104,
     "end_time": "2025-08-01T13:45:49.332499",
     "exception": false,
     "start_time": "2025-08-01T13:45:26.879395",
     "status": "completed"
    },
    "tags": []
   },
   "outputs": [
    {
     "name": "stderr",
     "output_type": "stream",
     "text": [
      "2025-08-01 13:45:31.609355: E external/local_xla/xla/stream_executor/cuda/cuda_fft.cc:477] Unable to register cuFFT factory: Attempting to register factory for plugin cuFFT when one has already been registered\n",
      "WARNING: All log messages before absl::InitializeLog() is called are written to STDERR\n",
      "E0000 00:00:1754055931.934207      13 cuda_dnn.cc:8310] Unable to register cuDNN factory: Attempting to register factory for plugin cuDNN when one has already been registered\n",
      "E0000 00:00:1754055932.033375      13 cuda_blas.cc:1418] Unable to register cuBLAS factory: Attempting to register factory for plugin cuBLAS when one has already been registered\n"
     ]
    }
   ],
   "source": [
    "import numpy as np\n",
    "import pandas as pd\n",
    "import matplotlib.pyplot as plt\n",
    "import tensorflow as tf\n",
    "import warnings\n",
    "from itertools import product\n",
    "from sklearn.preprocessing import OneHotEncoder\n",
    "warnings.filterwarnings(\"ignore\")"
   ]
  },
  {
   "cell_type": "code",
   "execution_count": 2,
   "id": "b5e663f4",
   "metadata": {
    "execution": {
     "iopub.execute_input": "2025-08-01T13:45:49.343535Z",
     "iopub.status.busy": "2025-08-01T13:45:49.342928Z",
     "iopub.status.idle": "2025-08-01T13:47:02.966104Z",
     "shell.execute_reply": "2025-08-01T13:47:02.965109Z"
    },
    "papermill": {
     "duration": 73.630631,
     "end_time": "2025-08-01T13:47:02.968049",
     "exception": false,
     "start_time": "2025-08-01T13:45:49.337418",
     "status": "completed"
    },
    "tags": []
   },
   "outputs": [],
   "source": [
    "train_df = pd.read_csv(\"/kaggle/input/preprocessed-dataset/preprocessed_train.csv\")\n",
    "test_df = pd.read_csv(\"/kaggle/input/preprocessed-dataset/preprocessed_test.csv\")"
   ]
  },
  {
   "cell_type": "code",
   "execution_count": 3,
   "id": "eacedafd",
   "metadata": {
    "execution": {
     "iopub.execute_input": "2025-08-01T13:47:02.979492Z",
     "iopub.status.busy": "2025-08-01T13:47:02.979188Z",
     "iopub.status.idle": "2025-08-01T13:47:03.018745Z",
     "shell.execute_reply": "2025-08-01T13:47:03.017713Z"
    },
    "papermill": {
     "duration": 0.047049,
     "end_time": "2025-08-01T13:47:03.020761",
     "exception": false,
     "start_time": "2025-08-01T13:47:02.973712",
     "status": "completed"
    },
    "tags": []
   },
   "outputs": [
    {
     "data": {
      "text/plain": [
       "array(['Target', 'Non-Target'], dtype=object)"
      ]
     },
     "execution_count": 3,
     "metadata": {},
     "output_type": "execute_result"
    }
   ],
   "source": [
    "train_df[\"sequence_type\"].unique()"
   ]
  },
  {
   "cell_type": "code",
   "execution_count": 4,
   "id": "70f0b191",
   "metadata": {
    "execution": {
     "iopub.execute_input": "2025-08-01T13:47:03.032300Z",
     "iopub.status.busy": "2025-08-01T13:47:03.031975Z",
     "iopub.status.idle": "2025-08-01T13:47:03.073051Z",
     "shell.execute_reply": "2025-08-01T13:47:03.072168Z"
    },
    "papermill": {
     "duration": 0.048456,
     "end_time": "2025-08-01T13:47:03.074660",
     "exception": false,
     "start_time": "2025-08-01T13:47:03.026204",
     "status": "completed"
    },
    "tags": []
   },
   "outputs": [],
   "source": [
    "type_mapping = {\"Target\": 1, \"Non-Target\": 0}\n",
    "train_df[\"sequence_type\"] = train_df[\"sequence_type\"].map(type_mapping)"
   ]
  },
  {
   "cell_type": "code",
   "execution_count": 5,
   "id": "362ad6f0",
   "metadata": {
    "execution": {
     "iopub.execute_input": "2025-08-01T13:47:03.085089Z",
     "iopub.status.busy": "2025-08-01T13:47:03.084734Z",
     "iopub.status.idle": "2025-08-01T13:47:04.163397Z",
     "shell.execute_reply": "2025-08-01T13:47:04.162170Z"
    },
    "papermill": {
     "duration": 1.085905,
     "end_time": "2025-08-01T13:47:04.165249",
     "exception": false,
     "start_time": "2025-08-01T13:47:03.079344",
     "status": "completed"
    },
    "tags": []
   },
   "outputs": [],
   "source": [
    "gestures = pd.get_dummies(train_df[\"gesture\"])\n",
    "train_df = pd.concat([train_df, gestures], axis=1)\n",
    "train_df = train_df.drop([\"gesture\"], axis=1)"
   ]
  },
  {
   "cell_type": "code",
   "execution_count": 6,
   "id": "cdd5b49d",
   "metadata": {
    "execution": {
     "iopub.execute_input": "2025-08-01T13:47:04.176380Z",
     "iopub.status.busy": "2025-08-01T13:47:04.176059Z",
     "iopub.status.idle": "2025-08-01T13:47:04.181036Z",
     "shell.execute_reply": "2025-08-01T13:47:04.180044Z"
    },
    "papermill": {
     "duration": 0.012501,
     "end_time": "2025-08-01T13:47:04.182685",
     "exception": false,
     "start_time": "2025-08-01T13:47:04.170184",
     "status": "completed"
    },
    "tags": []
   },
   "outputs": [],
   "source": [
    "gesture_mapping = {gesture: i for i, gesture in enumerate(gestures)}"
   ]
  },
  {
   "cell_type": "code",
   "execution_count": 7,
   "id": "11491ec7",
   "metadata": {
    "execution": {
     "iopub.execute_input": "2025-08-01T13:47:04.194731Z",
     "iopub.status.busy": "2025-08-01T13:47:04.194421Z",
     "iopub.status.idle": "2025-08-01T13:47:04.377649Z",
     "shell.execute_reply": "2025-08-01T13:47:04.376791Z"
    },
    "papermill": {
     "duration": 0.192027,
     "end_time": "2025-08-01T13:47:04.379400",
     "exception": false,
     "start_time": "2025-08-01T13:47:04.187373",
     "status": "completed"
    },
    "tags": []
   },
   "outputs": [],
   "source": [
    "from sklearn.model_selection import train_test_split\n",
    "tf.random.set_seed(42)\n",
    "acc_columns = [\"acc_r\", \"acc_theta\", \"acc_phi\"]\n",
    "rot_columns = [\"rot_omega\", \"rot_u_theta\", \"rot_u_phi\"]\n",
    "thm_columns = [\"thm_mean\"]\n",
    "\n",
    "i_list = range(1, 6)\n",
    "j_list = range(64)\n",
    "comb = list(product(i_list, j_list))\n",
    "tof_columns = [f\"tof_{i}_v{j}\" for i, j in comb]\n",
    "\n",
    "def create_dataset(df, max_length=100, batch_size=16, mode=\"train\", train_size=0.8):\n",
    "    seq_ids = df[\"sequence_id\"].values\n",
    "    seq_counters = df[\"sequence_counter\"].values\n",
    "    seq_starts = np.array(df[df[\"sequence_counter\"]==0].index)\n",
    "    seq_lengths = np.diff(np.concatenate([seq_starts, np.array([len(df)])]), n=1)\n",
    "    \n",
    "    images = df[tof_columns].to_numpy()   # (samples, 5*64)\n",
    "    images = images.reshape(-1, 64, 5)\n",
    "    images = images.reshape(-1, 8, 8, 5)\n",
    "    images = tf.convert_to_tensor(images, dtype=tf.float64)\n",
    "\n",
    "    others = df[acc_columns + rot_columns + thm_columns].to_numpy()\n",
    "    others = tf.convert_to_tensor(others, dtype=tf.float64)\n",
    "\n",
    "    feature_columns = ['adult_child', 'age', 'sex', 'height_cm', \n",
    "                       'shoulder_to_wrist_cm', 'elbow_to_wrist_cm']\n",
    "    features = df[feature_columns].to_numpy()\n",
    "    features = tf.convert_to_tensor(features, dtype=tf.float64)\n",
    "\n",
    "    if mode != \"test\":\n",
    "        sequence_types = df[[\"sequence_type\"]].values\n",
    "        gestures = df[gesture_mapping.keys()].values\n",
    "        targets = np.concatenate([sequence_types, gestures], axis=1)\n",
    "        targets = tf.convert_to_tensor(targets, dtype=tf.float64)\n",
    "        inputs = (images, others, features, targets)\n",
    "        inputs, targets = create_window(inputs, seq_starts, seq_lengths, \n",
    "                                        max_length, mode)\n",
    "        ids = np.arange(len(targets))\n",
    "        train_ids, valid_ids = train_test_split(ids, train_size=train_size, stratify=tf.argmax(targets[:, 1:], axis=-1), random_state=42)\n",
    "        inputs_train = (\n",
    "            tf.gather(inputs[0], train_ids),\n",
    "            tf.gather(inputs[1], train_ids),\n",
    "            tf.gather(inputs[2], train_ids)\n",
    "        )\n",
    "        inputs_valid = (\n",
    "            tf.gather(inputs[0], valid_ids),\n",
    "            tf.gather(inputs[1], valid_ids),\n",
    "            tf.gather(inputs[2], valid_ids)\n",
    "        )\n",
    "        targets_train, targets_valid = tf.gather(targets, train_ids), tf.gather(targets, valid_ids)\n",
    "        type_train_ds = tf.data.Dataset.from_tensor_slices((inputs_train, targets_train[:, :1]))\n",
    "        type_train_ds = type_train_ds.shuffle(len(inputs_train)).batch(batch_size)\n",
    "        gesture_train_ds = tf.data.Dataset.from_tensor_slices((inputs_train, targets_train[:, 1:]))\n",
    "        gesture_train_ds = gesture_train_ds.shuffle(len(inputs_train)).batch(batch_size)\n",
    "\n",
    "        type_valid_ds = tf.data.Dataset.from_tensor_slices((inputs_valid, targets_valid[:, :1]))\n",
    "        type_valid_ds = type_valid_ds.shuffle(len(inputs_valid)).batch(batch_size)\n",
    "        gesture_valid_ds = tf.data.Dataset.from_tensor_slices((inputs_valid, targets_valid[:, 1:]))\n",
    "        gesture_valid_ds = gesture_valid_ds.shuffle(len(inputs_valid)).batch(batch_size)\n",
    "        return type_train_ds, type_valid_ds, gesture_train_ds, gesture_valid_ds\n",
    "    else:\n",
    "        inputs = (images, others, features)\n",
    "        inputs = create_window(inputs, seq_starts, seq_lengths, \n",
    "                               max_length, mode)\n",
    "        test_ds = tf.data.Dataset.from_tensor_slices(inputs)\n",
    "        test_ds = test_ds.batch(batch_size)\n",
    "    return test_ds\n",
    "\n",
    "\n",
    "def create_window(inputs, seq_starts, seq_lengths, max_length=100, mode=\"train\"):\n",
    "    images = inputs[0]\n",
    "    others = inputs[1]\n",
    "    features = inputs[2]\n",
    "\n",
    "    image_windows = []\n",
    "    other_windows = []\n",
    "    feature_windows = []\n",
    "\n",
    "    if mode != \"test\":\n",
    "        targets = inputs[3]\n",
    "        target_windows = []\n",
    "    \n",
    "    for start, length in zip(seq_starts, seq_lengths):\n",
    "        if length < max_length:\n",
    "            image_window = images[start:start+length]\n",
    "            other_window = others[start:start+length]\n",
    "        else:\n",
    "            image_window = images[start:start+100]\n",
    "            other_window = others[start:start+100]\n",
    "        feature_window = features[start]\n",
    "        if mode != \"test\":\n",
    "            target_window = targets[start]\n",
    "        if length < max_length:\n",
    "            image_window = tf.pad(image_window, \n",
    "                                  tf.constant([[0, max_length-length],\n",
    "                                               [0, 0],\n",
    "                                               [0, 0],\n",
    "                                               [0, 0]]))\n",
    "            other_window = tf.pad(other_window, \n",
    "                                  tf.constant([[0, max_length-length],\n",
    "                                               [0, 0]]))\n",
    "        image_windows.append(image_window)\n",
    "        other_windows.append(other_window)\n",
    "        feature_windows.append(feature_window)\n",
    "        if mode != \"test\":\n",
    "            target_windows.append(target_window)\n",
    "\n",
    "    image_windows = tf.stack(image_windows)\n",
    "    other_windows = tf.stack(other_windows)\n",
    "    feature_windows = tf.stack(feature_windows)\n",
    "\n",
    "    if mode != \"test\":\n",
    "        target_windows = tf.stack(target_windows)\n",
    "        return (image_windows, other_windows, feature_windows), target_windows\n",
    "    else:\n",
    "        return (image_windows, other_windows, feature_windows)"
   ]
  },
  {
   "cell_type": "code",
   "execution_count": 8,
   "id": "c472dc77",
   "metadata": {
    "execution": {
     "iopub.execute_input": "2025-08-01T13:47:04.390262Z",
     "iopub.status.busy": "2025-08-01T13:47:04.389489Z",
     "iopub.status.idle": "2025-08-01T13:47:04.395217Z",
     "shell.execute_reply": "2025-08-01T13:47:04.394136Z"
    },
    "papermill": {
     "duration": 0.01269,
     "end_time": "2025-08-01T13:47:04.396707",
     "exception": false,
     "start_time": "2025-08-01T13:47:04.384017",
     "status": "completed"
    },
    "tags": []
   },
   "outputs": [],
   "source": [
    "def get_sequence_targets(df):\n",
    "    seq_ids = df[\"sequence_id\"].values\n",
    "    seq_starts = np.array(df[df[\"sequence_counter\"]==0].index)\n",
    "    sequence_targets = df.loc[seq_starts, \"sequence_type\"].values\n",
    "    return sequence_targets"
   ]
  },
  {
   "cell_type": "code",
   "execution_count": 9,
   "id": "c96c687c",
   "metadata": {
    "execution": {
     "iopub.execute_input": "2025-08-01T13:47:04.406888Z",
     "iopub.status.busy": "2025-08-01T13:47:04.406589Z",
     "iopub.status.idle": "2025-08-01T13:47:04.411620Z",
     "shell.execute_reply": "2025-08-01T13:47:04.410611Z"
    },
    "papermill": {
     "duration": 0.011762,
     "end_time": "2025-08-01T13:47:04.413077",
     "exception": false,
     "start_time": "2025-08-01T13:47:04.401315",
     "status": "completed"
    },
    "tags": []
   },
   "outputs": [],
   "source": [
    "gesture_columns = gestures.columns\n",
    "def get_sequence_gestures(df):\n",
    "    seq_ids = df[\"sequence_id\"].values\n",
    "    seq_starts = np.array(df[df[\"sequence_counter\"]==0].index)\n",
    "    sequence_gestures = df.loc[seq_starts, gesture_columns]\n",
    "    return sequence_gestures"
   ]
  },
  {
   "cell_type": "code",
   "execution_count": 10,
   "id": "25819200",
   "metadata": {
    "execution": {
     "iopub.execute_input": "2025-08-01T13:47:04.423420Z",
     "iopub.status.busy": "2025-08-01T13:47:04.423107Z",
     "iopub.status.idle": "2025-08-01T13:47:21.090287Z",
     "shell.execute_reply": "2025-08-01T13:47:21.089171Z"
    },
    "papermill": {
     "duration": 16.674447,
     "end_time": "2025-08-01T13:47:21.092121",
     "exception": false,
     "start_time": "2025-08-01T13:47:04.417674",
     "status": "completed"
    },
    "tags": []
   },
   "outputs": [
    {
     "name": "stderr",
     "output_type": "stream",
     "text": [
      "2025-08-01 13:47:05.607362: E external/local_xla/xla/stream_executor/cuda/cuda_driver.cc:152] failed call to cuInit: INTERNAL: CUDA error: Failed call to cuInit: UNKNOWN ERROR (303)\n"
     ]
    }
   ],
   "source": [
    "type_train_ds, type_valid_ds, gesture_train_ds, gesture_valid_ds = create_dataset(train_df, batch_size=32)"
   ]
  },
  {
   "cell_type": "code",
   "execution_count": 11,
   "id": "373d8486",
   "metadata": {
    "execution": {
     "iopub.execute_input": "2025-08-01T13:47:21.102540Z",
     "iopub.status.busy": "2025-08-01T13:47:21.102242Z",
     "iopub.status.idle": "2025-08-01T13:47:21.142364Z",
     "shell.execute_reply": "2025-08-01T13:47:21.141276Z"
    },
    "papermill": {
     "duration": 0.04723,
     "end_time": "2025-08-01T13:47:21.144005",
     "exception": false,
     "start_time": "2025-08-01T13:47:21.096775",
     "status": "completed"
    },
    "tags": []
   },
   "outputs": [
    {
     "name": "stdout",
     "output_type": "stream",
     "text": [
      "2828\n",
      "4767\n"
     ]
    }
   ],
   "source": [
    "sequence_targets = get_sequence_targets(train_df)\n",
    "print(len(sequence_targets[sequence_targets == 0]))\n",
    "print(len(sequence_targets[sequence_targets == 1]))"
   ]
  },
  {
   "cell_type": "code",
   "execution_count": 12,
   "id": "bf13e300",
   "metadata": {
    "execution": {
     "iopub.execute_input": "2025-08-01T13:47:21.154982Z",
     "iopub.status.busy": "2025-08-01T13:47:21.154611Z",
     "iopub.status.idle": "2025-08-01T13:47:21.160012Z",
     "shell.execute_reply": "2025-08-01T13:47:21.159144Z"
    },
    "papermill": {
     "duration": 0.012634,
     "end_time": "2025-08-01T13:47:21.161569",
     "exception": false,
     "start_time": "2025-08-01T13:47:21.148935",
     "status": "completed"
    },
    "tags": []
   },
   "outputs": [],
   "source": [
    "len_target = len(sequence_targets[sequence_targets == 1])\n",
    "len_non_target = len(sequence_targets[sequence_targets == 0])\n",
    "type_sample_weight = (len_target/len_non_target, len_target/len_target)"
   ]
  },
  {
   "cell_type": "code",
   "execution_count": 13,
   "id": "3ed218d7",
   "metadata": {
    "execution": {
     "iopub.execute_input": "2025-08-01T13:47:21.172788Z",
     "iopub.status.busy": "2025-08-01T13:47:21.171755Z",
     "iopub.status.idle": "2025-08-01T13:47:21.177704Z",
     "shell.execute_reply": "2025-08-01T13:47:21.176934Z"
    },
    "papermill": {
     "duration": 0.013017,
     "end_time": "2025-08-01T13:47:21.179301",
     "exception": false,
     "start_time": "2025-08-01T13:47:21.166284",
     "status": "completed"
    },
    "tags": []
   },
   "outputs": [
    {
     "data": {
      "text/plain": [
       "(1.6856435643564356, 1.0)"
      ]
     },
     "execution_count": 13,
     "metadata": {},
     "output_type": "execute_result"
    }
   ],
   "source": [
    "type_sample_weight"
   ]
  },
  {
   "cell_type": "code",
   "execution_count": 14,
   "id": "741a1a55",
   "metadata": {
    "execution": {
     "iopub.execute_input": "2025-08-01T13:47:21.190534Z",
     "iopub.status.busy": "2025-08-01T13:47:21.190175Z",
     "iopub.status.idle": "2025-08-01T13:47:21.196037Z",
     "shell.execute_reply": "2025-08-01T13:47:21.195176Z"
    },
    "papermill": {
     "duration": 0.012847,
     "end_time": "2025-08-01T13:47:21.197471",
     "exception": false,
     "start_time": "2025-08-01T13:47:21.184624",
     "status": "completed"
    },
    "tags": []
   },
   "outputs": [
    {
     "data": {
      "text/plain": [
       "Index(['Above ear - pull hair', 'Cheek - pinch skin', 'Drink from bottle/cup',\n",
       "       'Eyebrow - pull hair', 'Eyelash - pull hair',\n",
       "       'Feel around in tray and pull out an object',\n",
       "       'Forehead - pull hairline', 'Forehead - scratch', 'Glasses on/off',\n",
       "       'Neck - pinch skin', 'Neck - scratch', 'Pinch knee/leg skin',\n",
       "       'Pull air toward your face', 'Scratch knee/leg skin', 'Text on phone',\n",
       "       'Wave hello', 'Write name in air', 'Write name on leg'],\n",
       "      dtype='object')"
      ]
     },
     "execution_count": 14,
     "metadata": {},
     "output_type": "execute_result"
    }
   ],
   "source": [
    "gestures.columns"
   ]
  },
  {
   "cell_type": "code",
   "execution_count": 15,
   "id": "a3b2d5a1",
   "metadata": {
    "execution": {
     "iopub.execute_input": "2025-08-01T13:47:21.208376Z",
     "iopub.status.busy": "2025-08-01T13:47:21.208039Z",
     "iopub.status.idle": "2025-08-01T13:47:21.256791Z",
     "shell.execute_reply": "2025-08-01T13:47:21.256039Z"
    },
    "papermill": {
     "duration": 0.056129,
     "end_time": "2025-08-01T13:47:21.258350",
     "exception": false,
     "start_time": "2025-08-01T13:47:21.202221",
     "status": "completed"
    },
    "tags": []
   },
   "outputs": [],
   "source": [
    "non_target_gestures = [\"Drink from bottle/cup\", \"Glasses on/off\", \"Pull air toward your face\",\n",
    "                       \"Pinch knee/leg skin\", \"Scratch knee/leg skin\", \"Write name on leg\",\n",
    "                       \"Text on phone\", \"Feel around in tray and pull out an object\",\n",
    "                       \"Write name in air\", \"Wave hello\"]\n",
    "sequence_gestures = get_sequence_gestures(train_df)\n",
    "all_count = sequence_gestures.sum()\n",
    "non_target_count = all_count[non_target_gestures]\n",
    "non_target_sum = non_target_count.sum()\n",
    "all_count[non_target_gestures] = non_target_sum\n",
    "all_count = non_target_sum / all_count\n",
    "gesture_sample_weight = tuple(all_count.values)"
   ]
  },
  {
   "cell_type": "code",
   "execution_count": 16,
   "id": "5d66509b",
   "metadata": {
    "execution": {
     "iopub.execute_input": "2025-08-01T13:47:21.269711Z",
     "iopub.status.busy": "2025-08-01T13:47:21.268935Z",
     "iopub.status.idle": "2025-08-01T13:47:21.274708Z",
     "shell.execute_reply": "2025-08-01T13:47:21.273961Z"
    },
    "papermill": {
     "duration": 0.01317,
     "end_time": "2025-08-01T13:47:21.276578",
     "exception": false,
     "start_time": "2025-08-01T13:47:21.263408",
     "status": "completed"
    },
    "tags": []
   },
   "outputs": [
    {
     "data": {
      "text/plain": [
       "(4.768971332209106,\n",
       " 4.74496644295302,\n",
       " 1.0,\n",
       " 4.7851099830795265,\n",
       " 4.768971332209106,\n",
       " 1.0,\n",
       " 4.7370184254606365,\n",
       " 4.7370184254606365,\n",
       " 1.0,\n",
       " 4.705490848585691,\n",
       " 4.721202003338898,\n",
       " 1.0,\n",
       " 1.0,\n",
       " 1.0,\n",
       " 1.0,\n",
       " 1.0,\n",
       " 1.0,\n",
       " 1.0)"
      ]
     },
     "execution_count": 16,
     "metadata": {},
     "output_type": "execute_result"
    }
   ],
   "source": [
    "gesture_sample_weight"
   ]
  },
  {
   "cell_type": "code",
   "execution_count": 17,
   "id": "123b0a8e",
   "metadata": {
    "execution": {
     "iopub.execute_input": "2025-08-01T13:47:21.288347Z",
     "iopub.status.busy": "2025-08-01T13:47:21.288008Z",
     "iopub.status.idle": "2025-08-01T13:47:21.295340Z",
     "shell.execute_reply": "2025-08-01T13:47:21.294326Z"
    },
    "papermill": {
     "duration": 0.014659,
     "end_time": "2025-08-01T13:47:21.296848",
     "exception": false,
     "start_time": "2025-08-01T13:47:21.282189",
     "status": "completed"
    },
    "tags": []
   },
   "outputs": [
    {
     "name": "stdout",
     "output_type": "stream",
     "text": [
      "190\n",
      "48\n",
      "190\n",
      "48\n"
     ]
    }
   ],
   "source": [
    "print(len(type_train_ds))\n",
    "print(len(type_valid_ds))\n",
    "print(len(gesture_train_ds))\n",
    "print(len(gesture_valid_ds))"
   ]
  },
  {
   "cell_type": "code",
   "execution_count": 18,
   "id": "35e2914a",
   "metadata": {
    "execution": {
     "iopub.execute_input": "2025-08-01T13:47:21.308269Z",
     "iopub.status.busy": "2025-08-01T13:47:21.307799Z",
     "iopub.status.idle": "2025-08-01T13:47:22.646420Z",
     "shell.execute_reply": "2025-08-01T13:47:22.645298Z"
    },
    "papermill": {
     "duration": 1.346104,
     "end_time": "2025-08-01T13:47:22.648128",
     "exception": false,
     "start_time": "2025-08-01T13:47:21.302024",
     "status": "completed"
    },
    "tags": []
   },
   "outputs": [
    {
     "name": "stdout",
     "output_type": "stream",
     "text": [
      "(32, 100, 8, 8, 5)\n",
      "(32, 100, 7)\n",
      "(32, 6)\n",
      "(32, 1)\n"
     ]
    }
   ],
   "source": [
    "# Check dataset shape\n",
    "for i, (inputs, targets) in enumerate(type_train_ds):\n",
    "    if i == 0:\n",
    "        print(inputs[0].shape)        # Image (TOF)\n",
    "        print(inputs[1].shape)        # Other time-series\n",
    "        print(inputs[2].shape)        # Feature\n",
    "        print(targets.shape)          # Target or Non-Target\n",
    "        break"
   ]
  },
  {
   "cell_type": "code",
   "execution_count": 19,
   "id": "a4201cd1",
   "metadata": {
    "execution": {
     "iopub.execute_input": "2025-08-01T13:47:22.660112Z",
     "iopub.status.busy": "2025-08-01T13:47:22.659521Z",
     "iopub.status.idle": "2025-08-01T13:47:23.959080Z",
     "shell.execute_reply": "2025-08-01T13:47:23.957987Z"
    },
    "papermill": {
     "duration": 1.307439,
     "end_time": "2025-08-01T13:47:23.960646",
     "exception": false,
     "start_time": "2025-08-01T13:47:22.653207",
     "status": "completed"
    },
    "tags": []
   },
   "outputs": [
    {
     "name": "stdout",
     "output_type": "stream",
     "text": [
      "(32, 100, 8, 8, 5)\n",
      "(32, 100, 7)\n",
      "(32, 6)\n",
      "(32, 18)\n"
     ]
    }
   ],
   "source": [
    "for i, (inputs, targets) in enumerate(gesture_train_ds):\n",
    "    if i == 0:\n",
    "        print(inputs[0].shape)        # Image (TOF)\n",
    "        print(inputs[1].shape)        # Other time-series\n",
    "        print(inputs[2].shape)        # Feature\n",
    "        print(targets.shape)          # Gesture\n",
    "        break"
   ]
  },
  {
   "cell_type": "code",
   "execution_count": 20,
   "id": "b39b613e",
   "metadata": {
    "execution": {
     "iopub.execute_input": "2025-08-01T13:47:23.972256Z",
     "iopub.status.busy": "2025-08-01T13:47:23.971895Z",
     "iopub.status.idle": "2025-08-01T13:47:23.991517Z",
     "shell.execute_reply": "2025-08-01T13:47:23.990444Z"
    },
    "papermill": {
     "duration": 0.027962,
     "end_time": "2025-08-01T13:47:23.994029",
     "exception": false,
     "start_time": "2025-08-01T13:47:23.966067",
     "status": "completed"
    },
    "tags": []
   },
   "outputs": [],
   "source": [
    "test_ds = create_dataset(test_df, batch_size=32, mode=\"test\")"
   ]
  },
  {
   "cell_type": "code",
   "execution_count": 21,
   "id": "f9ebe09e",
   "metadata": {
    "execution": {
     "iopub.execute_input": "2025-08-01T13:47:24.005537Z",
     "iopub.status.busy": "2025-08-01T13:47:24.005241Z",
     "iopub.status.idle": "2025-08-01T13:47:24.020830Z",
     "shell.execute_reply": "2025-08-01T13:47:24.019969Z"
    },
    "papermill": {
     "duration": 0.023352,
     "end_time": "2025-08-01T13:47:24.022429",
     "exception": false,
     "start_time": "2025-08-01T13:47:23.999077",
     "status": "completed"
    },
    "tags": []
   },
   "outputs": [
    {
     "name": "stdout",
     "output_type": "stream",
     "text": [
      "(2, 100, 8, 8, 5)\n",
      "(2, 100, 7)\n",
      "(2, 6)\n"
     ]
    }
   ],
   "source": [
    "# Check dataset shape\n",
    "for inputs in test_ds:\n",
    "    print(inputs[0].shape)        # Image (TOF)\n",
    "    print(inputs[1].shape)        # Other time-series\n",
    "    print(inputs[2].shape)        # Feature"
   ]
  },
  {
   "cell_type": "code",
   "execution_count": 22,
   "id": "f937d904",
   "metadata": {
    "execution": {
     "iopub.execute_input": "2025-08-01T13:47:24.035358Z",
     "iopub.status.busy": "2025-08-01T13:47:24.035022Z",
     "iopub.status.idle": "2025-08-01T13:47:35.373334Z",
     "shell.execute_reply": "2025-08-01T13:47:35.372271Z"
    },
    "papermill": {
     "duration": 11.347917,
     "end_time": "2025-08-01T13:47:35.375678",
     "exception": false,
     "start_time": "2025-08-01T13:47:24.027761",
     "status": "completed"
    },
    "tags": []
   },
   "outputs": [],
   "source": [
    "import os\n",
    "output_path = \"/kaggle/working/\"\n",
    "type_train_path = os.path.join(output_path, \"type_train_ds\")\n",
    "type_valid_path = os.path.join(output_path, \"type_valid_ds\")\n",
    "gesture_train_path = os.path.join(output_path, \"gesture_train_ds\")\n",
    "gesture_valid_path = os.path.join(output_path, \"gesture_valid_ds\")\n",
    "test_path = os.path.join(output_path, \"test_ds\")\n",
    "\n",
    "tf.data.experimental.save(type_train_ds, type_train_path)\n",
    "tf.data.experimental.save(type_valid_ds, type_valid_path)\n",
    "tf.data.experimental.save(gesture_train_ds, gesture_train_path)\n",
    "tf.data.experimental.save(gesture_valid_ds, gesture_valid_path)\n",
    "tf.data.experimental.save(test_ds, test_path)"
   ]
  },
  {
   "cell_type": "code",
   "execution_count": 23,
   "id": "32748eec",
   "metadata": {
    "execution": {
     "iopub.execute_input": "2025-08-01T13:47:35.428279Z",
     "iopub.status.busy": "2025-08-01T13:47:35.427868Z",
     "iopub.status.idle": "2025-08-01T13:47:35.434289Z",
     "shell.execute_reply": "2025-08-01T13:47:35.433152Z"
    },
    "papermill": {
     "duration": 0.051638,
     "end_time": "2025-08-01T13:47:35.436123",
     "exception": false,
     "start_time": "2025-08-01T13:47:35.384485",
     "status": "completed"
    },
    "tags": []
   },
   "outputs": [],
   "source": [
    "import json\n",
    "\n",
    "mapping_dicts = {\n",
    "    \"type_mapping\":type_mapping, \n",
    "    \"gesture_mapping\": gesture_mapping\n",
    "}\n",
    "\n",
    "dict_path = os.path.join(output_path, \"mapping.json\")\n",
    "with open(dict_path, \"w\") as f:\n",
    "    json.dump(mapping_dicts, f, indent=2)"
   ]
  },
  {
   "cell_type": "code",
   "execution_count": 24,
   "id": "f18249ad",
   "metadata": {
    "execution": {
     "iopub.execute_input": "2025-08-01T13:47:35.489661Z",
     "iopub.status.busy": "2025-08-01T13:47:35.489359Z",
     "iopub.status.idle": "2025-08-01T13:47:35.495947Z",
     "shell.execute_reply": "2025-08-01T13:47:35.494860Z"
    },
    "papermill": {
     "duration": 0.015476,
     "end_time": "2025-08-01T13:47:35.497411",
     "exception": false,
     "start_time": "2025-08-01T13:47:35.481935",
     "status": "completed"
    },
    "tags": []
   },
   "outputs": [],
   "source": [
    "sample_weight_dicts = {\n",
    "    \"type_sample_weight\": type_sample_weight,\n",
    "    \"gesture_sample_weight\": gesture_sample_weight\n",
    "}\n",
    "\n",
    "dict_path = os.path.join(output_path, \"sample_weight.json\")\n",
    "with open(dict_path, \"w\") as f:\n",
    "    json.dump(sample_weight_dicts, f, indent=2)"
   ]
  },
  {
   "cell_type": "code",
   "execution_count": null,
   "id": "3009c67f",
   "metadata": {
    "papermill": {
     "duration": 0.008326,
     "end_time": "2025-08-01T13:47:35.546562",
     "exception": false,
     "start_time": "2025-08-01T13:47:35.538236",
     "status": "completed"
    },
    "tags": []
   },
   "outputs": [],
   "source": []
  }
 ],
 "metadata": {
  "kaggle": {
   "accelerator": "none",
   "dataSources": [
    {
     "databundleVersionId": 12518947,
     "sourceId": 102335,
     "sourceType": "competition"
    },
    {
     "datasetId": 7856290,
     "sourceId": 12641611,
     "sourceType": "datasetVersion"
    }
   ],
   "dockerImageVersionId": 31089,
   "isGpuEnabled": false,
   "isInternetEnabled": true,
   "language": "python",
   "sourceType": "notebook"
  },
  "kernelspec": {
   "display_name": "Python 3",
   "language": "python",
   "name": "python3"
  },
  "language_info": {
   "codemirror_mode": {
    "name": "ipython",
    "version": 3
   },
   "file_extension": ".py",
   "mimetype": "text/x-python",
   "name": "python",
   "nbconvert_exporter": "python",
   "pygments_lexer": "ipython3",
   "version": "3.11.13"
  },
  "papermill": {
   "default_parameters": {},
   "duration": 137.225569,
   "end_time": "2025-08-01T13:47:39.044410",
   "environment_variables": {},
   "exception": null,
   "input_path": "__notebook__.ipynb",
   "output_path": "__notebook__.ipynb",
   "parameters": {},
   "start_time": "2025-08-01T13:45:21.818841",
   "version": "2.6.0"
  }
 },
 "nbformat": 4,
 "nbformat_minor": 5
}
