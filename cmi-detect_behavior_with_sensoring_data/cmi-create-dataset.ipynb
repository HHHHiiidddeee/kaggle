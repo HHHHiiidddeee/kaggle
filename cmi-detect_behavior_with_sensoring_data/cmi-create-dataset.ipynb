{
 "cells": [
  {
   "cell_type": "code",
   "execution_count": 1,
   "id": "a3761974",
   "metadata": {
    "execution": {
     "iopub.execute_input": "2025-08-01T14:16:31.160611Z",
     "iopub.status.busy": "2025-08-01T14:16:31.160269Z",
     "iopub.status.idle": "2025-08-01T14:16:50.062751Z",
     "shell.execute_reply": "2025-08-01T14:16:50.061476Z"
    },
    "papermill": {
     "duration": 18.910689,
     "end_time": "2025-08-01T14:16:50.064488",
     "exception": false,
     "start_time": "2025-08-01T14:16:31.153799",
     "status": "completed"
    },
    "tags": []
   },
   "outputs": [
    {
     "name": "stderr",
     "output_type": "stream",
     "text": [
      "2025-08-01 14:16:34.856252: E external/local_xla/xla/stream_executor/cuda/cuda_fft.cc:477] Unable to register cuFFT factory: Attempting to register factory for plugin cuFFT when one has already been registered\n",
      "WARNING: All log messages before absl::InitializeLog() is called are written to STDERR\n",
      "E0000 00:00:1754057795.075228      13 cuda_dnn.cc:8310] Unable to register cuDNN factory: Attempting to register factory for plugin cuDNN when one has already been registered\n",
      "E0000 00:00:1754057795.155202      13 cuda_blas.cc:1418] Unable to register cuBLAS factory: Attempting to register factory for plugin cuBLAS when one has already been registered\n"
     ]
    }
   ],
   "source": [
    "import numpy as np\n",
    "import pandas as pd\n",
    "import matplotlib.pyplot as plt\n",
    "import tensorflow as tf\n",
    "import warnings\n",
    "from itertools import product\n",
    "from sklearn.preprocessing import OneHotEncoder\n",
    "warnings.filterwarnings(\"ignore\")"
   ]
  },
  {
   "cell_type": "code",
   "execution_count": 2,
   "id": "dafdb21e",
   "metadata": {
    "execution": {
     "iopub.execute_input": "2025-08-01T14:16:50.075935Z",
     "iopub.status.busy": "2025-08-01T14:16:50.075308Z",
     "iopub.status.idle": "2025-08-01T14:18:03.777434Z",
     "shell.execute_reply": "2025-08-01T14:18:03.776669Z"
    },
    "papermill": {
     "duration": 73.709585,
     "end_time": "2025-08-01T14:18:03.779163",
     "exception": false,
     "start_time": "2025-08-01T14:16:50.069578",
     "status": "completed"
    },
    "tags": []
   },
   "outputs": [],
   "source": [
    "train_df = pd.read_csv(\"/kaggle/input/preprocessed-dataset/preprocessed_train.csv\")\n",
    "test_df = pd.read_csv(\"/kaggle/input/preprocessed-dataset/preprocessed_test.csv\")"
   ]
  },
  {
   "cell_type": "code",
   "execution_count": 3,
   "id": "fba0650f",
   "metadata": {
    "execution": {
     "iopub.execute_input": "2025-08-01T14:18:03.790115Z",
     "iopub.status.busy": "2025-08-01T14:18:03.789804Z",
     "iopub.status.idle": "2025-08-01T14:18:03.826900Z",
     "shell.execute_reply": "2025-08-01T14:18:03.825916Z"
    },
    "papermill": {
     "duration": 0.044345,
     "end_time": "2025-08-01T14:18:03.828695",
     "exception": false,
     "start_time": "2025-08-01T14:18:03.784350",
     "status": "completed"
    },
    "tags": []
   },
   "outputs": [
    {
     "data": {
      "text/plain": [
       "array(['Target', 'Non-Target'], dtype=object)"
      ]
     },
     "execution_count": 3,
     "metadata": {},
     "output_type": "execute_result"
    }
   ],
   "source": [
    "train_df[\"sequence_type\"].unique()"
   ]
  },
  {
   "cell_type": "code",
   "execution_count": 4,
   "id": "a5718aee",
   "metadata": {
    "execution": {
     "iopub.execute_input": "2025-08-01T14:18:03.840215Z",
     "iopub.status.busy": "2025-08-01T14:18:03.839370Z",
     "iopub.status.idle": "2025-08-01T14:18:03.881986Z",
     "shell.execute_reply": "2025-08-01T14:18:03.881210Z"
    },
    "papermill": {
     "duration": 0.050051,
     "end_time": "2025-08-01T14:18:03.883631",
     "exception": false,
     "start_time": "2025-08-01T14:18:03.833580",
     "status": "completed"
    },
    "tags": []
   },
   "outputs": [],
   "source": [
    "type_mapping = {\"Target\": 1, \"Non-Target\": 0}\n",
    "train_df[\"sequence_type\"] = train_df[\"sequence_type\"].map(type_mapping)"
   ]
  },
  {
   "cell_type": "code",
   "execution_count": 5,
   "id": "46025943",
   "metadata": {
    "execution": {
     "iopub.execute_input": "2025-08-01T14:18:03.894044Z",
     "iopub.status.busy": "2025-08-01T14:18:03.893736Z",
     "iopub.status.idle": "2025-08-01T14:18:04.993445Z",
     "shell.execute_reply": "2025-08-01T14:18:04.992702Z"
    },
    "papermill": {
     "duration": 1.106741,
     "end_time": "2025-08-01T14:18:04.995043",
     "exception": false,
     "start_time": "2025-08-01T14:18:03.888302",
     "status": "completed"
    },
    "tags": []
   },
   "outputs": [],
   "source": [
    "gestures = pd.get_dummies(train_df[\"gesture\"])\n",
    "train_df = pd.concat([train_df, gestures], axis=1)\n",
    "train_df = train_df.drop([\"gesture\"], axis=1)"
   ]
  },
  {
   "cell_type": "code",
   "execution_count": 6,
   "id": "7e8b34e6",
   "metadata": {
    "execution": {
     "iopub.execute_input": "2025-08-01T14:18:05.005551Z",
     "iopub.status.busy": "2025-08-01T14:18:05.005213Z",
     "iopub.status.idle": "2025-08-01T14:18:05.009843Z",
     "shell.execute_reply": "2025-08-01T14:18:05.008999Z"
    },
    "papermill": {
     "duration": 0.011593,
     "end_time": "2025-08-01T14:18:05.011369",
     "exception": false,
     "start_time": "2025-08-01T14:18:04.999776",
     "status": "completed"
    },
    "tags": []
   },
   "outputs": [],
   "source": [
    "gesture_mapping = {gesture: i for i, gesture in enumerate(gestures)}"
   ]
  },
  {
   "cell_type": "code",
   "execution_count": 7,
   "id": "2db816f2",
   "metadata": {
    "execution": {
     "iopub.execute_input": "2025-08-01T14:18:05.023425Z",
     "iopub.status.busy": "2025-08-01T14:18:05.023085Z",
     "iopub.status.idle": "2025-08-01T14:18:05.186393Z",
     "shell.execute_reply": "2025-08-01T14:18:05.185633Z"
    },
    "papermill": {
     "duration": 0.172023,
     "end_time": "2025-08-01T14:18:05.188159",
     "exception": false,
     "start_time": "2025-08-01T14:18:05.016136",
     "status": "completed"
    },
    "tags": []
   },
   "outputs": [],
   "source": [
    "from sklearn.model_selection import train_test_split\n",
    "tf.random.set_seed(42)\n",
    "acc_columns = [\"acc_r\", \"acc_theta\", \"acc_phi\"]\n",
    "rot_columns = [\"rot_omega\", \"rot_u_theta\", \"rot_u_phi\"]\n",
    "thm_columns = [\"thm_mean\"]\n",
    "\n",
    "i_list = range(1, 6)\n",
    "j_list = range(64)\n",
    "comb = list(product(i_list, j_list))\n",
    "tof_columns = [f\"tof_{i}_v{j}\" for i, j in comb]\n",
    "\n",
    "def create_dataset(df, max_length=100, batch_size=16, mode=\"train\", train_size=0.8):\n",
    "    seq_ids = df[\"sequence_id\"].values\n",
    "    seq_counters = df[\"sequence_counter\"].values\n",
    "    seq_starts = np.array(df[df[\"sequence_counter\"]==0].index)\n",
    "    seq_lengths = np.diff(np.concatenate([seq_starts, np.array([len(df)])]), n=1)\n",
    "    \n",
    "    images = df[tof_columns].to_numpy()   # (samples, 5*64)\n",
    "    images = images.reshape(-1, 64, 5)\n",
    "    images = images.reshape(-1, 8, 8, 5)\n",
    "    images = tf.convert_to_tensor(images, dtype=tf.float64)\n",
    "\n",
    "    others = df[acc_columns + rot_columns + thm_columns].to_numpy()\n",
    "    others = tf.convert_to_tensor(others, dtype=tf.float64)\n",
    "\n",
    "    feature_columns = ['adult_child', 'age', 'sex', 'height_cm', \n",
    "                       'shoulder_to_wrist_cm', 'elbow_to_wrist_cm']\n",
    "    features = df[feature_columns].to_numpy()\n",
    "    features = tf.convert_to_tensor(features, dtype=tf.float64)\n",
    "\n",
    "    if mode != \"test\":\n",
    "        sequence_types = df[[\"sequence_type\"]].values\n",
    "        gestures = df[gesture_mapping.keys()].values\n",
    "        targets = np.concatenate([sequence_types, gestures], axis=1)\n",
    "        targets = tf.convert_to_tensor(targets, dtype=tf.float64)\n",
    "        inputs = (images, others, features, targets)\n",
    "        inputs, targets = create_window(inputs, seq_starts, seq_lengths, \n",
    "                                        max_length, mode)\n",
    "        ids = np.arange(len(targets))\n",
    "        train_ids, valid_ids = train_test_split(ids, train_size=train_size, stratify=tf.argmax(targets[:, 1:], axis=-1), random_state=42)\n",
    "        inputs_train = (\n",
    "            tf.gather(inputs[0], train_ids),\n",
    "            tf.gather(inputs[1], train_ids),\n",
    "            tf.gather(inputs[2], train_ids)\n",
    "        )\n",
    "        inputs_valid = (\n",
    "            tf.gather(inputs[0], valid_ids),\n",
    "            tf.gather(inputs[1], valid_ids),\n",
    "            tf.gather(inputs[2], valid_ids)\n",
    "        )\n",
    "        targets_train, targets_valid = tf.gather(targets, train_ids), tf.gather(targets, valid_ids)\n",
    "        type_train_ds = tf.data.Dataset.from_tensor_slices((inputs_train, targets_train[:, :1]))\n",
    "        type_train_ds = type_train_ds.shuffle(len(inputs_train)).batch(batch_size)\n",
    "        gesture_train_ds = tf.data.Dataset.from_tensor_slices((inputs_train, targets_train[:, 1:]))\n",
    "        gesture_train_ds = gesture_train_ds.shuffle(len(inputs_train)).batch(batch_size)\n",
    "\n",
    "        type_valid_ds = tf.data.Dataset.from_tensor_slices((inputs_valid, targets_valid[:, :1]))\n",
    "        type_valid_ds = type_valid_ds.shuffle(len(inputs_valid)).batch(batch_size)\n",
    "        gesture_valid_ds = tf.data.Dataset.from_tensor_slices((inputs_valid, targets_valid[:, 1:]))\n",
    "        gesture_valid_ds = gesture_valid_ds.shuffle(len(inputs_valid)).batch(batch_size)\n",
    "        return type_train_ds, type_valid_ds, gesture_train_ds, gesture_valid_ds\n",
    "    else:\n",
    "        inputs = (images, others, features)\n",
    "        inputs = create_window(inputs, seq_starts, seq_lengths, \n",
    "                               max_length, mode)\n",
    "        test_ds = tf.data.Dataset.from_tensor_slices(inputs)\n",
    "        test_ds = test_ds.batch(batch_size)\n",
    "    return test_ds\n",
    "\n",
    "\n",
    "def create_window(inputs, seq_starts, seq_lengths, max_length=100, mode=\"train\"):\n",
    "    images = inputs[0]\n",
    "    others = inputs[1]\n",
    "    features = inputs[2]\n",
    "\n",
    "    image_windows = []\n",
    "    other_windows = []\n",
    "    feature_windows = []\n",
    "\n",
    "    if mode != \"test\":\n",
    "        targets = inputs[3]\n",
    "        target_windows = []\n",
    "    \n",
    "    for start, length in zip(seq_starts, seq_lengths):\n",
    "        if length < max_length:\n",
    "            image_window = images[start:start+length]\n",
    "            other_window = others[start:start+length]\n",
    "        else:\n",
    "            image_window = images[start:start+100]\n",
    "            other_window = others[start:start+100]\n",
    "        feature_window = features[start]\n",
    "        if mode != \"test\":\n",
    "            target_window = targets[start]\n",
    "        if length < max_length:\n",
    "            image_window = tf.pad(image_window, \n",
    "                                  tf.constant([[0, max_length-length],\n",
    "                                               [0, 0],\n",
    "                                               [0, 0],\n",
    "                                               [0, 0]]))\n",
    "            other_window = tf.pad(other_window, \n",
    "                                  tf.constant([[0, max_length-length],\n",
    "                                               [0, 0]]))\n",
    "        image_windows.append(image_window)\n",
    "        other_windows.append(other_window)\n",
    "        feature_windows.append(feature_window)\n",
    "        if mode != \"test\":\n",
    "            target_windows.append(target_window)\n",
    "\n",
    "    image_windows = tf.stack(image_windows)\n",
    "    other_windows = tf.stack(other_windows)\n",
    "    feature_windows = tf.stack(feature_windows)\n",
    "\n",
    "    if mode != \"test\":\n",
    "        target_windows = tf.stack(target_windows)\n",
    "        return (image_windows, other_windows, feature_windows), target_windows\n",
    "    else:\n",
    "        return (image_windows, other_windows, feature_windows)"
   ]
  },
  {
   "cell_type": "code",
   "execution_count": 8,
   "id": "e6f9fe60",
   "metadata": {
    "execution": {
     "iopub.execute_input": "2025-08-01T14:18:05.199081Z",
     "iopub.status.busy": "2025-08-01T14:18:05.198761Z",
     "iopub.status.idle": "2025-08-01T14:18:05.203978Z",
     "shell.execute_reply": "2025-08-01T14:18:05.203091Z"
    },
    "papermill": {
     "duration": 0.012261,
     "end_time": "2025-08-01T14:18:05.205348",
     "exception": false,
     "start_time": "2025-08-01T14:18:05.193087",
     "status": "completed"
    },
    "tags": []
   },
   "outputs": [],
   "source": [
    "def get_sequence_targets(df):\n",
    "    seq_ids = df[\"sequence_id\"].values\n",
    "    seq_starts = np.array(df[df[\"sequence_counter\"]==0].index)\n",
    "    sequence_targets = df.loc[seq_starts, \"sequence_type\"].values\n",
    "    return sequence_targets"
   ]
  },
  {
   "cell_type": "code",
   "execution_count": 9,
   "id": "b35c3bb3",
   "metadata": {
    "execution": {
     "iopub.execute_input": "2025-08-01T14:18:05.216043Z",
     "iopub.status.busy": "2025-08-01T14:18:05.215611Z",
     "iopub.status.idle": "2025-08-01T14:18:05.220440Z",
     "shell.execute_reply": "2025-08-01T14:18:05.219704Z"
    },
    "papermill": {
     "duration": 0.011705,
     "end_time": "2025-08-01T14:18:05.221728",
     "exception": false,
     "start_time": "2025-08-01T14:18:05.210023",
     "status": "completed"
    },
    "tags": []
   },
   "outputs": [],
   "source": [
    "gesture_columns = gestures.columns\n",
    "def get_sequence_gestures(df):\n",
    "    seq_ids = df[\"sequence_id\"].values\n",
    "    seq_starts = np.array(df[df[\"sequence_counter\"]==0].index)\n",
    "    sequence_gestures = df.loc[seq_starts, gesture_columns]\n",
    "    return sequence_gestures"
   ]
  },
  {
   "cell_type": "code",
   "execution_count": 10,
   "id": "56c28cba",
   "metadata": {
    "execution": {
     "iopub.execute_input": "2025-08-01T14:18:05.232472Z",
     "iopub.status.busy": "2025-08-01T14:18:05.231916Z",
     "iopub.status.idle": "2025-08-01T14:18:27.331786Z",
     "shell.execute_reply": "2025-08-01T14:18:27.329792Z"
    },
    "papermill": {
     "duration": 22.109846,
     "end_time": "2025-08-01T14:18:27.336183",
     "exception": false,
     "start_time": "2025-08-01T14:18:05.226337",
     "status": "completed"
    },
    "tags": []
   },
   "outputs": [
    {
     "name": "stderr",
     "output_type": "stream",
     "text": [
      "2025-08-01 14:18:06.363602: E external/local_xla/xla/stream_executor/cuda/cuda_driver.cc:152] failed call to cuInit: INTERNAL: CUDA error: Failed call to cuInit: UNKNOWN ERROR (303)\n"
     ]
    }
   ],
   "source": [
    "type_train_ds, type_valid_ds, gesture_train_ds, gesture_valid_ds = create_dataset(train_df, batch_size=32)"
   ]
  },
  {
   "cell_type": "code",
   "execution_count": 11,
   "id": "c0ef4f4b",
   "metadata": {
    "execution": {
     "iopub.execute_input": "2025-08-01T14:18:27.352797Z",
     "iopub.status.busy": "2025-08-01T14:18:27.352281Z",
     "iopub.status.idle": "2025-08-01T14:18:27.460395Z",
     "shell.execute_reply": "2025-08-01T14:18:27.459452Z"
    },
    "papermill": {
     "duration": 0.118794,
     "end_time": "2025-08-01T14:18:27.463297",
     "exception": false,
     "start_time": "2025-08-01T14:18:27.344503",
     "status": "completed"
    },
    "tags": []
   },
   "outputs": [
    {
     "name": "stdout",
     "output_type": "stream",
     "text": [
      "2828\n",
      "4767\n"
     ]
    }
   ],
   "source": [
    "sequence_targets = get_sequence_targets(train_df)\n",
    "print(len(sequence_targets[sequence_targets == 0]))\n",
    "print(len(sequence_targets[sequence_targets == 1]))"
   ]
  },
  {
   "cell_type": "code",
   "execution_count": 12,
   "id": "a8b464cf",
   "metadata": {
    "execution": {
     "iopub.execute_input": "2025-08-01T14:18:27.488500Z",
     "iopub.status.busy": "2025-08-01T14:18:27.488178Z",
     "iopub.status.idle": "2025-08-01T14:18:27.493726Z",
     "shell.execute_reply": "2025-08-01T14:18:27.492828Z"
    },
    "papermill": {
     "duration": 0.020142,
     "end_time": "2025-08-01T14:18:27.495757",
     "exception": false,
     "start_time": "2025-08-01T14:18:27.475615",
     "status": "completed"
    },
    "tags": []
   },
   "outputs": [],
   "source": [
    "len_target = len(sequence_targets[sequence_targets == 1])\n",
    "len_non_target = len(sequence_targets[sequence_targets == 0])\n",
    "type_sample_weight = (len_target/len_non_target, len_target/len_target)"
   ]
  },
  {
   "cell_type": "code",
   "execution_count": 13,
   "id": "bc80a98b",
   "metadata": {
    "execution": {
     "iopub.execute_input": "2025-08-01T14:18:27.520698Z",
     "iopub.status.busy": "2025-08-01T14:18:27.520311Z",
     "iopub.status.idle": "2025-08-01T14:18:27.526684Z",
     "shell.execute_reply": "2025-08-01T14:18:27.525772Z"
    },
    "papermill": {
     "duration": 0.02092,
     "end_time": "2025-08-01T14:18:27.528803",
     "exception": false,
     "start_time": "2025-08-01T14:18:27.507883",
     "status": "completed"
    },
    "tags": []
   },
   "outputs": [
    {
     "data": {
      "text/plain": [
       "(1.6856435643564356, 1.0)"
      ]
     },
     "execution_count": 13,
     "metadata": {},
     "output_type": "execute_result"
    }
   ],
   "source": [
    "type_sample_weight"
   ]
  },
  {
   "cell_type": "code",
   "execution_count": 14,
   "id": "539ceb27",
   "metadata": {
    "execution": {
     "iopub.execute_input": "2025-08-01T14:18:27.554221Z",
     "iopub.status.busy": "2025-08-01T14:18:27.553876Z",
     "iopub.status.idle": "2025-08-01T14:18:27.561349Z",
     "shell.execute_reply": "2025-08-01T14:18:27.560221Z"
    },
    "papermill": {
     "duration": 0.021949,
     "end_time": "2025-08-01T14:18:27.562994",
     "exception": false,
     "start_time": "2025-08-01T14:18:27.541045",
     "status": "completed"
    },
    "tags": []
   },
   "outputs": [
    {
     "data": {
      "text/plain": [
       "Index(['Above ear - pull hair', 'Cheek - pinch skin', 'Drink from bottle/cup',\n",
       "       'Eyebrow - pull hair', 'Eyelash - pull hair',\n",
       "       'Feel around in tray and pull out an object',\n",
       "       'Forehead - pull hairline', 'Forehead - scratch', 'Glasses on/off',\n",
       "       'Neck - pinch skin', 'Neck - scratch', 'Pinch knee/leg skin',\n",
       "       'Pull air toward your face', 'Scratch knee/leg skin', 'Text on phone',\n",
       "       'Wave hello', 'Write name in air', 'Write name on leg'],\n",
       "      dtype='object')"
      ]
     },
     "execution_count": 14,
     "metadata": {},
     "output_type": "execute_result"
    }
   ],
   "source": [
    "gestures.columns"
   ]
  },
  {
   "cell_type": "code",
   "execution_count": 15,
   "id": "7600ca2a",
   "metadata": {
    "execution": {
     "iopub.execute_input": "2025-08-01T14:18:27.574618Z",
     "iopub.status.busy": "2025-08-01T14:18:27.574257Z",
     "iopub.status.idle": "2025-08-01T14:18:27.627558Z",
     "shell.execute_reply": "2025-08-01T14:18:27.626482Z"
    },
    "papermill": {
     "duration": 0.061068,
     "end_time": "2025-08-01T14:18:27.629155",
     "exception": false,
     "start_time": "2025-08-01T14:18:27.568087",
     "status": "completed"
    },
    "tags": []
   },
   "outputs": [],
   "source": [
    "non_target_gestures = [\"Drink from bottle/cup\", \"Glasses on/off\", \"Pull air toward your face\",\n",
    "                       \"Pinch knee/leg skin\", \"Scratch knee/leg skin\", \"Write name on leg\",\n",
    "                       \"Text on phone\", \"Feel around in tray and pull out an object\",\n",
    "                       \"Write name in air\", \"Wave hello\"]\n",
    "sequence_gestures = get_sequence_gestures(train_df)\n",
    "all_count = sequence_gestures.sum()\n",
    "non_target_count = all_count[non_target_gestures]\n",
    "non_target_sum = non_target_count.sum()\n",
    "all_count[non_target_gestures] = non_target_sum\n",
    "all_count = non_target_sum / all_count\n",
    "gesture_sample_weight = tuple(all_count.values)"
   ]
  },
  {
   "cell_type": "code",
   "execution_count": 16,
   "id": "86925052",
   "metadata": {
    "execution": {
     "iopub.execute_input": "2025-08-01T14:18:27.640573Z",
     "iopub.status.busy": "2025-08-01T14:18:27.640227Z",
     "iopub.status.idle": "2025-08-01T14:18:27.646561Z",
     "shell.execute_reply": "2025-08-01T14:18:27.645580Z"
    },
    "papermill": {
     "duration": 0.014205,
     "end_time": "2025-08-01T14:18:27.648617",
     "exception": false,
     "start_time": "2025-08-01T14:18:27.634412",
     "status": "completed"
    },
    "tags": []
   },
   "outputs": [
    {
     "data": {
      "text/plain": [
       "(4.768971332209106,\n",
       " 4.74496644295302,\n",
       " 1.0,\n",
       " 4.7851099830795265,\n",
       " 4.768971332209106,\n",
       " 1.0,\n",
       " 4.7370184254606365,\n",
       " 4.7370184254606365,\n",
       " 1.0,\n",
       " 4.705490848585691,\n",
       " 4.721202003338898,\n",
       " 1.0,\n",
       " 1.0,\n",
       " 1.0,\n",
       " 1.0,\n",
       " 1.0,\n",
       " 1.0,\n",
       " 1.0)"
      ]
     },
     "execution_count": 16,
     "metadata": {},
     "output_type": "execute_result"
    }
   ],
   "source": [
    "gesture_sample_weight"
   ]
  },
  {
   "cell_type": "code",
   "execution_count": 17,
   "id": "1f8071f9",
   "metadata": {
    "execution": {
     "iopub.execute_input": "2025-08-01T14:18:27.674338Z",
     "iopub.status.busy": "2025-08-01T14:18:27.674008Z",
     "iopub.status.idle": "2025-08-01T14:18:27.682974Z",
     "shell.execute_reply": "2025-08-01T14:18:27.682007Z"
    },
    "papermill": {
     "duration": 0.02413,
     "end_time": "2025-08-01T14:18:27.685002",
     "exception": false,
     "start_time": "2025-08-01T14:18:27.660872",
     "status": "completed"
    },
    "tags": []
   },
   "outputs": [
    {
     "name": "stdout",
     "output_type": "stream",
     "text": [
      "190\n",
      "48\n",
      "190\n",
      "48\n"
     ]
    }
   ],
   "source": [
    "print(len(type_train_ds))\n",
    "print(len(type_valid_ds))\n",
    "print(len(gesture_train_ds))\n",
    "print(len(gesture_valid_ds))"
   ]
  },
  {
   "cell_type": "code",
   "execution_count": 18,
   "id": "3c1b2dde",
   "metadata": {
    "execution": {
     "iopub.execute_input": "2025-08-01T14:18:27.711225Z",
     "iopub.status.busy": "2025-08-01T14:18:27.710891Z",
     "iopub.status.idle": "2025-08-01T14:18:34.914357Z",
     "shell.execute_reply": "2025-08-01T14:18:34.908038Z"
    },
    "papermill": {
     "duration": 7.227879,
     "end_time": "2025-08-01T14:18:34.925310",
     "exception": false,
     "start_time": "2025-08-01T14:18:27.697431",
     "status": "completed"
    },
    "tags": []
   },
   "outputs": [
    {
     "name": "stdout",
     "output_type": "stream",
     "text": [
      "(32, 100, 8, 8, 5)\n",
      "(32, 100, 7)\n",
      "(32, 6)\n",
      "(32, 1)\n"
     ]
    }
   ],
   "source": [
    "# Check dataset shape\n",
    "for i, (inputs, targets) in enumerate(type_train_ds):\n",
    "    if i == 0:\n",
    "        print(inputs[0].shape)        # Image (TOF)\n",
    "        print(inputs[1].shape)        # Other time-series\n",
    "        print(inputs[2].shape)        # Feature\n",
    "        print(targets.shape)          # Target or Non-Target\n",
    "        break"
   ]
  },
  {
   "cell_type": "code",
   "execution_count": 19,
   "id": "a8c92a47",
   "metadata": {
    "execution": {
     "iopub.execute_input": "2025-08-01T14:18:34.969707Z",
     "iopub.status.busy": "2025-08-01T14:18:34.968685Z",
     "iopub.status.idle": "2025-08-01T14:18:38.150160Z",
     "shell.execute_reply": "2025-08-01T14:18:38.148817Z"
    },
    "papermill": {
     "duration": 3.205805,
     "end_time": "2025-08-01T14:18:38.151948",
     "exception": false,
     "start_time": "2025-08-01T14:18:34.946143",
     "status": "completed"
    },
    "tags": []
   },
   "outputs": [
    {
     "name": "stdout",
     "output_type": "stream",
     "text": [
      "(32, 100, 8, 8, 5)\n",
      "(32, 100, 7)\n",
      "(32, 6)\n",
      "(32, 18)\n"
     ]
    }
   ],
   "source": [
    "for i, (inputs, targets) in enumerate(gesture_train_ds):\n",
    "    if i == 0:\n",
    "        print(inputs[0].shape)        # Image (TOF)\n",
    "        print(inputs[1].shape)        # Other time-series\n",
    "        print(inputs[2].shape)        # Feature\n",
    "        print(targets.shape)          # Gesture\n",
    "        break"
   ]
  },
  {
   "cell_type": "code",
   "execution_count": 20,
   "id": "4507078a",
   "metadata": {
    "execution": {
     "iopub.execute_input": "2025-08-01T14:18:38.164156Z",
     "iopub.status.busy": "2025-08-01T14:18:38.163835Z",
     "iopub.status.idle": "2025-08-01T14:18:38.185989Z",
     "shell.execute_reply": "2025-08-01T14:18:38.185267Z"
    },
    "papermill": {
     "duration": 0.029978,
     "end_time": "2025-08-01T14:18:38.187622",
     "exception": false,
     "start_time": "2025-08-01T14:18:38.157644",
     "status": "completed"
    },
    "tags": []
   },
   "outputs": [],
   "source": [
    "test_ds = create_dataset(test_df, batch_size=32, mode=\"test\")"
   ]
  },
  {
   "cell_type": "code",
   "execution_count": 21,
   "id": "ffbd75dd",
   "metadata": {
    "execution": {
     "iopub.execute_input": "2025-08-01T14:18:38.199668Z",
     "iopub.status.busy": "2025-08-01T14:18:38.198855Z",
     "iopub.status.idle": "2025-08-01T14:18:38.215362Z",
     "shell.execute_reply": "2025-08-01T14:18:38.214432Z"
    },
    "papermill": {
     "duration": 0.024106,
     "end_time": "2025-08-01T14:18:38.216933",
     "exception": false,
     "start_time": "2025-08-01T14:18:38.192827",
     "status": "completed"
    },
    "tags": []
   },
   "outputs": [
    {
     "name": "stdout",
     "output_type": "stream",
     "text": [
      "(2, 100, 8, 8, 5)\n",
      "(2, 100, 7)\n",
      "(2, 6)\n"
     ]
    }
   ],
   "source": [
    "# Check dataset shape\n",
    "for inputs in test_ds:\n",
    "    print(inputs[0].shape)        # Image (TOF)\n",
    "    print(inputs[1].shape)        # Other time-series\n",
    "    print(inputs[2].shape)        # Feature"
   ]
  },
  {
   "cell_type": "code",
   "execution_count": 22,
   "id": "a509282c",
   "metadata": {
    "execution": {
     "iopub.execute_input": "2025-08-01T14:18:38.228821Z",
     "iopub.status.busy": "2025-08-01T14:18:38.228467Z",
     "iopub.status.idle": "2025-08-01T14:18:55.299781Z",
     "shell.execute_reply": "2025-08-01T14:18:55.298510Z"
    },
    "papermill": {
     "duration": 17.079775,
     "end_time": "2025-08-01T14:18:55.302257",
     "exception": false,
     "start_time": "2025-08-01T14:18:38.222482",
     "status": "completed"
    },
    "tags": []
   },
   "outputs": [],
   "source": [
    "import os\n",
    "output_path = \"/kaggle/working/\"\n",
    "type_train_path = os.path.join(output_path, \"type_train_ds\")\n",
    "type_valid_path = os.path.join(output_path, \"type_valid_ds\")\n",
    "gesture_train_path = os.path.join(output_path, \"gesture_train_ds\")\n",
    "gesture_valid_path = os.path.join(output_path, \"gesture_valid_ds\")\n",
    "test_path = os.path.join(output_path, \"test_ds\")\n",
    "\n",
    "tf.data.experimental.save(type_train_ds, type_train_path)\n",
    "tf.data.experimental.save(type_valid_ds, type_valid_path)\n",
    "tf.data.experimental.save(gesture_train_ds, gesture_train_path)\n",
    "tf.data.experimental.save(gesture_valid_ds, gesture_valid_path)\n",
    "tf.data.experimental.save(test_ds, test_path)"
   ]
  },
  {
   "cell_type": "code",
   "execution_count": 23,
   "id": "163a8caf",
   "metadata": {
    "execution": {
     "iopub.execute_input": "2025-08-01T14:18:55.384826Z",
     "iopub.status.busy": "2025-08-01T14:18:55.384302Z",
     "iopub.status.idle": "2025-08-01T14:18:55.392985Z",
     "shell.execute_reply": "2025-08-01T14:18:55.391959Z"
    },
    "papermill": {
     "duration": 0.029701,
     "end_time": "2025-08-01T14:18:55.397885",
     "exception": false,
     "start_time": "2025-08-01T14:18:55.368184",
     "status": "completed"
    },
    "tags": []
   },
   "outputs": [],
   "source": [
    "import json\n",
    "\n",
    "mapping_dicts = {\n",
    "    \"type_mapping\":type_mapping, \n",
    "    \"gesture_mapping\": gesture_mapping\n",
    "}\n",
    "\n",
    "dict_path = os.path.join(output_path, \"mapping.json\")\n",
    "with open(dict_path, \"w\") as f:\n",
    "    json.dump(mapping_dicts, f, indent=2)"
   ]
  },
  {
   "cell_type": "code",
   "execution_count": 24,
   "id": "12fda0c9",
   "metadata": {
    "execution": {
     "iopub.execute_input": "2025-08-01T14:18:55.459690Z",
     "iopub.status.busy": "2025-08-01T14:18:55.459327Z",
     "iopub.status.idle": "2025-08-01T14:18:55.466920Z",
     "shell.execute_reply": "2025-08-01T14:18:55.464332Z"
    },
    "papermill": {
     "duration": 0.016886,
     "end_time": "2025-08-01T14:18:55.469544",
     "exception": false,
     "start_time": "2025-08-01T14:18:55.452658",
     "status": "completed"
    },
    "tags": []
   },
   "outputs": [],
   "source": [
    "sample_weight_dicts = {\n",
    "    \"type_sample_weight\": type_sample_weight,\n",
    "    \"gesture_sample_weight\": gesture_sample_weight\n",
    "}\n",
    "\n",
    "dict_path = os.path.join(output_path, \"sample_weight.json\")\n",
    "with open(dict_path, \"w\") as f:\n",
    "    json.dump(sample_weight_dicts, f, indent=2)"
   ]
  },
  {
   "cell_type": "code",
   "execution_count": null,
   "id": "80a0b80a",
   "metadata": {
    "papermill": {
     "duration": 0.081492,
     "end_time": "2025-08-01T14:18:55.622169",
     "exception": false,
     "start_time": "2025-08-01T14:18:55.540677",
     "status": "completed"
    },
    "tags": []
   },
   "outputs": [],
   "source": []
  }
 ],
 "metadata": {
  "kaggle": {
   "accelerator": "none",
   "dataSources": [
    {
     "databundleVersionId": 12518947,
     "sourceId": 102335,
     "sourceType": "competition"
    },
    {
     "datasetId": 7856290,
     "sourceId": 12641873,
     "sourceType": "datasetVersion"
    }
   ],
   "dockerImageVersionId": 31089,
   "isGpuEnabled": false,
   "isInternetEnabled": true,
   "language": "python",
   "sourceType": "notebook"
  },
  "kernelspec": {
   "display_name": "Python 3",
   "language": "python",
   "name": "python3"
  },
  "language_info": {
   "codemirror_mode": {
    "name": "ipython",
    "version": 3
   },
   "file_extension": ".py",
   "mimetype": "text/x-python",
   "name": "python",
   "nbconvert_exporter": "python",
   "pygments_lexer": "ipython3",
   "version": "3.11.13"
  },
  "papermill": {
   "default_parameters": {},
   "duration": 153.227667,
   "end_time": "2025-08-01T14:18:59.702463",
   "environment_variables": {},
   "exception": null,
   "input_path": "__notebook__.ipynb",
   "output_path": "__notebook__.ipynb",
   "parameters": {},
   "start_time": "2025-08-01T14:16:26.474796",
   "version": "2.6.0"
  }
 },
 "nbformat": 4,
 "nbformat_minor": 5
}
